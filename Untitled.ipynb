{
 "cells": [
  {
   "cell_type": "code",
   "execution_count": 1,
   "id": "7995c70c",
   "metadata": {},
   "outputs": [
    {
     "name": "stderr",
     "output_type": "stream",
     "text": [
      "2021-07-28 10:30:37.080985: I tensorflow/stream_executor/platform/default/dso_loader.cc:53] Successfully opened dynamic library libcudart.so.11.0\n",
      "INFO:root:Dataset reader set with following categories: [msd], lemma_char, lemma\n",
      "/home/thibault/dev/est-lascivuum-non-est/env/lib/python3.8/site-packages/allennlp/data/token_indexers/token_characters_indexer.py:55: UserWarning: You are using the default value (0) of `min_padding_length`, which can cause some subtle bugs (more info see https://github.com/allenai/allennlp/issues/1954). Strongly recommend to set a value, usually the maximum size of the convolutional layer size when using CnnEncoder.\n",
      "  warnings.warn(\n",
      "INFO:root:Indexer set for following categories: [msd], lemma_char, lemma\n",
      "INFO:root:TSV READER uses following metadata encoding MetadataEncoding.AS_CATEGORICAL \n",
      "INFO:root:Reading data\n",
      "WARNING:allennlp.data.fields.multilabel_field:Your label namespace was '[msd]'. We recommend you use a namespace ending with 'labels' or 'tags', so we don't add UNK and PAD tokens by default to your vocabulary.  See documentation for `non_padded_namespaces` parameter in Vocabulary.\n",
      "INFO:root:Building the vocabulary\n",
      "INFO:allennlp.data.vocabulary:Fitting token dictionary from dataset.\n"
     ]
    },
    {
     "data": {
      "application/vnd.jupyter.widget-view+json": {
       "model_id": "fa48f63d706d4bcaa940d25df5d69a16",
       "version_major": 2,
       "version_minor": 0
      },
      "text/plain": [
       "building vocab:   0%|          | 0/5427 [00:00<?, ?it/s]"
      ]
     },
     "metadata": {},
     "output_type": "display_data"
    },
    {
     "name": "stderr",
     "output_type": "stream",
     "text": [
      "INFO:allennlp.modules.token_embedders.embedding:Reading pretrained embeddings from file\n",
      "WARNING:allennlp.modules.token_embedders.embedding:The embeddings file has an unknown file extension \".header\". We will assume the file is an (uncompressed) text file\n",
      "INFO:allennlp.modules.token_embedders.embedding:Recognized a header line in the embedding file with number of tokens: 155131\n"
     ]
    },
    {
     "data": {
      "application/vnd.jupyter.widget-view+json": {
       "model_id": "1ccbaea5f1dd4eba871a7a055f38e859",
       "version_major": 2,
       "version_minor": 0
      },
      "text/plain": [
       "  0%|          | 0/155131 [00:00<?, ?it/s]"
      ]
     },
     "metadata": {},
     "output_type": "display_data"
    },
    {
     "name": "stderr",
     "output_type": "stream",
     "text": [
      "INFO:allennlp.modules.token_embedders.embedding:Initializing pre-trained embedding layer\n",
      "INFO:allennlp.modules.token_embedders.embedding:Pretrained embeddings were found for 155131 out of 155381 tokens\n",
      "/home/thibault/dev/est-lascivuum-non-est/env/lib/python3.8/site-packages/torch/nn/modules/rnn.py:60: UserWarning: dropout option adds dropout after all but last recurrent layer, so non-zero dropout expects num_layers greater than 1, but got dropout=0.3 and num_layers=1\n",
      "  warnings.warn(\"dropout option adds dropout after all but last \"\n",
      "INFO:root:Classifier is using MetadataEnrichedLinear\n",
      "INFO:allennlp.training.optimizers:Number of trainable parameters: 1130802\n",
      "INFO:root:Current Optimizer: AdamWOptimizer (\n",
      "Parameter Group 0\n",
      "    amsgrad: False\n",
      "    betas: (0.9, 0.999)\n",
      "    eps: 1e-08\n",
      "    lr: 0.0005\n",
      "    weight_decay: 0.01\n",
      ") \n",
      "INFO:root:Num epochs: 20\n",
      "INFO:root:Starting training\n",
      "INFO:allennlp.training.gradient_descent_trainer:Beginning training.\n",
      "INFO:allennlp.training.gradient_descent_trainer:Epoch 0/19\n",
      "INFO:allennlp.training.gradient_descent_trainer:Worker 0 memory usage: 2.9G\n",
      "INFO:allennlp.training.gradient_descent_trainer:GPU 0 memory usage: 125M\n",
      "INFO:allennlp.training.gradient_descent_trainer:Training\n"
     ]
    },
    {
     "name": "stdout",
     "output_type": "stream",
     "text": [
      "---> Epochs:   20\n",
      "---> Patience: 10\n"
     ]
    },
    {
     "data": {
      "application/vnd.jupyter.widget-view+json": {
       "model_id": "f422594eb5c147d0a27a91b2a441478f",
       "version_major": 2,
       "version_minor": 0
      },
      "text/plain": [
       "  0%|          | 0/1357 [00:00<?, ?it/s]"
      ]
     },
     "metadata": {},
     "output_type": "display_data"
    },
    {
     "name": "stderr",
     "output_type": "stream",
     "text": [
      "/home/thibault/dev/est-lascivuum-non-est/seligator/models/classifier.py:64: UserWarning: Implicit dimension choice for softmax has been deprecated. Change the call to include dim=X as an argument.\n",
      "  probs = F.softmax(logits)\n",
      "INFO:allennlp.training.callbacks.console_logger:Batch inputs\n",
      "INFO:allennlp.training.callbacks.console_logger:batch_input/[msd] (Shape: 4 x 55 x 52)\n",
      "tensor([[[0, 0, 1,  ..., 0, 0, 0],\n",
      "         [0, 0, 1,  ..., 0, 0, 0],\n",
      "         [0, 0, 1,  ..., 0, 0, 0],\n",
      "         ...,\n",
      "         [0, 0, 0,  ..., 0, 0, 0],\n",
      "         [0, 0, 0,  ..., 0, 0, 0],\n",
      "         [0, 0, 0,  ..., 0, 0, 0]],\n",
      "\n",
      "        [[0, 0, 1,  ..., 0, 0, 0],\n",
      "         [0, 0, 1,  ..., 0, 0, 0],\n",
      "         [0, 0, 1,  ..., 0, 0, 0],\n",
      "         ...,\n",
      "         [0, 0, 0,  ..., 0, 0, 0],\n",
      "         [0, 0, 0,  ..., 0, 0, 0],\n",
      "         [0, 0, 0,  ..., 0, 0, 0]],\n",
      "\n",
      "        [[0, 0, 1,  ..., 0, 0, 0],\n",
      "         [0, 0, 1,  ..., 0, 0, 0],\n",
      "         [0, 0, 1,  ..., 0, 0, 0],\n",
      "         ...,\n",
      "         [0, 0, 0,  ..., 0, 0, 0],\n",
      "         [0, 0, 0,  ..., 0, 0, 0],\n",
      "         [0, 0, 0,  ..., 0, 0, 0]],\n",
      "\n",
      "        [[0, 0, 1,  ..., 0, 0, 0],\n",
      "         [0, 0, 1,  ..., 0, 0, 0],\n",
      "         [0, 0, 1,  ..., 0, 0, 0],\n",
      "         ...,\n",
      "         [0, 0, 1,  ..., 0, 0, 0],\n",
      "         [0, 0, 1,  ..., 0, 0, 0],\n",
      "         [0, 0, 1,  ..., 0, 0, 0]]], device='cuda:0')\n",
      "INFO:allennlp.training.callbacks.console_logger:batch_input/lemma_char/lemma_char/token_characters (Shape: 4 x 55 x 12)\n",
      "tensor([[[34,  4, 11,  ...,  0,  0,  0],\n",
      "         [48,  4, 20,  ...,  0,  0,  0],\n",
      "         [18,  0,  0,  ...,  0,  0,  0],\n",
      "         ...,\n",
      "         [ 0,  0,  0,  ...,  0,  0,  0],\n",
      "         [ 0,  0,  0,  ...,  0,  0,  0],\n",
      "         [ 0,  0,  0,  ...,  0,  0,  0]],\n",
      "\n",
      "        [[12,  2, 11,  ...,  0,  0,  0],\n",
      "         [13,  6, 12,  ...,  0,  0,  0],\n",
      "         [10,  4, 14,  ...,  0,  0,  0],\n",
      "         ...,\n",
      "         [ 0,  0,  0,  ...,  0,  0,  0],\n",
      "         [ 0,  0,  0,  ...,  0,  0,  0],\n",
      "         [ 0,  0,  0,  ...,  0,  0,  0]],\n",
      "\n",
      "        [[36,  2,  2,  ...,  0,  0,  0],\n",
      "         [12,  6, 11,  ...,  0,  0,  0],\n",
      "         [15,  3, 12,  ...,  0,  0,  0],\n",
      "         ...,\n",
      "         [ 0,  0,  0,  ...,  0,  0,  0],\n",
      "         [ 0,  0,  0,  ...,  0,  0,  0],\n",
      "         [ 0,  0,  0,  ...,  0,  0,  0]],\n",
      "\n",
      "        [[ 5,  3,  0,  ...,  0,  0,  0],\n",
      "         [ 2,  4,  0,  ...,  0,  0,  0],\n",
      "         [ 4,  9,  3,  ...,  0,  0,  0],\n",
      "         ...,\n",
      "         [ 2,  8,  4,  ...,  0,  0,  0],\n",
      "         [15,  3,  5,  ...,  0,  0,  0],\n",
      "         [29,  0,  0,  ...,  0,  0,  0]]], device='cuda:0')\n",
      "INFO:allennlp.training.callbacks.console_logger:batch_input/lemma/lemma/tokens (Shape: 4 x 55)\n",
      "tensor([[4033, 8036,    2,  ...,    0,    0,    0],\n",
      "        [  21,   86,  465,  ...,    0,    0,    0],\n",
      "        [8570, 8571,   22,  ...,    0,    0,    0],\n",
      "        [1961,  395,   40,  ...,  207, 3130,   14]], device='cuda:0')\n",
      "INFO:allennlp.training.callbacks.console_logger:batch_input/label (Shape: 4)\n",
      "tensor([0, 1, 0, 0], device='cuda:0')\n",
      "INFO:allennlp.training.callbacks.console_logger:Field : \"batch_input/metadata\" : (Length 4 of type \"<class 'dict'>\")\n",
      "INFO:allennlp.training.callbacks.console_logger:batch_input/metadata_categoricals_Century (Shape: 4)\n",
      "tensor([1, 1, 2, 0], device='cuda:0')\n",
      "INFO:allennlp.training.callbacks.console_logger:batch_input/metadata_categoricals_Textgroup (Shape: 4)\n",
      "tensor([90,  7, 45, 28], device='cuda:0')\n",
      "INFO:allennlp.training.callbacks.console_logger:batch_input/metadata_categoricals_WrittenType (Shape: 4)\n",
      "tensor([0, 1, 0, 0], device='cuda:0')\n",
      "INFO:allennlp.training.callbacks.console_logger:batch_input/metadata_categoricals_CitationTypes (Shape: 4)\n",
      "tensor([ 7, 10,  4, 20], device='cuda:0')\n",
      "INFO:allennlp.training.gradient_descent_trainer:Validating\n"
     ]
    },
    {
     "data": {
      "application/vnd.jupyter.widget-view+json": {
       "model_id": "0fa2f208cbd944dd8680b4bdd74a5b73",
       "version_major": 2,
       "version_minor": 0
      },
      "text/plain": [
       "  0%|          | 0/170 [00:00<?, ?it/s]"
      ]
     },
     "metadata": {},
     "output_type": "display_data"
    },
    {
     "name": "stderr",
     "output_type": "stream",
     "text": [
      "INFO:allennlp.training.callbacks.console_logger:Batch inputs\n",
      "INFO:allennlp.training.callbacks.console_logger:batch_input/[msd] (Shape: 4 x 35 x 52)\n",
      "tensor([[[0, 0, 1,  ..., 0, 0, 0],\n",
      "         [0, 0, 1,  ..., 0, 0, 0],\n",
      "         [0, 0, 1,  ..., 0, 0, 0],\n",
      "         ...,\n",
      "         [0, 0, 0,  ..., 0, 0, 0],\n",
      "         [0, 0, 0,  ..., 0, 0, 0],\n",
      "         [0, 0, 0,  ..., 0, 0, 0]],\n",
      "\n",
      "        [[0, 0, 1,  ..., 0, 0, 0],\n",
      "         [0, 0, 1,  ..., 0, 0, 0],\n",
      "         [0, 0, 1,  ..., 0, 0, 0],\n",
      "         ...,\n",
      "         [0, 0, 0,  ..., 0, 0, 0],\n",
      "         [0, 0, 0,  ..., 0, 0, 0],\n",
      "         [0, 0, 0,  ..., 0, 0, 0]],\n",
      "\n",
      "        [[0, 0, 1,  ..., 0, 0, 0],\n",
      "         [0, 0, 1,  ..., 0, 0, 0],\n",
      "         [0, 0, 0,  ..., 0, 0, 0],\n",
      "         ...,\n",
      "         [0, 0, 1,  ..., 0, 0, 0],\n",
      "         [0, 0, 1,  ..., 0, 0, 0],\n",
      "         [0, 0, 1,  ..., 0, 0, 0]],\n",
      "\n",
      "        [[0, 0, 1,  ..., 0, 0, 0],\n",
      "         [0, 0, 1,  ..., 0, 0, 0],\n",
      "         [0, 0, 1,  ..., 0, 0, 0],\n",
      "         ...,\n",
      "         [0, 0, 0,  ..., 0, 0, 0],\n",
      "         [0, 0, 0,  ..., 0, 0, 0],\n",
      "         [0, 0, 0,  ..., 0, 0, 0]]], device='cuda:0')\n",
      "INFO:allennlp.training.callbacks.console_logger:batch_input/lemma_char/lemma_char/token_characters (Shape: 4 x 35 x 12)\n",
      "tensor([[[19,  2,  3,  ...,  0,  0,  0],\n",
      "         [ 4, 10, 20,  ...,  0,  0,  0],\n",
      "         [18,  0,  0,  ...,  0,  0,  0],\n",
      "         ...,\n",
      "         [ 0,  0,  0,  ...,  0,  0,  0],\n",
      "         [ 0,  0,  0,  ...,  0,  0,  0],\n",
      "         [ 0,  0,  0,  ...,  0,  0,  0]],\n",
      "\n",
      "        [[ 4,  8, 17,  ...,  0,  0,  0],\n",
      "         [ 7,  2, 15,  ...,  0,  0,  0],\n",
      "         [34, 13,  4,  ...,  0,  0,  0],\n",
      "         ...,\n",
      "         [ 0,  0,  0,  ...,  0,  0,  0],\n",
      "         [ 0,  0,  0,  ...,  0,  0,  0],\n",
      "         [ 0,  0,  0,  ...,  0,  0,  0]],\n",
      "\n",
      "        [[19,  2,  7,  ...,  0,  0,  0],\n",
      "         [ 4,  9,  3,  ...,  0,  0,  0],\n",
      "         [ 7, 15,  4,  ...,  0,  0,  0],\n",
      "         ...,\n",
      "         [11,  2, 13,  ...,  0,  0,  0],\n",
      "         [ 5,  2, 11,  ...,  0,  0,  0],\n",
      "         [23,  0,  0,  ...,  0,  0,  0]],\n",
      "\n",
      "        [[19,  2,  3,  ...,  0,  0,  0],\n",
      "         [ 5,  2,  5,  ...,  0,  0,  0],\n",
      "         [ 7, 21,  0,  ...,  0,  0,  0],\n",
      "         ...,\n",
      "         [ 0,  0,  0,  ...,  0,  0,  0],\n",
      "         [ 0,  0,  0,  ...,  0,  0,  0],\n",
      "         [ 0,  0,  0,  ...,  0,  0,  0]]], device='cuda:0')\n",
      "INFO:allennlp.training.callbacks.console_logger:batch_input/lemma/lemma/tokens (Shape: 4 x 35)\n",
      "tensor([[  34,  112,    2,  ...,    0,    0,    0],\n",
      "        [   4,  169,  996,  ...,    0,    0,    0],\n",
      "        [1387,   40,  665,  ..., 5058,    5,    3],\n",
      "        [  34, 1572,   18,  ...,    0,    0,    0]], device='cuda:0')\n",
      "INFO:allennlp.training.callbacks.console_logger:batch_input/label (Shape: 4)\n",
      "tensor([0, 0, 0, 0], device='cuda:0')\n",
      "INFO:allennlp.training.callbacks.console_logger:Field : \"batch_input/metadata\" : (Length 4 of type \"<class 'dict'>\")\n",
      "INFO:allennlp.training.callbacks.console_logger:batch_input/metadata_categoricals_Century (Shape: 4)\n",
      "tensor([2, 0, 2, 0], device='cuda:0')\n",
      "INFO:allennlp.training.callbacks.console_logger:batch_input/metadata_categoricals_Textgroup (Shape: 4)\n",
      "tensor([ 2,  4, 12,  4], device='cuda:0')\n",
      "INFO:allennlp.training.callbacks.console_logger:batch_input/metadata_categoricals_WrittenType (Shape: 4)\n",
      "tensor([0, 0, 0, 0], device='cuda:0')\n",
      "INFO:allennlp.training.callbacks.console_logger:batch_input/metadata_categoricals_CitationTypes (Shape: 4)\n",
      "tensor([0, 6, 8, 6], device='cuda:0')\n",
      "INFO:allennlp.training.callbacks.console_logger:                       Training |  Validation\n",
      "INFO:allennlp.training.callbacks.console_logger:accuracy           |     0.807  |     0.904\n",
      "INFO:allennlp.training.callbacks.console_logger:fscore             |     0.793  |     0.898\n",
      "INFO:allennlp.training.callbacks.console_logger:fscore-negative    |     0.847  |     0.924\n",
      "INFO:allennlp.training.callbacks.console_logger:fscore-positive    |     0.739  |     0.871\n",
      "INFO:allennlp.training.callbacks.console_logger:gpu_0_memory_MB    |   125.024  |       N/A\n",
      "INFO:allennlp.training.callbacks.console_logger:loss               |     0.515  |     0.306\n",
      "INFO:allennlp.training.callbacks.console_logger:precision          |     0.794  |     0.897\n",
      "INFO:allennlp.training.callbacks.console_logger:precision-negative |     0.845  |     0.925\n",
      "INFO:allennlp.training.callbacks.console_logger:precision-positive |     0.743  |     0.870\n",
      "INFO:allennlp.training.callbacks.console_logger:recall             |     0.793  |     0.898\n",
      "INFO:allennlp.training.callbacks.console_logger:recall-negative    |     0.850  |     0.923\n",
      "INFO:allennlp.training.callbacks.console_logger:recall-positive    |     0.736  |     0.873\n",
      "INFO:allennlp.training.callbacks.console_logger:worker_0_memory_MB |  2932.562  |       N/A\n",
      "INFO:allennlp.training.gradient_descent_trainer:Epoch duration: 0:00:21.249227\n",
      "INFO:allennlp.training.gradient_descent_trainer:Estimated training time remaining: 0:06:38\n",
      "INFO:allennlp.training.gradient_descent_trainer:Epoch 1/19\n",
      "INFO:allennlp.training.gradient_descent_trainer:Worker 0 memory usage: 3.0G\n",
      "INFO:allennlp.training.gradient_descent_trainer:GPU 0 memory usage: 177M\n",
      "INFO:allennlp.training.gradient_descent_trainer:Training\n"
     ]
    },
    {
     "data": {
      "application/vnd.jupyter.widget-view+json": {
       "model_id": "d24b841acca048a8844552891579c505",
       "version_major": 2,
       "version_minor": 0
      },
      "text/plain": [
       "  0%|          | 0/1357 [00:00<?, ?it/s]"
      ]
     },
     "metadata": {},
     "output_type": "display_data"
    },
    {
     "name": "stderr",
     "output_type": "stream",
     "text": [
      "INFO:allennlp.training.gradient_descent_trainer:Validating\n"
     ]
    },
    {
     "data": {
      "application/vnd.jupyter.widget-view+json": {
       "model_id": "8c33bfc51314439f9842e845dc042918",
       "version_major": 2,
       "version_minor": 0
      },
      "text/plain": [
       "  0%|          | 0/170 [00:00<?, ?it/s]"
      ]
     },
     "metadata": {},
     "output_type": "display_data"
    },
    {
     "name": "stderr",
     "output_type": "stream",
     "text": [
      "INFO:allennlp.training.callbacks.console_logger:                       Training |  Validation\n",
      "INFO:allennlp.training.callbacks.console_logger:accuracy           |     0.873  |     0.894\n",
      "INFO:allennlp.training.callbacks.console_logger:fscore             |     0.864  |     0.888\n",
      "INFO:allennlp.training.callbacks.console_logger:fscore-negative    |     0.899  |     0.914\n",
      "INFO:allennlp.training.callbacks.console_logger:fscore-positive    |     0.828  |     0.862\n",
      "INFO:allennlp.training.callbacks.console_logger:gpu_0_memory_MB    |   177.023  |       N/A\n",
      "INFO:allennlp.training.callbacks.console_logger:loss               |     0.323  |     0.316\n",
      "INFO:allennlp.training.callbacks.console_logger:precision          |     0.864  |     0.884\n",
      "INFO:allennlp.training.callbacks.console_logger:precision-negative |     0.898  |     0.932\n",
      "INFO:allennlp.training.callbacks.console_logger:precision-positive |     0.830  |     0.836\n",
      "INFO:allennlp.training.callbacks.console_logger:recall             |     0.863  |     0.893\n",
      "INFO:allennlp.training.callbacks.console_logger:recall-negative    |     0.900  |     0.897\n",
      "INFO:allennlp.training.callbacks.console_logger:recall-positive    |     0.827  |     0.889\n",
      "INFO:allennlp.training.callbacks.console_logger:worker_0_memory_MB |  3074.777  |       N/A\n",
      "INFO:allennlp.training.gradient_descent_trainer:Epoch duration: 0:00:20.273975\n",
      "INFO:allennlp.training.gradient_descent_trainer:Estimated training time remaining: 0:06:12\n",
      "INFO:allennlp.training.gradient_descent_trainer:Epoch 2/19\n",
      "INFO:allennlp.training.gradient_descent_trainer:Worker 0 memory usage: 3.0G\n",
      "INFO:allennlp.training.gradient_descent_trainer:GPU 0 memory usage: 177M\n",
      "INFO:allennlp.training.gradient_descent_trainer:Training\n"
     ]
    },
    {
     "data": {
      "application/vnd.jupyter.widget-view+json": {
       "model_id": "f81b6a7945884f3da356032b2b0d578a",
       "version_major": 2,
       "version_minor": 0
      },
      "text/plain": [
       "  0%|          | 0/1357 [00:00<?, ?it/s]"
      ]
     },
     "metadata": {},
     "output_type": "display_data"
    },
    {
     "name": "stderr",
     "output_type": "stream",
     "text": [
      "INFO:allennlp.training.gradient_descent_trainer:Validating\n"
     ]
    },
    {
     "data": {
      "application/vnd.jupyter.widget-view+json": {
       "model_id": "e30bf181952f4ce9a5e080fc20a9e6fe",
       "version_major": 2,
       "version_minor": 0
      },
      "text/plain": [
       "  0%|          | 0/170 [00:00<?, ?it/s]"
      ]
     },
     "metadata": {},
     "output_type": "display_data"
    },
    {
     "name": "stderr",
     "output_type": "stream",
     "text": [
      "INFO:allennlp.training.callbacks.console_logger:                       Training |  Validation\n",
      "INFO:allennlp.training.callbacks.console_logger:accuracy           |     0.899  |     0.903\n",
      "INFO:allennlp.training.callbacks.console_logger:fscore             |     0.892  |     0.895\n",
      "INFO:allennlp.training.callbacks.console_logger:fscore-negative    |     0.919  |     0.924\n",
      "INFO:allennlp.training.callbacks.console_logger:fscore-positive    |     0.864  |     0.866\n",
      "INFO:allennlp.training.callbacks.console_logger:gpu_0_memory_MB    |   177.023  |       N/A\n",
      "INFO:allennlp.training.callbacks.console_logger:loss               |     0.260  |     0.266\n",
      "INFO:allennlp.training.callbacks.console_logger:precision          |     0.892  |     0.899\n",
      "INFO:allennlp.training.callbacks.console_logger:precision-negative |     0.919  |     0.911\n",
      "INFO:allennlp.training.callbacks.console_logger:precision-positive |     0.864  |     0.887\n",
      "INFO:allennlp.training.callbacks.console_logger:recall             |     0.891  |     0.891\n",
      "INFO:allennlp.training.callbacks.console_logger:recall-negative    |     0.920  |     0.937\n",
      "INFO:allennlp.training.callbacks.console_logger:recall-positive    |     0.863  |     0.845\n",
      "INFO:allennlp.training.callbacks.console_logger:worker_0_memory_MB |  3074.863  |       N/A\n",
      "INFO:allennlp.training.gradient_descent_trainer:Epoch duration: 0:00:20.710342\n",
      "INFO:allennlp.training.gradient_descent_trainer:Estimated training time remaining: 0:05:49\n",
      "INFO:allennlp.training.gradient_descent_trainer:Epoch 3/19\n",
      "INFO:allennlp.training.gradient_descent_trainer:Worker 0 memory usage: 3.0G\n",
      "INFO:allennlp.training.gradient_descent_trainer:GPU 0 memory usage: 177M\n",
      "INFO:allennlp.training.gradient_descent_trainer:Training\n"
     ]
    },
    {
     "data": {
      "application/vnd.jupyter.widget-view+json": {
       "model_id": "8bc252c49b3a485db6d9b8b73bb987cf",
       "version_major": 2,
       "version_minor": 0
      },
      "text/plain": [
       "  0%|          | 0/1357 [00:00<?, ?it/s]"
      ]
     },
     "metadata": {},
     "output_type": "display_data"
    },
    {
     "name": "stderr",
     "output_type": "stream",
     "text": [
      "INFO:allennlp.training.gradient_descent_trainer:Validating\n"
     ]
    },
    {
     "data": {
      "application/vnd.jupyter.widget-view+json": {
       "model_id": "ea6e1af7fb16467293d196bb0be4da75",
       "version_major": 2,
       "version_minor": 0
      },
      "text/plain": [
       "  0%|          | 0/170 [00:00<?, ?it/s]"
      ]
     },
     "metadata": {},
     "output_type": "display_data"
    },
    {
     "name": "stderr",
     "output_type": "stream",
     "text": [
      "INFO:allennlp.training.callbacks.console_logger:                       Training |  Validation\n",
      "INFO:allennlp.training.callbacks.console_logger:accuracy           |     0.915  |     0.915\n",
      "INFO:allennlp.training.callbacks.console_logger:fscore             |     0.909  |     0.908\n",
      "INFO:allennlp.training.callbacks.console_logger:fscore-negative    |     0.932  |     0.933\n",
      "INFO:allennlp.training.callbacks.console_logger:fscore-positive    |     0.885  |     0.883\n",
      "INFO:allennlp.training.callbacks.console_logger:gpu_0_memory_MB    |   177.023  |       N/A\n",
      "INFO:allennlp.training.callbacks.console_logger:loss               |     0.224  |     0.236\n",
      "INFO:allennlp.training.callbacks.console_logger:precision          |     0.909  |     0.911\n",
      "INFO:allennlp.training.callbacks.console_logger:precision-negative |     0.931  |     0.924\n",
      "INFO:allennlp.training.callbacks.console_logger:precision-positive |     0.887  |     0.898\n",
      "INFO:allennlp.training.callbacks.console_logger:recall             |     0.908  |     0.905\n",
      "INFO:allennlp.training.callbacks.console_logger:recall-negative    |     0.933  |     0.941\n",
      "INFO:allennlp.training.callbacks.console_logger:recall-positive    |     0.883  |     0.869\n",
      "INFO:allennlp.training.callbacks.console_logger:worker_0_memory_MB |  3074.863  |       N/A\n",
      "INFO:allennlp.training.gradient_descent_trainer:Epoch duration: 0:00:21.108524\n",
      "INFO:allennlp.training.gradient_descent_trainer:Estimated training time remaining: 0:05:30\n",
      "INFO:allennlp.training.gradient_descent_trainer:Epoch 4/19\n",
      "INFO:allennlp.training.gradient_descent_trainer:Worker 0 memory usage: 3.0G\n",
      "INFO:allennlp.training.gradient_descent_trainer:GPU 0 memory usage: 177M\n",
      "INFO:allennlp.training.gradient_descent_trainer:Training\n"
     ]
    },
    {
     "data": {
      "application/vnd.jupyter.widget-view+json": {
       "model_id": "c994aebfc8f84ef1bf56c83afc48b3b1",
       "version_major": 2,
       "version_minor": 0
      },
      "text/plain": [
       "  0%|          | 0/1357 [00:00<?, ?it/s]"
      ]
     },
     "metadata": {},
     "output_type": "display_data"
    },
    {
     "name": "stderr",
     "output_type": "stream",
     "text": [
      "INFO:allennlp.training.gradient_descent_trainer:Validating\n"
     ]
    },
    {
     "data": {
      "application/vnd.jupyter.widget-view+json": {
       "model_id": "9fd819c395864c8981cb5488edd1b583",
       "version_major": 2,
       "version_minor": 0
      },
      "text/plain": [
       "  0%|          | 0/170 [00:00<?, ?it/s]"
      ]
     },
     "metadata": {},
     "output_type": "display_data"
    },
    {
     "name": "stderr",
     "output_type": "stream",
     "text": [
      "INFO:allennlp.training.callbacks.console_logger:                       Training |  Validation\n",
      "INFO:allennlp.training.callbacks.console_logger:accuracy           |     0.923  |     0.919\n",
      "INFO:allennlp.training.callbacks.console_logger:fscore             |     0.918  |     0.913\n",
      "INFO:allennlp.training.callbacks.console_logger:fscore-negative    |     0.939  |     0.936\n",
      "INFO:allennlp.training.callbacks.console_logger:fscore-positive    |     0.897  |     0.891\n",
      "INFO:allennlp.training.callbacks.console_logger:gpu_0_memory_MB    |   177.128  |       N/A\n",
      "INFO:allennlp.training.callbacks.console_logger:loss               |     0.191  |     0.223\n",
      "INFO:allennlp.training.callbacks.console_logger:precision          |     0.918  |     0.914\n",
      "INFO:allennlp.training.callbacks.console_logger:precision-negative |     0.939  |     0.935\n",
      "INFO:allennlp.training.callbacks.console_logger:precision-positive |     0.896  |     0.892\n",
      "INFO:allennlp.training.callbacks.console_logger:recall             |     0.918  |     0.913\n",
      "INFO:allennlp.training.callbacks.console_logger:recall-negative    |     0.938  |     0.937\n",
      "INFO:allennlp.training.callbacks.console_logger:recall-positive    |     0.897  |     0.889\n",
      "INFO:allennlp.training.callbacks.console_logger:worker_0_memory_MB |  3074.863  |       N/A\n",
      "INFO:allennlp.training.gradient_descent_trainer:Epoch duration: 0:00:21.897777\n",
      "INFO:allennlp.training.gradient_descent_trainer:Estimated training time remaining: 0:05:14\n",
      "INFO:allennlp.training.gradient_descent_trainer:Epoch 5/19\n",
      "INFO:allennlp.training.gradient_descent_trainer:Worker 0 memory usage: 3.0G\n",
      "INFO:allennlp.training.gradient_descent_trainer:GPU 0 memory usage: 179M\n",
      "INFO:allennlp.training.gradient_descent_trainer:Training\n"
     ]
    },
    {
     "data": {
      "application/vnd.jupyter.widget-view+json": {
       "model_id": "dfe50d596a6d4e2092572a69a1db5be3",
       "version_major": 2,
       "version_minor": 0
      },
      "text/plain": [
       "  0%|          | 0/1357 [00:00<?, ?it/s]"
      ]
     },
     "metadata": {},
     "output_type": "display_data"
    },
    {
     "name": "stderr",
     "output_type": "stream",
     "text": [
      "INFO:allennlp.training.gradient_descent_trainer:Validating\n"
     ]
    },
    {
     "data": {
      "application/vnd.jupyter.widget-view+json": {
       "model_id": "88e021f9b47a4a2cb060f16f93ef9f80",
       "version_major": 2,
       "version_minor": 0
      },
      "text/plain": [
       "  0%|          | 0/170 [00:00<?, ?it/s]"
      ]
     },
     "metadata": {},
     "output_type": "display_data"
    },
    {
     "name": "stderr",
     "output_type": "stream",
     "text": [
      "INFO:allennlp.training.callbacks.console_logger:                       Training |  Validation\n",
      "INFO:allennlp.training.callbacks.console_logger:accuracy           |     0.933  |     0.920\n",
      "INFO:allennlp.training.callbacks.console_logger:fscore             |     0.928  |     0.915\n",
      "INFO:allennlp.training.callbacks.console_logger:fscore-negative    |     0.946  |     0.937\n",
      "INFO:allennlp.training.callbacks.console_logger:fscore-positive    |     0.909  |     0.892\n",
      "INFO:allennlp.training.callbacks.console_logger:gpu_0_memory_MB    |   179.151  |       N/A\n",
      "INFO:allennlp.training.callbacks.console_logger:loss               |     0.172  |     0.239\n",
      "INFO:allennlp.training.callbacks.console_logger:precision          |     0.928  |     0.915\n",
      "INFO:allennlp.training.callbacks.console_logger:precision-negative |     0.945  |     0.935\n",
      "INFO:allennlp.training.callbacks.console_logger:precision-positive |     0.912  |     0.896\n",
      "INFO:allennlp.training.callbacks.console_logger:recall             |     0.927  |     0.914\n",
      "INFO:allennlp.training.callbacks.console_logger:recall-negative    |     0.948  |     0.939\n",
      "INFO:allennlp.training.callbacks.console_logger:recall-positive    |     0.906  |     0.889\n",
      "INFO:allennlp.training.callbacks.console_logger:worker_0_memory_MB |  3074.863  |       N/A\n",
      "INFO:allennlp.training.gradient_descent_trainer:Epoch duration: 0:00:20.459478\n",
      "INFO:allennlp.training.gradient_descent_trainer:Estimated training time remaining: 0:04:52\n",
      "INFO:allennlp.training.gradient_descent_trainer:Epoch 6/19\n",
      "INFO:allennlp.training.gradient_descent_trainer:Worker 0 memory usage: 3.0G\n",
      "INFO:allennlp.training.gradient_descent_trainer:GPU 0 memory usage: 179M\n",
      "INFO:allennlp.training.gradient_descent_trainer:Training\n"
     ]
    },
    {
     "data": {
      "application/vnd.jupyter.widget-view+json": {
       "model_id": "48735000867e412eb5a21781fb87eab5",
       "version_major": 2,
       "version_minor": 0
      },
      "text/plain": [
       "  0%|          | 0/1357 [00:00<?, ?it/s]"
      ]
     },
     "metadata": {},
     "output_type": "display_data"
    },
    {
     "name": "stderr",
     "output_type": "stream",
     "text": [
      "INFO:allennlp.training.gradient_descent_trainer:Validating\n"
     ]
    },
    {
     "data": {
      "application/vnd.jupyter.widget-view+json": {
       "model_id": "954afe909b2e4c56998b75286cb3f2c8",
       "version_major": 2,
       "version_minor": 0
      },
      "text/plain": [
       "  0%|          | 0/170 [00:00<?, ?it/s]"
      ]
     },
     "metadata": {},
     "output_type": "display_data"
    },
    {
     "name": "stderr",
     "output_type": "stream",
     "text": [
      "INFO:allennlp.training.callbacks.console_logger:                       Training |  Validation\n",
      "INFO:allennlp.training.callbacks.console_logger:accuracy           |     0.934  |     0.916\n",
      "INFO:allennlp.training.callbacks.console_logger:fscore             |     0.930  |     0.909\n",
      "INFO:allennlp.training.callbacks.console_logger:fscore-negative    |     0.948  |     0.934\n",
      "INFO:allennlp.training.callbacks.console_logger:fscore-positive    |     0.912  |     0.885\n",
      "INFO:allennlp.training.callbacks.console_logger:gpu_0_memory_MB    |   179.151  |       N/A\n",
      "INFO:allennlp.training.callbacks.console_logger:loss               |     0.164  |     0.224\n",
      "INFO:allennlp.training.callbacks.console_logger:precision          |     0.930  |     0.913\n",
      "INFO:allennlp.training.callbacks.console_logger:precision-negative |     0.948  |     0.924\n",
      "INFO:allennlp.training.callbacks.console_logger:precision-positive |     0.911  |     0.901\n",
      "INFO:allennlp.training.callbacks.console_logger:recall             |     0.930  |     0.906\n",
      "INFO:allennlp.training.callbacks.console_logger:recall-negative    |     0.947  |     0.944\n",
      "INFO:allennlp.training.callbacks.console_logger:recall-positive    |     0.913  |     0.869\n",
      "INFO:allennlp.training.callbacks.console_logger:worker_0_memory_MB |  3074.863  |       N/A\n",
      "INFO:allennlp.training.gradient_descent_trainer:Epoch duration: 0:00:20.375675\n",
      "INFO:allennlp.training.gradient_descent_trainer:Estimated training time remaining: 0:04:31\n",
      "INFO:allennlp.training.gradient_descent_trainer:Epoch 7/19\n",
      "INFO:allennlp.training.gradient_descent_trainer:Worker 0 memory usage: 3.0G\n",
      "INFO:allennlp.training.gradient_descent_trainer:GPU 0 memory usage: 179M\n",
      "INFO:allennlp.training.gradient_descent_trainer:Training\n"
     ]
    },
    {
     "data": {
      "application/vnd.jupyter.widget-view+json": {
       "model_id": "d0f60aed78264a27abd8c112a8341be7",
       "version_major": 2,
       "version_minor": 0
      },
      "text/plain": [
       "  0%|          | 0/1357 [00:00<?, ?it/s]"
      ]
     },
     "metadata": {},
     "output_type": "display_data"
    },
    {
     "name": "stderr",
     "output_type": "stream",
     "text": [
      "INFO:allennlp.training.gradient_descent_trainer:Validating\n"
     ]
    },
    {
     "data": {
      "application/vnd.jupyter.widget-view+json": {
       "model_id": "25ec15dbf55b4fca8da3a4ac692195f7",
       "version_major": 2,
       "version_minor": 0
      },
      "text/plain": [
       "  0%|          | 0/170 [00:00<?, ?it/s]"
      ]
     },
     "metadata": {},
     "output_type": "display_data"
    },
    {
     "name": "stderr",
     "output_type": "stream",
     "text": [
      "INFO:allennlp.training.callbacks.console_logger:                       Training |  Validation\n",
      "INFO:allennlp.training.callbacks.console_logger:accuracy           |     0.942  |     0.937\n",
      "INFO:allennlp.training.callbacks.console_logger:fscore             |     0.938  |     0.932\n",
      "INFO:allennlp.training.callbacks.console_logger:fscore-negative    |     0.954  |     0.949\n",
      "INFO:allennlp.training.callbacks.console_logger:fscore-positive    |     0.922  |     0.916\n",
      "INFO:allennlp.training.callbacks.console_logger:gpu_0_memory_MB    |   179.151  |       N/A\n",
      "INFO:allennlp.training.callbacks.console_logger:loss               |     0.148  |     0.214\n",
      "INFO:allennlp.training.callbacks.console_logger:precision          |     0.937  |     0.931\n",
      "INFO:allennlp.training.callbacks.console_logger:precision-negative |     0.955  |     0.955\n",
      "INFO:allennlp.training.callbacks.console_logger:precision-positive |     0.920  |     0.907\n",
      "INFO:allennlp.training.callbacks.console_logger:recall             |     0.938  |     0.934\n",
      "INFO:allennlp.training.callbacks.console_logger:recall-negative    |     0.953  |     0.944\n",
      "INFO:allennlp.training.callbacks.console_logger:recall-positive    |     0.924  |     0.925\n",
      "INFO:allennlp.training.callbacks.console_logger:worker_0_memory_MB |  3074.863  |       N/A\n",
      "INFO:allennlp.training.gradient_descent_trainer:Epoch duration: 0:00:20.974811\n",
      "INFO:allennlp.training.gradient_descent_trainer:Estimated training time remaining: 0:04:09\n",
      "INFO:allennlp.training.gradient_descent_trainer:Epoch 8/19\n",
      "INFO:allennlp.training.gradient_descent_trainer:Worker 0 memory usage: 3.0G\n",
      "INFO:allennlp.training.gradient_descent_trainer:GPU 0 memory usage: 179M\n",
      "INFO:allennlp.training.gradient_descent_trainer:Training\n"
     ]
    },
    {
     "data": {
      "application/vnd.jupyter.widget-view+json": {
       "model_id": "4a419acfdf2d40fdada5d6e2b632b5d1",
       "version_major": 2,
       "version_minor": 0
      },
      "text/plain": [
       "  0%|          | 0/1357 [00:00<?, ?it/s]"
      ]
     },
     "metadata": {},
     "output_type": "display_data"
    },
    {
     "name": "stderr",
     "output_type": "stream",
     "text": [
      "INFO:allennlp.training.gradient_descent_trainer:Validating\n"
     ]
    },
    {
     "data": {
      "application/vnd.jupyter.widget-view+json": {
       "model_id": "10fd5dae0ba8400f9d5ece641b8947a8",
       "version_major": 2,
       "version_minor": 0
      },
      "text/plain": [
       "  0%|          | 0/170 [00:00<?, ?it/s]"
      ]
     },
     "metadata": {},
     "output_type": "display_data"
    },
    {
     "name": "stderr",
     "output_type": "stream",
     "text": [
      "INFO:allennlp.training.callbacks.console_logger:                       Training |  Validation\n",
      "INFO:allennlp.training.callbacks.console_logger:accuracy           |     0.954  |     0.903\n",
      "INFO:allennlp.training.callbacks.console_logger:fscore             |     0.951  |     0.893\n",
      "INFO:allennlp.training.callbacks.console_logger:fscore-negative    |     0.963  |     0.926\n",
      "INFO:allennlp.training.callbacks.console_logger:fscore-positive    |     0.938  |     0.860\n",
      "INFO:allennlp.training.callbacks.console_logger:gpu_0_memory_MB    |   179.151  |       N/A\n",
      "INFO:allennlp.training.callbacks.console_logger:loss               |     0.128  |     0.278\n",
      "INFO:allennlp.training.callbacks.console_logger:precision          |     0.950  |     0.908\n",
      "INFO:allennlp.training.callbacks.console_logger:precision-negative |     0.966  |     0.893\n",
      "INFO:allennlp.training.callbacks.console_logger:precision-positive |     0.935  |     0.923\n",
      "INFO:allennlp.training.callbacks.console_logger:recall             |     0.952  |     0.883\n",
      "INFO:allennlp.training.callbacks.console_logger:recall-negative    |     0.961  |     0.960\n",
      "INFO:allennlp.training.callbacks.console_logger:recall-positive    |     0.942  |     0.806\n",
      "INFO:allennlp.training.callbacks.console_logger:worker_0_memory_MB |  3074.863  |       N/A\n",
      "INFO:allennlp.training.gradient_descent_trainer:Epoch duration: 0:00:20.922901\n",
      "INFO:allennlp.training.gradient_descent_trainer:Estimated training time remaining: 0:03:49\n",
      "INFO:allennlp.training.gradient_descent_trainer:Epoch 9/19\n",
      "INFO:allennlp.training.gradient_descent_trainer:Worker 0 memory usage: 3.0G\n",
      "INFO:allennlp.training.gradient_descent_trainer:GPU 0 memory usage: 179M\n",
      "INFO:allennlp.training.gradient_descent_trainer:Training\n"
     ]
    },
    {
     "data": {
      "application/vnd.jupyter.widget-view+json": {
       "model_id": "0cd31a2fc032420d8cb15009ff54b0d6",
       "version_major": 2,
       "version_minor": 0
      },
      "text/plain": [
       "  0%|          | 0/1357 [00:00<?, ?it/s]"
      ]
     },
     "metadata": {},
     "output_type": "display_data"
    },
    {
     "name": "stderr",
     "output_type": "stream",
     "text": [
      "INFO:allennlp.training.gradient_descent_trainer:Validating\n"
     ]
    },
    {
     "data": {
      "application/vnd.jupyter.widget-view+json": {
       "model_id": "6bb4528c7315438789363813bb084e8b",
       "version_major": 2,
       "version_minor": 0
      },
      "text/plain": [
       "  0%|          | 0/170 [00:00<?, ?it/s]"
      ]
     },
     "metadata": {},
     "output_type": "display_data"
    },
    {
     "name": "stderr",
     "output_type": "stream",
     "text": [
      "INFO:allennlp.training.callbacks.console_logger:                       Training |  Validation\n",
      "INFO:allennlp.training.callbacks.console_logger:accuracy           |     0.956  |     0.918\n",
      "INFO:allennlp.training.callbacks.console_logger:fscore             |     0.953  |     0.911\n",
      "INFO:allennlp.training.callbacks.console_logger:fscore-negative    |     0.965  |     0.935\n",
      "INFO:allennlp.training.callbacks.console_logger:fscore-positive    |     0.940  |     0.887\n",
      "INFO:allennlp.training.callbacks.console_logger:gpu_0_memory_MB    |   179.151  |       N/A\n",
      "INFO:allennlp.training.callbacks.console_logger:loss               |     0.113  |     0.257\n",
      "INFO:allennlp.training.callbacks.console_logger:precision          |     0.953  |     0.914\n",
      "INFO:allennlp.training.callbacks.console_logger:precision-negative |     0.964  |     0.926\n",
      "INFO:allennlp.training.callbacks.console_logger:precision-positive |     0.941  |     0.902\n",
      "INFO:allennlp.training.callbacks.console_logger:recall             |     0.952  |     0.908\n",
      "INFO:allennlp.training.callbacks.console_logger:recall-negative    |     0.965  |     0.944\n",
      "INFO:allennlp.training.callbacks.console_logger:recall-positive    |     0.939  |     0.873\n",
      "INFO:allennlp.training.callbacks.console_logger:worker_0_memory_MB |  3074.863  |       N/A\n",
      "INFO:allennlp.training.gradient_descent_trainer:Epoch duration: 0:00:20.634136\n",
      "INFO:allennlp.training.gradient_descent_trainer:Estimated training time remaining: 0:03:28\n",
      "INFO:allennlp.training.gradient_descent_trainer:Epoch 10/19\n",
      "INFO:allennlp.training.gradient_descent_trainer:Worker 0 memory usage: 3.0G\n",
      "INFO:allennlp.training.gradient_descent_trainer:GPU 0 memory usage: 179M\n",
      "INFO:allennlp.training.gradient_descent_trainer:Training\n"
     ]
    },
    {
     "data": {
      "application/vnd.jupyter.widget-view+json": {
       "model_id": "8bd15e6e351f4eb3843b23624430ecb2",
       "version_major": 2,
       "version_minor": 0
      },
      "text/plain": [
       "  0%|          | 0/1357 [00:00<?, ?it/s]"
      ]
     },
     "metadata": {},
     "output_type": "display_data"
    },
    {
     "name": "stderr",
     "output_type": "stream",
     "text": [
      "INFO:allennlp.training.gradient_descent_trainer:Validating\n"
     ]
    },
    {
     "data": {
      "application/vnd.jupyter.widget-view+json": {
       "model_id": "bfdc6df5a00c468f810dd49de9e6495b",
       "version_major": 2,
       "version_minor": 0
      },
      "text/plain": [
       "  0%|          | 0/170 [00:00<?, ?it/s]"
      ]
     },
     "metadata": {},
     "output_type": "display_data"
    },
    {
     "name": "stderr",
     "output_type": "stream",
     "text": [
      "INFO:allennlp.training.callbacks.console_logger:                       Training |  Validation\n",
      "INFO:allennlp.training.callbacks.console_logger:accuracy           |     0.961  |     0.931\n",
      "INFO:allennlp.training.callbacks.console_logger:fscore             |     0.958  |     0.926\n",
      "INFO:allennlp.training.callbacks.console_logger:fscore-negative    |     0.969  |     0.945\n",
      "INFO:allennlp.training.callbacks.console_logger:fscore-positive    |     0.947  |     0.907\n",
      "INFO:allennlp.training.callbacks.console_logger:gpu_0_memory_MB    |   179.151  |       N/A\n",
      "INFO:allennlp.training.callbacks.console_logger:loss               |     0.099  |     0.264\n",
      "INFO:allennlp.training.callbacks.console_logger:precision          |     0.958  |     0.925\n",
      "INFO:allennlp.training.callbacks.console_logger:precision-negative |     0.968  |     0.948\n",
      "INFO:allennlp.training.callbacks.console_logger:precision-positive |     0.949  |     0.902\n",
      "INFO:allennlp.training.callbacks.console_logger:recall             |     0.958  |     0.927\n",
      "INFO:allennlp.training.callbacks.console_logger:recall-negative    |     0.970  |     0.941\n",
      "INFO:allennlp.training.callbacks.console_logger:recall-positive    |     0.945  |     0.913\n",
      "INFO:allennlp.training.callbacks.console_logger:worker_0_memory_MB |  3074.863  |       N/A\n",
      "INFO:allennlp.training.gradient_descent_trainer:Epoch duration: 0:00:20.571640\n",
      "INFO:allennlp.training.gradient_descent_trainer:Estimated training time remaining: 0:03:07\n",
      "INFO:allennlp.training.gradient_descent_trainer:Epoch 11/19\n",
      "INFO:allennlp.training.gradient_descent_trainer:Worker 0 memory usage: 3.0G\n",
      "INFO:allennlp.training.gradient_descent_trainer:GPU 0 memory usage: 179M\n",
      "INFO:allennlp.training.gradient_descent_trainer:Training\n"
     ]
    },
    {
     "data": {
      "application/vnd.jupyter.widget-view+json": {
       "model_id": "de6172485481413fa7f756246d5e9b5b",
       "version_major": 2,
       "version_minor": 0
      },
      "text/plain": [
       "  0%|          | 0/1357 [00:00<?, ?it/s]"
      ]
     },
     "metadata": {},
     "output_type": "display_data"
    },
    {
     "name": "stderr",
     "output_type": "stream",
     "text": [
      "INFO:allennlp.training.gradient_descent_trainer:Validating\n"
     ]
    },
    {
     "data": {
      "application/vnd.jupyter.widget-view+json": {
       "model_id": "86444bbd5d744a2c92f1ac5f3a8a3c61",
       "version_major": 2,
       "version_minor": 0
      },
      "text/plain": [
       "  0%|          | 0/170 [00:00<?, ?it/s]"
      ]
     },
     "metadata": {},
     "output_type": "display_data"
    },
    {
     "name": "stderr",
     "output_type": "stream",
     "text": [
      "INFO:allennlp.training.callbacks.console_logger:                       Training |  Validation\n",
      "INFO:allennlp.training.callbacks.console_logger:accuracy           |     0.965  |     0.919\n",
      "INFO:allennlp.training.callbacks.console_logger:fscore             |     0.962  |     0.913\n",
      "INFO:allennlp.training.callbacks.console_logger:fscore-negative    |     0.972  |     0.936\n",
      "INFO:allennlp.training.callbacks.console_logger:fscore-positive    |     0.952  |     0.891\n",
      "INFO:allennlp.training.callbacks.console_logger:gpu_0_memory_MB    |   179.151  |       N/A\n",
      "INFO:allennlp.training.callbacks.console_logger:loss               |     0.092  |     0.267\n",
      "INFO:allennlp.training.callbacks.console_logger:precision          |     0.963  |     0.913\n",
      "INFO:allennlp.training.callbacks.console_logger:precision-negative |     0.970  |     0.937\n",
      "INFO:allennlp.training.callbacks.console_logger:precision-positive |     0.955  |     0.889\n",
      "INFO:allennlp.training.callbacks.console_logger:recall             |     0.961  |     0.914\n",
      "INFO:allennlp.training.callbacks.console_logger:recall-negative    |     0.974  |     0.934\n",
      "INFO:allennlp.training.callbacks.console_logger:recall-positive    |     0.949  |     0.893\n",
      "INFO:allennlp.training.callbacks.console_logger:worker_0_memory_MB |  3074.863  |       N/A\n",
      "INFO:allennlp.training.gradient_descent_trainer:Epoch duration: 0:00:20.661631\n",
      "INFO:allennlp.training.gradient_descent_trainer:Estimated training time remaining: 0:02:46\n",
      "INFO:allennlp.training.gradient_descent_trainer:Epoch 12/19\n",
      "INFO:allennlp.training.gradient_descent_trainer:Worker 0 memory usage: 3.0G\n",
      "INFO:allennlp.training.gradient_descent_trainer:GPU 0 memory usage: 179M\n",
      "INFO:allennlp.training.gradient_descent_trainer:Training\n"
     ]
    },
    {
     "data": {
      "application/vnd.jupyter.widget-view+json": {
       "model_id": "4aea613509ea43a3947f2761abaed052",
       "version_major": 2,
       "version_minor": 0
      },
      "text/plain": [
       "  0%|          | 0/1357 [00:00<?, ?it/s]"
      ]
     },
     "metadata": {},
     "output_type": "display_data"
    },
    {
     "name": "stderr",
     "output_type": "stream",
     "text": [
      "INFO:allennlp.training.gradient_descent_trainer:Validating\n"
     ]
    },
    {
     "data": {
      "application/vnd.jupyter.widget-view+json": {
       "model_id": "8cc7b4f9f46f4b26801bbda79dd2916a",
       "version_major": 2,
       "version_minor": 0
      },
      "text/plain": [
       "  0%|          | 0/170 [00:00<?, ?it/s]"
      ]
     },
     "metadata": {},
     "output_type": "display_data"
    },
    {
     "name": "stderr",
     "output_type": "stream",
     "text": [
      "INFO:allennlp.training.callbacks.console_logger:                       Training |  Validation\n",
      "INFO:allennlp.training.callbacks.console_logger:accuracy           |     0.971  |     0.923\n",
      "INFO:allennlp.training.callbacks.console_logger:fscore             |     0.969  |     0.918\n",
      "INFO:allennlp.training.callbacks.console_logger:fscore-negative    |     0.977  |     0.939\n",
      "INFO:allennlp.training.callbacks.console_logger:fscore-positive    |     0.962  |     0.896\n",
      "INFO:allennlp.training.callbacks.console_logger:gpu_0_memory_MB    |   179.151  |       N/A\n",
      "INFO:allennlp.training.callbacks.console_logger:loss               |     0.073  |     0.270\n",
      "INFO:allennlp.training.callbacks.console_logger:precision          |     0.969  |     0.919\n",
      "INFO:allennlp.training.callbacks.console_logger:precision-negative |     0.977  |     0.937\n",
      "INFO:allennlp.training.callbacks.console_logger:precision-positive |     0.962  |     0.900\n",
      "INFO:allennlp.training.callbacks.console_logger:recall             |     0.969  |     0.917\n",
      "INFO:allennlp.training.callbacks.console_logger:recall-negative    |     0.977  |     0.941\n",
      "INFO:allennlp.training.callbacks.console_logger:recall-positive    |     0.961  |     0.893\n",
      "INFO:allennlp.training.callbacks.console_logger:worker_0_memory_MB |  3074.863  |       N/A\n",
      "INFO:allennlp.training.gradient_descent_trainer:Epoch duration: 0:00:20.428468\n",
      "INFO:allennlp.training.gradient_descent_trainer:Estimated training time remaining: 0:02:25\n",
      "INFO:allennlp.training.gradient_descent_trainer:Epoch 13/19\n",
      "INFO:allennlp.training.gradient_descent_trainer:Worker 0 memory usage: 3.0G\n",
      "INFO:allennlp.training.gradient_descent_trainer:GPU 0 memory usage: 179M\n",
      "INFO:allennlp.training.gradient_descent_trainer:Training\n"
     ]
    },
    {
     "data": {
      "application/vnd.jupyter.widget-view+json": {
       "model_id": "54fe1dd958a54a47b70daf9b1f4a9448",
       "version_major": 2,
       "version_minor": 0
      },
      "text/plain": [
       "  0%|          | 0/1357 [00:00<?, ?it/s]"
      ]
     },
     "metadata": {},
     "output_type": "display_data"
    },
    {
     "name": "stderr",
     "output_type": "stream",
     "text": [
      "INFO:allennlp.training.gradient_descent_trainer:Validating\n"
     ]
    },
    {
     "data": {
      "application/vnd.jupyter.widget-view+json": {
       "model_id": "2c0b9a2c6bf54d02a22ccd40a3946ba9",
       "version_major": 2,
       "version_minor": 0
      },
      "text/plain": [
       "  0%|          | 0/170 [00:00<?, ?it/s]"
      ]
     },
     "metadata": {},
     "output_type": "display_data"
    },
    {
     "name": "stderr",
     "output_type": "stream",
     "text": [
      "INFO:allennlp.training.callbacks.console_logger:                       Training |  Validation\n",
      "INFO:allennlp.training.callbacks.console_logger:accuracy           |     0.975  |     0.920\n",
      "INFO:allennlp.training.callbacks.console_logger:fscore             |     0.974  |     0.914\n",
      "INFO:allennlp.training.callbacks.console_logger:fscore-negative    |     0.981  |     0.938\n",
      "INFO:allennlp.training.callbacks.console_logger:fscore-positive    |     0.967  |     0.890\n",
      "INFO:allennlp.training.callbacks.console_logger:gpu_0_memory_MB    |   179.151  |       N/A\n",
      "INFO:allennlp.training.callbacks.console_logger:loss               |     0.066  |     0.310\n",
      "INFO:allennlp.training.callbacks.console_logger:precision          |     0.974  |     0.919\n",
      "INFO:allennlp.training.callbacks.console_logger:precision-negative |     0.980  |     0.923\n",
      "INFO:allennlp.training.callbacks.console_logger:precision-positive |     0.968  |     0.916\n",
      "INFO:allennlp.training.callbacks.console_logger:recall             |     0.974  |     0.909\n",
      "INFO:allennlp.training.callbacks.console_logger:recall-negative    |     0.981  |     0.953\n",
      "INFO:allennlp.training.callbacks.console_logger:recall-positive    |     0.966  |     0.865\n",
      "INFO:allennlp.training.callbacks.console_logger:worker_0_memory_MB |  3074.863  |       N/A\n",
      "INFO:allennlp.training.gradient_descent_trainer:Epoch duration: 0:00:21.263086\n",
      "INFO:allennlp.training.gradient_descent_trainer:Estimated training time remaining: 0:02:04\n",
      "INFO:allennlp.training.gradient_descent_trainer:Epoch 14/19\n",
      "INFO:allennlp.training.gradient_descent_trainer:Worker 0 memory usage: 3.0G\n",
      "INFO:allennlp.training.gradient_descent_trainer:GPU 0 memory usage: 179M\n",
      "INFO:allennlp.training.gradient_descent_trainer:Training\n"
     ]
    },
    {
     "data": {
      "application/vnd.jupyter.widget-view+json": {
       "model_id": "141595f4deab4937be58126f384de524",
       "version_major": 2,
       "version_minor": 0
      },
      "text/plain": [
       "  0%|          | 0/1357 [00:00<?, ?it/s]"
      ]
     },
     "metadata": {},
     "output_type": "display_data"
    },
    {
     "name": "stderr",
     "output_type": "stream",
     "text": [
      "INFO:allennlp.training.gradient_descent_trainer:Validating\n"
     ]
    },
    {
     "data": {
      "application/vnd.jupyter.widget-view+json": {
       "model_id": "bf9489b330ee42c294ea95352bb131f3",
       "version_major": 2,
       "version_minor": 0
      },
      "text/plain": [
       "  0%|          | 0/170 [00:00<?, ?it/s]"
      ]
     },
     "metadata": {},
     "output_type": "display_data"
    },
    {
     "name": "stderr",
     "output_type": "stream",
     "text": [
      "INFO:allennlp.training.callbacks.console_logger:                       Training |  Validation\n",
      "INFO:allennlp.training.callbacks.console_logger:accuracy           |     0.976  |     0.919\n",
      "INFO:allennlp.training.callbacks.console_logger:fscore             |     0.975  |     0.913\n",
      "INFO:allennlp.training.callbacks.console_logger:fscore-negative    |     0.981  |     0.936\n",
      "INFO:allennlp.training.callbacks.console_logger:fscore-positive    |     0.968  |     0.890\n",
      "INFO:allennlp.training.callbacks.console_logger:gpu_0_memory_MB    |   179.151  |       N/A\n",
      "INFO:allennlp.training.callbacks.console_logger:loss               |     0.064  |     0.333\n",
      "INFO:allennlp.training.callbacks.console_logger:precision          |     0.975  |     0.915\n",
      "INFO:allennlp.training.callbacks.console_logger:precision-negative |     0.980  |     0.931\n",
      "INFO:allennlp.training.callbacks.console_logger:precision-positive |     0.970  |     0.899\n",
      "INFO:allennlp.training.callbacks.console_logger:recall             |     0.974  |     0.911\n",
      "INFO:allennlp.training.callbacks.console_logger:recall-negative    |     0.982  |     0.941\n",
      "INFO:allennlp.training.callbacks.console_logger:recall-positive    |     0.967  |     0.881\n",
      "INFO:allennlp.training.callbacks.console_logger:worker_0_memory_MB |  3074.863  |       N/A\n",
      "INFO:allennlp.training.gradient_descent_trainer:Epoch duration: 0:00:20.464491\n",
      "INFO:allennlp.training.gradient_descent_trainer:Estimated training time remaining: 0:01:43\n",
      "INFO:allennlp.training.gradient_descent_trainer:Epoch 15/19\n",
      "INFO:allennlp.training.gradient_descent_trainer:Worker 0 memory usage: 3.0G\n",
      "INFO:allennlp.training.gradient_descent_trainer:GPU 0 memory usage: 179M\n",
      "INFO:allennlp.training.gradient_descent_trainer:Training\n"
     ]
    },
    {
     "data": {
      "application/vnd.jupyter.widget-view+json": {
       "model_id": "4713aa4595db47efb20d169bdb16c4d0",
       "version_major": 2,
       "version_minor": 0
      },
      "text/plain": [
       "  0%|          | 0/1357 [00:00<?, ?it/s]"
      ]
     },
     "metadata": {},
     "output_type": "display_data"
    },
    {
     "name": "stderr",
     "output_type": "stream",
     "text": [
      "INFO:allennlp.training.gradient_descent_trainer:Validating\n"
     ]
    },
    {
     "data": {
      "application/vnd.jupyter.widget-view+json": {
       "model_id": "69285d025a5f41f58a934e4375a2d157",
       "version_major": 2,
       "version_minor": 0
      },
      "text/plain": [
       "  0%|          | 0/170 [00:00<?, ?it/s]"
      ]
     },
     "metadata": {},
     "output_type": "display_data"
    },
    {
     "name": "stderr",
     "output_type": "stream",
     "text": [
      "INFO:allennlp.training.callbacks.console_logger:                       Training |  Validation\n",
      "INFO:allennlp.training.callbacks.console_logger:accuracy           |     0.979  |     0.919\n",
      "INFO:allennlp.training.callbacks.console_logger:fscore             |     0.977  |     0.913\n",
      "INFO:allennlp.training.callbacks.console_logger:fscore-negative    |     0.983  |     0.936\n",
      "INFO:allennlp.training.callbacks.console_logger:fscore-positive    |     0.971  |     0.889\n",
      "INFO:allennlp.training.callbacks.console_logger:gpu_0_memory_MB    |   179.151  |       N/A\n",
      "INFO:allennlp.training.callbacks.console_logger:loss               |     0.062  |     0.307\n",
      "INFO:allennlp.training.callbacks.console_logger:precision          |     0.978  |     0.916\n",
      "INFO:allennlp.training.callbacks.console_logger:precision-negative |     0.982  |     0.927\n",
      "INFO:allennlp.training.callbacks.console_logger:precision-positive |     0.973  |     0.905\n",
      "INFO:allennlp.training.callbacks.console_logger:recall             |     0.977  |     0.910\n",
      "INFO:allennlp.training.callbacks.console_logger:recall-negative    |     0.984  |     0.946\n",
      "INFO:allennlp.training.callbacks.console_logger:recall-positive    |     0.970  |     0.873\n",
      "INFO:allennlp.training.callbacks.console_logger:worker_0_memory_MB |  3074.863  |       N/A\n",
      "INFO:allennlp.training.gradient_descent_trainer:Epoch duration: 0:00:20.567168\n",
      "INFO:allennlp.training.gradient_descent_trainer:Estimated training time remaining: 0:01:23\n",
      "INFO:allennlp.training.gradient_descent_trainer:Epoch 16/19\n",
      "INFO:allennlp.training.gradient_descent_trainer:Worker 0 memory usage: 3.0G\n",
      "INFO:allennlp.training.gradient_descent_trainer:GPU 0 memory usage: 179M\n",
      "INFO:allennlp.training.gradient_descent_trainer:Training\n"
     ]
    },
    {
     "data": {
      "application/vnd.jupyter.widget-view+json": {
       "model_id": "09da634225dd43df89c1063d3547ec92",
       "version_major": 2,
       "version_minor": 0
      },
      "text/plain": [
       "  0%|          | 0/1357 [00:00<?, ?it/s]"
      ]
     },
     "metadata": {},
     "output_type": "display_data"
    },
    {
     "name": "stderr",
     "output_type": "stream",
     "text": [
      "INFO:allennlp.training.gradient_descent_trainer:Validating\n"
     ]
    },
    {
     "data": {
      "application/vnd.jupyter.widget-view+json": {
       "model_id": "bb86b0db1f9d4ddeb2d2302994172b97",
       "version_major": 2,
       "version_minor": 0
      },
      "text/plain": [
       "  0%|          | 0/170 [00:00<?, ?it/s]"
      ]
     },
     "metadata": {},
     "output_type": "display_data"
    },
    {
     "name": "stderr",
     "output_type": "stream",
     "text": [
      "INFO:allennlp.training.callbacks.console_logger:                       Training |  Validation\n",
      "INFO:allennlp.training.callbacks.console_logger:accuracy           |     0.980  |     0.923\n",
      "INFO:allennlp.training.callbacks.console_logger:fscore             |     0.978  |     0.918\n",
      "INFO:allennlp.training.callbacks.console_logger:fscore-negative    |     0.984  |     0.939\n",
      "INFO:allennlp.training.callbacks.console_logger:fscore-positive    |     0.973  |     0.898\n",
      "INFO:allennlp.training.callbacks.console_logger:gpu_0_memory_MB    |   179.151  |       N/A\n",
      "INFO:allennlp.training.callbacks.console_logger:loss               |     0.053  |     0.317\n",
      "INFO:allennlp.training.callbacks.console_logger:precision          |     0.978  |     0.916\n",
      "INFO:allennlp.training.callbacks.console_logger:precision-negative |     0.985  |     0.945\n",
      "INFO:allennlp.training.callbacks.console_logger:precision-positive |     0.970  |     0.888\n",
      "INFO:allennlp.training.callbacks.console_logger:recall             |     0.979  |     0.920\n",
      "INFO:allennlp.training.callbacks.console_logger:recall-negative    |     0.982  |     0.932\n",
      "INFO:allennlp.training.callbacks.console_logger:recall-positive    |     0.975  |     0.909\n",
      "INFO:allennlp.training.callbacks.console_logger:worker_0_memory_MB |  3074.863  |       N/A\n",
      "INFO:allennlp.training.gradient_descent_trainer:Epoch duration: 0:00:20.420498\n",
      "INFO:allennlp.training.gradient_descent_trainer:Estimated training time remaining: 0:01:02\n",
      "INFO:allennlp.training.gradient_descent_trainer:Epoch 17/19\n",
      "INFO:allennlp.training.gradient_descent_trainer:Worker 0 memory usage: 3.0G\n",
      "INFO:allennlp.training.gradient_descent_trainer:GPU 0 memory usage: 179M\n",
      "INFO:allennlp.training.gradient_descent_trainer:Training\n"
     ]
    },
    {
     "data": {
      "application/vnd.jupyter.widget-view+json": {
       "model_id": "af2b2acda9514e839855eda13fb9d166",
       "version_major": 2,
       "version_minor": 0
      },
      "text/plain": [
       "  0%|          | 0/1357 [00:00<?, ?it/s]"
      ]
     },
     "metadata": {},
     "output_type": "display_data"
    },
    {
     "name": "stderr",
     "output_type": "stream",
     "text": [
      "INFO:allennlp.training.gradient_descent_trainer:Validating\n"
     ]
    },
    {
     "data": {
      "application/vnd.jupyter.widget-view+json": {
       "model_id": "d56d7dca78974cd29c84257bb061a233",
       "version_major": 2,
       "version_minor": 0
      },
      "text/plain": [
       "  0%|          | 0/170 [00:00<?, ?it/s]"
      ]
     },
     "metadata": {},
     "output_type": "display_data"
    },
    {
     "name": "stderr",
     "output_type": "stream",
     "text": [
      "INFO:allennlp.training.callbacks.console_logger:                       Training |  Validation\n",
      "INFO:allennlp.training.callbacks.console_logger:accuracy           |     0.985  |     0.934\n",
      "INFO:allennlp.training.callbacks.console_logger:fscore             |     0.983  |     0.929\n",
      "INFO:allennlp.training.callbacks.console_logger:fscore-negative    |     0.988  |     0.947\n",
      "INFO:allennlp.training.callbacks.console_logger:fscore-positive    |     0.979  |     0.911\n",
      "INFO:allennlp.training.callbacks.console_logger:gpu_0_memory_MB    |   179.151  |       N/A\n",
      "INFO:allennlp.training.callbacks.console_logger:loss               |     0.042  |     0.310\n",
      "INFO:allennlp.training.callbacks.console_logger:precision          |     0.984  |     0.928\n",
      "INFO:allennlp.training.callbacks.console_logger:precision-negative |     0.986  |     0.950\n",
      "INFO:allennlp.training.callbacks.console_logger:precision-positive |     0.982  |     0.906\n",
      "INFO:allennlp.training.callbacks.console_logger:recall             |     0.983  |     0.930\n",
      "INFO:allennlp.training.callbacks.console_logger:recall-negative    |     0.989  |     0.944\n",
      "INFO:allennlp.training.callbacks.console_logger:recall-positive    |     0.977  |     0.917\n",
      "INFO:allennlp.training.callbacks.console_logger:worker_0_memory_MB |  3074.863  |       N/A\n",
      "INFO:allennlp.training.gradient_descent_trainer:Epoch duration: 0:00:20.696089\n",
      "INFO:allennlp.training.gradient_descent_trainer:Ran out of patience. Stopping training.\n",
      "INFO:root:Finished training\n",
      "INFO:allennlp.training.util:Iterating over dataset\n"
     ]
    },
    {
     "name": "stdout",
     "output_type": "stream",
     "text": [
      "FeatureEmbeddingClassifier(\n",
      "  (_loss): CrossEntropyLoss()\n",
      "  (mixed_encoder): MixedEmbeddingEncoder(\n",
      "    (_emb_dropout): Dropout(p=0.3, inplace=False)\n",
      "    (features_embedder): FeatureAndTextEmbedder(\n",
      "      (text_embedder): BasicTextFieldEmbedder(\n",
      "        (token_embedder_lemma): Embedding()\n",
      "        (token_embedder_lemma_char): TokenCharactersEncoder(\n",
      "          (_embedding): TimeDistributed(\n",
      "            (_module): Embedding()\n",
      "          )\n",
      "          (_encoder): TimeDistributed(\n",
      "            (_module): LstmSeq2VecEncoder(\n",
      "              (_module): LSTM(100, 150, num_layers=2, batch_first=True, dropout=0.3, bidirectional=True)\n",
      "            )\n",
      "          )\n",
      "          (_dropout): Dropout(p=0.3, inplace=False)\n",
      "        )\n",
      "      )\n",
      "      (feature_embedder): Linear(in_features=52, out_features=20, bias=True)\n",
      "    )\n",
      "    (features_encoder): HierarchicalAttentionalEncoder(\n",
      "      (gru): GRU(520, 64, batch_first=True, dropout=0.3, bidirectional=True)\n",
      "      (dense): Linear(in_features=128, out_features=128, bias=True)\n",
      "      (dropout): Dropout(p=0.5, inplace=False)\n",
      "    )\n",
      "  )\n",
      "  (classifier): MetadataEnrichedLinear(\n",
      "    (linear): BasisCustLinear(\n",
      "      (Century): Embedding(13, 64)\n",
      "      (Textgroup): Embedding(213, 64)\n",
      "      (WrittenType): Embedding(3, 64)\n",
      "      (CitationTypes): Embedding(54, 64)\n",
      "      (P): Sequential(\n",
      "        (0): Linear(in_features=256, out_features=64, bias=True)\n",
      "        (1): Tanh()\n",
      "        (2): Linear(in_features=64, out_features=3, bias=False)\n",
      "        (3): Softmax(dim=1)\n",
      "        (4): Linear(in_features=3, out_features=256, bias=True)\n",
      "      )\n",
      "    )\n",
      "    (bias): BasicBias()\n",
      "  )\n",
      ")\n",
      "Evaluating\n"
     ]
    },
    {
     "data": {
      "application/vnd.jupyter.widget-view+json": {
       "model_id": "87434393b2714f54a7a838c8cb1fc97a",
       "version_major": 2,
       "version_minor": 0
      },
      "text/plain": [
       "0it [00:00, ?it/s]"
      ]
     },
     "metadata": {},
     "output_type": "display_data"
    },
    {
     "name": "stderr",
     "output_type": "stream",
     "text": [
      "WARNING:allennlp.models.model:Encountered the loss key in the model's return dictionary which couldn't be split by the batch size. Key will be ignored.\n"
     ]
    },
    {
     "name": "stdout",
     "output_type": "stream",
     "text": [
      "Evaluating: Predicting\n",
      "({'accuracy': 0.9542097488921714, 'precision': 0.9512646198272705, 'recall': 0.9505218267440796, 'fscore': 0.9508906602859497, 'precision-negative': 0.9625293016433716, 'precision-positive': 0.9399999976158142, 'recall-negative': 0.9647887349128723, 'recall-positive': 0.9362549781799316, 'fscore-negative': 0.9636576771736145, 'fscore-positive': 0.9381237030029297, 'loss': 0.133230575624689}, <sklearn.metrics._plot.confusion_matrix.ConfusionMatrixDisplay object at 0x7fccadc33a00>)\n"
     ]
    },
    {
     "name": "stderr",
     "output_type": "stream",
     "text": [
      "/home/thibault/dev/est-lascivuum-non-est/seligator/tests/evaluate.py:111: UserWarning: Matplotlib is currently using module://matplotlib_inline.backend_inline, which is a non-GUI backend, so cannot show the figure.\n",
      "  disp.figure_.show()\n"
     ]
    },
    {
     "data": {
      "image/png": "[encoded data removed]",
      "text/plain": [
       "<Figure size 432x288 with 2 Axes>"
      ]
     },
     "metadata": {
      "needs_background": "light"
     },
     "output_type": "display_data"
    }
   ],
   "source": [
    "from seligator.common.params import MetadataEncoding, Seq2VecEncoderType\n",
    "from seligator.simple_demo import prepare_model, train_and_get\n",
    "from seligator.tests.evaluate import *\n",
    "from seligator.models.siamese import SiameseClassifier\n",
    "\n",
    "# Run tests on Vectors Categories\n",
    "METADATA_CATS = (\"Century\", \"Textgroup\", \"WrittenType\", \"CitationTypes\")\n",
    "model, reader, train, dev = prepare_model(\n",
    "    input_features=(\"lemma_char\", \"lemma\", \"case\", \"numb\", \"gend\", \"mood\", \"tense\", \"voice\", \"person\", \"deg\"),\n",
    "    seq2vec_encoder_type=Seq2VecEncoderType.HAN,\n",
    "    agglomerate_msd=True,\n",
    "    reader_kwargs={\n",
    "        \"batch_size\": 4, \n",
    "        \"metadata_encoding\": MetadataEncoding.AS_CATEGORICAL,\n",
    "        \"metadata_tokens_categories\": METADATA_CATS\n",
    "    },\n",
    "    model_embedding_kwargs=dict(\n",
    "        keep_all_vocab=True,\n",
    "        pretrained_embeddings={\n",
    "            # \"token\": \"~/Downloads/latin.embeddings\",\n",
    "        #    \"token\": \"~/dev/these/notebooks/4 - Detection/data/embs_models/model.token.word2vec.kv\",\n",
    "            \"lemma\": \"~/dev/these/notebooks/4 - Detection/data/embs_models/model.lemma.word2vec.kv.header\"\n",
    "        },\n",
    "        trainable_embeddings={\"token\": False, \"lemma\": False},\n",
    "        pretrained_emb_dims={\"token\": 200, \"lemma\": 200}\n",
    "    ),\n",
    "    #batches_per_epoch=100,\n",
    "    # model_class=SiameseClassifier,\n",
    "    use_bert_higway=True,\n",
    "    additional_model_kwargs={\n",
    "        \"metadata_linear\": True,\n",
    "        \"metadata_categories\": METADATA_CATS\n",
    "    }\n",
    ")\n",
    "model = train_and_get(\n",
    "    model, train, dev,\n",
    "    patience=10,\n",
    "    num_epochs=20,\n",
    "    lr=5e-4,\n",
    "#    use_cpu=True\n",
    ")\n",
    "print(model)\n",
    "data = run_tests(\n",
    "    \"dataset/split/test.txt\",\n",
    "    dataset_reader=reader, model=model, dump=\"test.lemma-msd-metadatacat-basis.csv\"\n",
    ")\n",
    "print(data)"
   ]
  }
 ],
 "metadata": {
  "kernelspec": {
   "display_name": "Python 3",
   "language": "python",
   "name": "python3"
  },
  "language_info": {
   "codemirror_mode": {
    "name": "ipython",
    "version": 3
   },
   "file_extension": ".py",
   "mimetype": "text/x-python",
   "name": "python",
   "nbconvert_exporter": "python",
   "pygments_lexer": "ipython3",
   "version": "3.8.10"
  },
  "toc": {
   "base_numbering": 1,
   "nav_menu": {},
   "number_sections": true,
   "sideBar": true,
   "skip_h1_title": false,
   "title_cell": "Table of Contents",
   "title_sidebar": "Contents",
   "toc_cell": false,
   "toc_position": {},
   "toc_section_display": true,
   "toc_window_display": false
  }
 },
 "nbformat": 4,
 "nbformat_minor": 5
}
