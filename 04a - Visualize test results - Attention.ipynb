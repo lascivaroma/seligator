{
 "cells": [
  {
   "cell_type": "code",
   "execution_count": 1,
   "id": "4ab44007",
   "metadata": {},
   "outputs": [],
   "source": [
    "import pandas\n",
    "import numpy as np\n",
    "from colour import Color\n",
    "\n",
    "has_attention = True\n",
    "dont_show_ok = False\n",
    "data = pandas.read_csv(\"./test_dumps/main.AggloMSD-HAN-None-Word2Vec-256.1.best.csv.gz\")\n",
    "# print(data.head)\n",
    "data[\"attention\"] = data[\"attention\"].apply(lambda x: np.array(eval(x)))\n",
    "data[\"ok\"] = data[\"prediction\"] == data[\"label\"]\n"
   ]
  },
  {
   "cell_type": "code",
   "execution_count": 2,
   "id": "87a893f9",
   "metadata": {},
   "outputs": [
    {
     "data": {
      "text/html": [
       "<div>\n",
       "<style scoped>\n",
       "    .dataframe tbody tr th:only-of-type {\n",
       "        vertical-align: middle;\n",
       "    }\n",
       "\n",
       "    .dataframe tbody tr th {\n",
       "        vertical-align: top;\n",
       "    }\n",
       "\n",
       "    .dataframe thead th {\n",
       "        text-align: right;\n",
       "    }\n",
       "</style>\n",
       "<table border=\"1\" class=\"dataframe\">\n",
       "  <thead>\n",
       "    <tr style=\"text-align: right;\">\n",
       "      <th></th>\n",
       "      <th>sentence</th>\n",
       "      <th>label</th>\n",
       "      <th>prediction</th>\n",
       "      <th>ok</th>\n",
       "      <th>bert_projection</th>\n",
       "      <th>attention</th>\n",
       "      <th>doc-vectors</th>\n",
       "      <th>score-negative</th>\n",
       "      <th>score-positive</th>\n",
       "      <th>urn</th>\n",
       "      <th>fp</th>\n",
       "      <th>score-prediction</th>\n",
       "      <th>probs</th>\n",
       "    </tr>\n",
       "  </thead>\n",
       "  <tbody>\n",
       "    <tr>\n",
       "      <th>0</th>\n",
       "      <td>Videns eos Athenagora utrosque in amplexu cum ...</td>\n",
       "      <td>negative</td>\n",
       "      <td>negative</td>\n",
       "      <td>True</td>\n",
       "      <td>NaN</td>\n",
       "      <td>[0.020411914214491844, 0.031495351344347, 0.05...</td>\n",
       "      <td>[-0.11335531622171402, 0.21556521952152252, 0....</td>\n",
       "      <td>0.807080</td>\n",
       "      <td>0.192920</td>\n",
       "      <td>urn:cts:latinLit:stoa0323.stoa001.digilibLT-lat1</td>\n",
       "      <td>./dataset/negative-examples/latinLit_stoa0323....</td>\n",
       "      <td>0.807080</td>\n",
       "      <td>[0.80708003 0.19292003]</td>\n",
       "    </tr>\n",
       "    <tr>\n",
       "      <th>1</th>\n",
       "      <td>post hunc autem ascendit Nabuchodonosor rex Ba...</td>\n",
       "      <td>negative</td>\n",
       "      <td>negative</td>\n",
       "      <td>True</td>\n",
       "      <td>NaN</td>\n",
       "      <td>[0.05694727599620819, 0.04116060957312584, 0.0...</td>\n",
       "      <td>[-0.679416298866272, 0.6566700339317322, 0.592...</td>\n",
       "      <td>0.999924</td>\n",
       "      <td>0.000076</td>\n",
       "      <td>urn:cts:greekLit:tlg0527.tlg017.obi-lat1</td>\n",
       "      <td>./dataset/negative-examples/greekLit_tlg0527.t...</td>\n",
       "      <td>0.999924</td>\n",
       "      <td>[9.999236e-01 7.636972e-05]</td>\n",
       "    </tr>\n",
       "    <tr>\n",
       "      <th>2</th>\n",
       "      <td>Ipse in primis absque peccato hominem fecit , ...</td>\n",
       "      <td>negative</td>\n",
       "      <td>negative</td>\n",
       "      <td>True</td>\n",
       "      <td>NaN</td>\n",
       "      <td>[0.0340735986828804, 0.03552110865712166, 0.03...</td>\n",
       "      <td>[-0.4174152910709381, 0.6483216881752014, 0.32...</td>\n",
       "      <td>0.999776</td>\n",
       "      <td>0.000224</td>\n",
       "      <td>urn:cts:latinLit:stoa0121g.stoa005.opp-lat1</td>\n",
       "      <td>./dataset/negative-examples/latinLit_stoa0121g...</td>\n",
       "      <td>0.999776</td>\n",
       "      <td>[9.9977559e-01 2.2444033e-04]</td>\n",
       "    </tr>\n",
       "    <tr>\n",
       "      <th>3</th>\n",
       "      <td>munus ecce fictile inimus intra regiam salutis .</td>\n",
       "      <td>negative</td>\n",
       "      <td>negative</td>\n",
       "      <td>True</td>\n",
       "      <td>NaN</td>\n",
       "      <td>[0.1295117288827896, 0.1715414673089981, 0.119...</td>\n",
       "      <td>[-0.3552809953689575, 0.2642418146133423, 0.33...</td>\n",
       "      <td>0.996918</td>\n",
       "      <td>0.003082</td>\n",
       "      <td>urn:cts:latinLit:stoa0238.stoa009.perseus-lat2</td>\n",
       "      <td>./dataset/negative-examples/latinLit_stoa0238....</td>\n",
       "      <td>0.996918</td>\n",
       "      <td>[0.99691844 0.00308162]</td>\n",
       "    </tr>\n",
       "    <tr>\n",
       "      <th>4</th>\n",
       "      <td>Non pol mihi quidem ;</td>\n",
       "      <td>negative</td>\n",
       "      <td>negative</td>\n",
       "      <td>True</td>\n",
       "      <td>NaN</td>\n",
       "      <td>[0.2587473690509796, 0.2677786648273468, 0.194...</td>\n",
       "      <td>[-0.21152278780937195, 0.49693652987480164, -0...</td>\n",
       "      <td>0.983166</td>\n",
       "      <td>0.016834</td>\n",
       "      <td>urn:cts:latinLit:phi0119.phi020.perseus-lat2</td>\n",
       "      <td>./dataset/negative-examples/latinLit_phi0119.p...</td>\n",
       "      <td>0.983166</td>\n",
       "      <td>[0.98316586 0.01683417]</td>\n",
       "    </tr>\n",
       "    <tr>\n",
       "      <th>...</th>\n",
       "      <td>...</td>\n",
       "      <td>...</td>\n",
       "      <td>...</td>\n",
       "      <td>...</td>\n",
       "      <td>...</td>\n",
       "      <td>...</td>\n",
       "      <td>...</td>\n",
       "      <td>...</td>\n",
       "      <td>...</td>\n",
       "      <td>...</td>\n",
       "      <td>...</td>\n",
       "      <td>...</td>\n",
       "      <td>...</td>\n",
       "    </tr>\n",
       "    <tr>\n",
       "      <th>2737</th>\n",
       "      <td>certe ex utero sanctitatem custodisse et infan...</td>\n",
       "      <td>negative</td>\n",
       "      <td>negative</td>\n",
       "      <td>True</td>\n",
       "      <td>NaN</td>\n",
       "      <td>[0.04119514301419258, 0.047141678631305695, 0....</td>\n",
       "      <td>[-0.49453648924827576, 0.2595881521701813, 0.2...</td>\n",
       "      <td>0.999304</td>\n",
       "      <td>0.000696</td>\n",
       "      <td>urn:cts:latinLit:stoa0104p.stoa005.opp-lat1</td>\n",
       "      <td>./dataset/negative-examples/latinLit_stoa0104p...</td>\n",
       "      <td>0.999304</td>\n",
       "      <td>[9.9930441e-01 6.9561886e-04]</td>\n",
       "    </tr>\n",
       "    <tr>\n",
       "      <th>2738</th>\n",
       "      <td>Cum mora non tuta est , totis incumbere remis ...</td>\n",
       "      <td>positive</td>\n",
       "      <td>positive</td>\n",
       "      <td>True</td>\n",
       "      <td>NaN</td>\n",
       "      <td>[0.02858753502368927, 0.0143414456397295, 0.01...</td>\n",
       "      <td>[0.20277459919452667, -0.03460775315761566, -0...</td>\n",
       "      <td>0.054845</td>\n",
       "      <td>0.945155</td>\n",
       "      <td>urn:cts:latinLit:phi0959.phi004.perseus-lat2</td>\n",
       "      <td>/home/thibault/dev/these-corpus/data/1386.xml</td>\n",
       "      <td>0.945155</td>\n",
       "      <td>[0.05484536 0.9451546 ]</td>\n",
       "    </tr>\n",
       "    <tr>\n",
       "      <th>2739</th>\n",
       "      <td>nihil requirit nisi dei gratiam , solum illud ...</td>\n",
       "      <td>negative</td>\n",
       "      <td>negative</td>\n",
       "      <td>True</td>\n",
       "      <td>NaN</td>\n",
       "      <td>[0.013131489977240562, 0.018022673204541206, 0...</td>\n",
       "      <td>[-0.4750513434410095, 0.9290459752082825, 0.68...</td>\n",
       "      <td>0.999856</td>\n",
       "      <td>0.000144</td>\n",
       "      <td>urn:cts:latinLit:stoa0022.stoa034.opp-lat1</td>\n",
       "      <td>./dataset/negative-examples/latinLit_stoa0022....</td>\n",
       "      <td>0.999856</td>\n",
       "      <td>[9.9985576e-01 1.4427115e-04]</td>\n",
       "    </tr>\n",
       "    <tr>\n",
       "      <th>2740</th>\n",
       "      <td>non arbitror te velle similem esse Epicureorum...</td>\n",
       "      <td>negative</td>\n",
       "      <td>negative</td>\n",
       "      <td>True</td>\n",
       "      <td>NaN</td>\n",
       "      <td>[0.020077016204595566, 0.024200737476348877, 0...</td>\n",
       "      <td>[-0.5326380729675293, 0.5334775447845459, 0.54...</td>\n",
       "      <td>0.993972</td>\n",
       "      <td>0.006028</td>\n",
       "      <td>urn:cts:latinLit:phi0474.phi050.perseus-lat1</td>\n",
       "      <td>./dataset/negative-examples/latinLit_phi0474.p...</td>\n",
       "      <td>0.993972</td>\n",
       "      <td>[0.99397177 0.00602821]</td>\n",
       "    </tr>\n",
       "    <tr>\n",
       "      <th>2741</th>\n",
       "      <td>Coenobium ex Graeco et Latino videtur esse con...</td>\n",
       "      <td>negative</td>\n",
       "      <td>negative</td>\n",
       "      <td>True</td>\n",
       "      <td>NaN</td>\n",
       "      <td>[0.09549766033887863, 0.08429213613271713, 0.0...</td>\n",
       "      <td>[0.395573228597641, 0.1570170521736145, 0.6832...</td>\n",
       "      <td>0.996610</td>\n",
       "      <td>0.003390</td>\n",
       "      <td>urn:cts:latinLit:stoa0159.stoa004.thayer-lat1</td>\n",
       "      <td>./dataset/negative-examples/latinLit_stoa0159....</td>\n",
       "      <td>0.996610</td>\n",
       "      <td>[0.99660987 0.00339009]</td>\n",
       "    </tr>\n",
       "  </tbody>\n",
       "</table>\n",
       "<p>2742 rows × 13 columns</p>\n",
       "</div>"
      ],
      "text/plain": [
       "                                               sentence     label prediction  \\\n",
       "0     Videns eos Athenagora utrosque in amplexu cum ...  negative   negative   \n",
       "1     post hunc autem ascendit Nabuchodonosor rex Ba...  negative   negative   \n",
       "2     Ipse in primis absque peccato hominem fecit , ...  negative   negative   \n",
       "3      munus ecce fictile inimus intra regiam salutis .  negative   negative   \n",
       "4                                 Non pol mihi quidem ;  negative   negative   \n",
       "...                                                 ...       ...        ...   \n",
       "2737  certe ex utero sanctitatem custodisse et infan...  negative   negative   \n",
       "2738  Cum mora non tuta est , totis incumbere remis ...  positive   positive   \n",
       "2739  nihil requirit nisi dei gratiam , solum illud ...  negative   negative   \n",
       "2740  non arbitror te velle similem esse Epicureorum...  negative   negative   \n",
       "2741  Coenobium ex Graeco et Latino videtur esse con...  negative   negative   \n",
       "\n",
       "        ok  bert_projection  \\\n",
       "0     True              NaN   \n",
       "1     True              NaN   \n",
       "2     True              NaN   \n",
       "3     True              NaN   \n",
       "4     True              NaN   \n",
       "...    ...              ...   \n",
       "2737  True              NaN   \n",
       "2738  True              NaN   \n",
       "2739  True              NaN   \n",
       "2740  True              NaN   \n",
       "2741  True              NaN   \n",
       "\n",
       "                                              attention  \\\n",
       "0     [0.020411914214491844, 0.031495351344347, 0.05...   \n",
       "1     [0.05694727599620819, 0.04116060957312584, 0.0...   \n",
       "2     [0.0340735986828804, 0.03552110865712166, 0.03...   \n",
       "3     [0.1295117288827896, 0.1715414673089981, 0.119...   \n",
       "4     [0.2587473690509796, 0.2677786648273468, 0.194...   \n",
       "...                                                 ...   \n",
       "2737  [0.04119514301419258, 0.047141678631305695, 0....   \n",
       "2738  [0.02858753502368927, 0.0143414456397295, 0.01...   \n",
       "2739  [0.013131489977240562, 0.018022673204541206, 0...   \n",
       "2740  [0.020077016204595566, 0.024200737476348877, 0...   \n",
       "2741  [0.09549766033887863, 0.08429213613271713, 0.0...   \n",
       "\n",
       "                                            doc-vectors  score-negative  \\\n",
       "0     [-0.11335531622171402, 0.21556521952152252, 0....        0.807080   \n",
       "1     [-0.679416298866272, 0.6566700339317322, 0.592...        0.999924   \n",
       "2     [-0.4174152910709381, 0.6483216881752014, 0.32...        0.999776   \n",
       "3     [-0.3552809953689575, 0.2642418146133423, 0.33...        0.996918   \n",
       "4     [-0.21152278780937195, 0.49693652987480164, -0...        0.983166   \n",
       "...                                                 ...             ...   \n",
       "2737  [-0.49453648924827576, 0.2595881521701813, 0.2...        0.999304   \n",
       "2738  [0.20277459919452667, -0.03460775315761566, -0...        0.054845   \n",
       "2739  [-0.4750513434410095, 0.9290459752082825, 0.68...        0.999856   \n",
       "2740  [-0.5326380729675293, 0.5334775447845459, 0.54...        0.993972   \n",
       "2741  [0.395573228597641, 0.1570170521736145, 0.6832...        0.996610   \n",
       "\n",
       "      score-positive                                               urn  \\\n",
       "0           0.192920  urn:cts:latinLit:stoa0323.stoa001.digilibLT-lat1   \n",
       "1           0.000076          urn:cts:greekLit:tlg0527.tlg017.obi-lat1   \n",
       "2           0.000224       urn:cts:latinLit:stoa0121g.stoa005.opp-lat1   \n",
       "3           0.003082    urn:cts:latinLit:stoa0238.stoa009.perseus-lat2   \n",
       "4           0.016834      urn:cts:latinLit:phi0119.phi020.perseus-lat2   \n",
       "...              ...                                               ...   \n",
       "2737        0.000696       urn:cts:latinLit:stoa0104p.stoa005.opp-lat1   \n",
       "2738        0.945155      urn:cts:latinLit:phi0959.phi004.perseus-lat2   \n",
       "2739        0.000144        urn:cts:latinLit:stoa0022.stoa034.opp-lat1   \n",
       "2740        0.006028      urn:cts:latinLit:phi0474.phi050.perseus-lat1   \n",
       "2741        0.003390     urn:cts:latinLit:stoa0159.stoa004.thayer-lat1   \n",
       "\n",
       "                                                     fp  score-prediction  \\\n",
       "0     ./dataset/negative-examples/latinLit_stoa0323....          0.807080   \n",
       "1     ./dataset/negative-examples/greekLit_tlg0527.t...          0.999924   \n",
       "2     ./dataset/negative-examples/latinLit_stoa0121g...          0.999776   \n",
       "3     ./dataset/negative-examples/latinLit_stoa0238....          0.996918   \n",
       "4     ./dataset/negative-examples/latinLit_phi0119.p...          0.983166   \n",
       "...                                                 ...               ...   \n",
       "2737  ./dataset/negative-examples/latinLit_stoa0104p...          0.999304   \n",
       "2738      /home/thibault/dev/these-corpus/data/1386.xml          0.945155   \n",
       "2739  ./dataset/negative-examples/latinLit_stoa0022....          0.999856   \n",
       "2740  ./dataset/negative-examples/latinLit_phi0474.p...          0.993972   \n",
       "2741  ./dataset/negative-examples/latinLit_stoa0159....          0.996610   \n",
       "\n",
       "                              probs  \n",
       "0           [0.80708003 0.19292003]  \n",
       "1       [9.999236e-01 7.636972e-05]  \n",
       "2     [9.9977559e-01 2.2444033e-04]  \n",
       "3           [0.99691844 0.00308162]  \n",
       "4           [0.98316586 0.01683417]  \n",
       "...                             ...  \n",
       "2737  [9.9930441e-01 6.9561886e-04]  \n",
       "2738        [0.05484536 0.9451546 ]  \n",
       "2739  [9.9985576e-01 1.4427115e-04]  \n",
       "2740        [0.99397177 0.00602821]  \n",
       "2741        [0.99660987 0.00339009]  \n",
       "\n",
       "[2742 rows x 13 columns]"
      ]
     },
     "execution_count": 2,
     "metadata": {},
     "output_type": "execute_result"
    }
   ],
   "source": [
    "\n",
    "data"
   ]
  },
  {
   "cell_type": "code",
   "execution_count": 4,
   "id": "13bf3ce6",
   "metadata": {
    "scrolled": false
   },
   "outputs": [
    {
     "data": {
      "text/html": [
       "<p><b style=\"text-decoration: line-through;;\">negative</b> -> <span style=\"background-color: #dfacac; border-radius:5px; padding:2px; display: inline-block;\">Attamen</span> <span style=\"background-color: #e17b7b; border-radius:5px; padding:2px; display: inline-block;\">infatuatur</span> <span style=\"background-color: #e6d4d4; border-radius:5px; padding:2px; display: inline-block;\">amoribus</span> <span style=\"background-color: #e1bfbf; border-radius:5px; padding:2px; display: inline-block;\">feminarum</span> <span style=\"background-color: #f1eded; border-radius:5px; padding:2px; display: inline-block;\">.</span></p>"
      ],
      "text/plain": [
       "<IPython.core.display.HTML object>"
      ]
     },
     "metadata": {},
     "output_type": "display_data"
    },
    {
     "data": {
      "text/html": [
       "<p><b style=\"text-decoration: line-through;;\">negative</b> -> <span style=\"background-color: white; border-radius:5px; padding:2px; display: inline-block;\">Haec</span> <span style=\"background-color: white; border-radius:5px; padding:2px; display: inline-block;\">recensente</span> <span style=\"background-color: white; border-radius:5px; padding:2px; display: inline-block;\">pistore</span> <span style=\"background-color: #fcfcfc; border-radius:5px; padding:2px; display: inline-block;\">iamdudum</span> <span style=\"background-color: #fcfcfc; border-radius:5px; padding:2px; display: inline-block;\">procax</span> <span style=\"background-color: #fcfcfc; border-radius:5px; padding:2px; display: inline-block;\">et</span> <span style=\"background-color: #fcfcfc; border-radius:5px; padding:2px; display: inline-block;\">temeraria</span> <span style=\"background-color: white; border-radius:5px; padding:2px; display: inline-block;\">mulier</span> <span style=\"background-color: white; border-radius:5px; padding:2px; display: inline-block;\">verbis</span> <span style=\"background-color: white; border-radius:5px; padding:2px; display: inline-block;\">execrantibus</span> <span style=\"background-color: #fcfcfc; border-radius:5px; padding:2px; display: inline-block;\">fullonis</span> <span style=\"background-color: white; border-radius:5px; padding:2px; display: inline-block;\">illius</span> <span style=\"background-color: white; border-radius:5px; padding:2px; display: inline-block;\">detestabatur</span> <span style=\"background-color: white; border-radius:5px; padding:2px; display: inline-block;\">uxorem</span> <span style=\"background-color: white; border-radius:5px; padding:2px; display: inline-block;\">,</span> <span style=\"background-color: white; border-radius:5px; padding:2px; display: inline-block;\">illam</span> <span style=\"background-color: white; border-radius:5px; padding:2px; display: inline-block;\">perfidam</span> <span style=\"background-color: white; border-radius:5px; padding:2px; display: inline-block;\">,</span> <span style=\"background-color: white; border-radius:5px; padding:2px; display: inline-block;\">illam</span> <span style=\"background-color: #fcfcfc; border-radius:5px; padding:2px; display: inline-block;\">impudicam</span> <span style=\"background-color: white; border-radius:5px; padding:2px; display: inline-block;\">,</span> <span style=\"background-color: #fcfcfc; border-radius:5px; padding:2px; display: inline-block;\">denique</span> <span style=\"background-color: #fcfcfc; border-radius:5px; padding:2px; display: inline-block;\">universi</span> <span style=\"background-color: #fcfcfc; border-radius:5px; padding:2px; display: inline-block;\">sexus</span> <span style=\"background-color: white; border-radius:5px; padding:2px; display: inline-block;\">grande</span> <span style=\"background-color: white; border-radius:5px; padding:2px; display: inline-block;\">dedecus</span> <span style=\"background-color: white; border-radius:5px; padding:2px; display: inline-block;\">,</span> <span style=\"background-color: white; border-radius:5px; padding:2px; display: inline-block;\">quae</span> <span style=\"background-color: #fcfcfc; border-radius:5px; padding:2px; display: inline-block;\">suo</span> <span style=\"background-color: #fcfcfc; border-radius:5px; padding:2px; display: inline-block;\">pudore</span> <span style=\"background-color: #fcfcfc; border-radius:5px; padding:2px; display: inline-block;\">postposito</span> <span style=\"background-color: #fcfcfc; border-radius:5px; padding:2px; display: inline-block;\">torique</span> <span style=\"background-color: white; border-radius:5px; padding:2px; display: inline-block;\">-que</span> <span style=\"background-color: white; border-radius:5px; padding:2px; display: inline-block;\">genialis</span> <span style=\"background-color: white; border-radius:5px; padding:2px; display: inline-block;\">calcato</span> <span style=\"background-color: white; border-radius:5px; padding:2px; display: inline-block;\">foedere</span> <span style=\"background-color: white; border-radius:5px; padding:2px; display: inline-block;\">Larem</span> <span style=\"background-color: white; border-radius:5px; padding:2px; display: inline-block;\">mariti</span> <span style=\"background-color: white; border-radius:5px; padding:2px; display: inline-block;\">lupanari</span> <span style=\"background-color: white; border-radius:5px; padding:2px; display: inline-block;\">maculasset</span> <span style=\"background-color: white; border-radius:5px; padding:2px; display: inline-block;\">infamia</span> <span style=\"background-color: white; border-radius:5px; padding:2px; display: inline-block;\">,</span> <span style=\"background-color: white; border-radius:5px; padding:2px; display: inline-block;\">iamque</span> <span style=\"background-color: white; border-radius:5px; padding:2px; display: inline-block;\">-que</span> <span style=\"background-color: white; border-radius:5px; padding:2px; display: inline-block;\">perdita</span> <span style=\"background-color: white; border-radius:5px; padding:2px; display: inline-block;\">nuptae</span> <span style=\"background-color: white; border-radius:5px; padding:2px; display: inline-block;\">dignitate</span> <span style=\"background-color: white; border-radius:5px; padding:2px; display: inline-block;\">prostitutae</span> <span style=\"background-color: white; border-radius:5px; padding:2px; display: inline-block;\">sibi</span> <span style=\"background-color: white; border-radius:5px; padding:2px; display: inline-block;\">nomen</span> <span style=\"background-color: white; border-radius:5px; padding:2px; display: inline-block;\">adsciverit</span> <span style=\"background-color: white; border-radius:5px; padding:2px; display: inline-block;\">:</span> <span style=\"background-color: white; border-radius:5px; padding:2px; display: inline-block;\">addebat</span> <span style=\"background-color: white; border-radius:5px; padding:2px; display: inline-block;\">et</span> <span style=\"background-color: white; border-radius:5px; padding:2px; display: inline-block;\">tales</span> <span style=\"background-color: white; border-radius:5px; padding:2px; display: inline-block;\">oportere</span> <span style=\"background-color: white; border-radius:5px; padding:2px; display: inline-block;\">vivas</span> <span style=\"background-color: white; border-radius:5px; padding:2px; display: inline-block;\">exuri</span> <span style=\"background-color: white; border-radius:5px; padding:2px; display: inline-block;\">feminas</span> <span style=\"background-color: white; border-radius:5px; padding:2px; display: inline-block;\">.</span></p>"
      ],
      "text/plain": [
       "<IPython.core.display.HTML object>"
      ]
     },
     "metadata": {},
     "output_type": "display_data"
    },
    {
     "data": {
      "text/html": [
       "<p><b style=\"text-decoration: line-through;;\">negative</b> -> <span style=\"background-color: #f3f1f1; border-radius:5px; padding:2px; display: inline-block;\">Ego</span> <span style=\"background-color: #f1eded; border-radius:5px; padding:2px; display: inline-block;\">cum</span> <span style=\"background-color: #eee7e7; border-radius:5px; padding:2px; display: inline-block;\">muliere</span> <span style=\"background-color: #e4cccc; border-radius:5px; padding:2px; display: inline-block;\">menstruata</span> <span style=\"background-color: #eae0e0; border-radius:5px; padding:2px; display: inline-block;\">concubui</span> <span style=\"background-color: #f8f7f7; border-radius:5px; padding:2px; display: inline-block;\">et</span> <span style=\"background-color: white; border-radius:5px; padding:2px; display: inline-block;\">non</span> <span style=\"background-color: #fcfcfc; border-radius:5px; padding:2px; display: inline-block;\">concepit</span> <span style=\"background-color: white; border-radius:5px; padding:2px; display: inline-block;\">,</span> <span style=\"background-color: white; border-radius:5px; padding:2px; display: inline-block;\">nam</span> <span style=\"background-color: #f1eded; border-radius:5px; padding:2px; display: inline-block;\">purgacionis</span> <span style=\"background-color: #fafafa; border-radius:5px; padding:2px; display: inline-block;\">plurimo</span> <span style=\"background-color: #fcfcfc; border-radius:5px; padding:2px; display: inline-block;\">sanguine</span> <span style=\"background-color: #f5f4f4; border-radius:5px; padding:2px; display: inline-block;\">minor</span> <span style=\"background-color: #fafafa; border-radius:5px; padding:2px; display: inline-block;\">pars</span> <span style=\"background-color: white; border-radius:5px; padding:2px; display: inline-block;\">seminis</span> <span style=\"background-color: #f5f4f4; border-radius:5px; padding:2px; display: inline-block;\">corrupta</span> <span style=\"background-color: white; border-radius:5px; padding:2px; display: inline-block;\">est</span> <span style=\"background-color: white; border-radius:5px; padding:2px; display: inline-block;\">.</span></p>"
      ],
      "text/plain": [
       "<IPython.core.display.HTML object>"
      ]
     },
     "metadata": {},
     "output_type": "display_data"
    },
    {
     "data": {
      "text/html": [
       "<p><b style=\"text-decoration: line-through;;\">negative</b> -> <span style=\"background-color: #fcfcfc; border-radius:5px; padding:2px; display: inline-block;\">Verum</span> <span style=\"background-color: white; border-radius:5px; padding:2px; display: inline-block;\">,</span> <span style=\"background-color: white; border-radius:5px; padding:2px; display: inline-block;\">ut</span> <span style=\"background-color: white; border-radius:5px; padding:2px; display: inline-block;\">opinor</span> <span style=\"background-color: white; border-radius:5px; padding:2px; display: inline-block;\">,</span> <span style=\"background-color: #fcfcfc; border-radius:5px; padding:2px; display: inline-block;\">splendor</span> <span style=\"background-color: #fcfcfc; border-radius:5px; padding:2px; display: inline-block;\">domesticus</span> <span style=\"background-color: white; border-radius:5px; padding:2px; display: inline-block;\">tibi</span> <span style=\"background-color: white; border-radius:5px; padding:2px; display: inline-block;\">animos</span> <span style=\"background-color: #fcfcfc; border-radius:5px; padding:2px; display: inline-block;\">tollit</span> <span style=\"background-color: white; border-radius:5px; padding:2px; display: inline-block;\">,</span> <span style=\"background-color: #fcfcfc; border-radius:5px; padding:2px; display: inline-block;\">uxor</span> <span style=\"background-color: #f5f4f4; border-radius:5px; padding:2px; display: inline-block;\">sacrilega</span> <span style=\"background-color: #f5f4f4; border-radius:5px; padding:2px; display: inline-block;\">ac</span> <span style=\"background-color: #f1eded; border-radius:5px; padding:2px; display: inline-block;\">periuriis</span> <span style=\"background-color: #ece3e3; border-radius:5px; padding:2px; display: inline-block;\">delibuta</span> <span style=\"background-color: #fcfcfc; border-radius:5px; padding:2px; display: inline-block;\">,</span> <span style=\"background-color: #fcfcfc; border-radius:5px; padding:2px; display: inline-block;\">filia</span> <span style=\"background-color: #fcfcfc; border-radius:5px; padding:2px; display: inline-block;\">matris</span> <span style=\"background-color: #f8f7f7; border-radius:5px; padding:2px; display: inline-block;\">paelex</span> <span style=\"background-color: #fcfcfc; border-radius:5px; padding:2px; display: inline-block;\">,</span> <span style=\"background-color: #fcfcfc; border-radius:5px; padding:2px; display: inline-block;\">tibi</span> <span style=\"background-color: white; border-radius:5px; padding:2px; display: inline-block;\">iucundior</span> <span style=\"background-color: white; border-radius:5px; padding:2px; display: inline-block;\">atque</span> <span style=\"background-color: #f8f7f7; border-radius:5px; padding:2px; display: inline-block;\">obsequentior</span> <span style=\"background-color: #fafafa; border-radius:5px; padding:2px; display: inline-block;\">quam</span> <span style=\"background-color: white; border-radius:5px; padding:2px; display: inline-block;\">parenti</span> <span style=\"background-color: white; border-radius:5px; padding:2px; display: inline-block;\">par</span> <span style=\"background-color: white; border-radius:5px; padding:2px; display: inline-block;\">est</span> <span style=\"background-color: white; border-radius:5px; padding:2px; display: inline-block;\">.</span></p>"
      ],
      "text/plain": [
       "<IPython.core.display.HTML object>"
      ]
     },
     "metadata": {},
     "output_type": "display_data"
    },
    {
     "data": {
      "text/html": [
       "<p><b style=\"text-decoration: line-through;;\">negative</b> -> <span style=\"background-color: #e6d4d4; border-radius:5px; padding:2px; display: inline-block;\">Nox</span> <span style=\"background-color: #f8f7f7; border-radius:5px; padding:2px; display: inline-block;\">tibi</span> <span style=\"background-color: #fafafa; border-radius:5px; padding:2px; display: inline-block;\">,</span> <span style=\"background-color: #f3f1f1; border-radius:5px; padding:2px; display: inline-block;\">si</span> <span style=\"background-color: #e3c8c8; border-radius:5px; padding:2px; display: inline-block;\">belles</span> <span style=\"background-color: #f3f1f1; border-radius:5px; padding:2px; display: inline-block;\">,</span> <span style=\"background-color: #efeaea; border-radius:5px; padding:2px; display: inline-block;\">possit</span> <span style=\"background-color: #f8f7f7; border-radius:5px; padding:2px; display: inline-block;\">,</span> <span style=\"background-color: #f8f7f7; border-radius:5px; padding:2px; display: inline-block;\">Homere</span> <span style=\"background-color: #f8f7f7; border-radius:5px; padding:2px; display: inline-block;\">,</span> <span style=\"background-color: #efeaea; border-radius:5px; padding:2px; display: inline-block;\">dari</span> <span style=\"background-color: #ece3e3; border-radius:5px; padding:2px; display: inline-block;\">.</span></p>"
      ],
      "text/plain": [
       "<IPython.core.display.HTML object>"
      ]
     },
     "metadata": {},
     "output_type": "display_data"
    },
    {
     "data": {
      "text/html": [
       "<p><b style=\"text-decoration: line-through;;\">negative</b> -> <span style=\"background-color: white; border-radius:5px; padding:2px; display: inline-block;\">alterum</span> <span style=\"background-color: white; border-radius:5px; padding:2px; display: inline-block;\">quod</span> <span style=\"background-color: white; border-radius:5px; padding:2px; display: inline-block;\">intus</span> <span style=\"background-color: white; border-radius:5px; padding:2px; display: inline-block;\">,</span> <span style=\"background-color: #fcfcfc; border-radius:5px; padding:2px; display: inline-block;\">a</span> <span style=\"background-color: #fcfcfc; border-radius:5px; padding:2px; display: inline-block;\">quo</span> <span style=\"background-color: #f5f4f4; border-radius:5px; padding:2px; display: inline-block;\">intusium</span> <span style=\"background-color: #fcfcfc; border-radius:5px; padding:2px; display: inline-block;\">,</span> <span style=\"background-color: #fcfcfc; border-radius:5px; padding:2px; display: inline-block;\">id</span> <span style=\"background-color: #f8f7f7; border-radius:5px; padding:2px; display: inline-block;\">quod</span> <span style=\"background-color: #eae0e0; border-radius:5px; padding:2px; display: inline-block;\">Plautus</span> <span style=\"background-color: white; border-radius:5px; padding:2px; display: inline-block;\">dicit</span> <span style=\"background-color: #fcfcfc; border-radius:5px; padding:2px; display: inline-block;\">:</span> <span style=\"background-color: #e9dcdc; border-radius:5px; padding:2px; display: inline-block;\">Indusiatam</span> <span style=\"background-color: #eee7e7; border-radius:5px; padding:2px; display: inline-block;\">patagiatam</span> <span style=\"background-color: #e5d0d0; border-radius:5px; padding:2px; display: inline-block;\">caltulam</span> <span style=\"background-color: #f5f4f4; border-radius:5px; padding:2px; display: inline-block;\">ac</span> <span style=\"background-color: #f8f7f7; border-radius:5px; padding:2px; display: inline-block;\">crocotulam</span> <span style=\"background-color: #fcfcfc; border-radius:5px; padding:2px; display: inline-block;\">.</span></p>"
      ],
      "text/plain": [
       "<IPython.core.display.HTML object>"
      ]
     },
     "metadata": {},
     "output_type": "display_data"
    },
    {
     "data": {
      "text/html": [
       "<p><b style=\"text-decoration: line-through;;\">negative</b> -> <span style=\"background-color: #eee7e7; border-radius:5px; padding:2px; display: inline-block;\">tibi</span> <span style=\"background-color: #e5d0d0; border-radius:5px; padding:2px; display: inline-block;\">pallam</span> <span style=\"background-color: #eae0e0; border-radius:5px; padding:2px; display: inline-block;\">dedi</span> <span style=\"background-color: #eee7e7; border-radius:5px; padding:2px; display: inline-block;\">,</span> <span style=\"background-color: #e7d8d8; border-radius:5px; padding:2px; display: inline-block;\">quam</span> <span style=\"background-color: #ece3e3; border-radius:5px; padding:2px; display: inline-block;\">uxori</span> <span style=\"background-color: #eee7e7; border-radius:5px; padding:2px; display: inline-block;\">meae</span> <span style=\"background-color: #efeaea; border-radius:5px; padding:2px; display: inline-block;\">surrupui</span> <span style=\"background-color: #f1eded; border-radius:5px; padding:2px; display: inline-block;\">?</span></p>"
      ],
      "text/plain": [
       "<IPython.core.display.HTML object>"
      ]
     },
     "metadata": {},
     "output_type": "display_data"
    },
    {
     "data": {
      "text/html": [
       "<p><b style=\"text-decoration: line-through;;\">negative</b> -> <span style=\"background-color: #efeaea; border-radius:5px; padding:2px; display: inline-block;\">tu</span> <span style=\"background-color: #e6d4d4; border-radius:5px; padding:2px; display: inline-block;\">tantum</span> <span style=\"background-color: #eee7e7; border-radius:5px; padding:2px; display: inline-block;\">fida</span> <span style=\"background-color: #f1eded; border-radius:5px; padding:2px; display: inline-block;\">sorori</span> <span style=\"background-color: #ece3e3; border-radius:5px; padding:2px; display: inline-block;\">esse</span> <span style=\"background-color: #ece3e3; border-radius:5px; padding:2px; display: inline-block;\">velis</span> <span style=\"background-color: #f1eded; border-radius:5px; padding:2px; display: inline-block;\">prolisque</span> <span style=\"background-color: #f5f4f4; border-radius:5px; padding:2px; display: inline-block;\">-que</span> <span style=\"background-color: #f1eded; border-radius:5px; padding:2px; display: inline-block;\">meae</span> <span style=\"background-color: #f3f1f1; border-radius:5px; padding:2px; display: inline-block;\">matertera</span> <span style=\"background-color: #fcfcfc; border-radius:5px; padding:2px; display: inline-block;\">dici</span> <span style=\"background-color: #fafafa; border-radius:5px; padding:2px; display: inline-block;\">.</span></p>"
      ],
      "text/plain": [
       "<IPython.core.display.HTML object>"
      ]
     },
     "metadata": {},
     "output_type": "display_data"
    },
    {
     "data": {
      "text/html": [
       "<p><b style=\"text-decoration: line-through;;\">negative</b> -> <span style=\"background-color: #eae0e0; border-radius:5px; padding:2px; display: inline-block;\">et</span> <span style=\"background-color: #efeaea; border-radius:5px; padding:2px; display: inline-block;\">est</span> <span style=\"background-color: #ece3e3; border-radius:5px; padding:2px; display: inline-block;\">a</span> <span style=\"background-color: #eee7e7; border-radius:5px; padding:2px; display: inline-block;\">foris</span> <span style=\"background-color: #f3f1f1; border-radius:5px; padding:2px; display: inline-block;\">neruosa</span> <span style=\"background-color: #f3f1f1; border-radius:5px; padding:2px; display: inline-block;\">uulua</span> <span style=\"background-color: white; border-radius:5px; padding:2px; display: inline-block;\">,</span> <span style=\"background-color: white; border-radius:5px; padding:2px; display: inline-block;\">cuius</span> <span style=\"background-color: white; border-radius:5px; padding:2px; display: inline-block;\">collum</span> <span style=\"background-color: white; border-radius:5px; padding:2px; display: inline-block;\">directum</span> <span style=\"background-color: white; border-radius:5px; padding:2px; display: inline-block;\">est</span> <span style=\"background-color: white; border-radius:5px; padding:2px; display: inline-block;\">positum</span> <span style=\"background-color: white; border-radius:5px; padding:2px; display: inline-block;\">,</span> <span style=\"background-color: white; border-radius:5px; padding:2px; display: inline-block;\">cuius</span> <span style=\"background-color: white; border-radius:5px; padding:2px; display: inline-block;\">ceruix</span> <span style=\"background-color: white; border-radius:5px; padding:2px; display: inline-block;\">erigitur</span> <span style=\"background-color: white; border-radius:5px; padding:2px; display: inline-block;\">usque</span> <span style=\"background-color: white; border-radius:5px; padding:2px; display: inline-block;\">ad</span> <span style=\"background-color: white; border-radius:5px; padding:2px; display: inline-block;\">locum</span> <span style=\"background-color: white; border-radius:5px; padding:2px; display: inline-block;\">,</span> <span style=\"background-color: white; border-radius:5px; padding:2px; display: inline-block;\">in</span> <span style=\"background-color: white; border-radius:5px; padding:2px; display: inline-block;\">quo</span> <span style=\"background-color: white; border-radius:5px; padding:2px; display: inline-block;\">res</span> <span style=\"background-color: white; border-radius:5px; padding:2px; display: inline-block;\">Veneris</span> <span style=\"background-color: white; border-radius:5px; padding:2px; display: inline-block;\">per</span> <span style=\"background-color: #fcfcfc; border-radius:5px; padding:2px; display: inline-block;\">ficiuntur</span> <span style=\"background-color: white; border-radius:5px; padding:2px; display: inline-block;\">et</span> <span style=\"background-color: #fcfcfc; border-radius:5px; padding:2px; display: inline-block;\">sperma</span> <span style=\"background-color: white; border-radius:5px; padding:2px; display: inline-block;\">miscetur</span> <span style=\"background-color: white; border-radius:5px; padding:2px; display: inline-block;\">et</span> <span style=\"background-color: white; border-radius:5px; padding:2px; display: inline-block;\">fit</span> <span style=\"background-color: #fafafa; border-radius:5px; padding:2px; display: inline-block;\">conceptio</span> <span style=\"background-color: white; border-radius:5px; padding:2px; display: inline-block;\">natura</span> <span style=\"background-color: white; border-radius:5px; padding:2px; display: inline-block;\">uolente</span> <span style=\"background-color: white; border-radius:5px; padding:2px; display: inline-block;\">ex</span> <span style=\"background-color: white; border-radius:5px; padding:2px; display: inline-block;\">uiri</span> <span style=\"background-color: white; border-radius:5px; padding:2px; display: inline-block;\">et</span> <span style=\"background-color: white; border-radius:5px; padding:2px; display: inline-block;\">mulieris</span> <span style=\"background-color: white; border-radius:5px; padding:2px; display: inline-block;\">sanguine</span> <span style=\"background-color: white; border-radius:5px; padding:2px; display: inline-block;\">.</span></p>"
      ],
      "text/plain": [
       "<IPython.core.display.HTML object>"
      ]
     },
     "metadata": {},
     "output_type": "display_data"
    },
    {
     "data": {
      "text/html": [
       "<p><b style=\"text-decoration: line-through;;\">negative</b> -> <span style=\"background-color: #fcfcfc; border-radius:5px; padding:2px; display: inline-block;\">ex</span> <span style=\"background-color: #fcfcfc; border-radius:5px; padding:2px; display: inline-block;\">asperitate</span> <span style=\"background-color: white; border-radius:5px; padding:2px; display: inline-block;\">faucium</span> <span style=\"background-color: white; border-radius:5px; padding:2px; display: inline-block;\">,</span> <span style=\"background-color: white; border-radius:5px; padding:2px; display: inline-block;\">obtunsione</span> <span style=\"background-color: #fcfcfc; border-radius:5px; padding:2px; display: inline-block;\">vocis</span> <span style=\"background-color: #fcfcfc; border-radius:5px; padding:2px; display: inline-block;\">et</span> <span style=\"background-color: #fcfcfc; border-radius:5px; padding:2px; display: inline-block;\">rauco</span> <span style=\"background-color: #fcfcfc; border-radius:5px; padding:2px; display: inline-block;\">sonitu</span> <span style=\"background-color: #fcfcfc; border-radius:5px; padding:2px; display: inline-block;\">,</span> <span style=\"background-color: #fcfcfc; border-radius:5px; padding:2px; display: inline-block;\">inflatione</span> <span style=\"background-color: #fcfcfc; border-radius:5px; padding:2px; display: inline-block;\">etiam</span> <span style=\"background-color: #eee7e7; border-radius:5px; padding:2px; display: inline-block;\">papillarum</span> <span style=\"background-color: #efeaea; border-radius:5px; padding:2px; display: inline-block;\">et</span> <span style=\"background-color: #e3c8c8; border-radius:5px; padding:2px; display: inline-block;\">genitalium</span> <span style=\"background-color: white; border-radius:5px; padding:2px; display: inline-block;\">,</span> <span style=\"background-color: #fafafa; border-radius:5px; padding:2px; display: inline-block;\">et</span> <span style=\"background-color: #fcfcfc; border-radius:5px; padding:2px; display: inline-block;\">cum</span> <span style=\"background-color: #fcfcfc; border-radius:5px; padding:2px; display: inline-block;\">repente</span> <span style=\"background-color: #f5f4f4; border-radius:5px; padding:2px; display: inline-block;\">maceratum</span> <span style=\"background-color: white; border-radius:5px; padding:2px; display: inline-block;\">corpus</span> <span style=\"background-color: white; border-radius:5px; padding:2px; display: inline-block;\">in</span> <span style=\"background-color: white; border-radius:5px; padding:2px; display: inline-block;\">longitudinem</span> <span style=\"background-color: white; border-radius:5px; padding:2px; display: inline-block;\">viderimus</span> <span style=\"background-color: white; border-radius:5px; padding:2px; display: inline-block;\">porrectum</span> <span style=\"background-color: #fafafa; border-radius:5px; padding:2px; display: inline-block;\">.</span></p>"
      ],
      "text/plain": [
       "<IPython.core.display.HTML object>"
      ]
     },
     "metadata": {},
     "output_type": "display_data"
    },
    {
     "data": {
      "text/html": [
       "<p><b style=\"text-decoration: line-through;;\">negative</b> -> <span style=\"background-color: #f1eded; border-radius:5px; padding:2px; display: inline-block;\">quod</span> <span style=\"background-color: #efeaea; border-radius:5px; padding:2px; display: inline-block;\">feminae</span> <span style=\"background-color: #e7d8d8; border-radius:5px; padding:2px; display: inline-block;\">genitalia</span> <span style=\"background-color: #e7d8d8; border-radius:5px; padding:2px; display: inline-block;\">per</span> <span style=\"background-color: #efeaea; border-radius:5px; padding:2px; display: inline-block;\">hoc</span> <span style=\"background-color: #e9dcdc; border-radius:5px; padding:2px; display: inline-block;\">significet</span> <span style=\"background-color: #eae0e0; border-radius:5px; padding:2px; display: inline-block;\">sicut</span> <span style=\"background-color: #f1eded; border-radius:5px; padding:2px; display: inline-block;\">in</span> <span style=\"background-color: #ece3e3; border-radius:5px; padding:2px; display: inline-block;\">lumbis</span> <span style=\"background-color: white; border-radius:5px; padding:2px; display: inline-block;\">uirorum</span> <span style=\"background-color: white; border-radius:5px; padding:2px; display: inline-block;\">.</span></p>"
      ],
      "text/plain": [
       "<IPython.core.display.HTML object>"
      ]
     },
     "metadata": {},
     "output_type": "display_data"
    },
    {
     "data": {
      "text/html": [
       "<p><b style=\"text-decoration: line-through;;\">negative</b> -> <span style=\"background-color: #eee7e7; border-radius:5px; padding:2px; display: inline-block;\">in</span> <span style=\"background-color: #e0b6b6; border-radius:5px; padding:2px; display: inline-block;\">uenerio</span> <span style=\"background-color: #e0b6b6; border-radius:5px; padding:2px; display: inline-block;\">coitu</span> <span style=\"background-color: #efeaea; border-radius:5px; padding:2px; display: inline-block;\">facit</span> <span style=\"background-color: #efeaea; border-radius:5px; padding:2px; display: inline-block;\">libidinosos</span> <span style=\"background-color: #fafafa; border-radius:5px; padding:2px; display: inline-block;\">et</span> <span style=\"background-color: #fcfcfc; border-radius:5px; padding:2px; display: inline-block;\">uitiis</span> <span style=\"background-color: white; border-radius:5px; padding:2px; display: inline-block;\">quibusdam</span> <span style=\"background-color: white; border-radius:5px; padding:2px; display: inline-block;\">semper</span> <span style=\"background-color: #fcfcfc; border-radius:5px; padding:2px; display: inline-block;\">implicitos</span> <span style=\"background-color: white; border-radius:5px; padding:2px; display: inline-block;\">et</span> <span style=\"background-color: white; border-radius:5px; padding:2px; display: inline-block;\">qui</span> <span style=\"background-color: #fcfcfc; border-radius:5px; padding:2px; display: inline-block;\">adsiduis</span> <span style=\"background-color: white; border-radius:5px; padding:2px; display: inline-block;\">ob</span> <span style=\"background-color: white; border-radius:5px; padding:2px; display: inline-block;\">haec</span> <span style=\"background-color: white; border-radius:5px; padding:2px; display: inline-block;\">pulsantur</span> <span style=\"background-color: white; border-radius:5px; padding:2px; display: inline-block;\">infamiis</span> <span style=\"background-color: white; border-radius:5px; padding:2px; display: inline-block;\">.</span></p>"
      ],
      "text/plain": [
       "<IPython.core.display.HTML object>"
      ]
     },
     "metadata": {},
     "output_type": "display_data"
    },
    {
     "data": {
      "text/html": [
       "<p><b style=\"text-decoration: line-through;;\">negative</b> -> <span style=\"background-color: white; border-radius:5px; padding:2px; display: inline-block;\">quod</span> <span style=\"background-color: white; border-radius:5px; padding:2px; display: inline-block;\">tantum</span> <span style=\"background-color: white; border-radius:5px; padding:2px; display: inline-block;\">aliquando</span> <span style=\"background-color: white; border-radius:5px; padding:2px; display: inline-block;\">ualuit</span> <span style=\"background-color: white; border-radius:5px; padding:2px; display: inline-block;\">apud</span> <span style=\"background-color: white; border-radius:5px; padding:2px; display: inline-block;\">Grae</span> <span style=\"background-color: white; border-radius:5px; padding:2px; display: inline-block;\">\"</span> <span style=\"background-color: white; border-radius:5px; padding:2px; display: inline-block;\">,</span> <span style=\"background-color: white; border-radius:5px; padding:2px; display: inline-block;\">cos</span> <span style=\"background-color: white; border-radius:5px; padding:2px; display: inline-block;\">,</span> <span style=\"background-color: white; border-radius:5px; padding:2px; display: inline-block;\">ut</span> <span style=\"background-color: #fcfcfc; border-radius:5px; padding:2px; display: inline-block;\">etiam</span> <span style=\"background-color: white; border-radius:5px; padding:2px; display: inline-block;\">diis</span> <span style=\"background-color: white; border-radius:5px; padding:2px; display: inline-block;\">suis</span> <span style=\"background-color: #fafafa; border-radius:5px; padding:2px; display: inline-block;\">masculorum</span> <span style=\"background-color: #f8f7f7; border-radius:5px; padding:2px; display: inline-block;\">concubitum</span> <span style=\"background-color: #fcfcfc; border-radius:5px; padding:2px; display: inline-block;\">applicarent</span> <span style=\"background-color: white; border-radius:5px; padding:2px; display: inline-block;\">.</span> <span style=\"background-color: #fafafa; border-radius:5px; padding:2px; display: inline-block;\">itaque</span> <span style=\"background-color: #fafafa; border-radius:5px; padding:2px; display: inline-block;\">denique</span> <span style=\"background-color: #f8f7f7; border-radius:5px; padding:2px; display: inline-block;\">germanorum</span> <span style=\"background-color: #fafafa; border-radius:5px; padding:2px; display: inline-block;\">nuptias</span> <span style=\"background-color: #fafafa; border-radius:5px; padding:2px; display: inline-block;\">rettulerunt</span> <span style=\"background-color: #fcfcfc; border-radius:5px; padding:2px; display: inline-block;\">,</span> <span style=\"background-color: #fafafa; border-radius:5px; padding:2px; display: inline-block;\">huiusmodi</span> <span style=\"background-color: #f1eded; border-radius:5px; padding:2px; display: inline-block;\">satisfactionem</span> <span style=\"background-color: white; border-radius:5px; padding:2px; display: inline-block;\">rerum</span> <span style=\"background-color: #fafafa; border-radius:5px; padding:2px; display: inline-block;\">incongruarum</span> <span style=\"background-color: #f8f7f7; border-radius:5px; padding:2px; display: inline-block;\">et</span> <span style=\"background-color: #fcfcfc; border-radius:5px; padding:2px; display: inline-block;\">extra</span> <span style=\"background-color: white; border-radius:5px; padding:2px; display: inline-block;\">naturam</span> <span style=\"background-color: white; border-radius:5px; padding:2px; display: inline-block;\">pro</span> <span style=\"background-color: #f8f7f7; border-radius:5px; padding:2px; display: inline-block;\">libidine</span> <span style=\"background-color: white; border-radius:5px; padding:2px; display: inline-block;\">componentes</span> <span style=\"background-color: white; border-radius:5px; padding:2px; display: inline-block;\">.</span></p>"
      ],
      "text/plain": [
       "<IPython.core.display.HTML object>"
      ]
     },
     "metadata": {},
     "output_type": "display_data"
    },
    {
     "data": {
      "text/html": [
       "<p><b style=\"text-decoration: line-through;;\">negative</b> -> <span style=\"background-color: #ece3e3; border-radius:5px; padding:2px; display: inline-block;\">nec</span> <span style=\"background-color: #f1eded; border-radius:5px; padding:2px; display: inline-block;\">ista</span> <span style=\"background-color: #e7d8d8; border-radius:5px; padding:2px; display: inline-block;\">tamen</span> <span style=\"background-color: #eae0e0; border-radius:5px; padding:2px; display: inline-block;\">facientes</span> <span style=\"background-color: #e08d8d; border-radius:5px; padding:2px; display: inline-block;\">ferocitatem</span> <span style=\"background-color: #f3f1f1; border-radius:5px; padding:2px; display: inline-block;\">eius</span> <span style=\"background-color: #f5f4f4; border-radius:5px; padding:2px; display: inline-block;\">pectoris</span> <span style=\"background-color: #f3f1f1; border-radius:5px; padding:2px; display: inline-block;\">mitigare</span> <span style=\"background-color: #fafafa; border-radius:5px; padding:2px; display: inline-block;\">potuerunt</span></p>"
      ],
      "text/plain": [
       "<IPython.core.display.HTML object>"
      ]
     },
     "metadata": {},
     "output_type": "display_data"
    },
    {
     "data": {
      "text/html": [
       "<p><b style=\"text-decoration: line-through;;\">negative</b> -> <span style=\"background-color: #e9dcdc; border-radius:5px; padding:2px; display: inline-block;\">Feminea</span> <span style=\"background-color: #f5f4f4; border-radius:5px; padding:2px; display: inline-block;\">vestri</span> <span style=\"background-color: #e6d4d4; border-radius:5px; padding:2px; display: inline-block;\">poliuntur</span> <span style=\"background-color: #fcfcfc; border-radius:5px; padding:2px; display: inline-block;\">lege</span> <span style=\"background-color: #f8f7f7; border-radius:5px; padding:2px; display: inline-block;\">mariti</span> <span style=\"background-color: #fcfcfc; border-radius:5px; padding:2px; display: inline-block;\">,</span> <span style=\"background-color: #f8f7f7; border-radius:5px; padding:2px; display: inline-block;\">Et</span> <span style=\"background-color: #f8f7f7; border-radius:5px; padding:2px; display: inline-block;\">vix</span> <span style=\"background-color: #f3f1f1; border-radius:5px; padding:2px; display: inline-block;\">ad</span> <span style=\"background-color: #f1eded; border-radius:5px; padding:2px; display: inline-block;\">cultus</span> <span style=\"background-color: #eee7e7; border-radius:5px; padding:2px; display: inline-block;\">nupta</span> <span style=\"background-color: #fcfcfc; border-radius:5px; padding:2px; display: inline-block;\">,</span> <span style=\"background-color: #fcfcfc; border-radius:5px; padding:2px; display: inline-block;\">quod</span> <span style=\"background-color: #fcfcfc; border-radius:5px; padding:2px; display: inline-block;\">addat</span> <span style=\"background-color: white; border-radius:5px; padding:2px; display: inline-block;\">,</span> <span style=\"background-color: #fafafa; border-radius:5px; padding:2px; display: inline-block;\">habet</span> <span style=\"background-color: #fafafa; border-radius:5px; padding:2px; display: inline-block;\">.</span></p>"
      ],
      "text/plain": [
       "<IPython.core.display.HTML object>"
      ]
     },
     "metadata": {},
     "output_type": "display_data"
    },
    {
     "data": {
      "text/html": [
       "<p><b style=\"text-decoration: line-through;;\">negative</b> -> <span style=\"background-color: white; border-radius:5px; padding:2px; display: inline-block;\">saepe</span> <span style=\"background-color: white; border-radius:5px; padding:2px; display: inline-block;\">,</span> <span style=\"background-color: white; border-radius:5px; padding:2px; display: inline-block;\">cum</span> <span style=\"background-color: white; border-radius:5px; padding:2px; display: inline-block;\">aliquem</span> <span style=\"background-color: white; border-radius:5px; padding:2px; display: inline-block;\">offensum</span> <span style=\"background-color: white; border-radius:5px; padding:2px; display: inline-block;\">fortunae</span> <span style=\"background-color: #fafafa; border-radius:5px; padding:2px; display: inline-block;\">videret</span> <span style=\"background-color: #fafafa; border-radius:5px; padding:2px; display: inline-block;\">minus</span> <span style=\"background-color: #f8f7f7; border-radius:5px; padding:2px; display: inline-block;\">bene</span> <span style=\"background-color: #e7d8d8; border-radius:5px; padding:2px; display: inline-block;\">vestitum</span> <span style=\"background-color: #f5f4f4; border-radius:5px; padding:2px; display: inline-block;\">,</span> <span style=\"background-color: #e9dcdc; border-radius:5px; padding:2px; display: inline-block;\">suum</span> <span style=\"background-color: #df9797; border-radius:5px; padding:2px; display: inline-block;\">amiculum</span> <span style=\"background-color: #efeaea; border-radius:5px; padding:2px; display: inline-block;\">dedit</span> <span style=\"background-color: #f3f1f1; border-radius:5px; padding:2px; display: inline-block;\">.</span></p>"
      ],
      "text/plain": [
       "<IPython.core.display.HTML object>"
      ]
     },
     "metadata": {},
     "output_type": "display_data"
    },
    {
     "data": {
      "text/html": [
       "<p><b style=\"text-decoration: line-through;;\">negative</b> -> <span style=\"background-color: white; border-radius:5px; padding:2px; display: inline-block;\">hoc</span> <span style=\"background-color: white; border-radius:5px; padding:2px; display: inline-block;\">est</span> <span style=\"background-color: white; border-radius:5px; padding:2px; display: inline-block;\">,</span> <span style=\"background-color: #fcfcfc; border-radius:5px; padding:2px; display: inline-block;\">quod</span> <span style=\"background-color: #fafafa; border-radius:5px; padding:2px; display: inline-block;\">possum</span> <span style=\"background-color: #f8f7f7; border-radius:5px; padding:2px; display: inline-block;\">Geticis</span> <span style=\"background-color: #fafafa; border-radius:5px; padding:2px; display: inline-block;\">tibi</span> <span style=\"background-color: #e7d8d8; border-radius:5px; padding:2px; display: inline-block;\">mittere</span> <span style=\"background-color: #f1eded; border-radius:5px; padding:2px; display: inline-block;\">ab</span> <span style=\"background-color: #e3c8c8; border-radius:5px; padding:2px; display: inline-block;\">arvis</span> <span style=\"background-color: #fcfcfc; border-radius:5px; padding:2px; display: inline-block;\">hoc</span> <span style=\"background-color: #fafafa; border-radius:5px; padding:2px; display: inline-block;\">solum</span> <span style=\"background-color: #fcfcfc; border-radius:5px; padding:2px; display: inline-block;\">est</span> <span style=\"background-color: #fafafa; border-radius:5px; padding:2px; display: inline-block;\">istic</span> <span style=\"background-color: #f8f7f7; border-radius:5px; padding:2px; display: inline-block;\">quod</span> <span style=\"background-color: #f8f7f7; border-radius:5px; padding:2px; display: inline-block;\">licet</span> <span style=\"background-color: #f8f7f7; border-radius:5px; padding:2px; display: inline-block;\">esse</span> <span style=\"background-color: #f8f7f7; border-radius:5px; padding:2px; display: inline-block;\">meum</span> <span style=\"background-color: #f8f7f7; border-radius:5px; padding:2px; display: inline-block;\">.</span></p>"
      ],
      "text/plain": [
       "<IPython.core.display.HTML object>"
      ]
     },
     "metadata": {},
     "output_type": "display_data"
    },
    {
     "data": {
      "text/html": [
       "<p><b style=\"text-decoration: line-through;;\">negative</b> -> <span style=\"background-color: #e1bfbf; border-radius:5px; padding:2px; display: inline-block;\">Matris</span> <span style=\"background-color: #e17b7b; border-radius:5px; padding:2px; display: inline-block;\">adhuc</span> <span style=\"background-color: #e27575; border-radius:5px; padding:2px; display: inline-block;\">utero</span> <span style=\"background-color: #f1eded; border-radius:5px; padding:2px; display: inline-block;\">partu</span> <span style=\"background-color: white; border-radius:5px; padding:2px; display: inline-block;\">remorante</span> <span style=\"background-color: white; border-radius:5px; padding:2px; display: inline-block;\">tenebar</span> <span style=\"background-color: #fcfcfc; border-radius:5px; padding:2px; display: inline-block;\">;</span></p>"
      ],
      "text/plain": [
       "<IPython.core.display.HTML object>"
      ]
     },
     "metadata": {},
     "output_type": "display_data"
    },
    {
     "data": {
      "text/html": [
       "<p><b style=\"text-decoration: line-through;;\">negative</b> -> <span style=\"background-color: #fcfcfc; border-radius:5px; padding:2px; display: inline-block;\">uerumtamen</span> <span style=\"background-color: white; border-radius:5px; padding:2px; display: inline-block;\">quid</span> <span style=\"background-color: #fcfcfc; border-radius:5px; padding:2px; display: inline-block;\">si</span> <span style=\"background-color: #fafafa; border-radius:5px; padding:2px; display: inline-block;\">et</span> <span style=\"background-color: #fafafa; border-radius:5px; padding:2px; display: inline-block;\">ille</span> <span style=\"background-color: #f3f1f1; border-radius:5px; padding:2px; display: inline-block;\">usus</span> <span style=\"background-color: #f8f7f7; border-radius:5px; padding:2px; display: inline-block;\">contra</span> <span style=\"background-color: #fcfcfc; border-radius:5px; padding:2px; display: inline-block;\">naturam</span> <span style=\"background-color: #fcfcfc; border-radius:5px; padding:2px; display: inline-block;\">forsitan</span> <span style=\"background-color: #fcfcfc; border-radius:5px; padding:2px; display: inline-block;\">delectaret</span> <span style=\"background-color: #fcfcfc; border-radius:5px; padding:2px; display: inline-block;\">,</span> <span style=\"background-color: white; border-radius:5px; padding:2px; display: inline-block;\">quid</span> <span style=\"background-color: #fcfcfc; border-radius:5px; padding:2px; display: inline-block;\">si</span> <span style=\"background-color: #fafafa; border-radius:5px; padding:2px; display: inline-block;\">et</span> <span style=\"background-color: #fcfcfc; border-radius:5px; padding:2px; display: inline-block;\">in</span> <span style=\"background-color: #fcfcfc; border-radius:5px; padding:2px; display: inline-block;\">hanc</span> <span style=\"background-color: #f8f7f7; border-radius:5px; padding:2px; display: inline-block;\">uoluptatem</span> <span style=\"background-color: #f5f4f4; border-radius:5px; padding:2px; display: inline-block;\">laudabilis</span> <span style=\"background-color: #f5f4f4; border-radius:5px; padding:2px; display: inline-block;\">illa</span> <span style=\"background-color: #eae0e0; border-radius:5px; padding:2px; display: inline-block;\">libido</span> <span style=\"background-color: #ece3e3; border-radius:5px; padding:2px; display: inline-block;\">adhinniret</span> <span style=\"background-color: #fafafa; border-radius:5px; padding:2px; display: inline-block;\">?</span></p>"
      ],
      "text/plain": [
       "<IPython.core.display.HTML object>"
      ]
     },
     "metadata": {},
     "output_type": "display_data"
    },
    {
     "data": {
      "text/html": [
       "<p><b style=\"text-decoration: line-through;;\">negative</b> -> <span style=\"background-color: #fafafa; border-radius:5px; padding:2px; display: inline-block;\">Pro</span> <span style=\"background-color: #f5f4f4; border-radius:5px; padding:2px; display: inline-block;\">quibus</span> <span style=\"background-color: #fafafa; border-radius:5px; padding:2px; display: inline-block;\">officiis</span> <span style=\"background-color: #f5f4f4; border-radius:5px; padding:2px; display: inline-block;\">pretium</span> <span style=\"background-color: #fafafa; border-radius:5px; padding:2px; display: inline-block;\">mihi</span> <span style=\"background-color: #f8f7f7; border-radius:5px; padding:2px; display: inline-block;\">dulce</span> <span style=\"background-color: #f3f1f1; border-radius:5px; padding:2px; display: inline-block;\">repende</span> <span style=\"background-color: #eae0e0; border-radius:5px; padding:2px; display: inline-block;\">Concubitus</span> <span style=\"background-color: #f8f7f7; border-radius:5px; padding:2px; display: inline-block;\">hodie</span> <span style=\"background-color: #f5f4f4; border-radius:5px; padding:2px; display: inline-block;\">,</span> <span style=\"background-color: #e9dcdc; border-radius:5px; padding:2px; display: inline-block;\">fusca</span> <span style=\"background-color: #eae0e0; border-radius:5px; padding:2px; display: inline-block;\">Cypassi</span> <span style=\"background-color: #f8f7f7; border-radius:5px; padding:2px; display: inline-block;\">,</span> <span style=\"background-color: #f5f4f4; border-radius:5px; padding:2px; display: inline-block;\">tuos</span> <span style=\"background-color: #fcfcfc; border-radius:5px; padding:2px; display: inline-block;\">!</span></p>"
      ],
      "text/plain": [
       "<IPython.core.display.HTML object>"
      ]
     },
     "metadata": {},
     "output_type": "display_data"
    },
    {
     "data": {
      "text/html": [
       "<p><b style=\"text-decoration: line-through;;\">negative</b> -> <span style=\"background-color: #ece3e3; border-radius:5px; padding:2px; display: inline-block;\">quod</span> <span style=\"background-color: #eae0e0; border-radius:5px; padding:2px; display: inline-block;\">ubi</span> <span style=\"background-color: #eae0e0; border-radius:5px; padding:2px; display: inline-block;\">puellae</span> <span style=\"background-color: #f3f1f1; border-radius:5px; padding:2px; display: inline-block;\">pater</span> <span style=\"background-color: #f5f4f4; border-radius:5px; padding:2px; display: inline-block;\">conperit</span> <span style=\"background-color: #f5f4f4; border-radius:5px; padding:2px; display: inline-block;\">,</span> <span style=\"background-color: #e9dcdc; border-radius:5px; padding:2px; display: inline-block;\">cucurrit</span> <span style=\"background-color: #e9dcdc; border-radius:5px; padding:2px; display: inline-block;\">exanimis</span> <span style=\"background-color: #f5f4f4; border-radius:5px; padding:2px; display: inline-block;\">pro</span> <span style=\"background-color: #f5f4f4; border-radius:5px; padding:2px; display: inline-block;\">filia</span> <span style=\"background-color: #fcfcfc; border-radius:5px; padding:2px; display: inline-block;\">rogaturus</span> <span style=\"background-color: #f8f7f7; border-radius:5px; padding:2px; display: inline-block;\">.</span></p>"
      ],
      "text/plain": [
       "<IPython.core.display.HTML object>"
      ]
     },
     "metadata": {},
     "output_type": "display_data"
    },
    {
     "data": {
      "text/html": [
       "<p><b style=\"text-decoration: line-through;;\">negative</b> -> <span style=\"background-color: white; border-radius:5px; padding:2px; display: inline-block;\">habeo</span> <span style=\"background-color: white; border-radius:5px; padding:2px; display: inline-block;\">filiam</span> <span style=\"background-color: white; border-radius:5px; padding:2px; display: inline-block;\">virginem</span> <span style=\"background-color: white; border-radius:5px; padding:2px; display: inline-block;\">et</span> <span style=\"background-color: white; border-radius:5px; padding:2px; display: inline-block;\">hic</span> <span style=\"background-color: white; border-radius:5px; padding:2px; display: inline-block;\">homo</span> <span style=\"background-color: white; border-radius:5px; padding:2px; display: inline-block;\">habet</span> <span style=\"background-color: white; border-radius:5px; padding:2px; display: inline-block;\">concubinam</span> <span style=\"background-color: #f5f4f4; border-radius:5px; padding:2px; display: inline-block;\">educam</span> <span style=\"background-color: #fcfcfc; border-radius:5px; padding:2px; display: inline-block;\">eas</span> <span style=\"background-color: #fcfcfc; border-radius:5px; padding:2px; display: inline-block;\">ad</span> <span style=\"background-color: white; border-radius:5px; padding:2px; display: inline-block;\">vos</span> <span style=\"background-color: white; border-radius:5px; padding:2px; display: inline-block;\">ut</span> <span style=\"background-color: #f3f1f1; border-radius:5px; padding:2px; display: inline-block;\">humilietis</span> <span style=\"background-color: #f5f4f4; border-radius:5px; padding:2px; display: inline-block;\">eas</span> <span style=\"background-color: #f3f1f1; border-radius:5px; padding:2px; display: inline-block;\">et</span> <span style=\"background-color: #f1eded; border-radius:5px; padding:2px; display: inline-block;\">vestram</span> <span style=\"background-color: #f3f1f1; border-radius:5px; padding:2px; display: inline-block;\">libidinem</span> <span style=\"background-color: #f1eded; border-radius:5px; padding:2px; display: inline-block;\">conpleatis</span> <span style=\"background-color: #f5f4f4; border-radius:5px; padding:2px; display: inline-block;\">tantum</span> <span style=\"background-color: #f8f7f7; border-radius:5px; padding:2px; display: inline-block;\">obsecro</span> <span style=\"background-color: #f8f7f7; border-radius:5px; padding:2px; display: inline-block;\">ne</span> <span style=\"background-color: #fcfcfc; border-radius:5px; padding:2px; display: inline-block;\">scelus</span> <span style=\"background-color: white; border-radius:5px; padding:2px; display: inline-block;\">hoc</span> <span style=\"background-color: #fcfcfc; border-radius:5px; padding:2px; display: inline-block;\">contra</span> <span style=\"background-color: white; border-radius:5px; padding:2px; display: inline-block;\">naturam</span> <span style=\"background-color: white; border-radius:5px; padding:2px; display: inline-block;\">operemini</span> <span style=\"background-color: white; border-radius:5px; padding:2px; display: inline-block;\">in</span> <span style=\"background-color: white; border-radius:5px; padding:2px; display: inline-block;\">virum</span></p>"
      ],
      "text/plain": [
       "<IPython.core.display.HTML object>"
      ]
     },
     "metadata": {},
     "output_type": "display_data"
    },
    {
     "data": {
      "text/html": [
       "<p><b style=\"text-decoration: line-through;;\">negative</b> -> <span style=\"background-color: #f8f7f7; border-radius:5px; padding:2px; display: inline-block;\">Tum</span> <span style=\"background-color: #fafafa; border-radius:5px; padding:2px; display: inline-block;\">illa</span> <span style=\"background-color: #fafafa; border-radius:5px; padding:2px; display: inline-block;\">,</span> <span style=\"background-color: #f3f1f1; border-radius:5px; padding:2px; display: inline-block;\">ut</span> <span style=\"background-color: #eee7e7; border-radius:5px; padding:2px; display: inline-block;\">consuetum</span> <span style=\"background-color: #eee7e7; border-radius:5px; padding:2px; display: inline-block;\">facile</span> <span style=\"background-color: #e5d0d0; border-radius:5px; padding:2px; display: inline-block;\">amorem</span> <span style=\"background-color: #fcfcfc; border-radius:5px; padding:2px; display: inline-block;\">cerneres</span> <span style=\"background-color: white; border-radius:5px; padding:2px; display: inline-block;\">,</span> <span style=\"background-color: #fcfcfc; border-radius:5px; padding:2px; display: inline-block;\">Reiecit</span> <span style=\"background-color: #fcfcfc; border-radius:5px; padding:2px; display: inline-block;\">se</span> <span style=\"background-color: #fafafa; border-radius:5px; padding:2px; display: inline-block;\">in</span> <span style=\"background-color: #fafafa; border-radius:5px; padding:2px; display: inline-block;\">eum</span> <span style=\"background-color: #f5f4f4; border-radius:5px; padding:2px; display: inline-block;\">flens</span> <span style=\"background-color: #f3f1f1; border-radius:5px; padding:2px; display: inline-block;\">quam</span> <span style=\"background-color: #f5f4f4; border-radius:5px; padding:2px; display: inline-block;\">familiariter</span> <span style=\"background-color: #f3f1f1; border-radius:5px; padding:2px; display: inline-block;\">.</span></p>"
      ],
      "text/plain": [
       "<IPython.core.display.HTML object>"
      ]
     },
     "metadata": {},
     "output_type": "display_data"
    },
    {
     "data": {
      "text/html": [
       "<p><b style=\"text-decoration: line-through;;\">negative</b> -> <span style=\"background-color: #f8f7f7; border-radius:5px; padding:2px; display: inline-block;\">nam</span> <span style=\"background-color: #f3f1f1; border-radius:5px; padding:2px; display: inline-block;\">memini</span> <span style=\"background-color: #f1eded; border-radius:5px; padding:2px; display: inline-block;\">iuuenis</span> <span style=\"background-color: #fafafa; border-radius:5px; padding:2px; display: inline-block;\">admodum</span> <span style=\"background-color: #fafafa; border-radius:5px; padding:2px; display: inline-block;\">inter</span> <span style=\"background-color: #f3f1f1; border-radius:5px; padding:2px; display: inline-block;\">Pomponium</span> <span style=\"background-color: #f8f7f7; border-radius:5px; padding:2px; display: inline-block;\">ac</span> <span style=\"background-color: #f8f7f7; border-radius:5px; padding:2px; display: inline-block;\">Senecam</span> <span style=\"background-color: #fcfcfc; border-radius:5px; padding:2px; display: inline-block;\">etiam</span> <span style=\"background-color: #fcfcfc; border-radius:5px; padding:2px; display: inline-block;\">praefationibus</span> <span style=\"background-color: white; border-radius:5px; padding:2px; display: inline-block;\">esse</span> <span style=\"background-color: #fafafa; border-radius:5px; padding:2px; display: inline-block;\">tractatum</span> <span style=\"background-color: #fafafa; border-radius:5px; padding:2px; display: inline-block;\">an</span> <span style=\"background-color: #fafafa; border-radius:5px; padding:2px; display: inline-block;\">\"</span> <span style=\"background-color: white; border-radius:5px; padding:2px; display: inline-block;\">gradus</span> <span style=\"background-color: #f1eded; border-radius:5px; padding:2px; display: inline-block;\">eliminat</span> <span style=\"background-color: #fcfcfc; border-radius:5px; padding:2px; display: inline-block;\">\"</span> <span style=\"background-color: #fcfcfc; border-radius:5px; padding:2px; display: inline-block;\">in</span> <span style=\"background-color: #f3f1f1; border-radius:5px; padding:2px; display: inline-block;\">tragoedia</span> <span style=\"background-color: #fcfcfc; border-radius:5px; padding:2px; display: inline-block;\">dici</span> <span style=\"background-color: #fcfcfc; border-radius:5px; padding:2px; display: inline-block;\">oportuisset</span> <span style=\"background-color: #fafafa; border-radius:5px; padding:2px; display: inline-block;\">.</span></p>"
      ],
      "text/plain": [
       "<IPython.core.display.HTML object>"
      ]
     },
     "metadata": {},
     "output_type": "display_data"
    },
    {
     "data": {
      "text/html": [
       "<p><b style=\"text-decoration: line-through;;\">negative</b> -> <span style=\"background-color: #f8f7f7; border-radius:5px; padding:2px; display: inline-block;\">spectas</span> <span style=\"background-color: #fafafa; border-radius:5px; padding:2px; display: inline-block;\">me</span> <span style=\"background-color: #fafafa; border-radius:5px; padding:2px; display: inline-block;\">tamen</span> <span style=\"background-color: #f8f7f7; border-radius:5px; padding:2px; display: inline-block;\">et</span> <span style=\"background-color: #f8f7f7; border-radius:5px; padding:2px; display: inline-block;\">subinde</span> <span style=\"background-color: #eee7e7; border-radius:5px; padding:2px; display: inline-block;\">rides</span> <span style=\"background-color: #e9dcdc; border-radius:5px; padding:2px; display: inline-block;\">:</span> <span style=\"background-color: #e5d0d0; border-radius:5px; padding:2px; display: inline-block;\">nimirum</span> <span style=\"background-color: #efeaea; border-radius:5px; padding:2px; display: inline-block;\">tibi</span> <span style=\"background-color: #f5f4f4; border-radius:5px; padding:2px; display: inline-block;\">salsa</span> <span style=\"background-color: #fcfcfc; border-radius:5px; padding:2px; display: inline-block;\">res</span> <span style=\"background-color: #fcfcfc; border-radius:5px; padding:2px; display: inline-block;\">uidetur</span> <span style=\"background-color: #f8f7f7; border-radius:5px; padding:2px; display: inline-block;\">adstans</span> <span style=\"background-color: #f3f1f1; border-radius:5px; padding:2px; display: inline-block;\">inguinibus</span> <span style=\"background-color: white; border-radius:5px; padding:2px; display: inline-block;\">columna</span> <span style=\"background-color: white; border-radius:5px; padding:2px; display: inline-block;\">nostris</span> <span style=\"background-color: #fcfcfc; border-radius:5px; padding:2px; display: inline-block;\">.</span></p>"
      ],
      "text/plain": [
       "<IPython.core.display.HTML object>"
      ]
     },
     "metadata": {},
     "output_type": "display_data"
    },
    {
     "data": {
      "text/html": [
       "<p><b style=\"text-decoration: line-through;;\">negative</b> -> <span style=\"background-color: #e6d4d4; border-radius:5px; padding:2px; display: inline-block;\">praecidensque</span> <span style=\"background-color: #f3f1f1; border-radius:5px; padding:2px; display: inline-block;\">-que</span> <span style=\"background-color: #fafafa; border-radius:5px; padding:2px; display: inline-block;\">moras</span> <span style=\"background-color: #f8f7f7; border-radius:5px; padding:2px; display: inline-block;\">:</span> <span style=\"background-color: #fafafa; border-radius:5px; padding:2px; display: inline-block;\">\"</span> <span style=\"background-color: #fafafa; border-radius:5px; padding:2px; display: inline-block;\">nunc</span> <span style=\"background-color: #f8f7f7; border-radius:5px; padding:2px; display: inline-block;\">mecum</span> <span style=\"background-color: #f8f7f7; border-radius:5px; padding:2px; display: inline-block;\">-cum</span> <span style=\"background-color: #f8f7f7; border-radius:5px; padding:2px; display: inline-block;\">,</span> <span style=\"background-color: #eee7e7; border-radius:5px; padding:2px; display: inline-block;\">Epidauria</span> <span style=\"background-color: #f8f7f7; border-radius:5px; padding:2px; display: inline-block;\">proles</span> <span style=\"background-color: white; border-radius:5px; padding:2px; display: inline-block;\">,</span> <span style=\"background-color: white; border-radius:5px; padding:2px; display: inline-block;\">hinc</span> <span style=\"background-color: white; border-radius:5px; padding:2px; display: inline-block;\">\"</span> <span style=\"background-color: white; border-radius:5px; padding:2px; display: inline-block;\">ait</span> <span style=\"background-color: white; border-radius:5px; padding:2px; display: inline-block;\">\"</span> <span style=\"background-color: #fcfcfc; border-radius:5px; padding:2px; display: inline-block;\">i</span> <span style=\"background-color: #fcfcfc; border-radius:5px; padding:2px; display: inline-block;\">gaudens</span> <span style=\"background-color: #fcfcfc; border-radius:5px; padding:2px; display: inline-block;\">:</span> <span style=\"background-color: #fcfcfc; border-radius:5px; padding:2px; display: inline-block;\">datur</span> <span style=\"background-color: white; border-radius:5px; padding:2px; display: inline-block;\">aggredienda</span> <span style=\"background-color: #fcfcfc; border-radius:5px; padding:2px; display: inline-block;\">facultas</span> <span style=\"background-color: #f8f7f7; border-radius:5px; padding:2px; display: inline-block;\">!</span></p>"
      ],
      "text/plain": [
       "<IPython.core.display.HTML object>"
      ]
     },
     "metadata": {},
     "output_type": "display_data"
    },
    {
     "data": {
      "text/html": [
       "<p><b style=\"text-decoration: line-through;;\">negative</b> -> <span style=\"background-color: #fcfcfc; border-radius:5px; padding:2px; display: inline-block;\">nam</span> <span style=\"background-color: #f8f7f7; border-radius:5px; padding:2px; display: inline-block;\">aviaria</span> <span style=\"background-color: #fcfcfc; border-radius:5px; padding:2px; display: inline-block;\">instituerat</span> <span style=\"background-color: #fcfcfc; border-radius:5px; padding:2px; display: inline-block;\">pavonum</span> <span style=\"background-color: white; border-radius:5px; padding:2px; display: inline-block;\">,</span> <span style=\"background-color: #fafafa; border-radius:5px; padding:2px; display: inline-block;\">phasianorum</span> <span style=\"background-color: #fcfcfc; border-radius:5px; padding:2px; display: inline-block;\">,</span> <span style=\"background-color: #fafafa; border-radius:5px; padding:2px; display: inline-block;\">gallinaceorum</span> <span style=\"background-color: white; border-radius:5px; padding:2px; display: inline-block;\">,</span> <span style=\"background-color: #f3f1f1; border-radius:5px; padding:2px; display: inline-block;\">anatum</span> <span style=\"background-color: white; border-radius:5px; padding:2px; display: inline-block;\">,</span> <span style=\"background-color: #f1eded; border-radius:5px; padding:2px; display: inline-block;\">perdicum</span> <span style=\"background-color: white; border-radius:5px; padding:2px; display: inline-block;\">etiam</span> <span style=\"background-color: white; border-radius:5px; padding:2px; display: inline-block;\">,</span> <span style=\"background-color: white; border-radius:5px; padding:2px; display: inline-block;\">hisque</span> <span style=\"background-color: white; border-radius:5px; padding:2px; display: inline-block;\">-que</span> <span style=\"background-color: white; border-radius:5px; padding:2px; display: inline-block;\">vehementer</span> <span style=\"background-color: white; border-radius:5px; padding:2px; display: inline-block;\">oblectabatur</span> <span style=\"background-color: white; border-radius:5px; padding:2px; display: inline-block;\">,</span> <span style=\"background-color: white; border-radius:5px; padding:2px; display: inline-block;\">maxime</span> <span style=\"background-color: white; border-radius:5px; padding:2px; display: inline-block;\">palumborum</span> <span style=\"background-color: white; border-radius:5px; padding:2px; display: inline-block;\">,</span> <span style=\"background-color: white; border-radius:5px; padding:2px; display: inline-block;\">quos</span> <span style=\"background-color: white; border-radius:5px; padding:2px; display: inline-block;\">habuisse</span> <span style=\"background-color: white; border-radius:5px; padding:2px; display: inline-block;\">ut</span> <span style=\"background-color: white; border-radius:5px; padding:2px; display: inline-block;\">ad</span> <span style=\"background-color: #fcfcfc; border-radius:5px; padding:2px; display: inline-block;\">xx</span> <span style=\"background-color: #fcfcfc; border-radius:5px; padding:2px; display: inline-block;\">milia</span> <span style=\"background-color: white; border-radius:5px; padding:2px; display: inline-block;\">dicitur</span> <span style=\"background-color: white; border-radius:5px; padding:2px; display: inline-block;\">,</span> <span style=\"background-color: white; border-radius:5px; padding:2px; display: inline-block;\">et</span> <span style=\"background-color: white; border-radius:5px; padding:2px; display: inline-block;\">ne</span> <span style=\"background-color: white; border-radius:5px; padding:2px; display: inline-block;\">eorum</span> <span style=\"background-color: white; border-radius:5px; padding:2px; display: inline-block;\">pastus</span> <span style=\"background-color: white; border-radius:5px; padding:2px; display: inline-block;\">gravaret</span> <span style=\"background-color: white; border-radius:5px; padding:2px; display: inline-block;\">annonam</span> <span style=\"background-color: white; border-radius:5px; padding:2px; display: inline-block;\">,</span> <span style=\"background-color: white; border-radius:5px; padding:2px; display: inline-block;\">servos</span> <span style=\"background-color: white; border-radius:5px; padding:2px; display: inline-block;\">habuit</span> <span style=\"background-color: white; border-radius:5px; padding:2px; display: inline-block;\">vectigales</span> <span style=\"background-color: white; border-radius:5px; padding:2px; display: inline-block;\">,</span> <span style=\"background-color: white; border-radius:5px; padding:2px; display: inline-block;\">qui</span> <span style=\"background-color: white; border-radius:5px; padding:2px; display: inline-block;\">eos</span> <span style=\"background-color: white; border-radius:5px; padding:2px; display: inline-block;\">ex</span> <span style=\"background-color: #fcfcfc; border-radius:5px; padding:2px; display: inline-block;\">ovis</span> <span style=\"background-color: white; border-radius:5px; padding:2px; display: inline-block;\">ac</span> <span style=\"background-color: white; border-radius:5px; padding:2px; display: inline-block;\">pullicenis</span> <span style=\"background-color: white; border-radius:5px; padding:2px; display: inline-block;\">ac</span> <span style=\"background-color: white; border-radius:5px; padding:2px; display: inline-block;\">pipionibus</span> <span style=\"background-color: #fcfcfc; border-radius:5px; padding:2px; display: inline-block;\">alerent</span> <span style=\"background-color: white; border-radius:5px; padding:2px; display: inline-block;\">.</span></p>"
      ],
      "text/plain": [
       "<IPython.core.display.HTML object>"
      ]
     },
     "metadata": {},
     "output_type": "display_data"
    },
    {
     "data": {
      "text/html": [
       "<p><b style=\"text-decoration: line-through;;\">negative</b> -> <span style=\"background-color: white; border-radius:5px; padding:2px; display: inline-block;\">Habes</span> <span style=\"background-color: white; border-radius:5px; padding:2px; display: inline-block;\">summam</span> <span style=\"background-color: white; border-radius:5px; padding:2px; display: inline-block;\">opportunitatem</span> <span style=\"background-color: white; border-radius:5px; padding:2px; display: inline-block;\">fugae</span> <span style=\"background-color: white; border-radius:5px; padding:2px; display: inline-block;\">,</span> <span style=\"background-color: #fcfcfc; border-radius:5px; padding:2px; display: inline-block;\">dum</span> <span style=\"background-color: white; border-radius:5px; padding:2px; display: inline-block;\">latrones</span> <span style=\"background-color: white; border-radius:5px; padding:2px; display: inline-block;\">absunt</span> <span style=\"background-color: #fafafa; border-radius:5px; padding:2px; display: inline-block;\">An</span> <span style=\"background-color: #f8f7f7; border-radius:5px; padding:2px; display: inline-block;\">custodiam</span> <span style=\"background-color: #e4cccc; border-radius:5px; padding:2px; display: inline-block;\">anus</span> <span style=\"background-color: #e5d0d0; border-radius:5px; padding:2px; display: inline-block;\">semimortuae</span> <span style=\"background-color: #f1eded; border-radius:5px; padding:2px; display: inline-block;\">formidabis</span> <span style=\"background-color: #fcfcfc; border-radius:5px; padding:2px; display: inline-block;\">,</span> <span style=\"background-color: #f3f1f1; border-radius:5px; padding:2px; display: inline-block;\">quam</span> <span style=\"background-color: #fafafa; border-radius:5px; padding:2px; display: inline-block;\">licet</span> <span style=\"background-color: #f3f1f1; border-radius:5px; padding:2px; display: inline-block;\">claudi</span> <span style=\"background-color: white; border-radius:5px; padding:2px; display: inline-block;\">pedis</span> <span style=\"background-color: #fcfcfc; border-radius:5px; padding:2px; display: inline-block;\">tui</span> <span style=\"background-color: white; border-radius:5px; padding:2px; display: inline-block;\">calce</span> <span style=\"background-color: white; border-radius:5px; padding:2px; display: inline-block;\">unica</span> <span style=\"background-color: white; border-radius:5px; padding:2px; display: inline-block;\">finire</span> <span style=\"background-color: white; border-radius:5px; padding:2px; display: inline-block;\">poteris</span> <span style=\"background-color: #fcfcfc; border-radius:5px; padding:2px; display: inline-block;\">?</span></p>"
      ],
      "text/plain": [
       "<IPython.core.display.HTML object>"
      ]
     },
     "metadata": {},
     "output_type": "display_data"
    },
    {
     "data": {
      "text/html": [
       "<p><b style=\"text-decoration: line-through;;\">negative</b> -> <span style=\"background-color: #df9797; border-radius:5px; padding:2px; display: inline-block;\">Sara</span> <span style=\"background-color: #df9d9d; border-radius:5px; padding:2px; display: inline-block;\">pepererat</span> <span style=\"background-color: #dfacac; border-radius:5px; padding:2px; display: inline-block;\">utero</span> <span style=\"background-color: #f3f1f1; border-radius:5px; padding:2px; display: inline-block;\">alieno</span> <span style=\"background-color: #fcfcfc; border-radius:5px; padding:2px; display: inline-block;\">,</span> <span style=\"background-color: #fafafa; border-radius:5px; padding:2px; display: inline-block;\">uoto</span> <span style=\"background-color: #fafafa; border-radius:5px; padding:2px; display: inline-block;\">suo</span> <span style=\"background-color: #fafafa; border-radius:5px; padding:2px; display: inline-block;\">.</span></p>"
      ],
      "text/plain": [
       "<IPython.core.display.HTML object>"
      ]
     },
     "metadata": {},
     "output_type": "display_data"
    }
   ],
   "source": [
    "from IPython.core.display import display as _display, HTML  as _HTML\n",
    "data.iloc[0]\n",
    "\n",
    "COLORS = [Color(\"white\")] + list(Color(\"white\").range_to(Color(\"red\"),50))\n",
    "\n",
    "def visualize(sentence, attention, tag=\"p\", colors=None, display=True, label=None, is_right: bool = False,\n",
    "             show_score: bool = False, use_subword=False):\n",
    "    if not colors:\n",
    "        colors = COLORS\n",
    "\n",
    "    # print(attention)\n",
    "    \n",
    "    if use_subword:\n",
    "        sentence = sentence[\"token_subword\"]\n",
    "    else:\n",
    "        sentence = sentence[\"sentence\"]\n",
    "        \n",
    "    html = f\"<{tag}>\"\n",
    "    if label:\n",
    "        html += f\"<b style=\\\"{'text-decoration: line-through;' if not is_right else ''};\\\">{label}</b> -> \"\n",
    "    if show_score:\n",
    "        html += f\"<i>{max(attention):.2f}</i> -> \"\n",
    "    \n",
    "    if attention is not None:\n",
    "        spans = [\n",
    "            f\"<span style=\\\"background-color: {colors[min(max(0, round(s*100) - 1), 50)]}; border-radius:5px; padding:2px; display: inline-block;\\\">{w}</span>\"\n",
    "            for w, s in zip(sentence.split(\" \"), attention.tolist())\n",
    "        ]\n",
    "    else:\n",
    "        spans = [\n",
    "            f\"<span style=\\\"display: inline-block;\\\">{w}</span>\"\n",
    "            for w in sentence.split(\" \")\n",
    "        ]\n",
    "        \n",
    "    html += \" \".join(spans) + f\"</{tag}>\"\n",
    "\n",
    "    if display:\n",
    "        _display(_HTML(html))\n",
    "    return html\n",
    "\n",
    "html = \"<div>\"\n",
    "for idx, row in data.iterrows():\n",
    "    if not(row[\"ok\"] != True and row.prediction != \"negative\"):\n",
    "        continue\n",
    "    html += \"    %s\\n\" % visualize(\n",
    "        row,\n",
    "        row.get(\"attention\") if has_attention else None,\n",
    "        label=row[\"label\"],\n",
    "        is_right=row[\"ok\"],\n",
    "        use_subword=False\n",
    "    )\n",
    "html += \"</div>\"\n",
    "#print(html)"
   ]
  },
  {
   "cell_type": "code",
   "execution_count": null,
   "id": "c9bbf486",
   "metadata": {},
   "outputs": [],
   "source": []
  }
 ],
 "metadata": {
  "kernelspec": {
   "display_name": "Python 3",
   "language": "python",
   "name": "python3"
  },
  "language_info": {
   "codemirror_mode": {
    "name": "ipython",
    "version": 3
   },
   "file_extension": ".py",
   "mimetype": "text/x-python",
   "name": "python",
   "nbconvert_exporter": "python",
   "pygments_lexer": "ipython3",
   "version": "3.8.10"
  },
  "toc": {
   "base_numbering": 1,
   "nav_menu": {},
   "number_sections": true,
   "sideBar": true,
   "skip_h1_title": false,
   "title_cell": "Table of Contents",
   "title_sidebar": "Contents",
   "toc_cell": false,
   "toc_position": {},
   "toc_section_display": true,
   "toc_window_display": false
  }
 },
 "nbformat": 4,
 "nbformat_minor": 5
}
