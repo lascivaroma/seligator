{
 "cells": [
  {
   "cell_type": "markdown",
   "id": "195349bf",
   "metadata": {},
   "source": [
    "# Retrieve content"
   ]
  },
  {
   "cell_type": "code",
   "execution_count": 20,
   "id": "d4da88a8",
   "metadata": {},
   "outputs": [],
   "source": [
    "from collections import namedtuple, Counter\n",
    "import numpy as np\n",
    "\n",
    "Dataset = namedtuple(\"Dataset\", [\"lemmas\", \"forms\"])\n",
    "\n",
    "def get_lemmas(file: str = \"./dataset/main/dev.txt\"):\n",
    "    out = {\n",
    "        \"positive\": Dataset([], []),\n",
    "        \"negative\": Dataset([], [])\n",
    "    }\n",
    "    \n",
    "    with open(file) as f:\n",
    "        for idx, orig_line in enumerate(f):\n",
    "            if idx == 0:\n",
    "                headers = orig_line.strip().split(\"\\t\")[1:]\n",
    "                continue\n",
    "            line = orig_line.split(\"\\t\")\n",
    "            if len(line) != len(headers):\n",
    "                if orig_line.startswith(\"#[TAG]\"):\n",
    "                    cat = orig_line.strip()[6:]\n",
    "                continue\n",
    "            line = dict(zip(headers, line))\n",
    "            out[cat].lemmas.append(line[\"lemma\"])\n",
    "            out[cat].forms.append(line[\"token\"])\n",
    "    return out\n",
    "\n",
    "Global = {\n",
    "    \"positive\": Dataset([], []),\n",
    "    \"negative\": Dataset([], [])\n",
    "}\n",
    "for file in [\"./dataset/main/train.txt\", \"./dataset/main/dev.txt\", \"./dataset/main/test.txt\"]:\n",
    "    current_output = get_lemmas(file)\n",
    "    for key, dataset in current_output.items():\n",
    "        for i in range(len(dataset)):\n",
    "            Global[key][i].extend(dataset[i])"
   ]
  },
  {
   "cell_type": "markdown",
   "id": "4d4093ec",
   "metadata": {},
   "source": [
    "# MLTD and Other metrics function"
   ]
  },
  {
   "cell_type": "code",
   "execution_count": 41,
   "id": "1dbdf045",
   "metadata": {},
   "outputs": [],
   "source": [
    "# from https://github.com/kristopherkyle/lexical_diversity/blob/master/lexical_diversity/lex_div.py\n",
    "\n",
    "\n",
    "def safe_divide(numerator, denominator):\n",
    "    if denominator == 0 or denominator == 0.0:\n",
    "        index = 0\n",
    "    else: index = numerator/denominator\n",
    "    return index\n",
    "\n",
    "\n",
    "def ttr(text):\n",
    "    ntokens = len(text)\n",
    "    ntypes = len(set(text))\n",
    "    \n",
    "    return safe_divide(ntypes,ntokens)\n",
    "\n",
    "def mtld(input, min = 10): #original MTLD described in Jarvis & McCarthy \n",
    "    def mtlder(text):\n",
    "        factor = 0\n",
    "        factor_lengths = 0\n",
    "        start = 0\n",
    "        for x in range(len(text)):\n",
    "            factor_text = text[start:x+1]\n",
    "            if x+1 == len(text):\n",
    "                factor += safe_divide((1 - ttr(factor_text)),(1 - .72))\n",
    "                factor_lengths += len(factor_text)\n",
    "            else:\n",
    "                if ttr(factor_text) < .720 and len(factor_text) >= min:\n",
    "                    factor += 1\n",
    "                    factor_lengths += len(factor_text)\n",
    "                    start = x+1\n",
    "                else:\n",
    "                    continue\n",
    "\n",
    "        mtld = safe_divide(factor_lengths,factor)\n",
    "        return mtld\n",
    "    input_reversed = list(reversed(input))\n",
    "    mtld_full = safe_divide((mtlder(input)+mtlder(input_reversed)),2)\n",
    "    return mtld_full\n",
    "\n",
    "# Our own code\n",
    "def partage(k, j):\n",
    "    return len(set(k).intersection(set(j))) / len(set(k)) * 100\n",
    "\n",
    "def distribution(data):\n",
    "    x = list(Counter(data).values())\n",
    "    return np.std(x)"
   ]
  },
  {
   "cell_type": "markdown",
   "id": "d943b224",
   "metadata": {},
   "source": [
    "## Déviation standard"
   ]
  },
  {
   "cell_type": "code",
   "execution_count": 42,
   "id": "2187677e",
   "metadata": {},
   "outputs": [],
   "source": [
    "positives = {\n",
    "    \"Taille\": len(Global[\"positive\"].forms), \n",
    "    \"Richesse\": len(set(Global[\"positive\"].forms)),\n",
    "    \"MTLD(Lemmes)\": mtld(Global[\"positive\"].lemmas), \n",
    "    \"MTLD(Formes)\": mtld(Global[\"positive\"].forms), \n",
    "    \"Distribution(Lemmes)\": distribution(Global[\"positive\"].lemmas),\n",
    "    \"Distribution(Formes)\": distribution(Global[\"positive\"].forms),\n",
    "    \"Partage(Lemmes)\": partage(Global[\"positive\"].lemmas, Global[\"negative\"].lemmas),\n",
    "    \"Partage(Formes)\": partage(Global[\"positive\"].forms, Global[\"negative\"].forms),\n",
    "}\n",
    "negatives = {\n",
    "    \"Taille\": len(Global[\"negative\"].forms), \n",
    "    \"Richesse\": len(set(Global[\"negative\"].forms)),\n",
    "    \"MTLD(Lemmes)\": mtld(Global[\"negative\"].lemmas), \n",
    "    \"MTLD(Formes)\": mtld(Global[\"negative\"].forms), \n",
    "    \"Distribution(Lemmes)\": distribution(Global[\"negative\"].lemmas),\n",
    "    \"Distribution(Formes)\": distribution(Global[\"negative\"].forms),\n",
    "    \"Partage(Lemmes)\": partage(Global[\"negative\"].lemmas, Global[\"positive\"].lemmas),\n",
    "    \"Partage(Formes)\": partage(Global[\"negative\"].forms, Global[\"positive\"].forms),\n",
    "}"
   ]
  },
  {
   "cell_type": "code",
   "execution_count": 43,
   "id": "95ae4a7c",
   "metadata": {},
   "outputs": [
    {
     "name": "stdout",
     "output_type": "stream",
     "text": [
      "\\begin{tabular}{lrr}\n",
      "\\toprule\n",
      "{} &  Négatifs &  Positifs \\\\\n",
      "\\midrule\n",
      "Taille               & 525220.00 &  44964.00 \\\\\n",
      "Richesse             &  80153.00 &  13305.00 \\\\\n",
      "MTLD(Lemmes)         &    114.70 &    153.90 \\\\\n",
      "MTLD(Formes)         &    286.56 &    384.53 \\\\\n",
      "Distribution(Lemmes) &    393.70 &     62.46 \\\\\n",
      "Distribution(Formes) &    191.22 &     40.69 \\\\\n",
      "Partage(Lemmes)      &     22.39 &     78.12 \\\\\n",
      "Partage(Formes)      &     10.72 &     64.55 \\\\\n",
      "\\bottomrule\n",
      "\\end{tabular}\n",
      "\n"
     ]
    }
   ],
   "source": [
    "from pandas import DataFrame\n",
    "\n",
    "print(DataFrame([negatives, positives], index=[\"Négatifs\", \"Positifs\"]).transpose().to_latex(float_format=lambda x: f\"{x:.2f}\"))"
   ]
  }
 ],
 "metadata": {
  "kernelspec": {
   "display_name": "Python 3",
   "language": "python",
   "name": "python3"
  },
  "language_info": {
   "codemirror_mode": {
    "name": "ipython",
    "version": 3
   },
   "file_extension": ".py",
   "mimetype": "text/x-python",
   "name": "python",
   "nbconvert_exporter": "python",
   "pygments_lexer": "ipython3",
   "version": "3.8.10"
  },
  "toc": {
   "base_numbering": 1,
   "nav_menu": {},
   "number_sections": true,
   "sideBar": true,
   "skip_h1_title": false,
   "title_cell": "Table of Contents",
   "title_sidebar": "Contents",
   "toc_cell": false,
   "toc_position": {},
   "toc_section_display": true,
   "toc_window_display": false
  }
 },
 "nbformat": 4,
 "nbformat_minor": 5
}
