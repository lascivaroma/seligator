{
 "cells": [
  {
   "cell_type": "code",
   "execution_count": 7,
   "id": "123c67cf",
   "metadata": {},
   "outputs": [],
   "source": [
    "from seligator.common.params import MetadataEncoding, Seq2VecEncoderType, BasisVectorConfiguration\n",
    "from seligator.main import train_and_get, Seligator\n",
    "from seligator.common.load_save import load\n",
    "from seligator.prediction.tests import run_tests\n",
    "\n",
    "from seligator.models.siamese import SiameseClassifier\n",
    "from seligator.models.classifier import FeatureEmbeddingClassifier\n",
    "import os\n",
    "import json\n",
    "import logging\n",
    "\n",
    "logger = logging.getLogger()\n",
    "logger.setLevel(logging.WARNING)\n",
    "\n",
    "def get_json_fn(fn):\n",
    "    return f\"dumped-results/{fn}.json\"\n",
    "\n",
    "def already_done(fn):\n",
    "    return os.path.exists(get_json_fn(fn))\n",
    "\n",
    "def save_json(fn, obj):\n",
    "    with open(get_json_fn(fn), \"w\") as f:\n",
    "        json.dump(obj, f)\n",
    "\n",
    "\n",
    "# Run tests on Vectors Categories\n",
    "def get_kwargs():\n",
    "    METADATA_CATS = (\"Century\", \"Textgroup\", \"WrittenType\", \"CitationTypes\")\n",
    "    BVC = BasisVectorConfiguration(\n",
    "        categories=METADATA_CATS\n",
    "    )\n",
    "    return dict(\n",
    "        token_features=(\"lemma_char\", \"lemma\"),\n",
    "        msd_features=(\"case\", \"numb\", \"gend\", \"mood\", \"tense\", \"voice\", \"person\", \"deg\"),\n",
    "        seq2vec_encoder_type=Seq2VecEncoderType.LSTM,\n",
    "        basis_vector_configuration=BVC,\n",
    "        agglomerate_msd=False,\n",
    "        reader_kwargs={\n",
    "            \"batch_size\": 4, \n",
    "            \"metadata_encoding\": MetadataEncoding.IGNORE,\n",
    "            \"metadata_tokens_categories\": METADATA_CATS\n",
    "        },\n",
    "        model_embedding_kwargs=dict(\n",
    "            keep_all_vocab=True,\n",
    "            pretrained_embeddings={\n",
    "                # \"token\": \"~/Downloads/latin.embeddings\",\n",
    "            #    \"token\": \"~/dev/these/notebooks/4 - Detection/data/embs_models/model.token.word2vec.kv\",\n",
    "            #    \"lemma\": \"~/dev/these/notebooks/4 - Detection/data/embs_models/model.lemma.word2vec.kv.header\"\n",
    "            },\n",
    "            trainable_embeddings={\"token\": False, \"lemma\": False},\n",
    "            emb_dims={\"token\": 200, \"lemma\": 200}\n",
    "        ),\n",
    "        encoder_hidden_size=64,\n",
    "        batches_per_epoch=None,\n",
    "        model_class=FeatureEmbeddingClassifier,\n",
    "        use_bert_highway=False,\n",
    "        bert_dir = \"./bert/latin_bert\"\n",
    "    )\n",
    "\n",
    "    \n",
    "def get_train_and_get_kwargs():\n",
    "    return dict(patience=4, num_epochs=20, lr=5e-4, optimizer=\"AdamW\")\n",
    "\n",
    "def jqs(data):\n",
    "    return \"-\".join(sorted(list(data)))\n",
    "\n",
    "def get_filename(params, prefix = \"model\"):\n",
    "    remaped = []\n",
    "    for key in sorted(list(params.keys())):\n",
    "        if isinstance(params[key], str) and not params[key]:\n",
    "            continue\n",
    "        if isinstance(params[key], str) and \"-\" in params[key]:\n",
    "            remaped.append(f\"{key}-\"+\"\".join([\n",
    "                \"\".join([\n",
    "                    subv[:3].lower().capitalize()\n",
    "                    for subv in v.split(\"_\")\n",
    "                ])\n",
    "                for v in params[key].split(\"-\")\n",
    "            ]))\n",
    "        else:\n",
    "            remaped.append(f\"{key}-{params[key]}\")\n",
    "    print(remaped)\n",
    "    return prefix+\"--\"+\"__\".join(remaped)\n",
    "\n",
    "def merge(source, destination):\n",
    "    \"\"\" Source = New , Destination = Default\n",
    "    run me with nosetests --with-doctest file.py\n",
    "\n",
    "    >>> a = { 'first' : { 'all_rows' : { 'pass' : 'dog', 'number' : '1' } } }\n",
    "    >>> b = { 'first' : { 'all_rows' : { 'fail' : 'cat', 'number' : '5' } } }\n",
    "    >>> merge(b, a) == { 'first' : { 'all_rows' : { 'pass' : 'dog', 'fail' : 'cat', 'number' : '5' } } }\n",
    "    True\n",
    "    \"\"\"\n",
    "    for key, value in source.items():\n",
    "        if isinstance(value, dict):\n",
    "            # get node or create one\n",
    "            node = destination.setdefault(key, {})\n",
    "            merge(value, node)\n",
    "        else:\n",
    "            destination[key] = value\n",
    "\n",
    "    return destination\n",
    "\n",
    "def run_and_save(model_name, prepare_model_kwargs, train_kwargs, model_name_prefix: str = \"model\"):\n",
    "    fn = f\"{model_name_prefix}-{model_name}\"\n",
    "    \n",
    "    if already_done(fn):\n",
    "        print(f\"Already trained {fn}\")\n",
    "        return {}\n",
    "    \n",
    "    seligator, reader, train, dev = Seligator.init_from_params(\n",
    "        **prepare_model_kwargs\n",
    "    )\n",
    "    _ = train_and_get(seligator.model, train, dev, **train_kwargs)\n",
    "    seligator.save_model(f\"./models/{fn}\")\n",
    "    data, img = run_tests(\n",
    "        \"dataset/main/test.txt\",\n",
    "        dataset_reader=reader, model=seligator.model, dump=f\"./models/{fn}/test.csv\"\n",
    "    )\n",
    "    out = {\n",
    "        fn: {\n",
    "            **{x:v for x, v in data.items() if isinstance(v, float)},\n",
    "            **train_kwargs\n",
    "        }\n",
    "    }\n",
    "    save_json(fn, out)\n",
    "    return out\n",
    "\n",
    "def get_siamese():\n",
    "    siamese = get_kwargs()\n",
    "    siamese[\"model_class\"] = SiameseClassifier\n",
    "    siamese[\"batches_per_epoch\"] = 20\n",
    "    siamese_train_kwargs = get_train_and_get_kwargs()\n",
    "    siamese_train_kwargs[\"num_epochs\"] = siamese_train_kwargs[\"num_epochs\"] * int(1351 // siamese[\"batches_per_epoch\"])\n",
    "    siamese_train_kwargs[\"patience\"] = 10\n",
    "    return siamese, siamese_train_kwargs\n",
    "\n",
    "def get_classic():\n",
    "    return get_kwargs(), get_train_and_get_kwargs()\n",
    "\n",
    "RUNS = {}"
   ]
  },
  {
   "cell_type": "code",
   "execution_count": 8,
   "id": "74c2e274",
   "metadata": {},
   "outputs": [],
   "source": [
    "# Check what can be JSONIFIED\n",
    "\n",
    "import json\n",
    "\n",
    "# https://stackoverflow.com/questions/24481852/serialising-an-enum-member-to-json\n",
    "\n",
    "class CustomEncoder(json.JSONEncoder):\n",
    "    _PUBLIC_ENUMS = {\n",
    "        \"MetadataEncoding\": MetadataEncoding, \n",
    "        \"Seq2VecEncoderType\": Seq2VecEncoderType, \n",
    "        #\"BasisVectorConfiguration\": BasisVectorConfiguration\n",
    "    }\n",
    "    _PUBLIC_CLASSES = {\n",
    "        \"SiameseClassifier\": SiameseClassifier,\n",
    "        \"FeatureEmbeddingClassifier\": FeatureEmbeddingClassifier\n",
    "    }\n",
    "\n",
    "    def default(self, obj):\n",
    "        if type(obj) in CustomEncoder._PUBLIC_ENUMS.values():\n",
    "            return {\"__enum__\": str(obj)}\n",
    "        elif isinstance(obj, type):\n",
    "            if obj in CustomEncoder._PUBLIC_CLASSES.values():\n",
    "                return {\"__type__\": str(obj.__name__)}\n",
    "            else:\n",
    "                print(obj)\n",
    "        elif isinstance(obj, BasisVectorConfiguration):\n",
    "            return {\"__basis_vector_configuration__\": obj.to_dict()}\n",
    "        return json.JSONEncoder.default(self, obj)\n",
    "\n",
    "    @staticmethod\n",
    "    def object_hook(d):\n",
    "        if \"__enum__\" in d:\n",
    "            name, member = d[\"__enum__\"].split(\".\")\n",
    "            return getattr(CustomEncoder._PUBLIC_ENUMS[name], member)\n",
    "        elif \"__type__\" in d:\n",
    "            return CustomEncoder._PUBLIC_CLASSES[d[\"__type__\"]]\n",
    "        elif \"__basis_vector_configuration__\" in d:\n",
    "            return BasisVectorConfiguration.from_dict(d[\"__basis_vector_configuration__\"])\n",
    "        else:\n",
    "            return d\n",
    "\n",
    "\n",
    "PRE_LEMMA = {\n",
    "    \"model_embedding_kwargs\":{\n",
    "        \"pretrained_embeddings\": {\n",
    "            \"lemma\": \"~/dev/these/notebooks/4 - Detection/data/embs_models/model.lemma.word2vec.kv.header\"\n",
    "        }\n",
    "    }\n",
    "}"
   ]
  },
  {
   "cell_type": "code",
   "execution_count": 11,
   "id": "6788d384",
   "metadata": {},
   "outputs": [],
   "source": [
    "def do_runs(get_kw, has_linear=False):\n",
    "    if has_linear:\n",
    "        name = lambda string: \"Linear\"+string\n",
    "    else:\n",
    "        name = lambda string: \"Siamese\"+string\n",
    "        \n",
    "    NoAuthor_METADATA_CATS = (\"Century\", \"WrittenType\", \"CitationTypes\")\n",
    "    NoAuthor_BVC = BasisVectorConfiguration(\n",
    "        categories=NoAuthor_METADATA_CATS\n",
    "    )\n",
    "    \n",
    "    PRE_LEMMA = {\n",
    "        \"model_embedding_kwargs\":{\n",
    "            \"pretrained_embeddings\": {\n",
    "                \"lemma\": \"~/dev/these/notebooks/4 - Detection/data/embs_models/model.lemma.word2vec.kv.header\"\n",
    "            }\n",
    "        }\n",
    "    }\n",
    "    Changes = [\n",
    "        # Use raw Bert\n",
    "        (name(\"BertTokenOnly\"), {\"token_features\": (\"token_subword\", )}, {}),\n",
    "        # Use raw Bert No Highway\n",
    "        (name(\"BertTokenOnlyWithHighway\"), {\"token_features\": (\"token_subword\", ), \"use_bert_highway\": True}, {}),\n",
    "        # Use raw Bert + Lemma\n",
    "        (name(\"BertLemma-HAN\"), {\n",
    "            \"token_features\": (\"token_subword\", \"lemma\", \"lemma_char\"),\n",
    "            \"seq2vec_encoder_type\": Seq2VecEncoderType.HAN,\n",
    "            \"use_bert_highway\": False\n",
    "        }, {}),\n",
    "        (name(\"Vanilla\"), {}, {}),\n",
    "        # Raw Features + MSD + Vanilla LSTM\n",
    "        (name(\"VanillaAggloMSD\"), {\"agglomerate_msd\": True}, {}),\n",
    "        # Raw Features + MSD + HAN\n",
    "        (name(\"VanillaAggloMSD-HAN\"), {\"agglomerate_msd\": True, \"seq2vec_encoder_type\": Seq2VecEncoderType.HAN}, {}),\n",
    "        # Raw Features + MSD + Enriched LSTM\n",
    "        (name(\"VanillaAggloMSD-EnriLSTM\"),\n",
    "         {\"agglomerate_msd\": True, \"seq2vec_encoder_type\": Seq2VecEncoderType.MetadataLSTM,\n",
    "            \"reader_kwargs\": {\"metadata_encoding\": MetadataEncoding.AS_CATEGORICAL}}, {}),\n",
    "        # Raw Features + MSD + Enriched Attention\n",
    "        (name(\"VanillaAggloMSD-EnriAttention\"),\n",
    "         {\"agglomerate_msd\": True, \"seq2vec_encoder_type\": Seq2VecEncoderType.MetadataAttentionPooling,\n",
    "            \"reader_kwargs\": {\"metadata_encoding\": MetadataEncoding.AS_CATEGORICAL}}, {}),\n",
    "        # Raw Features + MSD + Attention\n",
    "        (name(\"VanillaAggloMSD-AttentPool\"),\n",
    "         {\"agglomerate_msd\": True, \"seq2vec_encoder_type\": Seq2VecEncoderType.AttentionPooling,\n",
    "            \"reader_kwargs\": {\"metadata_encoding\": MetadataEncoding.AS_CATEGORICAL}}, {}),\n",
    "        # Now we use Metadata Tokens !\n",
    "        # Raw Features + MSD + Attention\n",
    "        #({ # Does not work because AttentionPooling expects metadata_vector\n",
    "        #    \"reader_kwargs\": {\"metadata_encoding\": MetadataEncoding.AS_TOKEN},\n",
    "        #    \"agglomerate_msd\": True, \"seq2vec_encoder_type\": Seq2VecEncoderType.AttentionPooling}, {}),\n",
    "        # Raw Features + MSD + Attention\n",
    "        (name(\"VanillaAggloMSD-Metatoks-HAN\"),\n",
    "         {\n",
    "            \"reader_kwargs\": {\"metadata_encoding\": MetadataEncoding.AS_TOKEN},\n",
    "            \"agglomerate_msd\": True, \"seq2vec_encoder_type\": Seq2VecEncoderType.HAN}, {}),\n",
    "        #\n",
    "        #\n",
    "        # With Pretrained\n",
    "        #\n",
    "        #\n",
    "        # Raw Features + MSD + Vanilla LSTM\n",
    "        (name(\"VanillaAggloMSD-Pretrained\"), {\"agglomerate_msd\": True, **PRE_LEMMA}, {}),\n",
    "        # Raw Features + MSD + HAN\n",
    "        (name(\"VanillaAggloMSD-HAN-Pretrained\"), {\"agglomerate_msd\": True, \"seq2vec_encoder_type\": Seq2VecEncoderType.HAN,\n",
    "          **PRE_LEMMA}, {}),\n",
    "        # Raw Features + MSD + Enriched LSTM\n",
    "        (name(\"VanillaAggloMSD-EnriLSTM-Pretrained\"), \n",
    "         {\"agglomerate_msd\": True, \"seq2vec_encoder_type\": Seq2VecEncoderType.MetadataLSTM,\n",
    "            \"reader_kwargs\": {\"metadata_encoding\": MetadataEncoding.AS_CATEGORICAL},\n",
    "          **PRE_LEMMA}, {}),\n",
    "        # Raw Features + MSD + Enriched Attention\n",
    "        (name(\"VanillaAggloMSD-EnriAttention-Pretrained\"), \n",
    "         {\"agglomerate_msd\": True, \"seq2vec_encoder_type\": Seq2VecEncoderType.MetadataAttentionPooling,\n",
    "            \"reader_kwargs\": {\"metadata_encoding\": MetadataEncoding.AS_CATEGORICAL},\n",
    "          **PRE_LEMMA}, {}),\n",
    "        # Raw Features + MSD + Attention\n",
    "        (name(\"VanillaAggloMSD-AttentPool-Pretrained\"), \n",
    "         {\"agglomerate_msd\": True, \"seq2vec_encoder_type\": Seq2VecEncoderType.AttentionPooling,\n",
    "            \"reader_kwargs\": {\"metadata_encoding\": MetadataEncoding.AS_CATEGORICAL},\n",
    "          **PRE_LEMMA}, {}),\n",
    "    ]\n",
    "    if has_linear:\n",
    "        Changes = Changes + [\n",
    "            (\n",
    "                name(\"Vanilla-LinearEnriched\"), \n",
    "                 {\n",
    "                \"reader_kwargs\": {\"metadata_encoding\": MetadataEncoding.AS_CATEGORICAL},\n",
    "                \"additional_model_kwargs\": { \"metadata_linear\": True}\n",
    "            }, {}),\n",
    "            (\n",
    "                name(\"Vanilla-LinearEnriched-Pretrained\"), \n",
    "                {\n",
    "                \"reader_kwargs\": {\"metadata_encoding\": MetadataEncoding.AS_CATEGORICAL},\n",
    "                \"additional_model_kwargs\": { \"metadata_linear\": True},\n",
    "                **PRE_LEMMA\n",
    "            }, {}),\n",
    "            (\n",
    "                name(\"VanillaAggloMSD-HAN-LinearEnriched-Pretrained\"), \n",
    "                {\"agglomerate_msd\": True, \"seq2vec_encoder_type\": Seq2VecEncoderType.HAN,\n",
    "                \"reader_kwargs\": {\"metadata_encoding\": MetadataEncoding.AS_CATEGORICAL},\n",
    "                \"additional_model_kwargs\": { \"metadata_linear\": True},\n",
    "                **PRE_LEMMA\n",
    "            }, {}),\n",
    "            (\n",
    "                name(\"VanillaAggloMSD-EnriLSTM-LinearEnriched-Pretrained\"), \n",
    "                {\"agglomerate_msd\": True, \"seq2vec_encoder_type\": Seq2VecEncoderType.MetadataLSTM,\n",
    "                \"reader_kwargs\": {\"metadata_encoding\": MetadataEncoding.AS_CATEGORICAL},\n",
    "                \"additional_model_kwargs\": { \"metadata_linear\": True},\n",
    "                **PRE_LEMMA\n",
    "            }, {}),\n",
    "            # Apparently, its the best, so let's play with input features\n",
    "            # (\"lemma_char\", \"lemma\", \"case\", \"numb\", \"gend\", \"mood\", \"tense\", \"voice\", \"person\", \"deg\")\n",
    "            (\n",
    "                name(\"Vanilla-NoMorph-HAN-LinearEnriched-Pretrained\"), \n",
    "                {\"token_features\": (\"lemma_char\", \"lemma\"), #No morph\n",
    "              \"agglomerate_msd\": False, \"seq2vec_encoder_type\": Seq2VecEncoderType.HAN,\n",
    "                \"reader_kwargs\": {\"metadata_encoding\": MetadataEncoding.AS_CATEGORICAL},\n",
    "                \"additional_model_kwargs\": { \"metadata_linear\": True},\n",
    "                **PRE_LEMMA\n",
    "            }, {}\n",
    "            ),\n",
    "            # No Author in metadata\n",
    "            (\n",
    "                name(\"Vanilla-NoMorph-HAN-LinearEnriched-Pretrained-NoAuthor\"), \n",
    "                {\n",
    "                    \"token_features\": (\"lemma_char\", \"lemma\"), #No morph\n",
    "                    \"agglomerate_msd\": False,\n",
    "                    \"seq2vec_encoder_type\": Seq2VecEncoderType.HAN,\n",
    "                    \"reader_kwargs\": {\n",
    "                        \"metadata_encoding\": MetadataEncoding.AS_CATEGORICAL,\n",
    "                        \"metadata_tokens_categories\": NoAuthor_METADATA_CATS\n",
    "                    },\n",
    "                    \"basis_vector_configuration\": NoAuthor_BVC,\n",
    "                    \"additional_model_kwargs\": { \"metadata_linear\": True},\n",
    "                **PRE_LEMMA\n",
    "            }, {}),\n",
    "        ]\n",
    "    for idx, (model_name, model_kw, train_kw) in enumerate(Changes):\n",
    "        defaults_model, default_trains = get_kw()\n",
    "        model_kw = merge(model_kw, defaults_model)\n",
    "        train_kw = merge(train_kw, default_trains)\n",
    "        RUNS.update(run_and_save(model_name, model_kw, train_kw, model_name_prefix=f\"model-\"))"
   ]
  },
  {
   "cell_type": "markdown",
   "id": "f18fe1ce",
   "metadata": {},
   "source": [
    "# Siamese Networks"
   ]
  },
  {
   "cell_type": "code",
   "execution_count": 12,
   "id": "42cf700f",
   "metadata": {
    "scrolled": false
   },
   "outputs": [
    {
     "name": "stdout",
     "output_type": "stream",
     "text": [
      "Already trained model--LinearBertTokenOnly\n",
      "Already trained model--LinearBertTokenOnlyWithHighway\n",
      "Already trained model--LinearBertLemma-HAN\n",
      "Already trained model--LinearVanilla\n",
      "Already trained model--LinearVanillaAggloMSD\n",
      "Already trained model--LinearVanillaAggloMSD-HAN\n",
      "Already trained model--LinearVanillaAggloMSD-EnriLSTM\n",
      "Already trained model--LinearVanillaAggloMSD-EnriAttention\n",
      "Already trained model--LinearVanillaAggloMSD-AttentPool\n",
      "Already trained model--LinearVanillaAggloMSD-Metatoks-HAN\n",
      "Already trained model--LinearVanillaAggloMSD-Pretrained\n",
      "Already trained model--LinearVanillaAggloMSD-HAN-Pretrained\n",
      "Already trained model--LinearVanillaAggloMSD-EnriLSTM-Pretrained\n",
      "Already trained model--LinearVanillaAggloMSD-EnriAttention-Pretrained\n",
      "Already trained model--LinearVanillaAggloMSD-AttentPool-Pretrained\n",
      "Already trained model--LinearVanilla-LinearEnriched\n",
      "Already trained model--LinearVanilla-LinearEnriched-Pretrained\n",
      "Already trained model--LinearVanillaAggloMSD-HAN-LinearEnriched-Pretrained\n",
      "Already trained model--LinearVanillaAggloMSD-EnriLSTM-LinearEnriched-Pretrained\n",
      "False ('lemma_char', 'lemma')\n",
      "GetMeBert(use_bert=False, embedder=None, indexer=None, tokenizer=None)\n"
     ]
    },
    {
     "name": "stderr",
     "output_type": "stream",
     "text": [
      "/home/thibault/dev/est-lascivuum-non-est/env/lib/python3.8/site-packages/allennlp/data/token_indexers/token_characters_indexer.py:55: UserWarning: You are using the default value (0) of `min_padding_length`, which can cause some subtle bugs (more info see https://github.com/allenai/allennlp/issues/1954). Strongly recommend to set a value, usually the maximum size of the convolutional layer size when using CnnEncoder.\n",
      "  warnings.warn(\n"
     ]
    },
    {
     "data": {
      "application/vnd.jupyter.widget-view+json": {
       "model_id": "b14da8a766ab4e0190b73b4d0ffebd0f",
       "version_major": 2,
       "version_minor": 0
      },
      "text/plain": [
       "building vocab:   0%|          | 0/5427 [00:00<?, ?it/s]"
      ]
     },
     "metadata": {},
     "output_type": "display_data"
    },
    {
     "name": "stderr",
     "output_type": "stream",
     "text": [
      "WARNING:allennlp.modules.token_embedders.embedding:The embeddings file has an unknown file extension \".header\". We will assume the file is an (uncompressed) text file\n"
     ]
    },
    {
     "data": {
      "application/vnd.jupyter.widget-view+json": {
       "model_id": "a3bef00521a74adda0556367c44978dc",
       "version_major": 2,
       "version_minor": 0
      },
      "text/plain": [
       "  0%|          | 0/155131 [00:00<?, ?it/s]"
      ]
     },
     "metadata": {},
     "output_type": "display_data"
    },
    {
     "name": "stdout",
     "output_type": "stream",
     "text": [
      "---> Epochs:   20\n",
      "---> Patience: 4\n"
     ]
    },
    {
     "name": "stderr",
     "output_type": "stream",
     "text": [
      "/home/thibault/dev/est-lascivuum-non-est/env/lib/python3.8/site-packages/torch/nn/modules/rnn.py:60: UserWarning: dropout option adds dropout after all but last recurrent layer, so non-zero dropout expects num_layers greater than 1, but got dropout=0.3 and num_layers=1\n",
      "  warnings.warn(\"dropout option adds dropout after all but last \"\n"
     ]
    },
    {
     "data": {
      "application/vnd.jupyter.widget-view+json": {
       "model_id": "2bfa86a75e5e46ebb8564b1dcb28cf12",
       "version_major": 2,
       "version_minor": 0
      },
      "text/plain": [
       "  0%|          | 0/1357 [00:00<?, ?it/s]"
      ]
     },
     "metadata": {},
     "output_type": "display_data"
    },
    {
     "name": "stderr",
     "output_type": "stream",
     "text": [
      "/home/thibault/dev/est-lascivuum-non-est/seligator/models/classifier.py:59: UserWarning: Implicit dimension choice for softmax has been deprecated. Change the call to include dim=X as an argument.\n",
      "  probs = F.softmax(logits)\n"
     ]
    },
    {
     "data": {
      "application/vnd.jupyter.widget-view+json": {
       "model_id": "e44c968b0e014c49a8875d6c6c65d4de",
       "version_major": 2,
       "version_minor": 0
      },
      "text/plain": [
       "  0%|          | 0/170 [00:00<?, ?it/s]"
      ]
     },
     "metadata": {},
     "output_type": "display_data"
    },
    {
     "data": {
      "application/vnd.jupyter.widget-view+json": {
       "model_id": "aa6072e37eee4ef084cc28475ea08490",
       "version_major": 2,
       "version_minor": 0
      },
      "text/plain": [
       "  0%|          | 0/1357 [00:00<?, ?it/s]"
      ]
     },
     "metadata": {},
     "output_type": "display_data"
    },
    {
     "data": {
      "application/vnd.jupyter.widget-view+json": {
       "model_id": "4fbde94cf25a4db6b54541483cfc03da",
       "version_major": 2,
       "version_minor": 0
      },
      "text/plain": [
       "  0%|          | 0/170 [00:00<?, ?it/s]"
      ]
     },
     "metadata": {},
     "output_type": "display_data"
    },
    {
     "data": {
      "application/vnd.jupyter.widget-view+json": {
       "model_id": "dfe9fe65f62f44e39f544a50a96cf49f",
       "version_major": 2,
       "version_minor": 0
      },
      "text/plain": [
       "  0%|          | 0/1357 [00:00<?, ?it/s]"
      ]
     },
     "metadata": {},
     "output_type": "display_data"
    },
    {
     "data": {
      "application/vnd.jupyter.widget-view+json": {
       "model_id": "18177ef1bfda42288c95b21344ea9156",
       "version_major": 2,
       "version_minor": 0
      },
      "text/plain": [
       "  0%|          | 0/170 [00:00<?, ?it/s]"
      ]
     },
     "metadata": {},
     "output_type": "display_data"
    },
    {
     "data": {
      "application/vnd.jupyter.widget-view+json": {
       "model_id": "84e388609a304a01874d65ade01f6933",
       "version_major": 2,
       "version_minor": 0
      },
      "text/plain": [
       "  0%|          | 0/1357 [00:00<?, ?it/s]"
      ]
     },
     "metadata": {},
     "output_type": "display_data"
    },
    {
     "data": {
      "application/vnd.jupyter.widget-view+json": {
       "model_id": "0ab51222c8bb4bf8baf0a8bf37fb5d59",
       "version_major": 2,
       "version_minor": 0
      },
      "text/plain": [
       "  0%|          | 0/170 [00:00<?, ?it/s]"
      ]
     },
     "metadata": {},
     "output_type": "display_data"
    },
    {
     "data": {
      "application/vnd.jupyter.widget-view+json": {
       "model_id": "b8be4393eb3e41d1ae5770fa6f085046",
       "version_major": 2,
       "version_minor": 0
      },
      "text/plain": [
       "  0%|          | 0/1357 [00:00<?, ?it/s]"
      ]
     },
     "metadata": {},
     "output_type": "display_data"
    },
    {
     "data": {
      "application/vnd.jupyter.widget-view+json": {
       "model_id": "4a302d41decc41859e6c7d86f8d9827d",
       "version_major": 2,
       "version_minor": 0
      },
      "text/plain": [
       "  0%|          | 0/170 [00:00<?, ?it/s]"
      ]
     },
     "metadata": {},
     "output_type": "display_data"
    },
    {
     "data": {
      "application/vnd.jupyter.widget-view+json": {
       "model_id": "31bbf3e48c0744bc87fe3b95d33a5089",
       "version_major": 2,
       "version_minor": 0
      },
      "text/plain": [
       "  0%|          | 0/1357 [00:00<?, ?it/s]"
      ]
     },
     "metadata": {},
     "output_type": "display_data"
    },
    {
     "data": {
      "application/vnd.jupyter.widget-view+json": {
       "model_id": "7996751a648d465ebe25548cadaa36b7",
       "version_major": 2,
       "version_minor": 0
      },
      "text/plain": [
       "  0%|          | 0/170 [00:00<?, ?it/s]"
      ]
     },
     "metadata": {},
     "output_type": "display_data"
    },
    {
     "data": {
      "application/vnd.jupyter.widget-view+json": {
       "model_id": "3ab40dfb4d074c4fb0b02cd5215bbac0",
       "version_major": 2,
       "version_minor": 0
      },
      "text/plain": [
       "  0%|          | 0/1357 [00:00<?, ?it/s]"
      ]
     },
     "metadata": {},
     "output_type": "display_data"
    },
    {
     "data": {
      "application/vnd.jupyter.widget-view+json": {
       "model_id": "0bd583c8b5d0491b96cb5eee1e37252a",
       "version_major": 2,
       "version_minor": 0
      },
      "text/plain": [
       "  0%|          | 0/170 [00:00<?, ?it/s]"
      ]
     },
     "metadata": {},
     "output_type": "display_data"
    },
    {
     "data": {
      "application/vnd.jupyter.widget-view+json": {
       "model_id": "678fd4f8f0c24d47a36497ff3437f199",
       "version_major": 2,
       "version_minor": 0
      },
      "text/plain": [
       "  0%|          | 0/1357 [00:00<?, ?it/s]"
      ]
     },
     "metadata": {},
     "output_type": "display_data"
    },
    {
     "data": {
      "application/vnd.jupyter.widget-view+json": {
       "model_id": "0fa67729cae54570adc4bd68e6121f43",
       "version_major": 2,
       "version_minor": 0
      },
      "text/plain": [
       "  0%|          | 0/170 [00:00<?, ?it/s]"
      ]
     },
     "metadata": {},
     "output_type": "display_data"
    },
    {
     "data": {
      "application/vnd.jupyter.widget-view+json": {
       "model_id": "cceacd0d63854658b7f0f3be41e8fe2f",
       "version_major": 2,
       "version_minor": 0
      },
      "text/plain": [
       "  0%|          | 0/1357 [00:00<?, ?it/s]"
      ]
     },
     "metadata": {},
     "output_type": "display_data"
    },
    {
     "data": {
      "application/vnd.jupyter.widget-view+json": {
       "model_id": "59a89a403f5e46a0920a434ecd3e9f75",
       "version_major": 2,
       "version_minor": 0
      },
      "text/plain": [
       "  0%|          | 0/170 [00:00<?, ?it/s]"
      ]
     },
     "metadata": {},
     "output_type": "display_data"
    },
    {
     "data": {
      "application/vnd.jupyter.widget-view+json": {
       "model_id": "e5021606e2b44e6e89d724cb25fb33f4",
       "version_major": 2,
       "version_minor": 0
      },
      "text/plain": [
       "  0%|          | 0/1357 [00:00<?, ?it/s]"
      ]
     },
     "metadata": {},
     "output_type": "display_data"
    },
    {
     "data": {
      "application/vnd.jupyter.widget-view+json": {
       "model_id": "0bd5abed129946ca8a89dc05e79ed0db",
       "version_major": 2,
       "version_minor": 0
      },
      "text/plain": [
       "  0%|          | 0/170 [00:00<?, ?it/s]"
      ]
     },
     "metadata": {},
     "output_type": "display_data"
    },
    {
     "name": "stdout",
     "output_type": "stream",
     "text": [
      "Evaluating\n"
     ]
    },
    {
     "data": {
      "application/vnd.jupyter.widget-view+json": {
       "model_id": "5e2e98b8d90349a895828dcd19df9afe",
       "version_major": 2,
       "version_minor": 0
      },
      "text/plain": [
       "0it [00:00, ?it/s]"
      ]
     },
     "metadata": {},
     "output_type": "display_data"
    },
    {
     "name": "stdout",
     "output_type": "stream",
     "text": [
      "Evaluating: Predicting\n"
     ]
    },
    {
     "name": "stderr",
     "output_type": "stream",
     "text": [
      "/home/thibault/dev/est-lascivuum-non-est/seligator/prediction/tests.py:57: UserWarning: Matplotlib is currently using module://matplotlib_inline.backend_inline, which is a non-GUI backend, so cannot show the figure.\n",
      "  disp.figure_.show()\n",
      "/home/thibault/dev/est-lascivuum-non-est/env/lib/python3.8/site-packages/allennlp/data/token_indexers/token_characters_indexer.py:55: UserWarning: You are using the default value (0) of `min_padding_length`, which can cause some subtle bugs (more info see https://github.com/allenai/allennlp/issues/1954). Strongly recommend to set a value, usually the maximum size of the convolutional layer size when using CnnEncoder.\n",
      "  warnings.warn(\n"
     ]
    },
    {
     "name": "stdout",
     "output_type": "stream",
     "text": [
      "False ('lemma_char', 'lemma')\n",
      "GetMeBert(use_bert=False, embedder=None, indexer=None, tokenizer=None)\n"
     ]
    },
    {
     "data": {
      "application/vnd.jupyter.widget-view+json": {
       "model_id": "f01e8238acd8482aa55f6e97c5e5a8e9",
       "version_major": 2,
       "version_minor": 0
      },
      "text/plain": [
       "building vocab:   0%|          | 0/5427 [00:00<?, ?it/s]"
      ]
     },
     "metadata": {},
     "output_type": "display_data"
    },
    {
     "name": "stderr",
     "output_type": "stream",
     "text": [
      "ERROR:allennlp.data.vocabulary:Namespace: Textgroup_ns_labels\n",
      "ERROR:allennlp.data.vocabulary:Token: urn:cts:latinLit:phi1236\n"
     ]
    },
    {
     "ename": "KeyError",
     "evalue": "\"'urn:cts:latinLit:phi1236' not found in vocab namespace 'Textgroup_ns_labels', and namespace does not contain the default OOV token ('@@UNKNOWN@@')\"",
     "output_type": "error",
     "traceback": [
      "\u001b[0;31m---------------------------------------------------------------------------\u001b[0m",
      "\u001b[0;31mKeyError\u001b[0m                                  Traceback (most recent call last)",
      "\u001b[0;32m~/dev/est-lascivuum-non-est/env/lib/python3.8/site-packages/allennlp/data/vocabulary.py\u001b[0m in \u001b[0;36mget_token_index\u001b[0;34m(self, token, namespace)\u001b[0m\n\u001b[1;32m    730\u001b[0m         \u001b[0;32mtry\u001b[0m\u001b[0;34m:\u001b[0m\u001b[0;34m\u001b[0m\u001b[0;34m\u001b[0m\u001b[0m\n\u001b[0;32m--> 731\u001b[0;31m             \u001b[0;32mreturn\u001b[0m \u001b[0mself\u001b[0m\u001b[0;34m.\u001b[0m\u001b[0m_token_to_index\u001b[0m\u001b[0;34m[\u001b[0m\u001b[0mnamespace\u001b[0m\u001b[0;34m]\u001b[0m\u001b[0;34m[\u001b[0m\u001b[0mtoken\u001b[0m\u001b[0;34m]\u001b[0m\u001b[0;34m\u001b[0m\u001b[0;34m\u001b[0m\u001b[0m\n\u001b[0m\u001b[1;32m    732\u001b[0m         \u001b[0;32mexcept\u001b[0m \u001b[0mKeyError\u001b[0m\u001b[0;34m:\u001b[0m\u001b[0;34m\u001b[0m\u001b[0;34m\u001b[0m\u001b[0m\n",
      "\u001b[0;31mKeyError\u001b[0m: 'urn:cts:latinLit:phi1236'",
      "\nDuring handling of the above exception, another exception occurred:\n",
      "\u001b[0;31mKeyError\u001b[0m                                  Traceback (most recent call last)",
      "\u001b[0;32m~/dev/est-lascivuum-non-est/env/lib/python3.8/site-packages/allennlp/data/vocabulary.py\u001b[0m in \u001b[0;36mget_token_index\u001b[0;34m(self, token, namespace)\u001b[0m\n\u001b[1;32m    733\u001b[0m             \u001b[0;32mtry\u001b[0m\u001b[0;34m:\u001b[0m\u001b[0;34m\u001b[0m\u001b[0;34m\u001b[0m\u001b[0m\n\u001b[0;32m--> 734\u001b[0;31m                 \u001b[0;32mreturn\u001b[0m \u001b[0mself\u001b[0m\u001b[0;34m.\u001b[0m\u001b[0m_token_to_index\u001b[0m\u001b[0;34m[\u001b[0m\u001b[0mnamespace\u001b[0m\u001b[0;34m]\u001b[0m\u001b[0;34m[\u001b[0m\u001b[0mself\u001b[0m\u001b[0;34m.\u001b[0m\u001b[0m_oov_token\u001b[0m\u001b[0;34m]\u001b[0m\u001b[0;34m\u001b[0m\u001b[0;34m\u001b[0m\u001b[0m\n\u001b[0m\u001b[1;32m    735\u001b[0m             \u001b[0;32mexcept\u001b[0m \u001b[0mKeyError\u001b[0m\u001b[0;34m:\u001b[0m\u001b[0;34m\u001b[0m\u001b[0;34m\u001b[0m\u001b[0m\n",
      "\u001b[0;31mKeyError\u001b[0m: '@@UNKNOWN@@'",
      "\nDuring handling of the above exception, another exception occurred:\n",
      "\u001b[0;31mKeyError\u001b[0m                                  Traceback (most recent call last)",
      "\u001b[0;32m/tmp/ipykernel_61329/3679396871.py\u001b[0m in \u001b[0;36m<module>\u001b[0;34m\u001b[0m\n\u001b[0;32m----> 1\u001b[0;31m \u001b[0mdo_runs\u001b[0m\u001b[0;34m(\u001b[0m\u001b[0mget_classic\u001b[0m\u001b[0;34m,\u001b[0m \u001b[0mhas_linear\u001b[0m\u001b[0;34m=\u001b[0m\u001b[0;32mTrue\u001b[0m\u001b[0;34m)\u001b[0m\u001b[0;34m\u001b[0m\u001b[0;34m\u001b[0m\u001b[0m\n\u001b[0m",
      "\u001b[0;32m/tmp/ipykernel_61329/4289136510.py\u001b[0m in \u001b[0;36mdo_runs\u001b[0;34m(get_kw, has_linear)\u001b[0m\n\u001b[1;32m    141\u001b[0m         \u001b[0mmodel_kw\u001b[0m \u001b[0;34m=\u001b[0m \u001b[0mmerge\u001b[0m\u001b[0;34m(\u001b[0m\u001b[0mmodel_kw\u001b[0m\u001b[0;34m,\u001b[0m \u001b[0mdefaults_model\u001b[0m\u001b[0;34m)\u001b[0m\u001b[0;34m\u001b[0m\u001b[0;34m\u001b[0m\u001b[0m\n\u001b[1;32m    142\u001b[0m         \u001b[0mtrain_kw\u001b[0m \u001b[0;34m=\u001b[0m \u001b[0mmerge\u001b[0m\u001b[0;34m(\u001b[0m\u001b[0mtrain_kw\u001b[0m\u001b[0;34m,\u001b[0m \u001b[0mdefault_trains\u001b[0m\u001b[0;34m)\u001b[0m\u001b[0;34m\u001b[0m\u001b[0;34m\u001b[0m\u001b[0m\n\u001b[0;32m--> 143\u001b[0;31m         \u001b[0mRUNS\u001b[0m\u001b[0;34m.\u001b[0m\u001b[0mupdate\u001b[0m\u001b[0;34m(\u001b[0m\u001b[0mrun_and_save\u001b[0m\u001b[0;34m(\u001b[0m\u001b[0mmodel_name\u001b[0m\u001b[0;34m,\u001b[0m \u001b[0mmodel_kw\u001b[0m\u001b[0;34m,\u001b[0m \u001b[0mtrain_kw\u001b[0m\u001b[0;34m,\u001b[0m \u001b[0mmodel_name_prefix\u001b[0m\u001b[0;34m=\u001b[0m\u001b[0;34mf\"model-\"\u001b[0m\u001b[0;34m)\u001b[0m\u001b[0;34m)\u001b[0m\u001b[0;34m\u001b[0m\u001b[0;34m\u001b[0m\u001b[0m\n\u001b[0m",
      "\u001b[0;32m/tmp/ipykernel_61329/3551567418.py\u001b[0m in \u001b[0;36mrun_and_save\u001b[0;34m(model_name, prepare_model_kwargs, train_kwargs, model_name_prefix)\u001b[0m\n\u001b[1;32m    109\u001b[0m         \u001b[0;32mreturn\u001b[0m \u001b[0;34m{\u001b[0m\u001b[0;34m}\u001b[0m\u001b[0;34m\u001b[0m\u001b[0;34m\u001b[0m\u001b[0m\n\u001b[1;32m    110\u001b[0m \u001b[0;34m\u001b[0m\u001b[0m\n\u001b[0;32m--> 111\u001b[0;31m     seligator, reader, train, dev = Seligator.init_from_params(\n\u001b[0m\u001b[1;32m    112\u001b[0m         \u001b[0;34m**\u001b[0m\u001b[0mprepare_model_kwargs\u001b[0m\u001b[0;34m\u001b[0m\u001b[0;34m\u001b[0m\u001b[0m\n\u001b[1;32m    113\u001b[0m     )\n",
      "\u001b[0;32m~/dev/est-lascivuum-non-est/seligator/main.py\u001b[0m in \u001b[0;36minit_from_params\u001b[0;34m(token_features, msd_features, bert_dir, seq2vec_encoder_type, model_class, additional_model_kwargs, batches_per_epoch, reader_kwargs, encoder_hidden_size, agglomerate_msd, use_bert_highway, model_embedding_kwargs, basis_vector_configuration, training, vocabulary_path, folder)\u001b[0m\n\u001b[1;32m    165\u001b[0m \u001b[0;34m\u001b[0m\u001b[0m\n\u001b[1;32m    166\u001b[0m         \u001b[0;32mif\u001b[0m \u001b[0mtraining\u001b[0m\u001b[0;34m:\u001b[0m\u001b[0;34m\u001b[0m\u001b[0;34m\u001b[0m\u001b[0m\n\u001b[0;32m--> 167\u001b[0;31m             train, dev, vocab, reader = generate_all_data(\n\u001b[0m\u001b[1;32m    168\u001b[0m                 \u001b[0mtoken_features\u001b[0m\u001b[0;34m=\u001b[0m\u001b[0mtoken_features\u001b[0m\u001b[0;34m,\u001b[0m\u001b[0;34m\u001b[0m\u001b[0;34m\u001b[0m\u001b[0m\n\u001b[1;32m    169\u001b[0m                 \u001b[0mmsd_features\u001b[0m\u001b[0;34m=\u001b[0m\u001b[0mmsd_features\u001b[0m\u001b[0;34m,\u001b[0m\u001b[0;34m\u001b[0m\u001b[0;34m\u001b[0m\u001b[0m\n",
      "\u001b[0;32m~/dev/est-lascivuum-non-est/seligator/training/trainer.py\u001b[0m in \u001b[0;36mgenerate_all_data\u001b[0;34m(token_features, msd_features, ratio_train, batch_size, batches_per_epoch, get_me_bert, instance_type, folder, **tsv_reader_kwargs)\u001b[0m\n\u001b[1;32m    154\u001b[0m     )\n\u001b[1;32m    155\u001b[0m     \u001b[0mtrain_loader\u001b[0m\u001b[0;34m.\u001b[0m\u001b[0mindex_with\u001b[0m\u001b[0;34m(\u001b[0m\u001b[0mvocab\u001b[0m\u001b[0;34m)\u001b[0m\u001b[0;34m\u001b[0m\u001b[0;34m\u001b[0m\u001b[0m\n\u001b[0;32m--> 156\u001b[0;31m     \u001b[0mdev_loader\u001b[0m\u001b[0;34m.\u001b[0m\u001b[0mindex_with\u001b[0m\u001b[0;34m(\u001b[0m\u001b[0mvocab\u001b[0m\u001b[0;34m)\u001b[0m\u001b[0;34m\u001b[0m\u001b[0;34m\u001b[0m\u001b[0m\n\u001b[0m\u001b[1;32m    157\u001b[0m \u001b[0;34m\u001b[0m\u001b[0m\n\u001b[1;32m    158\u001b[0m     \u001b[0;32mreturn\u001b[0m \u001b[0mtrain_loader\u001b[0m\u001b[0;34m,\u001b[0m \u001b[0mdev_loader\u001b[0m\u001b[0;34m,\u001b[0m \u001b[0mvocab\u001b[0m\u001b[0;34m,\u001b[0m \u001b[0mdataset_reader\u001b[0m\u001b[0;34m\u001b[0m\u001b[0;34m\u001b[0m\u001b[0m\n",
      "\u001b[0;32m~/dev/est-lascivuum-non-est/env/lib/python3.8/site-packages/allennlp/data/data_loaders/simple_data_loader.py\u001b[0m in \u001b[0;36mindex_with\u001b[0;34m(self, vocab)\u001b[0m\n\u001b[1;32m     79\u001b[0m         \u001b[0mself\u001b[0m\u001b[0;34m.\u001b[0m\u001b[0mvocab\u001b[0m \u001b[0;34m=\u001b[0m \u001b[0mvocab\u001b[0m\u001b[0;34m\u001b[0m\u001b[0;34m\u001b[0m\u001b[0m\n\u001b[1;32m     80\u001b[0m         \u001b[0;32mfor\u001b[0m \u001b[0minstance\u001b[0m \u001b[0;32min\u001b[0m \u001b[0mself\u001b[0m\u001b[0;34m.\u001b[0m\u001b[0minstances\u001b[0m\u001b[0;34m:\u001b[0m\u001b[0;34m\u001b[0m\u001b[0;34m\u001b[0m\u001b[0m\n\u001b[0;32m---> 81\u001b[0;31m             \u001b[0minstance\u001b[0m\u001b[0;34m.\u001b[0m\u001b[0mindex_fields\u001b[0m\u001b[0;34m(\u001b[0m\u001b[0mself\u001b[0m\u001b[0;34m.\u001b[0m\u001b[0mvocab\u001b[0m\u001b[0;34m)\u001b[0m\u001b[0;34m\u001b[0m\u001b[0;34m\u001b[0m\u001b[0m\n\u001b[0m\u001b[1;32m     82\u001b[0m \u001b[0;34m\u001b[0m\u001b[0m\n\u001b[1;32m     83\u001b[0m     \u001b[0;34m@\u001b[0m\u001b[0moverrides\u001b[0m\u001b[0;34m\u001b[0m\u001b[0;34m\u001b[0m\u001b[0m\n",
      "\u001b[0;32m~/dev/est-lascivuum-non-est/env/lib/python3.8/site-packages/allennlp/data/instance.py\u001b[0m in \u001b[0;36mindex_fields\u001b[0;34m(self, vocab)\u001b[0m\n\u001b[1;32m     73\u001b[0m         \u001b[0;32mif\u001b[0m \u001b[0;32mnot\u001b[0m \u001b[0mself\u001b[0m\u001b[0;34m.\u001b[0m\u001b[0mindexed\u001b[0m\u001b[0;34m:\u001b[0m\u001b[0;34m\u001b[0m\u001b[0;34m\u001b[0m\u001b[0m\n\u001b[1;32m     74\u001b[0m             \u001b[0;32mfor\u001b[0m \u001b[0mfield\u001b[0m \u001b[0;32min\u001b[0m \u001b[0mself\u001b[0m\u001b[0;34m.\u001b[0m\u001b[0mfields\u001b[0m\u001b[0;34m.\u001b[0m\u001b[0mvalues\u001b[0m\u001b[0;34m(\u001b[0m\u001b[0;34m)\u001b[0m\u001b[0;34m:\u001b[0m\u001b[0;34m\u001b[0m\u001b[0;34m\u001b[0m\u001b[0m\n\u001b[0;32m---> 75\u001b[0;31m                 \u001b[0mfield\u001b[0m\u001b[0;34m.\u001b[0m\u001b[0mindex\u001b[0m\u001b[0;34m(\u001b[0m\u001b[0mvocab\u001b[0m\u001b[0;34m)\u001b[0m\u001b[0;34m\u001b[0m\u001b[0;34m\u001b[0m\u001b[0m\n\u001b[0m\u001b[1;32m     76\u001b[0m             \u001b[0mself\u001b[0m\u001b[0;34m.\u001b[0m\u001b[0mindexed\u001b[0m \u001b[0;34m=\u001b[0m \u001b[0;32mTrue\u001b[0m\u001b[0;34m\u001b[0m\u001b[0;34m\u001b[0m\u001b[0m\n\u001b[1;32m     77\u001b[0m \u001b[0;34m\u001b[0m\u001b[0m\n",
      "\u001b[0;32m~/dev/est-lascivuum-non-est/env/lib/python3.8/site-packages/allennlp/data/fields/label_field.py\u001b[0m in \u001b[0;36mindex\u001b[0;34m(self, vocab)\u001b[0m\n\u001b[1;32m     88\u001b[0m     \u001b[0;32mdef\u001b[0m \u001b[0mindex\u001b[0m\u001b[0;34m(\u001b[0m\u001b[0mself\u001b[0m\u001b[0;34m,\u001b[0m \u001b[0mvocab\u001b[0m\u001b[0;34m:\u001b[0m \u001b[0mVocabulary\u001b[0m\u001b[0;34m)\u001b[0m\u001b[0;34m:\u001b[0m\u001b[0;34m\u001b[0m\u001b[0;34m\u001b[0m\u001b[0m\n\u001b[1;32m     89\u001b[0m         \u001b[0;32mif\u001b[0m \u001b[0;32mnot\u001b[0m \u001b[0mself\u001b[0m\u001b[0;34m.\u001b[0m\u001b[0m_skip_indexing\u001b[0m\u001b[0;34m:\u001b[0m\u001b[0;34m\u001b[0m\u001b[0;34m\u001b[0m\u001b[0m\n\u001b[0;32m---> 90\u001b[0;31m             self._label_id = vocab.get_token_index(\n\u001b[0m\u001b[1;32m     91\u001b[0m                 \u001b[0mself\u001b[0m\u001b[0;34m.\u001b[0m\u001b[0mlabel\u001b[0m\u001b[0;34m,\u001b[0m \u001b[0mself\u001b[0m\u001b[0;34m.\u001b[0m\u001b[0m_label_namespace\u001b[0m  \u001b[0;31m# type: ignore\u001b[0m\u001b[0;34m\u001b[0m\u001b[0;34m\u001b[0m\u001b[0m\n\u001b[1;32m     92\u001b[0m             )\n",
      "\u001b[0;32m~/dev/est-lascivuum-non-est/env/lib/python3.8/site-packages/allennlp/data/vocabulary.py\u001b[0m in \u001b[0;36mget_token_index\u001b[0;34m(self, token, namespace)\u001b[0m\n\u001b[1;32m    736\u001b[0m                 \u001b[0mlogger\u001b[0m\u001b[0;34m.\u001b[0m\u001b[0merror\u001b[0m\u001b[0;34m(\u001b[0m\u001b[0;34m\"Namespace: %s\"\u001b[0m\u001b[0;34m,\u001b[0m \u001b[0mnamespace\u001b[0m\u001b[0;34m)\u001b[0m\u001b[0;34m\u001b[0m\u001b[0;34m\u001b[0m\u001b[0m\n\u001b[1;32m    737\u001b[0m                 \u001b[0mlogger\u001b[0m\u001b[0;34m.\u001b[0m\u001b[0merror\u001b[0m\u001b[0;34m(\u001b[0m\u001b[0;34m\"Token: %s\"\u001b[0m\u001b[0;34m,\u001b[0m \u001b[0mtoken\u001b[0m\u001b[0;34m)\u001b[0m\u001b[0;34m\u001b[0m\u001b[0;34m\u001b[0m\u001b[0m\n\u001b[0;32m--> 738\u001b[0;31m                 raise KeyError(\n\u001b[0m\u001b[1;32m    739\u001b[0m                     \u001b[0;34mf\"'{token}' not found in vocab namespace '{namespace}', and namespace \"\u001b[0m\u001b[0;34m\u001b[0m\u001b[0;34m\u001b[0m\u001b[0m\n\u001b[1;32m    740\u001b[0m                     \u001b[0;34mf\"does not contain the default OOV token ('{self._oov_token}')\"\u001b[0m\u001b[0;34m\u001b[0m\u001b[0;34m\u001b[0m\u001b[0m\n",
      "\u001b[0;31mKeyError\u001b[0m: \"'urn:cts:latinLit:phi1236' not found in vocab namespace 'Textgroup_ns_labels', and namespace does not contain the default OOV token ('@@UNKNOWN@@')\""
     ]
    },
    {
     "data": {
      "image/png": "[encoded data removed]",
      "text/plain": [
       "<Figure size 432x288 with 2 Axes>"
      ]
     },
     "metadata": {
      "needs_background": "light"
     },
     "output_type": "display_data"
    }
   ],
   "source": [
    "do_runs(get_classic, has_linear=True)"
   ]
  },
  {
   "cell_type": "code",
   "execution_count": null,
   "id": "bc281171",
   "metadata": {},
   "outputs": [],
   "source": [
    "import glob\n",
    "RUNS = []\n",
    "for file in glob.glob(\"dumped-results/*.json\"):\n",
    "    with open(file) as f:\n",
    "        RUNS.append(json.load(f))"
   ]
  },
  {
   "cell_type": "code",
   "execution_count": null,
   "id": "4069cfee",
   "metadata": {
    "scrolled": false
   },
   "outputs": [],
   "source": [
    "best, best_key = 0, None\n",
    "sorts = sorted([(list(run.keys())[0], list(run.values())[0][\"accuracy\"]) for run in RUNS], key=lambda x: x[1])\n",
    "for key in sorts:\n",
    "    print(key[0], key[1])"
   ]
  }
 ],
 "metadata": {
  "kernelspec": {
   "display_name": "Python 3",
   "language": "python",
   "name": "python3"
  },
  "language_info": {
   "codemirror_mode": {
    "name": "ipython",
    "version": 3
   },
   "file_extension": ".py",
   "mimetype": "text/x-python",
   "name": "python",
   "nbconvert_exporter": "python",
   "pygments_lexer": "ipython3",
   "version": "3.8.10"
  },
  "toc": {
   "base_numbering": 1,
   "nav_menu": {},
   "number_sections": true,
   "sideBar": true,
   "skip_h1_title": false,
   "title_cell": "Table of Contents",
   "title_sidebar": "Contents",
   "toc_cell": false,
   "toc_position": {},
   "toc_section_display": true,
   "toc_window_display": false
  }
 },
 "nbformat": 4,
 "nbformat_minor": 5
}
