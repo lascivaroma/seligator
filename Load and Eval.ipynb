{
 "cells": [
  {
   "cell_type": "code",
   "execution_count": 7,
   "id": "191a6c69",
   "metadata": {},
   "outputs": [
    {
     "name": "stderr",
     "output_type": "stream",
     "text": [
      "INFO:allennlp.data.vocabulary:Loading token dictionary from saved_model_nometadata/vocabulary.\n",
      "INFO:filelock:Lock 140421809780144 acquired on saved_model_nometadata/vocabulary/.lock\n",
      "INFO:filelock:Lock 140421809780144 released on saved_model_nometadata/vocabulary/.lock\n",
      "INFO:root:Fitting the BasisVectorConfiguration\n",
      "/home/thibault/dev/est-lascivuum-non-est/env/lib/python3.8/site-packages/torch/nn/modules/rnn.py:60: UserWarning: dropout option adds dropout after all but last recurrent layer, so non-zero dropout expects num_layers greater than 1, but got dropout=0.3 and num_layers=1\n",
      "  warnings.warn(\"dropout option adds dropout after all but last \"\n",
      "INFO:root:Dataset reader set with following categories: [msd], lemma_char, lemma\n",
      "INFO:root:Indexer set for following categories: [msd], lemma_char, lemma\n",
      "INFO:root:TSV READER uses following metadata encoding MetadataEncoding.IGNORE \n"
     ]
    },
    {
     "data": {
      "text/plain": [
       "FeatureEmbeddingClassifier(\n",
       "  (_loss): CrossEntropyLoss()\n",
       "  (mixed_encoder): MixedEmbeddingEncoder(\n",
       "    (_emb_dropout): Dropout(p=0.3, inplace=False)\n",
       "    (features_embedder): FeatureAndTextEmbedder(\n",
       "      (text_embedder): BasicTextFieldEmbedder(\n",
       "        (token_embedder_lemma): Embedding()\n",
       "        (token_embedder_lemma_char): TokenCharactersEncoder(\n",
       "          (_embedding): TimeDistributed(\n",
       "            (_module): Embedding()\n",
       "          )\n",
       "          (_encoder): TimeDistributed(\n",
       "            (_module): LstmSeq2VecEncoder(\n",
       "              (_module): LSTM(100, 150, num_layers=2, batch_first=True, dropout=0.3, bidirectional=True)\n",
       "            )\n",
       "          )\n",
       "          (_dropout): Dropout(p=0.3, inplace=False)\n",
       "        )\n",
       "      )\n",
       "      (feature_embedder): Linear(in_features=52, out_features=20, bias=True)\n",
       "    )\n",
       "    (features_encoder): HierarchicalAttentionalEncoder(\n",
       "      (gru): ModifiedPytorchSeq2VecWrapper(\n",
       "        (_module): GRU(520, 64, batch_first=True, dropout=0.3, bidirectional=True)\n",
       "      )\n",
       "      (dense): Linear(in_features=128, out_features=128, bias=True)\n",
       "      (dropout): Dropout(p=0.5, inplace=False)\n",
       "    )\n",
       "  )\n",
       "  (classifier): Linear(in_features=128, out_features=2, bias=True)\n",
       ")"
      ]
     },
     "execution_count": 7,
     "metadata": {},
     "output_type": "execute_result"
    }
   ],
   "source": [
    "from seligator.main import Seligator\n",
    "from seligator.prediction.tests import run_tests\n",
    "\n",
    "sel = Seligator.load_model(\"saved_model_nometadata\")\n",
    "sel.model.cuda()\n",
    "reader = sel.get_reader()\n",
    "sel.model"
   ]
  },
  {
   "cell_type": "code",
   "execution_count": 8,
   "id": "2b796cef",
   "metadata": {},
   "outputs": [
    {
     "name": "stderr",
     "output_type": "stream",
     "text": [
      "INFO:allennlp.training.util:Iterating over dataset\n"
     ]
    },
    {
     "name": "stdout",
     "output_type": "stream",
     "text": [
      "Evaluating\n"
     ]
    },
    {
     "data": {
      "application/vnd.jupyter.widget-view+json": {
       "model_id": "90d10e2dd98543e6aa5b574f8f8639ef",
       "version_major": 2,
       "version_minor": 0
      },
      "text/plain": [
       "0it [00:00, ?it/s]"
      ]
     },
     "metadata": {},
     "output_type": "display_data"
    },
    {
     "name": "stdout",
     "output_type": "stream",
     "text": [
      "Evaluating: Predicting\n"
     ]
    },
    {
     "name": "stderr",
     "output_type": "stream",
     "text": [
      "/home/thibault/dev/est-lascivuum-non-est/seligator/prediction/tests.py:51: UserWarning: Matplotlib is currently using module://matplotlib_inline.backend_inline, which is a non-GUI backend, so cannot show the figure.\n",
      "  disp.figure_.show()\n"
     ]
    },
    {
     "data": {
      "image/png": "[encoded data removed]",
      "text/plain": [
       "<Figure size 432x288 with 2 Axes>"
      ]
     },
     "metadata": {
      "needs_background": "light"
     },
     "output_type": "display_data"
    }
   ],
   "source": [
    "data, img = run_tests(\n",
    "    \"dataset/split/test.txt\",\n",
    "    dataset_reader=reader,\n",
    "    model=sel.model\n",
    ")"
   ]
  },
  {
   "cell_type": "code",
   "execution_count": 3,
   "id": "c1eb9101",
   "metadata": {},
   "outputs": [
    {
     "name": "stderr",
     "output_type": "stream",
     "text": [
      "INFO:root:Dataset reader set with following categories: [msd], lemma_char, lemma\n",
      "/home/thibault/dev/est-lascivuum-non-est/env/lib/python3.8/site-packages/allennlp/data/token_indexers/token_characters_indexer.py:55: UserWarning: You are using the default value (0) of `min_padding_length`, which can cause some subtle bugs (more info see https://github.com/allenai/allennlp/issues/1954). Strongly recommend to set a value, usually the maximum size of the convolutional layer size when using CnnEncoder.\n",
      "  warnings.warn(\n",
      "INFO:root:Indexer set for following categories: [msd], lemma_char, lemma\n",
      "INFO:root:TSV READER uses following metadata encoding MetadataEncoding.AS_CATEGORICAL \n",
      "/home/thibault/dev/est-lascivuum-non-est/seligator/models/classifier.py:59: UserWarning: Implicit dimension choice for softmax has been deprecated. Change the call to include dim=X as an argument.\n",
      "  probs = F.softmax(logits)\n"
     ]
    }
   ],
   "source": []
  },
  {
   "cell_type": "code",
   "execution_count": 4,
   "id": "7ede8af2",
   "metadata": {
    "scrolled": false
   },
   "outputs": [],
   "source": []
  },
  {
   "cell_type": "code",
   "execution_count": 9,
   "id": "f8296ad1",
   "metadata": {},
   "outputs": [
    {
     "name": "stderr",
     "output_type": "stream",
     "text": [
      "INFO:root:Dataset reader set with following categories: [msd], lemma_char, lemma\n",
      "/home/thibault/dev/est-lascivuum-non-est/env/lib/python3.8/site-packages/allennlp/data/token_indexers/token_characters_indexer.py:55: UserWarning: You are using the default value (0) of `min_padding_length`, which can cause some subtle bugs (more info see https://github.com/allenai/allennlp/issues/1954). Strongly recommend to set a value, usually the maximum size of the convolutional layer size when using CnnEncoder.\n",
      "  warnings.warn(\n",
      "INFO:root:Indexer set for following categories: [msd], lemma_char, lemma\n",
      "INFO:root:TSV READER uses following metadata encoding MetadataEncoding.IGNORE \n",
      "/home/thibault/dev/est-lascivuum-non-est/seligator/models/classifier.py:59: UserWarning: Implicit dimension choice for softmax has been deprecated. Change the call to include dim=X as an argument.\n",
      "  probs = F.softmax(logits)\n",
      "INFO:root:Dataset reader set with following categories: [msd], lemma_char, lemma\n",
      "INFO:root:Indexer set for following categories: [msd], lemma_char, lemma\n",
      "INFO:root:TSV READER uses following metadata encoding MetadataEncoding.IGNORE \n",
      "INFO:root:Dataset reader set with following categories: [msd], lemma_char, lemma\n",
      "INFO:root:Indexer set for following categories: [msd], lemma_char, lemma\n",
      "INFO:root:TSV READER uses following metadata encoding MetadataEncoding.IGNORE \n",
      "INFO:root:Dataset reader set with following categories: [msd], lemma_char, lemma\n",
      "INFO:root:Indexer set for following categories: [msd], lemma_char, lemma\n",
      "INFO:root:TSV READER uses following metadata encoding MetadataEncoding.IGNORE \n",
      "INFO:root:Dataset reader set with following categories: [msd], lemma_char, lemma\n",
      "INFO:root:Indexer set for following categories: [msd], lemma_char, lemma\n",
      "INFO:root:TSV READER uses following metadata encoding MetadataEncoding.IGNORE \n"
     ]
    }
   ],
   "source": [
    "from seligator.prediction.html import predictions_to_html\n",
    "\n",
    "# Do Ausone\n",
    "output = sel.predict_on_xml(\n",
    "    \"/home/thibault/dev/latin-lemmatized-texts/lemmatized/xml/urn:cts:latinLit:stoa0045.stoa003.perseus-lat2.xml\",\n",
    "     metadata={\n",
    "        \"Century\": \"4\",\n",
    "        \"CitationTypes\": \"line\",\n",
    "        \"Textgroup\": \"urn:cts:latinLit:stoa0045\",\n",
    "        \"WrittenType\": \"versified\"\n",
    "})\n",
    "with open(\"ausone-as-ausone.html\", \"w\") as f:\n",
    "    f.write(predictions_to_html(output, show_class=False))\n",
    "\n",
    "# Same with Virgile\n",
    "output = sel.predict_on_xml(\n",
    "    \"/home/thibault/dev/latin-lemmatized-texts/lemmatized/xml/urn:cts:latinLit:stoa0045.stoa003.perseus-lat2.xml\",\n",
    "     metadata={\n",
    "        \"Century\": \"-1\",\n",
    "        \"CitationTypes\": \"poem,line\",\n",
    "        \"Textgroup\": \"urn:cts:latinLit:phi0690\",\n",
    "        \"WrittenType\": \"versified\"\n",
    "})\n",
    "with open(\"ausone-as-virgile.html\", \"w\") as f:\n",
    "    f.write(predictions_to_html(output, show_class=False))\n",
    "    \n",
    "# Virgine Aeneid\n",
    "output = sel.predict_on_xml(\n",
    "    \"/home/thibault/dev/latin-lemmatized-texts/lemmatized/xml/urn:cts:latinLit:phi0690.phi003.perseus-lat2.xml\",\n",
    "     metadata={\n",
    "        \"Century\": \"-1\",\n",
    "        \"CitationTypes\": \"poem,line\",\n",
    "        \"Textgroup\": \"urn:cts:latinLit:phi0690\",\n",
    "        \"WrittenType\": \"versified\"\n",
    "})\n",
    "with open(\"virgile-as-virgile.html\", \"w\") as f:\n",
    "    f.write(predictions_to_html(output, show_class=False))\n",
    "    \n",
    "# Martial as Martial\n",
    "output = sel.predict_on_xml(\n",
    "    \"/home/thibault/dev/latin-lemmatized-texts/lemmatized/xml/urn:cts:latinLit:phi1294.phi002.perseus-lat2.xml\",\n",
    "     metadata={\n",
    "        \"Century\": \"1\",\n",
    "        \"CitationTypes\": \"book,poem,line\",\n",
    "        \"Textgroup\": \"urn:cts:latinLit:phi1294\",\n",
    "        \"WrittenType\": \"versified\"\n",
    "})\n",
    "with open(\"martial-as-martial.html\", \"w\") as f:\n",
    "    f.write(predictions_to_html(output, show_class=False))\n",
    "    \n",
    "# Martial as Cicero\n",
    "output = sel.predict_on_xml(\n",
    "    \"/home/thibault/dev/latin-lemmatized-texts/lemmatized/xml/urn:cts:latinLit:phi1294.phi002.perseus-lat2.xml\",\n",
    "     metadata={\n",
    "        \"Century\": \"-1\",\n",
    "        \"CitationTypes\": \"paragraph\",\n",
    "        \"Textgroup\": \"urn:cts:latinLit:phi0474\",\n",
    "        \"WrittenType\": \"prose\"\n",
    "})\n",
    "with open(\"martial-as-cicero.html\", \"w\") as f:\n",
    "    f.write(predictions_to_html(output, show_class=False))"
   ]
  }
 ],
 "metadata": {
  "kernelspec": {
   "display_name": "Python 3",
   "language": "python",
   "name": "python3"
  },
  "language_info": {
   "codemirror_mode": {
    "name": "ipython",
    "version": 3
   },
   "file_extension": ".py",
   "mimetype": "text/x-python",
   "name": "python",
   "nbconvert_exporter": "python",
   "pygments_lexer": "ipython3",
   "version": "3.8.10"
  },
  "toc": {
   "base_numbering": 1,
   "nav_menu": {},
   "number_sections": true,
   "sideBar": true,
   "skip_h1_title": false,
   "title_cell": "Table of Contents",
   "title_sidebar": "Contents",
   "toc_cell": false,
   "toc_position": {},
   "toc_section_display": true,
   "toc_window_display": false
  }
 },
 "nbformat": 4,
 "nbformat_minor": 5
}
