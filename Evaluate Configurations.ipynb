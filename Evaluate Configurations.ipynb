{
 "cells": [
  {
   "cell_type": "code",
   "execution_count": 1,
   "id": "123c67cf",
   "metadata": {},
   "outputs": [
    {
     "name": "stderr",
     "output_type": "stream",
     "text": [
      "2021-07-31 13:41:21.923899: I tensorflow/stream_executor/platform/default/dso_loader.cc:53] Successfully opened dynamic library libcudart.so.11.0\n"
     ]
    }
   ],
   "source": [
    "from seligator.common.params import MetadataEncoding, Seq2VecEncoderType, BasisVectorConfiguration\n",
    "from seligator.main import train_and_get, Seligator\n",
    "from seligator.common.load_save import load\n",
    "from seligator.tests.evaluate import run_tests\n",
    "\n",
    "from seligator.models.siamese import SiameseClassifier\n",
    "from seligator.models.classifier import FeatureEmbeddingClassifier\n",
    "import os\n",
    "import json\n",
    "import logging\n",
    "\n",
    "logger = logging.getLogger()\n",
    "logger.setLevel(logging.WARNING)\n",
    "\n",
    "def get_json_fn(fn):\n",
    "    return f\"results-{fn}.json\"\n",
    "\n",
    "def already_done(fn):\n",
    "    return os.path.exists(get_json_fn(fn))\n",
    "\n",
    "def save_json(fn, obj):\n",
    "    with open(get_json_fn(fn), \"w\") as f:\n",
    "        json.dump(obj, f)\n",
    "\n",
    "\n",
    "# Run tests on Vectors Categories\n",
    "def get_kwargs():\n",
    "    METADATA_CATS = (\"Century\", \"Textgroup\", \"WrittenType\", \"CitationTypes\")\n",
    "    BVC = BasisVectorConfiguration(\n",
    "        categories=METADATA_CATS\n",
    "    )\n",
    "    return dict(\n",
    "        token_features=(\"lemma_char\", \"lemma\")\n",
    "        msd_features=(\"case\", \"numb\", \"gend\", \"mood\", \"tense\", \"voice\", \"person\", \"deg\"),\n",
    "        seq2vec_encoder_type=Seq2VecEncoderType.LSTM,\n",
    "        basis_vector_configuration=BVC,\n",
    "        agglomerate_msd=False,\n",
    "        reader_kwargs={\n",
    "            \"batch_size\": 4, \n",
    "            \"metadata_encoding\": MetadataEncoding.IGNORE,\n",
    "            \"metadata_tokens_categories\": METADATA_CATS\n",
    "        },\n",
    "        model_embedding_kwargs=dict(\n",
    "            keep_all_vocab=True,\n",
    "            pretrained_embeddings={\n",
    "                # \"token\": \"~/Downloads/latin.embeddings\",\n",
    "            #    \"token\": \"~/dev/these/notebooks/4 - Detection/data/embs_models/model.token.word2vec.kv\",\n",
    "            #    \"lemma\": \"~/dev/these/notebooks/4 - Detection/data/embs_models/model.lemma.word2vec.kv.header\"\n",
    "            },\n",
    "            trainable_embeddings={\"token\": False, \"lemma\": False},\n",
    "            emb_dims={\"token\": 200, \"lemma\": 200}\n",
    "        ),\n",
    "        encoder_hidden_size=64,\n",
    "        batches_per_epoch=None,\n",
    "        model_class=FeatureEmbeddingClassifier,\n",
    "        use_bert_highway=False,\n",
    "        bert_dir: str = \"./bert/latin_bert\",\n",
    "    )\n",
    "\n",
    "    # \n",
    "#        additional_model_kwargs={\n",
    "#            \"metadata_linear\": False,\n",
    "#        }\n",
    "    \n",
    "def get_train_and_get_kwargs():\n",
    "    return dict(patience=4, num_epochs=20, lr=5e-4, optimizer=\"AdamW\")\n",
    "\n",
    "def jqs(data):\n",
    "    return \"-\".join(sorted(list(data)))\n",
    "\n",
    "def get_filename(params, prefix = \"model\"):\n",
    "    remaped = []\n",
    "    for key in sorted(list(params.keys())):\n",
    "        if isinstance(params[key], str) and not params[key]:\n",
    "            continue\n",
    "        if isinstance(params[key], str) and \"-\" in params[key]:\n",
    "            remaped.append(f\"{key}-\"+\"\".join([\n",
    "                \"\".join([\n",
    "                    subv[:3].lower().capitalize()\n",
    "                    for subv in v.split(\"_\")\n",
    "                ])\n",
    "                for v in params[key].split(\"-\")\n",
    "            ]))\n",
    "        else:\n",
    "            remaped.append(f\"{key}-{params[key]}\")\n",
    "    print(remaped)\n",
    "    return prefix+\"--\"+\"__\".join(remaped)\n",
    "\n",
    "def merge(source, destination):\n",
    "    \"\"\" Source = New , Destination = Default\n",
    "    run me with nosetests --with-doctest file.py\n",
    "\n",
    "    >>> a = { 'first' : { 'all_rows' : { 'pass' : 'dog', 'number' : '1' } } }\n",
    "    >>> b = { 'first' : { 'all_rows' : { 'fail' : 'cat', 'number' : '5' } } }\n",
    "    >>> merge(b, a) == { 'first' : { 'all_rows' : { 'pass' : 'dog', 'fail' : 'cat', 'number' : '5' } } }\n",
    "    True\n",
    "    \"\"\"\n",
    "    for key, value in source.items():\n",
    "        if isinstance(value, dict):\n",
    "            # get node or create one\n",
    "            node = destination.setdefault(key, {})\n",
    "            merge(value, node)\n",
    "        else:\n",
    "            destination[key] = value\n",
    "\n",
    "    return destination\n",
    "\n",
    "def run_and_save(prepare_model_kwargs, train_kwargs, model_name_prefix: str = \"model\"):\n",
    "    main_params = {\n",
    "        \"Features\": jqs(prepare_model_kwargs[\"input_features\"]),\n",
    "        \"Metadata\": jqs(prepare_model_kwargs[\"reader_kwargs\"][\"metadata_tokens_categories\"]),\n",
    "        \"MetadataEncoding\": prepare_model_kwargs[\"reader_kwargs\"][\"metadata_encoding\"].name,\n",
    "        \"Pretrain\": jqs(prepare_model_kwargs[\"model_embedding_kwargs\"][\"pretrained_embeddings\"].keys()),\n",
    "        \"Trainable\": jqs([\n",
    "            key \n",
    "            for key in prepare_model_kwargs[\"model_embedding_kwargs\"][\"trainable_embeddings\"]\n",
    "            if key in prepare_model_kwargs[\"model_embedding_kwargs\"][\"pretrained_embeddings\"] and\n",
    "            prepare_model_kwargs[\"model_embedding_kwargs\"][\"trainable_embeddings\"][key] is True\n",
    "        ]),\n",
    "        \"AgglomerateMSD\": prepare_model_kwargs[\"agglomerate_msd\"],\n",
    "        \"Encoder\": prepare_model_kwargs[\"seq2vec_encoder_type\"].name,\n",
    "        **prepare_model_kwargs.get(\"additional_model_kwargs\", {}),\n",
    "        \"Model\": prepare_model_kwargs[\"model_class\"].__name__.replace(\"Classifier\", \"\")\n",
    "    }\n",
    "    if \"token_subword\" in prepare_model_kwargs[\"input_features\"]:\n",
    "        main_params[\"Highway\"] = prepare_model_kwargs.get(\"use_bert_highway\", False)\n",
    "        \n",
    "    if main_params[\"Model\"] == \"Siamese\":\n",
    "        main_params[\"BpE\"] = prepare_model_kwargs.get(\"batches_per_epoch\", None)\n",
    "        \n",
    "    fn = get_filename(main_params, model_name_prefix)\n",
    "    \n",
    "    if already_done(fn):\n",
    "        print(f\"Already trained {fn}\")\n",
    "        return {}\n",
    "    \n",
    "    seligator, reader, train, dev = Seligator.init_for_training_with_params(**prepare_model_kwargs)\n",
    "    _ = train_and_get(seligator.model, train, dev, **train_kwargs)\n",
    "    data, img = run_tests(\n",
    "        \"dataset/split/test.txt\",\n",
    "        dataset_reader=reader, model=seligator.model, dump=f\"test.{fn}.csv\"\n",
    "    )\n",
    "    out = {\n",
    "        fn: {\n",
    "            **{x:v for x, v in data.items() if isinstance(v, float)},\n",
    "            **main_params,\n",
    "            **train_kwargs\n",
    "        }\n",
    "    }\n",
    "    save_json(fn, out)\n",
    "    return out\n",
    "\n",
    "def get_siamese():\n",
    "    siamese = get_kwargs()\n",
    "    siamese[\"model_class\"] = SiameseClassifier\n",
    "    siamese[\"batches_per_epoch\"] = 20\n",
    "    siamese_train_kwargs = get_train_and_get_kwargs()\n",
    "    siamese_train_kwargs[\"num_epochs\"] = siamese_train_kwargs[\"num_epochs\"] * int(1351 // siamese[\"batches_per_epoch\"])\n",
    "    siamese_train_kwargs[\"patience\"] = 10\n",
    "    return siamese, siamese_train_kwargs\n",
    "\n",
    "def get_classic():\n",
    "    return get_kwargs(), get_train_and_get_kwargs()\n",
    "\n",
    "RUNS = {}"
   ]
  },
  {
   "cell_type": "code",
   "execution_count": 5,
   "id": "74c2e274",
   "metadata": {},
   "outputs": [
    {
     "data": {
      "text/plain": [
       "'{\"input_features\": [\"lemma_char\", \"lemma\", \"case\", \"numb\", \"gend\", \"mood\", \"tense\", \"voice\", \"person\", \"deg\"], \"seq2vec_encoder_type\": {\"__enum__\": \"Seq2VecEncoderType.HAN\"}, \"basis_vector_configuration\": {\"__basis_vector_configuration__\": {\"categories\": [\"Century\", \"Textgroup\", \"WrittenType\", \"CitationTypes\"], \"categories_dim\": null, \"emb_dim\": 64, \"num_bases\": 3, \"key_query_size\": 64}}, \"agglomerate_msd\": true, \"reader_kwargs\": {\"batch_size\": 4, \"metadata_encoding\": {\"__enum__\": \"MetadataEncoding.AS_CATEGORICAL\"}, \"metadata_tokens_categories\": [\"Century\", \"Textgroup\", \"WrittenType\", \"CitationTypes\"]}, \"model_embedding_kwargs\": {\"keep_all_vocab\": true, \"pretrained_embeddings\": {\"lemma\": \"~/dev/these/notebooks/4 - Detection/data/embs_models/model.lemma.word2vec.kv.header\"}, \"trainable_embeddings\": {\"token\": false, \"lemma\": false}, \"pretrained_emb_dims\": {\"token\": 200, \"lemma\": 200}}, \"model_class\": {\"__type__\": \"FeatureEmbeddingClassifier\"}, \"use_bert_highway\": false, \"additional_model_kwargs\": {\"metadata_linear\": true}}'"
      ]
     },
     "execution_count": 5,
     "metadata": {},
     "output_type": "execute_result"
    }
   ],
   "source": [
    "# Check what can be JSONIFIED\n",
    "\n",
    "import json\n",
    "\n",
    "# https://stackoverflow.com/questions/24481852/serialising-an-enum-member-to-json\n",
    "\n",
    "class CustomEncoder(json.JSONEncoder):\n",
    "    _PUBLIC_ENUMS = {\n",
    "        \"MetadataEncoding\": MetadataEncoding, \n",
    "        \"Seq2VecEncoderType\": Seq2VecEncoderType, \n",
    "        #\"BasisVectorConfiguration\": BasisVectorConfiguration\n",
    "    }\n",
    "    _PUBLIC_CLASSES = {\n",
    "        \"SiameseClassifier\": SiameseClassifier,\n",
    "        \"FeatureEmbeddingClassifier\": FeatureEmbeddingClassifier\n",
    "    }\n",
    "\n",
    "    def default(self, obj):\n",
    "        if type(obj) in CustomEncoder._PUBLIC_ENUMS.values():\n",
    "            return {\"__enum__\": str(obj)}\n",
    "        elif isinstance(obj, type):\n",
    "            if obj in CustomEncoder._PUBLIC_CLASSES.values():\n",
    "                return {\"__type__\": str(obj.__name__)}\n",
    "            else:\n",
    "                print(obj)\n",
    "        elif isinstance(obj, BasisVectorConfiguration):\n",
    "            return {\"__basis_vector_configuration__\": obj.to_dict()}\n",
    "        return json.JSONEncoder.default(self, obj)\n",
    "\n",
    "    @staticmethod\n",
    "    def object_hook(d):\n",
    "        if \"__enum__\" in d:\n",
    "            name, member = d[\"__enum__\"].split(\".\")\n",
    "            return getattr(CustomEncoder._PUBLIC_ENUMS[name], member)\n",
    "        elif \"__type__\" in d:\n",
    "            return CustomEncoder._PUBLIC_CLASSES[d[\"__type__\"]]\n",
    "        elif \"__basis_vector_configuration__\" in d:\n",
    "            return BasisVectorConfiguration.from_dict(d[\"__basis_vector_configuration__\"])\n",
    "        else:\n",
    "            return d\n",
    "\n",
    "\n",
    "PRE_LEMMA = {\n",
    "    \"model_embedding_kwargs\":{\n",
    "        \"pretrained_embeddings\": {\n",
    "            \"lemma\": \"~/dev/these/notebooks/4 - Detection/data/embs_models/model.lemma.word2vec.kv.header\"\n",
    "        }\n",
    "    }\n",
    "}\n",
    "json.dumps(merge({\"agglomerate_msd\": True, \"seq2vec_encoder_type\": Seq2VecEncoderType.HAN,\n",
    "                \"reader_kwargs\": {\"metadata_encoding\": MetadataEncoding.AS_CATEGORICAL},\n",
    "                \"additional_model_kwargs\": { \"metadata_linear\": True},\n",
    "                **PRE_LEMMA\n",
    "            }, get_kwargs()), cls=CustomEncoder)"
   ]
  },
  {
   "cell_type": "code",
   "execution_count": 2,
   "id": "6788d384",
   "metadata": {},
   "outputs": [],
   "source": [
    "def do_runs(get_kw, has_linear=False):\n",
    "    PRE_LEMMA = {\n",
    "        \"model_embedding_kwargs\":{\n",
    "            \"pretrained_embeddings\": {\n",
    "                \"lemma\": \"~/dev/these/notebooks/4 - Detection/data/embs_models/model.lemma.word2vec.kv.header\"\n",
    "            }\n",
    "        }\n",
    "    }\n",
    "    Changes = [\n",
    "        # Use raw Bert\n",
    "        ({\"input_features\": (\"token_subword\", )}, {}),\n",
    "        # Use raw Bert No Highway\n",
    "        ({\"input_features\": (\"token_subword\", ), \"use_bert_highway\": True}, {}),\n",
    "        # Use raw Bert + Lemma\n",
    "        ({\n",
    "            \"input_features\": (\"token_subword\", \"lemma\", \"lemma_char\"),\n",
    "            \"seq2vec_encoder_type\": Seq2VecEncoderType.HAN,\n",
    "            \"use_bert_highway\": False\n",
    "        }, {}),\n",
    "        ({}, {}),\n",
    "        # Raw Features + MSD + Vanilla LSTM\n",
    "        ({\"agglomerate_msd\": True}, {}),\n",
    "        # Raw Features + MSD + HAN\n",
    "        ({\"agglomerate_msd\": True, \"seq2vec_encoder_type\": Seq2VecEncoderType.HAN}, {}),\n",
    "        # Raw Features + MSD + Enriched LSTM\n",
    "        ({\"agglomerate_msd\": True, \"seq2vec_encoder_type\": Seq2VecEncoderType.MetadataLSTM,\n",
    "            \"reader_kwargs\": {\"metadata_encoding\": MetadataEncoding.AS_CATEGORICAL}}, {}),\n",
    "        # Raw Features + MSD + Enriched Attention\n",
    "        ({\"agglomerate_msd\": True, \"seq2vec_encoder_type\": Seq2VecEncoderType.MetadataAttentionPooling,\n",
    "            \"reader_kwargs\": {\"metadata_encoding\": MetadataEncoding.AS_CATEGORICAL}}, {}),\n",
    "        # Raw Features + MSD + Attention\n",
    "        ({\"agglomerate_msd\": True, \"seq2vec_encoder_type\": Seq2VecEncoderType.AttentionPooling,\n",
    "            \"reader_kwargs\": {\"metadata_encoding\": MetadataEncoding.AS_CATEGORICAL}}, {}),\n",
    "        # Now we use Metadata Tokens !\n",
    "        # Raw Features + MSD + Attention\n",
    "        #({ # Does not work because AttentionPooling expects metadata_vector\n",
    "        #    \"reader_kwargs\": {\"metadata_encoding\": MetadataEncoding.AS_TOKEN},\n",
    "        #    \"agglomerate_msd\": True, \"seq2vec_encoder_type\": Seq2VecEncoderType.AttentionPooling}, {}),\n",
    "        # Raw Features + MSD + Attention\n",
    "        ({\n",
    "            \"reader_kwargs\": {\"metadata_encoding\": MetadataEncoding.AS_TOKEN},\n",
    "            \"agglomerate_msd\": True, \"seq2vec_encoder_type\": Seq2VecEncoderType.HAN}, {}),\n",
    "        #\n",
    "        #\n",
    "        # With Pretrained\n",
    "        #\n",
    "        #\n",
    "        # Raw Features + MSD + Vanilla LSTM\n",
    "        ({\"agglomerate_msd\": True, **PRE_LEMMA}, {}),\n",
    "        # Raw Features + MSD + HAN\n",
    "        ({\"agglomerate_msd\": True, \"seq2vec_encoder_type\": Seq2VecEncoderType.HAN,\n",
    "          **PRE_LEMMA}, {}),\n",
    "        # Raw Features + MSD + Enriched LSTM\n",
    "        ({\"agglomerate_msd\": True, \"seq2vec_encoder_type\": Seq2VecEncoderType.MetadataLSTM,\n",
    "            \"reader_kwargs\": {\"metadata_encoding\": MetadataEncoding.AS_CATEGORICAL},\n",
    "          **PRE_LEMMA}, {}),\n",
    "        # Raw Features + MSD + Enriched Attention\n",
    "        ({\"agglomerate_msd\": True, \"seq2vec_encoder_type\": Seq2VecEncoderType.MetadataAttentionPooling,\n",
    "            \"reader_kwargs\": {\"metadata_encoding\": MetadataEncoding.AS_CATEGORICAL},\n",
    "          **PRE_LEMMA}, {}),\n",
    "        # Raw Features + MSD + Attention\n",
    "        ({\"agglomerate_msd\": True, \"seq2vec_encoder_type\": Seq2VecEncoderType.AttentionPooling,\n",
    "            \"reader_kwargs\": {\"metadata_encoding\": MetadataEncoding.AS_CATEGORICAL},\n",
    "          **PRE_LEMMA}, {}),\n",
    "    ]\n",
    "    if has_linear:\n",
    "        Changes = Changes + [\n",
    "            ({\n",
    "                \"reader_kwargs\": {\"metadata_encoding\": MetadataEncoding.AS_CATEGORICAL},\n",
    "                \"additional_model_kwargs\": { \"metadata_linear\": True}\n",
    "            }, {}),\n",
    "            ({\n",
    "                \"reader_kwargs\": {\"metadata_encoding\": MetadataEncoding.AS_CATEGORICAL},\n",
    "                \"additional_model_kwargs\": { \"metadata_linear\": True},\n",
    "                **PRE_LEMMA\n",
    "            }, {}),\n",
    "            ({\"agglomerate_msd\": True, \"seq2vec_encoder_type\": Seq2VecEncoderType.HAN,\n",
    "                \"reader_kwargs\": {\"metadata_encoding\": MetadataEncoding.AS_CATEGORICAL},\n",
    "                \"additional_model_kwargs\": { \"metadata_linear\": True},\n",
    "                **PRE_LEMMA\n",
    "            }, {}),\n",
    "            ({\"agglomerate_msd\": True, \"seq2vec_encoder_type\": Seq2VecEncoderType.MetadataLSTM,\n",
    "                \"reader_kwargs\": {\"metadata_encoding\": MetadataEncoding.AS_CATEGORICAL},\n",
    "                \"additional_model_kwargs\": { \"metadata_linear\": True},\n",
    "                **PRE_LEMMA\n",
    "            }, {}),\n",
    "            # Apparently, its the best, so let's play with input features\n",
    "            # (\"lemma_char\", \"lemma\", \"case\", \"numb\", \"gend\", \"mood\", \"tense\", \"voice\", \"person\", \"deg\")\n",
    "            ({\"input_features\": (\"lemma_char\", \"lemma\"), #No morph\n",
    "              \"agglomerate_msd\": False, \"seq2vec_encoder_type\": Seq2VecEncoderType.HAN,\n",
    "                \"reader_kwargs\": {\"metadata_encoding\": MetadataEncoding.AS_CATEGORICAL},\n",
    "                \"additional_model_kwargs\": { \"metadata_linear\": True},\n",
    "                **PRE_LEMMA\n",
    "            }, {}), # No chars\n",
    "            ({\"input_features\": (\"lemma\", \"case\", \"numb\", \"gend\", \"mood\", \"tense\", \"voice\", \"person\", \"deg\"), #No morph\n",
    "              \"agglomerate_msd\": False, \"seq2vec_encoder_type\": Seq2VecEncoderType.HAN,\n",
    "                \"reader_kwargs\": {\"metadata_encoding\": MetadataEncoding.AS_CATEGORICAL},\n",
    "                \"additional_model_kwargs\": { \"metadata_linear\": True},\n",
    "                **PRE_LEMMA\n",
    "            }, {}), # No chars but tokens\n",
    "            ({\"input_features\": (\"lemma\", \"token\", \"case\", \"numb\", \"gend\", \"mood\", \"tense\", \"voice\", \"person\", \"deg\"), #No morph\n",
    "              \"agglomerate_msd\": False, \"seq2vec_encoder_type\": Seq2VecEncoderType.HAN,\n",
    "                \"reader_kwargs\": {\"metadata_encoding\": MetadataEncoding.AS_CATEGORICAL},\n",
    "                \"additional_model_kwargs\": { \"metadata_linear\": True},\n",
    "                **PRE_LEMMA\n",
    "            }, {}),\n",
    "        ]\n",
    "    for idx, (model_kw, train_kw) in enumerate(Changes):\n",
    "        defaults_model, default_trains = get_kw()\n",
    "        model_kw = merge(model_kw, defaults_model)\n",
    "        train_kw = merge(train_kw, default_trains)\n",
    "        RUNS.update(run_and_save(model_kw, train_kw, model_name_prefix=f\"model{idx}-\"))"
   ]
  },
  {
   "cell_type": "markdown",
   "id": "f18fe1ce",
   "metadata": {},
   "source": [
    "# Siamese Networks"
   ]
  },
  {
   "cell_type": "code",
   "execution_count": 3,
   "id": "42cf700f",
   "metadata": {
    "scrolled": false
   },
   "outputs": [
    {
     "name": "stderr",
     "output_type": "stream",
     "text": [
      "/home/thibault/dev/est-lascivuum-non-est/env/lib/python3.8/site-packages/allennlp/data/token_indexers/token_characters_indexer.py:55: UserWarning: You are using the default value (0) of `min_padding_length`, which can cause some subtle bugs (more info see https://github.com/allenai/allennlp/issues/1954). Strongly recommend to set a value, usually the maximum size of the convolutional layer size when using CnnEncoder.\n",
      "  warnings.warn(\n",
      "WARNING:allennlp.data.fields.multilabel_field:Your label namespace was '[msd]'. We recommend you use a namespace ending with 'labels' or 'tags', so we don't add UNK and PAD tokens by default to your vocabulary.  See documentation for `non_padded_namespaces` parameter in Vocabulary.\n"
     ]
    },
    {
     "name": "stdout",
     "output_type": "stream",
     "text": [
      "['AgglomerateMSD-False', 'Encoder-LSTM', 'Features-token_subword', 'Highway-False', 'Metadata-CenCitTexWri', 'MetadataEncoding-IGNORE', 'Model-FeatureEmbedding']\n",
      "Already trained model0---AgglomerateMSD-False__Encoder-LSTM__Features-token_subword__Highway-False__Metadata-CenCitTexWri__MetadataEncoding-IGNORE__Model-FeatureEmbedding\n",
      "['AgglomerateMSD-False', 'Encoder-LSTM', 'Features-token_subword', 'Highway-True', 'Metadata-CenCitTexWri', 'MetadataEncoding-IGNORE', 'Model-FeatureEmbedding']\n",
      "Already trained model1---AgglomerateMSD-False__Encoder-LSTM__Features-token_subword__Highway-True__Metadata-CenCitTexWri__MetadataEncoding-IGNORE__Model-FeatureEmbedding\n",
      "['AgglomerateMSD-False', 'Encoder-HAN', 'Features-LemLemChaTokSub', 'Highway-False', 'Metadata-CenCitTexWri', 'MetadataEncoding-IGNORE', 'Model-FeatureEmbedding']\n",
      "Already trained model2---AgglomerateMSD-False__Encoder-HAN__Features-LemLemChaTokSub__Highway-False__Metadata-CenCitTexWri__MetadataEncoding-IGNORE__Model-FeatureEmbedding\n",
      "['AgglomerateMSD-False', 'Encoder-LSTM', 'Features-CasDegGenLemLemChaMooNumPerTenVoi', 'Metadata-CenCitTexWri', 'MetadataEncoding-IGNORE', 'Model-FeatureEmbedding']\n",
      "Already trained model3---AgglomerateMSD-False__Encoder-LSTM__Features-CasDegGenLemLemChaMooNumPerTenVoi__Metadata-CenCitTexWri__MetadataEncoding-IGNORE__Model-FeatureEmbedding\n",
      "['AgglomerateMSD-True', 'Encoder-LSTM', 'Features-CasDegGenLemLemChaMooNumPerTenVoi', 'Metadata-CenCitTexWri', 'MetadataEncoding-IGNORE', 'Model-FeatureEmbedding']\n",
      "Already trained model4---AgglomerateMSD-True__Encoder-LSTM__Features-CasDegGenLemLemChaMooNumPerTenVoi__Metadata-CenCitTexWri__MetadataEncoding-IGNORE__Model-FeatureEmbedding\n",
      "['AgglomerateMSD-True', 'Encoder-HAN', 'Features-CasDegGenLemLemChaMooNumPerTenVoi', 'Metadata-CenCitTexWri', 'MetadataEncoding-IGNORE', 'Model-FeatureEmbedding']\n",
      "Already trained model5---AgglomerateMSD-True__Encoder-HAN__Features-CasDegGenLemLemChaMooNumPerTenVoi__Metadata-CenCitTexWri__MetadataEncoding-IGNORE__Model-FeatureEmbedding\n",
      "['AgglomerateMSD-True', 'Encoder-MetadataLSTM', 'Features-CasDegGenLemLemChaMooNumPerTenVoi', 'Metadata-CenCitTexWri', 'MetadataEncoding-AS_CATEGORICAL', 'Model-FeatureEmbedding']\n",
      "Already trained model6---AgglomerateMSD-True__Encoder-MetadataLSTM__Features-CasDegGenLemLemChaMooNumPerTenVoi__Metadata-CenCitTexWri__MetadataEncoding-AS_CATEGORICAL__Model-FeatureEmbedding\n",
      "['AgglomerateMSD-True', 'Encoder-MetadataAttentionPooling', 'Features-CasDegGenLemLemChaMooNumPerTenVoi', 'Metadata-CenCitTexWri', 'MetadataEncoding-AS_CATEGORICAL', 'Model-FeatureEmbedding']\n",
      "Already trained model7---AgglomerateMSD-True__Encoder-MetadataAttentionPooling__Features-CasDegGenLemLemChaMooNumPerTenVoi__Metadata-CenCitTexWri__MetadataEncoding-AS_CATEGORICAL__Model-FeatureEmbedding\n",
      "['AgglomerateMSD-True', 'Encoder-AttentionPooling', 'Features-CasDegGenLemLemChaMooNumPerTenVoi', 'Metadata-CenCitTexWri', 'MetadataEncoding-AS_CATEGORICAL', 'Model-FeatureEmbedding']\n",
      "Already trained model8---AgglomerateMSD-True__Encoder-AttentionPooling__Features-CasDegGenLemLemChaMooNumPerTenVoi__Metadata-CenCitTexWri__MetadataEncoding-AS_CATEGORICAL__Model-FeatureEmbedding\n",
      "['AgglomerateMSD-True', 'Encoder-HAN', 'Features-CasDegGenLemLemChaMooNumPerTenVoi', 'Metadata-CenCitTexWri', 'MetadataEncoding-AS_TOKEN', 'Model-FeatureEmbedding']\n",
      "Already trained model9---AgglomerateMSD-True__Encoder-HAN__Features-CasDegGenLemLemChaMooNumPerTenVoi__Metadata-CenCitTexWri__MetadataEncoding-AS_TOKEN__Model-FeatureEmbedding\n",
      "['AgglomerateMSD-True', 'Encoder-LSTM', 'Features-CasDegGenLemLemChaMooNumPerTenVoi', 'Metadata-CenCitTexWri', 'MetadataEncoding-IGNORE', 'Model-FeatureEmbedding', 'Pretrain-lemma']\n",
      "Already trained model10---AgglomerateMSD-True__Encoder-LSTM__Features-CasDegGenLemLemChaMooNumPerTenVoi__Metadata-CenCitTexWri__MetadataEncoding-IGNORE__Model-FeatureEmbedding__Pretrain-lemma\n",
      "['AgglomerateMSD-True', 'Encoder-HAN', 'Features-CasDegGenLemLemChaMooNumPerTenVoi', 'Metadata-CenCitTexWri', 'MetadataEncoding-IGNORE', 'Model-FeatureEmbedding', 'Pretrain-lemma']\n",
      "Already trained model11---AgglomerateMSD-True__Encoder-HAN__Features-CasDegGenLemLemChaMooNumPerTenVoi__Metadata-CenCitTexWri__MetadataEncoding-IGNORE__Model-FeatureEmbedding__Pretrain-lemma\n",
      "['AgglomerateMSD-True', 'Encoder-MetadataLSTM', 'Features-CasDegGenLemLemChaMooNumPerTenVoi', 'Metadata-CenCitTexWri', 'MetadataEncoding-AS_CATEGORICAL', 'Model-FeatureEmbedding', 'Pretrain-lemma']\n",
      "Already trained model12---AgglomerateMSD-True__Encoder-MetadataLSTM__Features-CasDegGenLemLemChaMooNumPerTenVoi__Metadata-CenCitTexWri__MetadataEncoding-AS_CATEGORICAL__Model-FeatureEmbedding__Pretrain-lemma\n",
      "['AgglomerateMSD-True', 'Encoder-MetadataAttentionPooling', 'Features-CasDegGenLemLemChaMooNumPerTenVoi', 'Metadata-CenCitTexWri', 'MetadataEncoding-AS_CATEGORICAL', 'Model-FeatureEmbedding', 'Pretrain-lemma']\n",
      "Already trained model13---AgglomerateMSD-True__Encoder-MetadataAttentionPooling__Features-CasDegGenLemLemChaMooNumPerTenVoi__Metadata-CenCitTexWri__MetadataEncoding-AS_CATEGORICAL__Model-FeatureEmbedding__Pretrain-lemma\n",
      "['AgglomerateMSD-True', 'Encoder-AttentionPooling', 'Features-CasDegGenLemLemChaMooNumPerTenVoi', 'Metadata-CenCitTexWri', 'MetadataEncoding-AS_CATEGORICAL', 'Model-FeatureEmbedding', 'Pretrain-lemma']\n",
      "Already trained model14---AgglomerateMSD-True__Encoder-AttentionPooling__Features-CasDegGenLemLemChaMooNumPerTenVoi__Metadata-CenCitTexWri__MetadataEncoding-AS_CATEGORICAL__Model-FeatureEmbedding__Pretrain-lemma\n",
      "['AgglomerateMSD-False', 'Encoder-LSTM', 'Features-CasDegGenLemLemChaMooNumPerTenVoi', 'Metadata-CenCitTexWri', 'MetadataEncoding-AS_CATEGORICAL', 'Model-FeatureEmbedding', 'metadata_linear-True']\n",
      "Already trained model15---AgglomerateMSD-False__Encoder-LSTM__Features-CasDegGenLemLemChaMooNumPerTenVoi__Metadata-CenCitTexWri__MetadataEncoding-AS_CATEGORICAL__Model-FeatureEmbedding__metadata_linear-True\n",
      "['AgglomerateMSD-False', 'Encoder-LSTM', 'Features-CasDegGenLemLemChaMooNumPerTenVoi', 'Metadata-CenCitTexWri', 'MetadataEncoding-AS_CATEGORICAL', 'Model-FeatureEmbedding', 'Pretrain-lemma', 'metadata_linear-True']\n",
      "Already trained model16---AgglomerateMSD-False__Encoder-LSTM__Features-CasDegGenLemLemChaMooNumPerTenVoi__Metadata-CenCitTexWri__MetadataEncoding-AS_CATEGORICAL__Model-FeatureEmbedding__Pretrain-lemma__metadata_linear-True\n",
      "['AgglomerateMSD-True', 'Encoder-HAN', 'Features-CasDegGenLemLemChaMooNumPerTenVoi', 'Metadata-CenCitTexWri', 'MetadataEncoding-AS_CATEGORICAL', 'Model-FeatureEmbedding', 'Pretrain-lemma', 'metadata_linear-True']\n"
     ]
    },
    {
     "data": {
      "application/vnd.jupyter.widget-view+json": {
       "model_id": "fc2c673ea6094f139232c6f3dc6058be",
       "version_major": 2,
       "version_minor": 0
      },
      "text/plain": [
       "building vocab:   0%|          | 0/5427 [00:00<?, ?it/s]"
      ]
     },
     "metadata": {},
     "output_type": "display_data"
    },
    {
     "name": "stderr",
     "output_type": "stream",
     "text": [
      "WARNING:allennlp.modules.token_embedders.embedding:The embeddings file has an unknown file extension \".header\". We will assume the file is an (uncompressed) text file\n"
     ]
    },
    {
     "data": {
      "application/vnd.jupyter.widget-view+json": {
       "model_id": "b925f12e69ea496ca32a52e7093453ea",
       "version_major": 2,
       "version_minor": 0
      },
      "text/plain": [
       "  0%|          | 0/155131 [00:00<?, ?it/s]"
      ]
     },
     "metadata": {},
     "output_type": "display_data"
    },
    {
     "name": "stderr",
     "output_type": "stream",
     "text": [
      "/home/thibault/dev/est-lascivuum-non-est/env/lib/python3.8/site-packages/torch/nn/modules/rnn.py:60: UserWarning: dropout option adds dropout after all but last recurrent layer, so non-zero dropout expects num_layers greater than 1, but got dropout=0.3 and num_layers=1\n",
      "  warnings.warn(\"dropout option adds dropout after all but last \"\n"
     ]
    },
    {
     "name": "stdout",
     "output_type": "stream",
     "text": [
      "---> Epochs:   20\n",
      "---> Patience: 4\n"
     ]
    },
    {
     "data": {
      "application/vnd.jupyter.widget-view+json": {
       "model_id": "ee76d9170ae1479aa95ef19743b6977e",
       "version_major": 2,
       "version_minor": 0
      },
      "text/plain": [
       "  0%|          | 0/1357 [00:00<?, ?it/s]"
      ]
     },
     "metadata": {},
     "output_type": "display_data"
    },
    {
     "name": "stderr",
     "output_type": "stream",
     "text": [
      "/home/thibault/dev/est-lascivuum-non-est/seligator/models/classifier.py:59: UserWarning: Implicit dimension choice for softmax has been deprecated. Change the call to include dim=X as an argument.\n",
      "  probs = F.softmax(logits)\n"
     ]
    },
    {
     "data": {
      "application/vnd.jupyter.widget-view+json": {
       "model_id": "e94ce95251fa44caa0dfac8b345ce171",
       "version_major": 2,
       "version_minor": 0
      },
      "text/plain": [
       "  0%|          | 0/170 [00:00<?, ?it/s]"
      ]
     },
     "metadata": {},
     "output_type": "display_data"
    },
    {
     "data": {
      "application/vnd.jupyter.widget-view+json": {
       "model_id": "1e850468109d499894f53654cf01c849",
       "version_major": 2,
       "version_minor": 0
      },
      "text/plain": [
       "  0%|          | 0/1357 [00:00<?, ?it/s]"
      ]
     },
     "metadata": {},
     "output_type": "display_data"
    },
    {
     "data": {
      "application/vnd.jupyter.widget-view+json": {
       "model_id": "54be518164ad4f97ac45bf08acbbd69d",
       "version_major": 2,
       "version_minor": 0
      },
      "text/plain": [
       "  0%|          | 0/170 [00:00<?, ?it/s]"
      ]
     },
     "metadata": {},
     "output_type": "display_data"
    },
    {
     "data": {
      "application/vnd.jupyter.widget-view+json": {
       "model_id": "4537e8825063457bbd715e0ab0f75e57",
       "version_major": 2,
       "version_minor": 0
      },
      "text/plain": [
       "  0%|          | 0/1357 [00:00<?, ?it/s]"
      ]
     },
     "metadata": {},
     "output_type": "display_data"
    },
    {
     "data": {
      "application/vnd.jupyter.widget-view+json": {
       "model_id": "37759e614be3442f8d5e27d2012e9845",
       "version_major": 2,
       "version_minor": 0
      },
      "text/plain": [
       "  0%|          | 0/170 [00:00<?, ?it/s]"
      ]
     },
     "metadata": {},
     "output_type": "display_data"
    },
    {
     "data": {
      "application/vnd.jupyter.widget-view+json": {
       "model_id": "400b7e3c404e405b9fe2ba16162b98ea",
       "version_major": 2,
       "version_minor": 0
      },
      "text/plain": [
       "  0%|          | 0/1357 [00:00<?, ?it/s]"
      ]
     },
     "metadata": {},
     "output_type": "display_data"
    },
    {
     "data": {
      "application/vnd.jupyter.widget-view+json": {
       "model_id": "edb8db2d67bb49619fbf981821d2e556",
       "version_major": 2,
       "version_minor": 0
      },
      "text/plain": [
       "  0%|          | 0/170 [00:00<?, ?it/s]"
      ]
     },
     "metadata": {},
     "output_type": "display_data"
    },
    {
     "data": {
      "application/vnd.jupyter.widget-view+json": {
       "model_id": "23aa9ec6f7004e13af29f8cc98ee06a1",
       "version_major": 2,
       "version_minor": 0
      },
      "text/plain": [
       "  0%|          | 0/1357 [00:00<?, ?it/s]"
      ]
     },
     "metadata": {},
     "output_type": "display_data"
    },
    {
     "data": {
      "application/vnd.jupyter.widget-view+json": {
       "model_id": "ac2e169ebb3c4dd088c0bd4a04606ab0",
       "version_major": 2,
       "version_minor": 0
      },
      "text/plain": [
       "  0%|          | 0/170 [00:00<?, ?it/s]"
      ]
     },
     "metadata": {},
     "output_type": "display_data"
    },
    {
     "data": {
      "application/vnd.jupyter.widget-view+json": {
       "model_id": "8f0a55c562f44529a20165188649c2a3",
       "version_major": 2,
       "version_minor": 0
      },
      "text/plain": [
       "  0%|          | 0/1357 [00:00<?, ?it/s]"
      ]
     },
     "metadata": {},
     "output_type": "display_data"
    },
    {
     "data": {
      "application/vnd.jupyter.widget-view+json": {
       "model_id": "2d3515ba43aa4a72813540c7fb1f9f7d",
       "version_major": 2,
       "version_minor": 0
      },
      "text/plain": [
       "  0%|          | 0/170 [00:00<?, ?it/s]"
      ]
     },
     "metadata": {},
     "output_type": "display_data"
    },
    {
     "data": {
      "application/vnd.jupyter.widget-view+json": {
       "model_id": "8919224e9b4b4ffea33b47c6bcb19db0",
       "version_major": 2,
       "version_minor": 0
      },
      "text/plain": [
       "  0%|          | 0/1357 [00:00<?, ?it/s]"
      ]
     },
     "metadata": {},
     "output_type": "display_data"
    },
    {
     "data": {
      "application/vnd.jupyter.widget-view+json": {
       "model_id": "239211a1562f48a1b70392860c557828",
       "version_major": 2,
       "version_minor": 0
      },
      "text/plain": [
       "  0%|          | 0/170 [00:00<?, ?it/s]"
      ]
     },
     "metadata": {},
     "output_type": "display_data"
    },
    {
     "data": {
      "application/vnd.jupyter.widget-view+json": {
       "model_id": "bae596205c29471e969181ab4b18c7a8",
       "version_major": 2,
       "version_minor": 0
      },
      "text/plain": [
       "  0%|          | 0/1357 [00:00<?, ?it/s]"
      ]
     },
     "metadata": {},
     "output_type": "display_data"
    },
    {
     "data": {
      "application/vnd.jupyter.widget-view+json": {
       "model_id": "015403081c874323aca14ba1b15c89dc",
       "version_major": 2,
       "version_minor": 0
      },
      "text/plain": [
       "  0%|          | 0/170 [00:00<?, ?it/s]"
      ]
     },
     "metadata": {},
     "output_type": "display_data"
    },
    {
     "data": {
      "application/vnd.jupyter.widget-view+json": {
       "model_id": "f2fa8b1671f84f94b46e91f79f8207d8",
       "version_major": 2,
       "version_minor": 0
      },
      "text/plain": [
       "  0%|          | 0/1357 [00:00<?, ?it/s]"
      ]
     },
     "metadata": {},
     "output_type": "display_data"
    },
    {
     "data": {
      "application/vnd.jupyter.widget-view+json": {
       "model_id": "b0299677d09c491292ec9571080e6eef",
       "version_major": 2,
       "version_minor": 0
      },
      "text/plain": [
       "  0%|          | 0/170 [00:00<?, ?it/s]"
      ]
     },
     "metadata": {},
     "output_type": "display_data"
    },
    {
     "name": "stdout",
     "output_type": "stream",
     "text": [
      "Evaluating\n"
     ]
    },
    {
     "data": {
      "application/vnd.jupyter.widget-view+json": {
       "model_id": "61f92de0facd41c38c25cd936535e5af",
       "version_major": 2,
       "version_minor": 0
      },
      "text/plain": [
       "0it [00:00, ?it/s]"
      ]
     },
     "metadata": {},
     "output_type": "display_data"
    },
    {
     "name": "stderr",
     "output_type": "stream",
     "text": [
      "WARNING:allennlp.models.model:Encountered the loss key in the model's return dictionary which couldn't be split by the batch size. Key will be ignored.\n"
     ]
    },
    {
     "name": "stdout",
     "output_type": "stream",
     "text": [
      "Evaluating: Predicting\n"
     ]
    },
    {
     "name": "stderr",
     "output_type": "stream",
     "text": [
      "/home/thibault/dev/est-lascivuum-non-est/seligator/tests/evaluate.py:111: UserWarning: Matplotlib is currently using module://matplotlib_inline.backend_inline, which is a non-GUI backend, so cannot show the figure.\n",
      "  disp.figure_.show()\n",
      "/home/thibault/dev/est-lascivuum-non-est/env/lib/python3.8/site-packages/allennlp/data/token_indexers/token_characters_indexer.py:55: UserWarning: You are using the default value (0) of `min_padding_length`, which can cause some subtle bugs (more info see https://github.com/allenai/allennlp/issues/1954). Strongly recommend to set a value, usually the maximum size of the convolutional layer size when using CnnEncoder.\n",
      "  warnings.warn(\n"
     ]
    },
    {
     "name": "stdout",
     "output_type": "stream",
     "text": [
      "['AgglomerateMSD-True', 'Encoder-MetadataLSTM', 'Features-CasDegGenLemLemChaMooNumPerTenVoi', 'Metadata-CenCitTexWri', 'MetadataEncoding-AS_CATEGORICAL', 'Model-FeatureEmbedding', 'Pretrain-lemma', 'metadata_linear-True']\n"
     ]
    },
    {
     "data": {
      "application/vnd.jupyter.widget-view+json": {
       "model_id": "af4a3aa310244b658d7ef15ae82c1a91",
       "version_major": 2,
       "version_minor": 0
      },
      "text/plain": [
       "building vocab:   0%|          | 0/5427 [00:00<?, ?it/s]"
      ]
     },
     "metadata": {},
     "output_type": "display_data"
    },
    {
     "name": "stderr",
     "output_type": "stream",
     "text": [
      "WARNING:allennlp.modules.token_embedders.embedding:The embeddings file has an unknown file extension \".header\". We will assume the file is an (uncompressed) text file\n"
     ]
    },
    {
     "data": {
      "application/vnd.jupyter.widget-view+json": {
       "model_id": "58e5f5a89c974310b63730d3dbbe35d4",
       "version_major": 2,
       "version_minor": 0
      },
      "text/plain": [
       "  0%|          | 0/155131 [00:00<?, ?it/s]"
      ]
     },
     "metadata": {},
     "output_type": "display_data"
    },
    {
     "name": "stdout",
     "output_type": "stream",
     "text": [
      "---> Epochs:   20\n",
      "---> Patience: 4\n"
     ]
    },
    {
     "data": {
      "application/vnd.jupyter.widget-view+json": {
       "model_id": "fba99d40bdba4535a8f7d0541ea9c136",
       "version_major": 2,
       "version_minor": 0
      },
      "text/plain": [
       "  0%|          | 0/1357 [00:00<?, ?it/s]"
      ]
     },
     "metadata": {},
     "output_type": "display_data"
    },
    {
     "name": "stderr",
     "output_type": "stream",
     "text": [
      "/home/thibault/dev/est-lascivuum-non-est/seligator/models/classifier.py:59: UserWarning: Implicit dimension choice for softmax has been deprecated. Change the call to include dim=X as an argument.\n",
      "  probs = F.softmax(logits)\n"
     ]
    },
    {
     "data": {
      "application/vnd.jupyter.widget-view+json": {
       "model_id": "8a76a31196374c4eadb122917a7cfd0d",
       "version_major": 2,
       "version_minor": 0
      },
      "text/plain": [
       "  0%|          | 0/170 [00:00<?, ?it/s]"
      ]
     },
     "metadata": {},
     "output_type": "display_data"
    },
    {
     "data": {
      "application/vnd.jupyter.widget-view+json": {
       "model_id": "382bd92e3e5f466c9cb459d3eaad184a",
       "version_major": 2,
       "version_minor": 0
      },
      "text/plain": [
       "  0%|          | 0/1357 [00:00<?, ?it/s]"
      ]
     },
     "metadata": {},
     "output_type": "display_data"
    },
    {
     "data": {
      "application/vnd.jupyter.widget-view+json": {
       "model_id": "7188eebb7c5d44419429291849b1bbe4",
       "version_major": 2,
       "version_minor": 0
      },
      "text/plain": [
       "  0%|          | 0/170 [00:00<?, ?it/s]"
      ]
     },
     "metadata": {},
     "output_type": "display_data"
    },
    {
     "data": {
      "application/vnd.jupyter.widget-view+json": {
       "model_id": "809fca810e99428fb6aaccef4b01d80e",
       "version_major": 2,
       "version_minor": 0
      },
      "text/plain": [
       "  0%|          | 0/1357 [00:00<?, ?it/s]"
      ]
     },
     "metadata": {},
     "output_type": "display_data"
    },
    {
     "data": {
      "application/vnd.jupyter.widget-view+json": {
       "model_id": "9b8e44eecd0c4983815267891c50932f",
       "version_major": 2,
       "version_minor": 0
      },
      "text/plain": [
       "  0%|          | 0/170 [00:00<?, ?it/s]"
      ]
     },
     "metadata": {},
     "output_type": "display_data"
    },
    {
     "data": {
      "application/vnd.jupyter.widget-view+json": {
       "model_id": "9ecb89b2c7c149faaa04f121e2d6325f",
       "version_major": 2,
       "version_minor": 0
      },
      "text/plain": [
       "  0%|          | 0/1357 [00:00<?, ?it/s]"
      ]
     },
     "metadata": {},
     "output_type": "display_data"
    },
    {
     "data": {
      "application/vnd.jupyter.widget-view+json": {
       "model_id": "4b083bc9431748188092e17cbc5b7e4f",
       "version_major": 2,
       "version_minor": 0
      },
      "text/plain": [
       "  0%|          | 0/170 [00:00<?, ?it/s]"
      ]
     },
     "metadata": {},
     "output_type": "display_data"
    },
    {
     "data": {
      "application/vnd.jupyter.widget-view+json": {
       "model_id": "f8b3b29a086d4838ac944d50f0e5d5d1",
       "version_major": 2,
       "version_minor": 0
      },
      "text/plain": [
       "  0%|          | 0/1357 [00:00<?, ?it/s]"
      ]
     },
     "metadata": {},
     "output_type": "display_data"
    },
    {
     "data": {
      "application/vnd.jupyter.widget-view+json": {
       "model_id": "f39bd87dcac44b1d886eb1efbc7f6486",
       "version_major": 2,
       "version_minor": 0
      },
      "text/plain": [
       "  0%|          | 0/170 [00:00<?, ?it/s]"
      ]
     },
     "metadata": {},
     "output_type": "display_data"
    },
    {
     "data": {
      "application/vnd.jupyter.widget-view+json": {
       "model_id": "25706918ad4f4755babf926ec8b4f8e0",
       "version_major": 2,
       "version_minor": 0
      },
      "text/plain": [
       "  0%|          | 0/1357 [00:00<?, ?it/s]"
      ]
     },
     "metadata": {},
     "output_type": "display_data"
    },
    {
     "data": {
      "application/vnd.jupyter.widget-view+json": {
       "model_id": "691e68e308e64e54b3f11f37be0a8a7a",
       "version_major": 2,
       "version_minor": 0
      },
      "text/plain": [
       "  0%|          | 0/170 [00:00<?, ?it/s]"
      ]
     },
     "metadata": {},
     "output_type": "display_data"
    },
    {
     "name": "stdout",
     "output_type": "stream",
     "text": [
      "Evaluating\n"
     ]
    },
    {
     "data": {
      "application/vnd.jupyter.widget-view+json": {
       "model_id": "81632c6a96874c8d9adf7cc976c8ad52",
       "version_major": 2,
       "version_minor": 0
      },
      "text/plain": [
       "0it [00:00, ?it/s]"
      ]
     },
     "metadata": {},
     "output_type": "display_data"
    },
    {
     "name": "stdout",
     "output_type": "stream",
     "text": [
      "Evaluating: Predicting\n"
     ]
    },
    {
     "name": "stderr",
     "output_type": "stream",
     "text": [
      "/home/thibault/dev/est-lascivuum-non-est/seligator/tests/evaluate.py:111: UserWarning: Matplotlib is currently using module://matplotlib_inline.backend_inline, which is a non-GUI backend, so cannot show the figure.\n",
      "  disp.figure_.show()\n"
     ]
    },
    {
     "data": {
      "image/png": "[encoded data removed]",
      "text/plain": [
       "<Figure size 432x288 with 2 Axes>"
      ]
     },
     "metadata": {
      "needs_background": "light"
     },
     "output_type": "display_data"
    },
    {
     "data": {
      "image/png": "[encoded data removed]",
      "text/plain": [
       "<Figure size 432x288 with 2 Axes>"
      ]
     },
     "metadata": {
      "needs_background": "light"
     },
     "output_type": "display_data"
    }
   ],
   "source": [
    "do_runs(get_classic, has_linear=True)"
   ]
  },
  {
   "cell_type": "code",
   "execution_count": 4,
   "id": "bc281171",
   "metadata": {},
   "outputs": [],
   "source": [
    "import glob\n",
    "RUNS = []\n",
    "for file in glob.glob(\"*.json\"):\n",
    "    with open(file) as f:\n",
    "        RUNS.append(json.load(f))"
   ]
  },
  {
   "cell_type": "code",
   "execution_count": 9,
   "id": "4069cfee",
   "metadata": {
    "scrolled": false
   },
   "outputs": [
    {
     "name": "stdout",
     "output_type": "stream",
     "text": [
      "model4---AgglomerateMSD-True__Encoder-LSTM__Features-CasDegGenLemLemChaMooNumPerTenVoi__Metadata-CenCitTexWri__MetadataEncoding-IGNORE__Model-FeatureEmbedding 0.8493353028064993\n",
      "model3---AgglomerateMSD-False__Encoder-LSTM__Features-CasDegGenLemLemChaMooNumPerTenVoi__Metadata-CenCitTexWri__MetadataEncoding-IGNORE__Model-FeatureEmbedding 0.8611521418020679\n",
      "model7---AgglomerateMSD-True__Encoder-MetadataAttentionPooling__Features-CasDegGenLemLemChaMooNumPerTenVoi__Metadata-CenCitTexWri__MetadataEncoding-AS_CATEGORICAL__Model-FeatureEmbedding 0.8788774002954209\n",
      "model0---AgglomerateMSD-False__Encoder-LSTM__Features-token_subword__Highway-False__Metadata-CenCitTexWri__MetadataEncoding-IGNORE__Model-FeatureEmbedding 0.8833087149187593\n",
      "model11---AgglomerateMSD-True__Encoder-HAN__Features-CasDegGenLemLemChaMooNumPerTenVoi__Metadata-CenCitTexWri__MetadataEncoding-IGNORE__Model-FeatureEmbedding__Pretrain-lemma 0.8862629246676514\n",
      "model5---AgglomerateMSD-True__Encoder-HAN__Features-CasDegGenLemLemChaMooNumPerTenVoi__Metadata-CenCitTexWri__MetadataEncoding-IGNORE__Model-FeatureEmbedding 0.8862629246676514\n",
      "model8---AgglomerateMSD-True__Encoder-AttentionPooling__Features-CasDegGenLemLemChaMooNumPerTenVoi__Metadata-CenCitTexWri__MetadataEncoding-AS_CATEGORICAL__Model-FeatureEmbedding 0.8906942392909897\n",
      "model13---AgglomerateMSD-True__Encoder-MetadataAttentionPooling__Features-CasDegGenLemLemChaMooNumPerTenVoi__Metadata-CenCitTexWri__MetadataEncoding-AS_CATEGORICAL__Model-FeatureEmbedding__Pretrain-lemma 0.8936484490398818\n",
      "model15---AgglomerateMSD-False__Encoder-LSTM__Features-CasDegGenLemLemChaMooNumPerTenVoi__Metadata-CenCitTexWri__MetadataEncoding-AS_CATEGORICAL__Model-FeatureEmbedding__metadata_linear-True 0.896602658788774\n",
      "model1---AgglomerateMSD-False__Encoder-LSTM__Features-token_subword__Highway-True__Metadata-CenCitTexWri__MetadataEncoding-IGNORE__Model-FeatureEmbedding 0.896602658788774\n",
      "model10---AgglomerateMSD-True__Encoder-LSTM__Features-CasDegGenLemLemChaMooNumPerTenVoi__Metadata-CenCitTexWri__MetadataEncoding-IGNORE__Model-FeatureEmbedding__Pretrain-lemma 0.896602658788774\n",
      "model2---AgglomerateMSD-False__Encoder-HAN__Features-LemLemChaTokSub__Highway-False__Metadata-CenCitTexWri__MetadataEncoding-IGNORE__Model-FeatureEmbedding 0.9039881831610044\n",
      "model14---AgglomerateMSD-True__Encoder-AttentionPooling__Features-CasDegGenLemLemChaMooNumPerTenVoi__Metadata-CenCitTexWri__MetadataEncoding-AS_CATEGORICAL__Model-FeatureEmbedding__Pretrain-lemma 0.9069423929098966\n",
      "model9---AgglomerateMSD-True__Encoder-HAN__Features-CasDegGenLemLemChaMooNumPerTenVoi__Metadata-CenCitTexWri__MetadataEncoding-AS_TOKEN__Model-FeatureEmbedding 0.9172821270310192\n",
      "model6---AgglomerateMSD-True__Encoder-MetadataLSTM__Features-CasDegGenLemLemChaMooNumPerTenVoi__Metadata-CenCitTexWri__MetadataEncoding-AS_CATEGORICAL__Model-FeatureEmbedding 0.9231905465288035\n",
      "model12---AgglomerateMSD-True__Encoder-MetadataLSTM__Features-CasDegGenLemLemChaMooNumPerTenVoi__Metadata-CenCitTexWri__MetadataEncoding-AS_CATEGORICAL__Model-FeatureEmbedding__Pretrain-lemma 0.9320531757754801\n",
      "model18---AgglomerateMSD-True__Encoder-MetadataLSTM__Features-CasDegGenLemLemChaMooNumPerTenVoi__Metadata-CenCitTexWri__MetadataEncoding-AS_CATEGORICAL__Model-FeatureEmbedding__Pretrain-lemma__metadata_linear-True 0.9335302806499262\n",
      "model16---AgglomerateMSD-False__Encoder-LSTM__Features-CasDegGenLemLemChaMooNumPerTenVoi__Metadata-CenCitTexWri__MetadataEncoding-AS_CATEGORICAL__Model-FeatureEmbedding__Pretrain-lemma__metadata_linear-True 0.9364844903988183\n",
      "model17---AgglomerateMSD-True__Encoder-HAN__Features-CasDegGenLemLemChaMooNumPerTenVoi__Metadata-CenCitTexWri__MetadataEncoding-AS_CATEGORICAL__Model-FeatureEmbedding__Pretrain-lemma__metadata_linear-True 0.9453471196454948\n"
     ]
    }
   ],
   "source": [
    "best, best_key = 0, None\n",
    "sorts = sorted([(list(run.keys())[0], list(run.values())[0][\"accuracy\"]) for run in RUNS], key=lambda x: x[1])\n",
    "for key in sorts:\n",
    "    print(key[0], key[1])"
   ]
  }
 ],
 "metadata": {
  "kernelspec": {
   "display_name": "Python 3",
   "language": "python",
   "name": "python3"
  },
  "language_info": {
   "codemirror_mode": {
    "name": "ipython",
    "version": 3
   },
   "file_extension": ".py",
   "mimetype": "text/x-python",
   "name": "python",
   "nbconvert_exporter": "python",
   "pygments_lexer": "ipython3",
   "version": "3.8.10"
  },
  "toc": {
   "base_numbering": 1,
   "nav_menu": {},
   "number_sections": true,
   "sideBar": true,
   "skip_h1_title": false,
   "title_cell": "Table of Contents",
   "title_sidebar": "Contents",
   "toc_cell": false,
   "toc_position": {},
   "toc_section_display": true,
   "toc_window_display": false
  }
 },
 "nbformat": 4,
 "nbformat_minor": 5
}
