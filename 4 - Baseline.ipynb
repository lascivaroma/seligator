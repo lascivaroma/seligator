{
 "cells": [
  {
   "cell_type": "markdown",
   "id": "82f2be25",
   "metadata": {},
   "source": []
  },
  {
   "cell_type": "code",
   "execution_count": 1,
   "id": "270666fb",
   "metadata": {
    "scrolled": false
   },
   "outputs": [],
   "source": [
    "from seligator.training.trainer import run_training_loop\n",
    "from seligator.models import baseline\n",
    "from seligator.evaluate import run_tests\n",
    "import tabulate\n",
    "\n",
    "NB_EPOCHS = 20\n",
    "PATIENCE = 3\n",
    "\n",
    "a = {\"a\": 1.00, \"b\": 3.00}\n",
    "\n",
    "def get_table(scores):\n",
    "    return tabulate.tabulate([list(scores.values())], headers=(scores.keys()), tablefmt=\"html\", floatfmt=\".2f\")"
   ]
  },
  {
   "cell_type": "markdown",
   "id": "223d6fd5",
   "metadata": {},
   "source": [
    "# Baseline: only token\n",
    "\n",
    "## Training"
   ]
  },
  {
   "cell_type": "code",
   "execution_count": 2,
   "id": "ddb0edab",
   "metadata": {},
   "outputs": [
    {
     "name": "stdout",
     "output_type": "stream",
     "text": [
      "Reading data\n",
      "Building the vocabulary\n"
     ]
    },
    {
     "name": "stderr",
     "output_type": "stream",
     "text": [
      "/home/thibault/dev/est-lascivuum-non-est/env/lib/python3.8/site-packages/allennlp/data/token_indexers/token_characters_indexer.py:55: UserWarning: You are using the default value (0) of `min_padding_length`, which can cause some subtle bugs (more info see https://github.com/allenai/allennlp/issues/1954). Strongly recommend to set a value, usually the maximum size of the convolutional layer size when using CnnEncoder.\n",
      "  warnings.warn(\n"
     ]
    },
    {
     "data": {
      "application/vnd.jupyter.widget-view+json": {
       "model_id": "1ae15129cb9f424f8237f2a3d2d9ae6f",
       "version_major": 2,
       "version_minor": 0
      },
      "text/plain": [
       "building vocab:   0%|          | 0/2034 [00:00<?, ?it/s]"
      ]
     },
     "metadata": {},
     "output_type": "display_data"
    },
    {
     "name": "stdout",
     "output_type": "stream",
     "text": [
      "Building the model\n",
      "Starting training\n"
     ]
    },
    {
     "data": {
      "application/vnd.jupyter.widget-view+json": {
       "model_id": "9fa7f4ff37f84b58a9489e21268b8213",
       "version_major": 2,
       "version_minor": 0
      },
      "text/plain": [
       "  0%|          | 0/170 [00:00<?, ?it/s]"
      ]
     },
     "metadata": {},
     "output_type": "display_data"
    },
    {
     "name": "stderr",
     "output_type": "stream",
     "text": [
      "/home/thibault/dev/est-lascivuum-non-est/seligator/models/baseline.py:48: UserWarning: Implicit dimension choice for softmax has been deprecated. Change the call to include dim=X as an argument.\n",
      "  probs = torch.nn.functional.softmax(logits)\n"
     ]
    },
    {
     "data": {
      "application/vnd.jupyter.widget-view+json": {
       "model_id": "7730c0b911d945abb372ba96c1de50c3",
       "version_major": 2,
       "version_minor": 0
      },
      "text/plain": [
       "  0%|          | 0/85 [00:00<?, ?it/s]"
      ]
     },
     "metadata": {},
     "output_type": "display_data"
    },
    {
     "data": {
      "application/vnd.jupyter.widget-view+json": {
       "model_id": "56180b96152c4ac79a97c67e9c3293d6",
       "version_major": 2,
       "version_minor": 0
      },
      "text/plain": [
       "  0%|          | 0/170 [00:00<?, ?it/s]"
      ]
     },
     "metadata": {},
     "output_type": "display_data"
    },
    {
     "data": {
      "application/vnd.jupyter.widget-view+json": {
       "model_id": "1302ea4d4fb745af914a9bd2987af616",
       "version_major": 2,
       "version_minor": 0
      },
      "text/plain": [
       "  0%|          | 0/85 [00:00<?, ?it/s]"
      ]
     },
     "metadata": {},
     "output_type": "display_data"
    },
    {
     "data": {
      "application/vnd.jupyter.widget-view+json": {
       "model_id": "efec3fc1acd34eb2a836d7eec1507d8d",
       "version_major": 2,
       "version_minor": 0
      },
      "text/plain": [
       "  0%|          | 0/170 [00:00<?, ?it/s]"
      ]
     },
     "metadata": {},
     "output_type": "display_data"
    },
    {
     "data": {
      "application/vnd.jupyter.widget-view+json": {
       "model_id": "c75851ac37ef47909bb136d39c0735ad",
       "version_major": 2,
       "version_minor": 0
      },
      "text/plain": [
       "  0%|          | 0/85 [00:00<?, ?it/s]"
      ]
     },
     "metadata": {},
     "output_type": "display_data"
    },
    {
     "data": {
      "application/vnd.jupyter.widget-view+json": {
       "model_id": "87e7657820664645affe1e9dfd809b6a",
       "version_major": 2,
       "version_minor": 0
      },
      "text/plain": [
       "  0%|          | 0/170 [00:00<?, ?it/s]"
      ]
     },
     "metadata": {},
     "output_type": "display_data"
    },
    {
     "data": {
      "application/vnd.jupyter.widget-view+json": {
       "model_id": "c2907cf7d5634105923209ca717edcf2",
       "version_major": 2,
       "version_minor": 0
      },
      "text/plain": [
       "  0%|          | 0/85 [00:00<?, ?it/s]"
      ]
     },
     "metadata": {},
     "output_type": "display_data"
    },
    {
     "name": "stdout",
     "output_type": "stream",
     "text": [
      "Finished training\n"
     ]
    }
   ],
   "source": [
    "model, dataset_reader = run_training_loop(\n",
    "    build_model=baseline.build_model,\n",
    "    cuda_device=0,\n",
    "    use_only=(\"token\", ),\n",
    "    num_epochs=NB_EPOCHS, patience=PATIENCE\n",
    ")"
   ]
  },
  {
   "cell_type": "markdown",
   "id": "9b6267b0",
   "metadata": {},
   "source": [
    "## Evaluating"
   ]
  },
  {
   "cell_type": "code",
   "execution_count": 3,
   "id": "d2dfdf93",
   "metadata": {},
   "outputs": [
    {
     "name": "stdout",
     "output_type": "stream",
     "text": [
      "Evaluating\n"
     ]
    },
    {
     "data": {
      "application/vnd.jupyter.widget-view+json": {
       "model_id": "b5006169c2584bac95bc2f67ef02175a",
       "version_major": 2,
       "version_minor": 0
      },
      "text/plain": [
       "0it [00:00, ?it/s]"
      ]
     },
     "metadata": {},
     "output_type": "display_data"
    },
    {
     "name": "stderr",
     "output_type": "stream",
     "text": [
      "Encountered the loss key in the model's return dictionary which couldn't be split by the batch size. Key will be ignored.\n"
     ]
    },
    {
     "name": "stdout",
     "output_type": "stream",
     "text": [
      "{'accuracy': 0.7413575042158516, 'precision-negative': 0.7842820286750793, 'precision-positive': 0.6610169410705566, 'recall-negative': 0.8123953342437744, 'recall-positive': 0.6208072900772095, 'fscore-negative': 0.7980912327766418, 'fscore-positive': 0.6402814388275146, 'loss': 0.5647232496756024}\n",
      "Evaluating: Predicting\n"
     ]
    },
    {
     "name": "stderr",
     "output_type": "stream",
     "text": [
      "/home/thibault/dev/est-lascivuum-non-est/seligator/evaluate.py:75: UserWarning: Matplotlib is currently using module://ipykernel.pylab.backend_inline, which is a non-GUI backend, so cannot show the figure.\n",
      "  disp.figure_.show()\n"
     ]
    },
    {
     "data": {
      "text/html": [
       "<table>\n",
       "<thead>\n",
       "<tr><th style=\"text-align: right;\">  accuracy</th><th style=\"text-align: right;\">  precision-negative</th><th style=\"text-align: right;\">  precision-positive</th><th style=\"text-align: right;\">  recall-negative</th><th style=\"text-align: right;\">  recall-positive</th><th style=\"text-align: right;\">  fscore-negative</th><th style=\"text-align: right;\">  fscore-positive</th><th style=\"text-align: right;\">  loss</th></tr>\n",
       "</thead>\n",
       "<tbody>\n",
       "<tr><td style=\"text-align: right;\">      0.74</td><td style=\"text-align: right;\">                0.78</td><td style=\"text-align: right;\">                0.66</td><td style=\"text-align: right;\">             0.81</td><td style=\"text-align: right;\">             0.62</td><td style=\"text-align: right;\">             0.80</td><td style=\"text-align: right;\">             0.64</td><td style=\"text-align: right;\">  0.56</td></tr>\n",
       "</tbody>\n",
       "</table>"
      ],
      "text/plain": [
       "'<table>\\n<thead>\\n<tr><th style=\"text-align: right;\">  accuracy</th><th style=\"text-align: right;\">  precision-negative</th><th style=\"text-align: right;\">  precision-positive</th><th style=\"text-align: right;\">  recall-negative</th><th style=\"text-align: right;\">  recall-positive</th><th style=\"text-align: right;\">  fscore-negative</th><th style=\"text-align: right;\">  fscore-positive</th><th style=\"text-align: right;\">  loss</th></tr>\\n</thead>\\n<tbody>\\n<tr><td style=\"text-align: right;\">      0.74</td><td style=\"text-align: right;\">                0.78</td><td style=\"text-align: right;\">                0.66</td><td style=\"text-align: right;\">             0.81</td><td style=\"text-align: right;\">             0.62</td><td style=\"text-align: right;\">             0.80</td><td style=\"text-align: right;\">             0.64</td><td style=\"text-align: right;\">  0.56</td></tr>\\n</tbody>\\n</table>'"
      ]
     },
     "execution_count": 3,
     "metadata": {},
     "output_type": "execute_result"
    },
    {
     "data": {
      "image/png": "[encoded data removed]",
      "text/plain": [
       "<Figure size 432x288 with 2 Axes>"
      ]
     },
     "metadata": {
      "needs_background": "light"
     },
     "output_type": "display_data"
    }
   ],
   "source": [
    "scores, _ = run_tests(\"dataset/split/test.txt\", dataset_reader=dataset_reader, model=model)\n",
    "\n",
    "get_table(scores)"
   ]
  },
  {
   "cell_type": "code",
   "execution_count": 4,
   "id": "760dd8a0",
   "metadata": {},
   "outputs": [],
   "source": [
    "del model "
   ]
  },
  {
   "cell_type": "markdown",
   "id": "46327c1b",
   "metadata": {},
   "source": [
    "# Multiple-Features\n",
    "\n",
    "## Training"
   ]
  },
  {
   "cell_type": "code",
   "execution_count": 5,
   "id": "84fafdbd",
   "metadata": {},
   "outputs": [
    {
     "name": "stderr",
     "output_type": "stream",
     "text": [
      "/home/thibault/dev/est-lascivuum-non-est/env/lib/python3.8/site-packages/allennlp/data/token_indexers/token_characters_indexer.py:55: UserWarning: You are using the default value (0) of `min_padding_length`, which can cause some subtle bugs (more info see https://github.com/allenai/allennlp/issues/1954). Strongly recommend to set a value, usually the maximum size of the convolutional layer size when using CnnEncoder.\n",
      "  warnings.warn(\n"
     ]
    },
    {
     "name": "stdout",
     "output_type": "stream",
     "text": [
      "Reading data\n",
      "Building the vocabulary\n"
     ]
    },
    {
     "data": {
      "application/vnd.jupyter.widget-view+json": {
       "model_id": "48ee0b2a4098488abd3ea8d8575a87fb",
       "version_major": 2,
       "version_minor": 0
      },
      "text/plain": [
       "building vocab:   0%|          | 0/2034 [00:00<?, ?it/s]"
      ]
     },
     "metadata": {},
     "output_type": "display_data"
    },
    {
     "name": "stdout",
     "output_type": "stream",
     "text": [
      "Building the model\n",
      "Starting training\n"
     ]
    },
    {
     "data": {
      "application/vnd.jupyter.widget-view+json": {
       "model_id": "2f7e79e55c8d4ebeb2f46f7a005c48f5",
       "version_major": 2,
       "version_minor": 0
      },
      "text/plain": [
       "  0%|          | 0/170 [00:00<?, ?it/s]"
      ]
     },
     "metadata": {},
     "output_type": "display_data"
    },
    {
     "name": "stderr",
     "output_type": "stream",
     "text": [
      "/home/thibault/dev/est-lascivuum-non-est/seligator/models/baseline.py:48: UserWarning: Implicit dimension choice for softmax has been deprecated. Change the call to include dim=X as an argument.\n",
      "  probs = torch.nn.functional.softmax(logits)\n"
     ]
    },
    {
     "data": {
      "application/vnd.jupyter.widget-view+json": {
       "model_id": "b0264393a8dd41a7bafb3df7c52c9625",
       "version_major": 2,
       "version_minor": 0
      },
      "text/plain": [
       "  0%|          | 0/85 [00:00<?, ?it/s]"
      ]
     },
     "metadata": {},
     "output_type": "display_data"
    },
    {
     "data": {
      "application/vnd.jupyter.widget-view+json": {
       "model_id": "2d0d096e7c544fb9a3fce6c098bd6f80",
       "version_major": 2,
       "version_minor": 0
      },
      "text/plain": [
       "  0%|          | 0/170 [00:00<?, ?it/s]"
      ]
     },
     "metadata": {},
     "output_type": "display_data"
    },
    {
     "data": {
      "application/vnd.jupyter.widget-view+json": {
       "model_id": "543bae6edd334fac82063640f75045aa",
       "version_major": 2,
       "version_minor": 0
      },
      "text/plain": [
       "  0%|          | 0/85 [00:00<?, ?it/s]"
      ]
     },
     "metadata": {},
     "output_type": "display_data"
    },
    {
     "data": {
      "application/vnd.jupyter.widget-view+json": {
       "model_id": "f542f98bedab4e2985d8cffa14847f84",
       "version_major": 2,
       "version_minor": 0
      },
      "text/plain": [
       "  0%|          | 0/170 [00:00<?, ?it/s]"
      ]
     },
     "metadata": {},
     "output_type": "display_data"
    },
    {
     "data": {
      "application/vnd.jupyter.widget-view+json": {
       "model_id": "8165cd74969c486c8c407a333b025cf6",
       "version_major": 2,
       "version_minor": 0
      },
      "text/plain": [
       "  0%|          | 0/85 [00:00<?, ?it/s]"
      ]
     },
     "metadata": {},
     "output_type": "display_data"
    },
    {
     "name": "stdout",
     "output_type": "stream",
     "text": [
      "Finished training\n"
     ]
    }
   ],
   "source": [
    "model, dataset_reader = run_training_loop(\n",
    "    build_model=baseline.build_model,\n",
    "    cuda_device=0,\n",
    "    use_only=(\"token\", \"lemma\", \"tense\", \"case\", \"gend\", \"numb\"),\n",
    "    num_epochs=NB_EPOCHS, patience=PATIENCE\n",
    ")"
   ]
  },
  {
   "cell_type": "markdown",
   "id": "34982d0f",
   "metadata": {},
   "source": [
    "## Evaluating"
   ]
  },
  {
   "cell_type": "code",
   "execution_count": 6,
   "id": "13216d4d",
   "metadata": {},
   "outputs": [
    {
     "name": "stdout",
     "output_type": "stream",
     "text": [
      "Evaluating\n"
     ]
    },
    {
     "data": {
      "application/vnd.jupyter.widget-view+json": {
       "model_id": "d5787e7a2b244d179def73dc9bf19dc4",
       "version_major": 2,
       "version_minor": 0
      },
      "text/plain": [
       "0it [00:00, ?it/s]"
      ]
     },
     "metadata": {},
     "output_type": "display_data"
    },
    {
     "name": "stdout",
     "output_type": "stream",
     "text": [
      "{'accuracy': 0.7419898819561551, 'precision-negative': 0.7405080795288086, 'precision-positive': 0.7469990849494934, 'recall-negative': 0.9082077145576477, 'recall-positive': 0.45992040634155273, 'fscore-negative': 0.8158290982246399, 'fscore-positive': 0.5693174004554749, 'loss': 0.5339332373206571}\n",
      "Evaluating: Predicting\n"
     ]
    },
    {
     "name": "stderr",
     "output_type": "stream",
     "text": [
      "/home/thibault/dev/est-lascivuum-non-est/seligator/evaluate.py:75: UserWarning: Matplotlib is currently using module://ipykernel.pylab.backend_inline, which is a non-GUI backend, so cannot show the figure.\n",
      "  disp.figure_.show()\n"
     ]
    },
    {
     "data": {
      "text/html": [
       "<table>\n",
       "<thead>\n",
       "<tr><th style=\"text-align: right;\">  accuracy</th><th style=\"text-align: right;\">  precision-negative</th><th style=\"text-align: right;\">  precision-positive</th><th style=\"text-align: right;\">  recall-negative</th><th style=\"text-align: right;\">  recall-positive</th><th style=\"text-align: right;\">  fscore-negative</th><th style=\"text-align: right;\">  fscore-positive</th><th style=\"text-align: right;\">  loss</th></tr>\n",
       "</thead>\n",
       "<tbody>\n",
       "<tr><td style=\"text-align: right;\">      0.74</td><td style=\"text-align: right;\">                0.74</td><td style=\"text-align: right;\">                0.75</td><td style=\"text-align: right;\">             0.91</td><td style=\"text-align: right;\">             0.46</td><td style=\"text-align: right;\">             0.82</td><td style=\"text-align: right;\">             0.57</td><td style=\"text-align: right;\">  0.53</td></tr>\n",
       "</tbody>\n",
       "</table>"
      ],
      "text/plain": [
       "'<table>\\n<thead>\\n<tr><th style=\"text-align: right;\">  accuracy</th><th style=\"text-align: right;\">  precision-negative</th><th style=\"text-align: right;\">  precision-positive</th><th style=\"text-align: right;\">  recall-negative</th><th style=\"text-align: right;\">  recall-positive</th><th style=\"text-align: right;\">  fscore-negative</th><th style=\"text-align: right;\">  fscore-positive</th><th style=\"text-align: right;\">  loss</th></tr>\\n</thead>\\n<tbody>\\n<tr><td style=\"text-align: right;\">      0.74</td><td style=\"text-align: right;\">                0.74</td><td style=\"text-align: right;\">                0.75</td><td style=\"text-align: right;\">             0.91</td><td style=\"text-align: right;\">             0.46</td><td style=\"text-align: right;\">             0.82</td><td style=\"text-align: right;\">             0.57</td><td style=\"text-align: right;\">  0.53</td></tr>\\n</tbody>\\n</table>'"
      ]
     },
     "execution_count": 6,
     "metadata": {},
     "output_type": "execute_result"
    },
    {
     "data": {
      "image/png": "[encoded data removed]",
      "text/plain": [
       "<Figure size 432x288 with 2 Axes>"
      ]
     },
     "metadata": {
      "needs_background": "light"
     },
     "output_type": "display_data"
    }
   ],
   "source": [
    "scores, _ = run_tests(\"dataset/split/test.txt\", dataset_reader=dataset_reader, model=model)\n",
    "\n",
    "get_table(scores)"
   ]
  },
  {
   "cell_type": "markdown",
   "id": "9f5606e9",
   "metadata": {},
   "source": [
    "# CNN Multiple Features\n",
    "\n",
    "## Training"
   ]
  },
  {
   "cell_type": "code",
   "execution_count": 9,
   "id": "c45bb81a",
   "metadata": {},
   "outputs": [
    {
     "name": "stderr",
     "output_type": "stream",
     "text": [
      "/home/thibault/dev/est-lascivuum-non-est/env/lib/python3.8/site-packages/allennlp/data/token_indexers/token_characters_indexer.py:55: UserWarning: You are using the default value (0) of `min_padding_length`, which can cause some subtle bugs (more info see https://github.com/allenai/allennlp/issues/1954). Strongly recommend to set a value, usually the maximum size of the convolutional layer size when using CnnEncoder.\n",
      "  warnings.warn(\n"
     ]
    },
    {
     "name": "stdout",
     "output_type": "stream",
     "text": [
      "Reading data\n",
      "Building the vocabulary\n"
     ]
    },
    {
     "data": {
      "application/vnd.jupyter.widget-view+json": {
       "model_id": "3fae637a3ea546e38df4cfed41bdf0e8",
       "version_major": 2,
       "version_minor": 0
      },
      "text/plain": [
       "building vocab:   0%|          | 0/2034 [00:00<?, ?it/s]"
      ]
     },
     "metadata": {},
     "output_type": "display_data"
    },
    {
     "name": "stdout",
     "output_type": "stream",
     "text": [
      "Building the model\n",
      "Starting training\n"
     ]
    },
    {
     "data": {
      "application/vnd.jupyter.widget-view+json": {
       "model_id": "2d934c90191143be87bd9fab0b0ec637",
       "version_major": 2,
       "version_minor": 0
      },
      "text/plain": [
       "  0%|          | 0/170 [00:00<?, ?it/s]"
      ]
     },
     "metadata": {},
     "output_type": "display_data"
    },
    {
     "name": "stderr",
     "output_type": "stream",
     "text": [
      "/home/thibault/dev/est-lascivuum-non-est/seligator/models/baseline.py:48: UserWarning: Implicit dimension choice for softmax has been deprecated. Change the call to include dim=X as an argument.\n",
      "  probs = torch.nn.functional.softmax(logits)\n"
     ]
    },
    {
     "data": {
      "application/vnd.jupyter.widget-view+json": {
       "model_id": "38ae58404ee24c278c3f98c4d6a03eef",
       "version_major": 2,
       "version_minor": 0
      },
      "text/plain": [
       "  0%|          | 0/85 [00:00<?, ?it/s]"
      ]
     },
     "metadata": {},
     "output_type": "display_data"
    },
    {
     "data": {
      "application/vnd.jupyter.widget-view+json": {
       "model_id": "1d0472b3452b4d1fa925f7a594fe0d92",
       "version_major": 2,
       "version_minor": 0
      },
      "text/plain": [
       "  0%|          | 0/170 [00:00<?, ?it/s]"
      ]
     },
     "metadata": {},
     "output_type": "display_data"
    },
    {
     "data": {
      "application/vnd.jupyter.widget-view+json": {
       "model_id": "995e52effd1341bcb615650bc34f2bd8",
       "version_major": 2,
       "version_minor": 0
      },
      "text/plain": [
       "  0%|          | 0/85 [00:00<?, ?it/s]"
      ]
     },
     "metadata": {},
     "output_type": "display_data"
    },
    {
     "data": {
      "application/vnd.jupyter.widget-view+json": {
       "model_id": "dd710838df094f15b9aceb1a6703c6b3",
       "version_major": 2,
       "version_minor": 0
      },
      "text/plain": [
       "  0%|          | 0/170 [00:00<?, ?it/s]"
      ]
     },
     "metadata": {},
     "output_type": "display_data"
    },
    {
     "data": {
      "application/vnd.jupyter.widget-view+json": {
       "model_id": "75d4cee01a0149f0978ad796d7ad5dab",
       "version_major": 2,
       "version_minor": 0
      },
      "text/plain": [
       "  0%|          | 0/85 [00:00<?, ?it/s]"
      ]
     },
     "metadata": {},
     "output_type": "display_data"
    },
    {
     "data": {
      "application/vnd.jupyter.widget-view+json": {
       "model_id": "87ef320720c145cc8d8fb902e9ab016a",
       "version_major": 2,
       "version_minor": 0
      },
      "text/plain": [
       "  0%|          | 0/170 [00:00<?, ?it/s]"
      ]
     },
     "metadata": {},
     "output_type": "display_data"
    },
    {
     "data": {
      "application/vnd.jupyter.widget-view+json": {
       "model_id": "acf5ad78a7cd494abf450ae4504380c2",
       "version_major": 2,
       "version_minor": 0
      },
      "text/plain": [
       "  0%|          | 0/85 [00:00<?, ?it/s]"
      ]
     },
     "metadata": {},
     "output_type": "display_data"
    },
    {
     "data": {
      "application/vnd.jupyter.widget-view+json": {
       "model_id": "c5425e248986411990f4986149ff2c67",
       "version_major": 2,
       "version_minor": 0
      },
      "text/plain": [
       "  0%|          | 0/170 [00:00<?, ?it/s]"
      ]
     },
     "metadata": {},
     "output_type": "display_data"
    },
    {
     "data": {
      "application/vnd.jupyter.widget-view+json": {
       "model_id": "a3d0107d7b394f408d82146bc8fd2873",
       "version_major": 2,
       "version_minor": 0
      },
      "text/plain": [
       "  0%|          | 0/85 [00:00<?, ?it/s]"
      ]
     },
     "metadata": {},
     "output_type": "display_data"
    },
    {
     "name": "stdout",
     "output_type": "stream",
     "text": [
      "Finished training\n"
     ]
    }
   ],
   "source": [
    "model, dataset_reader = run_training_loop(\n",
    "    build_model=baseline.build_model_cnn,\n",
    "    cuda_device=0,\n",
    "    use_only=(\"token\", \"lemma\", \"tense\", \"case\", \"gend\", \"numb\"),\n",
    "    num_epochs=NB_EPOCHS, patience=PATIENCE\n",
    ")"
   ]
  },
  {
   "cell_type": "markdown",
   "id": "d5693b47",
   "metadata": {},
   "source": [
    "## Evaluating"
   ]
  },
  {
   "cell_type": "code",
   "execution_count": 10,
   "id": "1a58cfc9",
   "metadata": {},
   "outputs": [
    {
     "name": "stdout",
     "output_type": "stream",
     "text": [
      "Evaluating\n"
     ]
    },
    {
     "data": {
      "application/vnd.jupyter.widget-view+json": {
       "model_id": "7d9d7ea65bba46dd80a38bd9c1c53f4a",
       "version_major": 2,
       "version_minor": 0
      },
      "text/plain": [
       "0it [00:00, ?it/s]"
      ]
     },
     "metadata": {},
     "output_type": "display_data"
    },
    {
     "name": "stdout",
     "output_type": "stream",
     "text": [
      "{'accuracy': 0.7837268128161888, 'precision-negative': 0.795832097530365, 'precision-positive': 0.7557571530342102, 'recall-negative': 0.8827470541000366, 'recall-positive': 0.6156907081604004, 'fscore-negative': 0.8370394706726074, 'fscore-positive': 0.6785714626312256, 'loss': 0.500827234979675}\n",
      "Evaluating: Predicting\n"
     ]
    },
    {
     "name": "stderr",
     "output_type": "stream",
     "text": [
      "/home/thibault/dev/est-lascivuum-non-est/seligator/evaluate.py:75: UserWarning: Matplotlib is currently using module://ipykernel.pylab.backend_inline, which is a non-GUI backend, so cannot show the figure.\n",
      "  disp.figure_.show()\n"
     ]
    },
    {
     "data": {
      "text/html": [
       "<table>\n",
       "<thead>\n",
       "<tr><th style=\"text-align: right;\">  accuracy</th><th style=\"text-align: right;\">  precision-negative</th><th style=\"text-align: right;\">  precision-positive</th><th style=\"text-align: right;\">  recall-negative</th><th style=\"text-align: right;\">  recall-positive</th><th style=\"text-align: right;\">  fscore-negative</th><th style=\"text-align: right;\">  fscore-positive</th><th style=\"text-align: right;\">  loss</th></tr>\n",
       "</thead>\n",
       "<tbody>\n",
       "<tr><td style=\"text-align: right;\">      0.78</td><td style=\"text-align: right;\">                0.80</td><td style=\"text-align: right;\">                0.76</td><td style=\"text-align: right;\">             0.88</td><td style=\"text-align: right;\">             0.62</td><td style=\"text-align: right;\">             0.84</td><td style=\"text-align: right;\">             0.68</td><td style=\"text-align: right;\">  0.50</td></tr>\n",
       "</tbody>\n",
       "</table>"
      ],
      "text/plain": [
       "'<table>\\n<thead>\\n<tr><th style=\"text-align: right;\">  accuracy</th><th style=\"text-align: right;\">  precision-negative</th><th style=\"text-align: right;\">  precision-positive</th><th style=\"text-align: right;\">  recall-negative</th><th style=\"text-align: right;\">  recall-positive</th><th style=\"text-align: right;\">  fscore-negative</th><th style=\"text-align: right;\">  fscore-positive</th><th style=\"text-align: right;\">  loss</th></tr>\\n</thead>\\n<tbody>\\n<tr><td style=\"text-align: right;\">      0.78</td><td style=\"text-align: right;\">                0.80</td><td style=\"text-align: right;\">                0.76</td><td style=\"text-align: right;\">             0.88</td><td style=\"text-align: right;\">             0.62</td><td style=\"text-align: right;\">             0.84</td><td style=\"text-align: right;\">             0.68</td><td style=\"text-align: right;\">  0.50</td></tr>\\n</tbody>\\n</table>'"
      ]
     },
     "execution_count": 10,
     "metadata": {},
     "output_type": "execute_result"
    },
    {
     "data": {
      "image/png": "[encoded data removed]",
      "text/plain": [
       "<Figure size 432x288 with 2 Axes>"
      ]
     },
     "metadata": {
      "needs_background": "light"
     },
     "output_type": "display_data"
    }
   ],
   "source": [
    "scores, _ = run_tests(\"dataset/split/test.txt\", dataset_reader=dataset_reader, model=model)\n",
    "\n",
    "get_table(scores)"
   ]
  },
  {
   "cell_type": "code",
   "execution_count": null,
   "id": "256e73c6",
   "metadata": {},
   "outputs": [],
   "source": []
  }
 ],
 "metadata": {
  "kernelspec": {
   "display_name": "Python 3",
   "language": "python",
   "name": "python3"
  },
  "language_info": {
   "codemirror_mode": {
    "name": "ipython",
    "version": 3
   },
   "file_extension": ".py",
   "mimetype": "text/x-python",
   "name": "python",
   "nbconvert_exporter": "python",
   "pygments_lexer": "ipython3",
   "version": "3.8.5"
  },
  "toc": {
   "base_numbering": 1,
   "nav_menu": {},
   "number_sections": true,
   "sideBar": true,
   "skip_h1_title": false,
   "title_cell": "Table of Contents",
   "title_sidebar": "Contents",
   "toc_cell": false,
   "toc_position": {},
   "toc_section_display": true,
   "toc_window_display": true
  }
 },
 "nbformat": 4,
 "nbformat_minor": 5
}
