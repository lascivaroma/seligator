{
 "cells": [
  {
   "cell_type": "markdown",
   "id": "f996514d",
   "metadata": {},
   "source": [
    "Rôle du notebook: conversion des fichiers XMLs en dataset TSV"
   ]
  },
  {
   "cell_type": "markdown",
   "id": "5442f303",
   "metadata": {},
   "source": [
    "## Function to parse"
   ]
  },
  {
   "cell_type": "code",
   "execution_count": 20,
   "id": "855cce9a",
   "metadata": {},
   "outputs": [],
   "source": [
    "import lxml.etree as ET\n",
    "import tqdm\n",
    "import glob\n",
    "import os\n",
    "import os\n",
    "from typing import List, Tuple\n",
    "\n",
    "from constants import CATS\n",
    "\n",
    "def msd_to_tsv(attrib, cats=CATS):\n",
    "    local_values = dict([\n",
    "        tuple(elem.split(\"=\"))\n",
    "        for elem in attrib.split(\"|\")\n",
    "        if elem.split(\"=\")[0] in cats\n",
    "    ])\n",
    "    return \"\\t\".join([\n",
    "        local_values.get(cat, \"-\")\n",
    "        for cat in cats\n",
    "    ])\n",
    "\n",
    "def file_to_string(fp: str, label: str, cats=CATS) -> str:\n",
    "    \"\"\"\n",
    "    \"\"\"\n",
    "    with open(fp) as f:\n",
    "        xml = ET.parse(f)\n",
    "    return f\"#[TAG]{label}\\n\"+\"\\n\".join([\n",
    "        f\"{token.text}\\t\"\n",
    "        f\"{token.attrib['lemma']}\\t\"\n",
    "        f\"{token.attrib['pos']}\\t\"\n",
    "        f\"{msd_to_tsv(token.attrib['msd'], cats=cats)}\"\n",
    "        for token in xml.xpath(\"//w\")\n",
    "    ])"
   ]
  },
  {
   "cell_type": "markdown",
   "id": "a0465128",
   "metadata": {},
   "source": [
    "## Generate full"
   ]
  },
  {
   "cell_type": "code",
   "execution_count": 21,
   "id": "b4b8e49f",
   "metadata": {},
   "outputs": [
    {
     "data": {
      "text/plain": [
       "True"
      ]
     },
     "execution_count": 21,
     "metadata": {},
     "output_type": "execute_result"
    }
   ],
   "source": [
    "positive = []\n",
    "\n",
    "for file in glob.glob(\"/home/thibault/dev/these-corpus/data/*.xml\"):\n",
    "    positive.append(file_to_string(file, \"positive\"))\n",
    "\n",
    "negative = []\n",
    "\n",
    "for file in glob.glob(\"negative-examples/*.xml\"):\n",
    "    negative.append(file_to_string(file, \"negative\"))\n",
    "\n",
    "\n",
    "def write_dataset(dataset: List[str], filepath: str, cats: Tuple[str, ...] = CATS, delimiter=\"\\t\"):\n",
    "    with open(filepath, \"w\") as f:\n",
    "        f.write(f\"[header]\\ttoken\\tlemma\\tpos\\t{delimiter.join(cats)}\\n\")\n",
    "        f.write(\"\\n\\n\\n\".join(dataset))\n",
    "    return True\n",
    "    \n",
    "os.makedirs(\"./dataset/raw/\", exist_ok=True)\n",
    "\n",
    "write_dataset(positive, \"dataset/raw/positive.txt\")\n",
    "write_dataset(negative, \"dataset/raw/negative.txt\")"
   ]
  },
  {
   "cell_type": "markdown",
   "id": "1e3168b0",
   "metadata": {},
   "source": [
    "## Generate train, dev, test"
   ]
  },
  {
   "cell_type": "code",
   "execution_count": 25,
   "id": "df1e45cd",
   "metadata": {},
   "outputs": [
    {
     "data": {
      "text/plain": [
       "True"
      ]
     },
     "execution_count": 25,
     "metadata": {},
     "output_type": "execute_result"
    }
   ],
   "source": [
    "import random\n",
    "import math\n",
    "\n",
    "random.shuffle(positive)\n",
    "random.shuffle(negative)\n",
    "\n",
    "train_ratio, dev_ratio = 0.2, 0.1\n",
    "\n",
    "def cut(dataset: float, r_train: float, r_dev: float):\n",
    "    length = len(dataset)\n",
    "    r_train = math.ceil(length*r_train)\n",
    "    r_dev = r_train + math.ceil(length*r_dev)\n",
    "    return dataset[:r_train], dataset[r_train:r_dev], dataset[r_dev:]\n",
    "\n",
    "\n",
    "cut_positive = cut(positive, r_train=train_ratio, r_dev=dev_ratio)\n",
    "cut_negative = cut(negative, r_train=train_ratio, r_dev=dev_ratio)\n",
    "\n",
    "train, dev, test = [pos+neg for pos, neg in zip(cut_positive, cut_negative)]\n",
    "\n",
    "random.shuffle(train)\n",
    "random.shuffle(dev)\n",
    "random.shuffle(test)\n",
    "\n",
    "os.makedirs(\"./dataset/split/\", exist_ok=True)\n",
    "write_dataset(train, \"./dataset/split/train.txt\")\n",
    "write_dataset(dev, \"./dataset/split/dev.txt\")\n",
    "write_dataset(test, \"./dataset/split/test.txt\")"
   ]
  },
  {
   "cell_type": "code",
   "execution_count": null,
   "id": "96a7a545",
   "metadata": {},
   "outputs": [],
   "source": []
  },
  {
   "cell_type": "code",
   "execution_count": null,
   "id": "64392860",
   "metadata": {},
   "outputs": [],
   "source": []
  },
  {
   "cell_type": "code",
   "execution_count": null,
   "id": "a308884c",
   "metadata": {},
   "outputs": [],
   "source": []
  },
  {
   "cell_type": "code",
   "execution_count": null,
   "id": "2fc0fec2",
   "metadata": {},
   "outputs": [],
   "source": []
  }
 ],
 "metadata": {
  "kernelspec": {
   "display_name": "Python 3",
   "language": "python",
   "name": "python3"
  },
  "language_info": {
   "codemirror_mode": {
    "name": "ipython",
    "version": 3
   },
   "file_extension": ".py",
   "mimetype": "text/x-python",
   "name": "python",
   "nbconvert_exporter": "python",
   "pygments_lexer": "ipython3",
   "version": "3.8.5"
  },
  "toc": {
   "base_numbering": 1,
   "nav_menu": {},
   "number_sections": true,
   "sideBar": true,
   "skip_h1_title": false,
   "title_cell": "Table of Contents",
   "title_sidebar": "Contents",
   "toc_cell": false,
   "toc_position": {},
   "toc_section_display": true,
   "toc_window_display": false
  }
 },
 "nbformat": 4,
 "nbformat_minor": 5
}
