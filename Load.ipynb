{
 "cells": [
  {
   "cell_type": "code",
   "execution_count": 1,
   "id": "191a6c69",
   "metadata": {},
   "outputs": [
    {
     "name": "stderr",
     "output_type": "stream",
     "text": [
      "2021-08-02 17:16:32.378037: I tensorflow/stream_executor/platform/default/dso_loader.cc:53] Successfully opened dynamic library libcudart.so.11.0\n",
      "INFO:root:Fitting the BasisVectorConfiguration\n",
      "/home/thibault/dev/est-lascivuum-non-est/env/lib/python3.8/site-packages/torch/nn/modules/rnn.py:60: UserWarning: dropout option adds dropout after all but last recurrent layer, so non-zero dropout expects num_layers greater than 1, but got dropout=0.3 and num_layers=1\n",
      "  warnings.warn(\"dropout option adds dropout after all but last \"\n",
      "INFO:root:Classifier is using MetadataEnrichedLinear\n",
      "INFO:root:Dataset reader set with following categories: [msd], lemma_char, lemma\n",
      "/home/thibault/dev/est-lascivuum-non-est/env/lib/python3.8/site-packages/allennlp/data/token_indexers/token_characters_indexer.py:55: UserWarning: You are using the default value (0) of `min_padding_length`, which can cause some subtle bugs (more info see https://github.com/allenai/allennlp/issues/1954). Strongly recommend to set a value, usually the maximum size of the convolutional layer size when using CnnEncoder.\n",
      "  warnings.warn(\n",
      "INFO:root:Indexer set for following categories: [msd], lemma_char, lemma\n",
      "INFO:root:TSV READER uses following metadata encoding MetadataEncoding.AS_CATEGORICAL \n"
     ]
    },
    {
     "data": {
      "text/plain": [
       "FeatureEmbeddingClassifier(\n",
       "  (_loss): CrossEntropyLoss()\n",
       "  (mixed_encoder): MixedEmbeddingEncoder(\n",
       "    (_emb_dropout): Dropout(p=0.3, inplace=False)\n",
       "    (features_embedder): FeatureAndTextEmbedder(\n",
       "      (text_embedder): BasicTextFieldEmbedder(\n",
       "        (token_embedder_lemma): Embedding()\n",
       "        (token_embedder_lemma_char): TokenCharactersEncoder(\n",
       "          (_embedding): TimeDistributed(\n",
       "            (_module): Embedding()\n",
       "          )\n",
       "          (_encoder): TimeDistributed(\n",
       "            (_module): LstmSeq2VecEncoder(\n",
       "              (_module): LSTM(100, 150, num_layers=2, batch_first=True, dropout=0.3, bidirectional=True)\n",
       "            )\n",
       "          )\n",
       "          (_dropout): Dropout(p=0.3, inplace=False)\n",
       "        )\n",
       "      )\n",
       "      (feature_embedder): Linear(in_features=52, out_features=20, bias=True)\n",
       "    )\n",
       "    (features_encoder): HierarchicalAttentionalEncoder(\n",
       "      (gru): ModifiedPytorchSeq2VecWrapper(\n",
       "        (_module): GRU(520, 64, batch_first=True, dropout=0.3, bidirectional=True)\n",
       "      )\n",
       "      (dense): Linear(in_features=128, out_features=128, bias=True)\n",
       "      (dropout): Dropout(p=0.5, inplace=False)\n",
       "    )\n",
       "  )\n",
       "  (classifier): MetadataEnrichedLinear(\n",
       "    (linear): BasisCustLinear(\n",
       "      (Century): Embedding(13, 64)\n",
       "      (Textgroup): Embedding(213, 64)\n",
       "      (WrittenType): Embedding(3, 64)\n",
       "      (CitationTypes): Embedding(54, 64)\n",
       "      (P): Sequential(\n",
       "        (0): Linear(in_features=256, out_features=64, bias=True)\n",
       "        (1): Tanh()\n",
       "        (2): Linear(in_features=64, out_features=3, bias=False)\n",
       "        (3): Softmax(dim=1)\n",
       "        (4): Linear(in_features=3, out_features=256, bias=True)\n",
       "      )\n",
       "    )\n",
       "    (bias): BasicBias()\n",
       "  )\n",
       ")"
      ]
     },
     "execution_count": 1,
     "metadata": {},
     "output_type": "execute_result"
    }
   ],
   "source": [
    "from seligator.main import Seligator\n",
    "from seligator.tests.evaluate import run_tests\n",
    "\n",
    "sel = Seligator.load_model(\"saved_model\")\n",
    "sel.model.cuda()\n",
    "reader = sel.get_reader()\n",
    "sel.model"
   ]
  },
  {
   "cell_type": "code",
   "execution_count": 2,
   "id": "2b796cef",
   "metadata": {},
   "outputs": [
    {
     "name": "stderr",
     "output_type": "stream",
     "text": [
      "WARNING:allennlp.data.fields.multilabel_field:Your label namespace was '[msd]'. We recommend you use a namespace ending with 'labels' or 'tags', so we don't add UNK and PAD tokens by default to your vocabulary.  See documentation for `non_padded_namespaces` parameter in Vocabulary.\n"
     ]
    },
    {
     "name": "stdout",
     "output_type": "stream",
     "text": [
      "Evaluating\n"
     ]
    },
    {
     "name": "stderr",
     "output_type": "stream",
     "text": [
      "INFO:allennlp.training.util:Iterating over dataset\n"
     ]
    },
    {
     "data": {
      "application/vnd.jupyter.widget-view+json": {
       "model_id": "001c551694634cc59f8798930119d0c5",
       "version_major": 2,
       "version_minor": 0
      },
      "text/plain": [
       "0it [00:00, ?it/s]"
      ]
     },
     "metadata": {},
     "output_type": "display_data"
    },
    {
     "name": "stderr",
     "output_type": "stream",
     "text": [
      "/home/thibault/dev/est-lascivuum-non-est/seligator/models/classifier.py:59: UserWarning: Implicit dimension choice for softmax has been deprecated. Change the call to include dim=X as an argument.\n",
      "  probs = F.softmax(logits)\n",
      "WARNING:allennlp.models.model:Encountered the loss key in the model's return dictionary which couldn't be split by the batch size. Key will be ignored.\n"
     ]
    },
    {
     "name": "stdout",
     "output_type": "stream",
     "text": [
      "Evaluating: Predicting\n"
     ]
    },
    {
     "name": "stderr",
     "output_type": "stream",
     "text": [
      "/home/thibault/dev/est-lascivuum-non-est/seligator/tests/evaluate.py:97: UserWarning: Matplotlib is currently using module://matplotlib_inline.backend_inline, which is a non-GUI backend, so cannot show the figure.\n",
      "  disp.figure_.show()\n"
     ]
    },
    {
     "data": {
      "image/png": "[encoded data removed]",
      "text/plain": [
       "<Figure size 432x288 with 2 Axes>"
      ]
     },
     "metadata": {
      "needs_background": "light"
     },
     "output_type": "display_data"
    }
   ],
   "source": [
    "data, img = run_tests(\n",
    "    \"dataset/split/test.txt\",\n",
    "    dataset_reader=reader,\n",
    "    model=sel.model\n",
    ")"
   ]
  }
 ],
 "metadata": {
  "kernelspec": {
   "display_name": "Python 3",
   "language": "python",
   "name": "python3"
  },
  "language_info": {
   "codemirror_mode": {
    "name": "ipython",
    "version": 3
   },
   "file_extension": ".py",
   "mimetype": "text/x-python",
   "name": "python",
   "nbconvert_exporter": "python",
   "pygments_lexer": "ipython3",
   "version": "3.8.10"
  },
  "toc": {
   "base_numbering": 1,
   "nav_menu": {},
   "number_sections": true,
   "sideBar": true,
   "skip_h1_title": false,
   "title_cell": "Table of Contents",
   "title_sidebar": "Contents",
   "toc_cell": false,
   "toc_position": {},
   "toc_section_display": true,
   "toc_window_display": false
  }
 },
 "nbformat": 4,
 "nbformat_minor": 5
}
