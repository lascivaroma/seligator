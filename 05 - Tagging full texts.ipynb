{
 "cells": [
  {
   "cell_type": "code",
   "execution_count": 60,
   "id": "191a6c69",
   "metadata": {},
   "outputs": [
    {
     "name": "stderr",
     "output_type": "stream",
     "text": [
      "/home/thibault/dev/est-lascivuum-non-est/env/lib/python3.8/site-packages/allennlp/data/token_indexers/token_characters_indexer.py:55: UserWarning: You are using the default value (0) of `min_padding_length`, which can cause some subtle bugs (more info see https://github.com/allenai/allennlp/issues/1954). Strongly recommend to set a value, usually the maximum size of the convolutional layer size when using CnnEncoder.\n",
      "  warnings.warn(\n",
      "WARNING:root:TSV READER uses following metadata encoding MetadataEncoding.AS_CATEGORICAL \n",
      "WARNING:root:TSV Reader keeps following metadata Century, WrittenType\n"
     ]
    },
    {
     "data": {
      "text/plain": [
       "Vocabulary with namespaces:  lemma, Size: 155390 || [msd], Size: 52 || lemma_char, Size: 75 || labels, Size: 2 || WrittenType_ns_labels, Size: 3 || Century_ns_labels, Size: 13 || Non Padded Namespaces: {'*tags', '*labels'}"
      ]
     },
     "execution_count": 60,
     "metadata": {},
     "output_type": "execute_result"
    }
   ],
   "source": [
    "from seligator.main import Seligator\n",
    "from seligator.prediction.tests import run_tests\n",
    "\n",
    "# sel = Seligator.load_model(\"saved_model_nometadata\")\n",
    "sel = Seligator.load_model(\"models/form-century\")\n",
    "sel.model.cuda()\n",
    "reader = sel.get_reader()\n",
    "sel.model\n",
    "\n",
    "sel.vocabulary"
   ]
  },
  {
   "cell_type": "code",
   "execution_count": 3,
   "id": "2b796cef",
   "metadata": {},
   "outputs": [
    {
     "name": "stdout",
     "output_type": "stream",
     "text": [
      "Evaluating\n"
     ]
    },
    {
     "data": {
      "application/vnd.jupyter.widget-view+json": {
       "model_id": "13b61b24d70b41558c263ffb9bff1b8a",
       "version_major": 2,
       "version_minor": 0
      },
      "text/plain": [
       "0it [00:00, ?it/s]"
      ]
     },
     "metadata": {},
     "output_type": "display_data"
    },
    {
     "name": "stderr",
     "output_type": "stream",
     "text": [
      "/home/thibault/dev/est-lascivuum-non-est/seligator/models/classifier.py:65: UserWarning: Implicit dimension choice for softmax has been deprecated. Change the call to include dim=X as an argument.\n",
      "  probs = F.softmax(logits)\n",
      "WARNING:allennlp.models.model:Encountered the loss key in the model's return dictionary which couldn't be split by the batch size. Key will be ignored.\n"
     ]
    },
    {
     "name": "stdout",
     "output_type": "stream",
     "text": [
      "Evaluating: Predicting\n"
     ]
    },
    {
     "name": "stderr",
     "output_type": "stream",
     "text": [
      "/home/thibault/dev/est-lascivuum-non-est/seligator/prediction/tests.py:57: UserWarning: Matplotlib is currently using module://matplotlib_inline.backend_inline, which is a non-GUI backend, so cannot show the figure.\n",
      "  disp.figure_.show()\n"
     ]
    },
    {
     "data": {
      "image/png": "[encoded data removed]",
      "text/plain": [
       "<Figure size 432x288 with 2 Axes>"
      ]
     },
     "metadata": {
      "needs_background": "light"
     },
     "output_type": "display_data"
    }
   ],
   "source": [
    "data, img = run_tests(\n",
    "    \"dataset/main/test.txt\",\n",
    "    dataset_reader=reader,\n",
    "    model=sel.model\n",
    ")"
   ]
  },
  {
   "cell_type": "code",
   "execution_count": 4,
   "id": "c1eb9101",
   "metadata": {},
   "outputs": [],
   "source": [
    "from seligator.prediction.html import predictions_to_html"
   ]
  },
  {
   "cell_type": "code",
   "execution_count": null,
   "id": "7ede8af2",
   "metadata": {
    "scrolled": false
   },
   "outputs": [],
   "source": []
  },
  {
   "cell_type": "code",
   "execution_count": null,
   "id": "6e079de9",
   "metadata": {},
   "outputs": [],
   "source": [
    "\n",
    "\n",
    "# Do Ausone\n",
    "output = sel.predict_on_xml(\n",
    "    \"/home/thibault/dev/latin-lemmatized-texts/lemmatized/xml/urn:cts:latinLit:stoa0045.stoa003.perseus-lat2.xml\",\n",
    "     metadata={\n",
    "        \"Century\": \"4\",\n",
    "        #\"CitationTypes\": \"line\",\n",
    "        #\"Textgroup\": \"urn:cts:latinLit:stoa0045\",\n",
    "        \"WrittenType\": \"versified\"\n",
    "})\n",
    "with open(\"ausone-as-ausone.html\", \"w\") as f:\n",
    "    f.write(predictions_to_html(output, show_class=False))\n",
    "\n",
    "# Same with Virgile\n",
    "output = sel.predict_on_xml(\n",
    "    \"/home/thibault/dev/latin-lemmatized-texts/lemmatized/xml/urn:cts:latinLit:stoa0045.stoa003.perseus-lat2.xml\",\n",
    "     metadata={\n",
    "        \"Century\": \"-1\",\n",
    "        #\"CitationTypes\": \"poem,line\",\n",
    "        #\"Textgroup\": \"urn:cts:latinLit:phi0690\",\n",
    "        \"WrittenType\": \"versified\"\n",
    "})\n",
    "with open(\"ausone-as-virgile.html\", \"w\") as f:\n",
    "    f.write(predictions_to_html(output, show_class=False))\n",
    "    \n",
    "# Virgine Aeneid\n",
    "output = sel.predict_on_xml(\n",
    "    \"/home/thibault/dev/latin-lemmatized-texts/lemmatized/xml/urn:cts:latinLit:phi0690.phi003.perseus-lat2.xml\",\n",
    "     metadata={\n",
    "        \"Century\": \"-1\",\n",
    "        \"CitationTypes\": \"poem,line\",\n",
    "        #\"Textgroup\": \"urn:cts:latinLit:phi0690\",\n",
    "        \"WrittenType\": \"versified\"\n",
    "})\n",
    "with open(\"virgile-as-virgile.html\", \"w\") as f:\n",
    "    f.write(predictions_to_html(output, show_class=False))\n",
    "    "
   ]
  },
  {
   "cell_type": "code",
   "execution_count": 59,
   "id": "f8296ad1",
   "metadata": {},
   "outputs": [],
   "source": [
    "MARTIAL = {\n",
    "        \"Century\": \"1\",\n",
    "        \"CitationTypes\": \"book,poem,line\",\n",
    "        \"Textgroup\": \"urn:cts:latinLit:phi1294\",\n",
    "        \"WrittenType\": \"versified\"\n",
    "}\n",
    "CICERON = {\n",
    "        \"Century\": \"-1\",\n",
    "        \"CitationTypes\": \"book,section\",\n",
    "        \"Textgroup\": \"urn:cts:latinLit:phi0474\",\n",
    "        \"WrittenType\": \"prose\"\n",
    "}\n",
    "\n",
    "\n",
    "def fix_start_end(list_of_sent):\n",
    "    x = [\n",
    "        \n",
    "        {\n",
    "            \"start\": f\"Unk{i}\",\n",
    "            \"end\": f\"Unk{i}.end\",\n",
    "            **sent\n",
    "        }\n",
    "        for i, sent in enumerate(list_of_sent)\n",
    "    ]\n",
    "    return x\n",
    "    \n",
    "    \n",
    "def taux_positif(sents):\n",
    "    return \"{:.2f}%\".format(100*sum([int(sent[\"prediction\"] == \"positive\") for sent in sents])/len(sents))\n",
    "\n",
    "\n",
    "def run_on(model_path: str = \"models/all-metadata\", exclude = None, write=False):\n",
    "    m = Seligator.load_model(model_path)\n",
    "    m.model.cuda()\n",
    "    m.model.eval()\n",
    "    reader = sel.get_reader()\n",
    "    print(\n",
    "        m.vocabulary\n",
    "    )\n",
    "    \n",
    "    exclude = exclude or []\n",
    "    \n",
    "    martial = {key: val for key, val in MARTIAL.items() if key not in exclude}\n",
    "    ciceron = {key: val for key, val in CICERON.items() if key not in exclude}\n",
    "    \n",
    "    # Martial as Martial\n",
    "    mar_mar = m.predict_on_xml(\n",
    "        \"/home/thibault/dev/latin-lemmatized-texts/lemmatized/xml/urn:cts:latinLit:phi1294.phi002.perseus-lat2.xml\",\n",
    "         metadata=martial)\n",
    "    if write:\n",
    "        with open(\"martial-as-martial.html\", \"w\") as f:\n",
    "            f.write(predictions_to_html(mar_mar, show_class=False))\n",
    "\n",
    "    # Martial as Cicero\n",
    "    mar_cic = m.predict_on_xml(\n",
    "        \"/home/thibault/dev/latin-lemmatized-texts/lemmatized/xml/urn:cts:latinLit:phi1294.phi002.perseus-lat2.xml\",\n",
    "         metadata=ciceron)\n",
    "    if write:\n",
    "        with open(\"martial-as-cicero.html\", \"w\") as f:\n",
    "            f.write(predictions_to_html(mar_cic, show_class=True))\n",
    "\n",
    "    # Cicero as Cicero\n",
    "    cic_cic = m.predict_on_xml(\n",
    "        \"/home/thibault/dev/latin-lemmatized-texts/lemmatized/xml/urn:cts:latinLit:phi0474.phi048.perseus-lat1.xml\",\n",
    "         metadata=ciceron)\n",
    "    if write:\n",
    "        with open(\"cicero-as-cicero.html\", \"w\") as f:\n",
    "            f.write(predictions_to_html(fix_start_end(cic_cic), show_class=True))\n",
    "\n",
    "    # Cicero as Martial\n",
    "    cic_mar = m.predict_on_xml(\n",
    "        \"/home/thibault/dev/latin-lemmatized-texts/lemmatized/xml/urn:cts:latinLit:phi0474.phi048.perseus-lat1.xml\",\n",
    "         metadata=martial)\n",
    "    if write:\n",
    "        with open(\"cicero-as-martial.html\", \"w\") as f:\n",
    "            f.write(predictions_to_html(fix_start_end(cic_mar), show_class=True))\n",
    "            \n",
    "    return [\n",
    "    {\n",
    "        \"Texte\": \"De Finibus, Cicéron\",\n",
    "        \"Model\": model_path,\n",
    "        \"En tant que Cicéron\": taux_positif(cic_cic),\n",
    "        \"En tant que Martial\": taux_positif(cic_mar)\n",
    "    },\n",
    "    {\n",
    "        \"Texte\": \"Epigrammata, Martial\",\n",
    "        \"Model\": model_path,\n",
    "        \"En tant que Cicéron\": taux_positif(mar_cic),\n",
    "        \"En tant que Martial\": taux_positif(mar_mar)\n",
    "    }\n",
    "]"
   ]
  },
  {
   "cell_type": "code",
   "execution_count": 52,
   "id": "2a3a7829",
   "metadata": {},
   "outputs": [
    {
     "name": "stderr",
     "output_type": "stream",
     "text": [
      "WARNING:root:TSV READER uses following metadata encoding MetadataEncoding.AS_CATEGORICAL \n",
      "WARNING:root:TSV Reader keeps following metadata Century, Textgroup, WrittenType, CitationTypes\n",
      "WARNING:root:TSV READER uses following metadata encoding MetadataEncoding.AS_CATEGORICAL \n",
      "WARNING:root:TSV Reader keeps following metadata Century, Textgroup, WrittenType, CitationTypes\n"
     ]
    },
    {
     "name": "stdout",
     "output_type": "stream",
     "text": [
      "['Century', 'Textgroup', 'WrittenType', 'CitationTypes']\n"
     ]
    },
    {
     "name": "stderr",
     "output_type": "stream",
     "text": [
      "WARNING:root:TSV READER uses following metadata encoding MetadataEncoding.AS_CATEGORICAL \n",
      "WARNING:root:TSV Reader keeps following metadata Century, Textgroup, WrittenType, CitationTypes\n",
      "WARNING:root:TSV READER uses following metadata encoding MetadataEncoding.AS_CATEGORICAL \n",
      "WARNING:root:TSV Reader keeps following metadata Century, Textgroup, WrittenType, CitationTypes\n",
      "WARNING:root:TSV READER uses following metadata encoding MetadataEncoding.AS_CATEGORICAL \n",
      "WARNING:root:TSV Reader keeps following metadata Century, Textgroup, WrittenType, CitationTypes\n",
      "WARNING:root:TSV READER uses following metadata encoding MetadataEncoding.AS_CATEGORICAL \n",
      "WARNING:root:TSV Reader keeps following metadata Century, Textgroup, WrittenType, CitationTypes\n",
      "WARNING:root:TSV READER uses following metadata encoding MetadataEncoding.AS_CATEGORICAL \n",
      "WARNING:root:TSV Reader keeps following metadata Century, WrittenType, CitationTypes\n"
     ]
    },
    {
     "name": "stdout",
     "output_type": "stream",
     "text": [
      "['Century', 'Textgroup', 'WrittenType', 'CitationTypes']\n"
     ]
    },
    {
     "name": "stderr",
     "output_type": "stream",
     "text": [
      "WARNING:root:TSV READER uses following metadata encoding MetadataEncoding.AS_CATEGORICAL \n",
      "WARNING:root:TSV Reader keeps following metadata Century, WrittenType, CitationTypes\n",
      "WARNING:root:TSV READER uses following metadata encoding MetadataEncoding.AS_CATEGORICAL \n",
      "WARNING:root:TSV Reader keeps following metadata Century, WrittenType, CitationTypes\n",
      "WARNING:root:TSV READER uses following metadata encoding MetadataEncoding.AS_CATEGORICAL \n",
      "WARNING:root:TSV Reader keeps following metadata Century, WrittenType, CitationTypes\n",
      "WARNING:root:TSV READER uses following metadata encoding MetadataEncoding.AS_CATEGORICAL \n",
      "WARNING:root:TSV Reader keeps following metadata Century, Textgroup, WrittenType, CitationTypes\n",
      "WARNING:root:TSV READER uses following metadata encoding MetadataEncoding.AS_CATEGORICAL \n",
      "WARNING:root:TSV Reader keeps following metadata Century, WrittenType\n"
     ]
    },
    {
     "name": "stdout",
     "output_type": "stream",
     "text": [
      "['Century', 'Textgroup', 'WrittenType', 'CitationTypes']\n"
     ]
    },
    {
     "ename": "KeyboardInterrupt",
     "evalue": "",
     "output_type": "error",
     "traceback": [
      "\u001b[0;31m---------------------------------------------------------------------------\u001b[0m",
      "\u001b[0;31mKeyboardInterrupt\u001b[0m                         Traceback (most recent call last)",
      "\u001b[0;32m/tmp/ipykernel_16613/3642590473.py\u001b[0m in \u001b[0;36m<module>\u001b[0;34m\u001b[0m\n\u001b[1;32m      6\u001b[0m     \u001b[0;34m*\u001b[0m\u001b[0mrun_on\u001b[0m\u001b[0;34m(\u001b[0m\u001b[0;34m)\u001b[0m\u001b[0;34m,\u001b[0m \u001b[0;31m# Normal\u001b[0m\u001b[0;34m\u001b[0m\u001b[0;34m\u001b[0m\u001b[0m\n\u001b[1;32m      7\u001b[0m     \u001b[0;34m*\u001b[0m\u001b[0mrun_on\u001b[0m\u001b[0;34m(\u001b[0m\u001b[0;34m\"models/form-century-citation\"\u001b[0m\u001b[0;34m,\u001b[0m \u001b[0mexclude\u001b[0m\u001b[0;34m=\u001b[0m\u001b[0;34m[\u001b[0m\u001b[0;34m\"Textgroup\"\u001b[0m\u001b[0;34m]\u001b[0m\u001b[0;34m)\u001b[0m\u001b[0;34m,\u001b[0m\u001b[0;34m\u001b[0m\u001b[0;34m\u001b[0m\u001b[0m\n\u001b[0;32m----> 8\u001b[0;31m     \u001b[0;34m*\u001b[0m\u001b[0mrun_on\u001b[0m\u001b[0;34m(\u001b[0m\u001b[0;34m\"models/form-century\"\u001b[0m\u001b[0;34m,\u001b[0m \u001b[0mexclude\u001b[0m\u001b[0;34m=\u001b[0m\u001b[0;34m[\u001b[0m\u001b[0;34m\"Textgroup\"\u001b[0m\u001b[0;34m,\u001b[0m \u001b[0;34m\"CitationTypes\"\u001b[0m\u001b[0;34m]\u001b[0m\u001b[0;34m)\u001b[0m \u001b[0;34m,\u001b[0m\u001b[0;34m\u001b[0m\u001b[0;34m\u001b[0m\u001b[0m\n\u001b[0m\u001b[1;32m      9\u001b[0m     \u001b[0;34m*\u001b[0m\u001b[0mrun_on\u001b[0m\u001b[0;34m(\u001b[0m\u001b[0;34m\"models/none\"\u001b[0m\u001b[0;34m,\u001b[0m \u001b[0mexclude\u001b[0m\u001b[0;34m=\u001b[0m\u001b[0;34m[\u001b[0m\u001b[0;34m'Century'\u001b[0m\u001b[0;34m,\u001b[0m \u001b[0;34m'Textgroup'\u001b[0m\u001b[0;34m,\u001b[0m \u001b[0;34m'WrittenType'\u001b[0m\u001b[0;34m,\u001b[0m \u001b[0;34m'CitationTypes'\u001b[0m\u001b[0;34m]\u001b[0m\u001b[0;34m)\u001b[0m\u001b[0;34m\u001b[0m\u001b[0;34m\u001b[0m\u001b[0m\n\u001b[1;32m     10\u001b[0m ]\n",
      "\u001b[0;32m/tmp/ipykernel_16613/3040513441.py\u001b[0m in \u001b[0;36mrun_on\u001b[0;34m(model_path, exclude, write)\u001b[0m\n\u001b[1;32m     45\u001b[0m \u001b[0;34m\u001b[0m\u001b[0m\n\u001b[1;32m     46\u001b[0m     \u001b[0;31m# Martial as Martial\u001b[0m\u001b[0;34m\u001b[0m\u001b[0;34m\u001b[0m\u001b[0;34m\u001b[0m\u001b[0m\n\u001b[0;32m---> 47\u001b[0;31m     mar_mar = m.predict_on_xml(\n\u001b[0m\u001b[1;32m     48\u001b[0m         \u001b[0;34m\"/home/thibault/dev/latin-lemmatized-texts/lemmatized/xml/urn:cts:latinLit:phi1294.phi002.perseus-lat2.xml\"\u001b[0m\u001b[0;34m,\u001b[0m\u001b[0;34m\u001b[0m\u001b[0;34m\u001b[0m\u001b[0m\n\u001b[1;32m     49\u001b[0m          metadata=martial)\n",
      "\u001b[0;32m~/dev/est-lascivuum-non-est/seligator/main.py\u001b[0m in \u001b[0;36mpredict_on_xml\u001b[0;34m(self, xml_file, batch_size, metadata)\u001b[0m\n\u001b[1;32m    282\u001b[0m \u001b[0;34m\u001b[0m\u001b[0m\n\u001b[1;32m    283\u001b[0m     \u001b[0;32mdef\u001b[0m \u001b[0mpredict_on_xml\u001b[0m\u001b[0;34m(\u001b[0m\u001b[0mself\u001b[0m\u001b[0;34m,\u001b[0m \u001b[0mxml_file\u001b[0m\u001b[0;34m,\u001b[0m \u001b[0mbatch_size\u001b[0m\u001b[0;34m:\u001b[0m \u001b[0mint\u001b[0m \u001b[0;34m=\u001b[0m \u001b[0;36m8\u001b[0m\u001b[0;34m,\u001b[0m \u001b[0mmetadata\u001b[0m\u001b[0;34m:\u001b[0m \u001b[0mDict\u001b[0m\u001b[0;34m[\u001b[0m\u001b[0mstr\u001b[0m\u001b[0;34m,\u001b[0m \u001b[0mAny\u001b[0m\u001b[0;34m]\u001b[0m \u001b[0;34m=\u001b[0m \u001b[0;32mNone\u001b[0m\u001b[0;34m)\u001b[0m \u001b[0;34m->\u001b[0m \u001b[0mList\u001b[0m\u001b[0;34m[\u001b[0m\u001b[0mDict\u001b[0m\u001b[0;34m[\u001b[0m\u001b[0mstr\u001b[0m\u001b[0;34m,\u001b[0m \u001b[0mAny\u001b[0m\u001b[0;34m]\u001b[0m\u001b[0;34m]\u001b[0m\u001b[0;34m:\u001b[0m\u001b[0;34m\u001b[0m\u001b[0;34m\u001b[0m\u001b[0m\n\u001b[0;32m--> 284\u001b[0;31m         \u001b[0minstances\u001b[0m \u001b[0;34m=\u001b[0m \u001b[0mself\u001b[0m\u001b[0;34m.\u001b[0m\u001b[0mget_xml_loader\u001b[0m\u001b[0;34m(\u001b[0m\u001b[0mxml_file\u001b[0m\u001b[0;34m,\u001b[0m \u001b[0mmetadata\u001b[0m\u001b[0;34m=\u001b[0m\u001b[0mmetadata\u001b[0m \u001b[0;32mor\u001b[0m \u001b[0;34m{\u001b[0m\u001b[0;34m}\u001b[0m\u001b[0;34m)\u001b[0m\u001b[0;34m\u001b[0m\u001b[0;34m\u001b[0m\u001b[0m\n\u001b[0m\u001b[1;32m    285\u001b[0m         \u001b[0mbatcher\u001b[0m \u001b[0;34m=\u001b[0m \u001b[0msimple_batcher\u001b[0m\u001b[0;34m(\u001b[0m\u001b[0mlist\u001b[0m\u001b[0;34m(\u001b[0m\u001b[0minstances\u001b[0m\u001b[0;34m)\u001b[0m\u001b[0;34m,\u001b[0m \u001b[0mn\u001b[0m\u001b[0;34m=\u001b[0m\u001b[0mbatch_size\u001b[0m\u001b[0;34m)\u001b[0m\u001b[0;34m\u001b[0m\u001b[0;34m\u001b[0m\u001b[0m\n\u001b[1;32m    286\u001b[0m \u001b[0;34m\u001b[0m\u001b[0m\n",
      "\u001b[0;32m~/dev/est-lascivuum-non-est/seligator/main.py\u001b[0m in \u001b[0;36mget_xml_loader\u001b[0;34m(self, xml_file, metadata)\u001b[0m\n\u001b[1;32m    276\u001b[0m     \u001b[0;32mdef\u001b[0m \u001b[0mget_xml_loader\u001b[0m\u001b[0;34m(\u001b[0m\u001b[0mself\u001b[0m\u001b[0;34m,\u001b[0m \u001b[0mxml_file\u001b[0m\u001b[0;34m,\u001b[0m \u001b[0mmetadata\u001b[0m\u001b[0;34m:\u001b[0m \u001b[0mDict\u001b[0m\u001b[0;34m[\u001b[0m\u001b[0mstr\u001b[0m\u001b[0;34m,\u001b[0m \u001b[0mAny\u001b[0m\u001b[0;34m]\u001b[0m \u001b[0;34m=\u001b[0m \u001b[0;32mNone\u001b[0m\u001b[0;34m)\u001b[0m \u001b[0;34m->\u001b[0m \u001b[0mList\u001b[0m\u001b[0;34m[\u001b[0m\u001b[0mInstance\u001b[0m\u001b[0;34m]\u001b[0m\u001b[0;34m:\u001b[0m\u001b[0;34m\u001b[0m\u001b[0;34m\u001b[0m\u001b[0m\n\u001b[1;32m    277\u001b[0m         \u001b[0mreader\u001b[0m \u001b[0;34m=\u001b[0m \u001b[0mself\u001b[0m\u001b[0;34m.\u001b[0m\u001b[0mget_reader\u001b[0m\u001b[0;34m(\u001b[0m\u001b[0mXMLDatasetReader\u001b[0m\u001b[0;34m)\u001b[0m\u001b[0;34m\u001b[0m\u001b[0;34m\u001b[0m\u001b[0m\n\u001b[0;32m--> 278\u001b[0;31m         instances = list(reader.read_with_default_value(xml_file, default_metadata_tokens=[\n\u001b[0m\u001b[1;32m    279\u001b[0m             \u001b[0;34mf\"{k}={v}\"\u001b[0m \u001b[0;32mfor\u001b[0m \u001b[0mk\u001b[0m\u001b[0;34m,\u001b[0m \u001b[0mv\u001b[0m \u001b[0;32min\u001b[0m \u001b[0mmetadata\u001b[0m\u001b[0;34m.\u001b[0m\u001b[0mitems\u001b[0m\u001b[0;34m(\u001b[0m\u001b[0;34m)\u001b[0m\u001b[0;34m\u001b[0m\u001b[0;34m\u001b[0m\u001b[0m\n\u001b[1;32m    280\u001b[0m         ]))\n",
      "\u001b[0;32m~/dev/est-lascivuum-non-est/seligator/dataset/readers/__init__.py\u001b[0m in \u001b[0;36mread_with_default_value\u001b[0;34m(self, file_path, base_path, default_metadata_tokens)\u001b[0m\n\u001b[1;32m    539\u001b[0m     ):\n\u001b[1;32m    540\u001b[0m         \u001b[0mdefault_metadata_tokens\u001b[0m \u001b[0;34m=\u001b[0m \u001b[0mdefault_metadata_tokens\u001b[0m \u001b[0;32mor\u001b[0m \u001b[0;34m[\u001b[0m\u001b[0;34m]\u001b[0m\u001b[0;34m\u001b[0m\u001b[0;34m\u001b[0m\u001b[0m\n\u001b[0;32m--> 541\u001b[0;31m         yield from self._read(file_path=file_path, base_path=base_path,\n\u001b[0m\u001b[1;32m    542\u001b[0m                               default_metadata_tokens=default_metadata_tokens)\n\u001b[1;32m    543\u001b[0m \u001b[0;34m\u001b[0m\u001b[0m\n",
      "\u001b[0;32m~/dev/est-lascivuum-non-est/seligator/dataset/readers/__init__.py\u001b[0m in \u001b[0;36m_read\u001b[0;34m(self, file_path, base_path, default_metadata_tokens)\u001b[0m\n\u001b[1;32m    565\u001b[0m                     \u001b[0mstart_attribute\u001b[0m \u001b[0;34m=\u001b[0m \u001b[0mword\u001b[0m\u001b[0;34m.\u001b[0m\u001b[0mattrib\u001b[0m\u001b[0;34m.\u001b[0m\u001b[0mget\u001b[0m\u001b[0;34m(\u001b[0m\u001b[0;34m\"n\"\u001b[0m\u001b[0;34m,\u001b[0m \u001b[0;34m\"\"\u001b[0m\u001b[0;34m)\u001b[0m\u001b[0;34m\u001b[0m\u001b[0;34m\u001b[0m\u001b[0m\n\u001b[1;32m    566\u001b[0m                 \u001b[0;32mif\u001b[0m \u001b[0mself\u001b[0m\u001b[0;34m.\u001b[0m\u001b[0m_stop_regex\u001b[0m\u001b[0;34m.\u001b[0m\u001b[0mmatch\u001b[0m\u001b[0;34m(\u001b[0m\u001b[0mword\u001b[0m\u001b[0;34m.\u001b[0m\u001b[0mattrib\u001b[0m\u001b[0;34m[\u001b[0m\u001b[0mself\u001b[0m\u001b[0;34m.\u001b[0m\u001b[0m_stop_attrib\u001b[0m\u001b[0;34m]\u001b[0m\u001b[0;34m)\u001b[0m\u001b[0;34m:\u001b[0m\u001b[0;34m\u001b[0m\u001b[0;34m\u001b[0m\u001b[0m\n\u001b[0;32m--> 567\u001b[0;31m                     s = self.text_to_instance(\n\u001b[0m\u001b[1;32m    568\u001b[0m                         \u001b[0mcontent\u001b[0m\u001b[0;34m=\u001b[0m\u001b[0mcontent\u001b[0m\u001b[0;34m,\u001b[0m\u001b[0;34m\u001b[0m\u001b[0;34m\u001b[0m\u001b[0m\n\u001b[1;32m    569\u001b[0m                         \u001b[0mlabel\u001b[0m\u001b[0;34m=\u001b[0m\u001b[0;32mNone\u001b[0m\u001b[0;34m,\u001b[0m\u001b[0;34m\u001b[0m\u001b[0;34m\u001b[0m\u001b[0m\n",
      "\u001b[0;32m~/dev/est-lascivuum-non-est/seligator/dataset/readers/__init__.py\u001b[0m in \u001b[0;36mtext_to_instance\u001b[0;34m(self, content, label, metadata_tokens, metadata_generic)\u001b[0m\n\u001b[1;32m    176\u001b[0m                 \u001b[0;31m# If we use agglomerated MSD and the MS category is a feature we use\u001b[0m\u001b[0;34m\u001b[0m\u001b[0;34m\u001b[0m\u001b[0;34m\u001b[0m\u001b[0m\n\u001b[1;32m    177\u001b[0m                 \u001b[0;31m#   We store the information\u001b[0m\u001b[0;34m\u001b[0m\u001b[0;34m\u001b[0m\u001b[0;34m\u001b[0m\u001b[0m\n\u001b[0;32m--> 178\u001b[0;31m                 \u001b[0;32mif\u001b[0m \u001b[0mself\u001b[0m\u001b[0;34m.\u001b[0m\u001b[0magglomerate_msd\u001b[0m \u001b[0;32mand\u001b[0m \u001b[0mcat\u001b[0m \u001b[0;32min\u001b[0m \u001b[0mself\u001b[0m\u001b[0;34m.\u001b[0m\u001b[0m_msd_features\u001b[0m\u001b[0;34m:\u001b[0m\u001b[0;34m\u001b[0m\u001b[0;34m\u001b[0m\u001b[0m\n\u001b[0m\u001b[1;32m    179\u001b[0m                     \u001b[0mmsd\u001b[0m\u001b[0;34m[\u001b[0m\u001b[0mcat\u001b[0m\u001b[0;34m]\u001b[0m \u001b[0;34m=\u001b[0m \u001b[0mvalue\u001b[0m\u001b[0;34m\u001b[0m\u001b[0;34m\u001b[0m\u001b[0m\n\u001b[1;32m    180\u001b[0m                 \u001b[0;31m# We keep a \"simple\" version of the sentence for debugging later\u001b[0m\u001b[0;34m\u001b[0m\u001b[0;34m\u001b[0m\u001b[0;34m\u001b[0m\u001b[0m\n",
      "\u001b[0;31mKeyboardInterrupt\u001b[0m: "
     ]
    }
   ],
   "source": [
    "from pandas import DataFrame\n",
    "\n",
    "\n",
    "# ['Century', 'Textgroup', 'WrittenType', 'CitationTypes']\n",
    "all_metadata = [\n",
    "    *run_on(), # Normal\n",
    "    *run_on(\"models/form-century-citation\", exclude=[\"Textgroup\"]), \n",
    "    *run_on(\"models/form-century\", exclude=[\"Textgroup\", \"CitationTypes\"]) , \n",
    "    *run_on(\"models/none\", exclude=['Century', 'Textgroup', 'WrittenType', 'CitationTypes']) \n",
    "]"
   ]
  },
  {
   "cell_type": "code",
   "execution_count": 50,
   "id": "4743a77b",
   "metadata": {},
   "outputs": [
    {
     "name": "stdout",
     "output_type": "stream",
     "text": [
      "\\begin{tabular}{llll}\n",
      "\\toprule\n",
      "               Texte &                        Model & En tant que Cicéron & En tant que Martial \\\\\n",
      "\\midrule\n",
      " De Finibus, Cicéron &          models/all-metadata &               4.25\\% &              72.60\\% \\\\\n",
      "Epigrammata, Martial &          models/all-metadata &               7.89\\% &              82.05\\% \\\\\n",
      " De Finibus, Cicéron & models/form-century-citation &               4.69\\% &              47.54\\% \\\\\n",
      "Epigrammata, Martial & models/form-century-citation &               7.33\\% &              59.76\\% \\\\\n",
      " De Finibus, Cicéron &          models/form-century &               0.91\\% &              36.03\\% \\\\\n",
      "Epigrammata, Martial &          models/form-century &               6.41\\% &              48.10\\% \\\\\n",
      " De Finibus, Cicéron &                  models/none &               2.91\\% &               2.91\\% \\\\\n",
      "Epigrammata, Martial &                  models/none &              15.29\\% &              15.29\\% \\\\\n",
      "\\bottomrule\n",
      "\\end{tabular}\n",
      "\n"
     ]
    }
   ],
   "source": [
    "print(DataFrame(all_metadata).to_latex(index=False))"
   ]
  }
 ],
 "metadata": {
  "kernelspec": {
   "display_name": "Python 3",
   "language": "python",
   "name": "python3"
  },
  "language_info": {
   "codemirror_mode": {
    "name": "ipython",
    "version": 3
   },
   "file_extension": ".py",
   "mimetype": "text/x-python",
   "name": "python",
   "nbconvert_exporter": "python",
   "pygments_lexer": "ipython3",
   "version": "3.8.10"
  },
  "toc": {
   "base_numbering": 1,
   "nav_menu": {},
   "number_sections": true,
   "sideBar": true,
   "skip_h1_title": false,
   "title_cell": "Table of Contents",
   "title_sidebar": "Contents",
   "toc_cell": false,
   "toc_position": {},
   "toc_section_display": true,
   "toc_window_display": false
  }
 },
 "nbformat": 4,
 "nbformat_minor": 5
}
