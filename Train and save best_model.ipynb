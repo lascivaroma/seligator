{
 "cells": [
  {
   "cell_type": "code",
   "execution_count": 1,
   "id": "22f4dbb7",
   "metadata": {
    "scrolled": false
   },
   "outputs": [
    {
     "name": "stderr",
     "output_type": "stream",
     "text": [
      "2021-08-02 11:04:40.247880: I tensorflow/stream_executor/platform/default/dso_loader.cc:53] Successfully opened dynamic library libcudart.so.11.0\n",
      "INFO:root:Dataset reader set with following categories: [msd], lemma_char, lemma\n",
      "/home/thibault/dev/est-lascivuum-non-est/env/lib/python3.8/site-packages/allennlp/data/token_indexers/token_characters_indexer.py:55: UserWarning: You are using the default value (0) of `min_padding_length`, which can cause some subtle bugs (more info see https://github.com/allenai/allennlp/issues/1954). Strongly recommend to set a value, usually the maximum size of the convolutional layer size when using CnnEncoder.\n",
      "  warnings.warn(\n",
      "INFO:root:Indexer set for following categories: [msd], lemma_char, lemma\n",
      "INFO:root:TSV READER uses following metadata encoding MetadataEncoding.AS_CATEGORICAL \n",
      "INFO:root:Reading data\n",
      "WARNING:allennlp.data.fields.multilabel_field:Your label namespace was '[msd]'. We recommend you use a namespace ending with 'labels' or 'tags', so we don't add UNK and PAD tokens by default to your vocabulary.  See documentation for `non_padded_namespaces` parameter in Vocabulary.\n"
     ]
    },
    {
     "name": "stdout",
     "output_type": "stream",
     "text": [
      "{'keep_all_vocab': True, 'pretrained_embeddings': {'lemma': '~/dev/these/notebooks/4 - Detection/data/embs_models/model.lemma.word2vec.kv.header'}, 'trainable_embeddings': {'token': False, 'lemma': False}, 'emb_dims': {'token': 200, 'lemma': 200}}\n",
      "{'token': 200, 'lemma': 200, 'token_char': 100, 'token_char_encoded': 150, 'lemma_char': 100, 'lemma_char_encoded': 150, 'pos': 3, '[msd]': 20, 'case': 3, 'numb': 3, 'gend': 3, 'mood': 3, 'tense': 3, 'voice': 3, 'person': 3, 'deg': 3}\n"
     ]
    },
    {
     "name": "stderr",
     "output_type": "stream",
     "text": [
      "INFO:root:Building the vocabulary\n",
      "INFO:allennlp.data.vocabulary:Fitting token dictionary from dataset.\n"
     ]
    },
    {
     "data": {
      "application/vnd.jupyter.widget-view+json": {
       "model_id": "4e203dcfedc44380b7fc37afadeb634f",
       "version_major": 2,
       "version_minor": 0
      },
      "text/plain": [
       "building vocab:   0%|          | 0/5427 [00:00<?, ?it/s]"
      ]
     },
     "metadata": {},
     "output_type": "display_data"
    },
    {
     "name": "stderr",
     "output_type": "stream",
     "text": [
      "INFO:root:Fitting the BasisVectorConfiguration\n",
      "INFO:allennlp.modules.token_embedders.embedding:Reading pretrained embeddings from file\n",
      "WARNING:allennlp.modules.token_embedders.embedding:The embeddings file has an unknown file extension \".header\". We will assume the file is an (uncompressed) text file\n",
      "INFO:allennlp.modules.token_embedders.embedding:Recognized a header line in the embedding file with number of tokens: 155131\n"
     ]
    },
    {
     "data": {
      "application/vnd.jupyter.widget-view+json": {
       "model_id": "049a9dd84e24461b909781a3bb2c1a48",
       "version_major": 2,
       "version_minor": 0
      },
      "text/plain": [
       "  0%|          | 0/155131 [00:00<?, ?it/s]"
      ]
     },
     "metadata": {},
     "output_type": "display_data"
    },
    {
     "name": "stderr",
     "output_type": "stream",
     "text": [
      "INFO:allennlp.modules.token_embedders.embedding:Initializing pre-trained embedding layer\n",
      "INFO:allennlp.modules.token_embedders.embedding:Pretrained embeddings were found for 155131 out of 155381 tokens\n",
      "/home/thibault/dev/est-lascivuum-non-est/env/lib/python3.8/site-packages/torch/nn/modules/rnn.py:60: UserWarning: dropout option adds dropout after all but last recurrent layer, so non-zero dropout expects num_layers greater than 1, but got dropout=0.3 and num_layers=1\n",
      "  warnings.warn(\"dropout option adds dropout after all but last \"\n",
      "INFO:root:Classifier is using MetadataEnrichedLinear\n",
      "INFO:allennlp.training.optimizers:Number of trainable parameters: 1130802\n",
      "INFO:root:Current Optimizer: AdamWOptimizer (\n",
      "Parameter Group 0\n",
      "    amsgrad: False\n",
      "    betas: (0.9, 0.999)\n",
      "    eps: 1e-08\n",
      "    lr: 0.0005\n",
      "    weight_decay: 0.01\n",
      ") \n",
      "INFO:root:Num epochs: 20\n",
      "INFO:root:Starting training\n",
      "INFO:allennlp.training.gradient_descent_trainer:Beginning training.\n",
      "INFO:allennlp.training.gradient_descent_trainer:Epoch 0/19\n",
      "INFO:allennlp.training.gradient_descent_trainer:Worker 0 memory usage: 2.9G\n",
      "INFO:allennlp.training.gradient_descent_trainer:GPU 0 memory usage: 125M\n",
      "INFO:allennlp.training.gradient_descent_trainer:Training\n"
     ]
    },
    {
     "name": "stdout",
     "output_type": "stream",
     "text": [
      "---> Epochs:   20\n",
      "---> Patience: 4\n"
     ]
    },
    {
     "data": {
      "application/vnd.jupyter.widget-view+json": {
       "model_id": "245aac7240d54f79bedf6858c0f35b30",
       "version_major": 2,
       "version_minor": 0
      },
      "text/plain": [
       "  0%|          | 0/1357 [00:00<?, ?it/s]"
      ]
     },
     "metadata": {},
     "output_type": "display_data"
    },
    {
     "name": "stderr",
     "output_type": "stream",
     "text": [
      "/home/thibault/dev/est-lascivuum-non-est/seligator/models/classifier.py:59: UserWarning: Implicit dimension choice for softmax has been deprecated. Change the call to include dim=X as an argument.\n",
      "  probs = F.softmax(logits)\n",
      "INFO:allennlp.training.callbacks.console_logger:Batch inputs\n",
      "INFO:allennlp.training.callbacks.console_logger:batch_input/[msd] (Shape: 4 x 38 x 52)\n",
      "tensor([[[0, 0, 1,  ..., 0, 0, 0],\n",
      "         [0, 0, 1,  ..., 0, 0, 0],\n",
      "         [0, 0, 0,  ..., 0, 0, 0],\n",
      "         ...,\n",
      "         [0, 0, 0,  ..., 0, 0, 0],\n",
      "         [0, 0, 0,  ..., 0, 0, 0],\n",
      "         [0, 0, 0,  ..., 0, 0, 0]],\n",
      "\n",
      "        [[0, 0, 0,  ..., 0, 0, 0],\n",
      "         [0, 0, 1,  ..., 0, 0, 0],\n",
      "         [0, 0, 1,  ..., 0, 0, 0],\n",
      "         ...,\n",
      "         [0, 0, 1,  ..., 0, 0, 0],\n",
      "         [0, 0, 1,  ..., 0, 0, 0],\n",
      "         [0, 0, 1,  ..., 0, 0, 0]],\n",
      "\n",
      "        [[0, 0, 1,  ..., 0, 0, 0],\n",
      "         [0, 0, 1,  ..., 0, 0, 0],\n",
      "         [0, 0, 1,  ..., 0, 0, 0],\n",
      "         ...,\n",
      "         [0, 0, 0,  ..., 0, 0, 0],\n",
      "         [0, 0, 0,  ..., 0, 0, 0],\n",
      "         [0, 0, 0,  ..., 0, 0, 0]],\n",
      "\n",
      "        [[0, 0, 1,  ..., 0, 0, 0],\n",
      "         [0, 0, 1,  ..., 0, 0, 0],\n",
      "         [0, 0, 1,  ..., 0, 0, 0],\n",
      "         ...,\n",
      "         [0, 0, 0,  ..., 0, 0, 0],\n",
      "         [0, 0, 0,  ..., 0, 0, 0],\n",
      "         [0, 0, 0,  ..., 0, 0, 0]]], device='cuda:0')\n",
      "INFO:allennlp.training.callbacks.console_logger:batch_input/lemma_char/lemma_char/token_characters (Shape: 4 x 38 x 11)\n",
      "tensor([[[11,  7,  9,  ...,  0,  0,  0],\n",
      "         [14,  2,  4,  ...,  0,  0,  0],\n",
      "         [ 2,  4, 10,  ...,  0,  0,  0],\n",
      "         ...,\n",
      "         [ 0,  0,  0,  ...,  0,  0,  0],\n",
      "         [ 0,  0,  0,  ...,  0,  0,  0],\n",
      "         [ 0,  0,  0,  ...,  0,  0,  0]],\n",
      "\n",
      "        [[ 2,  4, 10,  ...,  0,  0,  0],\n",
      "         [ 4,  9,  3,  ...,  0,  0,  0],\n",
      "         [12,  6,  9,  ...,  0,  0,  0],\n",
      "         ...,\n",
      "         [ 3, 13, 13,  ...,  0,  0,  0],\n",
      "         [ 5,  2,  5,  ...,  0,  0,  0],\n",
      "         [23,  0,  0,  ...,  0,  0,  0]],\n",
      "\n",
      "        [[ 3,  9,  0,  ...,  0,  0,  0],\n",
      "         [ 3,  9,  5,  ...,  0,  0,  0],\n",
      "         [22, 10,  2,  ..., 11,  0,  0],\n",
      "         ...,\n",
      "         [ 0,  0,  0,  ...,  0,  0,  0],\n",
      "         [ 0,  0,  0,  ...,  0,  0,  0],\n",
      "         [ 0,  0,  0,  ...,  0,  0,  0]],\n",
      "\n",
      "        [[ 7, 15, 17,  ...,  0,  0,  0],\n",
      "         [ 6, 11,  9,  ...,  0,  0,  0],\n",
      "         [10,  4,  5,  ...,  0,  0,  0],\n",
      "         ...,\n",
      "         [ 0,  0,  0,  ...,  0,  0,  0],\n",
      "         [ 0,  0,  0,  ...,  0,  0,  0],\n",
      "         [ 0,  0,  0,  ...,  0,  0,  0]]], device='cuda:0')\n",
      "INFO:allennlp.training.callbacks.console_logger:batch_input/lemma/lemma/tokens (Shape: 4 x 38)\n",
      "tensor([[10348,   189,   348,  ...,     0,     0,     0],\n",
      "        [  800,    40,  2224,  ...,    13,   354,     3],\n",
      "        [    7,  1267,  1647,  ...,     0,     0,     0],\n",
      "        [   16,    23,    51,  ...,     0,     0,     0]], device='cuda:0')\n",
      "INFO:allennlp.training.callbacks.console_logger:batch_input/label (Shape: 4)\n",
      "tensor([1, 0, 0, 0], device='cuda:0')\n",
      "INFO:allennlp.training.callbacks.console_logger:Field : \"batch_input/metadata\" : (Length 4 of type \"<class 'dict'>\")\n",
      "INFO:allennlp.training.callbacks.console_logger:batch_input/metadata_categoricals_Century (Shape: 4)\n",
      "tensor([4, 0, 2, 2], device='cuda:0')\n",
      "INFO:allennlp.training.callbacks.console_logger:batch_input/metadata_categoricals_Textgroup (Shape: 4)\n",
      "tensor([22, 28, 91, 12], device='cuda:0')\n",
      "INFO:allennlp.training.callbacks.console_logger:batch_input/metadata_categoricals_WrittenType (Shape: 4)\n",
      "tensor([1, 0, 0, 0], device='cuda:0')\n",
      "INFO:allennlp.training.callbacks.console_logger:batch_input/metadata_categoricals_CitationTypes (Shape: 4)\n",
      "tensor([2, 1, 7, 8], device='cuda:0')\n",
      "INFO:allennlp.training.gradient_descent_trainer:Validating\n"
     ]
    },
    {
     "data": {
      "application/vnd.jupyter.widget-view+json": {
       "model_id": "1b1fc2de90204add91c84b1e8266c853",
       "version_major": 2,
       "version_minor": 0
      },
      "text/plain": [
       "  0%|          | 0/170 [00:00<?, ?it/s]"
      ]
     },
     "metadata": {},
     "output_type": "display_data"
    },
    {
     "name": "stderr",
     "output_type": "stream",
     "text": [
      "INFO:allennlp.training.callbacks.console_logger:Batch inputs\n",
      "INFO:allennlp.training.callbacks.console_logger:batch_input/[msd] (Shape: 4 x 35 x 52)\n",
      "tensor([[[0, 0, 1,  ..., 0, 0, 0],\n",
      "         [0, 0, 1,  ..., 0, 0, 0],\n",
      "         [0, 0, 1,  ..., 0, 0, 0],\n",
      "         ...,\n",
      "         [0, 0, 0,  ..., 0, 0, 0],\n",
      "         [0, 0, 0,  ..., 0, 0, 0],\n",
      "         [0, 0, 0,  ..., 0, 0, 0]],\n",
      "\n",
      "        [[0, 0, 1,  ..., 0, 0, 0],\n",
      "         [0, 0, 1,  ..., 0, 0, 0],\n",
      "         [0, 0, 1,  ..., 0, 0, 0],\n",
      "         ...,\n",
      "         [0, 0, 0,  ..., 0, 0, 0],\n",
      "         [0, 0, 0,  ..., 0, 0, 0],\n",
      "         [0, 0, 0,  ..., 0, 0, 0]],\n",
      "\n",
      "        [[0, 0, 1,  ..., 0, 0, 0],\n",
      "         [0, 0, 1,  ..., 0, 0, 0],\n",
      "         [0, 0, 0,  ..., 0, 0, 0],\n",
      "         ...,\n",
      "         [0, 0, 1,  ..., 0, 0, 0],\n",
      "         [0, 0, 1,  ..., 0, 0, 0],\n",
      "         [0, 0, 1,  ..., 0, 0, 0]],\n",
      "\n",
      "        [[0, 0, 1,  ..., 0, 0, 0],\n",
      "         [0, 0, 1,  ..., 0, 0, 0],\n",
      "         [0, 0, 1,  ..., 0, 0, 0],\n",
      "         ...,\n",
      "         [0, 0, 0,  ..., 0, 0, 0],\n",
      "         [0, 0, 0,  ..., 0, 0, 0],\n",
      "         [0, 0, 0,  ..., 0, 0, 0]]], device='cuda:0')\n",
      "INFO:allennlp.training.callbacks.console_logger:batch_input/lemma_char/lemma_char/token_characters (Shape: 4 x 35 x 12)\n",
      "tensor([[[19,  2,  3,  ...,  0,  0,  0],\n",
      "         [ 4, 10, 20,  ...,  0,  0,  0],\n",
      "         [18,  0,  0,  ...,  0,  0,  0],\n",
      "         ...,\n",
      "         [ 0,  0,  0,  ...,  0,  0,  0],\n",
      "         [ 0,  0,  0,  ...,  0,  0,  0],\n",
      "         [ 0,  0,  0,  ...,  0,  0,  0]],\n",
      "\n",
      "        [[ 4,  8, 17,  ...,  0,  0,  0],\n",
      "         [ 7,  2, 15,  ...,  0,  0,  0],\n",
      "         [34, 13,  4,  ...,  0,  0,  0],\n",
      "         ...,\n",
      "         [ 0,  0,  0,  ...,  0,  0,  0],\n",
      "         [ 0,  0,  0,  ...,  0,  0,  0],\n",
      "         [ 0,  0,  0,  ...,  0,  0,  0]],\n",
      "\n",
      "        [[19,  2,  7,  ...,  0,  0,  0],\n",
      "         [ 4,  9,  3,  ...,  0,  0,  0],\n",
      "         [ 7, 15,  4,  ...,  0,  0,  0],\n",
      "         ...,\n",
      "         [11,  2, 13,  ...,  0,  0,  0],\n",
      "         [ 5,  2, 11,  ...,  0,  0,  0],\n",
      "         [23,  0,  0,  ...,  0,  0,  0]],\n",
      "\n",
      "        [[19,  2,  3,  ...,  0,  0,  0],\n",
      "         [ 5,  2,  5,  ...,  0,  0,  0],\n",
      "         [ 7, 21,  0,  ...,  0,  0,  0],\n",
      "         ...,\n",
      "         [ 0,  0,  0,  ...,  0,  0,  0],\n",
      "         [ 0,  0,  0,  ...,  0,  0,  0],\n",
      "         [ 0,  0,  0,  ...,  0,  0,  0]]], device='cuda:0')\n",
      "INFO:allennlp.training.callbacks.console_logger:batch_input/lemma/lemma/tokens (Shape: 4 x 35)\n",
      "tensor([[  34,  112,    2,  ...,    0,    0,    0],\n",
      "        [   4,  169,  996,  ...,    0,    0,    0],\n",
      "        [1387,   40,  665,  ..., 5058,    5,    3],\n",
      "        [  34, 1572,   18,  ...,    0,    0,    0]], device='cuda:0')\n",
      "INFO:allennlp.training.callbacks.console_logger:batch_input/label (Shape: 4)\n",
      "tensor([0, 0, 0, 0], device='cuda:0')\n",
      "INFO:allennlp.training.callbacks.console_logger:Field : \"batch_input/metadata\" : (Length 4 of type \"<class 'dict'>\")\n",
      "INFO:allennlp.training.callbacks.console_logger:batch_input/metadata_categoricals_Century (Shape: 4)\n",
      "tensor([2, 0, 2, 0], device='cuda:0')\n",
      "INFO:allennlp.training.callbacks.console_logger:batch_input/metadata_categoricals_Textgroup (Shape: 4)\n",
      "tensor([ 2,  4, 12,  4], device='cuda:0')\n",
      "INFO:allennlp.training.callbacks.console_logger:batch_input/metadata_categoricals_WrittenType (Shape: 4)\n",
      "tensor([0, 0, 0, 0], device='cuda:0')\n",
      "INFO:allennlp.training.callbacks.console_logger:batch_input/metadata_categoricals_CitationTypes (Shape: 4)\n",
      "tensor([0, 6, 8, 6], device='cuda:0')\n",
      "INFO:allennlp.training.callbacks.console_logger:                       Training |  Validation\n",
      "INFO:allennlp.training.callbacks.console_logger:accuracy           |     0.796  |     0.884\n",
      "INFO:allennlp.training.callbacks.console_logger:fscore             |     0.781  |     0.874\n",
      "INFO:allennlp.training.callbacks.console_logger:fscore-negative    |     0.839  |     0.909\n",
      "INFO:allennlp.training.callbacks.console_logger:fscore-positive    |     0.722  |     0.840\n",
      "INFO:allennlp.training.callbacks.console_logger:gpu_0_memory_MB    |   125.024  |       N/A\n",
      "INFO:allennlp.training.callbacks.console_logger:loss               |     0.537  |     0.306\n",
      "INFO:allennlp.training.callbacks.console_logger:precision          |     0.782  |     0.878\n",
      "INFO:allennlp.training.callbacks.console_logger:precision-negative |     0.833  |     0.897\n",
      "INFO:allennlp.training.callbacks.console_logger:precision-positive |     0.731  |     0.859\n",
      "INFO:allennlp.training.callbacks.console_logger:recall             |     0.779  |     0.871\n",
      "INFO:allennlp.training.callbacks.console_logger:recall-negative    |     0.845  |     0.920\n",
      "INFO:allennlp.training.callbacks.console_logger:recall-positive    |     0.714  |     0.821\n",
      "INFO:allennlp.training.callbacks.console_logger:worker_0_memory_MB |  2938.973  |       N/A\n",
      "INFO:allennlp.training.gradient_descent_trainer:Epoch duration: 0:00:22.348389\n",
      "INFO:allennlp.training.gradient_descent_trainer:Estimated training time remaining: 0:06:59\n",
      "INFO:allennlp.training.gradient_descent_trainer:Epoch 1/19\n",
      "INFO:allennlp.training.gradient_descent_trainer:Worker 0 memory usage: 3.0G\n",
      "INFO:allennlp.training.gradient_descent_trainer:GPU 0 memory usage: 176M\n",
      "INFO:allennlp.training.gradient_descent_trainer:Training\n"
     ]
    },
    {
     "data": {
      "application/vnd.jupyter.widget-view+json": {
       "model_id": "8c78710c3a134234a2042e5978fd6d94",
       "version_major": 2,
       "version_minor": 0
      },
      "text/plain": [
       "  0%|          | 0/1357 [00:00<?, ?it/s]"
      ]
     },
     "metadata": {},
     "output_type": "display_data"
    },
    {
     "name": "stderr",
     "output_type": "stream",
     "text": [
      "INFO:allennlp.training.gradient_descent_trainer:Validating\n"
     ]
    },
    {
     "data": {
      "application/vnd.jupyter.widget-view+json": {
       "model_id": "29e812fbaacf4d44978784e9f8a6d84f",
       "version_major": 2,
       "version_minor": 0
      },
      "text/plain": [
       "  0%|          | 0/170 [00:00<?, ?it/s]"
      ]
     },
     "metadata": {},
     "output_type": "display_data"
    },
    {
     "name": "stderr",
     "output_type": "stream",
     "text": [
      "INFO:allennlp.training.callbacks.console_logger:                       Training |  Validation\n",
      "INFO:allennlp.training.callbacks.console_logger:accuracy           |     0.869  |     0.910\n",
      "INFO:allennlp.training.callbacks.console_logger:fscore             |     0.859  |     0.904\n",
      "INFO:allennlp.training.callbacks.console_logger:fscore-negative    |     0.896  |     0.927\n",
      "INFO:allennlp.training.callbacks.console_logger:fscore-positive    |     0.823  |     0.881\n",
      "INFO:allennlp.training.callbacks.console_logger:gpu_0_memory_MB    |   176.181  |       N/A\n",
      "INFO:allennlp.training.callbacks.console_logger:loss               |     0.334  |     0.278\n",
      "INFO:allennlp.training.callbacks.console_logger:precision          |     0.861  |     0.900\n",
      "INFO:allennlp.training.callbacks.console_logger:precision-negative |     0.892  |     0.946\n",
      "INFO:allennlp.training.callbacks.console_logger:precision-positive |     0.829  |     0.854\n",
      "INFO:allennlp.training.callbacks.console_logger:recall             |     0.858  |     0.909\n",
      "INFO:allennlp.training.callbacks.console_logger:recall-negative    |     0.901  |     0.909\n",
      "INFO:allennlp.training.callbacks.console_logger:recall-positive    |     0.816  |     0.909\n",
      "INFO:allennlp.training.callbacks.console_logger:worker_0_memory_MB |  3080.523  |       N/A\n",
      "INFO:allennlp.training.gradient_descent_trainer:Epoch duration: 0:00:22.300743\n",
      "INFO:allennlp.training.gradient_descent_trainer:Estimated training time remaining: 0:06:37\n",
      "INFO:allennlp.training.gradient_descent_trainer:Epoch 2/19\n",
      "INFO:allennlp.training.gradient_descent_trainer:Worker 0 memory usage: 3.0G\n",
      "INFO:allennlp.training.gradient_descent_trainer:GPU 0 memory usage: 178M\n",
      "INFO:allennlp.training.gradient_descent_trainer:Training\n"
     ]
    },
    {
     "data": {
      "application/vnd.jupyter.widget-view+json": {
       "model_id": "b45fe05e0f94438aac82162fbf4196ae",
       "version_major": 2,
       "version_minor": 0
      },
      "text/plain": [
       "  0%|          | 0/1357 [00:00<?, ?it/s]"
      ]
     },
     "metadata": {},
     "output_type": "display_data"
    },
    {
     "name": "stderr",
     "output_type": "stream",
     "text": [
      "INFO:allennlp.training.gradient_descent_trainer:Validating\n"
     ]
    },
    {
     "data": {
      "application/vnd.jupyter.widget-view+json": {
       "model_id": "de39720850d74a8c9e70a325bf43a4b3",
       "version_major": 2,
       "version_minor": 0
      },
      "text/plain": [
       "  0%|          | 0/170 [00:00<?, ?it/s]"
      ]
     },
     "metadata": {},
     "output_type": "display_data"
    },
    {
     "name": "stderr",
     "output_type": "stream",
     "text": [
      "INFO:allennlp.training.callbacks.console_logger:                       Training |  Validation\n",
      "INFO:allennlp.training.callbacks.console_logger:accuracy           |     0.899  |     0.901\n",
      "INFO:allennlp.training.callbacks.console_logger:fscore             |     0.891  |     0.895\n",
      "INFO:allennlp.training.callbacks.console_logger:fscore-negative    |     0.920  |     0.921\n",
      "INFO:allennlp.training.callbacks.console_logger:fscore-positive    |     0.863  |     0.869\n",
      "INFO:allennlp.training.callbacks.console_logger:gpu_0_memory_MB    |   178.236  |       N/A\n",
      "INFO:allennlp.training.callbacks.console_logger:loss               |     0.266  |     0.246\n",
      "INFO:allennlp.training.callbacks.console_logger:precision          |     0.892  |     0.893\n",
      "INFO:allennlp.training.callbacks.console_logger:precision-negative |     0.917  |     0.931\n",
      "INFO:allennlp.training.callbacks.console_logger:precision-positive |     0.867  |     0.854\n",
      "INFO:allennlp.training.callbacks.console_logger:recall             |     0.890  |     0.898\n",
      "INFO:allennlp.training.callbacks.console_logger:recall-negative    |     0.922  |     0.911\n",
      "INFO:allennlp.training.callbacks.console_logger:recall-positive    |     0.858  |     0.885\n",
      "INFO:allennlp.training.callbacks.console_logger:worker_0_memory_MB |  3080.578  |       N/A\n",
      "INFO:allennlp.training.gradient_descent_trainer:Epoch duration: 0:00:22.274427\n",
      "INFO:allennlp.training.gradient_descent_trainer:Estimated training time remaining: 0:06:16\n",
      "INFO:allennlp.training.gradient_descent_trainer:Epoch 3/19\n",
      "INFO:allennlp.training.gradient_descent_trainer:Worker 0 memory usage: 3.0G\n",
      "INFO:allennlp.training.gradient_descent_trainer:GPU 0 memory usage: 179M\n",
      "INFO:allennlp.training.gradient_descent_trainer:Training\n"
     ]
    },
    {
     "data": {
      "application/vnd.jupyter.widget-view+json": {
       "model_id": "48c4b663ef724a03b66052255509a739",
       "version_major": 2,
       "version_minor": 0
      },
      "text/plain": [
       "  0%|          | 0/1357 [00:00<?, ?it/s]"
      ]
     },
     "metadata": {},
     "output_type": "display_data"
    },
    {
     "name": "stderr",
     "output_type": "stream",
     "text": [
      "INFO:allennlp.training.gradient_descent_trainer:Validating\n"
     ]
    },
    {
     "data": {
      "application/vnd.jupyter.widget-view+json": {
       "model_id": "e12a196a3c504d7686b8d070da6548e1",
       "version_major": 2,
       "version_minor": 0
      },
      "text/plain": [
       "  0%|          | 0/170 [00:00<?, ?it/s]"
      ]
     },
     "metadata": {},
     "output_type": "display_data"
    },
    {
     "name": "stderr",
     "output_type": "stream",
     "text": [
      "INFO:allennlp.training.callbacks.console_logger:                       Training |  Validation\n",
      "INFO:allennlp.training.callbacks.console_logger:accuracy           |     0.913  |     0.919\n",
      "INFO:allennlp.training.callbacks.console_logger:fscore             |     0.906  |     0.914\n",
      "INFO:allennlp.training.callbacks.console_logger:fscore-negative    |     0.931  |     0.934\n",
      "INFO:allennlp.training.callbacks.console_logger:fscore-positive    |     0.882  |     0.894\n",
      "INFO:allennlp.training.callbacks.console_logger:gpu_0_memory_MB    |   178.957  |       N/A\n",
      "INFO:allennlp.training.callbacks.console_logger:loss               |     0.223  |     0.234\n",
      "INFO:allennlp.training.callbacks.console_logger:precision          |     0.907  |     0.910\n",
      "INFO:allennlp.training.callbacks.console_logger:precision-negative |     0.929  |     0.951\n",
      "INFO:allennlp.training.callbacks.console_logger:precision-positive |     0.885  |     0.869\n",
      "INFO:allennlp.training.callbacks.console_logger:recall             |     0.906  |     0.919\n",
      "INFO:allennlp.training.callbacks.console_logger:recall-negative    |     0.933  |     0.918\n",
      "INFO:allennlp.training.callbacks.console_logger:recall-positive    |     0.879  |     0.921\n",
      "INFO:allennlp.training.callbacks.console_logger:worker_0_memory_MB |  3080.578  |       N/A\n",
      "INFO:allennlp.training.gradient_descent_trainer:Epoch duration: 0:00:22.133367\n",
      "INFO:allennlp.training.gradient_descent_trainer:Estimated training time remaining: 0:05:53\n",
      "INFO:allennlp.training.gradient_descent_trainer:Epoch 4/19\n",
      "INFO:allennlp.training.gradient_descent_trainer:Worker 0 memory usage: 3.0G\n",
      "INFO:allennlp.training.gradient_descent_trainer:GPU 0 memory usage: 179M\n",
      "INFO:allennlp.training.gradient_descent_trainer:Training\n"
     ]
    },
    {
     "data": {
      "application/vnd.jupyter.widget-view+json": {
       "model_id": "c55be42d2eb849bfb5dc5738210d895f",
       "version_major": 2,
       "version_minor": 0
      },
      "text/plain": [
       "  0%|          | 0/1357 [00:00<?, ?it/s]"
      ]
     },
     "metadata": {},
     "output_type": "display_data"
    },
    {
     "name": "stderr",
     "output_type": "stream",
     "text": [
      "INFO:allennlp.training.gradient_descent_trainer:Validating\n"
     ]
    },
    {
     "data": {
      "application/vnd.jupyter.widget-view+json": {
       "model_id": "af95d7af4d264cae85d91b4a21eaf08d",
       "version_major": 2,
       "version_minor": 0
      },
      "text/plain": [
       "  0%|          | 0/170 [00:00<?, ?it/s]"
      ]
     },
     "metadata": {},
     "output_type": "display_data"
    },
    {
     "name": "stderr",
     "output_type": "stream",
     "text": [
      "INFO:allennlp.training.callbacks.console_logger:                       Training |  Validation\n",
      "INFO:allennlp.training.callbacks.console_logger:accuracy           |     0.921  |     0.925\n",
      "INFO:allennlp.training.callbacks.console_logger:fscore             |     0.915  |     0.920\n",
      "INFO:allennlp.training.callbacks.console_logger:fscore-negative    |     0.938  |     0.940\n",
      "INFO:allennlp.training.callbacks.console_logger:fscore-positive    |     0.893  |     0.900\n",
      "INFO:allennlp.training.callbacks.console_logger:gpu_0_memory_MB    |   178.957  |       N/A\n",
      "INFO:allennlp.training.callbacks.console_logger:loss               |     0.205  |     0.232\n",
      "INFO:allennlp.training.callbacks.console_logger:precision          |     0.917  |     0.918\n",
      "INFO:allennlp.training.callbacks.console_logger:precision-negative |     0.933  |     0.945\n",
      "INFO:allennlp.training.callbacks.console_logger:precision-positive |     0.901  |     0.891\n",
      "INFO:allennlp.training.callbacks.console_logger:recall             |     0.914  |     0.922\n",
      "INFO:allennlp.training.callbacks.console_logger:recall-negative    |     0.943  |     0.934\n",
      "INFO:allennlp.training.callbacks.console_logger:recall-positive    |     0.885  |     0.909\n",
      "INFO:allennlp.training.callbacks.console_logger:worker_0_memory_MB |  3080.578  |       N/A\n",
      "INFO:allennlp.training.gradient_descent_trainer:Epoch duration: 0:00:22.616093\n",
      "INFO:allennlp.training.gradient_descent_trainer:Estimated training time remaining: 0:05:33\n",
      "INFO:allennlp.training.gradient_descent_trainer:Epoch 5/19\n",
      "INFO:allennlp.training.gradient_descent_trainer:Worker 0 memory usage: 3.0G\n",
      "INFO:allennlp.training.gradient_descent_trainer:GPU 0 memory usage: 179M\n",
      "INFO:allennlp.training.gradient_descent_trainer:Training\n"
     ]
    },
    {
     "data": {
      "application/vnd.jupyter.widget-view+json": {
       "model_id": "92f2d96535114c0387a009d6182c5a64",
       "version_major": 2,
       "version_minor": 0
      },
      "text/plain": [
       "  0%|          | 0/1357 [00:00<?, ?it/s]"
      ]
     },
     "metadata": {},
     "output_type": "display_data"
    },
    {
     "name": "stderr",
     "output_type": "stream",
     "text": [
      "INFO:allennlp.training.gradient_descent_trainer:Validating\n"
     ]
    },
    {
     "data": {
      "application/vnd.jupyter.widget-view+json": {
       "model_id": "6b45ccf8c4b5461fb6034ec2f8e04d31",
       "version_major": 2,
       "version_minor": 0
      },
      "text/plain": [
       "  0%|          | 0/170 [00:00<?, ?it/s]"
      ]
     },
     "metadata": {},
     "output_type": "display_data"
    },
    {
     "name": "stderr",
     "output_type": "stream",
     "text": [
      "INFO:allennlp.training.callbacks.console_logger:                       Training |  Validation\n",
      "INFO:allennlp.training.callbacks.console_logger:accuracy           |     0.932  |     0.912\n",
      "INFO:allennlp.training.callbacks.console_logger:fscore             |     0.927  |     0.905\n",
      "INFO:allennlp.training.callbacks.console_logger:fscore-negative    |     0.946  |     0.930\n",
      "INFO:allennlp.training.callbacks.console_logger:fscore-positive    |     0.908  |     0.880\n",
      "INFO:allennlp.training.callbacks.console_logger:gpu_0_memory_MB    |   178.957  |       N/A\n",
      "INFO:allennlp.training.callbacks.console_logger:loss               |     0.174  |     0.223\n",
      "INFO:allennlp.training.callbacks.console_logger:precision          |     0.927  |     0.907\n",
      "INFO:allennlp.training.callbacks.console_logger:precision-negative |     0.944  |     0.924\n",
      "INFO:allennlp.training.callbacks.console_logger:precision-positive |     0.911  |     0.890\n",
      "INFO:allennlp.training.callbacks.console_logger:recall             |     0.926  |     0.903\n",
      "INFO:allennlp.training.callbacks.console_logger:recall-negative    |     0.948  |     0.937\n",
      "INFO:allennlp.training.callbacks.console_logger:recall-positive    |     0.905  |     0.869\n",
      "INFO:allennlp.training.callbacks.console_logger:worker_0_memory_MB |  3080.578  |       N/A\n",
      "INFO:allennlp.training.gradient_descent_trainer:Epoch duration: 0:00:22.458940\n",
      "INFO:allennlp.training.gradient_descent_trainer:Estimated training time remaining: 0:05:11\n",
      "INFO:allennlp.training.gradient_descent_trainer:Epoch 6/19\n",
      "INFO:allennlp.training.gradient_descent_trainer:Worker 0 memory usage: 3.0G\n",
      "INFO:allennlp.training.gradient_descent_trainer:GPU 0 memory usage: 179M\n",
      "INFO:allennlp.training.gradient_descent_trainer:Training\n"
     ]
    },
    {
     "data": {
      "application/vnd.jupyter.widget-view+json": {
       "model_id": "a7d80d8f1928458a86fe95dbb2b6e2b1",
       "version_major": 2,
       "version_minor": 0
      },
      "text/plain": [
       "  0%|          | 0/1357 [00:00<?, ?it/s]"
      ]
     },
     "metadata": {},
     "output_type": "display_data"
    },
    {
     "name": "stderr",
     "output_type": "stream",
     "text": [
      "INFO:allennlp.training.gradient_descent_trainer:Validating\n"
     ]
    },
    {
     "data": {
      "application/vnd.jupyter.widget-view+json": {
       "model_id": "ca4c4a3ae4fa4c84824cb05c556ef271",
       "version_major": 2,
       "version_minor": 0
      },
      "text/plain": [
       "  0%|          | 0/170 [00:00<?, ?it/s]"
      ]
     },
     "metadata": {},
     "output_type": "display_data"
    },
    {
     "name": "stderr",
     "output_type": "stream",
     "text": [
      "INFO:allennlp.training.callbacks.console_logger:                       Training |  Validation\n",
      "INFO:allennlp.training.callbacks.console_logger:accuracy           |     0.939  |     0.912\n",
      "INFO:allennlp.training.callbacks.console_logger:fscore             |     0.934  |     0.903\n",
      "INFO:allennlp.training.callbacks.console_logger:fscore-negative    |     0.951  |     0.932\n",
      "INFO:allennlp.training.callbacks.console_logger:fscore-positive    |     0.917  |     0.873\n",
      "INFO:allennlp.training.callbacks.console_logger:gpu_0_memory_MB    |   178.957  |       N/A\n",
      "INFO:allennlp.training.callbacks.console_logger:loss               |     0.158  |     0.232\n",
      "INFO:allennlp.training.callbacks.console_logger:precision          |     0.935  |     0.917\n",
      "INFO:allennlp.training.callbacks.console_logger:precision-negative |     0.950  |     0.902\n",
      "INFO:allennlp.training.callbacks.console_logger:precision-positive |     0.919  |     0.932\n",
      "INFO:allennlp.training.callbacks.console_logger:recall             |     0.934  |     0.893\n",
      "INFO:allennlp.training.callbacks.console_logger:recall-negative    |     0.953  |     0.965\n",
      "INFO:allennlp.training.callbacks.console_logger:recall-positive    |     0.915  |     0.821\n",
      "INFO:allennlp.training.callbacks.console_logger:worker_0_memory_MB |  3080.578  |       N/A\n",
      "INFO:allennlp.training.gradient_descent_trainer:Epoch duration: 0:00:21.976634\n",
      "INFO:allennlp.training.gradient_descent_trainer:Estimated training time remaining: 0:04:49\n",
      "INFO:allennlp.training.gradient_descent_trainer:Epoch 7/19\n",
      "INFO:allennlp.training.gradient_descent_trainer:Worker 0 memory usage: 3.0G\n",
      "INFO:allennlp.training.gradient_descent_trainer:GPU 0 memory usage: 179M\n",
      "INFO:allennlp.training.gradient_descent_trainer:Training\n"
     ]
    },
    {
     "data": {
      "application/vnd.jupyter.widget-view+json": {
       "model_id": "02d2871a93cc43cf9425abfedf7b7da2",
       "version_major": 2,
       "version_minor": 0
      },
      "text/plain": [
       "  0%|          | 0/1357 [00:00<?, ?it/s]"
      ]
     },
     "metadata": {},
     "output_type": "display_data"
    },
    {
     "name": "stderr",
     "output_type": "stream",
     "text": [
      "INFO:allennlp.training.gradient_descent_trainer:Validating\n"
     ]
    },
    {
     "data": {
      "application/vnd.jupyter.widget-view+json": {
       "model_id": "dfe285817642449db23329796cadc37f",
       "version_major": 2,
       "version_minor": 0
      },
      "text/plain": [
       "  0%|          | 0/170 [00:00<?, ?it/s]"
      ]
     },
     "metadata": {},
     "output_type": "display_data"
    },
    {
     "name": "stderr",
     "output_type": "stream",
     "text": [
      "INFO:allennlp.training.callbacks.console_logger:                       Training |  Validation\n",
      "INFO:allennlp.training.callbacks.console_logger:accuracy           |     0.949  |     0.915\n",
      "INFO:allennlp.training.callbacks.console_logger:fscore             |     0.945  |     0.907\n",
      "INFO:allennlp.training.callbacks.console_logger:fscore-negative    |     0.959  |     0.934\n",
      "INFO:allennlp.training.callbacks.console_logger:fscore-positive    |     0.931  |     0.880\n",
      "INFO:allennlp.training.callbacks.console_logger:gpu_0_memory_MB    |   178.957  |       N/A\n",
      "INFO:allennlp.training.callbacks.console_logger:loss               |     0.138  |     0.241\n",
      "INFO:allennlp.training.callbacks.console_logger:precision          |     0.945  |     0.916\n",
      "INFO:allennlp.training.callbacks.console_logger:precision-negative |     0.959  |     0.911\n",
      "INFO:allennlp.training.callbacks.console_logger:precision-positive |     0.931  |     0.922\n",
      "INFO:allennlp.training.callbacks.console_logger:recall             |     0.945  |     0.900\n",
      "INFO:allennlp.training.callbacks.console_logger:recall-negative    |     0.959  |     0.958\n",
      "INFO:allennlp.training.callbacks.console_logger:recall-positive    |     0.931  |     0.841\n",
      "INFO:allennlp.training.callbacks.console_logger:worker_0_memory_MB |  3080.578  |       N/A\n",
      "INFO:allennlp.training.gradient_descent_trainer:Epoch duration: 0:00:22.085301\n",
      "INFO:allennlp.training.gradient_descent_trainer:Estimated training time remaining: 0:04:27\n",
      "INFO:allennlp.training.gradient_descent_trainer:Epoch 8/19\n",
      "INFO:allennlp.training.gradient_descent_trainer:Worker 0 memory usage: 3.0G\n",
      "INFO:allennlp.training.gradient_descent_trainer:GPU 0 memory usage: 179M\n",
      "INFO:allennlp.training.gradient_descent_trainer:Training\n"
     ]
    },
    {
     "data": {
      "application/vnd.jupyter.widget-view+json": {
       "model_id": "f1b8f8adc31940468f710f1afb6a4b89",
       "version_major": 2,
       "version_minor": 0
      },
      "text/plain": [
       "  0%|          | 0/1357 [00:00<?, ?it/s]"
      ]
     },
     "metadata": {},
     "output_type": "display_data"
    },
    {
     "name": "stderr",
     "output_type": "stream",
     "text": [
      "INFO:allennlp.training.gradient_descent_trainer:Validating\n"
     ]
    },
    {
     "data": {
      "application/vnd.jupyter.widget-view+json": {
       "model_id": "7685b6aecd4f432588daa2b2a03c2302",
       "version_major": 2,
       "version_minor": 0
      },
      "text/plain": [
       "  0%|          | 0/170 [00:00<?, ?it/s]"
      ]
     },
     "metadata": {},
     "output_type": "display_data"
    },
    {
     "name": "stderr",
     "output_type": "stream",
     "text": [
      "INFO:allennlp.training.callbacks.console_logger:                       Training |  Validation\n",
      "INFO:allennlp.training.callbacks.console_logger:accuracy           |     0.950  |     0.912\n",
      "INFO:allennlp.training.callbacks.console_logger:fscore             |     0.947  |     0.904\n",
      "INFO:allennlp.training.callbacks.console_logger:fscore-negative    |     0.961  |     0.931\n",
      "INFO:allennlp.training.callbacks.console_logger:fscore-positive    |     0.933  |     0.877\n",
      "INFO:allennlp.training.callbacks.console_logger:gpu_0_memory_MB    |   178.957  |       N/A\n",
      "INFO:allennlp.training.callbacks.console_logger:loss               |     0.130  |     0.239\n",
      "INFO:allennlp.training.callbacks.console_logger:precision          |     0.947  |     0.911\n",
      "INFO:allennlp.training.callbacks.console_logger:precision-negative |     0.960  |     0.912\n",
      "INFO:allennlp.training.callbacks.console_logger:precision-positive |     0.935  |     0.910\n",
      "INFO:allennlp.training.callbacks.console_logger:recall             |     0.947  |     0.898\n",
      "INFO:allennlp.training.callbacks.console_logger:recall-negative    |     0.962  |     0.951\n",
      "INFO:allennlp.training.callbacks.console_logger:recall-positive    |     0.931  |     0.845\n",
      "INFO:allennlp.training.callbacks.console_logger:worker_0_memory_MB |  3080.578  |       N/A\n",
      "INFO:allennlp.training.gradient_descent_trainer:Epoch duration: 0:00:22.223032\n",
      "INFO:allennlp.training.gradient_descent_trainer:Estimated training time remaining: 0:04:04\n",
      "INFO:allennlp.training.gradient_descent_trainer:Epoch 9/19\n",
      "INFO:allennlp.training.gradient_descent_trainer:Worker 0 memory usage: 3.0G\n",
      "INFO:allennlp.training.gradient_descent_trainer:GPU 0 memory usage: 179M\n",
      "INFO:allennlp.training.gradient_descent_trainer:Training\n"
     ]
    },
    {
     "data": {
      "application/vnd.jupyter.widget-view+json": {
       "model_id": "059f55a4210a40709776e5d43265a167",
       "version_major": 2,
       "version_minor": 0
      },
      "text/plain": [
       "  0%|          | 0/1357 [00:00<?, ?it/s]"
      ]
     },
     "metadata": {},
     "output_type": "display_data"
    },
    {
     "name": "stderr",
     "output_type": "stream",
     "text": [
      "INFO:allennlp.training.gradient_descent_trainer:Validating\n"
     ]
    },
    {
     "data": {
      "application/vnd.jupyter.widget-view+json": {
       "model_id": "8ffefb3c20c74ec78c3bf4e7eb76ffd6",
       "version_major": 2,
       "version_minor": 0
      },
      "text/plain": [
       "  0%|          | 0/170 [00:00<?, ?it/s]"
      ]
     },
     "metadata": {},
     "output_type": "display_data"
    },
    {
     "name": "stderr",
     "output_type": "stream",
     "text": [
      "INFO:allennlp.training.callbacks.console_logger:                       Training |  Validation\n",
      "INFO:allennlp.training.callbacks.console_logger:accuracy           |     0.955  |     0.928\n",
      "INFO:allennlp.training.callbacks.console_logger:fscore             |     0.952  |     0.923\n",
      "INFO:allennlp.training.callbacks.console_logger:fscore-negative    |     0.965  |     0.942\n",
      "INFO:allennlp.training.callbacks.console_logger:fscore-positive    |     0.940  |     0.905\n",
      "INFO:allennlp.training.callbacks.console_logger:gpu_0_memory_MB    |   178.957  |       N/A\n",
      "INFO:allennlp.training.callbacks.console_logger:loss               |     0.111  |     0.262\n",
      "INFO:allennlp.training.callbacks.console_logger:precision          |     0.952  |     0.920\n",
      "INFO:allennlp.training.callbacks.console_logger:precision-negative |     0.965  |     0.957\n",
      "INFO:allennlp.training.callbacks.console_logger:precision-positive |     0.939  |     0.883\n",
      "INFO:allennlp.training.callbacks.console_logger:recall             |     0.952  |     0.928\n",
      "INFO:allennlp.training.callbacks.console_logger:recall-negative    |     0.964  |     0.927\n",
      "INFO:allennlp.training.callbacks.console_logger:recall-positive    |     0.941  |     0.929\n",
      "INFO:allennlp.training.callbacks.console_logger:worker_0_memory_MB |  3080.578  |       N/A\n",
      "INFO:allennlp.training.gradient_descent_trainer:Epoch duration: 0:00:21.994387\n",
      "INFO:allennlp.training.gradient_descent_trainer:Ran out of patience. Stopping training.\n",
      "INFO:root:Finished training\n"
     ]
    },
    {
     "ename": "NameError",
     "evalue": "name 'run_tests' is not defined",
     "output_type": "error",
     "traceback": [
      "\u001b[0;31m---------------------------------------------------------------------------\u001b[0m",
      "\u001b[0;31mNameError\u001b[0m                                 Traceback (most recent call last)",
      "\u001b[0;32m/tmp/ipykernel_13836/3506214559.py\u001b[0m in \u001b[0;36m<module>\u001b[0;34m\u001b[0m\n\u001b[1;32m      6\u001b[0m \u001b[0;34m\u001b[0m\u001b[0m\n\u001b[1;32m      7\u001b[0m \u001b[0mmodel\u001b[0m \u001b[0;34m=\u001b[0m \u001b[0mtrain_and_get\u001b[0m\u001b[0;34m(\u001b[0m\u001b[0mseligator\u001b[0m\u001b[0;34m.\u001b[0m\u001b[0mmodel\u001b[0m\u001b[0;34m,\u001b[0m \u001b[0mtrain\u001b[0m\u001b[0;34m,\u001b[0m \u001b[0mdev\u001b[0m\u001b[0;34m,\u001b[0m \u001b[0;34m**\u001b[0m\u001b[0mtrain_kwargs\u001b[0m\u001b[0;34m)\u001b[0m\u001b[0;34m\u001b[0m\u001b[0;34m\u001b[0m\u001b[0m\n\u001b[0;32m----> 8\u001b[0;31m data, img = run_tests(\n\u001b[0m\u001b[1;32m      9\u001b[0m     \u001b[0;34m\"dataset/split/test.txt\"\u001b[0m\u001b[0;34m,\u001b[0m\u001b[0;34m\u001b[0m\u001b[0;34m\u001b[0m\u001b[0m\n\u001b[1;32m     10\u001b[0m     \u001b[0mdataset_reader\u001b[0m\u001b[0;34m=\u001b[0m\u001b[0mreader\u001b[0m\u001b[0;34m,\u001b[0m \u001b[0mmodel\u001b[0m\u001b[0;34m=\u001b[0m\u001b[0mmodel\u001b[0m\u001b[0;34m,\u001b[0m \u001b[0mdump\u001b[0m\u001b[0;34m=\u001b[0m\u001b[0;34mf\"test.{fn}.csv\"\u001b[0m\u001b[0;34m\u001b[0m\u001b[0;34m\u001b[0m\u001b[0m\n",
      "\u001b[0;31mNameError\u001b[0m: name 'run_tests' is not defined"
     ]
    }
   ],
   "source": [
    "from seligator.main import train_and_get, Seligator\n",
    "from seligator.common.load_save import load\n",
    "from seligator.tests.evaluate import run_tests\n",
    "\n",
    "seligator, reader, train, dev = Seligator.init_for_training_with_params(**load(\"./seligator/best.json\"))\n",
    "train_kwargs = dict(patience=4, num_epochs=20, lr=5e-4, optimizer=\"AdamW\")\n",
    "\n",
    "model = train_and_get(seligator.model, train, dev, **train_kwargs)\n",
    "data, img = run_tests(\n",
    "    \"dataset/split/test.txt\",\n",
    "    dataset_reader=reader, model=model, dump=f\"test.{fn}.csv\"\n",
    ")"
   ]
  },
  {
   "cell_type": "code",
   "execution_count": null,
   "id": "67dc4c16",
   "metadata": {},
   "outputs": [],
   "source": [
    "model.vocab.save_to_files(\"./saved_model/vocabulary\")\n",
    "model.save_to_files(\"./saved_model/model.pth\")"
   ]
  }
 ],
 "metadata": {
  "kernelspec": {
   "display_name": "Python 3",
   "language": "python",
   "name": "python3"
  },
  "language_info": {
   "codemirror_mode": {
    "name": "ipython",
    "version": 3
   },
   "file_extension": ".py",
   "mimetype": "text/x-python",
   "name": "python",
   "nbconvert_exporter": "python",
   "pygments_lexer": "ipython3",
   "version": "3.8.10"
  },
  "toc": {
   "base_numbering": 1,
   "nav_menu": {},
   "number_sections": true,
   "sideBar": true,
   "skip_h1_title": false,
   "title_cell": "Table of Contents",
   "title_sidebar": "Contents",
   "toc_cell": false,
   "toc_position": {},
   "toc_section_display": true,
   "toc_window_display": false
  }
 },
 "nbformat": 4,
 "nbformat_minor": 5
}
