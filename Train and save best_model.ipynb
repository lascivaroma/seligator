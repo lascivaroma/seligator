{
 "cells": [
  {
   "cell_type": "code",
   "execution_count": 1,
   "id": "22f4dbb7",
   "metadata": {
    "scrolled": false
   },
   "outputs": [
    {
     "name": "stderr",
     "output_type": "stream",
     "text": [
      "2021-08-02 13:11:24.653419: I tensorflow/stream_executor/platform/default/dso_loader.cc:53] Successfully opened dynamic library libcudart.so.11.0\n",
      "INFO:root:Dataset reader set with following categories: [msd], lemma_char, lemma\n",
      "/home/thibault/dev/est-lascivuum-non-est/env/lib/python3.8/site-packages/allennlp/data/token_indexers/token_characters_indexer.py:55: UserWarning: You are using the default value (0) of `min_padding_length`, which can cause some subtle bugs (more info see https://github.com/allenai/allennlp/issues/1954). Strongly recommend to set a value, usually the maximum size of the convolutional layer size when using CnnEncoder.\n",
      "  warnings.warn(\n",
      "INFO:root:Indexer set for following categories: [msd], lemma_char, lemma\n",
      "INFO:root:TSV READER uses following metadata encoding MetadataEncoding.AS_CATEGORICAL \n",
      "INFO:root:Reading data\n",
      "WARNING:allennlp.data.fields.multilabel_field:Your label namespace was '[msd]'. We recommend you use a namespace ending with 'labels' or 'tags', so we don't add UNK and PAD tokens by default to your vocabulary.  See documentation for `non_padded_namespaces` parameter in Vocabulary.\n",
      "INFO:root:Building the vocabulary\n",
      "INFO:allennlp.data.vocabulary:Fitting token dictionary from dataset.\n"
     ]
    },
    {
     "data": {
      "application/vnd.jupyter.widget-view+json": {
       "model_id": "52510e3a26774c6789318359819c76de",
       "version_major": 2,
       "version_minor": 0
      },
      "text/plain": [
       "building vocab:   0%|          | 0/5427 [00:00<?, ?it/s]"
      ]
     },
     "metadata": {},
     "output_type": "display_data"
    },
    {
     "name": "stderr",
     "output_type": "stream",
     "text": [
      "INFO:root:Fitting the BasisVectorConfiguration\n",
      "INFO:allennlp.modules.token_embedders.embedding:Reading pretrained embeddings from file\n",
      "WARNING:allennlp.modules.token_embedders.embedding:The embeddings file has an unknown file extension \".header\". We will assume the file is an (uncompressed) text file\n",
      "INFO:allennlp.modules.token_embedders.embedding:Recognized a header line in the embedding file with number of tokens: 155131\n"
     ]
    },
    {
     "data": {
      "application/vnd.jupyter.widget-view+json": {
       "model_id": "847b5a8c4b4b4b019d8bf4daebe2f655",
       "version_major": 2,
       "version_minor": 0
      },
      "text/plain": [
       "  0%|          | 0/155131 [00:00<?, ?it/s]"
      ]
     },
     "metadata": {},
     "output_type": "display_data"
    },
    {
     "name": "stderr",
     "output_type": "stream",
     "text": [
      "INFO:allennlp.modules.token_embedders.embedding:Initializing pre-trained embedding layer\n",
      "INFO:allennlp.modules.token_embedders.embedding:Pretrained embeddings were found for 155131 out of 155381 tokens\n",
      "/home/thibault/dev/est-lascivuum-non-est/env/lib/python3.8/site-packages/torch/nn/modules/rnn.py:60: UserWarning: dropout option adds dropout after all but last recurrent layer, so non-zero dropout expects num_layers greater than 1, but got dropout=0.3 and num_layers=1\n",
      "  warnings.warn(\"dropout option adds dropout after all but last \"\n",
      "INFO:root:Classifier is using MetadataEnrichedLinear\n",
      "INFO:allennlp.training.optimizers:Number of trainable parameters: 1130802\n",
      "INFO:root:Current Optimizer: AdamWOptimizer (\n",
      "Parameter Group 0\n",
      "    amsgrad: False\n",
      "    betas: (0.9, 0.999)\n",
      "    eps: 1e-08\n",
      "    lr: 0.0005\n",
      "    weight_decay: 0.01\n",
      ") \n",
      "INFO:root:Num epochs: 20\n",
      "INFO:root:Starting training\n",
      "INFO:allennlp.training.gradient_descent_trainer:Beginning training.\n",
      "INFO:allennlp.training.gradient_descent_trainer:Epoch 0/19\n",
      "INFO:allennlp.training.gradient_descent_trainer:Worker 0 memory usage: 2.9G\n",
      "INFO:allennlp.training.gradient_descent_trainer:GPU 0 memory usage: 125M\n",
      "INFO:allennlp.training.gradient_descent_trainer:Training\n"
     ]
    },
    {
     "name": "stdout",
     "output_type": "stream",
     "text": [
      "---> Epochs:   20\n",
      "---> Patience: 4\n"
     ]
    },
    {
     "data": {
      "application/vnd.jupyter.widget-view+json": {
       "model_id": "3d4abb9844c34d098017f63b3201117e",
       "version_major": 2,
       "version_minor": 0
      },
      "text/plain": [
       "  0%|          | 0/1357 [00:00<?, ?it/s]"
      ]
     },
     "metadata": {},
     "output_type": "display_data"
    },
    {
     "name": "stderr",
     "output_type": "stream",
     "text": [
      "/home/thibault/dev/est-lascivuum-non-est/seligator/models/classifier.py:59: UserWarning: Implicit dimension choice for softmax has been deprecated. Change the call to include dim=X as an argument.\n",
      "  probs = F.softmax(logits)\n",
      "INFO:allennlp.training.callbacks.console_logger:Batch inputs\n",
      "INFO:allennlp.training.callbacks.console_logger:batch_input/[msd] (Shape: 4 x 23 x 52)\n",
      "tensor([[[0, 0, 0,  ..., 0, 0, 0],\n",
      "         [0, 0, 1,  ..., 0, 0, 0],\n",
      "         [0, 0, 1,  ..., 0, 0, 0],\n",
      "         ...,\n",
      "         [0, 0, 1,  ..., 0, 0, 0],\n",
      "         [0, 0, 1,  ..., 0, 0, 0],\n",
      "         [0, 0, 1,  ..., 0, 0, 0]],\n",
      "\n",
      "        [[0, 0, 1,  ..., 0, 0, 0],\n",
      "         [0, 0, 1,  ..., 0, 0, 0],\n",
      "         [0, 0, 1,  ..., 0, 0, 0],\n",
      "         ...,\n",
      "         [0, 0, 0,  ..., 0, 0, 0],\n",
      "         [0, 0, 0,  ..., 0, 0, 0],\n",
      "         [0, 0, 0,  ..., 0, 0, 0]],\n",
      "\n",
      "        [[0, 0, 1,  ..., 0, 0, 0],\n",
      "         [0, 0, 1,  ..., 0, 0, 0],\n",
      "         [0, 0, 1,  ..., 0, 0, 0],\n",
      "         ...,\n",
      "         [0, 0, 0,  ..., 0, 0, 0],\n",
      "         [0, 0, 0,  ..., 0, 0, 0],\n",
      "         [0, 0, 0,  ..., 0, 0, 0]],\n",
      "\n",
      "        [[0, 0, 1,  ..., 0, 0, 0],\n",
      "         [0, 0, 1,  ..., 0, 0, 0],\n",
      "         [0, 0, 1,  ..., 0, 0, 0],\n",
      "         ...,\n",
      "         [0, 0, 0,  ..., 0, 0, 0],\n",
      "         [0, 0, 0,  ..., 0, 0, 0],\n",
      "         [0, 0, 0,  ..., 0, 0, 0]]], device='cuda:0')\n",
      "INFO:allennlp.training.callbacks.console_logger:batch_input/lemma_char/lemma_char/token_characters (Shape: 4 x 23 x 11)\n",
      "tensor([[[14,  6, 10,  ...,  0,  0,  0],\n",
      "         [ 5,  3, 17,  ...,  0,  0,  0],\n",
      "         [ 9,  2,  5,  ...,  0,  0,  0],\n",
      "         ...,\n",
      "         [ 3,  9,  0,  ...,  0,  0,  0],\n",
      "         [19,  2,  7,  ...,  0,  0,  0],\n",
      "         [30,  0,  0,  ...,  0,  0,  0]],\n",
      "\n",
      "        [[19,  2,  3,  ...,  0,  0,  0],\n",
      "         [24,  7, 21,  ...,  0,  0,  0],\n",
      "         [22,  3, 13,  ...,  0,  0,  0],\n",
      "         ...,\n",
      "         [ 0,  0,  0,  ...,  0,  0,  0],\n",
      "         [ 0,  0,  0,  ...,  0,  0,  0],\n",
      "         [ 0,  0,  0,  ...,  0,  0,  0]],\n",
      "\n",
      "        [[19,  2,  6,  ...,  0,  0,  0],\n",
      "         [11,  7,  8,  ...,  3,  2, 11],\n",
      "         [11,  3, 13,  ...,  0,  0,  0],\n",
      "         ...,\n",
      "         [ 0,  0,  0,  ...,  0,  0,  0],\n",
      "         [ 0,  0,  0,  ...,  0,  0,  0],\n",
      "         [ 0,  0,  0,  ...,  0,  0,  0]],\n",
      "\n",
      "        [[ 9,  2, 13,  ...,  0,  0,  0],\n",
      "         [ 4,  9,  3,  ...,  0,  0,  0],\n",
      "         [ 5,  2, 11,  ...,  0,  0,  0],\n",
      "         ...,\n",
      "         [ 0,  0,  0,  ...,  0,  0,  0],\n",
      "         [ 0,  0,  0,  ...,  0,  0,  0],\n",
      "         [ 0,  0,  0,  ...,  0,  0,  0]]], device='cuda:0')\n",
      "INFO:allennlp.training.callbacks.console_logger:batch_input/lemma/lemma/tokens (Shape: 4 x 23)\n",
      "tensor([[1614,   20, 2384,  ...,    7, 1021,   30],\n",
      "        [   6,   38,   81,  ...,    0,    0,    0],\n",
      "        [  60,  703,  267,  ...,    0,    0,    0],\n",
      "        [  74,   40,    5,  ...,    0,    0,    0]], device='cuda:0')\n",
      "INFO:allennlp.training.callbacks.console_logger:batch_input/label (Shape: 4)\n",
      "tensor([0, 0, 1, 0], device='cuda:0')\n",
      "INFO:allennlp.training.callbacks.console_logger:Field : \"batch_input/metadata\" : (Length 4 of type \"<class 'dict'>\")\n",
      "INFO:allennlp.training.callbacks.console_logger:batch_input/metadata_categoricals_Century (Shape: 4)\n",
      "tensor([5, 0, 0, 3], device='cuda:0')\n",
      "INFO:allennlp.training.callbacks.console_logger:batch_input/metadata_categoricals_Textgroup (Shape: 4)\n",
      "tensor([ 3, 11,  8,  6], device='cuda:0')\n",
      "INFO:allennlp.training.callbacks.console_logger:batch_input/metadata_categoricals_WrittenType (Shape: 4)\n",
      "tensor([0, 0, 0, 0], device='cuda:0')\n",
      "INFO:allennlp.training.callbacks.console_logger:batch_input/metadata_categoricals_CitationTypes (Shape: 4)\n",
      "tensor([1, 6, 1, 0], device='cuda:0')\n",
      "INFO:allennlp.training.gradient_descent_trainer:Validating\n"
     ]
    },
    {
     "data": {
      "application/vnd.jupyter.widget-view+json": {
       "model_id": "b80cf68ff32840b88cd796c5aedfee85",
       "version_major": 2,
       "version_minor": 0
      },
      "text/plain": [
       "  0%|          | 0/170 [00:00<?, ?it/s]"
      ]
     },
     "metadata": {},
     "output_type": "display_data"
    },
    {
     "name": "stderr",
     "output_type": "stream",
     "text": [
      "INFO:allennlp.training.callbacks.console_logger:Batch inputs\n",
      "INFO:allennlp.training.callbacks.console_logger:batch_input/[msd] (Shape: 4 x 35 x 52)\n",
      "tensor([[[0, 0, 1,  ..., 0, 0, 0],\n",
      "         [0, 0, 1,  ..., 0, 0, 0],\n",
      "         [0, 0, 1,  ..., 0, 0, 0],\n",
      "         ...,\n",
      "         [0, 0, 0,  ..., 0, 0, 0],\n",
      "         [0, 0, 0,  ..., 0, 0, 0],\n",
      "         [0, 0, 0,  ..., 0, 0, 0]],\n",
      "\n",
      "        [[0, 0, 1,  ..., 0, 0, 0],\n",
      "         [0, 0, 1,  ..., 0, 0, 0],\n",
      "         [0, 0, 1,  ..., 0, 0, 0],\n",
      "         ...,\n",
      "         [0, 0, 0,  ..., 0, 0, 0],\n",
      "         [0, 0, 0,  ..., 0, 0, 0],\n",
      "         [0, 0, 0,  ..., 0, 0, 0]],\n",
      "\n",
      "        [[0, 0, 1,  ..., 0, 0, 0],\n",
      "         [0, 0, 1,  ..., 0, 0, 0],\n",
      "         [0, 0, 0,  ..., 0, 0, 0],\n",
      "         ...,\n",
      "         [0, 0, 1,  ..., 0, 0, 0],\n",
      "         [0, 0, 1,  ..., 0, 0, 0],\n",
      "         [0, 0, 1,  ..., 0, 0, 0]],\n",
      "\n",
      "        [[0, 0, 1,  ..., 0, 0, 0],\n",
      "         [0, 0, 1,  ..., 0, 0, 0],\n",
      "         [0, 0, 1,  ..., 0, 0, 0],\n",
      "         ...,\n",
      "         [0, 0, 0,  ..., 0, 0, 0],\n",
      "         [0, 0, 0,  ..., 0, 0, 0],\n",
      "         [0, 0, 0,  ..., 0, 0, 0]]], device='cuda:0')\n",
      "INFO:allennlp.training.callbacks.console_logger:batch_input/lemma_char/lemma_char/token_characters (Shape: 4 x 35 x 12)\n",
      "tensor([[[19,  2,  3,  ...,  0,  0,  0],\n",
      "         [ 4, 10, 20,  ...,  0,  0,  0],\n",
      "         [18,  0,  0,  ...,  0,  0,  0],\n",
      "         ...,\n",
      "         [ 0,  0,  0,  ...,  0,  0,  0],\n",
      "         [ 0,  0,  0,  ...,  0,  0,  0],\n",
      "         [ 0,  0,  0,  ...,  0,  0,  0]],\n",
      "\n",
      "        [[ 4,  8, 17,  ...,  0,  0,  0],\n",
      "         [ 7,  2, 15,  ...,  0,  0,  0],\n",
      "         [34, 13,  4,  ...,  0,  0,  0],\n",
      "         ...,\n",
      "         [ 0,  0,  0,  ...,  0,  0,  0],\n",
      "         [ 0,  0,  0,  ...,  0,  0,  0],\n",
      "         [ 0,  0,  0,  ...,  0,  0,  0]],\n",
      "\n",
      "        [[19,  2,  7,  ...,  0,  0,  0],\n",
      "         [ 4,  9,  3,  ...,  0,  0,  0],\n",
      "         [ 7, 15,  4,  ...,  0,  0,  0],\n",
      "         ...,\n",
      "         [11,  2, 13,  ...,  0,  0,  0],\n",
      "         [ 5,  2, 11,  ...,  0,  0,  0],\n",
      "         [23,  0,  0,  ...,  0,  0,  0]],\n",
      "\n",
      "        [[19,  2,  3,  ...,  0,  0,  0],\n",
      "         [ 5,  2,  5,  ...,  0,  0,  0],\n",
      "         [ 7, 21,  0,  ...,  0,  0,  0],\n",
      "         ...,\n",
      "         [ 0,  0,  0,  ...,  0,  0,  0],\n",
      "         [ 0,  0,  0,  ...,  0,  0,  0],\n",
      "         [ 0,  0,  0,  ...,  0,  0,  0]]], device='cuda:0')\n",
      "INFO:allennlp.training.callbacks.console_logger:batch_input/lemma/lemma/tokens (Shape: 4 x 35)\n",
      "tensor([[  34,  112,    2,  ...,    0,    0,    0],\n",
      "        [   4,  169,  996,  ...,    0,    0,    0],\n",
      "        [1387,   40,  665,  ..., 5058,    5,    3],\n",
      "        [  34, 1572,   18,  ...,    0,    0,    0]], device='cuda:0')\n",
      "INFO:allennlp.training.callbacks.console_logger:batch_input/label (Shape: 4)\n",
      "tensor([0, 0, 0, 0], device='cuda:0')\n",
      "INFO:allennlp.training.callbacks.console_logger:Field : \"batch_input/metadata\" : (Length 4 of type \"<class 'dict'>\")\n",
      "INFO:allennlp.training.callbacks.console_logger:batch_input/metadata_categoricals_Century (Shape: 4)\n",
      "tensor([2, 0, 2, 0], device='cuda:0')\n",
      "INFO:allennlp.training.callbacks.console_logger:batch_input/metadata_categoricals_Textgroup (Shape: 4)\n",
      "tensor([ 2,  4, 12,  4], device='cuda:0')\n",
      "INFO:allennlp.training.callbacks.console_logger:batch_input/metadata_categoricals_WrittenType (Shape: 4)\n",
      "tensor([0, 0, 0, 0], device='cuda:0')\n",
      "INFO:allennlp.training.callbacks.console_logger:batch_input/metadata_categoricals_CitationTypes (Shape: 4)\n",
      "tensor([0, 6, 8, 6], device='cuda:0')\n",
      "INFO:allennlp.training.callbacks.console_logger:                       Training |  Validation\n",
      "INFO:allennlp.training.callbacks.console_logger:accuracy           |     0.808  |     0.878\n",
      "INFO:allennlp.training.callbacks.console_logger:fscore             |     0.793  |     0.866\n",
      "INFO:allennlp.training.callbacks.console_logger:fscore-negative    |     0.848  |     0.906\n",
      "INFO:allennlp.training.callbacks.console_logger:fscore-positive    |     0.739  |     0.826\n",
      "INFO:allennlp.training.callbacks.console_logger:gpu_0_memory_MB    |   125.024  |       N/A\n",
      "INFO:allennlp.training.callbacks.console_logger:loss               |     0.529  |     0.352\n",
      "INFO:allennlp.training.callbacks.console_logger:precision          |     0.794  |     0.877\n",
      "INFO:allennlp.training.callbacks.console_logger:precision-negative |     0.845  |     0.879\n",
      "INFO:allennlp.training.callbacks.console_logger:precision-positive |     0.744  |     0.876\n",
      "INFO:allennlp.training.callbacks.console_logger:recall             |     0.793  |     0.858\n",
      "INFO:allennlp.training.callbacks.console_logger:recall-negative    |     0.851  |     0.934\n",
      "INFO:allennlp.training.callbacks.console_logger:recall-positive    |     0.735  |     0.782\n",
      "INFO:allennlp.training.callbacks.console_logger:worker_0_memory_MB |  2936.965  |       N/A\n",
      "INFO:allennlp.training.gradient_descent_trainer:Epoch duration: 0:00:22.606189\n",
      "INFO:allennlp.training.gradient_descent_trainer:Estimated training time remaining: 0:07:04\n",
      "INFO:allennlp.training.gradient_descent_trainer:Epoch 1/19\n",
      "INFO:allennlp.training.gradient_descent_trainer:Worker 0 memory usage: 3.0G\n",
      "INFO:allennlp.training.gradient_descent_trainer:GPU 0 memory usage: 176M\n",
      "INFO:allennlp.training.gradient_descent_trainer:Training\n"
     ]
    },
    {
     "data": {
      "application/vnd.jupyter.widget-view+json": {
       "model_id": "aefe7acda4b24d25a39dbe11692b3216",
       "version_major": 2,
       "version_minor": 0
      },
      "text/plain": [
       "  0%|          | 0/1357 [00:00<?, ?it/s]"
      ]
     },
     "metadata": {},
     "output_type": "display_data"
    },
    {
     "name": "stderr",
     "output_type": "stream",
     "text": [
      "INFO:allennlp.training.gradient_descent_trainer:Validating\n"
     ]
    },
    {
     "data": {
      "application/vnd.jupyter.widget-view+json": {
       "model_id": "a1225f4e561f47abb648c7f9234bab4e",
       "version_major": 2,
       "version_minor": 0
      },
      "text/plain": [
       "  0%|          | 0/170 [00:00<?, ?it/s]"
      ]
     },
     "metadata": {},
     "output_type": "display_data"
    },
    {
     "name": "stderr",
     "output_type": "stream",
     "text": [
      "INFO:allennlp.training.callbacks.console_logger:                       Training |  Validation\n",
      "INFO:allennlp.training.callbacks.console_logger:accuracy           |     0.881  |     0.873\n",
      "INFO:allennlp.training.callbacks.console_logger:fscore             |     0.872  |     0.859\n",
      "INFO:allennlp.training.callbacks.console_logger:fscore-negative    |     0.906  |     0.904\n",
      "INFO:allennlp.training.callbacks.console_logger:fscore-positive    |     0.838  |     0.813\n",
      "INFO:allennlp.training.callbacks.console_logger:gpu_0_memory_MB    |   175.756  |       N/A\n",
      "INFO:allennlp.training.callbacks.console_logger:loss               |     0.331  |     0.320\n",
      "INFO:allennlp.training.callbacks.console_logger:precision          |     0.873  |     0.881\n",
      "INFO:allennlp.training.callbacks.console_logger:precision-negative |     0.900  |     0.862\n",
      "INFO:allennlp.training.callbacks.console_logger:precision-positive |     0.846  |     0.899\n",
      "INFO:allennlp.training.callbacks.console_logger:recall             |     0.870  |     0.846\n",
      "INFO:allennlp.training.callbacks.console_logger:recall-negative    |     0.911  |     0.951\n",
      "INFO:allennlp.training.callbacks.console_logger:recall-positive    |     0.829  |     0.742\n",
      "INFO:allennlp.training.callbacks.console_logger:worker_0_memory_MB |  3078.953  |       N/A\n",
      "INFO:allennlp.training.gradient_descent_trainer:Epoch duration: 0:00:22.499354\n",
      "INFO:allennlp.training.gradient_descent_trainer:Estimated training time remaining: 0:06:39\n",
      "INFO:allennlp.training.gradient_descent_trainer:Epoch 2/19\n",
      "INFO:allennlp.training.gradient_descent_trainer:Worker 0 memory usage: 3.0G\n",
      "INFO:allennlp.training.gradient_descent_trainer:GPU 0 memory usage: 177M\n",
      "INFO:allennlp.training.gradient_descent_trainer:Training\n"
     ]
    },
    {
     "data": {
      "application/vnd.jupyter.widget-view+json": {
       "model_id": "3c0d84a1859b4b19a4e977cabd1f2f29",
       "version_major": 2,
       "version_minor": 0
      },
      "text/plain": [
       "  0%|          | 0/1357 [00:00<?, ?it/s]"
      ]
     },
     "metadata": {},
     "output_type": "display_data"
    },
    {
     "name": "stderr",
     "output_type": "stream",
     "text": [
      "INFO:allennlp.training.gradient_descent_trainer:Validating\n"
     ]
    },
    {
     "data": {
      "application/vnd.jupyter.widget-view+json": {
       "model_id": "17f3ae6cfef1444db626ac94a7d16bac",
       "version_major": 2,
       "version_minor": 0
      },
      "text/plain": [
       "  0%|          | 0/170 [00:00<?, ?it/s]"
      ]
     },
     "metadata": {},
     "output_type": "display_data"
    },
    {
     "name": "stderr",
     "output_type": "stream",
     "text": [
      "INFO:allennlp.training.callbacks.console_logger:                       Training |  Validation\n",
      "INFO:allennlp.training.callbacks.console_logger:accuracy           |     0.897  |     0.904\n",
      "INFO:allennlp.training.callbacks.console_logger:fscore             |     0.889  |     0.900\n",
      "INFO:allennlp.training.callbacks.console_logger:fscore-negative    |     0.918  |     0.921\n",
      "INFO:allennlp.training.callbacks.console_logger:fscore-positive    |     0.860  |     0.878\n",
      "INFO:allennlp.training.callbacks.console_logger:gpu_0_memory_MB    |   177.166  |       N/A\n",
      "INFO:allennlp.training.callbacks.console_logger:loss               |     0.271  |     0.283\n",
      "INFO:allennlp.training.callbacks.console_logger:precision          |     0.890  |     0.894\n",
      "INFO:allennlp.training.callbacks.console_logger:precision-negative |     0.916  |     0.955\n",
      "INFO:allennlp.training.callbacks.console_logger:precision-positive |     0.865  |     0.833\n",
      "INFO:allennlp.training.callbacks.console_logger:recall             |     0.889  |     0.909\n",
      "INFO:allennlp.training.callbacks.console_logger:recall-negative    |     0.921  |     0.890\n",
      "INFO:allennlp.training.callbacks.console_logger:recall-positive    |     0.856  |     0.929\n",
      "INFO:allennlp.training.callbacks.console_logger:worker_0_memory_MB |  3079.039  |       N/A\n",
      "INFO:allennlp.training.gradient_descent_trainer:Epoch duration: 0:00:22.571682\n",
      "INFO:allennlp.training.gradient_descent_trainer:Estimated training time remaining: 0:06:19\n",
      "INFO:allennlp.training.gradient_descent_trainer:Epoch 3/19\n",
      "INFO:allennlp.training.gradient_descent_trainer:Worker 0 memory usage: 3.0G\n",
      "INFO:allennlp.training.gradient_descent_trainer:GPU 0 memory usage: 177M\n",
      "INFO:allennlp.training.gradient_descent_trainer:Training\n"
     ]
    },
    {
     "data": {
      "application/vnd.jupyter.widget-view+json": {
       "model_id": "32dc216f71b34545ac3cf280ab2173b4",
       "version_major": 2,
       "version_minor": 0
      },
      "text/plain": [
       "  0%|          | 0/1357 [00:00<?, ?it/s]"
      ]
     },
     "metadata": {},
     "output_type": "display_data"
    },
    {
     "name": "stderr",
     "output_type": "stream",
     "text": [
      "INFO:allennlp.training.gradient_descent_trainer:Validating\n"
     ]
    },
    {
     "data": {
      "application/vnd.jupyter.widget-view+json": {
       "model_id": "f71e114aa02646979ee99204a72c7250",
       "version_major": 2,
       "version_minor": 0
      },
      "text/plain": [
       "  0%|          | 0/170 [00:00<?, ?it/s]"
      ]
     },
     "metadata": {},
     "output_type": "display_data"
    },
    {
     "name": "stderr",
     "output_type": "stream",
     "text": [
      "INFO:allennlp.training.callbacks.console_logger:                       Training |  Validation\n",
      "INFO:allennlp.training.callbacks.console_logger:accuracy           |     0.909  |     0.901\n",
      "INFO:allennlp.training.callbacks.console_logger:fscore             |     0.902  |     0.893\n",
      "INFO:allennlp.training.callbacks.console_logger:fscore-negative    |     0.928  |     0.923\n",
      "INFO:allennlp.training.callbacks.console_logger:fscore-positive    |     0.877  |     0.864\n",
      "INFO:allennlp.training.callbacks.console_logger:gpu_0_memory_MB    |   177.166  |       N/A\n",
      "INFO:allennlp.training.callbacks.console_logger:loss               |     0.230  |     0.250\n",
      "INFO:allennlp.training.callbacks.console_logger:precision          |     0.904  |     0.897\n",
      "INFO:allennlp.training.callbacks.console_logger:precision-negative |     0.924  |     0.911\n",
      "INFO:allennlp.training.callbacks.console_logger:precision-positive |     0.884  |     0.884\n",
      "INFO:allennlp.training.callbacks.console_logger:recall             |     0.901  |     0.890\n",
      "INFO:allennlp.training.callbacks.console_logger:recall-negative    |     0.932  |     0.934\n",
      "INFO:allennlp.training.callbacks.console_logger:recall-positive    |     0.870  |     0.845\n",
      "INFO:allennlp.training.callbacks.console_logger:worker_0_memory_MB |  3079.039  |       N/A\n",
      "INFO:allennlp.training.gradient_descent_trainer:Epoch duration: 0:00:22.594326\n",
      "INFO:allennlp.training.gradient_descent_trainer:Estimated training time remaining: 0:05:58\n",
      "INFO:allennlp.training.gradient_descent_trainer:Epoch 4/19\n",
      "INFO:allennlp.training.gradient_descent_trainer:Worker 0 memory usage: 3.0G\n",
      "INFO:allennlp.training.gradient_descent_trainer:GPU 0 memory usage: 178M\n",
      "INFO:allennlp.training.gradient_descent_trainer:Training\n"
     ]
    },
    {
     "data": {
      "application/vnd.jupyter.widget-view+json": {
       "model_id": "f625b8decdeb435a82d8663a36506fa0",
       "version_major": 2,
       "version_minor": 0
      },
      "text/plain": [
       "  0%|          | 0/1357 [00:00<?, ?it/s]"
      ]
     },
     "metadata": {},
     "output_type": "display_data"
    },
    {
     "name": "stderr",
     "output_type": "stream",
     "text": [
      "INFO:allennlp.training.gradient_descent_trainer:Validating\n"
     ]
    },
    {
     "data": {
      "application/vnd.jupyter.widget-view+json": {
       "model_id": "18ad29e47ffa4c2981b704aa6bf7bc9d",
       "version_major": 2,
       "version_minor": 0
      },
      "text/plain": [
       "  0%|          | 0/170 [00:00<?, ?it/s]"
      ]
     },
     "metadata": {},
     "output_type": "display_data"
    },
    {
     "name": "stderr",
     "output_type": "stream",
     "text": [
      "INFO:allennlp.training.callbacks.console_logger:                       Training |  Validation\n",
      "INFO:allennlp.training.callbacks.console_logger:accuracy           |     0.918  |     0.925\n",
      "INFO:allennlp.training.callbacks.console_logger:fscore             |     0.912  |     0.919\n",
      "INFO:allennlp.training.callbacks.console_logger:fscore-negative    |     0.935  |     0.941\n",
      "INFO:allennlp.training.callbacks.console_logger:fscore-positive    |     0.889  |     0.897\n",
      "INFO:allennlp.training.callbacks.console_logger:gpu_0_memory_MB    |   178.010  |       N/A\n",
      "INFO:allennlp.training.callbacks.console_logger:loss               |     0.204  |     0.230\n",
      "INFO:allennlp.training.callbacks.console_logger:precision          |     0.912  |     0.922\n",
      "INFO:allennlp.training.callbacks.console_logger:precision-negative |     0.934  |     0.931\n",
      "INFO:allennlp.training.callbacks.console_logger:precision-positive |     0.890  |     0.914\n",
      "INFO:allennlp.training.callbacks.console_logger:recall             |     0.912  |     0.916\n",
      "INFO:allennlp.training.callbacks.console_logger:recall-negative    |     0.936  |     0.951\n",
      "INFO:allennlp.training.callbacks.console_logger:recall-positive    |     0.888  |     0.881\n",
      "INFO:allennlp.training.callbacks.console_logger:worker_0_memory_MB |  3079.102  |       N/A\n",
      "INFO:allennlp.training.gradient_descent_trainer:Epoch duration: 0:00:22.620873\n",
      "INFO:allennlp.training.gradient_descent_trainer:Estimated training time remaining: 0:05:37\n",
      "INFO:allennlp.training.gradient_descent_trainer:Epoch 5/19\n",
      "INFO:allennlp.training.gradient_descent_trainer:Worker 0 memory usage: 3.0G\n",
      "INFO:allennlp.training.gradient_descent_trainer:GPU 0 memory usage: 180M\n",
      "INFO:allennlp.training.gradient_descent_trainer:Training\n"
     ]
    },
    {
     "data": {
      "application/vnd.jupyter.widget-view+json": {
       "model_id": "3060006aaaf141c1a43316879643c07c",
       "version_major": 2,
       "version_minor": 0
      },
      "text/plain": [
       "  0%|          | 0/1357 [00:00<?, ?it/s]"
      ]
     },
     "metadata": {},
     "output_type": "display_data"
    },
    {
     "name": "stderr",
     "output_type": "stream",
     "text": [
      "INFO:allennlp.training.gradient_descent_trainer:Validating\n"
     ]
    },
    {
     "data": {
      "application/vnd.jupyter.widget-view+json": {
       "model_id": "a849bdaa05cb4715be613b04b1ddba04",
       "version_major": 2,
       "version_minor": 0
      },
      "text/plain": [
       "  0%|          | 0/170 [00:00<?, ?it/s]"
      ]
     },
     "metadata": {},
     "output_type": "display_data"
    },
    {
     "name": "stderr",
     "output_type": "stream",
     "text": [
      "INFO:allennlp.training.callbacks.console_logger:                       Training |  Validation\n",
      "INFO:allennlp.training.callbacks.console_logger:accuracy           |     0.929  |     0.916\n",
      "INFO:allennlp.training.callbacks.console_logger:fscore             |     0.923  |     0.909\n",
      "INFO:allennlp.training.callbacks.console_logger:fscore-negative    |     0.943  |     0.935\n",
      "INFO:allennlp.training.callbacks.console_logger:fscore-positive    |     0.904  |     0.882\n",
      "INFO:allennlp.training.callbacks.console_logger:gpu_0_memory_MB    |   179.524  |       N/A\n",
      "INFO:allennlp.training.callbacks.console_logger:loss               |     0.176  |     0.226\n",
      "INFO:allennlp.training.callbacks.console_logger:precision          |     0.924  |     0.917\n",
      "INFO:allennlp.training.callbacks.console_logger:precision-negative |     0.941  |     0.915\n",
      "INFO:allennlp.training.callbacks.console_logger:precision-positive |     0.907  |     0.918\n",
      "INFO:allennlp.training.callbacks.console_logger:recall             |     0.923  |     0.902\n",
      "INFO:allennlp.training.callbacks.console_logger:recall-negative    |     0.946  |     0.956\n",
      "INFO:allennlp.training.callbacks.console_logger:recall-positive    |     0.900  |     0.849\n",
      "INFO:allennlp.training.callbacks.console_logger:worker_0_memory_MB |  3079.102  |       N/A\n",
      "INFO:allennlp.training.gradient_descent_trainer:Epoch duration: 0:00:22.766536\n",
      "INFO:allennlp.training.gradient_descent_trainer:Estimated training time remaining: 0:05:15\n",
      "INFO:allennlp.training.gradient_descent_trainer:Epoch 6/19\n",
      "INFO:allennlp.training.gradient_descent_trainer:Worker 0 memory usage: 3.0G\n",
      "INFO:allennlp.training.gradient_descent_trainer:GPU 0 memory usage: 180M\n",
      "INFO:allennlp.training.gradient_descent_trainer:Training\n"
     ]
    },
    {
     "data": {
      "application/vnd.jupyter.widget-view+json": {
       "model_id": "759aa776837e4db481261f41d261be7d",
       "version_major": 2,
       "version_minor": 0
      },
      "text/plain": [
       "  0%|          | 0/1357 [00:00<?, ?it/s]"
      ]
     },
     "metadata": {},
     "output_type": "display_data"
    },
    {
     "name": "stderr",
     "output_type": "stream",
     "text": [
      "INFO:allennlp.training.gradient_descent_trainer:Validating\n"
     ]
    },
    {
     "data": {
      "application/vnd.jupyter.widget-view+json": {
       "model_id": "6fa93c9d5e994ccdb1667e7c57ec16ef",
       "version_major": 2,
       "version_minor": 0
      },
      "text/plain": [
       "  0%|          | 0/170 [00:00<?, ?it/s]"
      ]
     },
     "metadata": {},
     "output_type": "display_data"
    },
    {
     "name": "stderr",
     "output_type": "stream",
     "text": [
      "INFO:allennlp.training.callbacks.console_logger:                       Training |  Validation\n",
      "INFO:allennlp.training.callbacks.console_logger:accuracy           |     0.936  |     0.913\n",
      "INFO:allennlp.training.callbacks.console_logger:fscore             |     0.932  |     0.908\n",
      "INFO:allennlp.training.callbacks.console_logger:fscore-negative    |     0.949  |     0.929\n",
      "INFO:allennlp.training.callbacks.console_logger:fscore-positive    |     0.914  |     0.887\n",
      "INFO:allennlp.training.callbacks.console_logger:gpu_0_memory_MB    |   179.524  |       N/A\n",
      "INFO:allennlp.training.callbacks.console_logger:loss               |     0.162  |     0.231\n",
      "INFO:allennlp.training.callbacks.console_logger:precision          |     0.932  |     0.904\n",
      "INFO:allennlp.training.callbacks.console_logger:precision-negative |     0.947  |     0.951\n",
      "INFO:allennlp.training.callbacks.console_logger:precision-positive |     0.918  |     0.856\n",
      "INFO:allennlp.training.callbacks.console_logger:recall             |     0.931  |     0.915\n",
      "INFO:allennlp.training.callbacks.console_logger:recall-negative    |     0.952  |     0.909\n",
      "INFO:allennlp.training.callbacks.console_logger:recall-positive    |     0.909  |     0.921\n",
      "INFO:allennlp.training.callbacks.console_logger:worker_0_memory_MB |  3079.102  |       N/A\n",
      "INFO:allennlp.training.gradient_descent_trainer:Epoch duration: 0:00:22.118665\n",
      "INFO:allennlp.training.gradient_descent_trainer:Estimated training time remaining: 0:04:52\n",
      "INFO:allennlp.training.gradient_descent_trainer:Epoch 7/19\n",
      "INFO:allennlp.training.gradient_descent_trainer:Worker 0 memory usage: 3.0G\n",
      "INFO:allennlp.training.gradient_descent_trainer:GPU 0 memory usage: 180M\n",
      "INFO:allennlp.training.gradient_descent_trainer:Training\n"
     ]
    },
    {
     "data": {
      "application/vnd.jupyter.widget-view+json": {
       "model_id": "9d7fad44c7b540a1bd48c338acd97c23",
       "version_major": 2,
       "version_minor": 0
      },
      "text/plain": [
       "  0%|          | 0/1357 [00:00<?, ?it/s]"
      ]
     },
     "metadata": {},
     "output_type": "display_data"
    },
    {
     "name": "stderr",
     "output_type": "stream",
     "text": [
      "INFO:allennlp.training.gradient_descent_trainer:Validating\n"
     ]
    },
    {
     "data": {
      "application/vnd.jupyter.widget-view+json": {
       "model_id": "49023e3c3e73415b9e1a2a99849c8627",
       "version_major": 2,
       "version_minor": 0
      },
      "text/plain": [
       "  0%|          | 0/170 [00:00<?, ?it/s]"
      ]
     },
     "metadata": {},
     "output_type": "display_data"
    },
    {
     "name": "stderr",
     "output_type": "stream",
     "text": [
      "INFO:allennlp.training.callbacks.console_logger:                       Training |  Validation\n",
      "INFO:allennlp.training.callbacks.console_logger:accuracy           |     0.939  |     0.922\n",
      "INFO:allennlp.training.callbacks.console_logger:fscore             |     0.935  |     0.916\n",
      "INFO:allennlp.training.callbacks.console_logger:fscore-negative    |     0.952  |     0.939\n",
      "INFO:allennlp.training.callbacks.console_logger:fscore-positive    |     0.918  |     0.893\n",
      "INFO:allennlp.training.callbacks.console_logger:gpu_0_memory_MB    |   179.524  |       N/A\n",
      "INFO:allennlp.training.callbacks.console_logger:loss               |     0.146  |     0.242\n",
      "INFO:allennlp.training.callbacks.console_logger:precision          |     0.935  |     0.919\n",
      "INFO:allennlp.training.callbacks.console_logger:precision-negative |     0.951  |     0.929\n",
      "INFO:allennlp.training.callbacks.console_logger:precision-positive |     0.920  |     0.909\n",
      "INFO:allennlp.training.callbacks.console_logger:recall             |     0.935  |     0.913\n",
      "INFO:allennlp.training.callbacks.console_logger:recall-negative    |     0.953  |     0.948\n",
      "INFO:allennlp.training.callbacks.console_logger:recall-positive    |     0.916  |     0.877\n",
      "INFO:allennlp.training.callbacks.console_logger:worker_0_memory_MB |  3079.102  |       N/A\n",
      "INFO:allennlp.training.gradient_descent_trainer:Epoch duration: 0:00:21.983268\n",
      "INFO:allennlp.training.gradient_descent_trainer:Estimated training time remaining: 0:04:29\n",
      "INFO:allennlp.training.gradient_descent_trainer:Epoch 8/19\n",
      "INFO:allennlp.training.gradient_descent_trainer:Worker 0 memory usage: 3.0G\n",
      "INFO:allennlp.training.gradient_descent_trainer:GPU 0 memory usage: 180M\n",
      "INFO:allennlp.training.gradient_descent_trainer:Training\n"
     ]
    },
    {
     "data": {
      "application/vnd.jupyter.widget-view+json": {
       "model_id": "16a1f40426a84c72a61b627496807e27",
       "version_major": 2,
       "version_minor": 0
      },
      "text/plain": [
       "  0%|          | 0/1357 [00:00<?, ?it/s]"
      ]
     },
     "metadata": {},
     "output_type": "display_data"
    },
    {
     "name": "stderr",
     "output_type": "stream",
     "text": [
      "INFO:allennlp.training.gradient_descent_trainer:Validating\n"
     ]
    },
    {
     "data": {
      "application/vnd.jupyter.widget-view+json": {
       "model_id": "e6c8187ff80c4a60b41827e19a4d1aa9",
       "version_major": 2,
       "version_minor": 0
      },
      "text/plain": [
       "  0%|          | 0/170 [00:00<?, ?it/s]"
      ]
     },
     "metadata": {},
     "output_type": "display_data"
    },
    {
     "name": "stderr",
     "output_type": "stream",
     "text": [
      "INFO:allennlp.training.callbacks.console_logger:                       Training |  Validation\n",
      "INFO:allennlp.training.callbacks.console_logger:accuracy           |     0.952  |     0.920\n",
      "INFO:allennlp.training.callbacks.console_logger:fscore             |     0.948  |     0.916\n",
      "INFO:allennlp.training.callbacks.console_logger:fscore-negative    |     0.962  |     0.936\n",
      "INFO:allennlp.training.callbacks.console_logger:fscore-positive    |     0.935  |     0.895\n",
      "INFO:allennlp.training.callbacks.console_logger:gpu_0_memory_MB    |   179.524  |       N/A\n",
      "INFO:allennlp.training.callbacks.console_logger:loss               |     0.122  |     0.244\n",
      "INFO:allennlp.training.callbacks.console_logger:precision          |     0.949  |     0.912\n",
      "INFO:allennlp.training.callbacks.console_logger:precision-negative |     0.961  |     0.949\n",
      "INFO:allennlp.training.callbacks.console_logger:precision-positive |     0.937  |     0.875\n",
      "INFO:allennlp.training.callbacks.console_logger:recall             |     0.948  |     0.920\n",
      "INFO:allennlp.training.callbacks.console_logger:recall-negative    |     0.963  |     0.923\n",
      "INFO:allennlp.training.callbacks.console_logger:recall-positive    |     0.933  |     0.917\n",
      "INFO:allennlp.training.callbacks.console_logger:worker_0_memory_MB |  3079.102  |       N/A\n",
      "INFO:allennlp.training.gradient_descent_trainer:Epoch duration: 0:00:21.987908\n",
      "INFO:allennlp.training.gradient_descent_trainer:Estimated training time remaining: 0:04:06\n",
      "INFO:allennlp.training.gradient_descent_trainer:Epoch 9/19\n",
      "INFO:allennlp.training.gradient_descent_trainer:Worker 0 memory usage: 3.0G\n",
      "INFO:allennlp.training.gradient_descent_trainer:GPU 0 memory usage: 180M\n",
      "INFO:allennlp.training.gradient_descent_trainer:Training\n"
     ]
    },
    {
     "data": {
      "application/vnd.jupyter.widget-view+json": {
       "model_id": "a2b10733efbb4a64a3c07cd850295c06",
       "version_major": 2,
       "version_minor": 0
      },
      "text/plain": [
       "  0%|          | 0/1357 [00:00<?, ?it/s]"
      ]
     },
     "metadata": {},
     "output_type": "display_data"
    },
    {
     "name": "stderr",
     "output_type": "stream",
     "text": [
      "INFO:allennlp.training.gradient_descent_trainer:Validating\n"
     ]
    },
    {
     "data": {
      "application/vnd.jupyter.widget-view+json": {
       "model_id": "799dbd438a354d9b94600a1be010fe55",
       "version_major": 2,
       "version_minor": 0
      },
      "text/plain": [
       "  0%|          | 0/170 [00:00<?, ?it/s]"
      ]
     },
     "metadata": {},
     "output_type": "display_data"
    },
    {
     "name": "stderr",
     "output_type": "stream",
     "text": [
      "INFO:allennlp.training.callbacks.console_logger:                       Training |  Validation\n",
      "INFO:allennlp.training.callbacks.console_logger:accuracy           |     0.957  |     0.919\n",
      "INFO:allennlp.training.callbacks.console_logger:fscore             |     0.954  |     0.915\n",
      "INFO:allennlp.training.callbacks.console_logger:fscore-negative    |     0.966  |     0.934\n",
      "INFO:allennlp.training.callbacks.console_logger:fscore-positive    |     0.942  |     0.896\n",
      "INFO:allennlp.training.callbacks.console_logger:gpu_0_memory_MB    |   180.177  |       N/A\n",
      "INFO:allennlp.training.callbacks.console_logger:loss               |     0.109  |     0.279\n",
      "INFO:allennlp.training.callbacks.console_logger:precision          |     0.954  |     0.909\n",
      "INFO:allennlp.training.callbacks.console_logger:precision-negative |     0.966  |     0.960\n",
      "INFO:allennlp.training.callbacks.console_logger:precision-positive |     0.942  |     0.858\n",
      "INFO:allennlp.training.callbacks.console_logger:recall             |     0.954  |     0.923\n",
      "INFO:allennlp.training.callbacks.console_logger:recall-negative    |     0.966  |     0.909\n",
      "INFO:allennlp.training.callbacks.console_logger:recall-positive    |     0.942  |     0.937\n",
      "INFO:allennlp.training.callbacks.console_logger:worker_0_memory_MB |  3079.102  |       N/A\n",
      "INFO:allennlp.training.gradient_descent_trainer:Epoch duration: 0:00:21.808439\n",
      "INFO:allennlp.training.gradient_descent_trainer:Ran out of patience. Stopping training.\n",
      "INFO:root:Finished training\n",
      "INFO:allennlp.training.util:Iterating over dataset\n"
     ]
    },
    {
     "name": "stdout",
     "output_type": "stream",
     "text": [
      "Evaluating\n"
     ]
    },
    {
     "data": {
      "application/vnd.jupyter.widget-view+json": {
       "model_id": "c5fd0f71c4b74e19a7e2e58052257bea",
       "version_major": 2,
       "version_minor": 0
      },
      "text/plain": [
       "0it [00:00, ?it/s]"
      ]
     },
     "metadata": {},
     "output_type": "display_data"
    },
    {
     "name": "stderr",
     "output_type": "stream",
     "text": [
      "WARNING:allennlp.models.model:Encountered the loss key in the model's return dictionary which couldn't be split by the batch size. Key will be ignored.\n"
     ]
    },
    {
     "name": "stdout",
     "output_type": "stream",
     "text": [
      "Evaluating: Predicting\n"
     ]
    },
    {
     "name": "stderr",
     "output_type": "stream",
     "text": [
      "/home/thibault/dev/est-lascivuum-non-est/seligator/tests/evaluate.py:111: UserWarning: Matplotlib is currently using module://matplotlib_inline.backend_inline, which is a non-GUI backend, so cannot show the figure.\n",
      "  disp.figure_.show()\n"
     ]
    },
    {
     "data": {
      "image/png": "[encoded data removed]",
      "text/plain": [
       "<Figure size 432x288 with 2 Axes>"
      ]
     },
     "metadata": {
      "needs_background": "light"
     },
     "output_type": "display_data"
    }
   ],
   "source": [
    "from seligator.main import train_and_get, Seligator\n",
    "from seligator.common.load_save import load\n",
    "from seligator.tests.evaluate import run_tests\n",
    "\n",
    "seligator, reader, train, dev = Seligator.init_from_params(**load(\"./seligator/best.json\"))\n",
    "train_kwargs = dict(patience=4, num_epochs=20, lr=5e-4, optimizer=\"AdamW\")\n",
    "\n",
    "model = train_and_get(seligator.model, train, dev, **train_kwargs)\n",
    "data, img = run_tests(\n",
    "    \"dataset/split/test.txt\",\n",
    "    dataset_reader=reader, model=model, dump=f\"test.best.csv\"\n",
    ")"
   ]
  },
  {
   "cell_type": "code",
   "execution_count": 3,
   "id": "67dc4c16",
   "metadata": {},
   "outputs": [
    {
     "name": "stderr",
     "output_type": "stream",
     "text": [
      "WARNING:allennlp.data.vocabulary:vocabulary serialization directory ./saved_model/vocabulary is not empty\n",
      "INFO:filelock:Lock 140639996310288 acquired on ./saved_model/vocabulary/.lock\n",
      "INFO:filelock:Lock 140639996310288 released on ./saved_model/vocabulary/.lock\n",
      "INFO:allennlp.data.vocabulary:Loading token dictionary from ./saved_model/vocabulary.\n",
      "INFO:filelock:Lock 140639760732656 acquired on ./saved_model/vocabulary/.lock\n",
      "INFO:filelock:Lock 140639760732656 released on ./saved_model/vocabulary/.lock\n",
      "INFO:root:Fitting the BasisVectorConfiguration\n",
      "INFO:allennlp.modules.token_embedders.embedding:Reading pretrained embeddings from file\n",
      "WARNING:allennlp.modules.token_embedders.embedding:The embeddings file has an unknown file extension \".header\". We will assume the file is an (uncompressed) text file\n",
      "INFO:allennlp.modules.token_embedders.embedding:Recognized a header line in the embedding file with number of tokens: 155131\n"
     ]
    },
    {
     "data": {
      "application/vnd.jupyter.widget-view+json": {
       "model_id": "2455b986fb4647ecb31f1b03644c90fc",
       "version_major": 2,
       "version_minor": 0
      },
      "text/plain": [
       "  0%|          | 0/155131 [00:00<?, ?it/s]"
      ]
     },
     "metadata": {},
     "output_type": "display_data"
    },
    {
     "name": "stderr",
     "output_type": "stream",
     "text": [
      "INFO:allennlp.modules.token_embedders.embedding:Initializing pre-trained embedding layer\n",
      "INFO:allennlp.modules.token_embedders.embedding:Pretrained embeddings were found for 155131 out of 155381 tokens\n",
      "INFO:root:Classifier is using MetadataEnrichedLinear\n",
      "INFO:allennlp.training.util:Iterating over dataset\n"
     ]
    },
    {
     "name": "stdout",
     "output_type": "stream",
     "text": [
      "Evaluating\n"
     ]
    },
    {
     "data": {
      "application/vnd.jupyter.widget-view+json": {
       "model_id": "d9b1ad19b4bf4303a51353454ead887d",
       "version_major": 2,
       "version_minor": 0
      },
      "text/plain": [
       "0it [00:00, ?it/s]"
      ]
     },
     "metadata": {},
     "output_type": "display_data"
    },
    {
     "ename": "RuntimeError",
     "evalue": "Tensor for argument #3 'mat2' is on CPU, but expected it to be on GPU (while checking arguments for addmm)",
     "output_type": "error",
     "traceback": [
      "\u001b[0;31m---------------------------------------------------------------------------\u001b[0m",
      "\u001b[0;31mRuntimeError\u001b[0m                              Traceback (most recent call last)",
      "\u001b[0;32m/tmp/ipykernel_19989/3156375973.py\u001b[0m in \u001b[0;36m<module>\u001b[0;34m\u001b[0m\n\u001b[1;32m     17\u001b[0m     \u001b[0;34m**\u001b[0m\u001b[0mload\u001b[0m\u001b[0;34m(\u001b[0m\u001b[0;34m\"./saved_model/params.json\"\u001b[0m\u001b[0;34m)\u001b[0m\u001b[0;34m\u001b[0m\u001b[0;34m\u001b[0m\u001b[0m\n\u001b[1;32m     18\u001b[0m )\n\u001b[0;32m---> 19\u001b[0;31m data, img = run_tests(\n\u001b[0m\u001b[1;32m     20\u001b[0m     \u001b[0;34m\"dataset/split/test.txt\"\u001b[0m\u001b[0;34m,\u001b[0m\u001b[0;34m\u001b[0m\u001b[0;34m\u001b[0m\u001b[0m\n\u001b[1;32m     21\u001b[0m     \u001b[0mdataset_reader\u001b[0m\u001b[0;34m=\u001b[0m\u001b[0mreader\u001b[0m\u001b[0;34m,\u001b[0m \u001b[0mmodel\u001b[0m\u001b[0;34m=\u001b[0m\u001b[0mseligator2\u001b[0m\u001b[0;34m.\u001b[0m\u001b[0mmodel\u001b[0m\u001b[0;34m,\u001b[0m \u001b[0mdump\u001b[0m\u001b[0;34m=\u001b[0m\u001b[0;34mf\"test.best.csv\"\u001b[0m\u001b[0;34m\u001b[0m\u001b[0;34m\u001b[0m\u001b[0m\n",
      "\u001b[0;32m~/dev/est-lascivuum-non-est/seligator/tests/evaluate.py\u001b[0m in \u001b[0;36mrun_tests\u001b[0;34m(test_file, dataset_reader, model, dump)\u001b[0m\n\u001b[1;32m     78\u001b[0m     \u001b[0mdata_loader\u001b[0m\u001b[0;34m.\u001b[0m\u001b[0mindex_with\u001b[0m\u001b[0;34m(\u001b[0m\u001b[0mmodel\u001b[0m\u001b[0;34m.\u001b[0m\u001b[0mvocab\u001b[0m\u001b[0;34m)\u001b[0m\u001b[0;34m\u001b[0m\u001b[0;34m\u001b[0m\u001b[0m\n\u001b[1;32m     79\u001b[0m \u001b[0;34m\u001b[0m\u001b[0m\n\u001b[0;32m---> 80\u001b[0;31m     \u001b[0mresults\u001b[0m \u001b[0;34m=\u001b[0m \u001b[0mevaluate\u001b[0m\u001b[0;34m(\u001b[0m\u001b[0mmodel\u001b[0m\u001b[0;34m,\u001b[0m \u001b[0mdata_loader\u001b[0m\u001b[0;34m,\u001b[0m \u001b[0mcuda_device\u001b[0m\u001b[0;34m=\u001b[0m\u001b[0;36m0\u001b[0m\u001b[0;34m)\u001b[0m\u001b[0;34m\u001b[0m\u001b[0;34m\u001b[0m\u001b[0m\n\u001b[0m\u001b[1;32m     81\u001b[0m \u001b[0;34m\u001b[0m\u001b[0m\n\u001b[1;32m     82\u001b[0m     \u001b[0mprint\u001b[0m\u001b[0;34m(\u001b[0m\u001b[0;34m\"Evaluating: Predicting\"\u001b[0m\u001b[0;34m)\u001b[0m\u001b[0;34m\u001b[0m\u001b[0;34m\u001b[0m\u001b[0m\n",
      "\u001b[0;32m~/dev/est-lascivuum-non-est/env/lib/python3.8/site-packages/allennlp/training/util.py\u001b[0m in \u001b[0;36mevaluate\u001b[0;34m(model, data_loader, cuda_device, batch_weight_key, output_file, predictions_output_file)\u001b[0m\n\u001b[1;32m    357\u001b[0m             \u001b[0mbatch_count\u001b[0m \u001b[0;34m+=\u001b[0m \u001b[0;36m1\u001b[0m\u001b[0;34m\u001b[0m\u001b[0;34m\u001b[0m\u001b[0m\n\u001b[1;32m    358\u001b[0m             \u001b[0mbatch\u001b[0m \u001b[0;34m=\u001b[0m \u001b[0mnn_util\u001b[0m\u001b[0;34m.\u001b[0m\u001b[0mmove_to_device\u001b[0m\u001b[0;34m(\u001b[0m\u001b[0mbatch\u001b[0m\u001b[0;34m,\u001b[0m \u001b[0mcuda_device\u001b[0m\u001b[0;34m)\u001b[0m\u001b[0;34m\u001b[0m\u001b[0;34m\u001b[0m\u001b[0m\n\u001b[0;32m--> 359\u001b[0;31m             \u001b[0moutput_dict\u001b[0m \u001b[0;34m=\u001b[0m \u001b[0mmodel\u001b[0m\u001b[0;34m(\u001b[0m\u001b[0;34m**\u001b[0m\u001b[0mbatch\u001b[0m\u001b[0;34m)\u001b[0m\u001b[0;34m\u001b[0m\u001b[0;34m\u001b[0m\u001b[0m\n\u001b[0m\u001b[1;32m    360\u001b[0m             \u001b[0mloss\u001b[0m \u001b[0;34m=\u001b[0m \u001b[0moutput_dict\u001b[0m\u001b[0;34m.\u001b[0m\u001b[0mget\u001b[0m\u001b[0;34m(\u001b[0m\u001b[0;34m\"loss\"\u001b[0m\u001b[0;34m)\u001b[0m\u001b[0;34m\u001b[0m\u001b[0;34m\u001b[0m\u001b[0m\n\u001b[1;32m    361\u001b[0m \u001b[0;34m\u001b[0m\u001b[0m\n",
      "\u001b[0;32m~/dev/est-lascivuum-non-est/env/lib/python3.8/site-packages/torch/nn/modules/module.py\u001b[0m in \u001b[0;36m_call_impl\u001b[0;34m(self, *input, **kwargs)\u001b[0m\n\u001b[1;32m    887\u001b[0m             \u001b[0mresult\u001b[0m \u001b[0;34m=\u001b[0m \u001b[0mself\u001b[0m\u001b[0;34m.\u001b[0m\u001b[0m_slow_forward\u001b[0m\u001b[0;34m(\u001b[0m\u001b[0;34m*\u001b[0m\u001b[0minput\u001b[0m\u001b[0;34m,\u001b[0m \u001b[0;34m**\u001b[0m\u001b[0mkwargs\u001b[0m\u001b[0;34m)\u001b[0m\u001b[0;34m\u001b[0m\u001b[0;34m\u001b[0m\u001b[0m\n\u001b[1;32m    888\u001b[0m         \u001b[0;32melse\u001b[0m\u001b[0;34m:\u001b[0m\u001b[0;34m\u001b[0m\u001b[0;34m\u001b[0m\u001b[0m\n\u001b[0;32m--> 889\u001b[0;31m             \u001b[0mresult\u001b[0m \u001b[0;34m=\u001b[0m \u001b[0mself\u001b[0m\u001b[0;34m.\u001b[0m\u001b[0mforward\u001b[0m\u001b[0;34m(\u001b[0m\u001b[0;34m*\u001b[0m\u001b[0minput\u001b[0m\u001b[0;34m,\u001b[0m \u001b[0;34m**\u001b[0m\u001b[0mkwargs\u001b[0m\u001b[0;34m)\u001b[0m\u001b[0;34m\u001b[0m\u001b[0;34m\u001b[0m\u001b[0m\n\u001b[0m\u001b[1;32m    890\u001b[0m         for hook in itertools.chain(\n\u001b[1;32m    891\u001b[0m                 \u001b[0m_global_forward_hooks\u001b[0m\u001b[0;34m.\u001b[0m\u001b[0mvalues\u001b[0m\u001b[0;34m(\u001b[0m\u001b[0;34m)\u001b[0m\u001b[0;34m,\u001b[0m\u001b[0;34m\u001b[0m\u001b[0;34m\u001b[0m\u001b[0m\n",
      "\u001b[0;32m~/dev/est-lascivuum-non-est/seligator/models/classifier.py\u001b[0m in \u001b[0;36mforward\u001b[0;34m(self, label, **mixed_features)\u001b[0m\n\u001b[1;32m     48\u001b[0m                 \u001b[0;32mfor\u001b[0m \u001b[0mcat\u001b[0m \u001b[0;32min\u001b[0m \u001b[0mself\u001b[0m\u001b[0;34m.\u001b[0m\u001b[0mmetadata_categories\u001b[0m\u001b[0;34m\u001b[0m\u001b[0;34m\u001b[0m\u001b[0m\n\u001b[1;32m     49\u001b[0m             }\n\u001b[0;32m---> 50\u001b[0;31m         \u001b[0mencoded_text\u001b[0m\u001b[0;34m,\u001b[0m \u001b[0madditional_out\u001b[0m \u001b[0;34m=\u001b[0m \u001b[0mself\u001b[0m\u001b[0;34m.\u001b[0m\u001b[0mmixed_encoder\u001b[0m\u001b[0;34m(\u001b[0m\u001b[0mmixed_features\u001b[0m\u001b[0;34m,\u001b[0m \u001b[0mmetadata_vector\u001b[0m\u001b[0;34m)\u001b[0m\u001b[0;34m\u001b[0m\u001b[0;34m\u001b[0m\u001b[0m\n\u001b[0m\u001b[1;32m     51\u001b[0m \u001b[0;34m\u001b[0m\u001b[0m\n\u001b[1;32m     52\u001b[0m         \u001b[0;31m# Shape: (batch_size, num_labels)\u001b[0m\u001b[0;34m\u001b[0m\u001b[0;34m\u001b[0m\u001b[0;34m\u001b[0m\u001b[0m\n",
      "\u001b[0;32m~/dev/est-lascivuum-non-est/env/lib/python3.8/site-packages/torch/nn/modules/module.py\u001b[0m in \u001b[0;36m_call_impl\u001b[0;34m(self, *input, **kwargs)\u001b[0m\n\u001b[1;32m    887\u001b[0m             \u001b[0mresult\u001b[0m \u001b[0;34m=\u001b[0m \u001b[0mself\u001b[0m\u001b[0;34m.\u001b[0m\u001b[0m_slow_forward\u001b[0m\u001b[0;34m(\u001b[0m\u001b[0;34m*\u001b[0m\u001b[0minput\u001b[0m\u001b[0;34m,\u001b[0m \u001b[0;34m**\u001b[0m\u001b[0mkwargs\u001b[0m\u001b[0;34m)\u001b[0m\u001b[0;34m\u001b[0m\u001b[0;34m\u001b[0m\u001b[0m\n\u001b[1;32m    888\u001b[0m         \u001b[0;32melse\u001b[0m\u001b[0;34m:\u001b[0m\u001b[0;34m\u001b[0m\u001b[0;34m\u001b[0m\u001b[0m\n\u001b[0;32m--> 889\u001b[0;31m             \u001b[0mresult\u001b[0m \u001b[0;34m=\u001b[0m \u001b[0mself\u001b[0m\u001b[0;34m.\u001b[0m\u001b[0mforward\u001b[0m\u001b[0;34m(\u001b[0m\u001b[0;34m*\u001b[0m\u001b[0minput\u001b[0m\u001b[0;34m,\u001b[0m \u001b[0;34m**\u001b[0m\u001b[0mkwargs\u001b[0m\u001b[0;34m)\u001b[0m\u001b[0;34m\u001b[0m\u001b[0;34m\u001b[0m\u001b[0m\n\u001b[0m\u001b[1;32m    890\u001b[0m         for hook in itertools.chain(\n\u001b[1;32m    891\u001b[0m                 \u001b[0m_global_forward_hooks\u001b[0m\u001b[0;34m.\u001b[0m\u001b[0mvalues\u001b[0m\u001b[0;34m(\u001b[0m\u001b[0;34m)\u001b[0m\u001b[0;34m,\u001b[0m\u001b[0;34m\u001b[0m\u001b[0;34m\u001b[0m\u001b[0m\n",
      "\u001b[0;32m~/dev/est-lascivuum-non-est/seligator/modules/mixed_encoders/__init__.py\u001b[0m in \u001b[0;36mforward\u001b[0;34m(self, data, metadata_vector)\u001b[0m\n\u001b[1;32m    146\u001b[0m                 \u001b[0madditional_output\u001b[0m\u001b[0;34m[\u001b[0m\u001b[0;34m\"bert_projection\"\u001b[0m\u001b[0;34m]\u001b[0m \u001b[0;34m=\u001b[0m \u001b[0membedded\u001b[0m\u001b[0;34m\u001b[0m\u001b[0;34m\u001b[0m\u001b[0m\n\u001b[1;32m    147\u001b[0m         \u001b[0;32melif\u001b[0m \u001b[0mself\u001b[0m\u001b[0;34m.\u001b[0m\u001b[0muse_features\u001b[0m\u001b[0;34m:\u001b[0m\u001b[0;34m\u001b[0m\u001b[0;34m\u001b[0m\u001b[0m\n\u001b[0;32m--> 148\u001b[0;31m             \u001b[0mv\u001b[0m\u001b[0;34m,\u001b[0m \u001b[0mattention\u001b[0m \u001b[0;34m=\u001b[0m \u001b[0mself\u001b[0m\u001b[0;34m.\u001b[0m\u001b[0m_forward_features\u001b[0m\u001b[0;34m(\u001b[0m\u001b[0mdata\u001b[0m\u001b[0;34m,\u001b[0m \u001b[0mmetadata_vector\u001b[0m\u001b[0;34m=\u001b[0m\u001b[0mmetadata_vector\u001b[0m\u001b[0;34m)\u001b[0m\u001b[0;34m\u001b[0m\u001b[0;34m\u001b[0m\u001b[0m\n\u001b[0m\u001b[1;32m    149\u001b[0m         \u001b[0;32melse\u001b[0m\u001b[0;34m:\u001b[0m\u001b[0;34m\u001b[0m\u001b[0;34m\u001b[0m\u001b[0m\n\u001b[1;32m    150\u001b[0m             \u001b[0;32mraise\u001b[0m \u001b[0mValueError\u001b[0m\u001b[0;34m(\u001b[0m\u001b[0;34m\"No features or bert used.\"\u001b[0m\u001b[0;34m)\u001b[0m\u001b[0;34m\u001b[0m\u001b[0;34m\u001b[0m\u001b[0m\n",
      "\u001b[0;32m~/dev/est-lascivuum-non-est/seligator/modules/mixed_encoders/__init__.py\u001b[0m in \u001b[0;36m_forward_features\u001b[0;34m(self, token, metadata_vector)\u001b[0m\n\u001b[1;32m    106\u001b[0m \u001b[0;34m\u001b[0m\u001b[0m\n\u001b[1;32m    107\u001b[0m         \u001b[0;31m# Shape: (batch_size, num_tokens, embedding_dim)\u001b[0m\u001b[0;34m\u001b[0m\u001b[0;34m\u001b[0m\u001b[0;34m\u001b[0m\u001b[0m\n\u001b[0;32m--> 108\u001b[0;31m         \u001b[0membedded_text\u001b[0m \u001b[0;34m=\u001b[0m \u001b[0mself\u001b[0m\u001b[0;34m.\u001b[0m\u001b[0mfeatures_embedder\u001b[0m\u001b[0;34m(\u001b[0m\u001b[0mtoken\u001b[0m\u001b[0;34m)\u001b[0m\u001b[0;34m\u001b[0m\u001b[0;34m\u001b[0m\u001b[0m\n\u001b[0m\u001b[1;32m    109\u001b[0m         \u001b[0;32mif\u001b[0m \u001b[0mself\u001b[0m\u001b[0;34m.\u001b[0m\u001b[0m_emb_dropout\u001b[0m \u001b[0;32mis\u001b[0m \u001b[0;32mnot\u001b[0m \u001b[0;32mNone\u001b[0m\u001b[0;34m:\u001b[0m\u001b[0;34m\u001b[0m\u001b[0;34m\u001b[0m\u001b[0m\n\u001b[1;32m    110\u001b[0m             \u001b[0;31m# Shape: (batch_size, num_tokens, embedding_dim)\u001b[0m\u001b[0;34m\u001b[0m\u001b[0;34m\u001b[0m\u001b[0;34m\u001b[0m\u001b[0m\n",
      "\u001b[0;32m~/dev/est-lascivuum-non-est/env/lib/python3.8/site-packages/torch/nn/modules/module.py\u001b[0m in \u001b[0;36m_call_impl\u001b[0;34m(self, *input, **kwargs)\u001b[0m\n\u001b[1;32m    887\u001b[0m             \u001b[0mresult\u001b[0m \u001b[0;34m=\u001b[0m \u001b[0mself\u001b[0m\u001b[0;34m.\u001b[0m\u001b[0m_slow_forward\u001b[0m\u001b[0;34m(\u001b[0m\u001b[0;34m*\u001b[0m\u001b[0minput\u001b[0m\u001b[0;34m,\u001b[0m \u001b[0;34m**\u001b[0m\u001b[0mkwargs\u001b[0m\u001b[0;34m)\u001b[0m\u001b[0;34m\u001b[0m\u001b[0;34m\u001b[0m\u001b[0m\n\u001b[1;32m    888\u001b[0m         \u001b[0;32melse\u001b[0m\u001b[0;34m:\u001b[0m\u001b[0;34m\u001b[0m\u001b[0;34m\u001b[0m\u001b[0m\n\u001b[0;32m--> 889\u001b[0;31m             \u001b[0mresult\u001b[0m \u001b[0;34m=\u001b[0m \u001b[0mself\u001b[0m\u001b[0;34m.\u001b[0m\u001b[0mforward\u001b[0m\u001b[0;34m(\u001b[0m\u001b[0;34m*\u001b[0m\u001b[0minput\u001b[0m\u001b[0;34m,\u001b[0m \u001b[0;34m**\u001b[0m\u001b[0mkwargs\u001b[0m\u001b[0;34m)\u001b[0m\u001b[0;34m\u001b[0m\u001b[0;34m\u001b[0m\u001b[0m\n\u001b[0m\u001b[1;32m    890\u001b[0m         for hook in itertools.chain(\n\u001b[1;32m    891\u001b[0m                 \u001b[0m_global_forward_hooks\u001b[0m\u001b[0;34m.\u001b[0m\u001b[0mvalues\u001b[0m\u001b[0;34m(\u001b[0m\u001b[0;34m)\u001b[0m\u001b[0;34m,\u001b[0m\u001b[0;34m\u001b[0m\u001b[0;34m\u001b[0m\u001b[0m\n",
      "\u001b[0;32m~/dev/est-lascivuum-non-est/seligator/modules/embedders/mixed.py\u001b[0m in \u001b[0;36mforward\u001b[0;34m(self, tokens)\u001b[0m\n\u001b[1;32m     24\u001b[0m     \u001b[0;32mdef\u001b[0m \u001b[0mforward\u001b[0m\u001b[0;34m(\u001b[0m\u001b[0mself\u001b[0m\u001b[0;34m,\u001b[0m \u001b[0mtokens\u001b[0m\u001b[0;34m)\u001b[0m\u001b[0;34m:\u001b[0m\u001b[0;34m\u001b[0m\u001b[0;34m\u001b[0m\u001b[0m\n\u001b[1;32m     25\u001b[0m \u001b[0;34m\u001b[0m\u001b[0m\n\u001b[0;32m---> 26\u001b[0;31m         \u001b[0mmsd\u001b[0m \u001b[0;34m=\u001b[0m \u001b[0mself\u001b[0m\u001b[0;34m.\u001b[0m\u001b[0mfeature_embedder\u001b[0m\u001b[0;34m(\u001b[0m\u001b[0mtokens\u001b[0m\u001b[0;34m[\u001b[0m\u001b[0mMSD_CAT_NAME\u001b[0m\u001b[0;34m]\u001b[0m\u001b[0;34m.\u001b[0m\u001b[0mtype\u001b[0m\u001b[0;34m(\u001b[0m\u001b[0mtorch\u001b[0m\u001b[0;34m.\u001b[0m\u001b[0mfloat\u001b[0m\u001b[0;34m)\u001b[0m\u001b[0;34m)\u001b[0m\u001b[0;34m\u001b[0m\u001b[0;34m\u001b[0m\u001b[0m\n\u001b[0m\u001b[1;32m     27\u001b[0m         \u001b[0mtxt\u001b[0m \u001b[0;34m=\u001b[0m \u001b[0mself\u001b[0m\u001b[0;34m.\u001b[0m\u001b[0mtext_embedder\u001b[0m\u001b[0;34m(\u001b[0m\u001b[0;34m{\u001b[0m\u001b[0mcat\u001b[0m\u001b[0;34m:\u001b[0m \u001b[0mval\u001b[0m \u001b[0;32mfor\u001b[0m \u001b[0mcat\u001b[0m\u001b[0;34m,\u001b[0m \u001b[0mval\u001b[0m \u001b[0;32min\u001b[0m \u001b[0mtokens\u001b[0m\u001b[0;34m.\u001b[0m\u001b[0mitems\u001b[0m\u001b[0;34m(\u001b[0m\u001b[0;34m)\u001b[0m \u001b[0;32mif\u001b[0m \u001b[0mcat\u001b[0m \u001b[0;34m!=\u001b[0m \u001b[0mMSD_CAT_NAME\u001b[0m\u001b[0;34m}\u001b[0m\u001b[0;34m)\u001b[0m\u001b[0;34m\u001b[0m\u001b[0;34m\u001b[0m\u001b[0m\n\u001b[1;32m     28\u001b[0m         \u001b[0;32mreturn\u001b[0m \u001b[0mtorch\u001b[0m\u001b[0;34m.\u001b[0m\u001b[0mcat\u001b[0m\u001b[0;34m(\u001b[0m\u001b[0;34m[\u001b[0m\u001b[0mtxt\u001b[0m\u001b[0;34m,\u001b[0m \u001b[0mmsd\u001b[0m\u001b[0;34m]\u001b[0m\u001b[0;34m,\u001b[0m \u001b[0mdim\u001b[0m\u001b[0;34m=\u001b[0m\u001b[0;34m-\u001b[0m\u001b[0;36m1\u001b[0m\u001b[0;34m)\u001b[0m\u001b[0;34m\u001b[0m\u001b[0;34m\u001b[0m\u001b[0m\n",
      "\u001b[0;32m~/dev/est-lascivuum-non-est/env/lib/python3.8/site-packages/torch/nn/modules/module.py\u001b[0m in \u001b[0;36m_call_impl\u001b[0;34m(self, *input, **kwargs)\u001b[0m\n\u001b[1;32m    887\u001b[0m             \u001b[0mresult\u001b[0m \u001b[0;34m=\u001b[0m \u001b[0mself\u001b[0m\u001b[0;34m.\u001b[0m\u001b[0m_slow_forward\u001b[0m\u001b[0;34m(\u001b[0m\u001b[0;34m*\u001b[0m\u001b[0minput\u001b[0m\u001b[0;34m,\u001b[0m \u001b[0;34m**\u001b[0m\u001b[0mkwargs\u001b[0m\u001b[0;34m)\u001b[0m\u001b[0;34m\u001b[0m\u001b[0;34m\u001b[0m\u001b[0m\n\u001b[1;32m    888\u001b[0m         \u001b[0;32melse\u001b[0m\u001b[0;34m:\u001b[0m\u001b[0;34m\u001b[0m\u001b[0;34m\u001b[0m\u001b[0m\n\u001b[0;32m--> 889\u001b[0;31m             \u001b[0mresult\u001b[0m \u001b[0;34m=\u001b[0m \u001b[0mself\u001b[0m\u001b[0;34m.\u001b[0m\u001b[0mforward\u001b[0m\u001b[0;34m(\u001b[0m\u001b[0;34m*\u001b[0m\u001b[0minput\u001b[0m\u001b[0;34m,\u001b[0m \u001b[0;34m**\u001b[0m\u001b[0mkwargs\u001b[0m\u001b[0;34m)\u001b[0m\u001b[0;34m\u001b[0m\u001b[0;34m\u001b[0m\u001b[0m\n\u001b[0m\u001b[1;32m    890\u001b[0m         for hook in itertools.chain(\n\u001b[1;32m    891\u001b[0m                 \u001b[0m_global_forward_hooks\u001b[0m\u001b[0;34m.\u001b[0m\u001b[0mvalues\u001b[0m\u001b[0;34m(\u001b[0m\u001b[0;34m)\u001b[0m\u001b[0;34m,\u001b[0m\u001b[0;34m\u001b[0m\u001b[0;34m\u001b[0m\u001b[0m\n",
      "\u001b[0;32m~/dev/est-lascivuum-non-est/env/lib/python3.8/site-packages/torch/nn/modules/linear.py\u001b[0m in \u001b[0;36mforward\u001b[0;34m(self, input)\u001b[0m\n\u001b[1;32m     92\u001b[0m \u001b[0;34m\u001b[0m\u001b[0m\n\u001b[1;32m     93\u001b[0m     \u001b[0;32mdef\u001b[0m \u001b[0mforward\u001b[0m\u001b[0;34m(\u001b[0m\u001b[0mself\u001b[0m\u001b[0;34m,\u001b[0m \u001b[0minput\u001b[0m\u001b[0;34m:\u001b[0m \u001b[0mTensor\u001b[0m\u001b[0;34m)\u001b[0m \u001b[0;34m->\u001b[0m \u001b[0mTensor\u001b[0m\u001b[0;34m:\u001b[0m\u001b[0;34m\u001b[0m\u001b[0;34m\u001b[0m\u001b[0m\n\u001b[0;32m---> 94\u001b[0;31m         \u001b[0;32mreturn\u001b[0m \u001b[0mF\u001b[0m\u001b[0;34m.\u001b[0m\u001b[0mlinear\u001b[0m\u001b[0;34m(\u001b[0m\u001b[0minput\u001b[0m\u001b[0;34m,\u001b[0m \u001b[0mself\u001b[0m\u001b[0;34m.\u001b[0m\u001b[0mweight\u001b[0m\u001b[0;34m,\u001b[0m \u001b[0mself\u001b[0m\u001b[0;34m.\u001b[0m\u001b[0mbias\u001b[0m\u001b[0;34m)\u001b[0m\u001b[0;34m\u001b[0m\u001b[0;34m\u001b[0m\u001b[0m\n\u001b[0m\u001b[1;32m     95\u001b[0m \u001b[0;34m\u001b[0m\u001b[0m\n\u001b[1;32m     96\u001b[0m     \u001b[0;32mdef\u001b[0m \u001b[0mextra_repr\u001b[0m\u001b[0;34m(\u001b[0m\u001b[0mself\u001b[0m\u001b[0;34m)\u001b[0m \u001b[0;34m->\u001b[0m \u001b[0mstr\u001b[0m\u001b[0;34m:\u001b[0m\u001b[0;34m\u001b[0m\u001b[0;34m\u001b[0m\u001b[0m\n",
      "\u001b[0;32m~/dev/est-lascivuum-non-est/env/lib/python3.8/site-packages/torch/nn/functional.py\u001b[0m in \u001b[0;36mlinear\u001b[0;34m(input, weight, bias)\u001b[0m\n\u001b[1;32m   1751\u001b[0m     \u001b[0;32mif\u001b[0m \u001b[0mhas_torch_function_variadic\u001b[0m\u001b[0;34m(\u001b[0m\u001b[0minput\u001b[0m\u001b[0;34m,\u001b[0m \u001b[0mweight\u001b[0m\u001b[0;34m)\u001b[0m\u001b[0;34m:\u001b[0m\u001b[0;34m\u001b[0m\u001b[0;34m\u001b[0m\u001b[0m\n\u001b[1;32m   1752\u001b[0m         \u001b[0;32mreturn\u001b[0m \u001b[0mhandle_torch_function\u001b[0m\u001b[0;34m(\u001b[0m\u001b[0mlinear\u001b[0m\u001b[0;34m,\u001b[0m \u001b[0;34m(\u001b[0m\u001b[0minput\u001b[0m\u001b[0;34m,\u001b[0m \u001b[0mweight\u001b[0m\u001b[0;34m)\u001b[0m\u001b[0;34m,\u001b[0m \u001b[0minput\u001b[0m\u001b[0;34m,\u001b[0m \u001b[0mweight\u001b[0m\u001b[0;34m,\u001b[0m \u001b[0mbias\u001b[0m\u001b[0;34m=\u001b[0m\u001b[0mbias\u001b[0m\u001b[0;34m)\u001b[0m\u001b[0;34m\u001b[0m\u001b[0;34m\u001b[0m\u001b[0m\n\u001b[0;32m-> 1753\u001b[0;31m     \u001b[0;32mreturn\u001b[0m \u001b[0mtorch\u001b[0m\u001b[0;34m.\u001b[0m\u001b[0m_C\u001b[0m\u001b[0;34m.\u001b[0m\u001b[0m_nn\u001b[0m\u001b[0;34m.\u001b[0m\u001b[0mlinear\u001b[0m\u001b[0;34m(\u001b[0m\u001b[0minput\u001b[0m\u001b[0;34m,\u001b[0m \u001b[0mweight\u001b[0m\u001b[0;34m,\u001b[0m \u001b[0mbias\u001b[0m\u001b[0;34m)\u001b[0m\u001b[0;34m\u001b[0m\u001b[0;34m\u001b[0m\u001b[0m\n\u001b[0m\u001b[1;32m   1754\u001b[0m \u001b[0;34m\u001b[0m\u001b[0m\n\u001b[1;32m   1755\u001b[0m \u001b[0;34m\u001b[0m\u001b[0m\n",
      "\u001b[0;31mRuntimeError\u001b[0m: Tensor for argument #3 'mat2' is on CPU, but expected it to be on GPU (while checking arguments for addmm)"
     ]
    }
   ],
   "source": [
    "import os\n",
    "import json\n",
    "from seligator.common.load_save import CustomEncoder\n",
    "\n",
    "def save_model(self, path: str = \"./saved_model/\"):\n",
    "    self.model.vocab.save_to_files(os.path.join(path, \"vocabulary\"))\n",
    "    self.model.save_to_file(os.path.join(path, \"model.pth\"))\n",
    "    #print(self.__dict__)\n",
    "    with open(os.path.join(path, \"params.json\"), \"w\") as j:\n",
    "        json.dump(self._init_params, j, cls=CustomEncoder)\n",
    "\n",
    "save_model(seligator)\n",
    "\n",
    "seligator2 = Seligator.init_from_params(\n",
    "    vocabulary_path=\"./saved_model/vocabulary\",\n",
    "    training=False,\n",
    "    **load(\"./saved_model/params.json\")\n",
    ")\n",
    "data, img = run_tests(\n",
    "    \"dataset/split/test.txt\",\n",
    "    dataset_reader=reader, model=seligator2.model, dump=f\"test.best.csv\"\n",
    ")"
   ]
  }
 ],
 "metadata": {
  "kernelspec": {
   "display_name": "Python 3",
   "language": "python",
   "name": "python3"
  },
  "language_info": {
   "codemirror_mode": {
    "name": "ipython",
    "version": 3
   },
   "file_extension": ".py",
   "mimetype": "text/x-python",
   "name": "python",
   "nbconvert_exporter": "python",
   "pygments_lexer": "ipython3",
   "version": "3.8.10"
  },
  "toc": {
   "base_numbering": 1,
   "nav_menu": {},
   "number_sections": true,
   "sideBar": true,
   "skip_h1_title": false,
   "title_cell": "Table of Contents",
   "title_sidebar": "Contents",
   "toc_cell": false,
   "toc_position": {},
   "toc_section_display": true,
   "toc_window_display": false
  }
 },
 "nbformat": 4,
 "nbformat_minor": 5
}
