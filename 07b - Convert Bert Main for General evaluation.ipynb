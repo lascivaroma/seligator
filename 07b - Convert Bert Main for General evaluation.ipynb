{
 "cells": [
  {
   "cell_type": "code",
   "execution_count": 1,
   "id": "8b68145f",
   "metadata": {},
   "outputs": [],
   "source": [
    "import glob\n",
    "import pandas as pd\n",
    "import csv\n",
    "\n",
    "merged_files = []\n",
    "counter = {\n",
    "    \n",
    "}\n",
    "for file in glob.glob(\"bert-experiment/bert_experiment*.csv\"):\n",
    "    with open(file) as f:\n",
    "        r = csv.DictReader(f)\n",
    "        for row in r:\n",
    "            merged_files.append(row)\n",
    "            if row[\"bert_trainable\"] == \"False\" and row[\"bert_layer\"] == \"-1\" and row.get(\"linear_enriched\") == \"True\":\n",
    "                if row[\"bert_mode\"] in [\"BertPoolerClass.HAN\", \"BertPoolerClass.MEANMAX\", \"BertPoolerClass.GRU\"]:\n",
    "                    #print(row)\n",
    "                    mode = row[\"bert_mode\"].split(\".\")[-1].replace(\"MEANMAX\", \"MeanMax\")\n",
    "                    row[\"name\"] = f\"NoMorph-{mode}-LinearEnriched-Bert-256\"\n",
    "                    if row[\"name\"] not in counter:\n",
    "                        counter[row[\"name\"]] = 0\n",
    "                    else:\n",
    "                        counter[row[\"name\"]] += 1\n",
    "                    with open(f\"csv_dumps/main.NoMorph.{mode}.LinearEnriched.Bert.256.{counter[row['name']]}.csv\", \"w\") as f2:\n",
    "                        w = csv.DictWriter(f2, fieldnames=row.keys())\n",
    "                        w.writeheader()\n",
    "                        w.writerow(row)\n",
    "                    #print(row[\"bert_mode\"], row[\"precision-positive\"], row[\"recall-positive\"], row[\"fscore-positive\"])\n",
    "                    #print(row)\n",
    "            break"
   ]
  }
 ],
 "metadata": {
  "kernelspec": {
   "display_name": "Python 3",
   "language": "python",
   "name": "python3"
  },
  "language_info": {
   "codemirror_mode": {
    "name": "ipython",
    "version": 3
   },
   "file_extension": ".py",
   "mimetype": "text/x-python",
   "name": "python",
   "nbconvert_exporter": "python",
   "pygments_lexer": "ipython3",
   "version": "3.8.10"
  },
  "toc": {
   "base_numbering": 1,
   "nav_menu": {},
   "number_sections": true,
   "sideBar": true,
   "skip_h1_title": false,
   "title_cell": "Table of Contents",
   "title_sidebar": "Contents",
   "toc_cell": false,
   "toc_position": {},
   "toc_section_display": true,
   "toc_window_display": false
  }
 },
 "nbformat": 4,
 "nbformat_minor": 5
}
