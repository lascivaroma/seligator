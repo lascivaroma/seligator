{
 "cells": [
  {
   "cell_type": "code",
   "execution_count": 6,
   "id": "a04f5e7d",
   "metadata": {
    "scrolled": true
   },
   "outputs": [
    {
     "name": "stderr",
     "output_type": "stream",
     "text": [
      "INFO:root:Dataset reader set with following categories: [msd], lemma_char, lemma\n",
      "/home/thibault/dev/est-lascivuum-non-est/env/lib/python3.8/site-packages/allennlp/data/token_indexers/token_characters_indexer.py:55: UserWarning: You are using the default value (0) of `min_padding_length`, which can cause some subtle bugs (more info see https://github.com/allenai/allennlp/issues/1954). Strongly recommend to set a value, usually the maximum size of the convolutional layer size when using CnnEncoder.\n",
      "  warnings.warn(\n",
      "INFO:root:Indexer set for following categories: [msd], lemma_char, lemma\n",
      "INFO:root:Reading data\n"
     ]
    },
    {
     "name": "stdout",
     "output_type": "stream",
     "text": [
      "metadata_token_as_lemma_and_token False\n"
     ]
    },
    {
     "name": "stderr",
     "output_type": "stream",
     "text": [
      "INFO:root:Building the vocabulary\n",
      "INFO:allennlp.data.vocabulary:Fitting token dictionary from dataset.\n"
     ]
    },
    {
     "data": {
      "application/vnd.jupyter.widget-view+json": {
       "model_id": "f6bc2bb63c0b41f887523a94d702f619",
       "version_major": 2,
       "version_minor": 0
      },
      "text/plain": [
       "building vocab:   0%|          | 0/5427 [00:00<?, ?it/s]"
      ]
     },
     "metadata": {},
     "output_type": "display_data"
    },
    {
     "name": "stderr",
     "output_type": "stream",
     "text": [
      "/home/thibault/dev/est-lascivuum-non-est/env/lib/python3.8/site-packages/torch/nn/modules/rnn.py:60: UserWarning: dropout option adds dropout after all but last recurrent layer, so non-zero dropout expects num_layers greater than 1, but got dropout=0.3 and num_layers=1\n",
      "  warnings.warn(\"dropout option adds dropout after all but last \"\n",
      "INFO:allennlp.training.optimizers:Number of trainable parameters: 3264762\n",
      "INFO:root:Num epochs: 20\n",
      "INFO:root:Starting training\n",
      "INFO:allennlp.training.gradient_descent_trainer:Beginning training.\n",
      "INFO:allennlp.training.gradient_descent_trainer:Epoch 0/19\n",
      "INFO:allennlp.training.gradient_descent_trainer:Worker 0 memory usage: 3.5G\n",
      "INFO:allennlp.training.gradient_descent_trainer:GPU 0 memory usage: 144M\n",
      "INFO:allennlp.training.gradient_descent_trainer:Training\n"
     ]
    },
    {
     "name": "stdout",
     "output_type": "stream",
     "text": [
      "---> Epochs:   20\n",
      "---> Patience: 10\n"
     ]
    },
    {
     "data": {
      "application/vnd.jupyter.widget-view+json": {
       "model_id": "01d266edda164614b895ee766fa894b3",
       "version_major": 2,
       "version_minor": 0
      },
      "text/plain": [
       "  0%|          | 0/1357 [00:00<?, ?it/s]"
      ]
     },
     "metadata": {},
     "output_type": "display_data"
    },
    {
     "name": "stderr",
     "output_type": "stream",
     "text": [
      "/home/thibault/dev/est-lascivuum-non-est/seligator/models/classifier.py:32: UserWarning: Implicit dimension choice for softmax has been deprecated. Change the call to include dim=X as an argument.\n",
      "  probs = F.softmax(logits)\n",
      "INFO:allennlp.training.callbacks.console_logger:Batch inputs\n",
      "INFO:allennlp.training.callbacks.console_logger:batch_input/[msd] (Shape: 4 x 28 x 51)\n",
      "tensor([[[0, 0, 1,  ..., 0, 0, 0],\n",
      "         [0, 0, 1,  ..., 0, 0, 0],\n",
      "         [0, 0, 1,  ..., 0, 0, 0],\n",
      "         ...,\n",
      "         [0, 0, 0,  ..., 0, 0, 0],\n",
      "         [0, 0, 0,  ..., 0, 0, 0],\n",
      "         [0, 0, 0,  ..., 0, 0, 0]],\n",
      "\n",
      "        [[0, 0, 1,  ..., 0, 0, 0],\n",
      "         [0, 0, 1,  ..., 0, 0, 0],\n",
      "         [0, 0, 0,  ..., 0, 0, 0],\n",
      "         ...,\n",
      "         [0, 0, 0,  ..., 0, 0, 0],\n",
      "         [0, 0, 0,  ..., 0, 0, 0],\n",
      "         [0, 0, 0,  ..., 0, 0, 0]],\n",
      "\n",
      "        [[0, 0, 1,  ..., 0, 0, 0],\n",
      "         [0, 0, 1,  ..., 0, 0, 0],\n",
      "         [0, 0, 1,  ..., 0, 0, 0],\n",
      "         ...,\n",
      "         [0, 0, 1,  ..., 0, 0, 0],\n",
      "         [0, 0, 1,  ..., 0, 0, 0],\n",
      "         [0, 0, 1,  ..., 0, 0, 0]],\n",
      "\n",
      "        [[0, 0, 1,  ..., 0, 0, 0],\n",
      "         [0, 0, 0,  ..., 0, 0, 0],\n",
      "         [0, 0, 1,  ..., 0, 0, 0],\n",
      "         ...,\n",
      "         [0, 0, 0,  ..., 0, 0, 0],\n",
      "         [0, 0, 0,  ..., 0, 0, 0],\n",
      "         [0, 0, 0,  ..., 0, 0, 0]]], device='cuda:0')\n",
      "INFO:allennlp.training.callbacks.console_logger:batch_input/lemma_char/lemma_char/token_characters (Shape: 4 x 28 x 12)\n",
      "tensor([[[ 5,  2, 21,  ...,  0,  0,  0],\n",
      "         [18,  0,  0,  ...,  0,  0,  0],\n",
      "         [ 2,  8, 16,  ...,  0,  0,  0],\n",
      "         ...,\n",
      "         [ 0,  0,  0,  ...,  0,  0,  0],\n",
      "         [ 0,  0,  0,  ...,  0,  0,  0],\n",
      "         [ 0,  0,  0,  ...,  0,  0,  0]],\n",
      "\n",
      "        [[ 6, 24,  0,  ...,  0,  0,  0],\n",
      "         [11,  4, 13,  ...,  0,  0,  0],\n",
      "         [15,  2, 13,  ...,  0,  0,  0],\n",
      "         ...,\n",
      "         [ 0,  0,  0,  ...,  0,  0,  0],\n",
      "         [ 0,  0,  0,  ...,  0,  0,  0],\n",
      "         [ 0,  0,  0,  ...,  0,  0,  0]],\n",
      "\n",
      "        [[12,  2, 11,  ...,  0,  0,  0],\n",
      "         [14,  4, 12,  ...,  0,  0,  0],\n",
      "         [ 9,  6,  9,  ...,  0,  0,  0],\n",
      "         ...,\n",
      "         [12, 24, 10,  ...,  2,  5, 16],\n",
      "         [ 3,  9, 19,  ...,  0,  0,  0],\n",
      "         [23,  0,  0,  ...,  0,  0,  0]],\n",
      "\n",
      "        [[ 9,  3, 24,  ...,  0,  0,  0],\n",
      "         [11,  2,  9,  ...,  0,  0,  0],\n",
      "         [24,  3, 12,  ...,  0,  0,  0],\n",
      "         ...,\n",
      "         [ 0,  0,  0,  ...,  0,  0,  0],\n",
      "         [ 0,  0,  0,  ...,  0,  0,  0],\n",
      "         [ 0,  0,  0,  ...,  0,  0,  0]]], device='cuda:0')\n",
      "INFO:allennlp.training.callbacks.console_logger:batch_input/lemma/lemma/tokens (Shape: 4 x 28)\n",
      "tensor([[2788,    2,   62,  ...,    0,    0,    0],\n",
      "        [5730,  692,  597,  ...,    0,    0,    0],\n",
      "        [  39,  320,    8,  ..., 1799, 1920,    3],\n",
      "        [ 804, 2689,   11,  ...,    0,    0,    0]], device='cuda:0')\n",
      "INFO:allennlp.training.callbacks.console_logger:batch_input/label (Shape: 4)\n",
      "tensor([1, 0, 0, 1], device='cuda:0')\n",
      "INFO:allennlp.training.callbacks.console_logger:Field : \"batch_input/metadata\" : (Length 4 of type \"<class 'dict'>\")\n",
      "INFO:allennlp.training.gradient_descent_trainer:Validating\n"
     ]
    },
    {
     "data": {
      "application/vnd.jupyter.widget-view+json": {
       "model_id": "c360d65dc0dd4d4da2acd0c1604fdb7e",
       "version_major": 2,
       "version_minor": 0
      },
      "text/plain": [
       "  0%|          | 0/170 [00:00<?, ?it/s]"
      ]
     },
     "metadata": {},
     "output_type": "display_data"
    },
    {
     "name": "stderr",
     "output_type": "stream",
     "text": [
      "INFO:allennlp.training.callbacks.console_logger:Batch inputs\n",
      "INFO:allennlp.training.callbacks.console_logger:batch_input/[msd] (Shape: 4 x 33 x 51)\n",
      "tensor([[[0, 0, 1,  ..., 0, 0, 0],\n",
      "         [0, 0, 1,  ..., 0, 0, 0],\n",
      "         [0, 0, 1,  ..., 0, 0, 0],\n",
      "         ...,\n",
      "         [0, 0, 1,  ..., 0, 0, 0],\n",
      "         [0, 0, 0,  ..., 0, 0, 0],\n",
      "         [0, 0, 0,  ..., 0, 0, 0]],\n",
      "\n",
      "        [[0, 0, 1,  ..., 0, 0, 0],\n",
      "         [0, 0, 1,  ..., 0, 0, 0],\n",
      "         [0, 0, 1,  ..., 0, 0, 0],\n",
      "         ...,\n",
      "         [0, 0, 0,  ..., 0, 0, 0],\n",
      "         [0, 0, 0,  ..., 0, 0, 0],\n",
      "         [0, 0, 0,  ..., 0, 0, 0]],\n",
      "\n",
      "        [[0, 0, 1,  ..., 0, 0, 0],\n",
      "         [0, 0, 1,  ..., 0, 0, 0],\n",
      "         [0, 0, 1,  ..., 0, 0, 0],\n",
      "         ...,\n",
      "         [0, 0, 0,  ..., 0, 0, 0],\n",
      "         [0, 0, 0,  ..., 0, 0, 0],\n",
      "         [0, 0, 0,  ..., 0, 0, 0]],\n",
      "\n",
      "        [[0, 0, 1,  ..., 0, 0, 0],\n",
      "         [0, 0, 1,  ..., 0, 0, 0],\n",
      "         [0, 0, 1,  ..., 0, 0, 0],\n",
      "         ...,\n",
      "         [0, 0, 1,  ..., 0, 0, 0],\n",
      "         [0, 0, 1,  ..., 0, 0, 0],\n",
      "         [0, 0, 1,  ..., 0, 0, 0]]], device='cuda:0')\n",
      "INFO:allennlp.training.callbacks.console_logger:batch_input/lemma_char/lemma_char/token_characters (Shape: 4 x 33 x 12)\n",
      "tensor([[[12,  2, 11,  ...,  0,  0,  0],\n",
      "         [ 3, 20,  3,  ...,  0,  0,  0],\n",
      "         [ 4,  8, 17,  ...,  0,  0,  0],\n",
      "         ...,\n",
      "         [23,  0,  0,  ...,  0,  0,  0],\n",
      "         [ 0,  0,  0,  ...,  0,  0,  0],\n",
      "         [ 0,  0,  0,  ...,  0,  0,  0]],\n",
      "\n",
      "        [[ 5,  3,  9,  ...,  0,  0,  0],\n",
      "         [ 4,  9,  3,  ...,  0,  0,  0],\n",
      "         [20,  7, 13,  ...,  0,  0,  0],\n",
      "         ...,\n",
      "         [ 0,  0,  0,  ...,  0,  0,  0],\n",
      "         [ 0,  0,  0,  ...,  0,  0,  0],\n",
      "         [ 0,  0,  0,  ...,  0,  0,  0]],\n",
      "\n",
      "        [[12,  2, 11,  ...,  0,  0,  0],\n",
      "         [14,  7, 13,  ...,  0,  0,  0],\n",
      "         [18,  0,  0,  ...,  0,  0,  0],\n",
      "         ...,\n",
      "         [ 0,  0,  0,  ...,  0,  0,  0],\n",
      "         [ 0,  0,  0,  ...,  0,  0,  0],\n",
      "         [ 0,  0,  0,  ...,  0,  0,  0]],\n",
      "\n",
      "        [[ 2,  3, 15,  ...,  0,  0,  0],\n",
      "         [ 4, 20,  6,  ...,  0,  0,  0],\n",
      "         [ 8,  2,  0,  ...,  0,  0,  0],\n",
      "         ...,\n",
      "         [18,  0,  0,  ...,  0,  0,  0],\n",
      "         [14,  2, 15,  ...,  0,  0,  0],\n",
      "         [23,  0,  0,  ...,  0,  0,  0]]], device='cuda:0')\n",
      "INFO:allennlp.training.callbacks.console_logger:batch_input/lemma/lemma/tokens (Shape: 4 x 33)\n",
      "tensor([[ 22, 237,   4,  ...,   3,   0,   0],\n",
      "        [439,  43,   1,  ...,   0,   0,   0],\n",
      "        [ 39,   1,   2,  ...,   0,   0,   0],\n",
      "        [ 41,  18,  16,  ...,   2, 630,   3]], device='cuda:0')\n",
      "INFO:allennlp.training.callbacks.console_logger:batch_input/label (Shape: 4)\n",
      "tensor([0, 0, 0, 0], device='cuda:0')\n",
      "INFO:allennlp.training.callbacks.console_logger:Field : \"batch_input/metadata\" : (Length 4 of type \"<class 'dict'>\")\n",
      "INFO:allennlp.training.callbacks.console_logger:                       Training |  Validation\n",
      "INFO:allennlp.training.callbacks.console_logger:accuracy           |     0.795  |     0.875\n",
      "INFO:allennlp.training.callbacks.console_logger:fscore             |     0.761  |     0.864\n",
      "INFO:allennlp.training.callbacks.console_logger:fscore-negative    |     0.851  |     0.898\n",
      "INFO:allennlp.training.callbacks.console_logger:fscore-positive    |     0.672  |     0.830\n",
      "INFO:allennlp.training.callbacks.console_logger:gpu_0_memory_MB    |   143.944  |       N/A\n",
      "INFO:allennlp.training.callbacks.console_logger:loss               |     0.430  |     0.276\n",
      "INFO:allennlp.training.callbacks.console_logger:precision          |     0.805  |     0.867\n",
      "INFO:allennlp.training.callbacks.console_logger:precision-negative |     0.784  |     0.899\n",
      "INFO:allennlp.training.callbacks.console_logger:precision-positive |     0.827  |     0.835\n",
      "INFO:allennlp.training.callbacks.console_logger:recall             |     0.748  |     0.861\n",
      "INFO:allennlp.training.callbacks.console_logger:recall-negative    |     0.930  |     0.897\n",
      "INFO:allennlp.training.callbacks.console_logger:recall-positive    |     0.566  |     0.825\n",
      "INFO:allennlp.training.callbacks.console_logger:worker_0_memory_MB |  3592.016  |       N/A\n",
      "INFO:allennlp.training.gradient_descent_trainer:Epoch duration: 0:00:19.049662\n",
      "INFO:allennlp.training.gradient_descent_trainer:Estimated training time remaining: 0:06:01\n",
      "INFO:allennlp.training.gradient_descent_trainer:Epoch 1/19\n",
      "INFO:allennlp.training.gradient_descent_trainer:Worker 0 memory usage: 3.5G\n",
      "INFO:allennlp.training.gradient_descent_trainer:GPU 0 memory usage: 144M\n",
      "INFO:allennlp.training.gradient_descent_trainer:Training\n"
     ]
    },
    {
     "data": {
      "application/vnd.jupyter.widget-view+json": {
       "model_id": "80d45930085c4a67a0da6d19ffa3a0fe",
       "version_major": 2,
       "version_minor": 0
      },
      "text/plain": [
       "  0%|          | 0/1357 [00:00<?, ?it/s]"
      ]
     },
     "metadata": {},
     "output_type": "display_data"
    },
    {
     "name": "stderr",
     "output_type": "stream",
     "text": [
      "INFO:allennlp.training.gradient_descent_trainer:Validating\n"
     ]
    },
    {
     "data": {
      "application/vnd.jupyter.widget-view+json": {
       "model_id": "4f94593333f54193944f04563e669c9f",
       "version_major": 2,
       "version_minor": 0
      },
      "text/plain": [
       "  0%|          | 0/170 [00:00<?, ?it/s]"
      ]
     },
     "metadata": {},
     "output_type": "display_data"
    },
    {
     "name": "stderr",
     "output_type": "stream",
     "text": [
      "INFO:allennlp.training.callbacks.console_logger:                       Training |  Validation\n",
      "INFO:allennlp.training.callbacks.console_logger:accuracy           |     0.940  |     0.891\n",
      "INFO:allennlp.training.callbacks.console_logger:fscore             |     0.935  |     0.881\n",
      "INFO:allennlp.training.callbacks.console_logger:fscore-negative    |     0.952  |     0.910\n",
      "INFO:allennlp.training.callbacks.console_logger:fscore-positive    |     0.919  |     0.851\n",
      "INFO:allennlp.training.callbacks.console_logger:gpu_0_memory_MB    |   143.944  |       N/A\n",
      "INFO:allennlp.training.callbacks.console_logger:loss               |     0.164  |     0.260\n",
      "INFO:allennlp.training.callbacks.console_logger:precision          |     0.936  |     0.885\n",
      "INFO:allennlp.training.callbacks.console_logger:precision-negative |     0.951  |     0.905\n",
      "INFO:allennlp.training.callbacks.console_logger:precision-positive |     0.921  |     0.865\n",
      "INFO:allennlp.training.callbacks.console_logger:recall             |     0.934  |     0.876\n",
      "INFO:allennlp.training.callbacks.console_logger:recall-negative    |     0.952  |     0.916\n",
      "INFO:allennlp.training.callbacks.console_logger:recall-positive    |     0.916  |     0.837\n",
      "INFO:allennlp.training.callbacks.console_logger:worker_0_memory_MB |  3592.895  |       N/A\n",
      "INFO:allennlp.training.gradient_descent_trainer:Epoch duration: 0:00:19.118034\n",
      "INFO:allennlp.training.gradient_descent_trainer:Estimated training time remaining: 0:05:42\n",
      "INFO:allennlp.training.gradient_descent_trainer:Epoch 2/19\n",
      "INFO:allennlp.training.gradient_descent_trainer:Worker 0 memory usage: 3.5G\n",
      "INFO:allennlp.training.gradient_descent_trainer:GPU 0 memory usage: 144M\n",
      "INFO:allennlp.training.gradient_descent_trainer:Training\n"
     ]
    },
    {
     "data": {
      "application/vnd.jupyter.widget-view+json": {
       "model_id": "bc14db414be54421b391a0a40868e55d",
       "version_major": 2,
       "version_minor": 0
      },
      "text/plain": [
       "  0%|          | 0/1357 [00:00<?, ?it/s]"
      ]
     },
     "metadata": {},
     "output_type": "display_data"
    },
    {
     "name": "stderr",
     "output_type": "stream",
     "text": [
      "INFO:allennlp.training.gradient_descent_trainer:Validating\n"
     ]
    },
    {
     "data": {
      "application/vnd.jupyter.widget-view+json": {
       "model_id": "364829e613f94e02aa6e33688402276b",
       "version_major": 2,
       "version_minor": 0
      },
      "text/plain": [
       "  0%|          | 0/170 [00:00<?, ?it/s]"
      ]
     },
     "metadata": {},
     "output_type": "display_data"
    },
    {
     "name": "stderr",
     "output_type": "stream",
     "text": [
      "INFO:allennlp.training.callbacks.console_logger:                       Training |  Validation\n",
      "INFO:allennlp.training.callbacks.console_logger:accuracy           |     0.978  |     0.894\n",
      "INFO:allennlp.training.callbacks.console_logger:fscore             |     0.977  |     0.886\n",
      "INFO:allennlp.training.callbacks.console_logger:fscore-negative    |     0.982  |     0.912\n",
      "INFO:allennlp.training.callbacks.console_logger:fscore-positive    |     0.971  |     0.859\n",
      "INFO:allennlp.training.callbacks.console_logger:gpu_0_memory_MB    |   143.944  |       N/A\n",
      "INFO:allennlp.training.callbacks.console_logger:loss               |     0.073  |     0.288\n",
      "INFO:allennlp.training.callbacks.console_logger:precision          |     0.977  |     0.885\n",
      "INFO:allennlp.training.callbacks.console_logger:precision-negative |     0.983  |     0.923\n",
      "INFO:allennlp.training.callbacks.console_logger:precision-positive |     0.970  |     0.846\n",
      "INFO:allennlp.training.callbacks.console_logger:recall             |     0.976  |     0.887\n",
      "INFO:allennlp.training.callbacks.console_logger:recall-negative    |     0.981  |     0.902\n",
      "INFO:allennlp.training.callbacks.console_logger:recall-positive    |     0.972  |     0.873\n",
      "INFO:allennlp.training.callbacks.console_logger:worker_0_memory_MB |  3593.145  |       N/A\n",
      "INFO:allennlp.training.gradient_descent_trainer:Epoch duration: 0:00:18.802693\n",
      "INFO:allennlp.training.gradient_descent_trainer:Estimated training time remaining: 0:05:22\n",
      "INFO:allennlp.training.gradient_descent_trainer:Epoch 3/19\n",
      "INFO:allennlp.training.gradient_descent_trainer:Worker 0 memory usage: 3.5G\n",
      "INFO:allennlp.training.gradient_descent_trainer:GPU 0 memory usage: 144M\n",
      "INFO:allennlp.training.gradient_descent_trainer:Training\n"
     ]
    },
    {
     "data": {
      "application/vnd.jupyter.widget-view+json": {
       "model_id": "6a8339203a1f44e28c3e2de50b4f9993",
       "version_major": 2,
       "version_minor": 0
      },
      "text/plain": [
       "  0%|          | 0/1357 [00:00<?, ?it/s]"
      ]
     },
     "metadata": {},
     "output_type": "display_data"
    },
    {
     "name": "stderr",
     "output_type": "stream",
     "text": [
      "INFO:allennlp.training.gradient_descent_trainer:Validating\n"
     ]
    },
    {
     "data": {
      "application/vnd.jupyter.widget-view+json": {
       "model_id": "59dabe15e316463ba36fc711477ffc3b",
       "version_major": 2,
       "version_minor": 0
      },
      "text/plain": [
       "  0%|          | 0/170 [00:00<?, ?it/s]"
      ]
     },
     "metadata": {},
     "output_type": "display_data"
    },
    {
     "name": "stderr",
     "output_type": "stream",
     "text": [
      "INFO:allennlp.training.callbacks.console_logger:                       Training |  Validation\n",
      "INFO:allennlp.training.callbacks.console_logger:accuracy           |     0.990  |     0.876\n",
      "INFO:allennlp.training.callbacks.console_logger:fscore             |     0.988  |     0.863\n",
      "INFO:allennlp.training.callbacks.console_logger:fscore-negative    |     0.990  |     0.906\n",
      "INFO:allennlp.training.callbacks.console_logger:fscore-positive    |     0.986  |     0.819\n",
      "INFO:allennlp.training.callbacks.console_logger:gpu_0_memory_MB    |   143.944  |       N/A\n",
      "INFO:allennlp.training.callbacks.console_logger:loss               |     0.032  |     0.468\n",
      "INFO:allennlp.training.callbacks.console_logger:precision          |     0.989  |     0.882\n",
      "INFO:allennlp.training.callbacks.console_logger:precision-negative |     0.992  |     0.867\n",
      "INFO:allennlp.training.callbacks.console_logger:precision-positive |     0.986  |     0.896\n",
      "INFO:allennlp.training.callbacks.console_logger:recall             |     0.987  |     0.851\n",
      "INFO:allennlp.training.callbacks.console_logger:recall-negative    |     0.988  |     0.948\n",
      "INFO:allennlp.training.callbacks.console_logger:recall-positive    |     0.986  |     0.754\n",
      "INFO:allennlp.training.callbacks.console_logger:worker_0_memory_MB |  3593.391  |       N/A\n",
      "INFO:allennlp.training.gradient_descent_trainer:Epoch duration: 0:00:18.844623\n",
      "INFO:allennlp.training.gradient_descent_trainer:Estimated training time remaining: 0:05:03\n",
      "INFO:allennlp.training.gradient_descent_trainer:Epoch 4/19\n",
      "INFO:allennlp.training.gradient_descent_trainer:Worker 0 memory usage: 3.5G\n",
      "INFO:allennlp.training.gradient_descent_trainer:GPU 0 memory usage: 144M\n",
      "INFO:allennlp.training.gradient_descent_trainer:Training\n"
     ]
    },
    {
     "data": {
      "application/vnd.jupyter.widget-view+json": {
       "model_id": "38af7e2f72084bc1a83c7099acced73d",
       "version_major": 2,
       "version_minor": 0
      },
      "text/plain": [
       "  0%|          | 0/1357 [00:00<?, ?it/s]"
      ]
     },
     "metadata": {},
     "output_type": "display_data"
    },
    {
     "name": "stderr",
     "output_type": "stream",
     "text": [
      "INFO:allennlp.training.gradient_descent_trainer:Validating\n"
     ]
    },
    {
     "data": {
      "application/vnd.jupyter.widget-view+json": {
       "model_id": "6089e819d1f0491fb5bc036670a9a871",
       "version_major": 2,
       "version_minor": 0
      },
      "text/plain": [
       "  0%|          | 0/170 [00:00<?, ?it/s]"
      ]
     },
     "metadata": {},
     "output_type": "display_data"
    },
    {
     "name": "stderr",
     "output_type": "stream",
     "text": [
      "INFO:allennlp.training.callbacks.console_logger:                       Training |  Validation\n",
      "INFO:allennlp.training.callbacks.console_logger:accuracy           |     0.996  |     0.870\n",
      "INFO:allennlp.training.callbacks.console_logger:fscore             |     0.995  |     0.860\n",
      "INFO:allennlp.training.callbacks.console_logger:fscore-negative    |     0.996  |     0.892\n",
      "INFO:allennlp.training.callbacks.console_logger:fscore-positive    |     0.995  |     0.829\n",
      "INFO:allennlp.training.callbacks.console_logger:gpu_0_memory_MB    |   143.944  |       N/A\n",
      "INFO:allennlp.training.callbacks.console_logger:loss               |     0.016  |     0.505\n",
      "INFO:allennlp.training.callbacks.console_logger:precision          |     0.996  |     0.859\n",
      "INFO:allennlp.training.callbacks.console_logger:precision-negative |     0.997  |     0.906\n",
      "INFO:allennlp.training.callbacks.console_logger:precision-positive |     0.996  |     0.813\n",
      "INFO:allennlp.training.callbacks.console_logger:recall             |     0.994  |     0.862\n",
      "INFO:allennlp.training.callbacks.console_logger:recall-negative    |     0.994  |     0.878\n",
      "INFO:allennlp.training.callbacks.console_logger:recall-positive    |     0.994  |     0.845\n",
      "INFO:allennlp.training.callbacks.console_logger:worker_0_memory_MB |  3593.641  |       N/A\n",
      "INFO:allennlp.training.gradient_descent_trainer:Epoch duration: 0:00:18.748928\n",
      "INFO:allennlp.training.gradient_descent_trainer:Estimated training time remaining: 0:04:43\n",
      "INFO:allennlp.training.gradient_descent_trainer:Epoch 5/19\n",
      "INFO:allennlp.training.gradient_descent_trainer:Worker 0 memory usage: 3.5G\n",
      "INFO:allennlp.training.gradient_descent_trainer:GPU 0 memory usage: 144M\n",
      "INFO:allennlp.training.gradient_descent_trainer:Training\n"
     ]
    },
    {
     "data": {
      "application/vnd.jupyter.widget-view+json": {
       "model_id": "d65c778b42994660810302391e40eea7",
       "version_major": 2,
       "version_minor": 0
      },
      "text/plain": [
       "  0%|          | 0/1357 [00:00<?, ?it/s]"
      ]
     },
     "metadata": {},
     "output_type": "display_data"
    },
    {
     "name": "stderr",
     "output_type": "stream",
     "text": [
      "INFO:allennlp.training.gradient_descent_trainer:Validating\n"
     ]
    },
    {
     "data": {
      "application/vnd.jupyter.widget-view+json": {
       "model_id": "d2514ae634264ea2bf0170a194dcc19c",
       "version_major": 2,
       "version_minor": 0
      },
      "text/plain": [
       "  0%|          | 0/170 [00:00<?, ?it/s]"
      ]
     },
     "metadata": {},
     "output_type": "display_data"
    },
    {
     "name": "stderr",
     "output_type": "stream",
     "text": [
      "INFO:allennlp.training.callbacks.console_logger:                       Training |  Validation\n",
      "INFO:allennlp.training.callbacks.console_logger:accuracy           |     0.996  |     0.878\n",
      "INFO:allennlp.training.callbacks.console_logger:fscore             |     0.994  |     0.867\n",
      "INFO:allennlp.training.callbacks.console_logger:fscore-negative    |     0.995  |     0.902\n",
      "INFO:allennlp.training.callbacks.console_logger:fscore-positive    |     0.993  |     0.832\n",
      "INFO:allennlp.training.callbacks.console_logger:gpu_0_memory_MB    |   143.944  |       N/A\n",
      "INFO:allennlp.training.callbacks.console_logger:loss               |     0.015  |     0.487\n",
      "INFO:allennlp.training.callbacks.console_logger:precision          |     0.995  |     0.871\n",
      "INFO:allennlp.training.callbacks.console_logger:precision-negative |     0.997  |     0.892\n",
      "INFO:allennlp.training.callbacks.console_logger:precision-positive |     0.994  |     0.851\n",
      "INFO:allennlp.training.callbacks.console_logger:recall             |     0.993  |     0.862\n",
      "INFO:allennlp.training.callbacks.console_logger:recall-negative    |     0.994  |     0.911\n",
      "INFO:allennlp.training.callbacks.console_logger:recall-positive    |     0.992  |     0.813\n",
      "INFO:allennlp.training.callbacks.console_logger:worker_0_memory_MB |  3593.891  |       N/A\n",
      "INFO:allennlp.training.gradient_descent_trainer:Epoch duration: 0:00:18.805605\n",
      "INFO:allennlp.training.gradient_descent_trainer:Estimated training time remaining: 0:04:24\n",
      "INFO:allennlp.training.gradient_descent_trainer:Epoch 6/19\n",
      "INFO:allennlp.training.gradient_descent_trainer:Worker 0 memory usage: 3.5G\n",
      "INFO:allennlp.training.gradient_descent_trainer:GPU 0 memory usage: 144M\n",
      "INFO:allennlp.training.gradient_descent_trainer:Training\n"
     ]
    },
    {
     "data": {
      "application/vnd.jupyter.widget-view+json": {
       "model_id": "0bd4da21d25947d1a21252ed3fc94dc5",
       "version_major": 2,
       "version_minor": 0
      },
      "text/plain": [
       "  0%|          | 0/1357 [00:00<?, ?it/s]"
      ]
     },
     "metadata": {},
     "output_type": "display_data"
    },
    {
     "name": "stderr",
     "output_type": "stream",
     "text": [
      "INFO:allennlp.training.gradient_descent_trainer:Validating\n"
     ]
    },
    {
     "data": {
      "application/vnd.jupyter.widget-view+json": {
       "model_id": "a755bc8de7544c2b8cd0cf4a44e715e3",
       "version_major": 2,
       "version_minor": 0
      },
      "text/plain": [
       "  0%|          | 0/170 [00:00<?, ?it/s]"
      ]
     },
     "metadata": {},
     "output_type": "display_data"
    },
    {
     "name": "stderr",
     "output_type": "stream",
     "text": [
      "INFO:allennlp.training.callbacks.console_logger:                       Training |  Validation\n",
      "INFO:allennlp.training.callbacks.console_logger:accuracy           |     0.997  |     0.881\n",
      "INFO:allennlp.training.callbacks.console_logger:fscore             |     0.996  |     0.873\n",
      "INFO:allennlp.training.callbacks.console_logger:fscore-negative    |     0.996  |     0.900\n",
      "INFO:allennlp.training.callbacks.console_logger:fscore-positive    |     0.996  |     0.847\n",
      "INFO:allennlp.training.callbacks.console_logger:gpu_0_memory_MB    |   143.944  |       N/A\n",
      "INFO:allennlp.training.callbacks.console_logger:loss               |     0.009  |     0.499\n",
      "INFO:allennlp.training.callbacks.console_logger:precision          |     0.997  |     0.869\n",
      "INFO:allennlp.training.callbacks.console_logger:precision-negative |     0.997  |     0.930\n",
      "INFO:allennlp.training.callbacks.console_logger:precision-positive |     0.997  |     0.809\n",
      "INFO:allennlp.training.callbacks.console_logger:recall             |     0.994  |     0.880\n",
      "INFO:allennlp.training.callbacks.console_logger:recall-negative    |     0.994  |     0.871\n",
      "INFO:allennlp.training.callbacks.console_logger:recall-positive    |     0.995  |     0.889\n",
      "INFO:allennlp.training.callbacks.console_logger:worker_0_memory_MB |  3593.891  |       N/A\n",
      "INFO:allennlp.training.gradient_descent_trainer:Epoch duration: 0:00:18.879280\n",
      "INFO:allennlp.training.gradient_descent_trainer:Estimated training time remaining: 0:04:05\n",
      "INFO:allennlp.training.gradient_descent_trainer:Epoch 7/19\n",
      "INFO:allennlp.training.gradient_descent_trainer:Worker 0 memory usage: 3.5G\n",
      "INFO:allennlp.training.gradient_descent_trainer:GPU 0 memory usage: 144M\n",
      "INFO:allennlp.training.gradient_descent_trainer:Training\n"
     ]
    },
    {
     "data": {
      "application/vnd.jupyter.widget-view+json": {
       "model_id": "5cea68087c594b5d9cc3b82ab3c00143",
       "version_major": 2,
       "version_minor": 0
      },
      "text/plain": [
       "  0%|          | 0/1357 [00:00<?, ?it/s]"
      ]
     },
     "metadata": {},
     "output_type": "display_data"
    },
    {
     "name": "stderr",
     "output_type": "stream",
     "text": [
      "INFO:allennlp.training.gradient_descent_trainer:Validating\n"
     ]
    },
    {
     "data": {
      "application/vnd.jupyter.widget-view+json": {
       "model_id": "0b2f84d37e6a44efb60a33c41f40863d",
       "version_major": 2,
       "version_minor": 0
      },
      "text/plain": [
       "  0%|          | 0/170 [00:00<?, ?it/s]"
      ]
     },
     "metadata": {},
     "output_type": "display_data"
    },
    {
     "name": "stderr",
     "output_type": "stream",
     "text": [
      "INFO:allennlp.training.callbacks.console_logger:                       Training |  Validation\n",
      "INFO:allennlp.training.callbacks.console_logger:accuracy           |     0.996  |     0.884\n",
      "INFO:allennlp.training.callbacks.console_logger:fscore             |     0.995  |     0.872\n",
      "INFO:allennlp.training.callbacks.console_logger:fscore-negative    |     0.995  |     0.896\n",
      "INFO:allennlp.training.callbacks.console_logger:fscore-positive    |     0.995  |     0.848\n",
      "INFO:allennlp.training.callbacks.console_logger:gpu_0_memory_MB    |   143.944  |       N/A\n",
      "INFO:allennlp.training.callbacks.console_logger:loss               |     0.016  |     0.387\n",
      "INFO:allennlp.training.callbacks.console_logger:precision          |     0.996  |     0.872\n",
      "INFO:allennlp.training.callbacks.console_logger:precision-negative |     0.997  |     0.923\n",
      "INFO:allennlp.training.callbacks.console_logger:precision-positive |     0.995  |     0.822\n",
      "INFO:allennlp.training.callbacks.console_logger:recall             |     0.993  |     0.874\n",
      "INFO:allennlp.training.callbacks.console_logger:recall-negative    |     0.993  |     0.871\n",
      "INFO:allennlp.training.callbacks.console_logger:recall-positive    |     0.994  |     0.877\n",
      "INFO:allennlp.training.callbacks.console_logger:worker_0_memory_MB |  3594.141  |       N/A\n",
      "INFO:allennlp.training.gradient_descent_trainer:Epoch duration: 0:00:18.770434\n",
      "INFO:allennlp.training.gradient_descent_trainer:Estimated training time remaining: 0:03:46\n",
      "INFO:allennlp.training.gradient_descent_trainer:Epoch 8/19\n",
      "INFO:allennlp.training.gradient_descent_trainer:Worker 0 memory usage: 3.5G\n",
      "INFO:allennlp.training.gradient_descent_trainer:GPU 0 memory usage: 144M\n",
      "INFO:allennlp.training.gradient_descent_trainer:Training\n"
     ]
    },
    {
     "data": {
      "application/vnd.jupyter.widget-view+json": {
       "model_id": "7e764fc7a11548918c3d007b89e1f488",
       "version_major": 2,
       "version_minor": 0
      },
      "text/plain": [
       "  0%|          | 0/1357 [00:00<?, ?it/s]"
      ]
     },
     "metadata": {},
     "output_type": "display_data"
    },
    {
     "name": "stderr",
     "output_type": "stream",
     "text": [
      "INFO:allennlp.training.gradient_descent_trainer:Validating\n"
     ]
    },
    {
     "data": {
      "application/vnd.jupyter.widget-view+json": {
       "model_id": "cbea873a51814ff68c405146eba6ca12",
       "version_major": 2,
       "version_minor": 0
      },
      "text/plain": [
       "  0%|          | 0/170 [00:00<?, ?it/s]"
      ]
     },
     "metadata": {},
     "output_type": "display_data"
    },
    {
     "name": "stderr",
     "output_type": "stream",
     "text": [
      "INFO:allennlp.training.callbacks.console_logger:                       Training |  Validation\n",
      "INFO:allennlp.training.callbacks.console_logger:accuracy           |     0.997  |     0.879\n",
      "INFO:allennlp.training.callbacks.console_logger:fscore             |     0.996  |     0.870\n",
      "INFO:allennlp.training.callbacks.console_logger:fscore-negative    |     0.996  |     0.901\n",
      "INFO:allennlp.training.callbacks.console_logger:fscore-positive    |     0.996  |     0.838\n",
      "INFO:allennlp.training.callbacks.console_logger:gpu_0_memory_MB    |   143.944  |       N/A\n",
      "INFO:allennlp.training.callbacks.console_logger:loss               |     0.009  |     0.553\n",
      "INFO:allennlp.training.callbacks.console_logger:precision          |     0.997  |     0.870\n",
      "INFO:allennlp.training.callbacks.console_logger:precision-negative |     0.998  |     0.905\n",
      "INFO:allennlp.training.callbacks.console_logger:precision-positive |     0.996  |     0.835\n",
      "INFO:allennlp.training.callbacks.console_logger:recall             |     0.995  |     0.869\n",
      "INFO:allennlp.training.callbacks.console_logger:recall-negative    |     0.994  |     0.897\n",
      "INFO:allennlp.training.callbacks.console_logger:recall-positive    |     0.996  |     0.841\n",
      "INFO:allennlp.training.callbacks.console_logger:worker_0_memory_MB |  3594.141  |       N/A\n",
      "INFO:allennlp.training.gradient_descent_trainer:Epoch duration: 0:00:18.839078\n",
      "INFO:allennlp.training.gradient_descent_trainer:Estimated training time remaining: 0:03:27\n",
      "INFO:allennlp.training.gradient_descent_trainer:Epoch 9/19\n",
      "INFO:allennlp.training.gradient_descent_trainer:Worker 0 memory usage: 3.5G\n",
      "INFO:allennlp.training.gradient_descent_trainer:GPU 0 memory usage: 144M\n",
      "INFO:allennlp.training.gradient_descent_trainer:Training\n"
     ]
    },
    {
     "data": {
      "application/vnd.jupyter.widget-view+json": {
       "model_id": "0e9210a515d54b4ea1d234bac21ab541",
       "version_major": 2,
       "version_minor": 0
      },
      "text/plain": [
       "  0%|          | 0/1357 [00:00<?, ?it/s]"
      ]
     },
     "metadata": {},
     "output_type": "display_data"
    },
    {
     "name": "stderr",
     "output_type": "stream",
     "text": [
      "INFO:allennlp.training.gradient_descent_trainer:Validating\n"
     ]
    },
    {
     "data": {
      "application/vnd.jupyter.widget-view+json": {
       "model_id": "e92facf4fb2d496da922d359c1e46e1b",
       "version_major": 2,
       "version_minor": 0
      },
      "text/plain": [
       "  0%|          | 0/170 [00:00<?, ?it/s]"
      ]
     },
     "metadata": {},
     "output_type": "display_data"
    },
    {
     "name": "stderr",
     "output_type": "stream",
     "text": [
      "INFO:allennlp.training.callbacks.console_logger:                       Training |  Validation\n",
      "INFO:allennlp.training.callbacks.console_logger:accuracy           |     0.999  |     0.866\n",
      "INFO:allennlp.training.callbacks.console_logger:fscore             |     0.998  |     0.860\n",
      "INFO:allennlp.training.callbacks.console_logger:fscore-negative    |     0.997  |     0.885\n",
      "INFO:allennlp.training.callbacks.console_logger:fscore-positive    |     0.999  |     0.834\n",
      "INFO:allennlp.training.callbacks.console_logger:gpu_0_memory_MB    |   143.944  |       N/A\n",
      "INFO:allennlp.training.callbacks.console_logger:loss               |     0.005  |     0.573\n",
      "INFO:allennlp.training.callbacks.console_logger:precision          |     0.999  |     0.855\n",
      "INFO:allennlp.training.callbacks.console_logger:precision-negative |     0.999  |     0.939\n",
      "INFO:allennlp.training.callbacks.console_logger:precision-positive |     0.999  |     0.771\n",
      "INFO:allennlp.training.callbacks.console_logger:recall             |     0.997  |     0.872\n",
      "INFO:allennlp.training.callbacks.console_logger:recall-negative    |     0.995  |     0.836\n",
      "INFO:allennlp.training.callbacks.console_logger:recall-positive    |     0.999  |     0.909\n",
      "INFO:allennlp.training.callbacks.console_logger:worker_0_memory_MB |  3594.391  |       N/A\n",
      "INFO:allennlp.training.gradient_descent_trainer:Epoch duration: 0:00:18.836294\n",
      "INFO:allennlp.training.gradient_descent_trainer:Estimated training time remaining: 0:03:08\n",
      "INFO:allennlp.training.gradient_descent_trainer:Epoch 10/19\n",
      "INFO:allennlp.training.gradient_descent_trainer:Worker 0 memory usage: 3.5G\n",
      "INFO:allennlp.training.gradient_descent_trainer:GPU 0 memory usage: 144M\n",
      "INFO:allennlp.training.gradient_descent_trainer:Training\n"
     ]
    },
    {
     "data": {
      "application/vnd.jupyter.widget-view+json": {
       "model_id": "6502381a63fb40cab539e173bcad51d0",
       "version_major": 2,
       "version_minor": 0
      },
      "text/plain": [
       "  0%|          | 0/1357 [00:00<?, ?it/s]"
      ]
     },
     "metadata": {},
     "output_type": "display_data"
    },
    {
     "name": "stderr",
     "output_type": "stream",
     "text": [
      "INFO:allennlp.training.gradient_descent_trainer:Validating\n"
     ]
    },
    {
     "data": {
      "application/vnd.jupyter.widget-view+json": {
       "model_id": "a6213b2c91744300baaad9c25579ba3b",
       "version_major": 2,
       "version_minor": 0
      },
      "text/plain": [
       "  0%|          | 0/170 [00:00<?, ?it/s]"
      ]
     },
     "metadata": {},
     "output_type": "display_data"
    },
    {
     "name": "stderr",
     "output_type": "stream",
     "text": [
      "INFO:allennlp.training.callbacks.console_logger:                       Training |  Validation\n",
      "INFO:allennlp.training.callbacks.console_logger:accuracy           |     0.999  |     0.875\n",
      "INFO:allennlp.training.callbacks.console_logger:fscore             |     0.997  |     0.863\n",
      "INFO:allennlp.training.callbacks.console_logger:fscore-negative    |     0.997  |     0.903\n",
      "INFO:allennlp.training.callbacks.console_logger:fscore-positive    |     0.998  |     0.822\n",
      "INFO:allennlp.training.callbacks.console_logger:gpu_0_memory_MB    |   143.944  |       N/A\n",
      "INFO:allennlp.training.callbacks.console_logger:loss               |     0.005  |     0.718\n",
      "INFO:allennlp.training.callbacks.console_logger:precision          |     0.998  |     0.875\n",
      "INFO:allennlp.training.callbacks.console_logger:precision-negative |     0.999  |     0.878\n",
      "INFO:allennlp.training.callbacks.console_logger:precision-positive |     0.998  |     0.871\n",
      "INFO:allennlp.training.callbacks.console_logger:recall             |     0.996  |     0.854\n",
      "INFO:allennlp.training.callbacks.console_logger:recall-negative    |     0.994  |     0.930\n",
      "INFO:allennlp.training.callbacks.console_logger:recall-positive    |     0.997  |     0.778\n",
      "INFO:allennlp.training.callbacks.console_logger:worker_0_memory_MB |  3594.641  |       N/A\n",
      "INFO:allennlp.training.gradient_descent_trainer:Epoch duration: 0:00:18.900479\n",
      "INFO:allennlp.training.gradient_descent_trainer:Estimated training time remaining: 0:02:49\n",
      "INFO:allennlp.training.gradient_descent_trainer:Epoch 11/19\n",
      "INFO:allennlp.training.gradient_descent_trainer:Worker 0 memory usage: 3.5G\n",
      "INFO:allennlp.training.gradient_descent_trainer:GPU 0 memory usage: 144M\n",
      "INFO:allennlp.training.gradient_descent_trainer:Training\n"
     ]
    },
    {
     "data": {
      "application/vnd.jupyter.widget-view+json": {
       "model_id": "53d6582262fc4a849caddbdd34aa1df2",
       "version_major": 2,
       "version_minor": 0
      },
      "text/plain": [
       "  0%|          | 0/1357 [00:00<?, ?it/s]"
      ]
     },
     "metadata": {},
     "output_type": "display_data"
    },
    {
     "name": "stderr",
     "output_type": "stream",
     "text": [
      "INFO:allennlp.training.gradient_descent_trainer:Validating\n"
     ]
    },
    {
     "data": {
      "application/vnd.jupyter.widget-view+json": {
       "model_id": "2f8b63ce18334721b61a96d98b9c233e",
       "version_major": 2,
       "version_minor": 0
      },
      "text/plain": [
       "  0%|          | 0/170 [00:00<?, ?it/s]"
      ]
     },
     "metadata": {},
     "output_type": "display_data"
    },
    {
     "name": "stderr",
     "output_type": "stream",
     "text": [
      "INFO:allennlp.training.callbacks.console_logger:                       Training |  Validation\n",
      "INFO:allennlp.training.callbacks.console_logger:accuracy           |     0.998  |     0.884\n",
      "INFO:allennlp.training.callbacks.console_logger:fscore             |     0.997  |     0.873\n",
      "INFO:allennlp.training.callbacks.console_logger:fscore-negative    |     0.996  |     0.908\n",
      "INFO:allennlp.training.callbacks.console_logger:fscore-positive    |     0.998  |     0.838\n",
      "INFO:allennlp.training.callbacks.console_logger:gpu_0_memory_MB    |   143.944  |       N/A\n",
      "INFO:allennlp.training.callbacks.console_logger:loss               |     0.006  |     0.610\n",
      "INFO:allennlp.training.callbacks.console_logger:precision          |     0.998  |     0.880\n",
      "INFO:allennlp.training.callbacks.console_logger:precision-negative |     0.999  |     0.892\n",
      "INFO:allennlp.training.callbacks.console_logger:precision-positive |     0.998  |     0.868\n",
      "INFO:allennlp.training.callbacks.console_logger:recall             |     0.995  |     0.867\n",
      "INFO:allennlp.training.callbacks.console_logger:recall-negative    |     0.993  |     0.925\n",
      "INFO:allennlp.training.callbacks.console_logger:recall-positive    |     0.998  |     0.810\n",
      "INFO:allennlp.training.callbacks.console_logger:worker_0_memory_MB |  3594.641  |       N/A\n",
      "INFO:allennlp.training.gradient_descent_trainer:Epoch duration: 0:00:18.954688\n",
      "INFO:allennlp.training.gradient_descent_trainer:Ran out of patience. Stopping training.\n",
      "INFO:root:Finished training\n",
      "INFO:allennlp.training.util:Iterating over dataset\n"
     ]
    },
    {
     "name": "stdout",
     "output_type": "stream",
     "text": [
      "FeatureEmbeddingClassifier(\n",
      "  (_loss): CrossEntropyLoss()\n",
      "  (mixed_encoder): MixedEmbeddingEncoder(\n",
      "    (_emb_dropout): Dropout(p=0.3, inplace=False)\n",
      "    (features_embedder): FeatureAndTextEmbedder(\n",
      "      (text_embedder): BasicTextFieldEmbedder(\n",
      "        (token_embedder_lemma): Embedding()\n",
      "        (token_embedder_lemma_char): TokenCharactersEncoder(\n",
      "          (_embedding): TimeDistributed(\n",
      "            (_module): Embedding()\n",
      "          )\n",
      "          (_encoder): TimeDistributed(\n",
      "            (_module): LstmSeq2VecEncoder(\n",
      "              (_module): LSTM(100, 150, num_layers=2, batch_first=True, dropout=0.3, bidirectional=True)\n",
      "            )\n",
      "          )\n",
      "          (_dropout): Dropout(p=0.3, inplace=False)\n",
      "        )\n",
      "      )\n",
      "      (feature_embedder): Linear(in_features=51, out_features=20, bias=True)\n",
      "    )\n",
      "    (features_encoder): HierarchicalAttentionalEncoder(\n",
      "      (gru): GRU(520, 64, batch_first=True, dropout=0.3, bidirectional=True)\n",
      "      (dense): Linear(in_features=128, out_features=128, bias=True)\n",
      "      (dropout): Dropout(p=0.5, inplace=False)\n",
      "    )\n",
      "  )\n",
      "  (classifier): Linear(in_features=128, out_features=2, bias=True)\n",
      ")\n",
      "Evaluating\n"
     ]
    },
    {
     "data": {
      "application/vnd.jupyter.widget-view+json": {
       "model_id": "a4f3dd034dca4469b2fc2d52cc5b0473",
       "version_major": 2,
       "version_minor": 0
      },
      "text/plain": [
       "0it [00:00, ?it/s]"
      ]
     },
     "metadata": {},
     "output_type": "display_data"
    },
    {
     "name": "stdout",
     "output_type": "stream",
     "text": [
      "Evaluating: Predicting\n",
      "({'accuracy': 0.9084194977843427, 'precision': 0.9013815522193909, 'recall': 0.9026803970336914, 'fscore': 0.9020215272903442, 'precision-negative': 0.9292452931404114, 'precision-positive': 0.8735178112983704, 'recall-negative': 0.9248826503753662, 'recall-positive': 0.8804780840873718, 'fscore-negative': 0.9270588755607605, 'fscore-positive': 0.876984179019928, 'loss': 0.2191208089756615}, <sklearn.metrics._plot.confusion_matrix.ConfusionMatrixDisplay object at 0x7f7391184a30>)\n"
     ]
    },
    {
     "name": "stderr",
     "output_type": "stream",
     "text": [
      "/home/thibault/dev/est-lascivuum-non-est/seligator/tests/evaluate.py:111: UserWarning: Matplotlib is currently using module://matplotlib_inline.backend_inline, which is a non-GUI backend, so cannot show the figure.\n",
      "  disp.figure_.show()\n"
     ]
    },
    {
     "data": {
      "image/png": "[encoded data removed]",
      "text/plain": [
       "<Figure size 432x288 with 2 Axes>"
      ]
     },
     "metadata": {
      "needs_background": "light"
     },
     "output_type": "display_data"
    }
   ],
   "source": [
    "# Run tests on Vectors Categories\n",
    "\n",
    "from seligator.simple_demo import prepare_model, train_and_get\n",
    "from seligator.tests.evaluate import *\n",
    "from seligator.models.siamese import SiameseClassifier\n",
    "model, reader, train, dev = prepare_model(\n",
    "    input_features=(\"lemma_char\", \"lemma\", \"case\", \"numb\", \"gend\", \"mood\", \"tense\", \"voice\", \"person\", \"deg\"),\n",
    "    use_han=True,\n",
    "    agglomerate_msd=True,\n",
    "    reader_kwargs={\"batch_size\": 4, \"metadata_token_as_lemma_and_token\": False},\n",
    "    model_embedding_kwargs=dict(\n",
    "        keep_all_vocab=True,\n",
    "        pretrained_embeddings={\n",
    "            # \"token\": \"~/Downloads/latin.embeddings\",\n",
    "        #    \"token\": \"~/dev/these/notebooks/4 - Detection/data/embs_models/model.token.word2vec.kv\",\n",
    "        #    \"lemma\": \"~/dev/these/notebooks/4 - Detection/data/embs_models/model.lemma.word2vec.kv.header\"\n",
    "        },\n",
    "        trainable_embeddings={\"token\": False, \"lemma\": True},\n",
    "        pretrained_emb_dims={\"token\": 200, \"lemma\": 200}\n",
    "    ),\n",
    "    #batches_per_epoch=100,\n",
    "    # model_class=SiameseClassifier,\n",
    "    use_bert_higway=True,\n",
    ")\n",
    "model = train_and_get(\n",
    "    model, train, dev,\n",
    "    patience=10,\n",
    "    num_epochs=20,\n",
    "    lr=5e-4\n",
    ")\n",
    "print(model)\n",
    "data = run_tests(\n",
    "    \"dataset/split/test.txt\",\n",
    "    dataset_reader=reader, model=model, dump=\"test.lemma-msd.csv\"\n",
    ")\n",
    "print(data)"
   ]
  },
  {
   "cell_type": "code",
   "execution_count": 7,
   "id": "342d4351",
   "metadata": {},
   "outputs": [
    {
     "name": "stderr",
     "output_type": "stream",
     "text": [
      "INFO:root:Dataset reader set with following categories: [msd], lemma_char, lemma\n",
      "/home/thibault/dev/est-lascivuum-non-est/env/lib/python3.8/site-packages/allennlp/data/token_indexers/token_characters_indexer.py:55: UserWarning: You are using the default value (0) of `min_padding_length`, which can cause some subtle bugs (more info see https://github.com/allenai/allennlp/issues/1954). Strongly recommend to set a value, usually the maximum size of the convolutional layer size when using CnnEncoder.\n",
      "  warnings.warn(\n",
      "INFO:root:Indexer set for following categories: [msd], lemma_char, lemma\n",
      "INFO:root:Reading data\n"
     ]
    },
    {
     "name": "stdout",
     "output_type": "stream",
     "text": [
      "metadata_token_as_lemma_and_token True\n"
     ]
    },
    {
     "name": "stderr",
     "output_type": "stream",
     "text": [
      "INFO:root:Building the vocabulary\n",
      "INFO:allennlp.data.vocabulary:Fitting token dictionary from dataset.\n"
     ]
    },
    {
     "data": {
      "application/vnd.jupyter.widget-view+json": {
       "model_id": "a092dddd79ce4bbf8b904b9338b19c0f",
       "version_major": 2,
       "version_minor": 0
      },
      "text/plain": [
       "building vocab:   0%|          | 0/5427 [00:00<?, ?it/s]"
      ]
     },
     "metadata": {},
     "output_type": "display_data"
    },
    {
     "name": "stderr",
     "output_type": "stream",
     "text": [
      "/home/thibault/dev/est-lascivuum-non-est/env/lib/python3.8/site-packages/torch/nn/modules/rnn.py:60: UserWarning: dropout option adds dropout after all but last recurrent layer, so non-zero dropout expects num_layers greater than 1, but got dropout=0.3 and num_layers=1\n",
      "  warnings.warn(\"dropout option adds dropout after all but last \"\n",
      "INFO:allennlp.training.optimizers:Number of trainable parameters: 3315162\n",
      "INFO:root:Num epochs: 20\n",
      "INFO:root:Starting training\n",
      "INFO:allennlp.training.gradient_descent_trainer:Beginning training.\n",
      "INFO:allennlp.training.gradient_descent_trainer:Epoch 0/19\n",
      "INFO:allennlp.training.gradient_descent_trainer:Worker 0 memory usage: 3.7G\n",
      "INFO:allennlp.training.gradient_descent_trainer:GPU 0 memory usage: 144M\n",
      "INFO:allennlp.training.gradient_descent_trainer:Training\n"
     ]
    },
    {
     "name": "stdout",
     "output_type": "stream",
     "text": [
      "---> Epochs:   20\n",
      "---> Patience: 10\n"
     ]
    },
    {
     "data": {
      "application/vnd.jupyter.widget-view+json": {
       "model_id": "cda6248edea143dc802b60584f91eeea",
       "version_major": 2,
       "version_minor": 0
      },
      "text/plain": [
       "  0%|          | 0/1357 [00:00<?, ?it/s]"
      ]
     },
     "metadata": {},
     "output_type": "display_data"
    },
    {
     "name": "stderr",
     "output_type": "stream",
     "text": [
      "/home/thibault/dev/est-lascivuum-non-est/seligator/models/classifier.py:32: UserWarning: Implicit dimension choice for softmax has been deprecated. Change the call to include dim=X as an argument.\n",
      "  probs = F.softmax(logits)\n",
      "INFO:allennlp.training.callbacks.console_logger:Batch inputs\n",
      "INFO:allennlp.training.callbacks.console_logger:batch_input/[msd] (Shape: 4 x 22 x 51)\n",
      "tensor([[[0, 0, 0,  ..., 0, 0, 0],\n",
      "         [0, 0, 0,  ..., 0, 0, 0],\n",
      "         [0, 0, 0,  ..., 0, 0, 0],\n",
      "         ...,\n",
      "         [0, 0, 0,  ..., 0, 0, 0],\n",
      "         [0, 0, 0,  ..., 0, 0, 0],\n",
      "         [0, 0, 0,  ..., 0, 0, 0]],\n",
      "\n",
      "        [[0, 0, 0,  ..., 0, 0, 0],\n",
      "         [0, 0, 0,  ..., 0, 0, 0],\n",
      "         [0, 0, 0,  ..., 0, 0, 0],\n",
      "         ...,\n",
      "         [0, 0, 1,  ..., 0, 0, 0],\n",
      "         [0, 0, 0,  ..., 0, 0, 0],\n",
      "         [0, 0, 1,  ..., 0, 0, 0]],\n",
      "\n",
      "        [[0, 0, 0,  ..., 0, 0, 0],\n",
      "         [0, 0, 0,  ..., 0, 0, 0],\n",
      "         [0, 0, 0,  ..., 0, 0, 0],\n",
      "         ...,\n",
      "         [0, 0, 0,  ..., 0, 0, 0],\n",
      "         [0, 0, 0,  ..., 0, 0, 0],\n",
      "         [0, 0, 0,  ..., 0, 0, 0]],\n",
      "\n",
      "        [[0, 0, 0,  ..., 0, 0, 0],\n",
      "         [0, 0, 0,  ..., 0, 0, 0],\n",
      "         [0, 0, 0,  ..., 0, 0, 0],\n",
      "         ...,\n",
      "         [0, 0, 0,  ..., 0, 0, 0],\n",
      "         [0, 0, 0,  ..., 0, 0, 0],\n",
      "         [0, 0, 0,  ..., 0, 0, 0]]], device='cuda:0')\n",
      "INFO:allennlp.training.callbacks.console_logger:batch_input/lemma_char/lemma_char/token_characters (Shape: 4 x 22 x 12)\n",
      "tensor([[[ 0,  0,  0,  ...,  0,  0,  0],\n",
      "         [ 0,  0,  0,  ...,  0,  0,  0],\n",
      "         [ 0,  0,  0,  ...,  0,  0,  0],\n",
      "         ...,\n",
      "         [ 0,  0,  0,  ...,  0,  0,  0],\n",
      "         [ 0,  0,  0,  ...,  0,  0,  0],\n",
      "         [ 0,  0,  0,  ...,  0,  0,  0]],\n",
      "\n",
      "        [[ 0,  0,  0,  ...,  0,  0,  0],\n",
      "         [ 0,  0,  0,  ...,  0,  0,  0],\n",
      "         [ 0,  0,  0,  ...,  0,  0,  0],\n",
      "         ...,\n",
      "         [14,  6, 10,  ...,  0,  0,  0],\n",
      "         [ 7, 11,  7,  ...,  0,  0,  0],\n",
      "         [23,  0,  0,  ...,  0,  0,  0]],\n",
      "\n",
      "        [[ 0,  0,  0,  ...,  0,  0,  0],\n",
      "         [ 0,  0,  0,  ...,  0,  0,  0],\n",
      "         [ 0,  0,  0,  ...,  0,  0,  0],\n",
      "         ...,\n",
      "         [ 0,  0,  0,  ...,  0,  0,  0],\n",
      "         [ 0,  0,  0,  ...,  0,  0,  0],\n",
      "         [ 0,  0,  0,  ...,  0,  0,  0]],\n",
      "\n",
      "        [[ 0,  0,  0,  ...,  0,  0,  0],\n",
      "         [ 0,  0,  0,  ...,  0,  0,  0],\n",
      "         [ 0,  0,  0,  ...,  0,  0,  0],\n",
      "         ...,\n",
      "         [ 0,  0,  0,  ...,  0,  0,  0],\n",
      "         [ 0,  0,  0,  ...,  0,  0,  0],\n",
      "         [ 0,  0,  0,  ...,  0,  0,  0]]], device='cuda:0')\n",
      "INFO:allennlp.training.callbacks.console_logger:batch_input/lemma/lemma/tokens (Shape: 4 x 22)\n",
      "tensor([[  16,   14,  203,  ...,    0,    0,    0],\n",
      "        [  15,    9,   13,  ..., 1401, 2072,    3],\n",
      "        [  16,   24,   13,  ...,    0,    0,    0],\n",
      "        [  16,   24,   13,  ...,    0,    0,    0]], device='cuda:0')\n",
      "INFO:allennlp.training.callbacks.console_logger:batch_input/label (Shape: 4)\n",
      "tensor([1, 0, 1, 1], device='cuda:0')\n",
      "INFO:allennlp.training.callbacks.console_logger:Field : \"batch_input/metadata\" : (Length 4 of type \"<class 'dict'>\")\n",
      "INFO:allennlp.training.gradient_descent_trainer:Validating\n"
     ]
    },
    {
     "data": {
      "application/vnd.jupyter.widget-view+json": {
       "model_id": "7dc00cecf9c04abe991640e5266ff6a3",
       "version_major": 2,
       "version_minor": 0
      },
      "text/plain": [
       "  0%|          | 0/170 [00:00<?, ?it/s]"
      ]
     },
     "metadata": {},
     "output_type": "display_data"
    },
    {
     "name": "stderr",
     "output_type": "stream",
     "text": [
      "INFO:allennlp.training.callbacks.console_logger:Batch inputs\n",
      "INFO:allennlp.training.callbacks.console_logger:batch_input/[msd] (Shape: 4 x 39 x 51)\n",
      "tensor([[[0, 0, 0,  ..., 0, 0, 0],\n",
      "         [0, 0, 0,  ..., 0, 0, 0],\n",
      "         [0, 0, 0,  ..., 0, 0, 0],\n",
      "         ...,\n",
      "         [0, 0, 0,  ..., 0, 0, 0],\n",
      "         [0, 0, 0,  ..., 0, 0, 0],\n",
      "         [0, 0, 0,  ..., 0, 0, 0]],\n",
      "\n",
      "        [[0, 0, 0,  ..., 0, 0, 0],\n",
      "         [0, 0, 0,  ..., 0, 0, 0],\n",
      "         [0, 0, 0,  ..., 0, 0, 0],\n",
      "         ...,\n",
      "         [0, 0, 0,  ..., 0, 0, 0],\n",
      "         [0, 0, 0,  ..., 0, 0, 0],\n",
      "         [0, 0, 0,  ..., 0, 0, 0]],\n",
      "\n",
      "        [[0, 0, 0,  ..., 0, 0, 0],\n",
      "         [0, 0, 0,  ..., 0, 0, 0],\n",
      "         [0, 0, 0,  ..., 0, 0, 0],\n",
      "         ...,\n",
      "         [0, 0, 0,  ..., 0, 0, 0],\n",
      "         [0, 0, 0,  ..., 0, 0, 0],\n",
      "         [0, 0, 0,  ..., 0, 0, 0]],\n",
      "\n",
      "        [[0, 0, 0,  ..., 0, 0, 0],\n",
      "         [0, 0, 0,  ..., 0, 0, 0],\n",
      "         [0, 0, 0,  ..., 0, 0, 0],\n",
      "         ...,\n",
      "         [0, 0, 1,  ..., 0, 0, 0],\n",
      "         [0, 0, 1,  ..., 0, 0, 0],\n",
      "         [0, 0, 1,  ..., 0, 0, 0]]], device='cuda:0')\n",
      "INFO:allennlp.training.callbacks.console_logger:batch_input/lemma_char/lemma_char/token_characters (Shape: 4 x 39 x 12)\n",
      "tensor([[[ 0,  0,  0,  ...,  0,  0,  0],\n",
      "         [ 0,  0,  0,  ...,  0,  0,  0],\n",
      "         [ 0,  0,  0,  ...,  0,  0,  0],\n",
      "         ...,\n",
      "         [ 0,  0,  0,  ...,  0,  0,  0],\n",
      "         [ 0,  0,  0,  ...,  0,  0,  0],\n",
      "         [ 0,  0,  0,  ...,  0,  0,  0]],\n",
      "\n",
      "        [[ 0,  0,  0,  ...,  0,  0,  0],\n",
      "         [ 0,  0,  0,  ...,  0,  0,  0],\n",
      "         [ 0,  0,  0,  ...,  0,  0,  0],\n",
      "         ...,\n",
      "         [ 0,  0,  0,  ...,  0,  0,  0],\n",
      "         [ 0,  0,  0,  ...,  0,  0,  0],\n",
      "         [ 0,  0,  0,  ...,  0,  0,  0]],\n",
      "\n",
      "        [[ 0,  0,  0,  ...,  0,  0,  0],\n",
      "         [ 0,  0,  0,  ...,  0,  0,  0],\n",
      "         [ 0,  0,  0,  ...,  0,  0,  0],\n",
      "         ...,\n",
      "         [ 0,  0,  0,  ...,  0,  0,  0],\n",
      "         [ 0,  0,  0,  ...,  0,  0,  0],\n",
      "         [ 0,  0,  0,  ...,  0,  0,  0]],\n",
      "\n",
      "        [[ 0,  0,  0,  ...,  0,  0,  0],\n",
      "         [ 0,  0,  0,  ...,  0,  0,  0],\n",
      "         [ 0,  0,  0,  ...,  0,  0,  0],\n",
      "         ...,\n",
      "         [18,  0,  0,  ...,  0,  0,  0],\n",
      "         [14,  2, 15,  ...,  0,  0,  0],\n",
      "         [23,  0,  0,  ...,  0,  0,  0]]], device='cuda:0')\n",
      "INFO:allennlp.training.callbacks.console_logger:batch_input/lemma/lemma/tokens (Shape: 4 x 39)\n",
      "tensor([[ 24,  31,  14,  ...,   0,   0,   0],\n",
      "        [ 16,  14, 203,  ...,   0,   0,   0],\n",
      "        [ 24,  31, 112,  ...,   0,   0,   0],\n",
      "        [ 18,   9,  13,  ...,   2, 707,   3]], device='cuda:0')\n",
      "INFO:allennlp.training.callbacks.console_logger:batch_input/label (Shape: 4)\n",
      "tensor([0, 0, 0, 0], device='cuda:0')\n",
      "INFO:allennlp.training.callbacks.console_logger:Field : \"batch_input/metadata\" : (Length 4 of type \"<class 'dict'>\")\n",
      "INFO:allennlp.training.callbacks.console_logger:                       Training |  Validation\n",
      "INFO:allennlp.training.callbacks.console_logger:accuracy           |     0.820  |     0.910\n",
      "INFO:allennlp.training.callbacks.console_logger:fscore             |     0.798  |     0.902\n",
      "INFO:allennlp.training.callbacks.console_logger:fscore-negative    |     0.864  |     0.928\n",
      "INFO:allennlp.training.callbacks.console_logger:fscore-positive    |     0.733  |     0.875\n",
      "INFO:allennlp.training.callbacks.console_logger:gpu_0_memory_MB    |   143.944  |       N/A\n",
      "INFO:allennlp.training.callbacks.console_logger:loss               |     0.390  |     0.232\n",
      "INFO:allennlp.training.callbacks.console_logger:precision          |     0.818  |     0.903\n",
      "INFO:allennlp.training.callbacks.console_logger:precision-negative |     0.823  |     0.930\n",
      "INFO:allennlp.training.callbacks.console_logger:precision-positive |     0.814  |     0.876\n",
      "INFO:allennlp.training.callbacks.console_logger:recall             |     0.788  |     0.900\n",
      "INFO:allennlp.training.callbacks.console_logger:recall-negative    |     0.909  |     0.927\n",
      "INFO:allennlp.training.callbacks.console_logger:recall-positive    |     0.667  |     0.873\n",
      "INFO:allennlp.training.callbacks.console_logger:worker_0_memory_MB |  3788.141  |       N/A\n",
      "INFO:allennlp.training.gradient_descent_trainer:Epoch duration: 0:00:19.379038\n",
      "INFO:allennlp.training.gradient_descent_trainer:Estimated training time remaining: 0:06:07\n",
      "INFO:allennlp.training.gradient_descent_trainer:Epoch 1/19\n",
      "INFO:allennlp.training.gradient_descent_trainer:Worker 0 memory usage: 3.7G\n",
      "INFO:allennlp.training.gradient_descent_trainer:GPU 0 memory usage: 144M\n",
      "INFO:allennlp.training.gradient_descent_trainer:Training\n"
     ]
    },
    {
     "data": {
      "application/vnd.jupyter.widget-view+json": {
       "model_id": "890287a523be4fce876018f934098664",
       "version_major": 2,
       "version_minor": 0
      },
      "text/plain": [
       "  0%|          | 0/1357 [00:00<?, ?it/s]"
      ]
     },
     "metadata": {},
     "output_type": "display_data"
    },
    {
     "name": "stderr",
     "output_type": "stream",
     "text": [
      "INFO:allennlp.training.gradient_descent_trainer:Validating\n"
     ]
    },
    {
     "data": {
      "application/vnd.jupyter.widget-view+json": {
       "model_id": "b738fe7ae5364cd29bd69aebefe36c7f",
       "version_major": 2,
       "version_minor": 0
      },
      "text/plain": [
       "  0%|          | 0/170 [00:00<?, ?it/s]"
      ]
     },
     "metadata": {},
     "output_type": "display_data"
    },
    {
     "name": "stderr",
     "output_type": "stream",
     "text": [
      "INFO:allennlp.training.callbacks.console_logger:                       Training |  Validation\n",
      "INFO:allennlp.training.callbacks.console_logger:accuracy           |     0.943  |     0.919\n",
      "INFO:allennlp.training.callbacks.console_logger:fscore             |     0.938  |     0.914\n",
      "INFO:allennlp.training.callbacks.console_logger:fscore-negative    |     0.954  |     0.934\n",
      "INFO:allennlp.training.callbacks.console_logger:fscore-positive    |     0.923  |     0.894\n",
      "INFO:allennlp.training.callbacks.console_logger:gpu_0_memory_MB    |   143.944  |       N/A\n",
      "INFO:allennlp.training.callbacks.console_logger:loss               |     0.158  |     0.207\n",
      "INFO:allennlp.training.callbacks.console_logger:precision          |     0.939  |     0.910\n",
      "INFO:allennlp.training.callbacks.console_logger:precision-negative |     0.955  |     0.951\n",
      "INFO:allennlp.training.callbacks.console_logger:precision-positive |     0.923  |     0.869\n",
      "INFO:allennlp.training.callbacks.console_logger:recall             |     0.938  |     0.919\n",
      "INFO:allennlp.training.callbacks.console_logger:recall-negative    |     0.953  |     0.918\n",
      "INFO:allennlp.training.callbacks.console_logger:recall-positive    |     0.923  |     0.921\n",
      "INFO:allennlp.training.callbacks.console_logger:worker_0_memory_MB |  3788.902  |       N/A\n",
      "INFO:allennlp.training.gradient_descent_trainer:Epoch duration: 0:00:19.353070\n",
      "INFO:allennlp.training.gradient_descent_trainer:Estimated training time remaining: 0:05:48\n",
      "INFO:allennlp.training.gradient_descent_trainer:Epoch 2/19\n",
      "INFO:allennlp.training.gradient_descent_trainer:Worker 0 memory usage: 3.7G\n",
      "INFO:allennlp.training.gradient_descent_trainer:GPU 0 memory usage: 144M\n",
      "INFO:allennlp.training.gradient_descent_trainer:Training\n"
     ]
    },
    {
     "data": {
      "application/vnd.jupyter.widget-view+json": {
       "model_id": "33d3baadb834472284f48b068faf08ff",
       "version_major": 2,
       "version_minor": 0
      },
      "text/plain": [
       "  0%|          | 0/1357 [00:00<?, ?it/s]"
      ]
     },
     "metadata": {},
     "output_type": "display_data"
    },
    {
     "name": "stderr",
     "output_type": "stream",
     "text": [
      "INFO:allennlp.training.gradient_descent_trainer:Validating\n"
     ]
    },
    {
     "data": {
      "application/vnd.jupyter.widget-view+json": {
       "model_id": "ac9a982c7c3f40dd82020d0b86787c26",
       "version_major": 2,
       "version_minor": 0
      },
      "text/plain": [
       "  0%|          | 0/170 [00:00<?, ?it/s]"
      ]
     },
     "metadata": {},
     "output_type": "display_data"
    },
    {
     "name": "stderr",
     "output_type": "stream",
     "text": [
      "INFO:allennlp.training.callbacks.console_logger:                       Training |  Validation\n",
      "INFO:allennlp.training.callbacks.console_logger:accuracy           |     0.975  |     0.925\n",
      "INFO:allennlp.training.callbacks.console_logger:fscore             |     0.973  |     0.919\n",
      "INFO:allennlp.training.callbacks.console_logger:fscore-negative    |     0.980  |     0.941\n",
      "INFO:allennlp.training.callbacks.console_logger:fscore-positive    |     0.966  |     0.897\n",
      "INFO:allennlp.training.callbacks.console_logger:gpu_0_memory_MB    |   143.944  |       N/A\n",
      "INFO:allennlp.training.callbacks.console_logger:loss               |     0.075  |     0.226\n",
      "INFO:allennlp.training.callbacks.console_logger:precision          |     0.973  |     0.922\n",
      "INFO:allennlp.training.callbacks.console_logger:precision-negative |     0.983  |     0.931\n",
      "INFO:allennlp.training.callbacks.console_logger:precision-positive |     0.963  |     0.914\n",
      "INFO:allennlp.training.callbacks.console_logger:recall             |     0.973  |     0.916\n",
      "INFO:allennlp.training.callbacks.console_logger:recall-negative    |     0.977  |     0.951\n",
      "INFO:allennlp.training.callbacks.console_logger:recall-positive    |     0.968  |     0.881\n",
      "INFO:allennlp.training.callbacks.console_logger:worker_0_memory_MB |  3789.402  |       N/A\n",
      "INFO:allennlp.training.gradient_descent_trainer:Epoch duration: 0:00:19.425455\n",
      "INFO:allennlp.training.gradient_descent_trainer:Estimated training time remaining: 0:05:29\n",
      "INFO:allennlp.training.gradient_descent_trainer:Epoch 3/19\n",
      "INFO:allennlp.training.gradient_descent_trainer:Worker 0 memory usage: 3.7G\n",
      "INFO:allennlp.training.gradient_descent_trainer:GPU 0 memory usage: 144M\n",
      "INFO:allennlp.training.gradient_descent_trainer:Training\n"
     ]
    },
    {
     "data": {
      "application/vnd.jupyter.widget-view+json": {
       "model_id": "116199b899bb435e877f074e3f21a973",
       "version_major": 2,
       "version_minor": 0
      },
      "text/plain": [
       "  0%|          | 0/1357 [00:00<?, ?it/s]"
      ]
     },
     "metadata": {},
     "output_type": "display_data"
    },
    {
     "name": "stderr",
     "output_type": "stream",
     "text": [
      "INFO:allennlp.training.gradient_descent_trainer:Validating\n"
     ]
    },
    {
     "data": {
      "application/vnd.jupyter.widget-view+json": {
       "model_id": "2deb269fb5614580b9f0f9c907ae09ef",
       "version_major": 2,
       "version_minor": 0
      },
      "text/plain": [
       "  0%|          | 0/170 [00:00<?, ?it/s]"
      ]
     },
     "metadata": {},
     "output_type": "display_data"
    },
    {
     "name": "stderr",
     "output_type": "stream",
     "text": [
      "INFO:allennlp.training.callbacks.console_logger:                       Training |  Validation\n",
      "INFO:allennlp.training.callbacks.console_logger:accuracy           |     0.990  |     0.910\n",
      "INFO:allennlp.training.callbacks.console_logger:fscore             |     0.988  |     0.902\n",
      "INFO:allennlp.training.callbacks.console_logger:fscore-negative    |     0.991  |     0.930\n",
      "INFO:allennlp.training.callbacks.console_logger:fscore-positive    |     0.985  |     0.874\n",
      "INFO:allennlp.training.callbacks.console_logger:gpu_0_memory_MB    |   143.944  |       N/A\n",
      "INFO:allennlp.training.callbacks.console_logger:loss               |     0.034  |     0.299\n",
      "INFO:allennlp.training.callbacks.console_logger:precision          |     0.989  |     0.911\n",
      "INFO:allennlp.training.callbacks.console_logger:precision-negative |     0.993  |     0.908\n",
      "INFO:allennlp.training.callbacks.console_logger:precision-positive |     0.985  |     0.913\n",
      "INFO:allennlp.training.callbacks.console_logger:recall             |     0.988  |     0.895\n",
      "INFO:allennlp.training.callbacks.console_logger:recall-negative    |     0.990  |     0.953\n",
      "INFO:allennlp.training.callbacks.console_logger:recall-positive    |     0.986  |     0.837\n",
      "INFO:allennlp.training.callbacks.console_logger:worker_0_memory_MB |  3789.652  |       N/A\n",
      "INFO:allennlp.training.gradient_descent_trainer:Epoch duration: 0:00:19.338631\n",
      "INFO:allennlp.training.gradient_descent_trainer:Estimated training time remaining: 0:05:09\n",
      "INFO:allennlp.training.gradient_descent_trainer:Epoch 4/19\n",
      "INFO:allennlp.training.gradient_descent_trainer:Worker 0 memory usage: 3.7G\n",
      "INFO:allennlp.training.gradient_descent_trainer:GPU 0 memory usage: 144M\n",
      "INFO:allennlp.training.gradient_descent_trainer:Training\n"
     ]
    },
    {
     "data": {
      "application/vnd.jupyter.widget-view+json": {
       "model_id": "a8a55138df354be8b79d78f8df3591c6",
       "version_major": 2,
       "version_minor": 0
      },
      "text/plain": [
       "  0%|          | 0/1357 [00:00<?, ?it/s]"
      ]
     },
     "metadata": {},
     "output_type": "display_data"
    },
    {
     "name": "stderr",
     "output_type": "stream",
     "text": [
      "INFO:allennlp.training.gradient_descent_trainer:Validating\n"
     ]
    },
    {
     "data": {
      "application/vnd.jupyter.widget-view+json": {
       "model_id": "b24d4b23566d4a3ca5cea0e1ad209924",
       "version_major": 2,
       "version_minor": 0
      },
      "text/plain": [
       "  0%|          | 0/170 [00:00<?, ?it/s]"
      ]
     },
     "metadata": {},
     "output_type": "display_data"
    },
    {
     "name": "stderr",
     "output_type": "stream",
     "text": [
      "INFO:allennlp.training.callbacks.console_logger:                       Training |  Validation\n",
      "INFO:allennlp.training.callbacks.console_logger:accuracy           |     0.994  |     0.895\n",
      "INFO:allennlp.training.callbacks.console_logger:fscore             |     0.991  |     0.887\n",
      "INFO:allennlp.training.callbacks.console_logger:fscore-negative    |     0.993  |     0.918\n",
      "INFO:allennlp.training.callbacks.console_logger:fscore-positive    |     0.990  |     0.857\n",
      "INFO:allennlp.training.callbacks.console_logger:gpu_0_memory_MB    |   143.944  |       N/A\n",
      "INFO:allennlp.training.callbacks.console_logger:loss               |     0.020  |     0.365\n",
      "INFO:allennlp.training.callbacks.console_logger:precision          |     0.993  |     0.890\n",
      "INFO:allennlp.training.callbacks.console_logger:precision-negative |     0.996  |     0.910\n",
      "INFO:allennlp.training.callbacks.console_logger:precision-positive |     0.990  |     0.869\n",
      "INFO:allennlp.training.callbacks.console_logger:recall             |     0.990  |     0.885\n",
      "INFO:allennlp.training.callbacks.console_logger:recall-negative    |     0.990  |     0.925\n",
      "INFO:allennlp.training.callbacks.console_logger:recall-positive    |     0.990  |     0.845\n",
      "INFO:allennlp.training.callbacks.console_logger:worker_0_memory_MB |  3789.902  |       N/A\n",
      "INFO:allennlp.training.gradient_descent_trainer:Epoch duration: 0:00:19.308553\n",
      "INFO:allennlp.training.gradient_descent_trainer:Estimated training time remaining: 0:04:50\n",
      "INFO:allennlp.training.gradient_descent_trainer:Epoch 5/19\n",
      "INFO:allennlp.training.gradient_descent_trainer:Worker 0 memory usage: 3.7G\n",
      "INFO:allennlp.training.gradient_descent_trainer:GPU 0 memory usage: 144M\n",
      "INFO:allennlp.training.gradient_descent_trainer:Training\n"
     ]
    },
    {
     "data": {
      "application/vnd.jupyter.widget-view+json": {
       "model_id": "33bd5834761d45f7848453092bce025c",
       "version_major": 2,
       "version_minor": 0
      },
      "text/plain": [
       "  0%|          | 0/1357 [00:00<?, ?it/s]"
      ]
     },
     "metadata": {},
     "output_type": "display_data"
    },
    {
     "name": "stderr",
     "output_type": "stream",
     "text": [
      "INFO:allennlp.training.gradient_descent_trainer:Validating\n"
     ]
    },
    {
     "data": {
      "application/vnd.jupyter.widget-view+json": {
       "model_id": "19304ce1a2df467cb1da6754ec2485b3",
       "version_major": 2,
       "version_minor": 0
      },
      "text/plain": [
       "  0%|          | 0/170 [00:00<?, ?it/s]"
      ]
     },
     "metadata": {},
     "output_type": "display_data"
    },
    {
     "name": "stderr",
     "output_type": "stream",
     "text": [
      "INFO:allennlp.training.callbacks.console_logger:                       Training |  Validation\n",
      "INFO:allennlp.training.callbacks.console_logger:accuracy           |     0.996  |     0.918\n",
      "INFO:allennlp.training.callbacks.console_logger:fscore             |     0.994  |     0.911\n",
      "INFO:allennlp.training.callbacks.console_logger:fscore-negative    |     0.995  |     0.934\n",
      "INFO:allennlp.training.callbacks.console_logger:fscore-positive    |     0.993  |     0.889\n",
      "INFO:allennlp.training.callbacks.console_logger:gpu_0_memory_MB    |   143.944  |       N/A\n",
      "INFO:allennlp.training.callbacks.console_logger:loss               |     0.015  |     0.346\n",
      "INFO:allennlp.training.callbacks.console_logger:precision          |     0.996  |     0.909\n",
      "INFO:allennlp.training.callbacks.console_logger:precision-negative |     0.997  |     0.945\n",
      "INFO:allennlp.training.callbacks.console_logger:precision-positive |     0.995  |     0.874\n",
      "INFO:allennlp.training.callbacks.console_logger:recall             |     0.992  |     0.914\n",
      "INFO:allennlp.training.callbacks.console_logger:recall-negative    |     0.994  |     0.923\n",
      "INFO:allennlp.training.callbacks.console_logger:recall-positive    |     0.991  |     0.905\n",
      "INFO:allennlp.training.callbacks.console_logger:worker_0_memory_MB |  3790.156  |       N/A\n",
      "INFO:allennlp.training.gradient_descent_trainer:Epoch duration: 0:00:19.195035\n",
      "INFO:allennlp.training.gradient_descent_trainer:Estimated training time remaining: 0:04:30\n",
      "INFO:allennlp.training.gradient_descent_trainer:Epoch 6/19\n",
      "INFO:allennlp.training.gradient_descent_trainer:Worker 0 memory usage: 3.7G\n",
      "INFO:allennlp.training.gradient_descent_trainer:GPU 0 memory usage: 144M\n",
      "INFO:allennlp.training.gradient_descent_trainer:Training\n"
     ]
    },
    {
     "data": {
      "application/vnd.jupyter.widget-view+json": {
       "model_id": "f4bfc1be25364e3d9eca0c8f617cc1e4",
       "version_major": 2,
       "version_minor": 0
      },
      "text/plain": [
       "  0%|          | 0/1357 [00:00<?, ?it/s]"
      ]
     },
     "metadata": {},
     "output_type": "display_data"
    },
    {
     "name": "stderr",
     "output_type": "stream",
     "text": [
      "INFO:allennlp.training.gradient_descent_trainer:Validating\n"
     ]
    },
    {
     "data": {
      "application/vnd.jupyter.widget-view+json": {
       "model_id": "ff224f44698c49ceb40fa827cdb5be98",
       "version_major": 2,
       "version_minor": 0
      },
      "text/plain": [
       "  0%|          | 0/170 [00:00<?, ?it/s]"
      ]
     },
     "metadata": {},
     "output_type": "display_data"
    },
    {
     "name": "stderr",
     "output_type": "stream",
     "text": [
      "INFO:allennlp.training.callbacks.console_logger:                       Training |  Validation\n",
      "INFO:allennlp.training.callbacks.console_logger:accuracy           |     0.996  |     0.897\n",
      "INFO:allennlp.training.callbacks.console_logger:fscore             |     0.994  |     0.890\n",
      "INFO:allennlp.training.callbacks.console_logger:fscore-negative    |     0.996  |     0.920\n",
      "INFO:allennlp.training.callbacks.console_logger:fscore-positive    |     0.992  |     0.859\n",
      "INFO:allennlp.training.callbacks.console_logger:gpu_0_memory_MB    |   143.944  |       N/A\n",
      "INFO:allennlp.training.callbacks.console_logger:loss               |     0.013  |     0.441\n",
      "INFO:allennlp.training.callbacks.console_logger:precision          |     0.995  |     0.892\n",
      "INFO:allennlp.training.callbacks.console_logger:precision-negative |     0.996  |     0.914\n",
      "INFO:allennlp.training.callbacks.console_logger:precision-positive |     0.994  |     0.870\n",
      "INFO:allennlp.training.callbacks.console_logger:recall             |     0.992  |     0.887\n",
      "INFO:allennlp.training.callbacks.console_logger:recall-negative    |     0.995  |     0.925\n",
      "INFO:allennlp.training.callbacks.console_logger:recall-positive    |     0.990  |     0.849\n",
      "INFO:allennlp.training.callbacks.console_logger:worker_0_memory_MB |  3790.156  |       N/A\n",
      "INFO:allennlp.training.gradient_descent_trainer:Epoch duration: 0:00:19.440482\n",
      "INFO:allennlp.training.gradient_descent_trainer:Estimated training time remaining: 0:04:11\n",
      "INFO:allennlp.training.gradient_descent_trainer:Epoch 7/19\n",
      "INFO:allennlp.training.gradient_descent_trainer:Worker 0 memory usage: 3.7G\n",
      "INFO:allennlp.training.gradient_descent_trainer:GPU 0 memory usage: 144M\n",
      "INFO:allennlp.training.gradient_descent_trainer:Training\n"
     ]
    },
    {
     "data": {
      "application/vnd.jupyter.widget-view+json": {
       "model_id": "eaf02fabf0424b239a410a3691979f0a",
       "version_major": 2,
       "version_minor": 0
      },
      "text/plain": [
       "  0%|          | 0/1357 [00:00<?, ?it/s]"
      ]
     },
     "metadata": {},
     "output_type": "display_data"
    },
    {
     "name": "stderr",
     "output_type": "stream",
     "text": [
      "INFO:allennlp.training.gradient_descent_trainer:Validating\n"
     ]
    },
    {
     "data": {
      "application/vnd.jupyter.widget-view+json": {
       "model_id": "e20cfc9c2f4f4d95be2bccabb980171e",
       "version_major": 2,
       "version_minor": 0
      },
      "text/plain": [
       "  0%|          | 0/170 [00:00<?, ?it/s]"
      ]
     },
     "metadata": {},
     "output_type": "display_data"
    },
    {
     "name": "stderr",
     "output_type": "stream",
     "text": [
      "INFO:allennlp.training.callbacks.console_logger:                       Training |  Validation\n",
      "INFO:allennlp.training.callbacks.console_logger:accuracy           |     0.998  |     0.895\n",
      "INFO:allennlp.training.callbacks.console_logger:fscore             |     0.996  |     0.888\n",
      "INFO:allennlp.training.callbacks.console_logger:fscore-negative    |     0.997  |     0.917\n",
      "INFO:allennlp.training.callbacks.console_logger:fscore-positive    |     0.996  |     0.860\n",
      "INFO:allennlp.training.callbacks.console_logger:gpu_0_memory_MB    |   143.944  |       N/A\n",
      "INFO:allennlp.training.callbacks.console_logger:loss               |     0.008  |     0.424\n",
      "INFO:allennlp.training.callbacks.console_logger:precision          |     0.998  |     0.887\n",
      "INFO:allennlp.training.callbacks.console_logger:precision-negative |     0.998  |     0.920\n",
      "INFO:allennlp.training.callbacks.console_logger:precision-positive |     0.998  |     0.855\n",
      "INFO:allennlp.training.callbacks.console_logger:recall             |     0.995  |     0.889\n",
      "INFO:allennlp.training.callbacks.console_logger:recall-negative    |     0.995  |     0.913\n",
      "INFO:allennlp.training.callbacks.console_logger:recall-positive    |     0.994  |     0.865\n",
      "INFO:allennlp.training.callbacks.console_logger:worker_0_memory_MB |  3790.402  |       N/A\n",
      "INFO:allennlp.training.gradient_descent_trainer:Epoch duration: 0:00:19.350671\n",
      "INFO:allennlp.training.gradient_descent_trainer:Estimated training time remaining: 0:03:52\n",
      "INFO:allennlp.training.gradient_descent_trainer:Epoch 8/19\n",
      "INFO:allennlp.training.gradient_descent_trainer:Worker 0 memory usage: 3.7G\n",
      "INFO:allennlp.training.gradient_descent_trainer:GPU 0 memory usage: 144M\n",
      "INFO:allennlp.training.gradient_descent_trainer:Training\n"
     ]
    },
    {
     "data": {
      "application/vnd.jupyter.widget-view+json": {
       "model_id": "6dfb0384f3e64463a5b6688769384d5c",
       "version_major": 2,
       "version_minor": 0
      },
      "text/plain": [
       "  0%|          | 0/1357 [00:00<?, ?it/s]"
      ]
     },
     "metadata": {},
     "output_type": "display_data"
    },
    {
     "name": "stderr",
     "output_type": "stream",
     "text": [
      "INFO:allennlp.training.gradient_descent_trainer:Validating\n"
     ]
    },
    {
     "data": {
      "application/vnd.jupyter.widget-view+json": {
       "model_id": "edad99bf7fdf49e2ae67cec8a1d35850",
       "version_major": 2,
       "version_minor": 0
      },
      "text/plain": [
       "  0%|          | 0/170 [00:00<?, ?it/s]"
      ]
     },
     "metadata": {},
     "output_type": "display_data"
    },
    {
     "name": "stderr",
     "output_type": "stream",
     "text": [
      "INFO:allennlp.training.callbacks.console_logger:                       Training |  Validation\n",
      "INFO:allennlp.training.callbacks.console_logger:accuracy           |     0.998  |     0.898\n",
      "INFO:allennlp.training.callbacks.console_logger:fscore             |     0.997  |     0.892\n",
      "INFO:allennlp.training.callbacks.console_logger:fscore-negative    |     0.997  |     0.918\n",
      "INFO:allennlp.training.callbacks.console_logger:fscore-positive    |     0.997  |     0.865\n",
      "INFO:allennlp.training.callbacks.console_logger:gpu_0_memory_MB    |   143.944  |       N/A\n",
      "INFO:allennlp.training.callbacks.console_logger:loss               |     0.009  |     0.428\n",
      "INFO:allennlp.training.callbacks.console_logger:precision          |     0.998  |     0.889\n",
      "INFO:allennlp.training.callbacks.console_logger:precision-negative |     0.999  |     0.928\n",
      "INFO:allennlp.training.callbacks.console_logger:precision-positive |     0.997  |     0.851\n",
      "INFO:allennlp.training.callbacks.console_logger:recall             |     0.996  |     0.895\n",
      "INFO:allennlp.training.callbacks.console_logger:recall-negative    |     0.996  |     0.909\n",
      "INFO:allennlp.training.callbacks.console_logger:recall-positive    |     0.996  |     0.881\n",
      "INFO:allennlp.training.callbacks.console_logger:worker_0_memory_MB |  3790.652  |       N/A\n",
      "INFO:allennlp.training.gradient_descent_trainer:Epoch duration: 0:00:19.395240\n",
      "INFO:allennlp.training.gradient_descent_trainer:Estimated training time remaining: 0:03:32\n",
      "INFO:allennlp.training.gradient_descent_trainer:Epoch 9/19\n",
      "INFO:allennlp.training.gradient_descent_trainer:Worker 0 memory usage: 3.7G\n",
      "INFO:allennlp.training.gradient_descent_trainer:GPU 0 memory usage: 144M\n",
      "INFO:allennlp.training.gradient_descent_trainer:Training\n"
     ]
    },
    {
     "data": {
      "application/vnd.jupyter.widget-view+json": {
       "model_id": "5e06057e59e24c55ad716e353a4a0550",
       "version_major": 2,
       "version_minor": 0
      },
      "text/plain": [
       "  0%|          | 0/1357 [00:00<?, ?it/s]"
      ]
     },
     "metadata": {},
     "output_type": "display_data"
    },
    {
     "name": "stderr",
     "output_type": "stream",
     "text": [
      "INFO:allennlp.training.gradient_descent_trainer:Validating\n"
     ]
    },
    {
     "data": {
      "application/vnd.jupyter.widget-view+json": {
       "model_id": "a5d1bddc8924468f9734a4c65ebcef49",
       "version_major": 2,
       "version_minor": 0
      },
      "text/plain": [
       "  0%|          | 0/170 [00:00<?, ?it/s]"
      ]
     },
     "metadata": {},
     "output_type": "display_data"
    },
    {
     "name": "stderr",
     "output_type": "stream",
     "text": [
      "INFO:allennlp.training.callbacks.console_logger:                       Training |  Validation\n",
      "INFO:allennlp.training.callbacks.console_logger:accuracy           |     0.999  |     0.895\n",
      "INFO:allennlp.training.callbacks.console_logger:fscore             |     0.997  |     0.889\n",
      "INFO:allennlp.training.callbacks.console_logger:fscore-negative    |     0.997  |     0.914\n",
      "INFO:allennlp.training.callbacks.console_logger:fscore-positive    |     0.997  |     0.865\n",
      "INFO:allennlp.training.callbacks.console_logger:gpu_0_memory_MB    |   143.944  |       N/A\n",
      "INFO:allennlp.training.callbacks.console_logger:loss               |     0.007  |     0.503\n",
      "INFO:allennlp.training.callbacks.console_logger:precision          |     0.999  |     0.884\n",
      "INFO:allennlp.training.callbacks.console_logger:precision-negative |     0.999  |     0.949\n",
      "INFO:allennlp.training.callbacks.console_logger:precision-positive |     0.999  |     0.819\n",
      "INFO:allennlp.training.callbacks.console_logger:recall             |     0.995  |     0.899\n",
      "INFO:allennlp.training.callbacks.console_logger:recall-negative    |     0.996  |     0.881\n",
      "INFO:allennlp.training.callbacks.console_logger:recall-positive    |     0.995  |     0.917\n",
      "INFO:allennlp.training.callbacks.console_logger:worker_0_memory_MB |  3790.652  |       N/A\n",
      "INFO:allennlp.training.gradient_descent_trainer:Epoch duration: 0:00:19.095784\n",
      "INFO:allennlp.training.gradient_descent_trainer:Estimated training time remaining: 0:03:13\n",
      "INFO:allennlp.training.gradient_descent_trainer:Epoch 10/19\n",
      "INFO:allennlp.training.gradient_descent_trainer:Worker 0 memory usage: 3.7G\n",
      "INFO:allennlp.training.gradient_descent_trainer:GPU 0 memory usage: 144M\n",
      "INFO:allennlp.training.gradient_descent_trainer:Training\n"
     ]
    },
    {
     "data": {
      "application/vnd.jupyter.widget-view+json": {
       "model_id": "83e18ed3c2974f9397125dabc5630a78",
       "version_major": 2,
       "version_minor": 0
      },
      "text/plain": [
       "  0%|          | 0/1357 [00:00<?, ?it/s]"
      ]
     },
     "metadata": {},
     "output_type": "display_data"
    },
    {
     "name": "stderr",
     "output_type": "stream",
     "text": [
      "INFO:allennlp.training.gradient_descent_trainer:Validating\n"
     ]
    },
    {
     "data": {
      "application/vnd.jupyter.widget-view+json": {
       "model_id": "4b8c042e22ec4f37a54f95803ed7b2b6",
       "version_major": 2,
       "version_minor": 0
      },
      "text/plain": [
       "  0%|          | 0/170 [00:00<?, ?it/s]"
      ]
     },
     "metadata": {},
     "output_type": "display_data"
    },
    {
     "name": "stderr",
     "output_type": "stream",
     "text": [
      "INFO:allennlp.training.callbacks.console_logger:                       Training |  Validation\n",
      "INFO:allennlp.training.callbacks.console_logger:accuracy           |     0.998  |     0.892\n",
      "INFO:allennlp.training.callbacks.console_logger:fscore             |     0.996  |     0.882\n",
      "INFO:allennlp.training.callbacks.console_logger:fscore-negative    |     0.997  |     0.915\n",
      "INFO:allennlp.training.callbacks.console_logger:fscore-positive    |     0.995  |     0.849\n",
      "INFO:allennlp.training.callbacks.console_logger:gpu_0_memory_MB    |   143.944  |       N/A\n",
      "INFO:allennlp.training.callbacks.console_logger:loss               |     0.006  |     0.545\n",
      "INFO:allennlp.training.callbacks.console_logger:precision          |     0.998  |     0.890\n",
      "INFO:allennlp.training.callbacks.console_logger:precision-negative |     0.999  |     0.897\n",
      "INFO:allennlp.training.callbacks.console_logger:precision-positive |     0.997  |     0.884\n",
      "INFO:allennlp.training.callbacks.console_logger:recall             |     0.994  |     0.876\n",
      "INFO:allennlp.training.callbacks.console_logger:recall-negative    |     0.994  |     0.934\n",
      "INFO:allennlp.training.callbacks.console_logger:recall-positive    |     0.994  |     0.817\n",
      "INFO:allennlp.training.callbacks.console_logger:worker_0_memory_MB |  3790.902  |       N/A\n",
      "INFO:allennlp.training.gradient_descent_trainer:Epoch duration: 0:00:19.395158\n",
      "INFO:allennlp.training.gradient_descent_trainer:Estimated training time remaining: 0:02:53\n",
      "INFO:allennlp.training.gradient_descent_trainer:Epoch 11/19\n",
      "INFO:allennlp.training.gradient_descent_trainer:Worker 0 memory usage: 3.7G\n",
      "INFO:allennlp.training.gradient_descent_trainer:GPU 0 memory usage: 144M\n",
      "INFO:allennlp.training.gradient_descent_trainer:Training\n"
     ]
    },
    {
     "data": {
      "application/vnd.jupyter.widget-view+json": {
       "model_id": "e1d1f723026d4a678796a3fee1da5f21",
       "version_major": 2,
       "version_minor": 0
      },
      "text/plain": [
       "  0%|          | 0/1357 [00:00<?, ?it/s]"
      ]
     },
     "metadata": {},
     "output_type": "display_data"
    },
    {
     "name": "stderr",
     "output_type": "stream",
     "text": [
      "INFO:allennlp.training.gradient_descent_trainer:Validating\n"
     ]
    },
    {
     "data": {
      "application/vnd.jupyter.widget-view+json": {
       "model_id": "78c0b4d6ce4f4977934ac3160cfc7ea4",
       "version_major": 2,
       "version_minor": 0
      },
      "text/plain": [
       "  0%|          | 0/170 [00:00<?, ?it/s]"
      ]
     },
     "metadata": {},
     "output_type": "display_data"
    },
    {
     "name": "stderr",
     "output_type": "stream",
     "text": [
      "INFO:allennlp.training.callbacks.console_logger:                       Training |  Validation\n",
      "INFO:allennlp.training.callbacks.console_logger:accuracy           |     0.998  |     0.898\n",
      "INFO:allennlp.training.callbacks.console_logger:fscore             |     0.996  |     0.887\n",
      "INFO:allennlp.training.callbacks.console_logger:fscore-negative    |     0.996  |     0.919\n",
      "INFO:allennlp.training.callbacks.console_logger:fscore-positive    |     0.996  |     0.854\n",
      "INFO:allennlp.training.callbacks.console_logger:gpu_0_memory_MB    |   143.944  |       N/A\n",
      "INFO:allennlp.training.callbacks.console_logger:loss               |     0.007  |     0.452\n",
      "INFO:allennlp.training.callbacks.console_logger:precision          |     0.998  |     0.890\n",
      "INFO:allennlp.training.callbacks.console_logger:precision-negative |     0.999  |     0.920\n",
      "INFO:allennlp.training.callbacks.console_logger:precision-positive |     0.998  |     0.859\n",
      "INFO:allennlp.training.callbacks.console_logger:recall             |     0.994  |     0.884\n",
      "INFO:allennlp.training.callbacks.console_logger:recall-negative    |     0.994  |     0.918\n",
      "INFO:allennlp.training.callbacks.console_logger:recall-positive    |     0.994  |     0.849\n",
      "INFO:allennlp.training.callbacks.console_logger:worker_0_memory_MB |  3790.902  |       N/A\n",
      "INFO:allennlp.training.gradient_descent_trainer:Epoch duration: 0:00:19.449630\n",
      "INFO:allennlp.training.gradient_descent_trainer:Ran out of patience. Stopping training.\n",
      "INFO:root:Finished training\n",
      "INFO:allennlp.training.util:Iterating over dataset\n"
     ]
    },
    {
     "name": "stdout",
     "output_type": "stream",
     "text": [
      "FeatureEmbeddingClassifier(\n",
      "  (_loss): CrossEntropyLoss()\n",
      "  (mixed_encoder): MixedEmbeddingEncoder(\n",
      "    (_emb_dropout): Dropout(p=0.3, inplace=False)\n",
      "    (features_embedder): FeatureAndTextEmbedder(\n",
      "      (text_embedder): BasicTextFieldEmbedder(\n",
      "        (token_embedder_lemma): Embedding()\n",
      "        (token_embedder_lemma_char): TokenCharactersEncoder(\n",
      "          (_embedding): TimeDistributed(\n",
      "            (_module): Embedding()\n",
      "          )\n",
      "          (_encoder): TimeDistributed(\n",
      "            (_module): LstmSeq2VecEncoder(\n",
      "              (_module): LSTM(100, 150, num_layers=2, batch_first=True, dropout=0.3, bidirectional=True)\n",
      "            )\n",
      "          )\n",
      "          (_dropout): Dropout(p=0.3, inplace=False)\n",
      "        )\n",
      "      )\n",
      "      (feature_embedder): Linear(in_features=51, out_features=20, bias=True)\n",
      "    )\n",
      "    (features_encoder): HierarchicalAttentionalEncoder(\n",
      "      (gru): GRU(520, 64, batch_first=True, dropout=0.3, bidirectional=True)\n",
      "      (dense): Linear(in_features=128, out_features=128, bias=True)\n",
      "      (dropout): Dropout(p=0.5, inplace=False)\n",
      "    )\n",
      "  )\n",
      "  (classifier): Linear(in_features=128, out_features=2, bias=True)\n",
      ")\n",
      "Evaluating\n"
     ]
    },
    {
     "data": {
      "application/vnd.jupyter.widget-view+json": {
       "model_id": "0a366498c77945cabee3c52df5a943df",
       "version_major": 2,
       "version_minor": 0
      },
      "text/plain": [
       "0it [00:00, ?it/s]"
      ]
     },
     "metadata": {},
     "output_type": "display_data"
    },
    {
     "name": "stdout",
     "output_type": "stream",
     "text": [
      "Evaluating: Predicting\n",
      "({'accuracy': 0.9276218611521418, 'precision': 0.9178701639175415, 'recall': 0.9334867000579834, 'fscore': 0.9239892363548279, 'precision-negative': 0.9724310636520386, 'precision-positive': 0.8633093237876892, 'recall-negative': 0.9107981324195862, 'recall-positive': 0.9561753273010254, 'fscore-negative': 0.9406060576438904, 'fscore-positive': 0.9073724150657654, 'loss': 0.18740556721082505}, <sklearn.metrics._plot.confusion_matrix.ConfusionMatrixDisplay object at 0x7f73846fa5e0>)\n"
     ]
    },
    {
     "name": "stderr",
     "output_type": "stream",
     "text": [
      "/home/thibault/dev/est-lascivuum-non-est/seligator/tests/evaluate.py:111: UserWarning: Matplotlib is currently using module://matplotlib_inline.backend_inline, which is a non-GUI backend, so cannot show the figure.\n",
      "  disp.figure_.show()\n"
     ]
    },
    {
     "data": {
      "image/png": "[encoded data removed]",
      "text/plain": [
       "<Figure size 432x288 with 2 Axes>"
      ]
     },
     "metadata": {
      "needs_background": "light"
     },
     "output_type": "display_data"
    }
   ],
   "source": [
    "from seligator.simple_demo import prepare_model, train_and_get\n",
    "from seligator.models.siamese import SiameseClassifier\n",
    "model, reader, train, dev = prepare_model(\n",
    "    input_features=(\"lemma_char\", \"lemma\", \"case\", \"numb\", \"gend\", \"mood\", \"tense\", \"voice\", \"person\", \"deg\"),\n",
    "    use_han=True,\n",
    "    agglomerate_msd=True,\n",
    "    reader_kwargs={\"batch_size\": 4, \"metadata_token_as_lemma_and_token\": True},\n",
    "    model_embedding_kwargs=dict(\n",
    "        keep_all_vocab=True,\n",
    "        pretrained_embeddings={\n",
    "            # \"token\": \"~/Downloads/latin.embeddings\",\n",
    "        #    \"token\": \"~/dev/these/notebooks/4 - Detection/data/embs_models/model.token.word2vec.kv\",\n",
    "        #    \"lemma\": \"~/dev/these/notebooks/4 - Detection/data/embs_models/model.lemma.word2vec.kv.header\"\n",
    "        },\n",
    "        trainable_embeddings={\"token\": False, \"lemma\": True},\n",
    "        pretrained_emb_dims={\"token\": 200, \"lemma\": 200}\n",
    "    ),\n",
    "    #batches_per_epoch=100,\n",
    "    # model_class=SiameseClassifier,\n",
    "    use_bert_higway=True,\n",
    ")\n",
    "model = train_and_get(\n",
    "    model, train, dev,\n",
    "    patience=10,\n",
    "    num_epochs=20,\n",
    "    lr=5e-4\n",
    ")\n",
    "print(model)\n",
    "data = run_tests(\n",
    "    \"dataset/split/test.txt\",\n",
    "    dataset_reader=reader, model=model, dump=\"test.lemma-msd-metadatatoken.csv\"\n",
    ")\n",
    "print(data)"
   ]
  },
  {
   "cell_type": "code",
   "execution_count": null,
   "id": "1c43d9d4",
   "metadata": {},
   "outputs": [],
   "source": []
  }
 ],
 "metadata": {
  "kernelspec": {
   "display_name": "Python 3",
   "language": "python",
   "name": "python3"
  },
  "language_info": {
   "codemirror_mode": {
    "name": "ipython",
    "version": 3
   },
   "file_extension": ".py",
   "mimetype": "text/x-python",
   "name": "python",
   "nbconvert_exporter": "python",
   "pygments_lexer": "ipython3",
   "version": "3.8.10"
  },
  "toc": {
   "base_numbering": 1,
   "nav_menu": {},
   "number_sections": true,
   "sideBar": true,
   "skip_h1_title": false,
   "title_cell": "Table of Contents",
   "title_sidebar": "Contents",
   "toc_cell": false,
   "toc_position": {},
   "toc_section_display": true,
   "toc_window_display": false
  }
 },
 "nbformat": 4,
 "nbformat_minor": 5
}
