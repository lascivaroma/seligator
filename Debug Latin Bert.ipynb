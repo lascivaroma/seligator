{
 "cells": [
  {
   "cell_type": "code",
   "execution_count": 5,
   "id": "2228295b",
   "metadata": {},
   "outputs": [
    {
     "data": {
      "text/plain": [
       "[[[CLS], arma_, viru, mque_, cano_],\n",
       " [[CLS], arma_, gravi_, numero_, violent, aque, _, bella_, paraba, m_]]"
      ]
     },
     "execution_count": 5,
     "metadata": {},
     "output_type": "execute_result"
    }
   ],
   "source": [
    "sents = [\"arma virumque cano\", \"arma gravi numero violentaque bella parabam\"]\n",
    "\n",
    "from seligator.dataset.tokenizer import LatinSubwordTextEncoderTokenizer\n",
    "\n",
    "\n",
    "tok = LatinSubwordTextEncoderTokenizer(\"./bert/latin_bert/vocab.txt\")\n",
    "tok.batch_tokenize(sents)"
   ]
  }
 ],
 "metadata": {
  "kernelspec": {
   "display_name": "Python 3",
   "language": "python",
   "name": "python3"
  },
  "language_info": {
   "codemirror_mode": {
    "name": "ipython",
    "version": 3
   },
   "file_extension": ".py",
   "mimetype": "text/x-python",
   "name": "python",
   "nbconvert_exporter": "python",
   "pygments_lexer": "ipython3",
   "version": "3.8.10"
  },
  "toc": {
   "base_numbering": 1,
   "nav_menu": {},
   "number_sections": true,
   "sideBar": true,
   "skip_h1_title": false,
   "title_cell": "Table of Contents",
   "title_sidebar": "Contents",
   "toc_cell": false,
   "toc_position": {},
   "toc_section_display": true,
   "toc_window_display": false
  }
 },
 "nbformat": 4,
 "nbformat_minor": 5
}
