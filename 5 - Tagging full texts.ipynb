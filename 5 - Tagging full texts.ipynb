{
 "cells": [
  {
   "cell_type": "code",
   "execution_count": 4,
   "id": "191a6c69",
   "metadata": {},
   "outputs": [
    {
     "name": "stderr",
     "output_type": "stream",
     "text": [
      "INFO:allennlp.data.vocabulary:Loading token dictionary from models/model--LinearVanillaAggloMSD-Pretrained/vocabulary.\n",
      "INFO:filelock:Lock 139727033517920 acquired on models/model--LinearVanillaAggloMSD-Pretrained/vocabulary/.lock\n",
      "INFO:filelock:Lock 139727033517920 released on models/model--LinearVanillaAggloMSD-Pretrained/vocabulary/.lock\n",
      "INFO:root:Fitting the BasisVectorConfiguration\n",
      "INFO:root:Dataset reader set with following categories: [msd], lemma_char, lemma\n",
      "/home/thibault/dev/est-lascivuum-non-est/env/lib/python3.8/site-packages/allennlp/data/token_indexers/token_characters_indexer.py:55: UserWarning: You are using the default value (0) of `min_padding_length`, which can cause some subtle bugs (more info see https://github.com/allenai/allennlp/issues/1954). Strongly recommend to set a value, usually the maximum size of the convolutional layer size when using CnnEncoder.\n",
      "  warnings.warn(\n",
      "INFO:root:Indexer set for following categories: [msd], lemma_char, lemma\n",
      "WARNING:root:TSV READER uses following metadata encoding MetadataEncoding.IGNORE \n",
      "WARNING:root:TSV Reader keeps following metadata Century, Textgroup, WrittenType, CitationTypes\n"
     ]
    },
    {
     "data": {
      "text/plain": [
       "FeatureEmbeddingClassifier(\n",
       "  (_loss): CrossEntropyLoss()\n",
       "  (mixed_encoder): MixedEmbeddingEncoder(\n",
       "    (_emb_dropout): Dropout(p=0.3, inplace=False)\n",
       "    (features_embedder): FeatureAndTextEmbedder(\n",
       "      (text_embedder): BasicTextFieldEmbedder(\n",
       "        (token_embedder_lemma): Embedding()\n",
       "        (token_embedder_lemma_char): TokenCharactersEncoder(\n",
       "          (_embedding): TimeDistributed(\n",
       "            (_module): Embedding()\n",
       "          )\n",
       "          (_encoder): TimeDistributed(\n",
       "            (_module): LstmSeq2VecEncoder(\n",
       "              (_module): LSTM(100, 150, num_layers=2, batch_first=True, dropout=0.3, bidirectional=True)\n",
       "            )\n",
       "          )\n",
       "          (_dropout): Dropout(p=0.3, inplace=False)\n",
       "        )\n",
       "      )\n",
       "      (feature_embedder): Linear(in_features=52, out_features=20, bias=True)\n",
       "    )\n",
       "    (features_encoder): LstmSeq2VecEncoder(\n",
       "      (_module): LSTM(520, 64, num_layers=2, batch_first=True, dropout=0.3, bidirectional=True)\n",
       "    )\n",
       "  )\n",
       "  (classifier): Linear(in_features=128, out_features=2, bias=True)\n",
       ")"
      ]
     },
     "execution_count": 4,
     "metadata": {},
     "output_type": "execute_result"
    }
   ],
   "source": [
    "from seligator.main import Seligator\n",
    "from seligator.prediction.tests import run_tests\n",
    "\n",
    "# sel = Seligator.load_model(\"saved_model_nometadata\")\n",
    "sel = Seligator.load_model(\"models/model--LinearVanillaAggloMSD-Pretrained\")\n",
    "sel.model.cuda()\n",
    "reader = sel.get_reader()\n",
    "sel.model"
   ]
  },
  {
   "cell_type": "code",
   "execution_count": 2,
   "id": "2b796cef",
   "metadata": {},
   "outputs": [
    {
     "name": "stdout",
     "output_type": "stream",
     "text": [
      "Evaluating\n"
     ]
    },
    {
     "name": "stderr",
     "output_type": "stream",
     "text": [
      "INFO:allennlp.training.util:Iterating over dataset\n"
     ]
    },
    {
     "data": {
      "application/vnd.jupyter.widget-view+json": {
       "model_id": "5d52302ad56948638fad6963ed695173",
       "version_major": 2,
       "version_minor": 0
      },
      "text/plain": [
       "0it [00:00, ?it/s]"
      ]
     },
     "metadata": {},
     "output_type": "display_data"
    },
    {
     "name": "stderr",
     "output_type": "stream",
     "text": [
      "/home/thibault/dev/est-lascivuum-non-est/seligator/models/classifier.py:59: UserWarning: Implicit dimension choice for softmax has been deprecated. Change the call to include dim=X as an argument.\n",
      "  probs = F.softmax(logits)\n",
      "WARNING:allennlp.models.model:Encountered the attention key in the model's return dictionary which couldn't be split by the batch size. Key will be ignored.\n",
      "WARNING:allennlp.models.model:Encountered the loss key in the model's return dictionary which couldn't be split by the batch size. Key will be ignored.\n"
     ]
    },
    {
     "name": "stdout",
     "output_type": "stream",
     "text": [
      "Evaluating: Predicting\n"
     ]
    },
    {
     "name": "stderr",
     "output_type": "stream",
     "text": [
      "/home/thibault/dev/est-lascivuum-non-est/seligator/prediction/tests.py:57: UserWarning: Matplotlib is currently using module://matplotlib_inline.backend_inline, which is a non-GUI backend, so cannot show the figure.\n",
      "  disp.figure_.show()\n"
     ]
    },
    {
     "data": {
      "image/png": "[encoded data removed]",
      "text/plain": [
       "<Figure size 432x288 with 2 Axes>"
      ]
     },
     "metadata": {
      "needs_background": "light"
     },
     "output_type": "display_data"
    }
   ],
   "source": [
    "data, img = run_tests(\n",
    "    \"dataset/main/test.txt\",\n",
    "    dataset_reader=reader,\n",
    "    model=sel.model\n",
    ")"
   ]
  },
  {
   "cell_type": "code",
   "execution_count": null,
   "id": "c1eb9101",
   "metadata": {},
   "outputs": [],
   "source": []
  },
  {
   "cell_type": "code",
   "execution_count": null,
   "id": "7ede8af2",
   "metadata": {
    "scrolled": false
   },
   "outputs": [],
   "source": []
  },
  {
   "cell_type": "code",
   "execution_count": 5,
   "id": "f8296ad1",
   "metadata": {},
   "outputs": [
    {
     "name": "stderr",
     "output_type": "stream",
     "text": [
      "INFO:root:Dataset reader set with following categories: [msd], lemma_char, lemma\n",
      "INFO:root:Indexer set for following categories: [msd], lemma_char, lemma\n",
      "WARNING:root:TSV READER uses following metadata encoding MetadataEncoding.IGNORE \n",
      "WARNING:root:TSV Reader keeps following metadata Century, Textgroup, WrittenType, CitationTypes\n",
      "WARNING:allennlp.data.fields.multilabel_field:Your label namespace was '[msd]'. We recommend you use a namespace ending with 'labels' or 'tags', so we don't add UNK and PAD tokens by default to your vocabulary.  See documentation for `non_padded_namespaces` parameter in Vocabulary.\n",
      "INFO:root:Dataset reader set with following categories: [msd], lemma_char, lemma\n",
      "INFO:root:Indexer set for following categories: [msd], lemma_char, lemma\n",
      "WARNING:root:TSV READER uses following metadata encoding MetadataEncoding.IGNORE \n",
      "WARNING:root:TSV Reader keeps following metadata Century, Textgroup, WrittenType, CitationTypes\n",
      "INFO:root:Dataset reader set with following categories: [msd], lemma_char, lemma\n",
      "INFO:root:Indexer set for following categories: [msd], lemma_char, lemma\n",
      "WARNING:root:TSV READER uses following metadata encoding MetadataEncoding.IGNORE \n",
      "WARNING:root:TSV Reader keeps following metadata Century, Textgroup, WrittenType, CitationTypes\n",
      "INFO:root:Dataset reader set with following categories: [msd], lemma_char, lemma\n",
      "INFO:root:Indexer set for following categories: [msd], lemma_char, lemma\n",
      "WARNING:root:TSV READER uses following metadata encoding MetadataEncoding.IGNORE \n",
      "WARNING:root:TSV Reader keeps following metadata Century, Textgroup, WrittenType, CitationTypes\n",
      "INFO:root:Dataset reader set with following categories: [msd], lemma_char, lemma\n",
      "INFO:root:Indexer set for following categories: [msd], lemma_char, lemma\n",
      "WARNING:root:TSV READER uses following metadata encoding MetadataEncoding.IGNORE \n",
      "WARNING:root:TSV Reader keeps following metadata Century, Textgroup, WrittenType, CitationTypes\n"
     ]
    },
    {
     "name": "stdout",
     "output_type": "stream",
     "text": [
      "{'sentence': 'Spero me secutum in libellis meis tale temperamen - tum , ut de illis queri non possit quisquis de se bene senserit , cum salva infimarum quoque personarum re - verentia ludant ; quae adeo antiquis auctoribus defuit , ut nominibus non tantum veris abusi sint , sed et magnis .', 'start': '1.pr.1', 'end': '1.pr.5', 'prediction': 'negative', 'score-prediction': 0.9953933, 'doc-vectors': [0.26175352931022644, -0.005486757028847933, -0.4005614221096039, -0.22728405892848969, 0.013361253775656223, 0.7492194175720215, 0.10270670056343079, 0.4828001856803894, 0.3449781537055969, 0.8365285992622375, -0.6214749813079834, 0.060988038778305054, -0.0006944661145098507, 0.7758280038833618, -0.031068412587046623, 0.5637915730476379, 0.4439242482185364, 0.7515865564346313, -0.08192086219787598, -0.062264662235975266, 0.3581238090991974, -0.5631045699119568, -0.2427663803100586, -0.6853728890419006, 0.37943366169929504, 0.4464632272720337, -0.18033422529697418, -0.001715250313282013, -0.1658325493335724, -0.04529348760843277, 0.051962919533252716, -0.48610493540763855, -0.39986151456832886, 0.3753032386302948, 0.09417086839675903, 0.008463669568300247, 0.537128746509552, -0.17755912244319916, -0.8037652969360352, 0.2955572307109833, 0.3838300108909607, -0.27875426411628723, 0.9199856519699097, -0.015495280735194683, -0.5616614818572998, 0.030777903273701668, -0.4529324471950531, 0.034335874021053314, -0.122513547539711, 0.5824266672134399, -0.5057915449142456, -0.27001118659973145, 0.5830432772636414, -0.16548101603984833, -0.5121317505836487, -0.09108803421258926, -0.3812529742717743, -0.09201689064502716, -0.22643247246742249, -0.4040575623512268, 0.17376141250133514, 0.4303162097930908, -0.26895761489868164, -0.3157096207141876, -0.29332128167152405, -0.16184230148792267, -0.1004607230424881, -0.34931978583335876, -0.021003270521759987, -0.2624383270740509, -0.40085116028785706, -0.12069320678710938, -0.3105769455432892, -0.09292265772819519, 0.5504478216171265, -0.15147210657596588, -0.19598998129367828, -0.013528785668313503, 0.3441236913204193, -0.1204380914568901, 0.30543237924575806, -0.233717143535614, 0.2727518379688263, -0.014204016886651516, -0.4535279870033264, -0.36319294571876526, -0.04531192034482956, 0.39324942231178284, 0.23648668825626373, -0.47665491700172424, -0.038008637726306915, -0.04178795590996742, 0.010808938182890415, 0.09981785714626312, 0.3267448842525482, -0.264761745929718, -0.2653704583644867, -0.22159847617149353, 0.12742449343204498, -0.02592506818473339, 0.6263612508773804, 0.07978586852550507, -0.1484663039445877, 0.02674543671309948, -0.17074140906333923, -0.32290127873420715, 0.12152564525604248, -0.1480070948600769, -0.4391486644744873, -0.37484246492385864, -0.06798067688941956, 0.014551833271980286, 0.015105945989489555, 0.15628516674041748, 0.1960734724998474, 0.18022926151752472, -0.3903687000274658, -0.03642631322145462, 0.11495280265808105, 0.031929630786180496, 0.02974149025976658, 0.027335548773407936, 0.20933477580547333, -0.06215732544660568, 0.3099829852581024, -0.10948093980550766, -0.2341301292181015, 0.032297514379024506], 'probs': array([0.9953933 , 0.00460672], dtype=float32)}\n"
     ]
    }
   ],
   "source": [
    "from seligator.prediction.html import predictions_to_html\n",
    "\n",
    "# Do Ausone\n",
    "output = sel.predict_on_xml(\n",
    "    \"/home/thibault/dev/latin-lemmatized-texts/lemmatized/xml/urn:cts:latinLit:stoa0045.stoa003.perseus-lat2.xml\",\n",
    "     metadata={\n",
    "        \"Century\": \"4\",\n",
    "        #\"CitationTypes\": \"line\",\n",
    "        #\"Textgroup\": \"urn:cts:latinLit:stoa0045\",\n",
    "        \"WrittenType\": \"versified\"\n",
    "})\n",
    "with open(\"ausone-as-ausone.html\", \"w\") as f:\n",
    "    f.write(predictions_to_html(output, show_class=False))\n",
    "\n",
    "# Same with Virgile\n",
    "output = sel.predict_on_xml(\n",
    "    \"/home/thibault/dev/latin-lemmatized-texts/lemmatized/xml/urn:cts:latinLit:stoa0045.stoa003.perseus-lat2.xml\",\n",
    "     metadata={\n",
    "        \"Century\": \"-1\",\n",
    "        #\"CitationTypes\": \"poem,line\",\n",
    "        #\"Textgroup\": \"urn:cts:latinLit:phi0690\",\n",
    "        \"WrittenType\": \"versified\"\n",
    "})\n",
    "with open(\"ausone-as-virgile.html\", \"w\") as f:\n",
    "    f.write(predictions_to_html(output, show_class=False))\n",
    "    \n",
    "# Virgine Aeneid\n",
    "output = sel.predict_on_xml(\n",
    "    \"/home/thibault/dev/latin-lemmatized-texts/lemmatized/xml/urn:cts:latinLit:phi0690.phi003.perseus-lat2.xml\",\n",
    "     metadata={\n",
    "        \"Century\": \"-1\",\n",
    "        \"CitationTypes\": \"poem,line\",\n",
    "        #\"Textgroup\": \"urn:cts:latinLit:phi0690\",\n",
    "        \"WrittenType\": \"versified\"\n",
    "})\n",
    "with open(\"virgile-as-virgile.html\", \"w\") as f:\n",
    "    f.write(predictions_to_html(output, show_class=False))\n",
    "    \n",
    "# Martial as Martial\n",
    "output = sel.predict_on_xml(\n",
    "    \"/home/thibault/dev/latin-lemmatized-texts/lemmatized/xml/urn:cts:latinLit:phi1294.phi002.perseus-lat2.xml\",\n",
    "     metadata={\n",
    "        \"Century\": \"1\",\n",
    "        #\"CitationTypes\": \"book,poem,line\",\n",
    "        #\"Textgroup\": \"urn:cts:latinLit:phi1294\",\n",
    "        \"WrittenType\": \"versified\"\n",
    "})\n",
    "with open(\"martial-as-martial.html\", \"w\") as f:\n",
    "    f.write(predictions_to_html(output, show_class=False))\n",
    "    \n",
    "# Martial as Cicero\n",
    "output = sel.predict_on_xml(\n",
    "    \"/home/thibault/dev/latin-lemmatized-texts/lemmatized/xml/urn:cts:latinLit:phi1294.phi002.perseus-lat2.xml\",\n",
    "     metadata={\n",
    "        \"Century\": \"1\",\n",
    "        #\"CitationTypes\": \"book,poem,line\",\n",
    "        #\"Textgroup\": \"urn:cts:latinLit:phi0474\",\n",
    "        \"WrittenType\": \"versified\"\n",
    "})\n",
    "with open(\"martial-as-cicero.html\", \"w\") as f:\n",
    "    print(output[0])\n",
    "    f.write(predictions_to_html(output, show_class=True))"
   ]
  }
 ],
 "metadata": {
  "kernelspec": {
   "display_name": "Python 3",
   "language": "python",
   "name": "python3"
  },
  "language_info": {
   "codemirror_mode": {
    "name": "ipython",
    "version": 3
   },
   "file_extension": ".py",
   "mimetype": "text/x-python",
   "name": "python",
   "nbconvert_exporter": "python",
   "pygments_lexer": "ipython3",
   "version": "3.8.10"
  },
  "toc": {
   "base_numbering": 1,
   "nav_menu": {},
   "number_sections": true,
   "sideBar": true,
   "skip_h1_title": false,
   "title_cell": "Table of Contents",
   "title_sidebar": "Contents",
   "toc_cell": false,
   "toc_position": {},
   "toc_section_display": true,
   "toc_window_display": false
  }
 },
 "nbformat": 4,
 "nbformat_minor": 5
}
