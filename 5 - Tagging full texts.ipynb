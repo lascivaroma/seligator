{
 "cells": [
  {
   "cell_type": "code",
   "execution_count": 5,
   "id": "191a6c69",
   "metadata": {},
   "outputs": [
    {
     "name": "stderr",
     "output_type": "stream",
     "text": [
      "INFO:allennlp.data.vocabulary:Loading token dictionary from models/model--LinearVanillaAggloMSD-EnriLSTM-Pretrained/vocabulary.\n",
      "INFO:filelock:Lock 140529264590080 acquired on models/model--LinearVanillaAggloMSD-EnriLSTM-Pretrained/vocabulary/.lock\n",
      "INFO:filelock:Lock 140529264590080 released on models/model--LinearVanillaAggloMSD-EnriLSTM-Pretrained/vocabulary/.lock\n",
      "INFO:root:Fitting the BasisVectorConfiguration\n",
      "INFO:root:Dataset reader set with following categories: [msd], lemma_char, lemma\n",
      "INFO:root:Indexer set for following categories: [msd], lemma_char, lemma\n",
      "WARNING:root:TSV READER uses following metadata encoding MetadataEncoding.AS_CATEGORICAL \n",
      "WARNING:root:TSV Reader keeps following metadata Century, Textgroup, WrittenType, CitationTypes\n"
     ]
    },
    {
     "data": {
      "text/plain": [
       "FeatureEmbeddingClassifier(\n",
       "  (_loss): CrossEntropyLoss()\n",
       "  (mixed_encoder): MixedEmbeddingEncoder(\n",
       "    (_emb_dropout): Dropout(p=0.3, inplace=False)\n",
       "    (features_embedder): FeatureAndTextEmbedder(\n",
       "      (text_embedder): BasicTextFieldEmbedder(\n",
       "        (token_embedder_lemma): Embedding()\n",
       "        (token_embedder_lemma_char): TokenCharactersEncoder(\n",
       "          (_embedding): TimeDistributed(\n",
       "            (_module): Embedding()\n",
       "          )\n",
       "          (_encoder): TimeDistributed(\n",
       "            (_module): LstmSeq2VecEncoder(\n",
       "              (_module): LSTM(100, 150, num_layers=2, batch_first=True, dropout=0.3, bidirectional=True)\n",
       "            )\n",
       "          )\n",
       "          (_dropout): Dropout(p=0.3, inplace=False)\n",
       "        )\n",
       "      )\n",
       "      (feature_embedder): Linear(in_features=52, out_features=20, bias=True)\n",
       "    )\n",
       "    (features_encoder): MetadataEnrichedAttentionalLSTM(\n",
       "      (lstm): BasisCustBiLSTM(\n",
       "        (Century): Embedding(13, 64)\n",
       "        (Textgroup): Embedding(212, 64)\n",
       "        (WrittenType): Embedding(3, 64)\n",
       "        (CitationTypes): Embedding(54, 64)\n",
       "        (P): Sequential(\n",
       "          (0): Linear(in_features=256, out_features=64, bias=True)\n",
       "          (1): Tanh()\n",
       "          (2): Linear(in_features=64, out_features=3, bias=False)\n",
       "          (3): Softmax(dim=1)\n",
       "        )\n",
       "      )\n",
       "      (attention): BasicAttention(\n",
       "        (attention): LinearAttentionWithoutQuery(\n",
       "          (z): Linear(in_features=128, out_features=1, bias=False)\n",
       "        )\n",
       "      )\n",
       "    )\n",
       "  )\n",
       "  (classifier): Linear(in_features=128, out_features=2, bias=True)\n",
       ")"
      ]
     },
     "execution_count": 5,
     "metadata": {},
     "output_type": "execute_result"
    }
   ],
   "source": [
    "from seligator.main import Seligator\n",
    "from seligator.prediction.tests import run_tests\n",
    "\n",
    "# sel = Seligator.load_model(\"saved_model_nometadata\")\n",
    "sel = Seligator.load_model(\"models/model--LinearVanillaAggloMSD-EnriLSTM-Pretrained\")\n",
    "sel.model.cuda()\n",
    "reader = sel.get_reader()\n",
    "sel.model"
   ]
  },
  {
   "cell_type": "code",
   "execution_count": 6,
   "id": "2b796cef",
   "metadata": {},
   "outputs": [
    {
     "name": "stdout",
     "output_type": "stream",
     "text": [
      "Evaluating\n"
     ]
    },
    {
     "name": "stderr",
     "output_type": "stream",
     "text": [
      "INFO:allennlp.training.util:Iterating over dataset\n"
     ]
    },
    {
     "data": {
      "application/vnd.jupyter.widget-view+json": {
       "model_id": "5d0bb5694bf441948ddf3804b19457a1",
       "version_major": 2,
       "version_minor": 0
      },
      "text/plain": [
       "0it [00:00, ?it/s]"
      ]
     },
     "metadata": {},
     "output_type": "display_data"
    },
    {
     "name": "stdout",
     "output_type": "stream",
     "text": [
      "Evaluating: Predicting\n"
     ]
    },
    {
     "name": "stderr",
     "output_type": "stream",
     "text": [
      "/home/thibault/dev/est-lascivuum-non-est/seligator/prediction/tests.py:57: UserWarning: Matplotlib is currently using module://matplotlib_inline.backend_inline, which is a non-GUI backend, so cannot show the figure.\n",
      "  disp.figure_.show()\n"
     ]
    },
    {
     "data": {
      "image/png": "[encoded data removed]",
      "text/plain": [
       "<Figure size 432x288 with 2 Axes>"
      ]
     },
     "metadata": {
      "needs_background": "light"
     },
     "output_type": "display_data"
    }
   ],
   "source": [
    "data, img = run_tests(\n",
    "    \"dataset/main/test.txt\",\n",
    "    dataset_reader=reader,\n",
    "    model=sel.model\n",
    ")"
   ]
  },
  {
   "cell_type": "code",
   "execution_count": null,
   "id": "c1eb9101",
   "metadata": {},
   "outputs": [],
   "source": []
  },
  {
   "cell_type": "code",
   "execution_count": null,
   "id": "7ede8af2",
   "metadata": {
    "scrolled": false
   },
   "outputs": [],
   "source": []
  },
  {
   "cell_type": "code",
   "execution_count": 7,
   "id": "f8296ad1",
   "metadata": {},
   "outputs": [
    {
     "name": "stderr",
     "output_type": "stream",
     "text": [
      "INFO:root:Dataset reader set with following categories: [msd], lemma_char, lemma\n",
      "/home/thibault/dev/est-lascivuum-non-est/env/lib/python3.8/site-packages/allennlp/data/token_indexers/token_characters_indexer.py:55: UserWarning: You are using the default value (0) of `min_padding_length`, which can cause some subtle bugs (more info see https://github.com/allenai/allennlp/issues/1954). Strongly recommend to set a value, usually the maximum size of the convolutional layer size when using CnnEncoder.\n",
      "  warnings.warn(\n",
      "INFO:root:Indexer set for following categories: [msd], lemma_char, lemma\n",
      "WARNING:root:TSV READER uses following metadata encoding MetadataEncoding.AS_CATEGORICAL \n",
      "WARNING:root:TSV Reader keeps following metadata Century, Textgroup, WrittenType, CitationTypes\n",
      "/home/thibault/dev/est-lascivuum-non-est/seligator/models/classifier.py:59: UserWarning: Implicit dimension choice for softmax has been deprecated. Change the call to include dim=X as an argument.\n",
      "  probs = F.softmax(logits)\n",
      "INFO:root:Dataset reader set with following categories: [msd], lemma_char, lemma\n",
      "INFO:root:Indexer set for following categories: [msd], lemma_char, lemma\n",
      "WARNING:root:TSV READER uses following metadata encoding MetadataEncoding.AS_CATEGORICAL \n",
      "WARNING:root:TSV Reader keeps following metadata Century, Textgroup, WrittenType, CitationTypes\n",
      "INFO:root:Dataset reader set with following categories: [msd], lemma_char, lemma\n",
      "INFO:root:Indexer set for following categories: [msd], lemma_char, lemma\n",
      "WARNING:root:TSV READER uses following metadata encoding MetadataEncoding.AS_CATEGORICAL \n",
      "WARNING:root:TSV Reader keeps following metadata Century, Textgroup, WrittenType, CitationTypes\n",
      "INFO:root:Dataset reader set with following categories: [msd], lemma_char, lemma\n",
      "INFO:root:Indexer set for following categories: [msd], lemma_char, lemma\n",
      "WARNING:root:TSV READER uses following metadata encoding MetadataEncoding.AS_CATEGORICAL \n",
      "WARNING:root:TSV Reader keeps following metadata Century, Textgroup, WrittenType, CitationTypes\n",
      "INFO:root:Dataset reader set with following categories: [msd], lemma_char, lemma\n",
      "INFO:root:Indexer set for following categories: [msd], lemma_char, lemma\n",
      "WARNING:root:TSV READER uses following metadata encoding MetadataEncoding.AS_CATEGORICAL \n",
      "WARNING:root:TSV Reader keeps following metadata Century, Textgroup, WrittenType, CitationTypes\n"
     ]
    },
    {
     "name": "stdout",
     "output_type": "stream",
     "text": [
      "{'sentence': 'Spero me secutum in libellis meis tale temperamen - tum , ut de illis queri non possit quisquis de se bene senserit , cum salva infimarum quoque personarum re - verentia ludant ; quae adeo antiquis auctoribus defuit , ut nominibus non tantum veris abusi sint , sed et magnis .', 'start': '1.pr.1', 'end': '1.pr.5', 'prediction': 'negative', 'score-prediction': 0.6753681, 'attention': [0.008223005570471287, 0.005643502343446016, 0.0034693782217800617, 0.0036840811371803284, 0.008975283242762089, 0.0032727252691984177, 0.006031855009496212, 0.07797370105981827, 0.005505200009793043, 0.0022606938146054745, 0.0038270463701337576, 0.002129694214090705, 0.0043836310505867004, 0.002708673244342208, 0.003499925136566162, 0.0028535963501781225, 0.0023382052313536406, 0.0023255860432982445, 0.0028037854935973883, 0.004029788076877594, 0.0031493036076426506, 0.0022555210161954165, 0.005360324867069721, 0.0017552452627569437, 0.02256869710981846, 0.01638430915772915, 0.010041491128504276, 0.02478106878697872, 0.015072704292833805, 0.02936774492263794, 0.0966869443655014, 0.31866487860679626, 0.006149287801235914, 0.0025339005514979362, 0.00446735043078661, 0.029844289645552635, 0.006567074917256832, 0.011244389228522778, 0.006982084829360247, 0.0058378917165100574, 0.05937720835208893, 0.0053135911002755165, 0.007203984539955854, 0.016063515096902847, 0.029184333980083466, 0.012025936506688595, 0.016828080639243126, 0.014083277434110641, 0.031095823273062706, 0.023190481588244438, 0.009976739063858986], 'doc-vectors': [0.0750374048948288, -0.15818358957767487, -0.12117750942707062, -0.16316241025924683, 0.18364544212818146, -0.17674142122268677, -0.06812888383865356, 0.018321216106414795, 0.528942346572876, -0.06082616746425629, -0.183433398604393, -0.040493059903383255, 0.015913276001811028, -0.05906202644109726, -0.27057594060897827, -0.18318147957324982, 0.04072592034935951, 0.04883955419063568, -0.16566486656665802, 0.3904394507408142, -0.19828516244888306, -0.43640077114105225, 0.019176984205842018, 0.039409518241882324, 0.024073526263237, -0.03831810504198074, 0.039802487939596176, -0.1715051531791687, 0.12227458506822586, -0.022220563143491745, 0.03511391580104828, 0.009928813204169273, -0.025066090747714043, -0.037986528128385544, -0.13108667731285095, -0.021038174629211426, -0.02808654122054577, 0.23300489783287048, 0.0030160369351506233, -0.00833143200725317, 0.11680993437767029, 0.1880055069923401, 0.04507533460855484, 0.08478899300098419, 0.0297410748898983, -0.02736596390604973, 0.23098339140415192, -0.12771891057491302, 0.012875942513346672, -0.23869562149047852, 0.11857154220342636, -0.2434817999601364, 0.09199322760105133, 0.03200813755393028, 0.0346449576318264, -0.03575889393687248, -0.03416280075907707, -0.018582522869110107, 0.02910921536386013, -0.0013341415906324983, 0.054915741086006165, 0.2569839060306549, -0.14175701141357422, -0.034274984151124954, 0.014280952513217926, 0.05867764726281166, -0.06034164875745773, 0.012634320184588432, -0.8282430171966553, -0.08197809755802155, -0.06824073195457458, 0.006992363836616278, 0.05546414852142334, -0.13448429107666016, -0.2099050134420395, 0.07295616716146469, 0.294953316450119, -0.01294034719467163, 0.06828726083040237, -0.6288907527923584, 0.3350869417190552, 0.11185494065284729, -0.30369433760643005, -0.011992024257779121, -0.06659682840108871, 0.01810930296778679, -0.24474051594734192, -0.10096602141857147, -0.2737908661365509, 0.04453333094716072, 0.20472130179405212, -0.2684304416179657, 0.039171088486909866, 0.04325175657868385, -0.01028190553188324, 0.5479362607002258, -0.12853208184242249, -0.10942508280277252, 0.2341431975364685, -0.20304054021835327, 0.08639361709356308, -0.03110312856733799, -0.0515236034989357, 0.037490177899599075, -0.3912339210510254, -0.21411755681037903, 0.1590408980846405, -0.06343094259500504, -0.035828106105327606, 0.053662072867155075, 0.14195400476455688, 0.03239167109131813, 0.012703675776720047, 0.03906499966979027, -0.027031797915697098, 0.17032784223556519, 0.3254374563694, 0.02216106653213501, -0.005684529431164265, -0.0011168718338012695, -0.008321509696543217, -0.8744316101074219, -0.014847745187580585, -0.008829960599541664, -0.011100069619715214, 0.2983342409133911, 0.020924309268593788, -0.01649751514196396], 'probs': array([0.6753681 , 0.32463196], dtype=float32)}\n"
     ]
    }
   ],
   "source": [
    "from seligator.prediction.html import predictions_to_html\n",
    "\n",
    "# Do Ausone\n",
    "output = sel.predict_on_xml(\n",
    "    \"/home/thibault/dev/latin-lemmatized-texts/lemmatized/xml/urn:cts:latinLit:stoa0045.stoa003.perseus-lat2.xml\",\n",
    "     metadata={\n",
    "        \"Century\": \"4\",\n",
    "        #\"CitationTypes\": \"line\",\n",
    "        #\"Textgroup\": \"urn:cts:latinLit:stoa0045\",\n",
    "        \"WrittenType\": \"versified\"\n",
    "})\n",
    "with open(\"ausone-as-ausone.html\", \"w\") as f:\n",
    "    f.write(predictions_to_html(output, show_class=False))\n",
    "\n",
    "# Same with Virgile\n",
    "output = sel.predict_on_xml(\n",
    "    \"/home/thibault/dev/latin-lemmatized-texts/lemmatized/xml/urn:cts:latinLit:stoa0045.stoa003.perseus-lat2.xml\",\n",
    "     metadata={\n",
    "        \"Century\": \"-1\",\n",
    "        #\"CitationTypes\": \"poem,line\",\n",
    "        #\"Textgroup\": \"urn:cts:latinLit:phi0690\",\n",
    "        \"WrittenType\": \"versified\"\n",
    "})\n",
    "with open(\"ausone-as-virgile.html\", \"w\") as f:\n",
    "    f.write(predictions_to_html(output, show_class=False))\n",
    "    \n",
    "# Virgine Aeneid\n",
    "output = sel.predict_on_xml(\n",
    "    \"/home/thibault/dev/latin-lemmatized-texts/lemmatized/xml/urn:cts:latinLit:phi0690.phi003.perseus-lat2.xml\",\n",
    "     metadata={\n",
    "        \"Century\": \"-1\",\n",
    "        \"CitationTypes\": \"poem,line\",\n",
    "        #\"Textgroup\": \"urn:cts:latinLit:phi0690\",\n",
    "        \"WrittenType\": \"versified\"\n",
    "})\n",
    "with open(\"virgile-as-virgile.html\", \"w\") as f:\n",
    "    f.write(predictions_to_html(output, show_class=False))\n",
    "    \n",
    "# Martial as Martial\n",
    "output = sel.predict_on_xml(\n",
    "    \"/home/thibault/dev/latin-lemmatized-texts/lemmatized/xml/urn:cts:latinLit:phi1294.phi002.perseus-lat2.xml\",\n",
    "     metadata={\n",
    "        \"Century\": \"1\",\n",
    "        #\"CitationTypes\": \"book,poem,line\",\n",
    "        #\"Textgroup\": \"urn:cts:latinLit:phi1294\",\n",
    "        \"WrittenType\": \"versified\"\n",
    "})\n",
    "with open(\"martial-as-martial.html\", \"w\") as f:\n",
    "    f.write(predictions_to_html(output, show_class=False))\n",
    "    \n",
    "# Martial as Cicero\n",
    "output = sel.predict_on_xml(\n",
    "    \"/home/thibault/dev/latin-lemmatized-texts/lemmatized/xml/urn:cts:latinLit:phi1294.phi002.perseus-lat2.xml\",\n",
    "     metadata={\n",
    "        \"Century\": \"1\",\n",
    "        #\"CitationTypes\": \"book,poem,line\",\n",
    "        #\"Textgroup\": \"urn:cts:latinLit:phi0474\",\n",
    "        \"WrittenType\": \"versified\"\n",
    "})\n",
    "with open(\"martial-as-cicero.html\", \"w\") as f:\n",
    "    print(output[0])\n",
    "    f.write(predictions_to_html(output, show_class=True))"
   ]
  }
 ],
 "metadata": {
  "kernelspec": {
   "display_name": "Python 3",
   "language": "python",
   "name": "python3"
  },
  "language_info": {
   "codemirror_mode": {
    "name": "ipython",
    "version": 3
   },
   "file_extension": ".py",
   "mimetype": "text/x-python",
   "name": "python",
   "nbconvert_exporter": "python",
   "pygments_lexer": "ipython3",
   "version": "3.8.10"
  },
  "toc": {
   "base_numbering": 1,
   "nav_menu": {},
   "number_sections": true,
   "sideBar": true,
   "skip_h1_title": false,
   "title_cell": "Table of Contents",
   "title_sidebar": "Contents",
   "toc_cell": false,
   "toc_position": {},
   "toc_section_display": true,
   "toc_window_display": false
  }
 },
 "nbformat": 4,
 "nbformat_minor": 5
}
