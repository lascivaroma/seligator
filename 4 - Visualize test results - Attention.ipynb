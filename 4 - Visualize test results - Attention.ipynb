{
 "cells": [
  {
   "cell_type": "code",
   "execution_count": 14,
   "id": "4ab44007",
   "metadata": {},
   "outputs": [],
   "source": [
    "import pandas\n",
    "import numpy as np\n",
    "from colour import Color\n",
    "\n",
    "has_attention = False\n",
    "dont_show_ok = True\n",
    "data = pandas.read_csv(\"test.best.csv\")\n",
    "# print(data.head)\n",
    "#data[\"attention\"] = data[\"attention\"].apply(lambda x: np.array(eval(x)))\n",
    "data[\"ok\"] = data[\"prediction\"] == data[\"label\"]"
   ]
  },
  {
   "cell_type": "code",
   "execution_count": 15,
   "id": "13bf3ce6",
   "metadata": {
    "scrolled": false
   },
   "outputs": [
    {
     "data": {
      "text/html": [
       "<p><b style=\"text-decoration: line-through;;\">negative</b> -> <span style=\"display: inline-block;\">Magis</span> <span style=\"display: inline-block;\">amabunt</span> <span style=\"display: inline-block;\">,</span> <span style=\"display: inline-block;\">quom</span> <span style=\"display: inline-block;\">me</span> <span style=\"display: inline-block;\">videbunt</span> <span style=\"display: inline-block;\">gratiam</span> <span style=\"display: inline-block;\">referre</span> <span style=\"display: inline-block;\">bene</span> <span style=\"display: inline-block;\">merenti</span> <span style=\"display: inline-block;\">.</span></p>"
      ],
      "text/plain": [
       "<IPython.core.display.HTML object>"
      ]
     },
     "metadata": {},
     "output_type": "display_data"
    },
    {
     "data": {
      "text/html": [
       "<p><b style=\"text-decoration: line-through;;\">positive</b> -> <span style=\"display: inline-block;\">A.</span> <span style=\"display: inline-block;\">Perii</span> <span style=\"display: inline-block;\">miser</span> <span style=\"display: inline-block;\">,</span> <span style=\"display: inline-block;\">quia</span> <span style=\"display: inline-block;\">pudicitiae</span> <span style=\"display: inline-block;\">huius</span> <span style=\"display: inline-block;\">vitium</span> <span style=\"display: inline-block;\">me</span> <span style=\"display: inline-block;\">hinc</span> <span style=\"display: inline-block;\">absente</span> <span style=\"display: inline-block;\">est</span> <span style=\"display: inline-block;\">additum</span> <span style=\"display: inline-block;\">.</span></p>"
      ],
      "text/plain": [
       "<IPython.core.display.HTML object>"
      ]
     },
     "metadata": {},
     "output_type": "display_data"
    },
    {
     "data": {
      "text/html": [
       "<p><b style=\"text-decoration: line-through;;\">positive</b> -> <span style=\"display: inline-block;\">Os</span> <span style=\"display: inline-block;\">tibi</span> <span style=\"display: inline-block;\">percisum</span> <span style=\"display: inline-block;\">quanto</span> <span style=\"display: inline-block;\">non</span> <span style=\"display: inline-block;\">ipse</span> <span style=\"display: inline-block;\">Latinus</span> <span style=\"display: inline-block;\">Vilia</span> <span style=\"display: inline-block;\">Panniculi</span> <span style=\"display: inline-block;\">percutit</span> <span style=\"display: inline-block;\">ora</span> <span style=\"display: inline-block;\">sono</span> <span style=\"display: inline-block;\">:</span> <span style=\"display: inline-block;\">Quodque</span> <span style=\"display: inline-block;\">-que</span> <span style=\"display: inline-block;\">magis</span> <span style=\"display: inline-block;\">mirum</span> <span style=\"display: inline-block;\">est</span> <span style=\"display: inline-block;\">,</span> <span style=\"display: inline-block;\">auctorem</span> <span style=\"display: inline-block;\">criminis</span> <span style=\"display: inline-block;\">huius</span> <span style=\"display: inline-block;\">Caecilium</span> <span style=\"display: inline-block;\">tota</span> <span style=\"display: inline-block;\">rumor</span> <span style=\"display: inline-block;\">in</span> <span style=\"display: inline-block;\">urbe</span> <span style=\"display: inline-block;\">sonat</span> <span style=\"display: inline-block;\">.</span></p>"
      ],
      "text/plain": [
       "<IPython.core.display.HTML object>"
      ]
     },
     "metadata": {},
     "output_type": "display_data"
    },
    {
     "data": {
      "text/html": [
       "<p><b style=\"text-decoration: line-through;;\">negative</b> -> <span style=\"display: inline-block;\">sed</span> <span style=\"display: inline-block;\">tum</span> <span style=\"display: inline-block;\">afuit</span> <span style=\"display: inline-block;\">,</span> <span style=\"display: inline-block;\">eoque</span> <span style=\"display: inline-block;\">-que</span> <span style=\"display: inline-block;\">peius</span> <span style=\"display: inline-block;\">res</span> <span style=\"display: inline-block;\">administrata</span> <span style=\"display: inline-block;\">est</span> <span style=\"display: inline-block;\">:</span> <span style=\"display: inline-block;\">nam</span> <span style=\"display: inline-block;\">et</span> <span style=\"display: inline-block;\">prudens</span> <span style=\"display: inline-block;\">rei</span> <span style=\"display: inline-block;\">militaris</span> <span style=\"display: inline-block;\">et</span> <span style=\"display: inline-block;\">diligens</span> <span style=\"display: inline-block;\">erat</span> <span style=\"display: inline-block;\">imperator</span> <span style=\"display: inline-block;\">.</span></p>"
      ],
      "text/plain": [
       "<IPython.core.display.HTML object>"
      ]
     },
     "metadata": {},
     "output_type": "display_data"
    },
    {
     "data": {
      "text/html": [
       "<p><b style=\"text-decoration: line-through;;\">negative</b> -> <span style=\"display: inline-block;\">Et</span> <span style=\"display: inline-block;\">profecti</span> <span style=\"display: inline-block;\">de</span> <span style=\"display: inline-block;\">Sochoth</span> <span style=\"display: inline-block;\">castra</span> <span style=\"display: inline-block;\">metati</span> <span style=\"display: inline-block;\">sunt</span> <span style=\"display: inline-block;\">in</span> <span style=\"display: inline-block;\">Aetham</span> <span style=\"display: inline-block;\">,</span> <span style=\"display: inline-block;\">quae</span> <span style=\"display: inline-block;\">est</span> <span style=\"display: inline-block;\">in</span> <span style=\"display: inline-block;\">extremo</span> <span style=\"display: inline-block;\">solitudinis</span> <span style=\"display: inline-block;\">.</span></p>"
      ],
      "text/plain": [
       "<IPython.core.display.HTML object>"
      ]
     },
     "metadata": {},
     "output_type": "display_data"
    },
    {
     "data": {
      "text/html": [
       "<p><b style=\"text-decoration: line-through;;\">negative</b> -> <span style=\"display: inline-block;\">quare</span> <span style=\"display: inline-block;\">neque</span> <span style=\"display: inline-block;\">carmine</span> <span style=\"display: inline-block;\">curro</span> <span style=\"display: inline-block;\">Phalaeco</span> <span style=\"display: inline-block;\">Nec</span> <span style=\"display: inline-block;\">trimetro</span> <span style=\"display: inline-block;\">iambo</span> <span style=\"display: inline-block;\">nec</span> <span style=\"display: inline-block;\">qui</span> <span style=\"display: inline-block;\">pede</span> <span style=\"display: inline-block;\">fractus</span> <span style=\"display: inline-block;\">eodem</span> <span style=\"display: inline-block;\">Fortiter</span> <span style=\"display: inline-block;\">irasci</span> <span style=\"display: inline-block;\">discit</span> <span style=\"display: inline-block;\">duce</span> <span style=\"display: inline-block;\">Clazomenio</span> <span style=\"display: inline-block;\">.</span></p>"
      ],
      "text/plain": [
       "<IPython.core.display.HTML object>"
      ]
     },
     "metadata": {},
     "output_type": "display_data"
    },
    {
     "data": {
      "text/html": [
       "<p><b style=\"text-decoration: line-through;;\">negative</b> -> <span style=\"display: inline-block;\">aspicit</span> <span style=\"display: inline-block;\">ambiguum</span> <span style=\"display: inline-block;\">genetrix</span> <span style=\"display: inline-block;\">cogique</span> <span style=\"display: inline-block;\">-que</span> <span style=\"display: inline-block;\">volentem</span> <span style=\"display: inline-block;\">iniecitque</span> <span style=\"display: inline-block;\">-que</span> <span style=\"display: inline-block;\">sinus</span> <span style=\"display: inline-block;\">;</span></p>"
      ],
      "text/plain": [
       "<IPython.core.display.HTML object>"
      ]
     },
     "metadata": {},
     "output_type": "display_data"
    },
    {
     "data": {
      "text/html": [
       "<p><b style=\"text-decoration: line-through;;\">negative</b> -> <span style=\"display: inline-block;\">faeneratorium</span> <span style=\"display: inline-block;\">sacramentum</span> <span style=\"display: inline-block;\">dicitur</span> <span style=\"display: inline-block;\">,</span> <span style=\"display: inline-block;\">ubi</span> <span style=\"display: inline-block;\">paratur</span> <span style=\"display: inline-block;\">periurium</span> <span style=\"display: inline-block;\">.</span></p>"
      ],
      "text/plain": [
       "<IPython.core.display.HTML object>"
      ]
     },
     "metadata": {},
     "output_type": "display_data"
    },
    {
     "data": {
      "text/html": [
       "<p><b style=\"text-decoration: line-through;;\">negative</b> -> <span style=\"display: inline-block;\">notum</span> <span style=\"display: inline-block;\">est</span> <span style=\"display: inline-block;\">totum</span> <span style=\"display: inline-block;\">carmen</span> <span style=\"display: inline-block;\">incisum</span> <span style=\"display: inline-block;\">in</span> <span style=\"display: inline-block;\">sepulcro</span> <span style=\"display: inline-block;\">.</span></p>"
      ],
      "text/plain": [
       "<IPython.core.display.HTML object>"
      ]
     },
     "metadata": {},
     "output_type": "display_data"
    },
    {
     "data": {
      "text/html": [
       "<p><b style=\"text-decoration: line-through;;\">negative</b> -> <span style=\"display: inline-block;\">ea</span> <span style=\"display: inline-block;\">die</span> <span style=\"display: inline-block;\">in</span> <span style=\"display: inline-block;\">lacte</span> <span style=\"display: inline-block;\">esse</span> <span style=\"display: inline-block;\">conuersum</span> <span style=\"display: inline-block;\">,</span> <span style=\"display: inline-block;\">qua</span> <span style=\"display: inline-block;\">stellas</span> <span style=\"display: inline-block;\">fecit</span> <span style=\"display: inline-block;\">;</span></p>"
      ],
      "text/plain": [
       "<IPython.core.display.HTML object>"
      ]
     },
     "metadata": {},
     "output_type": "display_data"
    },
    {
     "data": {
      "text/html": [
       "<p><b style=\"text-decoration: line-through;;\">positive</b> -> <span style=\"display: inline-block;\">Vrbanissimum</span> <span style=\"display: inline-block;\">nomen</span> <span style=\"display: inline-block;\">Iudaeo</span> <span style=\"display: inline-block;\">inposuit</span> <span style=\"display: inline-block;\">\"</span> <span style=\"display: inline-block;\">Apellan</span> <span style=\"display: inline-block;\">\"</span> <span style=\"display: inline-block;\">dicens</span> <span style=\"display: inline-block;\">,</span> <span style=\"display: inline-block;\">quasi</span> <span style=\"display: inline-block;\">quod</span> <span style=\"display: inline-block;\">pellem</span> <span style=\"display: inline-block;\">in</span> <span style=\"display: inline-block;\">parte</span> <span style=\"display: inline-block;\">genitali</span> <span style=\"display: inline-block;\">Iudaei</span> <span style=\"display: inline-block;\">non</span> <span style=\"display: inline-block;\">habeant</span> <span style=\"display: inline-block;\">.</span></p>"
      ],
      "text/plain": [
       "<IPython.core.display.HTML object>"
      ]
     },
     "metadata": {},
     "output_type": "display_data"
    },
    {
     "data": {
      "text/html": [
       "<p><b style=\"text-decoration: line-through;;\">negative</b> -> <span style=\"display: inline-block;\">aut</span> <span style=\"display: inline-block;\">quem</span> <span style=\"display: inline-block;\">liberat</span> <span style=\"display: inline-block;\">infirmum</span> <span style=\"display: inline-block;\">si</span> <span style=\"display: inline-block;\">dedignatur</span> <span style=\"display: inline-block;\">adire</span> <span style=\"display: inline-block;\">carnis</span> <span style=\"display: inline-block;\">onus</span> <span style=\"display: inline-block;\">manuumque</span> <span style=\"display: inline-block;\">-que</span> <span style=\"display: inline-block;\">horret</span> <span style=\"display: inline-block;\">monumenta</span> <span style=\"display: inline-block;\">suarum</span> <span style=\"display: inline-block;\">?</span></p>"
      ],
      "text/plain": [
       "<IPython.core.display.HTML object>"
      ]
     },
     "metadata": {},
     "output_type": "display_data"
    },
    {
     "data": {
      "text/html": [
       "<p><b style=\"text-decoration: line-through;;\">negative</b> -> <span style=\"display: inline-block;\">atque</span> <span style=\"display: inline-block;\">earum</span> <span style=\"display: inline-block;\">rerum</span> <span style=\"display: inline-block;\">exemplum</span> <span style=\"display: inline-block;\">ex</span> <span style=\"display: inline-block;\">similitudine</span> <span style=\"display: inline-block;\">capiebat</span> <span style=\"display: inline-block;\">ineuntis</span> <span style=\"display: inline-block;\">aetatis</span> <span style=\"display: inline-block;\">,</span> <span style=\"display: inline-block;\">quod</span> <span style=\"display: inline-block;\">summi</span> <span style=\"display: inline-block;\">puerorum</span> <span style=\"display: inline-block;\">amores</span> <span style=\"display: inline-block;\">saepe</span> <span style=\"display: inline-block;\">una</span> <span style=\"display: inline-block;\">cum</span> <span style=\"display: inline-block;\">praetexta</span> <span style=\"display: inline-block;\">toga</span> <span style=\"display: inline-block;\">deponerentur</span> <span style=\"display: inline-block;\">;</span></p>"
      ],
      "text/plain": [
       "<IPython.core.display.HTML object>"
      ]
     },
     "metadata": {},
     "output_type": "display_data"
    },
    {
     "data": {
      "text/html": [
       "<p><b style=\"text-decoration: line-through;;\">negative</b> -> <span style=\"display: inline-block;\">illae</span> <span style=\"display: inline-block;\">adeo</span> <span style=\"display: inline-block;\">graviter</span> <span style=\"display: inline-block;\">inter</span> <span style=\"display: inline-block;\">se</span> <span style=\"display: inline-block;\">incitatae</span> <span style=\"display: inline-block;\">conflixerunt</span> <span style=\"display: inline-block;\">,</span> <span style=\"display: inline-block;\">ut</span> <span style=\"display: inline-block;\">vehementissime</span> <span style=\"display: inline-block;\">utraque</span> <span style=\"display: inline-block;\">ex</span> <span style=\"display: inline-block;\">concursu</span> <span style=\"display: inline-block;\">laborarent</span> <span style=\"display: inline-block;\">,</span> <span style=\"display: inline-block;\">altera</span> <span style=\"display: inline-block;\">vero</span> <span style=\"display: inline-block;\">praefracto</span> <span style=\"display: inline-block;\">rostro</span> <span style=\"display: inline-block;\">tota</span> <span style=\"display: inline-block;\">conlabefieret</span> <span style=\"display: inline-block;\">.</span></p>"
      ],
      "text/plain": [
       "<IPython.core.display.HTML object>"
      ]
     },
     "metadata": {},
     "output_type": "display_data"
    },
    {
     "data": {
      "text/html": [
       "<p><b style=\"text-decoration: line-through;;\">positive</b> -> <span style=\"display: inline-block;\">semper</span> <span style=\"display: inline-block;\">ficto</span> <span style=\"display: inline-block;\">suspirat</span> <span style=\"display: inline-block;\">amore</span> <span style=\"display: inline-block;\">,</span> <span style=\"display: inline-block;\">quae</span> <span style=\"display: inline-block;\">conplexa</span> <span style=\"display: inline-block;\">viri</span> <span style=\"display: inline-block;\">corpus</span> <span style=\"display: inline-block;\">cum</span> <span style=\"display: inline-block;\">corpore</span> <span style=\"display: inline-block;\">iungit</span> <span style=\"display: inline-block;\">et</span> <span style=\"display: inline-block;\">tenet</span> <span style=\"display: inline-block;\">adsuctis</span> <span style=\"display: inline-block;\">umectans</span> <span style=\"display: inline-block;\">oscula</span> <span style=\"display: inline-block;\">labris</span> <span style=\"display: inline-block;\">;</span> <span style=\"display: inline-block;\">nam</span> <span style=\"display: inline-block;\">facit</span> <span style=\"display: inline-block;\">ex</span> <span style=\"display: inline-block;\">animo</span> <span style=\"display: inline-block;\">saepe</span> <span style=\"display: inline-block;\">et</span> <span style=\"display: inline-block;\">communia</span> <span style=\"display: inline-block;\">quaerens</span> <span style=\"display: inline-block;\">gaudia</span> <span style=\"display: inline-block;\">sollicitat</span> <span style=\"display: inline-block;\">spatium</span> <span style=\"display: inline-block;\">decurrere</span> <span style=\"display: inline-block;\">amoris</span> <span style=\"display: inline-block;\">.</span></p>"
      ],
      "text/plain": [
       "<IPython.core.display.HTML object>"
      ]
     },
     "metadata": {},
     "output_type": "display_data"
    },
    {
     "data": {
      "text/html": [
       "<p><b style=\"text-decoration: line-through;;\">negative</b> -> <span style=\"display: inline-block;\">Maronia</span> <span style=\"display: inline-block;\">Mss</span> <span style=\"display: inline-block;\">.</span></p>"
      ],
      "text/plain": [
       "<IPython.core.display.HTML object>"
      ]
     },
     "metadata": {},
     "output_type": "display_data"
    },
    {
     "data": {
      "text/html": [
       "<p><b style=\"text-decoration: line-through;;\">negative</b> -> <span style=\"display: inline-block;\">Age</span> <span style=\"display: inline-block;\">iam</span> <span style=\"display: inline-block;\">uxorem</span> <span style=\"display: inline-block;\">ut</span> <span style=\"display: inline-block;\">arcessat</span> <span style=\"display: inline-block;\">paret</span> <span style=\"display: inline-block;\">.</span></p>"
      ],
      "text/plain": [
       "<IPython.core.display.HTML object>"
      ]
     },
     "metadata": {},
     "output_type": "display_data"
    },
    {
     "data": {
      "text/html": [
       "<p><b style=\"text-decoration: line-through;;\">positive</b> -> <span style=\"display: inline-block;\">Deformis</span> <span style=\"display: inline-block;\">uxor</span> <span style=\"display: inline-block;\">cui</span> <span style=\"display: inline-block;\">sit</span> <span style=\"display: inline-block;\">,</span> <span style=\"display: inline-block;\">ancilla</span> <span style=\"display: inline-block;\">elegans</span> <span style=\"display: inline-block;\">,</span> <span style=\"display: inline-block;\">Vxorem</span> <span style=\"display: inline-block;\">habere</span> <span style=\"display: inline-block;\">,</span> <span style=\"display: inline-block;\">subigere</span> <span style=\"display: inline-block;\">ancillam</span> <span style=\"display: inline-block;\">uelit</span> <span style=\"display: inline-block;\">.</span></p>"
      ],
      "text/plain": [
       "<IPython.core.display.HTML object>"
      ]
     },
     "metadata": {},
     "output_type": "display_data"
    },
    {
     "data": {
      "text/html": [
       "<p><b style=\"text-decoration: line-through;;\">positive</b> -> <span style=\"display: inline-block;\">Sic</span> <span style=\"display: inline-block;\">enim</span> <span style=\"display: inline-block;\">matrix</span> <span style=\"display: inline-block;\">poterit</span> <span style=\"display: inline-block;\">fetidis</span> <span style=\"display: inline-block;\">odoribus</span> <span style=\"display: inline-block;\">a</span> <span style=\"display: inline-block;\">superioribus</span> <span style=\"display: inline-block;\">ad</span> <span style=\"display: inline-block;\">inferiora</span> <span style=\"display: inline-block;\">fugari</span> <span style=\"display: inline-block;\">et</span> <span style=\"display: inline-block;\">loco</span> <span style=\"display: inline-block;\">proprio</span> <span style=\"display: inline-block;\">reuocari</span> <span style=\"display: inline-block;\">,</span> <span style=\"display: inline-block;\">cum</span> <span style=\"display: inline-block;\">melioribus</span> <span style=\"display: inline-block;\">et</span> <span style=\"display: inline-block;\">iocundis</span> <span style=\"display: inline-block;\">ad</span> <span style=\"display: inline-block;\">inferiores</span> <span style=\"display: inline-block;\">partes</span> <span style=\"display: inline-block;\">fuerit</span> <span style=\"display: inline-block;\">inuitata</span> <span style=\"display: inline-block;\">et</span> <span style=\"display: inline-block;\">prouocata</span> <span style=\"display: inline-block;\">.</span></p>"
      ],
      "text/plain": [
       "<IPython.core.display.HTML object>"
      ]
     },
     "metadata": {},
     "output_type": "display_data"
    },
    {
     "data": {
      "text/html": [
       "<p><b style=\"text-decoration: line-through;;\">positive</b> -> <span style=\"display: inline-block;\">\"</span> <span style=\"display: inline-block;\">egregium</span> <span style=\"display: inline-block;\">narras</span> <span style=\"display: inline-block;\">mira</span> <span style=\"display: inline-block;\">pietate</span> <span style=\"display: inline-block;\">parentem</span> <span style=\"display: inline-block;\">,</span> <span style=\"display: inline-block;\">qui</span> <span style=\"display: inline-block;\">ipse</span> <span style=\"display: inline-block;\">sui</span> <span style=\"display: inline-block;\">gnati</span> <span style=\"display: inline-block;\">minxerit</span> <span style=\"display: inline-block;\">in</span> <span style=\"display: inline-block;\">gremium</span> <span style=\"display: inline-block;\">.</span></p>"
      ],
      "text/plain": [
       "<IPython.core.display.HTML object>"
      ]
     },
     "metadata": {},
     "output_type": "display_data"
    },
    {
     "data": {
      "text/html": [
       "<p><b style=\"text-decoration: line-through;;\">negative</b> -> <span style=\"display: inline-block;\">propter</span> <span style=\"display: inline-block;\">hoc</span> <span style=\"display: inline-block;\">relinquet</span> <span style=\"display: inline-block;\">homo</span> <span style=\"display: inline-block;\">patrem</span> <span style=\"display: inline-block;\">suum</span> <span style=\"display: inline-block;\">et</span> <span style=\"display: inline-block;\">matrem</span> <span style=\"display: inline-block;\">et</span> <span style=\"display: inline-block;\">adhaerebit</span> <span style=\"display: inline-block;\">ad</span> <span style=\"display: inline-block;\">uxorem</span> <span style=\"display: inline-block;\">suam</span> <span style=\"display: inline-block;\">,</span> <span style=\"display: inline-block;\">et</span> <span style=\"display: inline-block;\">erunt</span> <span style=\"display: inline-block;\">duo</span> <span style=\"display: inline-block;\">in</span> <span style=\"display: inline-block;\">carne</span> <span style=\"display: inline-block;\">una</span> <span style=\"display: inline-block;\">.</span></p>"
      ],
      "text/plain": [
       "<IPython.core.display.HTML object>"
      ]
     },
     "metadata": {},
     "output_type": "display_data"
    },
    {
     "data": {
      "text/html": [
       "<p><b style=\"text-decoration: line-through;;\">positive</b> -> <span style=\"display: inline-block;\">etiamne</span> <span style=\"display: inline-block;\">-ne</span> <span style=\"display: inline-block;\">Tutunus</span> <span style=\"display: inline-block;\">,</span> <span style=\"display: inline-block;\">cuius</span> <span style=\"display: inline-block;\">inmanibus</span> <span style=\"display: inline-block;\">pudendis</span> <span style=\"display: inline-block;\">horrentique</span> <span style=\"display: inline-block;\">-que</span> <span style=\"display: inline-block;\">fascino</span> <span style=\"display: inline-block;\">uestras</span> <span style=\"display: inline-block;\">inequitare</span> <span style=\"display: inline-block;\">matronas</span> <span style=\"display: inline-block;\">et</span> <span style=\"display: inline-block;\">auspicabile</span> <span style=\"display: inline-block;\">ducitis</span> <span style=\"display: inline-block;\">et</span> <span style=\"display: inline-block;\">optatis</span> <span style=\"display: inline-block;\">?</span></p>"
      ],
      "text/plain": [
       "<IPython.core.display.HTML object>"
      ]
     },
     "metadata": {},
     "output_type": "display_data"
    },
    {
     "data": {
      "text/html": [
       "<p><b style=\"text-decoration: line-through;;\">negative</b> -> <span style=\"display: inline-block;\">sola</span> <span style=\"display: inline-block;\">tu</span> <span style=\"display: inline-block;\">morti</span> <span style=\"display: inline-block;\">propriae</span> <span style=\"display: inline-block;\">superstes</span> <span style=\"display: inline-block;\">vivis</span> <span style=\"display: inline-block;\">in</span> <span style=\"display: inline-block;\">orbe</span> <span style=\"display: inline-block;\">.</span></p>"
      ],
      "text/plain": [
       "<IPython.core.display.HTML object>"
      ]
     },
     "metadata": {},
     "output_type": "display_data"
    },
    {
     "data": {
      "text/html": [
       "<p><b style=\"text-decoration: line-through;;\">negative</b> -> <span style=\"display: inline-block;\">Non</span> <span style=\"display: inline-block;\">\"</span> <span style=\"display: inline-block;\">inquis</span> <span style=\"display: inline-block;\">\"</span> <span style=\"display: inline-block;\">faciam</span> <span style=\"display: inline-block;\">tam</span> <span style=\"display: inline-block;\">fatue</span> <span style=\"display: inline-block;\">.</span></p>"
      ],
      "text/plain": [
       "<IPython.core.display.HTML object>"
      ]
     },
     "metadata": {},
     "output_type": "display_data"
    },
    {
     "data": {
      "text/html": [
       "<p><b style=\"text-decoration: line-through;;\">positive</b> -> <span style=\"display: inline-block;\">Tum</span> <span style=\"display: inline-block;\">id</span> <span style=\"display: inline-block;\">agendum</span> <span style=\"display: inline-block;\">est</span> <span style=\"display: inline-block;\">,</span> <span style=\"display: inline-block;\">ut</span> <span style=\"display: inline-block;\">ante</span> <span style=\"display: inline-block;\">caput</span> <span style=\"display: inline-block;\">,</span> <span style=\"display: inline-block;\">deinde</span> <span style=\"display: inline-block;\">reliqua</span> <span style=\"display: inline-block;\">pars</span> <span style=\"display: inline-block;\">auferatur</span> <span style=\"display: inline-block;\">,</span> <span style=\"display: inline-block;\">quia</span> <span style=\"display: inline-block;\">fere</span> <span style=\"display: inline-block;\">maiore</span> <span style=\"display: inline-block;\">parte</span> <span style=\"display: inline-block;\">extracta</span> <span style=\"display: inline-block;\">caput</span> <span style=\"display: inline-block;\">in</span> <span style=\"display: inline-block;\">vacuam</span> <span style=\"display: inline-block;\">volvam</span> <span style=\"display: inline-block;\">prolabitur</span> <span style=\"display: inline-block;\">,</span> <span style=\"display: inline-block;\">extrahique</span> <span style=\"display: inline-block;\">-que</span> <span style=\"display: inline-block;\">sine</span> <span style=\"display: inline-block;\">summo</span> <span style=\"display: inline-block;\">periculo</span> <span style=\"display: inline-block;\">non</span> <span style=\"display: inline-block;\">potest</span> <span style=\"display: inline-block;\">.</span></p>"
      ],
      "text/plain": [
       "<IPython.core.display.HTML object>"
      ]
     },
     "metadata": {},
     "output_type": "display_data"
    },
    {
     "data": {
      "text/html": [
       "<p><b style=\"text-decoration: line-through;;\">negative</b> -> <span style=\"display: inline-block;\">structus</span> <span style=\"display: inline-block;\">enim</span> <span style=\"display: inline-block;\">lapide</span> <span style=\"display: inline-block;\">ex</span> <span style=\"display: inline-block;\">illo</span> <span style=\"display: inline-block;\">manet</span> <span style=\"display: inline-block;\">angulus</span> <span style=\"display: inline-block;\">usque</span> <span style=\"display: inline-block;\">in</span> <span style=\"display: inline-block;\">saeclum</span> <span style=\"display: inline-block;\">saecli</span> <span style=\"display: inline-block;\">,</span> <span style=\"display: inline-block;\">quem</span> <span style=\"display: inline-block;\">sprerunt</span> <span style=\"display: inline-block;\">aedificantes</span> <span style=\"display: inline-block;\">;</span></p>"
      ],
      "text/plain": [
       "<IPython.core.display.HTML object>"
      ]
     },
     "metadata": {},
     "output_type": "display_data"
    },
    {
     "data": {
      "text/html": [
       "<p><b style=\"text-decoration: line-through;;\">positive</b> -> <span style=\"display: inline-block;\">sed</span> <span style=\"display: inline-block;\">coniunx</span> <span style=\"display: inline-block;\">gravida</span> <span style=\"display: inline-block;\">primam</span> <span style=\"display: inline-block;\">utcumque</span> <span style=\"display: inline-block;\">fugam</span> <span style=\"display: inline-block;\">ob</span> <span style=\"display: inline-block;\">metum</span> <span style=\"display: inline-block;\">hostilem</span> <span style=\"display: inline-block;\">et</span> <span style=\"display: inline-block;\">mariti</span> <span style=\"display: inline-block;\">caritatem</span> <span style=\"display: inline-block;\">toleravit</span> <span style=\"display: inline-block;\">;</span> <span style=\"display: inline-block;\">post</span> <span style=\"display: inline-block;\">festinatione</span> <span style=\"display: inline-block;\">continua</span> <span style=\"display: inline-block;\">,</span> <span style=\"display: inline-block;\">ubi</span> <span style=\"display: inline-block;\">quati</span> <span style=\"display: inline-block;\">uterus</span> <span style=\"display: inline-block;\">et</span> <span style=\"display: inline-block;\">viscera</span> <span style=\"display: inline-block;\">vibrantur</span> <span style=\"display: inline-block;\">,</span> <span style=\"display: inline-block;\">orare</span> <span style=\"display: inline-block;\">ut</span> <span style=\"display: inline-block;\">morte</span> <span style=\"display: inline-block;\">honesta</span> <span style=\"display: inline-block;\">contumeliis</span> <span style=\"display: inline-block;\">captivitatis</span> <span style=\"display: inline-block;\">eximeretur</span> <span style=\"display: inline-block;\">.</span></p>"
      ],
      "text/plain": [
       "<IPython.core.display.HTML object>"
      ]
     },
     "metadata": {},
     "output_type": "display_data"
    },
    {
     "data": {
      "text/html": [
       "<p><b style=\"text-decoration: line-through;;\">positive</b> -> <span style=\"display: inline-block;\">,</span> <span style=\"display: inline-block;\">qui</span> <span style=\"display: inline-block;\">Christianis</span> <span style=\"display: inline-block;\">feminis</span> <span style=\"display: inline-block;\">in</span> <span style=\"display: inline-block;\">captiuitate</span> <span style=\"display: inline-block;\">conpressis</span> <span style=\"display: inline-block;\">alieni</span> <span style=\"display: inline-block;\">ab</span> <span style=\"display: inline-block;\">omni</span> <span style=\"display: inline-block;\">cogitatione</span> <span style=\"display: inline-block;\">sanctitatis</span> <span style=\"display: inline-block;\">insultant</span> <span style=\"display: inline-block;\">,</span></p>"
      ],
      "text/plain": [
       "<IPython.core.display.HTML object>"
      ]
     },
     "metadata": {},
     "output_type": "display_data"
    },
    {
     "data": {
      "text/html": [
       "<p><b style=\"text-decoration: line-through;;\">negative</b> -> <span style=\"display: inline-block;\">descendit</span> <span style=\"display: inline-block;\">vulnus</span> <span style=\"display: inline-block;\">ad</span> <span style=\"display: inline-block;\">ossa</span> <span style=\"display: inline-block;\">meum</span> <span style=\"display: inline-block;\">!</span></p>"
      ],
      "text/plain": [
       "<IPython.core.display.HTML object>"
      ]
     },
     "metadata": {},
     "output_type": "display_data"
    },
    {
     "data": {
      "text/html": [
       "<p><b style=\"text-decoration: line-through;;\">negative</b> -> <span style=\"display: inline-block;\">Illic</span> <span style=\"display: inline-block;\">invenies</span> <span style=\"display: inline-block;\">quod</span> <span style=\"display: inline-block;\">ames</span> <span style=\"display: inline-block;\">,</span> <span style=\"display: inline-block;\">quod</span> <span style=\"display: inline-block;\">ludere</span> <span style=\"display: inline-block;\">possis</span> <span style=\"display: inline-block;\">,</span> <span style=\"display: inline-block;\">Quodque</span> <span style=\"display: inline-block;\">-que</span> <span style=\"display: inline-block;\">semel</span> <span style=\"display: inline-block;\">tangas</span> <span style=\"display: inline-block;\">,</span> <span style=\"display: inline-block;\">quodque</span> <span style=\"display: inline-block;\">-que</span> <span style=\"display: inline-block;\">tenere</span> <span style=\"display: inline-block;\">velis</span> <span style=\"display: inline-block;\">.</span></p>"
      ],
      "text/plain": [
       "<IPython.core.display.HTML object>"
      ]
     },
     "metadata": {},
     "output_type": "display_data"
    },
    {
     "data": {
      "text/html": [
       "<p><b style=\"text-decoration: line-through;;\">positive</b> -> <span style=\"display: inline-block;\">et</span> <span style=\"display: inline-block;\">si</span> <span style=\"display: inline-block;\">in</span> <span style=\"display: inline-block;\">pinnaculis</span> <span style=\"display: inline-block;\">inventa</span> <span style=\"display: inline-block;\">fuerit</span> <span style=\"display: inline-block;\">obstrusio</span> <span style=\"display: inline-block;\">,</span> <span style=\"display: inline-block;\">scalpello</span> <span style=\"display: inline-block;\">medietas</span> <span style=\"display: inline-block;\">dividenda</span> <span style=\"display: inline-block;\">est</span> <span style=\"display: inline-block;\">usque</span> <span style=\"display: inline-block;\">ad</span> <span style=\"display: inline-block;\">inanitatem</span> <span style=\"display: inline-block;\">.</span></p>"
      ],
      "text/plain": [
       "<IPython.core.display.HTML object>"
      ]
     },
     "metadata": {},
     "output_type": "display_data"
    },
    {
     "data": {
      "text/html": [
       "<p><b style=\"text-decoration: line-through;;\">positive</b> -> <span style=\"display: inline-block;\">Fuerunt</span> <span style=\"display: inline-block;\">ex</span> <span style=\"display: inline-block;\">populo</span> <span style=\"display: inline-block;\">qui</span> <span style=\"display: inline-block;\">dicerent</span> <span style=\"display: inline-block;\">:</span> <span style=\"display: inline-block;\">\"</span> <span style=\"display: inline-block;\">hic</span> <span style=\"display: inline-block;\">meum</span> <span style=\"display: inline-block;\">filium</span> <span style=\"display: inline-block;\">,</span> <span style=\"display: inline-block;\">hic</span> <span style=\"display: inline-block;\">meam</span> <span style=\"display: inline-block;\">corrupit</span> <span style=\"display: inline-block;\">uxorem</span> <span style=\"display: inline-block;\">;</span> <span style=\"display: inline-block;\">\"</span> <span style=\"display: inline-block;\">suum</span> <span style=\"display: inline-block;\">quisque</span> <span style=\"display: inline-block;\">illo</span> <span style=\"display: inline-block;\">et</span> <span style=\"display: inline-block;\">ignem</span> <span style=\"display: inline-block;\">adtulit</span> <span style=\"display: inline-block;\">et</span> <span style=\"display: inline-block;\">dolorem</span> <span style=\"display: inline-block;\">.</span></p>"
      ],
      "text/plain": [
       "<IPython.core.display.HTML object>"
      ]
     },
     "metadata": {},
     "output_type": "display_data"
    },
    {
     "data": {
      "text/html": [
       "<p><b style=\"text-decoration: line-through;;\">negative</b> -> <span style=\"display: inline-block;\">Fons</span> <span style=\"display: inline-block;\">tuus</span> <span style=\"display: inline-block;\">emundat</span> <span style=\"display: inline-block;\">recreatu</span> <span style=\"display: inline-block;\">iustificatos</span> <span style=\"display: inline-block;\">,</span> <span style=\"display: inline-block;\">dans</span> <span style=\"display: inline-block;\">mentem</span> <span style=\"display: inline-block;\">oblitam</span> <span style=\"display: inline-block;\">positorum</span> <span style=\"display: inline-block;\">flagitiorum</span> <span style=\"display: inline-block;\">,</span> <span style=\"display: inline-block;\">dans</span> <span style=\"display: inline-block;\">agnos</span> <span style=\"display: inline-block;\">niveos</span> <span style=\"display: inline-block;\">splendescere</span> <span style=\"display: inline-block;\">purificatos</span> <span style=\"display: inline-block;\">.</span></p>"
      ],
      "text/plain": [
       "<IPython.core.display.HTML object>"
      ]
     },
     "metadata": {},
     "output_type": "display_data"
    },
    {
     "data": {
      "text/html": [
       "<p><b style=\"text-decoration: line-through;;\">negative</b> -> <span style=\"display: inline-block;\">neque</span> <span style=\"display: inline-block;\">vero</span> <span style=\"display: inline-block;\">,</span> <span style=\"display: inline-block;\">cum</span> <span style=\"display: inline-block;\">aliquid</span> <span style=\"display: inline-block;\">mandarat</span> <span style=\"display: inline-block;\">,</span> <span style=\"display: inline-block;\">confectum</span> <span style=\"display: inline-block;\">putabat</span> <span style=\"display: inline-block;\">:</span> <span style=\"display: inline-block;\">nihil</span> <span style=\"display: inline-block;\">erat</span> <span style=\"display: inline-block;\">quod</span> <span style=\"display: inline-block;\">non</span> <span style=\"display: inline-block;\">ipse</span> <span style=\"display: inline-block;\">obiret</span> <span style=\"display: inline-block;\">,</span> <span style=\"display: inline-block;\">occurreret</span> <span style=\"display: inline-block;\">,</span> <span style=\"display: inline-block;\">vigilaret</span> <span style=\"display: inline-block;\">,</span> <span style=\"display: inline-block;\">laboraret</span> <span style=\"display: inline-block;\">;</span></p>"
      ],
      "text/plain": [
       "<IPython.core.display.HTML object>"
      ]
     },
     "metadata": {},
     "output_type": "display_data"
    },
    {
     "data": {
      "text/html": [
       "<p><b style=\"text-decoration: line-through;;\">positive</b> -> <span style=\"display: inline-block;\">Sunt</span> <span style=\"display: inline-block;\">variae</span> <span style=\"display: inline-block;\">et</span> <span style=\"display: inline-block;\">diversae</span> <span style=\"display: inline-block;\">causae</span> <span style=\"display: inline-block;\">matricem</span> <span style=\"display: inline-block;\">frequentius</span> <span style=\"display: inline-block;\">attemptantes</span> <span style=\"display: inline-block;\">,</span> <span style=\"display: inline-block;\">quae</span> <span style=\"display: inline-block;\">sub</span> <span style=\"display: inline-block;\">duabus</span> <span style=\"display: inline-block;\">praecipue</span> <span style=\"display: inline-block;\">principali</span> <span style=\"display: inline-block;\">bus</span> <span style=\"display: inline-block;\">passionibus</span> <span style=\"display: inline-block;\">constrictionis</span> <span style=\"display: inline-block;\">vel</span> <span style=\"display: inline-block;\">laxationis</span> <span style=\"display: inline-block;\">etiam</span> <span style=\"display: inline-block;\">partiliter</span> <span style=\"display: inline-block;\">sub</span> <span style=\"display: inline-block;\">certis</span> <span style=\"display: inline-block;\">accidentibus</span> <span style=\"display: inline-block;\">alias</span> <span style=\"display: inline-block;\">causas</span> <span style=\"display: inline-block;\">efficiunt</span> <span style=\"display: inline-block;\">.</span></p>"
      ],
      "text/plain": [
       "<IPython.core.display.HTML object>"
      ]
     },
     "metadata": {},
     "output_type": "display_data"
    },
    {
     "data": {
      "text/html": [
       "<p><b style=\"text-decoration: line-through;;\">positive</b> -> <span style=\"display: inline-block;\">Masculus</span> <span style=\"display: inline-block;\">pavo</span> <span style=\"display: inline-block;\">gallinaceam</span> <span style=\"display: inline-block;\">salacitatem</span> <span style=\"display: inline-block;\">habet</span> <span style=\"display: inline-block;\">,</span> <span style=\"display: inline-block;\">atque</span> <span style=\"display: inline-block;\">ideo</span> <span style=\"display: inline-block;\">quinque</span> <span style=\"display: inline-block;\">feminas</span> <span style=\"display: inline-block;\">desiderat</span> <span style=\"display: inline-block;\">.</span></p>"
      ],
      "text/plain": [
       "<IPython.core.display.HTML object>"
      ]
     },
     "metadata": {},
     "output_type": "display_data"
    },
    {
     "data": {
      "text/html": [
       "<p><b style=\"text-decoration: line-through;;\">negative</b> -> <span style=\"display: inline-block;\">ideo</span> <span style=\"display: inline-block;\">voluptas</span> <span style=\"display: inline-block;\">eius</span> <span style=\"display: inline-block;\">multifariam</span> <span style=\"display: inline-block;\">comminuitur</span> <span style=\"display: inline-block;\">.</span></p>"
      ],
      "text/plain": [
       "<IPython.core.display.HTML object>"
      ]
     },
     "metadata": {},
     "output_type": "display_data"
    },
    {
     "data": {
      "text/html": [
       "<p><b style=\"text-decoration: line-through;;\">negative</b> -> <span style=\"display: inline-block;\">MILES</span> <span style=\"display: inline-block;\">ipse</span> <span style=\"display: inline-block;\">Tullius</span> <span style=\"display: inline-block;\">miles</span> <span style=\"display: inline-block;\">;</span></p>"
      ],
      "text/plain": [
       "<IPython.core.display.HTML object>"
      ]
     },
     "metadata": {},
     "output_type": "display_data"
    },
    {
     "data": {
      "text/html": [
       "<p><b style=\"text-decoration: line-through;;\">negative</b> -> <span style=\"display: inline-block;\">et</span> <span style=\"display: inline-block;\">erant</span> <span style=\"display: inline-block;\">ora</span> <span style=\"display: inline-block;\">trium</span> <span style=\"display: inline-block;\">egentium</span> <span style=\"display: inline-block;\">et</span> <span style=\"display: inline-block;\">inopiam</span> <span style=\"display: inline-block;\">suam</span> <span style=\"display: inline-block;\">sibimet</span> <span style=\"display: inline-block;\">inuicem</span> <span style=\"display: inline-block;\">anhelantium</span> <span style=\"display: inline-block;\">et</span> <span style=\"display: inline-block;\">ad</span> <span style=\"display: inline-block;\">te</span> <span style=\"display: inline-block;\">expectantium</span> <span style=\"display: inline-block;\">,</span> <span style=\"display: inline-block;\">ut</span> <span style=\"display: inline-block;\">dares</span> <span style=\"display: inline-block;\">eis</span> <span style=\"display: inline-block;\">escam</span> <span style=\"display: inline-block;\">in</span> <span style=\"display: inline-block;\">tempore</span> <span style=\"display: inline-block;\">opportuno</span> <span style=\"display: inline-block;\">.</span></p>"
      ],
      "text/plain": [
       "<IPython.core.display.HTML object>"
      ]
     },
     "metadata": {},
     "output_type": "display_data"
    },
    {
     "data": {
      "text/html": [
       "<p><b style=\"text-decoration: line-through;;\">positive</b> -> <span style=\"display: inline-block;\">Alius</span> <span style=\"display: inline-block;\">fauces</span> <span style=\"display: inline-block;\">invadit</span> <span style=\"display: inline-block;\">,</span> <span style=\"display: inline-block;\">alius</span> <span style=\"display: inline-block;\">os</span> <span style=\"display: inline-block;\">verberat</span> <span style=\"display: inline-block;\">,</span> <span style=\"display: inline-block;\">alius</span> <span style=\"display: inline-block;\">pectus</span> <span style=\"display: inline-block;\">et</span> <span style=\"display: inline-block;\">ventrem</span> <span style=\"display: inline-block;\">,</span> <span style=\"display: inline-block;\">atque</span> <span style=\"display: inline-block;\">etiam</span> <span style=\"display: inline-block;\">foedum</span> <span style=\"display: inline-block;\">dictu</span> <span style=\"display: inline-block;\">verenda</span> <span style=\"display: inline-block;\">contundit</span> <span style=\"display: inline-block;\">;</span></p>"
      ],
      "text/plain": [
       "<IPython.core.display.HTML object>"
      ]
     },
     "metadata": {},
     "output_type": "display_data"
    },
    {
     "data": {
      "text/html": [
       "<p><b style=\"text-decoration: line-through;;\">negative</b> -> <span style=\"display: inline-block;\">affusa</span> <span style=\"display: inline-block;\">totum</span> <span style=\"display: inline-block;\">corpus</span> <span style=\"display: inline-block;\">amplexu</span> <span style=\"display: inline-block;\">tegam</span> <span style=\"display: inline-block;\">,</span> <span style=\"display: inline-block;\">tuo</span> <span style=\"display: inline-block;\">emori</span> <span style=\"display: inline-block;\">per</span> <span style=\"display: inline-block;\">meum</span> <span style=\"display: inline-block;\">fiet</span> <span style=\"display: inline-block;\">via</span> <span style=\"display: inline-block;\">.</span></p>"
      ],
      "text/plain": [
       "<IPython.core.display.HTML object>"
      ]
     },
     "metadata": {},
     "output_type": "display_data"
    },
    {
     "data": {
      "text/html": [
       "<p><b style=\"text-decoration: line-through;;\">negative</b> -> <span style=\"display: inline-block;\">non</span> <span style=\"display: inline-block;\">putant</span> <span style=\"display: inline-block;\">onera</span> <span style=\"display: inline-block;\">esse</span> <span style=\"display: inline-block;\">,</span> <span style=\"display: inline-block;\">si</span> <span style=\"display: inline-block;\">pretiosa</span> <span style=\"display: inline-block;\">sint</span> <span style=\"display: inline-block;\">,</span> <span style=\"display: inline-block;\">non</span> <span style=\"display: inline-block;\">existimant</span> <span style=\"display: inline-block;\">uincula</span> <span style=\"display: inline-block;\">esse</span> <span style=\"display: inline-block;\">,</span> <span style=\"display: inline-block;\">si</span> <span style=\"display: inline-block;\">in</span> <span style=\"display: inline-block;\">his</span> <span style=\"display: inline-block;\">thensaurus</span> <span style=\"display: inline-block;\">coruscet</span> <span style=\"display: inline-block;\">.</span></p>"
      ],
      "text/plain": [
       "<IPython.core.display.HTML object>"
      ]
     },
     "metadata": {},
     "output_type": "display_data"
    },
    {
     "data": {
      "text/html": [
       "<p><b style=\"text-decoration: line-through;;\">positive</b> -> <span style=\"display: inline-block;\">uae</span> <span style=\"display: inline-block;\">striges</span> <span style=\"display: inline-block;\">comederunt</span> <span style=\"display: inline-block;\">nervos</span> <span style=\"display: inline-block;\">tuos</span> <span style=\"display: inline-block;\">,</span> <span style=\"display: inline-block;\">aut</span> <span style=\"display: inline-block;\">quod</span> <span style=\"display: inline-block;\">purgamentum</span> <span style=\"display: inline-block;\">in</span> <span style=\"display: inline-block;\">nocte</span> <span style=\"display: inline-block;\">calcasti</span> <span style=\"display: inline-block;\">in</span> <span style=\"display: inline-block;\">trivio</span> <span style=\"display: inline-block;\">aut</span> <span style=\"display: inline-block;\">cadaver</span> <span style=\"display: inline-block;\">?</span></p>"
      ],
      "text/plain": [
       "<IPython.core.display.HTML object>"
      ]
     },
     "metadata": {},
     "output_type": "display_data"
    },
    {
     "data": {
      "text/html": [
       "<p><b style=\"text-decoration: line-through;;\">positive</b> -> <span style=\"display: inline-block;\">potest</span> <span style=\"display: inline-block;\">aliquam</span> <span style=\"display: inline-block;\">corrumpere</span> <span style=\"display: inline-block;\">prolapsi</span> <span style=\"display: inline-block;\">in</span> <span style=\"display: inline-block;\">uitia</span> <span style=\"display: inline-block;\">seculi</span> <span style=\"display: inline-block;\">praua</span> <span style=\"display: inline-block;\">consuetudo</span> <span style=\"display: inline-block;\">,</span> <span style=\"display: inline-block;\">etiam</span> <span style=\"display: inline-block;\">matronarum</span> <span style=\"display: inline-block;\">multum</span> <span style=\"display: inline-block;\">in</span> <span style=\"display: inline-block;\">libidine</span> <span style=\"display: inline-block;\">magisterium</span> <span style=\"display: inline-block;\">:</span> <span style=\"display: inline-block;\">pudica</span> <span style=\"display: inline-block;\">permanebit</span> <span style=\"display: inline-block;\">.</span></p>"
      ],
      "text/plain": [
       "<IPython.core.display.HTML object>"
      ]
     },
     "metadata": {},
     "output_type": "display_data"
    },
    {
     "data": {
      "text/html": [
       "<p><b style=\"text-decoration: line-through;;\">negative</b> -> <span style=\"display: inline-block;\">ex</span> <span style=\"display: inline-block;\">lumbricis</span> <span style=\"display: inline-block;\">autem</span> <span style=\"display: inline-block;\">debilitatos</span> <span style=\"display: inline-block;\">neque</span> <span style=\"display: inline-block;\">crocydismus</span> <span style=\"display: inline-block;\">consequitur</span> <span style=\"display: inline-block;\">neque</span> <span style=\"display: inline-block;\">necessarie</span> <span style=\"display: inline-block;\">febris</span> <span style=\"display: inline-block;\">,</span> <span style=\"display: inline-block;\">aut</span> <span style=\"display: inline-block;\">si</span> <span style=\"display: inline-block;\">fuerint</span> <span style=\"display: inline-block;\">non</span> <span style=\"display: inline-block;\">cum</span> <span style=\"display: inline-block;\">earum</span> <span style=\"display: inline-block;\">accessione</span> <span style=\"display: inline-block;\">mentis</span> <span style=\"display: inline-block;\">alienatione</span> <span style=\"display: inline-block;\">asperguntur</span> <span style=\"display: inline-block;\">aut</span> <span style=\"display: inline-block;\">dimissione</span> <span style=\"display: inline-block;\">relevantur</span> <span style=\"display: inline-block;\">,</span> <span style=\"display: inline-block;\">sed</span> <span style=\"display: inline-block;\">iugiter</span> <span style=\"display: inline-block;\">plerumque</span> <span style=\"display: inline-block;\">perseverant</span> <span style=\"display: inline-block;\">.</span></p>"
      ],
      "text/plain": [
       "<IPython.core.display.HTML object>"
      ]
     },
     "metadata": {},
     "output_type": "display_data"
    },
    {
     "data": {
      "text/html": [
       "<p><b style=\"text-decoration: line-through;;\">negative</b> -> <span style=\"display: inline-block;\">Hic</span> <span style=\"display: inline-block;\">primum</span> <span style=\"display: inline-block;\">thalami</span> <span style=\"display: inline-block;\">claustris</span> <span style=\"display: inline-block;\">delicta</span> <span style=\"display: inline-block;\">tegebat</span> <span style=\"display: inline-block;\">clam</span> <span style=\"display: inline-block;\">timideque</span> <span style=\"display: inline-block;\">-que</span> <span style=\"display: inline-block;\">iubens</span> <span style=\"display: inline-block;\">;</span></p>"
      ],
      "text/plain": [
       "<IPython.core.display.HTML object>"
      ]
     },
     "metadata": {},
     "output_type": "display_data"
    },
    {
     "data": {
      "text/html": [
       "<p><b style=\"text-decoration: line-through;;\">negative</b> -> <span style=\"display: inline-block;\">Hanc</span> <span style=\"display: inline-block;\">venenis</span> <span style=\"display: inline-block;\">repugnare</span> <span style=\"display: inline-block;\">mustelae</span> <span style=\"display: inline-block;\">docent</span> <span style=\"display: inline-block;\">,</span> <span style=\"display: inline-block;\">quae</span> <span style=\"display: inline-block;\">dum</span> <span style=\"display: inline-block;\">cum</span> <span style=\"display: inline-block;\">serpente</span> <span style=\"display: inline-block;\">dimicaverint</span> <span style=\"display: inline-block;\">,</span> <span style=\"display: inline-block;\">cibo</span> <span style=\"display: inline-block;\">eius</span> <span style=\"display: inline-block;\">armantur</span> <span style=\"display: inline-block;\">.</span></p>"
      ],
      "text/plain": [
       "<IPython.core.display.HTML object>"
      ]
     },
     "metadata": {},
     "output_type": "display_data"
    },
    {
     "data": {
      "text/html": [
       "<p><b style=\"text-decoration: line-through;;\">negative</b> -> <span style=\"display: inline-block;\">DOMVS</span> <span style=\"display: inline-block;\">ASSARACI</span> <span style=\"display: inline-block;\">id</span> <span style=\"display: inline-block;\">est</span> <span style=\"display: inline-block;\">familia</span> <span style=\"display: inline-block;\">Troiana</span> <span style=\"display: inline-block;\">,</span> <span style=\"display: inline-block;\">nam</span> <span style=\"display: inline-block;\">Assaracus</span> <span style=\"display: inline-block;\">Capyn</span> <span style=\"display: inline-block;\">genuit</span> <span style=\"display: inline-block;\">,</span> <span style=\"display: inline-block;\">Capys</span> <span style=\"display: inline-block;\">Anchisen</span> <span style=\"display: inline-block;\">,</span> <span style=\"display: inline-block;\">unde</span> <span style=\"display: inline-block;\">Aeneas</span> <span style=\"display: inline-block;\">,</span> <span style=\"display: inline-block;\">auctor</span> <span style=\"display: inline-block;\">Romani</span> <span style=\"display: inline-block;\">generis</span> <span style=\"display: inline-block;\">;</span></p>"
      ],
      "text/plain": [
       "<IPython.core.display.HTML object>"
      ]
     },
     "metadata": {},
     "output_type": "display_data"
    },
    {
     "data": {
      "text/html": [
       "<p><b style=\"text-decoration: line-through;;\">negative</b> -> <span style=\"display: inline-block;\">et</span> <span style=\"display: inline-block;\">cum</span> <span style=\"display: inline-block;\">praeteriret</span> <span style=\"display: inline-block;\">vidit</span> <span style=\"display: inline-block;\">Levin</span> <span style=\"display: inline-block;\">Alphei</span> <span style=\"display: inline-block;\">sedentem</span> <span style=\"display: inline-block;\">ad</span> <span style=\"display: inline-block;\">teloneum</span> <span style=\"display: inline-block;\">et</span> <span style=\"display: inline-block;\">ait</span> <span style=\"display: inline-block;\">illi</span> <span style=\"display: inline-block;\">sequere</span> <span style=\"display: inline-block;\">me</span> <span style=\"display: inline-block;\">et</span> <span style=\"display: inline-block;\">surgens</span> <span style=\"display: inline-block;\">secutus</span> <span style=\"display: inline-block;\">est</span> <span style=\"display: inline-block;\">eum</span></p>"
      ],
      "text/plain": [
       "<IPython.core.display.HTML object>"
      ]
     },
     "metadata": {},
     "output_type": "display_data"
    },
    {
     "data": {
      "text/html": [
       "<p><b style=\"text-decoration: line-through;;\">negative</b> -> <span style=\"display: inline-block;\">\"</span> <span style=\"display: inline-block;\">ita</span> <span style=\"display: inline-block;\">non</span> <span style=\"display: inline-block;\">adulescenti</span> <span style=\"display: inline-block;\">crimen</span> <span style=\"display: inline-block;\">instituit</span> <span style=\"display: inline-block;\">quod</span> <span style=\"display: inline-block;\">uir</span> <span style=\"display: inline-block;\">sit</span> <span style=\"display: inline-block;\">,</span> <span style=\"display: inline-block;\">sed</span> <span style=\"display: inline-block;\">quod</span> <span style=\"display: inline-block;\">scit</span> <span style=\"display: inline-block;\">quid</span> <span style=\"display: inline-block;\">meretrix</span> <span style=\"display: inline-block;\">siet</span> <span style=\"display: inline-block;\">.</span></p>"
      ],
      "text/plain": [
       "<IPython.core.display.HTML object>"
      ]
     },
     "metadata": {},
     "output_type": "display_data"
    },
    {
     "data": {
      "text/html": [
       "<p><b style=\"text-decoration: line-through;;\">positive</b> -> <span style=\"display: inline-block;\">hunc</span> <span style=\"display: inline-block;\">pathicae</span> <span style=\"display: inline-block;\">summi</span> <span style=\"display: inline-block;\">numinis</span> <span style=\"display: inline-block;\">instar</span> <span style=\"display: inline-block;\">habent</span> <span style=\"display: inline-block;\">.</span></p>"
      ],
      "text/plain": [
       "<IPython.core.display.HTML object>"
      ]
     },
     "metadata": {},
     "output_type": "display_data"
    },
    {
     "data": {
      "text/html": [
       "<p><b style=\"text-decoration: line-through;;\">negative</b> -> <span style=\"display: inline-block;\">interim</span> <span style=\"display: inline-block;\">quantum</span> <span style=\"display: inline-block;\">per</span> <span style=\"display: inline-block;\">moras</span> <span style=\"display: inline-block;\">membrorum</span> <span style=\"display: inline-block;\">et</span> <span style=\"display: inline-block;\">hanc</span> <span style=\"display: inline-block;\">circumfusam</span> <span style=\"display: inline-block;\">gravem</span> <span style=\"display: inline-block;\">sarcinam</span> <span style=\"display: inline-block;\">licet</span> <span style=\"display: inline-block;\">,</span> <span style=\"display: inline-block;\">celeri</span> <span style=\"display: inline-block;\">et</span> <span style=\"display: inline-block;\">volucri</span> <span style=\"display: inline-block;\">cogitatione</span> <span style=\"display: inline-block;\">divina</span> <span style=\"display: inline-block;\">perlustrat</span> <span style=\"display: inline-block;\">.</span></p>"
      ],
      "text/plain": [
       "<IPython.core.display.HTML object>"
      ]
     },
     "metadata": {},
     "output_type": "display_data"
    },
    {
     "data": {
      "text/html": [
       "<p><b style=\"text-decoration: line-through;;\">negative</b> -> <span style=\"display: inline-block;\">Harpax</span> <span style=\"display: inline-block;\">calator</span> <span style=\"display: inline-block;\">meus</span> <span style=\"display: inline-block;\">est</span> <span style=\"display: inline-block;\">,</span> <span style=\"display: inline-block;\">ad</span> <span style=\"display: inline-block;\">te</span> <span style=\"display: inline-block;\">qui</span> <span style=\"display: inline-block;\">venit</span> <span style=\"display: inline-block;\">tun</span> <span style=\"display: inline-block;\">-ne</span> <span style=\"display: inline-block;\">es</span> <span style=\"display: inline-block;\">is</span> <span style=\"display: inline-block;\">Harpax</span> <span style=\"display: inline-block;\">?</span></p>"
      ],
      "text/plain": [
       "<IPython.core.display.HTML object>"
      ]
     },
     "metadata": {},
     "output_type": "display_data"
    },
    {
     "data": {
      "text/html": [
       "<p><b style=\"text-decoration: line-through;;\">positive</b> -> <span style=\"display: inline-block;\">Certo</span> <span style=\"display: inline-block;\">eást</span> <span style=\"display: inline-block;\">est</span> <span style=\"display: inline-block;\">quam</span> <span style=\"display: inline-block;\">in</span> <span style=\"display: inline-block;\">Épidauro</span> <span style=\"display: inline-block;\">paupérculam</span> <span style=\"display: inline-block;\">memini</span> <span style=\"display: inline-block;\">cómprimere</span> <span style=\"display: inline-block;\">.</span></p>"
      ],
      "text/plain": [
       "<IPython.core.display.HTML object>"
      ]
     },
     "metadata": {},
     "output_type": "display_data"
    },
    {
     "data": {
      "text/html": [
       "<p><b style=\"text-decoration: line-through;;\">negative</b> -> <span style=\"display: inline-block;\">ten</span> <span style=\"display: inline-block;\">-ne</span> <span style=\"display: inline-block;\">\"</span> <span style=\"display: inline-block;\">lapides</span> <span style=\"display: inline-block;\">varios</span> <span style=\"display: inline-block;\">lutulenta</span> <span style=\"display: inline-block;\">radere</span> <span style=\"display: inline-block;\">palma</span> <span style=\"display: inline-block;\">et</span> <span style=\"display: inline-block;\">Tyrias</span> <span style=\"display: inline-block;\">dare</span> <span style=\"display: inline-block;\">circum</span> <span style=\"display: inline-block;\">inlota</span> <span style=\"display: inline-block;\">toralia</span> <span style=\"display: inline-block;\">vestis</span> <span style=\"display: inline-block;\">,</span> <span style=\"display: inline-block;\">oblitum</span> <span style=\"display: inline-block;\">,</span> <span style=\"display: inline-block;\">quanto</span> <span style=\"display: inline-block;\">curam</span> <span style=\"display: inline-block;\">sumptumque</span> <span style=\"display: inline-block;\">-que</span> <span style=\"display: inline-block;\">minorem</span> <span style=\"display: inline-block;\">haec</span> <span style=\"display: inline-block;\">habeant</span> <span style=\"display: inline-block;\">,</span> <span style=\"display: inline-block;\">tanto</span> <span style=\"display: inline-block;\">reprehendi</span> <span style=\"display: inline-block;\">iustius</span> <span style=\"display: inline-block;\">illis</span> <span style=\"display: inline-block;\">,</span> <span style=\"display: inline-block;\">quae</span> <span style=\"display: inline-block;\">nisi</span> <span style=\"display: inline-block;\">divitibus</span> <span style=\"display: inline-block;\">nequeunt</span> <span style=\"display: inline-block;\">contingere</span> <span style=\"display: inline-block;\">mensis</span> <span style=\"display: inline-block;\">?</span></p>"
      ],
      "text/plain": [
       "<IPython.core.display.HTML object>"
      ]
     },
     "metadata": {},
     "output_type": "display_data"
    },
    {
     "data": {
      "text/html": [
       "<p><b style=\"text-decoration: line-through;;\">negative</b> -> <span style=\"display: inline-block;\">civitatem</span> <span style=\"display: inline-block;\">confirmari</span> <span style=\"display: inline-block;\">,</span> <span style=\"display: inline-block;\">quibus</span> <span style=\"display: inline-block;\">ademptam</span> <span style=\"display: inline-block;\">negat</span> <span style=\"display: inline-block;\">;</span></p>"
      ],
      "text/plain": [
       "<IPython.core.display.HTML object>"
      ]
     },
     "metadata": {},
     "output_type": "display_data"
    },
    {
     "data": {
      "text/html": [
       "<p><b style=\"text-decoration: line-through;;\">positive</b> -> <span style=\"display: inline-block;\">non</span> <span style=\"display: inline-block;\">ad</span> <span style=\"display: inline-block;\">corruptelam</span> <span style=\"display: inline-block;\">et</span> <span style=\"display: inline-block;\">iniuriam</span> <span style=\"display: inline-block;\">suam</span> <span style=\"display: inline-block;\">desideria</span> <span style=\"display: inline-block;\">praesentium</span> <span style=\"display: inline-block;\">sollicitant</span> <span style=\"display: inline-block;\">et</span> <span style=\"display: inline-block;\">inuitant</span> <span style=\"display: inline-block;\">?</span></p>"
      ],
      "text/plain": [
       "<IPython.core.display.HTML object>"
      ]
     },
     "metadata": {},
     "output_type": "display_data"
    },
    {
     "data": {
      "text/html": [
       "<p><b style=\"text-decoration: line-through;;\">negative</b> -> <span style=\"display: inline-block;\">Pone</span> <span style=\"display: inline-block;\">enim</span> <span style=\"display: inline-block;\">manum</span> <span style=\"display: inline-block;\">cruentatam</span> <span style=\"display: inline-block;\">atque</span> <span style=\"display: inline-block;\">adeo</span> <span style=\"display: inline-block;\">,</span> <span style=\"display: inline-block;\">ut</span> <span style=\"display: inline-block;\">istis</span> <span style=\"display: inline-block;\">etiam</span> <span style=\"display: inline-block;\">blandiar</span> <span style=\"display: inline-block;\">,</span> <span style=\"display: inline-block;\">madentem</span> <span style=\"display: inline-block;\">,</span> <span style=\"display: inline-block;\">pone</span> <span style=\"display: inline-block;\">mensuram</span> <span style=\"display: inline-block;\">itineris</span> <span style=\"display: inline-block;\">,</span> <span style=\"display: inline-block;\">spatium</span> <span style=\"display: inline-block;\">parietis</span> <span style=\"display: inline-block;\">(</span> <span style=\"display: inline-block;\">diu</span> <span style=\"display: inline-block;\">enim</span> <span style=\"display: inline-block;\">in</span> <span style=\"display: inline-block;\">secretam</span> <span style=\"display: inline-block;\">domus</span> <span style=\"display: inline-block;\">partem</span> <span style=\"display: inline-block;\">revertendum</span> <span style=\"display: inline-block;\">est</span> <span style=\"display: inline-block;\">)</span></p>"
      ],
      "text/plain": [
       "<IPython.core.display.HTML object>"
      ]
     },
     "metadata": {},
     "output_type": "display_data"
    },
    {
     "data": {
      "text/html": [
       "<p><b style=\"text-decoration: line-through;;\">positive</b> -> <span style=\"display: inline-block;\">Vivite</span> <span style=\"display: inline-block;\">Concordes</span> <span style=\"display: inline-block;\">et</span> <span style=\"display: inline-block;\">nostrum</span> <span style=\"display: inline-block;\">discite</span> <span style=\"display: inline-block;\">munus</span> <span style=\"display: inline-block;\">.</span></p>"
      ],
      "text/plain": [
       "<IPython.core.display.HTML object>"
      ]
     },
     "metadata": {},
     "output_type": "display_data"
    },
    {
     "data": {
      "text/html": [
       "<p><b style=\"text-decoration: line-through;;\">positive</b> -> <span style=\"display: inline-block;\">tu</span> <span style=\"display: inline-block;\">mihi</span> <span style=\"display: inline-block;\">primum</span> <span style=\"display: inline-block;\">tot</span> <span style=\"display: inline-block;\">natorum</span> <span style=\"display: inline-block;\">memoranda</span> <span style=\"display: inline-block;\">parens</span> <span style=\"display: inline-block;\">,</span> <span style=\"display: inline-block;\">nata</span> <span style=\"display: inline-block;\">Agrippae</span> <span style=\"display: inline-block;\">,</span> <span style=\"display: inline-block;\">nurus</span> <span style=\"display: inline-block;\">Augusti</span> <span style=\"display: inline-block;\">,</span> <span style=\"display: inline-block;\">Caesaris</span> <span style=\"display: inline-block;\">uxor</span> <span style=\"display: inline-block;\">,</span> <span style=\"display: inline-block;\">cuius</span> <span style=\"display: inline-block;\">nomen</span> <span style=\"display: inline-block;\">clarum</span> <span style=\"display: inline-block;\">toto</span> <span style=\"display: inline-block;\">fulsit</span> <span style=\"display: inline-block;\">in</span> <span style=\"display: inline-block;\">orbe</span> <span style=\"display: inline-block;\">,</span> <span style=\"display: inline-block;\">utero</span> <span style=\"display: inline-block;\">totiens</span> <span style=\"display: inline-block;\">enixa</span> <span style=\"display: inline-block;\">gravi</span> <span style=\"display: inline-block;\">pignora</span> <span style=\"display: inline-block;\">pacis</span> <span style=\"display: inline-block;\">,</span> <span style=\"display: inline-block;\">mox</span> <span style=\"display: inline-block;\">exilium</span> <span style=\"display: inline-block;\">verbera</span> <span style=\"display: inline-block;\">,</span> <span style=\"display: inline-block;\">saevas</span> <span style=\"display: inline-block;\">passa</span> <span style=\"display: inline-block;\">catenas</span> <span style=\"display: inline-block;\">,</span> <span style=\"display: inline-block;\">funera</span> <span style=\"display: inline-block;\">,</span> <span style=\"display: inline-block;\">luctus</span> <span style=\"display: inline-block;\">,</span> <span style=\"display: inline-block;\">tandem</span> <span style=\"display: inline-block;\">letum</span> <span style=\"display: inline-block;\">cruciata</span> <span style=\"display: inline-block;\">diu</span> <span style=\"display: inline-block;\">.</span></p>"
      ],
      "text/plain": [
       "<IPython.core.display.HTML object>"
      ]
     },
     "metadata": {},
     "output_type": "display_data"
    },
    {
     "data": {
      "text/html": [
       "<p><b style=\"text-decoration: line-through;;\">negative</b> -> <span style=\"display: inline-block;\">Fertilis</span> <span style=\"display: inline-block;\">,</span> <span style=\"display: inline-block;\">ut</span> <span style=\"display: inline-block;\">:</span> <span style=\"display: inline-block;\">Pinguibus</span> <span style=\"display: inline-block;\">hae</span> <span style=\"display: inline-block;\">terris</span> <span style=\"display: inline-block;\">habiles</span> <span style=\"display: inline-block;\">.</span></p>"
      ],
      "text/plain": [
       "<IPython.core.display.HTML object>"
      ]
     },
     "metadata": {},
     "output_type": "display_data"
    },
    {
     "data": {
      "text/html": [
       "<p><b style=\"text-decoration: line-through;;\">positive</b> -> <span style=\"display: inline-block;\">ex</span> <span style=\"display: inline-block;\">quibus</span> <span style=\"display: inline-block;\">una</span> <span style=\"display: inline-block;\">instanti</span> <span style=\"display: inline-block;\">Tigellino</span> <span style=\"display: inline-block;\">castiora</span> <span style=\"display: inline-block;\">esse</span> <span style=\"display: inline-block;\">muliebria</span> <span style=\"display: inline-block;\">Octaviae</span> <span style=\"display: inline-block;\">respondit</span> <span style=\"display: inline-block;\">quam</span> <span style=\"display: inline-block;\">os</span> <span style=\"display: inline-block;\">eius</span> <span style=\"display: inline-block;\">.</span></p>"
      ],
      "text/plain": [
       "<IPython.core.display.HTML object>"
      ]
     },
     "metadata": {},
     "output_type": "display_data"
    },
    {
     "data": {
      "text/html": [
       "<p><b style=\"text-decoration: line-through;;\">negative</b> -> <span style=\"display: inline-block;\">In</span> <span style=\"display: inline-block;\">ipso</span> <span style=\"display: inline-block;\">autem</span> <span style=\"display: inline-block;\">oculo</span> <span style=\"display: inline-block;\">nonnumquam</span> <span style=\"display: inline-block;\">summa</span> <span style=\"display: inline-block;\">attollitur</span> <span style=\"display: inline-block;\">tunica</span> <span style=\"display: inline-block;\">,</span> <span style=\"display: inline-block;\">sive</span> <span style=\"display: inline-block;\">ruptis</span> <span style=\"display: inline-block;\">intus</span> <span style=\"display: inline-block;\">membranis</span> <span style=\"display: inline-block;\">aliquibus</span> <span style=\"display: inline-block;\">,</span> <span style=\"display: inline-block;\">sive</span> <span style=\"display: inline-block;\">laxatis</span> <span style=\"display: inline-block;\">;</span></p>"
      ],
      "text/plain": [
       "<IPython.core.display.HTML object>"
      ]
     },
     "metadata": {},
     "output_type": "display_data"
    },
    {
     "data": {
      "text/html": [
       "<p><b style=\"text-decoration: line-through;;\">negative</b> -> <span style=\"display: inline-block;\">Recipit</span> <span style=\"display: inline-block;\">cadmiae</span> <span style=\"display: inline-block;\">combustae</span> <span style=\"display: inline-block;\">et</span> <span style=\"display: inline-block;\">lotae</span> <span style=\"display: inline-block;\">dr</span> <span style=\"display: inline-block;\">.</span></p>"
      ],
      "text/plain": [
       "<IPython.core.display.HTML object>"
      ]
     },
     "metadata": {},
     "output_type": "display_data"
    },
    {
     "data": {
      "text/html": [
       "<p><b style=\"text-decoration: line-through;;\">negative</b> -> <span style=\"display: inline-block;\">Stat</span> <span style=\"display: inline-block;\">lassus</span> <span style=\"display: inline-block;\">vacuo</span> <span style=\"display: inline-block;\">gutture</span> <span style=\"display: inline-block;\">Tantalus</span> <span style=\"display: inline-block;\">:</span> <span style=\"display: inline-block;\">impendet</span> <span style=\"display: inline-block;\">capiti</span> <span style=\"display: inline-block;\">plurima</span> <span style=\"display: inline-block;\">noxio</span> <span style=\"display: inline-block;\">Phineis</span> <span style=\"display: inline-block;\">avibus</span> <span style=\"display: inline-block;\">praeda</span> <span style=\"display: inline-block;\">fugacior</span> <span style=\"display: inline-block;\">;</span></p>"
      ],
      "text/plain": [
       "<IPython.core.display.HTML object>"
      ]
     },
     "metadata": {},
     "output_type": "display_data"
    },
    {
     "data": {
      "text/html": [
       "<p><b style=\"text-decoration: line-through;;\">positive</b> -> <span style=\"display: inline-block;\">quod</span> <span style=\"display: inline-block;\">vulgo</span> <span style=\"display: inline-block;\">dicitur</span> <span style=\"display: inline-block;\">:</span> <span style=\"display: inline-block;\">\"</span> <span style=\"display: inline-block;\">cum</span> <span style=\"display: inline-block;\">nos</span> <span style=\"display: inline-block;\">te</span> <span style=\"display: inline-block;\">voluimus</span> <span style=\"display: inline-block;\">convenire</span> <span style=\"display: inline-block;\">,</span> <span style=\"display: inline-block;\">\"</span> <span style=\"display: inline-block;\">num</span> <span style=\"display: inline-block;\">obscenum</span> <span style=\"display: inline-block;\">est</span> <span style=\"display: inline-block;\">?</span></p>"
      ],
      "text/plain": [
       "<IPython.core.display.HTML object>"
      ]
     },
     "metadata": {},
     "output_type": "display_data"
    },
    {
     "data": {
      "text/html": [
       "<p><b style=\"text-decoration: line-through;;\">positive</b> -> <span style=\"display: inline-block;\">non</span> <span style=\"display: inline-block;\">animae</span> <span style=\"display: inline-block;\">capax</span> <span style=\"display: inline-block;\">in</span> <span style=\"display: inline-block;\">parte</span> <span style=\"display: inline-block;\">dextra</span> <span style=\"display: inline-block;\">pulmo</span> <span style=\"display: inline-block;\">sanguineus</span> <span style=\"display: inline-block;\">iacet</span> <span style=\"display: inline-block;\">,</span> <span style=\"display: inline-block;\">non</span> <span style=\"display: inline-block;\">laeva</span> <span style=\"display: inline-block;\">cordi</span> <span style=\"display: inline-block;\">regio</span> <span style=\"display: inline-block;\">,</span> <span style=\"display: inline-block;\">non</span> <span style=\"display: inline-block;\">molli</span> <span style=\"display: inline-block;\">ambitu</span> <span style=\"display: inline-block;\">omenta</span> <span style=\"display: inline-block;\">pingues</span> <span style=\"display: inline-block;\">visceri</span> <span style=\"display: inline-block;\">obtendunt</span> <span style=\"display: inline-block;\">sinus</span> <span style=\"display: inline-block;\">:</span> <span style=\"display: inline-block;\">natura</span> <span style=\"display: inline-block;\">versa</span> <span style=\"display: inline-block;\">est</span> <span style=\"display: inline-block;\">,</span> <span style=\"display: inline-block;\">nulla</span> <span style=\"display: inline-block;\">lex</span> <span style=\"display: inline-block;\">utero</span> <span style=\"display: inline-block;\">manet</span> <span style=\"display: inline-block;\">,</span> <span style=\"display: inline-block;\">scrutemur</span> <span style=\"display: inline-block;\">,</span> <span style=\"display: inline-block;\">unde</span> <span style=\"display: inline-block;\">tantus</span> <span style=\"display: inline-block;\">hic</span> <span style=\"display: inline-block;\">extis</span> <span style=\"display: inline-block;\">rigor</span> <span style=\"display: inline-block;\">.</span></p>"
      ],
      "text/plain": [
       "<IPython.core.display.HTML object>"
      ]
     },
     "metadata": {},
     "output_type": "display_data"
    },
    {
     "data": {
      "text/html": [
       "<p><b style=\"text-decoration: line-through;;\">negative</b> -> <span style=\"display: inline-block;\">forma</span> <span style=\"display: inline-block;\">hominis</span> <span style=\"display: inline-block;\">coepti</span> <span style=\"display: inline-block;\">plenique</span> <span style=\"display: inline-block;\">-que</span> <span style=\"display: inline-block;\">exactio</span> <span style=\"display: inline-block;\">partus</span> <span style=\"display: inline-block;\">quique</span> <span style=\"display: inline-block;\">-que</span> <span style=\"display: inline-block;\">novem</span> <span style=\"display: inline-block;\">novies</span> <span style=\"display: inline-block;\">fati</span> <span style=\"display: inline-block;\">tenet</span> <span style=\"display: inline-block;\">ultima</span> <span style=\"display: inline-block;\">finis</span> <span style=\"display: inline-block;\">,</span> <span style=\"display: inline-block;\">tris</span> <span style=\"display: inline-block;\">Ope</span> <span style=\"display: inline-block;\">progeniti</span> <span style=\"display: inline-block;\">fratres</span> <span style=\"display: inline-block;\">,</span> <span style=\"display: inline-block;\">tris</span> <span style=\"display: inline-block;\">ordine</span> <span style=\"display: inline-block;\">partae</span> <span style=\"display: inline-block;\">,</span> <span style=\"display: inline-block;\">Vesta</span> <span style=\"display: inline-block;\">,</span> <span style=\"display: inline-block;\">Ceres</span> <span style=\"display: inline-block;\">et</span> <span style=\"display: inline-block;\">Iuno</span> <span style=\"display: inline-block;\">,</span> <span style=\"display: inline-block;\">secus</span> <span style=\"display: inline-block;\">muliebre</span> <span style=\"display: inline-block;\">,</span> <span style=\"display: inline-block;\">sorores</span> <span style=\"display: inline-block;\">.</span></p>"
      ],
      "text/plain": [
       "<IPython.core.display.HTML object>"
      ]
     },
     "metadata": {},
     "output_type": "display_data"
    },
    {
     "data": {
      "text/html": [
       "<p><b style=\"text-decoration: line-through;;\">negative</b> -> <span style=\"display: inline-block;\">I</span> <span style=\"display: inline-block;\">nubis</span> <span style=\"display: inline-block;\">verna</span> <span style=\"display: inline-block;\">pluit</span> <span style=\"display: inline-block;\">zephyro</span> <span style=\"display: inline-block;\">inpellente</span> <span style=\"display: inline-block;\">,</span> <span style=\"display: inline-block;\">sed</span> <span style=\"display: inline-block;\">aeque</span> <span style=\"display: inline-block;\">I</span> <span style=\"display: inline-block;\">furis</span> <span style=\"display: inline-block;\">et</span> <span style=\"display: inline-block;\">innocui</span> <span style=\"display: inline-block;\">fecundat</span> <span style=\"display: inline-block;\">rura</span> <span style=\"display: inline-block;\">coloni</span> <span style=\"display: inline-block;\">.</span></p>"
      ],
      "text/plain": [
       "<IPython.core.display.HTML object>"
      ]
     },
     "metadata": {},
     "output_type": "display_data"
    },
    {
     "data": {
      "text/html": [
       "<p><b style=\"text-decoration: line-through;;\">negative</b> -> <span style=\"display: inline-block;\">neque</span> <span style=\"display: inline-block;\">adfectui</span> <span style=\"display: inline-block;\">suo</span> <span style=\"display: inline-block;\">aut</span> <span style=\"display: inline-block;\">alieno</span> <span style=\"display: inline-block;\">obnoxia</span> <span style=\"display: inline-block;\">,</span> <span style=\"display: inline-block;\">unde</span> <span style=\"display: inline-block;\">utilitas</span> <span style=\"display: inline-block;\">ostenderetur</span> <span style=\"display: inline-block;\">,</span> <span style=\"display: inline-block;\">illuc</span> <span style=\"display: inline-block;\">libidinem</span> <span style=\"display: inline-block;\">transferebat</span> <span style=\"display: inline-block;\">.</span></p>"
      ],
      "text/plain": [
       "<IPython.core.display.HTML object>"
      ]
     },
     "metadata": {},
     "output_type": "display_data"
    },
    {
     "data": {
      "text/html": [
       "<p><b style=\"text-decoration: line-through;;\">negative</b> -> <span style=\"display: inline-block;\">Hellanicus</span> <span style=\"display: inline-block;\">uero</span> <span style=\"display: inline-block;\">ait</span> <span style=\"display: inline-block;\">quosdam</span> <span style=\"display: inline-block;\">ex</span> <span style=\"display: inline-block;\">gente</span> <span style=\"display: inline-block;\">Epiorum</span> <span style=\"display: inline-block;\">,</span> <span style=\"display: inline-block;\">quae</span> <span style=\"display: inline-block;\">pars</span> <span style=\"display: inline-block;\">Aetoliae</span> <span style=\"display: inline-block;\">est</span> <span style=\"display: inline-block;\">,</span> <span style=\"display: inline-block;\">ducenos</span> <span style=\"display: inline-block;\">explere</span> <span style=\"display: inline-block;\">annos</span> <span style=\"display: inline-block;\">,</span> <span style=\"display: inline-block;\">eique</span> <span style=\"display: inline-block;\">-que</span> <span style=\"display: inline-block;\">suscribit</span> <span style=\"display: inline-block;\">Damastes</span> <span style=\"display: inline-block;\">,</span> <span style=\"display: inline-block;\">hoc</span> <span style=\"display: inline-block;\">amplius</span> <span style=\"display: inline-block;\">adfirmans</span> <span style=\"display: inline-block;\">,</span> <span style=\"display: inline-block;\">Litorium</span> <span style=\"display: inline-block;\">quendam</span> <span style=\"display: inline-block;\">ex</span> <span style=\"display: inline-block;\">his</span> <span style=\"display: inline-block;\">maximarum</span> <span style=\"display: inline-block;\">uirium</span> <span style=\"display: inline-block;\">staturaeque</span> <span style=\"display: inline-block;\">-que</span> <span style=\"display: inline-block;\">praecipuae</span> <span style=\"display: inline-block;\">trecentesimum</span> <span style=\"display: inline-block;\">annum</span> <span style=\"display: inline-block;\">cumulasse</span> <span style=\"display: inline-block;\">.</span></p>"
      ],
      "text/plain": [
       "<IPython.core.display.HTML object>"
      ]
     },
     "metadata": {},
     "output_type": "display_data"
    },
    {
     "data": {
      "text/html": [
       "<p><b style=\"text-decoration: line-through;;\">positive</b> -> <span style=\"display: inline-block;\">Nam</span> <span style=\"display: inline-block;\">si</span> <span style=\"display: inline-block;\">te</span> <span style=\"display: inline-block;\">vel</span> <span style=\"display: inline-block;\">modice</span> <span style=\"display: inline-block;\">meus</span> <span style=\"display: inline-block;\">igniculus</span> <span style=\"display: inline-block;\">afflaverit</span> <span style=\"display: inline-block;\">,</span> <span style=\"display: inline-block;\">ureris</span> <span style=\"display: inline-block;\">intime</span> <span style=\"display: inline-block;\">nec</span> <span style=\"display: inline-block;\">ullus</span> <span style=\"display: inline-block;\">extinguet</span> <span style=\"display: inline-block;\">ardorem</span> <span style=\"display: inline-block;\">tuum</span> <span style=\"display: inline-block;\">nisi</span> <span style=\"display: inline-block;\">ego</span> <span style=\"display: inline-block;\">,</span> <span style=\"display: inline-block;\">quae</span> <span style=\"display: inline-block;\">dulce</span> <span style=\"display: inline-block;\">condiens</span> <span style=\"display: inline-block;\">et</span> <span style=\"display: inline-block;\">ollam</span> <span style=\"display: inline-block;\">et</span> <span style=\"display: inline-block;\">lectulum</span> <span style=\"display: inline-block;\">suave</span> <span style=\"display: inline-block;\">quatere</span> <span style=\"display: inline-block;\">novi</span> <span style=\"display: inline-block;\">,</span></p>"
      ],
      "text/plain": [
       "<IPython.core.display.HTML object>"
      ]
     },
     "metadata": {},
     "output_type": "display_data"
    },
    {
     "data": {
      "text/html": [
       "<p><b style=\"text-decoration: line-through;;\">negative</b> -> <span style=\"display: inline-block;\">Nox</span> <span style=\"display: inline-block;\">tibi</span> <span style=\"display: inline-block;\">,</span> <span style=\"display: inline-block;\">si</span> <span style=\"display: inline-block;\">belles</span> <span style=\"display: inline-block;\">,</span> <span style=\"display: inline-block;\">possit</span> <span style=\"display: inline-block;\">,</span> <span style=\"display: inline-block;\">Homere</span> <span style=\"display: inline-block;\">,</span> <span style=\"display: inline-block;\">dari</span> <span style=\"display: inline-block;\">.</span></p>"
      ],
      "text/plain": [
       "<IPython.core.display.HTML object>"
      ]
     },
     "metadata": {},
     "output_type": "display_data"
    },
    {
     "data": {
      "text/html": [
       "<p><b style=\"text-decoration: line-through;;\">positive</b> -> <span style=\"display: inline-block;\">Et</span> <span style=\"display: inline-block;\">idcirco</span> <span style=\"display: inline-block;\">consulte</span> <span style=\"display: inline-block;\">et</span> <span style=\"display: inline-block;\">çum</span> <span style=\"display: inline-block;\">uigore</span> <span style=\"display: inline-block;\">fecisti</span> <span style=\"display: inline-block;\">,</span> <span style=\"display: inline-block;\">frater</span> <span style=\"display: inline-block;\">carissime</span> <span style=\"display: inline-block;\">,</span> <span style=\"display: inline-block;\">abstinendo</span> <span style=\"display: inline-block;\">diaconum</span> <span style=\"display: inline-block;\">qui</span> <span style=\"display: inline-block;\">cum</span> <span style=\"display: inline-block;\">uirgine</span> <span style=\"display: inline-block;\">saepe</span> <span style=\"display: inline-block;\">mansit</span> <span style=\"display: inline-block;\">,</span> <span style=\"display: inline-block;\">sed</span> <span style=\"display: inline-block;\">et</span> <span style=\"display: inline-block;\">ceteros</span> <span style=\"display: inline-block;\">qui</span> <span style=\"display: inline-block;\">cum</span> <span style=\"display: inline-block;\">uirginibus</span> <span style=\"display: inline-block;\">dormire</span> <span style=\"display: inline-block;\">consueuerant</span> <span style=\"display: inline-block;\">.</span></p>"
      ],
      "text/plain": [
       "<IPython.core.display.HTML object>"
      ]
     },
     "metadata": {},
     "output_type": "display_data"
    },
    {
     "data": {
      "text/html": [
       "<p><b style=\"text-decoration: line-through;;\">positive</b> -> <span style=\"display: inline-block;\">Tamquam</span> <span style=\"display: inline-block;\">simpliciter</span> <span style=\"display: inline-block;\">mecum</span> <span style=\"display: inline-block;\">-cum</span> <span style=\"display: inline-block;\">,</span> <span style=\"display: inline-block;\">Callistrate</span> <span style=\"display: inline-block;\">,</span> <span style=\"display: inline-block;\">vivas</span> <span style=\"display: inline-block;\">,</span> <span style=\"display: inline-block;\">Dicere</span> <span style=\"display: inline-block;\">percisum</span> <span style=\"display: inline-block;\">te</span> <span style=\"display: inline-block;\">mihi</span> <span style=\"display: inline-block;\">saepe</span> <span style=\"display: inline-block;\">soles</span> <span style=\"display: inline-block;\">.</span></p>"
      ],
      "text/plain": [
       "<IPython.core.display.HTML object>"
      ]
     },
     "metadata": {},
     "output_type": "display_data"
    },
    {
     "data": {
      "text/html": [
       "<p><b style=\"text-decoration: line-through;;\">positive</b> -> <span style=\"display: inline-block;\">Si</span> <span style=\"display: inline-block;\">inter</span> <span style=\"display: inline-block;\">extraneos</span> <span style=\"display: inline-block;\">facta</span> <span style=\"display: inline-block;\">sit</span> <span style=\"display: inline-block;\">donatio</span> <span style=\"display: inline-block;\">et</span> <span style=\"display: inline-block;\">antequam</span> <span style=\"display: inline-block;\">per</span> <span style=\"display: inline-block;\">tempus</span> <span style=\"display: inline-block;\">legitimum</span> <span style=\"display: inline-block;\">dominium</span> <span style=\"display: inline-block;\">fuerit</span> <span style=\"display: inline-block;\">adquisitum</span> <span style=\"display: inline-block;\">,</span> <span style=\"display: inline-block;\">coierint</span></p>"
      ],
      "text/plain": [
       "<IPython.core.display.HTML object>"
      ]
     },
     "metadata": {},
     "output_type": "display_data"
    },
    {
     "data": {
      "text/html": [
       "<p><b style=\"text-decoration: line-through;;\">negative</b> -> <span style=\"display: inline-block;\">uiginti</span> <span style=\"display: inline-block;\">enim</span> <span style=\"display: inline-block;\">non</span> <span style=\"display: inline-block;\">subscripserant</span> <span style=\"display: inline-block;\">,</span> <span style=\"display: inline-block;\">qui</span> <span style=\"display: inline-block;\">tamen</span> <span style=\"display: inline-block;\">suam</span> <span style=\"display: inline-block;\">exhibentes</span> <span style=\"display: inline-block;\">praesentiam</span> <span style=\"display: inline-block;\">et</span> <span style=\"display: inline-block;\">in</span> <span style=\"display: inline-block;\">medium</span> <span style=\"display: inline-block;\">procedentes</span> <span style=\"display: inline-block;\">,</span> <span style=\"display: inline-block;\">nisi</span> <span style=\"display: inline-block;\">quos</span> <span style=\"display: inline-block;\">infirmitas</span> <span style=\"display: inline-block;\">corporis</span> <span style=\"display: inline-block;\">illic</span> <span style=\"display: inline-block;\">apud</span> <span style=\"display: inline-block;\">Carthaginem</span> <span style=\"display: inline-block;\">tenuit</span> <span style=\"display: inline-block;\">,</span> <span style=\"display: inline-block;\">praesentibus</span> <span style=\"display: inline-block;\">gestis</span> <span style=\"display: inline-block;\">se</span> <span style=\"display: inline-block;\">mandare</span> <span style=\"display: inline-block;\">et</span> <span style=\"display: inline-block;\">consentire</span> <span style=\"display: inline-block;\">professi</span> <span style=\"display: inline-block;\">sunt</span> <span style=\"display: inline-block;\">.</span></p>"
      ],
      "text/plain": [
       "<IPython.core.display.HTML object>"
      ]
     },
     "metadata": {},
     "output_type": "display_data"
    },
    {
     "data": {
      "text/html": [
       "<p><b style=\"text-decoration: line-through;;\">negative</b> -> <span style=\"display: inline-block;\">cum</span> <span style=\"display: inline-block;\">aliquid</span> <span style=\"display: inline-block;\">incidit</span> <span style=\"display: inline-block;\">quod</span> <span style=\"display: inline-block;\">disturbet</span> <span style=\"display: inline-block;\">ac</span> <span style=\"display: inline-block;\">detegat</span> <span style=\"display: inline-block;\">,</span> <span style=\"display: inline-block;\">tunc</span> <span style=\"display: inline-block;\">apparet</span> <span style=\"display: inline-block;\">quantum</span> <span style=\"display: inline-block;\">altae</span> <span style=\"display: inline-block;\">ac</span> <span style=\"display: inline-block;\">verae</span> <span style=\"display: inline-block;\">foeditatis</span> <span style=\"display: inline-block;\">alienus</span> <span style=\"display: inline-block;\">splendor</span> <span style=\"display: inline-block;\">absconderit</span> <span style=\"display: inline-block;\">.</span></p>"
      ],
      "text/plain": [
       "<IPython.core.display.HTML object>"
      ]
     },
     "metadata": {},
     "output_type": "display_data"
    },
    {
     "data": {
      "text/html": [
       "<p><b style=\"text-decoration: line-through;;\">negative</b> -> <span style=\"display: inline-block;\">castellum</span> <span style=\"display: inline-block;\">quippe</span> <span style=\"display: inline-block;\">illud</span> <span style=\"display: inline-block;\">non</span> <span style=\"display: inline-block;\">absurde</span> <span style=\"display: inline-block;\">accipimus</span> <span style=\"display: inline-block;\">etiam</span> <span style=\"display: inline-block;\">uillam</span> <span style=\"display: inline-block;\">potuisse</span> <span style=\"display: inline-block;\">appellari</span> <span style=\"display: inline-block;\">,</span> <span style=\"display: inline-block;\">quod</span> <span style=\"display: inline-block;\">nunc</span> <span style=\"display: inline-block;\">iam</span> <span style=\"display: inline-block;\">appellatur</span> <span style=\"display: inline-block;\">ipsa</span> <span style=\"display: inline-block;\">Bethlem</span> <span style=\"display: inline-block;\">,</span> <span style=\"display: inline-block;\">quae</span> <span style=\"display: inline-block;\">ciuitas</span> <span style=\"display: inline-block;\">antea</span> <span style=\"display: inline-block;\">uocitata</span> <span style=\"display: inline-block;\">est</span> <span style=\"display: inline-block;\">,</span> <span style=\"display: inline-block;\">quamuis</span> <span style=\"display: inline-block;\">nunc</span> <span style=\"display: inline-block;\">sit</span> <span style=\"display: inline-block;\">honoris</span> <span style=\"display: inline-block;\">amplioris</span> <span style=\"display: inline-block;\">nomine</span> <span style=\"display: inline-block;\">domini</span> <span style=\"display: inline-block;\">.</span></p>"
      ],
      "text/plain": [
       "<IPython.core.display.HTML object>"
      ]
     },
     "metadata": {},
     "output_type": "display_data"
    },
    {
     "data": {
      "text/html": [
       "<p><b style=\"text-decoration: line-through;;\">negative</b> -> <span style=\"display: inline-block;\">quam</span> <span style=\"display: inline-block;\">similitudinem</span> <span style=\"display: inline-block;\">videmus</span> <span style=\"display: inline-block;\">in</span> <span style=\"display: inline-block;\">bestiis</span> <span style=\"display: inline-block;\">,</span> <span style=\"display: inline-block;\">quae</span> <span style=\"display: inline-block;\">primo</span> <span style=\"display: inline-block;\">,</span> <span style=\"display: inline-block;\">in</span> <span style=\"display: inline-block;\">quo</span> <span style=\"display: inline-block;\">loco</span> <span style=\"display: inline-block;\">natae</span> <span style=\"display: inline-block;\">sunt</span> <span style=\"display: inline-block;\">,</span> <span style=\"display: inline-block;\">ex</span> <span style=\"display: inline-block;\">eo</span> <span style=\"display: inline-block;\">se</span> <span style=\"display: inline-block;\">non</span> <span style=\"display: inline-block;\">commovent</span> <span style=\"display: inline-block;\">,</span> <span style=\"display: inline-block;\">deinde</span> <span style=\"display: inline-block;\">suo</span> <span style=\"display: inline-block;\">quaeque</span> <span style=\"display: inline-block;\">appetitu</span> <span style=\"display: inline-block;\">movetur</span> <span style=\"display: inline-block;\">.</span></p>"
      ],
      "text/plain": [
       "<IPython.core.display.HTML object>"
      ]
     },
     "metadata": {},
     "output_type": "display_data"
    },
    {
     "data": {
      "text/html": [
       "<p><b style=\"text-decoration: line-through;;\">negative</b> -> <span style=\"display: inline-block;\">in</span> <span style=\"display: inline-block;\">uenerio</span> <span style=\"display: inline-block;\">coitu</span> <span style=\"display: inline-block;\">facit</span> <span style=\"display: inline-block;\">libidinosos</span> <span style=\"display: inline-block;\">et</span> <span style=\"display: inline-block;\">uitiis</span> <span style=\"display: inline-block;\">quibusdam</span> <span style=\"display: inline-block;\">semper</span> <span style=\"display: inline-block;\">implicitos</span> <span style=\"display: inline-block;\">et</span> <span style=\"display: inline-block;\">qui</span> <span style=\"display: inline-block;\">adsiduis</span> <span style=\"display: inline-block;\">ob</span> <span style=\"display: inline-block;\">haec</span> <span style=\"display: inline-block;\">pulsantur</span> <span style=\"display: inline-block;\">infamiis</span> <span style=\"display: inline-block;\">.</span></p>"
      ],
      "text/plain": [
       "<IPython.core.display.HTML object>"
      ]
     },
     "metadata": {},
     "output_type": "display_data"
    },
    {
     "data": {
      "text/html": [
       "<p><b style=\"text-decoration: line-through;;\">negative</b> -> <span style=\"display: inline-block;\">Quare</span> <span style=\"display: inline-block;\">iratus</span> <span style=\"display: inline-block;\">Cappadociam</span> <span style=\"display: inline-block;\">statim</span> <span style=\"display: inline-block;\">occupavit</span> <span style=\"display: inline-block;\">et</span> <span style=\"display: inline-block;\">ex</span> <span style=\"display: inline-block;\">ea</span> <span style=\"display: inline-block;\">Ariobarzanen</span> <span style=\"display: inline-block;\">,</span> <span style=\"display: inline-block;\">regem</span> <span style=\"display: inline-block;\">et</span> <span style=\"display: inline-block;\">amicum</span> <span style=\"display: inline-block;\">populi</span> <span style=\"display: inline-block;\">Romani</span> <span style=\"display: inline-block;\">,</span> <span style=\"display: inline-block;\">fugavit</span> <span style=\"display: inline-block;\">.</span></p>"
      ],
      "text/plain": [
       "<IPython.core.display.HTML object>"
      ]
     },
     "metadata": {},
     "output_type": "display_data"
    },
    {
     "data": {
      "text/html": [
       "<p><b style=\"text-decoration: line-through;;\">positive</b> -> <span style=\"display: inline-block;\">Cum</span> <span style=\"display: inline-block;\">mora</span> <span style=\"display: inline-block;\">non</span> <span style=\"display: inline-block;\">tuta</span> <span style=\"display: inline-block;\">est</span> <span style=\"display: inline-block;\">,</span> <span style=\"display: inline-block;\">totis</span> <span style=\"display: inline-block;\">incumbere</span> <span style=\"display: inline-block;\">remis</span> <span style=\"display: inline-block;\">Utile</span> <span style=\"display: inline-block;\">,</span> <span style=\"display: inline-block;\">et</span> <span style=\"display: inline-block;\">admisso</span> <span style=\"display: inline-block;\">subdere</span> <span style=\"display: inline-block;\">calcar</span> <span style=\"display: inline-block;\">equo</span> <span style=\"display: inline-block;\">.</span></p>"
      ],
      "text/plain": [
       "<IPython.core.display.HTML object>"
      ]
     },
     "metadata": {},
     "output_type": "display_data"
    },
    {
     "data": {
      "text/html": [
       "<p><b style=\"text-decoration: line-through;;\">negative</b> -> <span style=\"display: inline-block;\">Peior</span> <span style=\"display: inline-block;\">est</span> <span style=\"display: inline-block;\">quam</span> <span style=\"display: inline-block;\">luxuria</span> <span style=\"display: inline-block;\">,</span> <span style=\"display: inline-block;\">quoniam</span> <span style=\"display: inline-block;\">illa</span> <span style=\"display: inline-block;\">sua</span> <span style=\"display: inline-block;\">voluptate</span> <span style=\"display: inline-block;\">fruitur</span> <span style=\"display: inline-block;\">,</span> <span style=\"display: inline-block;\">haec</span> <span style=\"display: inline-block;\">alieno</span> <span style=\"display: inline-block;\">dolore</span> <span style=\"display: inline-block;\">.</span></p>"
      ],
      "text/plain": [
       "<IPython.core.display.HTML object>"
      ]
     },
     "metadata": {},
     "output_type": "display_data"
    },
    {
     "data": {
      "text/html": [
       "<p><b style=\"text-decoration: line-through;;\">positive</b> -> <span style=\"display: inline-block;\">\"</span> <span style=\"display: inline-block;\">Nube</span> <span style=\"display: inline-block;\">,</span> <span style=\"display: inline-block;\">precor</span> <span style=\"display: inline-block;\">,</span> <span style=\"display: inline-block;\">\"</span> <span style=\"display: inline-block;\">dicet</span> <span style=\"display: inline-block;\">,</span> <span style=\"display: inline-block;\">\"</span> <span style=\"display: inline-block;\">cui</span> <span style=\"display: inline-block;\">te</span> <span style=\"display: inline-block;\">bona</span> <span style=\"display: inline-block;\">numina</span> <span style=\"display: inline-block;\">iungunt</span> <span style=\"display: inline-block;\">;</span></p>"
      ],
      "text/plain": [
       "<IPython.core.display.HTML object>"
      ]
     },
     "metadata": {},
     "output_type": "display_data"
    },
    {
     "data": {
      "text/html": [
       "<p><b style=\"text-decoration: line-through;;\">negative</b> -> <span style=\"display: inline-block;\">cuius</span> <span style=\"display: inline-block;\">regnum</span> <span style=\"display: inline-block;\">continuo</span> <span style=\"display: inline-block;\">Romulus</span> <span style=\"display: inline-block;\">parricidio</span> <span style=\"display: inline-block;\">imbuit</span> <span style=\"display: inline-block;\">,</span> <span style=\"display: inline-block;\">parique</span> <span style=\"display: inline-block;\">-que</span> <span style=\"display: inline-block;\">successu</span> <span style=\"display: inline-block;\">crudelitatis</span> <span style=\"display: inline-block;\">sine</span> <span style=\"display: inline-block;\">more</span> <span style=\"display: inline-block;\">raptas</span> <span style=\"display: inline-block;\">Sabinas</span> <span style=\"display: inline-block;\">,</span> <span style=\"display: inline-block;\">inprobis</span> <span style=\"display: inline-block;\">nuptiis</span> <span style=\"display: inline-block;\">confoederatas</span> <span style=\"display: inline-block;\">maritorum</span> <span style=\"display: inline-block;\">et</span> <span style=\"display: inline-block;\">parentum</span> <span style=\"display: inline-block;\">cruore</span> <span style=\"display: inline-block;\">dotauit</span> <span style=\"display: inline-block;\">.</span></p>"
      ],
      "text/plain": [
       "<IPython.core.display.HTML object>"
      ]
     },
     "metadata": {},
     "output_type": "display_data"
    },
    {
     "data": {
      "text/html": [
       "<p><b style=\"text-decoration: line-through;;\">negative</b> -> <span style=\"display: inline-block;\">Ne</span> <span style=\"display: inline-block;\">toga</span> <span style=\"display: inline-block;\">cordylis</span> <span style=\"display: inline-block;\">et</span> <span style=\"display: inline-block;\">paenula</span> <span style=\"display: inline-block;\">desit</span> <span style=\"display: inline-block;\">olivis</span> <span style=\"display: inline-block;\">Aut</span> <span style=\"display: inline-block;\">inopem</span> <span style=\"display: inline-block;\">metuat</span> <span style=\"display: inline-block;\">sordida</span> <span style=\"display: inline-block;\">blatta</span> <span style=\"display: inline-block;\">famem</span> <span style=\"display: inline-block;\">,</span> <span style=\"display: inline-block;\">Perdite</span> <span style=\"display: inline-block;\">Niliacas</span> <span style=\"display: inline-block;\">,</span> <span style=\"display: inline-block;\">Musae</span> <span style=\"display: inline-block;\">,</span> <span style=\"display: inline-block;\">mea</span> <span style=\"display: inline-block;\">damna</span> <span style=\"display: inline-block;\">,</span> <span style=\"display: inline-block;\">papyros</span> <span style=\"display: inline-block;\">:</span> <span style=\"display: inline-block;\">Postulat</span> <span style=\"display: inline-block;\">,</span> <span style=\"display: inline-block;\">ecce</span> <span style=\"display: inline-block;\">,</span> <span style=\"display: inline-block;\">novos</span> <span style=\"display: inline-block;\">ebria</span> <span style=\"display: inline-block;\">bruma</span> <span style=\"display: inline-block;\">sales</span> <span style=\"display: inline-block;\">.</span></p>"
      ],
      "text/plain": [
       "<IPython.core.display.HTML object>"
      ]
     },
     "metadata": {},
     "output_type": "display_data"
    },
    {
     "data": {
      "text/html": [
       "<p><b style=\"text-decoration: line-through;;\">negative</b> -> <span style=\"display: inline-block;\">Nec</span> <span style=\"display: inline-block;\">tamen</span> <span style=\"display: inline-block;\">indignum</span> <span style=\"display: inline-block;\">:</span> <span style=\"display: inline-block;\">sit</span> <span style=\"display: inline-block;\">vobis</span> <span style=\"display: inline-block;\">cura</span> <span style=\"display: inline-block;\">placendi</span> <span style=\"display: inline-block;\">,</span> <span style=\"display: inline-block;\">Cum</span> <span style=\"display: inline-block;\">comptos</span> <span style=\"display: inline-block;\">habeant</span> <span style=\"display: inline-block;\">saecula</span> <span style=\"display: inline-block;\">nostra</span> <span style=\"display: inline-block;\">viros</span> <span style=\"display: inline-block;\">.</span></p>"
      ],
      "text/plain": [
       "<IPython.core.display.HTML object>"
      ]
     },
     "metadata": {},
     "output_type": "display_data"
    },
    {
     "data": {
      "text/html": [
       "<p><b style=\"text-decoration: line-through;;\">positive</b> -> <span style=\"display: inline-block;\">post</span> <span style=\"display: inline-block;\">si</span> <span style=\"display: inline-block;\">quis</span> <span style=\"display: inline-block;\">vellet</span> <span style=\"display: inline-block;\">,</span> <span style=\"display: inline-block;\">te</span> <span style=\"display: inline-block;\">haud</span> <span style=\"display: inline-block;\">non</span> <span style=\"display: inline-block;\">velles</span> <span style=\"display: inline-block;\">dividi</span> <span style=\"display: inline-block;\">.</span></p>"
      ],
      "text/plain": [
       "<IPython.core.display.HTML object>"
      ]
     },
     "metadata": {},
     "output_type": "display_data"
    },
    {
     "data": {
      "text/html": [
       "<p><b style=\"text-decoration: line-through;;\">positive</b> -> <span style=\"display: inline-block;\">tibi</span> <span style=\"display: inline-block;\">uni</span> <span style=\"display: inline-block;\">peteres</span> <span style=\"display: inline-block;\">qui</span> <span style=\"display: inline-block;\">ita</span> <span style=\"display: inline-block;\">a</span> <span style=\"display: inline-block;\">puero</span> <span style=\"display: inline-block;\">vixeras</span> <span style=\"display: inline-block;\">ut</span> <span style=\"display: inline-block;\">omnia</span> <span style=\"display: inline-block;\">paterere</span> <span style=\"display: inline-block;\">,</span> <span style=\"display: inline-block;\">ut</span> <span style=\"display: inline-block;\">facile</span> <span style=\"display: inline-block;\">servires</span></p>"
      ],
      "text/plain": [
       "<IPython.core.display.HTML object>"
      ]
     },
     "metadata": {},
     "output_type": "display_data"
    },
    {
     "data": {
      "text/html": [
       "<p><b style=\"text-decoration: line-through;;\">negative</b> -> <span style=\"display: inline-block;\">amabilius</span> <span style=\"display: inline-block;\">quidem</span> <span style=\"display: inline-block;\">a</span> <span style=\"display: inline-block;\">matre</span> <span style=\"display: inline-block;\">nutriri</span> <span style=\"display: inline-block;\">possunt</span> <span style=\"display: inline-block;\">.</span></p>"
      ],
      "text/plain": [
       "<IPython.core.display.HTML object>"
      ]
     },
     "metadata": {},
     "output_type": "display_data"
    },
    {
     "data": {
      "text/html": [
       "<p><b style=\"text-decoration: line-through;;\">positive</b> -> <span style=\"display: inline-block;\">memoratur</span> <span style=\"display: inline-block;\">et</span> <span style=\"display: inline-block;\">Nicomedis</span> <span style=\"display: inline-block;\">Bithyniae</span> <span style=\"display: inline-block;\">regis</span> <span style=\"display: inline-block;\">,</span> <span style=\"display: inline-block;\">uxore</span> <span style=\"display: inline-block;\">eius</span> <span style=\"display: inline-block;\">Cosingi</span> <span style=\"display: inline-block;\">lacerata</span> <span style=\"display: inline-block;\">propter</span> <span style=\"display: inline-block;\">lasciviorem</span> <span style=\"display: inline-block;\">cum</span> <span style=\"display: inline-block;\">marito</span> <span style=\"display: inline-block;\">iocum</span> <span style=\"display: inline-block;\">.</span></p>"
      ],
      "text/plain": [
       "<IPython.core.display.HTML object>"
      ]
     },
     "metadata": {},
     "output_type": "display_data"
    },
    {
     "data": {
      "text/html": [
       "<p><b style=\"text-decoration: line-through;;\">negative</b> -> <span style=\"display: inline-block;\">Secundum</span> <span style=\"display: inline-block;\">Punicum</span> <span style=\"display: inline-block;\">bellum</span> <span style=\"display: inline-block;\">longe</span> <span style=\"display: inline-block;\">omnium</span> <span style=\"display: inline-block;\">cruentissimum</span> <span style=\"display: inline-block;\">fuit</span> <span style=\"display: inline-block;\">:</span> <span style=\"display: inline-block;\">causa</span> <span style=\"display: inline-block;\">,</span> <span style=\"display: inline-block;\">quod</span> <span style=\"display: inline-block;\">Hannibal</span> <span style=\"display: inline-block;\">contra</span> <span style=\"display: inline-block;\">foedus</span> <span style=\"display: inline-block;\">Saguntum</span> <span style=\"display: inline-block;\">euertisset</span> <span style=\"display: inline-block;\">.</span></p>"
      ],
      "text/plain": [
       "<IPython.core.display.HTML object>"
      ]
     },
     "metadata": {},
     "output_type": "display_data"
    },
    {
     "data": {
      "text/html": [
       "<p><b style=\"text-decoration: line-through;;\">negative</b> -> <span style=\"display: inline-block;\">parvus</span> <span style=\"display: inline-block;\">reptavit</span> <span style=\"display: inline-block;\">in</span> <span style=\"display: inline-block;\">isto</span> <span style=\"display: inline-block;\">saepe</span> <span style=\"display: inline-block;\">sinu</span> <span style=\"display: inline-block;\">teneroque</span> <span style=\"display: inline-block;\">-que</span> <span style=\"display: inline-block;\">per</span> <span style=\"display: inline-block;\">ardua</span> <span style=\"display: inline-block;\">colla</span> <span style=\"display: inline-block;\">volutus</span> <span style=\"display: inline-block;\">ubera</span> <span style=\"display: inline-block;\">quaesivit</span> <span style=\"display: inline-block;\">fletu</span> <span style=\"display: inline-block;\">linguisque</span> <span style=\"display: inline-block;\">-que</span> <span style=\"display: inline-block;\">trisulcis</span> <span style=\"display: inline-block;\">mollia</span> <span style=\"display: inline-block;\">lambentes</span> <span style=\"display: inline-block;\">finxerunt</span> <span style=\"display: inline-block;\">membra</span> <span style=\"display: inline-block;\">cerastae</span> <span style=\"display: inline-block;\">;</span></p>"
      ],
      "text/plain": [
       "<IPython.core.display.HTML object>"
      ]
     },
     "metadata": {},
     "output_type": "display_data"
    },
    {
     "data": {
      "text/html": [
       "<p><b style=\"text-decoration: line-through;;\">negative</b> -> <span style=\"display: inline-block;\">quid</span> <span style=\"display: inline-block;\">moror</span> <span style=\"display: inline-block;\">invisam</span> <span style=\"display: inline-block;\">lucem</span> <span style=\"display: inline-block;\">?</span></p>"
      ],
      "text/plain": [
       "<IPython.core.display.HTML object>"
      ]
     },
     "metadata": {},
     "output_type": "display_data"
    },
    {
     "data": {
      "text/html": [
       "<p><b style=\"text-decoration: line-through;;\">negative</b> -> <span style=\"display: inline-block;\">quarto</span> <span style=\"display: inline-block;\">dissereret</span> <span style=\"display: inline-block;\">,</span> <span style=\"display: inline-block;\">\"</span> <span style=\"display: inline-block;\">nihil</span> <span style=\"display: inline-block;\">prorsus</span> <span style=\"display: inline-block;\">\"</span> <span style=\"display: inline-block;\">inquit</span> <span style=\"display: inline-block;\">\"</span> <span style=\"display: inline-block;\">istis</span> <span style=\"display: inline-block;\">insulsius</span> <span style=\"display: inline-block;\">qui</span> <span style=\"display: inline-block;\">opinantur</span> <span style=\"display: inline-block;\">bona</span> <span style=\"display: inline-block;\">esse</span> <span style=\"display: inline-block;\">potuisse</span> <span style=\"display: inline-block;\">,</span> <span style=\"display: inline-block;\">si</span> <span style=\"display: inline-block;\">non</span> <span style=\"display: inline-block;\">essent</span> <span style=\"display: inline-block;\">itidem</span> <span style=\"display: inline-block;\">mala</span> <span style=\"display: inline-block;\">.</span></p>"
      ],
      "text/plain": [
       "<IPython.core.display.HTML object>"
      ]
     },
     "metadata": {},
     "output_type": "display_data"
    },
    {
     "data": {
      "text/html": [
       "<p><b style=\"text-decoration: line-through;;\">negative</b> -> <span style=\"display: inline-block;\">multis</span> <span style=\"display: inline-block;\">licet</span> <span style=\"display: inline-block;\">uersetur</span> <span style=\"display: inline-block;\">in</span> <span style=\"display: inline-block;\">milibus</span> <span style=\"display: inline-block;\">ouium</span> <span style=\"display: inline-block;\">,</span> <span style=\"display: inline-block;\">recognoscit</span> <span style=\"display: inline-block;\">uocem</span> <span style=\"display: inline-block;\">parentis</span> <span style=\"display: inline-block;\">,</span> <span style=\"display: inline-block;\">festinat</span> <span style=\"display: inline-block;\">ad</span> <span style=\"display: inline-block;\">matrem</span> <span style=\"display: inline-block;\">,</span> <span style=\"display: inline-block;\">lactis</span> <span style=\"display: inline-block;\">quoque</span> <span style=\"display: inline-block;\">materni</span> <span style=\"display: inline-block;\">notos</span> <span style=\"display: inline-block;\">sibi</span> <span style=\"display: inline-block;\">fontes</span> <span style=\"display: inline-block;\">requirit</span> <span style=\"display: inline-block;\">.</span></p>"
      ],
      "text/plain": [
       "<IPython.core.display.HTML object>"
      ]
     },
     "metadata": {},
     "output_type": "display_data"
    },
    {
     "data": {
      "text/html": [
       "<p><b style=\"text-decoration: line-through;;\">positive</b> -> <span style=\"display: inline-block;\">Tanta</span> <span style=\"display: inline-block;\">est</span> <span style=\"display: inline-block;\">quae</span> <span style=\"display: inline-block;\">Titio</span> <span style=\"display: inline-block;\">columna</span> <span style=\"display: inline-block;\">pendet</span> <span style=\"display: inline-block;\">,</span> <span style=\"display: inline-block;\">Quantam</span> <span style=\"display: inline-block;\">Lampsaciae</span> <span style=\"display: inline-block;\">colunt</span> <span style=\"display: inline-block;\">puellae</span> <span style=\"display: inline-block;\">.</span></p>"
      ],
      "text/plain": [
       "<IPython.core.display.HTML object>"
      ]
     },
     "metadata": {},
     "output_type": "display_data"
    },
    {
     "data": {
      "text/html": [
       "<p><b style=\"text-decoration: line-through;;\">negative</b> -> <span style=\"display: inline-block;\">Phyllis</span> <span style=\"display: inline-block;\">odoratos</span> <span style=\"display: inline-block;\">primaeuis</span> <span style=\"display: inline-block;\">floribus</span> <span style=\"display: inline-block;\">artus</span> <span style=\"display: inline-block;\">discisso</span> <span style=\"display: inline-block;\">pruni</span> <span style=\"display: inline-block;\">cortice</span> <span style=\"display: inline-block;\">fixa</span> <span style=\"display: inline-block;\">tegit</span> <span style=\"display: inline-block;\">pomaque</span> <span style=\"display: inline-block;\">-que</span> <span style=\"display: inline-block;\">permutat</span> <span style=\"display: inline-block;\">uelamine</span> <span style=\"display: inline-block;\">persica</span> <span style=\"display: inline-block;\">mixto</span> <span style=\"display: inline-block;\">duritiemque</span> <span style=\"display: inline-block;\">-que</span> <span style=\"display: inline-block;\">docet</span> <span style=\"display: inline-block;\">tegminis</span> <span style=\"display: inline-block;\">esse</span> <span style=\"display: inline-block;\">loco</span> <span style=\"display: inline-block;\">.</span></p>"
      ],
      "text/plain": [
       "<IPython.core.display.HTML object>"
      ]
     },
     "metadata": {},
     "output_type": "display_data"
    },
    {
     "data": {
      "text/html": [
       "<p><b style=\"text-decoration: line-through;;\">negative</b> -> <span style=\"display: inline-block;\">Dantur</span> <span style=\"display: inline-block;\">a</span> <span style=\"display: inline-block;\">tribus</span> <span style=\"display: inline-block;\">pilulis</span> <span style=\"display: inline-block;\">usque</span> <span style=\"display: inline-block;\">ad</span> <span style=\"display: inline-block;\">septem</span> <span style=\"display: inline-block;\">;</span></p>"
      ],
      "text/plain": [
       "<IPython.core.display.HTML object>"
      ]
     },
     "metadata": {},
     "output_type": "display_data"
    },
    {
     "data": {
      "text/html": [
       "<p><b style=\"text-decoration: line-through;;\">negative</b> -> <span style=\"display: inline-block;\">Tiridates</span> <span style=\"display: inline-block;\">,</span> <span style=\"display: inline-block;\">qui</span> <span style=\"display: inline-block;\">a</span> <span style=\"display: inline-block;\">Corbulone</span> <span style=\"display: inline-block;\">consulari</span> <span style=\"display: inline-block;\">uiro</span> <span style=\"display: inline-block;\">uictus</span> <span style=\"display: inline-block;\">et</span> <span style=\"display: inline-block;\">restitutus</span> <span style=\"display: inline-block;\">est</span> <span style=\"display: inline-block;\">.</span></p>"
      ],
      "text/plain": [
       "<IPython.core.display.HTML object>"
      ]
     },
     "metadata": {},
     "output_type": "display_data"
    },
    {
     "data": {
      "text/html": [
       "<p><b style=\"text-decoration: line-through;;\">positive</b> -> <span style=\"display: inline-block;\">Hinc</span> <span style=\"display: inline-block;\">mulier</span> <span style=\"display: inline-block;\">Aegyptia</span> <span style=\"display: inline-block;\">ab</span> <span style=\"display: inline-block;\">ebrio</span> <span style=\"display: inline-block;\">imperatore</span> <span style=\"display: inline-block;\">pretium</span> <span style=\"display: inline-block;\">libidinum</span> <span style=\"display: inline-block;\">Romanum</span> <span style=\"display: inline-block;\">imperium</span> <span style=\"display: inline-block;\">petit</span></p>"
      ],
      "text/plain": [
       "<IPython.core.display.HTML object>"
      ]
     },
     "metadata": {},
     "output_type": "display_data"
    },
    {
     "data": {
      "text/html": [
       "<p><b style=\"text-decoration: line-through;;\">negative</b> -> <span style=\"display: inline-block;\">nulla</span> <span style=\"display: inline-block;\">igitur</span> <span style=\"display: inline-block;\">est</span> <span style=\"display: inline-block;\">divinatio</span> <span style=\"display: inline-block;\">.</span></p>"
      ],
      "text/plain": [
       "<IPython.core.display.HTML object>"
      ]
     },
     "metadata": {},
     "output_type": "display_data"
    },
    {
     "data": {
      "text/html": [
       "<p><b style=\"text-decoration: line-through;;\">negative</b> -> <span style=\"display: inline-block;\">.</span> <span style=\"display: inline-block;\">Sed</span> <span style=\"display: inline-block;\">cum</span> <span style=\"display: inline-block;\">ad</span> <span style=\"display: inline-block;\">locum</span> <span style=\"display: inline-block;\">,</span> <span style=\"display: inline-block;\">ad</span> <span style=\"display: inline-block;\">quem</span> <span style=\"display: inline-block;\">tendebat</span> <span style=\"display: inline-block;\">intentio</span> <span style=\"display: inline-block;\">,</span> <span style=\"display: inline-block;\">peruenissemus</span> <span style=\"display: inline-block;\">,</span> <span style=\"display: inline-block;\">uallati</span> <span style=\"display: inline-block;\">aquis</span> <span style=\"display: inline-block;\">atque</span> <span style=\"display: inline-block;\">made</span> <span style=\"display: inline-block;\">facti</span> <span style=\"display: inline-block;\">siti</span> <span style=\"display: inline-block;\">occepimus</span> <span style=\"display: inline-block;\">deperire</span> <span style=\"display: inline-block;\">,</span> <span style=\"display: inline-block;\">quia</span> <span style=\"display: inline-block;\">,</span> <span style=\"display: inline-block;\">cum</span> <span style=\"display: inline-block;\">esset</span> <span style=\"display: inline-block;\">,</span> <span style=\"display: inline-block;\">ut</span> <span style=\"display: inline-block;\">diximus</span> <span style=\"display: inline-block;\">,</span> <span style=\"display: inline-block;\">rigor</span> <span style=\"display: inline-block;\">in</span> <span style=\"display: inline-block;\">aere</span> <span style=\"display: inline-block;\">,</span> <span style=\"display: inline-block;\">erat</span> <span style=\"display: inline-block;\">tamen</span> <span style=\"display: inline-block;\">tepor</span> <span style=\"display: inline-block;\">in</span> <span style=\"display: inline-block;\">fonte</span> <span style=\"display: inline-block;\">,</span> <span style=\"display: inline-block;\">odor</span> <span style=\"display: inline-block;\">in</span> <span style=\"display: inline-block;\">flumine</span> <span style=\"display: inline-block;\">,</span> <span style=\"display: inline-block;\">ardor</span> <span style=\"display: inline-block;\">in</span> <span style=\"display: inline-block;\">campo</span> <span style=\"display: inline-block;\">,</span> <span style=\"display: inline-block;\">aestus</span> <span style=\"display: inline-block;\">in</span> <span style=\"display: inline-block;\">castro</span> <span style=\"display: inline-block;\">.</span></p>"
      ],
      "text/plain": [
       "<IPython.core.display.HTML object>"
      ]
     },
     "metadata": {},
     "output_type": "display_data"
    },
    {
     "data": {
      "text/html": [
       "<p><b style=\"text-decoration: line-through;;\">positive</b> -> <span style=\"display: inline-block;\">rogat</span> <span style=\"display: inline-block;\">impia</span> <span style=\"display: inline-block;\">belli</span> <span style=\"display: inline-block;\">mater</span> <span style=\"display: inline-block;\">;</span> <span style=\"display: inline-block;\">in</span> <span style=\"display: inline-block;\">his</span> <span style=\"display: inline-block;\">aliquod</span> <span style=\"display: inline-block;\">ius</span> <span style=\"display: inline-block;\">exsecrabile</span> <span style=\"display: inline-block;\">castris</span> <span style=\"display: inline-block;\">huic</span> <span style=\"display: inline-block;\">utero</span> <span style=\"display: inline-block;\">est</span> <span style=\"display: inline-block;\">.</span></p>"
      ],
      "text/plain": [
       "<IPython.core.display.HTML object>"
      ]
     },
     "metadata": {},
     "output_type": "display_data"
    },
    {
     "data": {
      "text/html": [
       "<p><b style=\"text-decoration: line-through;;\">negative</b> -> <span style=\"display: inline-block;\">Tum</span> <span style=\"display: inline-block;\">illa</span> <span style=\"display: inline-block;\">,</span> <span style=\"display: inline-block;\">ut</span> <span style=\"display: inline-block;\">consuetum</span> <span style=\"display: inline-block;\">facile</span> <span style=\"display: inline-block;\">amorem</span> <span style=\"display: inline-block;\">cerneres</span> <span style=\"display: inline-block;\">,</span> <span style=\"display: inline-block;\">Reiecit</span> <span style=\"display: inline-block;\">se</span> <span style=\"display: inline-block;\">in</span> <span style=\"display: inline-block;\">eum</span> <span style=\"display: inline-block;\">flens</span> <span style=\"display: inline-block;\">quam</span> <span style=\"display: inline-block;\">familiariter</span> <span style=\"display: inline-block;\">.</span></p>"
      ],
      "text/plain": [
       "<IPython.core.display.HTML object>"
      ]
     },
     "metadata": {},
     "output_type": "display_data"
    },
    {
     "data": {
      "text/html": [
       "<p><b style=\"text-decoration: line-through;;\">negative</b> -> <span style=\"display: inline-block;\">Visun</span> <span style=\"display: inline-block;\">-ne</span> <span style=\"display: inline-block;\">est</span> <span style=\"display: inline-block;\">tibi</span> <span style=\"display: inline-block;\">credere</span> <span style=\"display: inline-block;\">id</span> <span style=\"display: inline-block;\">?</span></p>"
      ],
      "text/plain": [
       "<IPython.core.display.HTML object>"
      ]
     },
     "metadata": {},
     "output_type": "display_data"
    },
    {
     "data": {
      "text/html": [
       "<p><b style=\"text-decoration: line-through;;\">negative</b> -> <span style=\"display: inline-block;\">cum</span> <span style=\"display: inline-block;\">audiam</span> <span style=\"display: inline-block;\">in</span> <span style=\"display: inline-block;\">centesimo</span> <span style=\"display: inline-block;\">psalmo</span> <span style=\"display: inline-block;\">:</span> <span style=\"display: inline-block;\">deambulabam</span> <span style=\"display: inline-block;\">in</span> <span style=\"display: inline-block;\">innocentia</span> <span style=\"display: inline-block;\">cordis</span> <span style=\"display: inline-block;\">mei</span> <span style=\"display: inline-block;\">in</span> <span style=\"display: inline-block;\">media</span> <span style=\"display: inline-block;\">domo</span> <span style=\"display: inline-block;\">tua</span> <span style=\"display: inline-block;\">.</span></p>"
      ],
      "text/plain": [
       "<IPython.core.display.HTML object>"
      ]
     },
     "metadata": {},
     "output_type": "display_data"
    },
    {
     "data": {
      "text/html": [
       "<p><b style=\"text-decoration: line-through;;\">negative</b> -> <span style=\"display: inline-block;\">aspectu</span> <span style=\"display: inline-block;\">enim</span> <span style=\"display: inline-block;\">et</span> <span style=\"display: inline-block;\">auditu</span> <span style=\"display: inline-block;\">iustus</span> <span style=\"display: inline-block;\">erat</span> <span style=\"display: inline-block;\">habitans</span> <span style=\"display: inline-block;\">apud</span> <span style=\"display: inline-block;\">eos</span> <span style=\"display: inline-block;\">qui</span> <span style=\"display: inline-block;\">diem</span> <span style=\"display: inline-block;\">de</span> <span style=\"display: inline-block;\">die</span> <span style=\"display: inline-block;\">animam</span> <span style=\"display: inline-block;\">iustam</span> <span style=\"display: inline-block;\">iniquis</span> <span style=\"display: inline-block;\">operibus</span> <span style=\"display: inline-block;\">cruciabant</span></p>"
      ],
      "text/plain": [
       "<IPython.core.display.HTML object>"
      ]
     },
     "metadata": {},
     "output_type": "display_data"
    },
    {
     "data": {
      "text/html": [
       "<p><b style=\"text-decoration: line-through;;\">positive</b> -> <span style=\"display: inline-block;\">qui</span> <span style=\"display: inline-block;\">deprehensus</span> <span style=\"display: inline-block;\">est</span> <span style=\"display: inline-block;\">,</span> <span style=\"display: inline-block;\">cum</span> <span style=\"display: inline-block;\">dominam</span> <span style=\"display: inline-block;\">suam</span> <span style=\"display: inline-block;\">delectaretur</span> <span style=\"display: inline-block;\">.</span></p>"
      ],
      "text/plain": [
       "<IPython.core.display.HTML object>"
      ]
     },
     "metadata": {},
     "output_type": "display_data"
    },
    {
     "data": {
      "text/html": [
       "<p><b style=\"text-decoration: line-through;;\">negative</b> -> <span style=\"display: inline-block;\">faenus</span> <span style=\"display: inline-block;\">non</span> <span style=\"display: inline-block;\">pecunia</span> <span style=\"display: inline-block;\">sua</span> <span style=\"display: inline-block;\">soluitur</span> <span style=\"display: inline-block;\">,</span> <span style=\"display: inline-block;\">sed</span> <span style=\"display: inline-block;\">augetur</span> <span style=\"display: inline-block;\">:</span> <span style=\"display: inline-block;\">numerando</span> <span style=\"display: inline-block;\">coaceruatur</span> <span style=\"display: inline-block;\">et</span> <span style=\"display: inline-block;\">crescit</span> <span style=\"display: inline-block;\">.</span></p>"
      ],
      "text/plain": [
       "<IPython.core.display.HTML object>"
      ]
     },
     "metadata": {},
     "output_type": "display_data"
    },
    {
     "data": {
      "text/html": [
       "<p><b style=\"text-decoration: line-through;;\">negative</b> -> <span style=\"display: inline-block;\">quoniam</span> <span style=\"display: inline-block;\">multi</span> <span style=\"display: inline-block;\">seductores</span> <span style=\"display: inline-block;\">exierunt</span> <span style=\"display: inline-block;\">in</span> <span style=\"display: inline-block;\">mundum</span> <span style=\"display: inline-block;\">qui</span> <span style=\"display: inline-block;\">non</span> <span style=\"display: inline-block;\">confitentur</span> <span style=\"display: inline-block;\">Iesum</span> <span style=\"display: inline-block;\">Christum</span> <span style=\"display: inline-block;\">venientem</span> <span style=\"display: inline-block;\">in</span> <span style=\"display: inline-block;\">carne</span> <span style=\"display: inline-block;\">hic</span> <span style=\"display: inline-block;\">est</span> <span style=\"display: inline-block;\">seductor</span> <span style=\"display: inline-block;\">et</span> <span style=\"display: inline-block;\">antichristus</span></p>"
      ],
      "text/plain": [
       "<IPython.core.display.HTML object>"
      ]
     },
     "metadata": {},
     "output_type": "display_data"
    },
    {
     "data": {
      "text/html": [
       "<p><b style=\"text-decoration: line-through;;\">negative</b> -> <span style=\"display: inline-block;\">At</span> <span style=\"display: inline-block;\">vero</span> <span style=\"display: inline-block;\">Evander</span> <span style=\"display: inline-block;\">,</span> <span style=\"display: inline-block;\">excellentissimae</span> <span style=\"display: inline-block;\">iustitiae</span> <span style=\"display: inline-block;\">vir</span> <span style=\"display: inline-block;\">,</span> <span style=\"display: inline-block;\">postquam</span> <span style=\"display: inline-block;\">rem</span> <span style=\"display: inline-block;\">uti</span> <span style=\"display: inline-block;\">acta</span> <span style=\"display: inline-block;\">erat</span> <span style=\"display: inline-block;\">comperit</span> <span style=\"display: inline-block;\">,</span> <span style=\"display: inline-block;\">servum</span> <span style=\"display: inline-block;\">noxae</span> <span style=\"display: inline-block;\">dedit</span> <span style=\"display: inline-block;\">bovesque</span> <span style=\"display: inline-block;\">-que</span> <span style=\"display: inline-block;\">restitui</span> <span style=\"display: inline-block;\">fecit</span> <span style=\"display: inline-block;\">.</span></p>"
      ],
      "text/plain": [
       "<IPython.core.display.HTML object>"
      ]
     },
     "metadata": {},
     "output_type": "display_data"
    },
    {
     "data": {
      "text/html": [
       "<p><b style=\"text-decoration: line-through;;\">negative</b> -> <span style=\"display: inline-block;\">Vectigal</span> <span style=\"display: inline-block;\">ex</span> <span style=\"display: inline-block;\">Aegypto</span> <span style=\"display: inline-block;\">urbi</span> <span style=\"display: inline-block;\">Romae</span> <span style=\"display: inline-block;\">Aurelianus</span> <span style=\"display: inline-block;\">vitri</span> <span style=\"display: inline-block;\">,</span> <span style=\"display: inline-block;\">chartae</span> <span style=\"display: inline-block;\">,</span> <span style=\"display: inline-block;\">lini</span> <span style=\"display: inline-block;\">,</span> <span style=\"display: inline-block;\">stuppae</span> <span style=\"display: inline-block;\">,</span> <span style=\"display: inline-block;\">atque</span> <span style=\"display: inline-block;\">anabolicas</span> <span style=\"display: inline-block;\">species</span> <span style=\"display: inline-block;\">aeternas</span> <span style=\"display: inline-block;\">constituit</span> <span style=\"display: inline-block;\">,</span> <span style=\"display: inline-block;\">thermas</span> <span style=\"display: inline-block;\">in</span> <span style=\"display: inline-block;\">Transtiberina</span> <span style=\"display: inline-block;\">regione</span> <span style=\"display: inline-block;\">Aurelianus</span> <span style=\"display: inline-block;\">facere</span> <span style=\"display: inline-block;\">paravit</span> <span style=\"display: inline-block;\">hiemales</span> <span style=\"display: inline-block;\">,</span> <span style=\"display: inline-block;\">quod</span> <span style=\"display: inline-block;\">aquae</span> <span style=\"display: inline-block;\">frigidi</span> <span style=\"display: inline-block;\">oris</span> <span style=\"display: inline-block;\">copia</span> <span style=\"display: inline-block;\">illic</span> <span style=\"display: inline-block;\">deesset</span> <span style=\"display: inline-block;\">,</span> <span style=\"display: inline-block;\">forum</span> <span style=\"display: inline-block;\">nominis</span> <span style=\"display: inline-block;\">sui</span> <span style=\"display: inline-block;\">in</span> <span style=\"display: inline-block;\">Ostiensi</span> <span style=\"display: inline-block;\">ad</span> <span style=\"display: inline-block;\">mare</span> <span style=\"display: inline-block;\">fundare</span> <span style=\"display: inline-block;\">coepit</span> <span style=\"display: inline-block;\">,</span> <span style=\"display: inline-block;\">in</span> <span style=\"display: inline-block;\">quo</span> <span style=\"display: inline-block;\">postea</span> <span style=\"display: inline-block;\">praetorium</span> <span style=\"display: inline-block;\">publicum</span> <span style=\"display: inline-block;\">constitutum</span> <span style=\"display: inline-block;\">est</span> <span style=\"display: inline-block;\">.</span></p>"
      ],
      "text/plain": [
       "<IPython.core.display.HTML object>"
      ]
     },
     "metadata": {},
     "output_type": "display_data"
    },
    {
     "data": {
      "text/html": [
       "<p><b style=\"text-decoration: line-through;;\">negative</b> -> <span style=\"display: inline-block;\">exercitari</span> <span style=\"display: inline-block;\">enim</span> <span style=\"display: inline-block;\">commune</span> <span style=\"display: inline-block;\">omnibus</span> <span style=\"display: inline-block;\">est</span> <span style=\"display: inline-block;\">sanis</span> <span style=\"display: inline-block;\">:</span> <span style=\"display: inline-block;\">at</span> <span style=\"display: inline-block;\">addita</span> <span style=\"display: inline-block;\">specie</span> <span style=\"display: inline-block;\">,</span> <span style=\"display: inline-block;\">ut</span> <span style=\"display: inline-block;\">per</span> <span style=\"display: inline-block;\">palaestram</span> <span style=\"display: inline-block;\">,</span> <span style=\"display: inline-block;\">vectatione</span> <span style=\"display: inline-block;\">,</span> <span style=\"display: inline-block;\">armis</span> <span style=\"display: inline-block;\">,</span> <span style=\"display: inline-block;\">venatione</span> <span style=\"display: inline-block;\">,</span> <span style=\"display: inline-block;\">commune</span> <span style=\"display: inline-block;\">non</span> <span style=\"display: inline-block;\">est</span> <span style=\"display: inline-block;\">.</span></p>"
      ],
      "text/plain": [
       "<IPython.core.display.HTML object>"
      ]
     },
     "metadata": {},
     "output_type": "display_data"
    },
    {
     "data": {
      "text/html": [
       "<p><b style=\"text-decoration: line-through;;\">negative</b> -> <span style=\"display: inline-block;\">Pluton</span> <span style=\"display: inline-block;\">est</span> <span style=\"display: inline-block;\">animus</span> <span style=\"display: inline-block;\">,</span> <span style=\"display: inline-block;\">humani</span> <span style=\"display: inline-block;\">corporis</span> <span style=\"display: inline-block;\">rector</span> <span style=\"display: inline-block;\">ignavus</span> <span style=\"display: inline-block;\">,</span> <span style=\"display: inline-block;\">qui</span> <span style=\"display: inline-block;\">,</span> <span style=\"display: inline-block;\">quoniam</span> <span style=\"display: inline-block;\">caelestibus</span> <span style=\"display: inline-block;\">bonis</span> <span style=\"display: inline-block;\">ultro</span> <span style=\"display: inline-block;\">caruit</span> <span style=\"display: inline-block;\">,</span> <span style=\"display: inline-block;\">merito</span> <span style=\"display: inline-block;\">sedibus</span> <span style=\"display: inline-block;\">est</span> <span style=\"display: inline-block;\">damnatus</span> <span style=\"display: inline-block;\">inferni</span> <span style=\"display: inline-block;\">.</span></p>"
      ],
      "text/plain": [
       "<IPython.core.display.HTML object>"
      ]
     },
     "metadata": {},
     "output_type": "display_data"
    },
    {
     "data": {
      "text/html": [
       "<p><b style=\"text-decoration: line-through;;\">positive</b> -> <span style=\"display: inline-block;\">inpatiensque</span> <span style=\"display: inline-block;\">-que</span> <span style=\"display: inline-block;\">morae</span> <span style=\"display: inline-block;\">silet</span> <span style=\"display: inline-block;\">et</span> <span style=\"display: inline-block;\">praeputia</span> <span style=\"display: inline-block;\">ducit</span> <span style=\"display: inline-block;\">.</span></p>"
      ],
      "text/plain": [
       "<IPython.core.display.HTML object>"
      ]
     },
     "metadata": {},
     "output_type": "display_data"
    },
    {
     "data": {
      "text/html": [
       "<p><b style=\"text-decoration: line-through;;\">negative</b> -> <span style=\"display: inline-block;\">quin</span> <span style=\"display: inline-block;\">age</span> <span style=\"display: inline-block;\">,</span> <span style=\"display: inline-block;\">duc</span> <span style=\"display: inline-block;\">comitem</span> <span style=\"display: inline-block;\">;</span></p>"
      ],
      "text/plain": [
       "<IPython.core.display.HTML object>"
      ]
     },
     "metadata": {},
     "output_type": "display_data"
    },
    {
     "data": {
      "text/html": [
       "<p><b style=\"text-decoration: line-through;;\">negative</b> -> <span style=\"display: inline-block;\">E</span> <span style=\"display: inline-block;\">quibus</span> <span style=\"display: inline-block;\">unum</span> <span style=\"display: inline-block;\">globum</span> <span style=\"display: inline-block;\">possidet</span> <span style=\"display: inline-block;\">illa</span> <span style=\"display: inline-block;\">quam</span> <span style=\"display: inline-block;\">in</span> <span style=\"display: inline-block;\">terris</span> <span style=\"display: inline-block;\">Saturniam</span> <span style=\"display: inline-block;\">nominant</span> <span style=\"display: inline-block;\">;</span></p>"
      ],
      "text/plain": [
       "<IPython.core.display.HTML object>"
      ]
     },
     "metadata": {},
     "output_type": "display_data"
    },
    {
     "data": {
      "text/html": [
       "<p><b style=\"text-decoration: line-through;;\">positive</b> -> <span style=\"display: inline-block;\">Et</span> <span style=\"display: inline-block;\">idcirco</span> <span style=\"display: inline-block;\">consulte</span> <span style=\"display: inline-block;\">et</span> <span style=\"display: inline-block;\">çum</span> <span style=\"display: inline-block;\">uigore</span> <span style=\"display: inline-block;\">fecisti</span> <span style=\"display: inline-block;\">,</span> <span style=\"display: inline-block;\">frater</span> <span style=\"display: inline-block;\">carissime</span> <span style=\"display: inline-block;\">,</span> <span style=\"display: inline-block;\">abstinendo</span> <span style=\"display: inline-block;\">diaconum</span> <span style=\"display: inline-block;\">qui</span> <span style=\"display: inline-block;\">cum</span> <span style=\"display: inline-block;\">uirgine</span> <span style=\"display: inline-block;\">saepe</span> <span style=\"display: inline-block;\">mansit</span> <span style=\"display: inline-block;\">,</span></p>"
      ],
      "text/plain": [
       "<IPython.core.display.HTML object>"
      ]
     },
     "metadata": {},
     "output_type": "display_data"
    },
    {
     "data": {
      "text/html": [
       "<p><b style=\"text-decoration: line-through;;\">negative</b> -> <span style=\"display: inline-block;\">Lex</span> <span style=\"display: inline-block;\">alte</span> <span style=\"display: inline-block;\">la</span> <span style=\"display: inline-block;\">parte</span> <span style=\"display: inline-block;\">congredior</span> <span style=\"display: inline-block;\">laetioris</span> <span style=\"display: inline-block;\">spei</span> <span style=\"display: inline-block;\">post</span> <span style=\"display: inline-block;\">mortem</span> <span style=\"display: inline-block;\">.</span></p>"
      ],
      "text/plain": [
       "<IPython.core.display.HTML object>"
      ]
     },
     "metadata": {},
     "output_type": "display_data"
    },
    {
     "data": {
      "text/html": [
       "<p><b style=\"text-decoration: line-through;;\">positive</b> -> <span style=\"display: inline-block;\">inquiunt</span> <span style=\"display: inline-block;\">,</span> <span style=\"display: inline-block;\">tertio</span> <span style=\"display: inline-block;\">minus</span> <span style=\"display: inline-block;\">singulis</span> <span style=\"display: inline-block;\">mensibus</span> <span style=\"display: inline-block;\">offerenda</span> <span style=\"display: inline-block;\">,</span> <span style=\"display: inline-block;\">tunc</span> <span style=\"display: inline-block;\">capitis</span> <span style=\"display: inline-block;\">diuisuram</span> <span style=\"display: inline-block;\">accuratam</span> <span style=\"display: inline-block;\">,</span> <span style=\"display: inline-block;\">quam</span> <span style=\"display: inline-block;\">chiasmum</span> <span style=\"display: inline-block;\">,</span> <span style=\"display: inline-block;\">dehinc</span> <span style=\"display: inline-block;\">scarosin</span> <span style=\"display: inline-block;\">uel</span> <span style=\"display: inline-block;\">medicamine</span> <span style=\"display: inline-block;\">siue</span> <span style=\"display: inline-block;\">ignis</span> <span style=\"display: inline-block;\">ustura</span> <span style=\"display: inline-block;\">,</span> <span style=\"display: inline-block;\">item</span> <span style=\"display: inline-block;\">terebrationem</span> <span style=\"display: inline-block;\">testae</span> <span style=\"display: inline-block;\">uel</span> <span style=\"display: inline-block;\">arteriotomiam</span> <span style=\"display: inline-block;\">uel</span> <span style=\"display: inline-block;\">usum</span> <span style=\"display: inline-block;\">uenerium</span> <span style=\"display: inline-block;\">aut</span> <span style=\"display: inline-block;\">e</span> <span style=\"display: inline-block;\">contrario</span> <span style=\"display: inline-block;\">eunuchismum</span> <span style=\"display: inline-block;\">faciendum</span> <span style=\"display: inline-block;\">probantes</span> <span style=\"display: inline-block;\">.</span></p>"
      ],
      "text/plain": [
       "<IPython.core.display.HTML object>"
      ]
     },
     "metadata": {},
     "output_type": "display_data"
    },
    {
     "data": {
      "text/html": [
       "<p><b style=\"text-decoration: line-through;;\">negative</b> -> <span style=\"display: inline-block;\">sequitur</span> <span style=\"display: inline-block;\">autem</span> <span style=\"display: inline-block;\">Christum</span> <span style=\"display: inline-block;\">qui</span> <span style=\"display: inline-block;\">praeceptis</span> <span style=\"display: inline-block;\">eius</span> <span style=\"display: inline-block;\">insistit</span> <span style=\"display: inline-block;\">,</span> <span style=\"display: inline-block;\">qui</span> <span style=\"display: inline-block;\">per</span> <span style=\"display: inline-block;\">magisterii</span> <span style=\"display: inline-block;\">eius</span> <span style=\"display: inline-block;\">uiam</span> <span style=\"display: inline-block;\">graditur</span> <span style=\"display: inline-block;\">,</span> <span style=\"display: inline-block;\">qui</span> <span style=\"display: inline-block;\">uestigia</span> <span style=\"display: inline-block;\">eius</span> <span style=\"display: inline-block;\">adque</span> <span style=\"display: inline-block;\">-que</span> <span style=\"display: inline-block;\">itinera</span> <span style=\"display: inline-block;\">sectatur</span> <span style=\"display: inline-block;\">,</span> <span style=\"display: inline-block;\">qui</span> <span style=\"display: inline-block;\">id</span> <span style=\"display: inline-block;\">quod</span> <span style=\"display: inline-block;\">Christus</span> <span style=\"display: inline-block;\">et</span> <span style=\"display: inline-block;\">docuit</span> <span style=\"display: inline-block;\">et</span> <span style=\"display: inline-block;\">fecit</span> <span style=\"display: inline-block;\">imitatur</span> <span style=\"display: inline-block;\">secundum</span> <span style=\"display: inline-block;\">quod</span> <span style=\"display: inline-block;\">Petrus</span> <span style=\"display: inline-block;\">quoque</span> <span style=\"display: inline-block;\">hortatur</span> <span style=\"display: inline-block;\">et</span> <span style=\"display: inline-block;\">monet</span> <span style=\"display: inline-block;\">dicens</span> <span style=\"display: inline-block;\">:</span> <span style=\"display: inline-block;\">Christus</span> <span style=\"display: inline-block;\">passus</span> <span style=\"display: inline-block;\">est</span> <span style=\"display: inline-block;\">pro</span> <span style=\"display: inline-block;\">uobis</span> <span style=\"display: inline-block;\">relinquens</span> <span style=\"display: inline-block;\">uobis</span> <span style=\"display: inline-block;\">exemplum</span> <span style=\"display: inline-block;\">,</span> <span style=\"display: inline-block;\">ut</span> <span style=\"display: inline-block;\">sequamini</span> <span style=\"display: inline-block;\">uestigia</span> <span style=\"display: inline-block;\">eius</span> <span style=\"display: inline-block;\">.</span></p>"
      ],
      "text/plain": [
       "<IPython.core.display.HTML object>"
      ]
     },
     "metadata": {},
     "output_type": "display_data"
    },
    {
     "data": {
      "text/html": [
       "<p><b style=\"text-decoration: line-through;;\">negative</b> -> <span style=\"display: inline-block;\">et</span> <span style=\"display: inline-block;\">ignorabam</span> <span style=\"display: inline-block;\">quid</span> <span style=\"display: inline-block;\">sequeretur</span> <span style=\"display: inline-block;\">.</span></p>"
      ],
      "text/plain": [
       "<IPython.core.display.HTML object>"
      ]
     },
     "metadata": {},
     "output_type": "display_data"
    },
    {
     "data": {
      "text/html": [
       "<p><b style=\"text-decoration: line-through;;\">negative</b> -> <span style=\"display: inline-block;\">P.</span> <span style=\"display: inline-block;\">Vergilius</span> <span style=\"display: inline-block;\">Maro</span> <span style=\"display: inline-block;\">natus</span> <span style=\"display: inline-block;\">Idibus</span> <span style=\"display: inline-block;\">Octobris</span> <span style=\"display: inline-block;\">Crasso</span> <span style=\"display: inline-block;\">et</span> <span style=\"display: inline-block;\">Pompeio</span> <span style=\"display: inline-block;\">conss</span> <span style=\"display: inline-block;\">.</span></p>"
      ],
      "text/plain": [
       "<IPython.core.display.HTML object>"
      ]
     },
     "metadata": {},
     "output_type": "display_data"
    },
    {
     "data": {
      "text/html": [
       "<p><b style=\"text-decoration: line-through;;\">positive</b> -> <span style=\"display: inline-block;\">In</span> <span style=\"display: inline-block;\">molli</span> <span style=\"display: inline-block;\">rigidam</span> <span style=\"display: inline-block;\">clune</span> <span style=\"display: inline-block;\">libenter</span> <span style=\"display: inline-block;\">habes</span> <span style=\"display: inline-block;\">.</span></p>"
      ],
      "text/plain": [
       "<IPython.core.display.HTML object>"
      ]
     },
     "metadata": {},
     "output_type": "display_data"
    },
    {
     "data": {
      "text/html": [
       "<p><b style=\"text-decoration: line-through;;\">positive</b> -> <span style=\"display: inline-block;\">nullo</span> <span style=\"display: inline-block;\">enim</span> <span style=\"display: inline-block;\">honore</span> <span style=\"display: inline-block;\">exceptus</span> <span style=\"display: inline-block;\">ab</span> <span style=\"display: inline-block;\">ea</span> <span style=\"display: inline-block;\">pinxit</span> <span style=\"display: inline-block;\">volutantem</span> <span style=\"display: inline-block;\">cum</span> <span style=\"display: inline-block;\">piscatore</span> <span style=\"display: inline-block;\">,</span> <span style=\"display: inline-block;\">quem</span> <span style=\"display: inline-block;\">reginam</span> <span style=\"display: inline-block;\">amare</span> <span style=\"display: inline-block;\">sermo</span> <span style=\"display: inline-block;\">erat</span> <span style=\"display: inline-block;\">,</span> <span style=\"display: inline-block;\">eamque</span> <span style=\"display: inline-block;\">-que</span> <span style=\"display: inline-block;\">tabulam</span> <span style=\"display: inline-block;\">in</span> <span style=\"display: inline-block;\">portu</span> <span style=\"display: inline-block;\">Ephesi</span> <span style=\"display: inline-block;\">proposuit</span> <span style=\"display: inline-block;\">,</span> <span style=\"display: inline-block;\">ipse</span> <span style=\"display: inline-block;\">velis</span> <span style=\"display: inline-block;\">raptus</span> <span style=\"display: inline-block;\">.</span></p>"
      ],
      "text/plain": [
       "<IPython.core.display.HTML object>"
      ]
     },
     "metadata": {},
     "output_type": "display_data"
    },
    {
     "data": {
      "text/html": [
       "<p><b style=\"text-decoration: line-through;;\">positive</b> -> <span style=\"display: inline-block;\">me</span> <span style=\"display: inline-block;\">natura</span> <span style=\"display: inline-block;\">intendit</span></p>"
      ],
      "text/plain": [
       "<IPython.core.display.HTML object>"
      ]
     },
     "metadata": {},
     "output_type": "display_data"
    },
    {
     "data": {
      "text/html": [
       "<p><b style=\"text-decoration: line-through;;\">positive</b> -> <span style=\"display: inline-block;\">Ego</span> <span style=\"display: inline-block;\">sic</span> <span style=\"display: inline-block;\">perire</span> <span style=\"display: inline-block;\">coepi</span> <span style=\"display: inline-block;\">.</span></p>"
      ],
      "text/plain": [
       "<IPython.core.display.HTML object>"
      ]
     },
     "metadata": {},
     "output_type": "display_data"
    },
    {
     "data": {
      "text/html": [
       "<p><b style=\"text-decoration: line-through;;\">positive</b> -> <span style=\"display: inline-block;\">nec</span> <span style=\"display: inline-block;\">contenti</span> <span style=\"display: inline-block;\">hos</span> <span style=\"display: inline-block;\">coetus</span> <span style=\"display: inline-block;\">grauitati</span> <span style=\"display: inline-block;\">attribuisse</span> <span style=\"display: inline-block;\">Saturniae</span></p>"
      ],
      "text/plain": [
       "<IPython.core.display.HTML object>"
      ]
     },
     "metadata": {},
     "output_type": "display_data"
    },
    {
     "data": {
      "text/html": [
       "<p><b style=\"text-decoration: line-through;;\">negative</b> -> <span style=\"display: inline-block;\">Sic</span> <span style=\"display: inline-block;\">aiens</span> <span style=\"display: inline-block;\">crystallo</span> <span style=\"display: inline-block;\">dedolatum</span> <span style=\"display: inline-block;\">vasculum</span> <span style=\"display: inline-block;\">,</span> <span style=\"display: inline-block;\">insuper</span> <span style=\"display: inline-block;\">ei</span> <span style=\"display: inline-block;\">graviora</span> <span style=\"display: inline-block;\">comminata</span> <span style=\"display: inline-block;\">,</span> <span style=\"display: inline-block;\">tradidit</span> <span style=\"display: inline-block;\">.</span></p>"
      ],
      "text/plain": [
       "<IPython.core.display.HTML object>"
      ]
     },
     "metadata": {},
     "output_type": "display_data"
    },
    {
     "data": {
      "text/html": [
       "<p><b style=\"text-decoration: line-through;;\">negative</b> -> <span style=\"display: inline-block;\">Fit</span> <span style=\"display: inline-block;\">etiam</span> <span style=\"display: inline-block;\">hoc</span> <span style=\"display: inline-block;\">metrum</span> <span style=\"display: inline-block;\">ex</span> <span style=\"display: inline-block;\">duobus</span> <span style=\"display: inline-block;\">ionicis</span> <span style=\"display: inline-block;\">maioribus</span> <span style=\"display: inline-block;\">et</span> <span style=\"display: inline-block;\">dactylo</span> <span style=\"display: inline-block;\">et</span> <span style=\"display: inline-block;\">spondio</span> <span style=\"display: inline-block;\">sequente</span> <span style=\"display: inline-block;\">siue</span> <span style=\"display: inline-block;\">trochaeo</span> <span style=\"display: inline-block;\">.</span></p>"
      ],
      "text/plain": [
       "<IPython.core.display.HTML object>"
      ]
     },
     "metadata": {},
     "output_type": "display_data"
    },
    {
     "data": {
      "text/html": [
       "<p><b style=\"text-decoration: line-through;;\">negative</b> -> <span style=\"display: inline-block;\">quem</span> <span style=\"display: inline-block;\">Pan</span> <span style=\"display: inline-block;\">ad</span> <span style=\"display: inline-block;\">amoris</span> <span style=\"display: inline-block;\">solacium</span> <span style=\"display: inline-block;\">incidit</span> <span style=\"display: inline-block;\">et</span> <span style=\"display: inline-block;\">sibi</span> <span style=\"display: inline-block;\">fistulam</span> <span style=\"display: inline-block;\">fecit</span> <span style=\"display: inline-block;\">.</span></p>"
      ],
      "text/plain": [
       "<IPython.core.display.HTML object>"
      ]
     },
     "metadata": {},
     "output_type": "display_data"
    },
    {
     "data": {
      "text/html": [
       "<p><b style=\"text-decoration: line-through;;\">negative</b> -> <span style=\"display: inline-block;\">\"</span> <span style=\"display: inline-block;\">sic</span> <span style=\"display: inline-block;\">me</span> <span style=\"display: inline-block;\">formabat</span> <span style=\"display: inline-block;\">puerum</span> <span style=\"display: inline-block;\">dictis</span> <span style=\"display: inline-block;\">et</span> <span style=\"display: inline-block;\">,</span> <span style=\"display: inline-block;\">sive</span> <span style=\"display: inline-block;\">iubebat</span> <span style=\"display: inline-block;\">ut</span> <span style=\"display: inline-block;\">facerem</span> <span style=\"display: inline-block;\">quid</span> <span style=\"display: inline-block;\">,</span> <span style=\"display: inline-block;\">\"</span> <span style=\"display: inline-block;\">habes</span> <span style=\"display: inline-block;\">auctorem</span> <span style=\"display: inline-block;\">,</span> <span style=\"display: inline-block;\">quo</span> <span style=\"display: inline-block;\">facias</span> <span style=\"display: inline-block;\">hoc</span> <span style=\"display: inline-block;\">\"</span> <span style=\"display: inline-block;\">unum</span> <span style=\"display: inline-block;\">ex</span> <span style=\"display: inline-block;\">iudicibus</span> <span style=\"display: inline-block;\">selectis</span> <span style=\"display: inline-block;\">obiciebat</span> <span style=\"display: inline-block;\">,</span> <span style=\"display: inline-block;\">sive</span> <span style=\"display: inline-block;\">vetabat</span> <span style=\"display: inline-block;\">,</span> <span style=\"display: inline-block;\">\"</span> <span style=\"display: inline-block;\">an</span> <span style=\"display: inline-block;\">hoc</span> <span style=\"display: inline-block;\">inhonestum</span> <span style=\"display: inline-block;\">et</span> <span style=\"display: inline-block;\">inutile</span> <span style=\"display: inline-block;\">factu</span> <span style=\"display: inline-block;\">necne</span> <span style=\"display: inline-block;\">sit</span> <span style=\"display: inline-block;\">,</span> <span style=\"display: inline-block;\">addubites</span> <span style=\"display: inline-block;\">,</span> <span style=\"display: inline-block;\">flagret</span> <span style=\"display: inline-block;\">rumore</span> <span style=\"display: inline-block;\">malo</span> <span style=\"display: inline-block;\">cum</span> <span style=\"display: inline-block;\">hic</span> <span style=\"display: inline-block;\">atque</span> <span style=\"display: inline-block;\">ille</span> <span style=\"display: inline-block;\">?</span></p>"
      ],
      "text/plain": [
       "<IPython.core.display.HTML object>"
      ]
     },
     "metadata": {},
     "output_type": "display_data"
    },
    {
     "data": {
      "text/html": [
       "<p><b style=\"text-decoration: line-through;;\">positive</b> -> <span style=\"display: inline-block;\">circumcidere</span> <span style=\"display: inline-block;\">genitalia</span> <span style=\"display: inline-block;\">instituerunt</span> <span style=\"display: inline-block;\">ut</span> <span style=\"display: inline-block;\">diversitate</span> <span style=\"display: inline-block;\">noscantur</span> <span style=\"display: inline-block;\">.</span></p>"
      ],
      "text/plain": [
       "<IPython.core.display.HTML object>"
      ]
     },
     "metadata": {},
     "output_type": "display_data"
    },
    {
     "data": {
      "text/html": [
       "<p><b style=\"text-decoration: line-through;;\">negative</b> -> <span style=\"display: inline-block;\">haec</span> <span style=\"display: inline-block;\">eadem</span> <span style=\"display: inline-block;\">socium</span> <span style=\"display: inline-block;\">tenera</span> <span style=\"display: inline-block;\">spoliauit</span> <span style=\"display: inline-block;\">amica</span> <span style=\"display: inline-block;\">,</span> <span style=\"display: inline-block;\">quaeque</span> <span style=\"display: inline-block;\">-que</span> <span style=\"display: inline-block;\">erat</span> <span style=\"display: inline-block;\">Aeacidae</span> <span style=\"display: inline-block;\">,</span> <span style=\"display: inline-block;\">maluit</span> <span style=\"display: inline-block;\">esse</span> <span style=\"display: inline-block;\">suam</span> <span style=\"display: inline-block;\">.</span></p>"
      ],
      "text/plain": [
       "<IPython.core.display.HTML object>"
      ]
     },
     "metadata": {},
     "output_type": "display_data"
    },
    {
     "data": {
      "text/html": [
       "<p><b style=\"text-decoration: line-through;;\">negative</b> -> <span style=\"display: inline-block;\">Quia</span> <span style=\"display: inline-block;\">pól</span> <span style=\"display: inline-block;\">meo</span> <span style=\"display: inline-block;\">animo</span> <span style=\"display: inline-block;\">omnis</span> <span style=\"display: inline-block;\">sápientis</span> <span style=\"display: inline-block;\">suom</span> <span style=\"display: inline-block;\">offícium</span> <span style=\"display: inline-block;\">aequom</span> <span style=\"display: inline-block;\">est</span> <span style=\"display: inline-block;\">colere</span> <span style=\"display: inline-block;\">ét</span> <span style=\"display: inline-block;\">facere</span> <span style=\"display: inline-block;\">.</span></p>"
      ],
      "text/plain": [
       "<IPython.core.display.HTML object>"
      ]
     },
     "metadata": {},
     "output_type": "display_data"
    },
    {
     "data": {
      "text/html": [
       "<p><b style=\"text-decoration: line-through;;\">positive</b> -> <span style=\"display: inline-block;\">Siccae</span> <span style=\"display: inline-block;\">enim</span> <span style=\"display: inline-block;\">fanum</span> <span style=\"display: inline-block;\">est</span> <span style=\"display: inline-block;\">Veneris</span> <span style=\"display: inline-block;\">,</span> <span style=\"display: inline-block;\">in</span> <span style=\"display: inline-block;\">quod</span> <span style=\"display: inline-block;\">se</span> <span style=\"display: inline-block;\">matronae</span> <span style=\"display: inline-block;\">conferebant</span> <span style=\"display: inline-block;\">atque</span> <span style=\"display: inline-block;\">inde</span> <span style=\"display: inline-block;\">procedentes</span> <span style=\"display: inline-block;\">ad</span> <span style=\"display: inline-block;\">quaestum</span> <span style=\"display: inline-block;\">,</span> <span style=\"display: inline-block;\">dotis</span> <span style=\"display: inline-block;\">corporis</span> <span style=\"display: inline-block;\">iniuria</span> <span style=\"display: inline-block;\">contrahebant</span> <span style=\"display: inline-block;\">,</span> <span style=\"display: inline-block;\">honesta</span> <span style=\"display: inline-block;\">nimirum</span> <span style=\"display: inline-block;\">tam</span> <span style=\"display: inline-block;\">inhonesto</span> <span style=\"display: inline-block;\">uinculo</span> <span style=\"display: inline-block;\">coniugia</span> <span style=\"display: inline-block;\">iuncturae</span> <span style=\"display: inline-block;\">.</span></p>"
      ],
      "text/plain": [
       "<IPython.core.display.HTML object>"
      ]
     },
     "metadata": {},
     "output_type": "display_data"
    },
    {
     "data": {
      "text/html": [
       "<p><b style=\"text-decoration: line-through;;\">negative</b> -> <span style=\"display: inline-block;\">hic</span> <span style=\"display: inline-block;\">ab</span> <span style=\"display: inline-block;\">Agnone</span> <span style=\"display: inline-block;\">accusatus</span> <span style=\"display: inline-block;\">,</span> <span style=\"display: inline-block;\">quod</span> <span style=\"display: inline-block;\">Piraeum</span> <span style=\"display: inline-block;\">Nicanori</span> <span style=\"display: inline-block;\">prodidisset</span> <span style=\"display: inline-block;\">,</span> <span style=\"display: inline-block;\">ex</span> <span style=\"display: inline-block;\">consilii</span> <span style=\"display: inline-block;\">sententia</span> <span style=\"display: inline-block;\">in</span> <span style=\"display: inline-block;\">custodiam</span> <span style=\"display: inline-block;\">coniectus</span> <span style=\"display: inline-block;\">Athenas</span> <span style=\"display: inline-block;\">deductus</span> <span style=\"display: inline-block;\">est</span> <span style=\"display: inline-block;\">,</span> <span style=\"display: inline-block;\">ut</span> <span style=\"display: inline-block;\">ibi</span> <span style=\"display: inline-block;\">de</span> <span style=\"display: inline-block;\">eo</span> <span style=\"display: inline-block;\">legibus</span> <span style=\"display: inline-block;\">fieret</span> <span style=\"display: inline-block;\">iudicium</span> <span style=\"display: inline-block;\">.</span></p>"
      ],
      "text/plain": [
       "<IPython.core.display.HTML object>"
      ]
     },
     "metadata": {},
     "output_type": "display_data"
    },
    {
     "data": {
      "text/html": [
       "<p><b style=\"text-decoration: line-through;;\">negative</b> -> <span style=\"display: inline-block;\">Haec</span> <span style=\"display: inline-block;\">recensente</span> <span style=\"display: inline-block;\">pistore</span> <span style=\"display: inline-block;\">iamdudum</span> <span style=\"display: inline-block;\">procax</span> <span style=\"display: inline-block;\">et</span> <span style=\"display: inline-block;\">temeraria</span> <span style=\"display: inline-block;\">mulier</span> <span style=\"display: inline-block;\">verbis</span> <span style=\"display: inline-block;\">execrantibus</span> <span style=\"display: inline-block;\">fullonis</span> <span style=\"display: inline-block;\">illius</span> <span style=\"display: inline-block;\">detestabatur</span> <span style=\"display: inline-block;\">uxorem</span> <span style=\"display: inline-block;\">,</span> <span style=\"display: inline-block;\">illam</span> <span style=\"display: inline-block;\">perfidam</span> <span style=\"display: inline-block;\">,</span> <span style=\"display: inline-block;\">illam</span> <span style=\"display: inline-block;\">impudicam</span> <span style=\"display: inline-block;\">,</span> <span style=\"display: inline-block;\">denique</span> <span style=\"display: inline-block;\">universi</span> <span style=\"display: inline-block;\">sexus</span> <span style=\"display: inline-block;\">grande</span> <span style=\"display: inline-block;\">dedecus</span> <span style=\"display: inline-block;\">,</span> <span style=\"display: inline-block;\">quae</span> <span style=\"display: inline-block;\">suo</span> <span style=\"display: inline-block;\">pudore</span> <span style=\"display: inline-block;\">postposito</span> <span style=\"display: inline-block;\">torique</span> <span style=\"display: inline-block;\">-que</span> <span style=\"display: inline-block;\">genialis</span> <span style=\"display: inline-block;\">calcato</span> <span style=\"display: inline-block;\">foedere</span> <span style=\"display: inline-block;\">Larem</span> <span style=\"display: inline-block;\">mariti</span> <span style=\"display: inline-block;\">lupanari</span> <span style=\"display: inline-block;\">maculasset</span> <span style=\"display: inline-block;\">infamia</span> <span style=\"display: inline-block;\">,</span> <span style=\"display: inline-block;\">iamque</span> <span style=\"display: inline-block;\">-que</span> <span style=\"display: inline-block;\">perdita</span> <span style=\"display: inline-block;\">nuptae</span> <span style=\"display: inline-block;\">dignitate</span> <span style=\"display: inline-block;\">prostitutae</span> <span style=\"display: inline-block;\">sibi</span> <span style=\"display: inline-block;\">nomen</span> <span style=\"display: inline-block;\">adsciverit</span> <span style=\"display: inline-block;\">:</span> <span style=\"display: inline-block;\">addebat</span> <span style=\"display: inline-block;\">et</span> <span style=\"display: inline-block;\">tales</span> <span style=\"display: inline-block;\">oportere</span> <span style=\"display: inline-block;\">vivas</span> <span style=\"display: inline-block;\">exuri</span> <span style=\"display: inline-block;\">feminas</span> <span style=\"display: inline-block;\">.</span></p>"
      ],
      "text/plain": [
       "<IPython.core.display.HTML object>"
      ]
     },
     "metadata": {},
     "output_type": "display_data"
    },
    {
     "data": {
      "text/html": [
       "<p><b style=\"text-decoration: line-through;;\">negative</b> -> <span style=\"display: inline-block;\">vinearumque</span> <span style=\"display: inline-block;\">-que</span> <span style=\"display: inline-block;\">cultoribus</span> <span style=\"display: inline-block;\">Semeias</span> <span style=\"display: inline-block;\">Ramathites</span> <span style=\"display: inline-block;\">cellis</span> <span style=\"display: inline-block;\">autem</span> <span style=\"display: inline-block;\">vinariis</span> <span style=\"display: inline-block;\">Zabdias</span> <span style=\"display: inline-block;\">Aphonites</span></p>"
      ],
      "text/plain": [
       "<IPython.core.display.HTML object>"
      ]
     },
     "metadata": {},
     "output_type": "display_data"
    },
    {
     "data": {
      "text/html": [
       "<p><b style=\"text-decoration: line-through;;\">negative</b> -> <span style=\"display: inline-block;\">quia</span> <span style=\"display: inline-block;\">nós</span> <span style=\"display: inline-block;\">libertinaé</span> <span style=\"display: inline-block;\">sumus</span> <span style=\"display: inline-block;\">,</span> <span style=\"display: inline-block;\">et</span> <span style=\"display: inline-block;\">ego</span> <span style=\"display: inline-block;\">ét</span> <span style=\"display: inline-block;\">tua</span> <span style=\"display: inline-block;\">mater</span> <span style=\"display: inline-block;\">,</span> <span style=\"display: inline-block;\">ámbae</span> <span style=\"display: inline-block;\">meretrices</span> <span style=\"display: inline-block;\">fuimus</span> <span style=\"display: inline-block;\">:</span> <span style=\"display: inline-block;\">illa</span> <span style=\"display: inline-block;\">te</span> <span style=\"display: inline-block;\">,</span> <span style=\"display: inline-block;\">ego</span> <span style=\"display: inline-block;\">hanc</span> <span style=\"display: inline-block;\">mihi</span> <span style=\"display: inline-block;\">educavi</span> <span style=\"display: inline-block;\">ex</span> <span style=\"display: inline-block;\">patribus</span> <span style=\"display: inline-block;\">conventiciis</span> <span style=\"display: inline-block;\">.</span></p>"
      ],
      "text/plain": [
       "<IPython.core.display.HTML object>"
      ]
     },
     "metadata": {},
     "output_type": "display_data"
    },
    {
     "data": {
      "text/html": [
       "<p><b style=\"text-decoration: line-through;;\">negative</b> -> <span style=\"display: inline-block;\">dum</span> <span style=\"display: inline-block;\">renovat</span> <span style=\"display: inline-block;\">largo</span> <span style=\"display: inline-block;\">mortalia</span> <span style=\"display: inline-block;\">semina</span> <span style=\"display: inline-block;\">fetu</span> <span style=\"display: inline-block;\">,</span> <span style=\"display: inline-block;\">fingitur</span> <span style=\"display: inline-block;\">in</span> <span style=\"display: inline-block;\">venerem</span> <span style=\"display: inline-block;\">pronior</span> <span style=\"display: inline-block;\">esse</span> <span style=\"display: inline-block;\">deus</span> <span style=\"display: inline-block;\">.</span></p>"
      ],
      "text/plain": [
       "<IPython.core.display.HTML object>"
      ]
     },
     "metadata": {},
     "output_type": "display_data"
    },
    {
     "data": {
      "text/html": [
       "<p><b style=\"text-decoration: line-through;;\">negative</b> -> <span style=\"display: inline-block;\">Fuit</span> <span style=\"display: inline-block;\">autem</span> <span style=\"display: inline-block;\">ineptiolae</span> <span style=\"display: inline-block;\">huius</span> <span style=\"display: inline-block;\">ista</span> <span style=\"display: inline-block;\">materia</span> <span style=\"display: inline-block;\">,</span> <span style=\"display: inline-block;\">in</span> <span style=\"display: inline-block;\">expeditione</span> <span style=\"display: inline-block;\">,</span> <span style=\"display: inline-block;\">quod</span> <span style=\"display: inline-block;\">tempus</span> <span style=\"display: inline-block;\">,</span> <span style=\"display: inline-block;\">ut</span> <span style=\"display: inline-block;\">scis</span> <span style=\"display: inline-block;\">,</span> <span style=\"display: inline-block;\">licentiae</span> <span style=\"display: inline-block;\">militaris</span> <span style=\"display: inline-block;\">est</span> <span style=\"display: inline-block;\">,</span> <span style=\"display: inline-block;\">super</span> <span style=\"display: inline-block;\">mensam</span> <span style=\"display: inline-block;\">meam</span> <span style=\"display: inline-block;\">facta</span> <span style=\"display: inline-block;\">est</span> <span style=\"display: inline-block;\">invitatio</span> <span style=\"display: inline-block;\">,</span> <span style=\"display: inline-block;\">non</span> <span style=\"display: inline-block;\">illa</span> <span style=\"display: inline-block;\">de</span> <span style=\"display: inline-block;\">Rubrii</span> <span style=\"display: inline-block;\">convivio</span> <span style=\"display: inline-block;\">,</span> <span style=\"display: inline-block;\">ut</span> <span style=\"display: inline-block;\">Graeco</span> <span style=\"display: inline-block;\">more</span> <span style=\"display: inline-block;\">biberetur</span> <span style=\"display: inline-block;\">,</span> <span style=\"display: inline-block;\">1</span> <span style=\"display: inline-block;\">set</span> <span style=\"display: inline-block;\">illa</span> <span style=\"display: inline-block;\">de</span> <span style=\"display: inline-block;\">Flacci</span> <span style=\"display: inline-block;\">ecloga</span> <span style=\"display: inline-block;\">,</span> <span style=\"display: inline-block;\">in</span> <span style=\"display: inline-block;\">qua</span> <span style=\"display: inline-block;\">propter</span> <span style=\"display: inline-block;\">mediam</span> <span style=\"display: inline-block;\">noctem</span> <span style=\"display: inline-block;\">et</span> <span style=\"display: inline-block;\">novam</span> <span style=\"display: inline-block;\">lunam</span> <span style=\"display: inline-block;\">et</span> <span style=\"display: inline-block;\">Murenae</span> <span style=\"display: inline-block;\">auguratum</span> <span style=\"display: inline-block;\">ternos</span> <span style=\"display: inline-block;\">ter</span> <span style=\"display: inline-block;\">cyathos</span> <span style=\"display: inline-block;\">attonitus</span> <span style=\"display: inline-block;\">petit</span> <span style=\"display: inline-block;\">vates</span> <span style=\"display: inline-block;\">.</span></p>"
      ],
      "text/plain": [
       "<IPython.core.display.HTML object>"
      ]
     },
     "metadata": {},
     "output_type": "display_data"
    },
    {
     "data": {
      "text/html": [
       "<p><b style=\"text-decoration: line-through;;\">negative</b> -> <span style=\"display: inline-block;\">spectas</span> <span style=\"display: inline-block;\">me</span> <span style=\"display: inline-block;\">tamen</span> <span style=\"display: inline-block;\">et</span> <span style=\"display: inline-block;\">subinde</span> <span style=\"display: inline-block;\">rides</span> <span style=\"display: inline-block;\">:</span> <span style=\"display: inline-block;\">nimirum</span> <span style=\"display: inline-block;\">tibi</span> <span style=\"display: inline-block;\">salsa</span> <span style=\"display: inline-block;\">res</span> <span style=\"display: inline-block;\">uidetur</span> <span style=\"display: inline-block;\">adstans</span> <span style=\"display: inline-block;\">inguinibus</span> <span style=\"display: inline-block;\">columna</span> <span style=\"display: inline-block;\">nostris</span> <span style=\"display: inline-block;\">.</span></p>"
      ],
      "text/plain": [
       "<IPython.core.display.HTML object>"
      ]
     },
     "metadata": {},
     "output_type": "display_data"
    },
    {
     "data": {
      "text/html": [
       "<p><b style=\"text-decoration: line-through;;\">negative</b> -> <span style=\"display: inline-block;\">me</span> <span style=\"display: inline-block;\">quoque</span> <span style=\"display: inline-block;\">submotum</span> <span style=\"display: inline-block;\">pietas</span> <span style=\"display: inline-block;\">arcebat</span> <span style=\"display: inline-block;\">ab</span> <span style=\"display: inline-block;\">omni</span> <span style=\"display: inline-block;\">officio</span> <span style=\"display: inline-block;\">.</span></p>"
      ],
      "text/plain": [
       "<IPython.core.display.HTML object>"
      ]
     },
     "metadata": {},
     "output_type": "display_data"
    },
    {
     "data": {
      "text/html": [
       "<p><b style=\"text-decoration: line-through;;\">negative</b> -> <span style=\"display: inline-block;\">Quis</span> <span style=\"display: inline-block;\">denique</span> <span style=\"display: inline-block;\">de</span> <span style=\"display: inline-block;\">nobis</span> <span style=\"display: inline-block;\">alio</span> <span style=\"display: inline-block;\">nomine</span> <span style=\"display: inline-block;\">queritur</span> <span style=\"display: inline-block;\">?</span></p>"
      ],
      "text/plain": [
       "<IPython.core.display.HTML object>"
      ]
     },
     "metadata": {},
     "output_type": "display_data"
    },
    {
     "data": {
      "text/html": [
       "<p><b style=\"text-decoration: line-through;;\">negative</b> -> <span style=\"display: inline-block;\">unde</span> <span style=\"display: inline-block;\">colligitur</span> <span style=\"display: inline-block;\">,</span> <span style=\"display: inline-block;\">quod</span> <span style=\"display: inline-block;\">deus</span> <span style=\"display: inline-block;\">aliquid</span> <span style=\"display: inline-block;\">et</span> <span style=\"display: inline-block;\">improbet</span> <span style=\"display: inline-block;\">iustus</span> <span style=\"display: inline-block;\">et</span> <span style=\"display: inline-block;\">tamen</span> <span style=\"display: inline-block;\">permittat</span> <span style=\"display: inline-block;\">omnipotens</span> <span style=\"display: inline-block;\">.</span></p>"
      ],
      "text/plain": [
       "<IPython.core.display.HTML object>"
      ]
     },
     "metadata": {},
     "output_type": "display_data"
    },
    {
     "data": {
      "text/html": [
       "<p><b style=\"text-decoration: line-through;;\">negative</b> -> <span style=\"display: inline-block;\">Quia</span> <span style=\"display: inline-block;\">mos</span> <span style=\"display: inline-block;\">est</span> <span style=\"display: inline-block;\">oblivisci</span> <span style=\"display: inline-block;\">hominibus</span> <span style=\"display: inline-block;\">neque</span> <span style=\"display: inline-block;\">novisse</span> <span style=\"display: inline-block;\">cuius</span> <span style=\"display: inline-block;\">nihili</span> <span style=\"display: inline-block;\">sit</span> <span style=\"display: inline-block;\">faciunda</span> <span style=\"display: inline-block;\">gratia</span> <span style=\"display: inline-block;\">.</span></p>"
      ],
      "text/plain": [
       "<IPython.core.display.HTML object>"
      ]
     },
     "metadata": {},
     "output_type": "display_data"
    },
    {
     "data": {
      "text/html": [
       "<p><b style=\"text-decoration: line-through;;\">positive</b> -> <span style=\"display: inline-block;\">Metromaniam</span> <span style=\"display: inline-block;\">latino</span> <span style=\"display: inline-block;\">sermone</span> <span style=\"display: inline-block;\">matricis</span> <span style=\"display: inline-block;\">furores</span> <span style=\"display: inline-block;\">siue</span> <span style=\"display: inline-block;\">insaniam</span> <span style=\"display: inline-block;\">dicimus</span> <span style=\"display: inline-block;\">.</span></p>"
      ],
      "text/plain": [
       "<IPython.core.display.HTML object>"
      ]
     },
     "metadata": {},
     "output_type": "display_data"
    },
    {
     "data": {
      "text/html": [
       "<p><b style=\"text-decoration: line-through;;\">negative</b> -> <span style=\"display: inline-block;\">Age</span> <span style=\"display: inline-block;\">,</span> <span style=\"display: inline-block;\">age</span> <span style=\"display: inline-block;\">nunc</span> <span style=\"display: inline-block;\">tu</span> <span style=\"display: inline-block;\">,</span> <span style=\"display: inline-block;\">in</span> <span style=\"display: inline-block;\">proelium</span> <span style=\"display: inline-block;\">vide</span> <span style=\"display: inline-block;\">ut</span> <span style=\"display: inline-block;\">ingrediare</span> <span style=\"display: inline-block;\">auspicato</span> <span style=\"display: inline-block;\">.</span></p>"
      ],
      "text/plain": [
       "<IPython.core.display.HTML object>"
      ]
     },
     "metadata": {},
     "output_type": "display_data"
    },
    {
     "data": {
      "text/html": [
       "<p><b style=\"text-decoration: line-through;;\">negative</b> -> <span style=\"display: inline-block;\">non</span> <span style=\"display: inline-block;\">rapio</span> <span style=\"display: inline-block;\">praeceps</span> <span style=\"display: inline-block;\">alienae</span> <span style=\"display: inline-block;\">foedera</span> <span style=\"display: inline-block;\">taedae</span> <span style=\"display: inline-block;\">,</span> <span style=\"display: inline-block;\">sed</span> <span style=\"display: inline-block;\">quae</span> <span style=\"display: inline-block;\">sponsa</span> <span style=\"display: inline-block;\">mihi</span> <span style=\"display: inline-block;\">pridem</span> <span style=\"display: inline-block;\">patrisque</span> <span style=\"display: inline-block;\">-que</span> <span style=\"display: inline-block;\">relicta</span> <span style=\"display: inline-block;\">mandatis</span> <span style=\"display: inline-block;\">uno</span> <span style=\"display: inline-block;\">materni</span> <span style=\"display: inline-block;\">sanguinis</span> <span style=\"display: inline-block;\">ortu</span> <span style=\"display: inline-block;\">communem</span> <span style=\"display: inline-block;\">partitur</span> <span style=\"display: inline-block;\">avum</span> <span style=\"display: inline-block;\">.</span></p>"
      ],
      "text/plain": [
       "<IPython.core.display.HTML object>"
      ]
     },
     "metadata": {},
     "output_type": "display_data"
    },
    {
     "data": {
      "text/html": [
       "<p><b style=\"text-decoration: line-through;;\">negative</b> -> <span style=\"display: inline-block;\">Uaccae</span> <span style=\"display: inline-block;\">carnalibus</span> <span style=\"display: inline-block;\">uitiis</span> <span style=\"display: inline-block;\">pleni</span> <span style=\"display: inline-block;\">;</span></p>"
      ],
      "text/plain": [
       "<IPython.core.display.HTML object>"
      ]
     },
     "metadata": {},
     "output_type": "display_data"
    },
    {
     "data": {
      "text/html": [
       "<p><b style=\"text-decoration: line-through;;\">positive</b> -> <span style=\"display: inline-block;\">Nam</span> <span style=\"display: inline-block;\">nisi</span> <span style=\"display: inline-block;\">prius</span> <span style=\"display: inline-block;\">ea</span> <span style=\"display: inline-block;\">marem</span> <span style=\"display: inline-block;\">cognovit</span> <span style=\"display: inline-block;\">,</span> <span style=\"display: inline-block;\">adsilientem</span> <span style=\"display: inline-block;\">admissarium</span> <span style=\"display: inline-block;\">calcibus</span> <span style=\"display: inline-block;\">proturbat</span></p>"
      ],
      "text/plain": [
       "<IPython.core.display.HTML object>"
      ]
     },
     "metadata": {},
     "output_type": "display_data"
    },
    {
     "data": {
      "text/html": [
       "<p><b style=\"text-decoration: line-through;;\">positive</b> -> <span style=\"display: inline-block;\">\"</span> <span style=\"display: inline-block;\">Dumque</span> <span style=\"display: inline-block;\">-que</span> <span style=\"display: inline-block;\">loquimur</span> <span style=\"display: inline-block;\">,</span> <span style=\"display: inline-block;\">sera</span> <span style=\"display: inline-block;\">sua</span> <span style=\"display: inline-block;\">sponte</span> <span style=\"display: inline-block;\">delapsa</span> <span style=\"display: inline-block;\">cecidit</span> <span style=\"display: inline-block;\">reclusaeque</span> <span style=\"display: inline-block;\">-que</span> <span style=\"display: inline-block;\">subito</span> <span style=\"display: inline-block;\">fores</span> <span style=\"display: inline-block;\">admiserunt</span> <span style=\"display: inline-block;\">intrantem</span> <span style=\"display: inline-block;\">.</span></p>"
      ],
      "text/plain": [
       "<IPython.core.display.HTML object>"
      ]
     },
     "metadata": {},
     "output_type": "display_data"
    },
    {
     "data": {
      "text/html": [
       "<p><b style=\"text-decoration: line-through;;\">negative</b> -> <span style=\"display: inline-block;\">íbo</span> <span style=\"display: inline-block;\">hinc</span> <span style=\"display: inline-block;\">intro</span> <span style=\"display: inline-block;\">nunciam</span> <span style=\"display: inline-block;\">ad</span> <span style=\"display: inline-block;\">amores</span> <span style=\"display: inline-block;\">meos</span> <span style=\"display: inline-block;\">.</span></p>"
      ],
      "text/plain": [
       "<IPython.core.display.HTML object>"
      ]
     },
     "metadata": {},
     "output_type": "display_data"
    },
    {
     "data": {
      "text/html": [
       "<p><b style=\"text-decoration: line-through;;\">positive</b> -> <span style=\"display: inline-block;\">Huius</span> <span style=\"display: inline-block;\">corpore</span> <span style=\"display: inline-block;\">cum</span> <span style=\"display: inline-block;\">uiolenter</span> <span style=\"display: inline-block;\">obpresso</span> <span style=\"display: inline-block;\">Tarquinii</span> <span style=\"display: inline-block;\">regis</span> <span style=\"display: inline-block;\">filius</span> <span style=\"display: inline-block;\">libidinose</span> <span style=\"display: inline-block;\">potitus</span> <span style=\"display: inline-block;\">esset</span></p>"
      ],
      "text/plain": [
       "<IPython.core.display.HTML object>"
      ]
     },
     "metadata": {},
     "output_type": "display_data"
    },
    {
     "data": {
      "text/html": [
       "<p><b style=\"text-decoration: line-through;;\">negative</b> -> <span style=\"display: inline-block;\">Iamque</span> <span style=\"display: inline-block;\">-que</span> <span style=\"display: inline-block;\">novum</span> <span style=\"display: inline-block;\">delectat</span> <span style=\"display: inline-block;\">iter</span> <span style=\"display: inline-block;\">,</span> <span style=\"display: inline-block;\">positoque</span> <span style=\"display: inline-block;\">-que</span> <span style=\"display: inline-block;\">timore</span> <span style=\"display: inline-block;\">Icarus</span> <span style=\"display: inline-block;\">audaci</span> <span style=\"display: inline-block;\">fortius</span> <span style=\"display: inline-block;\">arte</span> <span style=\"display: inline-block;\">volat</span> <span style=\"display: inline-block;\">.</span></p>"
      ],
      "text/plain": [
       "<IPython.core.display.HTML object>"
      ]
     },
     "metadata": {},
     "output_type": "display_data"
    },
    {
     "data": {
      "text/html": [
       "<p><b style=\"text-decoration: line-through;;\">positive</b> -> <span style=\"display: inline-block;\">Torum</span> <span style=\"display: inline-block;\">frequenti</span> <span style=\"display: inline-block;\">tractatione</span> <span style=\"display: inline-block;\">vexavi</span> <span style=\"display: inline-block;\">,</span> <span style=\"display: inline-block;\">amoris</span> <span style=\"display: inline-block;\">mei</span> <span style=\"display: inline-block;\">quasi</span> <span style=\"display: inline-block;\">quandam</span> <span style=\"display: inline-block;\">imaginem</span> <span style=\"display: inline-block;\">.</span></p>"
      ],
      "text/plain": [
       "<IPython.core.display.HTML object>"
      ]
     },
     "metadata": {},
     "output_type": "display_data"
    },
    {
     "data": {
      "text/html": [
       "<p><b style=\"text-decoration: line-through;;\">negative</b> -> <span style=\"display: inline-block;\">non</span> <span style=\"display: inline-block;\">defuisse</span> <span style=\"display: inline-block;\">masculae</span> <span style=\"display: inline-block;\">libidinis</span> <span style=\"display: inline-block;\">Ariminensem</span> <span style=\"display: inline-block;\">Foliam</span> <span style=\"display: inline-block;\">et</span> <span style=\"display: inline-block;\">otiosa</span> <span style=\"display: inline-block;\">credidit</span> <span style=\"display: inline-block;\">Neapolis</span> <span style=\"display: inline-block;\">et</span> <span style=\"display: inline-block;\">omne</span> <span style=\"display: inline-block;\">vicinum</span> <span style=\"display: inline-block;\">oppidum</span> <span style=\"display: inline-block;\">,</span> <span style=\"display: inline-block;\">quae</span> <span style=\"display: inline-block;\">sidera</span> <span style=\"display: inline-block;\">excantata</span> <span style=\"display: inline-block;\">voce</span> <span style=\"display: inline-block;\">Thessala</span> <span style=\"display: inline-block;\">lunamque</span> <span style=\"display: inline-block;\">-que</span> <span style=\"display: inline-block;\">caelo</span> <span style=\"display: inline-block;\">deripit</span> <span style=\"display: inline-block;\">.</span></p>"
      ],
      "text/plain": [
       "<IPython.core.display.HTML object>"
      ]
     },
     "metadata": {},
     "output_type": "display_data"
    },
    {
     "data": {
      "text/html": [
       "<p><b style=\"text-decoration: line-through;;\">negative</b> -> <span style=\"display: inline-block;\">nullam</span> <span style=\"display: inline-block;\">uestem</span> <span style=\"display: inline-block;\">bis</span> <span style=\"display: inline-block;\">induit</span> <span style=\"display: inline-block;\">.</span></p>"
      ],
      "text/plain": [
       "<IPython.core.display.HTML object>"
      ]
     },
     "metadata": {},
     "output_type": "display_data"
    },
    {
     "data": {
      "text/html": [
       "<p><b style=\"text-decoration: line-through;;\">negative</b> -> <span style=\"display: inline-block;\">Ego</span> <span style=\"display: inline-block;\">cum</span> <span style=\"display: inline-block;\">muliere</span> <span style=\"display: inline-block;\">menstruata</span> <span style=\"display: inline-block;\">concubui</span> <span style=\"display: inline-block;\">et</span> <span style=\"display: inline-block;\">non</span> <span style=\"display: inline-block;\">concepit</span> <span style=\"display: inline-block;\">,</span> <span style=\"display: inline-block;\">nam</span> <span style=\"display: inline-block;\">purgacionis</span> <span style=\"display: inline-block;\">plurimo</span> <span style=\"display: inline-block;\">sanguine</span> <span style=\"display: inline-block;\">minor</span> <span style=\"display: inline-block;\">pars</span> <span style=\"display: inline-block;\">seminis</span> <span style=\"display: inline-block;\">corrupta</span> <span style=\"display: inline-block;\">est</span> <span style=\"display: inline-block;\">.</span></p>"
      ],
      "text/plain": [
       "<IPython.core.display.HTML object>"
      ]
     },
     "metadata": {},
     "output_type": "display_data"
    },
    {
     "data": {
      "text/html": [
       "<p><b style=\"text-decoration: line-through;;\">negative</b> -> <span style=\"display: inline-block;\">Oportet</span> <span style=\"display: inline-block;\">autem</span> <span style=\"display: inline-block;\">non</span> <span style=\"display: inline-block;\">continentibus</span> <span style=\"display: inline-block;\">cibos</span> <span style=\"display: inline-block;\">secundum</span> <span style=\"display: inline-block;\">vomitum</span> <span style=\"display: inline-block;\">protinus</span> <span style=\"display: inline-block;\">oleo</span> <span style=\"display: inline-block;\">perunctis</span> <span style=\"display: inline-block;\">et</span> <span style=\"display: inline-block;\">diutius</span> <span style=\"display: inline-block;\">presse</span> <span style=\"display: inline-block;\">fricatis</span> <span style=\"display: inline-block;\">dare</span> <span style=\"display: inline-block;\">medicamentum</span> <span style=\"display: inline-block;\">pondere</span> <span style=\"display: inline-block;\">X</span> <span style=\"display: inline-block;\">I</span> <span style=\"display: inline-block;\">ex</span> <span style=\"display: inline-block;\">aquae</span> <span style=\"display: inline-block;\">cyathis</span> <span style=\"display: inline-block;\">tribus</span> <span style=\"display: inline-block;\">,</span> <span style=\"display: inline-block;\">deinde</span> <span style=\"display: inline-block;\">artus</span> <span style=\"display: inline-block;\">constringere</span> <span style=\"display: inline-block;\">et</span> <span style=\"display: inline-block;\">interdum</span> <span style=\"display: inline-block;\">olfactoriis</span> <span style=\"display: inline-block;\">reficere</span> <span style=\"display: inline-block;\">et</span> <span style=\"display: inline-block;\">commanducatione</span> <span style=\"display: inline-block;\">olivarum</span> <span style=\"display: inline-block;\">contusarum</span> <span style=\"display: inline-block;\">earumque</span> <span style=\"display: inline-block;\">-que</span> <span style=\"display: inline-block;\">rerum</span> <span style=\"display: inline-block;\">,</span> <span style=\"display: inline-block;\">quae</span> <span style=\"display: inline-block;\">stomachum</span> <span style=\"display: inline-block;\">constringere</span> <span style=\"display: inline-block;\">solent</span> <span style=\"display: inline-block;\">,</span> <span style=\"display: inline-block;\">interim</span> <span style=\"display: inline-block;\">subrectos</span> <span style=\"display: inline-block;\">,</span> <span style=\"display: inline-block;\">recubantes</span> <span style=\"display: inline-block;\">,</span> <span style=\"display: inline-block;\">deinde</span> <span style=\"display: inline-block;\">cum</span> <span style=\"display: inline-block;\">deiecerint</span> <span style=\"display: inline-block;\">,</span> <span style=\"display: inline-block;\">solutis</span> <span style=\"display: inline-block;\">vinculis</span> <span style=\"display: inline-block;\">rursus</span> <span style=\"display: inline-block;\">perunguere</span> <span style=\"display: inline-block;\">et</span> <span style=\"display: inline-block;\">fricare</span> <span style=\"display: inline-block;\">totum</span> <span style=\"display: inline-block;\">corpus</span> <span style=\"display: inline-block;\">atque</span> <span style=\"display: inline-block;\">ita</span> <span style=\"display: inline-block;\">varietate</span> <span style=\"display: inline-block;\">apta</span> <span style=\"display: inline-block;\">ciborum</span> <span style=\"display: inline-block;\">stomachum</span> <span style=\"display: inline-block;\">proritare</span> <span style=\"display: inline-block;\">,</span> <span style=\"display: inline-block;\">ut</span> <span style=\"display: inline-block;\">halica</span> <span style=\"display: inline-block;\">ex</span> <span style=\"display: inline-block;\">mulso</span> <span style=\"display: inline-block;\">et</span> <span style=\"display: inline-block;\">malorum</span> <span style=\"display: inline-block;\">Cydoneorum</span> <span style=\"display: inline-block;\">suco</span> <span style=\"display: inline-block;\">facto</span> <span style=\"display: inline-block;\">vel</span> <span style=\"display: inline-block;\">ex</span> <span style=\"display: inline-block;\">granatorum</span> <span style=\"display: inline-block;\">per</span> <span style=\"display: inline-block;\">se</span> <span style=\"display: inline-block;\">malorum</span> <span style=\"display: inline-block;\">vel</span> <span style=\"display: inline-block;\">si</span> <span style=\"display: inline-block;\">quos</span> <span style=\"display: inline-block;\">magis</span> <span style=\"display: inline-block;\">delectat</span> <span style=\"display: inline-block;\">,</span> <span style=\"display: inline-block;\">ex</span> <span style=\"display: inline-block;\">frigida</span> <span style=\"display: inline-block;\">posca</span> <span style=\"display: inline-block;\">;</span></p>"
      ],
      "text/plain": [
       "<IPython.core.display.HTML object>"
      ]
     },
     "metadata": {},
     "output_type": "display_data"
    },
    {
     "data": {
      "text/html": [
       "<p><b style=\"text-decoration: line-through;;\">negative</b> -> <span style=\"display: inline-block;\">Utraque</span> <span style=\"display: inline-block;\">enim</span> <span style=\"display: inline-block;\">montuosa</span> <span style=\"display: inline-block;\">atque</span> <span style=\"display: inline-block;\">campestris</span> <span style=\"display: inline-block;\">est</span> <span style=\"display: inline-block;\">pro</span> <span style=\"display: inline-block;\">locorum</span> <span style=\"display: inline-block;\">diuersitate</span> <span style=\"display: inline-block;\">,</span> <span style=\"display: inline-block;\">neque</span> <span style=\"display: inline-block;\">tota</span> <span style=\"display: inline-block;\">campis</span> <span style=\"display: inline-block;\">diffunditur</span> <span style=\"display: inline-block;\">neque</span> <span style=\"display: inline-block;\">in</span> <span style=\"display: inline-block;\">locis</span> <span style=\"display: inline-block;\">omnibus</span> <span style=\"display: inline-block;\">montium</span> <span style=\"display: inline-block;\">rupibus</span> <span style=\"display: inline-block;\">scinditur</span> <span style=\"display: inline-block;\">,</span> <span style=\"display: inline-block;\">sed</span> <span style=\"display: inline-block;\">utriusque</span> <span style=\"display: inline-block;\">qualitatis</span> <span style=\"display: inline-block;\">habet</span> <span style=\"display: inline-block;\">gratiam</span> <span style=\"display: inline-block;\">.</span></p>"
      ],
      "text/plain": [
       "<IPython.core.display.HTML object>"
      ]
     },
     "metadata": {},
     "output_type": "display_data"
    },
    {
     "data": {
      "text/html": [
       "<p><b style=\"text-decoration: line-through;;\">negative</b> -> <span style=\"display: inline-block;\">quid</span> <span style=\"display: inline-block;\">tibi</span> <span style=\"display: inline-block;\">,</span> <span style=\"display: inline-block;\">o</span> <span style=\"display: inline-block;\">stulta</span> <span style=\"display: inline-block;\">,</span> <span style=\"display: inline-block;\">in</span> <span style=\"display: inline-block;\">generis</span> <span style=\"display: inline-block;\">nobilitate</span> <span style=\"display: inline-block;\">blandiris</span> <span style=\"display: inline-block;\">et</span> <span style=\"display: inline-block;\">conplaces</span> <span style=\"display: inline-block;\">?</span></p>"
      ],
      "text/plain": [
       "<IPython.core.display.HTML object>"
      ]
     },
     "metadata": {},
     "output_type": "display_data"
    },
    {
     "data": {
      "text/html": [
       "<p><b style=\"text-decoration: line-through;;\">negative</b> -> <span style=\"display: inline-block;\">Lesbiae</span> <span style=\"display: inline-block;\">depelle</span> <span style=\"display: inline-block;\">modum</span> <span style=\"display: inline-block;\">quietis</span> <span style=\"display: inline-block;\">,</span> <span style=\"display: inline-block;\">cer</span> <span style=\"display: inline-block;\">iambe</span> <span style=\"display: inline-block;\">.</span></p>"
      ],
      "text/plain": [
       "<IPython.core.display.HTML object>"
      ]
     },
     "metadata": {},
     "output_type": "display_data"
    },
    {
     "data": {
      "text/html": [
       "<p><b style=\"text-decoration: line-through;;\">positive</b> -> <span style=\"display: inline-block;\">nulla</span> <span style=\"display: inline-block;\">idcirco</span> <span style=\"display: inline-block;\">ducit</span> <span style=\"display: inline-block;\">maritum</span> <span style=\"display: inline-block;\">,</span> <span style=\"display: inline-block;\">ut</span> <span style=\"display: inline-block;\">cum</span> <span style=\"display: inline-block;\">maritum</span> <span style=\"display: inline-block;\">non</span> <span style=\"display: inline-block;\">dormiat</span> <span style=\"display: inline-block;\">.</span></p>"
      ],
      "text/plain": [
       "<IPython.core.display.HTML object>"
      ]
     },
     "metadata": {},
     "output_type": "display_data"
    },
    {
     "data": {
      "text/html": [
       "<p><b style=\"text-decoration: line-through;;\">positive</b> -> <span style=\"display: inline-block;\">mangonum</span> <span style=\"display: inline-block;\">pueros</span> <span style=\"display: inline-block;\">vera</span> <span style=\"display: inline-block;\">ac</span> <span style=\"display: inline-block;\">miserabilis</span> <span style=\"display: inline-block;\">urit</span> <span style=\"display: inline-block;\">debilitas</span> <span style=\"display: inline-block;\">,</span> <span style=\"display: inline-block;\">follisque</span> <span style=\"display: inline-block;\">-que</span> <span style=\"display: inline-block;\">pudet</span> <span style=\"display: inline-block;\">cicerisque</span> <span style=\"display: inline-block;\">-que</span> <span style=\"display: inline-block;\">relicti</span> <span style=\"display: inline-block;\">.</span></p>"
      ],
      "text/plain": [
       "<IPython.core.display.HTML object>"
      ]
     },
     "metadata": {},
     "output_type": "display_data"
    },
    {
     "data": {
      "text/html": [
       "<p><b style=\"text-decoration: line-through;;\">negative</b> -> <span style=\"display: inline-block;\">fulmineos</span> <span style=\"display: inline-block;\">Semele</span> <span style=\"display: inline-block;\">decepta</span> <span style=\"display: inline-block;\">puerpera</span> <span style=\"display: inline-block;\">partus</span> <span style=\"display: inline-block;\">deflet</span> <span style=\"display: inline-block;\">et</span> <span style=\"display: inline-block;\">ambustas</span> <span style=\"display: inline-block;\">lacerans</span> <span style=\"display: inline-block;\">per</span> <span style=\"display: inline-block;\">inania</span> <span style=\"display: inline-block;\">cunas</span> <span style=\"display: inline-block;\">ventilat</span> <span style=\"display: inline-block;\">ignavum</span> <span style=\"display: inline-block;\">simulati</span> <span style=\"display: inline-block;\">fulguris</span> <span style=\"display: inline-block;\">ignem</span> <span style=\"display: inline-block;\">,</span> <span style=\"display: inline-block;\">irrita</span> <span style=\"display: inline-block;\">dona</span> <span style=\"display: inline-block;\">querens</span> <span style=\"display: inline-block;\">,</span> <span style=\"display: inline-block;\">sexu</span> <span style=\"display: inline-block;\">gavisa</span> <span style=\"display: inline-block;\">virili</span> <span style=\"display: inline-block;\">,</span> <span style=\"display: inline-block;\">maeret</span> <span style=\"display: inline-block;\">in</span> <span style=\"display: inline-block;\">antiquam</span> <span style=\"display: inline-block;\">Caenis</span> <span style=\"display: inline-block;\">revocata</span> <span style=\"display: inline-block;\">figuram</span> <span style=\"display: inline-block;\">.</span></p>"
      ],
      "text/plain": [
       "<IPython.core.display.HTML object>"
      ]
     },
     "metadata": {},
     "output_type": "display_data"
    },
    {
     "data": {
      "text/html": [
       "<p><b style=\"text-decoration: line-through;;\">negative</b> -> <span style=\"display: inline-block;\">Quin</span> <span style=\"display: inline-block;\">immo</span> <span style=\"display: inline-block;\">ipsum</span> <span style=\"display: inline-block;\">patrem</span> <span style=\"display: inline-block;\">tuum</span> <span style=\"display: inline-block;\">vetus</span> <span style=\"display: inline-block;\">illa</span> <span style=\"display: inline-block;\">imperatoriae</span> <span style=\"display: inline-block;\">domus</span> <span style=\"display: inline-block;\">praerogativa</span> <span style=\"display: inline-block;\">provexit</span> <span style=\"display: inline-block;\">,</span> <span style=\"display: inline-block;\">ut</span> <span style=\"display: inline-block;\">iam</span> <span style=\"display: inline-block;\">summo</span> <span style=\"display: inline-block;\">gradu</span> <span style=\"display: inline-block;\">et</span> <span style=\"display: inline-block;\">supra</span> <span style=\"display: inline-block;\">humanarum</span> <span style=\"display: inline-block;\">rerum</span> <span style=\"display: inline-block;\">fata</span> <span style=\"display: inline-block;\">consisteres</span> <span style=\"display: inline-block;\">,</span> <span style=\"display: inline-block;\">post</span> <span style=\"display: inline-block;\">duos</span> <span style=\"display: inline-block;\">familiae</span> <span style=\"display: inline-block;\">tuae</span> <span style=\"display: inline-block;\">principes</span> <span style=\"display: inline-block;\">tertius</span> <span style=\"display: inline-block;\">imperator</span> <span style=\"display: inline-block;\">.</span></p>"
      ],
      "text/plain": [
       "<IPython.core.display.HTML object>"
      ]
     },
     "metadata": {},
     "output_type": "display_data"
    },
    {
     "data": {
      "text/html": [
       "<p><b style=\"text-decoration: line-through;;\">negative</b> -> <span style=\"display: inline-block;\">Et</span> <span style=\"display: inline-block;\">qui</span> <span style=\"display: inline-block;\">id</span> <span style=\"display: inline-block;\">,</span> <span style=\"display: inline-block;\">inquam</span> <span style=\"display: inline-block;\">,</span> <span style=\"display: inline-block;\">fieri</span> <span style=\"display: inline-block;\">potest</span> <span style=\"display: inline-block;\">?</span></p>"
      ],
      "text/plain": [
       "<IPython.core.display.HTML object>"
      ]
     },
     "metadata": {},
     "output_type": "display_data"
    },
    {
     "data": {
      "text/html": [
       "<p><b style=\"text-decoration: line-through;;\">positive</b> -> <span style=\"display: inline-block;\">idem</span> <span style=\"display: inline-block;\">et</span> <span style=\"display: inline-block;\">ueretrum</span> <span style=\"display: inline-block;\">,</span> <span style=\"display: inline-block;\">quia</span> <span style=\"display: inline-block;\">uiri</span> <span style=\"display: inline-block;\">est</span> <span style=\"display: inline-block;\">tantum</span> <span style=\"display: inline-block;\">,</span> <span style=\"display: inline-block;\">siue</span> <span style=\"display: inline-block;\">quod</span> <span style=\"display: inline-block;\">ex</span> <span style=\"display: inline-block;\">eo</span> <span style=\"display: inline-block;\">uirus</span> <span style=\"display: inline-block;\">emittitur</span></p>"
      ],
      "text/plain": [
       "<IPython.core.display.HTML object>"
      ]
     },
     "metadata": {},
     "output_type": "display_data"
    },
    {
     "data": {
      "text/html": [
       "<p><b style=\"text-decoration: line-through;;\">negative</b> -> <span style=\"display: inline-block;\">quo</span> <span style=\"display: inline-block;\">fracta</span> <span style=\"display: inline-block;\">tonitrua</span> <span style=\"display: inline-block;\">vento</span> <span style=\"display: inline-block;\">,</span> <span style=\"display: inline-block;\">quis</span> <span style=\"display: inline-block;\">trahat</span> <span style=\"display: inline-block;\">imbriferas</span> <span style=\"display: inline-block;\">nubes</span> <span style=\"display: inline-block;\">,</span> <span style=\"display: inline-block;\">quo</span> <span style=\"display: inline-block;\">saxa</span> <span style=\"display: inline-block;\">creentur</span> <span style=\"display: inline-block;\">grandinis</span> <span style=\"display: inline-block;\">;</span></p>"
      ],
      "text/plain": [
       "<IPython.core.display.HTML object>"
      ]
     },
     "metadata": {},
     "output_type": "display_data"
    },
    {
     "data": {
      "text/html": [
       "<p><b style=\"text-decoration: line-through;;\">positive</b> -> <span style=\"display: inline-block;\">manu</span> <span style=\"display: inline-block;\">percussus</span> <span style=\"display: inline-block;\">crudeli</span> <span style=\"display: inline-block;\">morte</span> <span style=\"display: inline-block;\">punitus</span> <span style=\"display: inline-block;\">est</span> <span style=\"display: inline-block;\">:</span> <span style=\"display: inline-block;\">quid</span> <span style=\"display: inline-block;\">de</span> <span style=\"display: inline-block;\">te</span> <span style=\"display: inline-block;\">arbitraris</span> <span style=\"display: inline-block;\">,</span> <span style=\"display: inline-block;\">perdite</span> <span style=\"display: inline-block;\">pariter</span> <span style=\"display: inline-block;\">et</span> <span style=\"display: inline-block;\">perditor</span> <span style=\"display: inline-block;\">,</span> <span style=\"display: inline-block;\">qui</span> <span style=\"display: inline-block;\">vas</span> <span style=\"display: inline-block;\">rationabile</span> <span style=\"display: inline-block;\">consecratum</span> <span style=\"display: inline-block;\">Christo</span> <span style=\"display: inline-block;\">,</span> <span style=\"display: inline-block;\">sanctificatum</span> <span style=\"display: inline-block;\">Spiritui</span> <span style=\"display: inline-block;\">sancto</span> <span style=\"display: inline-block;\">,</span> <span style=\"display: inline-block;\">impie</span> <span style=\"display: inline-block;\">temerasti</span> <span style=\"display: inline-block;\">,</span> <span style=\"display: inline-block;\">polluisti</span> <span style=\"display: inline-block;\">sacrilege</span> <span style=\"display: inline-block;\">,</span> <span style=\"display: inline-block;\">et</span> <span style=\"display: inline-block;\">tui</span> <span style=\"display: inline-block;\">propositi</span> <span style=\"display: inline-block;\">immemor</span> <span style=\"display: inline-block;\">,</span> <span style=\"display: inline-block;\">et</span> <span style=\"display: inline-block;\">judicii</span> <span style=\"display: inline-block;\">divini</span> <span style=\"display: inline-block;\">contempior</span> <span style=\"display: inline-block;\">?</span></p>"
      ],
      "text/plain": [
       "<IPython.core.display.HTML object>"
      ]
     },
     "metadata": {},
     "output_type": "display_data"
    },
    {
     "data": {
      "text/html": [
       "<p><b style=\"text-decoration: line-through;;\">negative</b> -> <span style=\"display: inline-block;\">relicti</span> <span style=\"display: inline-block;\">nos</span> <span style=\"display: inline-block;\">sumus</span> <span style=\"display: inline-block;\">cum</span> <span style=\"display: inline-block;\">Sosia</span> <span style=\"display: inline-block;\">.</span></p>"
      ],
      "text/plain": [
       "<IPython.core.display.HTML object>"
      ]
     },
     "metadata": {},
     "output_type": "display_data"
    },
    {
     "data": {
      "text/html": [
       "<p><b style=\"text-decoration: line-through;;\">positive</b> -> <span style=\"display: inline-block;\">auxit</span> <span style=\"display: inline-block;\">invidiam</span> <span style=\"display: inline-block;\">praeclaro</span> <span style=\"display: inline-block;\">exemplo</span> <span style=\"display: inline-block;\">femina</span> <span style=\"display: inline-block;\">Ligus</span> <span style=\"display: inline-block;\">,</span> <span style=\"display: inline-block;\">quae</span> <span style=\"display: inline-block;\">filio</span> <span style=\"display: inline-block;\">abdito</span> <span style=\"display: inline-block;\">,</span> <span style=\"display: inline-block;\">cum</span> <span style=\"display: inline-block;\">simul</span> <span style=\"display: inline-block;\">pecuniam</span> <span style=\"display: inline-block;\">occultari</span> <span style=\"display: inline-block;\">milites</span> <span style=\"display: inline-block;\">credidissent</span> <span style=\"display: inline-block;\">eoque</span> <span style=\"display: inline-block;\">-que</span> <span style=\"display: inline-block;\">per</span> <span style=\"display: inline-block;\">cruciatus</span> <span style=\"display: inline-block;\">interrogarent</span> <span style=\"display: inline-block;\">ubi</span> <span style=\"display: inline-block;\">filium</span> <span style=\"display: inline-block;\">occuleret</span> <span style=\"display: inline-block;\">,</span> <span style=\"display: inline-block;\">uterum</span> <span style=\"display: inline-block;\">ostendens</span> <span style=\"display: inline-block;\">latere</span> <span style=\"display: inline-block;\">respondit</span> <span style=\"display: inline-block;\">,</span> <span style=\"display: inline-block;\">nec</span> <span style=\"display: inline-block;\">ullis</span> <span style=\"display: inline-block;\">deinde</span> <span style=\"display: inline-block;\">terroribus</span> <span style=\"display: inline-block;\">aut</span> <span style=\"display: inline-block;\">morte</span> <span style=\"display: inline-block;\">constantiam</span> <span style=\"display: inline-block;\">vocis</span> <span style=\"display: inline-block;\">egregiae</span> <span style=\"display: inline-block;\">mutavit</span> <span style=\"display: inline-block;\">.</span></p>"
      ],
      "text/plain": [
       "<IPython.core.display.HTML object>"
      ]
     },
     "metadata": {},
     "output_type": "display_data"
    },
    {
     "data": {
      "text/html": [
       "<p><b style=\"text-decoration: line-through;;\">positive</b> -> <span style=\"display: inline-block;\">Num</span> <span style=\"display: inline-block;\">mea</span> <span style=\"display: inline-block;\">Thessalico</span> <span style=\"display: inline-block;\">languent</span> <span style=\"display: inline-block;\">devota</span> <span style=\"display: inline-block;\">veneno</span> <span style=\"display: inline-block;\">Corpora</span> <span style=\"display: inline-block;\">?</span></p>"
      ],
      "text/plain": [
       "<IPython.core.display.HTML object>"
      ]
     },
     "metadata": {},
     "output_type": "display_data"
    },
    {
     "data": {
      "text/html": [
       "<p><b style=\"text-decoration: line-through;;\">negative</b> -> <span style=\"display: inline-block;\">Cicero</span> <span style=\"display: inline-block;\">in</span> <span style=\"display: inline-block;\">Catone</span> <span style=\"display: inline-block;\">maiore</span> <span style=\"display: inline-block;\">stupra</span> <span style=\"display: inline-block;\">uero</span> <span style=\"display: inline-block;\">inquit</span> <span style=\"display: inline-block;\">et</span> <span style=\"display: inline-block;\">adulteria</span> <span style=\"display: inline-block;\">et</span> <span style=\"display: inline-block;\">omne</span> <span style=\"display: inline-block;\">flagitium</span> <span style=\"display: inline-block;\">nullis</span> <span style=\"display: inline-block;\">excitari</span> <span style=\"display: inline-block;\">aliis</span> <span style=\"display: inline-block;\">inlecebris</span> <span style=\"display: inline-block;\">nisi</span> <span style=\"display: inline-block;\">uoluptatis</span> <span style=\"display: inline-block;\">.</span></p>"
      ],
      "text/plain": [
       "<IPython.core.display.HTML object>"
      ]
     },
     "metadata": {},
     "output_type": "display_data"
    },
    {
     "data": {
      "text/html": [
       "<p><b style=\"text-decoration: line-through;;\">negative</b> -> <span style=\"display: inline-block;\">Id</span> <span style=\"display: inline-block;\">si</span> <span style=\"display: inline-block;\">dubitas</span> <span style=\"display: inline-block;\">,</span> <span style=\"display: inline-block;\">evolve</span> <span style=\"display: inline-block;\">quae</span> <span style=\"display: inline-block;\">spiritus</span> <span style=\"display: inline-block;\">ecclesiis</span> <span style=\"display: inline-block;\">dicat</span> <span style=\"display: inline-block;\">.</span></p>"
      ],
      "text/plain": [
       "<IPython.core.display.HTML object>"
      ]
     },
     "metadata": {},
     "output_type": "display_data"
    },
    {
     "data": {
      "text/html": [
       "<p><b style=\"text-decoration: line-through;;\">negative</b> -> <span style=\"display: inline-block;\">stridens</span> <span style=\"display: inline-block;\">labor</span> <span style=\"display: inline-block;\">horret</span> <span style=\"display: inline-block;\">ab</span> <span style=\"display: inline-block;\">alto</span> <span style=\"display: inline-block;\">.</span></p>"
      ],
      "text/plain": [
       "<IPython.core.display.HTML object>"
      ]
     },
     "metadata": {},
     "output_type": "display_data"
    },
    {
     "data": {
      "text/html": [
       "<p><b style=\"text-decoration: line-through;;\">negative</b> -> <span style=\"display: inline-block;\">ex</span> <span style=\"display: inline-block;\">asperitate</span> <span style=\"display: inline-block;\">faucium</span> <span style=\"display: inline-block;\">,</span> <span style=\"display: inline-block;\">obtunsione</span> <span style=\"display: inline-block;\">vocis</span> <span style=\"display: inline-block;\">et</span> <span style=\"display: inline-block;\">rauco</span> <span style=\"display: inline-block;\">sonitu</span> <span style=\"display: inline-block;\">,</span> <span style=\"display: inline-block;\">inflatione</span> <span style=\"display: inline-block;\">etiam</span> <span style=\"display: inline-block;\">papillarum</span> <span style=\"display: inline-block;\">et</span> <span style=\"display: inline-block;\">genitalium</span> <span style=\"display: inline-block;\">,</span> <span style=\"display: inline-block;\">et</span> <span style=\"display: inline-block;\">cum</span> <span style=\"display: inline-block;\">repente</span> <span style=\"display: inline-block;\">maceratum</span> <span style=\"display: inline-block;\">corpus</span> <span style=\"display: inline-block;\">in</span> <span style=\"display: inline-block;\">longitudinem</span> <span style=\"display: inline-block;\">viderimus</span> <span style=\"display: inline-block;\">porrectum</span> <span style=\"display: inline-block;\">.</span></p>"
      ],
      "text/plain": [
       "<IPython.core.display.HTML object>"
      ]
     },
     "metadata": {},
     "output_type": "display_data"
    },
    {
     "data": {
      "text/html": [
       "<p><b style=\"text-decoration: line-through;;\">negative</b> -> <span style=\"display: inline-block;\">nec</span> <span style=\"display: inline-block;\">de</span> <span style=\"display: inline-block;\">his</span> <span style=\"display: inline-block;\">ago</span> <span style=\"display: inline-block;\">in</span> <span style=\"display: inline-block;\">quibus</span> <span style=\"display: inline-block;\">est</span> <span style=\"display: inline-block;\">quidam</span> <span style=\"display: inline-block;\">placendi</span> <span style=\"display: inline-block;\">adpetitus</span> <span style=\"display: inline-block;\">aut</span> <span style=\"display: inline-block;\">elegantiore</span> <span style=\"display: inline-block;\">uestitu</span> <span style=\"display: inline-block;\">,</span> <span style=\"display: inline-block;\">quam</span> <span style=\"display: inline-block;\">tantae</span> <span style=\"display: inline-block;\">professionis</span> <span style=\"display: inline-block;\">necessitas</span> <span style=\"display: inline-block;\">postulat</span> <span style=\"display: inline-block;\">,</span> <span style=\"display: inline-block;\">aut</span> <span style=\"display: inline-block;\">capitis</span> <span style=\"display: inline-block;\">ligamento</span> <span style=\"display: inline-block;\">notabili</span> <span style=\"display: inline-block;\">siue</span> <span style=\"display: inline-block;\">protumidis</span> <span style=\"display: inline-block;\">umbonibus</span> <span style=\"display: inline-block;\">capillorum</span> <span style=\"display: inline-block;\">siue</span> <span style=\"display: inline-block;\">tegminibus</span> <span style=\"display: inline-block;\">ita</span> <span style=\"display: inline-block;\">teneris</span> <span style=\"display: inline-block;\">,</span> <span style=\"display: inline-block;\">ut</span> <span style=\"display: inline-block;\">retiola</span> <span style=\"display: inline-block;\">subter</span> <span style=\"display: inline-block;\">posita</span> <span style=\"display: inline-block;\">adpareant</span> <span style=\"display: inline-block;\">:</span> <span style=\"display: inline-block;\">his</span> <span style=\"display: inline-block;\">nondum</span> <span style=\"display: inline-block;\">de</span> <span style=\"display: inline-block;\">humilitate</span> <span style=\"display: inline-block;\">,</span> <span style=\"display: inline-block;\">sed</span> <span style=\"display: inline-block;\">de</span> <span style=\"display: inline-block;\">ipsa</span> <span style=\"display: inline-block;\">castitate</span> <span style=\"display: inline-block;\">uel</span> <span style=\"display: inline-block;\">integritate</span> <span style=\"display: inline-block;\">pudicitiae</span> <span style=\"display: inline-block;\">danda</span> <span style=\"display: inline-block;\">praecepta</span> <span style=\"display: inline-block;\">sunt</span> <span style=\"display: inline-block;\">.</span></p>"
      ],
      "text/plain": [
       "<IPython.core.display.HTML object>"
      ]
     },
     "metadata": {},
     "output_type": "display_data"
    },
    {
     "data": {
      "text/html": [
       "<p><b style=\"text-decoration: line-through;;\">positive</b> -> <span style=\"display: inline-block;\">Fessus</span> <span style=\"display: inline-block;\">mille</span> <span style=\"display: inline-block;\">modis</span> <span style=\"display: inline-block;\">illud</span> <span style=\"display: inline-block;\">puerile</span> <span style=\"display: inline-block;\">poposci</span></p>"
      ],
      "text/plain": [
       "<IPython.core.display.HTML object>"
      ]
     },
     "metadata": {},
     "output_type": "display_data"
    },
    {
     "data": {
      "text/html": [
       "<p><b style=\"text-decoration: line-through;;\">negative</b> -> <span style=\"display: inline-block;\">temporis</span> <span style=\"display: inline-block;\">ecce</span> <span style=\"display: inline-block;\">leuis</span> <span style=\"display: inline-block;\">conscendere</span> <span style=\"display: inline-block;\">cogeris</span> <span style=\"display: inline-block;\">ignes</span> <span style=\"display: inline-block;\">!</span></p>"
      ],
      "text/plain": [
       "<IPython.core.display.HTML object>"
      ]
     },
     "metadata": {},
     "output_type": "display_data"
    },
    {
     "data": {
      "text/html": [
       "<p><b style=\"text-decoration: line-through;;\">negative</b> -> <span style=\"display: inline-block;\">Maioribus</span> <span style=\"display: inline-block;\">nostri</span> <span style=\"display: inline-block;\">in</span> <span style=\"display: inline-block;\">Alexandria</span> <span style=\"display: inline-block;\">medicinam</span> <span style=\"display: inline-block;\">agentibus</span> <span style=\"display: inline-block;\">,</span> <span style=\"display: inline-block;\">Rufo</span> <span style=\"display: inline-block;\">scilicet</span> <span style=\"display: inline-block;\">et</span> <span style=\"display: inline-block;\">Philippo</span> <span style=\"display: inline-block;\">,</span> <span style=\"display: inline-block;\">Lico</span> <span style=\"display: inline-block;\">,</span> <span style=\"display: inline-block;\">Erasistrato</span> <span style=\"display: inline-block;\">,</span> <span style=\"display: inline-block;\">Pelope</span> <span style=\"display: inline-block;\">et</span> <span style=\"display: inline-block;\">Erofilo</span> <span style=\"display: inline-block;\">,</span> <span style=\"display: inline-block;\">Ypocrate</span> <span style=\"display: inline-block;\">et</span> <span style=\"display: inline-block;\">Apollinio</span> <span style=\"display: inline-block;\">placuit</span> <span style=\"display: inline-block;\">,</span> <span style=\"display: inline-block;\">mortuorum</span> <span style=\"display: inline-block;\">scrutari</span> <span style=\"display: inline-block;\">,</span> <span style=\"display: inline-block;\">ut</span> <span style=\"display: inline-block;\">scirent</span> <span style=\"display: inline-block;\">,</span> <span style=\"display: inline-block;\">unde</span> <span style=\"display: inline-block;\">et</span> <span style=\"display: inline-block;\">quomodo</span> <span style=\"display: inline-block;\">morirentur</span> <span style=\"display: inline-block;\">,</span> <span style=\"display: inline-block;\">quod</span> <span style=\"display: inline-block;\">ipsa</span> <span style=\"display: inline-block;\">humanitas</span> <span style=\"display: inline-block;\">prohibet</span> <span style=\"display: inline-block;\">facere</span> <span style=\"display: inline-block;\">,</span> <span style=\"display: inline-block;\">eo</span> <span style=\"display: inline-block;\">quod</span> <span style=\"display: inline-block;\">ipsis</span> <span style=\"display: inline-block;\">scrutantibus</span> <span style=\"display: inline-block;\">omnia</span> <span style=\"display: inline-block;\">manifesta</span> <span style=\"display: inline-block;\">atque</span> <span style=\"display: inline-block;\">adaperta</span> <span style=\"display: inline-block;\">essent</span> <span style=\"display: inline-block;\">.</span></p>"
      ],
      "text/plain": [
       "<IPython.core.display.HTML object>"
      ]
     },
     "metadata": {},
     "output_type": "display_data"
    },
    {
     "data": {
      "text/html": [
       "<p><b style=\"text-decoration: line-through;;\">negative</b> -> <span style=\"display: inline-block;\">id</span> <span style=\"display: inline-block;\">quantae</span> <span style=\"display: inline-block;\">saluti</span> <span style=\"display: inline-block;\">fuerit</span> <span style=\"display: inline-block;\">universae</span> <span style=\"display: inline-block;\">Graeciae</span> <span style=\"display: inline-block;\">,</span> <span style=\"display: inline-block;\">bello</span> <span style=\"display: inline-block;\">cognitum</span> <span style=\"display: inline-block;\">est</span> <span style=\"display: inline-block;\">Persico</span> <span style=\"display: inline-block;\">.</span></p>"
      ],
      "text/plain": [
       "<IPython.core.display.HTML object>"
      ]
     },
     "metadata": {},
     "output_type": "display_data"
    },
    {
     "data": {
      "text/html": [
       "<p><b style=\"text-decoration: line-through;;\">negative</b> -> <span style=\"display: inline-block;\">totus</span> <span style=\"display: inline-block;\">et</span> <span style=\"display: inline-block;\">(</span> <span style=\"display: inline-block;\">ex</span> <span style=\"display: inline-block;\">)</span></p>"
      ],
      "text/plain": [
       "<IPython.core.display.HTML object>"
      ]
     },
     "metadata": {},
     "output_type": "display_data"
    },
    {
     "data": {
      "text/html": [
       "<p><b style=\"text-decoration: line-through;;\">negative</b> -> <span style=\"display: inline-block;\">Integra</span> <span style=\"display: inline-block;\">nati</span> <span style=\"display: inline-block;\">aut</span> <span style=\"display: inline-block;\">semper</span> <span style=\"display: inline-block;\">in</span> <span style=\"display: inline-block;\">ea</span> <span style=\"display: inline-block;\">mouentur</span> <span style=\"display: inline-block;\">quos</span> <span style=\"display: inline-block;\">ab</span> <span style=\"display: inline-block;\">innatando</span> <span style=\"display: inline-block;\">πλωτοῦσ</span> <span style=\"display: inline-block;\">Graeci</span> <span style=\"display: inline-block;\">uocant</span> <span style=\"display: inline-block;\">,</span> <span style=\"display: inline-block;\">aut</span> <span style=\"display: inline-block;\">in</span> <span style=\"display: inline-block;\">ipsa</span> <span style=\"display: inline-block;\">uesicae</span> <span style=\"display: inline-block;\">ceruice</span> <span style=\"display: inline-block;\">orti</span> <span style=\"display: inline-block;\">ubi</span> <span style=\"display: inline-block;\">primo</span> <span style=\"display: inline-block;\">,</span> <span style=\"display: inline-block;\">conquiescunt</span> <span style=\"display: inline-block;\">.</span></p>"
      ],
      "text/plain": [
       "<IPython.core.display.HTML object>"
      ]
     },
     "metadata": {},
     "output_type": "display_data"
    },
    {
     "data": {
      "text/html": [
       "<p><b style=\"text-decoration: line-through;;\">negative</b> -> <span style=\"display: inline-block;\">ne</span> <span style=\"display: inline-block;\">discipulum</span> <span style=\"display: inline-block;\">abducam</span> <span style=\"display: inline-block;\">,</span> <span style=\"display: inline-block;\">times</span> <span style=\"display: inline-block;\">.</span></p>"
      ],
      "text/plain": [
       "<IPython.core.display.HTML object>"
      ]
     },
     "metadata": {},
     "output_type": "display_data"
    },
    {
     "data": {
      "text/html": [
       "<p><b style=\"text-decoration: line-through;;\">negative</b> -> <span style=\"display: inline-block;\">sed</span> <span style=\"display: inline-block;\">quid</span> <span style=\"display: inline-block;\">me</span> <span style=\"display: inline-block;\">ipse</span> <span style=\"display: inline-block;\">ineptus</span> <span style=\"display: inline-block;\">crucio</span> <span style=\"display: inline-block;\">?</span></p>"
      ],
      "text/plain": [
       "<IPython.core.display.HTML object>"
      ]
     },
     "metadata": {},
     "output_type": "display_data"
    },
    {
     "data": {
      "text/html": [
       "<p><b style=\"text-decoration: line-through;;\">negative</b> -> <span style=\"display: inline-block;\">non</span> <span style=\"display: inline-block;\">parturiui</span> <span style=\"display: inline-block;\">inquit</span> <span style=\"display: inline-block;\">nec</span> <span style=\"display: inline-block;\">peperi</span> <span style=\"display: inline-block;\">nec</span> <span style=\"display: inline-block;\">enutriui</span> <span style=\"display: inline-block;\">iuuenes</span> <span style=\"display: inline-block;\">.</span></p>"
      ],
      "text/plain": [
       "<IPython.core.display.HTML object>"
      ]
     },
     "metadata": {},
     "output_type": "display_data"
    },
    {
     "data": {
      "text/html": [
       "<p><b style=\"text-decoration: line-through;;\">positive</b> -> <span style=\"display: inline-block;\">necesse</span> <span style=\"display: inline-block;\">est</span> <span style=\"display: inline-block;\">enim</span> <span style=\"display: inline-block;\">,</span> <span style=\"display: inline-block;\">quando</span> <span style=\"display: inline-block;\">passio</span> <span style=\"display: inline-block;\">asperatur</span> <span style=\"display: inline-block;\">,</span> <span style=\"display: inline-block;\">tunc</span> <span style=\"display: inline-block;\">etiam</span> <span style=\"display: inline-block;\">febres</span> <span style=\"display: inline-block;\">extendi</span> <span style=\"display: inline-block;\">,</span> <span style=\"display: inline-block;\">et</span> <span style=\"display: inline-block;\">cum</span> <span style=\"display: inline-block;\">rursum</span> <span style=\"display: inline-block;\">fuerit</span> <span style=\"display: inline-block;\">remissa</span> <span style=\"display: inline-block;\">,</span> <span style=\"display: inline-block;\">febres</span> <span style=\"display: inline-block;\">quoque</span> <span style=\"display: inline-block;\">leuigari</span> <span style=\"display: inline-block;\">.</span> <span style=\"display: inline-block;\">at</span> <span style=\"display: inline-block;\">si</span> <span style=\"display: inline-block;\">febres</span> <span style=\"display: inline-block;\">non</span> <span style=\"display: inline-block;\">fuerint</span> <span style=\"display: inline-block;\">,</span> <span style=\"display: inline-block;\">ex</span> <span style=\"display: inline-block;\">ceteris</span> <span style=\"display: inline-block;\">accidentibus</span> <span style=\"display: inline-block;\">,</span> <span style=\"display: inline-block;\">quae</span> <span style=\"display: inline-block;\">Graeci</span> <span style=\"display: inline-block;\">symptomata</span> <span style=\"display: inline-block;\">uocant</span> <span style=\"display: inline-block;\">,</span> <span style=\"display: inline-block;\">cum</span> <span style=\"display: inline-block;\">ea</span> <span style=\"display: inline-block;\">indulgentiora</span> <span style=\"display: inline-block;\">uiderimus</span> <span style=\"display: inline-block;\">,</span> <span style=\"display: inline-block;\">ut</span> <span style=\"display: inline-block;\">ruborem</span> <span style=\"display: inline-block;\">,</span> <span style=\"display: inline-block;\">feruorem</span> <span style=\"display: inline-block;\">,</span> <span style=\"display: inline-block;\">pruritum</span> <span style=\"display: inline-block;\">uel</span> <span style=\"display: inline-block;\">in</span> <span style=\"display: inline-block;\">usum</span> <span style=\"display: inline-block;\">uenerium</span> <span style=\"display: inline-block;\">cupiditatem</span> <span style=\"display: inline-block;\">aut</span> <span style=\"display: inline-block;\">genitalium</span> <span style=\"display: inline-block;\">tentiginem</span> <span style=\"display: inline-block;\">uel</span> <span style=\"display: inline-block;\">his</span> <span style=\"display: inline-block;\">similia</span> <span style=\"display: inline-block;\">.</span> <span style=\"display: inline-block;\">post</span> <span style=\"display: inline-block;\">phlebotomiam</span> <span style=\"display: inline-block;\">corpus</span> <span style=\"display: inline-block;\">perungemus</span> <span style=\"display: inline-block;\">atque</span> <span style=\"display: inline-block;\">ora</span> <span style=\"display: inline-block;\">lauantes</span> <span style=\"display: inline-block;\">cibum</span> <span style=\"display: inline-block;\">damus</span> <span style=\"display: inline-block;\">alicam</span> <span style=\"display: inline-block;\">ex</span> <span style=\"display: inline-block;\">melle</span> <span style=\"display: inline-block;\">uel</span> <span style=\"display: inline-block;\">panem</span> <span style=\"display: inline-block;\">lotum</span> <span style=\"display: inline-block;\">ex</span> <span style=\"display: inline-block;\">aqua</span> <span style=\"display: inline-block;\">et</span> <span style=\"display: inline-block;\">oua</span> <span style=\"display: inline-block;\">sorbilia</span> <span style=\"display: inline-block;\">.</span></p>"
      ],
      "text/plain": [
       "<IPython.core.display.HTML object>"
      ]
     },
     "metadata": {},
     "output_type": "display_data"
    },
    {
     "data": {
      "text/html": [
       "<p><b style=\"text-decoration: line-through;;\">positive</b> -> <span style=\"display: inline-block;\">Eccere</span> <span style=\"display: inline-block;\">,</span> <span style=\"display: inline-block;\">perii</span> <span style=\"display: inline-block;\">misera</span> <span style=\"display: inline-block;\">,</span> <span style=\"display: inline-block;\">quam</span> <span style=\"display: inline-block;\">tu</span> <span style=\"display: inline-block;\">mihi</span> <span style=\"display: inline-block;\">nunc</span> <span style=\"display: inline-block;\">navem</span> <span style=\"display: inline-block;\">narras</span> <span style=\"display: inline-block;\">?</span></p>"
      ],
      "text/plain": [
       "<IPython.core.display.HTML object>"
      ]
     },
     "metadata": {},
     "output_type": "display_data"
    },
    {
     "data": {
      "text/html": [
       "<p><b style=\"text-decoration: line-through;;\">negative</b> -> <span style=\"display: inline-block;\">locutus</span> <span style=\"display: inline-block;\">est</span> <span style=\"display: inline-block;\">Dominus</span> <span style=\"display: inline-block;\">ad</span> <span style=\"display: inline-block;\">Mosen</span> <span style=\"display: inline-block;\">dicens</span></p>"
      ],
      "text/plain": [
       "<IPython.core.display.HTML object>"
      ]
     },
     "metadata": {},
     "output_type": "display_data"
    },
    {
     "data": {
      "text/html": [
       "<p><b style=\"text-decoration: line-through;;\">positive</b> -> <span style=\"display: inline-block;\">Corrumpit</span> <span style=\"display: inline-block;\">sine</span> <span style=\"display: inline-block;\">talione</span> <span style=\"display: inline-block;\">caelebs</span> <span style=\"display: inline-block;\">,</span> <span style=\"display: inline-block;\">Caecus</span> <span style=\"display: inline-block;\">perdere</span> <span style=\"display: inline-block;\">non</span> <span style=\"display: inline-block;\">potest</span> <span style=\"display: inline-block;\">quod</span> <span style=\"display: inline-block;\">aufert</span></p>"
      ],
      "text/plain": [
       "<IPython.core.display.HTML object>"
      ]
     },
     "metadata": {},
     "output_type": "display_data"
    },
    {
     "data": {
      "text/html": [
       "<p><b style=\"text-decoration: line-through;;\">positive</b> -> <span style=\"display: inline-block;\">Propriam</span> <span style=\"display: inline-block;\">etiamnum</span> <span style=\"display: inline-block;\">animadversionem</span> <span style=\"display: inline-block;\">desiderant</span> <span style=\"display: inline-block;\">eae</span> <span style=\"display: inline-block;\">,</span> <span style=\"display: inline-block;\">quae</span> <span style=\"display: inline-block;\">in</span> <span style=\"display: inline-block;\">ano</span> <span style=\"display: inline-block;\">sunt</span> <span style=\"display: inline-block;\">.</span></p>"
      ],
      "text/plain": [
       "<IPython.core.display.HTML object>"
      ]
     },
     "metadata": {},
     "output_type": "display_data"
    },
    {
     "data": {
      "text/html": [
       "<p><b style=\"text-decoration: line-through;;\">positive</b> -> <span style=\"display: inline-block;\">confinia</span> <span style=\"display: inline-block;\">palpabat</span> <span style=\"display: inline-block;\">res</span> <span style=\"display: inline-block;\">intimas</span></p>"
      ],
      "text/plain": [
       "<IPython.core.display.HTML object>"
      ]
     },
     "metadata": {},
     "output_type": "display_data"
    },
    {
     "data": {
      "text/html": [
       "<p><b style=\"text-decoration: line-through;;\">negative</b> -> <span style=\"display: inline-block;\">Nam</span> <span style=\"display: inline-block;\">scorpiones</span> <span style=\"display: inline-block;\">scinci</span> <span style=\"display: inline-block;\">lacertaeque</span> <span style=\"display: inline-block;\">-que</span> <span style=\"display: inline-block;\">vermibus</span> <span style=\"display: inline-block;\">,</span> <span style=\"display: inline-block;\">non</span> <span style=\"display: inline-block;\">serpentibus</span> <span style=\"display: inline-block;\">adscribuntur</span> <span style=\"display: inline-block;\">.</span></p>"
      ],
      "text/plain": [
       "<IPython.core.display.HTML object>"
      ]
     },
     "metadata": {},
     "output_type": "display_data"
    },
    {
     "data": {
      "text/html": [
       "<p><b style=\"text-decoration: line-through;;\">positive</b> -> <span style=\"display: inline-block;\">qui</span> <span style=\"display: inline-block;\">tantam</span> <span style=\"display: inline-block;\">priores</span> <span style=\"display: inline-block;\">iniuriam</span> <span style=\"display: inline-block;\">fecerunt</span> <span style=\"display: inline-block;\">in</span> <span style=\"display: inline-block;\">eius</span> <span style=\"display: inline-block;\">filia</span> <span style=\"display: inline-block;\">contaminanda</span> <span style=\"display: inline-block;\">?</span></p>"
      ],
      "text/plain": [
       "<IPython.core.display.HTML object>"
      ]
     },
     "metadata": {},
     "output_type": "display_data"
    },
    {
     "data": {
      "text/html": [
       "<p><b style=\"text-decoration: line-through;;\">positive</b> -> <span style=\"display: inline-block;\">tunc</span> <span style=\"display: inline-block;\">ad</span> <span style=\"display: inline-block;\">fluorem</span> <span style=\"display: inline-block;\">lapsum</span> <span style=\"display: inline-block;\">excipiendum</span> <span style=\"display: inline-block;\">spongia</span> <span style=\"display: inline-block;\">mollis</span> <span style=\"display: inline-block;\">sive</span> <span style=\"display: inline-block;\">lana</span> <span style=\"display: inline-block;\">vel</span> <span style=\"display: inline-block;\">latus</span> <span style=\"display: inline-block;\">pannus</span> <span style=\"display: inline-block;\">fibris</span> <span style=\"display: inline-block;\">imponantur</span> <span style=\"display: inline-block;\">,</span> <span style=\"display: inline-block;\">et</span> <span style=\"display: inline-block;\">frequentius</span> <span style=\"display: inline-block;\">commutentur</span> <span style=\"display: inline-block;\">.</span></p>"
      ],
      "text/plain": [
       "<IPython.core.display.HTML object>"
      ]
     },
     "metadata": {},
     "output_type": "display_data"
    },
    {
     "data": {
      "text/html": [
       "<p><b style=\"text-decoration: line-through;;\">negative</b> -> <span style=\"display: inline-block;\">et</span> <span style=\"display: inline-block;\">Cicero</span> <span style=\"display: inline-block;\">:</span> <span style=\"display: inline-block;\">\"</span> <span style=\"display: inline-block;\">relegationis</span> <span style=\"display: inline-block;\">ac</span> <span style=\"display: inline-block;\">supplicii</span> <span style=\"display: inline-block;\">gratia</span> <span style=\"display: inline-block;\">colenda</span> <span style=\"display: inline-block;\">et</span> <span style=\"display: inline-block;\">fruenda</span> <span style=\"display: inline-block;\">tradiderat</span> <span style=\"display: inline-block;\">\"</span> <span style=\"display: inline-block;\">;</span></p>"
      ],
      "text/plain": [
       "<IPython.core.display.HTML object>"
      ]
     },
     "metadata": {},
     "output_type": "display_data"
    },
    {
     "data": {
      "text/html": [
       "<p><b style=\"text-decoration: line-through;;\">positive</b> -> <span style=\"display: inline-block;\">intactum</span> <span style=\"display: inline-block;\">ab</span> <span style=\"display: inline-block;\">omni</span> <span style=\"display: inline-block;\">crimine</span> <span style=\"display: inline-block;\">virginal</span> <span style=\"display: inline-block;\">,</span> <span style=\"display: inline-block;\">mortis</span> <span style=\"display: inline-block;\">deinde</span> <span style=\"display: inline-block;\">gloria</span> <span style=\"display: inline-block;\">liberae</span> <span style=\"display: inline-block;\">.</span></p>"
      ],
      "text/plain": [
       "<IPython.core.display.HTML object>"
      ]
     },
     "metadata": {},
     "output_type": "display_data"
    },
    {
     "data": {
      "text/html": [
       "<p><b style=\"text-decoration: line-through;;\">negative</b> -> <span style=\"display: inline-block;\">Mulier</span> <span style=\"display: inline-block;\">,</span> <span style=\"display: inline-block;\">istam</span> <span style=\"display: inline-block;\">rem</span> <span style=\"display: inline-block;\">inquisitam</span> <span style=\"display: inline-block;\">certum</span> <span style=\"display: inline-block;\">est</span> <span style=\"display: inline-block;\">non</span> <span style=\"display: inline-block;\">amittere</span> <span style=\"display: inline-block;\">.</span></p>"
      ],
      "text/plain": [
       "<IPython.core.display.HTML object>"
      ]
     },
     "metadata": {},
     "output_type": "display_data"
    },
    {
     "data": {
      "text/html": [
       "<p><b style=\"text-decoration: line-through;;\">negative</b> -> <span style=\"display: inline-block;\">Fuit</span> <span style=\"display: inline-block;\">hic</span> <span style=\"display: inline-block;\">genere</span> <span style=\"display: inline-block;\">Atheniensis</span> <span style=\"display: inline-block;\">poeta</span> <span style=\"display: inline-block;\">,</span> <span style=\"display: inline-block;\">omni</span> <span style=\"display: inline-block;\">parte</span> <span style=\"display: inline-block;\">membrorum</span> <span style=\"display: inline-block;\">deformis</span> <span style=\"display: inline-block;\">.</span></p>"
      ],
      "text/plain": [
       "<IPython.core.display.HTML object>"
      ]
     },
     "metadata": {},
     "output_type": "display_data"
    },
    {
     "data": {
      "text/html": [
       "<p><b style=\"text-decoration: line-through;;\">negative</b> -> <span style=\"display: inline-block;\">in</span> <span style=\"display: inline-block;\">dando</span> <span style=\"display: inline-block;\">autem</span> <span style=\"display: inline-block;\">et</span> <span style=\"display: inline-block;\">credendo</span> <span style=\"display: inline-block;\">processit</span> <span style=\"display: inline-block;\">longius</span> <span style=\"display: inline-block;\">nec</span> <span style=\"display: inline-block;\">suam</span> <span style=\"display: inline-block;\">solum</span> <span style=\"display: inline-block;\">pecuniam</span> <span style=\"display: inline-block;\">credidit</span> <span style=\"display: inline-block;\">sed</span> <span style=\"display: inline-block;\">etiam</span> <span style=\"display: inline-block;\">amicorum</span> <span style=\"display: inline-block;\">,</span> <span style=\"display: inline-block;\">stulte</span> <span style=\"display: inline-block;\">;</span></p>"
      ],
      "text/plain": [
       "<IPython.core.display.HTML object>"
      ]
     },
     "metadata": {},
     "output_type": "display_data"
    },
    {
     "data": {
      "text/html": [
       "<p><b style=\"text-decoration: line-through;;\">negative</b> -> <span style=\"display: inline-block;\">Uerumtamen</span> <span style=\"display: inline-block;\">si</span> <span style=\"display: inline-block;\">ita</span> <span style=\"display: inline-block;\">est</span> <span style=\"display: inline-block;\">,</span> <span style=\"display: inline-block;\">adparet</span> <span style=\"display: inline-block;\">terram</span> <span style=\"display: inline-block;\">tenebrarum</span> <span style=\"display: inline-block;\">a</span> <span style=\"display: inline-block;\">terra</span> <span style=\"display: inline-block;\">lucis</span> <span style=\"display: inline-block;\">duobus</span> <span style=\"display: inline-block;\">lateribus</span> <span style=\"display: inline-block;\">tangi</span> <span style=\"display: inline-block;\">;</span></p>"
      ],
      "text/plain": [
       "<IPython.core.display.HTML object>"
      ]
     },
     "metadata": {},
     "output_type": "display_data"
    },
    {
     "data": {
      "text/html": [
       "<p><b style=\"text-decoration: line-through;;\">positive</b> -> <span style=\"display: inline-block;\">tergum</span> <span style=\"display: inline-block;\">,</span> <span style=\"display: inline-block;\">colla</span> <span style=\"display: inline-block;\">,</span> <span style=\"display: inline-block;\">umeros</span> <span style=\"display: inline-block;\">,</span> <span style=\"display: inline-block;\">luteae</span> <span style=\"display: inline-block;\">Symplegadis</span> <span style=\"display: inline-block;\">antrum</span> <span style=\"display: inline-block;\">.</span></p>"
      ],
      "text/plain": [
       "<IPython.core.display.HTML object>"
      ]
     },
     "metadata": {},
     "output_type": "display_data"
    },
    {
     "data": {
      "text/html": [
       "<p><b style=\"text-decoration: line-through;;\">negative</b> -> <span style=\"display: inline-block;\">Nunc</span> <span style=\"display: inline-block;\">igitur</span> <span style=\"display: inline-block;\">qui</span> <span style=\"display: inline-block;\">rex</span> <span style=\"display: inline-block;\">Romanos</span> <span style=\"display: inline-block;\">imperat</span> <span style=\"display: inline-block;\">inter</span> <span style=\"display: inline-block;\">,</span> <span style=\"display: inline-block;\">Non</span> <span style=\"display: inline-block;\">trabe</span> <span style=\"display: inline-block;\">sed</span> <span style=\"display: inline-block;\">tergo</span> <span style=\"display: inline-block;\">prolapsus</span> <span style=\"display: inline-block;\">et</span> <span style=\"display: inline-block;\">ingluuie</span> <span style=\"display: inline-block;\">albus</span> <span style=\"display: inline-block;\">,</span> <span style=\"display: inline-block;\">Et</span> <span style=\"display: inline-block;\">studia</span> <span style=\"display: inline-block;\">et</span> <span style=\"display: inline-block;\">sapiens</span> <span style=\"display: inline-block;\">hominum</span> <span style=\"display: inline-block;\">nomenque</span> <span style=\"display: inline-block;\">-que</span> <span style=\"display: inline-block;\">genusque</span> <span style=\"display: inline-block;\">-que</span> <span style=\"display: inline-block;\">Omnia</span> <span style=\"display: inline-block;\">abire</span> <span style=\"display: inline-block;\">foras</span> <span style=\"display: inline-block;\">atque</span> <span style=\"display: inline-block;\">Vrbe</span> <span style=\"display: inline-block;\">excedere</span> <span style=\"display: inline-block;\">iussit</span> <span style=\"display: inline-block;\">.</span></p>"
      ],
      "text/plain": [
       "<IPython.core.display.HTML object>"
      ]
     },
     "metadata": {},
     "output_type": "display_data"
    },
    {
     "data": {
      "text/html": [
       "<p><b style=\"text-decoration: line-through;;\">negative</b> -> <span style=\"display: inline-block;\">:</span> <span style=\"display: inline-block;\">credentes</span> <span style=\"display: inline-block;\">quod</span> <span style=\"display: inline-block;\">rem</span> <span style=\"display: inline-block;\">studii</span> <span style=\"display: inline-block;\">possint</span> <span style=\"display: inline-block;\">deputare</span> <span style=\"display: inline-block;\">necessitati</span> <span style=\"display: inline-block;\">et</span> <span style=\"display: inline-block;\">,</span> <span style=\"display: inline-block;\">dam</span> <span style=\"display: inline-block;\">homo</span> <span style=\"display: inline-block;\">homini</span> <span style=\"display: inline-block;\">custos</span> <span style=\"display: inline-block;\">est</span> <span style=\"display: inline-block;\">,</span> <span style=\"display: inline-block;\">alio</span> <span style=\"display: inline-block;\">maledicendi</span> <span style=\"display: inline-block;\">ordine</span> <span style=\"display: inline-block;\">pudicitiam</span> <span style=\"display: inline-block;\">ualeant</span> <span style=\"display: inline-block;\">adplicare</span> <span style=\"display: inline-block;\">formidini</span> <span style=\"display: inline-block;\">,</span> <span style=\"display: inline-block;\">nos</span> <span style=\"display: inline-block;\">quidem</span> <span style=\"display: inline-block;\">uel</span> <span style=\"display: inline-block;\">ex</span> <span style=\"display: inline-block;\">una</span> <span style=\"display: inline-block;\">parte</span> <span style=\"display: inline-block;\">carpendi</span> <span style=\"display: inline-block;\">occasiones</span> <span style=\"display: inline-block;\">incidimus</span> <span style=\"display: inline-block;\">,</span> <span style=\"display: inline-block;\">nos</span> <span style=\"display: inline-block;\">supernae</span> <span style=\"display: inline-block;\">memores</span> <span style=\"display: inline-block;\">disciplinae</span> <span style=\"display: inline-block;\">qualemcumque</span> <span style=\"display: inline-block;\">sacerdotalem</span> <span style=\"display: inline-block;\">dexteram</span> <span style=\"display: inline-block;\">uolentibus</span> <span style=\"display: inline-block;\">perire</span> <span style=\"display: inline-block;\">porrigimus</span> <span style=\"display: inline-block;\">et</span> <span style=\"display: inline-block;\">a</span> <span style=\"display: inline-block;\">ruinae</span> <span style=\"display: inline-block;\">praecipitio</span> <span style=\"display: inline-block;\">diabolicis</span> <span style=\"display: inline-block;\">actos</span> <span style=\"display: inline-block;\">stimulis</span> <span style=\"display: inline-block;\">retardamus</span> <span style=\"display: inline-block;\">,</span> <span style=\"display: inline-block;\">ut</span> <span style=\"display: inline-block;\">discant</span> <span style=\"display: inline-block;\">loquaces</span> <span style=\"display: inline-block;\">uel</span> <span style=\"display: inline-block;\">post</span> <span style=\"display: inline-block;\">decreta</span> <span style=\"display: inline-block;\">praesentia</span> <span style=\"display: inline-block;\">religiosum</span> <span style=\"display: inline-block;\">amare</span> <span style=\"display: inline-block;\">silentium</span> <span style=\"display: inline-block;\">.</span></p>"
      ],
      "text/plain": [
       "<IPython.core.display.HTML object>"
      ]
     },
     "metadata": {},
     "output_type": "display_data"
    },
    {
     "data": {
      "text/html": [
       "<p><b style=\"text-decoration: line-through;;\">negative</b> -> <span style=\"display: inline-block;\">nam</span> <span style=\"display: inline-block;\">cum</span> <span style=\"display: inline-block;\">antea</span> <span style=\"display: inline-block;\">nondum</span> <span style=\"display: inline-block;\">huius</span> <span style=\"display: inline-block;\">auctoritatem</span> <span style=\"display: inline-block;\">loci</span> <span style=\"display: inline-block;\">attingere</span> <span style=\"display: inline-block;\">auderem</span> <span style=\"display: inline-block;\">statueremque</span> <span style=\"display: inline-block;\">-que</span> <span style=\"display: inline-block;\">nihil</span> <span style=\"display: inline-block;\">huc</span> <span style=\"display: inline-block;\">nisi</span> <span style=\"display: inline-block;\">perfectum</span> <span style=\"display: inline-block;\">ingenio</span> <span style=\"display: inline-block;\">,</span> <span style=\"display: inline-block;\">elaboratum</span> <span style=\"display: inline-block;\">industria</span> <span style=\"display: inline-block;\">adferri</span> <span style=\"display: inline-block;\">oportere</span> <span style=\"display: inline-block;\">,</span> <span style=\"display: inline-block;\">omne</span> <span style=\"display: inline-block;\">meum</span> <span style=\"display: inline-block;\">tempus</span> <span style=\"display: inline-block;\">amicorum</span> <span style=\"display: inline-block;\">temporibus</span> <span style=\"display: inline-block;\">transmittendum</span> <span style=\"display: inline-block;\">putavi</span> <span style=\"display: inline-block;\">.</span></p>"
      ],
      "text/plain": [
       "<IPython.core.display.HTML object>"
      ]
     },
     "metadata": {},
     "output_type": "display_data"
    },
    {
     "data": {
      "text/html": [
       "<p><b style=\"text-decoration: line-through;;\">negative</b> -> <span style=\"display: inline-block;\">Salue</span> <span style=\"display: inline-block;\">nunc</span> <span style=\"display: inline-block;\">,</span> <span style=\"display: inline-block;\">regum</span> <span style=\"display: inline-block;\">maxime</span> <span style=\"display: inline-block;\">,</span> <span style=\"display: inline-block;\">in</span> <span style=\"display: inline-block;\">cuius</span> <span style=\"display: inline-block;\">dominio</span> <span style=\"display: inline-block;\">saporem</span> <span style=\"display: inline-block;\">suum</span> <span style=\"display: inline-block;\">ingenuitatis</span> <span style=\"display: inline-block;\">uigor</span> <span style=\"display: inline-block;\">agnouit</span> <span style=\"display: inline-block;\">.</span></p>"
      ],
      "text/plain": [
       "<IPython.core.display.HTML object>"
      ]
     },
     "metadata": {},
     "output_type": "display_data"
    },
    {
     "data": {
      "text/html": [
       "<p><b style=\"text-decoration: line-through;;\">positive</b> -> <span style=\"display: inline-block;\">quapropter</span> <span style=\"display: inline-block;\">perspiciendum</span> <span style=\"display: inline-block;\">,</span> <span style=\"display: inline-block;\">utrum</span> <span style=\"display: inline-block;\">usque</span> <span style=\"display: inline-block;\">ad</span> <span style=\"display: inline-block;\">dimissionem</span> <span style=\"display: inline-block;\">accessionis</span> <span style=\"display: inline-block;\">fluor</span> <span style=\"display: inline-block;\">uentris</span> <span style=\"display: inline-block;\">perseueret</span> <span style=\"display: inline-block;\">uel</span> <span style=\"display: inline-block;\">eius</span> <span style=\"display: inline-block;\">meatio</span> <span style=\"display: inline-block;\">mordicationem</span> <span style=\"display: inline-block;\">quandam</span> <span style=\"display: inline-block;\">faciat</span> <span style=\"display: inline-block;\">podici</span> <span style=\"display: inline-block;\">uel</span> <span style=\"display: inline-block;\">intestinis</span> <span style=\"display: inline-block;\">.</span></p>"
      ],
      "text/plain": [
       "<IPython.core.display.HTML object>"
      ]
     },
     "metadata": {},
     "output_type": "display_data"
    },
    {
     "data": {
      "text/html": [
       "<p><b style=\"text-decoration: line-through;;\">negative</b> -> <span style=\"display: inline-block;\">Securae</span> <span style=\"display: inline-block;\">estote</span> <span style=\"display: inline-block;\">,</span> <span style=\"display: inline-block;\">benedictae</span> <span style=\"display: inline-block;\">:</span> <span style=\"display: inline-block;\">uxor</span> <span style=\"display: inline-block;\">nulla</span> <span style=\"display: inline-block;\">deformis</span> <span style=\"display: inline-block;\">est</span> <span style=\"display: inline-block;\">marito</span> <span style=\"display: inline-block;\">suo</span> <span style=\"display: inline-block;\">.</span></p>"
      ],
      "text/plain": [
       "<IPython.core.display.HTML object>"
      ]
     },
     "metadata": {},
     "output_type": "display_data"
    },
    {
     "data": {
      "text/html": [
       "<p><b style=\"text-decoration: line-through;;\">positive</b> -> <span style=\"display: inline-block;\">Lavacrum</span> <span style=\"display: inline-block;\">publicum</span> <span style=\"display: inline-block;\">in</span> <span style=\"display: inline-block;\">aedibus</span> <span style=\"display: inline-block;\">aulicis</span> <span style=\"display: inline-block;\">fecit</span> <span style=\"display: inline-block;\">,</span> <span style=\"display: inline-block;\">simul</span> <span style=\"display: inline-block;\">et</span> <span style=\"display: inline-block;\">Plautini</span> <span style=\"display: inline-block;\">populo</span> <span style=\"display: inline-block;\">exhibuit</span> <span style=\"display: inline-block;\">,</span> <span style=\"display: inline-block;\">ut</span> <span style=\"display: inline-block;\">ex</span> <span style=\"display: inline-block;\">eo</span> <span style=\"display: inline-block;\">condiciones</span> <span style=\"display: inline-block;\">bene</span> <span style=\"display: inline-block;\">vasatorum</span> <span style=\"display: inline-block;\">hominum</span> <span style=\"display: inline-block;\">colligeret</span> <span style=\"display: inline-block;\">.</span></p>"
      ],
      "text/plain": [
       "<IPython.core.display.HTML object>"
      ]
     },
     "metadata": {},
     "output_type": "display_data"
    },
    {
     "data": {
      "text/html": [
       "<p><b style=\"text-decoration: line-through;;\">negative</b> -> <span style=\"display: inline-block;\">alteram</span> <span style=\"display: inline-block;\">propiorem</span> <span style=\"display: inline-block;\">septentrioni</span> <span style=\"display: inline-block;\">antipodon</span> <span style=\"display: inline-block;\">,</span> <span style=\"display: inline-block;\">quoniam</span> <span style=\"display: inline-block;\">emisperiou</span> <span style=\"display: inline-block;\">aliud</span> <span style=\"display: inline-block;\">latus</span> <span style=\"display: inline-block;\">optinet</span> <span style=\"display: inline-block;\">et</span> <span style=\"display: inline-block;\">ad</span> <span style=\"display: inline-block;\">rationem</span> <span style=\"display: inline-block;\">habitabilis</span> <span style=\"display: inline-block;\">tetartemorii</span> <span style=\"display: inline-block;\">contrariis</span> <span style=\"display: inline-block;\">ambulantium</span> <span style=\"display: inline-block;\">gressibus</span> <span style=\"display: inline-block;\">premitur</span> <span style=\"display: inline-block;\">.</span></p>"
      ],
      "text/plain": [
       "<IPython.core.display.HTML object>"
      ]
     },
     "metadata": {},
     "output_type": "display_data"
    },
    {
     "data": {
      "text/html": [
       "<p><b style=\"text-decoration: line-through;;\">negative</b> -> <span style=\"display: inline-block;\">Videns</span> <span style=\"display: inline-block;\">eos</span> <span style=\"display: inline-block;\">Athenagora</span> <span style=\"display: inline-block;\">utrosque</span> <span style=\"display: inline-block;\">in</span> <span style=\"display: inline-block;\">amplexu</span> <span style=\"display: inline-block;\">cum</span> <span style=\"display: inline-block;\">lacrimis</span> <span style=\"display: inline-block;\">inhaerentes</span> <span style=\"display: inline-block;\">et</span> <span style=\"display: inline-block;\">ipse</span> <span style=\"display: inline-block;\">amarissime</span> <span style=\"display: inline-block;\">flebat</span> <span style=\"display: inline-block;\">et</span> <span style=\"display: inline-block;\">narrabat</span> <span style=\"display: inline-block;\">quomodo</span> <span style=\"display: inline-block;\">sibi</span> <span style=\"display: inline-block;\">olim</span> <span style=\"display: inline-block;\">hoc</span> <span style=\"display: inline-block;\">ordine</span> <span style=\"display: inline-block;\">puella</span> <span style=\"display: inline-block;\">in</span> <span style=\"display: inline-block;\">lupanari</span> <span style=\"display: inline-block;\">posita</span> <span style=\"display: inline-block;\">uniuersa</span> <span style=\"display: inline-block;\">narrasset</span> <span style=\"display: inline-block;\">,</span> <span style=\"display: inline-block;\">et</span> <span style=\"display: inline-block;\">quantum</span> <span style=\"display: inline-block;\">temporis</span> <span style=\"display: inline-block;\">esset</span> <span style=\"display: inline-block;\">,</span> <span style=\"display: inline-block;\">quod</span> <span style=\"display: inline-block;\">a</span> <span style=\"display: inline-block;\">piratis</span> <span style=\"display: inline-block;\">abducta</span> <span style=\"display: inline-block;\">et</span> <span style=\"display: inline-block;\">addicta</span> <span style=\"display: inline-block;\">fuisset</span> <span style=\"display: inline-block;\">.</span></p>"
      ],
      "text/plain": [
       "<IPython.core.display.HTML object>"
      ]
     },
     "metadata": {},
     "output_type": "display_data"
    },
    {
     "data": {
      "text/html": [
       "<p><b style=\"text-decoration: line-through;;\">negative</b> -> <span style=\"display: inline-block;\">I</span> <span style=\"display: inline-block;\">nunc</span> <span style=\"display: inline-block;\">,</span> <span style=\"display: inline-block;\">sic</span> <span style=\"display: inline-block;\">meriti</span> <span style=\"display: inline-block;\">lectum</span> <span style=\"display: inline-block;\">reverere</span> <span style=\"display: inline-block;\">parentis</span> <span style=\"display: inline-block;\">Quem</span> <span style=\"display: inline-block;\">fugit</span> <span style=\"display: inline-block;\">et</span> <span style=\"display: inline-block;\">factis</span> <span style=\"display: inline-block;\">abdicat</span> <span style=\"display: inline-block;\">ipse</span> <span style=\"display: inline-block;\">suis</span> <span style=\"display: inline-block;\">!</span></p>"
      ],
      "text/plain": [
       "<IPython.core.display.HTML object>"
      ]
     },
     "metadata": {},
     "output_type": "display_data"
    },
    {
     "data": {
      "text/html": [
       "<p><b style=\"text-decoration: line-through;;\">negative</b> -> <span style=\"display: inline-block;\">me</span> <span style=\"display: inline-block;\">libertina</span> <span style=\"display: inline-block;\">,</span> <span style=\"display: inline-block;\">nec</span> <span style=\"display: inline-block;\">uno</span> <span style=\"display: inline-block;\">contenta</span> <span style=\"display: inline-block;\">,</span> <span style=\"display: inline-block;\">Phryne</span> <span style=\"display: inline-block;\">macerat</span> <span style=\"display: inline-block;\">.</span></p>"
      ],
      "text/plain": [
       "<IPython.core.display.HTML object>"
      ]
     },
     "metadata": {},
     "output_type": "display_data"
    },
    {
     "data": {
      "text/html": [
       "<p><b style=\"text-decoration: line-through;;\">positive</b> -> <span style=\"display: inline-block;\">ego</span> <span style=\"display: inline-block;\">tuli</span> <span style=\"display: inline-block;\">Levitas</span> <span style=\"display: inline-block;\">a</span> <span style=\"display: inline-block;\">filiis</span> <span style=\"display: inline-block;\">Israhel</span> <span style=\"display: inline-block;\">pro</span> <span style=\"display: inline-block;\">omni</span> <span style=\"display: inline-block;\">primogenito</span> <span style=\"display: inline-block;\">qui</span> <span style=\"display: inline-block;\">aperit</span> <span style=\"display: inline-block;\">vulvam</span> <span style=\"display: inline-block;\">in</span> <span style=\"display: inline-block;\">filiis</span> <span style=\"display: inline-block;\">Israhel</span> <span style=\"display: inline-block;\">eruntque</span> <span style=\"display: inline-block;\">-que</span> <span style=\"display: inline-block;\">Levitae</span> <span style=\"display: inline-block;\">mei</span> <span style=\"display: inline-block;\">.</span></p>"
      ],
      "text/plain": [
       "<IPython.core.display.HTML object>"
      ]
     },
     "metadata": {},
     "output_type": "display_data"
    },
    {
     "data": {
      "text/html": [
       "<p><b style=\"text-decoration: line-through;;\">positive</b> -> <span style=\"display: inline-block;\">unde</span> <span style=\"display: inline-block;\">recte</span> <span style=\"display: inline-block;\">mihi</span> <span style=\"display: inline-block;\">uidetur</span> <span style=\"display: inline-block;\">Apion</span> <span style=\"display: inline-block;\">propter</span> <span style=\"display: inline-block;\">patriae</span> <span style=\"display: inline-block;\">suae</span> <span style=\"display: inline-block;\">leges</span> <span style=\"display: inline-block;\">multam</span> <span style=\"display: inline-block;\">soluisse</span> <span style=\"display: inline-block;\">blasphemiae</span> <span style=\"display: inline-block;\">;</span> <span style=\"display: inline-block;\">etenim</span> <span style=\"display: inline-block;\">necessario</span> <span style=\"display: inline-block;\">circumcisus</span> <span style=\"display: inline-block;\">circa</span> <span style=\"display: inline-block;\">genitalia</span> <span style=\"display: inline-block;\">,</span> <span style=\"display: inline-block;\">uulnere</span> <span style=\"display: inline-block;\">ei</span> <span style=\"display: inline-block;\">facto</span> <span style=\"display: inline-block;\">nihil</span> <span style=\"display: inline-block;\">ei</span> <span style=\"display: inline-block;\">circumcisio</span> <span style=\"display: inline-block;\">profuit</span> <span style=\"display: inline-block;\">et</span> <span style=\"display: inline-block;\">putrefactus</span> <span style=\"display: inline-block;\">magnis</span> <span style=\"display: inline-block;\">doloribus</span> <span style=\"display: inline-block;\">expirauit</span> <span style=\"display: inline-block;\">.</span></p>"
      ],
      "text/plain": [
       "<IPython.core.display.HTML object>"
      ]
     },
     "metadata": {},
     "output_type": "display_data"
    },
    {
     "data": {
      "text/html": [
       "<p><b style=\"text-decoration: line-through;;\">negative</b> -> <span style=\"display: inline-block;\">ipse</span> <span style=\"display: inline-block;\">,</span> <span style=\"display: inline-block;\">ubi</span> <span style=\"display: inline-block;\">tempus</span> <span style=\"display: inline-block;\">erit</span> <span style=\"display: inline-block;\">,</span> <span style=\"display: inline-block;\">omnis</span> <span style=\"display: inline-block;\">in</span> <span style=\"display: inline-block;\">fonte</span> <span style=\"display: inline-block;\">lauabo</span> <span style=\"display: inline-block;\">.</span></p>"
      ],
      "text/plain": [
       "<IPython.core.display.HTML object>"
      ]
     },
     "metadata": {},
     "output_type": "display_data"
    },
    {
     "data": {
      "text/html": [
       "<p><b style=\"text-decoration: line-through;;\">negative</b> -> <span style=\"display: inline-block;\">Persuadet</span> <span style=\"display: inline-block;\">moris</span> <span style=\"display: inline-block;\">tetrum</span> <span style=\"display: inline-block;\">uariare</span> <span style=\"display: inline-block;\">colorem</span> <span style=\"display: inline-block;\">ficus</span> <span style=\"display: inline-block;\">et</span> <span style=\"display: inline-block;\">inuasis</span> <span style=\"display: inline-block;\">dat</span> <span style=\"display: inline-block;\">sua</span> <span style=\"display: inline-block;\">iura</span> <span style=\"display: inline-block;\">comis</span> <span style=\"display: inline-block;\">.</span></p>"
      ],
      "text/plain": [
       "<IPython.core.display.HTML object>"
      ]
     },
     "metadata": {},
     "output_type": "display_data"
    },
    {
     "data": {
      "text/html": [
       "<p><b style=\"text-decoration: line-through;;\">negative</b> -> <span style=\"display: inline-block;\">post</span> <span style=\"display: inline-block;\">ambulationem</span> <span style=\"display: inline-block;\">loco</span> <span style=\"display: inline-block;\">tepido</span> <span style=\"display: inline-block;\">uehementer</span> <span style=\"display: inline-block;\">et</span> <span style=\"display: inline-block;\">diu</span> <span style=\"display: inline-block;\">,</span> <span style=\"display: inline-block;\">ac</span> <span style=\"display: inline-block;\">non</span> <span style=\"display: inline-block;\">minus</span> <span style=\"display: inline-block;\">ducenties</span> <span style=\"display: inline-block;\">,</span> <span style=\"display: inline-block;\">nisi</span> <span style=\"display: inline-block;\">infirmus</span> <span style=\"display: inline-block;\">erit</span> <span style=\"display: inline-block;\">,</span> <span style=\"display: inline-block;\">perfricetur</span> <span style=\"display: inline-block;\">;</span></p>"
      ],
      "text/plain": [
       "<IPython.core.display.HTML object>"
      ]
     },
     "metadata": {},
     "output_type": "display_data"
    },
    {
     "data": {
      "text/html": [
       "<p><b style=\"text-decoration: line-through;;\">negative</b> -> <span style=\"display: inline-block;\">et</span> <span style=\"display: inline-block;\">est</span> <span style=\"display: inline-block;\">a</span> <span style=\"display: inline-block;\">foris</span> <span style=\"display: inline-block;\">neruosa</span> <span style=\"display: inline-block;\">uulua</span> <span style=\"display: inline-block;\">,</span> <span style=\"display: inline-block;\">cuius</span> <span style=\"display: inline-block;\">collum</span> <span style=\"display: inline-block;\">directum</span> <span style=\"display: inline-block;\">est</span> <span style=\"display: inline-block;\">positum</span> <span style=\"display: inline-block;\">,</span> <span style=\"display: inline-block;\">cuius</span> <span style=\"display: inline-block;\">ceruix</span> <span style=\"display: inline-block;\">erigitur</span> <span style=\"display: inline-block;\">usque</span> <span style=\"display: inline-block;\">ad</span> <span style=\"display: inline-block;\">locum</span> <span style=\"display: inline-block;\">,</span> <span style=\"display: inline-block;\">in</span> <span style=\"display: inline-block;\">quo</span> <span style=\"display: inline-block;\">res</span> <span style=\"display: inline-block;\">Veneris</span> <span style=\"display: inline-block;\">per</span> <span style=\"display: inline-block;\">ficiuntur</span> <span style=\"display: inline-block;\">et</span> <span style=\"display: inline-block;\">sperma</span> <span style=\"display: inline-block;\">miscetur</span> <span style=\"display: inline-block;\">et</span> <span style=\"display: inline-block;\">fit</span> <span style=\"display: inline-block;\">conceptio</span> <span style=\"display: inline-block;\">natura</span> <span style=\"display: inline-block;\">uolente</span> <span style=\"display: inline-block;\">ex</span> <span style=\"display: inline-block;\">uiri</span> <span style=\"display: inline-block;\">et</span> <span style=\"display: inline-block;\">mulieris</span> <span style=\"display: inline-block;\">sanguine</span> <span style=\"display: inline-block;\">.</span></p>"
      ],
      "text/plain": [
       "<IPython.core.display.HTML object>"
      ]
     },
     "metadata": {},
     "output_type": "display_data"
    },
    {
     "data": {
      "text/html": [
       "<p><b style=\"text-decoration: line-through;;\">negative</b> -> <span style=\"display: inline-block;\">qua</span> <span style=\"display: inline-block;\">oratione</span> <span style=\"display: inline-block;\">finita</span> <span style=\"display: inline-block;\">Thesbon</span> <span style=\"display: inline-block;\">subicit</span> <span style=\"display: inline-block;\">,</span> <span style=\"display: inline-block;\">etsi</span> <span style=\"display: inline-block;\">dolendus</span> <span style=\"display: inline-block;\">sit</span> <span style=\"display: inline-block;\">is</span> <span style=\"display: inline-block;\">rerum</span> <span style=\"display: inline-block;\">status</span> <span style=\"display: inline-block;\">,</span> <span style=\"display: inline-block;\">tamen</span> <span style=\"display: inline-block;\">rem</span> <span style=\"display: inline-block;\">tolerabiliorem</span> <span style=\"display: inline-block;\">esse</span> <span style=\"display: inline-block;\">,</span> <span style=\"display: inline-block;\">dummodo</span> <span style=\"display: inline-block;\">ne</span> <span style=\"display: inline-block;\">feminae</span> <span style=\"display: inline-block;\">eadem</span> <span style=\"display: inline-block;\">labe</span> <span style=\"display: inline-block;\">sint</span> <span style=\"display: inline-block;\">inquinatae</span> <span style=\"display: inline-block;\">;</span></p>"
      ],
      "text/plain": [
       "<IPython.core.display.HTML object>"
      ]
     },
     "metadata": {},
     "output_type": "display_data"
    },
    {
     "data": {
      "text/html": [
       "<p><b style=\"text-decoration: line-through;;\">negative</b> -> <span style=\"display: inline-block;\">et</span> <span style=\"display: inline-block;\">non</span> <span style=\"display: inline-block;\">sicut</span> <span style=\"display: inline-block;\">speravimus</span> <span style=\"display: inline-block;\">sed</span> <span style=\"display: inline-block;\">semet</span> <span style=\"display: inline-block;\">ipsos</span> <span style=\"display: inline-block;\">dederunt</span> <span style=\"display: inline-block;\">primum</span> <span style=\"display: inline-block;\">Domino</span> <span style=\"display: inline-block;\">deinde</span> <span style=\"display: inline-block;\">nobis</span> <span style=\"display: inline-block;\">per</span> <span style=\"display: inline-block;\">voluntatem</span> <span style=\"display: inline-block;\">Dei</span></p>"
      ],
      "text/plain": [
       "<IPython.core.display.HTML object>"
      ]
     },
     "metadata": {},
     "output_type": "display_data"
    },
    {
     "data": {
      "text/html": [
       "<p><b style=\"text-decoration: line-through;;\">negative</b> -> <span style=\"display: inline-block;\">ne</span> <span style=\"display: inline-block;\">se</span> <span style=\"display: inline-block;\">mulier</span> <span style=\"display: inline-block;\">extra</span> <span style=\"display: inline-block;\">virtutum</span> <span style=\"display: inline-block;\">cogitationes</span> <span style=\"display: inline-block;\">extraque</span> <span style=\"display: inline-block;\">-que</span> <span style=\"display: inline-block;\">bellorum</span> <span style=\"display: inline-block;\">casus</span> <span style=\"display: inline-block;\">putet</span> <span style=\"display: inline-block;\">,</span> <span style=\"display: inline-block;\">ipsis</span> <span style=\"display: inline-block;\">incipientis</span> <span style=\"display: inline-block;\">matrimonii</span> <span style=\"display: inline-block;\">auspiciis</span> <span style=\"display: inline-block;\">admonetur</span> <span style=\"display: inline-block;\">venire</span> <span style=\"display: inline-block;\">se</span> <span style=\"display: inline-block;\">laborum</span> <span style=\"display: inline-block;\">periculorumque</span> <span style=\"display: inline-block;\">-que</span> <span style=\"display: inline-block;\">sociam</span> <span style=\"display: inline-block;\">,</span> <span style=\"display: inline-block;\">idem</span> <span style=\"display: inline-block;\">in</span> <span style=\"display: inline-block;\">pace</span> <span style=\"display: inline-block;\">,</span> <span style=\"display: inline-block;\">idem</span> <span style=\"display: inline-block;\">in</span> <span style=\"display: inline-block;\">proelio</span> <span style=\"display: inline-block;\">passuram</span> <span style=\"display: inline-block;\">ausuramque</span> <span style=\"display: inline-block;\">-que</span> <span style=\"display: inline-block;\">:</span> <span style=\"display: inline-block;\">hoc</span> <span style=\"display: inline-block;\">iuncti</span> <span style=\"display: inline-block;\">boves</span> <span style=\"display: inline-block;\">,</span> <span style=\"display: inline-block;\">hoc</span> <span style=\"display: inline-block;\">paratus</span> <span style=\"display: inline-block;\">equus</span> <span style=\"display: inline-block;\">,</span> <span style=\"display: inline-block;\">hoc</span> <span style=\"display: inline-block;\">data</span> <span style=\"display: inline-block;\">arma</span> <span style=\"display: inline-block;\">denuntiant</span> <span style=\"display: inline-block;\">.</span></p>"
      ],
      "text/plain": [
       "<IPython.core.display.HTML object>"
      ]
     },
     "metadata": {},
     "output_type": "display_data"
    },
    {
     "data": {
      "text/html": [
       "<p><b style=\"text-decoration: line-through;;\">negative</b> -> <span style=\"display: inline-block;\">distinguit</span> <span style=\"display: inline-block;\">rationem</span> <span style=\"display: inline-block;\">officiorum</span> <span style=\"display: inline-block;\">ac</span> <span style=\"display: inline-block;\">temporum</span> <span style=\"display: inline-block;\">,</span> <span style=\"display: inline-block;\">vicissitudinem</span> <span style=\"display: inline-block;\">laboris</span> <span style=\"display: inline-block;\">ac</span> <span style=\"display: inline-block;\">voluptatis</span> <span style=\"display: inline-block;\">.</span></p>"
      ],
      "text/plain": [
       "<IPython.core.display.HTML object>"
      ]
     },
     "metadata": {},
     "output_type": "display_data"
    },
    {
     "data": {
      "text/html": [
       "<p><b style=\"text-decoration: line-through;;\">negative</b> -> <span style=\"display: inline-block;\">Haec</span> <span style=\"display: inline-block;\">eam</span> <span style=\"display: inline-block;\">sollicite</span> <span style=\"display: inline-block;\">seduloque</span> <span style=\"display: inline-block;\">-que</span> <span style=\"display: inline-block;\">curantem</span> <span style=\"display: inline-block;\">Ceres</span> <span style=\"display: inline-block;\">alma</span> <span style=\"display: inline-block;\">deprehendit</span> <span style=\"display: inline-block;\">et</span> <span style=\"display: inline-block;\">longum</span> <span style=\"display: inline-block;\">exclamat</span> <span style=\"display: inline-block;\">protinus</span> <span style=\"display: inline-block;\">:</span> <span style=\"display: inline-block;\">Ain</span> <span style=\"display: inline-block;\">-ne</span> <span style=\"display: inline-block;\">,</span> <span style=\"display: inline-block;\">Psyche</span> <span style=\"display: inline-block;\">miseranda</span> <span style=\"display: inline-block;\">?</span></p>"
      ],
      "text/plain": [
       "<IPython.core.display.HTML object>"
      ]
     },
     "metadata": {},
     "output_type": "display_data"
    },
    {
     "data": {
      "text/html": [
       "<p><b style=\"text-decoration: line-through;;\">negative</b> -> <span style=\"display: inline-block;\">Matris</span> <span style=\"display: inline-block;\">adhuc</span> <span style=\"display: inline-block;\">utero</span> <span style=\"display: inline-block;\">partu</span> <span style=\"display: inline-block;\">remorante</span> <span style=\"display: inline-block;\">tenebar</span> <span style=\"display: inline-block;\">;</span></p>"
      ],
      "text/plain": [
       "<IPython.core.display.HTML object>"
      ]
     },
     "metadata": {},
     "output_type": "display_data"
    },
    {
     "data": {
      "text/html": [
       "<p><b style=\"text-decoration: line-through;;\">positive</b> -> <span style=\"display: inline-block;\">et</span> <span style=\"display: inline-block;\">lassata</span> <span style=\"display: inline-block;\">viris</span> <span style=\"display: inline-block;\">necdum</span> <span style=\"display: inline-block;\">satiata</span> <span style=\"display: inline-block;\">recessit</span></p>"
      ],
      "text/plain": [
       "<IPython.core.display.HTML object>"
      ]
     },
     "metadata": {},
     "output_type": "display_data"
    },
    {
     "data": {
      "text/html": [
       "<p><b style=\"text-decoration: line-through;;\">negative</b> -> <span style=\"display: inline-block;\">Cura</span> <span style=\"display: inline-block;\">quam</span> <span style=\"display: inline-block;\">optume</span> <span style=\"display: inline-block;\">potes</span> <span style=\"display: inline-block;\">.</span></p>"
      ],
      "text/plain": [
       "<IPython.core.display.HTML object>"
      ]
     },
     "metadata": {},
     "output_type": "display_data"
    },
    {
     "data": {
      "text/html": [
       "<p><b style=\"text-decoration: line-through;;\">positive</b> -> <span style=\"display: inline-block;\">Quoius</span> <span style=\"display: inline-block;\">nullum</span> <span style=\"display: inline-block;\">membrum</span> <span style=\"display: inline-block;\">a</span> <span style=\"display: inline-block;\">flagitio</span> <span style=\"display: inline-block;\">aut</span> <span style=\"display: inline-block;\">facinore</span> <span style=\"display: inline-block;\">vacat</span> <span style=\"display: inline-block;\">,</span> <span style=\"display: inline-block;\">lingua</span> <span style=\"display: inline-block;\">vana</span> <span style=\"display: inline-block;\">,</span> <span style=\"display: inline-block;\">manus</span> <span style=\"display: inline-block;\">cruentae</span> <span style=\"display: inline-block;\">,</span> <span style=\"display: inline-block;\">pedes</span> <span style=\"display: inline-block;\">fugaces</span> <span style=\"display: inline-block;\">;</span> <span style=\"display: inline-block;\">quae</span> <span style=\"display: inline-block;\">honeste</span> <span style=\"display: inline-block;\">nominari</span> <span style=\"display: inline-block;\">nequeunt</span> <span style=\"display: inline-block;\">inhonestissima</span> <span style=\"display: inline-block;\">.</span></p>"
      ],
      "text/plain": [
       "<IPython.core.display.HTML object>"
      ]
     },
     "metadata": {},
     "output_type": "display_data"
    },
    {
     "data": {
      "text/html": [
       "<p><b style=\"text-decoration: line-through;;\">negative</b> -> <span style=\"display: inline-block;\">carminaque</span> <span style=\"display: inline-block;\">-que</span> <span style=\"display: inline-block;\">edideram</span> <span style=\"display: inline-block;\">,</span> <span style=\"display: inline-block;\">cum</span> <span style=\"display: inline-block;\">te</span> <span style=\"display: inline-block;\">delicta</span> <span style=\"display: inline-block;\">notantem</span> <span style=\"display: inline-block;\">praeterii</span> <span style=\"display: inline-block;\">totiens</span> <span style=\"display: inline-block;\">inreprehensus</span> <span style=\"display: inline-block;\">eques</span> <span style=\"display: inline-block;\">.</span></p>"
      ],
      "text/plain": [
       "<IPython.core.display.HTML object>"
      ]
     },
     "metadata": {},
     "output_type": "display_data"
    },
    {
     "data": {
      "text/html": [
       "<p><b style=\"text-decoration: line-through;;\">negative</b> -> <span style=\"display: inline-block;\">Multo</span> <span style=\"display: inline-block;\">gaudio</span> <span style=\"display: inline-block;\">sum</span> <span style=\"display: inline-block;\">repletus</span> <span style=\"display: inline-block;\">,</span> <span style=\"display: inline-block;\">quod</span> <span style=\"display: inline-block;\">circa</span> <span style=\"display: inline-block;\">ecclesiae</span> <span style=\"display: inline-block;\">pacem</span> <span style=\"display: inline-block;\">et</span> <span style=\"display: inline-block;\">sanctissimi</span> <span style=\"display: inline-block;\">imperatoris</span> <span style=\"display: inline-block;\">et</span> <span style=\"display: inline-block;\">dilectionis</span> <span style=\"display: inline-block;\">tuae</span> <span style=\"display: inline-block;\">tale</span> <span style=\"display: inline-block;\">studium</span> <span style=\"display: inline-block;\">,</span> <span style=\"display: inline-block;\">quale</span> <span style=\"display: inline-block;\">litteris</span> <span style=\"display: inline-block;\">indicasti</span> <span style=\"display: inline-block;\">,</span> <span style=\"display: inline-block;\">legatorum</span> <span style=\"display: inline-block;\">quoque</span> <span style=\"display: inline-block;\">meorum</span> <span style=\"display: inline-block;\">assertione</span> <span style=\"display: inline-block;\">cognoui</span> <span style=\"display: inline-block;\">.</span></p>"
      ],
      "text/plain": [
       "<IPython.core.display.HTML object>"
      ]
     },
     "metadata": {},
     "output_type": "display_data"
    },
    {
     "data": {
      "text/html": [
       "<p><b style=\"text-decoration: line-through;;\">negative</b> -> <span style=\"display: inline-block;\">non</span> <span style=\"display: inline-block;\">est</span> <span style=\"display: inline-block;\">pudica</span> <span style=\"display: inline-block;\">quae</span> <span style=\"display: inline-block;\">adfectat</span> <span style=\"display: inline-block;\">animum</span> <span style=\"display: inline-block;\">alterius</span> <span style=\"display: inline-block;\">mouere</span> <span style=\"display: inline-block;\">etiam</span> <span style=\"display: inline-block;\">salua</span> <span style=\"display: inline-block;\">.</span></p>"
      ],
      "text/plain": [
       "<IPython.core.display.HTML object>"
      ]
     },
     "metadata": {},
     "output_type": "display_data"
    },
    {
     "data": {
      "text/html": [
       "<p><b style=\"text-decoration: line-through;;\">positive</b> -> <span style=\"display: inline-block;\">,</span> <span style=\"display: inline-block;\">auersus</span> <span style=\"display: inline-block;\">omnes</span> <span style=\"display: inline-block;\">admissarii</span> <span style=\"display: inline-block;\">sui</span> <span style=\"display: inline-block;\">motus</span> <span style=\"display: inline-block;\">in</span> <span style=\"display: inline-block;\">speculo</span> <span style=\"display: inline-block;\">uideret</span></p>"
      ],
      "text/plain": [
       "<IPython.core.display.HTML object>"
      ]
     },
     "metadata": {},
     "output_type": "display_data"
    },
    {
     "data": {
      "text/html": [
       "<p><b style=\"text-decoration: line-through;;\">negative</b> -> <span style=\"display: inline-block;\">quo</span> <span style=\"display: inline-block;\">modo</span> <span style=\"display: inline-block;\">igitur</span> <span style=\"display: inline-block;\">L.</span> <span style=\"display: inline-block;\">Cossinius</span> <span style=\"display: inline-block;\">Tiburs</span> <span style=\"display: inline-block;\">,</span> <span style=\"display: inline-block;\">pater</span> <span style=\"display: inline-block;\">huius</span> <span style=\"display: inline-block;\">equitis</span> <span style=\"display: inline-block;\">Romani</span> <span style=\"display: inline-block;\">,</span> <span style=\"display: inline-block;\">optimi</span> <span style=\"display: inline-block;\">atque</span> <span style=\"display: inline-block;\">ornatissimi</span> <span style=\"display: inline-block;\">viri</span> <span style=\"display: inline-block;\">,</span> <span style=\"display: inline-block;\">damnato</span> <span style=\"display: inline-block;\">T.</span> <span style=\"display: inline-block;\">Caelio</span> <span style=\"display: inline-block;\">,</span> <span style=\"display: inline-block;\">quo</span> <span style=\"display: inline-block;\">modo</span> <span style=\"display: inline-block;\">ex</span> <span style=\"display: inline-block;\">eadem</span> <span style=\"display: inline-block;\">civitate</span> <span style=\"display: inline-block;\">T.</span> <span style=\"display: inline-block;\">Coponius</span> <span style=\"display: inline-block;\">,</span> <span style=\"display: inline-block;\">civis</span> <span style=\"display: inline-block;\">item</span> <span style=\"display: inline-block;\">summa</span> <span style=\"display: inline-block;\">virtute</span> <span style=\"display: inline-block;\">et</span> <span style=\"display: inline-block;\">dignitate</span> <span style=\"display: inline-block;\">,</span> <span style=\"display: inline-block;\">nepotes</span> <span style=\"display: inline-block;\">T.</span> <span style=\"display: inline-block;\">et</span> <span style=\"display: inline-block;\">C.</span> <span style=\"display: inline-block;\">Coponios</span> <span style=\"display: inline-block;\">nostis</span> <span style=\"display: inline-block;\">,</span> <span style=\"display: inline-block;\">damnato</span> <span style=\"display: inline-block;\">C.</span> <span style=\"display: inline-block;\">Masone</span> <span style=\"display: inline-block;\">civis</span> <span style=\"display: inline-block;\">Romanus</span> <span style=\"display: inline-block;\">est</span> <span style=\"display: inline-block;\">factus</span> <span style=\"display: inline-block;\">?</span></p>"
      ],
      "text/plain": [
       "<IPython.core.display.HTML object>"
      ]
     },
     "metadata": {},
     "output_type": "display_data"
    },
    {
     "data": {
      "text/html": [
       "<p><b style=\"text-decoration: line-through;;\">negative</b> -> <span style=\"display: inline-block;\">iterum</span> <span style=\"display: inline-block;\">misit</span> <span style=\"display: inline-block;\">principem</span> <span style=\"display: inline-block;\">quinquagenarium</span> <span style=\"display: inline-block;\">tertium</span> <span style=\"display: inline-block;\">et</span> <span style=\"display: inline-block;\">quinquaginta</span> <span style=\"display: inline-block;\">qui</span> <span style=\"display: inline-block;\">erant</span> <span style=\"display: inline-block;\">cum</span> <span style=\"display: inline-block;\">eo</span> <span style=\"display: inline-block;\">qui</span> <span style=\"display: inline-block;\">cum</span> <span style=\"display: inline-block;\">venisset</span> <span style=\"display: inline-block;\">curvavit</span> <span style=\"display: inline-block;\">genua</span> <span style=\"display: inline-block;\">contra</span> <span style=\"display: inline-block;\">Heliam</span> <span style=\"display: inline-block;\">et</span> <span style=\"display: inline-block;\">precatus</span> <span style=\"display: inline-block;\">est</span> <span style=\"display: inline-block;\">eum</span> <span style=\"display: inline-block;\">et</span> <span style=\"display: inline-block;\">ait</span> <span style=\"display: inline-block;\">homo</span> <span style=\"display: inline-block;\">Dei</span> <span style=\"display: inline-block;\">noli</span> <span style=\"display: inline-block;\">despicere</span> <span style=\"display: inline-block;\">animam</span> <span style=\"display: inline-block;\">meam</span> <span style=\"display: inline-block;\">et</span> <span style=\"display: inline-block;\">animam</span> <span style=\"display: inline-block;\">servorum</span> <span style=\"display: inline-block;\">tuorum</span> <span style=\"display: inline-block;\">qui</span> <span style=\"display: inline-block;\">mecum</span> <span style=\"display: inline-block;\">-cum</span> <span style=\"display: inline-block;\">sunt</span></p>"
      ],
      "text/plain": [
       "<IPython.core.display.HTML object>"
      ]
     },
     "metadata": {},
     "output_type": "display_data"
    },
    {
     "data": {
      "text/html": [
       "<p><b style=\"text-decoration: line-through;;\">positive</b> -> <span style=\"display: inline-block;\">veni</span> <span style=\"display: inline-block;\">inebriemus</span> <span style=\"display: inline-block;\">eum</span> <span style=\"display: inline-block;\">vino</span> <span style=\"display: inline-block;\">dormiamusque</span> <span style=\"display: inline-block;\">-que</span> <span style=\"display: inline-block;\">cum</span> <span style=\"display: inline-block;\">eo</span> <span style=\"display: inline-block;\">ut</span> <span style=\"display: inline-block;\">servare</span> <span style=\"display: inline-block;\">possimus</span> <span style=\"display: inline-block;\">ex</span> <span style=\"display: inline-block;\">patre</span> <span style=\"display: inline-block;\">nostro</span> <span style=\"display: inline-block;\">semen</span></p>"
      ],
      "text/plain": [
       "<IPython.core.display.HTML object>"
      ]
     },
     "metadata": {},
     "output_type": "display_data"
    },
    {
     "data": {
      "text/html": [
       "<p><b style=\"text-decoration: line-through;;\">negative</b> -> <span style=\"display: inline-block;\">trahe</span> <span style=\"display: inline-block;\">me</span> <span style=\"display: inline-block;\">post</span> <span style=\"display: inline-block;\">te</span> <span style=\"display: inline-block;\">curremus</span> <span style=\"display: inline-block;\">introduxit</span> <span style=\"display: inline-block;\">me</span> <span style=\"display: inline-block;\">rex</span> <span style=\"display: inline-block;\">in</span> <span style=\"display: inline-block;\">cellaria</span> <span style=\"display: inline-block;\">sua</span> <span style=\"display: inline-block;\">exultabimus</span> <span style=\"display: inline-block;\">et</span> <span style=\"display: inline-block;\">laetabimur</span> <span style=\"display: inline-block;\">in</span> <span style=\"display: inline-block;\">te</span> <span style=\"display: inline-block;\">memores</span> <span style=\"display: inline-block;\">uberum</span> <span style=\"display: inline-block;\">tuorum</span> <span style=\"display: inline-block;\">super</span> <span style=\"display: inline-block;\">vinum</span> <span style=\"display: inline-block;\">recti</span> <span style=\"display: inline-block;\">diligunt</span> <span style=\"display: inline-block;\">te</span></p>"
      ],
      "text/plain": [
       "<IPython.core.display.HTML object>"
      ]
     },
     "metadata": {},
     "output_type": "display_data"
    },
    {
     "data": {
      "text/html": [
       "<p><b style=\"text-decoration: line-through;;\">negative</b> -> <span style=\"display: inline-block;\">NAM</span> <span style=\"display: inline-block;\">MIHI</span> <span style=\"display: inline-block;\">QVALE</span> <span style=\"display: inline-block;\">INGENIVM</span> <span style=\"display: inline-block;\">HABERES</span> <span style=\"display: inline-block;\">FVIT</span> <span style=\"display: inline-block;\">INDICIO</span> <span style=\"display: inline-block;\">ORATIO</span> <span style=\"display: inline-block;\">namque</span> <span style=\"display: inline-block;\">mores</span> <span style=\"display: inline-block;\">tuos</span> <span style=\"display: inline-block;\">mihì</span> <span style=\"display: inline-block;\">tuis</span> <span style=\"display: inline-block;\">sermonibus</span> <span style=\"display: inline-block;\">indicasti</span> <span style=\"display: inline-block;\">.</span></p>"
      ],
      "text/plain": [
       "<IPython.core.display.HTML object>"
      ]
     },
     "metadata": {},
     "output_type": "display_data"
    },
    {
     "data": {
      "text/html": [
       "<p><b style=\"text-decoration: line-through;;\">positive</b> -> <span style=\"display: inline-block;\">Nobis</span> <span style=\"display: inline-block;\">tamen</span> <span style=\"display: inline-block;\">hoc</span> <span style=\"display: inline-block;\">tam</span> <span style=\"display: inline-block;\">nobili</span> <span style=\"display: inline-block;\">feminae</span> <span style=\"display: inline-block;\">huius</span> <span style=\"display: inline-block;\">exemplo</span> <span style=\"display: inline-block;\">ad</span> <span style=\"display: inline-block;\">istos</span> <span style=\"display: inline-block;\">refutandos</span> <span style=\"display: inline-block;\">,</span> <span style=\"display: inline-block;\">qui</span> <span style=\"display: inline-block;\">Christianis</span> <span style=\"display: inline-block;\">feminis</span> <span style=\"display: inline-block;\">in</span> <span style=\"display: inline-block;\">captiuitate</span> <span style=\"display: inline-block;\">conpressis</span> <span style=\"display: inline-block;\">alieni</span> <span style=\"display: inline-block;\">ab</span> <span style=\"display: inline-block;\">omni</span> <span style=\"display: inline-block;\">cogitatione</span> <span style=\"display: inline-block;\">sanctitatis</span> <span style=\"display: inline-block;\">insultant</span> <span style=\"display: inline-block;\">,</span> <span style=\"display: inline-block;\">sufficit</span> <span style=\"display: inline-block;\">quod</span> <span style=\"display: inline-block;\">in</span> <span style=\"display: inline-block;\">praeclaris</span> <span style=\"display: inline-block;\">eius</span> <span style=\"display: inline-block;\">laudibus</span> <span style=\"display: inline-block;\">dictum</span> <span style=\"display: inline-block;\">est</span></p>"
      ],
      "text/plain": [
       "<IPython.core.display.HTML object>"
      ]
     },
     "metadata": {},
     "output_type": "display_data"
    },
    {
     "data": {
      "text/html": [
       "<p><b style=\"text-decoration: line-through;;\">negative</b> -> <span style=\"display: inline-block;\">Non</span> <span style=\"display: inline-block;\">pol</span> <span style=\"display: inline-block;\">mihi</span> <span style=\"display: inline-block;\">quidem</span> <span style=\"display: inline-block;\">;</span></p>"
      ],
      "text/plain": [
       "<IPython.core.display.HTML object>"
      ]
     },
     "metadata": {},
     "output_type": "display_data"
    },
    {
     "data": {
      "text/html": [
       "<p><b style=\"text-decoration: line-through;;\">negative</b> -> <span style=\"display: inline-block;\">non</span> <span style=\"display: inline-block;\">tamen</span> <span style=\"display: inline-block;\">idcirco</span> <span style=\"display: inline-block;\">apostolorum</span> <span style=\"display: inline-block;\">firmitas</span> <span style=\"display: inline-block;\">et</span> <span style=\"display: inline-block;\">fides</span> <span style=\"display: inline-block;\">cecidit</span> <span style=\"display: inline-block;\">,</span> <span style=\"display: inline-block;\">quia</span> <span style=\"display: inline-block;\">proditor</span> <span style=\"display: inline-block;\">ludas</span> <span style=\"display: inline-block;\">ab</span> <span style=\"display: inline-block;\">eorum</span> <span style=\"display: inline-block;\">societate</span> <span style=\"display: inline-block;\">defecit</span> <span style=\"display: inline-block;\">.</span></p>"
      ],
      "text/plain": [
       "<IPython.core.display.HTML object>"
      ]
     },
     "metadata": {},
     "output_type": "display_data"
    },
    {
     "data": {
      "text/html": [
       "<p><b style=\"text-decoration: line-through;;\">negative</b> -> <span style=\"display: inline-block;\">Habe</span> <span style=\"display: inline-block;\">aliquam</span> <span style=\"display: inline-block;\">uxorem</span> <span style=\"display: inline-block;\">spiritalem</span> <span style=\"display: inline-block;\">.</span></p>"
      ],
      "text/plain": [
       "<IPython.core.display.HTML object>"
      ]
     },
     "metadata": {},
     "output_type": "display_data"
    },
    {
     "data": {
      "text/html": [
       "<p><b style=\"text-decoration: line-through;;\">negative</b> -> <span style=\"display: inline-block;\">tunc</span> <span style=\"display: inline-block;\">uir</span> <span style=\"display: inline-block;\">beatus</span> <span style=\"display: inline-block;\">oratione</span> <span style=\"display: inline-block;\">Gompleta</span> <span style=\"display: inline-block;\">,</span> <span style=\"display: inline-block;\">signo</span> <span style=\"display: inline-block;\">crucis</span> <span style=\"display: inline-block;\">expresso</span> <span style=\"display: inline-block;\">solitum</span> <span style=\"display: inline-block;\">sibi</span> <span style=\"display: inline-block;\">scripturae</span> <span style=\"display: inline-block;\">sanctae</span> <span style=\"display: inline-block;\">sermonem</span> <span style=\"display: inline-block;\">cunctis</span> <span style=\"display: inline-block;\">audientibus</span> <span style=\"display: inline-block;\">exprimens</span> <span style=\"display: inline-block;\">ait</span> <span style=\"display: inline-block;\">:</span> <span style=\"display: inline-block;\">\"</span> <span style=\"display: inline-block;\">sit</span> <span style=\"display: inline-block;\">nomen</span> <span style=\"display: inline-block;\">domini</span> <span style=\"display: inline-block;\">benedictum</span> <span style=\"display: inline-block;\">\"</span> <span style=\"display: inline-block;\">.</span></p>"
      ],
      "text/plain": [
       "<IPython.core.display.HTML object>"
      ]
     },
     "metadata": {},
     "output_type": "display_data"
    },
    {
     "data": {
      "text/html": [
       "<p><b style=\"text-decoration: line-through;;\">negative</b> -> <span style=\"display: inline-block;\">apud</span> <span style=\"display: inline-block;\">nos</span> <span style=\"display: inline-block;\">,</span> <span style=\"display: inline-block;\">damnanda</span> <span style=\"display: inline-block;\">;</span></p>"
      ],
      "text/plain": [
       "<IPython.core.display.HTML object>"
      ]
     },
     "metadata": {},
     "output_type": "display_data"
    },
    {
     "data": {
      "text/html": [
       "<p><b style=\"text-decoration: line-through;;\">negative</b> -> <span style=\"display: inline-block;\">si</span> <span style=\"display: inline-block;\">autem</span> <span style=\"display: inline-block;\">parcit</span> <span style=\"display: inline-block;\">,</span> <span style=\"display: inline-block;\">ne</span> <span style=\"display: inline-block;\">quis</span> <span style=\"display: inline-block;\">eum</span> <span style=\"display: inline-block;\">existimet</span> <span style=\"display: inline-block;\">super</span> <span style=\"display: inline-block;\">id</span> <span style=\"display: inline-block;\">quod</span> <span style=\"display: inline-block;\">eum</span> <span style=\"display: inline-block;\">uidet</span> <span style=\"display: inline-block;\">aut</span> <span style=\"display: inline-block;\">audit</span> <span style=\"display: inline-block;\">aliquid</span> <span style=\"display: inline-block;\">ex</span> <span style=\"display: inline-block;\">illo</span> <span style=\"display: inline-block;\">,</span> <span style=\"display: inline-block;\">auferat</span> <span style=\"display: inline-block;\">a</span> <span style=\"display: inline-block;\">persona</span> <span style=\"display: inline-block;\">sua</span> <span style=\"display: inline-block;\">nodum</span> <span style=\"display: inline-block;\">quaestionis</span> <span style=\"display: inline-block;\">et</span> <span style=\"display: inline-block;\">non</span> <span style=\"display: inline-block;\">de</span> <span style=\"display: inline-block;\">homine</span> <span style=\"display: inline-block;\">,</span> <span style=\"display: inline-block;\">sed</span> <span style=\"display: inline-block;\">de</span> <span style=\"display: inline-block;\">re</span> <span style=\"display: inline-block;\">ipsa</span> <span style=\"display: inline-block;\">respondeat</span> <span style=\"display: inline-block;\">et</span> <span style=\"display: inline-block;\">dicat</span> <span style=\"display: inline-block;\">:</span> <span style=\"display: inline-block;\">qui</span> <span style=\"display: inline-block;\">tantum</span> <span style=\"display: inline-block;\">potest</span> <span style=\"display: inline-block;\">,</span> <span style=\"display: inline-block;\">talis</span> <span style=\"display: inline-block;\">est</span> <span style=\"display: inline-block;\">,</span> <span style=\"display: inline-block;\">qualis</span> <span style=\"display: inline-block;\">fuit</span> <span style=\"display: inline-block;\">Abraham</span> <span style=\"display: inline-block;\">.</span></p>"
      ],
      "text/plain": [
       "<IPython.core.display.HTML object>"
      ]
     },
     "metadata": {},
     "output_type": "display_data"
    },
    {
     "data": {
      "text/html": [
       "<p><b style=\"text-decoration: line-through;;\">positive</b> -> <span style=\"display: inline-block;\">Percidi</span> <span style=\"display: inline-block;\">gaudes</span> <span style=\"display: inline-block;\">,</span> <span style=\"display: inline-block;\">percisus</span> <span style=\"display: inline-block;\">,</span> <span style=\"display: inline-block;\">Papyle</span> <span style=\"display: inline-block;\">,</span> <span style=\"display: inline-block;\">ploras</span> <span style=\"display: inline-block;\">.</span></p>"
      ],
      "text/plain": [
       "<IPython.core.display.HTML object>"
      ]
     },
     "metadata": {},
     "output_type": "display_data"
    },
    {
     "data": {
      "text/html": [
       "<p><b style=\"text-decoration: line-through;;\">positive</b> -> <span style=\"display: inline-block;\">nunc</span> <span style=\"display: inline-block;\">tu</span> <span style=\"display: inline-block;\">si</span> <span style=\"display: inline-block;\">vis</span> <span style=\"display: inline-block;\">subigitare</span> <span style=\"display: inline-block;\">me</span> <span style=\"display: inline-block;\">,</span> <span style=\"display: inline-block;\">probast</span> <span style=\"display: inline-block;\">est</span> <span style=\"display: inline-block;\">occasio</span> <span style=\"display: inline-block;\">.</span></p>"
      ],
      "text/plain": [
       "<IPython.core.display.HTML object>"
      ]
     },
     "metadata": {},
     "output_type": "display_data"
    },
    {
     "data": {
      "text/html": [
       "<p><b style=\"text-decoration: line-through;;\">positive</b> -> <span style=\"display: inline-block;\">sic</span> <span style=\"display: inline-block;\">se</span> <span style=\"display: inline-block;\">tibi</span> <span style=\"display: inline-block;\">misceat</span> <span style=\"display: inline-block;\">!</span></p>"
      ],
      "text/plain": [
       "<IPython.core.display.HTML object>"
      ]
     },
     "metadata": {},
     "output_type": "display_data"
    },
    {
     "data": {
      "text/html": [
       "<p><b style=\"text-decoration: line-through;;\">negative</b> -> <span style=\"display: inline-block;\">odisti</span> <span style=\"display: inline-block;\">nascentem</span> <span style=\"display: inline-block;\">hominem</span> <span style=\"display: inline-block;\">,</span> <span style=\"display: inline-block;\">et</span> <span style=\"display: inline-block;\">quomodo</span> <span style=\"display: inline-block;\">diligis</span> <span style=\"display: inline-block;\">aliquem</span> <span style=\"display: inline-block;\">?</span></p>"
      ],
      "text/plain": [
       "<IPython.core.display.HTML object>"
      ]
     },
     "metadata": {},
     "output_type": "display_data"
    },
    {
     "data": {
      "text/html": [
       "<p><b style=\"text-decoration: line-through;;\">negative</b> -> <span style=\"display: inline-block;\">Non</span> <span style=\"display: inline-block;\">ego</span> <span style=\"display: inline-block;\">te</span> <span style=\"display: inline-block;\">hic</span> <span style=\"display: inline-block;\">lubens</span> <span style=\"display: inline-block;\">relinquo</span> <span style=\"display: inline-block;\">neque</span> <span style=\"display: inline-block;\">abeo</span> <span style=\"display: inline-block;\">abs</span> <span style=\"display: inline-block;\">te</span> <span style=\"display: inline-block;\">.</span></p>"
      ],
      "text/plain": [
       "<IPython.core.display.HTML object>"
      ]
     },
     "metadata": {},
     "output_type": "display_data"
    },
    {
     "data": {
      "text/html": [
       "<p><b style=\"text-decoration: line-through;;\">positive</b> -> <span style=\"display: inline-block;\">Quid</span> <span style=\"display: inline-block;\">ego</span> <span style=\"display: inline-block;\">tibi</span> <span style=\"display: inline-block;\">deliqui</span> <span style=\"display: inline-block;\">,</span> <span style=\"display: inline-block;\">si</span> <span style=\"display: inline-block;\">,</span> <span style=\"display: inline-block;\">cui</span> <span style=\"display: inline-block;\">nupta</span> <span style=\"display: inline-block;\">sum</span> <span style=\"display: inline-block;\">,</span> <span style=\"display: inline-block;\">tecum</span> <span style=\"display: inline-block;\">-cum</span> <span style=\"display: inline-block;\">fui</span> <span style=\"display: inline-block;\">?</span></p>"
      ],
      "text/plain": [
       "<IPython.core.display.HTML object>"
      ]
     },
     "metadata": {},
     "output_type": "display_data"
    },
    {
     "data": {
      "text/html": [
       "<p><b style=\"text-decoration: line-through;;\">positive</b> -> <span style=\"display: inline-block;\">lenonum</span> <span style=\"display: inline-block;\">ancillas</span> <span style=\"display: inline-block;\">posita</span> <span style=\"display: inline-block;\">Saufeia</span> <span style=\"display: inline-block;\">corona</span> <span style=\"display: inline-block;\">provocat</span> <span style=\"display: inline-block;\">ac</span> <span style=\"display: inline-block;\">tollit</span> <span style=\"display: inline-block;\">pendentis</span> <span style=\"display: inline-block;\">praemia</span> <span style=\"display: inline-block;\">coxae</span> <span style=\"display: inline-block;\">;</span> <span style=\"display: inline-block;\">ipsa</span> <span style=\"display: inline-block;\">Medullinae</span> <span style=\"display: inline-block;\">fluctum</span> <span style=\"display: inline-block;\">crisantis</span> <span style=\"display: inline-block;\">adorat</span> <span style=\"display: inline-block;\">:</span> <span style=\"display: inline-block;\">palma</span> <span style=\"display: inline-block;\">inter</span> <span style=\"display: inline-block;\">dominas</span> <span style=\"display: inline-block;\">,</span> <span style=\"display: inline-block;\">virtus</span> <span style=\"display: inline-block;\">natalibus</span> <span style=\"display: inline-block;\">aequa</span> <span style=\"display: inline-block;\">,</span> <span style=\"display: inline-block;\">nil</span> <span style=\"display: inline-block;\">ibi</span> <span style=\"display: inline-block;\">per</span> <span style=\"display: inline-block;\">ludum</span> <span style=\"display: inline-block;\">simulabitur</span> <span style=\"display: inline-block;\">,</span> <span style=\"display: inline-block;\">omnia</span> <span style=\"display: inline-block;\">fient</span> <span style=\"display: inline-block;\">ad</span> <span style=\"display: inline-block;\">verum</span> <span style=\"display: inline-block;\">,</span> <span style=\"display: inline-block;\">quibus</span> <span style=\"display: inline-block;\">incendi</span> <span style=\"display: inline-block;\">iam</span> <span style=\"display: inline-block;\">frigidus</span> <span style=\"display: inline-block;\">aevo</span> <span style=\"display: inline-block;\">Laomedontiades</span> <span style=\"display: inline-block;\">et</span> <span style=\"display: inline-block;\">Nestoris</span> <span style=\"display: inline-block;\">hirnea</span></p>"
      ],
      "text/plain": [
       "<IPython.core.display.HTML object>"
      ]
     },
     "metadata": {},
     "output_type": "display_data"
    },
    {
     "data": {
      "text/html": [
       "<p><b style=\"text-decoration: line-through;;\">negative</b> -> <span style=\"display: inline-block;\">ecce</span> <span style=\"display: inline-block;\">beatificamus</span> <span style=\"display: inline-block;\">qui</span> <span style=\"display: inline-block;\">sustinuerunt</span> <span style=\"display: inline-block;\">sufferentiam</span> <span style=\"display: inline-block;\">Iob</span> <span style=\"display: inline-block;\">audistis</span> <span style=\"display: inline-block;\">et</span> <span style=\"display: inline-block;\">finem</span> <span style=\"display: inline-block;\">Domini</span> <span style=\"display: inline-block;\">vidistis</span> <span style=\"display: inline-block;\">quoniam</span> <span style=\"display: inline-block;\">misericors</span> <span style=\"display: inline-block;\">est</span> <span style=\"display: inline-block;\">Dominus</span> <span style=\"display: inline-block;\">et</span> <span style=\"display: inline-block;\">miserator</span></p>"
      ],
      "text/plain": [
       "<IPython.core.display.HTML object>"
      ]
     },
     "metadata": {},
     "output_type": "display_data"
    },
    {
     "data": {
      "text/html": [
       "<p><b style=\"text-decoration: line-through;;\">negative</b> -> <span style=\"display: inline-block;\">illuc</span> <span style=\"display: inline-block;\">uniuersus</span> <span style=\"display: inline-block;\">populus</span> <span style=\"display: inline-block;\">fratrum</span> <span style=\"display: inline-block;\">conuenit</span> <span style=\"display: inline-block;\">.</span></p>"
      ],
      "text/plain": [
       "<IPython.core.display.HTML object>"
      ]
     },
     "metadata": {},
     "output_type": "display_data"
    },
    {
     "data": {
      "text/html": [
       "<p><b style=\"text-decoration: line-through;;\">positive</b> -> <span style=\"display: inline-block;\">Omne</span> <span style=\"display: inline-block;\">ulcus</span> <span style=\"display: inline-block;\">in</span> <span style=\"display: inline-block;\">omni</span> <span style=\"display: inline-block;\">parte</span> <span style=\"display: inline-block;\">corporis</span> <span style=\"display: inline-block;\">sordidum</span> <span style=\"display: inline-block;\">,</span> <span style=\"display: inline-block;\">quod</span> <span style=\"display: inline-block;\">tum</span> <span style=\"display: inline-block;\">intellegi</span> <span style=\"display: inline-block;\">potest</span> <span style=\"display: inline-block;\">,</span> <span style=\"display: inline-block;\">cum</span> <span style=\"display: inline-block;\">candicat</span> <span style=\"display: inline-block;\">et</span> <span style=\"display: inline-block;\">quasi</span> <span style=\"display: inline-block;\">crustam</span> <span style=\"display: inline-block;\">coperductam</span> <span style=\"display: inline-block;\">albam</span> <span style=\"display: inline-block;\">habet</span> <span style=\"display: inline-block;\">,</span> <span style=\"display: inline-block;\">purgat</span> <span style=\"display: inline-block;\">mel</span> <span style=\"display: inline-block;\">per</span> <span style=\"display: inline-block;\">se</span> <span style=\"display: inline-block;\">adpositum</span> <span style=\"display: inline-block;\">uel</span> <span style=\"display: inline-block;\">iris</span> <span style=\"display: inline-block;\">arida</span> <span style=\"display: inline-block;\">contusa</span> <span style=\"display: inline-block;\">et</span> <span style=\"display: inline-block;\">cum</span> <span style=\"display: inline-block;\">melle</span> <span style=\"display: inline-block;\">.</span> <span style=\"display: inline-block;\">Eadem</span> <span style=\"display: inline-block;\">ratione</span> <span style=\"display: inline-block;\">et</span> <span style=\"display: inline-block;\">terrae</span> <span style=\"display: inline-block;\">mali</span> <span style=\"display: inline-block;\">et</span> <span style=\"display: inline-block;\">panacis</span> <span style=\"display: inline-block;\">radix</span> <span style=\"display: inline-block;\">adposita</span> <span style=\"display: inline-block;\">purgat</span> <span style=\"display: inline-block;\">sordida</span> <span style=\"display: inline-block;\">ulcera</span> <span style=\"display: inline-block;\">uel</span> <span style=\"display: inline-block;\">in</span> <span style=\"display: inline-block;\">uerendis</span> <span style=\"display: inline-block;\">uel</span> <span style=\"display: inline-block;\">quoquo</span> <span style=\"display: inline-block;\">loci</span> <span style=\"display: inline-block;\">fuerint</span> <span style=\"display: inline-block;\">.</span></p>"
      ],
      "text/plain": [
       "<IPython.core.display.HTML object>"
      ]
     },
     "metadata": {},
     "output_type": "display_data"
    },
    {
     "data": {
      "text/html": [
       "<p><b style=\"text-decoration: line-through;;\">negative</b> -> <span style=\"display: inline-block;\">hos</span> <span style=\"display: inline-block;\">fert</span> <span style=\"display: inline-block;\">sicca</span> <span style=\"display: inline-block;\">sitis</span> <span style=\"display: inline-block;\">,</span> <span style=\"display: inline-block;\">hunc</span> <span style=\"display: inline-block;\">ebrius</span> <span style=\"display: inline-block;\">educat</span> <span style=\"display: inline-block;\">umor</span> <span style=\"display: inline-block;\">.</span></p>"
      ],
      "text/plain": [
       "<IPython.core.display.HTML object>"
      ]
     },
     "metadata": {},
     "output_type": "display_data"
    },
    {
     "data": {
      "text/html": [
       "<p><b style=\"text-decoration: line-through;;\">negative</b> -> <span style=\"display: inline-block;\">In</span> <span style=\"display: inline-block;\">adulterio</span> <span style=\"display: inline-block;\">,</span> <span style=\"display: inline-block;\">dum</span> <span style=\"display: inline-block;\">moechissat</span> <span style=\"display: inline-block;\">Casinam</span> <span style=\"display: inline-block;\">,</span> <span style=\"display: inline-block;\">credo</span> <span style=\"display: inline-block;\">perdidit</span> <span style=\"display: inline-block;\">.</span></p>"
      ],
      "text/plain": [
       "<IPython.core.display.HTML object>"
      ]
     },
     "metadata": {},
     "output_type": "display_data"
    },
    {
     "data": {
      "text/html": [
       "<p><b style=\"text-decoration: line-through;;\">positive</b> -> <span style=\"display: inline-block;\">Sequitur</span> <span style=\"display: inline-block;\">autem</span> <span style=\"display: inline-block;\">aegrotantes</span> <span style=\"display: inline-block;\">uehemens</span> <span style=\"display: inline-block;\">genitalium</span> <span style=\"display: inline-block;\">tentigo</span> <span style=\"display: inline-block;\">cum</span> <span style=\"display: inline-block;\">dolore</span> <span style=\"display: inline-block;\">atque</span> <span style=\"display: inline-block;\">incendio</span> <span style=\"display: inline-block;\">cum</span> <span style=\"display: inline-block;\">quodam</span> <span style=\"display: inline-block;\">pruritu</span> <span style=\"display: inline-block;\">immodico</span> <span style=\"display: inline-block;\">in</span> <span style=\"display: inline-block;\">ueneriam</span> <span style=\"display: inline-block;\">libidinem</span> <span style=\"display: inline-block;\">cogente</span> <span style=\"display: inline-block;\">,</span> <span style=\"display: inline-block;\">mentis</span> <span style=\"display: inline-block;\">alienatio</span> <span style=\"display: inline-block;\">,</span> <span style=\"display: inline-block;\">pulsus</span> <span style=\"display: inline-block;\">densitas</span> <span style=\"display: inline-block;\">,</span> <span style=\"display: inline-block;\">anhelatio</span> <span style=\"display: inline-block;\">crebra</span> <span style=\"display: inline-block;\">atque</span> <span style=\"display: inline-block;\">celerrima</span> <span style=\"display: inline-block;\">,</span> <span style=\"display: inline-block;\">desponsio</span> <span style=\"display: inline-block;\">,</span> <span style=\"display: inline-block;\">uigiliae</span> <span style=\"display: inline-block;\">,</span> <span style=\"display: inline-block;\">hallucinatio</span> <span style=\"display: inline-block;\">,</span> <span style=\"display: inline-block;\">sitis</span> <span style=\"display: inline-block;\">,</span> <span style=\"display: inline-block;\">cibi</span> <span style=\"display: inline-block;\">fastidium</span> <span style=\"display: inline-block;\">et</span> <span style=\"display: inline-block;\">difficilis</span> <span style=\"display: inline-block;\">urinae</span> <span style=\"display: inline-block;\">egestio</span> <span style=\"display: inline-block;\">,</span> <span style=\"display: inline-block;\">ita</span> <span style=\"display: inline-block;\">ut</span> <span style=\"display: inline-block;\">plerumque</span> <span style=\"display: inline-block;\">stercorum</span> <span style=\"display: inline-block;\">abstentio</span> <span style=\"display: inline-block;\">fiat</span> <span style=\"display: inline-block;\">,</span> <span style=\"display: inline-block;\">quibusdam</span> <span style=\"display: inline-block;\">etiam</span> <span style=\"display: inline-block;\">febres</span> <span style=\"display: inline-block;\">;</span></p>"
      ],
      "text/plain": [
       "<IPython.core.display.HTML object>"
      ]
     },
     "metadata": {},
     "output_type": "display_data"
    },
    {
     "data": {
      "text/html": [
       "<p><b style=\"text-decoration: line-through;;\">negative</b> -> <span style=\"display: inline-block;\">redarguit</span> <span style=\"display: inline-block;\">te</span> <span style=\"display: inline-block;\">cultus</span> <span style=\"display: inline-block;\">inprobus</span> <span style=\"display: inline-block;\">et</span> <span style=\"display: inline-block;\">inpudicus</span> <span style=\"display: inline-block;\">ornatus</span> <span style=\"display: inline-block;\">,</span> <span style=\"display: inline-block;\">nec</span> <span style=\"display: inline-block;\">conputari</span> <span style=\"display: inline-block;\">iam</span> <span style=\"display: inline-block;\">potes</span> <span style=\"display: inline-block;\">inter</span> <span style=\"display: inline-block;\">puellas</span> <span style=\"display: inline-block;\">et</span> <span style=\"display: inline-block;\">uirgines</span> <span style=\"display: inline-block;\">Christi</span> <span style=\"display: inline-block;\">quae</span> <span style=\"display: inline-block;\">sic</span> <span style=\"display: inline-block;\">uiuis</span> <span style=\"display: inline-block;\">,</span> <span style=\"display: inline-block;\">ut</span> <span style=\"display: inline-block;\">possis</span> <span style=\"display: inline-block;\">adamari</span> <span style=\"display: inline-block;\">.</span></p>"
      ],
      "text/plain": [
       "<IPython.core.display.HTML object>"
      ]
     },
     "metadata": {},
     "output_type": "display_data"
    },
    {
     "data": {
      "text/html": [
       "<p><b style=\"text-decoration: line-through;;\">negative</b> -> <span style=\"display: inline-block;\">\"</span> <span style=\"display: inline-block;\">Nam</span> <span style=\"display: inline-block;\">per</span> <span style=\"display: inline-block;\">emptiones</span> <span style=\"display: inline-block;\">uel</span> <span style=\"display: inline-block;\">hereditates</span> <span style=\"display: inline-block;\">huius</span> <span style=\"display: inline-block;\">generis</span> <span style=\"display: inline-block;\">controuersiae</span> <span style=\"display: inline-block;\">fiunt</span> <span style=\"display: inline-block;\">\"</span> <span style=\"display: inline-block;\">.</span></p>"
      ],
      "text/plain": [
       "<IPython.core.display.HTML object>"
      ]
     },
     "metadata": {},
     "output_type": "display_data"
    },
    {
     "data": {
      "text/html": [
       "<p><b style=\"text-decoration: line-through;;\">negative</b> -> <span style=\"display: inline-block;\">Nam</span> <span style=\"display: inline-block;\">et</span> <span style=\"display: inline-block;\">rursus</span> <span style=\"display: inline-block;\">innumera</span> <span style=\"display: inline-block;\">multitudo</span> <span style=\"display: inline-block;\">albati</span> <span style=\"display: inline-block;\">et</span> <span style=\"display: inline-block;\">palmis</span> <span style=\"display: inline-block;\">victoriae</span> <span style=\"display: inline-block;\">insignes</span> <span style=\"display: inline-block;\">revelantur</span> <span style=\"display: inline-block;\">,</span> <span style=\"display: inline-block;\">scilicet</span> <span style=\"display: inline-block;\">de</span> <span style=\"display: inline-block;\">Antichristo</span> <span style=\"display: inline-block;\">triumphantes</span> <span style=\"display: inline-block;\">,</span> <span style=\"display: inline-block;\">sicut</span> <span style=\"display: inline-block;\">unus</span> <span style=\"display: inline-block;\">ex</span> <span style=\"display: inline-block;\">presbyteris</span> <span style=\"display: inline-block;\">,</span> <span style=\"display: inline-block;\">Hi</span> <span style=\"display: inline-block;\">sunt</span> <span style=\"display: inline-block;\">,</span> <span style=\"display: inline-block;\">ait</span> <span style=\"display: inline-block;\">,</span> <span style=\"display: inline-block;\">qui</span> <span style=\"display: inline-block;\">veniunt</span> <span style=\"display: inline-block;\">ex</span> <span style=\"display: inline-block;\">illa</span> <span style=\"display: inline-block;\">pressura</span> <span style=\"display: inline-block;\">magna</span> <span style=\"display: inline-block;\">et</span> <span style=\"display: inline-block;\">laverunt</span> <span style=\"display: inline-block;\">vestimentum</span> <span style=\"display: inline-block;\">suum</span> <span style=\"display: inline-block;\">et</span> <span style=\"display: inline-block;\">candidaverunt</span> <span style=\"display: inline-block;\">ipsum</span> <span style=\"display: inline-block;\">in</span> <span style=\"display: inline-block;\">sanguine</span> <span style=\"display: inline-block;\">agni</span> <span style=\"display: inline-block;\">.</span></p>"
      ],
      "text/plain": [
       "<IPython.core.display.HTML object>"
      ]
     },
     "metadata": {},
     "output_type": "display_data"
    },
    {
     "data": {
      "text/html": [
       "<p><b style=\"text-decoration: line-through;;\">positive</b> -> <span style=\"display: inline-block;\">Ceres</span> <span style=\"display: inline-block;\">facibus</span> <span style=\"display: inline-block;\">accensis</span> <span style=\"display: inline-block;\">et</span> <span style=\"display: inline-block;\">serpente</span> <span style=\"display: inline-block;\">circumdata</span> <span style=\"display: inline-block;\">errore</span> <span style=\"display: inline-block;\">subreptam</span> <span style=\"display: inline-block;\">et</span> <span style=\"display: inline-block;\">corruptam</span> <span style=\"display: inline-block;\">Liberam</span> <span style=\"display: inline-block;\">anxia</span> <span style=\"display: inline-block;\">et</span> <span style=\"display: inline-block;\">sollicita</span> <span style=\"display: inline-block;\">uestigat</span> <span style=\"display: inline-block;\">:</span> <span style=\"display: inline-block;\">haec</span> <span style=\"display: inline-block;\">sunt</span> <span style=\"display: inline-block;\">Eleusinia</span> <span style=\"display: inline-block;\">.</span></p>"
      ],
      "text/plain": [
       "<IPython.core.display.HTML object>"
      ]
     },
     "metadata": {},
     "output_type": "display_data"
    },
    {
     "data": {
      "text/html": [
       "<p><b style=\"text-decoration: line-through;;\">positive</b> -> <span style=\"display: inline-block;\">atque</span> <span style=\"display: inline-block;\">auditavi</span> <span style=\"display: inline-block;\">saepe</span> <span style=\"display: inline-block;\">hoc</span> <span style=\"display: inline-block;\">volgo</span> <span style=\"display: inline-block;\">dicier</span> <span style=\"display: inline-block;\">,</span> <span style=\"display: inline-block;\">solere</span> <span style=\"display: inline-block;\">elephantum</span> <span style=\"display: inline-block;\">gravidam</span> <span style=\"display: inline-block;\">perpetuos</span> <span style=\"display: inline-block;\">decem</span> <span style=\"display: inline-block;\">esse</span> <span style=\"display: inline-block;\">annos</span> <span style=\"display: inline-block;\">;</span> <span style=\"display: inline-block;\">eius</span> <span style=\"display: inline-block;\">ex</span> <span style=\"display: inline-block;\">sémine</span> <span style=\"display: inline-block;\">haec</span> <span style=\"display: inline-block;\">certost</span> <span style=\"display: inline-block;\">est</span> <span style=\"display: inline-block;\">fames</span> <span style=\"display: inline-block;\">,</span> <span style=\"display: inline-block;\">nam</span> <span style=\"display: inline-block;\">iam</span> <span style=\"display: inline-block;\">complures</span> <span style=\"display: inline-block;\">annos</span> <span style=\"display: inline-block;\">utero</span> <span style=\"display: inline-block;\">haeret</span> <span style=\"display: inline-block;\">meo</span> <span style=\"display: inline-block;\">.</span></p>"
      ],
      "text/plain": [
       "<IPython.core.display.HTML object>"
      ]
     },
     "metadata": {},
     "output_type": "display_data"
    },
    {
     "data": {
      "text/html": [
       "<p><b style=\"text-decoration: line-through;;\">negative</b> -> <span style=\"display: inline-block;\">Nec</span> <span style=\"display: inline-block;\">vos</span> <span style=\"display: inline-block;\">graminibus</span> <span style=\"display: inline-block;\">nec</span> <span style=\"display: inline-block;\">mixto</span> <span style=\"display: inline-block;\">credite</span> <span style=\"display: inline-block;\">suco</span> <span style=\"display: inline-block;\">,</span> <span style=\"display: inline-block;\">Nec</span> <span style=\"display: inline-block;\">temptate</span> <span style=\"display: inline-block;\">nocens</span> <span style=\"display: inline-block;\">virus</span> <span style=\"display: inline-block;\">amantis</span> <span style=\"display: inline-block;\">equae</span> <span style=\"display: inline-block;\">;</span></p>"
      ],
      "text/plain": [
       "<IPython.core.display.HTML object>"
      ]
     },
     "metadata": {},
     "output_type": "display_data"
    },
    {
     "data": {
      "text/html": [
       "<p><b style=\"text-decoration: line-through;;\">negative</b> -> <span style=\"display: inline-block;\">suscitavi</span> <span style=\"display: inline-block;\">ab</span> <span style=\"display: inline-block;\">aquilone</span> <span style=\"display: inline-block;\">et</span> <span style=\"display: inline-block;\">venit</span> <span style=\"display: inline-block;\">ab</span> <span style=\"display: inline-block;\">ortu</span> <span style=\"display: inline-block;\">solis</span> <span style=\"display: inline-block;\">vocabit</span> <span style=\"display: inline-block;\">nomen</span> <span style=\"display: inline-block;\">meum</span> <span style=\"display: inline-block;\">et</span> <span style=\"display: inline-block;\">adducet</span> <span style=\"display: inline-block;\">magistratus</span> <span style=\"display: inline-block;\">quasi</span> <span style=\"display: inline-block;\">lutum</span> <span style=\"display: inline-block;\">et</span> <span style=\"display: inline-block;\">velut</span> <span style=\"display: inline-block;\">plastes</span> <span style=\"display: inline-block;\">conculcans</span> <span style=\"display: inline-block;\">humum</span></p>"
      ],
      "text/plain": [
       "<IPython.core.display.HTML object>"
      ]
     },
     "metadata": {},
     "output_type": "display_data"
    },
    {
     "data": {
      "text/html": [
       "<p><b style=\"text-decoration: line-through;;\">negative</b> -> <span style=\"display: inline-block;\">Heluidio</span> <span style=\"display: inline-block;\">Prisco</span> <span style=\"display: inline-block;\">,</span> <span style=\"display: inline-block;\">qui</span> <span style=\"display: inline-block;\">et</span> <span style=\"display: inline-block;\">reuersum</span> <span style=\"display: inline-block;\">se</span> <span style=\"display: inline-block;\">ex</span> <span style=\"display: inline-block;\">Syria</span> <span style=\"display: inline-block;\">solus</span> <span style=\"display: inline-block;\">priuato</span> <span style=\"display: inline-block;\">nomine</span> <span style=\"display: inline-block;\">Vespasianum</span> <span style=\"display: inline-block;\">salutauerat</span> <span style=\"display: inline-block;\">et</span> <span style=\"display: inline-block;\">in</span> <span style=\"display: inline-block;\">praetura</span> <span style=\"display: inline-block;\">omnibus</span> <span style=\"display: inline-block;\">edictis</span> <span style=\"display: inline-block;\">sine</span> <span style=\"display: inline-block;\">honore</span> <span style=\"display: inline-block;\">ac</span> <span style=\"display: inline-block;\">mentione</span> <span style=\"display: inline-block;\">ulla</span> <span style=\"display: inline-block;\">transmiserat</span> <span style=\"display: inline-block;\">,</span> <span style=\"display: inline-block;\">non</span> <span style=\"display: inline-block;\">ante</span> <span style=\"display: inline-block;\">succensuit</span> <span style=\"display: inline-block;\">quam</span> <span style=\"display: inline-block;\">altercationibus</span> <span style=\"display: inline-block;\">insolentissimis</span> <span style=\"display: inline-block;\">paene</span> <span style=\"display: inline-block;\">in</span> <span style=\"display: inline-block;\">ordinem</span> <span style=\"display: inline-block;\">redactus</span> <span style=\"display: inline-block;\">.</span></p>"
      ],
      "text/plain": [
       "<IPython.core.display.HTML object>"
      ]
     },
     "metadata": {},
     "output_type": "display_data"
    },
    {
     "data": {
      "text/html": [
       "<p><b style=\"text-decoration: line-through;;\">negative</b> -> <span style=\"display: inline-block;\">nam</span> <span style=\"display: inline-block;\">aliquando</span> <span style=\"display: inline-block;\">et</span> <span style=\"display: inline-block;\">leve</span> <span style=\"display: inline-block;\">motu</span> <span style=\"display: inline-block;\">veiculis</span> <span style=\"display: inline-block;\">eas</span> <span style=\"display: inline-block;\">gestare</span> <span style=\"display: inline-block;\">permittimus</span> <span style=\"display: inline-block;\">,</span> <span style=\"display: inline-block;\">siquidem</span> <span style=\"display: inline-block;\">a</span> <span style=\"display: inline-block;\">gestatione</span> <span style=\"display: inline-block;\">corporis</span> <span style=\"display: inline-block;\">frequencius</span> <span style=\"display: inline-block;\">pecus</span> <span style=\"display: inline-block;\">exire</span> <span style=\"display: inline-block;\">solet</span> <span style=\"display: inline-block;\">.</span></p>"
      ],
      "text/plain": [
       "<IPython.core.display.HTML object>"
      ]
     },
     "metadata": {},
     "output_type": "display_data"
    },
    {
     "data": {
      "text/html": [
       "<p><b style=\"text-decoration: line-through;;\">negative</b> -> <span style=\"display: inline-block;\">tu</span> <span style=\"display: inline-block;\">tantum</span> <span style=\"display: inline-block;\">fida</span> <span style=\"display: inline-block;\">sorori</span> <span style=\"display: inline-block;\">esse</span> <span style=\"display: inline-block;\">velis</span> <span style=\"display: inline-block;\">prolisque</span> <span style=\"display: inline-block;\">-que</span> <span style=\"display: inline-block;\">meae</span> <span style=\"display: inline-block;\">matertera</span> <span style=\"display: inline-block;\">dici</span> <span style=\"display: inline-block;\">.</span></p>"
      ],
      "text/plain": [
       "<IPython.core.display.HTML object>"
      ]
     },
     "metadata": {},
     "output_type": "display_data"
    },
    {
     "data": {
      "text/html": [
       "<p><b style=\"text-decoration: line-through;;\">positive</b> -> <span style=\"display: inline-block;\">Faciet</span> <span style=\"display: inline-block;\">enim</span> <span style=\"display: inline-block;\">fecundos</span> <span style=\"display: inline-block;\">et</span> <span style=\"display: inline-block;\">multa</span> <span style=\"display: inline-block;\">subole</span> <span style=\"display: inline-block;\">gaudentes</span> <span style=\"display: inline-block;\">et</span> <span style=\"display: inline-block;\">quibus</span> <span style=\"display: inline-block;\">a</span> <span style=\"display: inline-block;\">filiabus</span> <span style=\"display: inline-block;\">maxima</span> <span style=\"display: inline-block;\">laetitia</span> <span style=\"display: inline-block;\">conferatur</span> <span style=\"display: inline-block;\">;</span> <span style=\"display: inline-block;\">sed</span> <span style=\"display: inline-block;\">uitia</span> <span style=\"display: inline-block;\">facit</span> <span style=\"display: inline-block;\">circa</span> <span style=\"display: inline-block;\">naturalia</span> <span style=\"display: inline-block;\">et</span> <span style=\"display: inline-block;\">necessaria</span> <span style=\"display: inline-block;\">,</span> <span style=\"display: inline-block;\">mortes</span> <span style=\"display: inline-block;\">uero</span> <span style=\"display: inline-block;\">notas</span> <span style=\"display: inline-block;\">gloriosasque</span> <span style=\"display: inline-block;\">-que</span> <span style=\"display: inline-block;\">decernit</span> <span style=\"display: inline-block;\">.</span></p>"
      ],
      "text/plain": [
       "<IPython.core.display.HTML object>"
      ]
     },
     "metadata": {},
     "output_type": "display_data"
    },
    {
     "data": {
      "text/html": [
       "<p><b style=\"text-decoration: line-through;;\">positive</b> -> <span style=\"display: inline-block;\">Utcunque</span> <span style=\"display: inline-block;\">igitur</span> <span style=\"display: inline-block;\">inter</span> <span style=\"display: inline-block;\">anhelitus</span> <span style=\"display: inline-block;\">sudoresque</span> <span style=\"display: inline-block;\">-que</span> <span style=\"display: inline-block;\">tritus</span> <span style=\"display: inline-block;\">,</span> <span style=\"display: inline-block;\">quod</span> <span style=\"display: inline-block;\">voluerat</span> <span style=\"display: inline-block;\">,</span> <span style=\"display: inline-block;\">accepit</span> <span style=\"display: inline-block;\">,</span> <span style=\"display: inline-block;\">rursusque</span> <span style=\"display: inline-block;\">-que</span> <span style=\"display: inline-block;\">in</span> <span style=\"display: inline-block;\">somnum</span> <span style=\"display: inline-block;\">decidi</span> <span style=\"display: inline-block;\">gaudio</span> <span style=\"display: inline-block;\">lassus</span> <span style=\"display: inline-block;\">.</span></p>"
      ],
      "text/plain": [
       "<IPython.core.display.HTML object>"
      ]
     },
     "metadata": {},
     "output_type": "display_data"
    },
    {
     "data": {
      "text/html": [
       "<p><b style=\"text-decoration: line-through;;\">negative</b> -> <span style=\"display: inline-block;\">corvus</span> <span style=\"display: inline-block;\">enim</span> <span style=\"display: inline-block;\">ingluvie</span> <span style=\"display: inline-block;\">per</span> <span style=\"display: inline-block;\">foeda</span> <span style=\"display: inline-block;\">cadavera</span> <span style=\"display: inline-block;\">captus</span> <span style=\"display: inline-block;\">haeserat</span> <span style=\"display: inline-block;\">;</span></p>"
      ],
      "text/plain": [
       "<IPython.core.display.HTML object>"
      ]
     },
     "metadata": {},
     "output_type": "display_data"
    },
    {
     "data": {
      "text/html": [
       "<p><b style=\"text-decoration: line-through;;\">negative</b> -> <span style=\"display: inline-block;\">Picis</span> <span style=\"display: inline-block;\">liquidae</span> <span style=\"display: inline-block;\">optimae</span> <span style=\"display: inline-block;\">acitabulo</span> <span style=\"display: inline-block;\">uno</span> <span style=\"display: inline-block;\">adice</span> <span style=\"display: inline-block;\">farinam</span> <span style=\"display: inline-block;\">hordiaciam</span> <span style=\"display: inline-block;\">et</span> <span style=\"display: inline-block;\">nitrum</span> <span style=\"display: inline-block;\">et</span> <span style=\"display: inline-block;\">apium</span> <span style=\"display: inline-block;\">tritum</span> <span style=\"display: inline-block;\">et</span> <span style=\"display: inline-block;\">sulfur</span> <span style=\"display: inline-block;\">aequis</span> <span style=\"display: inline-block;\">ponderibus</span> <span style=\"display: inline-block;\">ac</span> <span style=\"display: inline-block;\">superfunde</span> <span style=\"display: inline-block;\">aceti</span> <span style=\"display: inline-block;\">albi</span> <span style=\"display: inline-block;\">acerrimi</span> <span style=\"display: inline-block;\">acitabula</span> <span style=\"display: inline-block;\">duo</span> <span style=\"display: inline-block;\">et</span> <span style=\"display: inline-block;\">in</span> <span style=\"display: inline-block;\">patina</span> <span style=\"display: inline-block;\">decoque</span> <span style=\"display: inline-block;\">simul</span> <span style=\"display: inline-block;\">ac</span> <span style=\"display: inline-block;\">postea</span> <span style=\"display: inline-block;\">calidum</span> <span style=\"display: inline-block;\">medicamen</span> <span style=\"display: inline-block;\">linteo</span> <span style=\"display: inline-block;\">inducito</span> <span style=\"display: inline-block;\">et</span> <span style=\"display: inline-block;\">sic</span> <span style=\"display: inline-block;\">corpori</span> <span style=\"display: inline-block;\">adponito</span> <span style=\"display: inline-block;\">;</span></p>"
      ],
      "text/plain": [
       "<IPython.core.display.HTML object>"
      ]
     },
     "metadata": {},
     "output_type": "display_data"
    },
    {
     "data": {
      "text/html": [
       "<p><b style=\"text-decoration: line-through;;\">negative</b> -> <span style=\"display: inline-block;\">siquidem</span> <span style=\"display: inline-block;\">fides</span> <span style=\"display: inline-block;\">flere</span> <span style=\"display: inline-block;\">prohiberet</span> <span style=\"display: inline-block;\">:</span> <span style=\"display: inline-block;\">gemitum</span> <span style=\"display: inline-block;\">tamen</span> <span style=\"display: inline-block;\">extorquebat</span> <span style=\"display: inline-block;\">adfectus</span> <span style=\"display: inline-block;\">.</span></p>"
      ],
      "text/plain": [
       "<IPython.core.display.HTML object>"
      ]
     },
     "metadata": {},
     "output_type": "display_data"
    },
    {
     "data": {
      "text/html": [
       "<p><b style=\"text-decoration: line-through;;\">positive</b> -> <span style=\"display: inline-block;\">Quomodo</span> <span style=\"display: inline-block;\">tibi</span> <span style=\"display: inline-block;\">in</span> <span style=\"display: inline-block;\">actu</span> <span style=\"display: inline-block;\">illo</span> <span style=\"display: inline-block;\">ignominioso</span> <span style=\"display: inline-block;\">non</span> <span style=\"display: inline-block;\">veniebat</span> <span style=\"display: inline-block;\">in</span> <span style=\"display: inline-block;\">mentem</span> <span style=\"display: inline-block;\">habitus</span> <span style=\"display: inline-block;\">virginalis</span> <span style=\"display: inline-block;\">,</span> <span style=\"display: inline-block;\">processus</span> <span style=\"display: inline-block;\">in</span> <span style=\"display: inline-block;\">Ecclesiam</span> <span style=\"display: inline-block;\">inter</span> <span style=\"display: inline-block;\">virgineos</span> <span style=\"display: inline-block;\">choros</span> <span style=\"display: inline-block;\">?</span></p>"
      ],
      "text/plain": [
       "<IPython.core.display.HTML object>"
      ]
     },
     "metadata": {},
     "output_type": "display_data"
    },
    {
     "data": {
      "text/html": [
       "<p><b style=\"text-decoration: line-through;;\">positive</b> -> <span style=\"display: inline-block;\">misit</span> <span style=\"display: inline-block;\">circum</span> <span style=\"display: inline-block;\">fora</span> <span style=\"display: inline-block;\">et</span> <span style=\"display: inline-block;\">basilicas</span> <span style=\"display: inline-block;\">nomenculatores</span> <span style=\"display: inline-block;\">ad</span> <span style=\"display: inline-block;\">inuitandos</span> <span style=\"display: inline-block;\">ad</span> <span style=\"display: inline-block;\">libidinem</span> <span style=\"display: inline-block;\">iuuenes</span> <span style=\"display: inline-block;\">senesque</span> <span style=\"display: inline-block;\">-que</span> <span style=\"display: inline-block;\">;</span></p>"
      ],
      "text/plain": [
       "<IPython.core.display.HTML object>"
      ]
     },
     "metadata": {},
     "output_type": "display_data"
    },
    {
     "data": {
      "text/html": [
       "<p><b style=\"text-decoration: line-through;;\">positive</b> -> <span style=\"display: inline-block;\">sed</span> <span style=\"display: inline-block;\">vereor</span> <span style=\"display: inline-block;\">ne</span> <span style=\"display: inline-block;\">mulier</span> <span style=\"display: inline-block;\">me</span> <span style=\"display: inline-block;\">absente</span> <span style=\"display: inline-block;\">hic</span> <span style=\"display: inline-block;\">corrupta</span> <span style=\"display: inline-block;\">sit</span> <span style=\"display: inline-block;\">.</span></p>"
      ],
      "text/plain": [
       "<IPython.core.display.HTML object>"
      ]
     },
     "metadata": {},
     "output_type": "display_data"
    },
    {
     "data": {
      "text/html": [
       "<p><b style=\"text-decoration: line-through;;\">negative</b> -> <span style=\"display: inline-block;\">sed</span> <span style=\"display: inline-block;\">tu</span> <span style=\"display: inline-block;\">intuens</span> <span style=\"display: inline-block;\">uerba</span> <span style=\"display: inline-block;\">Christi</span> <span style=\"display: inline-block;\">dic</span> <span style=\"display: inline-block;\">tibi</span> <span style=\"display: inline-block;\">ipse</span> <span style=\"display: inline-block;\">:</span> <span style=\"display: inline-block;\">Nemo</span> <span style=\"display: inline-block;\">bonus</span> <span style=\"display: inline-block;\">nisi</span> <span style=\"display: inline-block;\">unus</span> <span style=\"display: inline-block;\">deus</span> <span style=\"display: inline-block;\">.</span></p>"
      ],
      "text/plain": [
       "<IPython.core.display.HTML object>"
      ]
     },
     "metadata": {},
     "output_type": "display_data"
    },
    {
     "data": {
      "text/html": [
       "<p><b style=\"text-decoration: line-through;;\">negative</b> -> <span style=\"display: inline-block;\">Aut</span> <span style=\"display: inline-block;\">ridenda</span> <span style=\"display: inline-block;\">omnia</span> <span style=\"display: inline-block;\">aut</span> <span style=\"display: inline-block;\">flenda</span> <span style=\"display: inline-block;\">sunt</span> <span style=\"display: inline-block;\">.</span></p>"
      ],
      "text/plain": [
       "<IPython.core.display.HTML object>"
      ]
     },
     "metadata": {},
     "output_type": "display_data"
    },
    {
     "data": {
      "text/html": [
       "<p><b style=\"text-decoration: line-through;;\">negative</b> -> <span style=\"display: inline-block;\">Pro</span> <span style=\"display: inline-block;\">quibus</span> <span style=\"display: inline-block;\">officiis</span> <span style=\"display: inline-block;\">pretium</span> <span style=\"display: inline-block;\">mihi</span> <span style=\"display: inline-block;\">dulce</span> <span style=\"display: inline-block;\">repende</span> <span style=\"display: inline-block;\">Concubitus</span> <span style=\"display: inline-block;\">hodie</span> <span style=\"display: inline-block;\">,</span> <span style=\"display: inline-block;\">fusca</span> <span style=\"display: inline-block;\">Cypassi</span> <span style=\"display: inline-block;\">,</span> <span style=\"display: inline-block;\">tuos</span> <span style=\"display: inline-block;\">!</span></p>"
      ],
      "text/plain": [
       "<IPython.core.display.HTML object>"
      ]
     },
     "metadata": {},
     "output_type": "display_data"
    },
    {
     "data": {
      "text/html": [
       "<p><b style=\"text-decoration: line-through;;\">negative</b> -> <span style=\"display: inline-block;\">postremo</span> <span style=\"display: inline-block;\">tamquam</span> <span style=\"display: inline-block;\">urbe</span> <span style=\"display: inline-block;\">capta</span> <span style=\"display: inline-block;\">libidine</span> <span style=\"display: inline-block;\">ac</span> <span style=\"display: inline-block;\">licentia</span> <span style=\"display: inline-block;\">sua</span> <span style=\"display: inline-block;\">pro</span> <span style=\"display: inline-block;\">legibus</span> <span style=\"display: inline-block;\">utuntur</span> <span style=\"display: inline-block;\">.</span></p>"
      ],
      "text/plain": [
       "<IPython.core.display.HTML object>"
      ]
     },
     "metadata": {},
     "output_type": "display_data"
    },
    {
     "data": {
      "text/html": [
       "<p><b style=\"text-decoration: line-through;;\">negative</b> -> <span style=\"display: inline-block;\">Sarpedon</span> <span style=\"display: inline-block;\">Tlepolemum</span> <span style=\"display: inline-block;\">,</span> <span style=\"display: inline-block;\">idem</span> <span style=\"display: inline-block;\">Antiphum</span> <span style=\"display: inline-block;\">.</span></p>"
      ],
      "text/plain": [
       "<IPython.core.display.HTML object>"
      ]
     },
     "metadata": {},
     "output_type": "display_data"
    },
    {
     "data": {
      "text/html": [
       "<p><b style=\"text-decoration: line-through;;\">negative</b> -> <span style=\"display: inline-block;\">taceo</span> <span style=\"display: inline-block;\">enim</span> <span style=\"display: inline-block;\">Iudaismi</span> <span style=\"display: inline-block;\">haereticos</span> <span style=\"display: inline-block;\">,</span> <span style=\"display: inline-block;\">Dositheum</span> <span style=\"display: inline-block;\">inquam</span> <span style=\"display: inline-block;\">Samaritanum</span> <span style=\"display: inline-block;\">,</span> <span style=\"display: inline-block;\">qui</span> <span style=\"display: inline-block;\">primus</span> <span style=\"display: inline-block;\">ausus</span> <span style=\"display: inline-block;\">est</span> <span style=\"display: inline-block;\">prophetas</span> <span style=\"display: inline-block;\">quasi</span> <span style=\"display: inline-block;\">non</span> <span style=\"display: inline-block;\">in</span> <span style=\"display: inline-block;\">spiritu</span> <span style=\"display: inline-block;\">sancto</span> <span style=\"display: inline-block;\">locutos</span> <span style=\"display: inline-block;\">repudiare</span> <span style=\"display: inline-block;\">,</span> <span style=\"display: inline-block;\">taceo</span> <span style=\"display: inline-block;\">Saducaeos</span> <span style=\"display: inline-block;\">,</span> <span style=\"display: inline-block;\">qui</span> <span style=\"display: inline-block;\">ex</span> <span style=\"display: inline-block;\">huius</span> <span style=\"display: inline-block;\">erroris</span> <span style=\"display: inline-block;\">radice</span> <span style=\"display: inline-block;\">surgentes</span> <span style=\"display: inline-block;\">ausi</span> <span style=\"display: inline-block;\">sunt</span> <span style=\"display: inline-block;\">ad</span> <span style=\"display: inline-block;\">hanc</span> <span style=\"display: inline-block;\">haeresim</span> <span style=\"display: inline-block;\">etiam</span> <span style=\"display: inline-block;\">resurrectionem</span> <span style=\"display: inline-block;\">carnis</span> <span style=\"display: inline-block;\">negare</span> <span style=\"display: inline-block;\">,</span> <span style=\"display: inline-block;\">praetermitto</span> <span style=\"display: inline-block;\">Pharisaeos</span> <span style=\"display: inline-block;\">,</span> <span style=\"display: inline-block;\">qui</span> <span style=\"display: inline-block;\">additamenta</span> <span style=\"display: inline-block;\">quaedam</span> <span style=\"display: inline-block;\">legi</span> <span style=\"display: inline-block;\">adstruendo</span> <span style=\"display: inline-block;\">a</span> <span style=\"display: inline-block;\">Iudaeis</span> <span style=\"display: inline-block;\">diuisi</span> <span style=\"display: inline-block;\">sunt</span> <span style=\"display: inline-block;\">,</span> <span style=\"display: inline-block;\">unde</span> <span style=\"display: inline-block;\">etiam</span> <span style=\"display: inline-block;\">hoc</span> <span style=\"display: inline-block;\">accipere</span> <span style=\"display: inline-block;\">ipsum</span> <span style=\"display: inline-block;\">quod</span> <span style=\"display: inline-block;\">habent</span> <span style=\"display: inline-block;\">nomen</span> <span style=\"display: inline-block;\">digni</span> <span style=\"display: inline-block;\">fuerunt</span> <span style=\"display: inline-block;\">,</span> <span style=\"display: inline-block;\">cum</span> <span style=\"display: inline-block;\">his</span> <span style=\"display: inline-block;\">etiam</span> <span style=\"display: inline-block;\">Herodianos</span> <span style=\"display: inline-block;\">,</span> <span style=\"display: inline-block;\">qui</span> <span style=\"display: inline-block;\">Christum</span> <span style=\"display: inline-block;\">Herodem</span> <span style=\"display: inline-block;\">esse</span> <span style=\"display: inline-block;\">dixerunt</span> <span style=\"display: inline-block;\">:</span> <span style=\"display: inline-block;\">ad</span> <span style=\"display: inline-block;\">eos</span> <span style=\"display: inline-block;\">me</span> <span style=\"display: inline-block;\">conuerto</span> <span style=\"display: inline-block;\">,</span> <span style=\"display: inline-block;\">qui</span> <span style=\"display: inline-block;\">ex</span> <span style=\"display: inline-block;\">euangelio</span> <span style=\"display: inline-block;\">haeretici</span> <span style=\"display: inline-block;\">esse</span> <span style=\"display: inline-block;\">uoluerunt</span> <span style=\"display: inline-block;\">.</span></p>"
      ],
      "text/plain": [
       "<IPython.core.display.HTML object>"
      ]
     },
     "metadata": {},
     "output_type": "display_data"
    },
    {
     "data": {
      "text/html": [
       "<p><b style=\"text-decoration: line-through;;\">positive</b> -> <span style=\"display: inline-block;\">is</span> <span style=\"display: inline-block;\">se</span> <span style=\"display: inline-block;\">dixit</span> <span style=\"display: inline-block;\">cum</span> <span style=\"display: inline-block;\">Alcumena</span> <span style=\"display: inline-block;\">clam</span> <span style=\"display: inline-block;\">consuetum</span> <span style=\"display: inline-block;\">cubitibus</span> <span style=\"display: inline-block;\">,</span> <span style=\"display: inline-block;\">eumque</span> <span style=\"display: inline-block;\">-que</span> <span style=\"display: inline-block;\">filium</span> <span style=\"display: inline-block;\">suom</span> <span style=\"display: inline-block;\">esse</span> <span style=\"display: inline-block;\">qui</span> <span style=\"display: inline-block;\">illos</span> <span style=\"display: inline-block;\">angues</span> <span style=\"display: inline-block;\">vicerit</span></p>"
      ],
      "text/plain": [
       "<IPython.core.display.HTML object>"
      ]
     },
     "metadata": {},
     "output_type": "display_data"
    },
    {
     "data": {
      "text/html": [
       "<p><b style=\"text-decoration: line-through;;\">negative</b> -> <span style=\"display: inline-block;\">nam</span> <span style=\"display: inline-block;\">et</span> <span style=\"display: inline-block;\">Tiberianus</span> <span style=\"display: inline-block;\">in</span> <span style=\"display: inline-block;\">Prometheo</span> <span style=\"display: inline-block;\">ait</span> <span style=\"display: inline-block;\">deos</span> <span style=\"display: inline-block;\">singula</span> <span style=\"display: inline-block;\">sua</span> <span style=\"display: inline-block;\">homini</span> <span style=\"display: inline-block;\">tribuisse</span> <span style=\"display: inline-block;\">.</span></p>"
      ],
      "text/plain": [
       "<IPython.core.display.HTML object>"
      ]
     },
     "metadata": {},
     "output_type": "display_data"
    },
    {
     "data": {
      "text/html": [
       "<p><b style=\"text-decoration: line-through;;\">negative</b> -> <span style=\"display: inline-block;\">Pisces</span> <span style=\"display: inline-block;\">oenoteganon</span> <span style=\"display: inline-block;\">:</span> <span style=\"display: inline-block;\">a</span> <span style=\"display: inline-block;\">crudo</span> <span style=\"display: inline-block;\">pisces</span> <span style=\"display: inline-block;\">quos</span> <span style=\"display: inline-block;\">volueris</span> <span style=\"display: inline-block;\">lavas</span> <span style=\"display: inline-block;\">,</span> <span style=\"display: inline-block;\">conponis</span> <span style=\"display: inline-block;\">in</span> <span style=\"display: inline-block;\">patinam</span> <span style=\"display: inline-block;\">,</span> <span style=\"display: inline-block;\">mittis</span> <span style=\"display: inline-block;\">oleum</span> <span style=\"display: inline-block;\">,</span> <span style=\"display: inline-block;\">liquamen</span> <span style=\"display: inline-block;\">,</span> <span style=\"display: inline-block;\">vinum</span> <span style=\"display: inline-block;\">,</span> <span style=\"display: inline-block;\">fasciculos</span> <span style=\"display: inline-block;\">porri</span> <span style=\"display: inline-block;\">et</span> <span style=\"display: inline-block;\">coriandri</span> <span style=\"display: inline-block;\">,</span> <span style=\"display: inline-block;\">coquitur</span> <span style=\"display: inline-block;\">.</span></p>"
      ],
      "text/plain": [
       "<IPython.core.display.HTML object>"
      ]
     },
     "metadata": {},
     "output_type": "display_data"
    },
    {
     "data": {
      "text/html": [
       "<p><b style=\"text-decoration: line-through;;\">negative</b> -> <span style=\"display: inline-block;\">Scietur</span> <span style=\"display: inline-block;\">non</span> <span style=\"display: inline-block;\">meruisse</span> <span style=\"display: inline-block;\">te</span> <span style=\"display: inline-block;\">consulatum</span> <span style=\"display: inline-block;\">,</span> <span style=\"display: inline-block;\">si</span> <span style=\"display: inline-block;\">tibi</span> <span style=\"display: inline-block;\">non</span> <span style=\"display: inline-block;\">detulerit</span> <span style=\"display: inline-block;\">hic</span> <span style=\"display: inline-block;\">imperator</span> <span style=\"display: inline-block;\">\"</span> <span style=\"display: inline-block;\">.</span></p>"
      ],
      "text/plain": [
       "<IPython.core.display.HTML object>"
      ]
     },
     "metadata": {},
     "output_type": "display_data"
    },
    {
     "data": {
      "text/html": [
       "<p><b style=\"text-decoration: line-through;;\">positive</b> -> <span style=\"display: inline-block;\">invisa</span> <span style=\"display: inline-block;\">proles</span> <span style=\"display: inline-block;\">:</span> <span style=\"display: inline-block;\">sed</span> <span style=\"display: inline-block;\">tamen</span> <span style=\"display: inline-block;\">peior</span> <span style=\"display: inline-block;\">parens</span> <span style=\"display: inline-block;\">quam</span> <span style=\"display: inline-block;\">gnatus</span> <span style=\"display: inline-block;\">,</span> <span style=\"display: inline-block;\">utero</span> <span style=\"display: inline-block;\">rursus</span> <span style=\"display: inline-block;\">infausto</span> <span style=\"display: inline-block;\">gravis</span> <span style=\"display: inline-block;\">.</span></p>"
      ],
      "text/plain": [
       "<IPython.core.display.HTML object>"
      ]
     },
     "metadata": {},
     "output_type": "display_data"
    },
    {
     "data": {
      "text/html": [
       "<p><b style=\"text-decoration: line-through;;\">positive</b> -> <span style=\"display: inline-block;\">cum</span> <span style=\"display: inline-block;\">dabit</span> <span style=\"display: inline-block;\">uxori</span> <span style=\"display: inline-block;\">molitor</span> <span style=\"display: inline-block;\">tuus</span> <span style=\"display: inline-block;\">et</span> <span style=\"display: inline-block;\">tibi</span> <span style=\"display: inline-block;\">adulter</span></p>"
      ],
      "text/plain": [
       "<IPython.core.display.HTML object>"
      ]
     },
     "metadata": {},
     "output_type": "display_data"
    },
    {
     "data": {
      "text/html": [
       "<p><b style=\"text-decoration: line-through;;\">positive</b> -> <span style=\"display: inline-block;\">\"</span> <span style=\"display: inline-block;\">Nemo</span> <span style=\"display: inline-block;\">,</span> <span style=\"display: inline-block;\">\"</span> <span style=\"display: inline-block;\">inquit</span> <span style=\"display: inline-block;\">,</span> <span style=\"display: inline-block;\">\"</span> <span style=\"display: inline-block;\">mihi</span> <span style=\"display: inline-block;\">uirginitatem</span> <span style=\"display: inline-block;\">eripuit</span> <span style=\"display: inline-block;\">:</span> <span style=\"display: inline-block;\">\"</span> <span style=\"display: inline-block;\">sed</span> <span style=\"display: inline-block;\">omnes</span> <span style=\"display: inline-block;\">quasi</span> <span style=\"display: inline-block;\">erepturi</span> <span style=\"display: inline-block;\">uenerunt</span> <span style=\"display: inline-block;\">:</span> <span style=\"display: inline-block;\">sed</span> <span style=\"display: inline-block;\">omnes</span> <span style=\"display: inline-block;\">quasi</span> <span style=\"display: inline-block;\">eripuissent</span> <span style=\"display: inline-block;\">recesserunt</span> <span style=\"display: inline-block;\">.</span></p>"
      ],
      "text/plain": [
       "<IPython.core.display.HTML object>"
      ]
     },
     "metadata": {},
     "output_type": "display_data"
    },
    {
     "data": {
      "text/html": [
       "<p><b style=\"text-decoration: line-through;;\">negative</b> -> <span style=\"display: inline-block;\">et</span> <span style=\"display: inline-block;\">erit</span> <span style=\"display: inline-block;\">in</span> <span style=\"display: inline-block;\">die</span> <span style=\"display: inline-block;\">illa</span> <span style=\"display: inline-block;\">dicit</span> <span style=\"display: inline-block;\">Dominus</span> <span style=\"display: inline-block;\">occidet</span> <span style=\"display: inline-block;\">sol</span> <span style=\"display: inline-block;\">meridie</span> <span style=\"display: inline-block;\">et</span> <span style=\"display: inline-block;\">tenebrescere</span> <span style=\"display: inline-block;\">faciam</span> <span style=\"display: inline-block;\">terram</span> <span style=\"display: inline-block;\">in</span> <span style=\"display: inline-block;\">die</span> <span style=\"display: inline-block;\">luminis</span></p>"
      ],
      "text/plain": [
       "<IPython.core.display.HTML object>"
      ]
     },
     "metadata": {},
     "output_type": "display_data"
    },
    {
     "data": {
      "text/html": [
       "<p><b style=\"text-decoration: line-through;;\">negative</b> -> <span style=\"display: inline-block;\">\"</span> <span style=\"display: inline-block;\">tibi</span> <span style=\"display: inline-block;\">ista</span> <span style=\"display: inline-block;\">praesint</span> <span style=\"display: inline-block;\">numina</span> <span style=\"display: inline-block;\">,</span> <span style=\"display: inline-block;\">tu</span> <span style=\"display: inline-block;\">saxa</span> <span style=\"display: inline-block;\">,</span> <span style=\"display: inline-block;\">tu</span> <span style=\"display: inline-block;\">lignum</span> <span style=\"display: inline-block;\">colas</span> <span style=\"display: inline-block;\">,</span> <span style=\"display: inline-block;\">tu</span> <span style=\"display: inline-block;\">mortuorum</span> <span style=\"display: inline-block;\">mortuus</span> <span style=\"display: inline-block;\">fias</span> <span style=\"display: inline-block;\">deorum</span> <span style=\"display: inline-block;\">pontifex</span> <span style=\"display: inline-block;\">.</span></p>"
      ],
      "text/plain": [
       "<IPython.core.display.HTML object>"
      ]
     },
     "metadata": {},
     "output_type": "display_data"
    },
    {
     "data": {
      "text/html": [
       "<p><b style=\"text-decoration: line-through;;\">negative</b> -> <span style=\"display: inline-block;\">sed</span> <span style=\"display: inline-block;\">quorundam</span> <span style=\"display: inline-block;\">aut</span> <span style=\"display: inline-block;\">praesumtio</span> <span style=\"display: inline-block;\">aut</span> <span style=\"display: inline-block;\">facultas</span> <span style=\"display: inline-block;\">aut</span> <span style=\"display: inline-block;\">error</span> <span style=\"display: inline-block;\">apostolicae</span> <span style=\"display: inline-block;\">doctrinae</span> <span style=\"display: inline-block;\">indemutabilem</span> <span style=\"display: inline-block;\">constitutionem</span> <span style=\"display: inline-block;\">partim</span> <span style=\"display: inline-block;\">fraudulenter</span> <span style=\"display: inline-block;\">confessa</span> <span style=\"display: inline-block;\">est</span> <span style=\"display: inline-block;\">et</span> <span style=\"display: inline-block;\">partim</span> <span style=\"display: inline-block;\">audacter</span> <span style=\"display: inline-block;\">egressa</span> <span style=\"display: inline-block;\">,</span> <span style=\"display: inline-block;\">dum</span> <span style=\"display: inline-block;\">in</span> <span style=\"display: inline-block;\">confessione</span> <span style=\"display: inline-block;\">patris</span> <span style=\"display: inline-block;\">et</span> <span style=\"display: inline-block;\">filii</span> <span style=\"display: inline-block;\">et</span> <span style=\"display: inline-block;\">spiritus</span> <span style=\"display: inline-block;\">sancti</span> <span style=\"display: inline-block;\">ueritatem</span> <span style=\"display: inline-block;\">naturalis</span> <span style=\"display: inline-block;\">significationis</span> <span style=\"display: inline-block;\">eludit</span> <span style=\"display: inline-block;\">,</span> <span style=\"display: inline-block;\">ne</span> <span style=\"display: inline-block;\">quid</span> <span style=\"display: inline-block;\">maneret</span> <span style=\"display: inline-block;\">in</span> <span style=\"display: inline-block;\">sensu</span> <span style=\"display: inline-block;\">,</span> <span style=\"display: inline-block;\">quod</span> <span style=\"display: inline-block;\">in</span> <span style=\"display: inline-block;\">regenerationis</span> <span style=\"display: inline-block;\">sacramento</span> <span style=\"display: inline-block;\">est</span> <span style=\"display: inline-block;\">confitendum</span> <span style=\"display: inline-block;\">.</span></p>"
      ],
      "text/plain": [
       "<IPython.core.display.HTML object>"
      ]
     },
     "metadata": {},
     "output_type": "display_data"
    },
    {
     "data": {
      "text/html": [
       "<p><b style=\"text-decoration: line-through;;\">negative</b> -> <span style=\"display: inline-block;\">Quod</span> <span style=\"display: inline-block;\">longe</span> <span style=\"display: inline-block;\">a</span> <span style=\"display: inline-block;\">sensibus</span> <span style=\"display: inline-block;\">tuis</span> <span style=\"display: inline-block;\">prudentissimis</span> <span style=\"display: inline-block;\">piissimisque</span> <span style=\"display: inline-block;\">-que</span> <span style=\"display: inline-block;\">abest</span> <span style=\"display: inline-block;\">,</span> <span style=\"display: inline-block;\">adversus</span> <span style=\"display: inline-block;\">felicitatem</span> <span style=\"display: inline-block;\">tuam</span> <span style=\"display: inline-block;\">parum</span> <span style=\"display: inline-block;\">gratus</span> <span style=\"display: inline-block;\">es</span> <span style=\"display: inline-block;\">,</span> <span style=\"display: inline-block;\">si</span> <span style=\"display: inline-block;\">tibi</span> <span style=\"display: inline-block;\">quicquam</span> <span style=\"display: inline-block;\">hoc</span> <span style=\"display: inline-block;\">salvo</span> <span style=\"display: inline-block;\">flere</span> <span style=\"display: inline-block;\">permittis</span> <span style=\"display: inline-block;\">.</span></p>"
      ],
      "text/plain": [
       "<IPython.core.display.HTML object>"
      ]
     },
     "metadata": {},
     "output_type": "display_data"
    },
    {
     "data": {
      "text/html": [
       "<p><b style=\"text-decoration: line-through;;\">negative</b> -> <span style=\"display: inline-block;\">habeo</span> <span style=\"display: inline-block;\">filiam</span> <span style=\"display: inline-block;\">virginem</span> <span style=\"display: inline-block;\">et</span> <span style=\"display: inline-block;\">hic</span> <span style=\"display: inline-block;\">homo</span> <span style=\"display: inline-block;\">habet</span> <span style=\"display: inline-block;\">concubinam</span> <span style=\"display: inline-block;\">educam</span> <span style=\"display: inline-block;\">eas</span> <span style=\"display: inline-block;\">ad</span> <span style=\"display: inline-block;\">vos</span> <span style=\"display: inline-block;\">ut</span> <span style=\"display: inline-block;\">humilietis</span> <span style=\"display: inline-block;\">eas</span> <span style=\"display: inline-block;\">et</span> <span style=\"display: inline-block;\">vestram</span> <span style=\"display: inline-block;\">libidinem</span> <span style=\"display: inline-block;\">conpleatis</span> <span style=\"display: inline-block;\">tantum</span> <span style=\"display: inline-block;\">obsecro</span> <span style=\"display: inline-block;\">ne</span> <span style=\"display: inline-block;\">scelus</span> <span style=\"display: inline-block;\">hoc</span> <span style=\"display: inline-block;\">contra</span> <span style=\"display: inline-block;\">naturam</span> <span style=\"display: inline-block;\">operemini</span> <span style=\"display: inline-block;\">in</span> <span style=\"display: inline-block;\">virum</span></p>"
      ],
      "text/plain": [
       "<IPython.core.display.HTML object>"
      ]
     },
     "metadata": {},
     "output_type": "display_data"
    },
    {
     "data": {
      "text/html": [
       "<p><b style=\"text-decoration: line-through;;\">negative</b> -> <span style=\"display: inline-block;\">Nicetius</span> <span style=\"display: inline-block;\">Castello</span> <span style=\"display: inline-block;\">Minoritanus</span> <span style=\"display: inline-block;\">.</span></p>"
      ],
      "text/plain": [
       "<IPython.core.display.HTML object>"
      ]
     },
     "metadata": {},
     "output_type": "display_data"
    },
    {
     "data": {
      "text/html": [
       "<p><b style=\"text-decoration: line-through;;\">negative</b> -> <span style=\"display: inline-block;\">quando</span> <span style=\"display: inline-block;\">vero</span> <span style=\"display: inline-block;\">conducitur</span> <span style=\"display: inline-block;\">et</span> <span style=\"display: inline-block;\">sustollitur</span> <span style=\"display: inline-block;\">,</span> <span style=\"display: inline-block;\">non</span> <span style=\"display: inline-block;\">oportet</span> <span style=\"display: inline-block;\">,</span> <span style=\"display: inline-block;\">ne</span> <span style=\"display: inline-block;\">aut</span> <span style=\"display: inline-block;\">sanguinis</span> <span style=\"display: inline-block;\">fluxus</span> <span style=\"display: inline-block;\">aut</span> <span style=\"display: inline-block;\">ipsius</span> <span style=\"display: inline-block;\">matricis</span> <span style=\"display: inline-block;\">adductio</span> <span style=\"display: inline-block;\">emergat</span> <span style=\"display: inline-block;\">.</span></p>"
      ],
      "text/plain": [
       "<IPython.core.display.HTML object>"
      ]
     },
     "metadata": {},
     "output_type": "display_data"
    },
    {
     "data": {
      "text/html": [
       "<p><b style=\"text-decoration: line-through;;\">negative</b> -> <span style=\"display: inline-block;\">Mortalis</span> <span style=\"display: inline-block;\">cum</span> <span style=\"display: inline-block;\">sis</span> <span style=\"display: inline-block;\">,</span> <span style=\"display: inline-block;\">genio</span> <span style=\"display: inline-block;\">bene</span> <span style=\"display: inline-block;\">fac</span> <span style=\"display: inline-block;\">;</span></p>"
      ],
      "text/plain": [
       "<IPython.core.display.HTML object>"
      ]
     },
     "metadata": {},
     "output_type": "display_data"
    },
    {
     "data": {
      "text/html": [
       "<p><b style=\"text-decoration: line-through;;\">negative</b> -> <span style=\"display: inline-block;\">non</span> <span style=\"display: inline-block;\">iudicatis</span> <span style=\"display: inline-block;\">in</span> <span style=\"display: inline-block;\">hac</span> <span style=\"display: inline-block;\">causa</span> <span style=\"display: inline-block;\">de</span> <span style=\"display: inline-block;\">exteris</span> <span style=\"display: inline-block;\">nationibus</span> <span style=\"display: inline-block;\">,</span> <span style=\"display: inline-block;\">non</span> <span style=\"display: inline-block;\">de</span> <span style=\"display: inline-block;\">sociis</span> <span style=\"display: inline-block;\">;</span></p>"
      ],
      "text/plain": [
       "<IPython.core.display.HTML object>"
      ]
     },
     "metadata": {},
     "output_type": "display_data"
    },
    {
     "data": {
      "text/html": [
       "<p><b style=\"text-decoration: line-through;;\">negative</b> -> <span style=\"display: inline-block;\">patris</span> <span style=\"display: inline-block;\">et</span> <span style=\"display: inline-block;\">inmemor</span> <span style=\"display: inline-block;\">inter</span> <span style=\"display: inline-block;\">frementes</span> <span style=\"display: inline-block;\">Hippolyte</span> <span style=\"display: inline-block;\">tubas</span> <span style=\"display: inline-block;\">strictam</span> <span style=\"display: inline-block;\">securim</span> <span style=\"display: inline-block;\">languida</span> <span style=\"display: inline-block;\">poneret</span> <span style=\"display: inline-block;\">et</span> <span style=\"display: inline-block;\">seminudo</span> <span style=\"display: inline-block;\">pectore</span> <span style=\"display: inline-block;\">cingulum</span> <span style=\"display: inline-block;\">forti</span> <span style=\"display: inline-block;\">negatum</span> <span style=\"display: inline-block;\">solveret</span> <span style=\"display: inline-block;\">Herculi</span> <span style=\"display: inline-block;\">,</span> <span style=\"display: inline-block;\">bellumque</span> <span style=\"display: inline-block;\">-que</span> <span style=\"display: inline-block;\">solus</span> <span style=\"display: inline-block;\">conficeret</span> <span style=\"display: inline-block;\">decor</span> <span style=\"display: inline-block;\">.</span></p>"
      ],
      "text/plain": [
       "<IPython.core.display.HTML object>"
      ]
     },
     "metadata": {},
     "output_type": "display_data"
    },
    {
     "data": {
      "text/html": [
       "<p><b style=\"text-decoration: line-through;;\">negative</b> -> <span style=\"display: inline-block;\">Illud</span> <span style=\"display: inline-block;\">quoque</span> <span style=\"display: inline-block;\">commonendum</span> <span style=\"display: inline-block;\">esse</span> <span style=\"display: inline-block;\">credidimus</span> <span style=\"display: inline-block;\">:</span> <span style=\"display: inline-block;\">quoniam</span> <span style=\"display: inline-block;\">tam</span> <span style=\"display: inline-block;\">in</span> <span style=\"display: inline-block;\">litteris</span> <span style=\"display: inline-block;\">sacris</span> <span style=\"display: inline-block;\">quam</span> <span style=\"display: inline-block;\">in</span> <span style=\"display: inline-block;\">expositoribus</span> <span style=\"display: inline-block;\">doctissimis</span> <span style=\"display: inline-block;\">multa</span> <span style=\"display: inline-block;\">per</span> <span style=\"display: inline-block;\">schemata</span> <span style=\"display: inline-block;\">,</span> <span style=\"display: inline-block;\">multa</span> <span style=\"display: inline-block;\">per</span> <span style=\"display: inline-block;\">definitiones</span> <span style=\"display: inline-block;\">,</span> <span style=\"display: inline-block;\">multa</span> <span style=\"display: inline-block;\">per</span> <span style=\"display: inline-block;\">artem</span> <span style=\"display: inline-block;\">grammaticam</span> <span style=\"display: inline-block;\">,</span> <span style=\"display: inline-block;\">multa</span> <span style=\"display: inline-block;\">per</span> <span style=\"display: inline-block;\">artem</span> <span style=\"display: inline-block;\">rhetoricam</span> <span style=\"display: inline-block;\">,</span> <span style=\"display: inline-block;\">multa</span> <span style=\"display: inline-block;\">per</span> <span style=\"display: inline-block;\">dialecticam</span> <span style=\"display: inline-block;\">,</span> <span style=\"display: inline-block;\">multa</span> <span style=\"display: inline-block;\">per</span> <span style=\"display: inline-block;\">disciplinam</span> <span style=\"display: inline-block;\">arithmeticam</span> <span style=\"display: inline-block;\">,</span> <span style=\"display: inline-block;\">multa</span> <span style=\"display: inline-block;\">per</span> <span style=\"display: inline-block;\">musicam</span> <span style=\"display: inline-block;\">,</span> <span style=\"display: inline-block;\">multa</span> <span style=\"display: inline-block;\">per</span> <span style=\"display: inline-block;\">disciplinam</span> <span style=\"display: inline-block;\">geometricam</span> <span style=\"display: inline-block;\">,</span> <span style=\"display: inline-block;\">multa</span> <span style=\"display: inline-block;\">per</span> <span style=\"display: inline-block;\">astronomicam</span> <span style=\"display: inline-block;\">intellegere</span> <span style=\"display: inline-block;\">possumus</span> <span style=\"display: inline-block;\">,</span> <span style=\"display: inline-block;\">non</span> <span style=\"display: inline-block;\">ab</span> <span style=\"display: inline-block;\">re</span> <span style=\"display: inline-block;\">est</span> <span style=\"display: inline-block;\">instituta</span> <span style=\"display: inline-block;\">saecularium</span> <span style=\"display: inline-block;\">magistrorum</span> <span style=\"display: inline-block;\">,</span> <span style=\"display: inline-block;\">artes</span> <span style=\"display: inline-block;\">scilicet</span> <span style=\"display: inline-block;\">ac</span> <span style=\"display: inline-block;\">disciplinas</span> <span style=\"display: inline-block;\">cum</span> <span style=\"display: inline-block;\">suis</span> <span style=\"display: inline-block;\">diuisionibus</span> <span style=\"display: inline-block;\">,</span> <span style=\"display: inline-block;\">in</span> <span style=\"display: inline-block;\">sequenti</span> <span style=\"display: inline-block;\">libro</span> <span style=\"display: inline-block;\">paucis</span> <span style=\"display: inline-block;\">attingere</span> <span style=\"display: inline-block;\">,</span> <span style=\"display: inline-block;\">quatenus</span> <span style=\"display: inline-block;\">et</span> <span style=\"display: inline-block;\">qui</span> <span style=\"display: inline-block;\">talia</span> <span style=\"display: inline-block;\">didicerunt</span> <span style=\"display: inline-block;\">breuiter</span> <span style=\"display: inline-block;\">ammoneantur</span> <span style=\"display: inline-block;\">,</span> <span style=\"display: inline-block;\">et</span> <span style=\"display: inline-block;\">qui</span> <span style=\"display: inline-block;\">latius</span> <span style=\"display: inline-block;\">legere</span> <span style=\"display: inline-block;\">fortasse</span> <span style=\"display: inline-block;\">minime</span> <span style=\"display: inline-block;\">potuerunt</span> <span style=\"display: inline-block;\">,</span> <span style=\"display: inline-block;\">aliquid</span> <span style=\"display: inline-block;\">exinde</span> <span style=\"display: inline-block;\">compendiosa</span> <span style=\"display: inline-block;\">breuitate</span> <span style=\"display: inline-block;\">cognoscant</span> <span style=\"display: inline-block;\">.</span></p>"
      ],
      "text/plain": [
       "<IPython.core.display.HTML object>"
      ]
     },
     "metadata": {},
     "output_type": "display_data"
    },
    {
     "data": {
      "text/html": [
       "<p><b style=\"text-decoration: line-through;;\">positive</b> -> <span style=\"display: inline-block;\">Arminium</span> <span style=\"display: inline-block;\">super</span> <span style=\"display: inline-block;\">insitam</span> <span style=\"display: inline-block;\">violentiam</span> <span style=\"display: inline-block;\">rapta</span> <span style=\"display: inline-block;\">uxor</span> <span style=\"display: inline-block;\">,</span> <span style=\"display: inline-block;\">subiectus</span> <span style=\"display: inline-block;\">servitio</span> <span style=\"display: inline-block;\">uxoris</span> <span style=\"display: inline-block;\">uterus</span> <span style=\"display: inline-block;\">vaecordem</span> <span style=\"display: inline-block;\">agebant</span> <span style=\"display: inline-block;\">,</span> <span style=\"display: inline-block;\">volitabatque</span> <span style=\"display: inline-block;\">-que</span> <span style=\"display: inline-block;\">per</span> <span style=\"display: inline-block;\">Cheruscos</span> <span style=\"display: inline-block;\">,</span> <span style=\"display: inline-block;\">arma</span> <span style=\"display: inline-block;\">in</span> <span style=\"display: inline-block;\">Segestem</span> <span style=\"display: inline-block;\">,</span> <span style=\"display: inline-block;\">arma</span> <span style=\"display: inline-block;\">in</span> <span style=\"display: inline-block;\">Caesarem</span> <span style=\"display: inline-block;\">poscens</span> <span style=\"display: inline-block;\">.</span></p>"
      ],
      "text/plain": [
       "<IPython.core.display.HTML object>"
      ]
     },
     "metadata": {},
     "output_type": "display_data"
    },
    {
     "data": {
      "text/html": [
       "<p><b style=\"text-decoration: line-through;;\">positive</b> -> <span style=\"display: inline-block;\">\"</span> <span style=\"display: inline-block;\">Nemo</span> <span style=\"display: inline-block;\">,</span> <span style=\"display: inline-block;\">\"</span> <span style=\"display: inline-block;\">inquit</span> <span style=\"display: inline-block;\">,</span> <span style=\"display: inline-block;\">\"</span> <span style=\"display: inline-block;\">mihi</span> <span style=\"display: inline-block;\">uirginitatem</span> <span style=\"display: inline-block;\">eripuit</span> <span style=\"display: inline-block;\">:</span> <span style=\"display: inline-block;\">\"</span> <span style=\"display: inline-block;\">sed</span> <span style=\"display: inline-block;\">omnes</span> <span style=\"display: inline-block;\">quasi</span> <span style=\"display: inline-block;\">erepturi</span> <span style=\"display: inline-block;\">uenerunt</span> <span style=\"display: inline-block;\">:</span> <span style=\"display: inline-block;\">sed</span> <span style=\"display: inline-block;\">omnes</span> <span style=\"display: inline-block;\">quasi</span> <span style=\"display: inline-block;\">eripuissent</span> <span style=\"display: inline-block;\">recesserunt</span> <span style=\"display: inline-block;\">.</span></p>"
      ],
      "text/plain": [
       "<IPython.core.display.HTML object>"
      ]
     },
     "metadata": {},
     "output_type": "display_data"
    },
    {
     "data": {
      "text/html": [
       "<p><b style=\"text-decoration: line-through;;\">negative</b> -> <span style=\"display: inline-block;\">Quia</span> <span style=\"display: inline-block;\">per</span> <span style=\"display: inline-block;\">multimodam</span> <span style=\"display: inline-block;\">spiritus</span> <span style=\"display: inline-block;\">sancti</span> <span style=\"display: inline-block;\">gratiam</span> <span style=\"display: inline-block;\">,</span> <span style=\"display: inline-block;\">prout</span> <span style=\"display: inline-block;\">oportuit</span> <span style=\"display: inline-block;\">,</span> <span style=\"display: inline-block;\">dona</span> <span style=\"display: inline-block;\">spiritalia</span> <span style=\"display: inline-block;\">distributa</span> <span style=\"display: inline-block;\">sint</span> <span style=\"display: inline-block;\">sanctis</span> <span style=\"display: inline-block;\">ideoque</span> <span style=\"display: inline-block;\">-que</span> <span style=\"display: inline-block;\">debere</span> <span style=\"display: inline-block;\">unumquemque</span> <span style=\"display: inline-block;\">in</span> <span style=\"display: inline-block;\">quo</span> <span style=\"display: inline-block;\">uocatus</span> <span style=\"display: inline-block;\">est</span> <span style=\"display: inline-block;\">permanere</span> <span style=\"display: inline-block;\">et</span> <span style=\"display: inline-block;\">inferiores</span> <span style=\"display: inline-block;\">honorem</span> <span style=\"display: inline-block;\">euangelio</span> <span style=\"display: inline-block;\">cooperantibus</span> <span style=\"display: inline-block;\">dare</span> <span style=\"display: inline-block;\">.</span></p>"
      ],
      "text/plain": [
       "<IPython.core.display.HTML object>"
      ]
     },
     "metadata": {},
     "output_type": "display_data"
    },
    {
     "data": {
      "text/html": [
       "<p><b style=\"text-decoration: line-through;;\">negative</b> -> <span style=\"display: inline-block;\">Claudia</span> <span style=\"display: inline-block;\">praecedit</span> <span style=\"display: inline-block;\">laeto</span> <span style=\"display: inline-block;\">celeberrima</span> <span style=\"display: inline-block;\">voltu</span> <span style=\"display: inline-block;\">,</span> <span style=\"display: inline-block;\">credita</span> <span style=\"display: inline-block;\">vix</span> <span style=\"display: inline-block;\">tandem</span> <span style=\"display: inline-block;\">teste</span> <span style=\"display: inline-block;\">pudica</span> <span style=\"display: inline-block;\">dea</span> <span style=\"display: inline-block;\">;</span></p>"
      ],
      "text/plain": [
       "<IPython.core.display.HTML object>"
      ]
     },
     "metadata": {},
     "output_type": "display_data"
    },
    {
     "data": {
      "text/html": [
       "<p><b style=\"text-decoration: line-through;;\">negative</b> -> <span style=\"display: inline-block;\">idcirco</span> <span style=\"display: inline-block;\">haec</span> <span style=\"display: inline-block;\">dicit</span> <span style=\"display: inline-block;\">Dominus</span> <span style=\"display: inline-block;\">ecce</span> <span style=\"display: inline-block;\">ego</span> <span style=\"display: inline-block;\">cogito</span> <span style=\"display: inline-block;\">super</span> <span style=\"display: inline-block;\">familiam</span> <span style=\"display: inline-block;\">istam</span> <span style=\"display: inline-block;\">malum</span> <span style=\"display: inline-block;\">unde</span> <span style=\"display: inline-block;\">non</span> <span style=\"display: inline-block;\">auferetis</span> <span style=\"display: inline-block;\">colla</span> <span style=\"display: inline-block;\">vestra</span> <span style=\"display: inline-block;\">et</span> <span style=\"display: inline-block;\">non</span> <span style=\"display: inline-block;\">ambulabitis</span> <span style=\"display: inline-block;\">superbi</span> <span style=\"display: inline-block;\">quoniam</span> <span style=\"display: inline-block;\">tempus</span> <span style=\"display: inline-block;\">pessimum</span> <span style=\"display: inline-block;\">est</span></p>"
      ],
      "text/plain": [
       "<IPython.core.display.HTML object>"
      ]
     },
     "metadata": {},
     "output_type": "display_data"
    },
    {
     "data": {
      "text/html": [
       "<p><b style=\"text-decoration: line-through;;\">negative</b> -> <span style=\"display: inline-block;\">quod</span> <span style=\"display: inline-block;\">feminae</span> <span style=\"display: inline-block;\">genitalia</span> <span style=\"display: inline-block;\">per</span> <span style=\"display: inline-block;\">hoc</span> <span style=\"display: inline-block;\">significet</span> <span style=\"display: inline-block;\">sicut</span> <span style=\"display: inline-block;\">in</span> <span style=\"display: inline-block;\">lumbis</span> <span style=\"display: inline-block;\">uirorum</span> <span style=\"display: inline-block;\">.</span></p>"
      ],
      "text/plain": [
       "<IPython.core.display.HTML object>"
      ]
     },
     "metadata": {},
     "output_type": "display_data"
    },
    {
     "data": {
      "text/html": [
       "<p><b style=\"text-decoration: line-through;;\">negative</b> -> <span style=\"display: inline-block;\">et</span> <span style=\"display: inline-block;\">cum</span> <span style=\"display: inline-block;\">vidisset</span> <span style=\"display: inline-block;\">Iesus</span> <span style=\"display: inline-block;\">cogitationes</span> <span style=\"display: inline-block;\">eorum</span> <span style=\"display: inline-block;\">dixit</span> <span style=\"display: inline-block;\">ut</span> <span style=\"display: inline-block;\">quid</span> <span style=\"display: inline-block;\">cogitatis</span> <span style=\"display: inline-block;\">mala</span> <span style=\"display: inline-block;\">in</span> <span style=\"display: inline-block;\">cordibus</span> <span style=\"display: inline-block;\">vestris</span></p>"
      ],
      "text/plain": [
       "<IPython.core.display.HTML object>"
      ]
     },
     "metadata": {},
     "output_type": "display_data"
    },
    {
     "data": {
      "text/html": [
       "<p><b style=\"text-decoration: line-through;;\">negative</b> -> <span style=\"display: inline-block;\">itaque</span> <span style=\"display: inline-block;\">locorum</span> <span style=\"display: inline-block;\">etiam</span> <span style=\"display: inline-block;\">appella</span> <span style=\"display: inline-block;\">tionibus</span> <span style=\"display: inline-block;\">additis</span> <span style=\"display: inline-block;\">proponi</span> <span style=\"display: inline-block;\">solebant</span> <span style=\"display: inline-block;\">.</span></p>"
      ],
      "text/plain": [
       "<IPython.core.display.HTML object>"
      ]
     },
     "metadata": {},
     "output_type": "display_data"
    },
    {
     "data": {
      "text/html": [
       "<p><b style=\"text-decoration: line-through;;\">negative</b> -> <span style=\"display: inline-block;\">His</span> <span style=\"display: inline-block;\">actis</span> <span style=\"display: inline-block;\">cynomyia</span> <span style=\"display: inline-block;\">fluit</span> <span style=\"display: inline-block;\">,</span> <span style=\"display: inline-block;\">quae</span> <span style=\"display: inline-block;\">musca</span> <span style=\"display: inline-block;\">canina</span> <span style=\"display: inline-block;\">dicitur</span> <span style=\"display: inline-block;\">,</span> <span style=\"display: inline-block;\">et</span> <span style=\"display: inline-block;\">uatis</span> <span style=\"display: inline-block;\">conpleuit</span> <span style=\"display: inline-block;\">nutibus</span> <span style=\"display: inline-block;\">omnes</span> <span style=\"display: inline-block;\">exspatiata</span> <span style=\"display: inline-block;\">locos</span> <span style=\"display: inline-block;\">solique</span> <span style=\"display: inline-block;\">-que</span> <span style=\"display: inline-block;\">haut</span> <span style=\"display: inline-block;\">cognita</span> <span style=\"display: inline-block;\">Gessae</span> <span style=\"display: inline-block;\">,</span> <span style=\"display: inline-block;\">quae</span> <span style=\"display: inline-block;\">tum</span> <span style=\"display: inline-block;\">terra</span> <span style=\"display: inline-block;\">fuit</span> <span style=\"display: inline-block;\">Iudaeae</span> <span style=\"display: inline-block;\">commoda</span> <span style=\"display: inline-block;\">genti</span> <span style=\"display: inline-block;\">,</span> <span style=\"display: inline-block;\">traxit</span> <span style=\"display: inline-block;\">inexhaustos</span> <span style=\"display: inline-block;\">,</span> <span style=\"display: inline-block;\">quacumque</span> <span style=\"display: inline-block;\">est</span> <span style=\"display: inline-block;\">acta</span> <span style=\"display: inline-block;\">,</span> <span style=\"display: inline-block;\">dolores</span> <span style=\"display: inline-block;\">.</span></p>"
      ],
      "text/plain": [
       "<IPython.core.display.HTML object>"
      ]
     },
     "metadata": {},
     "output_type": "display_data"
    },
    {
     "data": {
      "text/html": [
       "<p><b style=\"text-decoration: line-through;;\">positive</b> -> <span style=\"display: inline-block;\">erunt</span> <span style=\"display: inline-block;\">praeterea</span> <span style=\"display: inline-block;\">praecauenda</span> <span style=\"display: inline-block;\">magis</span> <span style=\"display: inline-block;\">,</span> <span style=\"display: inline-block;\">quae</span> <span style=\"display: inline-block;\">passionem</span> <span style=\"display: inline-block;\">ualeant</span> <span style=\"display: inline-block;\">refricare</span> <span style=\"display: inline-block;\">,</span> <span style=\"display: inline-block;\">ut</span> <span style=\"display: inline-block;\">frigus</span> <span style=\"display: inline-block;\">,</span> <span style=\"display: inline-block;\">indigestio</span> <span style=\"display: inline-block;\">,</span> <span style=\"display: inline-block;\">libido</span> <span style=\"display: inline-block;\">,</span> <span style=\"display: inline-block;\">uel</span> <span style=\"display: inline-block;\">quae</span> <span style=\"display: inline-block;\">inflare</span> <span style=\"display: inline-block;\">ualeant</span> <span style=\"display: inline-block;\">,</span> <span style=\"display: inline-block;\">cum</span> <span style=\"display: inline-block;\">sumuntur</span> <span style=\"display: inline-block;\">,</span> <span style=\"display: inline-block;\">item</span> <span style=\"display: inline-block;\">frigida</span> <span style=\"display: inline-block;\">plurimo</span> <span style=\"display: inline-block;\">scilicet</span> <span style=\"display: inline-block;\">tempore</span> <span style=\"display: inline-block;\">.</span></p>"
      ],
      "text/plain": [
       "<IPython.core.display.HTML object>"
      ]
     },
     "metadata": {},
     "output_type": "display_data"
    },
    {
     "data": {
      "text/html": [
       "<p><b style=\"text-decoration: line-through;;\">negative</b> -> <span style=\"display: inline-block;\">nam</span> <span style=\"display: inline-block;\">dum</span> <span style=\"display: inline-block;\">quod</span> <span style=\"display: inline-block;\">tu</span> <span style=\"display: inline-block;\">debes</span> <span style=\"display: inline-block;\">studiis</span> <span style=\"display: inline-block;\">,</span> <span style=\"display: inline-block;\">ego</span> <span style=\"display: inline-block;\">inpendo</span> <span style=\"display: inline-block;\">laetitiae</span> <span style=\"display: inline-block;\">,</span> <span style=\"display: inline-block;\">puto</span> <span style=\"display: inline-block;\">ambo</span> <span style=\"display: inline-block;\">proficimus</span> <span style=\"display: inline-block;\">.</span></p>"
      ],
      "text/plain": [
       "<IPython.core.display.HTML object>"
      ]
     },
     "metadata": {},
     "output_type": "display_data"
    },
    {
     "data": {
      "text/html": [
       "<p><b style=\"text-decoration: line-through;;\">negative</b> -> <span style=\"display: inline-block;\">mortales</span> <span style=\"display: inline-block;\">miseri</span> <span style=\"display: inline-block;\">,</span> <span style=\"display: inline-block;\">querulum</span> <span style=\"display: inline-block;\">genus</span> <span style=\"display: inline-block;\">,</span> <span style=\"display: inline-block;\">impia</span> <span style=\"display: inline-block;\">tandem</span> <span style=\"display: inline-block;\">pectora</span> <span style=\"display: inline-block;\">mollitis</span> <span style=\"display: inline-block;\">mentibus</span> <span style=\"display: inline-block;\">exuite</span> <span style=\"display: inline-block;\">.</span></p>"
      ],
      "text/plain": [
       "<IPython.core.display.HTML object>"
      ]
     },
     "metadata": {},
     "output_type": "display_data"
    },
    {
     "data": {
      "text/html": [
       "<p><b style=\"text-decoration: line-through;;\">negative</b> -> <span style=\"display: inline-block;\">ut</span> <span style=\"display: inline-block;\">de</span> <span style=\"display: inline-block;\">ipsis</span> <span style=\"display: inline-block;\">principibus</span> <span style=\"display: inline-block;\">tenebrarum</span> <span style=\"display: inline-block;\">tali</span> <span style=\"display: inline-block;\">commixtum</span> <span style=\"display: inline-block;\">captis</span> <span style=\"display: inline-block;\">mundus</span> <span style=\"display: inline-block;\">fabricaretur</span> <span style=\"display: inline-block;\">.</span></p>"
      ],
      "text/plain": [
       "<IPython.core.display.HTML object>"
      ]
     },
     "metadata": {},
     "output_type": "display_data"
    },
    {
     "data": {
      "text/html": [
       "<p><b style=\"text-decoration: line-through;;\">negative</b> -> <span style=\"display: inline-block;\">omnia</span> <span style=\"display: inline-block;\">versa</span> <span style=\"display: inline-block;\">atque</span> <span style=\"display: inline-block;\">ignota</span> <span style=\"display: inline-block;\">videt</span> <span style=\"display: inline-block;\">dubitatque</span> <span style=\"display: inline-block;\">-que</span> <span style=\"display: inline-block;\">agnoscere</span> <span style=\"display: inline-block;\">matrem</span> <span style=\"display: inline-block;\">.</span></p>"
      ],
      "text/plain": [
       "<IPython.core.display.HTML object>"
      ]
     },
     "metadata": {},
     "output_type": "display_data"
    },
    {
     "data": {
      "text/html": [
       "<p><b style=\"text-decoration: line-through;;\">negative</b> -> <span style=\"display: inline-block;\">ibi</span> <span style=\"display: inline-block;\">amare</span> <span style=\"display: inline-block;\">occepi</span> <span style=\"display: inline-block;\">forma</span> <span style=\"display: inline-block;\">eximia</span> <span style=\"display: inline-block;\">mulierem</span> <span style=\"display: inline-block;\">.</span></p>"
      ],
      "text/plain": [
       "<IPython.core.display.HTML object>"
      ]
     },
     "metadata": {},
     "output_type": "display_data"
    },
    {
     "data": {
      "text/html": [
       "<p><b style=\"text-decoration: line-through;;\">positive</b> -> <span style=\"display: inline-block;\">Quo</span> <span style=\"display: inline-block;\">facto</span> <span style=\"display: inline-block;\">maturatae</span> <span style=\"display: inline-block;\">spei</span> <span style=\"display: inline-block;\">vesania</span> <span style=\"display: inline-block;\">praeceps</span> <span style=\"display: inline-block;\">promissae</span> <span style=\"display: inline-block;\">libidinis</span> <span style=\"display: inline-block;\">flagitat</span> <span style=\"display: inline-block;\">vadimonium</span></p>"
      ],
      "text/plain": [
       "<IPython.core.display.HTML object>"
      ]
     },
     "metadata": {},
     "output_type": "display_data"
    },
    {
     "data": {
      "text/html": [
       "<p><b style=\"text-decoration: line-through;;\">negative</b> -> <span style=\"display: inline-block;\">de</span> <span style=\"display: inline-block;\">moribus</span> <span style=\"display: inline-block;\">autem</span> <span style=\"display: inline-block;\">uestris</span> <span style=\"display: inline-block;\">plene</span> <span style=\"display: inline-block;\">scire</span> <span style=\"display: inline-block;\">possunt</span> <span style=\"display: inline-block;\">,</span> <span style=\"display: inline-block;\">qui</span> <span style=\"display: inline-block;\">electi</span> <span style=\"display: inline-block;\">uestri</span> <span style=\"display: inline-block;\">sunt</span> <span style=\"display: inline-block;\">.</span></p>"
      ],
      "text/plain": [
       "<IPython.core.display.HTML object>"
      ]
     },
     "metadata": {},
     "output_type": "display_data"
    },
    {
     "data": {
      "text/html": [
       "<p><b style=\"text-decoration: line-through;;\">negative</b> -> <span style=\"display: inline-block;\">\"</span> <span style=\"display: inline-block;\">si</span> <span style=\"display: inline-block;\">\"</span> <span style=\"display: inline-block;\">pro</span> <span style=\"display: inline-block;\">siquidem</span> <span style=\"display: inline-block;\">,</span> <span style=\"display: inline-block;\">\"</span> <span style=\"display: inline-block;\">caue</span> <span style=\"display: inline-block;\">\"</span> <span style=\"display: inline-block;\">autem</span> <span style=\"display: inline-block;\">pro</span> <span style=\"display: inline-block;\">uide</span> <span style=\"display: inline-block;\">ne</span> <span style=\"display: inline-block;\">.</span></p>"
      ],
      "text/plain": [
       "<IPython.core.display.HTML object>"
      ]
     },
     "metadata": {},
     "output_type": "display_data"
    },
    {
     "data": {
      "text/html": [
       "<p><b style=\"text-decoration: line-through;;\">positive</b> -> <span style=\"display: inline-block;\">Praefocationem</span> <span style=\"display: inline-block;\">matricis</span> <span style=\"display: inline-block;\">sequitur</span> <span style=\"display: inline-block;\">subitus</span> <span style=\"display: inline-block;\">casus</span> <span style=\"display: inline-block;\">,</span> <span style=\"display: inline-block;\">uocis</span> <span style=\"display: inline-block;\">amputatio</span> <span style=\"display: inline-block;\">ut</span> <span style=\"display: inline-block;\">obmutescant</span> <span style=\"display: inline-block;\">,</span> <span style=\"display: inline-block;\">et</span> <span style=\"display: inline-block;\">apprehensio</span> <span style=\"display: inline-block;\">sensus</span> <span style=\"display: inline-block;\">,</span> <span style=\"display: inline-block;\">dentium</span> <span style=\"display: inline-block;\">confixio</span> <span style=\"display: inline-block;\">et</span> <span style=\"display: inline-block;\">stridor</span> <span style=\"display: inline-block;\">rapidus</span> <span style=\"display: inline-block;\">ita</span> <span style=\"display: inline-block;\">ut</span> <span style=\"display: inline-block;\">accessionis</span> <span style=\"display: inline-block;\">tempore</span> <span style=\"display: inline-block;\">una</span> <span style=\"display: inline-block;\">pars</span> <span style=\"display: inline-block;\">oris</span> <span style=\"display: inline-block;\">ad</span> <span style=\"display: inline-block;\">alteram</span> <span style=\"display: inline-block;\">partem</span> <span style=\"display: inline-block;\">conduci</span> <span style=\"display: inline-block;\">uideatur</span></p>"
      ],
      "text/plain": [
       "<IPython.core.display.HTML object>"
      ]
     },
     "metadata": {},
     "output_type": "display_data"
    },
    {
     "data": {
      "text/html": [
       "<p><b style=\"text-decoration: line-through;;\">negative</b> -> <span style=\"display: inline-block;\">errat</span> <span style=\"display: inline-block;\">,</span> <span style=\"display: inline-block;\">quisque</span> <span style=\"display: inline-block;\">animas</span> <span style=\"display: inline-block;\">nostrorum</span> <span style=\"display: inline-block;\">fine</span> <span style=\"display: inline-block;\">oculorum</span> <span style=\"display: inline-block;\">aestimat</span> <span style=\"display: inline-block;\">,</span> <span style=\"display: inline-block;\">involvit</span> <span style=\"display: inline-block;\">vitreo</span> <span style=\"display: inline-block;\">quos</span> <span style=\"display: inline-block;\">lucida</span> <span style=\"display: inline-block;\">palla</span> <span style=\"display: inline-block;\">obice</span> <span style=\"display: inline-block;\">,</span> <span style=\"display: inline-block;\">quis</span> <span style=\"display: inline-block;\">speculum</span> <span style=\"display: inline-block;\">concreta</span> <span style=\"display: inline-block;\">coagula</span> <span style=\"display: inline-block;\">texunt</span> <span style=\"display: inline-block;\">inpediuntque</span> <span style=\"display: inline-block;\">-que</span> <span style=\"display: inline-block;\">vagas</span> <span style=\"display: inline-block;\">obducto</span> <span style=\"display: inline-block;\">umore</span> <span style=\"display: inline-block;\">fenestras</span> <span style=\"display: inline-block;\">.</span></p>"
      ],
      "text/plain": [
       "<IPython.core.display.HTML object>"
      ]
     },
     "metadata": {},
     "output_type": "display_data"
    },
    {
     "data": {
      "text/html": [
       "<p><b style=\"text-decoration: line-through;;\">negative</b> -> <span style=\"display: inline-block;\">Sanguine</span> <span style=\"display: inline-block;\">probra</span> <span style=\"display: inline-block;\">luas</span> <span style=\"display: inline-block;\">,</span> <span style=\"display: inline-block;\">ut</span> <span style=\"display: inline-block;\">avo</span> <span style=\"display: inline-block;\">genitore</span> <span style=\"display: inline-block;\">creatus</span> <span style=\"display: inline-block;\">,</span> <span style=\"display: inline-block;\">Per</span> <span style=\"display: inline-block;\">facinus</span> <span style=\"display: inline-block;\">soror</span> <span style=\"display: inline-block;\">est</span> <span style=\"display: inline-block;\">cui</span> <span style=\"display: inline-block;\">sua</span> <span style=\"display: inline-block;\">facta</span> <span style=\"display: inline-block;\">parens</span> <span style=\"display: inline-block;\">.</span></p>"
      ],
      "text/plain": [
       "<IPython.core.display.HTML object>"
      ]
     },
     "metadata": {},
     "output_type": "display_data"
    },
    {
     "data": {
      "text/html": [
       "<p><b style=\"text-decoration: line-through;;\">positive</b> -> <span style=\"display: inline-block;\">arietem</span> <span style=\"display: inline-block;\">nobilem</span> <span style=\"display: inline-block;\">bene</span> <span style=\"display: inline-block;\">grandibus</span> <span style=\"display: inline-block;\">cum</span> <span style=\"display: inline-block;\">testiculis</span> <span style=\"display: inline-block;\">deligit</span> <span style=\"display: inline-block;\">,</span> <span style=\"display: inline-block;\">exsecat</span> <span style=\"display: inline-block;\">hos</span> <span style=\"display: inline-block;\">ipse</span> <span style=\"display: inline-block;\">et</span> <span style=\"display: inline-block;\">lanato</span> <span style=\"display: inline-block;\">exuit</span> <span style=\"display: inline-block;\">ex</span> <span style=\"display: inline-block;\">folliculi</span> <span style=\"display: inline-block;\">tegmine</span> <span style=\"display: inline-block;\">.</span></p>"
      ],
      "text/plain": [
       "<IPython.core.display.HTML object>"
      ]
     },
     "metadata": {},
     "output_type": "display_data"
    },
    {
     "data": {
      "text/html": [
       "<p><b style=\"text-decoration: line-through;;\">positive</b> -> <span style=\"display: inline-block;\">Tacta</span> <span style=\"display: inline-block;\">tamen</span> <span style=\"display: inline-block;\">veluti</span> <span style=\"display: inline-block;\">gelida</span> <span style=\"display: inline-block;\">mea</span> <span style=\"display: inline-block;\">membra</span> <span style=\"display: inline-block;\">cicuta</span></p>"
      ],
      "text/plain": [
       "<IPython.core.display.HTML object>"
      ]
     },
     "metadata": {},
     "output_type": "display_data"
    },
    {
     "data": {
      "text/html": [
       "<p><b style=\"text-decoration: line-through;;\">negative</b> -> <span style=\"display: inline-block;\">nam</span> <span style=\"display: inline-block;\">et</span> <span style=\"display: inline-block;\">crucifixus</span> <span style=\"display: inline-block;\">praeuento</span> <span style=\"display: inline-block;\">carnificis</span> <span style=\"display: inline-block;\">officio</span> <span style=\"display: inline-block;\">spiritum</span> <span style=\"display: inline-block;\">sponte</span> <span style=\"display: inline-block;\">dimisit</span> <span style=\"display: inline-block;\">et</span> <span style=\"display: inline-block;\">die</span> <span style=\"display: inline-block;\">tertio</span> <span style=\"display: inline-block;\">rursus</span> <span style=\"display: inline-block;\">a</span> <span style=\"display: inline-block;\">mortuis</span> <span style=\"display: inline-block;\">sponte</span> <span style=\"display: inline-block;\">surrexit</span> <span style=\"display: inline-block;\">.</span></p>"
      ],
      "text/plain": [
       "<IPython.core.display.HTML object>"
      ]
     },
     "metadata": {},
     "output_type": "display_data"
    },
    {
     "data": {
      "text/html": [
       "<p><b style=\"text-decoration: line-through;;\">negative</b> -> <span style=\"display: inline-block;\">GORD.</span> <span style=\"display: inline-block;\">A.</span> <span style=\"display: inline-block;\">VICIANO</span> <span style=\"display: inline-block;\">MIL.</span> <span style=\"display: inline-block;\">A</span> <span style=\"display: inline-block;\">239</span> <span style=\"display: inline-block;\">III</span> <span style=\"display: inline-block;\">ID.</span> <span style=\"display: inline-block;\">IAN.</span> <span style=\"display: inline-block;\">GORDIANO</span> <span style=\"display: inline-block;\">A.</span> <span style=\"display: inline-block;\">ET</span> <span style=\"display: inline-block;\">AVIOLA</span> <span style=\"display: inline-block;\">CONSS.</span> <span style=\"display: inline-block;\">Non</span> <span style=\"display: inline-block;\">hoc</span> <span style=\"display: inline-block;\">minus</span> <span style=\"display: inline-block;\">sententia</span> <span style=\"display: inline-block;\">adversus</span> <span style=\"display: inline-block;\">te</span> <span style=\"display: inline-block;\">lata</span> <span style=\"display: inline-block;\">iuris</span> <span style=\"display: inline-block;\">substiti</span> <span style=\"display: inline-block;\">,</span> <span style=\"display: inline-block;\">quod</span> <span style=\"display: inline-block;\">adversaria</span> <span style=\"display: inline-block;\">tua</span> <span style=\"display: inline-block;\">minor</span> <span style=\"display: inline-block;\">viginti</span> <span style=\"display: inline-block;\">quinque</span> <span style=\"display: inline-block;\">annis</span> <span style=\"display: inline-block;\">constituta</span> <span style=\"display: inline-block;\">causam</span> <span style=\"display: inline-block;\">suam</span> <span style=\"display: inline-block;\">marito</span> <span style=\"display: inline-block;\">sine</span> <span style=\"display: inline-block;\">curatore</span> <span style=\"display: inline-block;\">agendam</span> <span style=\"display: inline-block;\">mandavit</span> <span style=\"display: inline-block;\">.</span></p>"
      ],
      "text/plain": [
       "<IPython.core.display.HTML object>"
      ]
     },
     "metadata": {},
     "output_type": "display_data"
    },
    {
     "data": {
      "text/html": [
       "<p><b style=\"text-decoration: line-through;;\">positive</b> -> <span style=\"display: inline-block;\">:</span> <span style=\"display: inline-block;\">uno</span> <span style=\"display: inline-block;\">in</span> <span style=\"display: inline-block;\">Septimio</span> <span style=\"display: inline-block;\">fidelis</span> <span style=\"display: inline-block;\">Acme</span> <span style=\"display: inline-block;\">facit</span> <span style=\"display: inline-block;\">delicias</span> <span style=\"display: inline-block;\">libidinesque</span> <span style=\"display: inline-block;\">-que</span> <span style=\"display: inline-block;\">.</span></p>"
      ],
      "text/plain": [
       "<IPython.core.display.HTML object>"
      ]
     },
     "metadata": {},
     "output_type": "display_data"
    },
    {
     "data": {
      "text/html": [
       "<p><b style=\"text-decoration: line-through;;\">negative</b> -> <span style=\"display: inline-block;\">et</span> <span style=\"display: inline-block;\">timebunt</span> <span style=\"display: inline-block;\">fortes</span> <span style=\"display: inline-block;\">tui</span> <span style=\"display: inline-block;\">a</span> <span style=\"display: inline-block;\">meridie</span> <span style=\"display: inline-block;\">ut</span> <span style=\"display: inline-block;\">intereat</span> <span style=\"display: inline-block;\">vir</span> <span style=\"display: inline-block;\">de</span> <span style=\"display: inline-block;\">monte</span> <span style=\"display: inline-block;\">Esau</span></p>"
      ],
      "text/plain": [
       "<IPython.core.display.HTML object>"
      ]
     },
     "metadata": {},
     "output_type": "display_data"
    },
    {
     "data": {
      "text/html": [
       "<p><b style=\"text-decoration: line-through;;\">negative</b> -> <span style=\"display: inline-block;\">plus</span> <span style=\"display: inline-block;\">enim</span> <span style=\"display: inline-block;\">restituendo</span> <span style=\"display: inline-block;\">deerit</span> <span style=\"display: inline-block;\">ex</span> <span style=\"display: inline-block;\">eo</span> <span style=\"display: inline-block;\">,</span> <span style=\"display: inline-block;\">quod</span> <span style=\"display: inline-block;\">cupit</span> <span style=\"display: inline-block;\">,</span> <span style=\"display: inline-block;\">quam</span> <span style=\"display: inline-block;\">exsuli</span> <span style=\"display: inline-block;\">ex</span> <span style=\"display: inline-block;\">eo</span> <span style=\"display: inline-block;\">,</span> <span style=\"display: inline-block;\">quod</span> <span style=\"display: inline-block;\">habuit</span> <span style=\"display: inline-block;\">.</span></p>"
      ],
      "text/plain": [
       "<IPython.core.display.HTML object>"
      ]
     },
     "metadata": {},
     "output_type": "display_data"
    },
    {
     "data": {
      "text/html": [
       "<p><b style=\"text-decoration: line-through;;\">positive</b> -> <span style=\"display: inline-block;\">sin</span> <span style=\"display: inline-block;\">uero</span> <span style=\"display: inline-block;\">ad</span> <span style=\"display: inline-block;\">intestina</span> <span style=\"display: inline-block;\">eruptio</span> <span style=\"display: inline-block;\">peruenerit</span> <span style=\"display: inline-block;\">,</span> <span style=\"display: inline-block;\">quo</span> <span style=\"display: inline-block;\">per</span> <span style=\"display: inline-block;\">podicem</span> <span style=\"display: inline-block;\">exitum</span> <span style=\"display: inline-block;\">habeat</span> <span style=\"display: inline-block;\">,</span> <span style=\"display: inline-block;\">cum</span> <span style=\"display: inline-block;\">supradictis</span> <span style=\"display: inline-block;\">communiter</span> <span style=\"display: inline-block;\">erunt</span> <span style=\"display: inline-block;\">adhibenda</span> <span style=\"display: inline-block;\">,</span> <span style=\"display: inline-block;\">quae</span> <span style=\"display: inline-block;\">uentris</span> <span style=\"display: inline-block;\">officium</span> <span style=\"display: inline-block;\">non</span> <span style=\"display: inline-block;\">densent</span> <span style=\"display: inline-block;\">neque</span> <span style=\"display: inline-block;\">plurimum</span> <span style=\"display: inline-block;\">laxent</span> <span style=\"display: inline-block;\">.</span></p>"
      ],
      "text/plain": [
       "<IPython.core.display.HTML object>"
      ]
     },
     "metadata": {},
     "output_type": "display_data"
    },
    {
     "data": {
      "text/html": [
       "<p><b style=\"text-decoration: line-through;;\">negative</b> -> <span style=\"display: inline-block;\">Nec</span> <span style=\"display: inline-block;\">gladio</span> <span style=\"display: inline-block;\">metimus</span> <span style=\"display: inline-block;\">nec</span> <span style=\"display: inline-block;\">clausis</span> <span style=\"display: inline-block;\">oppida</span> <span style=\"display: inline-block;\">muris</span> <span style=\"display: inline-block;\">Bella</span> <span style=\"display: inline-block;\">tacenda</span> <span style=\"display: inline-block;\">parant</span> <span style=\"display: inline-block;\">,</span> <span style=\"display: inline-block;\">nullo</span> <span style=\"display: inline-block;\">iam</span> <span style=\"display: inline-block;\">noxia</span> <span style=\"display: inline-block;\">partu</span> <span style=\"display: inline-block;\">Femina</span> <span style=\"display: inline-block;\">quaecumque</span> <span style=\"display: inline-block;\">est</span> <span style=\"display: inline-block;\">hostem</span> <span style=\"display: inline-block;\">parit</span> <span style=\"display: inline-block;\">.</span></p>"
      ],
      "text/plain": [
       "<IPython.core.display.HTML object>"
      ]
     },
     "metadata": {},
     "output_type": "display_data"
    },
    {
     "data": {
      "text/html": [
       "<p><b style=\"text-decoration: line-through;;\">negative</b> -> <span style=\"display: inline-block;\">mandat</span> <span style=\"display: inline-block;\">ut</span> <span style=\"display: inline-block;\">Libonem</span> <span style=\"display: inline-block;\">de</span> <span style=\"display: inline-block;\">concilianda</span> <span style=\"display: inline-block;\">pace</span> <span style=\"display: inline-block;\">hortetur</span> <span style=\"display: inline-block;\">;</span></p>"
      ],
      "text/plain": [
       "<IPython.core.display.HTML object>"
      ]
     },
     "metadata": {},
     "output_type": "display_data"
    },
    {
     "data": {
      "text/html": [
       "<p><b style=\"text-decoration: line-through;;\">negative</b> -> <span style=\"display: inline-block;\">effluis</span> <span style=\"display: inline-block;\">amens</span> <span style=\"display: inline-block;\">,</span> <span style=\"display: inline-block;\">contemnere</span> <span style=\"display: inline-block;\">:</span> <span style=\"display: inline-block;\">sonat</span> <span style=\"display: inline-block;\">vitium</span> <span style=\"display: inline-block;\">percussa</span> <span style=\"display: inline-block;\">maligne</span> <span style=\"display: inline-block;\">respondet</span> <span style=\"display: inline-block;\">viridi</span> <span style=\"display: inline-block;\">non</span> <span style=\"display: inline-block;\">cocta</span> <span style=\"display: inline-block;\">fidelia</span> <span style=\"display: inline-block;\">limo</span> <span style=\"display: inline-block;\">.</span></p>"
      ],
      "text/plain": [
       "<IPython.core.display.HTML object>"
      ]
     },
     "metadata": {},
     "output_type": "display_data"
    },
    {
     "data": {
      "text/html": [
       "<p><b style=\"text-decoration: line-through;;\">negative</b> -> <span style=\"display: inline-block;\">At</span> <span style=\"display: inline-block;\">si</span> <span style=\"display: inline-block;\">uehementes</span> <span style=\"display: inline-block;\">fuerint</span> <span style=\"display: inline-block;\">dolores</span> <span style=\"display: inline-block;\">,</span> <span style=\"display: inline-block;\">erit</span> <span style=\"display: inline-block;\">adhibenda</span> <span style=\"display: inline-block;\">phlebotomia</span> <span style=\"display: inline-block;\">dimissionis</span> <span style=\"display: inline-block;\">tempore</span> <span style=\"display: inline-block;\">atque</span> <span style=\"display: inline-block;\">ante</span> <span style=\"display: inline-block;\">tertium</span> <span style=\"display: inline-block;\">diem</span> <span style=\"display: inline-block;\">,</span> <span style=\"display: inline-block;\">si</span> <span style=\"display: inline-block;\">passio</span> <span style=\"display: inline-block;\">coegerit</span> <span style=\"display: inline-block;\">,</span> <span style=\"display: inline-block;\">si</span> <span style=\"display: inline-block;\">minus</span> <span style=\"display: inline-block;\">,</span> <span style=\"display: inline-block;\">in</span> <span style=\"display: inline-block;\">ipsa</span> <span style=\"display: inline-block;\">diatrito</span> <span style=\"display: inline-block;\">aut</span> <span style=\"display: inline-block;\">post</span> <span style=\"display: inline-block;\">ipsam</span> <span style=\"display: inline-block;\">,</span> <span style=\"display: inline-block;\">uiribus</span> <span style=\"display: inline-block;\">permittentibus</span> <span style=\"display: inline-block;\">.</span></p>"
      ],
      "text/plain": [
       "<IPython.core.display.HTML object>"
      ]
     },
     "metadata": {},
     "output_type": "display_data"
    },
    {
     "data": {
      "text/html": [
       "<p><b style=\"text-decoration: line-through;;\">negative</b> -> <span style=\"display: inline-block;\">Quis</span> <span style=\"display: inline-block;\">est</span> <span style=\"display: inline-block;\">iste</span> <span style=\"display: inline-block;\">qui</span> <span style=\"display: inline-block;\">supra</span> <span style=\"display: inline-block;\">flentem</span> <span style=\"display: inline-block;\">patrem</span> <span style=\"display: inline-block;\">censuram</span> <span style=\"display: inline-block;\">lugendi</span> <span style=\"display: inline-block;\">postulat</span> <span style=\"display: inline-block;\">?</span></p>"
      ],
      "text/plain": [
       "<IPython.core.display.HTML object>"
      ]
     },
     "metadata": {},
     "output_type": "display_data"
    },
    {
     "data": {
      "text/html": [
       "<p><b style=\"text-decoration: line-through;;\">negative</b> -> <span style=\"display: inline-block;\">Est</span> <span style=\"display: inline-block;\">locus</span> <span style=\"display: inline-block;\">tertio</span> <span style=\"display: inline-block;\">miliario</span> <span style=\"display: inline-block;\">de</span> <span style=\"display: inline-block;\">Hierusalem</span> <span style=\"display: inline-block;\">ciuitate</span> <span style=\"display: inline-block;\">.</span></p>"
      ],
      "text/plain": [
       "<IPython.core.display.HTML object>"
      ]
     },
     "metadata": {},
     "output_type": "display_data"
    },
    {
     "data": {
      "text/html": [
       "<p><b style=\"text-decoration: line-through;;\">negative</b> -> <span style=\"display: inline-block;\">Aeneadum</span> <span style=\"display: inline-block;\">genetrix</span> <span style=\"display: inline-block;\">vicino</span> <span style=\"display: inline-block;\">nomen</span> <span style=\"display: inline-block;\">Aprili</span> <span style=\"display: inline-block;\">das</span> <span style=\"display: inline-block;\">Venus</span> <span style=\"display: inline-block;\">:</span> <span style=\"display: inline-block;\">est</span> <span style=\"display: inline-block;\">Marti</span> <span style=\"display: inline-block;\">namque</span> <span style=\"display: inline-block;\">Aphrodita</span> <span style=\"display: inline-block;\">comes</span> <span style=\"display: inline-block;\">.</span></p>"
      ],
      "text/plain": [
       "<IPython.core.display.HTML object>"
      ]
     },
     "metadata": {},
     "output_type": "display_data"
    },
    {
     "data": {
      "text/html": [
       "<p><b style=\"text-decoration: line-through;;\">negative</b> -> <span style=\"display: inline-block;\">aut</span> <span style=\"display: inline-block;\">si</span> <span style=\"display: inline-block;\">meretrix</span> <span style=\"display: inline-block;\">non</span> <span style=\"display: inline-block;\">inueniatur</span> <span style=\"display: inline-block;\">in</span> <span style=\"display: inline-block;\">fornice</span> <span style=\"display: inline-block;\">,</span> <span style=\"display: inline-block;\">ideo</span> <span style=\"display: inline-block;\">qui</span> <span style=\"display: inline-block;\">eam</span> <span style=\"display: inline-block;\">quaerit</span> <span style=\"display: inline-block;\">,</span> <span style=\"display: inline-block;\">non</span> <span style=\"display: inline-block;\">fornicatur</span> <span style=\"display: inline-block;\">in</span> <span style=\"display: inline-block;\">mente</span> <span style=\"display: inline-block;\">?</span></p>"
      ],
      "text/plain": [
       "<IPython.core.display.HTML object>"
      ]
     },
     "metadata": {},
     "output_type": "display_data"
    },
    {
     "data": {
      "text/html": [
       "<p><b style=\"text-decoration: line-through;;\">negative</b> -> <span style=\"display: inline-block;\">Lupus</span> <span style=\"display: inline-block;\">numquam</span> <span style=\"display: inline-block;\">osculatur</span> <span style=\"display: inline-block;\">agnum</span> <span style=\"display: inline-block;\">.</span></p>"
      ],
      "text/plain": [
       "<IPython.core.display.HTML object>"
      ]
     },
     "metadata": {},
     "output_type": "display_data"
    },
    {
     "data": {
      "text/html": [
       "<p><b style=\"text-decoration: line-through;;\">negative</b> -> <span style=\"display: inline-block;\">Cleostrata</span> <span style=\"display: inline-block;\">Hoc</span> <span style=\"display: inline-block;\">erat</span> <span style=\"display: inline-block;\">ecastor</span> <span style=\"display: inline-block;\">quod</span> <span style=\"display: inline-block;\">me</span> <span style=\"display: inline-block;\">vir</span> <span style=\"display: inline-block;\">tanto</span> <span style=\"display: inline-block;\">opere</span> <span style=\"display: inline-block;\">orabat</span> <span style=\"display: inline-block;\">meus</span> <span style=\"display: inline-block;\">,</span> <span style=\"display: inline-block;\">ut</span> <span style=\"display: inline-block;\">properarem</span> <span style=\"display: inline-block;\">arcessere</span> <span style=\"display: inline-block;\">hanc</span> <span style=\"display: inline-block;\">huc</span> <span style=\"display: inline-block;\">ad</span> <span style=\"display: inline-block;\">me</span> <span style=\"display: inline-block;\">vicinam</span> <span style=\"display: inline-block;\">meam</span> <span style=\"display: inline-block;\">,</span> <span style=\"display: inline-block;\">liberae</span> <span style=\"display: inline-block;\">aedes</span> <span style=\"display: inline-block;\">ut</span> <span style=\"display: inline-block;\">sibi</span> <span style=\"display: inline-block;\">essent</span> <span style=\"display: inline-block;\">,</span> <span style=\"display: inline-block;\">Casinam</span> <span style=\"display: inline-block;\">quo</span> <span style=\"display: inline-block;\">deducerent</span> <span style=\"display: inline-block;\">.</span></p>"
      ],
      "text/plain": [
       "<IPython.core.display.HTML object>"
      ]
     },
     "metadata": {},
     "output_type": "display_data"
    },
    {
     "data": {
      "text/html": [
       "<p><b style=\"text-decoration: line-through;;\">negative</b> -> <span style=\"display: inline-block;\">Tandem</span> <span style=\"display: inline-block;\">adiit</span> <span style=\"display: inline-block;\">Hypseus</span> <span style=\"display: inline-block;\">capulumque</span> <span style=\"display: inline-block;\">-que</span> <span style=\"display: inline-block;\">in</span> <span style=\"display: inline-block;\">morte</span> <span style=\"display: inline-block;\">tenenti</span> <span style=\"display: inline-block;\">extrahit</span> <span style=\"display: inline-block;\">et</span> <span style=\"display: inline-block;\">torvos</span> <span style=\"display: inline-block;\">laxavit</span> <span style=\"display: inline-block;\">casside</span> <span style=\"display: inline-block;\">vultus</span> <span style=\"display: inline-block;\">;</span></p>"
      ],
      "text/plain": [
       "<IPython.core.display.HTML object>"
      ]
     },
     "metadata": {},
     "output_type": "display_data"
    },
    {
     "data": {
      "text/html": [
       "<p><b style=\"text-decoration: line-through;;\">negative</b> -> <span style=\"display: inline-block;\">ubi</span> <span style=\"display: inline-block;\">postquam</span> <span style=\"display: inline-block;\">solitudinem</span> <span style=\"display: inline-block;\">intellexit</span> <span style=\"display: inline-block;\">,</span> <span style=\"display: inline-block;\">more</span> <span style=\"display: inline-block;\">ingeni</span> <span style=\"display: inline-block;\">humani</span> <span style=\"display: inline-block;\">cupido</span> <span style=\"display: inline-block;\">difficilia</span> <span style=\"display: inline-block;\">faciendi</span> <span style=\"display: inline-block;\">animum</span> <span style=\"display: inline-block;\">alio</span> <span style=\"display: inline-block;\">vertit</span> <span style=\"display: inline-block;\">.</span></p>"
      ],
      "text/plain": [
       "<IPython.core.display.HTML object>"
      ]
     },
     "metadata": {},
     "output_type": "display_data"
    },
    {
     "data": {
      "text/html": [
       "<p><b style=\"text-decoration: line-through;;\">negative</b> -> <span style=\"display: inline-block;\">\"</span> <span style=\"display: inline-block;\">parva</span> <span style=\"display: inline-block;\">sunt</span> <span style=\"display: inline-block;\">\"</span> <span style=\"display: inline-block;\">inquit</span> <span style=\"display: inline-block;\">\"</span> <span style=\"display: inline-block;\">mala</span> <span style=\"display: inline-block;\">et</span> <span style=\"display: inline-block;\">vile</span> <span style=\"display: inline-block;\">telum</span> <span style=\"display: inline-block;\">est</span> <span style=\"display: inline-block;\">.</span></p>"
      ],
      "text/plain": [
       "<IPython.core.display.HTML object>"
      ]
     },
     "metadata": {},
     "output_type": "display_data"
    },
    {
     "data": {
      "text/html": [
       "<p><b style=\"text-decoration: line-through;;\">negative</b> -> <span style=\"display: inline-block;\">clarum</span> <span style=\"display: inline-block;\">hac</span> <span style=\"display: inline-block;\">fore</span> <span style=\"display: inline-block;\">imagine</span> <span style=\"display: inline-block;\">Scaptium</span> <span style=\"display: inline-block;\">;</span></p>"
      ],
      "text/plain": [
       "<IPython.core.display.HTML object>"
      ]
     },
     "metadata": {},
     "output_type": "display_data"
    },
    {
     "data": {
      "text/html": [
       "<p><b style=\"text-decoration: line-through;;\">negative</b> -> <span style=\"display: inline-block;\">dam</span> <span style=\"display: inline-block;\">,</span> <span style=\"display: inline-block;\">quae</span> <span style=\"display: inline-block;\">se</span> <span style=\"display: inline-block;\">Alanis</span> <span style=\"display: inline-block;\">adiunxerant</span> <span style=\"display: inline-block;\">.</span></p>"
      ],
      "text/plain": [
       "<IPython.core.display.HTML object>"
      ]
     },
     "metadata": {},
     "output_type": "display_data"
    },
    {
     "data": {
      "text/html": [
       "<p><b style=\"text-decoration: line-through;;\">negative</b> -> <span style=\"display: inline-block;\">Licinius</span> <span style=\"display: inline-block;\">et</span> <span style=\"display: inline-block;\">Valens</span> <span style=\"display: inline-block;\">credentes</span> <span style=\"display: inline-block;\">Constantinum</span> <span style=\"display: inline-block;\">,</span> <span style=\"display: inline-block;\">quod</span> <span style=\"display: inline-block;\">et</span> <span style=\"display: inline-block;\">verum</span> <span style=\"display: inline-block;\">erat</span> <span style=\"display: inline-block;\">,</span> <span style=\"display: inline-block;\">ad</span> <span style=\"display: inline-block;\">persequendum</span> <span style=\"display: inline-block;\">longius</span> <span style=\"display: inline-block;\">ad</span> <span style=\"display: inline-block;\">Byzantium</span> <span style=\"display: inline-block;\">processurum</span> <span style=\"display: inline-block;\">,</span> <span style=\"display: inline-block;\">flexi</span> <span style=\"display: inline-block;\">in</span> <span style=\"display: inline-block;\">partem</span> <span style=\"display: inline-block;\">Beroeam</span> <span style=\"display: inline-block;\">concesserunt</span> <span style=\"display: inline-block;\">.</span></p>"
      ],
      "text/plain": [
       "<IPython.core.display.HTML object>"
      ]
     },
     "metadata": {},
     "output_type": "display_data"
    },
    {
     "data": {
      "text/html": [
       "<p><b style=\"text-decoration: line-through;;\">negative</b> -> <span style=\"display: inline-block;\">Cum</span> <span style=\"display: inline-block;\">autem</span> <span style=\"display: inline-block;\">omnia</span> <span style=\"display: inline-block;\">officia</span> <span style=\"display: inline-block;\">a</span> <span style=\"display: inline-block;\">principiis</span> <span style=\"display: inline-block;\">naturae</span> <span style=\"display: inline-block;\">proficiscantur</span> <span style=\"display: inline-block;\">,</span> <span style=\"display: inline-block;\">ab</span> <span style=\"display: inline-block;\">isdem</span> <span style=\"display: inline-block;\">necesse</span> <span style=\"display: inline-block;\">est</span> <span style=\"display: inline-block;\">proficisci</span> <span style=\"display: inline-block;\">ipsam</span> <span style=\"display: inline-block;\">sapientiam</span> <span style=\"display: inline-block;\">.</span></p>"
      ],
      "text/plain": [
       "<IPython.core.display.HTML object>"
      ]
     },
     "metadata": {},
     "output_type": "display_data"
    },
    {
     "data": {
      "text/html": [
       "<p><b style=\"text-decoration: line-through;;\">positive</b> -> <span style=\"display: inline-block;\">Masturbabantur</span> <span style=\"display: inline-block;\">Phrygii</span> <span style=\"display: inline-block;\">post</span> <span style=\"display: inline-block;\">ostia</span> <span style=\"display: inline-block;\">servi</span></p>"
      ],
      "text/plain": [
       "<IPython.core.display.HTML object>"
      ]
     },
     "metadata": {},
     "output_type": "display_data"
    },
    {
     "name": "stdout",
     "output_type": "stream",
     "text": [
      "<div>    <p><b style=\"text-decoration: line-through;;\">negative</b> -> <span style=\"display: inline-block;\">Magis</span> <span style=\"display: inline-block;\">amabunt</span> <span style=\"display: inline-block;\">,</span> <span style=\"display: inline-block;\">quom</span> <span style=\"display: inline-block;\">me</span> <span style=\"display: inline-block;\">videbunt</span> <span style=\"display: inline-block;\">gratiam</span> <span style=\"display: inline-block;\">referre</span> <span style=\"display: inline-block;\">bene</span> <span style=\"display: inline-block;\">merenti</span> <span style=\"display: inline-block;\">.</span></p>\n",
      "    <p><b style=\"text-decoration: line-through;;\">positive</b> -> <span style=\"display: inline-block;\">A.</span> <span style=\"display: inline-block;\">Perii</span> <span style=\"display: inline-block;\">miser</span> <span style=\"display: inline-block;\">,</span> <span style=\"display: inline-block;\">quia</span> <span style=\"display: inline-block;\">pudicitiae</span> <span style=\"display: inline-block;\">huius</span> <span style=\"display: inline-block;\">vitium</span> <span style=\"display: inline-block;\">me</span> <span style=\"display: inline-block;\">hinc</span> <span style=\"display: inline-block;\">absente</span> <span style=\"display: inline-block;\">est</span> <span style=\"display: inline-block;\">additum</span> <span style=\"display: inline-block;\">.</span></p>\n",
      "    <p><b style=\"text-decoration: line-through;;\">positive</b> -> <span style=\"display: inline-block;\">Os</span> <span style=\"display: inline-block;\">tibi</span> <span style=\"display: inline-block;\">percisum</span> <span style=\"display: inline-block;\">quanto</span> <span style=\"display: inline-block;\">non</span> <span style=\"display: inline-block;\">ipse</span> <span style=\"display: inline-block;\">Latinus</span> <span style=\"display: inline-block;\">Vilia</span> <span style=\"display: inline-block;\">Panniculi</span> <span style=\"display: inline-block;\">percutit</span> <span style=\"display: inline-block;\">ora</span> <span style=\"display: inline-block;\">sono</span> <span style=\"display: inline-block;\">:</span> <span style=\"display: inline-block;\">Quodque</span> <span style=\"display: inline-block;\">-que</span> <span style=\"display: inline-block;\">magis</span> <span style=\"display: inline-block;\">mirum</span> <span style=\"display: inline-block;\">est</span> <span style=\"display: inline-block;\">,</span> <span style=\"display: inline-block;\">auctorem</span> <span style=\"display: inline-block;\">criminis</span> <span style=\"display: inline-block;\">huius</span> <span style=\"display: inline-block;\">Caecilium</span> <span style=\"display: inline-block;\">tota</span> <span style=\"display: inline-block;\">rumor</span> <span style=\"display: inline-block;\">in</span> <span style=\"display: inline-block;\">urbe</span> <span style=\"display: inline-block;\">sonat</span> <span style=\"display: inline-block;\">.</span></p>\n",
      "    <p><b style=\"text-decoration: line-through;;\">negative</b> -> <span style=\"display: inline-block;\">sed</span> <span style=\"display: inline-block;\">tum</span> <span style=\"display: inline-block;\">afuit</span> <span style=\"display: inline-block;\">,</span> <span style=\"display: inline-block;\">eoque</span> <span style=\"display: inline-block;\">-que</span> <span style=\"display: inline-block;\">peius</span> <span style=\"display: inline-block;\">res</span> <span style=\"display: inline-block;\">administrata</span> <span style=\"display: inline-block;\">est</span> <span style=\"display: inline-block;\">:</span> <span style=\"display: inline-block;\">nam</span> <span style=\"display: inline-block;\">et</span> <span style=\"display: inline-block;\">prudens</span> <span style=\"display: inline-block;\">rei</span> <span style=\"display: inline-block;\">militaris</span> <span style=\"display: inline-block;\">et</span> <span style=\"display: inline-block;\">diligens</span> <span style=\"display: inline-block;\">erat</span> <span style=\"display: inline-block;\">imperator</span> <span style=\"display: inline-block;\">.</span></p>\n",
      "    <p><b style=\"text-decoration: line-through;;\">negative</b> -> <span style=\"display: inline-block;\">Et</span> <span style=\"display: inline-block;\">profecti</span> <span style=\"display: inline-block;\">de</span> <span style=\"display: inline-block;\">Sochoth</span> <span style=\"display: inline-block;\">castra</span> <span style=\"display: inline-block;\">metati</span> <span style=\"display: inline-block;\">sunt</span> <span style=\"display: inline-block;\">in</span> <span style=\"display: inline-block;\">Aetham</span> <span style=\"display: inline-block;\">,</span> <span style=\"display: inline-block;\">quae</span> <span style=\"display: inline-block;\">est</span> <span style=\"display: inline-block;\">in</span> <span style=\"display: inline-block;\">extremo</span> <span style=\"display: inline-block;\">solitudinis</span> <span style=\"display: inline-block;\">.</span></p>\n",
      "    <p><b style=\"text-decoration: line-through;;\">negative</b> -> <span style=\"display: inline-block;\">quare</span> <span style=\"display: inline-block;\">neque</span> <span style=\"display: inline-block;\">carmine</span> <span style=\"display: inline-block;\">curro</span> <span style=\"display: inline-block;\">Phalaeco</span> <span style=\"display: inline-block;\">Nec</span> <span style=\"display: inline-block;\">trimetro</span> <span style=\"display: inline-block;\">iambo</span> <span style=\"display: inline-block;\">nec</span> <span style=\"display: inline-block;\">qui</span> <span style=\"display: inline-block;\">pede</span> <span style=\"display: inline-block;\">fractus</span> <span style=\"display: inline-block;\">eodem</span> <span style=\"display: inline-block;\">Fortiter</span> <span style=\"display: inline-block;\">irasci</span> <span style=\"display: inline-block;\">discit</span> <span style=\"display: inline-block;\">duce</span> <span style=\"display: inline-block;\">Clazomenio</span> <span style=\"display: inline-block;\">.</span></p>\n",
      "    <p><b style=\"text-decoration: line-through;;\">negative</b> -> <span style=\"display: inline-block;\">aspicit</span> <span style=\"display: inline-block;\">ambiguum</span> <span style=\"display: inline-block;\">genetrix</span> <span style=\"display: inline-block;\">cogique</span> <span style=\"display: inline-block;\">-que</span> <span style=\"display: inline-block;\">volentem</span> <span style=\"display: inline-block;\">iniecitque</span> <span style=\"display: inline-block;\">-que</span> <span style=\"display: inline-block;\">sinus</span> <span style=\"display: inline-block;\">;</span></p>\n",
      "    <p><b style=\"text-decoration: line-through;;\">negative</b> -> <span style=\"display: inline-block;\">faeneratorium</span> <span style=\"display: inline-block;\">sacramentum</span> <span style=\"display: inline-block;\">dicitur</span> <span style=\"display: inline-block;\">,</span> <span style=\"display: inline-block;\">ubi</span> <span style=\"display: inline-block;\">paratur</span> <span style=\"display: inline-block;\">periurium</span> <span style=\"display: inline-block;\">.</span></p>\n",
      "    <p><b style=\"text-decoration: line-through;;\">negative</b> -> <span style=\"display: inline-block;\">notum</span> <span style=\"display: inline-block;\">est</span> <span style=\"display: inline-block;\">totum</span> <span style=\"display: inline-block;\">carmen</span> <span style=\"display: inline-block;\">incisum</span> <span style=\"display: inline-block;\">in</span> <span style=\"display: inline-block;\">sepulcro</span> <span style=\"display: inline-block;\">.</span></p>\n",
      "    <p><b style=\"text-decoration: line-through;;\">negative</b> -> <span style=\"display: inline-block;\">ea</span> <span style=\"display: inline-block;\">die</span> <span style=\"display: inline-block;\">in</span> <span style=\"display: inline-block;\">lacte</span> <span style=\"display: inline-block;\">esse</span> <span style=\"display: inline-block;\">conuersum</span> <span style=\"display: inline-block;\">,</span> <span style=\"display: inline-block;\">qua</span> <span style=\"display: inline-block;\">stellas</span> <span style=\"display: inline-block;\">fecit</span> <span style=\"display: inline-block;\">;</span></p>\n",
      "    <p><b style=\"text-decoration: line-through;;\">positive</b> -> <span style=\"display: inline-block;\">Vrbanissimum</span> <span style=\"display: inline-block;\">nomen</span> <span style=\"display: inline-block;\">Iudaeo</span> <span style=\"display: inline-block;\">inposuit</span> <span style=\"display: inline-block;\">\"</span> <span style=\"display: inline-block;\">Apellan</span> <span style=\"display: inline-block;\">\"</span> <span style=\"display: inline-block;\">dicens</span> <span style=\"display: inline-block;\">,</span> <span style=\"display: inline-block;\">quasi</span> <span style=\"display: inline-block;\">quod</span> <span style=\"display: inline-block;\">pellem</span> <span style=\"display: inline-block;\">in</span> <span style=\"display: inline-block;\">parte</span> <span style=\"display: inline-block;\">genitali</span> <span style=\"display: inline-block;\">Iudaei</span> <span style=\"display: inline-block;\">non</span> <span style=\"display: inline-block;\">habeant</span> <span style=\"display: inline-block;\">.</span></p>\n",
      "    <p><b style=\"text-decoration: line-through;;\">negative</b> -> <span style=\"display: inline-block;\">aut</span> <span style=\"display: inline-block;\">quem</span> <span style=\"display: inline-block;\">liberat</span> <span style=\"display: inline-block;\">infirmum</span> <span style=\"display: inline-block;\">si</span> <span style=\"display: inline-block;\">dedignatur</span> <span style=\"display: inline-block;\">adire</span> <span style=\"display: inline-block;\">carnis</span> <span style=\"display: inline-block;\">onus</span> <span style=\"display: inline-block;\">manuumque</span> <span style=\"display: inline-block;\">-que</span> <span style=\"display: inline-block;\">horret</span> <span style=\"display: inline-block;\">monumenta</span> <span style=\"display: inline-block;\">suarum</span> <span style=\"display: inline-block;\">?</span></p>\n",
      "    <p><b style=\"text-decoration: line-through;;\">negative</b> -> <span style=\"display: inline-block;\">atque</span> <span style=\"display: inline-block;\">earum</span> <span style=\"display: inline-block;\">rerum</span> <span style=\"display: inline-block;\">exemplum</span> <span style=\"display: inline-block;\">ex</span> <span style=\"display: inline-block;\">similitudine</span> <span style=\"display: inline-block;\">capiebat</span> <span style=\"display: inline-block;\">ineuntis</span> <span style=\"display: inline-block;\">aetatis</span> <span style=\"display: inline-block;\">,</span> <span style=\"display: inline-block;\">quod</span> <span style=\"display: inline-block;\">summi</span> <span style=\"display: inline-block;\">puerorum</span> <span style=\"display: inline-block;\">amores</span> <span style=\"display: inline-block;\">saepe</span> <span style=\"display: inline-block;\">una</span> <span style=\"display: inline-block;\">cum</span> <span style=\"display: inline-block;\">praetexta</span> <span style=\"display: inline-block;\">toga</span> <span style=\"display: inline-block;\">deponerentur</span> <span style=\"display: inline-block;\">;</span></p>\n",
      "    <p><b style=\"text-decoration: line-through;;\">negative</b> -> <span style=\"display: inline-block;\">illae</span> <span style=\"display: inline-block;\">adeo</span> <span style=\"display: inline-block;\">graviter</span> <span style=\"display: inline-block;\">inter</span> <span style=\"display: inline-block;\">se</span> <span style=\"display: inline-block;\">incitatae</span> <span style=\"display: inline-block;\">conflixerunt</span> <span style=\"display: inline-block;\">,</span> <span style=\"display: inline-block;\">ut</span> <span style=\"display: inline-block;\">vehementissime</span> <span style=\"display: inline-block;\">utraque</span> <span style=\"display: inline-block;\">ex</span> <span style=\"display: inline-block;\">concursu</span> <span style=\"display: inline-block;\">laborarent</span> <span style=\"display: inline-block;\">,</span> <span style=\"display: inline-block;\">altera</span> <span style=\"display: inline-block;\">vero</span> <span style=\"display: inline-block;\">praefracto</span> <span style=\"display: inline-block;\">rostro</span> <span style=\"display: inline-block;\">tota</span> <span style=\"display: inline-block;\">conlabefieret</span> <span style=\"display: inline-block;\">.</span></p>\n",
      "    <p><b style=\"text-decoration: line-through;;\">positive</b> -> <span style=\"display: inline-block;\">semper</span> <span style=\"display: inline-block;\">ficto</span> <span style=\"display: inline-block;\">suspirat</span> <span style=\"display: inline-block;\">amore</span> <span style=\"display: inline-block;\">,</span> <span style=\"display: inline-block;\">quae</span> <span style=\"display: inline-block;\">conplexa</span> <span style=\"display: inline-block;\">viri</span> <span style=\"display: inline-block;\">corpus</span> <span style=\"display: inline-block;\">cum</span> <span style=\"display: inline-block;\">corpore</span> <span style=\"display: inline-block;\">iungit</span> <span style=\"display: inline-block;\">et</span> <span style=\"display: inline-block;\">tenet</span> <span style=\"display: inline-block;\">adsuctis</span> <span style=\"display: inline-block;\">umectans</span> <span style=\"display: inline-block;\">oscula</span> <span style=\"display: inline-block;\">labris</span> <span style=\"display: inline-block;\">;</span> <span style=\"display: inline-block;\">nam</span> <span style=\"display: inline-block;\">facit</span> <span style=\"display: inline-block;\">ex</span> <span style=\"display: inline-block;\">animo</span> <span style=\"display: inline-block;\">saepe</span> <span style=\"display: inline-block;\">et</span> <span style=\"display: inline-block;\">communia</span> <span style=\"display: inline-block;\">quaerens</span> <span style=\"display: inline-block;\">gaudia</span> <span style=\"display: inline-block;\">sollicitat</span> <span style=\"display: inline-block;\">spatium</span> <span style=\"display: inline-block;\">decurrere</span> <span style=\"display: inline-block;\">amoris</span> <span style=\"display: inline-block;\">.</span></p>\n",
      "    <p><b style=\"text-decoration: line-through;;\">negative</b> -> <span style=\"display: inline-block;\">Maronia</span> <span style=\"display: inline-block;\">Mss</span> <span style=\"display: inline-block;\">.</span></p>\n",
      "    <p><b style=\"text-decoration: line-through;;\">negative</b> -> <span style=\"display: inline-block;\">Age</span> <span style=\"display: inline-block;\">iam</span> <span style=\"display: inline-block;\">uxorem</span> <span style=\"display: inline-block;\">ut</span> <span style=\"display: inline-block;\">arcessat</span> <span style=\"display: inline-block;\">paret</span> <span style=\"display: inline-block;\">.</span></p>\n",
      "    <p><b style=\"text-decoration: line-through;;\">positive</b> -> <span style=\"display: inline-block;\">Deformis</span> <span style=\"display: inline-block;\">uxor</span> <span style=\"display: inline-block;\">cui</span> <span style=\"display: inline-block;\">sit</span> <span style=\"display: inline-block;\">,</span> <span style=\"display: inline-block;\">ancilla</span> <span style=\"display: inline-block;\">elegans</span> <span style=\"display: inline-block;\">,</span> <span style=\"display: inline-block;\">Vxorem</span> <span style=\"display: inline-block;\">habere</span> <span style=\"display: inline-block;\">,</span> <span style=\"display: inline-block;\">subigere</span> <span style=\"display: inline-block;\">ancillam</span> <span style=\"display: inline-block;\">uelit</span> <span style=\"display: inline-block;\">.</span></p>\n",
      "    <p><b style=\"text-decoration: line-through;;\">positive</b> -> <span style=\"display: inline-block;\">Sic</span> <span style=\"display: inline-block;\">enim</span> <span style=\"display: inline-block;\">matrix</span> <span style=\"display: inline-block;\">poterit</span> <span style=\"display: inline-block;\">fetidis</span> <span style=\"display: inline-block;\">odoribus</span> <span style=\"display: inline-block;\">a</span> <span style=\"display: inline-block;\">superioribus</span> <span style=\"display: inline-block;\">ad</span> <span style=\"display: inline-block;\">inferiora</span> <span style=\"display: inline-block;\">fugari</span> <span style=\"display: inline-block;\">et</span> <span style=\"display: inline-block;\">loco</span> <span style=\"display: inline-block;\">proprio</span> <span style=\"display: inline-block;\">reuocari</span> <span style=\"display: inline-block;\">,</span> <span style=\"display: inline-block;\">cum</span> <span style=\"display: inline-block;\">melioribus</span> <span style=\"display: inline-block;\">et</span> <span style=\"display: inline-block;\">iocundis</span> <span style=\"display: inline-block;\">ad</span> <span style=\"display: inline-block;\">inferiores</span> <span style=\"display: inline-block;\">partes</span> <span style=\"display: inline-block;\">fuerit</span> <span style=\"display: inline-block;\">inuitata</span> <span style=\"display: inline-block;\">et</span> <span style=\"display: inline-block;\">prouocata</span> <span style=\"display: inline-block;\">.</span></p>\n",
      "    <p><b style=\"text-decoration: line-through;;\">positive</b> -> <span style=\"display: inline-block;\">\"</span> <span style=\"display: inline-block;\">egregium</span> <span style=\"display: inline-block;\">narras</span> <span style=\"display: inline-block;\">mira</span> <span style=\"display: inline-block;\">pietate</span> <span style=\"display: inline-block;\">parentem</span> <span style=\"display: inline-block;\">,</span> <span style=\"display: inline-block;\">qui</span> <span style=\"display: inline-block;\">ipse</span> <span style=\"display: inline-block;\">sui</span> <span style=\"display: inline-block;\">gnati</span> <span style=\"display: inline-block;\">minxerit</span> <span style=\"display: inline-block;\">in</span> <span style=\"display: inline-block;\">gremium</span> <span style=\"display: inline-block;\">.</span></p>\n",
      "    <p><b style=\"text-decoration: line-through;;\">negative</b> -> <span style=\"display: inline-block;\">propter</span> <span style=\"display: inline-block;\">hoc</span> <span style=\"display: inline-block;\">relinquet</span> <span style=\"display: inline-block;\">homo</span> <span style=\"display: inline-block;\">patrem</span> <span style=\"display: inline-block;\">suum</span> <span style=\"display: inline-block;\">et</span> <span style=\"display: inline-block;\">matrem</span> <span style=\"display: inline-block;\">et</span> <span style=\"display: inline-block;\">adhaerebit</span> <span style=\"display: inline-block;\">ad</span> <span style=\"display: inline-block;\">uxorem</span> <span style=\"display: inline-block;\">suam</span> <span style=\"display: inline-block;\">,</span> <span style=\"display: inline-block;\">et</span> <span style=\"display: inline-block;\">erunt</span> <span style=\"display: inline-block;\">duo</span> <span style=\"display: inline-block;\">in</span> <span style=\"display: inline-block;\">carne</span> <span style=\"display: inline-block;\">una</span> <span style=\"display: inline-block;\">.</span></p>\n",
      "    <p><b style=\"text-decoration: line-through;;\">positive</b> -> <span style=\"display: inline-block;\">etiamne</span> <span style=\"display: inline-block;\">-ne</span> <span style=\"display: inline-block;\">Tutunus</span> <span style=\"display: inline-block;\">,</span> <span style=\"display: inline-block;\">cuius</span> <span style=\"display: inline-block;\">inmanibus</span> <span style=\"display: inline-block;\">pudendis</span> <span style=\"display: inline-block;\">horrentique</span> <span style=\"display: inline-block;\">-que</span> <span style=\"display: inline-block;\">fascino</span> <span style=\"display: inline-block;\">uestras</span> <span style=\"display: inline-block;\">inequitare</span> <span style=\"display: inline-block;\">matronas</span> <span style=\"display: inline-block;\">et</span> <span style=\"display: inline-block;\">auspicabile</span> <span style=\"display: inline-block;\">ducitis</span> <span style=\"display: inline-block;\">et</span> <span style=\"display: inline-block;\">optatis</span> <span style=\"display: inline-block;\">?</span></p>\n",
      "    <p><b style=\"text-decoration: line-through;;\">negative</b> -> <span style=\"display: inline-block;\">sola</span> <span style=\"display: inline-block;\">tu</span> <span style=\"display: inline-block;\">morti</span> <span style=\"display: inline-block;\">propriae</span> <span style=\"display: inline-block;\">superstes</span> <span style=\"display: inline-block;\">vivis</span> <span style=\"display: inline-block;\">in</span> <span style=\"display: inline-block;\">orbe</span> <span style=\"display: inline-block;\">.</span></p>\n",
      "    <p><b style=\"text-decoration: line-through;;\">negative</b> -> <span style=\"display: inline-block;\">Non</span> <span style=\"display: inline-block;\">\"</span> <span style=\"display: inline-block;\">inquis</span> <span style=\"display: inline-block;\">\"</span> <span style=\"display: inline-block;\">faciam</span> <span style=\"display: inline-block;\">tam</span> <span style=\"display: inline-block;\">fatue</span> <span style=\"display: inline-block;\">.</span></p>\n",
      "    <p><b style=\"text-decoration: line-through;;\">positive</b> -> <span style=\"display: inline-block;\">Tum</span> <span style=\"display: inline-block;\">id</span> <span style=\"display: inline-block;\">agendum</span> <span style=\"display: inline-block;\">est</span> <span style=\"display: inline-block;\">,</span> <span style=\"display: inline-block;\">ut</span> <span style=\"display: inline-block;\">ante</span> <span style=\"display: inline-block;\">caput</span> <span style=\"display: inline-block;\">,</span> <span style=\"display: inline-block;\">deinde</span> <span style=\"display: inline-block;\">reliqua</span> <span style=\"display: inline-block;\">pars</span> <span style=\"display: inline-block;\">auferatur</span> <span style=\"display: inline-block;\">,</span> <span style=\"display: inline-block;\">quia</span> <span style=\"display: inline-block;\">fere</span> <span style=\"display: inline-block;\">maiore</span> <span style=\"display: inline-block;\">parte</span> <span style=\"display: inline-block;\">extracta</span> <span style=\"display: inline-block;\">caput</span> <span style=\"display: inline-block;\">in</span> <span style=\"display: inline-block;\">vacuam</span> <span style=\"display: inline-block;\">volvam</span> <span style=\"display: inline-block;\">prolabitur</span> <span style=\"display: inline-block;\">,</span> <span style=\"display: inline-block;\">extrahique</span> <span style=\"display: inline-block;\">-que</span> <span style=\"display: inline-block;\">sine</span> <span style=\"display: inline-block;\">summo</span> <span style=\"display: inline-block;\">periculo</span> <span style=\"display: inline-block;\">non</span> <span style=\"display: inline-block;\">potest</span> <span style=\"display: inline-block;\">.</span></p>\n",
      "    <p><b style=\"text-decoration: line-through;;\">negative</b> -> <span style=\"display: inline-block;\">structus</span> <span style=\"display: inline-block;\">enim</span> <span style=\"display: inline-block;\">lapide</span> <span style=\"display: inline-block;\">ex</span> <span style=\"display: inline-block;\">illo</span> <span style=\"display: inline-block;\">manet</span> <span style=\"display: inline-block;\">angulus</span> <span style=\"display: inline-block;\">usque</span> <span style=\"display: inline-block;\">in</span> <span style=\"display: inline-block;\">saeclum</span> <span style=\"display: inline-block;\">saecli</span> <span style=\"display: inline-block;\">,</span> <span style=\"display: inline-block;\">quem</span> <span style=\"display: inline-block;\">sprerunt</span> <span style=\"display: inline-block;\">aedificantes</span> <span style=\"display: inline-block;\">;</span></p>\n",
      "    <p><b style=\"text-decoration: line-through;;\">positive</b> -> <span style=\"display: inline-block;\">sed</span> <span style=\"display: inline-block;\">coniunx</span> <span style=\"display: inline-block;\">gravida</span> <span style=\"display: inline-block;\">primam</span> <span style=\"display: inline-block;\">utcumque</span> <span style=\"display: inline-block;\">fugam</span> <span style=\"display: inline-block;\">ob</span> <span style=\"display: inline-block;\">metum</span> <span style=\"display: inline-block;\">hostilem</span> <span style=\"display: inline-block;\">et</span> <span style=\"display: inline-block;\">mariti</span> <span style=\"display: inline-block;\">caritatem</span> <span style=\"display: inline-block;\">toleravit</span> <span style=\"display: inline-block;\">;</span> <span style=\"display: inline-block;\">post</span> <span style=\"display: inline-block;\">festinatione</span> <span style=\"display: inline-block;\">continua</span> <span style=\"display: inline-block;\">,</span> <span style=\"display: inline-block;\">ubi</span> <span style=\"display: inline-block;\">quati</span> <span style=\"display: inline-block;\">uterus</span> <span style=\"display: inline-block;\">et</span> <span style=\"display: inline-block;\">viscera</span> <span style=\"display: inline-block;\">vibrantur</span> <span style=\"display: inline-block;\">,</span> <span style=\"display: inline-block;\">orare</span> <span style=\"display: inline-block;\">ut</span> <span style=\"display: inline-block;\">morte</span> <span style=\"display: inline-block;\">honesta</span> <span style=\"display: inline-block;\">contumeliis</span> <span style=\"display: inline-block;\">captivitatis</span> <span style=\"display: inline-block;\">eximeretur</span> <span style=\"display: inline-block;\">.</span></p>\n",
      "    <p><b style=\"text-decoration: line-through;;\">positive</b> -> <span style=\"display: inline-block;\">,</span> <span style=\"display: inline-block;\">qui</span> <span style=\"display: inline-block;\">Christianis</span> <span style=\"display: inline-block;\">feminis</span> <span style=\"display: inline-block;\">in</span> <span style=\"display: inline-block;\">captiuitate</span> <span style=\"display: inline-block;\">conpressis</span> <span style=\"display: inline-block;\">alieni</span> <span style=\"display: inline-block;\">ab</span> <span style=\"display: inline-block;\">omni</span> <span style=\"display: inline-block;\">cogitatione</span> <span style=\"display: inline-block;\">sanctitatis</span> <span style=\"display: inline-block;\">insultant</span> <span style=\"display: inline-block;\">,</span></p>\n",
      "    <p><b style=\"text-decoration: line-through;;\">negative</b> -> <span style=\"display: inline-block;\">descendit</span> <span style=\"display: inline-block;\">vulnus</span> <span style=\"display: inline-block;\">ad</span> <span style=\"display: inline-block;\">ossa</span> <span style=\"display: inline-block;\">meum</span> <span style=\"display: inline-block;\">!</span></p>\n",
      "    <p><b style=\"text-decoration: line-through;;\">negative</b> -> <span style=\"display: inline-block;\">Illic</span> <span style=\"display: inline-block;\">invenies</span> <span style=\"display: inline-block;\">quod</span> <span style=\"display: inline-block;\">ames</span> <span style=\"display: inline-block;\">,</span> <span style=\"display: inline-block;\">quod</span> <span style=\"display: inline-block;\">ludere</span> <span style=\"display: inline-block;\">possis</span> <span style=\"display: inline-block;\">,</span> <span style=\"display: inline-block;\">Quodque</span> <span style=\"display: inline-block;\">-que</span> <span style=\"display: inline-block;\">semel</span> <span style=\"display: inline-block;\">tangas</span> <span style=\"display: inline-block;\">,</span> <span style=\"display: inline-block;\">quodque</span> <span style=\"display: inline-block;\">-que</span> <span style=\"display: inline-block;\">tenere</span> <span style=\"display: inline-block;\">velis</span> <span style=\"display: inline-block;\">.</span></p>\n",
      "    <p><b style=\"text-decoration: line-through;;\">positive</b> -> <span style=\"display: inline-block;\">et</span> <span style=\"display: inline-block;\">si</span> <span style=\"display: inline-block;\">in</span> <span style=\"display: inline-block;\">pinnaculis</span> <span style=\"display: inline-block;\">inventa</span> <span style=\"display: inline-block;\">fuerit</span> <span style=\"display: inline-block;\">obstrusio</span> <span style=\"display: inline-block;\">,</span> <span style=\"display: inline-block;\">scalpello</span> <span style=\"display: inline-block;\">medietas</span> <span style=\"display: inline-block;\">dividenda</span> <span style=\"display: inline-block;\">est</span> <span style=\"display: inline-block;\">usque</span> <span style=\"display: inline-block;\">ad</span> <span style=\"display: inline-block;\">inanitatem</span> <span style=\"display: inline-block;\">.</span></p>\n",
      "    <p><b style=\"text-decoration: line-through;;\">positive</b> -> <span style=\"display: inline-block;\">Fuerunt</span> <span style=\"display: inline-block;\">ex</span> <span style=\"display: inline-block;\">populo</span> <span style=\"display: inline-block;\">qui</span> <span style=\"display: inline-block;\">dicerent</span> <span style=\"display: inline-block;\">:</span> <span style=\"display: inline-block;\">\"</span> <span style=\"display: inline-block;\">hic</span> <span style=\"display: inline-block;\">meum</span> <span style=\"display: inline-block;\">filium</span> <span style=\"display: inline-block;\">,</span> <span style=\"display: inline-block;\">hic</span> <span style=\"display: inline-block;\">meam</span> <span style=\"display: inline-block;\">corrupit</span> <span style=\"display: inline-block;\">uxorem</span> <span style=\"display: inline-block;\">;</span> <span style=\"display: inline-block;\">\"</span> <span style=\"display: inline-block;\">suum</span> <span style=\"display: inline-block;\">quisque</span> <span style=\"display: inline-block;\">illo</span> <span style=\"display: inline-block;\">et</span> <span style=\"display: inline-block;\">ignem</span> <span style=\"display: inline-block;\">adtulit</span> <span style=\"display: inline-block;\">et</span> <span style=\"display: inline-block;\">dolorem</span> <span style=\"display: inline-block;\">.</span></p>\n",
      "    <p><b style=\"text-decoration: line-through;;\">negative</b> -> <span style=\"display: inline-block;\">Fons</span> <span style=\"display: inline-block;\">tuus</span> <span style=\"display: inline-block;\">emundat</span> <span style=\"display: inline-block;\">recreatu</span> <span style=\"display: inline-block;\">iustificatos</span> <span style=\"display: inline-block;\">,</span> <span style=\"display: inline-block;\">dans</span> <span style=\"display: inline-block;\">mentem</span> <span style=\"display: inline-block;\">oblitam</span> <span style=\"display: inline-block;\">positorum</span> <span style=\"display: inline-block;\">flagitiorum</span> <span style=\"display: inline-block;\">,</span> <span style=\"display: inline-block;\">dans</span> <span style=\"display: inline-block;\">agnos</span> <span style=\"display: inline-block;\">niveos</span> <span style=\"display: inline-block;\">splendescere</span> <span style=\"display: inline-block;\">purificatos</span> <span style=\"display: inline-block;\">.</span></p>\n",
      "    <p><b style=\"text-decoration: line-through;;\">negative</b> -> <span style=\"display: inline-block;\">neque</span> <span style=\"display: inline-block;\">vero</span> <span style=\"display: inline-block;\">,</span> <span style=\"display: inline-block;\">cum</span> <span style=\"display: inline-block;\">aliquid</span> <span style=\"display: inline-block;\">mandarat</span> <span style=\"display: inline-block;\">,</span> <span style=\"display: inline-block;\">confectum</span> <span style=\"display: inline-block;\">putabat</span> <span style=\"display: inline-block;\">:</span> <span style=\"display: inline-block;\">nihil</span> <span style=\"display: inline-block;\">erat</span> <span style=\"display: inline-block;\">quod</span> <span style=\"display: inline-block;\">non</span> <span style=\"display: inline-block;\">ipse</span> <span style=\"display: inline-block;\">obiret</span> <span style=\"display: inline-block;\">,</span> <span style=\"display: inline-block;\">occurreret</span> <span style=\"display: inline-block;\">,</span> <span style=\"display: inline-block;\">vigilaret</span> <span style=\"display: inline-block;\">,</span> <span style=\"display: inline-block;\">laboraret</span> <span style=\"display: inline-block;\">;</span></p>\n",
      "    <p><b style=\"text-decoration: line-through;;\">positive</b> -> <span style=\"display: inline-block;\">Sunt</span> <span style=\"display: inline-block;\">variae</span> <span style=\"display: inline-block;\">et</span> <span style=\"display: inline-block;\">diversae</span> <span style=\"display: inline-block;\">causae</span> <span style=\"display: inline-block;\">matricem</span> <span style=\"display: inline-block;\">frequentius</span> <span style=\"display: inline-block;\">attemptantes</span> <span style=\"display: inline-block;\">,</span> <span style=\"display: inline-block;\">quae</span> <span style=\"display: inline-block;\">sub</span> <span style=\"display: inline-block;\">duabus</span> <span style=\"display: inline-block;\">praecipue</span> <span style=\"display: inline-block;\">principali</span> <span style=\"display: inline-block;\">bus</span> <span style=\"display: inline-block;\">passionibus</span> <span style=\"display: inline-block;\">constrictionis</span> <span style=\"display: inline-block;\">vel</span> <span style=\"display: inline-block;\">laxationis</span> <span style=\"display: inline-block;\">etiam</span> <span style=\"display: inline-block;\">partiliter</span> <span style=\"display: inline-block;\">sub</span> <span style=\"display: inline-block;\">certis</span> <span style=\"display: inline-block;\">accidentibus</span> <span style=\"display: inline-block;\">alias</span> <span style=\"display: inline-block;\">causas</span> <span style=\"display: inline-block;\">efficiunt</span> <span style=\"display: inline-block;\">.</span></p>\n",
      "    <p><b style=\"text-decoration: line-through;;\">positive</b> -> <span style=\"display: inline-block;\">Masculus</span> <span style=\"display: inline-block;\">pavo</span> <span style=\"display: inline-block;\">gallinaceam</span> <span style=\"display: inline-block;\">salacitatem</span> <span style=\"display: inline-block;\">habet</span> <span style=\"display: inline-block;\">,</span> <span style=\"display: inline-block;\">atque</span> <span style=\"display: inline-block;\">ideo</span> <span style=\"display: inline-block;\">quinque</span> <span style=\"display: inline-block;\">feminas</span> <span style=\"display: inline-block;\">desiderat</span> <span style=\"display: inline-block;\">.</span></p>\n",
      "    <p><b style=\"text-decoration: line-through;;\">negative</b> -> <span style=\"display: inline-block;\">ideo</span> <span style=\"display: inline-block;\">voluptas</span> <span style=\"display: inline-block;\">eius</span> <span style=\"display: inline-block;\">multifariam</span> <span style=\"display: inline-block;\">comminuitur</span> <span style=\"display: inline-block;\">.</span></p>\n",
      "    <p><b style=\"text-decoration: line-through;;\">negative</b> -> <span style=\"display: inline-block;\">MILES</span> <span style=\"display: inline-block;\">ipse</span> <span style=\"display: inline-block;\">Tullius</span> <span style=\"display: inline-block;\">miles</span> <span style=\"display: inline-block;\">;</span></p>\n",
      "    <p><b style=\"text-decoration: line-through;;\">negative</b> -> <span style=\"display: inline-block;\">et</span> <span style=\"display: inline-block;\">erant</span> <span style=\"display: inline-block;\">ora</span> <span style=\"display: inline-block;\">trium</span> <span style=\"display: inline-block;\">egentium</span> <span style=\"display: inline-block;\">et</span> <span style=\"display: inline-block;\">inopiam</span> <span style=\"display: inline-block;\">suam</span> <span style=\"display: inline-block;\">sibimet</span> <span style=\"display: inline-block;\">inuicem</span> <span style=\"display: inline-block;\">anhelantium</span> <span style=\"display: inline-block;\">et</span> <span style=\"display: inline-block;\">ad</span> <span style=\"display: inline-block;\">te</span> <span style=\"display: inline-block;\">expectantium</span> <span style=\"display: inline-block;\">,</span> <span style=\"display: inline-block;\">ut</span> <span style=\"display: inline-block;\">dares</span> <span style=\"display: inline-block;\">eis</span> <span style=\"display: inline-block;\">escam</span> <span style=\"display: inline-block;\">in</span> <span style=\"display: inline-block;\">tempore</span> <span style=\"display: inline-block;\">opportuno</span> <span style=\"display: inline-block;\">.</span></p>\n",
      "    <p><b style=\"text-decoration: line-through;;\">positive</b> -> <span style=\"display: inline-block;\">Alius</span> <span style=\"display: inline-block;\">fauces</span> <span style=\"display: inline-block;\">invadit</span> <span style=\"display: inline-block;\">,</span> <span style=\"display: inline-block;\">alius</span> <span style=\"display: inline-block;\">os</span> <span style=\"display: inline-block;\">verberat</span> <span style=\"display: inline-block;\">,</span> <span style=\"display: inline-block;\">alius</span> <span style=\"display: inline-block;\">pectus</span> <span style=\"display: inline-block;\">et</span> <span style=\"display: inline-block;\">ventrem</span> <span style=\"display: inline-block;\">,</span> <span style=\"display: inline-block;\">atque</span> <span style=\"display: inline-block;\">etiam</span> <span style=\"display: inline-block;\">foedum</span> <span style=\"display: inline-block;\">dictu</span> <span style=\"display: inline-block;\">verenda</span> <span style=\"display: inline-block;\">contundit</span> <span style=\"display: inline-block;\">;</span></p>\n",
      "    <p><b style=\"text-decoration: line-through;;\">negative</b> -> <span style=\"display: inline-block;\">affusa</span> <span style=\"display: inline-block;\">totum</span> <span style=\"display: inline-block;\">corpus</span> <span style=\"display: inline-block;\">amplexu</span> <span style=\"display: inline-block;\">tegam</span> <span style=\"display: inline-block;\">,</span> <span style=\"display: inline-block;\">tuo</span> <span style=\"display: inline-block;\">emori</span> <span style=\"display: inline-block;\">per</span> <span style=\"display: inline-block;\">meum</span> <span style=\"display: inline-block;\">fiet</span> <span style=\"display: inline-block;\">via</span> <span style=\"display: inline-block;\">.</span></p>\n",
      "    <p><b style=\"text-decoration: line-through;;\">negative</b> -> <span style=\"display: inline-block;\">non</span> <span style=\"display: inline-block;\">putant</span> <span style=\"display: inline-block;\">onera</span> <span style=\"display: inline-block;\">esse</span> <span style=\"display: inline-block;\">,</span> <span style=\"display: inline-block;\">si</span> <span style=\"display: inline-block;\">pretiosa</span> <span style=\"display: inline-block;\">sint</span> <span style=\"display: inline-block;\">,</span> <span style=\"display: inline-block;\">non</span> <span style=\"display: inline-block;\">existimant</span> <span style=\"display: inline-block;\">uincula</span> <span style=\"display: inline-block;\">esse</span> <span style=\"display: inline-block;\">,</span> <span style=\"display: inline-block;\">si</span> <span style=\"display: inline-block;\">in</span> <span style=\"display: inline-block;\">his</span> <span style=\"display: inline-block;\">thensaurus</span> <span style=\"display: inline-block;\">coruscet</span> <span style=\"display: inline-block;\">.</span></p>\n",
      "    <p><b style=\"text-decoration: line-through;;\">positive</b> -> <span style=\"display: inline-block;\">uae</span> <span style=\"display: inline-block;\">striges</span> <span style=\"display: inline-block;\">comederunt</span> <span style=\"display: inline-block;\">nervos</span> <span style=\"display: inline-block;\">tuos</span> <span style=\"display: inline-block;\">,</span> <span style=\"display: inline-block;\">aut</span> <span style=\"display: inline-block;\">quod</span> <span style=\"display: inline-block;\">purgamentum</span> <span style=\"display: inline-block;\">in</span> <span style=\"display: inline-block;\">nocte</span> <span style=\"display: inline-block;\">calcasti</span> <span style=\"display: inline-block;\">in</span> <span style=\"display: inline-block;\">trivio</span> <span style=\"display: inline-block;\">aut</span> <span style=\"display: inline-block;\">cadaver</span> <span style=\"display: inline-block;\">?</span></p>\n",
      "    <p><b style=\"text-decoration: line-through;;\">positive</b> -> <span style=\"display: inline-block;\">potest</span> <span style=\"display: inline-block;\">aliquam</span> <span style=\"display: inline-block;\">corrumpere</span> <span style=\"display: inline-block;\">prolapsi</span> <span style=\"display: inline-block;\">in</span> <span style=\"display: inline-block;\">uitia</span> <span style=\"display: inline-block;\">seculi</span> <span style=\"display: inline-block;\">praua</span> <span style=\"display: inline-block;\">consuetudo</span> <span style=\"display: inline-block;\">,</span> <span style=\"display: inline-block;\">etiam</span> <span style=\"display: inline-block;\">matronarum</span> <span style=\"display: inline-block;\">multum</span> <span style=\"display: inline-block;\">in</span> <span style=\"display: inline-block;\">libidine</span> <span style=\"display: inline-block;\">magisterium</span> <span style=\"display: inline-block;\">:</span> <span style=\"display: inline-block;\">pudica</span> <span style=\"display: inline-block;\">permanebit</span> <span style=\"display: inline-block;\">.</span></p>\n",
      "    <p><b style=\"text-decoration: line-through;;\">negative</b> -> <span style=\"display: inline-block;\">ex</span> <span style=\"display: inline-block;\">lumbricis</span> <span style=\"display: inline-block;\">autem</span> <span style=\"display: inline-block;\">debilitatos</span> <span style=\"display: inline-block;\">neque</span> <span style=\"display: inline-block;\">crocydismus</span> <span style=\"display: inline-block;\">consequitur</span> <span style=\"display: inline-block;\">neque</span> <span style=\"display: inline-block;\">necessarie</span> <span style=\"display: inline-block;\">febris</span> <span style=\"display: inline-block;\">,</span> <span style=\"display: inline-block;\">aut</span> <span style=\"display: inline-block;\">si</span> <span style=\"display: inline-block;\">fuerint</span> <span style=\"display: inline-block;\">non</span> <span style=\"display: inline-block;\">cum</span> <span style=\"display: inline-block;\">earum</span> <span style=\"display: inline-block;\">accessione</span> <span style=\"display: inline-block;\">mentis</span> <span style=\"display: inline-block;\">alienatione</span> <span style=\"display: inline-block;\">asperguntur</span> <span style=\"display: inline-block;\">aut</span> <span style=\"display: inline-block;\">dimissione</span> <span style=\"display: inline-block;\">relevantur</span> <span style=\"display: inline-block;\">,</span> <span style=\"display: inline-block;\">sed</span> <span style=\"display: inline-block;\">iugiter</span> <span style=\"display: inline-block;\">plerumque</span> <span style=\"display: inline-block;\">perseverant</span> <span style=\"display: inline-block;\">.</span></p>\n",
      "    <p><b style=\"text-decoration: line-through;;\">negative</b> -> <span style=\"display: inline-block;\">Hic</span> <span style=\"display: inline-block;\">primum</span> <span style=\"display: inline-block;\">thalami</span> <span style=\"display: inline-block;\">claustris</span> <span style=\"display: inline-block;\">delicta</span> <span style=\"display: inline-block;\">tegebat</span> <span style=\"display: inline-block;\">clam</span> <span style=\"display: inline-block;\">timideque</span> <span style=\"display: inline-block;\">-que</span> <span style=\"display: inline-block;\">iubens</span> <span style=\"display: inline-block;\">;</span></p>\n",
      "    <p><b style=\"text-decoration: line-through;;\">negative</b> -> <span style=\"display: inline-block;\">Hanc</span> <span style=\"display: inline-block;\">venenis</span> <span style=\"display: inline-block;\">repugnare</span> <span style=\"display: inline-block;\">mustelae</span> <span style=\"display: inline-block;\">docent</span> <span style=\"display: inline-block;\">,</span> <span style=\"display: inline-block;\">quae</span> <span style=\"display: inline-block;\">dum</span> <span style=\"display: inline-block;\">cum</span> <span style=\"display: inline-block;\">serpente</span> <span style=\"display: inline-block;\">dimicaverint</span> <span style=\"display: inline-block;\">,</span> <span style=\"display: inline-block;\">cibo</span> <span style=\"display: inline-block;\">eius</span> <span style=\"display: inline-block;\">armantur</span> <span style=\"display: inline-block;\">.</span></p>\n",
      "    <p><b style=\"text-decoration: line-through;;\">negative</b> -> <span style=\"display: inline-block;\">DOMVS</span> <span style=\"display: inline-block;\">ASSARACI</span> <span style=\"display: inline-block;\">id</span> <span style=\"display: inline-block;\">est</span> <span style=\"display: inline-block;\">familia</span> <span style=\"display: inline-block;\">Troiana</span> <span style=\"display: inline-block;\">,</span> <span style=\"display: inline-block;\">nam</span> <span style=\"display: inline-block;\">Assaracus</span> <span style=\"display: inline-block;\">Capyn</span> <span style=\"display: inline-block;\">genuit</span> <span style=\"display: inline-block;\">,</span> <span style=\"display: inline-block;\">Capys</span> <span style=\"display: inline-block;\">Anchisen</span> <span style=\"display: inline-block;\">,</span> <span style=\"display: inline-block;\">unde</span> <span style=\"display: inline-block;\">Aeneas</span> <span style=\"display: inline-block;\">,</span> <span style=\"display: inline-block;\">auctor</span> <span style=\"display: inline-block;\">Romani</span> <span style=\"display: inline-block;\">generis</span> <span style=\"display: inline-block;\">;</span></p>\n",
      "    <p><b style=\"text-decoration: line-through;;\">negative</b> -> <span style=\"display: inline-block;\">et</span> <span style=\"display: inline-block;\">cum</span> <span style=\"display: inline-block;\">praeteriret</span> <span style=\"display: inline-block;\">vidit</span> <span style=\"display: inline-block;\">Levin</span> <span style=\"display: inline-block;\">Alphei</span> <span style=\"display: inline-block;\">sedentem</span> <span style=\"display: inline-block;\">ad</span> <span style=\"display: inline-block;\">teloneum</span> <span style=\"display: inline-block;\">et</span> <span style=\"display: inline-block;\">ait</span> <span style=\"display: inline-block;\">illi</span> <span style=\"display: inline-block;\">sequere</span> <span style=\"display: inline-block;\">me</span> <span style=\"display: inline-block;\">et</span> <span style=\"display: inline-block;\">surgens</span> <span style=\"display: inline-block;\">secutus</span> <span style=\"display: inline-block;\">est</span> <span style=\"display: inline-block;\">eum</span></p>\n",
      "    <p><b style=\"text-decoration: line-through;;\">negative</b> -> <span style=\"display: inline-block;\">\"</span> <span style=\"display: inline-block;\">ita</span> <span style=\"display: inline-block;\">non</span> <span style=\"display: inline-block;\">adulescenti</span> <span style=\"display: inline-block;\">crimen</span> <span style=\"display: inline-block;\">instituit</span> <span style=\"display: inline-block;\">quod</span> <span style=\"display: inline-block;\">uir</span> <span style=\"display: inline-block;\">sit</span> <span style=\"display: inline-block;\">,</span> <span style=\"display: inline-block;\">sed</span> <span style=\"display: inline-block;\">quod</span> <span style=\"display: inline-block;\">scit</span> <span style=\"display: inline-block;\">quid</span> <span style=\"display: inline-block;\">meretrix</span> <span style=\"display: inline-block;\">siet</span> <span style=\"display: inline-block;\">.</span></p>\n",
      "    <p><b style=\"text-decoration: line-through;;\">positive</b> -> <span style=\"display: inline-block;\">hunc</span> <span style=\"display: inline-block;\">pathicae</span> <span style=\"display: inline-block;\">summi</span> <span style=\"display: inline-block;\">numinis</span> <span style=\"display: inline-block;\">instar</span> <span style=\"display: inline-block;\">habent</span> <span style=\"display: inline-block;\">.</span></p>\n",
      "    <p><b style=\"text-decoration: line-through;;\">negative</b> -> <span style=\"display: inline-block;\">interim</span> <span style=\"display: inline-block;\">quantum</span> <span style=\"display: inline-block;\">per</span> <span style=\"display: inline-block;\">moras</span> <span style=\"display: inline-block;\">membrorum</span> <span style=\"display: inline-block;\">et</span> <span style=\"display: inline-block;\">hanc</span> <span style=\"display: inline-block;\">circumfusam</span> <span style=\"display: inline-block;\">gravem</span> <span style=\"display: inline-block;\">sarcinam</span> <span style=\"display: inline-block;\">licet</span> <span style=\"display: inline-block;\">,</span> <span style=\"display: inline-block;\">celeri</span> <span style=\"display: inline-block;\">et</span> <span style=\"display: inline-block;\">volucri</span> <span style=\"display: inline-block;\">cogitatione</span> <span style=\"display: inline-block;\">divina</span> <span style=\"display: inline-block;\">perlustrat</span> <span style=\"display: inline-block;\">.</span></p>\n",
      "    <p><b style=\"text-decoration: line-through;;\">negative</b> -> <span style=\"display: inline-block;\">Harpax</span> <span style=\"display: inline-block;\">calator</span> <span style=\"display: inline-block;\">meus</span> <span style=\"display: inline-block;\">est</span> <span style=\"display: inline-block;\">,</span> <span style=\"display: inline-block;\">ad</span> <span style=\"display: inline-block;\">te</span> <span style=\"display: inline-block;\">qui</span> <span style=\"display: inline-block;\">venit</span> <span style=\"display: inline-block;\">tun</span> <span style=\"display: inline-block;\">-ne</span> <span style=\"display: inline-block;\">es</span> <span style=\"display: inline-block;\">is</span> <span style=\"display: inline-block;\">Harpax</span> <span style=\"display: inline-block;\">?</span></p>\n",
      "    <p><b style=\"text-decoration: line-through;;\">positive</b> -> <span style=\"display: inline-block;\">Certo</span> <span style=\"display: inline-block;\">eást</span> <span style=\"display: inline-block;\">est</span> <span style=\"display: inline-block;\">quam</span> <span style=\"display: inline-block;\">in</span> <span style=\"display: inline-block;\">Épidauro</span> <span style=\"display: inline-block;\">paupérculam</span> <span style=\"display: inline-block;\">memini</span> <span style=\"display: inline-block;\">cómprimere</span> <span style=\"display: inline-block;\">.</span></p>\n",
      "    <p><b style=\"text-decoration: line-through;;\">negative</b> -> <span style=\"display: inline-block;\">ten</span> <span style=\"display: inline-block;\">-ne</span> <span style=\"display: inline-block;\">\"</span> <span style=\"display: inline-block;\">lapides</span> <span style=\"display: inline-block;\">varios</span> <span style=\"display: inline-block;\">lutulenta</span> <span style=\"display: inline-block;\">radere</span> <span style=\"display: inline-block;\">palma</span> <span style=\"display: inline-block;\">et</span> <span style=\"display: inline-block;\">Tyrias</span> <span style=\"display: inline-block;\">dare</span> <span style=\"display: inline-block;\">circum</span> <span style=\"display: inline-block;\">inlota</span> <span style=\"display: inline-block;\">toralia</span> <span style=\"display: inline-block;\">vestis</span> <span style=\"display: inline-block;\">,</span> <span style=\"display: inline-block;\">oblitum</span> <span style=\"display: inline-block;\">,</span> <span style=\"display: inline-block;\">quanto</span> <span style=\"display: inline-block;\">curam</span> <span style=\"display: inline-block;\">sumptumque</span> <span style=\"display: inline-block;\">-que</span> <span style=\"display: inline-block;\">minorem</span> <span style=\"display: inline-block;\">haec</span> <span style=\"display: inline-block;\">habeant</span> <span style=\"display: inline-block;\">,</span> <span style=\"display: inline-block;\">tanto</span> <span style=\"display: inline-block;\">reprehendi</span> <span style=\"display: inline-block;\">iustius</span> <span style=\"display: inline-block;\">illis</span> <span style=\"display: inline-block;\">,</span> <span style=\"display: inline-block;\">quae</span> <span style=\"display: inline-block;\">nisi</span> <span style=\"display: inline-block;\">divitibus</span> <span style=\"display: inline-block;\">nequeunt</span> <span style=\"display: inline-block;\">contingere</span> <span style=\"display: inline-block;\">mensis</span> <span style=\"display: inline-block;\">?</span></p>\n",
      "    <p><b style=\"text-decoration: line-through;;\">negative</b> -> <span style=\"display: inline-block;\">civitatem</span> <span style=\"display: inline-block;\">confirmari</span> <span style=\"display: inline-block;\">,</span> <span style=\"display: inline-block;\">quibus</span> <span style=\"display: inline-block;\">ademptam</span> <span style=\"display: inline-block;\">negat</span> <span style=\"display: inline-block;\">;</span></p>\n",
      "    <p><b style=\"text-decoration: line-through;;\">positive</b> -> <span style=\"display: inline-block;\">non</span> <span style=\"display: inline-block;\">ad</span> <span style=\"display: inline-block;\">corruptelam</span> <span style=\"display: inline-block;\">et</span> <span style=\"display: inline-block;\">iniuriam</span> <span style=\"display: inline-block;\">suam</span> <span style=\"display: inline-block;\">desideria</span> <span style=\"display: inline-block;\">praesentium</span> <span style=\"display: inline-block;\">sollicitant</span> <span style=\"display: inline-block;\">et</span> <span style=\"display: inline-block;\">inuitant</span> <span style=\"display: inline-block;\">?</span></p>\n",
      "    <p><b style=\"text-decoration: line-through;;\">negative</b> -> <span style=\"display: inline-block;\">Pone</span> <span style=\"display: inline-block;\">enim</span> <span style=\"display: inline-block;\">manum</span> <span style=\"display: inline-block;\">cruentatam</span> <span style=\"display: inline-block;\">atque</span> <span style=\"display: inline-block;\">adeo</span> <span style=\"display: inline-block;\">,</span> <span style=\"display: inline-block;\">ut</span> <span style=\"display: inline-block;\">istis</span> <span style=\"display: inline-block;\">etiam</span> <span style=\"display: inline-block;\">blandiar</span> <span style=\"display: inline-block;\">,</span> <span style=\"display: inline-block;\">madentem</span> <span style=\"display: inline-block;\">,</span> <span style=\"display: inline-block;\">pone</span> <span style=\"display: inline-block;\">mensuram</span> <span style=\"display: inline-block;\">itineris</span> <span style=\"display: inline-block;\">,</span> <span style=\"display: inline-block;\">spatium</span> <span style=\"display: inline-block;\">parietis</span> <span style=\"display: inline-block;\">(</span> <span style=\"display: inline-block;\">diu</span> <span style=\"display: inline-block;\">enim</span> <span style=\"display: inline-block;\">in</span> <span style=\"display: inline-block;\">secretam</span> <span style=\"display: inline-block;\">domus</span> <span style=\"display: inline-block;\">partem</span> <span style=\"display: inline-block;\">revertendum</span> <span style=\"display: inline-block;\">est</span> <span style=\"display: inline-block;\">)</span></p>\n",
      "    <p><b style=\"text-decoration: line-through;;\">positive</b> -> <span style=\"display: inline-block;\">Vivite</span> <span style=\"display: inline-block;\">Concordes</span> <span style=\"display: inline-block;\">et</span> <span style=\"display: inline-block;\">nostrum</span> <span style=\"display: inline-block;\">discite</span> <span style=\"display: inline-block;\">munus</span> <span style=\"display: inline-block;\">.</span></p>\n",
      "    <p><b style=\"text-decoration: line-through;;\">positive</b> -> <span style=\"display: inline-block;\">tu</span> <span style=\"display: inline-block;\">mihi</span> <span style=\"display: inline-block;\">primum</span> <span style=\"display: inline-block;\">tot</span> <span style=\"display: inline-block;\">natorum</span> <span style=\"display: inline-block;\">memoranda</span> <span style=\"display: inline-block;\">parens</span> <span style=\"display: inline-block;\">,</span> <span style=\"display: inline-block;\">nata</span> <span style=\"display: inline-block;\">Agrippae</span> <span style=\"display: inline-block;\">,</span> <span style=\"display: inline-block;\">nurus</span> <span style=\"display: inline-block;\">Augusti</span> <span style=\"display: inline-block;\">,</span> <span style=\"display: inline-block;\">Caesaris</span> <span style=\"display: inline-block;\">uxor</span> <span style=\"display: inline-block;\">,</span> <span style=\"display: inline-block;\">cuius</span> <span style=\"display: inline-block;\">nomen</span> <span style=\"display: inline-block;\">clarum</span> <span style=\"display: inline-block;\">toto</span> <span style=\"display: inline-block;\">fulsit</span> <span style=\"display: inline-block;\">in</span> <span style=\"display: inline-block;\">orbe</span> <span style=\"display: inline-block;\">,</span> <span style=\"display: inline-block;\">utero</span> <span style=\"display: inline-block;\">totiens</span> <span style=\"display: inline-block;\">enixa</span> <span style=\"display: inline-block;\">gravi</span> <span style=\"display: inline-block;\">pignora</span> <span style=\"display: inline-block;\">pacis</span> <span style=\"display: inline-block;\">,</span> <span style=\"display: inline-block;\">mox</span> <span style=\"display: inline-block;\">exilium</span> <span style=\"display: inline-block;\">verbera</span> <span style=\"display: inline-block;\">,</span> <span style=\"display: inline-block;\">saevas</span> <span style=\"display: inline-block;\">passa</span> <span style=\"display: inline-block;\">catenas</span> <span style=\"display: inline-block;\">,</span> <span style=\"display: inline-block;\">funera</span> <span style=\"display: inline-block;\">,</span> <span style=\"display: inline-block;\">luctus</span> <span style=\"display: inline-block;\">,</span> <span style=\"display: inline-block;\">tandem</span> <span style=\"display: inline-block;\">letum</span> <span style=\"display: inline-block;\">cruciata</span> <span style=\"display: inline-block;\">diu</span> <span style=\"display: inline-block;\">.</span></p>\n",
      "    <p><b style=\"text-decoration: line-through;;\">negative</b> -> <span style=\"display: inline-block;\">Fertilis</span> <span style=\"display: inline-block;\">,</span> <span style=\"display: inline-block;\">ut</span> <span style=\"display: inline-block;\">:</span> <span style=\"display: inline-block;\">Pinguibus</span> <span style=\"display: inline-block;\">hae</span> <span style=\"display: inline-block;\">terris</span> <span style=\"display: inline-block;\">habiles</span> <span style=\"display: inline-block;\">.</span></p>\n",
      "    <p><b style=\"text-decoration: line-through;;\">positive</b> -> <span style=\"display: inline-block;\">ex</span> <span style=\"display: inline-block;\">quibus</span> <span style=\"display: inline-block;\">una</span> <span style=\"display: inline-block;\">instanti</span> <span style=\"display: inline-block;\">Tigellino</span> <span style=\"display: inline-block;\">castiora</span> <span style=\"display: inline-block;\">esse</span> <span style=\"display: inline-block;\">muliebria</span> <span style=\"display: inline-block;\">Octaviae</span> <span style=\"display: inline-block;\">respondit</span> <span style=\"display: inline-block;\">quam</span> <span style=\"display: inline-block;\">os</span> <span style=\"display: inline-block;\">eius</span> <span style=\"display: inline-block;\">.</span></p>\n",
      "    <p><b style=\"text-decoration: line-through;;\">negative</b> -> <span style=\"display: inline-block;\">In</span> <span style=\"display: inline-block;\">ipso</span> <span style=\"display: inline-block;\">autem</span> <span style=\"display: inline-block;\">oculo</span> <span style=\"display: inline-block;\">nonnumquam</span> <span style=\"display: inline-block;\">summa</span> <span style=\"display: inline-block;\">attollitur</span> <span style=\"display: inline-block;\">tunica</span> <span style=\"display: inline-block;\">,</span> <span style=\"display: inline-block;\">sive</span> <span style=\"display: inline-block;\">ruptis</span> <span style=\"display: inline-block;\">intus</span> <span style=\"display: inline-block;\">membranis</span> <span style=\"display: inline-block;\">aliquibus</span> <span style=\"display: inline-block;\">,</span> <span style=\"display: inline-block;\">sive</span> <span style=\"display: inline-block;\">laxatis</span> <span style=\"display: inline-block;\">;</span></p>\n",
      "    <p><b style=\"text-decoration: line-through;;\">negative</b> -> <span style=\"display: inline-block;\">Recipit</span> <span style=\"display: inline-block;\">cadmiae</span> <span style=\"display: inline-block;\">combustae</span> <span style=\"display: inline-block;\">et</span> <span style=\"display: inline-block;\">lotae</span> <span style=\"display: inline-block;\">dr</span> <span style=\"display: inline-block;\">.</span></p>\n",
      "    <p><b style=\"text-decoration: line-through;;\">negative</b> -> <span style=\"display: inline-block;\">Stat</span> <span style=\"display: inline-block;\">lassus</span> <span style=\"display: inline-block;\">vacuo</span> <span style=\"display: inline-block;\">gutture</span> <span style=\"display: inline-block;\">Tantalus</span> <span style=\"display: inline-block;\">:</span> <span style=\"display: inline-block;\">impendet</span> <span style=\"display: inline-block;\">capiti</span> <span style=\"display: inline-block;\">plurima</span> <span style=\"display: inline-block;\">noxio</span> <span style=\"display: inline-block;\">Phineis</span> <span style=\"display: inline-block;\">avibus</span> <span style=\"display: inline-block;\">praeda</span> <span style=\"display: inline-block;\">fugacior</span> <span style=\"display: inline-block;\">;</span></p>\n",
      "    <p><b style=\"text-decoration: line-through;;\">positive</b> -> <span style=\"display: inline-block;\">quod</span> <span style=\"display: inline-block;\">vulgo</span> <span style=\"display: inline-block;\">dicitur</span> <span style=\"display: inline-block;\">:</span> <span style=\"display: inline-block;\">\"</span> <span style=\"display: inline-block;\">cum</span> <span style=\"display: inline-block;\">nos</span> <span style=\"display: inline-block;\">te</span> <span style=\"display: inline-block;\">voluimus</span> <span style=\"display: inline-block;\">convenire</span> <span style=\"display: inline-block;\">,</span> <span style=\"display: inline-block;\">\"</span> <span style=\"display: inline-block;\">num</span> <span style=\"display: inline-block;\">obscenum</span> <span style=\"display: inline-block;\">est</span> <span style=\"display: inline-block;\">?</span></p>\n",
      "    <p><b style=\"text-decoration: line-through;;\">positive</b> -> <span style=\"display: inline-block;\">non</span> <span style=\"display: inline-block;\">animae</span> <span style=\"display: inline-block;\">capax</span> <span style=\"display: inline-block;\">in</span> <span style=\"display: inline-block;\">parte</span> <span style=\"display: inline-block;\">dextra</span> <span style=\"display: inline-block;\">pulmo</span> <span style=\"display: inline-block;\">sanguineus</span> <span style=\"display: inline-block;\">iacet</span> <span style=\"display: inline-block;\">,</span> <span style=\"display: inline-block;\">non</span> <span style=\"display: inline-block;\">laeva</span> <span style=\"display: inline-block;\">cordi</span> <span style=\"display: inline-block;\">regio</span> <span style=\"display: inline-block;\">,</span> <span style=\"display: inline-block;\">non</span> <span style=\"display: inline-block;\">molli</span> <span style=\"display: inline-block;\">ambitu</span> <span style=\"display: inline-block;\">omenta</span> <span style=\"display: inline-block;\">pingues</span> <span style=\"display: inline-block;\">visceri</span> <span style=\"display: inline-block;\">obtendunt</span> <span style=\"display: inline-block;\">sinus</span> <span style=\"display: inline-block;\">:</span> <span style=\"display: inline-block;\">natura</span> <span style=\"display: inline-block;\">versa</span> <span style=\"display: inline-block;\">est</span> <span style=\"display: inline-block;\">,</span> <span style=\"display: inline-block;\">nulla</span> <span style=\"display: inline-block;\">lex</span> <span style=\"display: inline-block;\">utero</span> <span style=\"display: inline-block;\">manet</span> <span style=\"display: inline-block;\">,</span> <span style=\"display: inline-block;\">scrutemur</span> <span style=\"display: inline-block;\">,</span> <span style=\"display: inline-block;\">unde</span> <span style=\"display: inline-block;\">tantus</span> <span style=\"display: inline-block;\">hic</span> <span style=\"display: inline-block;\">extis</span> <span style=\"display: inline-block;\">rigor</span> <span style=\"display: inline-block;\">.</span></p>\n",
      "    <p><b style=\"text-decoration: line-through;;\">negative</b> -> <span style=\"display: inline-block;\">forma</span> <span style=\"display: inline-block;\">hominis</span> <span style=\"display: inline-block;\">coepti</span> <span style=\"display: inline-block;\">plenique</span> <span style=\"display: inline-block;\">-que</span> <span style=\"display: inline-block;\">exactio</span> <span style=\"display: inline-block;\">partus</span> <span style=\"display: inline-block;\">quique</span> <span style=\"display: inline-block;\">-que</span> <span style=\"display: inline-block;\">novem</span> <span style=\"display: inline-block;\">novies</span> <span style=\"display: inline-block;\">fati</span> <span style=\"display: inline-block;\">tenet</span> <span style=\"display: inline-block;\">ultima</span> <span style=\"display: inline-block;\">finis</span> <span style=\"display: inline-block;\">,</span> <span style=\"display: inline-block;\">tris</span> <span style=\"display: inline-block;\">Ope</span> <span style=\"display: inline-block;\">progeniti</span> <span style=\"display: inline-block;\">fratres</span> <span style=\"display: inline-block;\">,</span> <span style=\"display: inline-block;\">tris</span> <span style=\"display: inline-block;\">ordine</span> <span style=\"display: inline-block;\">partae</span> <span style=\"display: inline-block;\">,</span> <span style=\"display: inline-block;\">Vesta</span> <span style=\"display: inline-block;\">,</span> <span style=\"display: inline-block;\">Ceres</span> <span style=\"display: inline-block;\">et</span> <span style=\"display: inline-block;\">Iuno</span> <span style=\"display: inline-block;\">,</span> <span style=\"display: inline-block;\">secus</span> <span style=\"display: inline-block;\">muliebre</span> <span style=\"display: inline-block;\">,</span> <span style=\"display: inline-block;\">sorores</span> <span style=\"display: inline-block;\">.</span></p>\n",
      "    <p><b style=\"text-decoration: line-through;;\">negative</b> -> <span style=\"display: inline-block;\">I</span> <span style=\"display: inline-block;\">nubis</span> <span style=\"display: inline-block;\">verna</span> <span style=\"display: inline-block;\">pluit</span> <span style=\"display: inline-block;\">zephyro</span> <span style=\"display: inline-block;\">inpellente</span> <span style=\"display: inline-block;\">,</span> <span style=\"display: inline-block;\">sed</span> <span style=\"display: inline-block;\">aeque</span> <span style=\"display: inline-block;\">I</span> <span style=\"display: inline-block;\">furis</span> <span style=\"display: inline-block;\">et</span> <span style=\"display: inline-block;\">innocui</span> <span style=\"display: inline-block;\">fecundat</span> <span style=\"display: inline-block;\">rura</span> <span style=\"display: inline-block;\">coloni</span> <span style=\"display: inline-block;\">.</span></p>\n",
      "    <p><b style=\"text-decoration: line-through;;\">negative</b> -> <span style=\"display: inline-block;\">neque</span> <span style=\"display: inline-block;\">adfectui</span> <span style=\"display: inline-block;\">suo</span> <span style=\"display: inline-block;\">aut</span> <span style=\"display: inline-block;\">alieno</span> <span style=\"display: inline-block;\">obnoxia</span> <span style=\"display: inline-block;\">,</span> <span style=\"display: inline-block;\">unde</span> <span style=\"display: inline-block;\">utilitas</span> <span style=\"display: inline-block;\">ostenderetur</span> <span style=\"display: inline-block;\">,</span> <span style=\"display: inline-block;\">illuc</span> <span style=\"display: inline-block;\">libidinem</span> <span style=\"display: inline-block;\">transferebat</span> <span style=\"display: inline-block;\">.</span></p>\n",
      "    <p><b style=\"text-decoration: line-through;;\">negative</b> -> <span style=\"display: inline-block;\">Hellanicus</span> <span style=\"display: inline-block;\">uero</span> <span style=\"display: inline-block;\">ait</span> <span style=\"display: inline-block;\">quosdam</span> <span style=\"display: inline-block;\">ex</span> <span style=\"display: inline-block;\">gente</span> <span style=\"display: inline-block;\">Epiorum</span> <span style=\"display: inline-block;\">,</span> <span style=\"display: inline-block;\">quae</span> <span style=\"display: inline-block;\">pars</span> <span style=\"display: inline-block;\">Aetoliae</span> <span style=\"display: inline-block;\">est</span> <span style=\"display: inline-block;\">,</span> <span style=\"display: inline-block;\">ducenos</span> <span style=\"display: inline-block;\">explere</span> <span style=\"display: inline-block;\">annos</span> <span style=\"display: inline-block;\">,</span> <span style=\"display: inline-block;\">eique</span> <span style=\"display: inline-block;\">-que</span> <span style=\"display: inline-block;\">suscribit</span> <span style=\"display: inline-block;\">Damastes</span> <span style=\"display: inline-block;\">,</span> <span style=\"display: inline-block;\">hoc</span> <span style=\"display: inline-block;\">amplius</span> <span style=\"display: inline-block;\">adfirmans</span> <span style=\"display: inline-block;\">,</span> <span style=\"display: inline-block;\">Litorium</span> <span style=\"display: inline-block;\">quendam</span> <span style=\"display: inline-block;\">ex</span> <span style=\"display: inline-block;\">his</span> <span style=\"display: inline-block;\">maximarum</span> <span style=\"display: inline-block;\">uirium</span> <span style=\"display: inline-block;\">staturaeque</span> <span style=\"display: inline-block;\">-que</span> <span style=\"display: inline-block;\">praecipuae</span> <span style=\"display: inline-block;\">trecentesimum</span> <span style=\"display: inline-block;\">annum</span> <span style=\"display: inline-block;\">cumulasse</span> <span style=\"display: inline-block;\">.</span></p>\n",
      "    <p><b style=\"text-decoration: line-through;;\">positive</b> -> <span style=\"display: inline-block;\">Nam</span> <span style=\"display: inline-block;\">si</span> <span style=\"display: inline-block;\">te</span> <span style=\"display: inline-block;\">vel</span> <span style=\"display: inline-block;\">modice</span> <span style=\"display: inline-block;\">meus</span> <span style=\"display: inline-block;\">igniculus</span> <span style=\"display: inline-block;\">afflaverit</span> <span style=\"display: inline-block;\">,</span> <span style=\"display: inline-block;\">ureris</span> <span style=\"display: inline-block;\">intime</span> <span style=\"display: inline-block;\">nec</span> <span style=\"display: inline-block;\">ullus</span> <span style=\"display: inline-block;\">extinguet</span> <span style=\"display: inline-block;\">ardorem</span> <span style=\"display: inline-block;\">tuum</span> <span style=\"display: inline-block;\">nisi</span> <span style=\"display: inline-block;\">ego</span> <span style=\"display: inline-block;\">,</span> <span style=\"display: inline-block;\">quae</span> <span style=\"display: inline-block;\">dulce</span> <span style=\"display: inline-block;\">condiens</span> <span style=\"display: inline-block;\">et</span> <span style=\"display: inline-block;\">ollam</span> <span style=\"display: inline-block;\">et</span> <span style=\"display: inline-block;\">lectulum</span> <span style=\"display: inline-block;\">suave</span> <span style=\"display: inline-block;\">quatere</span> <span style=\"display: inline-block;\">novi</span> <span style=\"display: inline-block;\">,</span></p>\n",
      "    <p><b style=\"text-decoration: line-through;;\">negative</b> -> <span style=\"display: inline-block;\">Nox</span> <span style=\"display: inline-block;\">tibi</span> <span style=\"display: inline-block;\">,</span> <span style=\"display: inline-block;\">si</span> <span style=\"display: inline-block;\">belles</span> <span style=\"display: inline-block;\">,</span> <span style=\"display: inline-block;\">possit</span> <span style=\"display: inline-block;\">,</span> <span style=\"display: inline-block;\">Homere</span> <span style=\"display: inline-block;\">,</span> <span style=\"display: inline-block;\">dari</span> <span style=\"display: inline-block;\">.</span></p>\n",
      "    <p><b style=\"text-decoration: line-through;;\">positive</b> -> <span style=\"display: inline-block;\">Et</span> <span style=\"display: inline-block;\">idcirco</span> <span style=\"display: inline-block;\">consulte</span> <span style=\"display: inline-block;\">et</span> <span style=\"display: inline-block;\">çum</span> <span style=\"display: inline-block;\">uigore</span> <span style=\"display: inline-block;\">fecisti</span> <span style=\"display: inline-block;\">,</span> <span style=\"display: inline-block;\">frater</span> <span style=\"display: inline-block;\">carissime</span> <span style=\"display: inline-block;\">,</span> <span style=\"display: inline-block;\">abstinendo</span> <span style=\"display: inline-block;\">diaconum</span> <span style=\"display: inline-block;\">qui</span> <span style=\"display: inline-block;\">cum</span> <span style=\"display: inline-block;\">uirgine</span> <span style=\"display: inline-block;\">saepe</span> <span style=\"display: inline-block;\">mansit</span> <span style=\"display: inline-block;\">,</span> <span style=\"display: inline-block;\">sed</span> <span style=\"display: inline-block;\">et</span> <span style=\"display: inline-block;\">ceteros</span> <span style=\"display: inline-block;\">qui</span> <span style=\"display: inline-block;\">cum</span> <span style=\"display: inline-block;\">uirginibus</span> <span style=\"display: inline-block;\">dormire</span> <span style=\"display: inline-block;\">consueuerant</span> <span style=\"display: inline-block;\">.</span></p>\n",
      "    <p><b style=\"text-decoration: line-through;;\">positive</b> -> <span style=\"display: inline-block;\">Tamquam</span> <span style=\"display: inline-block;\">simpliciter</span> <span style=\"display: inline-block;\">mecum</span> <span style=\"display: inline-block;\">-cum</span> <span style=\"display: inline-block;\">,</span> <span style=\"display: inline-block;\">Callistrate</span> <span style=\"display: inline-block;\">,</span> <span style=\"display: inline-block;\">vivas</span> <span style=\"display: inline-block;\">,</span> <span style=\"display: inline-block;\">Dicere</span> <span style=\"display: inline-block;\">percisum</span> <span style=\"display: inline-block;\">te</span> <span style=\"display: inline-block;\">mihi</span> <span style=\"display: inline-block;\">saepe</span> <span style=\"display: inline-block;\">soles</span> <span style=\"display: inline-block;\">.</span></p>\n",
      "    <p><b style=\"text-decoration: line-through;;\">positive</b> -> <span style=\"display: inline-block;\">Si</span> <span style=\"display: inline-block;\">inter</span> <span style=\"display: inline-block;\">extraneos</span> <span style=\"display: inline-block;\">facta</span> <span style=\"display: inline-block;\">sit</span> <span style=\"display: inline-block;\">donatio</span> <span style=\"display: inline-block;\">et</span> <span style=\"display: inline-block;\">antequam</span> <span style=\"display: inline-block;\">per</span> <span style=\"display: inline-block;\">tempus</span> <span style=\"display: inline-block;\">legitimum</span> <span style=\"display: inline-block;\">dominium</span> <span style=\"display: inline-block;\">fuerit</span> <span style=\"display: inline-block;\">adquisitum</span> <span style=\"display: inline-block;\">,</span> <span style=\"display: inline-block;\">coierint</span></p>\n",
      "    <p><b style=\"text-decoration: line-through;;\">negative</b> -> <span style=\"display: inline-block;\">uiginti</span> <span style=\"display: inline-block;\">enim</span> <span style=\"display: inline-block;\">non</span> <span style=\"display: inline-block;\">subscripserant</span> <span style=\"display: inline-block;\">,</span> <span style=\"display: inline-block;\">qui</span> <span style=\"display: inline-block;\">tamen</span> <span style=\"display: inline-block;\">suam</span> <span style=\"display: inline-block;\">exhibentes</span> <span style=\"display: inline-block;\">praesentiam</span> <span style=\"display: inline-block;\">et</span> <span style=\"display: inline-block;\">in</span> <span style=\"display: inline-block;\">medium</span> <span style=\"display: inline-block;\">procedentes</span> <span style=\"display: inline-block;\">,</span> <span style=\"display: inline-block;\">nisi</span> <span style=\"display: inline-block;\">quos</span> <span style=\"display: inline-block;\">infirmitas</span> <span style=\"display: inline-block;\">corporis</span> <span style=\"display: inline-block;\">illic</span> <span style=\"display: inline-block;\">apud</span> <span style=\"display: inline-block;\">Carthaginem</span> <span style=\"display: inline-block;\">tenuit</span> <span style=\"display: inline-block;\">,</span> <span style=\"display: inline-block;\">praesentibus</span> <span style=\"display: inline-block;\">gestis</span> <span style=\"display: inline-block;\">se</span> <span style=\"display: inline-block;\">mandare</span> <span style=\"display: inline-block;\">et</span> <span style=\"display: inline-block;\">consentire</span> <span style=\"display: inline-block;\">professi</span> <span style=\"display: inline-block;\">sunt</span> <span style=\"display: inline-block;\">.</span></p>\n",
      "    <p><b style=\"text-decoration: line-through;;\">negative</b> -> <span style=\"display: inline-block;\">cum</span> <span style=\"display: inline-block;\">aliquid</span> <span style=\"display: inline-block;\">incidit</span> <span style=\"display: inline-block;\">quod</span> <span style=\"display: inline-block;\">disturbet</span> <span style=\"display: inline-block;\">ac</span> <span style=\"display: inline-block;\">detegat</span> <span style=\"display: inline-block;\">,</span> <span style=\"display: inline-block;\">tunc</span> <span style=\"display: inline-block;\">apparet</span> <span style=\"display: inline-block;\">quantum</span> <span style=\"display: inline-block;\">altae</span> <span style=\"display: inline-block;\">ac</span> <span style=\"display: inline-block;\">verae</span> <span style=\"display: inline-block;\">foeditatis</span> <span style=\"display: inline-block;\">alienus</span> <span style=\"display: inline-block;\">splendor</span> <span style=\"display: inline-block;\">absconderit</span> <span style=\"display: inline-block;\">.</span></p>\n",
      "    <p><b style=\"text-decoration: line-through;;\">negative</b> -> <span style=\"display: inline-block;\">castellum</span> <span style=\"display: inline-block;\">quippe</span> <span style=\"display: inline-block;\">illud</span> <span style=\"display: inline-block;\">non</span> <span style=\"display: inline-block;\">absurde</span> <span style=\"display: inline-block;\">accipimus</span> <span style=\"display: inline-block;\">etiam</span> <span style=\"display: inline-block;\">uillam</span> <span style=\"display: inline-block;\">potuisse</span> <span style=\"display: inline-block;\">appellari</span> <span style=\"display: inline-block;\">,</span> <span style=\"display: inline-block;\">quod</span> <span style=\"display: inline-block;\">nunc</span> <span style=\"display: inline-block;\">iam</span> <span style=\"display: inline-block;\">appellatur</span> <span style=\"display: inline-block;\">ipsa</span> <span style=\"display: inline-block;\">Bethlem</span> <span style=\"display: inline-block;\">,</span> <span style=\"display: inline-block;\">quae</span> <span style=\"display: inline-block;\">ciuitas</span> <span style=\"display: inline-block;\">antea</span> <span style=\"display: inline-block;\">uocitata</span> <span style=\"display: inline-block;\">est</span> <span style=\"display: inline-block;\">,</span> <span style=\"display: inline-block;\">quamuis</span> <span style=\"display: inline-block;\">nunc</span> <span style=\"display: inline-block;\">sit</span> <span style=\"display: inline-block;\">honoris</span> <span style=\"display: inline-block;\">amplioris</span> <span style=\"display: inline-block;\">nomine</span> <span style=\"display: inline-block;\">domini</span> <span style=\"display: inline-block;\">.</span></p>\n",
      "    <p><b style=\"text-decoration: line-through;;\">negative</b> -> <span style=\"display: inline-block;\">quam</span> <span style=\"display: inline-block;\">similitudinem</span> <span style=\"display: inline-block;\">videmus</span> <span style=\"display: inline-block;\">in</span> <span style=\"display: inline-block;\">bestiis</span> <span style=\"display: inline-block;\">,</span> <span style=\"display: inline-block;\">quae</span> <span style=\"display: inline-block;\">primo</span> <span style=\"display: inline-block;\">,</span> <span style=\"display: inline-block;\">in</span> <span style=\"display: inline-block;\">quo</span> <span style=\"display: inline-block;\">loco</span> <span style=\"display: inline-block;\">natae</span> <span style=\"display: inline-block;\">sunt</span> <span style=\"display: inline-block;\">,</span> <span style=\"display: inline-block;\">ex</span> <span style=\"display: inline-block;\">eo</span> <span style=\"display: inline-block;\">se</span> <span style=\"display: inline-block;\">non</span> <span style=\"display: inline-block;\">commovent</span> <span style=\"display: inline-block;\">,</span> <span style=\"display: inline-block;\">deinde</span> <span style=\"display: inline-block;\">suo</span> <span style=\"display: inline-block;\">quaeque</span> <span style=\"display: inline-block;\">appetitu</span> <span style=\"display: inline-block;\">movetur</span> <span style=\"display: inline-block;\">.</span></p>\n",
      "    <p><b style=\"text-decoration: line-through;;\">negative</b> -> <span style=\"display: inline-block;\">in</span> <span style=\"display: inline-block;\">uenerio</span> <span style=\"display: inline-block;\">coitu</span> <span style=\"display: inline-block;\">facit</span> <span style=\"display: inline-block;\">libidinosos</span> <span style=\"display: inline-block;\">et</span> <span style=\"display: inline-block;\">uitiis</span> <span style=\"display: inline-block;\">quibusdam</span> <span style=\"display: inline-block;\">semper</span> <span style=\"display: inline-block;\">implicitos</span> <span style=\"display: inline-block;\">et</span> <span style=\"display: inline-block;\">qui</span> <span style=\"display: inline-block;\">adsiduis</span> <span style=\"display: inline-block;\">ob</span> <span style=\"display: inline-block;\">haec</span> <span style=\"display: inline-block;\">pulsantur</span> <span style=\"display: inline-block;\">infamiis</span> <span style=\"display: inline-block;\">.</span></p>\n",
      "    <p><b style=\"text-decoration: line-through;;\">negative</b> -> <span style=\"display: inline-block;\">Quare</span> <span style=\"display: inline-block;\">iratus</span> <span style=\"display: inline-block;\">Cappadociam</span> <span style=\"display: inline-block;\">statim</span> <span style=\"display: inline-block;\">occupavit</span> <span style=\"display: inline-block;\">et</span> <span style=\"display: inline-block;\">ex</span> <span style=\"display: inline-block;\">ea</span> <span style=\"display: inline-block;\">Ariobarzanen</span> <span style=\"display: inline-block;\">,</span> <span style=\"display: inline-block;\">regem</span> <span style=\"display: inline-block;\">et</span> <span style=\"display: inline-block;\">amicum</span> <span style=\"display: inline-block;\">populi</span> <span style=\"display: inline-block;\">Romani</span> <span style=\"display: inline-block;\">,</span> <span style=\"display: inline-block;\">fugavit</span> <span style=\"display: inline-block;\">.</span></p>\n",
      "    <p><b style=\"text-decoration: line-through;;\">positive</b> -> <span style=\"display: inline-block;\">Cum</span> <span style=\"display: inline-block;\">mora</span> <span style=\"display: inline-block;\">non</span> <span style=\"display: inline-block;\">tuta</span> <span style=\"display: inline-block;\">est</span> <span style=\"display: inline-block;\">,</span> <span style=\"display: inline-block;\">totis</span> <span style=\"display: inline-block;\">incumbere</span> <span style=\"display: inline-block;\">remis</span> <span style=\"display: inline-block;\">Utile</span> <span style=\"display: inline-block;\">,</span> <span style=\"display: inline-block;\">et</span> <span style=\"display: inline-block;\">admisso</span> <span style=\"display: inline-block;\">subdere</span> <span style=\"display: inline-block;\">calcar</span> <span style=\"display: inline-block;\">equo</span> <span style=\"display: inline-block;\">.</span></p>\n",
      "    <p><b style=\"text-decoration: line-through;;\">negative</b> -> <span style=\"display: inline-block;\">Peior</span> <span style=\"display: inline-block;\">est</span> <span style=\"display: inline-block;\">quam</span> <span style=\"display: inline-block;\">luxuria</span> <span style=\"display: inline-block;\">,</span> <span style=\"display: inline-block;\">quoniam</span> <span style=\"display: inline-block;\">illa</span> <span style=\"display: inline-block;\">sua</span> <span style=\"display: inline-block;\">voluptate</span> <span style=\"display: inline-block;\">fruitur</span> <span style=\"display: inline-block;\">,</span> <span style=\"display: inline-block;\">haec</span> <span style=\"display: inline-block;\">alieno</span> <span style=\"display: inline-block;\">dolore</span> <span style=\"display: inline-block;\">.</span></p>\n",
      "    <p><b style=\"text-decoration: line-through;;\">positive</b> -> <span style=\"display: inline-block;\">\"</span> <span style=\"display: inline-block;\">Nube</span> <span style=\"display: inline-block;\">,</span> <span style=\"display: inline-block;\">precor</span> <span style=\"display: inline-block;\">,</span> <span style=\"display: inline-block;\">\"</span> <span style=\"display: inline-block;\">dicet</span> <span style=\"display: inline-block;\">,</span> <span style=\"display: inline-block;\">\"</span> <span style=\"display: inline-block;\">cui</span> <span style=\"display: inline-block;\">te</span> <span style=\"display: inline-block;\">bona</span> <span style=\"display: inline-block;\">numina</span> <span style=\"display: inline-block;\">iungunt</span> <span style=\"display: inline-block;\">;</span></p>\n",
      "    <p><b style=\"text-decoration: line-through;;\">negative</b> -> <span style=\"display: inline-block;\">cuius</span> <span style=\"display: inline-block;\">regnum</span> <span style=\"display: inline-block;\">continuo</span> <span style=\"display: inline-block;\">Romulus</span> <span style=\"display: inline-block;\">parricidio</span> <span style=\"display: inline-block;\">imbuit</span> <span style=\"display: inline-block;\">,</span> <span style=\"display: inline-block;\">parique</span> <span style=\"display: inline-block;\">-que</span> <span style=\"display: inline-block;\">successu</span> <span style=\"display: inline-block;\">crudelitatis</span> <span style=\"display: inline-block;\">sine</span> <span style=\"display: inline-block;\">more</span> <span style=\"display: inline-block;\">raptas</span> <span style=\"display: inline-block;\">Sabinas</span> <span style=\"display: inline-block;\">,</span> <span style=\"display: inline-block;\">inprobis</span> <span style=\"display: inline-block;\">nuptiis</span> <span style=\"display: inline-block;\">confoederatas</span> <span style=\"display: inline-block;\">maritorum</span> <span style=\"display: inline-block;\">et</span> <span style=\"display: inline-block;\">parentum</span> <span style=\"display: inline-block;\">cruore</span> <span style=\"display: inline-block;\">dotauit</span> <span style=\"display: inline-block;\">.</span></p>\n",
      "    <p><b style=\"text-decoration: line-through;;\">negative</b> -> <span style=\"display: inline-block;\">Ne</span> <span style=\"display: inline-block;\">toga</span> <span style=\"display: inline-block;\">cordylis</span> <span style=\"display: inline-block;\">et</span> <span style=\"display: inline-block;\">paenula</span> <span style=\"display: inline-block;\">desit</span> <span style=\"display: inline-block;\">olivis</span> <span style=\"display: inline-block;\">Aut</span> <span style=\"display: inline-block;\">inopem</span> <span style=\"display: inline-block;\">metuat</span> <span style=\"display: inline-block;\">sordida</span> <span style=\"display: inline-block;\">blatta</span> <span style=\"display: inline-block;\">famem</span> <span style=\"display: inline-block;\">,</span> <span style=\"display: inline-block;\">Perdite</span> <span style=\"display: inline-block;\">Niliacas</span> <span style=\"display: inline-block;\">,</span> <span style=\"display: inline-block;\">Musae</span> <span style=\"display: inline-block;\">,</span> <span style=\"display: inline-block;\">mea</span> <span style=\"display: inline-block;\">damna</span> <span style=\"display: inline-block;\">,</span> <span style=\"display: inline-block;\">papyros</span> <span style=\"display: inline-block;\">:</span> <span style=\"display: inline-block;\">Postulat</span> <span style=\"display: inline-block;\">,</span> <span style=\"display: inline-block;\">ecce</span> <span style=\"display: inline-block;\">,</span> <span style=\"display: inline-block;\">novos</span> <span style=\"display: inline-block;\">ebria</span> <span style=\"display: inline-block;\">bruma</span> <span style=\"display: inline-block;\">sales</span> <span style=\"display: inline-block;\">.</span></p>\n",
      "    <p><b style=\"text-decoration: line-through;;\">negative</b> -> <span style=\"display: inline-block;\">Nec</span> <span style=\"display: inline-block;\">tamen</span> <span style=\"display: inline-block;\">indignum</span> <span style=\"display: inline-block;\">:</span> <span style=\"display: inline-block;\">sit</span> <span style=\"display: inline-block;\">vobis</span> <span style=\"display: inline-block;\">cura</span> <span style=\"display: inline-block;\">placendi</span> <span style=\"display: inline-block;\">,</span> <span style=\"display: inline-block;\">Cum</span> <span style=\"display: inline-block;\">comptos</span> <span style=\"display: inline-block;\">habeant</span> <span style=\"display: inline-block;\">saecula</span> <span style=\"display: inline-block;\">nostra</span> <span style=\"display: inline-block;\">viros</span> <span style=\"display: inline-block;\">.</span></p>\n",
      "    <p><b style=\"text-decoration: line-through;;\">positive</b> -> <span style=\"display: inline-block;\">post</span> <span style=\"display: inline-block;\">si</span> <span style=\"display: inline-block;\">quis</span> <span style=\"display: inline-block;\">vellet</span> <span style=\"display: inline-block;\">,</span> <span style=\"display: inline-block;\">te</span> <span style=\"display: inline-block;\">haud</span> <span style=\"display: inline-block;\">non</span> <span style=\"display: inline-block;\">velles</span> <span style=\"display: inline-block;\">dividi</span> <span style=\"display: inline-block;\">.</span></p>\n",
      "    <p><b style=\"text-decoration: line-through;;\">positive</b> -> <span style=\"display: inline-block;\">tibi</span> <span style=\"display: inline-block;\">uni</span> <span style=\"display: inline-block;\">peteres</span> <span style=\"display: inline-block;\">qui</span> <span style=\"display: inline-block;\">ita</span> <span style=\"display: inline-block;\">a</span> <span style=\"display: inline-block;\">puero</span> <span style=\"display: inline-block;\">vixeras</span> <span style=\"display: inline-block;\">ut</span> <span style=\"display: inline-block;\">omnia</span> <span style=\"display: inline-block;\">paterere</span> <span style=\"display: inline-block;\">,</span> <span style=\"display: inline-block;\">ut</span> <span style=\"display: inline-block;\">facile</span> <span style=\"display: inline-block;\">servires</span></p>\n",
      "    <p><b style=\"text-decoration: line-through;;\">negative</b> -> <span style=\"display: inline-block;\">amabilius</span> <span style=\"display: inline-block;\">quidem</span> <span style=\"display: inline-block;\">a</span> <span style=\"display: inline-block;\">matre</span> <span style=\"display: inline-block;\">nutriri</span> <span style=\"display: inline-block;\">possunt</span> <span style=\"display: inline-block;\">.</span></p>\n",
      "    <p><b style=\"text-decoration: line-through;;\">positive</b> -> <span style=\"display: inline-block;\">memoratur</span> <span style=\"display: inline-block;\">et</span> <span style=\"display: inline-block;\">Nicomedis</span> <span style=\"display: inline-block;\">Bithyniae</span> <span style=\"display: inline-block;\">regis</span> <span style=\"display: inline-block;\">,</span> <span style=\"display: inline-block;\">uxore</span> <span style=\"display: inline-block;\">eius</span> <span style=\"display: inline-block;\">Cosingi</span> <span style=\"display: inline-block;\">lacerata</span> <span style=\"display: inline-block;\">propter</span> <span style=\"display: inline-block;\">lasciviorem</span> <span style=\"display: inline-block;\">cum</span> <span style=\"display: inline-block;\">marito</span> <span style=\"display: inline-block;\">iocum</span> <span style=\"display: inline-block;\">.</span></p>\n",
      "    <p><b style=\"text-decoration: line-through;;\">negative</b> -> <span style=\"display: inline-block;\">Secundum</span> <span style=\"display: inline-block;\">Punicum</span> <span style=\"display: inline-block;\">bellum</span> <span style=\"display: inline-block;\">longe</span> <span style=\"display: inline-block;\">omnium</span> <span style=\"display: inline-block;\">cruentissimum</span> <span style=\"display: inline-block;\">fuit</span> <span style=\"display: inline-block;\">:</span> <span style=\"display: inline-block;\">causa</span> <span style=\"display: inline-block;\">,</span> <span style=\"display: inline-block;\">quod</span> <span style=\"display: inline-block;\">Hannibal</span> <span style=\"display: inline-block;\">contra</span> <span style=\"display: inline-block;\">foedus</span> <span style=\"display: inline-block;\">Saguntum</span> <span style=\"display: inline-block;\">euertisset</span> <span style=\"display: inline-block;\">.</span></p>\n",
      "    <p><b style=\"text-decoration: line-through;;\">negative</b> -> <span style=\"display: inline-block;\">parvus</span> <span style=\"display: inline-block;\">reptavit</span> <span style=\"display: inline-block;\">in</span> <span style=\"display: inline-block;\">isto</span> <span style=\"display: inline-block;\">saepe</span> <span style=\"display: inline-block;\">sinu</span> <span style=\"display: inline-block;\">teneroque</span> <span style=\"display: inline-block;\">-que</span> <span style=\"display: inline-block;\">per</span> <span style=\"display: inline-block;\">ardua</span> <span style=\"display: inline-block;\">colla</span> <span style=\"display: inline-block;\">volutus</span> <span style=\"display: inline-block;\">ubera</span> <span style=\"display: inline-block;\">quaesivit</span> <span style=\"display: inline-block;\">fletu</span> <span style=\"display: inline-block;\">linguisque</span> <span style=\"display: inline-block;\">-que</span> <span style=\"display: inline-block;\">trisulcis</span> <span style=\"display: inline-block;\">mollia</span> <span style=\"display: inline-block;\">lambentes</span> <span style=\"display: inline-block;\">finxerunt</span> <span style=\"display: inline-block;\">membra</span> <span style=\"display: inline-block;\">cerastae</span> <span style=\"display: inline-block;\">;</span></p>\n",
      "    <p><b style=\"text-decoration: line-through;;\">negative</b> -> <span style=\"display: inline-block;\">quid</span> <span style=\"display: inline-block;\">moror</span> <span style=\"display: inline-block;\">invisam</span> <span style=\"display: inline-block;\">lucem</span> <span style=\"display: inline-block;\">?</span></p>\n",
      "    <p><b style=\"text-decoration: line-through;;\">negative</b> -> <span style=\"display: inline-block;\">quarto</span> <span style=\"display: inline-block;\">dissereret</span> <span style=\"display: inline-block;\">,</span> <span style=\"display: inline-block;\">\"</span> <span style=\"display: inline-block;\">nihil</span> <span style=\"display: inline-block;\">prorsus</span> <span style=\"display: inline-block;\">\"</span> <span style=\"display: inline-block;\">inquit</span> <span style=\"display: inline-block;\">\"</span> <span style=\"display: inline-block;\">istis</span> <span style=\"display: inline-block;\">insulsius</span> <span style=\"display: inline-block;\">qui</span> <span style=\"display: inline-block;\">opinantur</span> <span style=\"display: inline-block;\">bona</span> <span style=\"display: inline-block;\">esse</span> <span style=\"display: inline-block;\">potuisse</span> <span style=\"display: inline-block;\">,</span> <span style=\"display: inline-block;\">si</span> <span style=\"display: inline-block;\">non</span> <span style=\"display: inline-block;\">essent</span> <span style=\"display: inline-block;\">itidem</span> <span style=\"display: inline-block;\">mala</span> <span style=\"display: inline-block;\">.</span></p>\n",
      "    <p><b style=\"text-decoration: line-through;;\">negative</b> -> <span style=\"display: inline-block;\">multis</span> <span style=\"display: inline-block;\">licet</span> <span style=\"display: inline-block;\">uersetur</span> <span style=\"display: inline-block;\">in</span> <span style=\"display: inline-block;\">milibus</span> <span style=\"display: inline-block;\">ouium</span> <span style=\"display: inline-block;\">,</span> <span style=\"display: inline-block;\">recognoscit</span> <span style=\"display: inline-block;\">uocem</span> <span style=\"display: inline-block;\">parentis</span> <span style=\"display: inline-block;\">,</span> <span style=\"display: inline-block;\">festinat</span> <span style=\"display: inline-block;\">ad</span> <span style=\"display: inline-block;\">matrem</span> <span style=\"display: inline-block;\">,</span> <span style=\"display: inline-block;\">lactis</span> <span style=\"display: inline-block;\">quoque</span> <span style=\"display: inline-block;\">materni</span> <span style=\"display: inline-block;\">notos</span> <span style=\"display: inline-block;\">sibi</span> <span style=\"display: inline-block;\">fontes</span> <span style=\"display: inline-block;\">requirit</span> <span style=\"display: inline-block;\">.</span></p>\n",
      "    <p><b style=\"text-decoration: line-through;;\">positive</b> -> <span style=\"display: inline-block;\">Tanta</span> <span style=\"display: inline-block;\">est</span> <span style=\"display: inline-block;\">quae</span> <span style=\"display: inline-block;\">Titio</span> <span style=\"display: inline-block;\">columna</span> <span style=\"display: inline-block;\">pendet</span> <span style=\"display: inline-block;\">,</span> <span style=\"display: inline-block;\">Quantam</span> <span style=\"display: inline-block;\">Lampsaciae</span> <span style=\"display: inline-block;\">colunt</span> <span style=\"display: inline-block;\">puellae</span> <span style=\"display: inline-block;\">.</span></p>\n",
      "    <p><b style=\"text-decoration: line-through;;\">negative</b> -> <span style=\"display: inline-block;\">Phyllis</span> <span style=\"display: inline-block;\">odoratos</span> <span style=\"display: inline-block;\">primaeuis</span> <span style=\"display: inline-block;\">floribus</span> <span style=\"display: inline-block;\">artus</span> <span style=\"display: inline-block;\">discisso</span> <span style=\"display: inline-block;\">pruni</span> <span style=\"display: inline-block;\">cortice</span> <span style=\"display: inline-block;\">fixa</span> <span style=\"display: inline-block;\">tegit</span> <span style=\"display: inline-block;\">pomaque</span> <span style=\"display: inline-block;\">-que</span> <span style=\"display: inline-block;\">permutat</span> <span style=\"display: inline-block;\">uelamine</span> <span style=\"display: inline-block;\">persica</span> <span style=\"display: inline-block;\">mixto</span> <span style=\"display: inline-block;\">duritiemque</span> <span style=\"display: inline-block;\">-que</span> <span style=\"display: inline-block;\">docet</span> <span style=\"display: inline-block;\">tegminis</span> <span style=\"display: inline-block;\">esse</span> <span style=\"display: inline-block;\">loco</span> <span style=\"display: inline-block;\">.</span></p>\n",
      "    <p><b style=\"text-decoration: line-through;;\">negative</b> -> <span style=\"display: inline-block;\">Dantur</span> <span style=\"display: inline-block;\">a</span> <span style=\"display: inline-block;\">tribus</span> <span style=\"display: inline-block;\">pilulis</span> <span style=\"display: inline-block;\">usque</span> <span style=\"display: inline-block;\">ad</span> <span style=\"display: inline-block;\">septem</span> <span style=\"display: inline-block;\">;</span></p>\n",
      "    <p><b style=\"text-decoration: line-through;;\">negative</b> -> <span style=\"display: inline-block;\">Tiridates</span> <span style=\"display: inline-block;\">,</span> <span style=\"display: inline-block;\">qui</span> <span style=\"display: inline-block;\">a</span> <span style=\"display: inline-block;\">Corbulone</span> <span style=\"display: inline-block;\">consulari</span> <span style=\"display: inline-block;\">uiro</span> <span style=\"display: inline-block;\">uictus</span> <span style=\"display: inline-block;\">et</span> <span style=\"display: inline-block;\">restitutus</span> <span style=\"display: inline-block;\">est</span> <span style=\"display: inline-block;\">.</span></p>\n",
      "    <p><b style=\"text-decoration: line-through;;\">positive</b> -> <span style=\"display: inline-block;\">Hinc</span> <span style=\"display: inline-block;\">mulier</span> <span style=\"display: inline-block;\">Aegyptia</span> <span style=\"display: inline-block;\">ab</span> <span style=\"display: inline-block;\">ebrio</span> <span style=\"display: inline-block;\">imperatore</span> <span style=\"display: inline-block;\">pretium</span> <span style=\"display: inline-block;\">libidinum</span> <span style=\"display: inline-block;\">Romanum</span> <span style=\"display: inline-block;\">imperium</span> <span style=\"display: inline-block;\">petit</span></p>\n",
      "    <p><b style=\"text-decoration: line-through;;\">negative</b> -> <span style=\"display: inline-block;\">nulla</span> <span style=\"display: inline-block;\">igitur</span> <span style=\"display: inline-block;\">est</span> <span style=\"display: inline-block;\">divinatio</span> <span style=\"display: inline-block;\">.</span></p>\n",
      "    <p><b style=\"text-decoration: line-through;;\">negative</b> -> <span style=\"display: inline-block;\">.</span> <span style=\"display: inline-block;\">Sed</span> <span style=\"display: inline-block;\">cum</span> <span style=\"display: inline-block;\">ad</span> <span style=\"display: inline-block;\">locum</span> <span style=\"display: inline-block;\">,</span> <span style=\"display: inline-block;\">ad</span> <span style=\"display: inline-block;\">quem</span> <span style=\"display: inline-block;\">tendebat</span> <span style=\"display: inline-block;\">intentio</span> <span style=\"display: inline-block;\">,</span> <span style=\"display: inline-block;\">peruenissemus</span> <span style=\"display: inline-block;\">,</span> <span style=\"display: inline-block;\">uallati</span> <span style=\"display: inline-block;\">aquis</span> <span style=\"display: inline-block;\">atque</span> <span style=\"display: inline-block;\">made</span> <span style=\"display: inline-block;\">facti</span> <span style=\"display: inline-block;\">siti</span> <span style=\"display: inline-block;\">occepimus</span> <span style=\"display: inline-block;\">deperire</span> <span style=\"display: inline-block;\">,</span> <span style=\"display: inline-block;\">quia</span> <span style=\"display: inline-block;\">,</span> <span style=\"display: inline-block;\">cum</span> <span style=\"display: inline-block;\">esset</span> <span style=\"display: inline-block;\">,</span> <span style=\"display: inline-block;\">ut</span> <span style=\"display: inline-block;\">diximus</span> <span style=\"display: inline-block;\">,</span> <span style=\"display: inline-block;\">rigor</span> <span style=\"display: inline-block;\">in</span> <span style=\"display: inline-block;\">aere</span> <span style=\"display: inline-block;\">,</span> <span style=\"display: inline-block;\">erat</span> <span style=\"display: inline-block;\">tamen</span> <span style=\"display: inline-block;\">tepor</span> <span style=\"display: inline-block;\">in</span> <span style=\"display: inline-block;\">fonte</span> <span style=\"display: inline-block;\">,</span> <span style=\"display: inline-block;\">odor</span> <span style=\"display: inline-block;\">in</span> <span style=\"display: inline-block;\">flumine</span> <span style=\"display: inline-block;\">,</span> <span style=\"display: inline-block;\">ardor</span> <span style=\"display: inline-block;\">in</span> <span style=\"display: inline-block;\">campo</span> <span style=\"display: inline-block;\">,</span> <span style=\"display: inline-block;\">aestus</span> <span style=\"display: inline-block;\">in</span> <span style=\"display: inline-block;\">castro</span> <span style=\"display: inline-block;\">.</span></p>\n",
      "    <p><b style=\"text-decoration: line-through;;\">positive</b> -> <span style=\"display: inline-block;\">rogat</span> <span style=\"display: inline-block;\">impia</span> <span style=\"display: inline-block;\">belli</span> <span style=\"display: inline-block;\">mater</span> <span style=\"display: inline-block;\">;</span> <span style=\"display: inline-block;\">in</span> <span style=\"display: inline-block;\">his</span> <span style=\"display: inline-block;\">aliquod</span> <span style=\"display: inline-block;\">ius</span> <span style=\"display: inline-block;\">exsecrabile</span> <span style=\"display: inline-block;\">castris</span> <span style=\"display: inline-block;\">huic</span> <span style=\"display: inline-block;\">utero</span> <span style=\"display: inline-block;\">est</span> <span style=\"display: inline-block;\">.</span></p>\n",
      "    <p><b style=\"text-decoration: line-through;;\">negative</b> -> <span style=\"display: inline-block;\">Tum</span> <span style=\"display: inline-block;\">illa</span> <span style=\"display: inline-block;\">,</span> <span style=\"display: inline-block;\">ut</span> <span style=\"display: inline-block;\">consuetum</span> <span style=\"display: inline-block;\">facile</span> <span style=\"display: inline-block;\">amorem</span> <span style=\"display: inline-block;\">cerneres</span> <span style=\"display: inline-block;\">,</span> <span style=\"display: inline-block;\">Reiecit</span> <span style=\"display: inline-block;\">se</span> <span style=\"display: inline-block;\">in</span> <span style=\"display: inline-block;\">eum</span> <span style=\"display: inline-block;\">flens</span> <span style=\"display: inline-block;\">quam</span> <span style=\"display: inline-block;\">familiariter</span> <span style=\"display: inline-block;\">.</span></p>\n",
      "    <p><b style=\"text-decoration: line-through;;\">negative</b> -> <span style=\"display: inline-block;\">Visun</span> <span style=\"display: inline-block;\">-ne</span> <span style=\"display: inline-block;\">est</span> <span style=\"display: inline-block;\">tibi</span> <span style=\"display: inline-block;\">credere</span> <span style=\"display: inline-block;\">id</span> <span style=\"display: inline-block;\">?</span></p>\n",
      "    <p><b style=\"text-decoration: line-through;;\">negative</b> -> <span style=\"display: inline-block;\">cum</span> <span style=\"display: inline-block;\">audiam</span> <span style=\"display: inline-block;\">in</span> <span style=\"display: inline-block;\">centesimo</span> <span style=\"display: inline-block;\">psalmo</span> <span style=\"display: inline-block;\">:</span> <span style=\"display: inline-block;\">deambulabam</span> <span style=\"display: inline-block;\">in</span> <span style=\"display: inline-block;\">innocentia</span> <span style=\"display: inline-block;\">cordis</span> <span style=\"display: inline-block;\">mei</span> <span style=\"display: inline-block;\">in</span> <span style=\"display: inline-block;\">media</span> <span style=\"display: inline-block;\">domo</span> <span style=\"display: inline-block;\">tua</span> <span style=\"display: inline-block;\">.</span></p>\n",
      "    <p><b style=\"text-decoration: line-through;;\">negative</b> -> <span style=\"display: inline-block;\">aspectu</span> <span style=\"display: inline-block;\">enim</span> <span style=\"display: inline-block;\">et</span> <span style=\"display: inline-block;\">auditu</span> <span style=\"display: inline-block;\">iustus</span> <span style=\"display: inline-block;\">erat</span> <span style=\"display: inline-block;\">habitans</span> <span style=\"display: inline-block;\">apud</span> <span style=\"display: inline-block;\">eos</span> <span style=\"display: inline-block;\">qui</span> <span style=\"display: inline-block;\">diem</span> <span style=\"display: inline-block;\">de</span> <span style=\"display: inline-block;\">die</span> <span style=\"display: inline-block;\">animam</span> <span style=\"display: inline-block;\">iustam</span> <span style=\"display: inline-block;\">iniquis</span> <span style=\"display: inline-block;\">operibus</span> <span style=\"display: inline-block;\">cruciabant</span></p>\n",
      "    <p><b style=\"text-decoration: line-through;;\">positive</b> -> <span style=\"display: inline-block;\">qui</span> <span style=\"display: inline-block;\">deprehensus</span> <span style=\"display: inline-block;\">est</span> <span style=\"display: inline-block;\">,</span> <span style=\"display: inline-block;\">cum</span> <span style=\"display: inline-block;\">dominam</span> <span style=\"display: inline-block;\">suam</span> <span style=\"display: inline-block;\">delectaretur</span> <span style=\"display: inline-block;\">.</span></p>\n",
      "    <p><b style=\"text-decoration: line-through;;\">negative</b> -> <span style=\"display: inline-block;\">faenus</span> <span style=\"display: inline-block;\">non</span> <span style=\"display: inline-block;\">pecunia</span> <span style=\"display: inline-block;\">sua</span> <span style=\"display: inline-block;\">soluitur</span> <span style=\"display: inline-block;\">,</span> <span style=\"display: inline-block;\">sed</span> <span style=\"display: inline-block;\">augetur</span> <span style=\"display: inline-block;\">:</span> <span style=\"display: inline-block;\">numerando</span> <span style=\"display: inline-block;\">coaceruatur</span> <span style=\"display: inline-block;\">et</span> <span style=\"display: inline-block;\">crescit</span> <span style=\"display: inline-block;\">.</span></p>\n",
      "    <p><b style=\"text-decoration: line-through;;\">negative</b> -> <span style=\"display: inline-block;\">quoniam</span> <span style=\"display: inline-block;\">multi</span> <span style=\"display: inline-block;\">seductores</span> <span style=\"display: inline-block;\">exierunt</span> <span style=\"display: inline-block;\">in</span> <span style=\"display: inline-block;\">mundum</span> <span style=\"display: inline-block;\">qui</span> <span style=\"display: inline-block;\">non</span> <span style=\"display: inline-block;\">confitentur</span> <span style=\"display: inline-block;\">Iesum</span> <span style=\"display: inline-block;\">Christum</span> <span style=\"display: inline-block;\">venientem</span> <span style=\"display: inline-block;\">in</span> <span style=\"display: inline-block;\">carne</span> <span style=\"display: inline-block;\">hic</span> <span style=\"display: inline-block;\">est</span> <span style=\"display: inline-block;\">seductor</span> <span style=\"display: inline-block;\">et</span> <span style=\"display: inline-block;\">antichristus</span></p>\n",
      "    <p><b style=\"text-decoration: line-through;;\">negative</b> -> <span style=\"display: inline-block;\">At</span> <span style=\"display: inline-block;\">vero</span> <span style=\"display: inline-block;\">Evander</span> <span style=\"display: inline-block;\">,</span> <span style=\"display: inline-block;\">excellentissimae</span> <span style=\"display: inline-block;\">iustitiae</span> <span style=\"display: inline-block;\">vir</span> <span style=\"display: inline-block;\">,</span> <span style=\"display: inline-block;\">postquam</span> <span style=\"display: inline-block;\">rem</span> <span style=\"display: inline-block;\">uti</span> <span style=\"display: inline-block;\">acta</span> <span style=\"display: inline-block;\">erat</span> <span style=\"display: inline-block;\">comperit</span> <span style=\"display: inline-block;\">,</span> <span style=\"display: inline-block;\">servum</span> <span style=\"display: inline-block;\">noxae</span> <span style=\"display: inline-block;\">dedit</span> <span style=\"display: inline-block;\">bovesque</span> <span style=\"display: inline-block;\">-que</span> <span style=\"display: inline-block;\">restitui</span> <span style=\"display: inline-block;\">fecit</span> <span style=\"display: inline-block;\">.</span></p>\n",
      "    <p><b style=\"text-decoration: line-through;;\">negative</b> -> <span style=\"display: inline-block;\">Vectigal</span> <span style=\"display: inline-block;\">ex</span> <span style=\"display: inline-block;\">Aegypto</span> <span style=\"display: inline-block;\">urbi</span> <span style=\"display: inline-block;\">Romae</span> <span style=\"display: inline-block;\">Aurelianus</span> <span style=\"display: inline-block;\">vitri</span> <span style=\"display: inline-block;\">,</span> <span style=\"display: inline-block;\">chartae</span> <span style=\"display: inline-block;\">,</span> <span style=\"display: inline-block;\">lini</span> <span style=\"display: inline-block;\">,</span> <span style=\"display: inline-block;\">stuppae</span> <span style=\"display: inline-block;\">,</span> <span style=\"display: inline-block;\">atque</span> <span style=\"display: inline-block;\">anabolicas</span> <span style=\"display: inline-block;\">species</span> <span style=\"display: inline-block;\">aeternas</span> <span style=\"display: inline-block;\">constituit</span> <span style=\"display: inline-block;\">,</span> <span style=\"display: inline-block;\">thermas</span> <span style=\"display: inline-block;\">in</span> <span style=\"display: inline-block;\">Transtiberina</span> <span style=\"display: inline-block;\">regione</span> <span style=\"display: inline-block;\">Aurelianus</span> <span style=\"display: inline-block;\">facere</span> <span style=\"display: inline-block;\">paravit</span> <span style=\"display: inline-block;\">hiemales</span> <span style=\"display: inline-block;\">,</span> <span style=\"display: inline-block;\">quod</span> <span style=\"display: inline-block;\">aquae</span> <span style=\"display: inline-block;\">frigidi</span> <span style=\"display: inline-block;\">oris</span> <span style=\"display: inline-block;\">copia</span> <span style=\"display: inline-block;\">illic</span> <span style=\"display: inline-block;\">deesset</span> <span style=\"display: inline-block;\">,</span> <span style=\"display: inline-block;\">forum</span> <span style=\"display: inline-block;\">nominis</span> <span style=\"display: inline-block;\">sui</span> <span style=\"display: inline-block;\">in</span> <span style=\"display: inline-block;\">Ostiensi</span> <span style=\"display: inline-block;\">ad</span> <span style=\"display: inline-block;\">mare</span> <span style=\"display: inline-block;\">fundare</span> <span style=\"display: inline-block;\">coepit</span> <span style=\"display: inline-block;\">,</span> <span style=\"display: inline-block;\">in</span> <span style=\"display: inline-block;\">quo</span> <span style=\"display: inline-block;\">postea</span> <span style=\"display: inline-block;\">praetorium</span> <span style=\"display: inline-block;\">publicum</span> <span style=\"display: inline-block;\">constitutum</span> <span style=\"display: inline-block;\">est</span> <span style=\"display: inline-block;\">.</span></p>\n",
      "    <p><b style=\"text-decoration: line-through;;\">negative</b> -> <span style=\"display: inline-block;\">exercitari</span> <span style=\"display: inline-block;\">enim</span> <span style=\"display: inline-block;\">commune</span> <span style=\"display: inline-block;\">omnibus</span> <span style=\"display: inline-block;\">est</span> <span style=\"display: inline-block;\">sanis</span> <span style=\"display: inline-block;\">:</span> <span style=\"display: inline-block;\">at</span> <span style=\"display: inline-block;\">addita</span> <span style=\"display: inline-block;\">specie</span> <span style=\"display: inline-block;\">,</span> <span style=\"display: inline-block;\">ut</span> <span style=\"display: inline-block;\">per</span> <span style=\"display: inline-block;\">palaestram</span> <span style=\"display: inline-block;\">,</span> <span style=\"display: inline-block;\">vectatione</span> <span style=\"display: inline-block;\">,</span> <span style=\"display: inline-block;\">armis</span> <span style=\"display: inline-block;\">,</span> <span style=\"display: inline-block;\">venatione</span> <span style=\"display: inline-block;\">,</span> <span style=\"display: inline-block;\">commune</span> <span style=\"display: inline-block;\">non</span> <span style=\"display: inline-block;\">est</span> <span style=\"display: inline-block;\">.</span></p>\n",
      "    <p><b style=\"text-decoration: line-through;;\">negative</b> -> <span style=\"display: inline-block;\">Pluton</span> <span style=\"display: inline-block;\">est</span> <span style=\"display: inline-block;\">animus</span> <span style=\"display: inline-block;\">,</span> <span style=\"display: inline-block;\">humani</span> <span style=\"display: inline-block;\">corporis</span> <span style=\"display: inline-block;\">rector</span> <span style=\"display: inline-block;\">ignavus</span> <span style=\"display: inline-block;\">,</span> <span style=\"display: inline-block;\">qui</span> <span style=\"display: inline-block;\">,</span> <span style=\"display: inline-block;\">quoniam</span> <span style=\"display: inline-block;\">caelestibus</span> <span style=\"display: inline-block;\">bonis</span> <span style=\"display: inline-block;\">ultro</span> <span style=\"display: inline-block;\">caruit</span> <span style=\"display: inline-block;\">,</span> <span style=\"display: inline-block;\">merito</span> <span style=\"display: inline-block;\">sedibus</span> <span style=\"display: inline-block;\">est</span> <span style=\"display: inline-block;\">damnatus</span> <span style=\"display: inline-block;\">inferni</span> <span style=\"display: inline-block;\">.</span></p>\n",
      "    <p><b style=\"text-decoration: line-through;;\">positive</b> -> <span style=\"display: inline-block;\">inpatiensque</span> <span style=\"display: inline-block;\">-que</span> <span style=\"display: inline-block;\">morae</span> <span style=\"display: inline-block;\">silet</span> <span style=\"display: inline-block;\">et</span> <span style=\"display: inline-block;\">praeputia</span> <span style=\"display: inline-block;\">ducit</span> <span style=\"display: inline-block;\">.</span></p>\n",
      "    <p><b style=\"text-decoration: line-through;;\">negative</b> -> <span style=\"display: inline-block;\">quin</span> <span style=\"display: inline-block;\">age</span> <span style=\"display: inline-block;\">,</span> <span style=\"display: inline-block;\">duc</span> <span style=\"display: inline-block;\">comitem</span> <span style=\"display: inline-block;\">;</span></p>\n",
      "    <p><b style=\"text-decoration: line-through;;\">negative</b> -> <span style=\"display: inline-block;\">E</span> <span style=\"display: inline-block;\">quibus</span> <span style=\"display: inline-block;\">unum</span> <span style=\"display: inline-block;\">globum</span> <span style=\"display: inline-block;\">possidet</span> <span style=\"display: inline-block;\">illa</span> <span style=\"display: inline-block;\">quam</span> <span style=\"display: inline-block;\">in</span> <span style=\"display: inline-block;\">terris</span> <span style=\"display: inline-block;\">Saturniam</span> <span style=\"display: inline-block;\">nominant</span> <span style=\"display: inline-block;\">;</span></p>\n",
      "    <p><b style=\"text-decoration: line-through;;\">positive</b> -> <span style=\"display: inline-block;\">Et</span> <span style=\"display: inline-block;\">idcirco</span> <span style=\"display: inline-block;\">consulte</span> <span style=\"display: inline-block;\">et</span> <span style=\"display: inline-block;\">çum</span> <span style=\"display: inline-block;\">uigore</span> <span style=\"display: inline-block;\">fecisti</span> <span style=\"display: inline-block;\">,</span> <span style=\"display: inline-block;\">frater</span> <span style=\"display: inline-block;\">carissime</span> <span style=\"display: inline-block;\">,</span> <span style=\"display: inline-block;\">abstinendo</span> <span style=\"display: inline-block;\">diaconum</span> <span style=\"display: inline-block;\">qui</span> <span style=\"display: inline-block;\">cum</span> <span style=\"display: inline-block;\">uirgine</span> <span style=\"display: inline-block;\">saepe</span> <span style=\"display: inline-block;\">mansit</span> <span style=\"display: inline-block;\">,</span></p>\n",
      "    <p><b style=\"text-decoration: line-through;;\">negative</b> -> <span style=\"display: inline-block;\">Lex</span> <span style=\"display: inline-block;\">alte</span> <span style=\"display: inline-block;\">la</span> <span style=\"display: inline-block;\">parte</span> <span style=\"display: inline-block;\">congredior</span> <span style=\"display: inline-block;\">laetioris</span> <span style=\"display: inline-block;\">spei</span> <span style=\"display: inline-block;\">post</span> <span style=\"display: inline-block;\">mortem</span> <span style=\"display: inline-block;\">.</span></p>\n",
      "    <p><b style=\"text-decoration: line-through;;\">positive</b> -> <span style=\"display: inline-block;\">inquiunt</span> <span style=\"display: inline-block;\">,</span> <span style=\"display: inline-block;\">tertio</span> <span style=\"display: inline-block;\">minus</span> <span style=\"display: inline-block;\">singulis</span> <span style=\"display: inline-block;\">mensibus</span> <span style=\"display: inline-block;\">offerenda</span> <span style=\"display: inline-block;\">,</span> <span style=\"display: inline-block;\">tunc</span> <span style=\"display: inline-block;\">capitis</span> <span style=\"display: inline-block;\">diuisuram</span> <span style=\"display: inline-block;\">accuratam</span> <span style=\"display: inline-block;\">,</span> <span style=\"display: inline-block;\">quam</span> <span style=\"display: inline-block;\">chiasmum</span> <span style=\"display: inline-block;\">,</span> <span style=\"display: inline-block;\">dehinc</span> <span style=\"display: inline-block;\">scarosin</span> <span style=\"display: inline-block;\">uel</span> <span style=\"display: inline-block;\">medicamine</span> <span style=\"display: inline-block;\">siue</span> <span style=\"display: inline-block;\">ignis</span> <span style=\"display: inline-block;\">ustura</span> <span style=\"display: inline-block;\">,</span> <span style=\"display: inline-block;\">item</span> <span style=\"display: inline-block;\">terebrationem</span> <span style=\"display: inline-block;\">testae</span> <span style=\"display: inline-block;\">uel</span> <span style=\"display: inline-block;\">arteriotomiam</span> <span style=\"display: inline-block;\">uel</span> <span style=\"display: inline-block;\">usum</span> <span style=\"display: inline-block;\">uenerium</span> <span style=\"display: inline-block;\">aut</span> <span style=\"display: inline-block;\">e</span> <span style=\"display: inline-block;\">contrario</span> <span style=\"display: inline-block;\">eunuchismum</span> <span style=\"display: inline-block;\">faciendum</span> <span style=\"display: inline-block;\">probantes</span> <span style=\"display: inline-block;\">.</span></p>\n",
      "    <p><b style=\"text-decoration: line-through;;\">negative</b> -> <span style=\"display: inline-block;\">sequitur</span> <span style=\"display: inline-block;\">autem</span> <span style=\"display: inline-block;\">Christum</span> <span style=\"display: inline-block;\">qui</span> <span style=\"display: inline-block;\">praeceptis</span> <span style=\"display: inline-block;\">eius</span> <span style=\"display: inline-block;\">insistit</span> <span style=\"display: inline-block;\">,</span> <span style=\"display: inline-block;\">qui</span> <span style=\"display: inline-block;\">per</span> <span style=\"display: inline-block;\">magisterii</span> <span style=\"display: inline-block;\">eius</span> <span style=\"display: inline-block;\">uiam</span> <span style=\"display: inline-block;\">graditur</span> <span style=\"display: inline-block;\">,</span> <span style=\"display: inline-block;\">qui</span> <span style=\"display: inline-block;\">uestigia</span> <span style=\"display: inline-block;\">eius</span> <span style=\"display: inline-block;\">adque</span> <span style=\"display: inline-block;\">-que</span> <span style=\"display: inline-block;\">itinera</span> <span style=\"display: inline-block;\">sectatur</span> <span style=\"display: inline-block;\">,</span> <span style=\"display: inline-block;\">qui</span> <span style=\"display: inline-block;\">id</span> <span style=\"display: inline-block;\">quod</span> <span style=\"display: inline-block;\">Christus</span> <span style=\"display: inline-block;\">et</span> <span style=\"display: inline-block;\">docuit</span> <span style=\"display: inline-block;\">et</span> <span style=\"display: inline-block;\">fecit</span> <span style=\"display: inline-block;\">imitatur</span> <span style=\"display: inline-block;\">secundum</span> <span style=\"display: inline-block;\">quod</span> <span style=\"display: inline-block;\">Petrus</span> <span style=\"display: inline-block;\">quoque</span> <span style=\"display: inline-block;\">hortatur</span> <span style=\"display: inline-block;\">et</span> <span style=\"display: inline-block;\">monet</span> <span style=\"display: inline-block;\">dicens</span> <span style=\"display: inline-block;\">:</span> <span style=\"display: inline-block;\">Christus</span> <span style=\"display: inline-block;\">passus</span> <span style=\"display: inline-block;\">est</span> <span style=\"display: inline-block;\">pro</span> <span style=\"display: inline-block;\">uobis</span> <span style=\"display: inline-block;\">relinquens</span> <span style=\"display: inline-block;\">uobis</span> <span style=\"display: inline-block;\">exemplum</span> <span style=\"display: inline-block;\">,</span> <span style=\"display: inline-block;\">ut</span> <span style=\"display: inline-block;\">sequamini</span> <span style=\"display: inline-block;\">uestigia</span> <span style=\"display: inline-block;\">eius</span> <span style=\"display: inline-block;\">.</span></p>\n",
      "    <p><b style=\"text-decoration: line-through;;\">negative</b> -> <span style=\"display: inline-block;\">et</span> <span style=\"display: inline-block;\">ignorabam</span> <span style=\"display: inline-block;\">quid</span> <span style=\"display: inline-block;\">sequeretur</span> <span style=\"display: inline-block;\">.</span></p>\n",
      "    <p><b style=\"text-decoration: line-through;;\">negative</b> -> <span style=\"display: inline-block;\">P.</span> <span style=\"display: inline-block;\">Vergilius</span> <span style=\"display: inline-block;\">Maro</span> <span style=\"display: inline-block;\">natus</span> <span style=\"display: inline-block;\">Idibus</span> <span style=\"display: inline-block;\">Octobris</span> <span style=\"display: inline-block;\">Crasso</span> <span style=\"display: inline-block;\">et</span> <span style=\"display: inline-block;\">Pompeio</span> <span style=\"display: inline-block;\">conss</span> <span style=\"display: inline-block;\">.</span></p>\n",
      "    <p><b style=\"text-decoration: line-through;;\">positive</b> -> <span style=\"display: inline-block;\">In</span> <span style=\"display: inline-block;\">molli</span> <span style=\"display: inline-block;\">rigidam</span> <span style=\"display: inline-block;\">clune</span> <span style=\"display: inline-block;\">libenter</span> <span style=\"display: inline-block;\">habes</span> <span style=\"display: inline-block;\">.</span></p>\n",
      "    <p><b style=\"text-decoration: line-through;;\">positive</b> -> <span style=\"display: inline-block;\">nullo</span> <span style=\"display: inline-block;\">enim</span> <span style=\"display: inline-block;\">honore</span> <span style=\"display: inline-block;\">exceptus</span> <span style=\"display: inline-block;\">ab</span> <span style=\"display: inline-block;\">ea</span> <span style=\"display: inline-block;\">pinxit</span> <span style=\"display: inline-block;\">volutantem</span> <span style=\"display: inline-block;\">cum</span> <span style=\"display: inline-block;\">piscatore</span> <span style=\"display: inline-block;\">,</span> <span style=\"display: inline-block;\">quem</span> <span style=\"display: inline-block;\">reginam</span> <span style=\"display: inline-block;\">amare</span> <span style=\"display: inline-block;\">sermo</span> <span style=\"display: inline-block;\">erat</span> <span style=\"display: inline-block;\">,</span> <span style=\"display: inline-block;\">eamque</span> <span style=\"display: inline-block;\">-que</span> <span style=\"display: inline-block;\">tabulam</span> <span style=\"display: inline-block;\">in</span> <span style=\"display: inline-block;\">portu</span> <span style=\"display: inline-block;\">Ephesi</span> <span style=\"display: inline-block;\">proposuit</span> <span style=\"display: inline-block;\">,</span> <span style=\"display: inline-block;\">ipse</span> <span style=\"display: inline-block;\">velis</span> <span style=\"display: inline-block;\">raptus</span> <span style=\"display: inline-block;\">.</span></p>\n",
      "    <p><b style=\"text-decoration: line-through;;\">positive</b> -> <span style=\"display: inline-block;\">me</span> <span style=\"display: inline-block;\">natura</span> <span style=\"display: inline-block;\">intendit</span></p>\n",
      "    <p><b style=\"text-decoration: line-through;;\">positive</b> -> <span style=\"display: inline-block;\">Ego</span> <span style=\"display: inline-block;\">sic</span> <span style=\"display: inline-block;\">perire</span> <span style=\"display: inline-block;\">coepi</span> <span style=\"display: inline-block;\">.</span></p>\n",
      "    <p><b style=\"text-decoration: line-through;;\">positive</b> -> <span style=\"display: inline-block;\">nec</span> <span style=\"display: inline-block;\">contenti</span> <span style=\"display: inline-block;\">hos</span> <span style=\"display: inline-block;\">coetus</span> <span style=\"display: inline-block;\">grauitati</span> <span style=\"display: inline-block;\">attribuisse</span> <span style=\"display: inline-block;\">Saturniae</span></p>\n",
      "    <p><b style=\"text-decoration: line-through;;\">negative</b> -> <span style=\"display: inline-block;\">Sic</span> <span style=\"display: inline-block;\">aiens</span> <span style=\"display: inline-block;\">crystallo</span> <span style=\"display: inline-block;\">dedolatum</span> <span style=\"display: inline-block;\">vasculum</span> <span style=\"display: inline-block;\">,</span> <span style=\"display: inline-block;\">insuper</span> <span style=\"display: inline-block;\">ei</span> <span style=\"display: inline-block;\">graviora</span> <span style=\"display: inline-block;\">comminata</span> <span style=\"display: inline-block;\">,</span> <span style=\"display: inline-block;\">tradidit</span> <span style=\"display: inline-block;\">.</span></p>\n",
      "    <p><b style=\"text-decoration: line-through;;\">negative</b> -> <span style=\"display: inline-block;\">Fit</span> <span style=\"display: inline-block;\">etiam</span> <span style=\"display: inline-block;\">hoc</span> <span style=\"display: inline-block;\">metrum</span> <span style=\"display: inline-block;\">ex</span> <span style=\"display: inline-block;\">duobus</span> <span style=\"display: inline-block;\">ionicis</span> <span style=\"display: inline-block;\">maioribus</span> <span style=\"display: inline-block;\">et</span> <span style=\"display: inline-block;\">dactylo</span> <span style=\"display: inline-block;\">et</span> <span style=\"display: inline-block;\">spondio</span> <span style=\"display: inline-block;\">sequente</span> <span style=\"display: inline-block;\">siue</span> <span style=\"display: inline-block;\">trochaeo</span> <span style=\"display: inline-block;\">.</span></p>\n",
      "    <p><b style=\"text-decoration: line-through;;\">negative</b> -> <span style=\"display: inline-block;\">quem</span> <span style=\"display: inline-block;\">Pan</span> <span style=\"display: inline-block;\">ad</span> <span style=\"display: inline-block;\">amoris</span> <span style=\"display: inline-block;\">solacium</span> <span style=\"display: inline-block;\">incidit</span> <span style=\"display: inline-block;\">et</span> <span style=\"display: inline-block;\">sibi</span> <span style=\"display: inline-block;\">fistulam</span> <span style=\"display: inline-block;\">fecit</span> <span style=\"display: inline-block;\">.</span></p>\n",
      "    <p><b style=\"text-decoration: line-through;;\">negative</b> -> <span style=\"display: inline-block;\">\"</span> <span style=\"display: inline-block;\">sic</span> <span style=\"display: inline-block;\">me</span> <span style=\"display: inline-block;\">formabat</span> <span style=\"display: inline-block;\">puerum</span> <span style=\"display: inline-block;\">dictis</span> <span style=\"display: inline-block;\">et</span> <span style=\"display: inline-block;\">,</span> <span style=\"display: inline-block;\">sive</span> <span style=\"display: inline-block;\">iubebat</span> <span style=\"display: inline-block;\">ut</span> <span style=\"display: inline-block;\">facerem</span> <span style=\"display: inline-block;\">quid</span> <span style=\"display: inline-block;\">,</span> <span style=\"display: inline-block;\">\"</span> <span style=\"display: inline-block;\">habes</span> <span style=\"display: inline-block;\">auctorem</span> <span style=\"display: inline-block;\">,</span> <span style=\"display: inline-block;\">quo</span> <span style=\"display: inline-block;\">facias</span> <span style=\"display: inline-block;\">hoc</span> <span style=\"display: inline-block;\">\"</span> <span style=\"display: inline-block;\">unum</span> <span style=\"display: inline-block;\">ex</span> <span style=\"display: inline-block;\">iudicibus</span> <span style=\"display: inline-block;\">selectis</span> <span style=\"display: inline-block;\">obiciebat</span> <span style=\"display: inline-block;\">,</span> <span style=\"display: inline-block;\">sive</span> <span style=\"display: inline-block;\">vetabat</span> <span style=\"display: inline-block;\">,</span> <span style=\"display: inline-block;\">\"</span> <span style=\"display: inline-block;\">an</span> <span style=\"display: inline-block;\">hoc</span> <span style=\"display: inline-block;\">inhonestum</span> <span style=\"display: inline-block;\">et</span> <span style=\"display: inline-block;\">inutile</span> <span style=\"display: inline-block;\">factu</span> <span style=\"display: inline-block;\">necne</span> <span style=\"display: inline-block;\">sit</span> <span style=\"display: inline-block;\">,</span> <span style=\"display: inline-block;\">addubites</span> <span style=\"display: inline-block;\">,</span> <span style=\"display: inline-block;\">flagret</span> <span style=\"display: inline-block;\">rumore</span> <span style=\"display: inline-block;\">malo</span> <span style=\"display: inline-block;\">cum</span> <span style=\"display: inline-block;\">hic</span> <span style=\"display: inline-block;\">atque</span> <span style=\"display: inline-block;\">ille</span> <span style=\"display: inline-block;\">?</span></p>\n",
      "    <p><b style=\"text-decoration: line-through;;\">positive</b> -> <span style=\"display: inline-block;\">circumcidere</span> <span style=\"display: inline-block;\">genitalia</span> <span style=\"display: inline-block;\">instituerunt</span> <span style=\"display: inline-block;\">ut</span> <span style=\"display: inline-block;\">diversitate</span> <span style=\"display: inline-block;\">noscantur</span> <span style=\"display: inline-block;\">.</span></p>\n",
      "    <p><b style=\"text-decoration: line-through;;\">negative</b> -> <span style=\"display: inline-block;\">haec</span> <span style=\"display: inline-block;\">eadem</span> <span style=\"display: inline-block;\">socium</span> <span style=\"display: inline-block;\">tenera</span> <span style=\"display: inline-block;\">spoliauit</span> <span style=\"display: inline-block;\">amica</span> <span style=\"display: inline-block;\">,</span> <span style=\"display: inline-block;\">quaeque</span> <span style=\"display: inline-block;\">-que</span> <span style=\"display: inline-block;\">erat</span> <span style=\"display: inline-block;\">Aeacidae</span> <span style=\"display: inline-block;\">,</span> <span style=\"display: inline-block;\">maluit</span> <span style=\"display: inline-block;\">esse</span> <span style=\"display: inline-block;\">suam</span> <span style=\"display: inline-block;\">.</span></p>\n",
      "    <p><b style=\"text-decoration: line-through;;\">negative</b> -> <span style=\"display: inline-block;\">Quia</span> <span style=\"display: inline-block;\">pól</span> <span style=\"display: inline-block;\">meo</span> <span style=\"display: inline-block;\">animo</span> <span style=\"display: inline-block;\">omnis</span> <span style=\"display: inline-block;\">sápientis</span> <span style=\"display: inline-block;\">suom</span> <span style=\"display: inline-block;\">offícium</span> <span style=\"display: inline-block;\">aequom</span> <span style=\"display: inline-block;\">est</span> <span style=\"display: inline-block;\">colere</span> <span style=\"display: inline-block;\">ét</span> <span style=\"display: inline-block;\">facere</span> <span style=\"display: inline-block;\">.</span></p>\n",
      "    <p><b style=\"text-decoration: line-through;;\">positive</b> -> <span style=\"display: inline-block;\">Siccae</span> <span style=\"display: inline-block;\">enim</span> <span style=\"display: inline-block;\">fanum</span> <span style=\"display: inline-block;\">est</span> <span style=\"display: inline-block;\">Veneris</span> <span style=\"display: inline-block;\">,</span> <span style=\"display: inline-block;\">in</span> <span style=\"display: inline-block;\">quod</span> <span style=\"display: inline-block;\">se</span> <span style=\"display: inline-block;\">matronae</span> <span style=\"display: inline-block;\">conferebant</span> <span style=\"display: inline-block;\">atque</span> <span style=\"display: inline-block;\">inde</span> <span style=\"display: inline-block;\">procedentes</span> <span style=\"display: inline-block;\">ad</span> <span style=\"display: inline-block;\">quaestum</span> <span style=\"display: inline-block;\">,</span> <span style=\"display: inline-block;\">dotis</span> <span style=\"display: inline-block;\">corporis</span> <span style=\"display: inline-block;\">iniuria</span> <span style=\"display: inline-block;\">contrahebant</span> <span style=\"display: inline-block;\">,</span> <span style=\"display: inline-block;\">honesta</span> <span style=\"display: inline-block;\">nimirum</span> <span style=\"display: inline-block;\">tam</span> <span style=\"display: inline-block;\">inhonesto</span> <span style=\"display: inline-block;\">uinculo</span> <span style=\"display: inline-block;\">coniugia</span> <span style=\"display: inline-block;\">iuncturae</span> <span style=\"display: inline-block;\">.</span></p>\n",
      "    <p><b style=\"text-decoration: line-through;;\">negative</b> -> <span style=\"display: inline-block;\">hic</span> <span style=\"display: inline-block;\">ab</span> <span style=\"display: inline-block;\">Agnone</span> <span style=\"display: inline-block;\">accusatus</span> <span style=\"display: inline-block;\">,</span> <span style=\"display: inline-block;\">quod</span> <span style=\"display: inline-block;\">Piraeum</span> <span style=\"display: inline-block;\">Nicanori</span> <span style=\"display: inline-block;\">prodidisset</span> <span style=\"display: inline-block;\">,</span> <span style=\"display: inline-block;\">ex</span> <span style=\"display: inline-block;\">consilii</span> <span style=\"display: inline-block;\">sententia</span> <span style=\"display: inline-block;\">in</span> <span style=\"display: inline-block;\">custodiam</span> <span style=\"display: inline-block;\">coniectus</span> <span style=\"display: inline-block;\">Athenas</span> <span style=\"display: inline-block;\">deductus</span> <span style=\"display: inline-block;\">est</span> <span style=\"display: inline-block;\">,</span> <span style=\"display: inline-block;\">ut</span> <span style=\"display: inline-block;\">ibi</span> <span style=\"display: inline-block;\">de</span> <span style=\"display: inline-block;\">eo</span> <span style=\"display: inline-block;\">legibus</span> <span style=\"display: inline-block;\">fieret</span> <span style=\"display: inline-block;\">iudicium</span> <span style=\"display: inline-block;\">.</span></p>\n",
      "    <p><b style=\"text-decoration: line-through;;\">negative</b> -> <span style=\"display: inline-block;\">Haec</span> <span style=\"display: inline-block;\">recensente</span> <span style=\"display: inline-block;\">pistore</span> <span style=\"display: inline-block;\">iamdudum</span> <span style=\"display: inline-block;\">procax</span> <span style=\"display: inline-block;\">et</span> <span style=\"display: inline-block;\">temeraria</span> <span style=\"display: inline-block;\">mulier</span> <span style=\"display: inline-block;\">verbis</span> <span style=\"display: inline-block;\">execrantibus</span> <span style=\"display: inline-block;\">fullonis</span> <span style=\"display: inline-block;\">illius</span> <span style=\"display: inline-block;\">detestabatur</span> <span style=\"display: inline-block;\">uxorem</span> <span style=\"display: inline-block;\">,</span> <span style=\"display: inline-block;\">illam</span> <span style=\"display: inline-block;\">perfidam</span> <span style=\"display: inline-block;\">,</span> <span style=\"display: inline-block;\">illam</span> <span style=\"display: inline-block;\">impudicam</span> <span style=\"display: inline-block;\">,</span> <span style=\"display: inline-block;\">denique</span> <span style=\"display: inline-block;\">universi</span> <span style=\"display: inline-block;\">sexus</span> <span style=\"display: inline-block;\">grande</span> <span style=\"display: inline-block;\">dedecus</span> <span style=\"display: inline-block;\">,</span> <span style=\"display: inline-block;\">quae</span> <span style=\"display: inline-block;\">suo</span> <span style=\"display: inline-block;\">pudore</span> <span style=\"display: inline-block;\">postposito</span> <span style=\"display: inline-block;\">torique</span> <span style=\"display: inline-block;\">-que</span> <span style=\"display: inline-block;\">genialis</span> <span style=\"display: inline-block;\">calcato</span> <span style=\"display: inline-block;\">foedere</span> <span style=\"display: inline-block;\">Larem</span> <span style=\"display: inline-block;\">mariti</span> <span style=\"display: inline-block;\">lupanari</span> <span style=\"display: inline-block;\">maculasset</span> <span style=\"display: inline-block;\">infamia</span> <span style=\"display: inline-block;\">,</span> <span style=\"display: inline-block;\">iamque</span> <span style=\"display: inline-block;\">-que</span> <span style=\"display: inline-block;\">perdita</span> <span style=\"display: inline-block;\">nuptae</span> <span style=\"display: inline-block;\">dignitate</span> <span style=\"display: inline-block;\">prostitutae</span> <span style=\"display: inline-block;\">sibi</span> <span style=\"display: inline-block;\">nomen</span> <span style=\"display: inline-block;\">adsciverit</span> <span style=\"display: inline-block;\">:</span> <span style=\"display: inline-block;\">addebat</span> <span style=\"display: inline-block;\">et</span> <span style=\"display: inline-block;\">tales</span> <span style=\"display: inline-block;\">oportere</span> <span style=\"display: inline-block;\">vivas</span> <span style=\"display: inline-block;\">exuri</span> <span style=\"display: inline-block;\">feminas</span> <span style=\"display: inline-block;\">.</span></p>\n",
      "    <p><b style=\"text-decoration: line-through;;\">negative</b> -> <span style=\"display: inline-block;\">vinearumque</span> <span style=\"display: inline-block;\">-que</span> <span style=\"display: inline-block;\">cultoribus</span> <span style=\"display: inline-block;\">Semeias</span> <span style=\"display: inline-block;\">Ramathites</span> <span style=\"display: inline-block;\">cellis</span> <span style=\"display: inline-block;\">autem</span> <span style=\"display: inline-block;\">vinariis</span> <span style=\"display: inline-block;\">Zabdias</span> <span style=\"display: inline-block;\">Aphonites</span></p>\n",
      "    <p><b style=\"text-decoration: line-through;;\">negative</b> -> <span style=\"display: inline-block;\">quia</span> <span style=\"display: inline-block;\">nós</span> <span style=\"display: inline-block;\">libertinaé</span> <span style=\"display: inline-block;\">sumus</span> <span style=\"display: inline-block;\">,</span> <span style=\"display: inline-block;\">et</span> <span style=\"display: inline-block;\">ego</span> <span style=\"display: inline-block;\">ét</span> <span style=\"display: inline-block;\">tua</span> <span style=\"display: inline-block;\">mater</span> <span style=\"display: inline-block;\">,</span> <span style=\"display: inline-block;\">ámbae</span> <span style=\"display: inline-block;\">meretrices</span> <span style=\"display: inline-block;\">fuimus</span> <span style=\"display: inline-block;\">:</span> <span style=\"display: inline-block;\">illa</span> <span style=\"display: inline-block;\">te</span> <span style=\"display: inline-block;\">,</span> <span style=\"display: inline-block;\">ego</span> <span style=\"display: inline-block;\">hanc</span> <span style=\"display: inline-block;\">mihi</span> <span style=\"display: inline-block;\">educavi</span> <span style=\"display: inline-block;\">ex</span> <span style=\"display: inline-block;\">patribus</span> <span style=\"display: inline-block;\">conventiciis</span> <span style=\"display: inline-block;\">.</span></p>\n",
      "    <p><b style=\"text-decoration: line-through;;\">negative</b> -> <span style=\"display: inline-block;\">dum</span> <span style=\"display: inline-block;\">renovat</span> <span style=\"display: inline-block;\">largo</span> <span style=\"display: inline-block;\">mortalia</span> <span style=\"display: inline-block;\">semina</span> <span style=\"display: inline-block;\">fetu</span> <span style=\"display: inline-block;\">,</span> <span style=\"display: inline-block;\">fingitur</span> <span style=\"display: inline-block;\">in</span> <span style=\"display: inline-block;\">venerem</span> <span style=\"display: inline-block;\">pronior</span> <span style=\"display: inline-block;\">esse</span> <span style=\"display: inline-block;\">deus</span> <span style=\"display: inline-block;\">.</span></p>\n",
      "    <p><b style=\"text-decoration: line-through;;\">negative</b> -> <span style=\"display: inline-block;\">Fuit</span> <span style=\"display: inline-block;\">autem</span> <span style=\"display: inline-block;\">ineptiolae</span> <span style=\"display: inline-block;\">huius</span> <span style=\"display: inline-block;\">ista</span> <span style=\"display: inline-block;\">materia</span> <span style=\"display: inline-block;\">,</span> <span style=\"display: inline-block;\">in</span> <span style=\"display: inline-block;\">expeditione</span> <span style=\"display: inline-block;\">,</span> <span style=\"display: inline-block;\">quod</span> <span style=\"display: inline-block;\">tempus</span> <span style=\"display: inline-block;\">,</span> <span style=\"display: inline-block;\">ut</span> <span style=\"display: inline-block;\">scis</span> <span style=\"display: inline-block;\">,</span> <span style=\"display: inline-block;\">licentiae</span> <span style=\"display: inline-block;\">militaris</span> <span style=\"display: inline-block;\">est</span> <span style=\"display: inline-block;\">,</span> <span style=\"display: inline-block;\">super</span> <span style=\"display: inline-block;\">mensam</span> <span style=\"display: inline-block;\">meam</span> <span style=\"display: inline-block;\">facta</span> <span style=\"display: inline-block;\">est</span> <span style=\"display: inline-block;\">invitatio</span> <span style=\"display: inline-block;\">,</span> <span style=\"display: inline-block;\">non</span> <span style=\"display: inline-block;\">illa</span> <span style=\"display: inline-block;\">de</span> <span style=\"display: inline-block;\">Rubrii</span> <span style=\"display: inline-block;\">convivio</span> <span style=\"display: inline-block;\">,</span> <span style=\"display: inline-block;\">ut</span> <span style=\"display: inline-block;\">Graeco</span> <span style=\"display: inline-block;\">more</span> <span style=\"display: inline-block;\">biberetur</span> <span style=\"display: inline-block;\">,</span> <span style=\"display: inline-block;\">1</span> <span style=\"display: inline-block;\">set</span> <span style=\"display: inline-block;\">illa</span> <span style=\"display: inline-block;\">de</span> <span style=\"display: inline-block;\">Flacci</span> <span style=\"display: inline-block;\">ecloga</span> <span style=\"display: inline-block;\">,</span> <span style=\"display: inline-block;\">in</span> <span style=\"display: inline-block;\">qua</span> <span style=\"display: inline-block;\">propter</span> <span style=\"display: inline-block;\">mediam</span> <span style=\"display: inline-block;\">noctem</span> <span style=\"display: inline-block;\">et</span> <span style=\"display: inline-block;\">novam</span> <span style=\"display: inline-block;\">lunam</span> <span style=\"display: inline-block;\">et</span> <span style=\"display: inline-block;\">Murenae</span> <span style=\"display: inline-block;\">auguratum</span> <span style=\"display: inline-block;\">ternos</span> <span style=\"display: inline-block;\">ter</span> <span style=\"display: inline-block;\">cyathos</span> <span style=\"display: inline-block;\">attonitus</span> <span style=\"display: inline-block;\">petit</span> <span style=\"display: inline-block;\">vates</span> <span style=\"display: inline-block;\">.</span></p>\n",
      "    <p><b style=\"text-decoration: line-through;;\">negative</b> -> <span style=\"display: inline-block;\">spectas</span> <span style=\"display: inline-block;\">me</span> <span style=\"display: inline-block;\">tamen</span> <span style=\"display: inline-block;\">et</span> <span style=\"display: inline-block;\">subinde</span> <span style=\"display: inline-block;\">rides</span> <span style=\"display: inline-block;\">:</span> <span style=\"display: inline-block;\">nimirum</span> <span style=\"display: inline-block;\">tibi</span> <span style=\"display: inline-block;\">salsa</span> <span style=\"display: inline-block;\">res</span> <span style=\"display: inline-block;\">uidetur</span> <span style=\"display: inline-block;\">adstans</span> <span style=\"display: inline-block;\">inguinibus</span> <span style=\"display: inline-block;\">columna</span> <span style=\"display: inline-block;\">nostris</span> <span style=\"display: inline-block;\">.</span></p>\n",
      "    <p><b style=\"text-decoration: line-through;;\">negative</b> -> <span style=\"display: inline-block;\">me</span> <span style=\"display: inline-block;\">quoque</span> <span style=\"display: inline-block;\">submotum</span> <span style=\"display: inline-block;\">pietas</span> <span style=\"display: inline-block;\">arcebat</span> <span style=\"display: inline-block;\">ab</span> <span style=\"display: inline-block;\">omni</span> <span style=\"display: inline-block;\">officio</span> <span style=\"display: inline-block;\">.</span></p>\n",
      "    <p><b style=\"text-decoration: line-through;;\">negative</b> -> <span style=\"display: inline-block;\">Quis</span> <span style=\"display: inline-block;\">denique</span> <span style=\"display: inline-block;\">de</span> <span style=\"display: inline-block;\">nobis</span> <span style=\"display: inline-block;\">alio</span> <span style=\"display: inline-block;\">nomine</span> <span style=\"display: inline-block;\">queritur</span> <span style=\"display: inline-block;\">?</span></p>\n",
      "    <p><b style=\"text-decoration: line-through;;\">negative</b> -> <span style=\"display: inline-block;\">unde</span> <span style=\"display: inline-block;\">colligitur</span> <span style=\"display: inline-block;\">,</span> <span style=\"display: inline-block;\">quod</span> <span style=\"display: inline-block;\">deus</span> <span style=\"display: inline-block;\">aliquid</span> <span style=\"display: inline-block;\">et</span> <span style=\"display: inline-block;\">improbet</span> <span style=\"display: inline-block;\">iustus</span> <span style=\"display: inline-block;\">et</span> <span style=\"display: inline-block;\">tamen</span> <span style=\"display: inline-block;\">permittat</span> <span style=\"display: inline-block;\">omnipotens</span> <span style=\"display: inline-block;\">.</span></p>\n",
      "    <p><b style=\"text-decoration: line-through;;\">negative</b> -> <span style=\"display: inline-block;\">Quia</span> <span style=\"display: inline-block;\">mos</span> <span style=\"display: inline-block;\">est</span> <span style=\"display: inline-block;\">oblivisci</span> <span style=\"display: inline-block;\">hominibus</span> <span style=\"display: inline-block;\">neque</span> <span style=\"display: inline-block;\">novisse</span> <span style=\"display: inline-block;\">cuius</span> <span style=\"display: inline-block;\">nihili</span> <span style=\"display: inline-block;\">sit</span> <span style=\"display: inline-block;\">faciunda</span> <span style=\"display: inline-block;\">gratia</span> <span style=\"display: inline-block;\">.</span></p>\n",
      "    <p><b style=\"text-decoration: line-through;;\">positive</b> -> <span style=\"display: inline-block;\">Metromaniam</span> <span style=\"display: inline-block;\">latino</span> <span style=\"display: inline-block;\">sermone</span> <span style=\"display: inline-block;\">matricis</span> <span style=\"display: inline-block;\">furores</span> <span style=\"display: inline-block;\">siue</span> <span style=\"display: inline-block;\">insaniam</span> <span style=\"display: inline-block;\">dicimus</span> <span style=\"display: inline-block;\">.</span></p>\n",
      "    <p><b style=\"text-decoration: line-through;;\">negative</b> -> <span style=\"display: inline-block;\">Age</span> <span style=\"display: inline-block;\">,</span> <span style=\"display: inline-block;\">age</span> <span style=\"display: inline-block;\">nunc</span> <span style=\"display: inline-block;\">tu</span> <span style=\"display: inline-block;\">,</span> <span style=\"display: inline-block;\">in</span> <span style=\"display: inline-block;\">proelium</span> <span style=\"display: inline-block;\">vide</span> <span style=\"display: inline-block;\">ut</span> <span style=\"display: inline-block;\">ingrediare</span> <span style=\"display: inline-block;\">auspicato</span> <span style=\"display: inline-block;\">.</span></p>\n",
      "    <p><b style=\"text-decoration: line-through;;\">negative</b> -> <span style=\"display: inline-block;\">non</span> <span style=\"display: inline-block;\">rapio</span> <span style=\"display: inline-block;\">praeceps</span> <span style=\"display: inline-block;\">alienae</span> <span style=\"display: inline-block;\">foedera</span> <span style=\"display: inline-block;\">taedae</span> <span style=\"display: inline-block;\">,</span> <span style=\"display: inline-block;\">sed</span> <span style=\"display: inline-block;\">quae</span> <span style=\"display: inline-block;\">sponsa</span> <span style=\"display: inline-block;\">mihi</span> <span style=\"display: inline-block;\">pridem</span> <span style=\"display: inline-block;\">patrisque</span> <span style=\"display: inline-block;\">-que</span> <span style=\"display: inline-block;\">relicta</span> <span style=\"display: inline-block;\">mandatis</span> <span style=\"display: inline-block;\">uno</span> <span style=\"display: inline-block;\">materni</span> <span style=\"display: inline-block;\">sanguinis</span> <span style=\"display: inline-block;\">ortu</span> <span style=\"display: inline-block;\">communem</span> <span style=\"display: inline-block;\">partitur</span> <span style=\"display: inline-block;\">avum</span> <span style=\"display: inline-block;\">.</span></p>\n",
      "    <p><b style=\"text-decoration: line-through;;\">negative</b> -> <span style=\"display: inline-block;\">Uaccae</span> <span style=\"display: inline-block;\">carnalibus</span> <span style=\"display: inline-block;\">uitiis</span> <span style=\"display: inline-block;\">pleni</span> <span style=\"display: inline-block;\">;</span></p>\n",
      "    <p><b style=\"text-decoration: line-through;;\">positive</b> -> <span style=\"display: inline-block;\">Nam</span> <span style=\"display: inline-block;\">nisi</span> <span style=\"display: inline-block;\">prius</span> <span style=\"display: inline-block;\">ea</span> <span style=\"display: inline-block;\">marem</span> <span style=\"display: inline-block;\">cognovit</span> <span style=\"display: inline-block;\">,</span> <span style=\"display: inline-block;\">adsilientem</span> <span style=\"display: inline-block;\">admissarium</span> <span style=\"display: inline-block;\">calcibus</span> <span style=\"display: inline-block;\">proturbat</span></p>\n",
      "    <p><b style=\"text-decoration: line-through;;\">positive</b> -> <span style=\"display: inline-block;\">\"</span> <span style=\"display: inline-block;\">Dumque</span> <span style=\"display: inline-block;\">-que</span> <span style=\"display: inline-block;\">loquimur</span> <span style=\"display: inline-block;\">,</span> <span style=\"display: inline-block;\">sera</span> <span style=\"display: inline-block;\">sua</span> <span style=\"display: inline-block;\">sponte</span> <span style=\"display: inline-block;\">delapsa</span> <span style=\"display: inline-block;\">cecidit</span> <span style=\"display: inline-block;\">reclusaeque</span> <span style=\"display: inline-block;\">-que</span> <span style=\"display: inline-block;\">subito</span> <span style=\"display: inline-block;\">fores</span> <span style=\"display: inline-block;\">admiserunt</span> <span style=\"display: inline-block;\">intrantem</span> <span style=\"display: inline-block;\">.</span></p>\n",
      "    <p><b style=\"text-decoration: line-through;;\">negative</b> -> <span style=\"display: inline-block;\">íbo</span> <span style=\"display: inline-block;\">hinc</span> <span style=\"display: inline-block;\">intro</span> <span style=\"display: inline-block;\">nunciam</span> <span style=\"display: inline-block;\">ad</span> <span style=\"display: inline-block;\">amores</span> <span style=\"display: inline-block;\">meos</span> <span style=\"display: inline-block;\">.</span></p>\n",
      "    <p><b style=\"text-decoration: line-through;;\">positive</b> -> <span style=\"display: inline-block;\">Huius</span> <span style=\"display: inline-block;\">corpore</span> <span style=\"display: inline-block;\">cum</span> <span style=\"display: inline-block;\">uiolenter</span> <span style=\"display: inline-block;\">obpresso</span> <span style=\"display: inline-block;\">Tarquinii</span> <span style=\"display: inline-block;\">regis</span> <span style=\"display: inline-block;\">filius</span> <span style=\"display: inline-block;\">libidinose</span> <span style=\"display: inline-block;\">potitus</span> <span style=\"display: inline-block;\">esset</span></p>\n",
      "    <p><b style=\"text-decoration: line-through;;\">negative</b> -> <span style=\"display: inline-block;\">Iamque</span> <span style=\"display: inline-block;\">-que</span> <span style=\"display: inline-block;\">novum</span> <span style=\"display: inline-block;\">delectat</span> <span style=\"display: inline-block;\">iter</span> <span style=\"display: inline-block;\">,</span> <span style=\"display: inline-block;\">positoque</span> <span style=\"display: inline-block;\">-que</span> <span style=\"display: inline-block;\">timore</span> <span style=\"display: inline-block;\">Icarus</span> <span style=\"display: inline-block;\">audaci</span> <span style=\"display: inline-block;\">fortius</span> <span style=\"display: inline-block;\">arte</span> <span style=\"display: inline-block;\">volat</span> <span style=\"display: inline-block;\">.</span></p>\n",
      "    <p><b style=\"text-decoration: line-through;;\">positive</b> -> <span style=\"display: inline-block;\">Torum</span> <span style=\"display: inline-block;\">frequenti</span> <span style=\"display: inline-block;\">tractatione</span> <span style=\"display: inline-block;\">vexavi</span> <span style=\"display: inline-block;\">,</span> <span style=\"display: inline-block;\">amoris</span> <span style=\"display: inline-block;\">mei</span> <span style=\"display: inline-block;\">quasi</span> <span style=\"display: inline-block;\">quandam</span> <span style=\"display: inline-block;\">imaginem</span> <span style=\"display: inline-block;\">.</span></p>\n",
      "    <p><b style=\"text-decoration: line-through;;\">negative</b> -> <span style=\"display: inline-block;\">non</span> <span style=\"display: inline-block;\">defuisse</span> <span style=\"display: inline-block;\">masculae</span> <span style=\"display: inline-block;\">libidinis</span> <span style=\"display: inline-block;\">Ariminensem</span> <span style=\"display: inline-block;\">Foliam</span> <span style=\"display: inline-block;\">et</span> <span style=\"display: inline-block;\">otiosa</span> <span style=\"display: inline-block;\">credidit</span> <span style=\"display: inline-block;\">Neapolis</span> <span style=\"display: inline-block;\">et</span> <span style=\"display: inline-block;\">omne</span> <span style=\"display: inline-block;\">vicinum</span> <span style=\"display: inline-block;\">oppidum</span> <span style=\"display: inline-block;\">,</span> <span style=\"display: inline-block;\">quae</span> <span style=\"display: inline-block;\">sidera</span> <span style=\"display: inline-block;\">excantata</span> <span style=\"display: inline-block;\">voce</span> <span style=\"display: inline-block;\">Thessala</span> <span style=\"display: inline-block;\">lunamque</span> <span style=\"display: inline-block;\">-que</span> <span style=\"display: inline-block;\">caelo</span> <span style=\"display: inline-block;\">deripit</span> <span style=\"display: inline-block;\">.</span></p>\n",
      "    <p><b style=\"text-decoration: line-through;;\">negative</b> -> <span style=\"display: inline-block;\">nullam</span> <span style=\"display: inline-block;\">uestem</span> <span style=\"display: inline-block;\">bis</span> <span style=\"display: inline-block;\">induit</span> <span style=\"display: inline-block;\">.</span></p>\n",
      "    <p><b style=\"text-decoration: line-through;;\">negative</b> -> <span style=\"display: inline-block;\">Ego</span> <span style=\"display: inline-block;\">cum</span> <span style=\"display: inline-block;\">muliere</span> <span style=\"display: inline-block;\">menstruata</span> <span style=\"display: inline-block;\">concubui</span> <span style=\"display: inline-block;\">et</span> <span style=\"display: inline-block;\">non</span> <span style=\"display: inline-block;\">concepit</span> <span style=\"display: inline-block;\">,</span> <span style=\"display: inline-block;\">nam</span> <span style=\"display: inline-block;\">purgacionis</span> <span style=\"display: inline-block;\">plurimo</span> <span style=\"display: inline-block;\">sanguine</span> <span style=\"display: inline-block;\">minor</span> <span style=\"display: inline-block;\">pars</span> <span style=\"display: inline-block;\">seminis</span> <span style=\"display: inline-block;\">corrupta</span> <span style=\"display: inline-block;\">est</span> <span style=\"display: inline-block;\">.</span></p>\n",
      "    <p><b style=\"text-decoration: line-through;;\">negative</b> -> <span style=\"display: inline-block;\">Oportet</span> <span style=\"display: inline-block;\">autem</span> <span style=\"display: inline-block;\">non</span> <span style=\"display: inline-block;\">continentibus</span> <span style=\"display: inline-block;\">cibos</span> <span style=\"display: inline-block;\">secundum</span> <span style=\"display: inline-block;\">vomitum</span> <span style=\"display: inline-block;\">protinus</span> <span style=\"display: inline-block;\">oleo</span> <span style=\"display: inline-block;\">perunctis</span> <span style=\"display: inline-block;\">et</span> <span style=\"display: inline-block;\">diutius</span> <span style=\"display: inline-block;\">presse</span> <span style=\"display: inline-block;\">fricatis</span> <span style=\"display: inline-block;\">dare</span> <span style=\"display: inline-block;\">medicamentum</span> <span style=\"display: inline-block;\">pondere</span> <span style=\"display: inline-block;\">X</span> <span style=\"display: inline-block;\">I</span> <span style=\"display: inline-block;\">ex</span> <span style=\"display: inline-block;\">aquae</span> <span style=\"display: inline-block;\">cyathis</span> <span style=\"display: inline-block;\">tribus</span> <span style=\"display: inline-block;\">,</span> <span style=\"display: inline-block;\">deinde</span> <span style=\"display: inline-block;\">artus</span> <span style=\"display: inline-block;\">constringere</span> <span style=\"display: inline-block;\">et</span> <span style=\"display: inline-block;\">interdum</span> <span style=\"display: inline-block;\">olfactoriis</span> <span style=\"display: inline-block;\">reficere</span> <span style=\"display: inline-block;\">et</span> <span style=\"display: inline-block;\">commanducatione</span> <span style=\"display: inline-block;\">olivarum</span> <span style=\"display: inline-block;\">contusarum</span> <span style=\"display: inline-block;\">earumque</span> <span style=\"display: inline-block;\">-que</span> <span style=\"display: inline-block;\">rerum</span> <span style=\"display: inline-block;\">,</span> <span style=\"display: inline-block;\">quae</span> <span style=\"display: inline-block;\">stomachum</span> <span style=\"display: inline-block;\">constringere</span> <span style=\"display: inline-block;\">solent</span> <span style=\"display: inline-block;\">,</span> <span style=\"display: inline-block;\">interim</span> <span style=\"display: inline-block;\">subrectos</span> <span style=\"display: inline-block;\">,</span> <span style=\"display: inline-block;\">recubantes</span> <span style=\"display: inline-block;\">,</span> <span style=\"display: inline-block;\">deinde</span> <span style=\"display: inline-block;\">cum</span> <span style=\"display: inline-block;\">deiecerint</span> <span style=\"display: inline-block;\">,</span> <span style=\"display: inline-block;\">solutis</span> <span style=\"display: inline-block;\">vinculis</span> <span style=\"display: inline-block;\">rursus</span> <span style=\"display: inline-block;\">perunguere</span> <span style=\"display: inline-block;\">et</span> <span style=\"display: inline-block;\">fricare</span> <span style=\"display: inline-block;\">totum</span> <span style=\"display: inline-block;\">corpus</span> <span style=\"display: inline-block;\">atque</span> <span style=\"display: inline-block;\">ita</span> <span style=\"display: inline-block;\">varietate</span> <span style=\"display: inline-block;\">apta</span> <span style=\"display: inline-block;\">ciborum</span> <span style=\"display: inline-block;\">stomachum</span> <span style=\"display: inline-block;\">proritare</span> <span style=\"display: inline-block;\">,</span> <span style=\"display: inline-block;\">ut</span> <span style=\"display: inline-block;\">halica</span> <span style=\"display: inline-block;\">ex</span> <span style=\"display: inline-block;\">mulso</span> <span style=\"display: inline-block;\">et</span> <span style=\"display: inline-block;\">malorum</span> <span style=\"display: inline-block;\">Cydoneorum</span> <span style=\"display: inline-block;\">suco</span> <span style=\"display: inline-block;\">facto</span> <span style=\"display: inline-block;\">vel</span> <span style=\"display: inline-block;\">ex</span> <span style=\"display: inline-block;\">granatorum</span> <span style=\"display: inline-block;\">per</span> <span style=\"display: inline-block;\">se</span> <span style=\"display: inline-block;\">malorum</span> <span style=\"display: inline-block;\">vel</span> <span style=\"display: inline-block;\">si</span> <span style=\"display: inline-block;\">quos</span> <span style=\"display: inline-block;\">magis</span> <span style=\"display: inline-block;\">delectat</span> <span style=\"display: inline-block;\">,</span> <span style=\"display: inline-block;\">ex</span> <span style=\"display: inline-block;\">frigida</span> <span style=\"display: inline-block;\">posca</span> <span style=\"display: inline-block;\">;</span></p>\n",
      "    <p><b style=\"text-decoration: line-through;;\">negative</b> -> <span style=\"display: inline-block;\">Utraque</span> <span style=\"display: inline-block;\">enim</span> <span style=\"display: inline-block;\">montuosa</span> <span style=\"display: inline-block;\">atque</span> <span style=\"display: inline-block;\">campestris</span> <span style=\"display: inline-block;\">est</span> <span style=\"display: inline-block;\">pro</span> <span style=\"display: inline-block;\">locorum</span> <span style=\"display: inline-block;\">diuersitate</span> <span style=\"display: inline-block;\">,</span> <span style=\"display: inline-block;\">neque</span> <span style=\"display: inline-block;\">tota</span> <span style=\"display: inline-block;\">campis</span> <span style=\"display: inline-block;\">diffunditur</span> <span style=\"display: inline-block;\">neque</span> <span style=\"display: inline-block;\">in</span> <span style=\"display: inline-block;\">locis</span> <span style=\"display: inline-block;\">omnibus</span> <span style=\"display: inline-block;\">montium</span> <span style=\"display: inline-block;\">rupibus</span> <span style=\"display: inline-block;\">scinditur</span> <span style=\"display: inline-block;\">,</span> <span style=\"display: inline-block;\">sed</span> <span style=\"display: inline-block;\">utriusque</span> <span style=\"display: inline-block;\">qualitatis</span> <span style=\"display: inline-block;\">habet</span> <span style=\"display: inline-block;\">gratiam</span> <span style=\"display: inline-block;\">.</span></p>\n",
      "    <p><b style=\"text-decoration: line-through;;\">negative</b> -> <span style=\"display: inline-block;\">quid</span> <span style=\"display: inline-block;\">tibi</span> <span style=\"display: inline-block;\">,</span> <span style=\"display: inline-block;\">o</span> <span style=\"display: inline-block;\">stulta</span> <span style=\"display: inline-block;\">,</span> <span style=\"display: inline-block;\">in</span> <span style=\"display: inline-block;\">generis</span> <span style=\"display: inline-block;\">nobilitate</span> <span style=\"display: inline-block;\">blandiris</span> <span style=\"display: inline-block;\">et</span> <span style=\"display: inline-block;\">conplaces</span> <span style=\"display: inline-block;\">?</span></p>\n",
      "    <p><b style=\"text-decoration: line-through;;\">negative</b> -> <span style=\"display: inline-block;\">Lesbiae</span> <span style=\"display: inline-block;\">depelle</span> <span style=\"display: inline-block;\">modum</span> <span style=\"display: inline-block;\">quietis</span> <span style=\"display: inline-block;\">,</span> <span style=\"display: inline-block;\">cer</span> <span style=\"display: inline-block;\">iambe</span> <span style=\"display: inline-block;\">.</span></p>\n",
      "    <p><b style=\"text-decoration: line-through;;\">positive</b> -> <span style=\"display: inline-block;\">nulla</span> <span style=\"display: inline-block;\">idcirco</span> <span style=\"display: inline-block;\">ducit</span> <span style=\"display: inline-block;\">maritum</span> <span style=\"display: inline-block;\">,</span> <span style=\"display: inline-block;\">ut</span> <span style=\"display: inline-block;\">cum</span> <span style=\"display: inline-block;\">maritum</span> <span style=\"display: inline-block;\">non</span> <span style=\"display: inline-block;\">dormiat</span> <span style=\"display: inline-block;\">.</span></p>\n",
      "    <p><b style=\"text-decoration: line-through;;\">positive</b> -> <span style=\"display: inline-block;\">mangonum</span> <span style=\"display: inline-block;\">pueros</span> <span style=\"display: inline-block;\">vera</span> <span style=\"display: inline-block;\">ac</span> <span style=\"display: inline-block;\">miserabilis</span> <span style=\"display: inline-block;\">urit</span> <span style=\"display: inline-block;\">debilitas</span> <span style=\"display: inline-block;\">,</span> <span style=\"display: inline-block;\">follisque</span> <span style=\"display: inline-block;\">-que</span> <span style=\"display: inline-block;\">pudet</span> <span style=\"display: inline-block;\">cicerisque</span> <span style=\"display: inline-block;\">-que</span> <span style=\"display: inline-block;\">relicti</span> <span style=\"display: inline-block;\">.</span></p>\n",
      "    <p><b style=\"text-decoration: line-through;;\">negative</b> -> <span style=\"display: inline-block;\">fulmineos</span> <span style=\"display: inline-block;\">Semele</span> <span style=\"display: inline-block;\">decepta</span> <span style=\"display: inline-block;\">puerpera</span> <span style=\"display: inline-block;\">partus</span> <span style=\"display: inline-block;\">deflet</span> <span style=\"display: inline-block;\">et</span> <span style=\"display: inline-block;\">ambustas</span> <span style=\"display: inline-block;\">lacerans</span> <span style=\"display: inline-block;\">per</span> <span style=\"display: inline-block;\">inania</span> <span style=\"display: inline-block;\">cunas</span> <span style=\"display: inline-block;\">ventilat</span> <span style=\"display: inline-block;\">ignavum</span> <span style=\"display: inline-block;\">simulati</span> <span style=\"display: inline-block;\">fulguris</span> <span style=\"display: inline-block;\">ignem</span> <span style=\"display: inline-block;\">,</span> <span style=\"display: inline-block;\">irrita</span> <span style=\"display: inline-block;\">dona</span> <span style=\"display: inline-block;\">querens</span> <span style=\"display: inline-block;\">,</span> <span style=\"display: inline-block;\">sexu</span> <span style=\"display: inline-block;\">gavisa</span> <span style=\"display: inline-block;\">virili</span> <span style=\"display: inline-block;\">,</span> <span style=\"display: inline-block;\">maeret</span> <span style=\"display: inline-block;\">in</span> <span style=\"display: inline-block;\">antiquam</span> <span style=\"display: inline-block;\">Caenis</span> <span style=\"display: inline-block;\">revocata</span> <span style=\"display: inline-block;\">figuram</span> <span style=\"display: inline-block;\">.</span></p>\n",
      "    <p><b style=\"text-decoration: line-through;;\">negative</b> -> <span style=\"display: inline-block;\">Quin</span> <span style=\"display: inline-block;\">immo</span> <span style=\"display: inline-block;\">ipsum</span> <span style=\"display: inline-block;\">patrem</span> <span style=\"display: inline-block;\">tuum</span> <span style=\"display: inline-block;\">vetus</span> <span style=\"display: inline-block;\">illa</span> <span style=\"display: inline-block;\">imperatoriae</span> <span style=\"display: inline-block;\">domus</span> <span style=\"display: inline-block;\">praerogativa</span> <span style=\"display: inline-block;\">provexit</span> <span style=\"display: inline-block;\">,</span> <span style=\"display: inline-block;\">ut</span> <span style=\"display: inline-block;\">iam</span> <span style=\"display: inline-block;\">summo</span> <span style=\"display: inline-block;\">gradu</span> <span style=\"display: inline-block;\">et</span> <span style=\"display: inline-block;\">supra</span> <span style=\"display: inline-block;\">humanarum</span> <span style=\"display: inline-block;\">rerum</span> <span style=\"display: inline-block;\">fata</span> <span style=\"display: inline-block;\">consisteres</span> <span style=\"display: inline-block;\">,</span> <span style=\"display: inline-block;\">post</span> <span style=\"display: inline-block;\">duos</span> <span style=\"display: inline-block;\">familiae</span> <span style=\"display: inline-block;\">tuae</span> <span style=\"display: inline-block;\">principes</span> <span style=\"display: inline-block;\">tertius</span> <span style=\"display: inline-block;\">imperator</span> <span style=\"display: inline-block;\">.</span></p>\n",
      "    <p><b style=\"text-decoration: line-through;;\">negative</b> -> <span style=\"display: inline-block;\">Et</span> <span style=\"display: inline-block;\">qui</span> <span style=\"display: inline-block;\">id</span> <span style=\"display: inline-block;\">,</span> <span style=\"display: inline-block;\">inquam</span> <span style=\"display: inline-block;\">,</span> <span style=\"display: inline-block;\">fieri</span> <span style=\"display: inline-block;\">potest</span> <span style=\"display: inline-block;\">?</span></p>\n",
      "    <p><b style=\"text-decoration: line-through;;\">positive</b> -> <span style=\"display: inline-block;\">idem</span> <span style=\"display: inline-block;\">et</span> <span style=\"display: inline-block;\">ueretrum</span> <span style=\"display: inline-block;\">,</span> <span style=\"display: inline-block;\">quia</span> <span style=\"display: inline-block;\">uiri</span> <span style=\"display: inline-block;\">est</span> <span style=\"display: inline-block;\">tantum</span> <span style=\"display: inline-block;\">,</span> <span style=\"display: inline-block;\">siue</span> <span style=\"display: inline-block;\">quod</span> <span style=\"display: inline-block;\">ex</span> <span style=\"display: inline-block;\">eo</span> <span style=\"display: inline-block;\">uirus</span> <span style=\"display: inline-block;\">emittitur</span></p>\n",
      "    <p><b style=\"text-decoration: line-through;;\">negative</b> -> <span style=\"display: inline-block;\">quo</span> <span style=\"display: inline-block;\">fracta</span> <span style=\"display: inline-block;\">tonitrua</span> <span style=\"display: inline-block;\">vento</span> <span style=\"display: inline-block;\">,</span> <span style=\"display: inline-block;\">quis</span> <span style=\"display: inline-block;\">trahat</span> <span style=\"display: inline-block;\">imbriferas</span> <span style=\"display: inline-block;\">nubes</span> <span style=\"display: inline-block;\">,</span> <span style=\"display: inline-block;\">quo</span> <span style=\"display: inline-block;\">saxa</span> <span style=\"display: inline-block;\">creentur</span> <span style=\"display: inline-block;\">grandinis</span> <span style=\"display: inline-block;\">;</span></p>\n",
      "    <p><b style=\"text-decoration: line-through;;\">positive</b> -> <span style=\"display: inline-block;\">manu</span> <span style=\"display: inline-block;\">percussus</span> <span style=\"display: inline-block;\">crudeli</span> <span style=\"display: inline-block;\">morte</span> <span style=\"display: inline-block;\">punitus</span> <span style=\"display: inline-block;\">est</span> <span style=\"display: inline-block;\">:</span> <span style=\"display: inline-block;\">quid</span> <span style=\"display: inline-block;\">de</span> <span style=\"display: inline-block;\">te</span> <span style=\"display: inline-block;\">arbitraris</span> <span style=\"display: inline-block;\">,</span> <span style=\"display: inline-block;\">perdite</span> <span style=\"display: inline-block;\">pariter</span> <span style=\"display: inline-block;\">et</span> <span style=\"display: inline-block;\">perditor</span> <span style=\"display: inline-block;\">,</span> <span style=\"display: inline-block;\">qui</span> <span style=\"display: inline-block;\">vas</span> <span style=\"display: inline-block;\">rationabile</span> <span style=\"display: inline-block;\">consecratum</span> <span style=\"display: inline-block;\">Christo</span> <span style=\"display: inline-block;\">,</span> <span style=\"display: inline-block;\">sanctificatum</span> <span style=\"display: inline-block;\">Spiritui</span> <span style=\"display: inline-block;\">sancto</span> <span style=\"display: inline-block;\">,</span> <span style=\"display: inline-block;\">impie</span> <span style=\"display: inline-block;\">temerasti</span> <span style=\"display: inline-block;\">,</span> <span style=\"display: inline-block;\">polluisti</span> <span style=\"display: inline-block;\">sacrilege</span> <span style=\"display: inline-block;\">,</span> <span style=\"display: inline-block;\">et</span> <span style=\"display: inline-block;\">tui</span> <span style=\"display: inline-block;\">propositi</span> <span style=\"display: inline-block;\">immemor</span> <span style=\"display: inline-block;\">,</span> <span style=\"display: inline-block;\">et</span> <span style=\"display: inline-block;\">judicii</span> <span style=\"display: inline-block;\">divini</span> <span style=\"display: inline-block;\">contempior</span> <span style=\"display: inline-block;\">?</span></p>\n",
      "    <p><b style=\"text-decoration: line-through;;\">negative</b> -> <span style=\"display: inline-block;\">relicti</span> <span style=\"display: inline-block;\">nos</span> <span style=\"display: inline-block;\">sumus</span> <span style=\"display: inline-block;\">cum</span> <span style=\"display: inline-block;\">Sosia</span> <span style=\"display: inline-block;\">.</span></p>\n",
      "    <p><b style=\"text-decoration: line-through;;\">positive</b> -> <span style=\"display: inline-block;\">auxit</span> <span style=\"display: inline-block;\">invidiam</span> <span style=\"display: inline-block;\">praeclaro</span> <span style=\"display: inline-block;\">exemplo</span> <span style=\"display: inline-block;\">femina</span> <span style=\"display: inline-block;\">Ligus</span> <span style=\"display: inline-block;\">,</span> <span style=\"display: inline-block;\">quae</span> <span style=\"display: inline-block;\">filio</span> <span style=\"display: inline-block;\">abdito</span> <span style=\"display: inline-block;\">,</span> <span style=\"display: inline-block;\">cum</span> <span style=\"display: inline-block;\">simul</span> <span style=\"display: inline-block;\">pecuniam</span> <span style=\"display: inline-block;\">occultari</span> <span style=\"display: inline-block;\">milites</span> <span style=\"display: inline-block;\">credidissent</span> <span style=\"display: inline-block;\">eoque</span> <span style=\"display: inline-block;\">-que</span> <span style=\"display: inline-block;\">per</span> <span style=\"display: inline-block;\">cruciatus</span> <span style=\"display: inline-block;\">interrogarent</span> <span style=\"display: inline-block;\">ubi</span> <span style=\"display: inline-block;\">filium</span> <span style=\"display: inline-block;\">occuleret</span> <span style=\"display: inline-block;\">,</span> <span style=\"display: inline-block;\">uterum</span> <span style=\"display: inline-block;\">ostendens</span> <span style=\"display: inline-block;\">latere</span> <span style=\"display: inline-block;\">respondit</span> <span style=\"display: inline-block;\">,</span> <span style=\"display: inline-block;\">nec</span> <span style=\"display: inline-block;\">ullis</span> <span style=\"display: inline-block;\">deinde</span> <span style=\"display: inline-block;\">terroribus</span> <span style=\"display: inline-block;\">aut</span> <span style=\"display: inline-block;\">morte</span> <span style=\"display: inline-block;\">constantiam</span> <span style=\"display: inline-block;\">vocis</span> <span style=\"display: inline-block;\">egregiae</span> <span style=\"display: inline-block;\">mutavit</span> <span style=\"display: inline-block;\">.</span></p>\n",
      "    <p><b style=\"text-decoration: line-through;;\">positive</b> -> <span style=\"display: inline-block;\">Num</span> <span style=\"display: inline-block;\">mea</span> <span style=\"display: inline-block;\">Thessalico</span> <span style=\"display: inline-block;\">languent</span> <span style=\"display: inline-block;\">devota</span> <span style=\"display: inline-block;\">veneno</span> <span style=\"display: inline-block;\">Corpora</span> <span style=\"display: inline-block;\">?</span></p>\n",
      "    <p><b style=\"text-decoration: line-through;;\">negative</b> -> <span style=\"display: inline-block;\">Cicero</span> <span style=\"display: inline-block;\">in</span> <span style=\"display: inline-block;\">Catone</span> <span style=\"display: inline-block;\">maiore</span> <span style=\"display: inline-block;\">stupra</span> <span style=\"display: inline-block;\">uero</span> <span style=\"display: inline-block;\">inquit</span> <span style=\"display: inline-block;\">et</span> <span style=\"display: inline-block;\">adulteria</span> <span style=\"display: inline-block;\">et</span> <span style=\"display: inline-block;\">omne</span> <span style=\"display: inline-block;\">flagitium</span> <span style=\"display: inline-block;\">nullis</span> <span style=\"display: inline-block;\">excitari</span> <span style=\"display: inline-block;\">aliis</span> <span style=\"display: inline-block;\">inlecebris</span> <span style=\"display: inline-block;\">nisi</span> <span style=\"display: inline-block;\">uoluptatis</span> <span style=\"display: inline-block;\">.</span></p>\n",
      "    <p><b style=\"text-decoration: line-through;;\">negative</b> -> <span style=\"display: inline-block;\">Id</span> <span style=\"display: inline-block;\">si</span> <span style=\"display: inline-block;\">dubitas</span> <span style=\"display: inline-block;\">,</span> <span style=\"display: inline-block;\">evolve</span> <span style=\"display: inline-block;\">quae</span> <span style=\"display: inline-block;\">spiritus</span> <span style=\"display: inline-block;\">ecclesiis</span> <span style=\"display: inline-block;\">dicat</span> <span style=\"display: inline-block;\">.</span></p>\n",
      "    <p><b style=\"text-decoration: line-through;;\">negative</b> -> <span style=\"display: inline-block;\">stridens</span> <span style=\"display: inline-block;\">labor</span> <span style=\"display: inline-block;\">horret</span> <span style=\"display: inline-block;\">ab</span> <span style=\"display: inline-block;\">alto</span> <span style=\"display: inline-block;\">.</span></p>\n",
      "    <p><b style=\"text-decoration: line-through;;\">negative</b> -> <span style=\"display: inline-block;\">ex</span> <span style=\"display: inline-block;\">asperitate</span> <span style=\"display: inline-block;\">faucium</span> <span style=\"display: inline-block;\">,</span> <span style=\"display: inline-block;\">obtunsione</span> <span style=\"display: inline-block;\">vocis</span> <span style=\"display: inline-block;\">et</span> <span style=\"display: inline-block;\">rauco</span> <span style=\"display: inline-block;\">sonitu</span> <span style=\"display: inline-block;\">,</span> <span style=\"display: inline-block;\">inflatione</span> <span style=\"display: inline-block;\">etiam</span> <span style=\"display: inline-block;\">papillarum</span> <span style=\"display: inline-block;\">et</span> <span style=\"display: inline-block;\">genitalium</span> <span style=\"display: inline-block;\">,</span> <span style=\"display: inline-block;\">et</span> <span style=\"display: inline-block;\">cum</span> <span style=\"display: inline-block;\">repente</span> <span style=\"display: inline-block;\">maceratum</span> <span style=\"display: inline-block;\">corpus</span> <span style=\"display: inline-block;\">in</span> <span style=\"display: inline-block;\">longitudinem</span> <span style=\"display: inline-block;\">viderimus</span> <span style=\"display: inline-block;\">porrectum</span> <span style=\"display: inline-block;\">.</span></p>\n",
      "    <p><b style=\"text-decoration: line-through;;\">negative</b> -> <span style=\"display: inline-block;\">nec</span> <span style=\"display: inline-block;\">de</span> <span style=\"display: inline-block;\">his</span> <span style=\"display: inline-block;\">ago</span> <span style=\"display: inline-block;\">in</span> <span style=\"display: inline-block;\">quibus</span> <span style=\"display: inline-block;\">est</span> <span style=\"display: inline-block;\">quidam</span> <span style=\"display: inline-block;\">placendi</span> <span style=\"display: inline-block;\">adpetitus</span> <span style=\"display: inline-block;\">aut</span> <span style=\"display: inline-block;\">elegantiore</span> <span style=\"display: inline-block;\">uestitu</span> <span style=\"display: inline-block;\">,</span> <span style=\"display: inline-block;\">quam</span> <span style=\"display: inline-block;\">tantae</span> <span style=\"display: inline-block;\">professionis</span> <span style=\"display: inline-block;\">necessitas</span> <span style=\"display: inline-block;\">postulat</span> <span style=\"display: inline-block;\">,</span> <span style=\"display: inline-block;\">aut</span> <span style=\"display: inline-block;\">capitis</span> <span style=\"display: inline-block;\">ligamento</span> <span style=\"display: inline-block;\">notabili</span> <span style=\"display: inline-block;\">siue</span> <span style=\"display: inline-block;\">protumidis</span> <span style=\"display: inline-block;\">umbonibus</span> <span style=\"display: inline-block;\">capillorum</span> <span style=\"display: inline-block;\">siue</span> <span style=\"display: inline-block;\">tegminibus</span> <span style=\"display: inline-block;\">ita</span> <span style=\"display: inline-block;\">teneris</span> <span style=\"display: inline-block;\">,</span> <span style=\"display: inline-block;\">ut</span> <span style=\"display: inline-block;\">retiola</span> <span style=\"display: inline-block;\">subter</span> <span style=\"display: inline-block;\">posita</span> <span style=\"display: inline-block;\">adpareant</span> <span style=\"display: inline-block;\">:</span> <span style=\"display: inline-block;\">his</span> <span style=\"display: inline-block;\">nondum</span> <span style=\"display: inline-block;\">de</span> <span style=\"display: inline-block;\">humilitate</span> <span style=\"display: inline-block;\">,</span> <span style=\"display: inline-block;\">sed</span> <span style=\"display: inline-block;\">de</span> <span style=\"display: inline-block;\">ipsa</span> <span style=\"display: inline-block;\">castitate</span> <span style=\"display: inline-block;\">uel</span> <span style=\"display: inline-block;\">integritate</span> <span style=\"display: inline-block;\">pudicitiae</span> <span style=\"display: inline-block;\">danda</span> <span style=\"display: inline-block;\">praecepta</span> <span style=\"display: inline-block;\">sunt</span> <span style=\"display: inline-block;\">.</span></p>\n",
      "    <p><b style=\"text-decoration: line-through;;\">positive</b> -> <span style=\"display: inline-block;\">Fessus</span> <span style=\"display: inline-block;\">mille</span> <span style=\"display: inline-block;\">modis</span> <span style=\"display: inline-block;\">illud</span> <span style=\"display: inline-block;\">puerile</span> <span style=\"display: inline-block;\">poposci</span></p>\n",
      "    <p><b style=\"text-decoration: line-through;;\">negative</b> -> <span style=\"display: inline-block;\">temporis</span> <span style=\"display: inline-block;\">ecce</span> <span style=\"display: inline-block;\">leuis</span> <span style=\"display: inline-block;\">conscendere</span> <span style=\"display: inline-block;\">cogeris</span> <span style=\"display: inline-block;\">ignes</span> <span style=\"display: inline-block;\">!</span></p>\n",
      "    <p><b style=\"text-decoration: line-through;;\">negative</b> -> <span style=\"display: inline-block;\">Maioribus</span> <span style=\"display: inline-block;\">nostri</span> <span style=\"display: inline-block;\">in</span> <span style=\"display: inline-block;\">Alexandria</span> <span style=\"display: inline-block;\">medicinam</span> <span style=\"display: inline-block;\">agentibus</span> <span style=\"display: inline-block;\">,</span> <span style=\"display: inline-block;\">Rufo</span> <span style=\"display: inline-block;\">scilicet</span> <span style=\"display: inline-block;\">et</span> <span style=\"display: inline-block;\">Philippo</span> <span style=\"display: inline-block;\">,</span> <span style=\"display: inline-block;\">Lico</span> <span style=\"display: inline-block;\">,</span> <span style=\"display: inline-block;\">Erasistrato</span> <span style=\"display: inline-block;\">,</span> <span style=\"display: inline-block;\">Pelope</span> <span style=\"display: inline-block;\">et</span> <span style=\"display: inline-block;\">Erofilo</span> <span style=\"display: inline-block;\">,</span> <span style=\"display: inline-block;\">Ypocrate</span> <span style=\"display: inline-block;\">et</span> <span style=\"display: inline-block;\">Apollinio</span> <span style=\"display: inline-block;\">placuit</span> <span style=\"display: inline-block;\">,</span> <span style=\"display: inline-block;\">mortuorum</span> <span style=\"display: inline-block;\">scrutari</span> <span style=\"display: inline-block;\">,</span> <span style=\"display: inline-block;\">ut</span> <span style=\"display: inline-block;\">scirent</span> <span style=\"display: inline-block;\">,</span> <span style=\"display: inline-block;\">unde</span> <span style=\"display: inline-block;\">et</span> <span style=\"display: inline-block;\">quomodo</span> <span style=\"display: inline-block;\">morirentur</span> <span style=\"display: inline-block;\">,</span> <span style=\"display: inline-block;\">quod</span> <span style=\"display: inline-block;\">ipsa</span> <span style=\"display: inline-block;\">humanitas</span> <span style=\"display: inline-block;\">prohibet</span> <span style=\"display: inline-block;\">facere</span> <span style=\"display: inline-block;\">,</span> <span style=\"display: inline-block;\">eo</span> <span style=\"display: inline-block;\">quod</span> <span style=\"display: inline-block;\">ipsis</span> <span style=\"display: inline-block;\">scrutantibus</span> <span style=\"display: inline-block;\">omnia</span> <span style=\"display: inline-block;\">manifesta</span> <span style=\"display: inline-block;\">atque</span> <span style=\"display: inline-block;\">adaperta</span> <span style=\"display: inline-block;\">essent</span> <span style=\"display: inline-block;\">.</span></p>\n",
      "    <p><b style=\"text-decoration: line-through;;\">negative</b> -> <span style=\"display: inline-block;\">id</span> <span style=\"display: inline-block;\">quantae</span> <span style=\"display: inline-block;\">saluti</span> <span style=\"display: inline-block;\">fuerit</span> <span style=\"display: inline-block;\">universae</span> <span style=\"display: inline-block;\">Graeciae</span> <span style=\"display: inline-block;\">,</span> <span style=\"display: inline-block;\">bello</span> <span style=\"display: inline-block;\">cognitum</span> <span style=\"display: inline-block;\">est</span> <span style=\"display: inline-block;\">Persico</span> <span style=\"display: inline-block;\">.</span></p>\n",
      "    <p><b style=\"text-decoration: line-through;;\">negative</b> -> <span style=\"display: inline-block;\">totus</span> <span style=\"display: inline-block;\">et</span> <span style=\"display: inline-block;\">(</span> <span style=\"display: inline-block;\">ex</span> <span style=\"display: inline-block;\">)</span></p>\n",
      "    <p><b style=\"text-decoration: line-through;;\">negative</b> -> <span style=\"display: inline-block;\">Integra</span> <span style=\"display: inline-block;\">nati</span> <span style=\"display: inline-block;\">aut</span> <span style=\"display: inline-block;\">semper</span> <span style=\"display: inline-block;\">in</span> <span style=\"display: inline-block;\">ea</span> <span style=\"display: inline-block;\">mouentur</span> <span style=\"display: inline-block;\">quos</span> <span style=\"display: inline-block;\">ab</span> <span style=\"display: inline-block;\">innatando</span> <span style=\"display: inline-block;\">πλωτοῦσ</span> <span style=\"display: inline-block;\">Graeci</span> <span style=\"display: inline-block;\">uocant</span> <span style=\"display: inline-block;\">,</span> <span style=\"display: inline-block;\">aut</span> <span style=\"display: inline-block;\">in</span> <span style=\"display: inline-block;\">ipsa</span> <span style=\"display: inline-block;\">uesicae</span> <span style=\"display: inline-block;\">ceruice</span> <span style=\"display: inline-block;\">orti</span> <span style=\"display: inline-block;\">ubi</span> <span style=\"display: inline-block;\">primo</span> <span style=\"display: inline-block;\">,</span> <span style=\"display: inline-block;\">conquiescunt</span> <span style=\"display: inline-block;\">.</span></p>\n",
      "    <p><b style=\"text-decoration: line-through;;\">negative</b> -> <span style=\"display: inline-block;\">ne</span> <span style=\"display: inline-block;\">discipulum</span> <span style=\"display: inline-block;\">abducam</span> <span style=\"display: inline-block;\">,</span> <span style=\"display: inline-block;\">times</span> <span style=\"display: inline-block;\">.</span></p>\n",
      "    <p><b style=\"text-decoration: line-through;;\">negative</b> -> <span style=\"display: inline-block;\">sed</span> <span style=\"display: inline-block;\">quid</span> <span style=\"display: inline-block;\">me</span> <span style=\"display: inline-block;\">ipse</span> <span style=\"display: inline-block;\">ineptus</span> <span style=\"display: inline-block;\">crucio</span> <span style=\"display: inline-block;\">?</span></p>\n",
      "    <p><b style=\"text-decoration: line-through;;\">negative</b> -> <span style=\"display: inline-block;\">non</span> <span style=\"display: inline-block;\">parturiui</span> <span style=\"display: inline-block;\">inquit</span> <span style=\"display: inline-block;\">nec</span> <span style=\"display: inline-block;\">peperi</span> <span style=\"display: inline-block;\">nec</span> <span style=\"display: inline-block;\">enutriui</span> <span style=\"display: inline-block;\">iuuenes</span> <span style=\"display: inline-block;\">.</span></p>\n",
      "    <p><b style=\"text-decoration: line-through;;\">positive</b> -> <span style=\"display: inline-block;\">necesse</span> <span style=\"display: inline-block;\">est</span> <span style=\"display: inline-block;\">enim</span> <span style=\"display: inline-block;\">,</span> <span style=\"display: inline-block;\">quando</span> <span style=\"display: inline-block;\">passio</span> <span style=\"display: inline-block;\">asperatur</span> <span style=\"display: inline-block;\">,</span> <span style=\"display: inline-block;\">tunc</span> <span style=\"display: inline-block;\">etiam</span> <span style=\"display: inline-block;\">febres</span> <span style=\"display: inline-block;\">extendi</span> <span style=\"display: inline-block;\">,</span> <span style=\"display: inline-block;\">et</span> <span style=\"display: inline-block;\">cum</span> <span style=\"display: inline-block;\">rursum</span> <span style=\"display: inline-block;\">fuerit</span> <span style=\"display: inline-block;\">remissa</span> <span style=\"display: inline-block;\">,</span> <span style=\"display: inline-block;\">febres</span> <span style=\"display: inline-block;\">quoque</span> <span style=\"display: inline-block;\">leuigari</span> <span style=\"display: inline-block;\">.</span> <span style=\"display: inline-block;\">at</span> <span style=\"display: inline-block;\">si</span> <span style=\"display: inline-block;\">febres</span> <span style=\"display: inline-block;\">non</span> <span style=\"display: inline-block;\">fuerint</span> <span style=\"display: inline-block;\">,</span> <span style=\"display: inline-block;\">ex</span> <span style=\"display: inline-block;\">ceteris</span> <span style=\"display: inline-block;\">accidentibus</span> <span style=\"display: inline-block;\">,</span> <span style=\"display: inline-block;\">quae</span> <span style=\"display: inline-block;\">Graeci</span> <span style=\"display: inline-block;\">symptomata</span> <span style=\"display: inline-block;\">uocant</span> <span style=\"display: inline-block;\">,</span> <span style=\"display: inline-block;\">cum</span> <span style=\"display: inline-block;\">ea</span> <span style=\"display: inline-block;\">indulgentiora</span> <span style=\"display: inline-block;\">uiderimus</span> <span style=\"display: inline-block;\">,</span> <span style=\"display: inline-block;\">ut</span> <span style=\"display: inline-block;\">ruborem</span> <span style=\"display: inline-block;\">,</span> <span style=\"display: inline-block;\">feruorem</span> <span style=\"display: inline-block;\">,</span> <span style=\"display: inline-block;\">pruritum</span> <span style=\"display: inline-block;\">uel</span> <span style=\"display: inline-block;\">in</span> <span style=\"display: inline-block;\">usum</span> <span style=\"display: inline-block;\">uenerium</span> <span style=\"display: inline-block;\">cupiditatem</span> <span style=\"display: inline-block;\">aut</span> <span style=\"display: inline-block;\">genitalium</span> <span style=\"display: inline-block;\">tentiginem</span> <span style=\"display: inline-block;\">uel</span> <span style=\"display: inline-block;\">his</span> <span style=\"display: inline-block;\">similia</span> <span style=\"display: inline-block;\">.</span> <span style=\"display: inline-block;\">post</span> <span style=\"display: inline-block;\">phlebotomiam</span> <span style=\"display: inline-block;\">corpus</span> <span style=\"display: inline-block;\">perungemus</span> <span style=\"display: inline-block;\">atque</span> <span style=\"display: inline-block;\">ora</span> <span style=\"display: inline-block;\">lauantes</span> <span style=\"display: inline-block;\">cibum</span> <span style=\"display: inline-block;\">damus</span> <span style=\"display: inline-block;\">alicam</span> <span style=\"display: inline-block;\">ex</span> <span style=\"display: inline-block;\">melle</span> <span style=\"display: inline-block;\">uel</span> <span style=\"display: inline-block;\">panem</span> <span style=\"display: inline-block;\">lotum</span> <span style=\"display: inline-block;\">ex</span> <span style=\"display: inline-block;\">aqua</span> <span style=\"display: inline-block;\">et</span> <span style=\"display: inline-block;\">oua</span> <span style=\"display: inline-block;\">sorbilia</span> <span style=\"display: inline-block;\">.</span></p>\n",
      "    <p><b style=\"text-decoration: line-through;;\">positive</b> -> <span style=\"display: inline-block;\">Eccere</span> <span style=\"display: inline-block;\">,</span> <span style=\"display: inline-block;\">perii</span> <span style=\"display: inline-block;\">misera</span> <span style=\"display: inline-block;\">,</span> <span style=\"display: inline-block;\">quam</span> <span style=\"display: inline-block;\">tu</span> <span style=\"display: inline-block;\">mihi</span> <span style=\"display: inline-block;\">nunc</span> <span style=\"display: inline-block;\">navem</span> <span style=\"display: inline-block;\">narras</span> <span style=\"display: inline-block;\">?</span></p>\n",
      "    <p><b style=\"text-decoration: line-through;;\">negative</b> -> <span style=\"display: inline-block;\">locutus</span> <span style=\"display: inline-block;\">est</span> <span style=\"display: inline-block;\">Dominus</span> <span style=\"display: inline-block;\">ad</span> <span style=\"display: inline-block;\">Mosen</span> <span style=\"display: inline-block;\">dicens</span></p>\n",
      "    <p><b style=\"text-decoration: line-through;;\">positive</b> -> <span style=\"display: inline-block;\">Corrumpit</span> <span style=\"display: inline-block;\">sine</span> <span style=\"display: inline-block;\">talione</span> <span style=\"display: inline-block;\">caelebs</span> <span style=\"display: inline-block;\">,</span> <span style=\"display: inline-block;\">Caecus</span> <span style=\"display: inline-block;\">perdere</span> <span style=\"display: inline-block;\">non</span> <span style=\"display: inline-block;\">potest</span> <span style=\"display: inline-block;\">quod</span> <span style=\"display: inline-block;\">aufert</span></p>\n",
      "    <p><b style=\"text-decoration: line-through;;\">positive</b> -> <span style=\"display: inline-block;\">Propriam</span> <span style=\"display: inline-block;\">etiamnum</span> <span style=\"display: inline-block;\">animadversionem</span> <span style=\"display: inline-block;\">desiderant</span> <span style=\"display: inline-block;\">eae</span> <span style=\"display: inline-block;\">,</span> <span style=\"display: inline-block;\">quae</span> <span style=\"display: inline-block;\">in</span> <span style=\"display: inline-block;\">ano</span> <span style=\"display: inline-block;\">sunt</span> <span style=\"display: inline-block;\">.</span></p>\n",
      "    <p><b style=\"text-decoration: line-through;;\">positive</b> -> <span style=\"display: inline-block;\">confinia</span> <span style=\"display: inline-block;\">palpabat</span> <span style=\"display: inline-block;\">res</span> <span style=\"display: inline-block;\">intimas</span></p>\n",
      "    <p><b style=\"text-decoration: line-through;;\">negative</b> -> <span style=\"display: inline-block;\">Nam</span> <span style=\"display: inline-block;\">scorpiones</span> <span style=\"display: inline-block;\">scinci</span> <span style=\"display: inline-block;\">lacertaeque</span> <span style=\"display: inline-block;\">-que</span> <span style=\"display: inline-block;\">vermibus</span> <span style=\"display: inline-block;\">,</span> <span style=\"display: inline-block;\">non</span> <span style=\"display: inline-block;\">serpentibus</span> <span style=\"display: inline-block;\">adscribuntur</span> <span style=\"display: inline-block;\">.</span></p>\n",
      "    <p><b style=\"text-decoration: line-through;;\">positive</b> -> <span style=\"display: inline-block;\">qui</span> <span style=\"display: inline-block;\">tantam</span> <span style=\"display: inline-block;\">priores</span> <span style=\"display: inline-block;\">iniuriam</span> <span style=\"display: inline-block;\">fecerunt</span> <span style=\"display: inline-block;\">in</span> <span style=\"display: inline-block;\">eius</span> <span style=\"display: inline-block;\">filia</span> <span style=\"display: inline-block;\">contaminanda</span> <span style=\"display: inline-block;\">?</span></p>\n",
      "    <p><b style=\"text-decoration: line-through;;\">positive</b> -> <span style=\"display: inline-block;\">tunc</span> <span style=\"display: inline-block;\">ad</span> <span style=\"display: inline-block;\">fluorem</span> <span style=\"display: inline-block;\">lapsum</span> <span style=\"display: inline-block;\">excipiendum</span> <span style=\"display: inline-block;\">spongia</span> <span style=\"display: inline-block;\">mollis</span> <span style=\"display: inline-block;\">sive</span> <span style=\"display: inline-block;\">lana</span> <span style=\"display: inline-block;\">vel</span> <span style=\"display: inline-block;\">latus</span> <span style=\"display: inline-block;\">pannus</span> <span style=\"display: inline-block;\">fibris</span> <span style=\"display: inline-block;\">imponantur</span> <span style=\"display: inline-block;\">,</span> <span style=\"display: inline-block;\">et</span> <span style=\"display: inline-block;\">frequentius</span> <span style=\"display: inline-block;\">commutentur</span> <span style=\"display: inline-block;\">.</span></p>\n",
      "    <p><b style=\"text-decoration: line-through;;\">negative</b> -> <span style=\"display: inline-block;\">et</span> <span style=\"display: inline-block;\">Cicero</span> <span style=\"display: inline-block;\">:</span> <span style=\"display: inline-block;\">\"</span> <span style=\"display: inline-block;\">relegationis</span> <span style=\"display: inline-block;\">ac</span> <span style=\"display: inline-block;\">supplicii</span> <span style=\"display: inline-block;\">gratia</span> <span style=\"display: inline-block;\">colenda</span> <span style=\"display: inline-block;\">et</span> <span style=\"display: inline-block;\">fruenda</span> <span style=\"display: inline-block;\">tradiderat</span> <span style=\"display: inline-block;\">\"</span> <span style=\"display: inline-block;\">;</span></p>\n",
      "    <p><b style=\"text-decoration: line-through;;\">positive</b> -> <span style=\"display: inline-block;\">intactum</span> <span style=\"display: inline-block;\">ab</span> <span style=\"display: inline-block;\">omni</span> <span style=\"display: inline-block;\">crimine</span> <span style=\"display: inline-block;\">virginal</span> <span style=\"display: inline-block;\">,</span> <span style=\"display: inline-block;\">mortis</span> <span style=\"display: inline-block;\">deinde</span> <span style=\"display: inline-block;\">gloria</span> <span style=\"display: inline-block;\">liberae</span> <span style=\"display: inline-block;\">.</span></p>\n",
      "    <p><b style=\"text-decoration: line-through;;\">negative</b> -> <span style=\"display: inline-block;\">Mulier</span> <span style=\"display: inline-block;\">,</span> <span style=\"display: inline-block;\">istam</span> <span style=\"display: inline-block;\">rem</span> <span style=\"display: inline-block;\">inquisitam</span> <span style=\"display: inline-block;\">certum</span> <span style=\"display: inline-block;\">est</span> <span style=\"display: inline-block;\">non</span> <span style=\"display: inline-block;\">amittere</span> <span style=\"display: inline-block;\">.</span></p>\n",
      "    <p><b style=\"text-decoration: line-through;;\">negative</b> -> <span style=\"display: inline-block;\">Fuit</span> <span style=\"display: inline-block;\">hic</span> <span style=\"display: inline-block;\">genere</span> <span style=\"display: inline-block;\">Atheniensis</span> <span style=\"display: inline-block;\">poeta</span> <span style=\"display: inline-block;\">,</span> <span style=\"display: inline-block;\">omni</span> <span style=\"display: inline-block;\">parte</span> <span style=\"display: inline-block;\">membrorum</span> <span style=\"display: inline-block;\">deformis</span> <span style=\"display: inline-block;\">.</span></p>\n",
      "    <p><b style=\"text-decoration: line-through;;\">negative</b> -> <span style=\"display: inline-block;\">in</span> <span style=\"display: inline-block;\">dando</span> <span style=\"display: inline-block;\">autem</span> <span style=\"display: inline-block;\">et</span> <span style=\"display: inline-block;\">credendo</span> <span style=\"display: inline-block;\">processit</span> <span style=\"display: inline-block;\">longius</span> <span style=\"display: inline-block;\">nec</span> <span style=\"display: inline-block;\">suam</span> <span style=\"display: inline-block;\">solum</span> <span style=\"display: inline-block;\">pecuniam</span> <span style=\"display: inline-block;\">credidit</span> <span style=\"display: inline-block;\">sed</span> <span style=\"display: inline-block;\">etiam</span> <span style=\"display: inline-block;\">amicorum</span> <span style=\"display: inline-block;\">,</span> <span style=\"display: inline-block;\">stulte</span> <span style=\"display: inline-block;\">;</span></p>\n",
      "    <p><b style=\"text-decoration: line-through;;\">negative</b> -> <span style=\"display: inline-block;\">Uerumtamen</span> <span style=\"display: inline-block;\">si</span> <span style=\"display: inline-block;\">ita</span> <span style=\"display: inline-block;\">est</span> <span style=\"display: inline-block;\">,</span> <span style=\"display: inline-block;\">adparet</span> <span style=\"display: inline-block;\">terram</span> <span style=\"display: inline-block;\">tenebrarum</span> <span style=\"display: inline-block;\">a</span> <span style=\"display: inline-block;\">terra</span> <span style=\"display: inline-block;\">lucis</span> <span style=\"display: inline-block;\">duobus</span> <span style=\"display: inline-block;\">lateribus</span> <span style=\"display: inline-block;\">tangi</span> <span style=\"display: inline-block;\">;</span></p>\n",
      "    <p><b style=\"text-decoration: line-through;;\">positive</b> -> <span style=\"display: inline-block;\">tergum</span> <span style=\"display: inline-block;\">,</span> <span style=\"display: inline-block;\">colla</span> <span style=\"display: inline-block;\">,</span> <span style=\"display: inline-block;\">umeros</span> <span style=\"display: inline-block;\">,</span> <span style=\"display: inline-block;\">luteae</span> <span style=\"display: inline-block;\">Symplegadis</span> <span style=\"display: inline-block;\">antrum</span> <span style=\"display: inline-block;\">.</span></p>\n",
      "    <p><b style=\"text-decoration: line-through;;\">negative</b> -> <span style=\"display: inline-block;\">Nunc</span> <span style=\"display: inline-block;\">igitur</span> <span style=\"display: inline-block;\">qui</span> <span style=\"display: inline-block;\">rex</span> <span style=\"display: inline-block;\">Romanos</span> <span style=\"display: inline-block;\">imperat</span> <span style=\"display: inline-block;\">inter</span> <span style=\"display: inline-block;\">,</span> <span style=\"display: inline-block;\">Non</span> <span style=\"display: inline-block;\">trabe</span> <span style=\"display: inline-block;\">sed</span> <span style=\"display: inline-block;\">tergo</span> <span style=\"display: inline-block;\">prolapsus</span> <span style=\"display: inline-block;\">et</span> <span style=\"display: inline-block;\">ingluuie</span> <span style=\"display: inline-block;\">albus</span> <span style=\"display: inline-block;\">,</span> <span style=\"display: inline-block;\">Et</span> <span style=\"display: inline-block;\">studia</span> <span style=\"display: inline-block;\">et</span> <span style=\"display: inline-block;\">sapiens</span> <span style=\"display: inline-block;\">hominum</span> <span style=\"display: inline-block;\">nomenque</span> <span style=\"display: inline-block;\">-que</span> <span style=\"display: inline-block;\">genusque</span> <span style=\"display: inline-block;\">-que</span> <span style=\"display: inline-block;\">Omnia</span> <span style=\"display: inline-block;\">abire</span> <span style=\"display: inline-block;\">foras</span> <span style=\"display: inline-block;\">atque</span> <span style=\"display: inline-block;\">Vrbe</span> <span style=\"display: inline-block;\">excedere</span> <span style=\"display: inline-block;\">iussit</span> <span style=\"display: inline-block;\">.</span></p>\n",
      "    <p><b style=\"text-decoration: line-through;;\">negative</b> -> <span style=\"display: inline-block;\">:</span> <span style=\"display: inline-block;\">credentes</span> <span style=\"display: inline-block;\">quod</span> <span style=\"display: inline-block;\">rem</span> <span style=\"display: inline-block;\">studii</span> <span style=\"display: inline-block;\">possint</span> <span style=\"display: inline-block;\">deputare</span> <span style=\"display: inline-block;\">necessitati</span> <span style=\"display: inline-block;\">et</span> <span style=\"display: inline-block;\">,</span> <span style=\"display: inline-block;\">dam</span> <span style=\"display: inline-block;\">homo</span> <span style=\"display: inline-block;\">homini</span> <span style=\"display: inline-block;\">custos</span> <span style=\"display: inline-block;\">est</span> <span style=\"display: inline-block;\">,</span> <span style=\"display: inline-block;\">alio</span> <span style=\"display: inline-block;\">maledicendi</span> <span style=\"display: inline-block;\">ordine</span> <span style=\"display: inline-block;\">pudicitiam</span> <span style=\"display: inline-block;\">ualeant</span> <span style=\"display: inline-block;\">adplicare</span> <span style=\"display: inline-block;\">formidini</span> <span style=\"display: inline-block;\">,</span> <span style=\"display: inline-block;\">nos</span> <span style=\"display: inline-block;\">quidem</span> <span style=\"display: inline-block;\">uel</span> <span style=\"display: inline-block;\">ex</span> <span style=\"display: inline-block;\">una</span> <span style=\"display: inline-block;\">parte</span> <span style=\"display: inline-block;\">carpendi</span> <span style=\"display: inline-block;\">occasiones</span> <span style=\"display: inline-block;\">incidimus</span> <span style=\"display: inline-block;\">,</span> <span style=\"display: inline-block;\">nos</span> <span style=\"display: inline-block;\">supernae</span> <span style=\"display: inline-block;\">memores</span> <span style=\"display: inline-block;\">disciplinae</span> <span style=\"display: inline-block;\">qualemcumque</span> <span style=\"display: inline-block;\">sacerdotalem</span> <span style=\"display: inline-block;\">dexteram</span> <span style=\"display: inline-block;\">uolentibus</span> <span style=\"display: inline-block;\">perire</span> <span style=\"display: inline-block;\">porrigimus</span> <span style=\"display: inline-block;\">et</span> <span style=\"display: inline-block;\">a</span> <span style=\"display: inline-block;\">ruinae</span> <span style=\"display: inline-block;\">praecipitio</span> <span style=\"display: inline-block;\">diabolicis</span> <span style=\"display: inline-block;\">actos</span> <span style=\"display: inline-block;\">stimulis</span> <span style=\"display: inline-block;\">retardamus</span> <span style=\"display: inline-block;\">,</span> <span style=\"display: inline-block;\">ut</span> <span style=\"display: inline-block;\">discant</span> <span style=\"display: inline-block;\">loquaces</span> <span style=\"display: inline-block;\">uel</span> <span style=\"display: inline-block;\">post</span> <span style=\"display: inline-block;\">decreta</span> <span style=\"display: inline-block;\">praesentia</span> <span style=\"display: inline-block;\">religiosum</span> <span style=\"display: inline-block;\">amare</span> <span style=\"display: inline-block;\">silentium</span> <span style=\"display: inline-block;\">.</span></p>\n",
      "    <p><b style=\"text-decoration: line-through;;\">negative</b> -> <span style=\"display: inline-block;\">nam</span> <span style=\"display: inline-block;\">cum</span> <span style=\"display: inline-block;\">antea</span> <span style=\"display: inline-block;\">nondum</span> <span style=\"display: inline-block;\">huius</span> <span style=\"display: inline-block;\">auctoritatem</span> <span style=\"display: inline-block;\">loci</span> <span style=\"display: inline-block;\">attingere</span> <span style=\"display: inline-block;\">auderem</span> <span style=\"display: inline-block;\">statueremque</span> <span style=\"display: inline-block;\">-que</span> <span style=\"display: inline-block;\">nihil</span> <span style=\"display: inline-block;\">huc</span> <span style=\"display: inline-block;\">nisi</span> <span style=\"display: inline-block;\">perfectum</span> <span style=\"display: inline-block;\">ingenio</span> <span style=\"display: inline-block;\">,</span> <span style=\"display: inline-block;\">elaboratum</span> <span style=\"display: inline-block;\">industria</span> <span style=\"display: inline-block;\">adferri</span> <span style=\"display: inline-block;\">oportere</span> <span style=\"display: inline-block;\">,</span> <span style=\"display: inline-block;\">omne</span> <span style=\"display: inline-block;\">meum</span> <span style=\"display: inline-block;\">tempus</span> <span style=\"display: inline-block;\">amicorum</span> <span style=\"display: inline-block;\">temporibus</span> <span style=\"display: inline-block;\">transmittendum</span> <span style=\"display: inline-block;\">putavi</span> <span style=\"display: inline-block;\">.</span></p>\n",
      "    <p><b style=\"text-decoration: line-through;;\">negative</b> -> <span style=\"display: inline-block;\">Salue</span> <span style=\"display: inline-block;\">nunc</span> <span style=\"display: inline-block;\">,</span> <span style=\"display: inline-block;\">regum</span> <span style=\"display: inline-block;\">maxime</span> <span style=\"display: inline-block;\">,</span> <span style=\"display: inline-block;\">in</span> <span style=\"display: inline-block;\">cuius</span> <span style=\"display: inline-block;\">dominio</span> <span style=\"display: inline-block;\">saporem</span> <span style=\"display: inline-block;\">suum</span> <span style=\"display: inline-block;\">ingenuitatis</span> <span style=\"display: inline-block;\">uigor</span> <span style=\"display: inline-block;\">agnouit</span> <span style=\"display: inline-block;\">.</span></p>\n",
      "    <p><b style=\"text-decoration: line-through;;\">positive</b> -> <span style=\"display: inline-block;\">quapropter</span> <span style=\"display: inline-block;\">perspiciendum</span> <span style=\"display: inline-block;\">,</span> <span style=\"display: inline-block;\">utrum</span> <span style=\"display: inline-block;\">usque</span> <span style=\"display: inline-block;\">ad</span> <span style=\"display: inline-block;\">dimissionem</span> <span style=\"display: inline-block;\">accessionis</span> <span style=\"display: inline-block;\">fluor</span> <span style=\"display: inline-block;\">uentris</span> <span style=\"display: inline-block;\">perseueret</span> <span style=\"display: inline-block;\">uel</span> <span style=\"display: inline-block;\">eius</span> <span style=\"display: inline-block;\">meatio</span> <span style=\"display: inline-block;\">mordicationem</span> <span style=\"display: inline-block;\">quandam</span> <span style=\"display: inline-block;\">faciat</span> <span style=\"display: inline-block;\">podici</span> <span style=\"display: inline-block;\">uel</span> <span style=\"display: inline-block;\">intestinis</span> <span style=\"display: inline-block;\">.</span></p>\n",
      "    <p><b style=\"text-decoration: line-through;;\">negative</b> -> <span style=\"display: inline-block;\">Securae</span> <span style=\"display: inline-block;\">estote</span> <span style=\"display: inline-block;\">,</span> <span style=\"display: inline-block;\">benedictae</span> <span style=\"display: inline-block;\">:</span> <span style=\"display: inline-block;\">uxor</span> <span style=\"display: inline-block;\">nulla</span> <span style=\"display: inline-block;\">deformis</span> <span style=\"display: inline-block;\">est</span> <span style=\"display: inline-block;\">marito</span> <span style=\"display: inline-block;\">suo</span> <span style=\"display: inline-block;\">.</span></p>\n",
      "    <p><b style=\"text-decoration: line-through;;\">positive</b> -> <span style=\"display: inline-block;\">Lavacrum</span> <span style=\"display: inline-block;\">publicum</span> <span style=\"display: inline-block;\">in</span> <span style=\"display: inline-block;\">aedibus</span> <span style=\"display: inline-block;\">aulicis</span> <span style=\"display: inline-block;\">fecit</span> <span style=\"display: inline-block;\">,</span> <span style=\"display: inline-block;\">simul</span> <span style=\"display: inline-block;\">et</span> <span style=\"display: inline-block;\">Plautini</span> <span style=\"display: inline-block;\">populo</span> <span style=\"display: inline-block;\">exhibuit</span> <span style=\"display: inline-block;\">,</span> <span style=\"display: inline-block;\">ut</span> <span style=\"display: inline-block;\">ex</span> <span style=\"display: inline-block;\">eo</span> <span style=\"display: inline-block;\">condiciones</span> <span style=\"display: inline-block;\">bene</span> <span style=\"display: inline-block;\">vasatorum</span> <span style=\"display: inline-block;\">hominum</span> <span style=\"display: inline-block;\">colligeret</span> <span style=\"display: inline-block;\">.</span></p>\n",
      "    <p><b style=\"text-decoration: line-through;;\">negative</b> -> <span style=\"display: inline-block;\">alteram</span> <span style=\"display: inline-block;\">propiorem</span> <span style=\"display: inline-block;\">septentrioni</span> <span style=\"display: inline-block;\">antipodon</span> <span style=\"display: inline-block;\">,</span> <span style=\"display: inline-block;\">quoniam</span> <span style=\"display: inline-block;\">emisperiou</span> <span style=\"display: inline-block;\">aliud</span> <span style=\"display: inline-block;\">latus</span> <span style=\"display: inline-block;\">optinet</span> <span style=\"display: inline-block;\">et</span> <span style=\"display: inline-block;\">ad</span> <span style=\"display: inline-block;\">rationem</span> <span style=\"display: inline-block;\">habitabilis</span> <span style=\"display: inline-block;\">tetartemorii</span> <span style=\"display: inline-block;\">contrariis</span> <span style=\"display: inline-block;\">ambulantium</span> <span style=\"display: inline-block;\">gressibus</span> <span style=\"display: inline-block;\">premitur</span> <span style=\"display: inline-block;\">.</span></p>\n",
      "    <p><b style=\"text-decoration: line-through;;\">negative</b> -> <span style=\"display: inline-block;\">Videns</span> <span style=\"display: inline-block;\">eos</span> <span style=\"display: inline-block;\">Athenagora</span> <span style=\"display: inline-block;\">utrosque</span> <span style=\"display: inline-block;\">in</span> <span style=\"display: inline-block;\">amplexu</span> <span style=\"display: inline-block;\">cum</span> <span style=\"display: inline-block;\">lacrimis</span> <span style=\"display: inline-block;\">inhaerentes</span> <span style=\"display: inline-block;\">et</span> <span style=\"display: inline-block;\">ipse</span> <span style=\"display: inline-block;\">amarissime</span> <span style=\"display: inline-block;\">flebat</span> <span style=\"display: inline-block;\">et</span> <span style=\"display: inline-block;\">narrabat</span> <span style=\"display: inline-block;\">quomodo</span> <span style=\"display: inline-block;\">sibi</span> <span style=\"display: inline-block;\">olim</span> <span style=\"display: inline-block;\">hoc</span> <span style=\"display: inline-block;\">ordine</span> <span style=\"display: inline-block;\">puella</span> <span style=\"display: inline-block;\">in</span> <span style=\"display: inline-block;\">lupanari</span> <span style=\"display: inline-block;\">posita</span> <span style=\"display: inline-block;\">uniuersa</span> <span style=\"display: inline-block;\">narrasset</span> <span style=\"display: inline-block;\">,</span> <span style=\"display: inline-block;\">et</span> <span style=\"display: inline-block;\">quantum</span> <span style=\"display: inline-block;\">temporis</span> <span style=\"display: inline-block;\">esset</span> <span style=\"display: inline-block;\">,</span> <span style=\"display: inline-block;\">quod</span> <span style=\"display: inline-block;\">a</span> <span style=\"display: inline-block;\">piratis</span> <span style=\"display: inline-block;\">abducta</span> <span style=\"display: inline-block;\">et</span> <span style=\"display: inline-block;\">addicta</span> <span style=\"display: inline-block;\">fuisset</span> <span style=\"display: inline-block;\">.</span></p>\n",
      "    <p><b style=\"text-decoration: line-through;;\">negative</b> -> <span style=\"display: inline-block;\">I</span> <span style=\"display: inline-block;\">nunc</span> <span style=\"display: inline-block;\">,</span> <span style=\"display: inline-block;\">sic</span> <span style=\"display: inline-block;\">meriti</span> <span style=\"display: inline-block;\">lectum</span> <span style=\"display: inline-block;\">reverere</span> <span style=\"display: inline-block;\">parentis</span> <span style=\"display: inline-block;\">Quem</span> <span style=\"display: inline-block;\">fugit</span> <span style=\"display: inline-block;\">et</span> <span style=\"display: inline-block;\">factis</span> <span style=\"display: inline-block;\">abdicat</span> <span style=\"display: inline-block;\">ipse</span> <span style=\"display: inline-block;\">suis</span> <span style=\"display: inline-block;\">!</span></p>\n",
      "    <p><b style=\"text-decoration: line-through;;\">negative</b> -> <span style=\"display: inline-block;\">me</span> <span style=\"display: inline-block;\">libertina</span> <span style=\"display: inline-block;\">,</span> <span style=\"display: inline-block;\">nec</span> <span style=\"display: inline-block;\">uno</span> <span style=\"display: inline-block;\">contenta</span> <span style=\"display: inline-block;\">,</span> <span style=\"display: inline-block;\">Phryne</span> <span style=\"display: inline-block;\">macerat</span> <span style=\"display: inline-block;\">.</span></p>\n",
      "    <p><b style=\"text-decoration: line-through;;\">positive</b> -> <span style=\"display: inline-block;\">ego</span> <span style=\"display: inline-block;\">tuli</span> <span style=\"display: inline-block;\">Levitas</span> <span style=\"display: inline-block;\">a</span> <span style=\"display: inline-block;\">filiis</span> <span style=\"display: inline-block;\">Israhel</span> <span style=\"display: inline-block;\">pro</span> <span style=\"display: inline-block;\">omni</span> <span style=\"display: inline-block;\">primogenito</span> <span style=\"display: inline-block;\">qui</span> <span style=\"display: inline-block;\">aperit</span> <span style=\"display: inline-block;\">vulvam</span> <span style=\"display: inline-block;\">in</span> <span style=\"display: inline-block;\">filiis</span> <span style=\"display: inline-block;\">Israhel</span> <span style=\"display: inline-block;\">eruntque</span> <span style=\"display: inline-block;\">-que</span> <span style=\"display: inline-block;\">Levitae</span> <span style=\"display: inline-block;\">mei</span> <span style=\"display: inline-block;\">.</span></p>\n",
      "    <p><b style=\"text-decoration: line-through;;\">positive</b> -> <span style=\"display: inline-block;\">unde</span> <span style=\"display: inline-block;\">recte</span> <span style=\"display: inline-block;\">mihi</span> <span style=\"display: inline-block;\">uidetur</span> <span style=\"display: inline-block;\">Apion</span> <span style=\"display: inline-block;\">propter</span> <span style=\"display: inline-block;\">patriae</span> <span style=\"display: inline-block;\">suae</span> <span style=\"display: inline-block;\">leges</span> <span style=\"display: inline-block;\">multam</span> <span style=\"display: inline-block;\">soluisse</span> <span style=\"display: inline-block;\">blasphemiae</span> <span style=\"display: inline-block;\">;</span> <span style=\"display: inline-block;\">etenim</span> <span style=\"display: inline-block;\">necessario</span> <span style=\"display: inline-block;\">circumcisus</span> <span style=\"display: inline-block;\">circa</span> <span style=\"display: inline-block;\">genitalia</span> <span style=\"display: inline-block;\">,</span> <span style=\"display: inline-block;\">uulnere</span> <span style=\"display: inline-block;\">ei</span> <span style=\"display: inline-block;\">facto</span> <span style=\"display: inline-block;\">nihil</span> <span style=\"display: inline-block;\">ei</span> <span style=\"display: inline-block;\">circumcisio</span> <span style=\"display: inline-block;\">profuit</span> <span style=\"display: inline-block;\">et</span> <span style=\"display: inline-block;\">putrefactus</span> <span style=\"display: inline-block;\">magnis</span> <span style=\"display: inline-block;\">doloribus</span> <span style=\"display: inline-block;\">expirauit</span> <span style=\"display: inline-block;\">.</span></p>\n",
      "    <p><b style=\"text-decoration: line-through;;\">negative</b> -> <span style=\"display: inline-block;\">ipse</span> <span style=\"display: inline-block;\">,</span> <span style=\"display: inline-block;\">ubi</span> <span style=\"display: inline-block;\">tempus</span> <span style=\"display: inline-block;\">erit</span> <span style=\"display: inline-block;\">,</span> <span style=\"display: inline-block;\">omnis</span> <span style=\"display: inline-block;\">in</span> <span style=\"display: inline-block;\">fonte</span> <span style=\"display: inline-block;\">lauabo</span> <span style=\"display: inline-block;\">.</span></p>\n",
      "    <p><b style=\"text-decoration: line-through;;\">negative</b> -> <span style=\"display: inline-block;\">Persuadet</span> <span style=\"display: inline-block;\">moris</span> <span style=\"display: inline-block;\">tetrum</span> <span style=\"display: inline-block;\">uariare</span> <span style=\"display: inline-block;\">colorem</span> <span style=\"display: inline-block;\">ficus</span> <span style=\"display: inline-block;\">et</span> <span style=\"display: inline-block;\">inuasis</span> <span style=\"display: inline-block;\">dat</span> <span style=\"display: inline-block;\">sua</span> <span style=\"display: inline-block;\">iura</span> <span style=\"display: inline-block;\">comis</span> <span style=\"display: inline-block;\">.</span></p>\n",
      "    <p><b style=\"text-decoration: line-through;;\">negative</b> -> <span style=\"display: inline-block;\">post</span> <span style=\"display: inline-block;\">ambulationem</span> <span style=\"display: inline-block;\">loco</span> <span style=\"display: inline-block;\">tepido</span> <span style=\"display: inline-block;\">uehementer</span> <span style=\"display: inline-block;\">et</span> <span style=\"display: inline-block;\">diu</span> <span style=\"display: inline-block;\">,</span> <span style=\"display: inline-block;\">ac</span> <span style=\"display: inline-block;\">non</span> <span style=\"display: inline-block;\">minus</span> <span style=\"display: inline-block;\">ducenties</span> <span style=\"display: inline-block;\">,</span> <span style=\"display: inline-block;\">nisi</span> <span style=\"display: inline-block;\">infirmus</span> <span style=\"display: inline-block;\">erit</span> <span style=\"display: inline-block;\">,</span> <span style=\"display: inline-block;\">perfricetur</span> <span style=\"display: inline-block;\">;</span></p>\n",
      "    <p><b style=\"text-decoration: line-through;;\">negative</b> -> <span style=\"display: inline-block;\">et</span> <span style=\"display: inline-block;\">est</span> <span style=\"display: inline-block;\">a</span> <span style=\"display: inline-block;\">foris</span> <span style=\"display: inline-block;\">neruosa</span> <span style=\"display: inline-block;\">uulua</span> <span style=\"display: inline-block;\">,</span> <span style=\"display: inline-block;\">cuius</span> <span style=\"display: inline-block;\">collum</span> <span style=\"display: inline-block;\">directum</span> <span style=\"display: inline-block;\">est</span> <span style=\"display: inline-block;\">positum</span> <span style=\"display: inline-block;\">,</span> <span style=\"display: inline-block;\">cuius</span> <span style=\"display: inline-block;\">ceruix</span> <span style=\"display: inline-block;\">erigitur</span> <span style=\"display: inline-block;\">usque</span> <span style=\"display: inline-block;\">ad</span> <span style=\"display: inline-block;\">locum</span> <span style=\"display: inline-block;\">,</span> <span style=\"display: inline-block;\">in</span> <span style=\"display: inline-block;\">quo</span> <span style=\"display: inline-block;\">res</span> <span style=\"display: inline-block;\">Veneris</span> <span style=\"display: inline-block;\">per</span> <span style=\"display: inline-block;\">ficiuntur</span> <span style=\"display: inline-block;\">et</span> <span style=\"display: inline-block;\">sperma</span> <span style=\"display: inline-block;\">miscetur</span> <span style=\"display: inline-block;\">et</span> <span style=\"display: inline-block;\">fit</span> <span style=\"display: inline-block;\">conceptio</span> <span style=\"display: inline-block;\">natura</span> <span style=\"display: inline-block;\">uolente</span> <span style=\"display: inline-block;\">ex</span> <span style=\"display: inline-block;\">uiri</span> <span style=\"display: inline-block;\">et</span> <span style=\"display: inline-block;\">mulieris</span> <span style=\"display: inline-block;\">sanguine</span> <span style=\"display: inline-block;\">.</span></p>\n",
      "    <p><b style=\"text-decoration: line-through;;\">negative</b> -> <span style=\"display: inline-block;\">qua</span> <span style=\"display: inline-block;\">oratione</span> <span style=\"display: inline-block;\">finita</span> <span style=\"display: inline-block;\">Thesbon</span> <span style=\"display: inline-block;\">subicit</span> <span style=\"display: inline-block;\">,</span> <span style=\"display: inline-block;\">etsi</span> <span style=\"display: inline-block;\">dolendus</span> <span style=\"display: inline-block;\">sit</span> <span style=\"display: inline-block;\">is</span> <span style=\"display: inline-block;\">rerum</span> <span style=\"display: inline-block;\">status</span> <span style=\"display: inline-block;\">,</span> <span style=\"display: inline-block;\">tamen</span> <span style=\"display: inline-block;\">rem</span> <span style=\"display: inline-block;\">tolerabiliorem</span> <span style=\"display: inline-block;\">esse</span> <span style=\"display: inline-block;\">,</span> <span style=\"display: inline-block;\">dummodo</span> <span style=\"display: inline-block;\">ne</span> <span style=\"display: inline-block;\">feminae</span> <span style=\"display: inline-block;\">eadem</span> <span style=\"display: inline-block;\">labe</span> <span style=\"display: inline-block;\">sint</span> <span style=\"display: inline-block;\">inquinatae</span> <span style=\"display: inline-block;\">;</span></p>\n",
      "    <p><b style=\"text-decoration: line-through;;\">negative</b> -> <span style=\"display: inline-block;\">et</span> <span style=\"display: inline-block;\">non</span> <span style=\"display: inline-block;\">sicut</span> <span style=\"display: inline-block;\">speravimus</span> <span style=\"display: inline-block;\">sed</span> <span style=\"display: inline-block;\">semet</span> <span style=\"display: inline-block;\">ipsos</span> <span style=\"display: inline-block;\">dederunt</span> <span style=\"display: inline-block;\">primum</span> <span style=\"display: inline-block;\">Domino</span> <span style=\"display: inline-block;\">deinde</span> <span style=\"display: inline-block;\">nobis</span> <span style=\"display: inline-block;\">per</span> <span style=\"display: inline-block;\">voluntatem</span> <span style=\"display: inline-block;\">Dei</span></p>\n",
      "    <p><b style=\"text-decoration: line-through;;\">negative</b> -> <span style=\"display: inline-block;\">ne</span> <span style=\"display: inline-block;\">se</span> <span style=\"display: inline-block;\">mulier</span> <span style=\"display: inline-block;\">extra</span> <span style=\"display: inline-block;\">virtutum</span> <span style=\"display: inline-block;\">cogitationes</span> <span style=\"display: inline-block;\">extraque</span> <span style=\"display: inline-block;\">-que</span> <span style=\"display: inline-block;\">bellorum</span> <span style=\"display: inline-block;\">casus</span> <span style=\"display: inline-block;\">putet</span> <span style=\"display: inline-block;\">,</span> <span style=\"display: inline-block;\">ipsis</span> <span style=\"display: inline-block;\">incipientis</span> <span style=\"display: inline-block;\">matrimonii</span> <span style=\"display: inline-block;\">auspiciis</span> <span style=\"display: inline-block;\">admonetur</span> <span style=\"display: inline-block;\">venire</span> <span style=\"display: inline-block;\">se</span> <span style=\"display: inline-block;\">laborum</span> <span style=\"display: inline-block;\">periculorumque</span> <span style=\"display: inline-block;\">-que</span> <span style=\"display: inline-block;\">sociam</span> <span style=\"display: inline-block;\">,</span> <span style=\"display: inline-block;\">idem</span> <span style=\"display: inline-block;\">in</span> <span style=\"display: inline-block;\">pace</span> <span style=\"display: inline-block;\">,</span> <span style=\"display: inline-block;\">idem</span> <span style=\"display: inline-block;\">in</span> <span style=\"display: inline-block;\">proelio</span> <span style=\"display: inline-block;\">passuram</span> <span style=\"display: inline-block;\">ausuramque</span> <span style=\"display: inline-block;\">-que</span> <span style=\"display: inline-block;\">:</span> <span style=\"display: inline-block;\">hoc</span> <span style=\"display: inline-block;\">iuncti</span> <span style=\"display: inline-block;\">boves</span> <span style=\"display: inline-block;\">,</span> <span style=\"display: inline-block;\">hoc</span> <span style=\"display: inline-block;\">paratus</span> <span style=\"display: inline-block;\">equus</span> <span style=\"display: inline-block;\">,</span> <span style=\"display: inline-block;\">hoc</span> <span style=\"display: inline-block;\">data</span> <span style=\"display: inline-block;\">arma</span> <span style=\"display: inline-block;\">denuntiant</span> <span style=\"display: inline-block;\">.</span></p>\n",
      "    <p><b style=\"text-decoration: line-through;;\">negative</b> -> <span style=\"display: inline-block;\">distinguit</span> <span style=\"display: inline-block;\">rationem</span> <span style=\"display: inline-block;\">officiorum</span> <span style=\"display: inline-block;\">ac</span> <span style=\"display: inline-block;\">temporum</span> <span style=\"display: inline-block;\">,</span> <span style=\"display: inline-block;\">vicissitudinem</span> <span style=\"display: inline-block;\">laboris</span> <span style=\"display: inline-block;\">ac</span> <span style=\"display: inline-block;\">voluptatis</span> <span style=\"display: inline-block;\">.</span></p>\n",
      "    <p><b style=\"text-decoration: line-through;;\">negative</b> -> <span style=\"display: inline-block;\">Haec</span> <span style=\"display: inline-block;\">eam</span> <span style=\"display: inline-block;\">sollicite</span> <span style=\"display: inline-block;\">seduloque</span> <span style=\"display: inline-block;\">-que</span> <span style=\"display: inline-block;\">curantem</span> <span style=\"display: inline-block;\">Ceres</span> <span style=\"display: inline-block;\">alma</span> <span style=\"display: inline-block;\">deprehendit</span> <span style=\"display: inline-block;\">et</span> <span style=\"display: inline-block;\">longum</span> <span style=\"display: inline-block;\">exclamat</span> <span style=\"display: inline-block;\">protinus</span> <span style=\"display: inline-block;\">:</span> <span style=\"display: inline-block;\">Ain</span> <span style=\"display: inline-block;\">-ne</span> <span style=\"display: inline-block;\">,</span> <span style=\"display: inline-block;\">Psyche</span> <span style=\"display: inline-block;\">miseranda</span> <span style=\"display: inline-block;\">?</span></p>\n",
      "    <p><b style=\"text-decoration: line-through;;\">negative</b> -> <span style=\"display: inline-block;\">Matris</span> <span style=\"display: inline-block;\">adhuc</span> <span style=\"display: inline-block;\">utero</span> <span style=\"display: inline-block;\">partu</span> <span style=\"display: inline-block;\">remorante</span> <span style=\"display: inline-block;\">tenebar</span> <span style=\"display: inline-block;\">;</span></p>\n",
      "    <p><b style=\"text-decoration: line-through;;\">positive</b> -> <span style=\"display: inline-block;\">et</span> <span style=\"display: inline-block;\">lassata</span> <span style=\"display: inline-block;\">viris</span> <span style=\"display: inline-block;\">necdum</span> <span style=\"display: inline-block;\">satiata</span> <span style=\"display: inline-block;\">recessit</span></p>\n",
      "    <p><b style=\"text-decoration: line-through;;\">negative</b> -> <span style=\"display: inline-block;\">Cura</span> <span style=\"display: inline-block;\">quam</span> <span style=\"display: inline-block;\">optume</span> <span style=\"display: inline-block;\">potes</span> <span style=\"display: inline-block;\">.</span></p>\n",
      "    <p><b style=\"text-decoration: line-through;;\">positive</b> -> <span style=\"display: inline-block;\">Quoius</span> <span style=\"display: inline-block;\">nullum</span> <span style=\"display: inline-block;\">membrum</span> <span style=\"display: inline-block;\">a</span> <span style=\"display: inline-block;\">flagitio</span> <span style=\"display: inline-block;\">aut</span> <span style=\"display: inline-block;\">facinore</span> <span style=\"display: inline-block;\">vacat</span> <span style=\"display: inline-block;\">,</span> <span style=\"display: inline-block;\">lingua</span> <span style=\"display: inline-block;\">vana</span> <span style=\"display: inline-block;\">,</span> <span style=\"display: inline-block;\">manus</span> <span style=\"display: inline-block;\">cruentae</span> <span style=\"display: inline-block;\">,</span> <span style=\"display: inline-block;\">pedes</span> <span style=\"display: inline-block;\">fugaces</span> <span style=\"display: inline-block;\">;</span> <span style=\"display: inline-block;\">quae</span> <span style=\"display: inline-block;\">honeste</span> <span style=\"display: inline-block;\">nominari</span> <span style=\"display: inline-block;\">nequeunt</span> <span style=\"display: inline-block;\">inhonestissima</span> <span style=\"display: inline-block;\">.</span></p>\n",
      "    <p><b style=\"text-decoration: line-through;;\">negative</b> -> <span style=\"display: inline-block;\">carminaque</span> <span style=\"display: inline-block;\">-que</span> <span style=\"display: inline-block;\">edideram</span> <span style=\"display: inline-block;\">,</span> <span style=\"display: inline-block;\">cum</span> <span style=\"display: inline-block;\">te</span> <span style=\"display: inline-block;\">delicta</span> <span style=\"display: inline-block;\">notantem</span> <span style=\"display: inline-block;\">praeterii</span> <span style=\"display: inline-block;\">totiens</span> <span style=\"display: inline-block;\">inreprehensus</span> <span style=\"display: inline-block;\">eques</span> <span style=\"display: inline-block;\">.</span></p>\n",
      "    <p><b style=\"text-decoration: line-through;;\">negative</b> -> <span style=\"display: inline-block;\">Multo</span> <span style=\"display: inline-block;\">gaudio</span> <span style=\"display: inline-block;\">sum</span> <span style=\"display: inline-block;\">repletus</span> <span style=\"display: inline-block;\">,</span> <span style=\"display: inline-block;\">quod</span> <span style=\"display: inline-block;\">circa</span> <span style=\"display: inline-block;\">ecclesiae</span> <span style=\"display: inline-block;\">pacem</span> <span style=\"display: inline-block;\">et</span> <span style=\"display: inline-block;\">sanctissimi</span> <span style=\"display: inline-block;\">imperatoris</span> <span style=\"display: inline-block;\">et</span> <span style=\"display: inline-block;\">dilectionis</span> <span style=\"display: inline-block;\">tuae</span> <span style=\"display: inline-block;\">tale</span> <span style=\"display: inline-block;\">studium</span> <span style=\"display: inline-block;\">,</span> <span style=\"display: inline-block;\">quale</span> <span style=\"display: inline-block;\">litteris</span> <span style=\"display: inline-block;\">indicasti</span> <span style=\"display: inline-block;\">,</span> <span style=\"display: inline-block;\">legatorum</span> <span style=\"display: inline-block;\">quoque</span> <span style=\"display: inline-block;\">meorum</span> <span style=\"display: inline-block;\">assertione</span> <span style=\"display: inline-block;\">cognoui</span> <span style=\"display: inline-block;\">.</span></p>\n",
      "    <p><b style=\"text-decoration: line-through;;\">negative</b> -> <span style=\"display: inline-block;\">non</span> <span style=\"display: inline-block;\">est</span> <span style=\"display: inline-block;\">pudica</span> <span style=\"display: inline-block;\">quae</span> <span style=\"display: inline-block;\">adfectat</span> <span style=\"display: inline-block;\">animum</span> <span style=\"display: inline-block;\">alterius</span> <span style=\"display: inline-block;\">mouere</span> <span style=\"display: inline-block;\">etiam</span> <span style=\"display: inline-block;\">salua</span> <span style=\"display: inline-block;\">.</span></p>\n",
      "    <p><b style=\"text-decoration: line-through;;\">positive</b> -> <span style=\"display: inline-block;\">,</span> <span style=\"display: inline-block;\">auersus</span> <span style=\"display: inline-block;\">omnes</span> <span style=\"display: inline-block;\">admissarii</span> <span style=\"display: inline-block;\">sui</span> <span style=\"display: inline-block;\">motus</span> <span style=\"display: inline-block;\">in</span> <span style=\"display: inline-block;\">speculo</span> <span style=\"display: inline-block;\">uideret</span></p>\n",
      "    <p><b style=\"text-decoration: line-through;;\">negative</b> -> <span style=\"display: inline-block;\">quo</span> <span style=\"display: inline-block;\">modo</span> <span style=\"display: inline-block;\">igitur</span> <span style=\"display: inline-block;\">L.</span> <span style=\"display: inline-block;\">Cossinius</span> <span style=\"display: inline-block;\">Tiburs</span> <span style=\"display: inline-block;\">,</span> <span style=\"display: inline-block;\">pater</span> <span style=\"display: inline-block;\">huius</span> <span style=\"display: inline-block;\">equitis</span> <span style=\"display: inline-block;\">Romani</span> <span style=\"display: inline-block;\">,</span> <span style=\"display: inline-block;\">optimi</span> <span style=\"display: inline-block;\">atque</span> <span style=\"display: inline-block;\">ornatissimi</span> <span style=\"display: inline-block;\">viri</span> <span style=\"display: inline-block;\">,</span> <span style=\"display: inline-block;\">damnato</span> <span style=\"display: inline-block;\">T.</span> <span style=\"display: inline-block;\">Caelio</span> <span style=\"display: inline-block;\">,</span> <span style=\"display: inline-block;\">quo</span> <span style=\"display: inline-block;\">modo</span> <span style=\"display: inline-block;\">ex</span> <span style=\"display: inline-block;\">eadem</span> <span style=\"display: inline-block;\">civitate</span> <span style=\"display: inline-block;\">T.</span> <span style=\"display: inline-block;\">Coponius</span> <span style=\"display: inline-block;\">,</span> <span style=\"display: inline-block;\">civis</span> <span style=\"display: inline-block;\">item</span> <span style=\"display: inline-block;\">summa</span> <span style=\"display: inline-block;\">virtute</span> <span style=\"display: inline-block;\">et</span> <span style=\"display: inline-block;\">dignitate</span> <span style=\"display: inline-block;\">,</span> <span style=\"display: inline-block;\">nepotes</span> <span style=\"display: inline-block;\">T.</span> <span style=\"display: inline-block;\">et</span> <span style=\"display: inline-block;\">C.</span> <span style=\"display: inline-block;\">Coponios</span> <span style=\"display: inline-block;\">nostis</span> <span style=\"display: inline-block;\">,</span> <span style=\"display: inline-block;\">damnato</span> <span style=\"display: inline-block;\">C.</span> <span style=\"display: inline-block;\">Masone</span> <span style=\"display: inline-block;\">civis</span> <span style=\"display: inline-block;\">Romanus</span> <span style=\"display: inline-block;\">est</span> <span style=\"display: inline-block;\">factus</span> <span style=\"display: inline-block;\">?</span></p>\n",
      "    <p><b style=\"text-decoration: line-through;;\">negative</b> -> <span style=\"display: inline-block;\">iterum</span> <span style=\"display: inline-block;\">misit</span> <span style=\"display: inline-block;\">principem</span> <span style=\"display: inline-block;\">quinquagenarium</span> <span style=\"display: inline-block;\">tertium</span> <span style=\"display: inline-block;\">et</span> <span style=\"display: inline-block;\">quinquaginta</span> <span style=\"display: inline-block;\">qui</span> <span style=\"display: inline-block;\">erant</span> <span style=\"display: inline-block;\">cum</span> <span style=\"display: inline-block;\">eo</span> <span style=\"display: inline-block;\">qui</span> <span style=\"display: inline-block;\">cum</span> <span style=\"display: inline-block;\">venisset</span> <span style=\"display: inline-block;\">curvavit</span> <span style=\"display: inline-block;\">genua</span> <span style=\"display: inline-block;\">contra</span> <span style=\"display: inline-block;\">Heliam</span> <span style=\"display: inline-block;\">et</span> <span style=\"display: inline-block;\">precatus</span> <span style=\"display: inline-block;\">est</span> <span style=\"display: inline-block;\">eum</span> <span style=\"display: inline-block;\">et</span> <span style=\"display: inline-block;\">ait</span> <span style=\"display: inline-block;\">homo</span> <span style=\"display: inline-block;\">Dei</span> <span style=\"display: inline-block;\">noli</span> <span style=\"display: inline-block;\">despicere</span> <span style=\"display: inline-block;\">animam</span> <span style=\"display: inline-block;\">meam</span> <span style=\"display: inline-block;\">et</span> <span style=\"display: inline-block;\">animam</span> <span style=\"display: inline-block;\">servorum</span> <span style=\"display: inline-block;\">tuorum</span> <span style=\"display: inline-block;\">qui</span> <span style=\"display: inline-block;\">mecum</span> <span style=\"display: inline-block;\">-cum</span> <span style=\"display: inline-block;\">sunt</span></p>\n",
      "    <p><b style=\"text-decoration: line-through;;\">positive</b> -> <span style=\"display: inline-block;\">veni</span> <span style=\"display: inline-block;\">inebriemus</span> <span style=\"display: inline-block;\">eum</span> <span style=\"display: inline-block;\">vino</span> <span style=\"display: inline-block;\">dormiamusque</span> <span style=\"display: inline-block;\">-que</span> <span style=\"display: inline-block;\">cum</span> <span style=\"display: inline-block;\">eo</span> <span style=\"display: inline-block;\">ut</span> <span style=\"display: inline-block;\">servare</span> <span style=\"display: inline-block;\">possimus</span> <span style=\"display: inline-block;\">ex</span> <span style=\"display: inline-block;\">patre</span> <span style=\"display: inline-block;\">nostro</span> <span style=\"display: inline-block;\">semen</span></p>\n",
      "    <p><b style=\"text-decoration: line-through;;\">negative</b> -> <span style=\"display: inline-block;\">trahe</span> <span style=\"display: inline-block;\">me</span> <span style=\"display: inline-block;\">post</span> <span style=\"display: inline-block;\">te</span> <span style=\"display: inline-block;\">curremus</span> <span style=\"display: inline-block;\">introduxit</span> <span style=\"display: inline-block;\">me</span> <span style=\"display: inline-block;\">rex</span> <span style=\"display: inline-block;\">in</span> <span style=\"display: inline-block;\">cellaria</span> <span style=\"display: inline-block;\">sua</span> <span style=\"display: inline-block;\">exultabimus</span> <span style=\"display: inline-block;\">et</span> <span style=\"display: inline-block;\">laetabimur</span> <span style=\"display: inline-block;\">in</span> <span style=\"display: inline-block;\">te</span> <span style=\"display: inline-block;\">memores</span> <span style=\"display: inline-block;\">uberum</span> <span style=\"display: inline-block;\">tuorum</span> <span style=\"display: inline-block;\">super</span> <span style=\"display: inline-block;\">vinum</span> <span style=\"display: inline-block;\">recti</span> <span style=\"display: inline-block;\">diligunt</span> <span style=\"display: inline-block;\">te</span></p>\n",
      "    <p><b style=\"text-decoration: line-through;;\">negative</b> -> <span style=\"display: inline-block;\">NAM</span> <span style=\"display: inline-block;\">MIHI</span> <span style=\"display: inline-block;\">QVALE</span> <span style=\"display: inline-block;\">INGENIVM</span> <span style=\"display: inline-block;\">HABERES</span> <span style=\"display: inline-block;\">FVIT</span> <span style=\"display: inline-block;\">INDICIO</span> <span style=\"display: inline-block;\">ORATIO</span> <span style=\"display: inline-block;\">namque</span> <span style=\"display: inline-block;\">mores</span> <span style=\"display: inline-block;\">tuos</span> <span style=\"display: inline-block;\">mihì</span> <span style=\"display: inline-block;\">tuis</span> <span style=\"display: inline-block;\">sermonibus</span> <span style=\"display: inline-block;\">indicasti</span> <span style=\"display: inline-block;\">.</span></p>\n",
      "    <p><b style=\"text-decoration: line-through;;\">positive</b> -> <span style=\"display: inline-block;\">Nobis</span> <span style=\"display: inline-block;\">tamen</span> <span style=\"display: inline-block;\">hoc</span> <span style=\"display: inline-block;\">tam</span> <span style=\"display: inline-block;\">nobili</span> <span style=\"display: inline-block;\">feminae</span> <span style=\"display: inline-block;\">huius</span> <span style=\"display: inline-block;\">exemplo</span> <span style=\"display: inline-block;\">ad</span> <span style=\"display: inline-block;\">istos</span> <span style=\"display: inline-block;\">refutandos</span> <span style=\"display: inline-block;\">,</span> <span style=\"display: inline-block;\">qui</span> <span style=\"display: inline-block;\">Christianis</span> <span style=\"display: inline-block;\">feminis</span> <span style=\"display: inline-block;\">in</span> <span style=\"display: inline-block;\">captiuitate</span> <span style=\"display: inline-block;\">conpressis</span> <span style=\"display: inline-block;\">alieni</span> <span style=\"display: inline-block;\">ab</span> <span style=\"display: inline-block;\">omni</span> <span style=\"display: inline-block;\">cogitatione</span> <span style=\"display: inline-block;\">sanctitatis</span> <span style=\"display: inline-block;\">insultant</span> <span style=\"display: inline-block;\">,</span> <span style=\"display: inline-block;\">sufficit</span> <span style=\"display: inline-block;\">quod</span> <span style=\"display: inline-block;\">in</span> <span style=\"display: inline-block;\">praeclaris</span> <span style=\"display: inline-block;\">eius</span> <span style=\"display: inline-block;\">laudibus</span> <span style=\"display: inline-block;\">dictum</span> <span style=\"display: inline-block;\">est</span></p>\n",
      "    <p><b style=\"text-decoration: line-through;;\">negative</b> -> <span style=\"display: inline-block;\">Non</span> <span style=\"display: inline-block;\">pol</span> <span style=\"display: inline-block;\">mihi</span> <span style=\"display: inline-block;\">quidem</span> <span style=\"display: inline-block;\">;</span></p>\n",
      "    <p><b style=\"text-decoration: line-through;;\">negative</b> -> <span style=\"display: inline-block;\">non</span> <span style=\"display: inline-block;\">tamen</span> <span style=\"display: inline-block;\">idcirco</span> <span style=\"display: inline-block;\">apostolorum</span> <span style=\"display: inline-block;\">firmitas</span> <span style=\"display: inline-block;\">et</span> <span style=\"display: inline-block;\">fides</span> <span style=\"display: inline-block;\">cecidit</span> <span style=\"display: inline-block;\">,</span> <span style=\"display: inline-block;\">quia</span> <span style=\"display: inline-block;\">proditor</span> <span style=\"display: inline-block;\">ludas</span> <span style=\"display: inline-block;\">ab</span> <span style=\"display: inline-block;\">eorum</span> <span style=\"display: inline-block;\">societate</span> <span style=\"display: inline-block;\">defecit</span> <span style=\"display: inline-block;\">.</span></p>\n",
      "    <p><b style=\"text-decoration: line-through;;\">negative</b> -> <span style=\"display: inline-block;\">Habe</span> <span style=\"display: inline-block;\">aliquam</span> <span style=\"display: inline-block;\">uxorem</span> <span style=\"display: inline-block;\">spiritalem</span> <span style=\"display: inline-block;\">.</span></p>\n",
      "    <p><b style=\"text-decoration: line-through;;\">negative</b> -> <span style=\"display: inline-block;\">tunc</span> <span style=\"display: inline-block;\">uir</span> <span style=\"display: inline-block;\">beatus</span> <span style=\"display: inline-block;\">oratione</span> <span style=\"display: inline-block;\">Gompleta</span> <span style=\"display: inline-block;\">,</span> <span style=\"display: inline-block;\">signo</span> <span style=\"display: inline-block;\">crucis</span> <span style=\"display: inline-block;\">expresso</span> <span style=\"display: inline-block;\">solitum</span> <span style=\"display: inline-block;\">sibi</span> <span style=\"display: inline-block;\">scripturae</span> <span style=\"display: inline-block;\">sanctae</span> <span style=\"display: inline-block;\">sermonem</span> <span style=\"display: inline-block;\">cunctis</span> <span style=\"display: inline-block;\">audientibus</span> <span style=\"display: inline-block;\">exprimens</span> <span style=\"display: inline-block;\">ait</span> <span style=\"display: inline-block;\">:</span> <span style=\"display: inline-block;\">\"</span> <span style=\"display: inline-block;\">sit</span> <span style=\"display: inline-block;\">nomen</span> <span style=\"display: inline-block;\">domini</span> <span style=\"display: inline-block;\">benedictum</span> <span style=\"display: inline-block;\">\"</span> <span style=\"display: inline-block;\">.</span></p>\n",
      "    <p><b style=\"text-decoration: line-through;;\">negative</b> -> <span style=\"display: inline-block;\">apud</span> <span style=\"display: inline-block;\">nos</span> <span style=\"display: inline-block;\">,</span> <span style=\"display: inline-block;\">damnanda</span> <span style=\"display: inline-block;\">;</span></p>\n",
      "    <p><b style=\"text-decoration: line-through;;\">negative</b> -> <span style=\"display: inline-block;\">si</span> <span style=\"display: inline-block;\">autem</span> <span style=\"display: inline-block;\">parcit</span> <span style=\"display: inline-block;\">,</span> <span style=\"display: inline-block;\">ne</span> <span style=\"display: inline-block;\">quis</span> <span style=\"display: inline-block;\">eum</span> <span style=\"display: inline-block;\">existimet</span> <span style=\"display: inline-block;\">super</span> <span style=\"display: inline-block;\">id</span> <span style=\"display: inline-block;\">quod</span> <span style=\"display: inline-block;\">eum</span> <span style=\"display: inline-block;\">uidet</span> <span style=\"display: inline-block;\">aut</span> <span style=\"display: inline-block;\">audit</span> <span style=\"display: inline-block;\">aliquid</span> <span style=\"display: inline-block;\">ex</span> <span style=\"display: inline-block;\">illo</span> <span style=\"display: inline-block;\">,</span> <span style=\"display: inline-block;\">auferat</span> <span style=\"display: inline-block;\">a</span> <span style=\"display: inline-block;\">persona</span> <span style=\"display: inline-block;\">sua</span> <span style=\"display: inline-block;\">nodum</span> <span style=\"display: inline-block;\">quaestionis</span> <span style=\"display: inline-block;\">et</span> <span style=\"display: inline-block;\">non</span> <span style=\"display: inline-block;\">de</span> <span style=\"display: inline-block;\">homine</span> <span style=\"display: inline-block;\">,</span> <span style=\"display: inline-block;\">sed</span> <span style=\"display: inline-block;\">de</span> <span style=\"display: inline-block;\">re</span> <span style=\"display: inline-block;\">ipsa</span> <span style=\"display: inline-block;\">respondeat</span> <span style=\"display: inline-block;\">et</span> <span style=\"display: inline-block;\">dicat</span> <span style=\"display: inline-block;\">:</span> <span style=\"display: inline-block;\">qui</span> <span style=\"display: inline-block;\">tantum</span> <span style=\"display: inline-block;\">potest</span> <span style=\"display: inline-block;\">,</span> <span style=\"display: inline-block;\">talis</span> <span style=\"display: inline-block;\">est</span> <span style=\"display: inline-block;\">,</span> <span style=\"display: inline-block;\">qualis</span> <span style=\"display: inline-block;\">fuit</span> <span style=\"display: inline-block;\">Abraham</span> <span style=\"display: inline-block;\">.</span></p>\n",
      "    <p><b style=\"text-decoration: line-through;;\">positive</b> -> <span style=\"display: inline-block;\">Percidi</span> <span style=\"display: inline-block;\">gaudes</span> <span style=\"display: inline-block;\">,</span> <span style=\"display: inline-block;\">percisus</span> <span style=\"display: inline-block;\">,</span> <span style=\"display: inline-block;\">Papyle</span> <span style=\"display: inline-block;\">,</span> <span style=\"display: inline-block;\">ploras</span> <span style=\"display: inline-block;\">.</span></p>\n",
      "    <p><b style=\"text-decoration: line-through;;\">positive</b> -> <span style=\"display: inline-block;\">nunc</span> <span style=\"display: inline-block;\">tu</span> <span style=\"display: inline-block;\">si</span> <span style=\"display: inline-block;\">vis</span> <span style=\"display: inline-block;\">subigitare</span> <span style=\"display: inline-block;\">me</span> <span style=\"display: inline-block;\">,</span> <span style=\"display: inline-block;\">probast</span> <span style=\"display: inline-block;\">est</span> <span style=\"display: inline-block;\">occasio</span> <span style=\"display: inline-block;\">.</span></p>\n",
      "    <p><b style=\"text-decoration: line-through;;\">positive</b> -> <span style=\"display: inline-block;\">sic</span> <span style=\"display: inline-block;\">se</span> <span style=\"display: inline-block;\">tibi</span> <span style=\"display: inline-block;\">misceat</span> <span style=\"display: inline-block;\">!</span></p>\n",
      "    <p><b style=\"text-decoration: line-through;;\">negative</b> -> <span style=\"display: inline-block;\">odisti</span> <span style=\"display: inline-block;\">nascentem</span> <span style=\"display: inline-block;\">hominem</span> <span style=\"display: inline-block;\">,</span> <span style=\"display: inline-block;\">et</span> <span style=\"display: inline-block;\">quomodo</span> <span style=\"display: inline-block;\">diligis</span> <span style=\"display: inline-block;\">aliquem</span> <span style=\"display: inline-block;\">?</span></p>\n",
      "    <p><b style=\"text-decoration: line-through;;\">negative</b> -> <span style=\"display: inline-block;\">Non</span> <span style=\"display: inline-block;\">ego</span> <span style=\"display: inline-block;\">te</span> <span style=\"display: inline-block;\">hic</span> <span style=\"display: inline-block;\">lubens</span> <span style=\"display: inline-block;\">relinquo</span> <span style=\"display: inline-block;\">neque</span> <span style=\"display: inline-block;\">abeo</span> <span style=\"display: inline-block;\">abs</span> <span style=\"display: inline-block;\">te</span> <span style=\"display: inline-block;\">.</span></p>\n",
      "    <p><b style=\"text-decoration: line-through;;\">positive</b> -> <span style=\"display: inline-block;\">Quid</span> <span style=\"display: inline-block;\">ego</span> <span style=\"display: inline-block;\">tibi</span> <span style=\"display: inline-block;\">deliqui</span> <span style=\"display: inline-block;\">,</span> <span style=\"display: inline-block;\">si</span> <span style=\"display: inline-block;\">,</span> <span style=\"display: inline-block;\">cui</span> <span style=\"display: inline-block;\">nupta</span> <span style=\"display: inline-block;\">sum</span> <span style=\"display: inline-block;\">,</span> <span style=\"display: inline-block;\">tecum</span> <span style=\"display: inline-block;\">-cum</span> <span style=\"display: inline-block;\">fui</span> <span style=\"display: inline-block;\">?</span></p>\n",
      "    <p><b style=\"text-decoration: line-through;;\">positive</b> -> <span style=\"display: inline-block;\">lenonum</span> <span style=\"display: inline-block;\">ancillas</span> <span style=\"display: inline-block;\">posita</span> <span style=\"display: inline-block;\">Saufeia</span> <span style=\"display: inline-block;\">corona</span> <span style=\"display: inline-block;\">provocat</span> <span style=\"display: inline-block;\">ac</span> <span style=\"display: inline-block;\">tollit</span> <span style=\"display: inline-block;\">pendentis</span> <span style=\"display: inline-block;\">praemia</span> <span style=\"display: inline-block;\">coxae</span> <span style=\"display: inline-block;\">;</span> <span style=\"display: inline-block;\">ipsa</span> <span style=\"display: inline-block;\">Medullinae</span> <span style=\"display: inline-block;\">fluctum</span> <span style=\"display: inline-block;\">crisantis</span> <span style=\"display: inline-block;\">adorat</span> <span style=\"display: inline-block;\">:</span> <span style=\"display: inline-block;\">palma</span> <span style=\"display: inline-block;\">inter</span> <span style=\"display: inline-block;\">dominas</span> <span style=\"display: inline-block;\">,</span> <span style=\"display: inline-block;\">virtus</span> <span style=\"display: inline-block;\">natalibus</span> <span style=\"display: inline-block;\">aequa</span> <span style=\"display: inline-block;\">,</span> <span style=\"display: inline-block;\">nil</span> <span style=\"display: inline-block;\">ibi</span> <span style=\"display: inline-block;\">per</span> <span style=\"display: inline-block;\">ludum</span> <span style=\"display: inline-block;\">simulabitur</span> <span style=\"display: inline-block;\">,</span> <span style=\"display: inline-block;\">omnia</span> <span style=\"display: inline-block;\">fient</span> <span style=\"display: inline-block;\">ad</span> <span style=\"display: inline-block;\">verum</span> <span style=\"display: inline-block;\">,</span> <span style=\"display: inline-block;\">quibus</span> <span style=\"display: inline-block;\">incendi</span> <span style=\"display: inline-block;\">iam</span> <span style=\"display: inline-block;\">frigidus</span> <span style=\"display: inline-block;\">aevo</span> <span style=\"display: inline-block;\">Laomedontiades</span> <span style=\"display: inline-block;\">et</span> <span style=\"display: inline-block;\">Nestoris</span> <span style=\"display: inline-block;\">hirnea</span></p>\n",
      "    <p><b style=\"text-decoration: line-through;;\">negative</b> -> <span style=\"display: inline-block;\">ecce</span> <span style=\"display: inline-block;\">beatificamus</span> <span style=\"display: inline-block;\">qui</span> <span style=\"display: inline-block;\">sustinuerunt</span> <span style=\"display: inline-block;\">sufferentiam</span> <span style=\"display: inline-block;\">Iob</span> <span style=\"display: inline-block;\">audistis</span> <span style=\"display: inline-block;\">et</span> <span style=\"display: inline-block;\">finem</span> <span style=\"display: inline-block;\">Domini</span> <span style=\"display: inline-block;\">vidistis</span> <span style=\"display: inline-block;\">quoniam</span> <span style=\"display: inline-block;\">misericors</span> <span style=\"display: inline-block;\">est</span> <span style=\"display: inline-block;\">Dominus</span> <span style=\"display: inline-block;\">et</span> <span style=\"display: inline-block;\">miserator</span></p>\n",
      "    <p><b style=\"text-decoration: line-through;;\">negative</b> -> <span style=\"display: inline-block;\">illuc</span> <span style=\"display: inline-block;\">uniuersus</span> <span style=\"display: inline-block;\">populus</span> <span style=\"display: inline-block;\">fratrum</span> <span style=\"display: inline-block;\">conuenit</span> <span style=\"display: inline-block;\">.</span></p>\n",
      "    <p><b style=\"text-decoration: line-through;;\">positive</b> -> <span style=\"display: inline-block;\">Omne</span> <span style=\"display: inline-block;\">ulcus</span> <span style=\"display: inline-block;\">in</span> <span style=\"display: inline-block;\">omni</span> <span style=\"display: inline-block;\">parte</span> <span style=\"display: inline-block;\">corporis</span> <span style=\"display: inline-block;\">sordidum</span> <span style=\"display: inline-block;\">,</span> <span style=\"display: inline-block;\">quod</span> <span style=\"display: inline-block;\">tum</span> <span style=\"display: inline-block;\">intellegi</span> <span style=\"display: inline-block;\">potest</span> <span style=\"display: inline-block;\">,</span> <span style=\"display: inline-block;\">cum</span> <span style=\"display: inline-block;\">candicat</span> <span style=\"display: inline-block;\">et</span> <span style=\"display: inline-block;\">quasi</span> <span style=\"display: inline-block;\">crustam</span> <span style=\"display: inline-block;\">coperductam</span> <span style=\"display: inline-block;\">albam</span> <span style=\"display: inline-block;\">habet</span> <span style=\"display: inline-block;\">,</span> <span style=\"display: inline-block;\">purgat</span> <span style=\"display: inline-block;\">mel</span> <span style=\"display: inline-block;\">per</span> <span style=\"display: inline-block;\">se</span> <span style=\"display: inline-block;\">adpositum</span> <span style=\"display: inline-block;\">uel</span> <span style=\"display: inline-block;\">iris</span> <span style=\"display: inline-block;\">arida</span> <span style=\"display: inline-block;\">contusa</span> <span style=\"display: inline-block;\">et</span> <span style=\"display: inline-block;\">cum</span> <span style=\"display: inline-block;\">melle</span> <span style=\"display: inline-block;\">.</span> <span style=\"display: inline-block;\">Eadem</span> <span style=\"display: inline-block;\">ratione</span> <span style=\"display: inline-block;\">et</span> <span style=\"display: inline-block;\">terrae</span> <span style=\"display: inline-block;\">mali</span> <span style=\"display: inline-block;\">et</span> <span style=\"display: inline-block;\">panacis</span> <span style=\"display: inline-block;\">radix</span> <span style=\"display: inline-block;\">adposita</span> <span style=\"display: inline-block;\">purgat</span> <span style=\"display: inline-block;\">sordida</span> <span style=\"display: inline-block;\">ulcera</span> <span style=\"display: inline-block;\">uel</span> <span style=\"display: inline-block;\">in</span> <span style=\"display: inline-block;\">uerendis</span> <span style=\"display: inline-block;\">uel</span> <span style=\"display: inline-block;\">quoquo</span> <span style=\"display: inline-block;\">loci</span> <span style=\"display: inline-block;\">fuerint</span> <span style=\"display: inline-block;\">.</span></p>\n",
      "    <p><b style=\"text-decoration: line-through;;\">negative</b> -> <span style=\"display: inline-block;\">hos</span> <span style=\"display: inline-block;\">fert</span> <span style=\"display: inline-block;\">sicca</span> <span style=\"display: inline-block;\">sitis</span> <span style=\"display: inline-block;\">,</span> <span style=\"display: inline-block;\">hunc</span> <span style=\"display: inline-block;\">ebrius</span> <span style=\"display: inline-block;\">educat</span> <span style=\"display: inline-block;\">umor</span> <span style=\"display: inline-block;\">.</span></p>\n",
      "    <p><b style=\"text-decoration: line-through;;\">negative</b> -> <span style=\"display: inline-block;\">In</span> <span style=\"display: inline-block;\">adulterio</span> <span style=\"display: inline-block;\">,</span> <span style=\"display: inline-block;\">dum</span> <span style=\"display: inline-block;\">moechissat</span> <span style=\"display: inline-block;\">Casinam</span> <span style=\"display: inline-block;\">,</span> <span style=\"display: inline-block;\">credo</span> <span style=\"display: inline-block;\">perdidit</span> <span style=\"display: inline-block;\">.</span></p>\n",
      "    <p><b style=\"text-decoration: line-through;;\">positive</b> -> <span style=\"display: inline-block;\">Sequitur</span> <span style=\"display: inline-block;\">autem</span> <span style=\"display: inline-block;\">aegrotantes</span> <span style=\"display: inline-block;\">uehemens</span> <span style=\"display: inline-block;\">genitalium</span> <span style=\"display: inline-block;\">tentigo</span> <span style=\"display: inline-block;\">cum</span> <span style=\"display: inline-block;\">dolore</span> <span style=\"display: inline-block;\">atque</span> <span style=\"display: inline-block;\">incendio</span> <span style=\"display: inline-block;\">cum</span> <span style=\"display: inline-block;\">quodam</span> <span style=\"display: inline-block;\">pruritu</span> <span style=\"display: inline-block;\">immodico</span> <span style=\"display: inline-block;\">in</span> <span style=\"display: inline-block;\">ueneriam</span> <span style=\"display: inline-block;\">libidinem</span> <span style=\"display: inline-block;\">cogente</span> <span style=\"display: inline-block;\">,</span> <span style=\"display: inline-block;\">mentis</span> <span style=\"display: inline-block;\">alienatio</span> <span style=\"display: inline-block;\">,</span> <span style=\"display: inline-block;\">pulsus</span> <span style=\"display: inline-block;\">densitas</span> <span style=\"display: inline-block;\">,</span> <span style=\"display: inline-block;\">anhelatio</span> <span style=\"display: inline-block;\">crebra</span> <span style=\"display: inline-block;\">atque</span> <span style=\"display: inline-block;\">celerrima</span> <span style=\"display: inline-block;\">,</span> <span style=\"display: inline-block;\">desponsio</span> <span style=\"display: inline-block;\">,</span> <span style=\"display: inline-block;\">uigiliae</span> <span style=\"display: inline-block;\">,</span> <span style=\"display: inline-block;\">hallucinatio</span> <span style=\"display: inline-block;\">,</span> <span style=\"display: inline-block;\">sitis</span> <span style=\"display: inline-block;\">,</span> <span style=\"display: inline-block;\">cibi</span> <span style=\"display: inline-block;\">fastidium</span> <span style=\"display: inline-block;\">et</span> <span style=\"display: inline-block;\">difficilis</span> <span style=\"display: inline-block;\">urinae</span> <span style=\"display: inline-block;\">egestio</span> <span style=\"display: inline-block;\">,</span> <span style=\"display: inline-block;\">ita</span> <span style=\"display: inline-block;\">ut</span> <span style=\"display: inline-block;\">plerumque</span> <span style=\"display: inline-block;\">stercorum</span> <span style=\"display: inline-block;\">abstentio</span> <span style=\"display: inline-block;\">fiat</span> <span style=\"display: inline-block;\">,</span> <span style=\"display: inline-block;\">quibusdam</span> <span style=\"display: inline-block;\">etiam</span> <span style=\"display: inline-block;\">febres</span> <span style=\"display: inline-block;\">;</span></p>\n",
      "    <p><b style=\"text-decoration: line-through;;\">negative</b> -> <span style=\"display: inline-block;\">redarguit</span> <span style=\"display: inline-block;\">te</span> <span style=\"display: inline-block;\">cultus</span> <span style=\"display: inline-block;\">inprobus</span> <span style=\"display: inline-block;\">et</span> <span style=\"display: inline-block;\">inpudicus</span> <span style=\"display: inline-block;\">ornatus</span> <span style=\"display: inline-block;\">,</span> <span style=\"display: inline-block;\">nec</span> <span style=\"display: inline-block;\">conputari</span> <span style=\"display: inline-block;\">iam</span> <span style=\"display: inline-block;\">potes</span> <span style=\"display: inline-block;\">inter</span> <span style=\"display: inline-block;\">puellas</span> <span style=\"display: inline-block;\">et</span> <span style=\"display: inline-block;\">uirgines</span> <span style=\"display: inline-block;\">Christi</span> <span style=\"display: inline-block;\">quae</span> <span style=\"display: inline-block;\">sic</span> <span style=\"display: inline-block;\">uiuis</span> <span style=\"display: inline-block;\">,</span> <span style=\"display: inline-block;\">ut</span> <span style=\"display: inline-block;\">possis</span> <span style=\"display: inline-block;\">adamari</span> <span style=\"display: inline-block;\">.</span></p>\n",
      "    <p><b style=\"text-decoration: line-through;;\">negative</b> -> <span style=\"display: inline-block;\">\"</span> <span style=\"display: inline-block;\">Nam</span> <span style=\"display: inline-block;\">per</span> <span style=\"display: inline-block;\">emptiones</span> <span style=\"display: inline-block;\">uel</span> <span style=\"display: inline-block;\">hereditates</span> <span style=\"display: inline-block;\">huius</span> <span style=\"display: inline-block;\">generis</span> <span style=\"display: inline-block;\">controuersiae</span> <span style=\"display: inline-block;\">fiunt</span> <span style=\"display: inline-block;\">\"</span> <span style=\"display: inline-block;\">.</span></p>\n",
      "    <p><b style=\"text-decoration: line-through;;\">negative</b> -> <span style=\"display: inline-block;\">Nam</span> <span style=\"display: inline-block;\">et</span> <span style=\"display: inline-block;\">rursus</span> <span style=\"display: inline-block;\">innumera</span> <span style=\"display: inline-block;\">multitudo</span> <span style=\"display: inline-block;\">albati</span> <span style=\"display: inline-block;\">et</span> <span style=\"display: inline-block;\">palmis</span> <span style=\"display: inline-block;\">victoriae</span> <span style=\"display: inline-block;\">insignes</span> <span style=\"display: inline-block;\">revelantur</span> <span style=\"display: inline-block;\">,</span> <span style=\"display: inline-block;\">scilicet</span> <span style=\"display: inline-block;\">de</span> <span style=\"display: inline-block;\">Antichristo</span> <span style=\"display: inline-block;\">triumphantes</span> <span style=\"display: inline-block;\">,</span> <span style=\"display: inline-block;\">sicut</span> <span style=\"display: inline-block;\">unus</span> <span style=\"display: inline-block;\">ex</span> <span style=\"display: inline-block;\">presbyteris</span> <span style=\"display: inline-block;\">,</span> <span style=\"display: inline-block;\">Hi</span> <span style=\"display: inline-block;\">sunt</span> <span style=\"display: inline-block;\">,</span> <span style=\"display: inline-block;\">ait</span> <span style=\"display: inline-block;\">,</span> <span style=\"display: inline-block;\">qui</span> <span style=\"display: inline-block;\">veniunt</span> <span style=\"display: inline-block;\">ex</span> <span style=\"display: inline-block;\">illa</span> <span style=\"display: inline-block;\">pressura</span> <span style=\"display: inline-block;\">magna</span> <span style=\"display: inline-block;\">et</span> <span style=\"display: inline-block;\">laverunt</span> <span style=\"display: inline-block;\">vestimentum</span> <span style=\"display: inline-block;\">suum</span> <span style=\"display: inline-block;\">et</span> <span style=\"display: inline-block;\">candidaverunt</span> <span style=\"display: inline-block;\">ipsum</span> <span style=\"display: inline-block;\">in</span> <span style=\"display: inline-block;\">sanguine</span> <span style=\"display: inline-block;\">agni</span> <span style=\"display: inline-block;\">.</span></p>\n",
      "    <p><b style=\"text-decoration: line-through;;\">positive</b> -> <span style=\"display: inline-block;\">Ceres</span> <span style=\"display: inline-block;\">facibus</span> <span style=\"display: inline-block;\">accensis</span> <span style=\"display: inline-block;\">et</span> <span style=\"display: inline-block;\">serpente</span> <span style=\"display: inline-block;\">circumdata</span> <span style=\"display: inline-block;\">errore</span> <span style=\"display: inline-block;\">subreptam</span> <span style=\"display: inline-block;\">et</span> <span style=\"display: inline-block;\">corruptam</span> <span style=\"display: inline-block;\">Liberam</span> <span style=\"display: inline-block;\">anxia</span> <span style=\"display: inline-block;\">et</span> <span style=\"display: inline-block;\">sollicita</span> <span style=\"display: inline-block;\">uestigat</span> <span style=\"display: inline-block;\">:</span> <span style=\"display: inline-block;\">haec</span> <span style=\"display: inline-block;\">sunt</span> <span style=\"display: inline-block;\">Eleusinia</span> <span style=\"display: inline-block;\">.</span></p>\n",
      "    <p><b style=\"text-decoration: line-through;;\">positive</b> -> <span style=\"display: inline-block;\">atque</span> <span style=\"display: inline-block;\">auditavi</span> <span style=\"display: inline-block;\">saepe</span> <span style=\"display: inline-block;\">hoc</span> <span style=\"display: inline-block;\">volgo</span> <span style=\"display: inline-block;\">dicier</span> <span style=\"display: inline-block;\">,</span> <span style=\"display: inline-block;\">solere</span> <span style=\"display: inline-block;\">elephantum</span> <span style=\"display: inline-block;\">gravidam</span> <span style=\"display: inline-block;\">perpetuos</span> <span style=\"display: inline-block;\">decem</span> <span style=\"display: inline-block;\">esse</span> <span style=\"display: inline-block;\">annos</span> <span style=\"display: inline-block;\">;</span> <span style=\"display: inline-block;\">eius</span> <span style=\"display: inline-block;\">ex</span> <span style=\"display: inline-block;\">sémine</span> <span style=\"display: inline-block;\">haec</span> <span style=\"display: inline-block;\">certost</span> <span style=\"display: inline-block;\">est</span> <span style=\"display: inline-block;\">fames</span> <span style=\"display: inline-block;\">,</span> <span style=\"display: inline-block;\">nam</span> <span style=\"display: inline-block;\">iam</span> <span style=\"display: inline-block;\">complures</span> <span style=\"display: inline-block;\">annos</span> <span style=\"display: inline-block;\">utero</span> <span style=\"display: inline-block;\">haeret</span> <span style=\"display: inline-block;\">meo</span> <span style=\"display: inline-block;\">.</span></p>\n",
      "    <p><b style=\"text-decoration: line-through;;\">negative</b> -> <span style=\"display: inline-block;\">Nec</span> <span style=\"display: inline-block;\">vos</span> <span style=\"display: inline-block;\">graminibus</span> <span style=\"display: inline-block;\">nec</span> <span style=\"display: inline-block;\">mixto</span> <span style=\"display: inline-block;\">credite</span> <span style=\"display: inline-block;\">suco</span> <span style=\"display: inline-block;\">,</span> <span style=\"display: inline-block;\">Nec</span> <span style=\"display: inline-block;\">temptate</span> <span style=\"display: inline-block;\">nocens</span> <span style=\"display: inline-block;\">virus</span> <span style=\"display: inline-block;\">amantis</span> <span style=\"display: inline-block;\">equae</span> <span style=\"display: inline-block;\">;</span></p>\n",
      "    <p><b style=\"text-decoration: line-through;;\">negative</b> -> <span style=\"display: inline-block;\">suscitavi</span> <span style=\"display: inline-block;\">ab</span> <span style=\"display: inline-block;\">aquilone</span> <span style=\"display: inline-block;\">et</span> <span style=\"display: inline-block;\">venit</span> <span style=\"display: inline-block;\">ab</span> <span style=\"display: inline-block;\">ortu</span> <span style=\"display: inline-block;\">solis</span> <span style=\"display: inline-block;\">vocabit</span> <span style=\"display: inline-block;\">nomen</span> <span style=\"display: inline-block;\">meum</span> <span style=\"display: inline-block;\">et</span> <span style=\"display: inline-block;\">adducet</span> <span style=\"display: inline-block;\">magistratus</span> <span style=\"display: inline-block;\">quasi</span> <span style=\"display: inline-block;\">lutum</span> <span style=\"display: inline-block;\">et</span> <span style=\"display: inline-block;\">velut</span> <span style=\"display: inline-block;\">plastes</span> <span style=\"display: inline-block;\">conculcans</span> <span style=\"display: inline-block;\">humum</span></p>\n",
      "    <p><b style=\"text-decoration: line-through;;\">negative</b> -> <span style=\"display: inline-block;\">Heluidio</span> <span style=\"display: inline-block;\">Prisco</span> <span style=\"display: inline-block;\">,</span> <span style=\"display: inline-block;\">qui</span> <span style=\"display: inline-block;\">et</span> <span style=\"display: inline-block;\">reuersum</span> <span style=\"display: inline-block;\">se</span> <span style=\"display: inline-block;\">ex</span> <span style=\"display: inline-block;\">Syria</span> <span style=\"display: inline-block;\">solus</span> <span style=\"display: inline-block;\">priuato</span> <span style=\"display: inline-block;\">nomine</span> <span style=\"display: inline-block;\">Vespasianum</span> <span style=\"display: inline-block;\">salutauerat</span> <span style=\"display: inline-block;\">et</span> <span style=\"display: inline-block;\">in</span> <span style=\"display: inline-block;\">praetura</span> <span style=\"display: inline-block;\">omnibus</span> <span style=\"display: inline-block;\">edictis</span> <span style=\"display: inline-block;\">sine</span> <span style=\"display: inline-block;\">honore</span> <span style=\"display: inline-block;\">ac</span> <span style=\"display: inline-block;\">mentione</span> <span style=\"display: inline-block;\">ulla</span> <span style=\"display: inline-block;\">transmiserat</span> <span style=\"display: inline-block;\">,</span> <span style=\"display: inline-block;\">non</span> <span style=\"display: inline-block;\">ante</span> <span style=\"display: inline-block;\">succensuit</span> <span style=\"display: inline-block;\">quam</span> <span style=\"display: inline-block;\">altercationibus</span> <span style=\"display: inline-block;\">insolentissimis</span> <span style=\"display: inline-block;\">paene</span> <span style=\"display: inline-block;\">in</span> <span style=\"display: inline-block;\">ordinem</span> <span style=\"display: inline-block;\">redactus</span> <span style=\"display: inline-block;\">.</span></p>\n",
      "    <p><b style=\"text-decoration: line-through;;\">negative</b> -> <span style=\"display: inline-block;\">nam</span> <span style=\"display: inline-block;\">aliquando</span> <span style=\"display: inline-block;\">et</span> <span style=\"display: inline-block;\">leve</span> <span style=\"display: inline-block;\">motu</span> <span style=\"display: inline-block;\">veiculis</span> <span style=\"display: inline-block;\">eas</span> <span style=\"display: inline-block;\">gestare</span> <span style=\"display: inline-block;\">permittimus</span> <span style=\"display: inline-block;\">,</span> <span style=\"display: inline-block;\">siquidem</span> <span style=\"display: inline-block;\">a</span> <span style=\"display: inline-block;\">gestatione</span> <span style=\"display: inline-block;\">corporis</span> <span style=\"display: inline-block;\">frequencius</span> <span style=\"display: inline-block;\">pecus</span> <span style=\"display: inline-block;\">exire</span> <span style=\"display: inline-block;\">solet</span> <span style=\"display: inline-block;\">.</span></p>\n",
      "    <p><b style=\"text-decoration: line-through;;\">negative</b> -> <span style=\"display: inline-block;\">tu</span> <span style=\"display: inline-block;\">tantum</span> <span style=\"display: inline-block;\">fida</span> <span style=\"display: inline-block;\">sorori</span> <span style=\"display: inline-block;\">esse</span> <span style=\"display: inline-block;\">velis</span> <span style=\"display: inline-block;\">prolisque</span> <span style=\"display: inline-block;\">-que</span> <span style=\"display: inline-block;\">meae</span> <span style=\"display: inline-block;\">matertera</span> <span style=\"display: inline-block;\">dici</span> <span style=\"display: inline-block;\">.</span></p>\n",
      "    <p><b style=\"text-decoration: line-through;;\">positive</b> -> <span style=\"display: inline-block;\">Faciet</span> <span style=\"display: inline-block;\">enim</span> <span style=\"display: inline-block;\">fecundos</span> <span style=\"display: inline-block;\">et</span> <span style=\"display: inline-block;\">multa</span> <span style=\"display: inline-block;\">subole</span> <span style=\"display: inline-block;\">gaudentes</span> <span style=\"display: inline-block;\">et</span> <span style=\"display: inline-block;\">quibus</span> <span style=\"display: inline-block;\">a</span> <span style=\"display: inline-block;\">filiabus</span> <span style=\"display: inline-block;\">maxima</span> <span style=\"display: inline-block;\">laetitia</span> <span style=\"display: inline-block;\">conferatur</span> <span style=\"display: inline-block;\">;</span> <span style=\"display: inline-block;\">sed</span> <span style=\"display: inline-block;\">uitia</span> <span style=\"display: inline-block;\">facit</span> <span style=\"display: inline-block;\">circa</span> <span style=\"display: inline-block;\">naturalia</span> <span style=\"display: inline-block;\">et</span> <span style=\"display: inline-block;\">necessaria</span> <span style=\"display: inline-block;\">,</span> <span style=\"display: inline-block;\">mortes</span> <span style=\"display: inline-block;\">uero</span> <span style=\"display: inline-block;\">notas</span> <span style=\"display: inline-block;\">gloriosasque</span> <span style=\"display: inline-block;\">-que</span> <span style=\"display: inline-block;\">decernit</span> <span style=\"display: inline-block;\">.</span></p>\n",
      "    <p><b style=\"text-decoration: line-through;;\">positive</b> -> <span style=\"display: inline-block;\">Utcunque</span> <span style=\"display: inline-block;\">igitur</span> <span style=\"display: inline-block;\">inter</span> <span style=\"display: inline-block;\">anhelitus</span> <span style=\"display: inline-block;\">sudoresque</span> <span style=\"display: inline-block;\">-que</span> <span style=\"display: inline-block;\">tritus</span> <span style=\"display: inline-block;\">,</span> <span style=\"display: inline-block;\">quod</span> <span style=\"display: inline-block;\">voluerat</span> <span style=\"display: inline-block;\">,</span> <span style=\"display: inline-block;\">accepit</span> <span style=\"display: inline-block;\">,</span> <span style=\"display: inline-block;\">rursusque</span> <span style=\"display: inline-block;\">-que</span> <span style=\"display: inline-block;\">in</span> <span style=\"display: inline-block;\">somnum</span> <span style=\"display: inline-block;\">decidi</span> <span style=\"display: inline-block;\">gaudio</span> <span style=\"display: inline-block;\">lassus</span> <span style=\"display: inline-block;\">.</span></p>\n",
      "    <p><b style=\"text-decoration: line-through;;\">negative</b> -> <span style=\"display: inline-block;\">corvus</span> <span style=\"display: inline-block;\">enim</span> <span style=\"display: inline-block;\">ingluvie</span> <span style=\"display: inline-block;\">per</span> <span style=\"display: inline-block;\">foeda</span> <span style=\"display: inline-block;\">cadavera</span> <span style=\"display: inline-block;\">captus</span> <span style=\"display: inline-block;\">haeserat</span> <span style=\"display: inline-block;\">;</span></p>\n",
      "    <p><b style=\"text-decoration: line-through;;\">negative</b> -> <span style=\"display: inline-block;\">Picis</span> <span style=\"display: inline-block;\">liquidae</span> <span style=\"display: inline-block;\">optimae</span> <span style=\"display: inline-block;\">acitabulo</span> <span style=\"display: inline-block;\">uno</span> <span style=\"display: inline-block;\">adice</span> <span style=\"display: inline-block;\">farinam</span> <span style=\"display: inline-block;\">hordiaciam</span> <span style=\"display: inline-block;\">et</span> <span style=\"display: inline-block;\">nitrum</span> <span style=\"display: inline-block;\">et</span> <span style=\"display: inline-block;\">apium</span> <span style=\"display: inline-block;\">tritum</span> <span style=\"display: inline-block;\">et</span> <span style=\"display: inline-block;\">sulfur</span> <span style=\"display: inline-block;\">aequis</span> <span style=\"display: inline-block;\">ponderibus</span> <span style=\"display: inline-block;\">ac</span> <span style=\"display: inline-block;\">superfunde</span> <span style=\"display: inline-block;\">aceti</span> <span style=\"display: inline-block;\">albi</span> <span style=\"display: inline-block;\">acerrimi</span> <span style=\"display: inline-block;\">acitabula</span> <span style=\"display: inline-block;\">duo</span> <span style=\"display: inline-block;\">et</span> <span style=\"display: inline-block;\">in</span> <span style=\"display: inline-block;\">patina</span> <span style=\"display: inline-block;\">decoque</span> <span style=\"display: inline-block;\">simul</span> <span style=\"display: inline-block;\">ac</span> <span style=\"display: inline-block;\">postea</span> <span style=\"display: inline-block;\">calidum</span> <span style=\"display: inline-block;\">medicamen</span> <span style=\"display: inline-block;\">linteo</span> <span style=\"display: inline-block;\">inducito</span> <span style=\"display: inline-block;\">et</span> <span style=\"display: inline-block;\">sic</span> <span style=\"display: inline-block;\">corpori</span> <span style=\"display: inline-block;\">adponito</span> <span style=\"display: inline-block;\">;</span></p>\n",
      "    <p><b style=\"text-decoration: line-through;;\">negative</b> -> <span style=\"display: inline-block;\">siquidem</span> <span style=\"display: inline-block;\">fides</span> <span style=\"display: inline-block;\">flere</span> <span style=\"display: inline-block;\">prohiberet</span> <span style=\"display: inline-block;\">:</span> <span style=\"display: inline-block;\">gemitum</span> <span style=\"display: inline-block;\">tamen</span> <span style=\"display: inline-block;\">extorquebat</span> <span style=\"display: inline-block;\">adfectus</span> <span style=\"display: inline-block;\">.</span></p>\n",
      "    <p><b style=\"text-decoration: line-through;;\">positive</b> -> <span style=\"display: inline-block;\">Quomodo</span> <span style=\"display: inline-block;\">tibi</span> <span style=\"display: inline-block;\">in</span> <span style=\"display: inline-block;\">actu</span> <span style=\"display: inline-block;\">illo</span> <span style=\"display: inline-block;\">ignominioso</span> <span style=\"display: inline-block;\">non</span> <span style=\"display: inline-block;\">veniebat</span> <span style=\"display: inline-block;\">in</span> <span style=\"display: inline-block;\">mentem</span> <span style=\"display: inline-block;\">habitus</span> <span style=\"display: inline-block;\">virginalis</span> <span style=\"display: inline-block;\">,</span> <span style=\"display: inline-block;\">processus</span> <span style=\"display: inline-block;\">in</span> <span style=\"display: inline-block;\">Ecclesiam</span> <span style=\"display: inline-block;\">inter</span> <span style=\"display: inline-block;\">virgineos</span> <span style=\"display: inline-block;\">choros</span> <span style=\"display: inline-block;\">?</span></p>\n",
      "    <p><b style=\"text-decoration: line-through;;\">positive</b> -> <span style=\"display: inline-block;\">misit</span> <span style=\"display: inline-block;\">circum</span> <span style=\"display: inline-block;\">fora</span> <span style=\"display: inline-block;\">et</span> <span style=\"display: inline-block;\">basilicas</span> <span style=\"display: inline-block;\">nomenculatores</span> <span style=\"display: inline-block;\">ad</span> <span style=\"display: inline-block;\">inuitandos</span> <span style=\"display: inline-block;\">ad</span> <span style=\"display: inline-block;\">libidinem</span> <span style=\"display: inline-block;\">iuuenes</span> <span style=\"display: inline-block;\">senesque</span> <span style=\"display: inline-block;\">-que</span> <span style=\"display: inline-block;\">;</span></p>\n",
      "    <p><b style=\"text-decoration: line-through;;\">positive</b> -> <span style=\"display: inline-block;\">sed</span> <span style=\"display: inline-block;\">vereor</span> <span style=\"display: inline-block;\">ne</span> <span style=\"display: inline-block;\">mulier</span> <span style=\"display: inline-block;\">me</span> <span style=\"display: inline-block;\">absente</span> <span style=\"display: inline-block;\">hic</span> <span style=\"display: inline-block;\">corrupta</span> <span style=\"display: inline-block;\">sit</span> <span style=\"display: inline-block;\">.</span></p>\n",
      "    <p><b style=\"text-decoration: line-through;;\">negative</b> -> <span style=\"display: inline-block;\">sed</span> <span style=\"display: inline-block;\">tu</span> <span style=\"display: inline-block;\">intuens</span> <span style=\"display: inline-block;\">uerba</span> <span style=\"display: inline-block;\">Christi</span> <span style=\"display: inline-block;\">dic</span> <span style=\"display: inline-block;\">tibi</span> <span style=\"display: inline-block;\">ipse</span> <span style=\"display: inline-block;\">:</span> <span style=\"display: inline-block;\">Nemo</span> <span style=\"display: inline-block;\">bonus</span> <span style=\"display: inline-block;\">nisi</span> <span style=\"display: inline-block;\">unus</span> <span style=\"display: inline-block;\">deus</span> <span style=\"display: inline-block;\">.</span></p>\n",
      "    <p><b style=\"text-decoration: line-through;;\">negative</b> -> <span style=\"display: inline-block;\">Aut</span> <span style=\"display: inline-block;\">ridenda</span> <span style=\"display: inline-block;\">omnia</span> <span style=\"display: inline-block;\">aut</span> <span style=\"display: inline-block;\">flenda</span> <span style=\"display: inline-block;\">sunt</span> <span style=\"display: inline-block;\">.</span></p>\n",
      "    <p><b style=\"text-decoration: line-through;;\">negative</b> -> <span style=\"display: inline-block;\">Pro</span> <span style=\"display: inline-block;\">quibus</span> <span style=\"display: inline-block;\">officiis</span> <span style=\"display: inline-block;\">pretium</span> <span style=\"display: inline-block;\">mihi</span> <span style=\"display: inline-block;\">dulce</span> <span style=\"display: inline-block;\">repende</span> <span style=\"display: inline-block;\">Concubitus</span> <span style=\"display: inline-block;\">hodie</span> <span style=\"display: inline-block;\">,</span> <span style=\"display: inline-block;\">fusca</span> <span style=\"display: inline-block;\">Cypassi</span> <span style=\"display: inline-block;\">,</span> <span style=\"display: inline-block;\">tuos</span> <span style=\"display: inline-block;\">!</span></p>\n",
      "    <p><b style=\"text-decoration: line-through;;\">negative</b> -> <span style=\"display: inline-block;\">postremo</span> <span style=\"display: inline-block;\">tamquam</span> <span style=\"display: inline-block;\">urbe</span> <span style=\"display: inline-block;\">capta</span> <span style=\"display: inline-block;\">libidine</span> <span style=\"display: inline-block;\">ac</span> <span style=\"display: inline-block;\">licentia</span> <span style=\"display: inline-block;\">sua</span> <span style=\"display: inline-block;\">pro</span> <span style=\"display: inline-block;\">legibus</span> <span style=\"display: inline-block;\">utuntur</span> <span style=\"display: inline-block;\">.</span></p>\n",
      "    <p><b style=\"text-decoration: line-through;;\">negative</b> -> <span style=\"display: inline-block;\">Sarpedon</span> <span style=\"display: inline-block;\">Tlepolemum</span> <span style=\"display: inline-block;\">,</span> <span style=\"display: inline-block;\">idem</span> <span style=\"display: inline-block;\">Antiphum</span> <span style=\"display: inline-block;\">.</span></p>\n",
      "    <p><b style=\"text-decoration: line-through;;\">negative</b> -> <span style=\"display: inline-block;\">taceo</span> <span style=\"display: inline-block;\">enim</span> <span style=\"display: inline-block;\">Iudaismi</span> <span style=\"display: inline-block;\">haereticos</span> <span style=\"display: inline-block;\">,</span> <span style=\"display: inline-block;\">Dositheum</span> <span style=\"display: inline-block;\">inquam</span> <span style=\"display: inline-block;\">Samaritanum</span> <span style=\"display: inline-block;\">,</span> <span style=\"display: inline-block;\">qui</span> <span style=\"display: inline-block;\">primus</span> <span style=\"display: inline-block;\">ausus</span> <span style=\"display: inline-block;\">est</span> <span style=\"display: inline-block;\">prophetas</span> <span style=\"display: inline-block;\">quasi</span> <span style=\"display: inline-block;\">non</span> <span style=\"display: inline-block;\">in</span> <span style=\"display: inline-block;\">spiritu</span> <span style=\"display: inline-block;\">sancto</span> <span style=\"display: inline-block;\">locutos</span> <span style=\"display: inline-block;\">repudiare</span> <span style=\"display: inline-block;\">,</span> <span style=\"display: inline-block;\">taceo</span> <span style=\"display: inline-block;\">Saducaeos</span> <span style=\"display: inline-block;\">,</span> <span style=\"display: inline-block;\">qui</span> <span style=\"display: inline-block;\">ex</span> <span style=\"display: inline-block;\">huius</span> <span style=\"display: inline-block;\">erroris</span> <span style=\"display: inline-block;\">radice</span> <span style=\"display: inline-block;\">surgentes</span> <span style=\"display: inline-block;\">ausi</span> <span style=\"display: inline-block;\">sunt</span> <span style=\"display: inline-block;\">ad</span> <span style=\"display: inline-block;\">hanc</span> <span style=\"display: inline-block;\">haeresim</span> <span style=\"display: inline-block;\">etiam</span> <span style=\"display: inline-block;\">resurrectionem</span> <span style=\"display: inline-block;\">carnis</span> <span style=\"display: inline-block;\">negare</span> <span style=\"display: inline-block;\">,</span> <span style=\"display: inline-block;\">praetermitto</span> <span style=\"display: inline-block;\">Pharisaeos</span> <span style=\"display: inline-block;\">,</span> <span style=\"display: inline-block;\">qui</span> <span style=\"display: inline-block;\">additamenta</span> <span style=\"display: inline-block;\">quaedam</span> <span style=\"display: inline-block;\">legi</span> <span style=\"display: inline-block;\">adstruendo</span> <span style=\"display: inline-block;\">a</span> <span style=\"display: inline-block;\">Iudaeis</span> <span style=\"display: inline-block;\">diuisi</span> <span style=\"display: inline-block;\">sunt</span> <span style=\"display: inline-block;\">,</span> <span style=\"display: inline-block;\">unde</span> <span style=\"display: inline-block;\">etiam</span> <span style=\"display: inline-block;\">hoc</span> <span style=\"display: inline-block;\">accipere</span> <span style=\"display: inline-block;\">ipsum</span> <span style=\"display: inline-block;\">quod</span> <span style=\"display: inline-block;\">habent</span> <span style=\"display: inline-block;\">nomen</span> <span style=\"display: inline-block;\">digni</span> <span style=\"display: inline-block;\">fuerunt</span> <span style=\"display: inline-block;\">,</span> <span style=\"display: inline-block;\">cum</span> <span style=\"display: inline-block;\">his</span> <span style=\"display: inline-block;\">etiam</span> <span style=\"display: inline-block;\">Herodianos</span> <span style=\"display: inline-block;\">,</span> <span style=\"display: inline-block;\">qui</span> <span style=\"display: inline-block;\">Christum</span> <span style=\"display: inline-block;\">Herodem</span> <span style=\"display: inline-block;\">esse</span> <span style=\"display: inline-block;\">dixerunt</span> <span style=\"display: inline-block;\">:</span> <span style=\"display: inline-block;\">ad</span> <span style=\"display: inline-block;\">eos</span> <span style=\"display: inline-block;\">me</span> <span style=\"display: inline-block;\">conuerto</span> <span style=\"display: inline-block;\">,</span> <span style=\"display: inline-block;\">qui</span> <span style=\"display: inline-block;\">ex</span> <span style=\"display: inline-block;\">euangelio</span> <span style=\"display: inline-block;\">haeretici</span> <span style=\"display: inline-block;\">esse</span> <span style=\"display: inline-block;\">uoluerunt</span> <span style=\"display: inline-block;\">.</span></p>\n",
      "    <p><b style=\"text-decoration: line-through;;\">positive</b> -> <span style=\"display: inline-block;\">is</span> <span style=\"display: inline-block;\">se</span> <span style=\"display: inline-block;\">dixit</span> <span style=\"display: inline-block;\">cum</span> <span style=\"display: inline-block;\">Alcumena</span> <span style=\"display: inline-block;\">clam</span> <span style=\"display: inline-block;\">consuetum</span> <span style=\"display: inline-block;\">cubitibus</span> <span style=\"display: inline-block;\">,</span> <span style=\"display: inline-block;\">eumque</span> <span style=\"display: inline-block;\">-que</span> <span style=\"display: inline-block;\">filium</span> <span style=\"display: inline-block;\">suom</span> <span style=\"display: inline-block;\">esse</span> <span style=\"display: inline-block;\">qui</span> <span style=\"display: inline-block;\">illos</span> <span style=\"display: inline-block;\">angues</span> <span style=\"display: inline-block;\">vicerit</span></p>\n",
      "    <p><b style=\"text-decoration: line-through;;\">negative</b> -> <span style=\"display: inline-block;\">nam</span> <span style=\"display: inline-block;\">et</span> <span style=\"display: inline-block;\">Tiberianus</span> <span style=\"display: inline-block;\">in</span> <span style=\"display: inline-block;\">Prometheo</span> <span style=\"display: inline-block;\">ait</span> <span style=\"display: inline-block;\">deos</span> <span style=\"display: inline-block;\">singula</span> <span style=\"display: inline-block;\">sua</span> <span style=\"display: inline-block;\">homini</span> <span style=\"display: inline-block;\">tribuisse</span> <span style=\"display: inline-block;\">.</span></p>\n",
      "    <p><b style=\"text-decoration: line-through;;\">negative</b> -> <span style=\"display: inline-block;\">Pisces</span> <span style=\"display: inline-block;\">oenoteganon</span> <span style=\"display: inline-block;\">:</span> <span style=\"display: inline-block;\">a</span> <span style=\"display: inline-block;\">crudo</span> <span style=\"display: inline-block;\">pisces</span> <span style=\"display: inline-block;\">quos</span> <span style=\"display: inline-block;\">volueris</span> <span style=\"display: inline-block;\">lavas</span> <span style=\"display: inline-block;\">,</span> <span style=\"display: inline-block;\">conponis</span> <span style=\"display: inline-block;\">in</span> <span style=\"display: inline-block;\">patinam</span> <span style=\"display: inline-block;\">,</span> <span style=\"display: inline-block;\">mittis</span> <span style=\"display: inline-block;\">oleum</span> <span style=\"display: inline-block;\">,</span> <span style=\"display: inline-block;\">liquamen</span> <span style=\"display: inline-block;\">,</span> <span style=\"display: inline-block;\">vinum</span> <span style=\"display: inline-block;\">,</span> <span style=\"display: inline-block;\">fasciculos</span> <span style=\"display: inline-block;\">porri</span> <span style=\"display: inline-block;\">et</span> <span style=\"display: inline-block;\">coriandri</span> <span style=\"display: inline-block;\">,</span> <span style=\"display: inline-block;\">coquitur</span> <span style=\"display: inline-block;\">.</span></p>\n",
      "    <p><b style=\"text-decoration: line-through;;\">negative</b> -> <span style=\"display: inline-block;\">Scietur</span> <span style=\"display: inline-block;\">non</span> <span style=\"display: inline-block;\">meruisse</span> <span style=\"display: inline-block;\">te</span> <span style=\"display: inline-block;\">consulatum</span> <span style=\"display: inline-block;\">,</span> <span style=\"display: inline-block;\">si</span> <span style=\"display: inline-block;\">tibi</span> <span style=\"display: inline-block;\">non</span> <span style=\"display: inline-block;\">detulerit</span> <span style=\"display: inline-block;\">hic</span> <span style=\"display: inline-block;\">imperator</span> <span style=\"display: inline-block;\">\"</span> <span style=\"display: inline-block;\">.</span></p>\n",
      "    <p><b style=\"text-decoration: line-through;;\">positive</b> -> <span style=\"display: inline-block;\">invisa</span> <span style=\"display: inline-block;\">proles</span> <span style=\"display: inline-block;\">:</span> <span style=\"display: inline-block;\">sed</span> <span style=\"display: inline-block;\">tamen</span> <span style=\"display: inline-block;\">peior</span> <span style=\"display: inline-block;\">parens</span> <span style=\"display: inline-block;\">quam</span> <span style=\"display: inline-block;\">gnatus</span> <span style=\"display: inline-block;\">,</span> <span style=\"display: inline-block;\">utero</span> <span style=\"display: inline-block;\">rursus</span> <span style=\"display: inline-block;\">infausto</span> <span style=\"display: inline-block;\">gravis</span> <span style=\"display: inline-block;\">.</span></p>\n",
      "    <p><b style=\"text-decoration: line-through;;\">positive</b> -> <span style=\"display: inline-block;\">cum</span> <span style=\"display: inline-block;\">dabit</span> <span style=\"display: inline-block;\">uxori</span> <span style=\"display: inline-block;\">molitor</span> <span style=\"display: inline-block;\">tuus</span> <span style=\"display: inline-block;\">et</span> <span style=\"display: inline-block;\">tibi</span> <span style=\"display: inline-block;\">adulter</span></p>\n",
      "    <p><b style=\"text-decoration: line-through;;\">positive</b> -> <span style=\"display: inline-block;\">\"</span> <span style=\"display: inline-block;\">Nemo</span> <span style=\"display: inline-block;\">,</span> <span style=\"display: inline-block;\">\"</span> <span style=\"display: inline-block;\">inquit</span> <span style=\"display: inline-block;\">,</span> <span style=\"display: inline-block;\">\"</span> <span style=\"display: inline-block;\">mihi</span> <span style=\"display: inline-block;\">uirginitatem</span> <span style=\"display: inline-block;\">eripuit</span> <span style=\"display: inline-block;\">:</span> <span style=\"display: inline-block;\">\"</span> <span style=\"display: inline-block;\">sed</span> <span style=\"display: inline-block;\">omnes</span> <span style=\"display: inline-block;\">quasi</span> <span style=\"display: inline-block;\">erepturi</span> <span style=\"display: inline-block;\">uenerunt</span> <span style=\"display: inline-block;\">:</span> <span style=\"display: inline-block;\">sed</span> <span style=\"display: inline-block;\">omnes</span> <span style=\"display: inline-block;\">quasi</span> <span style=\"display: inline-block;\">eripuissent</span> <span style=\"display: inline-block;\">recesserunt</span> <span style=\"display: inline-block;\">.</span></p>\n",
      "    <p><b style=\"text-decoration: line-through;;\">negative</b> -> <span style=\"display: inline-block;\">et</span> <span style=\"display: inline-block;\">erit</span> <span style=\"display: inline-block;\">in</span> <span style=\"display: inline-block;\">die</span> <span style=\"display: inline-block;\">illa</span> <span style=\"display: inline-block;\">dicit</span> <span style=\"display: inline-block;\">Dominus</span> <span style=\"display: inline-block;\">occidet</span> <span style=\"display: inline-block;\">sol</span> <span style=\"display: inline-block;\">meridie</span> <span style=\"display: inline-block;\">et</span> <span style=\"display: inline-block;\">tenebrescere</span> <span style=\"display: inline-block;\">faciam</span> <span style=\"display: inline-block;\">terram</span> <span style=\"display: inline-block;\">in</span> <span style=\"display: inline-block;\">die</span> <span style=\"display: inline-block;\">luminis</span></p>\n",
      "    <p><b style=\"text-decoration: line-through;;\">negative</b> -> <span style=\"display: inline-block;\">\"</span> <span style=\"display: inline-block;\">tibi</span> <span style=\"display: inline-block;\">ista</span> <span style=\"display: inline-block;\">praesint</span> <span style=\"display: inline-block;\">numina</span> <span style=\"display: inline-block;\">,</span> <span style=\"display: inline-block;\">tu</span> <span style=\"display: inline-block;\">saxa</span> <span style=\"display: inline-block;\">,</span> <span style=\"display: inline-block;\">tu</span> <span style=\"display: inline-block;\">lignum</span> <span style=\"display: inline-block;\">colas</span> <span style=\"display: inline-block;\">,</span> <span style=\"display: inline-block;\">tu</span> <span style=\"display: inline-block;\">mortuorum</span> <span style=\"display: inline-block;\">mortuus</span> <span style=\"display: inline-block;\">fias</span> <span style=\"display: inline-block;\">deorum</span> <span style=\"display: inline-block;\">pontifex</span> <span style=\"display: inline-block;\">.</span></p>\n",
      "    <p><b style=\"text-decoration: line-through;;\">negative</b> -> <span style=\"display: inline-block;\">sed</span> <span style=\"display: inline-block;\">quorundam</span> <span style=\"display: inline-block;\">aut</span> <span style=\"display: inline-block;\">praesumtio</span> <span style=\"display: inline-block;\">aut</span> <span style=\"display: inline-block;\">facultas</span> <span style=\"display: inline-block;\">aut</span> <span style=\"display: inline-block;\">error</span> <span style=\"display: inline-block;\">apostolicae</span> <span style=\"display: inline-block;\">doctrinae</span> <span style=\"display: inline-block;\">indemutabilem</span> <span style=\"display: inline-block;\">constitutionem</span> <span style=\"display: inline-block;\">partim</span> <span style=\"display: inline-block;\">fraudulenter</span> <span style=\"display: inline-block;\">confessa</span> <span style=\"display: inline-block;\">est</span> <span style=\"display: inline-block;\">et</span> <span style=\"display: inline-block;\">partim</span> <span style=\"display: inline-block;\">audacter</span> <span style=\"display: inline-block;\">egressa</span> <span style=\"display: inline-block;\">,</span> <span style=\"display: inline-block;\">dum</span> <span style=\"display: inline-block;\">in</span> <span style=\"display: inline-block;\">confessione</span> <span style=\"display: inline-block;\">patris</span> <span style=\"display: inline-block;\">et</span> <span style=\"display: inline-block;\">filii</span> <span style=\"display: inline-block;\">et</span> <span style=\"display: inline-block;\">spiritus</span> <span style=\"display: inline-block;\">sancti</span> <span style=\"display: inline-block;\">ueritatem</span> <span style=\"display: inline-block;\">naturalis</span> <span style=\"display: inline-block;\">significationis</span> <span style=\"display: inline-block;\">eludit</span> <span style=\"display: inline-block;\">,</span> <span style=\"display: inline-block;\">ne</span> <span style=\"display: inline-block;\">quid</span> <span style=\"display: inline-block;\">maneret</span> <span style=\"display: inline-block;\">in</span> <span style=\"display: inline-block;\">sensu</span> <span style=\"display: inline-block;\">,</span> <span style=\"display: inline-block;\">quod</span> <span style=\"display: inline-block;\">in</span> <span style=\"display: inline-block;\">regenerationis</span> <span style=\"display: inline-block;\">sacramento</span> <span style=\"display: inline-block;\">est</span> <span style=\"display: inline-block;\">confitendum</span> <span style=\"display: inline-block;\">.</span></p>\n",
      "    <p><b style=\"text-decoration: line-through;;\">negative</b> -> <span style=\"display: inline-block;\">Quod</span> <span style=\"display: inline-block;\">longe</span> <span style=\"display: inline-block;\">a</span> <span style=\"display: inline-block;\">sensibus</span> <span style=\"display: inline-block;\">tuis</span> <span style=\"display: inline-block;\">prudentissimis</span> <span style=\"display: inline-block;\">piissimisque</span> <span style=\"display: inline-block;\">-que</span> <span style=\"display: inline-block;\">abest</span> <span style=\"display: inline-block;\">,</span> <span style=\"display: inline-block;\">adversus</span> <span style=\"display: inline-block;\">felicitatem</span> <span style=\"display: inline-block;\">tuam</span> <span style=\"display: inline-block;\">parum</span> <span style=\"display: inline-block;\">gratus</span> <span style=\"display: inline-block;\">es</span> <span style=\"display: inline-block;\">,</span> <span style=\"display: inline-block;\">si</span> <span style=\"display: inline-block;\">tibi</span> <span style=\"display: inline-block;\">quicquam</span> <span style=\"display: inline-block;\">hoc</span> <span style=\"display: inline-block;\">salvo</span> <span style=\"display: inline-block;\">flere</span> <span style=\"display: inline-block;\">permittis</span> <span style=\"display: inline-block;\">.</span></p>\n",
      "    <p><b style=\"text-decoration: line-through;;\">negative</b> -> <span style=\"display: inline-block;\">habeo</span> <span style=\"display: inline-block;\">filiam</span> <span style=\"display: inline-block;\">virginem</span> <span style=\"display: inline-block;\">et</span> <span style=\"display: inline-block;\">hic</span> <span style=\"display: inline-block;\">homo</span> <span style=\"display: inline-block;\">habet</span> <span style=\"display: inline-block;\">concubinam</span> <span style=\"display: inline-block;\">educam</span> <span style=\"display: inline-block;\">eas</span> <span style=\"display: inline-block;\">ad</span> <span style=\"display: inline-block;\">vos</span> <span style=\"display: inline-block;\">ut</span> <span style=\"display: inline-block;\">humilietis</span> <span style=\"display: inline-block;\">eas</span> <span style=\"display: inline-block;\">et</span> <span style=\"display: inline-block;\">vestram</span> <span style=\"display: inline-block;\">libidinem</span> <span style=\"display: inline-block;\">conpleatis</span> <span style=\"display: inline-block;\">tantum</span> <span style=\"display: inline-block;\">obsecro</span> <span style=\"display: inline-block;\">ne</span> <span style=\"display: inline-block;\">scelus</span> <span style=\"display: inline-block;\">hoc</span> <span style=\"display: inline-block;\">contra</span> <span style=\"display: inline-block;\">naturam</span> <span style=\"display: inline-block;\">operemini</span> <span style=\"display: inline-block;\">in</span> <span style=\"display: inline-block;\">virum</span></p>\n",
      "    <p><b style=\"text-decoration: line-through;;\">negative</b> -> <span style=\"display: inline-block;\">Nicetius</span> <span style=\"display: inline-block;\">Castello</span> <span style=\"display: inline-block;\">Minoritanus</span> <span style=\"display: inline-block;\">.</span></p>\n",
      "    <p><b style=\"text-decoration: line-through;;\">negative</b> -> <span style=\"display: inline-block;\">quando</span> <span style=\"display: inline-block;\">vero</span> <span style=\"display: inline-block;\">conducitur</span> <span style=\"display: inline-block;\">et</span> <span style=\"display: inline-block;\">sustollitur</span> <span style=\"display: inline-block;\">,</span> <span style=\"display: inline-block;\">non</span> <span style=\"display: inline-block;\">oportet</span> <span style=\"display: inline-block;\">,</span> <span style=\"display: inline-block;\">ne</span> <span style=\"display: inline-block;\">aut</span> <span style=\"display: inline-block;\">sanguinis</span> <span style=\"display: inline-block;\">fluxus</span> <span style=\"display: inline-block;\">aut</span> <span style=\"display: inline-block;\">ipsius</span> <span style=\"display: inline-block;\">matricis</span> <span style=\"display: inline-block;\">adductio</span> <span style=\"display: inline-block;\">emergat</span> <span style=\"display: inline-block;\">.</span></p>\n",
      "    <p><b style=\"text-decoration: line-through;;\">negative</b> -> <span style=\"display: inline-block;\">Mortalis</span> <span style=\"display: inline-block;\">cum</span> <span style=\"display: inline-block;\">sis</span> <span style=\"display: inline-block;\">,</span> <span style=\"display: inline-block;\">genio</span> <span style=\"display: inline-block;\">bene</span> <span style=\"display: inline-block;\">fac</span> <span style=\"display: inline-block;\">;</span></p>\n",
      "    <p><b style=\"text-decoration: line-through;;\">negative</b> -> <span style=\"display: inline-block;\">non</span> <span style=\"display: inline-block;\">iudicatis</span> <span style=\"display: inline-block;\">in</span> <span style=\"display: inline-block;\">hac</span> <span style=\"display: inline-block;\">causa</span> <span style=\"display: inline-block;\">de</span> <span style=\"display: inline-block;\">exteris</span> <span style=\"display: inline-block;\">nationibus</span> <span style=\"display: inline-block;\">,</span> <span style=\"display: inline-block;\">non</span> <span style=\"display: inline-block;\">de</span> <span style=\"display: inline-block;\">sociis</span> <span style=\"display: inline-block;\">;</span></p>\n",
      "    <p><b style=\"text-decoration: line-through;;\">negative</b> -> <span style=\"display: inline-block;\">patris</span> <span style=\"display: inline-block;\">et</span> <span style=\"display: inline-block;\">inmemor</span> <span style=\"display: inline-block;\">inter</span> <span style=\"display: inline-block;\">frementes</span> <span style=\"display: inline-block;\">Hippolyte</span> <span style=\"display: inline-block;\">tubas</span> <span style=\"display: inline-block;\">strictam</span> <span style=\"display: inline-block;\">securim</span> <span style=\"display: inline-block;\">languida</span> <span style=\"display: inline-block;\">poneret</span> <span style=\"display: inline-block;\">et</span> <span style=\"display: inline-block;\">seminudo</span> <span style=\"display: inline-block;\">pectore</span> <span style=\"display: inline-block;\">cingulum</span> <span style=\"display: inline-block;\">forti</span> <span style=\"display: inline-block;\">negatum</span> <span style=\"display: inline-block;\">solveret</span> <span style=\"display: inline-block;\">Herculi</span> <span style=\"display: inline-block;\">,</span> <span style=\"display: inline-block;\">bellumque</span> <span style=\"display: inline-block;\">-que</span> <span style=\"display: inline-block;\">solus</span> <span style=\"display: inline-block;\">conficeret</span> <span style=\"display: inline-block;\">decor</span> <span style=\"display: inline-block;\">.</span></p>\n",
      "    <p><b style=\"text-decoration: line-through;;\">negative</b> -> <span style=\"display: inline-block;\">Illud</span> <span style=\"display: inline-block;\">quoque</span> <span style=\"display: inline-block;\">commonendum</span> <span style=\"display: inline-block;\">esse</span> <span style=\"display: inline-block;\">credidimus</span> <span style=\"display: inline-block;\">:</span> <span style=\"display: inline-block;\">quoniam</span> <span style=\"display: inline-block;\">tam</span> <span style=\"display: inline-block;\">in</span> <span style=\"display: inline-block;\">litteris</span> <span style=\"display: inline-block;\">sacris</span> <span style=\"display: inline-block;\">quam</span> <span style=\"display: inline-block;\">in</span> <span style=\"display: inline-block;\">expositoribus</span> <span style=\"display: inline-block;\">doctissimis</span> <span style=\"display: inline-block;\">multa</span> <span style=\"display: inline-block;\">per</span> <span style=\"display: inline-block;\">schemata</span> <span style=\"display: inline-block;\">,</span> <span style=\"display: inline-block;\">multa</span> <span style=\"display: inline-block;\">per</span> <span style=\"display: inline-block;\">definitiones</span> <span style=\"display: inline-block;\">,</span> <span style=\"display: inline-block;\">multa</span> <span style=\"display: inline-block;\">per</span> <span style=\"display: inline-block;\">artem</span> <span style=\"display: inline-block;\">grammaticam</span> <span style=\"display: inline-block;\">,</span> <span style=\"display: inline-block;\">multa</span> <span style=\"display: inline-block;\">per</span> <span style=\"display: inline-block;\">artem</span> <span style=\"display: inline-block;\">rhetoricam</span> <span style=\"display: inline-block;\">,</span> <span style=\"display: inline-block;\">multa</span> <span style=\"display: inline-block;\">per</span> <span style=\"display: inline-block;\">dialecticam</span> <span style=\"display: inline-block;\">,</span> <span style=\"display: inline-block;\">multa</span> <span style=\"display: inline-block;\">per</span> <span style=\"display: inline-block;\">disciplinam</span> <span style=\"display: inline-block;\">arithmeticam</span> <span style=\"display: inline-block;\">,</span> <span style=\"display: inline-block;\">multa</span> <span style=\"display: inline-block;\">per</span> <span style=\"display: inline-block;\">musicam</span> <span style=\"display: inline-block;\">,</span> <span style=\"display: inline-block;\">multa</span> <span style=\"display: inline-block;\">per</span> <span style=\"display: inline-block;\">disciplinam</span> <span style=\"display: inline-block;\">geometricam</span> <span style=\"display: inline-block;\">,</span> <span style=\"display: inline-block;\">multa</span> <span style=\"display: inline-block;\">per</span> <span style=\"display: inline-block;\">astronomicam</span> <span style=\"display: inline-block;\">intellegere</span> <span style=\"display: inline-block;\">possumus</span> <span style=\"display: inline-block;\">,</span> <span style=\"display: inline-block;\">non</span> <span style=\"display: inline-block;\">ab</span> <span style=\"display: inline-block;\">re</span> <span style=\"display: inline-block;\">est</span> <span style=\"display: inline-block;\">instituta</span> <span style=\"display: inline-block;\">saecularium</span> <span style=\"display: inline-block;\">magistrorum</span> <span style=\"display: inline-block;\">,</span> <span style=\"display: inline-block;\">artes</span> <span style=\"display: inline-block;\">scilicet</span> <span style=\"display: inline-block;\">ac</span> <span style=\"display: inline-block;\">disciplinas</span> <span style=\"display: inline-block;\">cum</span> <span style=\"display: inline-block;\">suis</span> <span style=\"display: inline-block;\">diuisionibus</span> <span style=\"display: inline-block;\">,</span> <span style=\"display: inline-block;\">in</span> <span style=\"display: inline-block;\">sequenti</span> <span style=\"display: inline-block;\">libro</span> <span style=\"display: inline-block;\">paucis</span> <span style=\"display: inline-block;\">attingere</span> <span style=\"display: inline-block;\">,</span> <span style=\"display: inline-block;\">quatenus</span> <span style=\"display: inline-block;\">et</span> <span style=\"display: inline-block;\">qui</span> <span style=\"display: inline-block;\">talia</span> <span style=\"display: inline-block;\">didicerunt</span> <span style=\"display: inline-block;\">breuiter</span> <span style=\"display: inline-block;\">ammoneantur</span> <span style=\"display: inline-block;\">,</span> <span style=\"display: inline-block;\">et</span> <span style=\"display: inline-block;\">qui</span> <span style=\"display: inline-block;\">latius</span> <span style=\"display: inline-block;\">legere</span> <span style=\"display: inline-block;\">fortasse</span> <span style=\"display: inline-block;\">minime</span> <span style=\"display: inline-block;\">potuerunt</span> <span style=\"display: inline-block;\">,</span> <span style=\"display: inline-block;\">aliquid</span> <span style=\"display: inline-block;\">exinde</span> <span style=\"display: inline-block;\">compendiosa</span> <span style=\"display: inline-block;\">breuitate</span> <span style=\"display: inline-block;\">cognoscant</span> <span style=\"display: inline-block;\">.</span></p>\n",
      "    <p><b style=\"text-decoration: line-through;;\">positive</b> -> <span style=\"display: inline-block;\">Arminium</span> <span style=\"display: inline-block;\">super</span> <span style=\"display: inline-block;\">insitam</span> <span style=\"display: inline-block;\">violentiam</span> <span style=\"display: inline-block;\">rapta</span> <span style=\"display: inline-block;\">uxor</span> <span style=\"display: inline-block;\">,</span> <span style=\"display: inline-block;\">subiectus</span> <span style=\"display: inline-block;\">servitio</span> <span style=\"display: inline-block;\">uxoris</span> <span style=\"display: inline-block;\">uterus</span> <span style=\"display: inline-block;\">vaecordem</span> <span style=\"display: inline-block;\">agebant</span> <span style=\"display: inline-block;\">,</span> <span style=\"display: inline-block;\">volitabatque</span> <span style=\"display: inline-block;\">-que</span> <span style=\"display: inline-block;\">per</span> <span style=\"display: inline-block;\">Cheruscos</span> <span style=\"display: inline-block;\">,</span> <span style=\"display: inline-block;\">arma</span> <span style=\"display: inline-block;\">in</span> <span style=\"display: inline-block;\">Segestem</span> <span style=\"display: inline-block;\">,</span> <span style=\"display: inline-block;\">arma</span> <span style=\"display: inline-block;\">in</span> <span style=\"display: inline-block;\">Caesarem</span> <span style=\"display: inline-block;\">poscens</span> <span style=\"display: inline-block;\">.</span></p>\n",
      "    <p><b style=\"text-decoration: line-through;;\">positive</b> -> <span style=\"display: inline-block;\">\"</span> <span style=\"display: inline-block;\">Nemo</span> <span style=\"display: inline-block;\">,</span> <span style=\"display: inline-block;\">\"</span> <span style=\"display: inline-block;\">inquit</span> <span style=\"display: inline-block;\">,</span> <span style=\"display: inline-block;\">\"</span> <span style=\"display: inline-block;\">mihi</span> <span style=\"display: inline-block;\">uirginitatem</span> <span style=\"display: inline-block;\">eripuit</span> <span style=\"display: inline-block;\">:</span> <span style=\"display: inline-block;\">\"</span> <span style=\"display: inline-block;\">sed</span> <span style=\"display: inline-block;\">omnes</span> <span style=\"display: inline-block;\">quasi</span> <span style=\"display: inline-block;\">erepturi</span> <span style=\"display: inline-block;\">uenerunt</span> <span style=\"display: inline-block;\">:</span> <span style=\"display: inline-block;\">sed</span> <span style=\"display: inline-block;\">omnes</span> <span style=\"display: inline-block;\">quasi</span> <span style=\"display: inline-block;\">eripuissent</span> <span style=\"display: inline-block;\">recesserunt</span> <span style=\"display: inline-block;\">.</span></p>\n",
      "    <p><b style=\"text-decoration: line-through;;\">negative</b> -> <span style=\"display: inline-block;\">Quia</span> <span style=\"display: inline-block;\">per</span> <span style=\"display: inline-block;\">multimodam</span> <span style=\"display: inline-block;\">spiritus</span> <span style=\"display: inline-block;\">sancti</span> <span style=\"display: inline-block;\">gratiam</span> <span style=\"display: inline-block;\">,</span> <span style=\"display: inline-block;\">prout</span> <span style=\"display: inline-block;\">oportuit</span> <span style=\"display: inline-block;\">,</span> <span style=\"display: inline-block;\">dona</span> <span style=\"display: inline-block;\">spiritalia</span> <span style=\"display: inline-block;\">distributa</span> <span style=\"display: inline-block;\">sint</span> <span style=\"display: inline-block;\">sanctis</span> <span style=\"display: inline-block;\">ideoque</span> <span style=\"display: inline-block;\">-que</span> <span style=\"display: inline-block;\">debere</span> <span style=\"display: inline-block;\">unumquemque</span> <span style=\"display: inline-block;\">in</span> <span style=\"display: inline-block;\">quo</span> <span style=\"display: inline-block;\">uocatus</span> <span style=\"display: inline-block;\">est</span> <span style=\"display: inline-block;\">permanere</span> <span style=\"display: inline-block;\">et</span> <span style=\"display: inline-block;\">inferiores</span> <span style=\"display: inline-block;\">honorem</span> <span style=\"display: inline-block;\">euangelio</span> <span style=\"display: inline-block;\">cooperantibus</span> <span style=\"display: inline-block;\">dare</span> <span style=\"display: inline-block;\">.</span></p>\n",
      "    <p><b style=\"text-decoration: line-through;;\">negative</b> -> <span style=\"display: inline-block;\">Claudia</span> <span style=\"display: inline-block;\">praecedit</span> <span style=\"display: inline-block;\">laeto</span> <span style=\"display: inline-block;\">celeberrima</span> <span style=\"display: inline-block;\">voltu</span> <span style=\"display: inline-block;\">,</span> <span style=\"display: inline-block;\">credita</span> <span style=\"display: inline-block;\">vix</span> <span style=\"display: inline-block;\">tandem</span> <span style=\"display: inline-block;\">teste</span> <span style=\"display: inline-block;\">pudica</span> <span style=\"display: inline-block;\">dea</span> <span style=\"display: inline-block;\">;</span></p>\n",
      "    <p><b style=\"text-decoration: line-through;;\">negative</b> -> <span style=\"display: inline-block;\">idcirco</span> <span style=\"display: inline-block;\">haec</span> <span style=\"display: inline-block;\">dicit</span> <span style=\"display: inline-block;\">Dominus</span> <span style=\"display: inline-block;\">ecce</span> <span style=\"display: inline-block;\">ego</span> <span style=\"display: inline-block;\">cogito</span> <span style=\"display: inline-block;\">super</span> <span style=\"display: inline-block;\">familiam</span> <span style=\"display: inline-block;\">istam</span> <span style=\"display: inline-block;\">malum</span> <span style=\"display: inline-block;\">unde</span> <span style=\"display: inline-block;\">non</span> <span style=\"display: inline-block;\">auferetis</span> <span style=\"display: inline-block;\">colla</span> <span style=\"display: inline-block;\">vestra</span> <span style=\"display: inline-block;\">et</span> <span style=\"display: inline-block;\">non</span> <span style=\"display: inline-block;\">ambulabitis</span> <span style=\"display: inline-block;\">superbi</span> <span style=\"display: inline-block;\">quoniam</span> <span style=\"display: inline-block;\">tempus</span> <span style=\"display: inline-block;\">pessimum</span> <span style=\"display: inline-block;\">est</span></p>\n",
      "    <p><b style=\"text-decoration: line-through;;\">negative</b> -> <span style=\"display: inline-block;\">quod</span> <span style=\"display: inline-block;\">feminae</span> <span style=\"display: inline-block;\">genitalia</span> <span style=\"display: inline-block;\">per</span> <span style=\"display: inline-block;\">hoc</span> <span style=\"display: inline-block;\">significet</span> <span style=\"display: inline-block;\">sicut</span> <span style=\"display: inline-block;\">in</span> <span style=\"display: inline-block;\">lumbis</span> <span style=\"display: inline-block;\">uirorum</span> <span style=\"display: inline-block;\">.</span></p>\n",
      "    <p><b style=\"text-decoration: line-through;;\">negative</b> -> <span style=\"display: inline-block;\">et</span> <span style=\"display: inline-block;\">cum</span> <span style=\"display: inline-block;\">vidisset</span> <span style=\"display: inline-block;\">Iesus</span> <span style=\"display: inline-block;\">cogitationes</span> <span style=\"display: inline-block;\">eorum</span> <span style=\"display: inline-block;\">dixit</span> <span style=\"display: inline-block;\">ut</span> <span style=\"display: inline-block;\">quid</span> <span style=\"display: inline-block;\">cogitatis</span> <span style=\"display: inline-block;\">mala</span> <span style=\"display: inline-block;\">in</span> <span style=\"display: inline-block;\">cordibus</span> <span style=\"display: inline-block;\">vestris</span></p>\n",
      "    <p><b style=\"text-decoration: line-through;;\">negative</b> -> <span style=\"display: inline-block;\">itaque</span> <span style=\"display: inline-block;\">locorum</span> <span style=\"display: inline-block;\">etiam</span> <span style=\"display: inline-block;\">appella</span> <span style=\"display: inline-block;\">tionibus</span> <span style=\"display: inline-block;\">additis</span> <span style=\"display: inline-block;\">proponi</span> <span style=\"display: inline-block;\">solebant</span> <span style=\"display: inline-block;\">.</span></p>\n",
      "    <p><b style=\"text-decoration: line-through;;\">negative</b> -> <span style=\"display: inline-block;\">His</span> <span style=\"display: inline-block;\">actis</span> <span style=\"display: inline-block;\">cynomyia</span> <span style=\"display: inline-block;\">fluit</span> <span style=\"display: inline-block;\">,</span> <span style=\"display: inline-block;\">quae</span> <span style=\"display: inline-block;\">musca</span> <span style=\"display: inline-block;\">canina</span> <span style=\"display: inline-block;\">dicitur</span> <span style=\"display: inline-block;\">,</span> <span style=\"display: inline-block;\">et</span> <span style=\"display: inline-block;\">uatis</span> <span style=\"display: inline-block;\">conpleuit</span> <span style=\"display: inline-block;\">nutibus</span> <span style=\"display: inline-block;\">omnes</span> <span style=\"display: inline-block;\">exspatiata</span> <span style=\"display: inline-block;\">locos</span> <span style=\"display: inline-block;\">solique</span> <span style=\"display: inline-block;\">-que</span> <span style=\"display: inline-block;\">haut</span> <span style=\"display: inline-block;\">cognita</span> <span style=\"display: inline-block;\">Gessae</span> <span style=\"display: inline-block;\">,</span> <span style=\"display: inline-block;\">quae</span> <span style=\"display: inline-block;\">tum</span> <span style=\"display: inline-block;\">terra</span> <span style=\"display: inline-block;\">fuit</span> <span style=\"display: inline-block;\">Iudaeae</span> <span style=\"display: inline-block;\">commoda</span> <span style=\"display: inline-block;\">genti</span> <span style=\"display: inline-block;\">,</span> <span style=\"display: inline-block;\">traxit</span> <span style=\"display: inline-block;\">inexhaustos</span> <span style=\"display: inline-block;\">,</span> <span style=\"display: inline-block;\">quacumque</span> <span style=\"display: inline-block;\">est</span> <span style=\"display: inline-block;\">acta</span> <span style=\"display: inline-block;\">,</span> <span style=\"display: inline-block;\">dolores</span> <span style=\"display: inline-block;\">.</span></p>\n",
      "    <p><b style=\"text-decoration: line-through;;\">positive</b> -> <span style=\"display: inline-block;\">erunt</span> <span style=\"display: inline-block;\">praeterea</span> <span style=\"display: inline-block;\">praecauenda</span> <span style=\"display: inline-block;\">magis</span> <span style=\"display: inline-block;\">,</span> <span style=\"display: inline-block;\">quae</span> <span style=\"display: inline-block;\">passionem</span> <span style=\"display: inline-block;\">ualeant</span> <span style=\"display: inline-block;\">refricare</span> <span style=\"display: inline-block;\">,</span> <span style=\"display: inline-block;\">ut</span> <span style=\"display: inline-block;\">frigus</span> <span style=\"display: inline-block;\">,</span> <span style=\"display: inline-block;\">indigestio</span> <span style=\"display: inline-block;\">,</span> <span style=\"display: inline-block;\">libido</span> <span style=\"display: inline-block;\">,</span> <span style=\"display: inline-block;\">uel</span> <span style=\"display: inline-block;\">quae</span> <span style=\"display: inline-block;\">inflare</span> <span style=\"display: inline-block;\">ualeant</span> <span style=\"display: inline-block;\">,</span> <span style=\"display: inline-block;\">cum</span> <span style=\"display: inline-block;\">sumuntur</span> <span style=\"display: inline-block;\">,</span> <span style=\"display: inline-block;\">item</span> <span style=\"display: inline-block;\">frigida</span> <span style=\"display: inline-block;\">plurimo</span> <span style=\"display: inline-block;\">scilicet</span> <span style=\"display: inline-block;\">tempore</span> <span style=\"display: inline-block;\">.</span></p>\n",
      "    <p><b style=\"text-decoration: line-through;;\">negative</b> -> <span style=\"display: inline-block;\">nam</span> <span style=\"display: inline-block;\">dum</span> <span style=\"display: inline-block;\">quod</span> <span style=\"display: inline-block;\">tu</span> <span style=\"display: inline-block;\">debes</span> <span style=\"display: inline-block;\">studiis</span> <span style=\"display: inline-block;\">,</span> <span style=\"display: inline-block;\">ego</span> <span style=\"display: inline-block;\">inpendo</span> <span style=\"display: inline-block;\">laetitiae</span> <span style=\"display: inline-block;\">,</span> <span style=\"display: inline-block;\">puto</span> <span style=\"display: inline-block;\">ambo</span> <span style=\"display: inline-block;\">proficimus</span> <span style=\"display: inline-block;\">.</span></p>\n",
      "    <p><b style=\"text-decoration: line-through;;\">negative</b> -> <span style=\"display: inline-block;\">mortales</span> <span style=\"display: inline-block;\">miseri</span> <span style=\"display: inline-block;\">,</span> <span style=\"display: inline-block;\">querulum</span> <span style=\"display: inline-block;\">genus</span> <span style=\"display: inline-block;\">,</span> <span style=\"display: inline-block;\">impia</span> <span style=\"display: inline-block;\">tandem</span> <span style=\"display: inline-block;\">pectora</span> <span style=\"display: inline-block;\">mollitis</span> <span style=\"display: inline-block;\">mentibus</span> <span style=\"display: inline-block;\">exuite</span> <span style=\"display: inline-block;\">.</span></p>\n",
      "    <p><b style=\"text-decoration: line-through;;\">negative</b> -> <span style=\"display: inline-block;\">ut</span> <span style=\"display: inline-block;\">de</span> <span style=\"display: inline-block;\">ipsis</span> <span style=\"display: inline-block;\">principibus</span> <span style=\"display: inline-block;\">tenebrarum</span> <span style=\"display: inline-block;\">tali</span> <span style=\"display: inline-block;\">commixtum</span> <span style=\"display: inline-block;\">captis</span> <span style=\"display: inline-block;\">mundus</span> <span style=\"display: inline-block;\">fabricaretur</span> <span style=\"display: inline-block;\">.</span></p>\n",
      "    <p><b style=\"text-decoration: line-through;;\">negative</b> -> <span style=\"display: inline-block;\">omnia</span> <span style=\"display: inline-block;\">versa</span> <span style=\"display: inline-block;\">atque</span> <span style=\"display: inline-block;\">ignota</span> <span style=\"display: inline-block;\">videt</span> <span style=\"display: inline-block;\">dubitatque</span> <span style=\"display: inline-block;\">-que</span> <span style=\"display: inline-block;\">agnoscere</span> <span style=\"display: inline-block;\">matrem</span> <span style=\"display: inline-block;\">.</span></p>\n",
      "    <p><b style=\"text-decoration: line-through;;\">negative</b> -> <span style=\"display: inline-block;\">ibi</span> <span style=\"display: inline-block;\">amare</span> <span style=\"display: inline-block;\">occepi</span> <span style=\"display: inline-block;\">forma</span> <span style=\"display: inline-block;\">eximia</span> <span style=\"display: inline-block;\">mulierem</span> <span style=\"display: inline-block;\">.</span></p>\n",
      "    <p><b style=\"text-decoration: line-through;;\">positive</b> -> <span style=\"display: inline-block;\">Quo</span> <span style=\"display: inline-block;\">facto</span> <span style=\"display: inline-block;\">maturatae</span> <span style=\"display: inline-block;\">spei</span> <span style=\"display: inline-block;\">vesania</span> <span style=\"display: inline-block;\">praeceps</span> <span style=\"display: inline-block;\">promissae</span> <span style=\"display: inline-block;\">libidinis</span> <span style=\"display: inline-block;\">flagitat</span> <span style=\"display: inline-block;\">vadimonium</span></p>\n",
      "    <p><b style=\"text-decoration: line-through;;\">negative</b> -> <span style=\"display: inline-block;\">de</span> <span style=\"display: inline-block;\">moribus</span> <span style=\"display: inline-block;\">autem</span> <span style=\"display: inline-block;\">uestris</span> <span style=\"display: inline-block;\">plene</span> <span style=\"display: inline-block;\">scire</span> <span style=\"display: inline-block;\">possunt</span> <span style=\"display: inline-block;\">,</span> <span style=\"display: inline-block;\">qui</span> <span style=\"display: inline-block;\">electi</span> <span style=\"display: inline-block;\">uestri</span> <span style=\"display: inline-block;\">sunt</span> <span style=\"display: inline-block;\">.</span></p>\n",
      "    <p><b style=\"text-decoration: line-through;;\">negative</b> -> <span style=\"display: inline-block;\">\"</span> <span style=\"display: inline-block;\">si</span> <span style=\"display: inline-block;\">\"</span> <span style=\"display: inline-block;\">pro</span> <span style=\"display: inline-block;\">siquidem</span> <span style=\"display: inline-block;\">,</span> <span style=\"display: inline-block;\">\"</span> <span style=\"display: inline-block;\">caue</span> <span style=\"display: inline-block;\">\"</span> <span style=\"display: inline-block;\">autem</span> <span style=\"display: inline-block;\">pro</span> <span style=\"display: inline-block;\">uide</span> <span style=\"display: inline-block;\">ne</span> <span style=\"display: inline-block;\">.</span></p>\n",
      "    <p><b style=\"text-decoration: line-through;;\">positive</b> -> <span style=\"display: inline-block;\">Praefocationem</span> <span style=\"display: inline-block;\">matricis</span> <span style=\"display: inline-block;\">sequitur</span> <span style=\"display: inline-block;\">subitus</span> <span style=\"display: inline-block;\">casus</span> <span style=\"display: inline-block;\">,</span> <span style=\"display: inline-block;\">uocis</span> <span style=\"display: inline-block;\">amputatio</span> <span style=\"display: inline-block;\">ut</span> <span style=\"display: inline-block;\">obmutescant</span> <span style=\"display: inline-block;\">,</span> <span style=\"display: inline-block;\">et</span> <span style=\"display: inline-block;\">apprehensio</span> <span style=\"display: inline-block;\">sensus</span> <span style=\"display: inline-block;\">,</span> <span style=\"display: inline-block;\">dentium</span> <span style=\"display: inline-block;\">confixio</span> <span style=\"display: inline-block;\">et</span> <span style=\"display: inline-block;\">stridor</span> <span style=\"display: inline-block;\">rapidus</span> <span style=\"display: inline-block;\">ita</span> <span style=\"display: inline-block;\">ut</span> <span style=\"display: inline-block;\">accessionis</span> <span style=\"display: inline-block;\">tempore</span> <span style=\"display: inline-block;\">una</span> <span style=\"display: inline-block;\">pars</span> <span style=\"display: inline-block;\">oris</span> <span style=\"display: inline-block;\">ad</span> <span style=\"display: inline-block;\">alteram</span> <span style=\"display: inline-block;\">partem</span> <span style=\"display: inline-block;\">conduci</span> <span style=\"display: inline-block;\">uideatur</span></p>\n",
      "    <p><b style=\"text-decoration: line-through;;\">negative</b> -> <span style=\"display: inline-block;\">errat</span> <span style=\"display: inline-block;\">,</span> <span style=\"display: inline-block;\">quisque</span> <span style=\"display: inline-block;\">animas</span> <span style=\"display: inline-block;\">nostrorum</span> <span style=\"display: inline-block;\">fine</span> <span style=\"display: inline-block;\">oculorum</span> <span style=\"display: inline-block;\">aestimat</span> <span style=\"display: inline-block;\">,</span> <span style=\"display: inline-block;\">involvit</span> <span style=\"display: inline-block;\">vitreo</span> <span style=\"display: inline-block;\">quos</span> <span style=\"display: inline-block;\">lucida</span> <span style=\"display: inline-block;\">palla</span> <span style=\"display: inline-block;\">obice</span> <span style=\"display: inline-block;\">,</span> <span style=\"display: inline-block;\">quis</span> <span style=\"display: inline-block;\">speculum</span> <span style=\"display: inline-block;\">concreta</span> <span style=\"display: inline-block;\">coagula</span> <span style=\"display: inline-block;\">texunt</span> <span style=\"display: inline-block;\">inpediuntque</span> <span style=\"display: inline-block;\">-que</span> <span style=\"display: inline-block;\">vagas</span> <span style=\"display: inline-block;\">obducto</span> <span style=\"display: inline-block;\">umore</span> <span style=\"display: inline-block;\">fenestras</span> <span style=\"display: inline-block;\">.</span></p>\n",
      "    <p><b style=\"text-decoration: line-through;;\">negative</b> -> <span style=\"display: inline-block;\">Sanguine</span> <span style=\"display: inline-block;\">probra</span> <span style=\"display: inline-block;\">luas</span> <span style=\"display: inline-block;\">,</span> <span style=\"display: inline-block;\">ut</span> <span style=\"display: inline-block;\">avo</span> <span style=\"display: inline-block;\">genitore</span> <span style=\"display: inline-block;\">creatus</span> <span style=\"display: inline-block;\">,</span> <span style=\"display: inline-block;\">Per</span> <span style=\"display: inline-block;\">facinus</span> <span style=\"display: inline-block;\">soror</span> <span style=\"display: inline-block;\">est</span> <span style=\"display: inline-block;\">cui</span> <span style=\"display: inline-block;\">sua</span> <span style=\"display: inline-block;\">facta</span> <span style=\"display: inline-block;\">parens</span> <span style=\"display: inline-block;\">.</span></p>\n",
      "    <p><b style=\"text-decoration: line-through;;\">positive</b> -> <span style=\"display: inline-block;\">arietem</span> <span style=\"display: inline-block;\">nobilem</span> <span style=\"display: inline-block;\">bene</span> <span style=\"display: inline-block;\">grandibus</span> <span style=\"display: inline-block;\">cum</span> <span style=\"display: inline-block;\">testiculis</span> <span style=\"display: inline-block;\">deligit</span> <span style=\"display: inline-block;\">,</span> <span style=\"display: inline-block;\">exsecat</span> <span style=\"display: inline-block;\">hos</span> <span style=\"display: inline-block;\">ipse</span> <span style=\"display: inline-block;\">et</span> <span style=\"display: inline-block;\">lanato</span> <span style=\"display: inline-block;\">exuit</span> <span style=\"display: inline-block;\">ex</span> <span style=\"display: inline-block;\">folliculi</span> <span style=\"display: inline-block;\">tegmine</span> <span style=\"display: inline-block;\">.</span></p>\n",
      "    <p><b style=\"text-decoration: line-through;;\">positive</b> -> <span style=\"display: inline-block;\">Tacta</span> <span style=\"display: inline-block;\">tamen</span> <span style=\"display: inline-block;\">veluti</span> <span style=\"display: inline-block;\">gelida</span> <span style=\"display: inline-block;\">mea</span> <span style=\"display: inline-block;\">membra</span> <span style=\"display: inline-block;\">cicuta</span></p>\n",
      "    <p><b style=\"text-decoration: line-through;;\">negative</b> -> <span style=\"display: inline-block;\">nam</span> <span style=\"display: inline-block;\">et</span> <span style=\"display: inline-block;\">crucifixus</span> <span style=\"display: inline-block;\">praeuento</span> <span style=\"display: inline-block;\">carnificis</span> <span style=\"display: inline-block;\">officio</span> <span style=\"display: inline-block;\">spiritum</span> <span style=\"display: inline-block;\">sponte</span> <span style=\"display: inline-block;\">dimisit</span> <span style=\"display: inline-block;\">et</span> <span style=\"display: inline-block;\">die</span> <span style=\"display: inline-block;\">tertio</span> <span style=\"display: inline-block;\">rursus</span> <span style=\"display: inline-block;\">a</span> <span style=\"display: inline-block;\">mortuis</span> <span style=\"display: inline-block;\">sponte</span> <span style=\"display: inline-block;\">surrexit</span> <span style=\"display: inline-block;\">.</span></p>\n",
      "    <p><b style=\"text-decoration: line-through;;\">negative</b> -> <span style=\"display: inline-block;\">GORD.</span> <span style=\"display: inline-block;\">A.</span> <span style=\"display: inline-block;\">VICIANO</span> <span style=\"display: inline-block;\">MIL.</span> <span style=\"display: inline-block;\">A</span> <span style=\"display: inline-block;\">239</span> <span style=\"display: inline-block;\">III</span> <span style=\"display: inline-block;\">ID.</span> <span style=\"display: inline-block;\">IAN.</span> <span style=\"display: inline-block;\">GORDIANO</span> <span style=\"display: inline-block;\">A.</span> <span style=\"display: inline-block;\">ET</span> <span style=\"display: inline-block;\">AVIOLA</span> <span style=\"display: inline-block;\">CONSS.</span> <span style=\"display: inline-block;\">Non</span> <span style=\"display: inline-block;\">hoc</span> <span style=\"display: inline-block;\">minus</span> <span style=\"display: inline-block;\">sententia</span> <span style=\"display: inline-block;\">adversus</span> <span style=\"display: inline-block;\">te</span> <span style=\"display: inline-block;\">lata</span> <span style=\"display: inline-block;\">iuris</span> <span style=\"display: inline-block;\">substiti</span> <span style=\"display: inline-block;\">,</span> <span style=\"display: inline-block;\">quod</span> <span style=\"display: inline-block;\">adversaria</span> <span style=\"display: inline-block;\">tua</span> <span style=\"display: inline-block;\">minor</span> <span style=\"display: inline-block;\">viginti</span> <span style=\"display: inline-block;\">quinque</span> <span style=\"display: inline-block;\">annis</span> <span style=\"display: inline-block;\">constituta</span> <span style=\"display: inline-block;\">causam</span> <span style=\"display: inline-block;\">suam</span> <span style=\"display: inline-block;\">marito</span> <span style=\"display: inline-block;\">sine</span> <span style=\"display: inline-block;\">curatore</span> <span style=\"display: inline-block;\">agendam</span> <span style=\"display: inline-block;\">mandavit</span> <span style=\"display: inline-block;\">.</span></p>\n",
      "    <p><b style=\"text-decoration: line-through;;\">positive</b> -> <span style=\"display: inline-block;\">:</span> <span style=\"display: inline-block;\">uno</span> <span style=\"display: inline-block;\">in</span> <span style=\"display: inline-block;\">Septimio</span> <span style=\"display: inline-block;\">fidelis</span> <span style=\"display: inline-block;\">Acme</span> <span style=\"display: inline-block;\">facit</span> <span style=\"display: inline-block;\">delicias</span> <span style=\"display: inline-block;\">libidinesque</span> <span style=\"display: inline-block;\">-que</span> <span style=\"display: inline-block;\">.</span></p>\n",
      "    <p><b style=\"text-decoration: line-through;;\">negative</b> -> <span style=\"display: inline-block;\">et</span> <span style=\"display: inline-block;\">timebunt</span> <span style=\"display: inline-block;\">fortes</span> <span style=\"display: inline-block;\">tui</span> <span style=\"display: inline-block;\">a</span> <span style=\"display: inline-block;\">meridie</span> <span style=\"display: inline-block;\">ut</span> <span style=\"display: inline-block;\">intereat</span> <span style=\"display: inline-block;\">vir</span> <span style=\"display: inline-block;\">de</span> <span style=\"display: inline-block;\">monte</span> <span style=\"display: inline-block;\">Esau</span></p>\n",
      "    <p><b style=\"text-decoration: line-through;;\">negative</b> -> <span style=\"display: inline-block;\">plus</span> <span style=\"display: inline-block;\">enim</span> <span style=\"display: inline-block;\">restituendo</span> <span style=\"display: inline-block;\">deerit</span> <span style=\"display: inline-block;\">ex</span> <span style=\"display: inline-block;\">eo</span> <span style=\"display: inline-block;\">,</span> <span style=\"display: inline-block;\">quod</span> <span style=\"display: inline-block;\">cupit</span> <span style=\"display: inline-block;\">,</span> <span style=\"display: inline-block;\">quam</span> <span style=\"display: inline-block;\">exsuli</span> <span style=\"display: inline-block;\">ex</span> <span style=\"display: inline-block;\">eo</span> <span style=\"display: inline-block;\">,</span> <span style=\"display: inline-block;\">quod</span> <span style=\"display: inline-block;\">habuit</span> <span style=\"display: inline-block;\">.</span></p>\n",
      "    <p><b style=\"text-decoration: line-through;;\">positive</b> -> <span style=\"display: inline-block;\">sin</span> <span style=\"display: inline-block;\">uero</span> <span style=\"display: inline-block;\">ad</span> <span style=\"display: inline-block;\">intestina</span> <span style=\"display: inline-block;\">eruptio</span> <span style=\"display: inline-block;\">peruenerit</span> <span style=\"display: inline-block;\">,</span> <span style=\"display: inline-block;\">quo</span> <span style=\"display: inline-block;\">per</span> <span style=\"display: inline-block;\">podicem</span> <span style=\"display: inline-block;\">exitum</span> <span style=\"display: inline-block;\">habeat</span> <span style=\"display: inline-block;\">,</span> <span style=\"display: inline-block;\">cum</span> <span style=\"display: inline-block;\">supradictis</span> <span style=\"display: inline-block;\">communiter</span> <span style=\"display: inline-block;\">erunt</span> <span style=\"display: inline-block;\">adhibenda</span> <span style=\"display: inline-block;\">,</span> <span style=\"display: inline-block;\">quae</span> <span style=\"display: inline-block;\">uentris</span> <span style=\"display: inline-block;\">officium</span> <span style=\"display: inline-block;\">non</span> <span style=\"display: inline-block;\">densent</span> <span style=\"display: inline-block;\">neque</span> <span style=\"display: inline-block;\">plurimum</span> <span style=\"display: inline-block;\">laxent</span> <span style=\"display: inline-block;\">.</span></p>\n",
      "    <p><b style=\"text-decoration: line-through;;\">negative</b> -> <span style=\"display: inline-block;\">Nec</span> <span style=\"display: inline-block;\">gladio</span> <span style=\"display: inline-block;\">metimus</span> <span style=\"display: inline-block;\">nec</span> <span style=\"display: inline-block;\">clausis</span> <span style=\"display: inline-block;\">oppida</span> <span style=\"display: inline-block;\">muris</span> <span style=\"display: inline-block;\">Bella</span> <span style=\"display: inline-block;\">tacenda</span> <span style=\"display: inline-block;\">parant</span> <span style=\"display: inline-block;\">,</span> <span style=\"display: inline-block;\">nullo</span> <span style=\"display: inline-block;\">iam</span> <span style=\"display: inline-block;\">noxia</span> <span style=\"display: inline-block;\">partu</span> <span style=\"display: inline-block;\">Femina</span> <span style=\"display: inline-block;\">quaecumque</span> <span style=\"display: inline-block;\">est</span> <span style=\"display: inline-block;\">hostem</span> <span style=\"display: inline-block;\">parit</span> <span style=\"display: inline-block;\">.</span></p>\n",
      "    <p><b style=\"text-decoration: line-through;;\">negative</b> -> <span style=\"display: inline-block;\">mandat</span> <span style=\"display: inline-block;\">ut</span> <span style=\"display: inline-block;\">Libonem</span> <span style=\"display: inline-block;\">de</span> <span style=\"display: inline-block;\">concilianda</span> <span style=\"display: inline-block;\">pace</span> <span style=\"display: inline-block;\">hortetur</span> <span style=\"display: inline-block;\">;</span></p>\n",
      "    <p><b style=\"text-decoration: line-through;;\">negative</b> -> <span style=\"display: inline-block;\">effluis</span> <span style=\"display: inline-block;\">amens</span> <span style=\"display: inline-block;\">,</span> <span style=\"display: inline-block;\">contemnere</span> <span style=\"display: inline-block;\">:</span> <span style=\"display: inline-block;\">sonat</span> <span style=\"display: inline-block;\">vitium</span> <span style=\"display: inline-block;\">percussa</span> <span style=\"display: inline-block;\">maligne</span> <span style=\"display: inline-block;\">respondet</span> <span style=\"display: inline-block;\">viridi</span> <span style=\"display: inline-block;\">non</span> <span style=\"display: inline-block;\">cocta</span> <span style=\"display: inline-block;\">fidelia</span> <span style=\"display: inline-block;\">limo</span> <span style=\"display: inline-block;\">.</span></p>\n",
      "    <p><b style=\"text-decoration: line-through;;\">negative</b> -> <span style=\"display: inline-block;\">At</span> <span style=\"display: inline-block;\">si</span> <span style=\"display: inline-block;\">uehementes</span> <span style=\"display: inline-block;\">fuerint</span> <span style=\"display: inline-block;\">dolores</span> <span style=\"display: inline-block;\">,</span> <span style=\"display: inline-block;\">erit</span> <span style=\"display: inline-block;\">adhibenda</span> <span style=\"display: inline-block;\">phlebotomia</span> <span style=\"display: inline-block;\">dimissionis</span> <span style=\"display: inline-block;\">tempore</span> <span style=\"display: inline-block;\">atque</span> <span style=\"display: inline-block;\">ante</span> <span style=\"display: inline-block;\">tertium</span> <span style=\"display: inline-block;\">diem</span> <span style=\"display: inline-block;\">,</span> <span style=\"display: inline-block;\">si</span> <span style=\"display: inline-block;\">passio</span> <span style=\"display: inline-block;\">coegerit</span> <span style=\"display: inline-block;\">,</span> <span style=\"display: inline-block;\">si</span> <span style=\"display: inline-block;\">minus</span> <span style=\"display: inline-block;\">,</span> <span style=\"display: inline-block;\">in</span> <span style=\"display: inline-block;\">ipsa</span> <span style=\"display: inline-block;\">diatrito</span> <span style=\"display: inline-block;\">aut</span> <span style=\"display: inline-block;\">post</span> <span style=\"display: inline-block;\">ipsam</span> <span style=\"display: inline-block;\">,</span> <span style=\"display: inline-block;\">uiribus</span> <span style=\"display: inline-block;\">permittentibus</span> <span style=\"display: inline-block;\">.</span></p>\n",
      "    <p><b style=\"text-decoration: line-through;;\">negative</b> -> <span style=\"display: inline-block;\">Quis</span> <span style=\"display: inline-block;\">est</span> <span style=\"display: inline-block;\">iste</span> <span style=\"display: inline-block;\">qui</span> <span style=\"display: inline-block;\">supra</span> <span style=\"display: inline-block;\">flentem</span> <span style=\"display: inline-block;\">patrem</span> <span style=\"display: inline-block;\">censuram</span> <span style=\"display: inline-block;\">lugendi</span> <span style=\"display: inline-block;\">postulat</span> <span style=\"display: inline-block;\">?</span></p>\n",
      "    <p><b style=\"text-decoration: line-through;;\">negative</b> -> <span style=\"display: inline-block;\">Est</span> <span style=\"display: inline-block;\">locus</span> <span style=\"display: inline-block;\">tertio</span> <span style=\"display: inline-block;\">miliario</span> <span style=\"display: inline-block;\">de</span> <span style=\"display: inline-block;\">Hierusalem</span> <span style=\"display: inline-block;\">ciuitate</span> <span style=\"display: inline-block;\">.</span></p>\n",
      "    <p><b style=\"text-decoration: line-through;;\">negative</b> -> <span style=\"display: inline-block;\">Aeneadum</span> <span style=\"display: inline-block;\">genetrix</span> <span style=\"display: inline-block;\">vicino</span> <span style=\"display: inline-block;\">nomen</span> <span style=\"display: inline-block;\">Aprili</span> <span style=\"display: inline-block;\">das</span> <span style=\"display: inline-block;\">Venus</span> <span style=\"display: inline-block;\">:</span> <span style=\"display: inline-block;\">est</span> <span style=\"display: inline-block;\">Marti</span> <span style=\"display: inline-block;\">namque</span> <span style=\"display: inline-block;\">Aphrodita</span> <span style=\"display: inline-block;\">comes</span> <span style=\"display: inline-block;\">.</span></p>\n",
      "    <p><b style=\"text-decoration: line-through;;\">negative</b> -> <span style=\"display: inline-block;\">aut</span> <span style=\"display: inline-block;\">si</span> <span style=\"display: inline-block;\">meretrix</span> <span style=\"display: inline-block;\">non</span> <span style=\"display: inline-block;\">inueniatur</span> <span style=\"display: inline-block;\">in</span> <span style=\"display: inline-block;\">fornice</span> <span style=\"display: inline-block;\">,</span> <span style=\"display: inline-block;\">ideo</span> <span style=\"display: inline-block;\">qui</span> <span style=\"display: inline-block;\">eam</span> <span style=\"display: inline-block;\">quaerit</span> <span style=\"display: inline-block;\">,</span> <span style=\"display: inline-block;\">non</span> <span style=\"display: inline-block;\">fornicatur</span> <span style=\"display: inline-block;\">in</span> <span style=\"display: inline-block;\">mente</span> <span style=\"display: inline-block;\">?</span></p>\n",
      "    <p><b style=\"text-decoration: line-through;;\">negative</b> -> <span style=\"display: inline-block;\">Lupus</span> <span style=\"display: inline-block;\">numquam</span> <span style=\"display: inline-block;\">osculatur</span> <span style=\"display: inline-block;\">agnum</span> <span style=\"display: inline-block;\">.</span></p>\n",
      "    <p><b style=\"text-decoration: line-through;;\">negative</b> -> <span style=\"display: inline-block;\">Cleostrata</span> <span style=\"display: inline-block;\">Hoc</span> <span style=\"display: inline-block;\">erat</span> <span style=\"display: inline-block;\">ecastor</span> <span style=\"display: inline-block;\">quod</span> <span style=\"display: inline-block;\">me</span> <span style=\"display: inline-block;\">vir</span> <span style=\"display: inline-block;\">tanto</span> <span style=\"display: inline-block;\">opere</span> <span style=\"display: inline-block;\">orabat</span> <span style=\"display: inline-block;\">meus</span> <span style=\"display: inline-block;\">,</span> <span style=\"display: inline-block;\">ut</span> <span style=\"display: inline-block;\">properarem</span> <span style=\"display: inline-block;\">arcessere</span> <span style=\"display: inline-block;\">hanc</span> <span style=\"display: inline-block;\">huc</span> <span style=\"display: inline-block;\">ad</span> <span style=\"display: inline-block;\">me</span> <span style=\"display: inline-block;\">vicinam</span> <span style=\"display: inline-block;\">meam</span> <span style=\"display: inline-block;\">,</span> <span style=\"display: inline-block;\">liberae</span> <span style=\"display: inline-block;\">aedes</span> <span style=\"display: inline-block;\">ut</span> <span style=\"display: inline-block;\">sibi</span> <span style=\"display: inline-block;\">essent</span> <span style=\"display: inline-block;\">,</span> <span style=\"display: inline-block;\">Casinam</span> <span style=\"display: inline-block;\">quo</span> <span style=\"display: inline-block;\">deducerent</span> <span style=\"display: inline-block;\">.</span></p>\n",
      "    <p><b style=\"text-decoration: line-through;;\">negative</b> -> <span style=\"display: inline-block;\">Tandem</span> <span style=\"display: inline-block;\">adiit</span> <span style=\"display: inline-block;\">Hypseus</span> <span style=\"display: inline-block;\">capulumque</span> <span style=\"display: inline-block;\">-que</span> <span style=\"display: inline-block;\">in</span> <span style=\"display: inline-block;\">morte</span> <span style=\"display: inline-block;\">tenenti</span> <span style=\"display: inline-block;\">extrahit</span> <span style=\"display: inline-block;\">et</span> <span style=\"display: inline-block;\">torvos</span> <span style=\"display: inline-block;\">laxavit</span> <span style=\"display: inline-block;\">casside</span> <span style=\"display: inline-block;\">vultus</span> <span style=\"display: inline-block;\">;</span></p>\n",
      "    <p><b style=\"text-decoration: line-through;;\">negative</b> -> <span style=\"display: inline-block;\">ubi</span> <span style=\"display: inline-block;\">postquam</span> <span style=\"display: inline-block;\">solitudinem</span> <span style=\"display: inline-block;\">intellexit</span> <span style=\"display: inline-block;\">,</span> <span style=\"display: inline-block;\">more</span> <span style=\"display: inline-block;\">ingeni</span> <span style=\"display: inline-block;\">humani</span> <span style=\"display: inline-block;\">cupido</span> <span style=\"display: inline-block;\">difficilia</span> <span style=\"display: inline-block;\">faciendi</span> <span style=\"display: inline-block;\">animum</span> <span style=\"display: inline-block;\">alio</span> <span style=\"display: inline-block;\">vertit</span> <span style=\"display: inline-block;\">.</span></p>\n",
      "    <p><b style=\"text-decoration: line-through;;\">negative</b> -> <span style=\"display: inline-block;\">\"</span> <span style=\"display: inline-block;\">parva</span> <span style=\"display: inline-block;\">sunt</span> <span style=\"display: inline-block;\">\"</span> <span style=\"display: inline-block;\">inquit</span> <span style=\"display: inline-block;\">\"</span> <span style=\"display: inline-block;\">mala</span> <span style=\"display: inline-block;\">et</span> <span style=\"display: inline-block;\">vile</span> <span style=\"display: inline-block;\">telum</span> <span style=\"display: inline-block;\">est</span> <span style=\"display: inline-block;\">.</span></p>\n",
      "    <p><b style=\"text-decoration: line-through;;\">negative</b> -> <span style=\"display: inline-block;\">clarum</span> <span style=\"display: inline-block;\">hac</span> <span style=\"display: inline-block;\">fore</span> <span style=\"display: inline-block;\">imagine</span> <span style=\"display: inline-block;\">Scaptium</span> <span style=\"display: inline-block;\">;</span></p>\n",
      "    <p><b style=\"text-decoration: line-through;;\">negative</b> -> <span style=\"display: inline-block;\">dam</span> <span style=\"display: inline-block;\">,</span> <span style=\"display: inline-block;\">quae</span> <span style=\"display: inline-block;\">se</span> <span style=\"display: inline-block;\">Alanis</span> <span style=\"display: inline-block;\">adiunxerant</span> <span style=\"display: inline-block;\">.</span></p>\n",
      "    <p><b style=\"text-decoration: line-through;;\">negative</b> -> <span style=\"display: inline-block;\">Licinius</span> <span style=\"display: inline-block;\">et</span> <span style=\"display: inline-block;\">Valens</span> <span style=\"display: inline-block;\">credentes</span> <span style=\"display: inline-block;\">Constantinum</span> <span style=\"display: inline-block;\">,</span> <span style=\"display: inline-block;\">quod</span> <span style=\"display: inline-block;\">et</span> <span style=\"display: inline-block;\">verum</span> <span style=\"display: inline-block;\">erat</span> <span style=\"display: inline-block;\">,</span> <span style=\"display: inline-block;\">ad</span> <span style=\"display: inline-block;\">persequendum</span> <span style=\"display: inline-block;\">longius</span> <span style=\"display: inline-block;\">ad</span> <span style=\"display: inline-block;\">Byzantium</span> <span style=\"display: inline-block;\">processurum</span> <span style=\"display: inline-block;\">,</span> <span style=\"display: inline-block;\">flexi</span> <span style=\"display: inline-block;\">in</span> <span style=\"display: inline-block;\">partem</span> <span style=\"display: inline-block;\">Beroeam</span> <span style=\"display: inline-block;\">concesserunt</span> <span style=\"display: inline-block;\">.</span></p>\n",
      "    <p><b style=\"text-decoration: line-through;;\">negative</b> -> <span style=\"display: inline-block;\">Cum</span> <span style=\"display: inline-block;\">autem</span> <span style=\"display: inline-block;\">omnia</span> <span style=\"display: inline-block;\">officia</span> <span style=\"display: inline-block;\">a</span> <span style=\"display: inline-block;\">principiis</span> <span style=\"display: inline-block;\">naturae</span> <span style=\"display: inline-block;\">proficiscantur</span> <span style=\"display: inline-block;\">,</span> <span style=\"display: inline-block;\">ab</span> <span style=\"display: inline-block;\">isdem</span> <span style=\"display: inline-block;\">necesse</span> <span style=\"display: inline-block;\">est</span> <span style=\"display: inline-block;\">proficisci</span> <span style=\"display: inline-block;\">ipsam</span> <span style=\"display: inline-block;\">sapientiam</span> <span style=\"display: inline-block;\">.</span></p>\n",
      "    <p><b style=\"text-decoration: line-through;;\">positive</b> -> <span style=\"display: inline-block;\">Masturbabantur</span> <span style=\"display: inline-block;\">Phrygii</span> <span style=\"display: inline-block;\">post</span> <span style=\"display: inline-block;\">ostia</span> <span style=\"display: inline-block;\">servi</span></p>\n",
      "</div>\n"
     ]
    }
   ],
   "source": [
    "from IPython.core.display import display as _display, HTML  as _HTML\n",
    "data.iloc[0]\n",
    "\n",
    "COLORS = [Color(\"white\")] + list(Color(\"yellow\").range_to(Color(\"red\"),9))\n",
    "\n",
    "def visualize(sentence, attention, tag=\"p\", colors=None, display=True, label=None, is_right: bool = False,\n",
    "             show_score: bool = False):\n",
    "    if not colors:\n",
    "        colors = COLORS\n",
    "\n",
    "    html = f\"<{tag}>\"\n",
    "    if label:\n",
    "        html += f\"<b style=\\\"{'text-decoration: line-through;' if not is_right else ''};\\\">{label}</b> -> \"\n",
    "    if show_score:\n",
    "        html += f\"<i>{max(attention):.2f}</i> -> \"\n",
    "    \n",
    "    if attention :\n",
    "        spans = [\n",
    "            f\"<span style=\\\"background-color: {colors[max(0, round(s*10) - 1)]}; display: inline-block;\\\">{w}</span>\"\n",
    "            for w, s in zip(sentence.split(\" \"), attention)\n",
    "        ]\n",
    "    else:\n",
    "        spans = [\n",
    "            f\"<span style=\\\"display: inline-block;\\\">{w}</span>\"\n",
    "            for w in sentence.split(\" \")\n",
    "        ]\n",
    "        \n",
    "    html += \" \".join(spans) + f\"</{tag}>\"\n",
    "\n",
    "    if display:\n",
    "        _display(_HTML(html))\n",
    "    return html\n",
    "\n",
    "html = \"<div>\"\n",
    "for idx, row in data.iterrows():\n",
    "    if dont_show_ok and row[\"ok\"] == True:\n",
    "        continue\n",
    "    html += \"    %s\\n\" % visualize(row[\"sentence\"], row.get(\"attention\") if has_attention else None, label=row[\"label\"], is_right=row[\"ok\"])\n",
    "html += \"</div>\"\n",
    "print(html)"
   ]
  }
 ],
 "metadata": {
  "kernelspec": {
   "display_name": "Python 3",
   "language": "python",
   "name": "python3"
  },
  "language_info": {
   "codemirror_mode": {
    "name": "ipython",
    "version": 3
   },
   "file_extension": ".py",
   "mimetype": "text/x-python",
   "name": "python",
   "nbconvert_exporter": "python",
   "pygments_lexer": "ipython3",
   "version": "3.8.10"
  },
  "toc": {
   "base_numbering": 1,
   "nav_menu": {},
   "number_sections": true,
   "sideBar": true,
   "skip_h1_title": false,
   "title_cell": "Table of Contents",
   "title_sidebar": "Contents",
   "toc_cell": false,
   "toc_position": {},
   "toc_section_display": true,
   "toc_window_display": false
  }
 },
 "nbformat": 4,
 "nbformat_minor": 5
}
