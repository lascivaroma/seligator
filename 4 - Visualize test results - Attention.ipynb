{
 "cells": [
  {
   "cell_type": "code",
   "execution_count": 18,
   "id": "4ab44007",
   "metadata": {},
   "outputs": [],
   "source": [
    "import pandas\n",
    "import numpy as np\n",
    "from colour import Color\n",
    "\n",
    "has_attention = True\n",
    "dont_show_ok = True\n",
    "data = pandas.read_csv(\"test0.best.csv\")\n",
    "# print(data.head)\n",
    "data[\"attention\"] = data[\"attention\"].apply(lambda x: np.array(eval(x)))\n",
    "data[\"ok\"] = data[\"prediction\"] == data[\"label\"]\n"
   ]
  },
  {
   "cell_type": "code",
   "execution_count": 19,
   "id": "87a893f9",
   "metadata": {},
   "outputs": [
    {
     "data": {
      "text/html": [
       "<div>\n",
       "<style scoped>\n",
       "    .dataframe tbody tr th:only-of-type {\n",
       "        vertical-align: middle;\n",
       "    }\n",
       "\n",
       "    .dataframe tbody tr th {\n",
       "        vertical-align: top;\n",
       "    }\n",
       "\n",
       "    .dataframe thead th {\n",
       "        text-align: right;\n",
       "    }\n",
       "</style>\n",
       "<table border=\"1\" class=\"dataframe\">\n",
       "  <thead>\n",
       "    <tr style=\"text-align: right;\">\n",
       "      <th></th>\n",
       "      <th>sentence</th>\n",
       "      <th>label</th>\n",
       "      <th>prediction</th>\n",
       "      <th>ok</th>\n",
       "      <th>bert_projection</th>\n",
       "      <th>attention</th>\n",
       "      <th>doc-vectors</th>\n",
       "      <th>score-negative</th>\n",
       "      <th>score-positive</th>\n",
       "      <th>token_subword</th>\n",
       "      <th>urn</th>\n",
       "      <th>fp</th>\n",
       "      <th>score-prediction</th>\n",
       "      <th>probs</th>\n",
       "    </tr>\n",
       "  </thead>\n",
       "  <tbody>\n",
       "    <tr>\n",
       "      <th>0</th>\n",
       "      <td>Videns eos Athenagora utrosque in amplexu cum ...</td>\n",
       "      <td>negative</td>\n",
       "      <td>negative</td>\n",
       "      <td>True</td>\n",
       "      <td>NaN</td>\n",
       "      <td>[0.006909254472702742, 0.006201545242220163, 0...</td>\n",
       "      <td>[0.27551907300949097, -0.4314749240875244, -0....</td>\n",
       "      <td>0.928650</td>\n",
       "      <td>0.071350</td>\n",
       "      <td>[CLS] videns_ eos_ athen agor a_ utro sque_ in...</td>\n",
       "      <td>urn:cts:latinLit:stoa0323.stoa001.digilibLT-lat1</td>\n",
       "      <td>./dataset/negative-examples/latinLit_stoa0323....</td>\n",
       "      <td>0.928650</td>\n",
       "      <td>[0.9286502  0.07134982]</td>\n",
       "    </tr>\n",
       "    <tr>\n",
       "      <th>1</th>\n",
       "      <td>post hunc autem ascendit Nabuchodonosor rex Ba...</td>\n",
       "      <td>negative</td>\n",
       "      <td>negative</td>\n",
       "      <td>True</td>\n",
       "      <td>NaN</td>\n",
       "      <td>[0.01796604134142399, 0.014929000288248062, 0....</td>\n",
       "      <td>[0.7306641340255737, -0.17974154651165009, -0....</td>\n",
       "      <td>0.998411</td>\n",
       "      <td>0.001589</td>\n",
       "      <td>[CLS] post_ hunc_ autem_ ascendit_ nabuchodono...</td>\n",
       "      <td>urn:cts:greekLit:tlg0527.tlg017.obi-lat1</td>\n",
       "      <td>./dataset/negative-examples/greekLit_tlg0527.t...</td>\n",
       "      <td>0.998411</td>\n",
       "      <td>[0.9984112  0.00158881]</td>\n",
       "    </tr>\n",
       "    <tr>\n",
       "      <th>2</th>\n",
       "      <td>Ipse in primis absque peccato hominem fecit , ...</td>\n",
       "      <td>negative</td>\n",
       "      <td>negative</td>\n",
       "      <td>True</td>\n",
       "      <td>NaN</td>\n",
       "      <td>[0.01138648483902216, 0.01280389353632927, 0.0...</td>\n",
       "      <td>[0.6239117980003357, -0.0869000107049942, -0.7...</td>\n",
       "      <td>0.996760</td>\n",
       "      <td>0.003240</td>\n",
       "      <td>[CLS] ipse_ in_ primis_ absque_ peccato_ homin...</td>\n",
       "      <td>urn:cts:latinLit:stoa0121g.stoa005.opp-lat1</td>\n",
       "      <td>./dataset/negative-examples/latinLit_stoa0121g...</td>\n",
       "      <td>0.996760</td>\n",
       "      <td>[0.9967601  0.00323992]</td>\n",
       "    </tr>\n",
       "    <tr>\n",
       "      <th>3</th>\n",
       "      <td>munus ecce fictile inimus intra regiam salutis .</td>\n",
       "      <td>negative</td>\n",
       "      <td>negative</td>\n",
       "      <td>True</td>\n",
       "      <td>NaN</td>\n",
       "      <td>[0.04482552036643028, 0.026790864765644073, 0....</td>\n",
       "      <td>[0.08615805208683014, -0.24661311507225037, -0...</td>\n",
       "      <td>0.990516</td>\n",
       "      <td>0.009484</td>\n",
       "      <td>[CLS] munus_ ecce_ ficti le_ inim us_ intra_ r...</td>\n",
       "      <td>urn:cts:latinLit:stoa0238.stoa009.perseus-lat2</td>\n",
       "      <td>./dataset/negative-examples/latinLit_stoa0238....</td>\n",
       "      <td>0.990516</td>\n",
       "      <td>[0.990516   0.00948396]</td>\n",
       "    </tr>\n",
       "    <tr>\n",
       "      <th>4</th>\n",
       "      <td>Non pol mihi quidem ;</td>\n",
       "      <td>negative</td>\n",
       "      <td>negative</td>\n",
       "      <td>True</td>\n",
       "      <td>NaN</td>\n",
       "      <td>[0.13044895231723785, 0.06353741139173508, 0.2...</td>\n",
       "      <td>[0.19873300194740295, 0.023621028289198875, -0...</td>\n",
       "      <td>0.903034</td>\n",
       "      <td>0.096966</td>\n",
       "      <td>[CLS] non_ pol_ mihi_ quidem_ [SEP]</td>\n",
       "      <td>urn:cts:latinLit:phi0119.phi020.perseus-lat2</td>\n",
       "      <td>./dataset/negative-examples/latinLit_phi0119.p...</td>\n",
       "      <td>0.903034</td>\n",
       "      <td>[0.9030338  0.09696619]</td>\n",
       "    </tr>\n",
       "    <tr>\n",
       "      <th>...</th>\n",
       "      <td>...</td>\n",
       "      <td>...</td>\n",
       "      <td>...</td>\n",
       "      <td>...</td>\n",
       "      <td>...</td>\n",
       "      <td>...</td>\n",
       "      <td>...</td>\n",
       "      <td>...</td>\n",
       "      <td>...</td>\n",
       "      <td>...</td>\n",
       "      <td>...</td>\n",
       "      <td>...</td>\n",
       "      <td>...</td>\n",
       "      <td>...</td>\n",
       "    </tr>\n",
       "    <tr>\n",
       "      <th>2737</th>\n",
       "      <td>certe ex utero sanctitatem custodisse et infan...</td>\n",
       "      <td>negative</td>\n",
       "      <td>negative</td>\n",
       "      <td>True</td>\n",
       "      <td>NaN</td>\n",
       "      <td>[0.00540215615183115, 0.011581731960177422, 0....</td>\n",
       "      <td>[0.23966342210769653, -0.1174972802400589, -0....</td>\n",
       "      <td>0.989645</td>\n",
       "      <td>0.010355</td>\n",
       "      <td>[CLS] certe_ ex_ utero_ sanctitatem_ custodi s...</td>\n",
       "      <td>urn:cts:latinLit:stoa0104p.stoa005.opp-lat1</td>\n",
       "      <td>./dataset/negative-examples/latinLit_stoa0104p...</td>\n",
       "      <td>0.989645</td>\n",
       "      <td>[0.9896449  0.01035509]</td>\n",
       "    </tr>\n",
       "    <tr>\n",
       "      <th>2738</th>\n",
       "      <td>Cum mora non tuta est , totis incumbere remis ...</td>\n",
       "      <td>positive</td>\n",
       "      <td>negative</td>\n",
       "      <td>False</td>\n",
       "      <td>NaN</td>\n",
       "      <td>[0.01787783019244671, 0.030204765498638153, 0....</td>\n",
       "      <td>[-0.049520790576934814, -0.3514571189880371, -...</td>\n",
       "      <td>0.981141</td>\n",
       "      <td>0.018859</td>\n",
       "      <td>[CLS] cum_ mora_ non_ tuta_ est_ ,_ totis_ inc...</td>\n",
       "      <td>urn:cts:latinLit:phi0959.phi004.perseus-lat2</td>\n",
       "      <td>/home/thibault/dev/these-corpus/data/1386.xml</td>\n",
       "      <td>0.981141</td>\n",
       "      <td>[0.981141   0.01885901]</td>\n",
       "    </tr>\n",
       "    <tr>\n",
       "      <th>2739</th>\n",
       "      <td>nihil requirit nisi dei gratiam , solum illud ...</td>\n",
       "      <td>negative</td>\n",
       "      <td>negative</td>\n",
       "      <td>True</td>\n",
       "      <td>NaN</td>\n",
       "      <td>[0.02220521867275238, 0.02586475946009159, 0.0...</td>\n",
       "      <td>[0.6747543811798096, -0.006729818414896727, -0...</td>\n",
       "      <td>0.999557</td>\n",
       "      <td>0.000443</td>\n",
       "      <td>[CLS] nihil_ requirit_ nisi_ dei_ gratiam_ ,_ ...</td>\n",
       "      <td>urn:cts:latinLit:stoa0022.stoa034.opp-lat1</td>\n",
       "      <td>./dataset/negative-examples/latinLit_stoa0022....</td>\n",
       "      <td>0.999557</td>\n",
       "      <td>[9.995567e-01 4.432459e-04]</td>\n",
       "    </tr>\n",
       "    <tr>\n",
       "      <th>2740</th>\n",
       "      <td>non arbitror te velle similem esse Epicureorum...</td>\n",
       "      <td>negative</td>\n",
       "      <td>negative</td>\n",
       "      <td>True</td>\n",
       "      <td>NaN</td>\n",
       "      <td>[0.005178079474717379, 0.003804730949923396, 0...</td>\n",
       "      <td>[0.33246707916259766, -0.19699843227863312, -0...</td>\n",
       "      <td>0.977771</td>\n",
       "      <td>0.022229</td>\n",
       "      <td>[CLS] non_ arbitror_ te_ velle_ similem_ esse_...</td>\n",
       "      <td>urn:cts:latinLit:phi0474.phi050.perseus-lat1</td>\n",
       "      <td>./dataset/negative-examples/latinLit_phi0474.p...</td>\n",
       "      <td>0.977771</td>\n",
       "      <td>[0.9777706  0.02222938]</td>\n",
       "    </tr>\n",
       "    <tr>\n",
       "      <th>2741</th>\n",
       "      <td>Coenobium ex Graeco et Latino videtur esse con...</td>\n",
       "      <td>negative</td>\n",
       "      <td>negative</td>\n",
       "      <td>True</td>\n",
       "      <td>NaN</td>\n",
       "      <td>[0.04154180362820625, 0.09587197750806808, 0.0...</td>\n",
       "      <td>[0.2883322834968567, -0.18915778398513794, -0....</td>\n",
       "      <td>0.996995</td>\n",
       "      <td>0.003005</td>\n",
       "      <td>[CLS] coeno bium_ ex_ graeco_ et_ latino_ vide...</td>\n",
       "      <td>urn:cts:latinLit:stoa0159.stoa004.thayer-lat1</td>\n",
       "      <td>./dataset/negative-examples/latinLit_stoa0159....</td>\n",
       "      <td>0.996995</td>\n",
       "      <td>[0.9969951  0.00300488]</td>\n",
       "    </tr>\n",
       "  </tbody>\n",
       "</table>\n",
       "<p>2742 rows × 14 columns</p>\n",
       "</div>"
      ],
      "text/plain": [
       "                                               sentence     label prediction  \\\n",
       "0     Videns eos Athenagora utrosque in amplexu cum ...  negative   negative   \n",
       "1     post hunc autem ascendit Nabuchodonosor rex Ba...  negative   negative   \n",
       "2     Ipse in primis absque peccato hominem fecit , ...  negative   negative   \n",
       "3      munus ecce fictile inimus intra regiam salutis .  negative   negative   \n",
       "4                                 Non pol mihi quidem ;  negative   negative   \n",
       "...                                                 ...       ...        ...   \n",
       "2737  certe ex utero sanctitatem custodisse et infan...  negative   negative   \n",
       "2738  Cum mora non tuta est , totis incumbere remis ...  positive   negative   \n",
       "2739  nihil requirit nisi dei gratiam , solum illud ...  negative   negative   \n",
       "2740  non arbitror te velle similem esse Epicureorum...  negative   negative   \n",
       "2741  Coenobium ex Graeco et Latino videtur esse con...  negative   negative   \n",
       "\n",
       "         ok  bert_projection  \\\n",
       "0      True              NaN   \n",
       "1      True              NaN   \n",
       "2      True              NaN   \n",
       "3      True              NaN   \n",
       "4      True              NaN   \n",
       "...     ...              ...   \n",
       "2737   True              NaN   \n",
       "2738  False              NaN   \n",
       "2739   True              NaN   \n",
       "2740   True              NaN   \n",
       "2741   True              NaN   \n",
       "\n",
       "                                              attention  \\\n",
       "0     [0.006909254472702742, 0.006201545242220163, 0...   \n",
       "1     [0.01796604134142399, 0.014929000288248062, 0....   \n",
       "2     [0.01138648483902216, 0.01280389353632927, 0.0...   \n",
       "3     [0.04482552036643028, 0.026790864765644073, 0....   \n",
       "4     [0.13044895231723785, 0.06353741139173508, 0.2...   \n",
       "...                                                 ...   \n",
       "2737  [0.00540215615183115, 0.011581731960177422, 0....   \n",
       "2738  [0.01787783019244671, 0.030204765498638153, 0....   \n",
       "2739  [0.02220521867275238, 0.02586475946009159, 0.0...   \n",
       "2740  [0.005178079474717379, 0.003804730949923396, 0...   \n",
       "2741  [0.04154180362820625, 0.09587197750806808, 0.0...   \n",
       "\n",
       "                                            doc-vectors  score-negative  \\\n",
       "0     [0.27551907300949097, -0.4314749240875244, -0....        0.928650   \n",
       "1     [0.7306641340255737, -0.17974154651165009, -0....        0.998411   \n",
       "2     [0.6239117980003357, -0.0869000107049942, -0.7...        0.996760   \n",
       "3     [0.08615805208683014, -0.24661311507225037, -0...        0.990516   \n",
       "4     [0.19873300194740295, 0.023621028289198875, -0...        0.903034   \n",
       "...                                                 ...             ...   \n",
       "2737  [0.23966342210769653, -0.1174972802400589, -0....        0.989645   \n",
       "2738  [-0.049520790576934814, -0.3514571189880371, -...        0.981141   \n",
       "2739  [0.6747543811798096, -0.006729818414896727, -0...        0.999557   \n",
       "2740  [0.33246707916259766, -0.19699843227863312, -0...        0.977771   \n",
       "2741  [0.2883322834968567, -0.18915778398513794, -0....        0.996995   \n",
       "\n",
       "      score-positive                                      token_subword  \\\n",
       "0           0.071350  [CLS] videns_ eos_ athen agor a_ utro sque_ in...   \n",
       "1           0.001589  [CLS] post_ hunc_ autem_ ascendit_ nabuchodono...   \n",
       "2           0.003240  [CLS] ipse_ in_ primis_ absque_ peccato_ homin...   \n",
       "3           0.009484  [CLS] munus_ ecce_ ficti le_ inim us_ intra_ r...   \n",
       "4           0.096966                [CLS] non_ pol_ mihi_ quidem_ [SEP]   \n",
       "...              ...                                                ...   \n",
       "2737        0.010355  [CLS] certe_ ex_ utero_ sanctitatem_ custodi s...   \n",
       "2738        0.018859  [CLS] cum_ mora_ non_ tuta_ est_ ,_ totis_ inc...   \n",
       "2739        0.000443  [CLS] nihil_ requirit_ nisi_ dei_ gratiam_ ,_ ...   \n",
       "2740        0.022229  [CLS] non_ arbitror_ te_ velle_ similem_ esse_...   \n",
       "2741        0.003005  [CLS] coeno bium_ ex_ graeco_ et_ latino_ vide...   \n",
       "\n",
       "                                                   urn  \\\n",
       "0     urn:cts:latinLit:stoa0323.stoa001.digilibLT-lat1   \n",
       "1             urn:cts:greekLit:tlg0527.tlg017.obi-lat1   \n",
       "2          urn:cts:latinLit:stoa0121g.stoa005.opp-lat1   \n",
       "3       urn:cts:latinLit:stoa0238.stoa009.perseus-lat2   \n",
       "4         urn:cts:latinLit:phi0119.phi020.perseus-lat2   \n",
       "...                                                ...   \n",
       "2737       urn:cts:latinLit:stoa0104p.stoa005.opp-lat1   \n",
       "2738      urn:cts:latinLit:phi0959.phi004.perseus-lat2   \n",
       "2739        urn:cts:latinLit:stoa0022.stoa034.opp-lat1   \n",
       "2740      urn:cts:latinLit:phi0474.phi050.perseus-lat1   \n",
       "2741     urn:cts:latinLit:stoa0159.stoa004.thayer-lat1   \n",
       "\n",
       "                                                     fp  score-prediction  \\\n",
       "0     ./dataset/negative-examples/latinLit_stoa0323....          0.928650   \n",
       "1     ./dataset/negative-examples/greekLit_tlg0527.t...          0.998411   \n",
       "2     ./dataset/negative-examples/latinLit_stoa0121g...          0.996760   \n",
       "3     ./dataset/negative-examples/latinLit_stoa0238....          0.990516   \n",
       "4     ./dataset/negative-examples/latinLit_phi0119.p...          0.903034   \n",
       "...                                                 ...               ...   \n",
       "2737  ./dataset/negative-examples/latinLit_stoa0104p...          0.989645   \n",
       "2738      /home/thibault/dev/these-corpus/data/1386.xml          0.981141   \n",
       "2739  ./dataset/negative-examples/latinLit_stoa0022....          0.999557   \n",
       "2740  ./dataset/negative-examples/latinLit_phi0474.p...          0.977771   \n",
       "2741  ./dataset/negative-examples/latinLit_stoa0159....          0.996995   \n",
       "\n",
       "                            probs  \n",
       "0         [0.9286502  0.07134982]  \n",
       "1         [0.9984112  0.00158881]  \n",
       "2         [0.9967601  0.00323992]  \n",
       "3         [0.990516   0.00948396]  \n",
       "4         [0.9030338  0.09696619]  \n",
       "...                           ...  \n",
       "2737      [0.9896449  0.01035509]  \n",
       "2738      [0.981141   0.01885901]  \n",
       "2739  [9.995567e-01 4.432459e-04]  \n",
       "2740      [0.9777706  0.02222938]  \n",
       "2741      [0.9969951  0.00300488]  \n",
       "\n",
       "[2742 rows x 14 columns]"
      ]
     },
     "execution_count": 19,
     "metadata": {},
     "output_type": "execute_result"
    }
   ],
   "source": [
    "\n",
    "data"
   ]
  },
  {
   "cell_type": "code",
   "execution_count": 21,
   "id": "13bf3ce6",
   "metadata": {
    "scrolled": false
   },
   "outputs": [
    {
     "data": {
      "text/html": [
       "<p><b style=\"text-decoration: line-through;;\">positive</b> -> <span style=\"background-color: white; display: inline-block;\">[CLS]</span> <span style=\"background-color: white; display: inline-block;\">manu_</span> <span style=\"background-color: white; display: inline-block;\">percussus_</span> <span style=\"background-color: white; display: inline-block;\">crudeli</span> <span style=\"background-color: white; display: inline-block;\">_</span> <span style=\"background-color: white; display: inline-block;\">morte_</span> <span style=\"background-color: white; display: inline-block;\">punitu</span> <span style=\"background-color: white; display: inline-block;\">s_</span> <span style=\"background-color: white; display: inline-block;\">est_</span> <span style=\"background-color: white; display: inline-block;\">:_</span> <span style=\"background-color: white; display: inline-block;\">quid_</span> <span style=\"background-color: white; display: inline-block;\">de_</span> <span style=\"background-color: white; display: inline-block;\">te_</span> <span style=\"background-color: white; display: inline-block;\">arbitra</span> <span style=\"background-color: white; display: inline-block;\">ris_</span> <span style=\"background-color: white; display: inline-block;\">,_</span> <span style=\"background-color: white; display: inline-block;\">perdit</span> <span style=\"background-color: white; display: inline-block;\">e_</span> <span style=\"background-color: white; display: inline-block;\">pariter_</span> <span style=\"background-color: white; display: inline-block;\">et_</span> <span style=\"background-color: white; display: inline-block;\">perdit</span> <span style=\"background-color: white; display: inline-block;\">or_</span> <span style=\"background-color: white; display: inline-block;\">,_</span> <span style=\"background-color: white; display: inline-block;\">qui_</span> <span style=\"background-color: white; display: inline-block;\">vas_</span> <span style=\"background-color: white; display: inline-block;\">rationabi</span> <span style=\"background-color: white; display: inline-block;\">le_</span> <span style=\"background-color: white; display: inline-block;\">consecratu</span> <span style=\"background-color: white; display: inline-block;\">m_</span> <span style=\"background-color: white; display: inline-block;\">christo_</span> <span style=\"background-color: white; display: inline-block;\">,_</span> <span style=\"background-color: white; display: inline-block;\">sanctificat</span> <span style=\"background-color: white; display: inline-block;\">um_</span> <span style=\"background-color: white; display: inline-block;\">spiritui_</span> <span style=\"background-color: white; display: inline-block;\">sancto_</span> <span style=\"background-color: white; display: inline-block;\">,_</span> <span style=\"background-color: white; display: inline-block;\">impie_</span> <span style=\"background-color: white; display: inline-block;\">teme</span> <span style=\"background-color: white; display: inline-block;\">rast</span> <span style=\"background-color: white; display: inline-block;\">i_</span> <span style=\"background-color: white; display: inline-block;\">,_</span> <span style=\"background-color: white; display: inline-block;\">pollu</span> <span style=\"background-color: white; display: inline-block;\">isti_</span> <span style=\"background-color: white; display: inline-block;\">sacrileg</span> <span style=\"background-color: white; display: inline-block;\">e_</span> <span style=\"background-color: white; display: inline-block;\">,_</span> <span style=\"background-color: white; display: inline-block;\">et_</span> <span style=\"background-color: white; display: inline-block;\">tui_</span> <span style=\"background-color: white; display: inline-block;\">propositi</span> <span style=\"background-color: white; display: inline-block;\">_</span> <span style=\"background-color: white; display: inline-block;\">immemor</span> <span style=\"background-color: white; display: inline-block;\">_</span> <span style=\"background-color: white; display: inline-block;\">,_</span> <span style=\"background-color: white; display: inline-block;\">et_</span> <span style=\"background-color: white; display: inline-block;\">judicii_</span> <span style=\"background-color: white; display: inline-block;\">divini_</span> <span style=\"background-color: white; display: inline-block;\">contemp</span> <span style=\"background-color: white; display: inline-block;\">ior_</span> <span style=\"background-color: white; display: inline-block;\">?_</span> <span style=\"background-color: white; display: inline-block;\">[SEP]</span></p>"
      ],
      "text/plain": [
       "<IPython.core.display.HTML object>"
      ]
     },
     "metadata": {},
     "output_type": "display_data"
    },
    {
     "data": {
      "text/html": [
       "<p><b style=\"text-decoration: line-through;;\">positive</b> -> <span style=\"background-color: white; display: inline-block;\">[CLS]</span> <span style=\"background-color: white; display: inline-block;\">illius_</span> <span style=\"background-color: white; display: inline-block;\">uxor_</span> <span style=\"background-color: white; display: inline-block;\">aut_</span> <span style=\"background-color: white; display: inline-block;\">amica_</span> <span style=\"background-color: white; display: inline-block;\">riu</span> <span style=\"background-color: white; display: inline-block;\">alem_</span> <span style=\"background-color: white; display: inline-block;\">lasc</span> <span style=\"background-color: white; display: inline-block;\">iui</span> <span style=\"background-color: white; display: inline-block;\">endo_</span> <span style=\"background-color: white; display: inline-block;\">languid</span> <span style=\"background-color: white; display: inline-block;\">um_</span> <span style=\"background-color: white; display: inline-block;\">,_</span> <span style=\"background-color: white; display: inline-block;\">precor_</span> <span style=\"background-color: white; display: inline-block;\">,_</span> <span style=\"background-color: white; display: inline-block;\">reddat_</span> <span style=\"background-color: white; display: inline-block;\">,_</span> <span style=\"background-color: white; display: inline-block;\">[SEP]</span></p>"
      ],
      "text/plain": [
       "<IPython.core.display.HTML object>"
      ]
     },
     "metadata": {},
     "output_type": "display_data"
    },
    {
     "data": {
      "text/html": [
       "<p><b style=\"text-decoration: line-through;;\">positive</b> -> <span style=\"background-color: white; display: inline-block;\">[CLS]</span> <span style=\"background-color: white; display: inline-block;\">et_</span> <span style=\"background-color: white; display: inline-block;\">sunt_</span> <span style=\"background-color: white; display: inline-block;\">toto_</span> <span style=\"background-color: yellow; display: inline-block;\">sinu_</span> <span style=\"background-color: white; display: inline-block;\">muliebri</span> <span style=\"background-color: white; display: inline-block;\">_</span> <span style=\"background-color: white; display: inline-block;\">disten</span> <span style=\"background-color: white; display: inline-block;\">ta_</span> <span style=\"background-color: white; display: inline-block;\">,_</span> <span style=\"background-color: white; display: inline-block;\">collo_</span> <span style=\"background-color: white; display: inline-block;\">tamen_</span> <span style=\"background-color: yellow; display: inline-block;\">matri</span> <span style=\"background-color: white; display: inline-block;\">cis_</span> <span style=\"background-color: white; display: inline-block;\">secreta_</span> <span style=\"background-color: white; display: inline-block;\">._</span> <span style=\"background-color: yellow; display: inline-block;\">[SEP]</span></p>"
      ],
      "text/plain": [
       "<IPython.core.display.HTML object>"
      ]
     },
     "metadata": {},
     "output_type": "display_data"
    },
    {
     "data": {
      "text/html": [
       "<p><b style=\"text-decoration: line-through;;\">positive</b> -> <span style=\"background-color: white; display: inline-block;\">[CLS]</span> <span style=\"background-color: white; display: inline-block;\">si_</span> <span style=\"background-color: white; display: inline-block;\">id_</span> <span style=\"background-color: white; display: inline-block;\">maius_</span> <span style=\"background-color: white; display: inline-block;\">est_</span> <span style=\"background-color: white; display: inline-block;\">et_</span> <span style=\"background-color: white; display: inline-block;\">basi</span> <span style=\"background-color: white; display: inline-block;\">s_</span> <span style=\"background-color: white; display: inline-block;\">latio</span> <span style=\"background-color: white; display: inline-block;\">r_</span> <span style=\"background-color: white; display: inline-block;\">,_</span> <span style=\"background-color: white; display: inline-block;\">ham</span> <span style=\"background-color: white; display: inline-block;\">ulo_</span> <span style=\"background-color: white; display: inline-block;\">uno_</span> <span style=\"background-color: white; display: inline-block;\">aut_</span> <span style=\"background-color: white; display: inline-block;\">altero_</span> <span style=\"background-color: white; display: inline-block;\">excipie</span> <span style=\"background-color: white; display: inline-block;\">ndum_</span> <span style=\"background-color: white; display: inline-block;\">est_</span> <span style=\"background-color: white; display: inline-block;\">paul</span> <span style=\"background-color: white; display: inline-block;\">umque_</span> <span style=\"background-color: white; display: inline-block;\">-_</span> <span style=\"background-color: white; display: inline-block;\">que_</span> <span style=\"background-color: white; display: inline-block;\">supra_</span> <span style=\"background-color: white; display: inline-block;\">basi</span> <span style=\"background-color: white; display: inline-block;\">m_</span> <span style=\"background-color: white; display: inline-block;\">inciden</span> <span style=\"background-color: white; display: inline-block;\">dum_</span> <span style=\"background-color: white; display: inline-block;\">neque_</span> <span style=\"background-color: white; display: inline-block;\">relinquen</span> <span style=\"background-color: white; display: inline-block;\">dum_</span> <span style=\"background-color: white; display: inline-block;\">quicquam_</span> <span style=\"background-color: white; display: inline-block;\">ex_</span> <span style=\"background-color: white; display: inline-block;\">eo_</span> <span style=\"background-color: white; display: inline-block;\">capitulo_</span> <span style=\"background-color: white; display: inline-block;\">neque_</span> <span style=\"background-color: white; display: inline-block;\">quicquam_</span> <span style=\"background-color: white; display: inline-block;\">ex_</span> <span style=\"background-color: white; display: inline-block;\">ano_</span> <span style=\"background-color: white; display: inline-block;\">demen</span> <span style=\"background-color: white; display: inline-block;\">dum_</span> <span style=\"background-color: white; display: inline-block;\">est_</span> <span style=\"background-color: white; display: inline-block;\">._</span> <span style=\"background-color: white; display: inline-block;\">[SEP]</span></p>"
      ],
      "text/plain": [
       "<IPython.core.display.HTML object>"
      ]
     },
     "metadata": {},
     "output_type": "display_data"
    },
    {
     "data": {
      "text/html": [
       "<p><b style=\"text-decoration: line-through;;\">positive</b> -> <span style=\"background-color: white; display: inline-block;\">[CLS]</span> <span style=\"background-color: white; display: inline-block;\">ergo_</span> <span style=\"background-color: white; display: inline-block;\">expectat</span> <span style=\"background-color: white; display: inline-block;\">os_</span> <span style=\"background-color: white; display: inline-block;\">ac_</span> <span style=\"background-color: white; display: inline-block;\">iuss</span> <span style=\"background-color: white; display: inline-block;\">os_</span> <span style=\"background-color: white; display: inline-block;\">crescere_</span> <span style=\"background-color: white; display: inline-block;\">primum_</span> <span style=\"background-color: #ff9f00; display: inline-block;\">testi</span> <span style=\"background-color: white; display: inline-block;\">culos_</span> <span style=\"background-color: white; display: inline-block;\">,_</span> <span style=\"background-color: white; display: inline-block;\">postquam_</span> <span style=\"background-color: white; display: inline-block;\">coeperunt_</span> <span style=\"background-color: white; display: inline-block;\">esse_</span> <span style=\"background-color: white; display: inline-block;\">bili</span> <span style=\"background-color: white; display: inline-block;\">bres</span> <span style=\"background-color: white; display: inline-block;\">_</span> <span style=\"background-color: white; display: inline-block;\">,_</span> <span style=\"background-color: white; display: inline-block;\">tons</span> <span style=\"background-color: white; display: inline-block;\">oris_</span> <span style=\"background-color: white; display: inline-block;\">damno_</span> <span style=\"background-color: white; display: inline-block;\">tantum_</span> <span style=\"background-color: white; display: inline-block;\">rapit_</span> <span style=\"background-color: white; display: inline-block;\">heli</span> <span style=\"background-color: white; display: inline-block;\">odor</span> <span style=\"background-color: white; display: inline-block;\">us_</span> <span style=\"background-color: white; display: inline-block;\">._</span> <span style=\"background-color: white; display: inline-block;\">[SEP]</span></p>"
      ],
      "text/plain": [
       "<IPython.core.display.HTML object>"
      ]
     },
     "metadata": {},
     "output_type": "display_data"
    },
    {
     "data": {
      "text/html": [
       "<p><b style=\"text-decoration: line-through;;\">positive</b> -> <span style=\"background-color: white; display: inline-block;\">[CLS]</span> <span style=\"background-color: white; display: inline-block;\">ad_</span> <span style=\"background-color: white; display: inline-block;\">mediam_</span> <span style=\"background-color: white; display: inline-block;\">noctem_</span> <span style=\"background-color: white; display: inline-block;\">exspect</span> <span style=\"background-color: white; display: inline-block;\">o_</span> <span style=\"background-color: white; display: inline-block;\">somnus_</span> <span style=\"background-color: white; display: inline-block;\">tamen_</span> <span style=\"background-color: white; display: inline-block;\">aufert_</span> <span style=\"background-color: white; display: inline-block;\">intentu</span> <span style=\"background-color: white; display: inline-block;\">m_</span> <span style=\"background-color: #ffdf00; display: inline-block;\">veneri</span> <span style=\"background-color: yellow; display: inline-block;\">_</span> <span style=\"background-color: white; display: inline-block;\">[SEP]</span></p>"
      ],
      "text/plain": [
       "<IPython.core.display.HTML object>"
      ]
     },
     "metadata": {},
     "output_type": "display_data"
    },
    {
     "data": {
      "text/html": [
       "<p><b style=\"text-decoration: line-through;;\">positive</b> -> <span style=\"background-color: white; display: inline-block;\">[CLS]</span> <span style=\"background-color: white; display: inline-block;\">sed_</span> <span style=\"background-color: yellow; display: inline-block;\">vereor_</span> <span style=\"background-color: white; display: inline-block;\">ne_</span> <span style=\"background-color: white; display: inline-block;\">mulier_</span> <span style=\"background-color: white; display: inline-block;\">me_</span> <span style=\"background-color: white; display: inline-block;\">absente_</span> <span style=\"background-color: white; display: inline-block;\">hic_</span> <span style=\"background-color: white; display: inline-block;\">corrupta_</span> <span style=\"background-color: white; display: inline-block;\">sit_</span> <span style=\"background-color: white; display: inline-block;\">._</span> <span style=\"background-color: white; display: inline-block;\">[SEP]</span></p>"
      ],
      "text/plain": [
       "<IPython.core.display.HTML object>"
      ]
     },
     "metadata": {},
     "output_type": "display_data"
    },
    {
     "data": {
      "text/html": [
       "<p><b style=\"text-decoration: line-through;;\">positive</b> -> <span style=\"background-color: white; display: inline-block;\">[CLS]</span> <span style=\"background-color: white; display: inline-block;\">sin_</span> <span style=\"background-color: white; display: inline-block;\">uero_</span> <span style=\"background-color: white; display: inline-block;\">ad_</span> <span style=\"background-color: white; display: inline-block;\">intestin</span> <span style=\"background-color: white; display: inline-block;\">a_</span> <span style=\"background-color: white; display: inline-block;\">erupt</span> <span style=\"background-color: white; display: inline-block;\">io_</span> <span style=\"background-color: white; display: inline-block;\">peru</span> <span style=\"background-color: white; display: inline-block;\">ener</span> <span style=\"background-color: white; display: inline-block;\">it_</span> <span style=\"background-color: white; display: inline-block;\">,_</span> <span style=\"background-color: white; display: inline-block;\">quo_</span> <span style=\"background-color: white; display: inline-block;\">per_</span> <span style=\"background-color: yellow; display: inline-block;\">pod</span> <span style=\"background-color: white; display: inline-block;\">icem_</span> <span style=\"background-color: white; display: inline-block;\">exitum_</span> <span style=\"background-color: white; display: inline-block;\">habeat_</span> <span style=\"background-color: white; display: inline-block;\">,_</span> <span style=\"background-color: white; display: inline-block;\">cum_</span> <span style=\"background-color: white; display: inline-block;\">supradicti</span> <span style=\"background-color: white; display: inline-block;\">s_</span> <span style=\"background-color: white; display: inline-block;\">communiter_</span> <span style=\"background-color: white; display: inline-block;\">erunt_</span> <span style=\"background-color: white; display: inline-block;\">adhibend</span> <span style=\"background-color: white; display: inline-block;\">a_</span> <span style=\"background-color: white; display: inline-block;\">,_</span> <span style=\"background-color: white; display: inline-block;\">quae_</span> <span style=\"background-color: white; display: inline-block;\">uent</span> <span style=\"background-color: white; display: inline-block;\">ris_</span> <span style=\"background-color: white; display: inline-block;\">officium_</span> <span style=\"background-color: white; display: inline-block;\">non_</span> <span style=\"background-color: white; display: inline-block;\">dens</span> <span style=\"background-color: white; display: inline-block;\">ent_</span> <span style=\"background-color: white; display: inline-block;\">neque_</span> <span style=\"background-color: white; display: inline-block;\">plurimum_</span> <span style=\"background-color: white; display: inline-block;\">lax</span> <span style=\"background-color: white; display: inline-block;\">ent_</span> <span style=\"background-color: white; display: inline-block;\">._</span> <span style=\"background-color: white; display: inline-block;\">[SEP]</span></p>"
      ],
      "text/plain": [
       "<IPython.core.display.HTML object>"
      ]
     },
     "metadata": {},
     "output_type": "display_data"
    },
    {
     "data": {
      "text/html": [
       "<p><b style=\"text-decoration: line-through;;\">positive</b> -> <span style=\"background-color: white; display: inline-block;\">[CLS]</span> <span style=\"background-color: yellow; display: inline-block;\">deformi</span> <span style=\"background-color: white; display: inline-block;\">s_</span> <span style=\"background-color: white; display: inline-block;\">uxor_</span> <span style=\"background-color: white; display: inline-block;\">cui_</span> <span style=\"background-color: white; display: inline-block;\">sit_</span> <span style=\"background-color: white; display: inline-block;\">,_</span> <span style=\"background-color: white; display: inline-block;\">ancilla_</span> <span style=\"background-color: white; display: inline-block;\">eleg</span> <span style=\"background-color: white; display: inline-block;\">ans_</span> <span style=\"background-color: white; display: inline-block;\">,_</span> <span style=\"background-color: white; display: inline-block;\">vx</span> <span style=\"background-color: white; display: inline-block;\">orem_</span> <span style=\"background-color: white; display: inline-block;\">habere_</span> <span style=\"background-color: white; display: inline-block;\">,_</span> <span style=\"background-color: white; display: inline-block;\">subi</span> <span style=\"background-color: white; display: inline-block;\">gere_</span> <span style=\"background-color: white; display: inline-block;\">ancilla</span> <span style=\"background-color: white; display: inline-block;\">m_</span> <span style=\"background-color: white; display: inline-block;\">ueli</span> <span style=\"background-color: white; display: inline-block;\">t_</span> <span style=\"background-color: white; display: inline-block;\">._</span> <span style=\"background-color: white; display: inline-block;\">[SEP]</span></p>"
      ],
      "text/plain": [
       "<IPython.core.display.HTML object>"
      ]
     },
     "metadata": {},
     "output_type": "display_data"
    },
    {
     "data": {
      "text/html": [
       "<p><b style=\"text-decoration: line-through;;\">positive</b> -> <span style=\"background-color: white; display: inline-block;\">[CLS]</span> <span style=\"background-color: white; display: inline-block;\">sed_</span> <span style=\"background-color: white; display: inline-block;\">ut_</span> <span style=\"background-color: white; display: inline-block;\">secundus_</span> <span style=\"background-color: white; display: inline-block;\">numin</span> <span style=\"background-color: white; display: inline-block;\">um_</span> <span style=\"background-color: white; display: inline-block;\">abscond</span> <span style=\"background-color: white; display: inline-block;\">at_</span> <span style=\"background-color: white; display: inline-block;\">favor</span> <span style=\"background-color: white; display: inline-block;\">_</span> <span style=\"background-color: #ff9f00; display: inline-block;\">coitu</span> <span style=\"background-color: white; display: inline-block;\">s_</span> <span style=\"background-color: yellow; display: inline-block;\">nefand</span> <span style=\"background-color: white; display: inline-block;\">os_</span> <span style=\"background-color: white; display: inline-block;\">[SEP]</span></p>"
      ],
      "text/plain": [
       "<IPython.core.display.HTML object>"
      ]
     },
     "metadata": {},
     "output_type": "display_data"
    },
    {
     "data": {
      "text/html": [
       "<p><b style=\"text-decoration: line-through;;\">positive</b> -> <span style=\"background-color: white; display: inline-block;\">[CLS]</span> <span style=\"background-color: white; display: inline-block;\">egregium_</span> <span style=\"background-color: white; display: inline-block;\">narra</span> <span style=\"background-color: white; display: inline-block;\">s_</span> <span style=\"background-color: white; display: inline-block;\">mira_</span> <span style=\"background-color: white; display: inline-block;\">pietate_</span> <span style=\"background-color: white; display: inline-block;\">parentem_</span> <span style=\"background-color: white; display: inline-block;\">,_</span> <span style=\"background-color: white; display: inline-block;\">qui_</span> <span style=\"background-color: white; display: inline-block;\">ipse_</span> <span style=\"background-color: white; display: inline-block;\">sui_</span> <span style=\"background-color: white; display: inline-block;\">gnati</span> <span style=\"background-color: white; display: inline-block;\">_</span> <span style=\"background-color: white; display: inline-block;\">min</span> <span style=\"background-color: white; display: inline-block;\">xerit_</span> <span style=\"background-color: white; display: inline-block;\">in_</span> <span style=\"background-color: #ffbf00; display: inline-block;\">gre</span> <span style=\"background-color: white; display: inline-block;\">mium_</span> <span style=\"background-color: white; display: inline-block;\">._</span> <span style=\"background-color: white; display: inline-block;\">[SEP]</span></p>"
      ],
      "text/plain": [
       "<IPython.core.display.HTML object>"
      ]
     },
     "metadata": {},
     "output_type": "display_data"
    },
    {
     "data": {
      "text/html": [
       "<p><b style=\"text-decoration: line-through;;\">negative</b> -> <span style=\"background-color: white; display: inline-block;\">[CLS]</span> <span style=\"background-color: white; display: inline-block;\">haec_</span> <span style=\"background-color: white; display: inline-block;\">recense</span> <span style=\"background-color: white; display: inline-block;\">nte_</span> <span style=\"background-color: white; display: inline-block;\">pisto</span> <span style=\"background-color: white; display: inline-block;\">re_</span> <span style=\"background-color: white; display: inline-block;\">iam</span> <span style=\"background-color: white; display: inline-block;\">dudum_</span> <span style=\"background-color: white; display: inline-block;\">proca</span> <span style=\"background-color: white; display: inline-block;\">x_</span> <span style=\"background-color: white; display: inline-block;\">et_</span> <span style=\"background-color: white; display: inline-block;\">temerari</span> <span style=\"background-color: white; display: inline-block;\">a_</span> <span style=\"background-color: white; display: inline-block;\">mulier_</span> <span style=\"background-color: white; display: inline-block;\">verbis_</span> <span style=\"background-color: white; display: inline-block;\">exec</span> <span style=\"background-color: white; display: inline-block;\">ranti</span> <span style=\"background-color: white; display: inline-block;\">bus_</span> <span style=\"background-color: white; display: inline-block;\">full</span> <span style=\"background-color: white; display: inline-block;\">onis_</span> <span style=\"background-color: white; display: inline-block;\">illius_</span> <span style=\"background-color: white; display: inline-block;\">detesta</span> <span style=\"background-color: white; display: inline-block;\">batur_</span> <span style=\"background-color: white; display: inline-block;\">uxorem_</span> <span style=\"background-color: white; display: inline-block;\">,_</span> <span style=\"background-color: white; display: inline-block;\">illam_</span> <span style=\"background-color: white; display: inline-block;\">perfid</span> <span style=\"background-color: white; display: inline-block;\">am_</span> <span style=\"background-color: white; display: inline-block;\">,_</span> <span style=\"background-color: white; display: inline-block;\">illam_</span> <span style=\"background-color: white; display: inline-block;\">impudic</span> <span style=\"background-color: white; display: inline-block;\">am_</span> <span style=\"background-color: white; display: inline-block;\">,_</span> <span style=\"background-color: white; display: inline-block;\">denique_</span> <span style=\"background-color: white; display: inline-block;\">universi_</span> <span style=\"background-color: white; display: inline-block;\">sexus_</span> <span style=\"background-color: white; display: inline-block;\">grande_</span> <span style=\"background-color: white; display: inline-block;\">dedecus_</span> <span style=\"background-color: white; display: inline-block;\">,_</span> <span style=\"background-color: white; display: inline-block;\">quae_</span> <span style=\"background-color: white; display: inline-block;\">suo_</span> <span style=\"background-color: white; display: inline-block;\">pudore_</span> <span style=\"background-color: white; display: inline-block;\">postposit</span> <span style=\"background-color: white; display: inline-block;\">o_</span> <span style=\"background-color: white; display: inline-block;\">tori</span> <span style=\"background-color: white; display: inline-block;\">que_</span> <span style=\"background-color: white; display: inline-block;\">-_</span> <span style=\"background-color: white; display: inline-block;\">que_</span> <span style=\"background-color: white; display: inline-block;\">geni</span> <span style=\"background-color: white; display: inline-block;\">alis_</span> <span style=\"background-color: white; display: inline-block;\">calca</span> <span style=\"background-color: white; display: inline-block;\">to_</span> <span style=\"background-color: white; display: inline-block;\">foedere_</span> <span style=\"background-color: white; display: inline-block;\">lare</span> <span style=\"background-color: white; display: inline-block;\">m_</span> <span style=\"background-color: white; display: inline-block;\">mariti_</span> <span style=\"background-color: white; display: inline-block;\">lup</span> <span style=\"background-color: white; display: inline-block;\">anar</span> <span style=\"background-color: white; display: inline-block;\">i_</span> <span style=\"background-color: white; display: inline-block;\">macula</span> <span style=\"background-color: white; display: inline-block;\">sset_</span> <span style=\"background-color: white; display: inline-block;\">infamia_</span> <span style=\"background-color: white; display: inline-block;\">,_</span> <span style=\"background-color: white; display: inline-block;\">iam</span> <span style=\"background-color: white; display: inline-block;\">que_</span> <span style=\"background-color: white; display: inline-block;\">-_</span> <span style=\"background-color: white; display: inline-block;\">que_</span> <span style=\"background-color: white; display: inline-block;\">perdita</span> <span style=\"background-color: white; display: inline-block;\">_</span> <span style=\"background-color: white; display: inline-block;\">nupta</span> <span style=\"background-color: white; display: inline-block;\">e_</span> <span style=\"background-color: white; display: inline-block;\">dignitate_</span> <span style=\"background-color: white; display: inline-block;\">prost</span> <span style=\"background-color: white; display: inline-block;\">itut</span> <span style=\"background-color: white; display: inline-block;\">ae_</span> <span style=\"background-color: white; display: inline-block;\">sibi_</span> <span style=\"background-color: white; display: inline-block;\">nomen_</span> <span style=\"background-color: white; display: inline-block;\">adsci</span> <span style=\"background-color: white; display: inline-block;\">verit_</span> <span style=\"background-color: white; display: inline-block;\">:_</span> <span style=\"background-color: white; display: inline-block;\">adde</span> <span style=\"background-color: white; display: inline-block;\">bat_</span> <span style=\"background-color: white; display: inline-block;\">et_</span> <span style=\"background-color: white; display: inline-block;\">tales_</span> <span style=\"background-color: white; display: inline-block;\">oportere_</span> <span style=\"background-color: white; display: inline-block;\">viva</span> <span style=\"background-color: white; display: inline-block;\">s_</span> <span style=\"background-color: white; display: inline-block;\">exur</span> <span style=\"background-color: white; display: inline-block;\">i_</span> <span style=\"background-color: white; display: inline-block;\">feminas_</span> <span style=\"background-color: white; display: inline-block;\">._</span> <span style=\"background-color: white; display: inline-block;\">[SEP]</span></p>"
      ],
      "text/plain": [
       "<IPython.core.display.HTML object>"
      ]
     },
     "metadata": {},
     "output_type": "display_data"
    },
    {
     "data": {
      "text/html": [
       "<p><b style=\"text-decoration: line-through;;\">positive</b> -> <span style=\"background-color: white; display: inline-block;\">[CLS]</span> <span style=\"background-color: white; display: inline-block;\">omnium_</span> <span style=\"background-color: #ffdf00; display: inline-block;\">matrimonia</span> <span style=\"background-color: white; display: inline-block;\">_</span> <span style=\"background-color: yellow; display: inline-block;\">corrumpe</span> <span style=\"background-color: white; display: inline-block;\">ns_</span> <span style=\"background-color: white; display: inline-block;\">impune_</span> <span style=\"background-color: white; display: inline-block;\">committit</span> <span style=\"background-color: white; display: inline-block;\">_</span> <span style=\"background-color: white; display: inline-block;\">tanta_</span> <span style=\"background-color: white; display: inline-block;\">flagiti</span> <span style=\"background-color: white; display: inline-block;\">a_</span> <span style=\"background-color: white; display: inline-block;\">[SEP]</span></p>"
      ],
      "text/plain": [
       "<IPython.core.display.HTML object>"
      ]
     },
     "metadata": {},
     "output_type": "display_data"
    },
    {
     "data": {
      "text/html": [
       "<p><b style=\"text-decoration: line-through;;\">positive</b> -> <span style=\"background-color: white; display: inline-block;\">[CLS]</span> <span style=\"background-color: white; display: inline-block;\">pulsa</span> <span style=\"background-color: white; display: inline-block;\">bant_</span> <span style=\"background-color: white; display: inline-block;\">alii_</span> <span style=\"background-color: white; display: inline-block;\">frustra_</span> <span style=\"background-color: white; display: inline-block;\">domina</span> <span style=\"background-color: white; display: inline-block;\">mque_</span> <span style=\"background-color: white; display: inline-block;\">-_</span> <span style=\"background-color: white; display: inline-block;\">que_</span> <span style=\"background-color: white; display: inline-block;\">vocabant</span> <span style=\"background-color: white; display: inline-block;\">_</span> <span style=\"background-color: white; display: inline-block;\">:_</span> <span style=\"background-color: white; display: inline-block;\">mec</span> <span style=\"background-color: white; display: inline-block;\">um_</span> <span style=\"background-color: white; display: inline-block;\">-_</span> <span style=\"background-color: white; display: inline-block;\">cum_</span> <span style=\"background-color: white; display: inline-block;\">habuit_</span> <span style=\"background-color: white; display: inline-block;\">positum_</span> <span style=\"background-color: white; display: inline-block;\">lenta</span> <span style=\"background-color: white; display: inline-block;\">_</span> <span style=\"background-color: white; display: inline-block;\">puella_</span> <span style=\"background-color: white; display: inline-block;\">caput_</span> <span style=\"background-color: white; display: inline-block;\">._</span> <span style=\"background-color: white; display: inline-block;\">[SEP]</span></p>"
      ],
      "text/plain": [
       "<IPython.core.display.HTML object>"
      ]
     },
     "metadata": {},
     "output_type": "display_data"
    },
    {
     "data": {
      "text/html": [
       "<p><b style=\"text-decoration: line-through;;\">positive</b> -> <span style=\"background-color: white; display: inline-block;\">[CLS]</span> <span style=\"background-color: white; display: inline-block;\">nunc_</span> <span style=\"background-color: white; display: inline-block;\">mise</span> <span style=\"background-color: white; display: inline-block;\">lla_</span> <span style=\"background-color: white; display: inline-block;\">landi</span> <span style=\"background-color: white; display: inline-block;\">cae_</span> <span style=\"background-color: white; display: inline-block;\">uix_</span> <span style=\"background-color: white; display: inline-block;\">posse_</span> <span style=\"background-color: white; display: inline-block;\">iurat</span> <span style=\"background-color: white; display: inline-block;\">_</span> <span style=\"background-color: white; display: inline-block;\">ambulare_</span> <span style=\"background-color: white; display: inline-block;\">prae_</span> <span style=\"background-color: white; display: inline-block;\">foss</span> <span style=\"background-color: white; display: inline-block;\">is_</span> <span style=\"background-color: white; display: inline-block;\">._</span> <span style=\"background-color: yellow; display: inline-block;\">[SEP]</span></p>"
      ],
      "text/plain": [
       "<IPython.core.display.HTML object>"
      ]
     },
     "metadata": {},
     "output_type": "display_data"
    },
    {
     "data": {
      "text/html": [
       "<p><b style=\"text-decoration: line-through;;\">positive</b> -> <span style=\"background-color: white; display: inline-block;\">[CLS]</span> <span style=\"background-color: white; display: inline-block;\">nemo_</span> <span style=\"background-color: white; display: inline-block;\">,_</span> <span style=\"background-color: white; display: inline-block;\">inquit_</span> <span style=\"background-color: white; display: inline-block;\">,_</span> <span style=\"background-color: white; display: inline-block;\">mihi_</span> <span style=\"background-color: yellow; display: inline-block;\">uirgin</span> <span style=\"background-color: #ffdf00; display: inline-block;\">itatem_</span> <span style=\"background-color: white; display: inline-block;\">eripui</span> <span style=\"background-color: white; display: inline-block;\">t_</span> <span style=\"background-color: white; display: inline-block;\">:_</span> <span style=\"background-color: white; display: inline-block;\">sed_</span> <span style=\"background-color: white; display: inline-block;\">omnes_</span> <span style=\"background-color: white; display: inline-block;\">quasi_</span> <span style=\"background-color: white; display: inline-block;\">erept</span> <span style=\"background-color: white; display: inline-block;\">uri_</span> <span style=\"background-color: white; display: inline-block;\">uener</span> <span style=\"background-color: white; display: inline-block;\">unt_</span> <span style=\"background-color: white; display: inline-block;\">:_</span> <span style=\"background-color: white; display: inline-block;\">sed_</span> <span style=\"background-color: white; display: inline-block;\">omnes_</span> <span style=\"background-color: white; display: inline-block;\">quasi_</span> <span style=\"background-color: white; display: inline-block;\">eripui</span> <span style=\"background-color: white; display: inline-block;\">ssent_</span> <span style=\"background-color: white; display: inline-block;\">recesser</span> <span style=\"background-color: white; display: inline-block;\">unt_</span> <span style=\"background-color: white; display: inline-block;\">._</span> <span style=\"background-color: white; display: inline-block;\">[SEP]</span></p>"
      ],
      "text/plain": [
       "<IPython.core.display.HTML object>"
      ]
     },
     "metadata": {},
     "output_type": "display_data"
    },
    {
     "data": {
      "text/html": [
       "<p><b style=\"text-decoration: line-through;;\">negative</b> -> <span style=\"background-color: white; display: inline-block;\">[CLS]</span> <span style=\"background-color: white; display: inline-block;\">donec_</span> <span style=\"background-color: white; display: inline-block;\">proter</span> <span style=\"background-color: white; display: inline-block;\">ua_</span> <span style=\"background-color: white; display: inline-block;\">nil_</span> <span style=\"background-color: white; display: inline-block;\">mei_</span> <span style=\"background-color: white; display: inline-block;\">manu_</span> <span style=\"background-color: white; display: inline-block;\">carpe</span> <span style=\"background-color: white; display: inline-block;\">s_</span> <span style=\"background-color: white; display: inline-block;\">,_</span> <span style=\"background-color: white; display: inline-block;\">licebit_</span> <span style=\"background-color: white; display: inline-block;\">ipsa_</span> <span style=\"background-color: white; display: inline-block;\">sis_</span> <span style=\"background-color: white; display: inline-block;\">pudic</span> <span style=\"background-color: white; display: inline-block;\">ior_</span> <span style=\"background-color: white; display: inline-block;\">vesta</span> <span style=\"background-color: white; display: inline-block;\">_</span> <span style=\"background-color: white; display: inline-block;\">._</span> <span style=\"background-color: white; display: inline-block;\">[SEP]</span></p>"
      ],
      "text/plain": [
       "<IPython.core.display.HTML object>"
      ]
     },
     "metadata": {},
     "output_type": "display_data"
    },
    {
     "data": {
      "text/html": [
       "<p><b style=\"text-decoration: line-through;;\">negative</b> -> <span style=\"background-color: white; display: inline-block;\">[CLS]</span> <span style=\"background-color: white; display: inline-block;\">ego_</span> <span style=\"background-color: white; display: inline-block;\">cum_</span> <span style=\"background-color: white; display: inline-block;\">muliere_</span> <span style=\"background-color: white; display: inline-block;\">mens</span> <span style=\"background-color: white; display: inline-block;\">tru</span> <span style=\"background-color: white; display: inline-block;\">ata_</span> <span style=\"background-color: white; display: inline-block;\">concu</span> <span style=\"background-color: white; display: inline-block;\">bui</span> <span style=\"background-color: white; display: inline-block;\">_</span> <span style=\"background-color: white; display: inline-block;\">et_</span> <span style=\"background-color: white; display: inline-block;\">non_</span> <span style=\"background-color: white; display: inline-block;\">concepit_</span> <span style=\"background-color: white; display: inline-block;\">,_</span> <span style=\"background-color: white; display: inline-block;\">nam_</span> <span style=\"background-color: white; display: inline-block;\">purga</span> <span style=\"background-color: white; display: inline-block;\">cionis_</span> <span style=\"background-color: white; display: inline-block;\">plurim</span> <span style=\"background-color: white; display: inline-block;\">o_</span> <span style=\"background-color: white; display: inline-block;\">sanguine_</span> <span style=\"background-color: white; display: inline-block;\">minor_</span> <span style=\"background-color: white; display: inline-block;\">pars_</span> <span style=\"background-color: yellow; display: inline-block;\">seminis_</span> <span style=\"background-color: white; display: inline-block;\">corrupta_</span> <span style=\"background-color: white; display: inline-block;\">est_</span> <span style=\"background-color: white; display: inline-block;\">._</span> <span style=\"background-color: yellow; display: inline-block;\">[SEP]</span></p>"
      ],
      "text/plain": [
       "<IPython.core.display.HTML object>"
      ]
     },
     "metadata": {},
     "output_type": "display_data"
    },
    {
     "data": {
      "text/html": [
       "<p><b style=\"text-decoration: line-through;;\">positive</b> -> <span style=\"background-color: white; display: inline-block;\">[CLS]</span> <span style=\"background-color: white; display: inline-block;\">tamquam_</span> <span style=\"background-color: white; display: inline-block;\">simpliciter_</span> <span style=\"background-color: white; display: inline-block;\">mec</span> <span style=\"background-color: white; display: inline-block;\">um_</span> <span style=\"background-color: white; display: inline-block;\">-_</span> <span style=\"background-color: white; display: inline-block;\">cum_</span> <span style=\"background-color: white; display: inline-block;\">,_</span> <span style=\"background-color: white; display: inline-block;\">calli</span> <span style=\"background-color: white; display: inline-block;\">strat</span> <span style=\"background-color: white; display: inline-block;\">e_</span> <span style=\"background-color: white; display: inline-block;\">,_</span> <span style=\"background-color: white; display: inline-block;\">viva</span> <span style=\"background-color: white; display: inline-block;\">s_</span> <span style=\"background-color: white; display: inline-block;\">,_</span> <span style=\"background-color: white; display: inline-block;\">dicere_</span> <span style=\"background-color: white; display: inline-block;\">perci</span> <span style=\"background-color: white; display: inline-block;\">sum_</span> <span style=\"background-color: white; display: inline-block;\">te_</span> <span style=\"background-color: white; display: inline-block;\">mihi_</span> <span style=\"background-color: white; display: inline-block;\">saepe_</span> <span style=\"background-color: white; display: inline-block;\">sole</span> <span style=\"background-color: white; display: inline-block;\">s_</span> <span style=\"background-color: white; display: inline-block;\">._</span> <span style=\"background-color: white; display: inline-block;\">[SEP]</span></p>"
      ],
      "text/plain": [
       "<IPython.core.display.HTML object>"
      ]
     },
     "metadata": {},
     "output_type": "display_data"
    },
    {
     "data": {
      "text/html": [
       "<p><b style=\"text-decoration: line-through;;\">positive</b> -> <span style=\"background-color: white; display: inline-block;\">[CLS]</span> <span style=\"background-color: white; display: inline-block;\">semper_</span> <span style=\"background-color: white; display: inline-block;\">fict</span> <span style=\"background-color: white; display: inline-block;\">o_</span> <span style=\"background-color: white; display: inline-block;\">suspir</span> <span style=\"background-color: white; display: inline-block;\">at_</span> <span style=\"background-color: white; display: inline-block;\">amore_</span> <span style=\"background-color: white; display: inline-block;\">,_</span> <span style=\"background-color: white; display: inline-block;\">quae_</span> <span style=\"background-color: white; display: inline-block;\">conple</span> <span style=\"background-color: white; display: inline-block;\">xa_</span> <span style=\"background-color: white; display: inline-block;\">viri_</span> <span style=\"background-color: white; display: inline-block;\">corpus_</span> <span style=\"background-color: white; display: inline-block;\">cum_</span> <span style=\"background-color: white; display: inline-block;\">corpore_</span> <span style=\"background-color: white; display: inline-block;\">iungi</span> <span style=\"background-color: white; display: inline-block;\">t_</span> <span style=\"background-color: white; display: inline-block;\">et_</span> <span style=\"background-color: white; display: inline-block;\">tenet_</span> <span style=\"background-color: white; display: inline-block;\">adsu</span> <span style=\"background-color: white; display: inline-block;\">ctis_</span> <span style=\"background-color: white; display: inline-block;\">ume</span> <span style=\"background-color: white; display: inline-block;\">ctan</span> <span style=\"background-color: white; display: inline-block;\">s_</span> <span style=\"background-color: white; display: inline-block;\">oscula_</span> <span style=\"background-color: white; display: inline-block;\">labr</span> <span style=\"background-color: white; display: inline-block;\">is_</span> <span style=\"background-color: white; display: inline-block;\">nam_</span> <span style=\"background-color: white; display: inline-block;\">facit_</span> <span style=\"background-color: white; display: inline-block;\">ex_</span> <span style=\"background-color: white; display: inline-block;\">animo_</span> <span style=\"background-color: white; display: inline-block;\">saepe_</span> <span style=\"background-color: white; display: inline-block;\">et_</span> <span style=\"background-color: white; display: inline-block;\">communia_</span> <span style=\"background-color: white; display: inline-block;\">quaeren</span> <span style=\"background-color: white; display: inline-block;\">s_</span> <span style=\"background-color: white; display: inline-block;\">gaudia_</span> <span style=\"background-color: white; display: inline-block;\">sollicita</span> <span style=\"background-color: white; display: inline-block;\">t_</span> <span style=\"background-color: white; display: inline-block;\">spatium_</span> <span style=\"background-color: white; display: inline-block;\">decurre</span> <span style=\"background-color: white; display: inline-block;\">re_</span> <span style=\"background-color: white; display: inline-block;\">amoris_</span> <span style=\"background-color: white; display: inline-block;\">._</span> <span style=\"background-color: white; display: inline-block;\">[SEP]</span></p>"
      ],
      "text/plain": [
       "<IPython.core.display.HTML object>"
      ]
     },
     "metadata": {},
     "output_type": "display_data"
    },
    {
     "data": {
      "text/html": [
       "<p><b style=\"text-decoration: line-through;;\">positive</b> -> <span style=\"background-color: white; display: inline-block;\">[CLS]</span> <span style=\"background-color: white; display: inline-block;\">auxi</span> <span style=\"background-color: white; display: inline-block;\">t_</span> <span style=\"background-color: white; display: inline-block;\">invidiam_</span> <span style=\"background-color: white; display: inline-block;\">praeclar</span> <span style=\"background-color: white; display: inline-block;\">o_</span> <span style=\"background-color: white; display: inline-block;\">exemplo_</span> <span style=\"background-color: white; display: inline-block;\">femina_</span> <span style=\"background-color: white; display: inline-block;\">ligu</span> <span style=\"background-color: white; display: inline-block;\">s_</span> <span style=\"background-color: white; display: inline-block;\">,_</span> <span style=\"background-color: white; display: inline-block;\">quae_</span> <span style=\"background-color: white; display: inline-block;\">filio_</span> <span style=\"background-color: white; display: inline-block;\">abdit</span> <span style=\"background-color: white; display: inline-block;\">o_</span> <span style=\"background-color: white; display: inline-block;\">,_</span> <span style=\"background-color: white; display: inline-block;\">cum_</span> <span style=\"background-color: white; display: inline-block;\">simul_</span> <span style=\"background-color: white; display: inline-block;\">pecuniam_</span> <span style=\"background-color: white; display: inline-block;\">occulta</span> <span style=\"background-color: white; display: inline-block;\">ri_</span> <span style=\"background-color: white; display: inline-block;\">milites_</span> <span style=\"background-color: white; display: inline-block;\">credidis</span> <span style=\"background-color: white; display: inline-block;\">sent_</span> <span style=\"background-color: white; display: inline-block;\">eo</span> <span style=\"background-color: white; display: inline-block;\">que_</span> <span style=\"background-color: white; display: inline-block;\">-_</span> <span style=\"background-color: white; display: inline-block;\">que_</span> <span style=\"background-color: white; display: inline-block;\">per_</span> <span style=\"background-color: white; display: inline-block;\">cruciatu</span> <span style=\"background-color: white; display: inline-block;\">s_</span> <span style=\"background-color: white; display: inline-block;\">interrogar</span> <span style=\"background-color: white; display: inline-block;\">ent_</span> <span style=\"background-color: white; display: inline-block;\">ubi_</span> <span style=\"background-color: white; display: inline-block;\">filium_</span> <span style=\"background-color: white; display: inline-block;\">occu</span> <span style=\"background-color: white; display: inline-block;\">lere</span> <span style=\"background-color: white; display: inline-block;\">t_</span> <span style=\"background-color: white; display: inline-block;\">,_</span> <span style=\"background-color: #ffdf00; display: inline-block;\">uter</span> <span style=\"background-color: white; display: inline-block;\">um_</span> <span style=\"background-color: white; display: inline-block;\">ostendens_</span> <span style=\"background-color: white; display: inline-block;\">latere_</span> <span style=\"background-color: white; display: inline-block;\">respondit_</span> <span style=\"background-color: white; display: inline-block;\">,_</span> <span style=\"background-color: white; display: inline-block;\">nec_</span> <span style=\"background-color: white; display: inline-block;\">ulli</span> <span style=\"background-color: white; display: inline-block;\">s_</span> <span style=\"background-color: white; display: inline-block;\">deinde_</span> <span style=\"background-color: white; display: inline-block;\">terror</span> <span style=\"background-color: white; display: inline-block;\">ibus_</span> <span style=\"background-color: white; display: inline-block;\">aut_</span> <span style=\"background-color: white; display: inline-block;\">morte_</span> <span style=\"background-color: white; display: inline-block;\">constantiam_</span> <span style=\"background-color: white; display: inline-block;\">vocis_</span> <span style=\"background-color: white; display: inline-block;\">egregia</span> <span style=\"background-color: white; display: inline-block;\">e_</span> <span style=\"background-color: white; display: inline-block;\">mutavit_</span> <span style=\"background-color: white; display: inline-block;\">._</span> <span style=\"background-color: white; display: inline-block;\">[SEP]</span></p>"
      ],
      "text/plain": [
       "<IPython.core.display.HTML object>"
      ]
     },
     "metadata": {},
     "output_type": "display_data"
    },
    {
     "data": {
      "text/html": [
       "<p><b style=\"text-decoration: line-through;;\">positive</b> -> <span style=\"background-color: white; display: inline-block;\">[CLS]</span> <span style=\"background-color: white; display: inline-block;\">eiusdem_</span> <span style=\"background-color: white; display: inline-block;\">caver</span> <span style=\"background-color: white; display: inline-block;\">nam_</span> <span style=\"background-color: white; display: inline-block;\">sinistr</span> <span style=\"background-color: white; display: inline-block;\">o_</span> <span style=\"background-color: white; display: inline-block;\">lacert</span> <span style=\"background-color: white; display: inline-block;\">o_</span> <span style=\"background-color: white; display: inline-block;\">alligat</span> <span style=\"background-color: white; display: inline-block;\">am_</span> <span style=\"background-color: white; display: inline-block;\">,_</span> <span style=\"background-color: white; display: inline-block;\">si_</span> <span style=\"background-color: white; display: inline-block;\">quis_</span> <span style=\"background-color: white; display: inline-block;\">mulierem_</span> <span style=\"background-color: white; display: inline-block;\">prospici</span> <span style=\"background-color: white; display: inline-block;\">at_</span> <span style=\"background-color: white; display: inline-block;\">,_</span> <span style=\"background-color: white; display: inline-block;\">amatori</span> <span style=\"background-color: white; display: inline-block;\">um_</span> <span style=\"background-color: white; display: inline-block;\">esse_</span> <span style=\"background-color: white; display: inline-block;\">tam_</span> <span style=\"background-color: white; display: inline-block;\">praesens_</span> <span style=\"background-color: white; display: inline-block;\">,_</span> <span style=\"background-color: white; display: inline-block;\">ut_</span> <span style=\"background-color: white; display: inline-block;\">ilico_</span> <span style=\"background-color: white; display: inline-block;\">sequatur_</span> <span style=\"background-color: white; display: inline-block;\">eiusdem_</span> <span style=\"background-color: white; display: inline-block;\">loci_</span> <span style=\"background-color: white; display: inline-block;\">pil</span> <span style=\"background-color: white; display: inline-block;\">orum_</span> <span style=\"background-color: white; display: inline-block;\">cinere</span> <span style=\"background-color: white; display: inline-block;\">m_</span> <span style=\"background-color: white; display: inline-block;\">ex_</span> <span style=\"background-color: white; display: inline-block;\">oleo_</span> <span style=\"background-color: white; display: inline-block;\">inli</span> <span style=\"background-color: white; display: inline-block;\">tum_</span> <span style=\"background-color: white; display: inline-block;\">viris_</span> <span style=\"background-color: white; display: inline-block;\">,_</span> <span style=\"background-color: white; display: inline-block;\">qui_</span> <span style=\"background-color: white; display: inline-block;\">sint_</span> <span style=\"background-color: white; display: inline-block;\">probr</span> <span style=\"background-color: white; display: inline-block;\">osae_</span> <span style=\"background-color: white; display: inline-block;\">[SEP]</span></p>"
      ],
      "text/plain": [
       "<IPython.core.display.HTML object>"
      ]
     },
     "metadata": {},
     "output_type": "display_data"
    },
    {
     "data": {
      "text/html": [
       "<p><b style=\"text-decoration: line-through;;\">positive</b> -> <span style=\"background-color: white; display: inline-block;\">[CLS]</span> <span style=\"background-color: white; display: inline-block;\">lavacr</span> <span style=\"background-color: white; display: inline-block;\">um_</span> <span style=\"background-color: white; display: inline-block;\">publicum_</span> <span style=\"background-color: white; display: inline-block;\">in_</span> <span style=\"background-color: white; display: inline-block;\">aedibus_</span> <span style=\"background-color: white; display: inline-block;\">auli</span> <span style=\"background-color: white; display: inline-block;\">cis_</span> <span style=\"background-color: white; display: inline-block;\">fecit_</span> <span style=\"background-color: white; display: inline-block;\">,_</span> <span style=\"background-color: white; display: inline-block;\">simul_</span> <span style=\"background-color: white; display: inline-block;\">et_</span> <span style=\"background-color: white; display: inline-block;\">plauti</span> <span style=\"background-color: white; display: inline-block;\">ni_</span> <span style=\"background-color: white; display: inline-block;\">populo_</span> <span style=\"background-color: white; display: inline-block;\">exhibuit_</span> <span style=\"background-color: white; display: inline-block;\">,_</span> <span style=\"background-color: white; display: inline-block;\">ut_</span> <span style=\"background-color: white; display: inline-block;\">ex_</span> <span style=\"background-color: white; display: inline-block;\">eo_</span> <span style=\"background-color: white; display: inline-block;\">condicion</span> <span style=\"background-color: white; display: inline-block;\">es_</span> <span style=\"background-color: white; display: inline-block;\">bene_</span> <span style=\"background-color: white; display: inline-block;\">vas</span> <span style=\"background-color: white; display: inline-block;\">atorum_</span> <span style=\"background-color: white; display: inline-block;\">hominum_</span> <span style=\"background-color: white; display: inline-block;\">collige</span> <span style=\"background-color: white; display: inline-block;\">ret_</span> <span style=\"background-color: white; display: inline-block;\">._</span> <span style=\"background-color: white; display: inline-block;\">[SEP]</span></p>"
      ],
      "text/plain": [
       "<IPython.core.display.HTML object>"
      ]
     },
     "metadata": {},
     "output_type": "display_data"
    },
    {
     "data": {
      "text/html": [
       "<p><b style=\"text-decoration: line-through;;\">positive</b> -> <span style=\"background-color: white; display: inline-block;\">[CLS]</span> <span style=\"background-color: white; display: inline-block;\">illa_</span> <span style=\"background-color: white; display: inline-block;\">manu_</span> <span style=\"background-color: white; display: inline-block;\">moriens_</span> <span style=\"background-color: white; display: inline-block;\">telum_</span> <span style=\"background-color: white; display: inline-block;\">trahit_</span> <span style=\"background-color: white; display: inline-block;\">,_</span> <span style=\"background-color: white; display: inline-block;\">ossa_</span> <span style=\"background-color: white; display: inline-block;\">sed_</span> <span style=\"background-color: white; display: inline-block;\">inter_</span> <span style=\"background-color: white; display: inline-block;\">altius_</span> <span style=\"background-color: white; display: inline-block;\">ad_</span> <span style=\"background-color: white; display: inline-block;\">vivum_</span> <span style=\"background-color: white; display: inline-block;\">perse</span> <span style=\"background-color: white; display: inline-block;\">dit_</span> <span style=\"background-color: white; display: inline-block;\">vulnere_</span> <span style=\"background-color: yellow; display: inline-block;\">mucro</span> <span style=\"background-color: white; display: inline-block;\">_</span> <span style=\"background-color: white; display: inline-block;\">._</span> <span style=\"background-color: white; display: inline-block;\">[SEP]</span></p>"
      ],
      "text/plain": [
       "<IPython.core.display.HTML object>"
      ]
     },
     "metadata": {},
     "output_type": "display_data"
    },
    {
     "data": {
      "text/html": [
       "<p><b style=\"text-decoration: line-through;;\">positive</b> -> <span style=\"background-color: white; display: inline-block;\">[CLS]</span> <span style=\"background-color: white; display: inline-block;\">quapropter_</span> <span style=\"background-color: white; display: inline-block;\">perspici</span> <span style=\"background-color: white; display: inline-block;\">endum_</span> <span style=\"background-color: white; display: inline-block;\">,_</span> <span style=\"background-color: white; display: inline-block;\">utrum_</span> <span style=\"background-color: white; display: inline-block;\">usque_</span> <span style=\"background-color: white; display: inline-block;\">ad_</span> <span style=\"background-color: white; display: inline-block;\">dimissi</span> <span style=\"background-color: white; display: inline-block;\">onem_</span> <span style=\"background-color: white; display: inline-block;\">accessi</span> <span style=\"background-color: white; display: inline-block;\">onis_</span> <span style=\"background-color: white; display: inline-block;\">flu</span> <span style=\"background-color: white; display: inline-block;\">or_</span> <span style=\"background-color: white; display: inline-block;\">uent</span> <span style=\"background-color: white; display: inline-block;\">ris_</span> <span style=\"background-color: white; display: inline-block;\">perse</span> <span style=\"background-color: white; display: inline-block;\">uere</span> <span style=\"background-color: white; display: inline-block;\">t_</span> <span style=\"background-color: white; display: inline-block;\">uel_</span> <span style=\"background-color: white; display: inline-block;\">eius_</span> <span style=\"background-color: white; display: inline-block;\">meat</span> <span style=\"background-color: white; display: inline-block;\">io_</span> <span style=\"background-color: white; display: inline-block;\">mor</span> <span style=\"background-color: white; display: inline-block;\">dicati</span> <span style=\"background-color: white; display: inline-block;\">onem_</span> <span style=\"background-color: white; display: inline-block;\">quandam_</span> <span style=\"background-color: white; display: inline-block;\">faciat_</span> <span style=\"background-color: yellow; display: inline-block;\">pod</span> <span style=\"background-color: white; display: inline-block;\">ici_</span> <span style=\"background-color: white; display: inline-block;\">uel_</span> <span style=\"background-color: yellow; display: inline-block;\">intestin</span> <span style=\"background-color: white; display: inline-block;\">is_</span> <span style=\"background-color: white; display: inline-block;\">._</span> <span style=\"background-color: white; display: inline-block;\">[SEP]</span></p>"
      ],
      "text/plain": [
       "<IPython.core.display.HTML object>"
      ]
     },
     "metadata": {},
     "output_type": "display_data"
    },
    {
     "data": {
      "text/html": [
       "<p><b style=\"text-decoration: line-through;;\">positive</b> -> <span style=\"background-color: white; display: inline-block;\">[CLS]</span> <span style=\"background-color: white; display: inline-block;\">at_</span> <span style=\"background-color: white; display: inline-block;\">tibi_</span> <span style=\"background-color: white; display: inline-block;\">nil_</span> <span style=\"background-color: white; display: inline-block;\">faciam_</span> <span style=\"background-color: white; display: inline-block;\">,_</span> <span style=\"background-color: white; display: inline-block;\">sed_</span> <span style=\"background-color: white; display: inline-block;\">lot</span> <span style=\"background-color: white; display: inline-block;\">a_</span> <span style=\"background-color: yellow; display: inline-block;\">ment</span> <span style=\"background-color: white; display: inline-block;\">ula_</span> <span style=\"background-color: white; display: inline-block;\">lana_</span> <span style=\"background-color: white; display: inline-block;\">λα</span> <span style=\"background-color: white; display: inline-block;\">ι</span> <span style=\"background-color: white; display: inline-block;\">κ</span> <span style=\"background-color: white; display: inline-block;\">ά</span> <span style=\"background-color: white; display: inline-block;\">ζ</span> <span style=\"background-color: white; display: inline-block;\">ει</span> <span style=\"background-color: white; display: inline-block;\">ν_</span> <span style=\"background-color: white; display: inline-block;\">cupid</span> <span style=\"background-color: white; display: inline-block;\">ae_</span> <span style=\"background-color: white; display: inline-block;\">dicet_</span> <span style=\"background-color: white; display: inline-block;\">avaritiae_</span> <span style=\"background-color: white; display: inline-block;\">._</span> <span style=\"background-color: white; display: inline-block;\">[SEP]</span></p>"
      ],
      "text/plain": [
       "<IPython.core.display.HTML object>"
      ]
     },
     "metadata": {},
     "output_type": "display_data"
    },
    {
     "data": {
      "text/html": [
       "<p><b style=\"text-decoration: line-through;;\">positive</b> -> <span style=\"background-color: white; display: inline-block;\">[CLS]</span> <span style=\"background-color: white; display: inline-block;\">vulp</span> <span style=\"background-color: white; display: inline-block;\">ecu</span> <span style=\"background-color: white; display: inline-block;\">lae_</span> <span style=\"background-color: white; display: inline-block;\">adip</span> <span style=\"background-color: white; display: inline-block;\">em_</span> <span style=\"background-color: white; display: inline-block;\">aut_</span> <span style=\"background-color: white; display: inline-block;\">capra</span> <span style=\"background-color: white; display: inline-block;\">e_</span> <span style=\"background-color: white; display: inline-block;\">cum_</span> <span style=\"background-color: white; display: inline-block;\">modico_</span> <span style=\"background-color: white; display: inline-block;\">bitu</span> <span style=\"background-color: white; display: inline-block;\">mine_</span> <span style=\"background-color: white; display: inline-block;\">tritu</span> <span style=\"background-color: white; display: inline-block;\">m_</span> <span style=\"background-color: white; display: inline-block;\">et_</span> <span style=\"background-color: white; display: inline-block;\">in_</span> <span style=\"background-color: white; display: inline-block;\">pes</span> <span style=\"background-color: white; display: inline-block;\">so_</span> <span style=\"background-color: white; display: inline-block;\">apposit</span> <span style=\"background-color: white; display: inline-block;\">um_</span> <span style=\"background-color: white; display: inline-block;\">praef</span> <span style=\"background-color: white; display: inline-block;\">ocat</span> <span style=\"background-color: white; display: inline-block;\">ionem_</span> <span style=\"background-color: #ffdf00; display: inline-block;\">matri</span> <span style=\"background-color: white; display: inline-block;\">cis_</span> <span style=\"background-color: white; display: inline-block;\">mitiga</span> <span style=\"background-color: white; display: inline-block;\">t_</span> <span style=\"background-color: white; display: inline-block;\">._</span> <span style=\"background-color: white; display: inline-block;\">[SEP]</span></p>"
      ],
      "text/plain": [
       "<IPython.core.display.HTML object>"
      ]
     },
     "metadata": {},
     "output_type": "display_data"
    },
    {
     "data": {
      "text/html": [
       "<p><b style=\"text-decoration: line-through;;\">positive</b> -> <span style=\"background-color: white; display: inline-block;\">[CLS]</span> <span style=\"background-color: white; display: inline-block;\">rogat_</span> <span style=\"background-color: white; display: inline-block;\">impia_</span> <span style=\"background-color: white; display: inline-block;\">belli_</span> <span style=\"background-color: white; display: inline-block;\">mater_</span> <span style=\"background-color: white; display: inline-block;\">in_</span> <span style=\"background-color: white; display: inline-block;\">his_</span> <span style=\"background-color: white; display: inline-block;\">aliquod_</span> <span style=\"background-color: white; display: inline-block;\">ius_</span> <span style=\"background-color: white; display: inline-block;\">exsecra</span> <span style=\"background-color: white; display: inline-block;\">bile_</span> <span style=\"background-color: white; display: inline-block;\">castris_</span> <span style=\"background-color: white; display: inline-block;\">huic_</span> <span style=\"background-color: yellow; display: inline-block;\">utero_</span> <span style=\"background-color: white; display: inline-block;\">est_</span> <span style=\"background-color: white; display: inline-block;\">._</span> <span style=\"background-color: white; display: inline-block;\">[SEP]</span></p>"
      ],
      "text/plain": [
       "<IPython.core.display.HTML object>"
      ]
     },
     "metadata": {},
     "output_type": "display_data"
    },
    {
     "data": {
      "text/html": [
       "<p><b style=\"text-decoration: line-through;;\">positive</b> -> <span style=\"background-color: white; display: inline-block;\">[CLS]</span> <span style=\"background-color: white; display: inline-block;\">si_</span> <span style=\"background-color: white; display: inline-block;\">mid</span> <span style=\"background-color: white; display: inline-block;\">as_</span> <span style=\"background-color: white; display: inline-block;\">rex_</span> <span style=\"background-color: white; display: inline-block;\">offende</span> <span style=\"background-color: white; display: inline-block;\">rat_</span> <span style=\"background-color: white; display: inline-block;\">,_</span> <span style=\"background-color: white; display: inline-block;\">qui_</span> <span style=\"background-color: white; display: inline-block;\">uxore_</span> <span style=\"background-color: white; display: inline-block;\">adul</span> <span style=\"background-color: white; display: inline-block;\">escent</span> <span style=\"background-color: white; display: inline-block;\">ulum_</span> <span style=\"background-color: white; display: inline-block;\">uinc</span> <span style=\"background-color: white; display: inline-block;\">ieb</span> <span style=\"background-color: white; display: inline-block;\">at_</span> <span style=\"background-color: white; display: inline-block;\">,_</span> <span style=\"background-color: white; display: inline-block;\">quid_</span> <span style=\"background-color: white; display: inline-block;\">admis</span> <span style=\"background-color: white; display: inline-block;\">erat_</span> <span style=\"background-color: white; display: inline-block;\">gallus_</span> <span style=\"background-color: white; display: inline-block;\">,_</span> <span style=\"background-color: white; display: inline-block;\">quid_</span> <span style=\"background-color: white; display: inline-block;\">peli</span> <span style=\"background-color: white; display: inline-block;\">cis_</span> <span style=\"background-color: white; display: inline-block;\">filia_</span> <span style=\"background-color: white; display: inline-block;\">,_</span> <span style=\"background-color: white; display: inline-block;\">ut_</span> <span style=\"background-color: white; display: inline-block;\">ille_</span> <span style=\"background-color: white; display: inline-block;\">se_</span> <span style=\"background-color: white; display: inline-block;\">uiro</span> <span style=\"background-color: white; display: inline-block;\">_</span> <span style=\"background-color: white; display: inline-block;\">,_</span> <span style=\"background-color: white; display: inline-block;\">haec_</span> <span style=\"background-color: white; display: inline-block;\">mamma</span> <span style=\"background-color: white; display: inline-block;\">rum_</span> <span style=\"background-color: white; display: inline-block;\">honestate</span> <span style=\"background-color: white; display: inline-block;\">_</span> <span style=\"background-color: white; display: inline-block;\">priu</span> <span style=\"background-color: white; display: inline-block;\">aret_</span> <span style=\"background-color: white; display: inline-block;\">?_</span> <span style=\"background-color: white; display: inline-block;\">[SEP]</span></p>"
      ],
      "text/plain": [
       "<IPython.core.display.HTML object>"
      ]
     },
     "metadata": {},
     "output_type": "display_data"
    },
    {
     "data": {
      "text/html": [
       "<p><b style=\"text-decoration: line-through;;\">positive</b> -> <span style=\"background-color: white; display: inline-block;\">[CLS]</span> <span style=\"background-color: white; display: inline-block;\">o_</span> <span style=\"background-color: white; display: inline-block;\">patria_</span> <span style=\"background-color: white; display: inline-block;\">,_</span> <span style=\"background-color: white; display: inline-block;\">o_</span> <span style=\"background-color: white; display: inline-block;\">divo</span> <span style=\"background-color: white; display: inline-block;\">m_</span> <span style=\"background-color: white; display: inline-block;\">domus_</span> <span style=\"background-color: white; display: inline-block;\">ilium_</span> <span style=\"background-color: white; display: inline-block;\">,_</span> <span style=\"background-color: white; display: inline-block;\">et_</span> <span style=\"background-color: white; display: inline-block;\">inclu</span> <span style=\"background-color: white; display: inline-block;\">ta_</span> <span style=\"background-color: white; display: inline-block;\">bello_</span> <span style=\"background-color: white; display: inline-block;\">moenia_</span> <span style=\"background-color: white; display: inline-block;\">dardani</span> <span style=\"background-color: white; display: inline-block;\">dum_</span> <span style=\"background-color: white; display: inline-block;\">,_</span> <span style=\"background-color: white; display: inline-block;\">quater_</span> <span style=\"background-color: white; display: inline-block;\">ipso_</span> <span style=\"background-color: white; display: inline-block;\">in_</span> <span style=\"background-color: white; display: inline-block;\">limine_</span> <span style=\"background-color: white; display: inline-block;\">portae_</span> <span style=\"background-color: white; display: inline-block;\">subst</span> <span style=\"background-color: white; display: inline-block;\">itit_</span> <span style=\"background-color: white; display: inline-block;\">,_</span> <span style=\"background-color: white; display: inline-block;\">atque_</span> <span style=\"background-color: white; display: inline-block;\">utero_</span> <span style=\"background-color: white; display: inline-block;\">sonitu</span> <span style=\"background-color: white; display: inline-block;\">m_</span> <span style=\"background-color: white; display: inline-block;\">quater_</span> <span style=\"background-color: white; display: inline-block;\">arma_</span> <span style=\"background-color: white; display: inline-block;\">deder</span> <span style=\"background-color: white; display: inline-block;\">e_</span> <span style=\"background-color: white; display: inline-block;\">:_</span> <span style=\"background-color: white; display: inline-block;\">insta</span> <span style=\"background-color: white; display: inline-block;\">mus_</span> <span style=\"background-color: white; display: inline-block;\">tamen_</span> <span style=\"background-color: white; display: inline-block;\">inme</span> <span style=\"background-color: white; display: inline-block;\">mores_</span> <span style=\"background-color: white; display: inline-block;\">caeci</span> <span style=\"background-color: white; display: inline-block;\">que_</span> <span style=\"background-color: white; display: inline-block;\">-_</span> <span style=\"background-color: white; display: inline-block;\">que_</span> <span style=\"background-color: white; display: inline-block;\">furore_</span> <span style=\"background-color: white; display: inline-block;\">,_</span> <span style=\"background-color: white; display: inline-block;\">et_</span> <span style=\"background-color: white; display: inline-block;\">monstru</span> <span style=\"background-color: white; display: inline-block;\">m_</span> <span style=\"background-color: white; display: inline-block;\">infelix_</span> <span style=\"background-color: white; display: inline-block;\">sacrat</span> <span style=\"background-color: white; display: inline-block;\">a_</span> <span style=\"background-color: white; display: inline-block;\">sisti</span> <span style=\"background-color: white; display: inline-block;\">mus_</span> <span style=\"background-color: white; display: inline-block;\">arce_</span> <span style=\"background-color: white; display: inline-block;\">._</span> <span style=\"background-color: white; display: inline-block;\">[SEP]</span></p>"
      ],
      "text/plain": [
       "<IPython.core.display.HTML object>"
      ]
     },
     "metadata": {},
     "output_type": "display_data"
    },
    {
     "data": {
      "text/html": [
       "<p><b style=\"text-decoration: line-through;;\">positive</b> -> <span style=\"background-color: white; display: inline-block;\">[CLS]</span> <span style=\"background-color: white; display: inline-block;\">nam_</span> <span style=\"background-color: white; display: inline-block;\">facit_</span> <span style=\"background-color: white; display: inline-block;\">ex_</span> <span style=\"background-color: white; display: inline-block;\">animo_</span> <span style=\"background-color: white; display: inline-block;\">saepe_</span> <span style=\"background-color: white; display: inline-block;\">et_</span> <span style=\"background-color: white; display: inline-block;\">communia_</span> <span style=\"background-color: white; display: inline-block;\">quaeren</span> <span style=\"background-color: white; display: inline-block;\">s_</span> <span style=\"background-color: white; display: inline-block;\">gaudia_</span> <span style=\"background-color: white; display: inline-block;\">sollicita</span> <span style=\"background-color: white; display: inline-block;\">t_</span> <span style=\"background-color: white; display: inline-block;\">spatium_</span> <span style=\"background-color: white; display: inline-block;\">decurre</span> <span style=\"background-color: white; display: inline-block;\">re_</span> <span style=\"background-color: white; display: inline-block;\">amoris_</span> <span style=\"background-color: white; display: inline-block;\">._</span> <span style=\"background-color: white; display: inline-block;\">[SEP]</span></p>"
      ],
      "text/plain": [
       "<IPython.core.display.HTML object>"
      ]
     },
     "metadata": {},
     "output_type": "display_data"
    },
    {
     "data": {
      "text/html": [
       "<p><b style=\"text-decoration: line-through;;\">positive</b> -> <span style=\"background-color: white; display: inline-block;\">[CLS]</span> <span style=\"background-color: yellow; display: inline-block;\">tergu</span> <span style=\"background-color: white; display: inline-block;\">m_</span> <span style=\"background-color: white; display: inline-block;\">,_</span> <span style=\"background-color: white; display: inline-block;\">colla_</span> <span style=\"background-color: white; display: inline-block;\">,_</span> <span style=\"background-color: white; display: inline-block;\">umer</span> <span style=\"background-color: white; display: inline-block;\">os_</span> <span style=\"background-color: white; display: inline-block;\">,_</span> <span style=\"background-color: white; display: inline-block;\">lute</span> <span style=\"background-color: white; display: inline-block;\">ae_</span> <span style=\"background-color: white; display: inline-block;\">symp</span> <span style=\"background-color: white; display: inline-block;\">lega</span> <span style=\"background-color: white; display: inline-block;\">dis_</span> <span style=\"background-color: white; display: inline-block;\">antr</span> <span style=\"background-color: white; display: inline-block;\">um_</span> <span style=\"background-color: white; display: inline-block;\">._</span> <span style=\"background-color: white; display: inline-block;\">[SEP]</span></p>"
      ],
      "text/plain": [
       "<IPython.core.display.HTML object>"
      ]
     },
     "metadata": {},
     "output_type": "display_data"
    },
    {
     "data": {
      "text/html": [
       "<p><b style=\"text-decoration: line-through;;\">positive</b> -> <span style=\"background-color: white; display: inline-block;\">[CLS]</span> <span style=\"background-color: yellow; display: inline-block;\">devol</span> <span style=\"background-color: white; display: inline-block;\">vit_</span> <span style=\"background-color: white; display: inline-block;\">ili_</span> <span style=\"background-color: white; display: inline-block;\">acut</span> <span style=\"background-color: white; display: inline-block;\">o_</span> <span style=\"background-color: white; display: inline-block;\">sibi_</span> <span style=\"background-color: white; display: inline-block;\">pondera_</span> <span style=\"background-color: yellow; display: inline-block;\">sili</span> <span style=\"background-color: white; display: inline-block;\">ce_</span> <span style=\"background-color: white; display: inline-block;\">._</span> <span style=\"background-color: white; display: inline-block;\">[SEP]</span></p>"
      ],
      "text/plain": [
       "<IPython.core.display.HTML object>"
      ]
     },
     "metadata": {},
     "output_type": "display_data"
    },
    {
     "data": {
      "text/html": [
       "<p><b style=\"text-decoration: line-through;;\">positive</b> -> <span style=\"background-color: white; display: inline-block;\">[CLS]</span> <span style=\"background-color: white; display: inline-block;\">nam_</span> <span style=\"background-color: white; display: inline-block;\">nisi_</span> <span style=\"background-color: white; display: inline-block;\">prius_</span> <span style=\"background-color: white; display: inline-block;\">ea_</span> <span style=\"background-color: white; display: inline-block;\">mare</span> <span style=\"background-color: white; display: inline-block;\">m_</span> <span style=\"background-color: white; display: inline-block;\">cognovit_</span> <span style=\"background-color: white; display: inline-block;\">,_</span> <span style=\"background-color: white; display: inline-block;\">adsi</span> <span style=\"background-color: white; display: inline-block;\">lien</span> <span style=\"background-color: white; display: inline-block;\">tem_</span> <span style=\"background-color: white; display: inline-block;\">admiss</span> <span style=\"background-color: white; display: inline-block;\">arium_</span> <span style=\"background-color: white; display: inline-block;\">calci</span> <span style=\"background-color: white; display: inline-block;\">bus_</span> <span style=\"background-color: white; display: inline-block;\">prot</span> <span style=\"background-color: white; display: inline-block;\">urb</span> <span style=\"background-color: white; display: inline-block;\">at_</span> <span style=\"background-color: white; display: inline-block;\">[SEP]</span></p>"
      ],
      "text/plain": [
       "<IPython.core.display.HTML object>"
      ]
     },
     "metadata": {},
     "output_type": "display_data"
    },
    {
     "data": {
      "text/html": [
       "<p><b style=\"text-decoration: line-through;;\">positive</b> -> <span style=\"background-color: white; display: inline-block;\">[CLS]</span> <span style=\"background-color: white; display: inline-block;\">nec_</span> <span style=\"background-color: white; display: inline-block;\">contenti_</span> <span style=\"background-color: white; display: inline-block;\">hos_</span> <span style=\"background-color: white; display: inline-block;\">coetu</span> <span style=\"background-color: white; display: inline-block;\">s_</span> <span style=\"background-color: white; display: inline-block;\">graui</span> <span style=\"background-color: yellow; display: inline-block;\">tati_</span> <span style=\"background-color: white; display: inline-block;\">attribu</span> <span style=\"background-color: white; display: inline-block;\">isse_</span> <span style=\"background-color: white; display: inline-block;\">saturni</span> <span style=\"background-color: yellow; display: inline-block;\">ae_</span> <span style=\"background-color: white; display: inline-block;\">[SEP]</span></p>"
      ],
      "text/plain": [
       "<IPython.core.display.HTML object>"
      ]
     },
     "metadata": {},
     "output_type": "display_data"
    },
    {
     "data": {
      "text/html": [
       "<p><b style=\"text-decoration: line-through;;\">positive</b> -> <span style=\"background-color: white; display: inline-block;\">[CLS]</span> <span style=\"background-color: white; display: inline-block;\">huius_</span> <span style=\"background-color: yellow; display: inline-block;\">corpore_</span> <span style=\"background-color: white; display: inline-block;\">cum_</span> <span style=\"background-color: white; display: inline-block;\">uio</span> <span style=\"background-color: white; display: inline-block;\">lente</span> <span style=\"background-color: white; display: inline-block;\">r_</span> <span style=\"background-color: white; display: inline-block;\">ob</span> <span style=\"background-color: white; display: inline-block;\">press</span> <span style=\"background-color: white; display: inline-block;\">o_</span> <span style=\"background-color: white; display: inline-block;\">tarquini</span> <span style=\"background-color: white; display: inline-block;\">i_</span> <span style=\"background-color: white; display: inline-block;\">regis_</span> <span style=\"background-color: white; display: inline-block;\">filius_</span> <span style=\"background-color: yellow; display: inline-block;\">libidin</span> <span style=\"background-color: white; display: inline-block;\">ose_</span> <span style=\"background-color: white; display: inline-block;\">potitus_</span> <span style=\"background-color: white; display: inline-block;\">esset_</span> <span style=\"background-color: white; display: inline-block;\">[SEP]</span></p>"
      ],
      "text/plain": [
       "<IPython.core.display.HTML object>"
      ]
     },
     "metadata": {},
     "output_type": "display_data"
    },
    {
     "data": {
      "text/html": [
       "<p><b style=\"text-decoration: line-through;;\">positive</b> -> <span style=\"background-color: white; display: inline-block;\">[CLS]</span> <span style=\"background-color: white; display: inline-block;\">qui_</span> <span style=\"background-color: white; display: inline-block;\">deprehens</span> <span style=\"background-color: white; display: inline-block;\">us_</span> <span style=\"background-color: white; display: inline-block;\">est_</span> <span style=\"background-color: white; display: inline-block;\">,_</span> <span style=\"background-color: white; display: inline-block;\">cum_</span> <span style=\"background-color: white; display: inline-block;\">dominam_</span> <span style=\"background-color: white; display: inline-block;\">suam_</span> <span style=\"background-color: white; display: inline-block;\">delectar</span> <span style=\"background-color: white; display: inline-block;\">etur_</span> <span style=\"background-color: white; display: inline-block;\">._</span> <span style=\"background-color: yellow; display: inline-block;\">[SEP]</span></p>"
      ],
      "text/plain": [
       "<IPython.core.display.HTML object>"
      ]
     },
     "metadata": {},
     "output_type": "display_data"
    },
    {
     "data": {
      "text/html": [
       "<p><b style=\"text-decoration: line-through;;\">positive</b> -> <span style=\"background-color: white; display: inline-block;\">[CLS]</span> <span style=\"background-color: white; display: inline-block;\">propriam_</span> <span style=\"background-color: white; display: inline-block;\">etiamnu</span> <span style=\"background-color: white; display: inline-block;\">m_</span> <span style=\"background-color: white; display: inline-block;\">animadversio</span> <span style=\"background-color: white; display: inline-block;\">nem_</span> <span style=\"background-color: white; display: inline-block;\">desiderant_</span> <span style=\"background-color: white; display: inline-block;\">eae_</span> <span style=\"background-color: white; display: inline-block;\">,_</span> <span style=\"background-color: white; display: inline-block;\">quae_</span> <span style=\"background-color: white; display: inline-block;\">in_</span> <span style=\"background-color: yellow; display: inline-block;\">ano_</span> <span style=\"background-color: white; display: inline-block;\">sunt_</span> <span style=\"background-color: yellow; display: inline-block;\">._</span> <span style=\"background-color: white; display: inline-block;\">[SEP]</span></p>"
      ],
      "text/plain": [
       "<IPython.core.display.HTML object>"
      ]
     },
     "metadata": {},
     "output_type": "display_data"
    },
    {
     "data": {
      "text/html": [
       "<p><b style=\"text-decoration: line-through;;\">positive</b> -> <span style=\"background-color: white; display: inline-block;\">[CLS]</span> <span style=\"background-color: white; display: inline-block;\">tu_</span> <span style=\"background-color: white; display: inline-block;\">mihi_</span> <span style=\"background-color: white; display: inline-block;\">primum_</span> <span style=\"background-color: white; display: inline-block;\">tot_</span> <span style=\"background-color: white; display: inline-block;\">nator</span> <span style=\"background-color: white; display: inline-block;\">um_</span> <span style=\"background-color: white; display: inline-block;\">memora</span> <span style=\"background-color: white; display: inline-block;\">nda_</span> <span style=\"background-color: white; display: inline-block;\">parens_</span> <span style=\"background-color: white; display: inline-block;\">,_</span> <span style=\"background-color: white; display: inline-block;\">nata_</span> <span style=\"background-color: white; display: inline-block;\">agrippa</span> <span style=\"background-color: white; display: inline-block;\">e_</span> <span style=\"background-color: white; display: inline-block;\">,_</span> <span style=\"background-color: white; display: inline-block;\">nuru</span> <span style=\"background-color: white; display: inline-block;\">s_</span> <span style=\"background-color: white; display: inline-block;\">augusti_</span> <span style=\"background-color: white; display: inline-block;\">,_</span> <span style=\"background-color: white; display: inline-block;\">caesaris_</span> <span style=\"background-color: white; display: inline-block;\">uxor_</span> <span style=\"background-color: white; display: inline-block;\">,_</span> <span style=\"background-color: white; display: inline-block;\">cuius_</span> <span style=\"background-color: white; display: inline-block;\">nomen_</span> <span style=\"background-color: white; display: inline-block;\">clarum_</span> <span style=\"background-color: white; display: inline-block;\">toto_</span> <span style=\"background-color: white; display: inline-block;\">ful</span> <span style=\"background-color: white; display: inline-block;\">sit_</span> <span style=\"background-color: white; display: inline-block;\">in_</span> <span style=\"background-color: white; display: inline-block;\">orbe_</span> <span style=\"background-color: white; display: inline-block;\">,_</span> <span style=\"background-color: white; display: inline-block;\">utero_</span> <span style=\"background-color: white; display: inline-block;\">totiens_</span> <span style=\"background-color: white; display: inline-block;\">eni</span> <span style=\"background-color: white; display: inline-block;\">xa_</span> <span style=\"background-color: white; display: inline-block;\">gravi_</span> <span style=\"background-color: white; display: inline-block;\">pignora_</span> <span style=\"background-color: white; display: inline-block;\">pacis_</span> <span style=\"background-color: white; display: inline-block;\">,_</span> <span style=\"background-color: white; display: inline-block;\">mox_</span> <span style=\"background-color: white; display: inline-block;\">exilium_</span> <span style=\"background-color: white; display: inline-block;\">verbera</span> <span style=\"background-color: white; display: inline-block;\">_</span> <span style=\"background-color: white; display: inline-block;\">,_</span> <span style=\"background-color: white; display: inline-block;\">saev</span> <span style=\"background-color: white; display: inline-block;\">as_</span> <span style=\"background-color: white; display: inline-block;\">passa_</span> <span style=\"background-color: white; display: inline-block;\">catena</span> <span style=\"background-color: white; display: inline-block;\">s_</span> <span style=\"background-color: white; display: inline-block;\">,_</span> <span style=\"background-color: white; display: inline-block;\">funera_</span> <span style=\"background-color: white; display: inline-block;\">,_</span> <span style=\"background-color: white; display: inline-block;\">luctus_</span> <span style=\"background-color: white; display: inline-block;\">,_</span> <span style=\"background-color: white; display: inline-block;\">tandem_</span> <span style=\"background-color: white; display: inline-block;\">letum_</span> <span style=\"background-color: white; display: inline-block;\">crucia</span> <span style=\"background-color: white; display: inline-block;\">ta_</span> <span style=\"background-color: white; display: inline-block;\">diu_</span> <span style=\"background-color: white; display: inline-block;\">._</span> <span style=\"background-color: white; display: inline-block;\">[SEP]</span></p>"
      ],
      "text/plain": [
       "<IPython.core.display.HTML object>"
      ]
     },
     "metadata": {},
     "output_type": "display_data"
    },
    {
     "data": {
      "text/html": [
       "<p><b style=\"text-decoration: line-through;;\">positive</b> -> <span style=\"background-color: white; display: inline-block;\">[CLS]</span> <span style=\"background-color: white; display: inline-block;\">sed_</span> <span style=\"background-color: white; display: inline-block;\">quod_</span> <span style=\"background-color: white; display: inline-block;\">et_</span> <span style=\"background-color: white; display: inline-block;\">eli</span> <span style=\"background-color: white; display: inline-block;\">xo_</span> <span style=\"background-color: white; display: inline-block;\">planta</span> <span style=\"background-color: white; display: inline-block;\">ria_</span> <span style=\"background-color: yellow; display: inline-block;\">pod</span> <span style=\"background-color: white; display: inline-block;\">ice_</span> <span style=\"background-color: white; display: inline-block;\">vell</span> <span style=\"background-color: white; display: inline-block;\">is_</span> <span style=\"background-color: white; display: inline-block;\">et_</span> <span style=\"background-color: white; display: inline-block;\">teris_</span> <span style=\"background-color: white; display: inline-block;\">incus</span> <span style=\"background-color: white; display: inline-block;\">as_</span> <span style=\"background-color: white; display: inline-block;\">pu</span> <span style=\"background-color: white; display: inline-block;\">mic</span> <span style=\"background-color: white; display: inline-block;\">e_</span> <span style=\"background-color: white; display: inline-block;\">cla</span> <span style=\"background-color: white; display: inline-block;\">zo</span> <span style=\"background-color: white; display: inline-block;\">mena</span> <span style=\"background-color: white; display: inline-block;\">s_</span> <span style=\"background-color: white; display: inline-block;\">[SEP]</span></p>"
      ],
      "text/plain": [
       "<IPython.core.display.HTML object>"
      ]
     },
     "metadata": {},
     "output_type": "display_data"
    },
    {
     "data": {
      "text/html": [
       "<p><b style=\"text-decoration: line-through;;\">positive</b> -> <span style=\"background-color: white; display: inline-block;\">[CLS]</span> <span style=\"background-color: white; display: inline-block;\">etiam</span> <span style=\"background-color: white; display: inline-block;\">ne_</span> <span style=\"background-color: white; display: inline-block;\">-_</span> <span style=\"background-color: white; display: inline-block;\">ne_</span> <span style=\"background-color: white; display: inline-block;\">tut</span> <span style=\"background-color: white; display: inline-block;\">unus_</span> <span style=\"background-color: white; display: inline-block;\">,_</span> <span style=\"background-color: white; display: inline-block;\">cuius_</span> <span style=\"background-color: white; display: inline-block;\">inma</span> <span style=\"background-color: white; display: inline-block;\">nibus_</span> <span style=\"background-color: white; display: inline-block;\">puden</span> <span style=\"background-color: white; display: inline-block;\">dis_</span> <span style=\"background-color: white; display: inline-block;\">horre</span> <span style=\"background-color: white; display: inline-block;\">nti</span> <span style=\"background-color: white; display: inline-block;\">que_</span> <span style=\"background-color: white; display: inline-block;\">-_</span> <span style=\"background-color: white; display: inline-block;\">que_</span> <span style=\"background-color: white; display: inline-block;\">fasci</span> <span style=\"background-color: white; display: inline-block;\">no_</span> <span style=\"background-color: white; display: inline-block;\">uestra</span> <span style=\"background-color: white; display: inline-block;\">s_</span> <span style=\"background-color: white; display: inline-block;\">ine</span> <span style=\"background-color: white; display: inline-block;\">quita</span> <span style=\"background-color: white; display: inline-block;\">re_</span> <span style=\"background-color: white; display: inline-block;\">matrona</span> <span style=\"background-color: white; display: inline-block;\">s_</span> <span style=\"background-color: white; display: inline-block;\">et_</span> <span style=\"background-color: white; display: inline-block;\">auspic</span> <span style=\"background-color: white; display: inline-block;\">abile</span> <span style=\"background-color: white; display: inline-block;\">_</span> <span style=\"background-color: white; display: inline-block;\">duci</span> <span style=\"background-color: white; display: inline-block;\">tis_</span> <span style=\"background-color: white; display: inline-block;\">et_</span> <span style=\"background-color: white; display: inline-block;\">optat</span> <span style=\"background-color: white; display: inline-block;\">is_</span> <span style=\"background-color: white; display: inline-block;\">?_</span> <span style=\"background-color: white; display: inline-block;\">[SEP]</span></p>"
      ],
      "text/plain": [
       "<IPython.core.display.HTML object>"
      ]
     },
     "metadata": {},
     "output_type": "display_data"
    },
    {
     "data": {
      "text/html": [
       "<p><b style=\"text-decoration: line-through;;\">positive</b> -> <span style=\"background-color: white; display: inline-block;\">[CLS]</span> <span style=\"background-color: yellow; display: inline-block;\">bri</span> <span style=\"background-color: white; display: inline-block;\">sei</span> <span style=\"background-color: white; display: inline-block;\">s_</span> <span style=\"background-color: white; display: inline-block;\">multum_</span> <span style=\"background-color: white; display: inline-block;\">quamvis_</span> <span style=\"background-color: white; display: inline-block;\">aversa</span> <span style=\"background-color: white; display: inline-block;\">_</span> <span style=\"background-color: yellow; display: inline-block;\">iacere</span> <span style=\"background-color: white; display: inline-block;\">t_</span> <span style=\"background-color: white; display: inline-block;\">[SEP]</span></p>"
      ],
      "text/plain": [
       "<IPython.core.display.HTML object>"
      ]
     },
     "metadata": {},
     "output_type": "display_data"
    },
    {
     "data": {
      "text/html": [
       "<p><b style=\"text-decoration: line-through;;\">positive</b> -> <span style=\"background-color: white; display: inline-block;\">[CLS]</span> <span style=\"background-color: white; display: inline-block;\">et_</span> <span style=\"background-color: white; display: inline-block;\">si_</span> <span style=\"background-color: white; display: inline-block;\">in_</span> <span style=\"background-color: white; display: inline-block;\">pinna</span> <span style=\"background-color: white; display: inline-block;\">culis_</span> <span style=\"background-color: white; display: inline-block;\">inventa_</span> <span style=\"background-color: white; display: inline-block;\">fuerit_</span> <span style=\"background-color: white; display: inline-block;\">obstr</span> <span style=\"background-color: white; display: inline-block;\">usio</span> <span style=\"background-color: white; display: inline-block;\">_</span> <span style=\"background-color: white; display: inline-block;\">,_</span> <span style=\"background-color: white; display: inline-block;\">scal</span> <span style=\"background-color: white; display: inline-block;\">pel</span> <span style=\"background-color: white; display: inline-block;\">lo_</span> <span style=\"background-color: white; display: inline-block;\">medie</span> <span style=\"background-color: white; display: inline-block;\">tas_</span> <span style=\"background-color: white; display: inline-block;\">dividend</span> <span style=\"background-color: white; display: inline-block;\">a_</span> <span style=\"background-color: white; display: inline-block;\">est_</span> <span style=\"background-color: white; display: inline-block;\">usque_</span> <span style=\"background-color: white; display: inline-block;\">ad_</span> <span style=\"background-color: white; display: inline-block;\">inani</span> <span style=\"background-color: white; display: inline-block;\">tatem_</span> <span style=\"background-color: white; display: inline-block;\">._</span> <span style=\"background-color: yellow; display: inline-block;\">[SEP]</span></p>"
      ],
      "text/plain": [
       "<IPython.core.display.HTML object>"
      ]
     },
     "metadata": {},
     "output_type": "display_data"
    },
    {
     "data": {
      "text/html": [
       "<p><b style=\"text-decoration: line-through;;\">positive</b> -> <span style=\"background-color: white; display: inline-block;\">[CLS]</span> <span style=\"background-color: white; display: inline-block;\">unci</span> <span style=\"background-color: white; display: inline-block;\">ola</span> <span style=\"background-color: white; display: inline-block;\">m_</span> <span style=\"background-color: white; display: inline-block;\">procul</span> <span style=\"background-color: white; display: inline-block;\">eius_</span> <span style=\"background-color: white; display: inline-block;\">habet_</span> <span style=\"background-color: white; display: inline-block;\">,_</span> <span style=\"background-color: white; display: inline-block;\">sed_</span> <span style=\"background-color: white; display: inline-block;\">gil</span> <span style=\"background-color: white; display: inline-block;\">lo_</span> <span style=\"background-color: white; display: inline-block;\">deu</span> <span style=\"background-color: white; display: inline-block;\">nce</span> <span style=\"background-color: white; display: inline-block;\">m_</span> <span style=\"background-color: white; display: inline-block;\">,_</span> <span style=\"background-color: white; display: inline-block;\">partes_</span> <span style=\"background-color: white; display: inline-block;\">quisque_</span> <span style=\"background-color: white; display: inline-block;\">suas_</span> <span style=\"background-color: white; display: inline-block;\">ad_</span> <span style=\"background-color: white; display: inline-block;\">mensuram_</span> <span style=\"background-color: #ffbf00; display: inline-block;\">ingu</span> <span style=\"background-color: white; display: inline-block;\">inis_</span> <span style=\"background-color: white; display: inline-block;\">heres_</span> <span style=\"background-color: white; display: inline-block;\">,_</span> <span style=\"background-color: white; display: inline-block;\">[SEP]</span></p>"
      ],
      "text/plain": [
       "<IPython.core.display.HTML object>"
      ]
     },
     "metadata": {},
     "output_type": "display_data"
    },
    {
     "data": {
      "text/html": [
       "<p><b style=\"text-decoration: line-through;;\">positive</b> -> <span style=\"background-color: white; display: inline-block;\">[CLS]</span> <span style=\"background-color: white; display: inline-block;\">molli</span> <span style=\"background-color: white; display: inline-block;\">a_</span> <span style=\"background-color: white; display: inline-block;\">quod_</span> <span style=\"background-color: white; display: inline-block;\">nive</span> <span style=\"background-color: white; display: inline-block;\">i_</span> <span style=\"background-color: white; display: inline-block;\">duro</span> <span style=\"background-color: white; display: inline-block;\">_</span> <span style=\"background-color: white; display: inline-block;\">teris_</span> <span style=\"background-color: white; display: inline-block;\">ore_</span> <span style=\"background-color: white; display: inline-block;\">gala</span> <span style=\"background-color: white; display: inline-block;\">esi_</span> <span style=\"background-color: white; display: inline-block;\">basi</span> <span style=\"background-color: white; display: inline-block;\">a_</span> <span style=\"background-color: white; display: inline-block;\">,_</span> <span style=\"background-color: white; display: inline-block;\">quod_</span> <span style=\"background-color: white; display: inline-block;\">nudo</span> <span style=\"background-color: white; display: inline-block;\">_</span> <span style=\"background-color: white; display: inline-block;\">cum_</span> <span style=\"background-color: white; display: inline-block;\">gan</span> <span style=\"background-color: white; display: inline-block;\">ym</span> <span style=\"background-color: white; display: inline-block;\">ede_</span> <span style=\"background-color: white; display: inline-block;\">iace</span> <span style=\"background-color: white; display: inline-block;\">s_</span> <span style=\"background-color: white; display: inline-block;\">[SEP]</span></p>"
      ],
      "text/plain": [
       "<IPython.core.display.HTML object>"
      ]
     },
     "metadata": {},
     "output_type": "display_data"
    },
    {
     "data": {
      "text/html": [
       "<p><b style=\"text-decoration: line-through;;\">positive</b> -> <span style=\"background-color: white; display: inline-block;\">[CLS]</span> <span style=\"background-color: white; display: inline-block;\">aliud_</span> <span style=\"background-color: white; display: inline-block;\">pes</span> <span style=\"background-color: white; display: inline-block;\">sari</span> <span style=\"background-color: white; display: inline-block;\">um_</span> <span style=\"background-color: white; display: inline-block;\">conueni</span> <span style=\"background-color: white; display: inline-block;\">ens_</span> <span style=\"background-color: white; display: inline-block;\">ad_</span> <span style=\"background-color: white; display: inline-block;\">dolorem_</span> <span style=\"background-color: #ffdf00; display: inline-block;\">ues</span> <span style=\"background-color: white; display: inline-block;\">icae_</span> <span style=\"background-color: white; display: inline-block;\">et_</span> <span style=\"background-color: #ffdf00; display: inline-block;\">matri</span> <span style=\"background-color: white; display: inline-block;\">cis_</span> <span style=\"background-color: white; display: inline-block;\">._</span> <span style=\"background-color: white; display: inline-block;\">[SEP]</span></p>"
      ],
      "text/plain": [
       "<IPython.core.display.HTML object>"
      ]
     },
     "metadata": {},
     "output_type": "display_data"
    },
    {
     "data": {
      "text/html": [
       "<p><b style=\"text-decoration: line-through;;\">positive</b> -> <span style=\"background-color: white; display: inline-block;\">[CLS]</span> <span style=\"background-color: white; display: inline-block;\">necesse_</span> <span style=\"background-color: white; display: inline-block;\">est_</span> <span style=\"background-color: white; display: inline-block;\">enim_</span> <span style=\"background-color: white; display: inline-block;\">,_</span> <span style=\"background-color: white; display: inline-block;\">quando_</span> <span style=\"background-color: white; display: inline-block;\">passio_</span> <span style=\"background-color: white; display: inline-block;\">asper</span> <span style=\"background-color: white; display: inline-block;\">atur_</span> <span style=\"background-color: white; display: inline-block;\">,_</span> <span style=\"background-color: white; display: inline-block;\">tunc_</span> <span style=\"background-color: white; display: inline-block;\">etiam_</span> <span style=\"background-color: white; display: inline-block;\">febre</span> <span style=\"background-color: white; display: inline-block;\">s_</span> <span style=\"background-color: white; display: inline-block;\">extend</span> <span style=\"background-color: white; display: inline-block;\">i_</span> <span style=\"background-color: white; display: inline-block;\">,_</span> <span style=\"background-color: white; display: inline-block;\">et_</span> <span style=\"background-color: white; display: inline-block;\">cum_</span> <span style=\"background-color: white; display: inline-block;\">rursum_</span> <span style=\"background-color: white; display: inline-block;\">fuerit_</span> <span style=\"background-color: white; display: inline-block;\">remissa</span> <span style=\"background-color: white; display: inline-block;\">_</span> <span style=\"background-color: white; display: inline-block;\">,_</span> <span style=\"background-color: white; display: inline-block;\">febre</span> <span style=\"background-color: white; display: inline-block;\">s_</span> <span style=\"background-color: white; display: inline-block;\">quoque_</span> <span style=\"background-color: white; display: inline-block;\">leui</span> <span style=\"background-color: white; display: inline-block;\">gari_</span> <span style=\"background-color: white; display: inline-block;\">._</span> <span style=\"background-color: white; display: inline-block;\">at_</span> <span style=\"background-color: white; display: inline-block;\">si_</span> <span style=\"background-color: white; display: inline-block;\">febre</span> <span style=\"background-color: white; display: inline-block;\">s_</span> <span style=\"background-color: white; display: inline-block;\">non_</span> <span style=\"background-color: white; display: inline-block;\">fuerint_</span> <span style=\"background-color: white; display: inline-block;\">,_</span> <span style=\"background-color: white; display: inline-block;\">ex_</span> <span style=\"background-color: white; display: inline-block;\">ceteris_</span> <span style=\"background-color: white; display: inline-block;\">accidenti</span> <span style=\"background-color: white; display: inline-block;\">bus_</span> <span style=\"background-color: white; display: inline-block;\">,_</span> <span style=\"background-color: white; display: inline-block;\">quae_</span> <span style=\"background-color: white; display: inline-block;\">graeci_</span> <span style=\"background-color: white; display: inline-block;\">symp</span> <span style=\"background-color: white; display: inline-block;\">toma</span> <span style=\"background-color: white; display: inline-block;\">ta_</span> <span style=\"background-color: white; display: inline-block;\">uoca</span> <span style=\"background-color: white; display: inline-block;\">nt_</span> <span style=\"background-color: white; display: inline-block;\">,_</span> <span style=\"background-color: white; display: inline-block;\">cum_</span> <span style=\"background-color: white; display: inline-block;\">ea_</span> <span style=\"background-color: white; display: inline-block;\">indulgent</span> <span style=\"background-color: white; display: inline-block;\">iora_</span> <span style=\"background-color: white; display: inline-block;\">uideri</span> <span style=\"background-color: white; display: inline-block;\">mus_</span> <span style=\"background-color: white; display: inline-block;\">,_</span> <span style=\"background-color: white; display: inline-block;\">ut_</span> <span style=\"background-color: white; display: inline-block;\">rubor</span> <span style=\"background-color: white; display: inline-block;\">em_</span> <span style=\"background-color: white; display: inline-block;\">,_</span> <span style=\"background-color: white; display: inline-block;\">feru</span> <span style=\"background-color: white; display: inline-block;\">orem_</span> <span style=\"background-color: white; display: inline-block;\">,_</span> <span style=\"background-color: white; display: inline-block;\">pru</span> <span style=\"background-color: white; display: inline-block;\">ritum_</span> <span style=\"background-color: white; display: inline-block;\">uel_</span> <span style=\"background-color: white; display: inline-block;\">in_</span> <span style=\"background-color: white; display: inline-block;\">usum_</span> <span style=\"background-color: white; display: inline-block;\">uener</span> <span style=\"background-color: white; display: inline-block;\">ium_</span> <span style=\"background-color: white; display: inline-block;\">cupiditatem_</span> <span style=\"background-color: white; display: inline-block;\">aut_</span> <span style=\"background-color: yellow; display: inline-block;\">genita</span> <span style=\"background-color: white; display: inline-block;\">lium_</span> <span style=\"background-color: white; display: inline-block;\">tenti</span> <span style=\"background-color: white; display: inline-block;\">gine</span> <span style=\"background-color: white; display: inline-block;\">m_</span> <span style=\"background-color: white; display: inline-block;\">uel_</span> <span style=\"background-color: white; display: inline-block;\">his_</span> <span style=\"background-color: white; display: inline-block;\">similia_</span> <span style=\"background-color: white; display: inline-block;\">._</span> <span style=\"background-color: white; display: inline-block;\">post_</span> <span style=\"background-color: white; display: inline-block;\">phl</span> <span style=\"background-color: white; display: inline-block;\">ebo</span> <span style=\"background-color: white; display: inline-block;\">tom</span> <span style=\"background-color: white; display: inline-block;\">iam_</span> <span style=\"background-color: white; display: inline-block;\">corpus_</span> <span style=\"background-color: white; display: inline-block;\">peru</span> <span style=\"background-color: white; display: inline-block;\">nge</span> <span style=\"background-color: white; display: inline-block;\">mus_</span> <span style=\"background-color: white; display: inline-block;\">atque_</span> <span style=\"background-color: white; display: inline-block;\">ora_</span> <span style=\"background-color: white; display: inline-block;\">lau</span> <span style=\"background-color: white; display: inline-block;\">antes_</span> <span style=\"background-color: white; display: inline-block;\">cibum_</span> <span style=\"background-color: white; display: inline-block;\">damus_</span> <span style=\"background-color: white; display: inline-block;\">alic</span> <span style=\"background-color: white; display: inline-block;\">am_</span> <span style=\"background-color: white; display: inline-block;\">ex_</span> <span style=\"background-color: white; display: inline-block;\">melle_</span> <span style=\"background-color: white; display: inline-block;\">uel_</span> <span style=\"background-color: white; display: inline-block;\">panem_</span> <span style=\"background-color: white; display: inline-block;\">lot</span> <span style=\"background-color: white; display: inline-block;\">um_</span> <span style=\"background-color: white; display: inline-block;\">ex_</span> <span style=\"background-color: white; display: inline-block;\">aqua_</span> <span style=\"background-color: white; display: inline-block;\">et_</span> <span style=\"background-color: white; display: inline-block;\">oua</span> <span style=\"background-color: white; display: inline-block;\">_</span> <span style=\"background-color: white; display: inline-block;\">sorb</span> <span style=\"background-color: white; display: inline-block;\">ilia_</span> <span style=\"background-color: white; display: inline-block;\">._</span> <span style=\"background-color: white; display: inline-block;\">[SEP]</span></p>"
      ],
      "text/plain": [
       "<IPython.core.display.HTML object>"
      ]
     },
     "metadata": {},
     "output_type": "display_data"
    },
    {
     "data": {
      "text/html": [
       "<p><b style=\"text-decoration: line-through;;\">positive</b> -> <span style=\"background-color: white; display: inline-block;\">[CLS]</span> <span style=\"background-color: white; display: inline-block;\">nullus_</span> <span style=\"background-color: white; display: inline-block;\">in_</span> <span style=\"background-color: white; display: inline-block;\">urbe_</span> <span style=\"background-color: white; display: inline-block;\">fuit_</span> <span style=\"background-color: white; display: inline-block;\">tota_</span> <span style=\"background-color: white; display: inline-block;\">qui_</span> <span style=\"background-color: white; display: inline-block;\">tangere_</span> <span style=\"background-color: white; display: inline-block;\">vellet_</span> <span style=\"background-color: white; display: inline-block;\">uxorem_</span> <span style=\"background-color: white; display: inline-block;\">gratis_</span> <span style=\"background-color: white; display: inline-block;\">,_</span> <span style=\"background-color: white; display: inline-block;\">caecili</span> <span style=\"background-color: white; display: inline-block;\">ane</span> <span style=\"background-color: white; display: inline-block;\">_</span> <span style=\"background-color: white; display: inline-block;\">,_</span> <span style=\"background-color: white; display: inline-block;\">tuam_</span> <span style=\"background-color: white; display: inline-block;\">,_</span> <span style=\"background-color: white; display: inline-block;\">dum_</span> <span style=\"background-color: white; display: inline-block;\">licuit_</span> <span style=\"background-color: white; display: inline-block;\">:_</span> <span style=\"background-color: white; display: inline-block;\">sed_</span> <span style=\"background-color: white; display: inline-block;\">nunc_</span> <span style=\"background-color: white; display: inline-block;\">positis_</span> <span style=\"background-color: white; display: inline-block;\">custodi</span> <span style=\"background-color: white; display: inline-block;\">bus_</span> <span style=\"background-color: white; display: inline-block;\">ingens_</span> <span style=\"background-color: white; display: inline-block;\">turba_</span> <span style=\"background-color: white; display: inline-block;\">fut</span> <span style=\"background-color: white; display: inline-block;\">utor</span> <span style=\"background-color: white; display: inline-block;\">um_</span> <span style=\"background-color: white; display: inline-block;\">est_</span> <span style=\"background-color: white; display: inline-block;\">:_</span> <span style=\"background-color: white; display: inline-block;\">ingenios</span> <span style=\"background-color: white; display: inline-block;\">us_</span> <span style=\"background-color: white; display: inline-block;\">homo_</span> <span style=\"background-color: white; display: inline-block;\">es_</span> <span style=\"background-color: white; display: inline-block;\">._</span> <span style=\"background-color: white; display: inline-block;\">[SEP]</span></p>"
      ],
      "text/plain": [
       "<IPython.core.display.HTML object>"
      ]
     },
     "metadata": {},
     "output_type": "display_data"
    },
    {
     "data": {
      "text/html": [
       "<p><b style=\"text-decoration: line-through;;\">positive</b> -> <span style=\"background-color: white; display: inline-block;\">[CLS]</span> <span style=\"background-color: white; display: inline-block;\">tact</span> <span style=\"background-color: white; display: inline-block;\">a_</span> <span style=\"background-color: white; display: inline-block;\">tamen_</span> <span style=\"background-color: white; display: inline-block;\">veluti_</span> <span style=\"background-color: yellow; display: inline-block;\">gelid</span> <span style=\"background-color: white; display: inline-block;\">a_</span> <span style=\"background-color: white; display: inline-block;\">mea_</span> <span style=\"background-color: yellow; display: inline-block;\">membra_</span> <span style=\"background-color: white; display: inline-block;\">cic</span> <span style=\"background-color: white; display: inline-block;\">uta_</span> <span style=\"background-color: white; display: inline-block;\">[SEP]</span></p>"
      ],
      "text/plain": [
       "<IPython.core.display.HTML object>"
      ]
     },
     "metadata": {},
     "output_type": "display_data"
    },
    {
     "data": {
      "text/html": [
       "<p><b style=\"text-decoration: line-through;;\">positive</b> -> <span style=\"background-color: white; display: inline-block;\">[CLS]</span> <span style=\"background-color: white; display: inline-block;\">stern</span> <span style=\"background-color: white; display: inline-block;\">itur_</span> <span style=\"background-color: white; display: inline-block;\">icta</span> <span style=\"background-color: white; display: inline-block;\">_</span> <span style=\"background-color: white; display: inline-block;\">tuo_</span> <span style=\"background-color: white; display: inline-block;\">uot</span> <span style=\"background-color: white; display: inline-block;\">iuo_</span> <span style=\"background-color: white; display: inline-block;\">uuln</span> <span style=\"background-color: white; display: inline-block;\">ere_</span> <span style=\"background-color: white; display: inline-block;\">uirg</span> <span style=\"background-color: white; display: inline-block;\">o_</span> <span style=\"background-color: white; display: inline-block;\">et_</span> <span style=\"background-color: white; display: inline-block;\">perfu</span> <span style=\"background-color: white; display: inline-block;\">sa_</span> <span style=\"background-color: white; display: inline-block;\">nou</span> <span style=\"background-color: white; display: inline-block;\">o_</span> <span style=\"background-color: white; display: inline-block;\">laeta_</span> <span style=\"background-color: white; display: inline-block;\">cruore_</span> <span style=\"background-color: white; display: inline-block;\">iacet_</span> <span style=\"background-color: white; display: inline-block;\">._</span> <span style=\"background-color: white; display: inline-block;\">[SEP]</span></p>"
      ],
      "text/plain": [
       "<IPython.core.display.HTML object>"
      ]
     },
     "metadata": {},
     "output_type": "display_data"
    },
    {
     "data": {
      "text/html": [
       "<p><b style=\"text-decoration: line-through;;\">positive</b> -> <span style=\"background-color: white; display: inline-block;\">[CLS]</span> <span style=\"background-color: white; display: inline-block;\">nullo_</span> <span style=\"background-color: white; display: inline-block;\">enim_</span> <span style=\"background-color: white; display: inline-block;\">honore_</span> <span style=\"background-color: white; display: inline-block;\">exceptu</span> <span style=\"background-color: white; display: inline-block;\">s_</span> <span style=\"background-color: white; display: inline-block;\">ab_</span> <span style=\"background-color: white; display: inline-block;\">ea_</span> <span style=\"background-color: white; display: inline-block;\">pin</span> <span style=\"background-color: white; display: inline-block;\">xit_</span> <span style=\"background-color: white; display: inline-block;\">volut</span> <span style=\"background-color: white; display: inline-block;\">antem_</span> <span style=\"background-color: white; display: inline-block;\">cum_</span> <span style=\"background-color: white; display: inline-block;\">piscator</span> <span style=\"background-color: white; display: inline-block;\">e_</span> <span style=\"background-color: white; display: inline-block;\">,_</span> <span style=\"background-color: white; display: inline-block;\">quem_</span> <span style=\"background-color: white; display: inline-block;\">reginam_</span> <span style=\"background-color: white; display: inline-block;\">amare_</span> <span style=\"background-color: white; display: inline-block;\">sermo_</span> <span style=\"background-color: white; display: inline-block;\">erat_</span> <span style=\"background-color: white; display: inline-block;\">,_</span> <span style=\"background-color: white; display: inline-block;\">eam</span> <span style=\"background-color: white; display: inline-block;\">que_</span> <span style=\"background-color: white; display: inline-block;\">-_</span> <span style=\"background-color: white; display: inline-block;\">que_</span> <span style=\"background-color: white; display: inline-block;\">tabula</span> <span style=\"background-color: white; display: inline-block;\">m_</span> <span style=\"background-color: white; display: inline-block;\">in_</span> <span style=\"background-color: white; display: inline-block;\">portu_</span> <span style=\"background-color: white; display: inline-block;\">ephesi</span> <span style=\"background-color: white; display: inline-block;\">_</span> <span style=\"background-color: white; display: inline-block;\">proposuit_</span> <span style=\"background-color: white; display: inline-block;\">,_</span> <span style=\"background-color: white; display: inline-block;\">ipse_</span> <span style=\"background-color: white; display: inline-block;\">velis_</span> <span style=\"background-color: white; display: inline-block;\">raptus_</span> <span style=\"background-color: white; display: inline-block;\">._</span> <span style=\"background-color: white; display: inline-block;\">[SEP]</span></p>"
      ],
      "text/plain": [
       "<IPython.core.display.HTML object>"
      ]
     },
     "metadata": {},
     "output_type": "display_data"
    },
    {
     "data": {
      "text/html": [
       "<p><b style=\"text-decoration: line-through;;\">positive</b> -> <span style=\"background-color: white; display: inline-block;\">[CLS]</span> <span style=\"background-color: white; display: inline-block;\">atque_</span> <span style=\"background-color: white; display: inline-block;\">incognit</span> <span style=\"background-color: white; display: inline-block;\">as_</span> <span style=\"background-color: white; display: inline-block;\">temptat</span> <span style=\"background-color: white; display: inline-block;\">_</span> <span style=\"background-color: white; display: inline-block;\">libidin</span> <span style=\"background-color: white; display: inline-block;\">es_</span> <span style=\"background-color: white; display: inline-block;\">et_</span> <span style=\"background-color: white; display: inline-block;\">feri</span> <span style=\"background-color: white; display: inline-block;\">nas_</span> <span style=\"background-color: white; display: inline-block;\">aversa</span> <span style=\"background-color: white; display: inline-block;\">_</span> <span style=\"background-color: white; display: inline-block;\">venere_</span> <span style=\"background-color: white; display: inline-block;\">invitat</span> <span style=\"background-color: white; display: inline-block;\">_</span> <span style=\"background-color: white; display: inline-block;\">ad_</span> <span style=\"background-color: white; display: inline-block;\">nuptias_</span> <span style=\"background-color: white; display: inline-block;\">._</span> <span style=\"background-color: white; display: inline-block;\">[SEP]</span></p>"
      ],
      "text/plain": [
       "<IPython.core.display.HTML object>"
      ]
     },
     "metadata": {},
     "output_type": "display_data"
    },
    {
     "data": {
      "text/html": [
       "<p><b style=\"text-decoration: line-through;;\">positive</b> -> <span style=\"background-color: yellow; display: inline-block;\">[CLS]</span> <span style=\"background-color: yellow; display: inline-block;\">venus_</span> <span style=\"background-color: white; display: inline-block;\">fuit_</span> <span style=\"background-color: yellow; display: inline-block;\">quieta</span> <span style=\"background-color: white; display: inline-block;\">_</span> <span style=\"background-color: yellow; display: inline-block;\">[SEP]</span></p>"
      ],
      "text/plain": [
       "<IPython.core.display.HTML object>"
      ]
     },
     "metadata": {},
     "output_type": "display_data"
    },
    {
     "data": {
      "text/html": [
       "<p><b style=\"text-decoration: line-through;;\">positive</b> -> <span style=\"background-color: white; display: inline-block;\">[CLS]</span> <span style=\"background-color: white; display: inline-block;\">nunc_</span> <span style=\"background-color: white; display: inline-block;\">tu_</span> <span style=\"background-color: white; display: inline-block;\">si_</span> <span style=\"background-color: white; display: inline-block;\">vis_</span> <span style=\"background-color: white; display: inline-block;\">subi</span> <span style=\"background-color: white; display: inline-block;\">gita</span> <span style=\"background-color: white; display: inline-block;\">re_</span> <span style=\"background-color: white; display: inline-block;\">me_</span> <span style=\"background-color: white; display: inline-block;\">,_</span> <span style=\"background-color: white; display: inline-block;\">proba</span> <span style=\"background-color: white; display: inline-block;\">st_</span> <span style=\"background-color: white; display: inline-block;\">est_</span> <span style=\"background-color: white; display: inline-block;\">occasio_</span> <span style=\"background-color: white; display: inline-block;\">._</span> <span style=\"background-color: white; display: inline-block;\">[SEP]</span></p>"
      ],
      "text/plain": [
       "<IPython.core.display.HTML object>"
      ]
     },
     "metadata": {},
     "output_type": "display_data"
    },
    {
     "data": {
      "text/html": [
       "<p><b style=\"text-decoration: line-through;;\">positive</b> -> <span style=\"background-color: white; display: inline-block;\">[CLS]</span> <span style=\"background-color: white; display: inline-block;\">ariete</span> <span style=\"background-color: white; display: inline-block;\">m_</span> <span style=\"background-color: white; display: inline-block;\">nobilem_</span> <span style=\"background-color: white; display: inline-block;\">bene_</span> <span style=\"background-color: white; display: inline-block;\">grandi</span> <span style=\"background-color: white; display: inline-block;\">bus_</span> <span style=\"background-color: white; display: inline-block;\">cum_</span> <span style=\"background-color: yellow; display: inline-block;\">testi</span> <span style=\"background-color: white; display: inline-block;\">culis_</span> <span style=\"background-color: white; display: inline-block;\">delig</span> <span style=\"background-color: white; display: inline-block;\">it_</span> <span style=\"background-color: white; display: inline-block;\">,_</span> <span style=\"background-color: white; display: inline-block;\">exse</span> <span style=\"background-color: white; display: inline-block;\">cat_</span> <span style=\"background-color: white; display: inline-block;\">hos_</span> <span style=\"background-color: white; display: inline-block;\">ipse_</span> <span style=\"background-color: white; display: inline-block;\">et_</span> <span style=\"background-color: white; display: inline-block;\">lana</span> <span style=\"background-color: white; display: inline-block;\">to_</span> <span style=\"background-color: white; display: inline-block;\">exui</span> <span style=\"background-color: white; display: inline-block;\">t_</span> <span style=\"background-color: white; display: inline-block;\">ex_</span> <span style=\"background-color: white; display: inline-block;\">foll</span> <span style=\"background-color: white; display: inline-block;\">icul</span> <span style=\"background-color: white; display: inline-block;\">i_</span> <span style=\"background-color: white; display: inline-block;\">tegm</span> <span style=\"background-color: white; display: inline-block;\">ine_</span> <span style=\"background-color: white; display: inline-block;\">._</span> <span style=\"background-color: white; display: inline-block;\">[SEP]</span></p>"
      ],
      "text/plain": [
       "<IPython.core.display.HTML object>"
      ]
     },
     "metadata": {},
     "output_type": "display_data"
    },
    {
     "data": {
      "text/html": [
       "<p><b style=\"text-decoration: line-through;;\">positive</b> -> <span style=\"background-color: white; display: inline-block;\">[CLS]</span> <span style=\"background-color: white; display: inline-block;\">mast</span> <span style=\"background-color: white; display: inline-block;\">urb</span> <span style=\"background-color: white; display: inline-block;\">abant</span> <span style=\"background-color: white; display: inline-block;\">ur_</span> <span style=\"background-color: yellow; display: inline-block;\">phrygi</span> <span style=\"background-color: white; display: inline-block;\">i_</span> <span style=\"background-color: white; display: inline-block;\">post_</span> <span style=\"background-color: white; display: inline-block;\">ostia_</span> <span style=\"background-color: yellow; display: inline-block;\">servi_</span> <span style=\"background-color: yellow; display: inline-block;\">[SEP]</span></p>"
      ],
      "text/plain": [
       "<IPython.core.display.HTML object>"
      ]
     },
     "metadata": {},
     "output_type": "display_data"
    },
    {
     "data": {
      "text/html": [
       "<p><b style=\"text-decoration: line-through;;\">positive</b> -> <span style=\"background-color: white; display: inline-block;\">[CLS]</span> <span style=\"background-color: white; display: inline-block;\">perci</span> <span style=\"background-color: white; display: inline-block;\">di_</span> <span style=\"background-color: white; display: inline-block;\">gaude</span> <span style=\"background-color: white; display: inline-block;\">s_</span> <span style=\"background-color: white; display: inline-block;\">,_</span> <span style=\"background-color: white; display: inline-block;\">perci</span> <span style=\"background-color: white; display: inline-block;\">sus_</span> <span style=\"background-color: white; display: inline-block;\">,_</span> <span style=\"background-color: white; display: inline-block;\">pap</span> <span style=\"background-color: white; display: inline-block;\">yl</span> <span style=\"background-color: white; display: inline-block;\">e_</span> <span style=\"background-color: white; display: inline-block;\">,_</span> <span style=\"background-color: white; display: inline-block;\">plora</span> <span style=\"background-color: white; display: inline-block;\">s_</span> <span style=\"background-color: white; display: inline-block;\">._</span> <span style=\"background-color: white; display: inline-block;\">[SEP]</span></p>"
      ],
      "text/plain": [
       "<IPython.core.display.HTML object>"
      ]
     },
     "metadata": {},
     "output_type": "display_data"
    },
    {
     "data": {
      "text/html": [
       "<p><b style=\"text-decoration: line-through;;\">positive</b> -> <span style=\"background-color: white; display: inline-block;\">[CLS]</span> <span style=\"background-color: white; display: inline-block;\">quae_</span> <span style=\"background-color: white; display: inline-block;\">,_</span> <span style=\"background-color: white; display: inline-block;\">quia_</span> <span style=\"background-color: white; display: inline-block;\">non_</span> <span style=\"background-color: white; display: inline-block;\">liceat_</span> <span style=\"background-color: white; display: inline-block;\">,_</span> <span style=\"background-color: white; display: inline-block;\">non_</span> <span style=\"background-color: white; display: inline-block;\">facit_</span> <span style=\"background-color: white; display: inline-block;\">,_</span> <span style=\"background-color: white; display: inline-block;\">illa_</span> <span style=\"background-color: white; display: inline-block;\">facit_</span> <span style=\"background-color: white; display: inline-block;\">!_</span> <span style=\"background-color: yellow; display: inline-block;\">[SEP]</span></p>"
      ],
      "text/plain": [
       "<IPython.core.display.HTML object>"
      ]
     },
     "metadata": {},
     "output_type": "display_data"
    },
    {
     "data": {
      "text/html": [
       "<p><b style=\"text-decoration: line-through;;\">positive</b> -> <span style=\"background-color: white; display: inline-block;\">[CLS]</span> <span style=\"background-color: white; display: inline-block;\">tum_</span> <span style=\"background-color: white; display: inline-block;\">si_</span> <span style=\"background-color: white; display: inline-block;\">capitulum_</span> <span style=\"background-color: white; display: inline-block;\">exiguu</span> <span style=\"background-color: white; display: inline-block;\">m_</span> <span style=\"background-color: white; display: inline-block;\">est_</span> <span style=\"background-color: white; display: inline-block;\">,_</span> <span style=\"background-color: white; display: inline-block;\">basi</span> <span style=\"background-color: white; display: inline-block;\">mque_</span> <span style=\"background-color: white; display: inline-block;\">-_</span> <span style=\"background-color: white; display: inline-block;\">que_</span> <span style=\"background-color: white; display: inline-block;\">tenue</span> <span style=\"background-color: white; display: inline-block;\">m_</span> <span style=\"background-color: white; display: inline-block;\">habet_</span> <span style=\"background-color: white; display: inline-block;\">,_</span> <span style=\"background-color: white; display: inline-block;\">adstri</span> <span style=\"background-color: white; display: inline-block;\">ngen</span> <span style=\"background-color: white; display: inline-block;\">dum_</span> <span style=\"background-color: white; display: inline-block;\">lino_</span> <span style=\"background-color: white; display: inline-block;\">paulum_</span> <span style=\"background-color: white; display: inline-block;\">supra_</span> <span style=\"background-color: white; display: inline-block;\">est_</span> <span style=\"background-color: white; display: inline-block;\">,_</span> <span style=\"background-color: white; display: inline-block;\">quam_</span> <span style=\"background-color: white; display: inline-block;\">ubi_</span> <span style=\"background-color: white; display: inline-block;\">cum_</span> <span style=\"background-color: white; display: inline-block;\">ano_</span> <span style=\"background-color: white; display: inline-block;\">committit</span> <span style=\"background-color: white; display: inline-block;\">ur_</span> <span style=\"background-color: white; display: inline-block;\">:_</span> <span style=\"background-color: white; display: inline-block;\">imponen</span> <span style=\"background-color: white; display: inline-block;\">da_</span> <span style=\"background-color: white; display: inline-block;\">spon</span> <span style=\"background-color: white; display: inline-block;\">gia_</span> <span style=\"background-color: white; display: inline-block;\">ex_</span> <span style=\"background-color: white; display: inline-block;\">aqua_</span> <span style=\"background-color: white; display: inline-block;\">calida_</span> <span style=\"background-color: white; display: inline-block;\">est_</span> <span style=\"background-color: white; display: inline-block;\">,_</span> <span style=\"background-color: white; display: inline-block;\">done</span> <span style=\"background-color: white; display: inline-block;\">donec_</span> <span style=\"background-color: white; display: inline-block;\">id_</span> <span style=\"background-color: white; display: inline-block;\">liv</span> <span style=\"background-color: white; display: inline-block;\">eat_</span> <span style=\"background-color: white; display: inline-block;\">:_</span> <span style=\"background-color: white; display: inline-block;\">deinde_</span> <span style=\"background-color: white; display: inline-block;\">aut_</span> <span style=\"background-color: white; display: inline-block;\">ungue</span> <span style=\"background-color: white; display: inline-block;\">_</span> <span style=\"background-color: white; display: inline-block;\">,_</span> <span style=\"background-color: white; display: inline-block;\">aut_</span> <span style=\"background-color: white; display: inline-block;\">scal</span> <span style=\"background-color: white; display: inline-block;\">pel</span> <span style=\"background-color: white; display: inline-block;\">lo_</span> <span style=\"background-color: white; display: inline-block;\">supra_</span> <span style=\"background-color: white; display: inline-block;\">nodu</span> <span style=\"background-color: white; display: inline-block;\">m_</span> <span style=\"background-color: white; display: inline-block;\">id_</span> <span style=\"background-color: white; display: inline-block;\">exul</span> <span style=\"background-color: white; display: inline-block;\">cera</span> <span style=\"background-color: white; display: inline-block;\">ndum_</span> <span style=\"background-color: white; display: inline-block;\">est_</span> <span style=\"background-color: white; display: inline-block;\">._</span> <span style=\"background-color: white; display: inline-block;\">[SEP]</span></p>"
      ],
      "text/plain": [
       "<IPython.core.display.HTML object>"
      ]
     },
     "metadata": {},
     "output_type": "display_data"
    },
    {
     "data": {
      "text/html": [
       "<p><b style=\"text-decoration: line-through;;\">positive</b> -> <span style=\"background-color: white; display: inline-block;\">[CLS]</span> <span style=\"background-color: white; display: inline-block;\">hos_</span> <span style=\"background-color: white; display: inline-block;\">mal</span> <span style=\"background-color: white; display: inline-block;\">chio</span> <span style=\"background-color: white; display: inline-block;\">nis_</span> <span style=\"background-color: white; display: inline-block;\">patim</span> <span style=\"background-color: white; display: inline-block;\">ur_</span> <span style=\"background-color: white; display: inline-block;\">inprob</span> <span style=\"background-color: white; display: inline-block;\">i_</span> <span style=\"background-color: white; display: inline-block;\">fast</span> <span style=\"background-color: white; display: inline-block;\">us_</span> <span style=\"background-color: white; display: inline-block;\">,_</span> <span style=\"background-color: white; display: inline-block;\">nec_</span> <span style=\"background-color: white; display: inline-block;\">vindica</span> <span style=\"background-color: white; display: inline-block;\">ri_</span> <span style=\"background-color: white; display: inline-block;\">,_</span> <span style=\"background-color: white; display: inline-block;\">ruf</span> <span style=\"background-color: white; display: inline-block;\">e_</span> <span style=\"background-color: white; display: inline-block;\">,_</span> <span style=\"background-color: white; display: inline-block;\">possumus_</span> <span style=\"background-color: white; display: inline-block;\">:_</span> <span style=\"background-color: white; display: inline-block;\">fell</span> <span style=\"background-color: white; display: inline-block;\">at_</span> <span style=\"background-color: white; display: inline-block;\">._</span> <span style=\"background-color: white; display: inline-block;\">[SEP]</span></p>"
      ],
      "text/plain": [
       "<IPython.core.display.HTML object>"
      ]
     },
     "metadata": {},
     "output_type": "display_data"
    },
    {
     "data": {
      "text/html": [
       "<p><b style=\"text-decoration: line-through;;\">positive</b> -> <span style=\"background-color: white; display: inline-block;\">[CLS]</span> <span style=\"background-color: white; display: inline-block;\">os_</span> <span style=\"background-color: white; display: inline-block;\">tibi_</span> <span style=\"background-color: white; display: inline-block;\">perci</span> <span style=\"background-color: white; display: inline-block;\">sum_</span> <span style=\"background-color: white; display: inline-block;\">quanto_</span> <span style=\"background-color: white; display: inline-block;\">non_</span> <span style=\"background-color: white; display: inline-block;\">ipse_</span> <span style=\"background-color: white; display: inline-block;\">latinus_</span> <span style=\"background-color: white; display: inline-block;\">vili</span> <span style=\"background-color: white; display: inline-block;\">a_</span> <span style=\"background-color: white; display: inline-block;\">pann</span> <span style=\"background-color: white; display: inline-block;\">icul</span> <span style=\"background-color: white; display: inline-block;\">i_</span> <span style=\"background-color: white; display: inline-block;\">percutit</span> <span style=\"background-color: white; display: inline-block;\">_</span> <span style=\"background-color: white; display: inline-block;\">ora_</span> <span style=\"background-color: white; display: inline-block;\">sono_</span> <span style=\"background-color: white; display: inline-block;\">:_</span> <span style=\"background-color: white; display: inline-block;\">quodque_</span> <span style=\"background-color: white; display: inline-block;\">-_</span> <span style=\"background-color: white; display: inline-block;\">que_</span> <span style=\"background-color: white; display: inline-block;\">magis_</span> <span style=\"background-color: white; display: inline-block;\">mirum_</span> <span style=\"background-color: white; display: inline-block;\">est_</span> <span style=\"background-color: white; display: inline-block;\">,_</span> <span style=\"background-color: white; display: inline-block;\">auctorem_</span> <span style=\"background-color: white; display: inline-block;\">criminis_</span> <span style=\"background-color: white; display: inline-block;\">huius_</span> <span style=\"background-color: white; display: inline-block;\">caecili</span> <span style=\"background-color: white; display: inline-block;\">um_</span> <span style=\"background-color: white; display: inline-block;\">tota_</span> <span style=\"background-color: white; display: inline-block;\">rumor</span> <span style=\"background-color: white; display: inline-block;\">_</span> <span style=\"background-color: white; display: inline-block;\">in_</span> <span style=\"background-color: white; display: inline-block;\">urbe_</span> <span style=\"background-color: white; display: inline-block;\">sonat_</span> <span style=\"background-color: white; display: inline-block;\">._</span> <span style=\"background-color: white; display: inline-block;\">[SEP]</span></p>"
      ],
      "text/plain": [
       "<IPython.core.display.HTML object>"
      ]
     },
     "metadata": {},
     "output_type": "display_data"
    },
    {
     "data": {
      "text/html": [
       "<p><b style=\"text-decoration: line-through;;\">positive</b> -> <span style=\"background-color: white; display: inline-block;\">[CLS]</span> <span style=\"background-color: white; display: inline-block;\">dum_</span> <span style=\"background-color: white; display: inline-block;\">frater_</span> <span style=\"background-color: white; display: inline-block;\">sororis_</span> <span style=\"background-color: white; display: inline-block;\">suae_</span> <span style=\"background-color: white; display: inline-block;\">automat</span> <span style=\"background-color: white; display: inline-block;\">a_</span> <span style=\"background-color: white; display: inline-block;\">per_</span> <span style=\"background-color: white; display: inline-block;\">clo</span> <span style=\"background-color: white; display: inline-block;\">stel</span> <span style=\"background-color: white; display: inline-block;\">lum_</span> <span style=\"background-color: white; display: inline-block;\">miratur_</span> <span style=\"background-color: white; display: inline-block;\">,_</span> <span style=\"background-color: white; display: inline-block;\">accessi</span> <span style=\"background-color: white; display: inline-block;\">_</span> <span style=\"background-color: white; display: inline-block;\">temptat</span> <span style=\"background-color: white; display: inline-block;\">urus_</span> <span style=\"background-color: white; display: inline-block;\">,_</span> <span style=\"background-color: white; display: inline-block;\">an_</span> <span style=\"background-color: white; display: inline-block;\">pateretur_</span> <span style=\"background-color: white; display: inline-block;\">iniuriam_</span> <span style=\"background-color: white; display: inline-block;\">._</span> <span style=\"background-color: yellow; display: inline-block;\">[SEP]</span></p>"
      ],
      "text/plain": [
       "<IPython.core.display.HTML object>"
      ]
     },
     "metadata": {},
     "output_type": "display_data"
    },
    {
     "data": {
      "text/html": [
       "<p><b style=\"text-decoration: line-through;;\">positive</b> -> <span style=\"background-color: white; display: inline-block;\">[CLS]</span> <span style=\"background-color: white; display: inline-block;\">tun</span> <span style=\"background-color: white; display: inline-block;\">e_</span> <span style=\"background-color: white; display: inline-block;\">-_</span> <span style=\"background-color: white; display: inline-block;\">ne_</span> <span style=\"background-color: white; display: inline-block;\">hic_</span> <span style=\"background-color: white; display: inline-block;\">amator_</span> <span style=\"background-color: white; display: inline-block;\">aude</span> <span style=\"background-color: white; display: inline-block;\">s_</span> <span style=\"background-color: white; display: inline-block;\">esse_</span> <span style=\"background-color: white; display: inline-block;\">,_</span> <span style=\"background-color: white; display: inline-block;\">hall</span> <span style=\"background-color: white; display: inline-block;\">ex_</span> <span style=\"background-color: white; display: inline-block;\">viri_</span> <span style=\"background-color: white; display: inline-block;\">,_</span> <span style=\"background-color: white; display: inline-block;\">aut_</span> <span style=\"background-color: yellow; display: inline-block;\">contre</span> <span style=\"background-color: white; display: inline-block;\">ctar</span> <span style=\"background-color: white; display: inline-block;\">e_</span> <span style=\"background-color: white; display: inline-block;\">quod_</span> <span style=\"background-color: white; display: inline-block;\">mares</span> <span style=\"background-color: white; display: inline-block;\">_</span> <span style=\"background-color: white; display: inline-block;\">homines_</span> <span style=\"background-color: white; display: inline-block;\">amant_</span> <span style=\"background-color: white; display: inline-block;\">?_</span> <span style=\"background-color: white; display: inline-block;\">[SEP]</span></p>"
      ],
      "text/plain": [
       "<IPython.core.display.HTML object>"
      ]
     },
     "metadata": {},
     "output_type": "display_data"
    },
    {
     "data": {
      "text/html": [
       "<p><b style=\"text-decoration: line-through;;\">positive</b> -> <span style=\"background-color: white; display: inline-block;\">[CLS]</span> <span style=\"background-color: white; display: inline-block;\">dehinc_</span> <span style=\"background-color: white; display: inline-block;\">appone</span> <span style=\"background-color: white; display: inline-block;\">nda_</span> <span style=\"background-color: white; display: inline-block;\">pod</span> <span style=\"background-color: white; display: inline-block;\">ici_</span> <span style=\"background-color: white; display: inline-block;\">fistul</span> <span style=\"background-color: white; display: inline-block;\">a_</span> <span style=\"background-color: white; display: inline-block;\">dextera_</span> <span style=\"background-color: white; display: inline-block;\">manu_</span> <span style=\"background-color: white; display: inline-block;\">usque_</span> <span style=\"background-color: white; display: inline-block;\">ad_</span> <span style=\"background-color: white; display: inline-block;\">eius_</span> <span style=\"background-color: white; display: inline-block;\">uerti</span> <span style=\"background-color: white; display: inline-block;\">culum_</span> <span style=\"background-color: white; display: inline-block;\">,_</span> <span style=\"background-color: white; display: inline-block;\">quem_</span> <span style=\"background-color: white; display: inline-block;\">graeci_</span> <span style=\"background-color: white; display: inline-block;\">aspi</span> <span style=\"background-color: white; display: inline-block;\">disco</span> <span style=\"background-color: white; display: inline-block;\">n_</span> <span style=\"background-color: white; display: inline-block;\">uoca</span> <span style=\"background-color: white; display: inline-block;\">nt_</span> <span style=\"background-color: white; display: inline-block;\">,_</span> <span style=\"background-color: white; display: inline-block;\">impulsu</span> <span style=\"background-color: white; display: inline-block;\">_</span> <span style=\"background-color: white; display: inline-block;\">leni_</span> <span style=\"background-color: white; display: inline-block;\">et_</span> <span style=\"background-color: white; display: inline-block;\">neque_</span> <span style=\"background-color: white; display: inline-block;\">recto_</span> <span style=\"background-color: white; display: inline-block;\">ductu</span> <span style=\"background-color: white; display: inline-block;\">_</span> <span style=\"background-color: white; display: inline-block;\">contra_</span> <span style=\"background-color: white; display: inline-block;\">opposita</span> <span style=\"background-color: white; display: inline-block;\">s_</span> <span style=\"background-color: white; display: inline-block;\">partes_</span> <span style=\"background-color: white; display: inline-block;\">neque_</span> <span style=\"background-color: white; display: inline-block;\">superiore_</span> <span style=\"background-color: white; display: inline-block;\">repentin</span> <span style=\"background-color: white; display: inline-block;\">o_</span> <span style=\"background-color: white; display: inline-block;\">uel_</span> <span style=\"background-color: white; display: inline-block;\">cum_</span> <span style=\"background-color: white; display: inline-block;\">plurim</span> <span style=\"background-color: white; display: inline-block;\">o_</span> <span style=\"background-color: white; display: inline-block;\">conatu</span> <span style=\"background-color: white; display: inline-block;\">_</span> <span style=\"background-color: white; display: inline-block;\">,_</span> <span style=\"background-color: white; display: inline-block;\">[SEP]</span></p>"
      ],
      "text/plain": [
       "<IPython.core.display.HTML object>"
      ]
     },
     "metadata": {},
     "output_type": "display_data"
    },
    {
     "data": {
      "text/html": [
       "<p><b style=\"text-decoration: line-through;;\">positive</b> -> <span style=\"background-color: white; display: inline-block;\">[CLS]</span> <span style=\"background-color: white; display: inline-block;\">sequitur_</span> <span style=\"background-color: white; display: inline-block;\">autem_</span> <span style=\"background-color: white; display: inline-block;\">aegrota</span> <span style=\"background-color: white; display: inline-block;\">ntes_</span> <span style=\"background-color: white; display: inline-block;\">ueh</span> <span style=\"background-color: white; display: inline-block;\">emen</span> <span style=\"background-color: white; display: inline-block;\">s_</span> <span style=\"background-color: yellow; display: inline-block;\">genita</span> <span style=\"background-color: white; display: inline-block;\">lium_</span> <span style=\"background-color: white; display: inline-block;\">tenti</span> <span style=\"background-color: white; display: inline-block;\">go_</span> <span style=\"background-color: white; display: inline-block;\">cum_</span> <span style=\"background-color: white; display: inline-block;\">dolore_</span> <span style=\"background-color: white; display: inline-block;\">atque_</span> <span style=\"background-color: white; display: inline-block;\">incendio_</span> <span style=\"background-color: white; display: inline-block;\">cum_</span> <span style=\"background-color: white; display: inline-block;\">quodam_</span> <span style=\"background-color: white; display: inline-block;\">pru</span> <span style=\"background-color: white; display: inline-block;\">ritu_</span> <span style=\"background-color: white; display: inline-block;\">immod</span> <span style=\"background-color: white; display: inline-block;\">ico_</span> <span style=\"background-color: white; display: inline-block;\">in_</span> <span style=\"background-color: white; display: inline-block;\">uener</span> <span style=\"background-color: white; display: inline-block;\">iam_</span> <span style=\"background-color: white; display: inline-block;\">libidinem_</span> <span style=\"background-color: white; display: inline-block;\">cogen</span> <span style=\"background-color: white; display: inline-block;\">te_</span> <span style=\"background-color: white; display: inline-block;\">,_</span> <span style=\"background-color: white; display: inline-block;\">mentis_</span> <span style=\"background-color: white; display: inline-block;\">alienat</span> <span style=\"background-color: white; display: inline-block;\">io_</span> <span style=\"background-color: white; display: inline-block;\">,_</span> <span style=\"background-color: white; display: inline-block;\">pulsus_</span> <span style=\"background-color: white; display: inline-block;\">densita</span> <span style=\"background-color: white; display: inline-block;\">s_</span> <span style=\"background-color: white; display: inline-block;\">,_</span> <span style=\"background-color: white; display: inline-block;\">anhela</span> <span style=\"background-color: white; display: inline-block;\">tio_</span> <span style=\"background-color: white; display: inline-block;\">crebra</span> <span style=\"background-color: white; display: inline-block;\">_</span> <span style=\"background-color: white; display: inline-block;\">atque_</span> <span style=\"background-color: white; display: inline-block;\">celer</span> <span style=\"background-color: white; display: inline-block;\">rima_</span> <span style=\"background-color: white; display: inline-block;\">,_</span> <span style=\"background-color: white; display: inline-block;\">despon</span> <span style=\"background-color: white; display: inline-block;\">sio_</span> <span style=\"background-color: white; display: inline-block;\">,_</span> <span style=\"background-color: white; display: inline-block;\">uigi</span> <span style=\"background-color: white; display: inline-block;\">liae_</span> <span style=\"background-color: white; display: inline-block;\">,_</span> <span style=\"background-color: white; display: inline-block;\">hall</span> <span style=\"background-color: white; display: inline-block;\">uci</span> <span style=\"background-color: white; display: inline-block;\">natio_</span> <span style=\"background-color: white; display: inline-block;\">,_</span> <span style=\"background-color: white; display: inline-block;\">sitis_</span> <span style=\"background-color: white; display: inline-block;\">,_</span> <span style=\"background-color: white; display: inline-block;\">cibi_</span> <span style=\"background-color: white; display: inline-block;\">fastidi</span> <span style=\"background-color: white; display: inline-block;\">um_</span> <span style=\"background-color: white; display: inline-block;\">et_</span> <span style=\"background-color: white; display: inline-block;\">difficili</span> <span style=\"background-color: white; display: inline-block;\">s_</span> <span style=\"background-color: white; display: inline-block;\">urina</span> <span style=\"background-color: white; display: inline-block;\">e_</span> <span style=\"background-color: white; display: inline-block;\">eges</span> <span style=\"background-color: white; display: inline-block;\">tio_</span> <span style=\"background-color: white; display: inline-block;\">,_</span> <span style=\"background-color: white; display: inline-block;\">ita_</span> <span style=\"background-color: white; display: inline-block;\">ut_</span> <span style=\"background-color: white; display: inline-block;\">plerumque_</span> <span style=\"background-color: white; display: inline-block;\">stercor</span> <span style=\"background-color: white; display: inline-block;\">um_</span> <span style=\"background-color: white; display: inline-block;\">abste</span> <span style=\"background-color: white; display: inline-block;\">ntio_</span> <span style=\"background-color: white; display: inline-block;\">fiat_</span> <span style=\"background-color: white; display: inline-block;\">,_</span> <span style=\"background-color: white; display: inline-block;\">quibusdam_</span> <span style=\"background-color: white; display: inline-block;\">etiam_</span> <span style=\"background-color: white; display: inline-block;\">febre</span> <span style=\"background-color: white; display: inline-block;\">s_</span> <span style=\"background-color: white; display: inline-block;\">[SEP]</span></p>"
      ],
      "text/plain": [
       "<IPython.core.display.HTML object>"
      ]
     },
     "metadata": {},
     "output_type": "display_data"
    },
    {
     "data": {
      "text/html": [
       "<p><b style=\"text-decoration: line-through;;\">positive</b> -> <span style=\"background-color: white; display: inline-block;\">[CLS]</span> <span style=\"background-color: white; display: inline-block;\">idem_</span> <span style=\"background-color: white; display: inline-block;\">et_</span> <span style=\"background-color: white; display: inline-block;\">uere</span> <span style=\"background-color: white; display: inline-block;\">trum_</span> <span style=\"background-color: white; display: inline-block;\">,_</span> <span style=\"background-color: white; display: inline-block;\">quia_</span> <span style=\"background-color: white; display: inline-block;\">uiri_</span> <span style=\"background-color: white; display: inline-block;\">est_</span> <span style=\"background-color: white; display: inline-block;\">tantum_</span> <span style=\"background-color: white; display: inline-block;\">,_</span> <span style=\"background-color: white; display: inline-block;\">siue_</span> <span style=\"background-color: white; display: inline-block;\">quod_</span> <span style=\"background-color: white; display: inline-block;\">ex_</span> <span style=\"background-color: white; display: inline-block;\">eo_</span> <span style=\"background-color: white; display: inline-block;\">uir</span> <span style=\"background-color: white; display: inline-block;\">us_</span> <span style=\"background-color: yellow; display: inline-block;\">emitti</span> <span style=\"background-color: white; display: inline-block;\">tur_</span> <span style=\"background-color: white; display: inline-block;\">[SEP]</span></p>"
      ],
      "text/plain": [
       "<IPython.core.display.HTML object>"
      ]
     },
     "metadata": {},
     "output_type": "display_data"
    },
    {
     "data": {
      "text/html": [
       "<p><b style=\"text-decoration: line-through;;\">positive</b> -> <span style=\"background-color: white; display: inline-block;\">[CLS]</span> <span style=\"background-color: white; display: inline-block;\">inpa</span> <span style=\"background-color: white; display: inline-block;\">tien</span> <span style=\"background-color: white; display: inline-block;\">sque_</span> <span style=\"background-color: white; display: inline-block;\">-_</span> <span style=\"background-color: white; display: inline-block;\">que_</span> <span style=\"background-color: white; display: inline-block;\">mora</span> <span style=\"background-color: white; display: inline-block;\">e_</span> <span style=\"background-color: white; display: inline-block;\">sile</span> <span style=\"background-color: white; display: inline-block;\">t_</span> <span style=\"background-color: white; display: inline-block;\">et_</span> <span style=\"background-color: yellow; display: inline-block;\">praep</span> <span style=\"background-color: yellow; display: inline-block;\">utia</span> <span style=\"background-color: white; display: inline-block;\">_</span> <span style=\"background-color: white; display: inline-block;\">ducit_</span> <span style=\"background-color: white; display: inline-block;\">._</span> <span style=\"background-color: white; display: inline-block;\">[SEP]</span></p>"
      ],
      "text/plain": [
       "<IPython.core.display.HTML object>"
      ]
     },
     "metadata": {},
     "output_type": "display_data"
    },
    {
     "data": {
      "text/html": [
       "<p><b style=\"text-decoration: line-through;;\">positive</b> -> <span style=\"background-color: white; display: inline-block;\">[CLS]</span> <span style=\"background-color: yellow; display: inline-block;\">patra</span> <span style=\"background-color: white; display: inline-block;\">tio_</span> <span style=\"background-color: white; display: inline-block;\">enim_</span> <span style=\"background-color: white; display: inline-block;\">est_</span> <span style=\"background-color: white; display: inline-block;\">rei_</span> <span style=\"background-color: yellow; display: inline-block;\">veneri</span> <span style=\"background-color: white; display: inline-block;\">ae_</span> <span style=\"background-color: white; display: inline-block;\">consummatio</span> <span style=\"background-color: white; display: inline-block;\">_</span> <span style=\"background-color: white; display: inline-block;\">._</span> <span style=\"background-color: white; display: inline-block;\">[SEP]</span></p>"
      ],
      "text/plain": [
       "<IPython.core.display.HTML object>"
      ]
     },
     "metadata": {},
     "output_type": "display_data"
    },
    {
     "data": {
      "text/html": [
       "<p><b style=\"text-decoration: line-through;;\">positive</b> -> <span style=\"background-color: white; display: inline-block;\">[CLS]</span> <span style=\"background-color: white; display: inline-block;\">quomodo_</span> <span style=\"background-color: white; display: inline-block;\">tibi_</span> <span style=\"background-color: white; display: inline-block;\">in_</span> <span style=\"background-color: white; display: inline-block;\">actu_</span> <span style=\"background-color: white; display: inline-block;\">illo_</span> <span style=\"background-color: white; display: inline-block;\">igno</span> <span style=\"background-color: white; display: inline-block;\">mini</span> <span style=\"background-color: white; display: inline-block;\">oso_</span> <span style=\"background-color: white; display: inline-block;\">non_</span> <span style=\"background-color: white; display: inline-block;\">venieba</span> <span style=\"background-color: white; display: inline-block;\">t_</span> <span style=\"background-color: white; display: inline-block;\">in_</span> <span style=\"background-color: white; display: inline-block;\">mentem_</span> <span style=\"background-color: white; display: inline-block;\">habitus_</span> <span style=\"background-color: white; display: inline-block;\">virgin</span> <span style=\"background-color: white; display: inline-block;\">alis_</span> <span style=\"background-color: white; display: inline-block;\">,_</span> <span style=\"background-color: white; display: inline-block;\">processus_</span> <span style=\"background-color: white; display: inline-block;\">in_</span> <span style=\"background-color: white; display: inline-block;\">ecclesiam_</span> <span style=\"background-color: white; display: inline-block;\">inter_</span> <span style=\"background-color: white; display: inline-block;\">virgin</span> <span style=\"background-color: white; display: inline-block;\">eos_</span> <span style=\"background-color: white; display: inline-block;\">chor</span> <span style=\"background-color: white; display: inline-block;\">os_</span> <span style=\"background-color: white; display: inline-block;\">?_</span> <span style=\"background-color: white; display: inline-block;\">[SEP]</span></p>"
      ],
      "text/plain": [
       "<IPython.core.display.HTML object>"
      ]
     },
     "metadata": {},
     "output_type": "display_data"
    },
    {
     "data": {
      "text/html": [
       "<p><b style=\"text-decoration: line-through;;\">positive</b> -> <span style=\"background-color: white; display: inline-block;\">[CLS]</span> <span style=\"background-color: white; display: inline-block;\">veg</span> <span style=\"background-color: white; display: inline-block;\">etio</span> <span style=\"background-color: white; display: inline-block;\">rem</span> <span style=\"background-color: white; display: inline-block;\">que_</span> <span style=\"background-color: white; display: inline-block;\">-_</span> <span style=\"background-color: white; display: inline-block;\">que_</span> <span style=\"background-color: white; display: inline-block;\">factum_</span> <span style=\"background-color: yellow; display: inline-block;\">mare</span> <span style=\"background-color: white; display: inline-block;\">m_</span> <span style=\"background-color: yellow; display: inline-block;\">feminae_</span> <span style=\"background-color: yellow; display: inline-block;\">iniun</span> <span style=\"background-color: white; display: inline-block;\">gi_</span> <span style=\"background-color: white; display: inline-block;\">[SEP]</span></p>"
      ],
      "text/plain": [
       "<IPython.core.display.HTML object>"
      ]
     },
     "metadata": {},
     "output_type": "display_data"
    },
    {
     "data": {
      "text/html": [
       "<p><b style=\"text-decoration: line-through;;\">positive</b> -> <span style=\"background-color: white; display: inline-block;\">[CLS]</span> <span style=\"background-color: yellow; display: inline-block;\">torum_</span> <span style=\"background-color: white; display: inline-block;\">frequenti</span> <span style=\"background-color: white; display: inline-block;\">_</span> <span style=\"background-color: white; display: inline-block;\">tractati</span> <span style=\"background-color: white; display: inline-block;\">one_</span> <span style=\"background-color: white; display: inline-block;\">vexa</span> <span style=\"background-color: white; display: inline-block;\">vi_</span> <span style=\"background-color: white; display: inline-block;\">,_</span> <span style=\"background-color: white; display: inline-block;\">amoris_</span> <span style=\"background-color: white; display: inline-block;\">mei_</span> <span style=\"background-color: white; display: inline-block;\">quasi_</span> <span style=\"background-color: white; display: inline-block;\">quandam_</span> <span style=\"background-color: white; display: inline-block;\">imaginem_</span> <span style=\"background-color: white; display: inline-block;\">._</span> <span style=\"background-color: white; display: inline-block;\">[SEP]</span></p>"
      ],
      "text/plain": [
       "<IPython.core.display.HTML object>"
      ]
     },
     "metadata": {},
     "output_type": "display_data"
    },
    {
     "data": {
      "text/html": [
       "<p><b style=\"text-decoration: line-through;;\">negative</b> -> <span style=\"background-color: white; display: inline-block;\">[CLS]</span> <span style=\"background-color: white; display: inline-block;\">atque_</span> <span style=\"background-color: white; display: inline-block;\">id_</span> <span style=\"background-color: white; display: inline-block;\">duri</span> <span style=\"background-color: white; display: inline-block;\">us_</span> <span style=\"background-color: white; display: inline-block;\">est_</span> <span style=\"background-color: white; display: inline-block;\">faba</span> <span style=\"background-color: white; display: inline-block;\">_</span> <span style=\"background-color: white; display: inline-block;\">et_</span> <span style=\"background-color: white; display: inline-block;\">lapi</span> <span style=\"background-color: white; display: inline-block;\">llis_</span> <span style=\"background-color: white; display: inline-block;\">,_</span> <span style=\"background-color: white; display: inline-block;\">quod_</span> <span style=\"background-color: white; display: inline-block;\">tu_</span> <span style=\"background-color: white; display: inline-block;\">si_</span> <span style=\"background-color: white; display: inline-block;\">manibus_</span> <span style=\"background-color: white; display: inline-block;\">tera</span> <span style=\"background-color: white; display: inline-block;\">s_</span> <span style=\"background-color: white; display: inline-block;\">fri</span> <span style=\"background-color: white; display: inline-block;\">ces</span> <span style=\"background-color: white; display: inline-block;\">que_</span> <span style=\"background-color: white; display: inline-block;\">-_</span> <span style=\"background-color: white; display: inline-block;\">que_</span> <span style=\"background-color: white; display: inline-block;\">,_</span> <span style=\"background-color: white; display: inline-block;\">non_</span> <span style=\"background-color: white; display: inline-block;\">unquam_</span> <span style=\"background-color: yellow; display: inline-block;\">digitu</span> <span style=\"background-color: white; display: inline-block;\">m_</span> <span style=\"background-color: yellow; display: inline-block;\">inquin</span> <span style=\"background-color: white; display: inline-block;\">are_</span> <span style=\"background-color: white; display: inline-block;\">possis_</span> <span style=\"background-color: white; display: inline-block;\">._</span> <span style=\"background-color: white; display: inline-block;\">[SEP]</span></p>"
      ],
      "text/plain": [
       "<IPython.core.display.HTML object>"
      ]
     },
     "metadata": {},
     "output_type": "display_data"
    },
    {
     "data": {
      "text/html": [
       "<p><b style=\"text-decoration: line-through;;\">positive</b> -> <span style=\"background-color: white; display: inline-block;\">[CLS]</span> <span style=\"background-color: white; display: inline-block;\">si_</span> <span style=\"background-color: white; display: inline-block;\">inter_</span> <span style=\"background-color: white; display: inline-block;\">extrane</span> <span style=\"background-color: white; display: inline-block;\">os_</span> <span style=\"background-color: white; display: inline-block;\">facta_</span> <span style=\"background-color: white; display: inline-block;\">sit_</span> <span style=\"background-color: white; display: inline-block;\">donati</span> <span style=\"background-color: white; display: inline-block;\">o_</span> <span style=\"background-color: white; display: inline-block;\">et_</span> <span style=\"background-color: white; display: inline-block;\">antequam_</span> <span style=\"background-color: white; display: inline-block;\">per_</span> <span style=\"background-color: white; display: inline-block;\">tempus_</span> <span style=\"background-color: white; display: inline-block;\">legitimum_</span> <span style=\"background-color: white; display: inline-block;\">dominium_</span> <span style=\"background-color: white; display: inline-block;\">fuerit_</span> <span style=\"background-color: white; display: inline-block;\">adqui</span> <span style=\"background-color: white; display: inline-block;\">situm_</span> <span style=\"background-color: white; display: inline-block;\">,_</span> <span style=\"background-color: yellow; display: inline-block;\">coi</span> <span style=\"background-color: white; display: inline-block;\">erint_</span> <span style=\"background-color: yellow; display: inline-block;\">[SEP]</span></p>"
      ],
      "text/plain": [
       "<IPython.core.display.HTML object>"
      ]
     },
     "metadata": {},
     "output_type": "display_data"
    },
    {
     "data": {
      "text/html": [
       "<p><b style=\"text-decoration: line-through;;\">positive</b> -> <span style=\"background-color: white; display: inline-block;\">[CLS]</span> <span style=\"background-color: white; display: inline-block;\">corrup</span> <span style=\"background-color: white; display: inline-block;\">it_</span> <span style=\"background-color: white; display: inline-block;\">frater_</span> <span style=\"background-color: white; display: inline-block;\">uxorem_</span> <span style=\"background-color: white; display: inline-block;\">meam_</span> <span style=\"background-color: white; display: inline-block;\">quam_</span> <span style=\"background-color: white; display: inline-block;\">nec_</span> <span style=\"background-color: white; display: inline-block;\">tyrannus_</span> <span style=\"background-color: yellow; display: inline-block;\">uio</span> <span style=\"background-color: white; display: inline-block;\">lau</span> <span style=\"background-color: white; display: inline-block;\">erat_</span> <span style=\"background-color: white; display: inline-block;\">._</span> <span style=\"background-color: yellow; display: inline-block;\">[SEP]</span></p>"
      ],
      "text/plain": [
       "<IPython.core.display.HTML object>"
      ]
     },
     "metadata": {},
     "output_type": "display_data"
    },
    {
     "data": {
      "text/html": [
       "<p><b style=\"text-decoration: line-through;;\">positive</b> -> <span style=\"background-color: white; display: inline-block;\">[CLS]</span> <span style=\"background-color: white; display: inline-block;\">hinc_</span> <span style=\"background-color: white; display: inline-block;\">mulier_</span> <span style=\"background-color: white; display: inline-block;\">aegypti</span> <span style=\"background-color: white; display: inline-block;\">a_</span> <span style=\"background-color: white; display: inline-block;\">ab_</span> <span style=\"background-color: white; display: inline-block;\">ebri</span> <span style=\"background-color: white; display: inline-block;\">o_</span> <span style=\"background-color: white; display: inline-block;\">imperatore_</span> <span style=\"background-color: white; display: inline-block;\">pretium_</span> <span style=\"background-color: white; display: inline-block;\">libidin</span> <span style=\"background-color: white; display: inline-block;\">um_</span> <span style=\"background-color: white; display: inline-block;\">romanum_</span> <span style=\"background-color: white; display: inline-block;\">imperium_</span> <span style=\"background-color: white; display: inline-block;\">petit_</span> <span style=\"background-color: #ffdf00; display: inline-block;\">[SEP]</span></p>"
      ],
      "text/plain": [
       "<IPython.core.display.HTML object>"
      ]
     },
     "metadata": {},
     "output_type": "display_data"
    },
    {
     "data": {
      "text/html": [
       "<p><b style=\"text-decoration: line-through;;\">positive</b> -> <span style=\"background-color: white; display: inline-block;\">[CLS]</span> <span style=\"background-color: white; display: inline-block;\">a_</span> <span style=\"background-color: white; display: inline-block;\">._</span> <span style=\"background-color: white; display: inline-block;\">perii</span> <span style=\"background-color: white; display: inline-block;\">_</span> <span style=\"background-color: white; display: inline-block;\">miser_</span> <span style=\"background-color: white; display: inline-block;\">,_</span> <span style=\"background-color: white; display: inline-block;\">quia_</span> <span style=\"background-color: #ffbf00; display: inline-block;\">pudicitia</span> <span style=\"background-color: white; display: inline-block;\">e_</span> <span style=\"background-color: white; display: inline-block;\">huius_</span> <span style=\"background-color: white; display: inline-block;\">vitium_</span> <span style=\"background-color: white; display: inline-block;\">me_</span> <span style=\"background-color: white; display: inline-block;\">hinc_</span> <span style=\"background-color: white; display: inline-block;\">absente_</span> <span style=\"background-color: white; display: inline-block;\">est_</span> <span style=\"background-color: white; display: inline-block;\">additum_</span> <span style=\"background-color: white; display: inline-block;\">._</span> <span style=\"background-color: white; display: inline-block;\">[SEP]</span></p>"
      ],
      "text/plain": [
       "<IPython.core.display.HTML object>"
      ]
     },
     "metadata": {},
     "output_type": "display_data"
    },
    {
     "data": {
      "text/html": [
       "<p><b style=\"text-decoration: line-through;;\">positive</b> -> <span style=\"background-color: white; display: inline-block;\">[CLS]</span> <span style=\"background-color: white; display: inline-block;\">sic_</span> <span style=\"background-color: white; display: inline-block;\">enim_</span> <span style=\"background-color: yellow; display: inline-block;\">matri</span> <span style=\"background-color: white; display: inline-block;\">x_</span> <span style=\"background-color: white; display: inline-block;\">poterit_</span> <span style=\"background-color: white; display: inline-block;\">fet</span> <span style=\"background-color: white; display: inline-block;\">idis_</span> <span style=\"background-color: white; display: inline-block;\">odori</span> <span style=\"background-color: white; display: inline-block;\">bus_</span> <span style=\"background-color: white; display: inline-block;\">a_</span> <span style=\"background-color: white; display: inline-block;\">superioribus_</span> <span style=\"background-color: white; display: inline-block;\">ad_</span> <span style=\"background-color: white; display: inline-block;\">inferiora_</span> <span style=\"background-color: white; display: inline-block;\">fuga</span> <span style=\"background-color: white; display: inline-block;\">ri_</span> <span style=\"background-color: white; display: inline-block;\">et_</span> <span style=\"background-color: white; display: inline-block;\">loco_</span> <span style=\"background-color: white; display: inline-block;\">proprio_</span> <span style=\"background-color: white; display: inline-block;\">reuoc</span> <span style=\"background-color: white; display: inline-block;\">ari_</span> <span style=\"background-color: white; display: inline-block;\">,_</span> <span style=\"background-color: white; display: inline-block;\">cum_</span> <span style=\"background-color: white; display: inline-block;\">meliori</span> <span style=\"background-color: white; display: inline-block;\">bus_</span> <span style=\"background-color: white; display: inline-block;\">et_</span> <span style=\"background-color: white; display: inline-block;\">iocu</span> <span style=\"background-color: white; display: inline-block;\">ndis_</span> <span style=\"background-color: white; display: inline-block;\">ad_</span> <span style=\"background-color: white; display: inline-block;\">inferiores_</span> <span style=\"background-color: white; display: inline-block;\">partes_</span> <span style=\"background-color: white; display: inline-block;\">fuerit_</span> <span style=\"background-color: white; display: inline-block;\">inuit</span> <span style=\"background-color: white; display: inline-block;\">ata_</span> <span style=\"background-color: white; display: inline-block;\">et_</span> <span style=\"background-color: white; display: inline-block;\">prou</span> <span style=\"background-color: white; display: inline-block;\">ocat</span> <span style=\"background-color: white; display: inline-block;\">a_</span> <span style=\"background-color: white; display: inline-block;\">._</span> <span style=\"background-color: white; display: inline-block;\">[SEP]</span></p>"
      ],
      "text/plain": [
       "<IPython.core.display.HTML object>"
      ]
     },
     "metadata": {},
     "output_type": "display_data"
    },
    {
     "data": {
      "text/html": [
       "<p><b style=\"text-decoration: line-through;;\">positive</b> -> <span style=\"background-color: white; display: inline-block;\">[CLS]</span> <span style=\"background-color: white; display: inline-block;\">is_</span> <span style=\"background-color: white; display: inline-block;\">se_</span> <span style=\"background-color: white; display: inline-block;\">dixit_</span> <span style=\"background-color: white; display: inline-block;\">cum_</span> <span style=\"background-color: white; display: inline-block;\">alcu</span> <span style=\"background-color: white; display: inline-block;\">mena</span> <span style=\"background-color: white; display: inline-block;\">_</span> <span style=\"background-color: white; display: inline-block;\">clam_</span> <span style=\"background-color: white; display: inline-block;\">consuet</span> <span style=\"background-color: white; display: inline-block;\">um_</span> <span style=\"background-color: yellow; display: inline-block;\">cubit</span> <span style=\"background-color: white; display: inline-block;\">ibus_</span> <span style=\"background-color: white; display: inline-block;\">,_</span> <span style=\"background-color: white; display: inline-block;\">eum</span> <span style=\"background-color: white; display: inline-block;\">que_</span> <span style=\"background-color: white; display: inline-block;\">-_</span> <span style=\"background-color: white; display: inline-block;\">que_</span> <span style=\"background-color: white; display: inline-block;\">filium_</span> <span style=\"background-color: white; display: inline-block;\">suo</span> <span style=\"background-color: white; display: inline-block;\">m_</span> <span style=\"background-color: white; display: inline-block;\">esse_</span> <span style=\"background-color: white; display: inline-block;\">qui_</span> <span style=\"background-color: white; display: inline-block;\">illos_</span> <span style=\"background-color: white; display: inline-block;\">angu</span> <span style=\"background-color: white; display: inline-block;\">es_</span> <span style=\"background-color: white; display: inline-block;\">vicer</span> <span style=\"background-color: white; display: inline-block;\">it_</span> <span style=\"background-color: white; display: inline-block;\">[SEP]</span></p>"
      ],
      "text/plain": [
       "<IPython.core.display.HTML object>"
      ]
     },
     "metadata": {},
     "output_type": "display_data"
    },
    {
     "data": {
      "text/html": [
       "<p><b style=\"text-decoration: line-through;;\">positive</b> -> <span style=\"background-color: white; display: inline-block;\">[CLS]</span> <span style=\"background-color: white; display: inline-block;\">sic_</span> <span style=\"background-color: white; display: inline-block;\">se_</span> <span style=\"background-color: white; display: inline-block;\">tibi_</span> <span style=\"background-color: #ffdf00; display: inline-block;\">misce</span> <span style=\"background-color: white; display: inline-block;\">at_</span> <span style=\"background-color: white; display: inline-block;\">!_</span> <span style=\"background-color: #ffdf00; display: inline-block;\">[SEP]</span></p>"
      ],
      "text/plain": [
       "<IPython.core.display.HTML object>"
      ]
     },
     "metadata": {},
     "output_type": "display_data"
    },
    {
     "data": {
      "text/html": [
       "<p><b style=\"text-decoration: line-through;;\">positive</b> -> <span style=\"background-color: white; display: inline-block;\">[CLS]</span> <span style=\"background-color: white; display: inline-block;\">at_</span> <span style=\"background-color: white; display: inline-block;\">nunc_</span> <span style=\"background-color: white; display: inline-block;\">pro_</span> <span style=\"background-color: white; display: inline-block;\">cerv</span> <span style=\"background-color: white; display: inline-block;\">o_</span> <span style=\"background-color: #ffbf00; display: inline-block;\">ment</span> <span style=\"background-color: white; display: inline-block;\">ula_</span> <span style=\"background-color: white; display: inline-block;\">sub</span> <span style=\"background-color: white; display: inline-block;\">posita_</span> <span style=\"background-color: white; display: inline-block;\">est_</span> <span style=\"background-color: white; display: inline-block;\">._</span> <span style=\"background-color: white; display: inline-block;\">[SEP]</span></p>"
      ],
      "text/plain": [
       "<IPython.core.display.HTML object>"
      ]
     },
     "metadata": {},
     "output_type": "display_data"
    },
    {
     "data": {
      "text/html": [
       "<p><b style=\"text-decoration: line-through;;\">positive</b> -> <span style=\"background-color: white; display: inline-block;\">[CLS]</span> <span style=\"background-color: white; display: inline-block;\">multis_</span> <span style=\"background-color: white; display: inline-block;\">iam_</span> <span style=\"background-color: white; display: inline-block;\">,_</span> <span style=\"background-color: white; display: inline-block;\">lup</span> <span style=\"background-color: white; display: inline-block;\">e_</span> <span style=\"background-color: white; display: inline-block;\">,_</span> <span style=\"background-color: white; display: inline-block;\">posse_</span> <span style=\"background-color: white; display: inline-block;\">se_</span> <span style=\"background-color: white; display: inline-block;\">diebus_</span> <span style=\"background-color: #ffdf00; display: inline-block;\">pedi</span> <span style=\"background-color: white; display: inline-block;\">care_</span> <span style=\"background-color: white; display: inline-block;\">negat_</span> <span style=\"background-color: white; display: inline-block;\">charis</span> <span style=\"background-color: white; display: inline-block;\">ianus_</span> <span style=\"background-color: white; display: inline-block;\">._</span> <span style=\"background-color: yellow; display: inline-block;\">[SEP]</span></p>"
      ],
      "text/plain": [
       "<IPython.core.display.HTML object>"
      ]
     },
     "metadata": {},
     "output_type": "display_data"
    },
    {
     "data": {
      "text/html": [
       "<p><b style=\"text-decoration: line-through;;\">positive</b> -> <span style=\"background-color: white; display: inline-block;\">[CLS]</span> <span style=\"background-color: white; display: inline-block;\">ecce_</span> <span style=\"background-color: white; display: inline-block;\">enim_</span> <span style=\"background-color: white; display: inline-block;\">ex_</span> <span style=\"background-color: white; display: inline-block;\">senatus_</span> <span style=\"background-color: white; display: inline-block;\">consulto_</span> <span style=\"background-color: white; display: inline-block;\">claudia</span> <span style=\"background-color: white; display: inline-block;\">no_</span> <span style=\"background-color: white; display: inline-block;\">poterat_</span> <span style=\"background-color: white; display: inline-block;\">civis_</span> <span style=\"background-color: white; display: inline-block;\">romana_</span> <span style=\"background-color: white; display: inline-block;\">,_</span> <span style=\"background-color: white; display: inline-block;\">quae_</span> <span style=\"background-color: white; display: inline-block;\">alieno_</span> <span style=\"background-color: white; display: inline-block;\">servo_</span> <span style=\"background-color: white; display: inline-block;\">volente</span> <span style=\"background-color: white; display: inline-block;\">_</span> <span style=\"background-color: white; display: inline-block;\">domino_</span> <span style=\"background-color: white; display: inline-block;\">eius_</span> <span style=\"background-color: white; display: inline-block;\">coii</span> <span style=\"background-color: white; display: inline-block;\">t_</span> <span style=\"background-color: white; display: inline-block;\">,_</span> <span style=\"background-color: white; display: inline-block;\">[SEP]</span></p>"
      ],
      "text/plain": [
       "<IPython.core.display.HTML object>"
      ]
     },
     "metadata": {},
     "output_type": "display_data"
    },
    {
     "data": {
      "text/html": [
       "<p><b style=\"text-decoration: line-through;;\">positive</b> -> <span style=\"background-color: white; display: inline-block;\">[CLS]</span> <span style=\"background-color: white; display: inline-block;\">tu_</span> <span style=\"background-color: white; display: inline-block;\">tenebris_</span> <span style=\"background-color: white; display: inline-block;\">gaude</span> <span style=\"background-color: white; display: inline-block;\">s_</span> <span style=\"background-color: white; display: inline-block;\">:_</span> <span style=\"background-color: white; display: inline-block;\">me_</span> <span style=\"background-color: white; display: inline-block;\">ludere_</span> <span style=\"background-color: white; display: inline-block;\">teste_</span> <span style=\"background-color: white; display: inline-block;\">lucerna_</span> <span style=\"background-color: white; display: inline-block;\">et_</span> <span style=\"background-color: white; display: inline-block;\">iuvat_</span> <span style=\"background-color: white; display: inline-block;\">admiss</span> <span style=\"background-color: white; display: inline-block;\">a_</span> <span style=\"background-color: white; display: inline-block;\">rumpe</span> <span style=\"background-color: white; display: inline-block;\">re_</span> <span style=\"background-color: white; display: inline-block;\">luce_</span> <span style=\"background-color: #ffdf00; display: inline-block;\">latus_</span> <span style=\"background-color: white; display: inline-block;\">._</span> <span style=\"background-color: white; display: inline-block;\">[SEP]</span></p>"
      ],
      "text/plain": [
       "<IPython.core.display.HTML object>"
      ]
     },
     "metadata": {},
     "output_type": "display_data"
    },
    {
     "data": {
      "text/html": [
       "<p><b style=\"text-decoration: line-through;;\">positive</b> -> <span style=\"background-color: white; display: inline-block;\">[CLS]</span> <span style=\"background-color: white; display: inline-block;\">qua_</span> <span style=\"background-color: white; display: inline-block;\">factus_</span> <span style=\"background-color: white; display: inline-block;\">ratione_</span> <span style=\"background-color: white; display: inline-block;\">sit_</span> <span style=\"background-color: white; display: inline-block;\">requiri</span> <span style=\"background-color: white; display: inline-block;\">s_</span> <span style=\"background-color: white; display: inline-block;\">,_</span> <span style=\"background-color: white; display: inline-block;\">qui_</span> <span style=\"background-color: white; display: inline-block;\">numquam_</span> <span style=\"background-color: yellow; display: inline-block;\">fut</span> <span style=\"background-color: white; display: inline-block;\">uit_</span> <span style=\"background-color: white; display: inline-block;\">,_</span> <span style=\"background-color: white; display: inline-block;\">pater_</span> <span style=\"background-color: #ffdf00; display: inline-block;\">phil</span> <span style=\"background-color: white; display: inline-block;\">inus_</span> <span style=\"background-color: white; display: inline-block;\">?_</span> <span style=\"background-color: white; display: inline-block;\">[SEP]</span></p>"
      ],
      "text/plain": [
       "<IPython.core.display.HTML object>"
      ]
     },
     "metadata": {},
     "output_type": "display_data"
    },
    {
     "data": {
      "text/html": [
       "<p><b style=\"text-decoration: line-through;;\">positive</b> -> <span style=\"background-color: white; display: inline-block;\">[CLS]</span> <span style=\"background-color: white; display: inline-block;\">num_</span> <span style=\"background-color: white; display: inline-block;\">mea_</span> <span style=\"background-color: white; display: inline-block;\">thessali</span> <span style=\"background-color: white; display: inline-block;\">co_</span> <span style=\"background-color: white; display: inline-block;\">langue</span> <span style=\"background-color: white; display: inline-block;\">nt_</span> <span style=\"background-color: white; display: inline-block;\">devot</span> <span style=\"background-color: white; display: inline-block;\">a_</span> <span style=\"background-color: white; display: inline-block;\">veneno_</span> <span style=\"background-color: yellow; display: inline-block;\">corpora_</span> <span style=\"background-color: white; display: inline-block;\">?_</span> <span style=\"background-color: white; display: inline-block;\">[SEP]</span></p>"
      ],
      "text/plain": [
       "<IPython.core.display.HTML object>"
      ]
     },
     "metadata": {},
     "output_type": "display_data"
    },
    {
     "data": {
      "text/html": [
       "<p><b style=\"text-decoration: line-through;;\">positive</b> -> <span style=\"background-color: white; display: inline-block;\">[CLS]</span> <span style=\"background-color: yellow; display: inline-block;\">intact</span> <span style=\"background-color: white; display: inline-block;\">um_</span> <span style=\"background-color: white; display: inline-block;\">ab_</span> <span style=\"background-color: yellow; display: inline-block;\">omni_</span> <span style=\"background-color: white; display: inline-block;\">crimine_</span> <span style=\"background-color: white; display: inline-block;\">virgin</span> <span style=\"background-color: white; display: inline-block;\">al_</span> <span style=\"background-color: white; display: inline-block;\">,_</span> <span style=\"background-color: white; display: inline-block;\">mortis_</span> <span style=\"background-color: white; display: inline-block;\">deinde_</span> <span style=\"background-color: white; display: inline-block;\">gloria_</span> <span style=\"background-color: white; display: inline-block;\">liberae_</span> <span style=\"background-color: white; display: inline-block;\">._</span> <span style=\"background-color: white; display: inline-block;\">[SEP]</span></p>"
      ],
      "text/plain": [
       "<IPython.core.display.HTML object>"
      ]
     },
     "metadata": {},
     "output_type": "display_data"
    },
    {
     "data": {
      "text/html": [
       "<p><b style=\"text-decoration: line-through;;\">positive</b> -> <span style=\"background-color: white; display: inline-block;\">[CLS]</span> <span style=\"background-color: white; display: inline-block;\">et_</span> <span style=\"background-color: white; display: inline-block;\">idcirco_</span> <span style=\"background-color: white; display: inline-block;\">consult</span> <span style=\"background-color: white; display: inline-block;\">e_</span> <span style=\"background-color: white; display: inline-block;\">et_</span> <span style=\"background-color: white; display: inline-block;\">ç</span> <span style=\"background-color: white; display: inline-block;\">um_</span> <span style=\"background-color: white; display: inline-block;\">uig</span> <span style=\"background-color: white; display: inline-block;\">ore_</span> <span style=\"background-color: white; display: inline-block;\">fecisti_</span> <span style=\"background-color: white; display: inline-block;\">,_</span> <span style=\"background-color: white; display: inline-block;\">frater_</span> <span style=\"background-color: white; display: inline-block;\">carissim</span> <span style=\"background-color: white; display: inline-block;\">e_</span> <span style=\"background-color: white; display: inline-block;\">,_</span> <span style=\"background-color: white; display: inline-block;\">abstinen</span> <span style=\"background-color: white; display: inline-block;\">do_</span> <span style=\"background-color: white; display: inline-block;\">diacon</span> <span style=\"background-color: white; display: inline-block;\">um_</span> <span style=\"background-color: white; display: inline-block;\">qui_</span> <span style=\"background-color: white; display: inline-block;\">cum_</span> <span style=\"background-color: white; display: inline-block;\">uirgin</span> <span style=\"background-color: white; display: inline-block;\">e_</span> <span style=\"background-color: white; display: inline-block;\">saepe_</span> <span style=\"background-color: white; display: inline-block;\">mansit_</span> <span style=\"background-color: white; display: inline-block;\">,_</span> <span style=\"background-color: white; display: inline-block;\">sed_</span> <span style=\"background-color: white; display: inline-block;\">et_</span> <span style=\"background-color: white; display: inline-block;\">ceteros_</span> <span style=\"background-color: white; display: inline-block;\">qui_</span> <span style=\"background-color: white; display: inline-block;\">cum_</span> <span style=\"background-color: white; display: inline-block;\">uirgin</span> <span style=\"background-color: white; display: inline-block;\">ibus_</span> <span style=\"background-color: white; display: inline-block;\">dormi</span> <span style=\"background-color: white; display: inline-block;\">re_</span> <span style=\"background-color: white; display: inline-block;\">consue</span> <span style=\"background-color: white; display: inline-block;\">uerant_</span> <span style=\"background-color: white; display: inline-block;\">._</span> <span style=\"background-color: white; display: inline-block;\">[SEP]</span></p>"
      ],
      "text/plain": [
       "<IPython.core.display.HTML object>"
      ]
     },
     "metadata": {},
     "output_type": "display_data"
    },
    {
     "data": {
      "text/html": [
       "<p><b style=\"text-decoration: line-through;;\">positive</b> -> <span style=\"background-color: white; display: inline-block;\">[CLS]</span> <span style=\"background-color: white; display: inline-block;\">quo_</span> <span style=\"background-color: white; display: inline-block;\">illa_</span> <span style=\"background-color: white; display: inline-block;\">pretio_</span> <span style=\"background-color: white; display: inline-block;\">accepto_</span> <span style=\"background-color: white; display: inline-block;\">multi</span> <span style=\"background-color: white; display: inline-block;\">sque_</span> <span style=\"background-color: white; display: inline-block;\">-_</span> <span style=\"background-color: white; display: inline-block;\">que_</span> <span style=\"background-color: white; display: inline-block;\">praeterea_</span> <span style=\"background-color: white; display: inline-block;\">muneribus_</span> <span style=\"background-color: white; display: inline-block;\">quae_</span> <span style=\"background-color: white; display: inline-block;\">tum_</span> <span style=\"background-color: white; display: inline-block;\">ex_</span> <span style=\"background-color: white; display: inline-block;\">tabulis_</span> <span style=\"background-color: white; display: inline-block;\">oppian</span> <span style=\"background-color: white; display: inline-block;\">ici_</span> <span style=\"background-color: white; display: inline-block;\">recita</span> <span style=\"background-color: white; display: inline-block;\">bantur_</span> <span style=\"background-color: white; display: inline-block;\">spem_</span> <span style=\"background-color: white; display: inline-block;\">illam_</span> <span style=\"background-color: white; display: inline-block;\">quam_</span> <span style=\"background-color: white; display: inline-block;\">in_</span> <span style=\"background-color: #ffbf00; display: inline-block;\">alv</span> <span style=\"background-color: white; display: inline-block;\">o_</span> <span style=\"background-color: white; display: inline-block;\">commendat</span> <span style=\"background-color: white; display: inline-block;\">am_</span> <span style=\"background-color: white; display: inline-block;\">a_</span> <span style=\"background-color: white; display: inline-block;\">viro_</span> <span style=\"background-color: white; display: inline-block;\">contineba</span> <span style=\"background-color: white; display: inline-block;\">t_</span> <span style=\"background-color: white; display: inline-block;\">victa_</span> <span style=\"background-color: white; display: inline-block;\">avaritia_</span> <span style=\"background-color: white; display: inline-block;\">sceleri</span> <span style=\"background-color: white; display: inline-block;\">_</span> <span style=\"background-color: white; display: inline-block;\">oppian</span> <span style=\"background-color: white; display: inline-block;\">ici_</span> <span style=\"background-color: white; display: inline-block;\">vendidi</span> <span style=\"background-color: white; display: inline-block;\">t_</span> <span style=\"background-color: white; display: inline-block;\">._</span> <span style=\"background-color: white; display: inline-block;\">[SEP]</span></p>"
      ],
      "text/plain": [
       "<IPython.core.display.HTML object>"
      ]
     },
     "metadata": {},
     "output_type": "display_data"
    },
    {
     "data": {
      "text/html": [
       "<p><b style=\"text-decoration: line-through;;\">positive</b> -> <span style=\"background-color: white; display: inline-block;\">[CLS]</span> <span style=\"background-color: white; display: inline-block;\">:_</span> <span style=\"background-color: white; display: inline-block;\">torque</span> <span style=\"background-color: white; display: inline-block;\">_</span> <span style=\"background-color: white; display: inline-block;\">:_</span> <span style=\"background-color: white; display: inline-block;\">illa_</span> <span style=\"background-color: white; display: inline-block;\">pars_</span> <span style=\"background-color: white; display: inline-block;\">etiam_</span> <span style=\"background-color: white; display: inline-block;\">potest_</span> <span style=\"background-color: white; display: inline-block;\">subi</span> <span style=\"background-color: white; display: inline-block;\">ce_</span> <span style=\"background-color: white; display: inline-block;\">ignes_</span> <span style=\"background-color: white; display: inline-block;\">:_</span> <span style=\"background-color: white; display: inline-block;\">in_</span> <span style=\"background-color: white; display: inline-block;\">illa_</span> <span style=\"background-color: white; display: inline-block;\">parte_</span> <span style=\"background-color: white; display: inline-block;\">iam_</span> <span style=\"background-color: white; display: inline-block;\">exar</span> <span style=\"background-color: white; display: inline-block;\">uit_</span> <span style=\"background-color: white; display: inline-block;\">cruor</span> <span style=\"background-color: white; display: inline-block;\">_</span> <span style=\"background-color: white; display: inline-block;\">seca</span> <span style=\"background-color: white; display: inline-block;\">_</span> <span style=\"background-color: white; display: inline-block;\">,_</span> <span style=\"background-color: white; display: inline-block;\">uerb</span> <span style=\"background-color: white; display: inline-block;\">era_</span> <span style=\"background-color: white; display: inline-block;\">,_</span> <span style=\"background-color: white; display: inline-block;\">oculos_</span> <span style=\"background-color: yellow; display: inline-block;\">lan</span> <span style=\"background-color: white; display: inline-block;\">cina</span> <span style=\"background-color: white; display: inline-block;\">_</span> <span style=\"background-color: white; display: inline-block;\">,_</span> <span style=\"background-color: white; display: inline-block;\">fac_</span> <span style=\"background-color: white; display: inline-block;\">iam_</span> <span style=\"background-color: white; display: inline-block;\">ne_</span> <span style=\"background-color: white; display: inline-block;\">uiro</span> <span style=\"background-color: white; display: inline-block;\">_</span> <span style=\"background-color: white; display: inline-block;\">placeat_</span> <span style=\"background-color: white; display: inline-block;\">matri</span> <span style=\"background-color: white; display: inline-block;\">x_</span> <span style=\"background-color: white; display: inline-block;\">._</span> <span style=\"background-color: white; display: inline-block;\">[SEP]</span></p>"
      ],
      "text/plain": [
       "<IPython.core.display.HTML object>"
      ]
     },
     "metadata": {},
     "output_type": "display_data"
    },
    {
     "data": {
      "text/html": [
       "<p><b style=\"text-decoration: line-through;;\">positive</b> -> <span style=\"background-color: white; display: inline-block;\">[CLS]</span> <span style=\"background-color: white; display: inline-block;\">dice</span> <span style=\"background-color: white; display: inline-block;\">tis_</span> <span style=\"background-color: white; display: inline-block;\">hanc_</span> <span style=\"background-color: yellow; display: inline-block;\">mediam_</span> <span style=\"background-color: #ffdf00; display: inline-block;\">lamb</span> <span style=\"background-color: white; display: inline-block;\">ere_</span> <span style=\"background-color: white; display: inline-block;\">,_</span> <span style=\"background-color: white; display: inline-block;\">non_</span> <span style=\"background-color: white; display: inline-block;\">mole</span> <span style=\"background-color: white; display: inline-block;\">re_</span> <span style=\"background-color: white; display: inline-block;\">._</span> <span style=\"background-color: white; display: inline-block;\">[SEP]</span></p>"
      ],
      "text/plain": [
       "<IPython.core.display.HTML object>"
      ]
     },
     "metadata": {},
     "output_type": "display_data"
    },
    {
     "data": {
      "text/html": [
       "<p><b style=\"text-decoration: line-through;;\">positive</b> -> <span style=\"background-color: white; display: inline-block;\">[CLS]</span> <span style=\"background-color: white; display: inline-block;\">fessu</span> <span style=\"background-color: white; display: inline-block;\">s_</span> <span style=\"background-color: white; display: inline-block;\">mille_</span> <span style=\"background-color: white; display: inline-block;\">modis_</span> <span style=\"background-color: white; display: inline-block;\">illud_</span> <span style=\"background-color: yellow; display: inline-block;\">puer</span> <span style=\"background-color: white; display: inline-block;\">ile_</span> <span style=\"background-color: #ffdf00; display: inline-block;\">poposc</span> <span style=\"background-color: white; display: inline-block;\">i_</span> <span style=\"background-color: white; display: inline-block;\">[SEP]</span></p>"
      ],
      "text/plain": [
       "<IPython.core.display.HTML object>"
      ]
     },
     "metadata": {},
     "output_type": "display_data"
    },
    {
     "data": {
      "text/html": [
       "<p><b style=\"text-decoration: line-through;;\">positive</b> -> <span style=\"background-color: white; display: inline-block;\">[CLS]</span> <span style=\"background-color: white; display: inline-block;\">inquiunt_</span> <span style=\"background-color: white; display: inline-block;\">,_</span> <span style=\"background-color: white; display: inline-block;\">tertio_</span> <span style=\"background-color: white; display: inline-block;\">minus_</span> <span style=\"background-color: white; display: inline-block;\">singulis_</span> <span style=\"background-color: white; display: inline-block;\">mensibus_</span> <span style=\"background-color: white; display: inline-block;\">offeren</span> <span style=\"background-color: white; display: inline-block;\">da_</span> <span style=\"background-color: white; display: inline-block;\">,_</span> <span style=\"background-color: white; display: inline-block;\">tunc_</span> <span style=\"background-color: white; display: inline-block;\">capitis_</span> <span style=\"background-color: white; display: inline-block;\">diuis</span> <span style=\"background-color: white; display: inline-block;\">uram_</span> <span style=\"background-color: white; display: inline-block;\">accura</span> <span style=\"background-color: white; display: inline-block;\">tam_</span> <span style=\"background-color: white; display: inline-block;\">,_</span> <span style=\"background-color: white; display: inline-block;\">quam_</span> <span style=\"background-color: white; display: inline-block;\">chia</span> <span style=\"background-color: white; display: inline-block;\">smum_</span> <span style=\"background-color: white; display: inline-block;\">,_</span> <span style=\"background-color: white; display: inline-block;\">dehinc_</span> <span style=\"background-color: white; display: inline-block;\">scar</span> <span style=\"background-color: white; display: inline-block;\">osi</span> <span style=\"background-color: white; display: inline-block;\">n_</span> <span style=\"background-color: white; display: inline-block;\">uel_</span> <span style=\"background-color: white; display: inline-block;\">medicam</span> <span style=\"background-color: white; display: inline-block;\">ine_</span> <span style=\"background-color: white; display: inline-block;\">siue_</span> <span style=\"background-color: white; display: inline-block;\">ignis_</span> <span style=\"background-color: white; display: inline-block;\">ust</span> <span style=\"background-color: white; display: inline-block;\">ura_</span> <span style=\"background-color: white; display: inline-block;\">,_</span> <span style=\"background-color: white; display: inline-block;\">item_</span> <span style=\"background-color: white; display: inline-block;\">tere</span> <span style=\"background-color: white; display: inline-block;\">brat</span> <span style=\"background-color: white; display: inline-block;\">ionem_</span> <span style=\"background-color: white; display: inline-block;\">testa</span> <span style=\"background-color: white; display: inline-block;\">e_</span> <span style=\"background-color: white; display: inline-block;\">uel_</span> <span style=\"background-color: white; display: inline-block;\">arte</span> <span style=\"background-color: white; display: inline-block;\">rio</span> <span style=\"background-color: white; display: inline-block;\">tom</span> <span style=\"background-color: white; display: inline-block;\">iam_</span> <span style=\"background-color: white; display: inline-block;\">uel_</span> <span style=\"background-color: white; display: inline-block;\">usum_</span> <span style=\"background-color: white; display: inline-block;\">uener</span> <span style=\"background-color: white; display: inline-block;\">ium_</span> <span style=\"background-color: white; display: inline-block;\">aut_</span> <span style=\"background-color: white; display: inline-block;\">e_</span> <span style=\"background-color: white; display: inline-block;\">contrario_</span> <span style=\"background-color: yellow; display: inline-block;\">eunuch</span> <span style=\"background-color: white; display: inline-block;\">ismu</span> <span style=\"background-color: white; display: inline-block;\">m_</span> <span style=\"background-color: white; display: inline-block;\">faciendum_</span> <span style=\"background-color: white; display: inline-block;\">probant</span> <span style=\"background-color: white; display: inline-block;\">es_</span> <span style=\"background-color: white; display: inline-block;\">._</span> <span style=\"background-color: white; display: inline-block;\">[SEP]</span></p>"
      ],
      "text/plain": [
       "<IPython.core.display.HTML object>"
      ]
     },
     "metadata": {},
     "output_type": "display_data"
    },
    {
     "data": {
      "text/html": [
       "<p><b style=\"text-decoration: line-through;;\">positive</b> -> <span style=\"background-color: white; display: inline-block;\">[CLS]</span> <span style=\"background-color: white; display: inline-block;\">qui_</span> <span style=\"background-color: white; display: inline-block;\">tectum_</span> <span style=\"background-color: white; display: inline-block;\">nullis_</span> <span style=\"background-color: yellow; display: inline-block;\">uesti</span> <span style=\"background-color: white; display: inline-block;\">bus_</span> <span style=\"background-color: #ffdf00; display: inline-block;\">ingu</span> <span style=\"background-color: white; display: inline-block;\">en_</span> <span style=\"background-color: white; display: inline-block;\">habet_</span> <span style=\"background-color: white; display: inline-block;\">._</span> <span style=\"background-color: white; display: inline-block;\">[SEP]</span></p>"
      ],
      "text/plain": [
       "<IPython.core.display.HTML object>"
      ]
     },
     "metadata": {},
     "output_type": "display_data"
    },
    {
     "data": {
      "text/html": [
       "<p><b style=\"text-decoration: line-through;;\">positive</b> -> <span style=\"background-color: white; display: inline-block;\">[CLS]</span> <span style=\"background-color: white; display: inline-block;\">non_</span> <span style=\"background-color: white; display: inline-block;\">animae_</span> <span style=\"background-color: white; display: inline-block;\">capax_</span> <span style=\"background-color: white; display: inline-block;\">in_</span> <span style=\"background-color: white; display: inline-block;\">parte_</span> <span style=\"background-color: white; display: inline-block;\">dextra_</span> <span style=\"background-color: white; display: inline-block;\">pulm</span> <span style=\"background-color: white; display: inline-block;\">o_</span> <span style=\"background-color: white; display: inline-block;\">sanguine</span> <span style=\"background-color: white; display: inline-block;\">us_</span> <span style=\"background-color: white; display: inline-block;\">iacet_</span> <span style=\"background-color: white; display: inline-block;\">,_</span> <span style=\"background-color: white; display: inline-block;\">non_</span> <span style=\"background-color: white; display: inline-block;\">laeva</span> <span style=\"background-color: white; display: inline-block;\">_</span> <span style=\"background-color: white; display: inline-block;\">cordi_</span> <span style=\"background-color: white; display: inline-block;\">regio_</span> <span style=\"background-color: white; display: inline-block;\">,_</span> <span style=\"background-color: white; display: inline-block;\">non_</span> <span style=\"background-color: white; display: inline-block;\">molli</span> <span style=\"background-color: white; display: inline-block;\">_</span> <span style=\"background-color: white; display: inline-block;\">ambitu_</span> <span style=\"background-color: #ffdf00; display: inline-block;\">ome</span> <span style=\"background-color: white; display: inline-block;\">nta_</span> <span style=\"background-color: white; display: inline-block;\">pingue</span> <span style=\"background-color: white; display: inline-block;\">s_</span> <span style=\"background-color: white; display: inline-block;\">visc</span> <span style=\"background-color: white; display: inline-block;\">eri_</span> <span style=\"background-color: white; display: inline-block;\">obte</span> <span style=\"background-color: white; display: inline-block;\">ndunt_</span> <span style=\"background-color: white; display: inline-block;\">sinus_</span> <span style=\"background-color: white; display: inline-block;\">:_</span> <span style=\"background-color: white; display: inline-block;\">natura_</span> <span style=\"background-color: white; display: inline-block;\">versa_</span> <span style=\"background-color: white; display: inline-block;\">est_</span> <span style=\"background-color: white; display: inline-block;\">,_</span> <span style=\"background-color: white; display: inline-block;\">nulla_</span> <span style=\"background-color: white; display: inline-block;\">lex_</span> <span style=\"background-color: white; display: inline-block;\">utero_</span> <span style=\"background-color: white; display: inline-block;\">manet_</span> <span style=\"background-color: white; display: inline-block;\">,_</span> <span style=\"background-color: white; display: inline-block;\">scru</span> <span style=\"background-color: white; display: inline-block;\">temu</span> <span style=\"background-color: white; display: inline-block;\">r_</span> <span style=\"background-color: white; display: inline-block;\">,_</span> <span style=\"background-color: white; display: inline-block;\">unde_</span> <span style=\"background-color: white; display: inline-block;\">tantus_</span> <span style=\"background-color: white; display: inline-block;\">hic_</span> <span style=\"background-color: white; display: inline-block;\">exti</span> <span style=\"background-color: white; display: inline-block;\">s_</span> <span style=\"background-color: white; display: inline-block;\">rig</span> <span style=\"background-color: white; display: inline-block;\">or_</span> <span style=\"background-color: white; display: inline-block;\">._</span> <span style=\"background-color: white; display: inline-block;\">[SEP]</span></p>"
      ],
      "text/plain": [
       "<IPython.core.display.HTML object>"
      ]
     },
     "metadata": {},
     "output_type": "display_data"
    },
    {
     "data": {
      "text/html": [
       "<p><b style=\"text-decoration: line-through;;\">positive</b> -> <span style=\"background-color: white; display: inline-block;\">[CLS]</span> <span style=\"background-color: white; display: inline-block;\">in_</span> <span style=\"background-color: white; display: inline-block;\">hac_</span> <span style=\"background-color: white; display: inline-block;\">contro</span> <span style=\"background-color: white; display: inline-block;\">uersi</span> <span style=\"background-color: white; display: inline-block;\">a_</span> <span style=\"background-color: white; display: inline-block;\">dixit_</span> <span style=\"background-color: white; display: inline-block;\">alb</span> <span style=\"background-color: white; display: inline-block;\">vci</span> <span style=\"background-color: white; display: inline-block;\">vs_</span> <span style=\"background-color: white; display: inline-block;\">:_</span> <span style=\"background-color: white; display: inline-block;\">ambule</span> <span style=\"background-color: white; display: inline-block;\">t_</span> <span style=\"background-color: white; display: inline-block;\">in_</span> <span style=\"background-color: yellow; display: inline-block;\">mascul</span> <span style=\"background-color: white; display: inline-block;\">os_</span> <span style=\"background-color: white; display: inline-block;\">._</span> <span style=\"background-color: white; display: inline-block;\">[SEP]</span></p>"
      ],
      "text/plain": [
       "<IPython.core.display.HTML object>"
      ]
     },
     "metadata": {},
     "output_type": "display_data"
    },
    {
     "data": {
      "text/html": [
       "<p><b style=\"text-decoration: line-through;;\">positive</b> -> <span style=\"background-color: white; display: inline-block;\">[CLS]</span> <span style=\"background-color: white; display: inline-block;\">sed_</span> <span style=\"background-color: white; display: inline-block;\">quoniam_</span> <span style=\"background-color: white; display: inline-block;\">vitia_</span> <span style=\"background-color: white; display: inline-block;\">prius_</span> <span style=\"background-color: white; display: inline-block;\">demonstrare_</span> <span style=\"background-color: white; display: inline-block;\">aggress</span> <span style=\"background-color: white; display: inline-block;\">i_</span> <span style=\"background-color: white; display: inline-block;\">sumus_</span> <span style=\"background-color: white; display: inline-block;\">,_</span> <span style=\"background-color: white; display: inline-block;\">ab_</span> <span style=\"background-color: white; display: inline-block;\">hoc_</span> <span style=\"background-color: white; display: inline-block;\">initium_</span> <span style=\"background-color: white; display: inline-block;\">sit_</span> <span style=\"background-color: white; display: inline-block;\">,_</span> <span style=\"background-color: white; display: inline-block;\">quod_</span> <span style=\"background-color: white; display: inline-block;\">vocatur_</span> <span style=\"background-color: white; display: inline-block;\">,_</span> <span style=\"background-color: white; display: inline-block;\">sive_</span> <span style=\"background-color: white; display: inline-block;\">mala_</span> <span style=\"background-color: white; display: inline-block;\">consuetudin</span> <span style=\"background-color: white; display: inline-block;\">e_</span> <span style=\"background-color: white; display: inline-block;\">in_</span> <span style=\"background-color: white; display: inline-block;\">obsc</span> <span style=\"background-color: white; display: inline-block;\">enum_</span> <span style=\"background-color: white; display: inline-block;\">intellectum_</span> <span style=\"background-color: white; display: inline-block;\">sermo_</span> <span style=\"background-color: white; display: inline-block;\">deto</span> <span style=\"background-color: white; display: inline-block;\">rtu</span> <span style=\"background-color: white; display: inline-block;\">s_</span> <span style=\"background-color: white; display: inline-block;\">est_</span> <span style=\"background-color: white; display: inline-block;\">(_</span> <span style=\"background-color: white; display: inline-block;\">ut_</span> <span style=\"background-color: white; display: inline-block;\">duct</span> <span style=\"background-color: white; display: inline-block;\">are_</span> <span style=\"background-color: white; display: inline-block;\">exercitus_</span> <span style=\"background-color: white; display: inline-block;\">et_</span> <span style=\"background-color: white; display: inline-block;\">patra</span> <span style=\"background-color: white; display: inline-block;\">re_</span> <span style=\"background-color: white; display: inline-block;\">bella_</span> <span style=\"background-color: white; display: inline-block;\">,_</span> <span style=\"background-color: white; display: inline-block;\">apud_</span> <span style=\"background-color: white; display: inline-block;\">sallusti</span> <span style=\"background-color: white; display: inline-block;\">um_</span> <span style=\"background-color: white; display: inline-block;\">dicta_</span> <span style=\"background-color: white; display: inline-block;\">sancte_</span> <span style=\"background-color: white; display: inline-block;\">et_</span> <span style=\"background-color: white; display: inline-block;\">antiqu</span> <span style=\"background-color: white; display: inline-block;\">e_</span> <span style=\"background-color: white; display: inline-block;\">riden</span> <span style=\"background-color: white; display: inline-block;\">tibus_</span> <span style=\"background-color: white; display: inline-block;\">,_</span> <span style=\"background-color: white; display: inline-block;\">si_</span> <span style=\"background-color: white; display: inline-block;\">dis_</span> <span style=\"background-color: white; display: inline-block;\">placet_</span> <span style=\"background-color: white; display: inline-block;\">quam_</span> <span style=\"background-color: white; display: inline-block;\">culpam_</span> <span style=\"background-color: white; display: inline-block;\">non_</span> <span style=\"background-color: white; display: inline-block;\">scribent</span> <span style=\"background-color: white; display: inline-block;\">ium_</span> <span style=\"background-color: white; display: inline-block;\">quidem_</span> <span style=\"background-color: white; display: inline-block;\">iudic</span> <span style=\"background-color: white; display: inline-block;\">o_</span> <span style=\"background-color: white; display: inline-block;\">sed_</span> <span style=\"background-color: white; display: inline-block;\">legenti</span> <span style=\"background-color: white; display: inline-block;\">um_</span> <span style=\"background-color: white; display: inline-block;\">,_</span> <span style=\"background-color: white; display: inline-block;\">tamen_</span> <span style=\"background-color: white; display: inline-block;\">vitanda</span> <span style=\"background-color: white; display: inline-block;\">m_</span> <span style=\"background-color: white; display: inline-block;\">,_</span> <span style=\"background-color: white; display: inline-block;\">quatenus_</span> <span style=\"background-color: white; display: inline-block;\">verba_</span> <span style=\"background-color: white; display: inline-block;\">honesta_</span> <span style=\"background-color: white; display: inline-block;\">moribus_</span> <span style=\"background-color: white; display: inline-block;\">[SEP]</span></p>"
      ],
      "text/plain": [
       "<IPython.core.display.HTML object>"
      ]
     },
     "metadata": {},
     "output_type": "display_data"
    },
    {
     "data": {
      "text/html": [
       "<p><b style=\"text-decoration: line-through;;\">positive</b> -> <span style=\"background-color: white; display: inline-block;\">[CLS]</span> <span style=\"background-color: white; display: inline-block;\">respondea</span> <span style=\"background-color: white; display: inline-block;\">nt_</span> <span style=\"background-color: white; display: inline-block;\">obs</span> <span style=\"background-color: white; display: inline-block;\">tetr</span> <span style=\"background-color: white; display: inline-block;\">ices_</span> <span style=\"background-color: white; display: inline-block;\">,_</span> <span style=\"background-color: white; display: inline-block;\">medici_</span> <span style=\"background-color: white; display: inline-block;\">et_</span> <span style=\"background-color: white; display: inline-block;\">physic</span> <span style=\"background-color: white; display: inline-block;\">i_</span> <span style=\"background-color: white; display: inline-block;\">de_</span> <span style=\"background-color: white; display: inline-block;\">uber</span> <span style=\"background-color: white; display: inline-block;\">um_</span> <span style=\"background-color: white; display: inline-block;\">natura_</span> <span style=\"background-color: white; display: inline-block;\">,_</span> <span style=\"background-color: white; display: inline-block;\">an_</span> <span style=\"background-color: white; display: inline-block;\">aliter_</span> <span style=\"background-color: white; display: inline-block;\">mana</span> <span style=\"background-color: white; display: inline-block;\">re_</span> <span style=\"background-color: white; display: inline-block;\">solea</span> <span style=\"background-color: white; display: inline-block;\">nt_</span> <span style=\"background-color: white; display: inline-block;\">,_</span> <span style=\"background-color: white; display: inline-block;\">sine_</span> <span style=\"background-color: white; display: inline-block;\">vul</span> <span style=\"background-color: white; display: inline-block;\">vae_</span> <span style=\"background-color: yellow; display: inline-block;\">genita</span> <span style=\"background-color: white; display: inline-block;\">li_</span> <span style=\"background-color: white; display: inline-block;\">passion</span> <span style=\"background-color: white; display: inline-block;\">e_</span> <span style=\"background-color: white; display: inline-block;\">,_</span> <span style=\"background-color: white; display: inline-block;\">pendenti</span> <span style=\"background-color: white; display: inline-block;\">bus_</span> <span style=\"background-color: white; display: inline-block;\">exinde_</span> <span style=\"background-color: white; display: inline-block;\">venis_</span> <span style=\"background-color: white; display: inline-block;\">senti</span> <span style=\"background-color: white; display: inline-block;\">nam_</span> <span style=\"background-color: white; display: inline-block;\">illam_</span> <span style=\"background-color: white; display: inline-block;\">inferni_</span> <span style=\"background-color: white; display: inline-block;\">sanguinis_</span> <span style=\"background-color: white; display: inline-block;\">in_</span> <span style=\"background-color: white; display: inline-block;\">mam</span> <span style=\"background-color: white; display: inline-block;\">illam_</span> <span style=\"background-color: white; display: inline-block;\">et_</span> <span style=\"background-color: white; display: inline-block;\">ipsa_</span> <span style=\"background-color: white; display: inline-block;\">translation</span> <span style=\"background-color: white; display: inline-block;\">e_</span> <span style=\"background-color: white; display: inline-block;\">dece</span> <span style=\"background-color: white; display: inline-block;\">quenti</span> <span style=\"background-color: white; display: inline-block;\">bus_</span> <span style=\"background-color: white; display: inline-block;\">in_</span> <span style=\"background-color: white; display: inline-block;\">materiam_</span> <span style=\"background-color: white; display: inline-block;\">lacti</span> <span style=\"background-color: white; display: inline-block;\">s_</span> <span style=\"background-color: white; display: inline-block;\">laeti</span> <span style=\"background-color: white; display: inline-block;\">orem_</span> <span style=\"background-color: white; display: inline-block;\">._</span> <span style=\"background-color: white; display: inline-block;\">[SEP]</span></p>"
      ],
      "text/plain": [
       "<IPython.core.display.HTML object>"
      ]
     },
     "metadata": {},
     "output_type": "display_data"
    },
    {
     "data": {
      "text/html": [
       "<p><b style=\"text-decoration: line-through;;\">positive</b> -> <span style=\"background-color: white; display: inline-block;\">[CLS]</span> <span style=\"background-color: white; display: inline-block;\">at_</span> <span style=\"background-color: white; display: inline-block;\">vero_</span> <span style=\"background-color: white; display: inline-block;\">adulter</span> <span style=\"background-color: white; display: inline-block;\">_</span> <span style=\"background-color: white; display: inline-block;\">,_</span> <span style=\"background-color: white; display: inline-block;\">i_</span> <span style=\"background-color: white; display: inline-block;\">belli</span> <span style=\"background-color: white; display: inline-block;\">ssimus_</span> <span style=\"background-color: white; display: inline-block;\">ille_</span> <span style=\"background-color: white; display: inline-block;\">pus</span> <span style=\"background-color: white; display: inline-block;\">io_</span> <span style=\"background-color: white; display: inline-block;\">,_</span> <span style=\"background-color: white; display: inline-block;\">inclinat</span> <span style=\"background-color: white; display: inline-block;\">am_</span> <span style=\"background-color: yellow; display: inline-block;\">doli</span> <span style=\"background-color: white; display: inline-block;\">o_</span> <span style=\"background-color: white; display: inline-block;\">pron</span> <span style=\"background-color: white; display: inline-block;\">am_</span> <span style=\"background-color: white; display: inline-block;\">uxorem_</span> <span style=\"background-color: white; display: inline-block;\">fabri</span> <span style=\"background-color: white; display: inline-block;\">_</span> <span style=\"background-color: white; display: inline-block;\">superi</span> <span style=\"background-color: white; display: inline-block;\">ncu</span> <span style=\"background-color: white; display: inline-block;\">rva</span> <span style=\"background-color: white; display: inline-block;\">tus_</span> <span style=\"background-color: white; display: inline-block;\">secure</span> <span style=\"background-color: white; display: inline-block;\">_</span> <span style=\"background-color: white; display: inline-block;\">ded</span> <span style=\"background-color: white; display: inline-block;\">ola</span> <span style=\"background-color: white; display: inline-block;\">bat_</span> <span style=\"background-color: white; display: inline-block;\">._</span> <span style=\"background-color: white; display: inline-block;\">[SEP]</span></p>"
      ],
      "text/plain": [
       "<IPython.core.display.HTML object>"
      ]
     },
     "metadata": {},
     "output_type": "display_data"
    },
    {
     "data": {
      "text/html": [
       "<p><b style=\"text-decoration: line-through;;\">positive</b> -> <span style=\"background-color: white; display: inline-block;\">[CLS]</span> <span style=\"background-color: white; display: inline-block;\">vivi</span> <span style=\"background-color: white; display: inline-block;\">te_</span> <span style=\"background-color: white; display: inline-block;\">concor</span> <span style=\"background-color: white; display: inline-block;\">des_</span> <span style=\"background-color: white; display: inline-block;\">et_</span> <span style=\"background-color: white; display: inline-block;\">nostrum_</span> <span style=\"background-color: white; display: inline-block;\">discit</span> <span style=\"background-color: white; display: inline-block;\">e_</span> <span style=\"background-color: white; display: inline-block;\">munus_</span> <span style=\"background-color: white; display: inline-block;\">._</span> <span style=\"background-color: yellow; display: inline-block;\">[SEP]</span></p>"
      ],
      "text/plain": [
       "<IPython.core.display.HTML object>"
      ]
     },
     "metadata": {},
     "output_type": "display_data"
    },
    {
     "data": {
      "text/html": [
       "<p><b style=\"text-decoration: line-through;;\">positive</b> -> <span style=\"background-color: white; display: inline-block;\">[CLS]</span> <span style=\"background-color: white; display: inline-block;\">par</span> <span style=\"background-color: white; display: inline-block;\">sque_</span> <span style=\"background-color: white; display: inline-block;\">-_</span> <span style=\"background-color: white; display: inline-block;\">que_</span> <span style=\"background-color: white; display: inline-block;\">sub_</span> <span style=\"background-color: white; display: inline-block;\">iniec</span> <span style=\"background-color: white; display: inline-block;\">ta_</span> <span style=\"background-color: #ffdf00; display: inline-block;\">veste_</span> <span style=\"background-color: white; display: inline-block;\">puden</span> <span style=\"background-color: white; display: inline-block;\">da_</span> <span style=\"background-color: white; display: inline-block;\">latet_</span> <span style=\"background-color: white; display: inline-block;\">:_</span> <span style=\"background-color: white; display: inline-block;\">[SEP]</span></p>"
      ],
      "text/plain": [
       "<IPython.core.display.HTML object>"
      ]
     },
     "metadata": {},
     "output_type": "display_data"
    },
    {
     "data": {
      "text/html": [
       "<p><b style=\"text-decoration: line-through;;\">positive</b> -> <span style=\"background-color: yellow; display: inline-block;\">[CLS]</span> <span style=\"background-color: white; display: inline-block;\">me_</span> <span style=\"background-color: yellow; display: inline-block;\">natura_</span> <span style=\"background-color: yellow; display: inline-block;\">intendit_</span> <span style=\"background-color: #ffdf00; display: inline-block;\">[SEP]</span></p>"
      ],
      "text/plain": [
       "<IPython.core.display.HTML object>"
      ]
     },
     "metadata": {},
     "output_type": "display_data"
    },
    {
     "data": {
      "text/html": [
       "<p><b style=\"text-decoration: line-through;;\">negative</b> -> <span style=\"background-color: white; display: inline-block;\">[CLS]</span> <span style=\"background-color: white; display: inline-block;\">quod_</span> <span style=\"background-color: white; display: inline-block;\">feminae_</span> <span style=\"background-color: #ffdf00; display: inline-block;\">genita</span> <span style=\"background-color: white; display: inline-block;\">lia_</span> <span style=\"background-color: white; display: inline-block;\">per_</span> <span style=\"background-color: white; display: inline-block;\">hoc_</span> <span style=\"background-color: white; display: inline-block;\">significet_</span> <span style=\"background-color: white; display: inline-block;\">sicut_</span> <span style=\"background-color: white; display: inline-block;\">in_</span> <span style=\"background-color: #ffdf00; display: inline-block;\">lumb</span> <span style=\"background-color: white; display: inline-block;\">is_</span> <span style=\"background-color: white; display: inline-block;\">uiro</span> <span style=\"background-color: white; display: inline-block;\">rum_</span> <span style=\"background-color: white; display: inline-block;\">._</span> <span style=\"background-color: white; display: inline-block;\">[SEP]</span></p>"
      ],
      "text/plain": [
       "<IPython.core.display.HTML object>"
      ]
     },
     "metadata": {},
     "output_type": "display_data"
    },
    {
     "data": {
      "text/html": [
       "<p><b style=\"text-decoration: line-through;;\">positive</b> -> <span style=\"background-color: white; display: inline-block;\">[CLS]</span> <span style=\"background-color: white; display: inline-block;\">faciet_</span> <span style=\"background-color: white; display: inline-block;\">enim_</span> <span style=\"background-color: white; display: inline-block;\">fecund</span> <span style=\"background-color: white; display: inline-block;\">os_</span> <span style=\"background-color: white; display: inline-block;\">et_</span> <span style=\"background-color: white; display: inline-block;\">multa_</span> <span style=\"background-color: white; display: inline-block;\">sub</span> <span style=\"background-color: white; display: inline-block;\">ole_</span> <span style=\"background-color: white; display: inline-block;\">gaudent</span> <span style=\"background-color: white; display: inline-block;\">es_</span> <span style=\"background-color: white; display: inline-block;\">et_</span> <span style=\"background-color: white; display: inline-block;\">quibus_</span> <span style=\"background-color: white; display: inline-block;\">a_</span> <span style=\"background-color: white; display: inline-block;\">filia</span> <span style=\"background-color: white; display: inline-block;\">bus_</span> <span style=\"background-color: white; display: inline-block;\">maxima_</span> <span style=\"background-color: white; display: inline-block;\">laetitia_</span> <span style=\"background-color: white; display: inline-block;\">conferat</span> <span style=\"background-color: white; display: inline-block;\">ur_</span> <span style=\"background-color: white; display: inline-block;\">sed_</span> <span style=\"background-color: white; display: inline-block;\">uiti</span> <span style=\"background-color: white; display: inline-block;\">a_</span> <span style=\"background-color: white; display: inline-block;\">facit_</span> <span style=\"background-color: white; display: inline-block;\">circa_</span> <span style=\"background-color: white; display: inline-block;\">naturalia_</span> <span style=\"background-color: white; display: inline-block;\">et_</span> <span style=\"background-color: white; display: inline-block;\">necessaria_</span> <span style=\"background-color: white; display: inline-block;\">,_</span> <span style=\"background-color: white; display: inline-block;\">morte</span> <span style=\"background-color: white; display: inline-block;\">s_</span> <span style=\"background-color: white; display: inline-block;\">uero_</span> <span style=\"background-color: white; display: inline-block;\">notas_</span> <span style=\"background-color: white; display: inline-block;\">glorios</span> <span style=\"background-color: white; display: inline-block;\">asq</span> <span style=\"background-color: white; display: inline-block;\">ue_</span> <span style=\"background-color: white; display: inline-block;\">-_</span> <span style=\"background-color: white; display: inline-block;\">que_</span> <span style=\"background-color: white; display: inline-block;\">decerni</span> <span style=\"background-color: white; display: inline-block;\">t_</span> <span style=\"background-color: white; display: inline-block;\">._</span> <span style=\"background-color: white; display: inline-block;\">[SEP]</span></p>"
      ],
      "text/plain": [
       "<IPython.core.display.HTML object>"
      ]
     },
     "metadata": {},
     "output_type": "display_data"
    },
    {
     "data": {
      "text/html": [
       "<p><b style=\"text-decoration: line-through;;\">positive</b> -> <span style=\"background-color: white; display: inline-block;\">[CLS]</span> <span style=\"background-color: yellow; display: inline-block;\">ludit</span> <span style=\"background-color: white; display: inline-block;\">e_</span> <span style=\"background-color: white; display: inline-block;\">ut_</span> <span style=\"background-color: white; display: inline-block;\">libet_</span> <span style=\"background-color: white; display: inline-block;\">,_</span> <span style=\"background-color: white; display: inline-block;\">et_</span> <span style=\"background-color: white; display: inline-block;\">brevi_</span> <span style=\"background-color: white; display: inline-block;\">liberos_</span> <span style=\"background-color: white; display: inline-block;\">date_</span> <span style=\"background-color: white; display: inline-block;\">._</span> <span style=\"background-color: white; display: inline-block;\">[SEP]</span></p>"
      ],
      "text/plain": [
       "<IPython.core.display.HTML object>"
      ]
     },
     "metadata": {},
     "output_type": "display_data"
    },
    {
     "data": {
      "text/html": [
       "<p><b style=\"text-decoration: line-through;;\">positive</b> -> <span style=\"background-color: white; display: inline-block;\">[CLS]</span> <span style=\"background-color: yellow; display: inline-block;\">fulvi</span> <span style=\"background-color: white; display: inline-block;\">am_</span> <span style=\"background-color: white; display: inline-block;\">ego_</span> <span style=\"background-color: white; display: inline-block;\">ut_</span> <span style=\"background-color: #ffdf00; display: inline-block;\">fut</span> <span style=\"background-color: white; display: inline-block;\">uam_</span> <span style=\"background-color: white; display: inline-block;\">?_</span> <span style=\"background-color: yellow; display: inline-block;\">[SEP]</span></p>"
      ],
      "text/plain": [
       "<IPython.core.display.HTML object>"
      ]
     },
     "metadata": {},
     "output_type": "display_data"
    },
    {
     "data": {
      "text/html": [
       "<p><b style=\"text-decoration: line-through;;\">positive</b> -> <span style=\"background-color: white; display: inline-block;\">[CLS]</span> <span style=\"background-color: white; display: inline-block;\">,_</span> <span style=\"background-color: white; display: inline-block;\">qui_</span> <span style=\"background-color: white; display: inline-block;\">christianis_</span> <span style=\"background-color: white; display: inline-block;\">feminis_</span> <span style=\"background-color: white; display: inline-block;\">in_</span> <span style=\"background-color: white; display: inline-block;\">captiu</span> <span style=\"background-color: white; display: inline-block;\">itate_</span> <span style=\"background-color: white; display: inline-block;\">conpre</span> <span style=\"background-color: white; display: inline-block;\">ssis_</span> <span style=\"background-color: white; display: inline-block;\">alieni_</span> <span style=\"background-color: white; display: inline-block;\">ab_</span> <span style=\"background-color: white; display: inline-block;\">omni_</span> <span style=\"background-color: white; display: inline-block;\">cogitation</span> <span style=\"background-color: white; display: inline-block;\">e_</span> <span style=\"background-color: white; display: inline-block;\">sanctitatis_</span> <span style=\"background-color: white; display: inline-block;\">insulta</span> <span style=\"background-color: white; display: inline-block;\">nt_</span> <span style=\"background-color: white; display: inline-block;\">,_</span> <span style=\"background-color: white; display: inline-block;\">[SEP]</span></p>"
      ],
      "text/plain": [
       "<IPython.core.display.HTML object>"
      ]
     },
     "metadata": {},
     "output_type": "display_data"
    },
    {
     "data": {
      "text/html": [
       "<p><b style=\"text-decoration: line-through;;\">negative</b> -> <span style=\"background-color: white; display: inline-block;\">[CLS]</span> <span style=\"background-color: white; display: inline-block;\">femine</span> <span style=\"background-color: white; display: inline-block;\">a_</span> <span style=\"background-color: white; display: inline-block;\">vestri_</span> <span style=\"background-color: yellow; display: inline-block;\">poli</span> <span style=\"background-color: white; display: inline-block;\">untur_</span> <span style=\"background-color: white; display: inline-block;\">lege_</span> <span style=\"background-color: white; display: inline-block;\">mariti_</span> <span style=\"background-color: white; display: inline-block;\">,_</span> <span style=\"background-color: white; display: inline-block;\">et_</span> <span style=\"background-color: white; display: inline-block;\">vix_</span> <span style=\"background-color: white; display: inline-block;\">ad_</span> <span style=\"background-color: white; display: inline-block;\">cultus_</span> <span style=\"background-color: white; display: inline-block;\">nupta</span> <span style=\"background-color: white; display: inline-block;\">_</span> <span style=\"background-color: white; display: inline-block;\">,_</span> <span style=\"background-color: white; display: inline-block;\">quod_</span> <span style=\"background-color: white; display: inline-block;\">addat</span> <span style=\"background-color: white; display: inline-block;\">_</span> <span style=\"background-color: white; display: inline-block;\">,_</span> <span style=\"background-color: white; display: inline-block;\">habet_</span> <span style=\"background-color: white; display: inline-block;\">._</span> <span style=\"background-color: white; display: inline-block;\">[SEP]</span></p>"
      ],
      "text/plain": [
       "<IPython.core.display.HTML object>"
      ]
     },
     "metadata": {},
     "output_type": "display_data"
    },
    {
     "data": {
      "text/html": [
       "<p><b style=\"text-decoration: line-through;;\">positive</b> -> <span style=\"background-color: white; display: inline-block;\">[CLS]</span> <span style=\"background-color: white; display: inline-block;\">quodsi_</span> <span style=\"background-color: white; display: inline-block;\">verbum_</span> <span style=\"background-color: white; display: inline-block;\">caro_</span> <span style=\"background-color: white; display: inline-block;\">ex_</span> <span style=\"background-color: white; display: inline-block;\">se_</span> <span style=\"background-color: white; display: inline-block;\">factum_</span> <span style=\"background-color: white; display: inline-block;\">est_</span> <span style=\"background-color: white; display: inline-block;\">,_</span> <span style=\"background-color: white; display: inline-block;\">non_</span> <span style=\"background-color: white; display: inline-block;\">ex_</span> <span style=\"background-color: #ffdf00; display: inline-block;\">vul</span> <span style=\"background-color: white; display: inline-block;\">vae_</span> <span style=\"background-color: white; display: inline-block;\">communication</span> <span style=\"background-color: white; display: inline-block;\">e_</span> <span style=\"background-color: white; display: inline-block;\">,_</span> <span style=\"background-color: white; display: inline-block;\">nihil_</span> <span style=\"background-color: white; display: inline-block;\">operat</span> <span style=\"background-color: white; display: inline-block;\">a_</span> <span style=\"background-color: yellow; display: inline-block;\">vul</span> <span style=\"background-color: white; display: inline-block;\">va_</span> <span style=\"background-color: white; display: inline-block;\">,_</span> <span style=\"background-color: white; display: inline-block;\">nihil_</span> <span style=\"background-color: white; display: inline-block;\">func</span> <span style=\"background-color: white; display: inline-block;\">ta_</span> <span style=\"background-color: white; display: inline-block;\">,_</span> <span style=\"background-color: white; display: inline-block;\">nihil_</span> <span style=\"background-color: white; display: inline-block;\">passa_</span> <span style=\"background-color: white; display: inline-block;\">,_</span> <span style=\"background-color: white; display: inline-block;\">quomodo_</span> <span style=\"background-color: white; display: inline-block;\">fontem_</span> <span style=\"background-color: white; display: inline-block;\">suum_</span> <span style=\"background-color: white; display: inline-block;\">transfu</span> <span style=\"background-color: white; display: inline-block;\">dit_</span> <span style=\"background-color: white; display: inline-block;\">in_</span> <span style=\"background-color: white; display: inline-block;\">ubera_</span> <span style=\"background-color: white; display: inline-block;\">,_</span> <span style=\"background-color: white; display: inline-block;\">quae_</span> <span style=\"background-color: white; display: inline-block;\">nisi_</span> <span style=\"background-color: white; display: inline-block;\">baben</span> <span style=\"background-color: white; display: inline-block;\">do_</span> <span style=\"background-color: white; display: inline-block;\">non_</span> <span style=\"background-color: white; display: inline-block;\">mutat_</span> <span style=\"background-color: white; display: inline-block;\">?_</span> <span style=\"background-color: white; display: inline-block;\">[SEP]</span></p>"
      ],
      "text/plain": [
       "<IPython.core.display.HTML object>"
      ]
     },
     "metadata": {},
     "output_type": "display_data"
    },
    {
     "data": {
      "text/html": [
       "<p><b style=\"text-decoration: line-through;;\">positive</b> -> <span style=\"background-color: white; display: inline-block;\">[CLS]</span> <span style=\"background-color: white; display: inline-block;\">radicem_</span> <span style=\"background-color: white; display: inline-block;\">eius_</span> <span style=\"background-color: white; display: inline-block;\">alterutr</span> <span style=\"background-color: white; display: inline-block;\">ius_</span> <span style=\"background-color: yellow; display: inline-block;\">sexus_</span> <span style=\"background-color: white; display: inline-block;\">similitudinem_</span> <span style=\"background-color: white; display: inline-block;\">referre_</span> <span style=\"background-color: yellow; display: inline-block;\">[SEP]</span></p>"
      ],
      "text/plain": [
       "<IPython.core.display.HTML object>"
      ]
     },
     "metadata": {},
     "output_type": "display_data"
    },
    {
     "data": {
      "text/html": [
       "<p><b style=\"text-decoration: line-through;;\">positive</b> -> <span style=\"background-color: white; display: inline-block;\">[CLS]</span> <span style=\"background-color: white; display: inline-block;\">misit_</span> <span style=\"background-color: white; display: inline-block;\">circum_</span> <span style=\"background-color: white; display: inline-block;\">fora</span> <span style=\"background-color: white; display: inline-block;\">_</span> <span style=\"background-color: white; display: inline-block;\">et_</span> <span style=\"background-color: white; display: inline-block;\">basilica</span> <span style=\"background-color: white; display: inline-block;\">s_</span> <span style=\"background-color: white; display: inline-block;\">nomen</span> <span style=\"background-color: white; display: inline-block;\">culat</span> <span style=\"background-color: white; display: inline-block;\">ores_</span> <span style=\"background-color: white; display: inline-block;\">ad_</span> <span style=\"background-color: yellow; display: inline-block;\">inuit</span> <span style=\"background-color: white; display: inline-block;\">ando</span> <span style=\"background-color: white; display: inline-block;\">s_</span> <span style=\"background-color: white; display: inline-block;\">ad_</span> <span style=\"background-color: yellow; display: inline-block;\">libidinem_</span> <span style=\"background-color: white; display: inline-block;\">iuuen</span> <span style=\"background-color: white; display: inline-block;\">es_</span> <span style=\"background-color: white; display: inline-block;\">sene</span> <span style=\"background-color: white; display: inline-block;\">sque_</span> <span style=\"background-color: white; display: inline-block;\">-_</span> <span style=\"background-color: white; display: inline-block;\">que_</span> <span style=\"background-color: white; display: inline-block;\">[SEP]</span></p>"
      ],
      "text/plain": [
       "<IPython.core.display.HTML object>"
      ]
     },
     "metadata": {},
     "output_type": "display_data"
    },
    {
     "data": {
      "text/html": [
       "<p><b style=\"text-decoration: line-through;;\">positive</b> -> <span style=\"background-color: white; display: inline-block;\">[CLS]</span> <span style=\"background-color: white; display: inline-block;\">exigi</span> <span style=\"background-color: white; display: inline-block;\">te_</span> <span style=\"background-color: white; display: inline-block;\">ut_</span> <span style=\"background-color: white; display: inline-block;\">sit_</span> <span style=\"background-color: white; display: inline-block;\">et_</span> <span style=\"background-color: white; display: inline-block;\">pater_</span> <span style=\"background-color: white; display: inline-block;\">ipsius_</span> <span style=\"background-color: white; display: inline-block;\">coetu</span> <span style=\"background-color: white; display: inline-block;\">s_</span> <span style=\"background-color: white; display: inline-block;\">,_</span> <span style=\"background-color: white; display: inline-block;\">ne_</span> <span style=\"background-color: yellow; display: inline-block;\">turpi</span> <span style=\"background-color: white; display: inline-block;\">a_</span> <span style=\"background-color: white; display: inline-block;\">lud</span> <span style=\"background-color: white; display: inline-block;\">ant_</span> <span style=\"background-color: white; display: inline-block;\">,_</span> <span style=\"background-color: white; display: inline-block;\">ne_</span> <span style=\"background-color: white; display: inline-block;\">faciant_</span> <span style=\"background-color: white; display: inline-block;\">vicibus_</span> <span style=\"background-color: white; display: inline-block;\">[SEP]</span></p>"
      ],
      "text/plain": [
       "<IPython.core.display.HTML object>"
      ]
     },
     "metadata": {},
     "output_type": "display_data"
    },
    {
     "data": {
      "text/html": [
       "<p><b style=\"text-decoration: line-through;;\">positive</b> -> <span style=\"background-color: white; display: inline-block;\">[CLS]</span> <span style=\"background-color: white; display: inline-block;\">tum_</span> <span style=\"background-color: white; display: inline-block;\">id_</span> <span style=\"background-color: white; display: inline-block;\">agendum_</span> <span style=\"background-color: white; display: inline-block;\">est_</span> <span style=\"background-color: white; display: inline-block;\">,_</span> <span style=\"background-color: white; display: inline-block;\">ut_</span> <span style=\"background-color: white; display: inline-block;\">ante_</span> <span style=\"background-color: white; display: inline-block;\">caput_</span> <span style=\"background-color: white; display: inline-block;\">,_</span> <span style=\"background-color: white; display: inline-block;\">deinde_</span> <span style=\"background-color: white; display: inline-block;\">reliqua_</span> <span style=\"background-color: white; display: inline-block;\">pars_</span> <span style=\"background-color: white; display: inline-block;\">auferat</span> <span style=\"background-color: white; display: inline-block;\">ur_</span> <span style=\"background-color: white; display: inline-block;\">,_</span> <span style=\"background-color: white; display: inline-block;\">quia_</span> <span style=\"background-color: white; display: inline-block;\">fere_</span> <span style=\"background-color: white; display: inline-block;\">maiore_</span> <span style=\"background-color: white; display: inline-block;\">parte_</span> <span style=\"background-color: white; display: inline-block;\">extra</span> <span style=\"background-color: white; display: inline-block;\">cta_</span> <span style=\"background-color: white; display: inline-block;\">caput_</span> <span style=\"background-color: white; display: inline-block;\">in_</span> <span style=\"background-color: white; display: inline-block;\">vacua</span> <span style=\"background-color: white; display: inline-block;\">m_</span> <span style=\"background-color: #ffdf00; display: inline-block;\">vol</span> <span style=\"background-color: white; display: inline-block;\">vam_</span> <span style=\"background-color: white; display: inline-block;\">prola</span> <span style=\"background-color: white; display: inline-block;\">bitur_</span> <span style=\"background-color: white; display: inline-block;\">,_</span> <span style=\"background-color: white; display: inline-block;\">extrah</span> <span style=\"background-color: white; display: inline-block;\">iqu</span> <span style=\"background-color: white; display: inline-block;\">e_</span> <span style=\"background-color: white; display: inline-block;\">-_</span> <span style=\"background-color: white; display: inline-block;\">que_</span> <span style=\"background-color: white; display: inline-block;\">sine_</span> <span style=\"background-color: white; display: inline-block;\">summo_</span> <span style=\"background-color: white; display: inline-block;\">periculo_</span> <span style=\"background-color: white; display: inline-block;\">non_</span> <span style=\"background-color: white; display: inline-block;\">potest_</span> <span style=\"background-color: white; display: inline-block;\">._</span> <span style=\"background-color: white; display: inline-block;\">[SEP]</span></p>"
      ],
      "text/plain": [
       "<IPython.core.display.HTML object>"
      ]
     },
     "metadata": {},
     "output_type": "display_data"
    },
    {
     "data": {
      "text/html": [
       "<p><b style=\"text-decoration: line-through;;\">positive</b> -> <span style=\"background-color: white; display: inline-block;\">[CLS]</span> <span style=\"background-color: white; display: inline-block;\">vr</span> <span style=\"background-color: white; display: inline-block;\">ban</span> <span style=\"background-color: white; display: inline-block;\">issimum_</span> <span style=\"background-color: white; display: inline-block;\">nomen_</span> <span style=\"background-color: white; display: inline-block;\">iudaeo</span> <span style=\"background-color: white; display: inline-block;\">_</span> <span style=\"background-color: white; display: inline-block;\">inpo</span> <span style=\"background-color: white; display: inline-block;\">suit_</span> <span style=\"background-color: white; display: inline-block;\">ape</span> <span style=\"background-color: white; display: inline-block;\">llan</span> <span style=\"background-color: white; display: inline-block;\">_</span> <span style=\"background-color: white; display: inline-block;\">dicens_</span> <span style=\"background-color: white; display: inline-block;\">,_</span> <span style=\"background-color: white; display: inline-block;\">quasi_</span> <span style=\"background-color: white; display: inline-block;\">quod_</span> <span style=\"background-color: yellow; display: inline-block;\">pelle</span> <span style=\"background-color: white; display: inline-block;\">m_</span> <span style=\"background-color: white; display: inline-block;\">in_</span> <span style=\"background-color: white; display: inline-block;\">parte_</span> <span style=\"background-color: #ffbf00; display: inline-block;\">genita</span> <span style=\"background-color: white; display: inline-block;\">li_</span> <span style=\"background-color: white; display: inline-block;\">iudaei_</span> <span style=\"background-color: white; display: inline-block;\">non_</span> <span style=\"background-color: white; display: inline-block;\">habeant_</span> <span style=\"background-color: white; display: inline-block;\">._</span> <span style=\"background-color: white; display: inline-block;\">[SEP]</span></p>"
      ],
      "text/plain": [
       "<IPython.core.display.HTML object>"
      ]
     },
     "metadata": {},
     "output_type": "display_data"
    },
    {
     "data": {
      "text/html": [
       "<p><b style=\"text-decoration: line-through;;\">positive</b> -> <span style=\"background-color: white; display: inline-block;\">[CLS]</span> <span style=\"background-color: white; display: inline-block;\">alius_</span> <span style=\"background-color: white; display: inline-block;\">fauces_</span> <span style=\"background-color: white; display: inline-block;\">invad</span> <span style=\"background-color: white; display: inline-block;\">it_</span> <span style=\"background-color: white; display: inline-block;\">,_</span> <span style=\"background-color: white; display: inline-block;\">alius_</span> <span style=\"background-color: white; display: inline-block;\">os_</span> <span style=\"background-color: white; display: inline-block;\">verbera</span> <span style=\"background-color: white; display: inline-block;\">t_</span> <span style=\"background-color: white; display: inline-block;\">,_</span> <span style=\"background-color: white; display: inline-block;\">alius_</span> <span style=\"background-color: white; display: inline-block;\">pectus_</span> <span style=\"background-color: white; display: inline-block;\">et_</span> <span style=\"background-color: #ffdf00; display: inline-block;\">ventrem_</span> <span style=\"background-color: white; display: inline-block;\">,_</span> <span style=\"background-color: white; display: inline-block;\">atque_</span> <span style=\"background-color: white; display: inline-block;\">etiam_</span> <span style=\"background-color: white; display: inline-block;\">foe</span> <span style=\"background-color: white; display: inline-block;\">dum_</span> <span style=\"background-color: white; display: inline-block;\">dictu_</span> <span style=\"background-color: yellow; display: inline-block;\">vere</span> <span style=\"background-color: white; display: inline-block;\">nda_</span> <span style=\"background-color: white; display: inline-block;\">contu</span> <span style=\"background-color: white; display: inline-block;\">ndit_</span> <span style=\"background-color: white; display: inline-block;\">[SEP]</span></p>"
      ],
      "text/plain": [
       "<IPython.core.display.HTML object>"
      ]
     },
     "metadata": {},
     "output_type": "display_data"
    },
    {
     "data": {
      "text/html": [
       "<p><b style=\"text-decoration: line-through;;\">positive</b> -> <span style=\"background-color: white; display: inline-block;\">[CLS]</span> <span style=\"background-color: yellow; display: inline-block;\">repente_</span> <span style=\"background-color: #ffdf00; display: inline-block;\">uere</span> <span style=\"background-color: white; display: inline-block;\">tris_</span> <span style=\"background-color: white; display: inline-block;\">delig</span> <span style=\"background-color: white; display: inline-block;\">atis_</span> <span style=\"background-color: white; display: inline-block;\">[SEP]</span></p>"
      ],
      "text/plain": [
       "<IPython.core.display.HTML object>"
      ]
     },
     "metadata": {},
     "output_type": "display_data"
    },
    {
     "data": {
      "text/html": [
       "<p><b style=\"text-decoration: line-through;;\">positive</b> -> <span style=\"background-color: white; display: inline-block;\">[CLS]</span> <span style=\"background-color: white; display: inline-block;\">quo_</span> <span style=\"background-color: white; display: inline-block;\">facto_</span> <span style=\"background-color: white; display: inline-block;\">matura</span> <span style=\"background-color: white; display: inline-block;\">tae_</span> <span style=\"background-color: white; display: inline-block;\">spei_</span> <span style=\"background-color: white; display: inline-block;\">ves</span> <span style=\"background-color: white; display: inline-block;\">ania</span> <span style=\"background-color: white; display: inline-block;\">_</span> <span style=\"background-color: white; display: inline-block;\">praeceps_</span> <span style=\"background-color: white; display: inline-block;\">promiss</span> <span style=\"background-color: white; display: inline-block;\">ae_</span> <span style=\"background-color: yellow; display: inline-block;\">libidinis_</span> <span style=\"background-color: white; display: inline-block;\">flagita</span> <span style=\"background-color: white; display: inline-block;\">t_</span> <span style=\"background-color: white; display: inline-block;\">vadi</span> <span style=\"background-color: white; display: inline-block;\">moni</span> <span style=\"background-color: white; display: inline-block;\">um_</span> <span style=\"background-color: white; display: inline-block;\">[SEP]</span></p>"
      ],
      "text/plain": [
       "<IPython.core.display.HTML object>"
      ]
     },
     "metadata": {},
     "output_type": "display_data"
    },
    {
     "data": {
      "text/html": [
       "<p><b style=\"text-decoration: line-through;;\">positive</b> -> <span style=\"background-color: white; display: inline-block;\">[CLS]</span> <span style=\"background-color: white; display: inline-block;\">sed_</span> <span style=\"background-color: white; display: inline-block;\">coniunx_</span> <span style=\"background-color: white; display: inline-block;\">gravida</span> <span style=\"background-color: white; display: inline-block;\">_</span> <span style=\"background-color: white; display: inline-block;\">primam_</span> <span style=\"background-color: white; display: inline-block;\">utcumque_</span> <span style=\"background-color: white; display: inline-block;\">fugam_</span> <span style=\"background-color: white; display: inline-block;\">ob_</span> <span style=\"background-color: white; display: inline-block;\">metum_</span> <span style=\"background-color: white; display: inline-block;\">hosti</span> <span style=\"background-color: white; display: inline-block;\">lem_</span> <span style=\"background-color: white; display: inline-block;\">et_</span> <span style=\"background-color: white; display: inline-block;\">mariti_</span> <span style=\"background-color: white; display: inline-block;\">caritatem_</span> <span style=\"background-color: white; display: inline-block;\">tolera</span> <span style=\"background-color: white; display: inline-block;\">vit_</span> <span style=\"background-color: white; display: inline-block;\">post_</span> <span style=\"background-color: white; display: inline-block;\">festinat</span> <span style=\"background-color: white; display: inline-block;\">ione</span> <span style=\"background-color: white; display: inline-block;\">_</span> <span style=\"background-color: white; display: inline-block;\">continua_</span> <span style=\"background-color: white; display: inline-block;\">,_</span> <span style=\"background-color: white; display: inline-block;\">ubi_</span> <span style=\"background-color: white; display: inline-block;\">quati</span> <span style=\"background-color: white; display: inline-block;\">_</span> <span style=\"background-color: #ffbf00; display: inline-block;\">uter</span> <span style=\"background-color: white; display: inline-block;\">us_</span> <span style=\"background-color: white; display: inline-block;\">et_</span> <span style=\"background-color: white; display: inline-block;\">viscera_</span> <span style=\"background-color: white; display: inline-block;\">vibra</span> <span style=\"background-color: white; display: inline-block;\">ntur_</span> <span style=\"background-color: white; display: inline-block;\">,_</span> <span style=\"background-color: white; display: inline-block;\">orare_</span> <span style=\"background-color: white; display: inline-block;\">ut_</span> <span style=\"background-color: white; display: inline-block;\">morte_</span> <span style=\"background-color: white; display: inline-block;\">honesta_</span> <span style=\"background-color: white; display: inline-block;\">contumeli</span> <span style=\"background-color: white; display: inline-block;\">is_</span> <span style=\"background-color: white; display: inline-block;\">captivita</span> <span style=\"background-color: white; display: inline-block;\">tis_</span> <span style=\"background-color: white; display: inline-block;\">exim</span> <span style=\"background-color: white; display: inline-block;\">eretur_</span> <span style=\"background-color: white; display: inline-block;\">._</span> <span style=\"background-color: white; display: inline-block;\">[SEP]</span></p>"
      ],
      "text/plain": [
       "<IPython.core.display.HTML object>"
      ]
     },
     "metadata": {},
     "output_type": "display_data"
    },
    {
     "data": {
      "text/html": [
       "<p><b style=\"text-decoration: line-through;;\">positive</b> -> <span style=\"background-color: white; display: inline-block;\">[CLS]</span> <span style=\"background-color: white; display: inline-block;\">potest_</span> <span style=\"background-color: white; display: inline-block;\">aliquam_</span> <span style=\"background-color: white; display: inline-block;\">corrumpe</span> <span style=\"background-color: white; display: inline-block;\">re_</span> <span style=\"background-color: white; display: inline-block;\">prola</span> <span style=\"background-color: white; display: inline-block;\">psi_</span> <span style=\"background-color: white; display: inline-block;\">in_</span> <span style=\"background-color: white; display: inline-block;\">uiti</span> <span style=\"background-color: white; display: inline-block;\">a_</span> <span style=\"background-color: white; display: inline-block;\">seculi</span> <span style=\"background-color: white; display: inline-block;\">_</span> <span style=\"background-color: white; display: inline-block;\">pra</span> <span style=\"background-color: white; display: inline-block;\">ua_</span> <span style=\"background-color: white; display: inline-block;\">consuetudo_</span> <span style=\"background-color: white; display: inline-block;\">,_</span> <span style=\"background-color: white; display: inline-block;\">etiam_</span> <span style=\"background-color: white; display: inline-block;\">matrona</span> <span style=\"background-color: white; display: inline-block;\">rum_</span> <span style=\"background-color: white; display: inline-block;\">multum_</span> <span style=\"background-color: white; display: inline-block;\">in_</span> <span style=\"background-color: white; display: inline-block;\">libidine_</span> <span style=\"background-color: white; display: inline-block;\">magisteri</span> <span style=\"background-color: white; display: inline-block;\">um_</span> <span style=\"background-color: white; display: inline-block;\">:_</span> <span style=\"background-color: white; display: inline-block;\">pudic</span> <span style=\"background-color: white; display: inline-block;\">a_</span> <span style=\"background-color: white; display: inline-block;\">permane</span> <span style=\"background-color: white; display: inline-block;\">bit_</span> <span style=\"background-color: white; display: inline-block;\">._</span> <span style=\"background-color: white; display: inline-block;\">[SEP]</span></p>"
      ],
      "text/plain": [
       "<IPython.core.display.HTML object>"
      ]
     },
     "metadata": {},
     "output_type": "display_data"
    },
    {
     "data": {
      "text/html": [
       "<p><b style=\"text-decoration: line-through;;\">positive</b> -> <span style=\"background-color: white; display: inline-block;\">[CLS]</span> <span style=\"background-color: white; display: inline-block;\">pulchre_</span> <span style=\"background-color: #ffbf00; display: inline-block;\">pensi</span> <span style=\"background-color: yellow; display: inline-block;\">libus_</span> <span style=\"background-color: yellow; display: inline-block;\">peculi</span> <span style=\"background-color: white; display: inline-block;\">ati_</span> <span style=\"background-color: white; display: inline-block;\">[SEP]</span></p>"
      ],
      "text/plain": [
       "<IPython.core.display.HTML object>"
      ]
     },
     "metadata": {},
     "output_type": "display_data"
    },
    {
     "data": {
      "text/html": [
       "<p><b style=\"text-decoration: line-through;;\">positive</b> -> <span style=\"background-color: white; display: inline-block;\">[CLS]</span> <span style=\"background-color: white; display: inline-block;\">das_</span> <span style=\"background-color: white; display: inline-block;\">parthi</span> <span style=\"background-color: white; display: inline-block;\">s_</span> <span style=\"background-color: white; display: inline-block;\">,_</span> <span style=\"background-color: white; display: inline-block;\">das_</span> <span style=\"background-color: white; display: inline-block;\">germani</span> <span style=\"background-color: white; display: inline-block;\">s_</span> <span style=\"background-color: white; display: inline-block;\">,_</span> <span style=\"background-color: white; display: inline-block;\">das_</span> <span style=\"background-color: white; display: inline-block;\">,_</span> <span style=\"background-color: white; display: inline-block;\">caeli</span> <span style=\"background-color: white; display: inline-block;\">a_</span> <span style=\"background-color: white; display: inline-block;\">,_</span> <span style=\"background-color: white; display: inline-block;\">daci</span> <span style=\"background-color: white; display: inline-block;\">s_</span> <span style=\"background-color: white; display: inline-block;\">,_</span> <span style=\"background-color: white; display: inline-block;\">nec_</span> <span style=\"background-color: white; display: inline-block;\">cilic</span> <span style=\"background-color: white; display: inline-block;\">um_</span> <span style=\"background-color: white; display: inline-block;\">spern</span> <span style=\"background-color: white; display: inline-block;\">is_</span> <span style=\"background-color: white; display: inline-block;\">cappado</span> <span style=\"background-color: white; display: inline-block;\">cumque_</span> <span style=\"background-color: white; display: inline-block;\">-_</span> <span style=\"background-color: white; display: inline-block;\">que_</span> <span style=\"background-color: white; display: inline-block;\">toro</span> <span style=\"background-color: white; display: inline-block;\">s_</span> <span style=\"background-color: white; display: inline-block;\">et_</span> <span style=\"background-color: white; display: inline-block;\">tibi_</span> <span style=\"background-color: white; display: inline-block;\">de_</span> <span style=\"background-color: white; display: inline-block;\">phari</span> <span style=\"background-color: white; display: inline-block;\">a_</span> <span style=\"background-color: white; display: inline-block;\">mem</span> <span style=\"background-color: white; display: inline-block;\">phi</span> <span style=\"background-color: white; display: inline-block;\">ticus_</span> <span style=\"background-color: white; display: inline-block;\">urbe_</span> <span style=\"background-color: white; display: inline-block;\">fut</span> <span style=\"background-color: white; display: inline-block;\">utor</span> <span style=\"background-color: white; display: inline-block;\">_</span> <span style=\"background-color: white; display: inline-block;\">naviga</span> <span style=\"background-color: white; display: inline-block;\">t_</span> <span style=\"background-color: white; display: inline-block;\">,_</span> <span style=\"background-color: white; display: inline-block;\">a_</span> <span style=\"background-color: white; display: inline-block;\">rubr</span> <span style=\"background-color: white; display: inline-block;\">is_</span> <span style=\"background-color: white; display: inline-block;\">et_</span> <span style=\"background-color: white; display: inline-block;\">niger_</span> <span style=\"background-color: white; display: inline-block;\">indus</span> <span style=\"background-color: white; display: inline-block;\">_</span> <span style=\"background-color: white; display: inline-block;\">aquis_</span> <span style=\"background-color: white; display: inline-block;\">nec_</span> <span style=\"background-color: white; display: inline-block;\">recu</span> <span style=\"background-color: white; display: inline-block;\">tito</span> <span style=\"background-color: white; display: inline-block;\">rum_</span> <span style=\"background-color: white; display: inline-block;\">fugis</span> <span style=\"background-color: white; display: inline-block;\">_</span> <span style=\"background-color: #ffdf00; display: inline-block;\">ingu</span> <span style=\"background-color: white; display: inline-block;\">ina_</span> <span style=\"background-color: white; display: inline-block;\">iudaeorum_</span> <span style=\"background-color: white; display: inline-block;\">,_</span> <span style=\"background-color: white; display: inline-block;\">nec_</span> <span style=\"background-color: white; display: inline-block;\">te_</span> <span style=\"background-color: white; display: inline-block;\">sarm</span> <span style=\"background-color: white; display: inline-block;\">atic</span> <span style=\"background-color: white; display: inline-block;\">o_</span> <span style=\"background-color: white; display: inline-block;\">transit_</span> <span style=\"background-color: white; display: inline-block;\">alan</span> <span style=\"background-color: white; display: inline-block;\">us_</span> <span style=\"background-color: white; display: inline-block;\">equo_</span> <span style=\"background-color: white; display: inline-block;\">._</span> <span style=\"background-color: white; display: inline-block;\">[SEP]</span></p>"
      ],
      "text/plain": [
       "<IPython.core.display.HTML object>"
      ]
     },
     "metadata": {},
     "output_type": "display_data"
    },
    {
     "data": {
      "text/html": [
       "<p><b style=\"text-decoration: line-through;;\">positive</b> -> <span style=\"background-color: white; display: inline-block;\">[CLS]</span> <span style=\"background-color: white; display: inline-block;\">exsi</span> <span style=\"background-color: white; display: inline-block;\">luit_</span> <span style=\"background-color: white; display: inline-block;\">iuncta</span> <span style=\"background-color: white; display: inline-block;\">sque_</span> <span style=\"background-color: white; display: inline-block;\">-_</span> <span style=\"background-color: white; display: inline-block;\">que_</span> <span style=\"background-color: white; display: inline-block;\">manus_</span> <span style=\"background-color: white; display: inline-block;\">pave</span> <span style=\"background-color: white; display: inline-block;\">facta_</span> <span style=\"background-color: white; display: inline-block;\">remisi</span> <span style=\"background-color: white; display: inline-block;\">t_</span> <span style=\"background-color: white; display: inline-block;\">diva</span> <span style=\"background-color: white; display: inline-block;\">_</span> <span style=\"background-color: white; display: inline-block;\">potens_</span> <span style=\"background-color: yellow; display: inline-block;\">uteri</span> <span style=\"background-color: white; display: inline-block;\">_</span> <span style=\"background-color: white; display: inline-block;\">:_</span> <span style=\"background-color: white; display: inline-block;\">vincl</span> <span style=\"background-color: white; display: inline-block;\">is_</span> <span style=\"background-color: white; display: inline-block;\">lev</span> <span style=\"background-color: white; display: inline-block;\">or_</span> <span style=\"background-color: white; display: inline-block;\">ipsa_</span> <span style=\"background-color: white; display: inline-block;\">remiss</span> <span style=\"background-color: white; display: inline-block;\">is_</span> <span style=\"background-color: white; display: inline-block;\">._</span> <span style=\"background-color: white; display: inline-block;\">[SEP]</span></p>"
      ],
      "text/plain": [
       "<IPython.core.display.HTML object>"
      ]
     },
     "metadata": {},
     "output_type": "display_data"
    },
    {
     "data": {
      "text/html": [
       "<p><b style=\"text-decoration: line-through;;\">positive</b> -> <span style=\"background-color: white; display: inline-block;\">[CLS]</span> <span style=\"background-color: yellow; display: inline-block;\">corrumpi</span> <span style=\"background-color: white; display: inline-block;\">t_</span> <span style=\"background-color: white; display: inline-block;\">sine_</span> <span style=\"background-color: white; display: inline-block;\">tali</span> <span style=\"background-color: white; display: inline-block;\">one_</span> <span style=\"background-color: white; display: inline-block;\">cael</span> <span style=\"background-color: white; display: inline-block;\">eb</span> <span style=\"background-color: white; display: inline-block;\">s_</span> <span style=\"background-color: white; display: inline-block;\">,_</span> <span style=\"background-color: white; display: inline-block;\">caecus_</span> <span style=\"background-color: white; display: inline-block;\">perdere_</span> <span style=\"background-color: white; display: inline-block;\">non_</span> <span style=\"background-color: white; display: inline-block;\">potest_</span> <span style=\"background-color: white; display: inline-block;\">quod_</span> <span style=\"background-color: white; display: inline-block;\">aufert_</span> <span style=\"background-color: yellow; display: inline-block;\">[SEP]</span></p>"
      ],
      "text/plain": [
       "<IPython.core.display.HTML object>"
      ]
     },
     "metadata": {},
     "output_type": "display_data"
    },
    {
     "data": {
      "text/html": [
       "<p><b style=\"text-decoration: line-through;;\">positive</b> -> <span style=\"background-color: white; display: inline-block;\">[CLS]</span> <span style=\"background-color: white; display: inline-block;\">tanta_</span> <span style=\"background-color: white; display: inline-block;\">est_</span> <span style=\"background-color: white; display: inline-block;\">quae_</span> <span style=\"background-color: white; display: inline-block;\">titio_</span> <span style=\"background-color: white; display: inline-block;\">columna_</span> <span style=\"background-color: white; display: inline-block;\">pendet_</span> <span style=\"background-color: white; display: inline-block;\">,_</span> <span style=\"background-color: white; display: inline-block;\">quantam_</span> <span style=\"background-color: white; display: inline-block;\">lamp</span> <span style=\"background-color: white; display: inline-block;\">sac</span> <span style=\"background-color: white; display: inline-block;\">iae_</span> <span style=\"background-color: white; display: inline-block;\">colunt_</span> <span style=\"background-color: white; display: inline-block;\">puellae_</span> <span style=\"background-color: white; display: inline-block;\">._</span> <span style=\"background-color: yellow; display: inline-block;\">[SEP]</span></p>"
      ],
      "text/plain": [
       "<IPython.core.display.HTML object>"
      ]
     },
     "metadata": {},
     "output_type": "display_data"
    },
    {
     "data": {
      "text/html": [
       "<p><b style=\"text-decoration: line-through;;\">positive</b> -> <span style=\"background-color: white; display: inline-block;\">[CLS]</span> <span style=\"background-color: white; display: inline-block;\">vae_</span> <span style=\"background-color: white; display: inline-block;\">tibi_</span> <span style=\"background-color: white; display: inline-block;\">,_</span> <span style=\"background-color: white; display: inline-block;\">dum_</span> <span style=\"background-color: white; display: inline-block;\">ludis_</span> <span style=\"background-color: white; display: inline-block;\">,_</span> <span style=\"background-color: white; display: inline-block;\">castr</span> <span style=\"background-color: white; display: inline-block;\">aber</span> <span style=\"background-color: white; display: inline-block;\">e_</span> <span style=\"background-color: white; display: inline-block;\">._</span> <span style=\"background-color: #ffdf00; display: inline-block;\">[SEP]</span></p>"
      ],
      "text/plain": [
       "<IPython.core.display.HTML object>"
      ]
     },
     "metadata": {},
     "output_type": "display_data"
    },
    {
     "data": {
      "text/html": [
       "<p><b style=\"text-decoration: line-through;;\">positive</b> -> <span style=\"background-color: white; display: inline-block;\">[CLS]</span> <span style=\"background-color: white; display: inline-block;\">cum_</span> <span style=\"background-color: white; display: inline-block;\">dicis_</span> <span style=\"background-color: white; display: inline-block;\">prope</span> <span style=\"background-color: white; display: inline-block;\">ro_</span> <span style=\"background-color: white; display: inline-block;\">,_</span> <span style=\"background-color: white; display: inline-block;\">fac_</span> <span style=\"background-color: white; display: inline-block;\">si_</span> <span style=\"background-color: white; display: inline-block;\">facis_</span> <span style=\"background-color: white; display: inline-block;\">,_</span> <span style=\"background-color: white; display: inline-block;\">hed</span> <span style=\"background-color: white; display: inline-block;\">yl</span> <span style=\"background-color: white; display: inline-block;\">e_</span> <span style=\"background-color: white; display: inline-block;\">,_</span> <span style=\"background-color: white; display: inline-block;\">langue</span> <span style=\"background-color: white; display: inline-block;\">t_</span> <span style=\"background-color: white; display: inline-block;\">protinus_</span> <span style=\"background-color: white; display: inline-block;\">et_</span> <span style=\"background-color: white; display: inline-block;\">cessat_</span> <span style=\"background-color: white; display: inline-block;\">debilitat</span> <span style=\"background-color: white; display: inline-block;\">a_</span> <span style=\"background-color: yellow; display: inline-block;\">venus_</span> <span style=\"background-color: white; display: inline-block;\">._</span> <span style=\"background-color: white; display: inline-block;\">[SEP]</span></p>"
      ],
      "text/plain": [
       "<IPython.core.display.HTML object>"
      ]
     },
     "metadata": {},
     "output_type": "display_data"
    },
    {
     "data": {
      "text/html": [
       "<p><b style=\"text-decoration: line-through;;\">positive</b> -> <span style=\"background-color: white; display: inline-block;\">[CLS]</span> <span style=\"background-color: white; display: inline-block;\">qui_</span> <span style=\"background-color: white; display: inline-block;\">tanto_</span> <span style=\"background-color: white; display: inline-block;\">patet_</span> <span style=\"background-color: yellow; display: inline-block;\">indec</span> <span style=\"background-color: white; display: inline-block;\">ens_</span> <span style=\"background-color: yellow; display: inline-block;\">hiatu</span> <span style=\"background-color: white; display: inline-block;\">_</span> <span style=\"background-color: white; display: inline-block;\">,_</span> <span style=\"background-color: white; display: inline-block;\">[SEP]</span></p>"
      ],
      "text/plain": [
       "<IPython.core.display.HTML object>"
      ]
     },
     "metadata": {},
     "output_type": "display_data"
    },
    {
     "data": {
      "text/html": [
       "<p><b style=\"text-decoration: line-through;;\">positive</b> -> <span style=\"background-color: white; display: inline-block;\">[CLS]</span> <span style=\"background-color: white; display: inline-block;\">et_</span> <span style=\"background-color: white; display: inline-block;\">futuri_</span> <span style=\"background-color: white; display: inline-block;\">pignori</span> <span style=\"background-color: white; display: inline-block;\">s_</span> <span style=\"background-color: white; display: inline-block;\">gloria_</span> <span style=\"background-color: white; display: inline-block;\">gesti</span> <span style=\"background-color: white; display: inline-block;\">ebat_</span> <span style=\"background-color: white; display: inline-block;\">et_</span> <span style=\"background-color: white; display: inline-block;\">matern</span> <span style=\"background-color: white; display: inline-block;\">i_</span> <span style=\"background-color: white; display: inline-block;\">nominis_</span> <span style=\"background-color: white; display: inline-block;\">dignitate_</span> <span style=\"background-color: white; display: inline-block;\">gaudeb</span> <span style=\"background-color: white; display: inline-block;\">at_</span> <span style=\"background-color: white; display: inline-block;\">:_</span> <span style=\"background-color: white; display: inline-block;\">crescent</span> <span style=\"background-color: white; display: inline-block;\">es_</span> <span style=\"background-color: white; display: inline-block;\">dies_</span> <span style=\"background-color: white; display: inline-block;\">et_</span> <span style=\"background-color: white; display: inline-block;\">menses_</span> <span style=\"background-color: white; display: inline-block;\">exeunt</span> <span style=\"background-color: white; display: inline-block;\">es_</span> <span style=\"background-color: white; display: inline-block;\">anxi</span> <span style=\"background-color: white; display: inline-block;\">a_</span> <span style=\"background-color: white; display: inline-block;\">numerat</span> <span style=\"background-color: white; display: inline-block;\">_</span> <span style=\"background-color: white; display: inline-block;\">,_</span> <span style=\"background-color: white; display: inline-block;\">et_</span> <span style=\"background-color: white; display: inline-block;\">sarcina</span> <span style=\"background-color: white; display: inline-block;\">e_</span> <span style=\"background-color: white; display: inline-block;\">nescia</span> <span style=\"background-color: white; display: inline-block;\">e_</span> <span style=\"background-color: white; display: inline-block;\">rudi</span> <span style=\"background-color: white; display: inline-block;\">mento_</span> <span style=\"background-color: white; display: inline-block;\">miratur_</span> <span style=\"background-color: white; display: inline-block;\">de_</span> <span style=\"background-color: white; display: inline-block;\">brevi_</span> <span style=\"background-color: yellow; display: inline-block;\">punct</span> <span style=\"background-color: white; display: inline-block;\">ulo_</span> <span style=\"background-color: white; display: inline-block;\">tantum_</span> <span style=\"background-color: white; display: inline-block;\">increment</span> <span style=\"background-color: white; display: inline-block;\">ulum_</span> <span style=\"background-color: white; display: inline-block;\">locuplet</span> <span style=\"background-color: white; display: inline-block;\">is_</span> <span style=\"background-color: white; display: inline-block;\">uteri</span> <span style=\"background-color: white; display: inline-block;\">_</span> <span style=\"background-color: white; display: inline-block;\">._</span> <span style=\"background-color: white; display: inline-block;\">[SEP]</span></p>"
      ],
      "text/plain": [
       "<IPython.core.display.HTML object>"
      ]
     },
     "metadata": {},
     "output_type": "display_data"
    },
    {
     "data": {
      "text/html": [
       "<p><b style=\"text-decoration: line-through;;\">positive</b> -> <span style=\"background-color: white; display: inline-block;\">[CLS]</span> <span style=\"background-color: white; display: inline-block;\">quod_</span> <span style=\"background-color: white; display: inline-block;\">partem_</span> <span style=\"background-color: white; display: inline-block;\">madi</span> <span style=\"background-color: white; display: inline-block;\">dam_</span> <span style=\"background-color: white; display: inline-block;\">mei_</span> <span style=\"background-color: white; display: inline-block;\">uide</span> <span style=\"background-color: white; display: inline-block;\">tis_</span> <span style=\"background-color: white; display: inline-block;\">,_</span> <span style=\"background-color: white; display: inline-block;\">per_</span> <span style=\"background-color: white; display: inline-block;\">quam_</span> <span style=\"background-color: white; display: inline-block;\">signif</span> <span style=\"background-color: white; display: inline-block;\">icor</span> <span style=\"background-color: white; display: inline-block;\">_</span> <span style=\"background-color: white; display: inline-block;\">pria</span> <span style=\"background-color: white; display: inline-block;\">pus_</span> <span style=\"background-color: white; display: inline-block;\">esse_</span> <span style=\"background-color: white; display: inline-block;\">,_</span> <span style=\"background-color: white; display: inline-block;\">[SEP]</span></p>"
      ],
      "text/plain": [
       "<IPython.core.display.HTML object>"
      ]
     },
     "metadata": {},
     "output_type": "display_data"
    },
    {
     "data": {
      "text/html": [
       "<p><b style=\"text-decoration: line-through;;\">positive</b> -> <span style=\"background-color: white; display: inline-block;\">[CLS]</span> <span style=\"background-color: white; display: inline-block;\">praef</span> <span style=\"background-color: white; display: inline-block;\">ocat</span> <span style=\"background-color: white; display: inline-block;\">ionem_</span> <span style=\"background-color: white; display: inline-block;\">matri</span> <span style=\"background-color: white; display: inline-block;\">cis_</span> <span style=\"background-color: white; display: inline-block;\">sequitur_</span> <span style=\"background-color: white; display: inline-block;\">subit</span> <span style=\"background-color: white; display: inline-block;\">us_</span> <span style=\"background-color: white; display: inline-block;\">casus_</span> <span style=\"background-color: white; display: inline-block;\">,_</span> <span style=\"background-color: white; display: inline-block;\">uoc</span> <span style=\"background-color: white; display: inline-block;\">is_</span> <span style=\"background-color: white; display: inline-block;\">amputa</span> <span style=\"background-color: white; display: inline-block;\">tio_</span> <span style=\"background-color: white; display: inline-block;\">ut_</span> <span style=\"background-color: white; display: inline-block;\">ob</span> <span style=\"background-color: white; display: inline-block;\">mute</span> <span style=\"background-color: white; display: inline-block;\">scant</span> <span style=\"background-color: white; display: inline-block;\">_</span> <span style=\"background-color: white; display: inline-block;\">,_</span> <span style=\"background-color: white; display: inline-block;\">et_</span> <span style=\"background-color: white; display: inline-block;\">apprehensio</span> <span style=\"background-color: white; display: inline-block;\">_</span> <span style=\"background-color: white; display: inline-block;\">sensus_</span> <span style=\"background-color: white; display: inline-block;\">,_</span> <span style=\"background-color: white; display: inline-block;\">dentiu</span> <span style=\"background-color: white; display: inline-block;\">m_</span> <span style=\"background-color: white; display: inline-block;\">confi</span> <span style=\"background-color: white; display: inline-block;\">xio</span> <span style=\"background-color: white; display: inline-block;\">_</span> <span style=\"background-color: white; display: inline-block;\">et_</span> <span style=\"background-color: white; display: inline-block;\">strid</span> <span style=\"background-color: white; display: inline-block;\">or_</span> <span style=\"background-color: white; display: inline-block;\">rapid</span> <span style=\"background-color: white; display: inline-block;\">us_</span> <span style=\"background-color: white; display: inline-block;\">ita_</span> <span style=\"background-color: white; display: inline-block;\">ut_</span> <span style=\"background-color: white; display: inline-block;\">accessi</span> <span style=\"background-color: white; display: inline-block;\">onis_</span> <span style=\"background-color: white; display: inline-block;\">tempore_</span> <span style=\"background-color: white; display: inline-block;\">una_</span> <span style=\"background-color: white; display: inline-block;\">pars_</span> <span style=\"background-color: white; display: inline-block;\">oris_</span> <span style=\"background-color: white; display: inline-block;\">ad_</span> <span style=\"background-color: white; display: inline-block;\">alteram_</span> <span style=\"background-color: white; display: inline-block;\">partem_</span> <span style=\"background-color: white; display: inline-block;\">conduc</span> <span style=\"background-color: white; display: inline-block;\">i_</span> <span style=\"background-color: white; display: inline-block;\">uidea</span> <span style=\"background-color: white; display: inline-block;\">tur_</span> <span style=\"background-color: white; display: inline-block;\">[SEP]</span></p>"
      ],
      "text/plain": [
       "<IPython.core.display.HTML object>"
      ]
     },
     "metadata": {},
     "output_type": "display_data"
    },
    {
     "data": {
      "text/html": [
       "<p><b style=\"text-decoration: line-through;;\">positive</b> -> <span style=\"background-color: white; display: inline-block;\">[CLS]</span> <span style=\"background-color: white; display: inline-block;\">leuc</span> <span style=\"background-color: white; display: inline-block;\">onic</span> <span style=\"background-color: white; display: inline-block;\">is_</span> <span style=\"background-color: white; display: inline-block;\">age</span> <span style=\"background-color: white; display: inline-block;\">dum_</span> <span style=\"background-color: white; display: inline-block;\">tume</span> <span style=\"background-color: white; display: inline-block;\">at_</span> <span style=\"background-color: white; display: inline-block;\">tibi_</span> <span style=\"background-color: white; display: inline-block;\">cul</span> <span style=\"background-color: white; display: inline-block;\">cita</span> <span style=\"background-color: white; display: inline-block;\">_</span> <span style=\"background-color: white; display: inline-block;\">lani</span> <span style=\"background-color: white; display: inline-block;\">s_</span> <span style=\"background-color: white; display: inline-block;\">constring</span> <span style=\"background-color: white; display: inline-block;\">atque_</span> <span style=\"background-color: white; display: inline-block;\">-_</span> <span style=\"background-color: white; display: inline-block;\">que_</span> <span style=\"background-color: white; display: inline-block;\">tuos_</span> <span style=\"background-color: white; display: inline-block;\">purpura_</span> <span style=\"background-color: white; display: inline-block;\">pe</span> <span style=\"background-color: white; display: inline-block;\">xa_</span> <span style=\"background-color: white; display: inline-block;\">toro</span> <span style=\"background-color: white; display: inline-block;\">s_</span> <span style=\"background-color: white; display: inline-block;\">,_</span> <span style=\"background-color: white; display: inline-block;\">dormi</span> <span style=\"background-color: white; display: inline-block;\">at_</span> <span style=\"background-color: white; display: inline-block;\">et_</span> <span style=\"background-color: white; display: inline-block;\">tec</span> <span style=\"background-color: white; display: inline-block;\">um_</span> <span style=\"background-color: white; display: inline-block;\">-_</span> <span style=\"background-color: white; display: inline-block;\">cum_</span> <span style=\"background-color: white; display: inline-block;\">,_</span> <span style=\"background-color: white; display: inline-block;\">modo_</span> <span style=\"background-color: white; display: inline-block;\">qui_</span> <span style=\"background-color: white; display: inline-block;\">dum_</span> <span style=\"background-color: white; display: inline-block;\">caec</span> <span style=\"background-color: white; display: inline-block;\">uba</span> <span style=\"background-color: white; display: inline-block;\">_</span> <span style=\"background-color: white; display: inline-block;\">miscet</span> <span style=\"background-color: white; display: inline-block;\">_</span> <span style=\"background-color: white; display: inline-block;\">conviva</span> <span style=\"background-color: white; display: inline-block;\">s_</span> <span style=\"background-color: white; display: inline-block;\">rose</span> <span style=\"background-color: white; display: inline-block;\">o_</span> <span style=\"background-color: white; display: inline-block;\">tor</span> <span style=\"background-color: white; display: inline-block;\">serat_</span> <span style=\"background-color: white; display: inline-block;\">ore_</span> <span style=\"background-color: white; display: inline-block;\">puer_</span> <span style=\"background-color: white; display: inline-block;\">:_</span> <span style=\"background-color: white; display: inline-block;\">[SEP]</span></p>"
      ],
      "text/plain": [
       "<IPython.core.display.HTML object>"
      ]
     },
     "metadata": {},
     "output_type": "display_data"
    },
    {
     "data": {
      "text/html": [
       "<p><b style=\"text-decoration: line-through;;\">positive</b> -> <span style=\"background-color: white; display: inline-block;\">[CLS]</span> <span style=\"background-color: white; display: inline-block;\">quare_</span> <span style=\"background-color: white; display: inline-block;\">desine</span> <span style=\"background-color: white; display: inline-block;\">_</span> <span style=\"background-color: white; display: inline-block;\">,_</span> <span style=\"background-color: white; display: inline-block;\">dum_</span> <span style=\"background-color: white; display: inline-block;\">licet_</span> <span style=\"background-color: white; display: inline-block;\">pudic</span> <span style=\"background-color: white; display: inline-block;\">o_</span> <span style=\"background-color: white; display: inline-block;\">,_</span> <span style=\"background-color: white; display: inline-block;\">ne_</span> <span style=\"background-color: white; display: inline-block;\">finem_</span> <span style=\"background-color: white; display: inline-block;\">facias_</span> <span style=\"background-color: white; display: inline-block;\">,_</span> <span style=\"background-color: white; display: inline-block;\">sed_</span> <span style=\"background-color: #ffdf00; display: inline-block;\">irru</span> <span style=\"background-color: white; display: inline-block;\">matu</span> <span style=\"background-color: white; display: inline-block;\">s_</span> <span style=\"background-color: white; display: inline-block;\">._</span> <span style=\"background-color: white; display: inline-block;\">[SEP]</span></p>"
      ],
      "text/plain": [
       "<IPython.core.display.HTML object>"
      ]
     },
     "metadata": {},
     "output_type": "display_data"
    },
    {
     "data": {
      "text/html": [
       "<p><b style=\"text-decoration: line-through;;\">positive</b> -> <span style=\"background-color: white; display: inline-block;\">[CLS]</span> <span style=\"background-color: white; display: inline-block;\">nec_</span> <span style=\"background-color: white; display: inline-block;\">motu_</span> <span style=\"background-color: white; display: inline-block;\">digna</span> <span style=\"background-color: white; display: inline-block;\">ris_</span> <span style=\"background-color: white; display: inline-block;\">opus_</span> <span style=\"background-color: white; display: inline-block;\">nec_</span> <span style=\"background-color: white; display: inline-block;\">voce_</span> <span style=\"background-color: white; display: inline-block;\">iuva</span> <span style=\"background-color: white; display: inline-block;\">re_</span> <span style=\"background-color: white; display: inline-block;\">nec_</span> <span style=\"background-color: #ffdf00; display: inline-block;\">digitis_</span> <span style=\"background-color: white; display: inline-block;\">[SEP]</span></p>"
      ],
      "text/plain": [
       "<IPython.core.display.HTML object>"
      ]
     },
     "metadata": {},
     "output_type": "display_data"
    },
    {
     "data": {
      "text/html": [
       "<p><b style=\"text-decoration: line-through;;\">positive</b> -> <span style=\"background-color: white; display: inline-block;\">[CLS]</span> <span style=\"background-color: white; display: inline-block;\">dicer</span> <span style=\"background-color: white; display: inline-block;\">is_</span> <span style=\"background-color: white; display: inline-block;\">,_</span> <span style=\"background-color: white; display: inline-block;\">maximi</span> <span style=\"background-color: white; display: inline-block;\">ne_</span> <span style=\"background-color: white; display: inline-block;\">-_</span> <span style=\"background-color: white; display: inline-block;\">ne_</span> <span style=\"background-color: white; display: inline-block;\">,_</span> <span style=\"background-color: white; display: inline-block;\">sedeci</span> <span style=\"background-color: white; display: inline-block;\">m_</span> <span style=\"background-color: white; display: inline-block;\">et_</span> <span style=\"background-color: white; display: inline-block;\">viginti_</span> <span style=\"background-color: white; display: inline-block;\">et_</span> <span style=\"background-color: white; display: inline-block;\">triginta_</span> <span style=\"background-color: white; display: inline-block;\">milites_</span> <span style=\"background-color: white; display: inline-block;\">aliquando_</span> <span style=\"background-color: white; display: inline-block;\">lassa</span> <span style=\"background-color: white; display: inline-block;\">sse_</span> <span style=\"background-color: white; display: inline-block;\">potes_</span> <span style=\"background-color: white; display: inline-block;\">tric</span> <span style=\"background-color: white; display: inline-block;\">ies_</span> <span style=\"background-color: white; display: inline-block;\">cum_</span> <span style=\"background-color: white; display: inline-block;\">muliere_</span> <span style=\"background-color: white; display: inline-block;\">perficere_</span> <span style=\"background-color: white; display: inline-block;\">?_</span> <span style=\"background-color: white; display: inline-block;\">[SEP]</span></p>"
      ],
      "text/plain": [
       "<IPython.core.display.HTML object>"
      ]
     },
     "metadata": {},
     "output_type": "display_data"
    },
    {
     "data": {
      "text/html": [
       "<p><b style=\"text-decoration: line-through;;\">positive</b> -> <span style=\"background-color: white; display: inline-block;\">[CLS]</span> <span style=\"background-color: white; display: inline-block;\">acceden</span> <span style=\"background-color: white; display: inline-block;\">t_</span> <span style=\"background-color: white; display: inline-block;\">duo_</span> <span style=\"background-color: white; display: inline-block;\">,_</span> <span style=\"background-color: white; display: inline-block;\">qui_</span> <span style=\"background-color: white; display: inline-block;\">latus_</span> <span style=\"background-color: white; display: inline-block;\">tuent</span> <span style=\"background-color: white; display: inline-block;\">ur_</span> <span style=\"background-color: white; display: inline-block;\">,_</span> <span style=\"background-color: white; display: inline-block;\">pulchre_</span> <span style=\"background-color: white; display: inline-block;\">pensi</span> <span style=\"background-color: white; display: inline-block;\">libus_</span> <span style=\"background-color: yellow; display: inline-block;\">peculi</span> <span style=\"background-color: white; display: inline-block;\">ati_</span> <span style=\"background-color: white; display: inline-block;\">[SEP]</span></p>"
      ],
      "text/plain": [
       "<IPython.core.display.HTML object>"
      ]
     },
     "metadata": {},
     "output_type": "display_data"
    },
    {
     "data": {
      "text/html": [
       "<p><b style=\"text-decoration: line-through;;\">positive</b> -> <span style=\"background-color: white; display: inline-block;\">[CLS]</span> <span style=\"background-color: white; display: inline-block;\">et_</span> <span style=\"background-color: white; display: inline-block;\">lassa</span> <span style=\"background-color: white; display: inline-block;\">ta_</span> <span style=\"background-color: white; display: inline-block;\">viris_</span> <span style=\"background-color: white; display: inline-block;\">necdum_</span> <span style=\"background-color: yellow; display: inline-block;\">satiat</span> <span style=\"background-color: white; display: inline-block;\">a_</span> <span style=\"background-color: white; display: inline-block;\">recessit_</span> <span style=\"background-color: yellow; display: inline-block;\">[SEP]</span></p>"
      ],
      "text/plain": [
       "<IPython.core.display.HTML object>"
      ]
     },
     "metadata": {},
     "output_type": "display_data"
    },
    {
     "data": {
      "text/html": [
       "<p><b style=\"text-decoration: line-through;;\">positive</b> -> <span style=\"background-color: white; display: inline-block;\">[CLS]</span> <span style=\"background-color: white; display: inline-block;\">sunt_</span> <span style=\"background-color: white; display: inline-block;\">variae_</span> <span style=\"background-color: white; display: inline-block;\">et_</span> <span style=\"background-color: white; display: inline-block;\">diversae_</span> <span style=\"background-color: white; display: inline-block;\">causae_</span> <span style=\"background-color: yellow; display: inline-block;\">matri</span> <span style=\"background-color: white; display: inline-block;\">cem_</span> <span style=\"background-color: white; display: inline-block;\">frequentiu</span> <span style=\"background-color: white; display: inline-block;\">s_</span> <span style=\"background-color: white; display: inline-block;\">atte</span> <span style=\"background-color: white; display: inline-block;\">mpt</span> <span style=\"background-color: white; display: inline-block;\">antes_</span> <span style=\"background-color: white; display: inline-block;\">,_</span> <span style=\"background-color: white; display: inline-block;\">quae_</span> <span style=\"background-color: white; display: inline-block;\">sub_</span> <span style=\"background-color: white; display: inline-block;\">duabus_</span> <span style=\"background-color: white; display: inline-block;\">praecipue_</span> <span style=\"background-color: white; display: inline-block;\">principali_</span> <span style=\"background-color: white; display: inline-block;\">bus_</span> <span style=\"background-color: white; display: inline-block;\">passionibus_</span> <span style=\"background-color: yellow; display: inline-block;\">constri</span> <span style=\"background-color: white; display: inline-block;\">ctioni</span> <span style=\"background-color: white; display: inline-block;\">s_</span> <span style=\"background-color: white; display: inline-block;\">vel_</span> <span style=\"background-color: white; display: inline-block;\">laxat</span> <span style=\"background-color: white; display: inline-block;\">ionis_</span> <span style=\"background-color: white; display: inline-block;\">etiam_</span> <span style=\"background-color: white; display: inline-block;\">parti</span> <span style=\"background-color: white; display: inline-block;\">liter_</span> <span style=\"background-color: white; display: inline-block;\">sub_</span> <span style=\"background-color: white; display: inline-block;\">certis_</span> <span style=\"background-color: white; display: inline-block;\">accidenti</span> <span style=\"background-color: white; display: inline-block;\">bus_</span> <span style=\"background-color: white; display: inline-block;\">alias_</span> <span style=\"background-color: white; display: inline-block;\">causas_</span> <span style=\"background-color: white; display: inline-block;\">efficiunt</span> <span style=\"background-color: white; display: inline-block;\">_</span> <span style=\"background-color: white; display: inline-block;\">._</span> <span style=\"background-color: white; display: inline-block;\">[SEP]</span></p>"
      ],
      "text/plain": [
       "<IPython.core.display.HTML object>"
      ]
     },
     "metadata": {},
     "output_type": "display_data"
    },
    {
     "data": {
      "text/html": [
       "<p><b style=\"text-decoration: line-through;;\">positive</b> -> <span style=\"background-color: white; display: inline-block;\">[CLS]</span> <span style=\"background-color: white; display: inline-block;\">denique_</span> <span style=\"background-color: white; display: inline-block;\">die_</span> <span style=\"background-color: white; display: inline-block;\">quadam_</span> <span style=\"background-color: white; display: inline-block;\">madi</span> <span style=\"background-color: white; display: inline-block;\">dae_</span> <span style=\"background-color: white; display: inline-block;\">illius_</span> <span style=\"background-color: white; display: inline-block;\">anic</span> <span style=\"background-color: white; display: inline-block;\">ulae_</span> <span style=\"background-color: white; display: inline-block;\">,_</span> <span style=\"background-color: white; display: inline-block;\">sermo_</span> <span style=\"background-color: white; display: inline-block;\">talis_</span> <span style=\"background-color: white; display: inline-block;\">meas_</span> <span style=\"background-color: white; display: inline-block;\">affer</span> <span style=\"background-color: white; display: inline-block;\">tur_</span> <span style=\"background-color: white; display: inline-block;\">aures_</span> <span style=\"background-color: white; display: inline-block;\">:_</span> <span style=\"background-color: white; display: inline-block;\">de_</span> <span style=\"background-color: white; display: inline-block;\">isto_</span> <span style=\"background-color: white; display: inline-block;\">quidem_</span> <span style=\"background-color: white; display: inline-block;\">,_</span> <span style=\"background-color: white; display: inline-block;\">mi_</span> <span style=\"background-color: white; display: inline-block;\">heri</span> <span style=\"background-color: white; display: inline-block;\">lis_</span> <span style=\"background-color: white; display: inline-block;\">,_</span> <span style=\"background-color: white; display: inline-block;\">tec</span> <span style=\"background-color: white; display: inline-block;\">um_</span> <span style=\"background-color: white; display: inline-block;\">-_</span> <span style=\"background-color: white; display: inline-block;\">cum_</span> <span style=\"background-color: white; display: inline-block;\">ipsa_</span> <span style=\"background-color: white; display: inline-block;\">videris_</span> <span style=\"background-color: white; display: inline-block;\">,_</span> <span style=\"background-color: white; display: inline-block;\">quem_</span> <span style=\"background-color: white; display: inline-block;\">sine_</span> <span style=\"background-color: white; display: inline-block;\">meo_</span> <span style=\"background-color: white; display: inline-block;\">consilio_</span> <span style=\"background-color: white; display: inline-block;\">pigr</span> <span style=\"background-color: white; display: inline-block;\">um_</span> <span style=\"background-color: white; display: inline-block;\">et_</span> <span style=\"background-color: white; display: inline-block;\">formid</span> <span style=\"background-color: white; display: inline-block;\">ulo</span> <span style=\"background-color: white; display: inline-block;\">sum_</span> <span style=\"background-color: white; display: inline-block;\">familiare</span> <span style=\"background-color: white; display: inline-block;\">m_</span> <span style=\"background-color: white; display: inline-block;\">istum_</span> <span style=\"background-color: white; display: inline-block;\">sortit</span> <span style=\"background-color: white; display: inline-block;\">a_</span> <span style=\"background-color: white; display: inline-block;\">es_</span> <span style=\"background-color: white; display: inline-block;\">,_</span> <span style=\"background-color: white; display: inline-block;\">qui_</span> <span style=\"background-color: white; display: inline-block;\">insu</span> <span style=\"background-color: white; display: inline-block;\">avis_</span> <span style=\"background-color: white; display: inline-block;\">et_</span> <span style=\"background-color: white; display: inline-block;\">odios</span> <span style=\"background-color: white; display: inline-block;\">i_</span> <span style=\"background-color: white; display: inline-block;\">mariti_</span> <span style=\"background-color: white; display: inline-block;\">tui_</span> <span style=\"background-color: white; display: inline-block;\">cape</span> <span style=\"background-color: white; display: inline-block;\">rra</span> <span style=\"background-color: white; display: inline-block;\">tum_</span> <span style=\"background-color: white; display: inline-block;\">superc</span> <span style=\"background-color: white; display: inline-block;\">ilium_</span> <span style=\"background-color: white; display: inline-block;\">ignavi</span> <span style=\"background-color: white; display: inline-block;\">ter_</span> <span style=\"background-color: white; display: inline-block;\">perh</span> <span style=\"background-color: white; display: inline-block;\">orr</span> <span style=\"background-color: white; display: inline-block;\">escit_</span> <span style=\"background-color: white; display: inline-block;\">ac_</span> <span style=\"background-color: white; display: inline-block;\">per_</span> <span style=\"background-color: white; display: inline-block;\">hoc_</span> <span style=\"background-color: white; display: inline-block;\">amoris_</span> <span style=\"background-color: white; display: inline-block;\">languid</span> <span style=\"background-color: white; display: inline-block;\">i_</span> <span style=\"background-color: white; display: inline-block;\">desidi</span> <span style=\"background-color: white; display: inline-block;\">a_</span> <span style=\"background-color: white; display: inline-block;\">tuos_</span> <span style=\"background-color: white; display: inline-block;\">volentes_</span> <span style=\"background-color: white; display: inline-block;\">amplexus_</span> <span style=\"background-color: white; display: inline-block;\">discr</span> <span style=\"background-color: white; display: inline-block;\">ucia</span> <span style=\"background-color: white; display: inline-block;\">t_</span> <span style=\"background-color: white; display: inline-block;\">._</span> <span style=\"background-color: white; display: inline-block;\">[SEP]</span></p>"
      ],
      "text/plain": [
       "<IPython.core.display.HTML object>"
      ]
     },
     "metadata": {},
     "output_type": "display_data"
    },
    {
     "data": {
      "text/html": [
       "<p><b style=\"text-decoration: line-through;;\">positive</b> -> <span style=\"background-color: white; display: inline-block;\">[CLS]</span> <span style=\"background-color: white; display: inline-block;\">quid_</span> <span style=\"background-color: white; display: inline-block;\">ego_</span> <span style=\"background-color: white; display: inline-block;\">tibi_</span> <span style=\"background-color: white; display: inline-block;\">deliqu</span> <span style=\"background-color: white; display: inline-block;\">i_</span> <span style=\"background-color: white; display: inline-block;\">,_</span> <span style=\"background-color: white; display: inline-block;\">si_</span> <span style=\"background-color: white; display: inline-block;\">,_</span> <span style=\"background-color: white; display: inline-block;\">cui_</span> <span style=\"background-color: white; display: inline-block;\">nupta</span> <span style=\"background-color: white; display: inline-block;\">_</span> <span style=\"background-color: white; display: inline-block;\">sum_</span> <span style=\"background-color: white; display: inline-block;\">,_</span> <span style=\"background-color: white; display: inline-block;\">tec</span> <span style=\"background-color: white; display: inline-block;\">um_</span> <span style=\"background-color: white; display: inline-block;\">-_</span> <span style=\"background-color: white; display: inline-block;\">cum_</span> <span style=\"background-color: #ffdf00; display: inline-block;\">fui_</span> <span style=\"background-color: white; display: inline-block;\">?_</span> <span style=\"background-color: white; display: inline-block;\">[SEP]</span></p>"
      ],
      "text/plain": [
       "<IPython.core.display.HTML object>"
      ]
     },
     "metadata": {},
     "output_type": "display_data"
    },
    {
     "data": {
      "text/html": [
       "<p><b style=\"text-decoration: line-through;;\">positive</b> -> <span style=\"background-color: white; display: inline-block;\">[CLS]</span> <span style=\"background-color: white; display: inline-block;\">mascul</span> <span style=\"background-color: white; display: inline-block;\">us_</span> <span style=\"background-color: white; display: inline-block;\">pav</span> <span style=\"background-color: white; display: inline-block;\">o_</span> <span style=\"background-color: white; display: inline-block;\">gallina</span> <span style=\"background-color: white; display: inline-block;\">cea</span> <span style=\"background-color: white; display: inline-block;\">m_</span> <span style=\"background-color: white; display: inline-block;\">sala</span> <span style=\"background-color: white; display: inline-block;\">citate</span> <span style=\"background-color: white; display: inline-block;\">m_</span> <span style=\"background-color: white; display: inline-block;\">habet_</span> <span style=\"background-color: white; display: inline-block;\">,_</span> <span style=\"background-color: white; display: inline-block;\">atque_</span> <span style=\"background-color: white; display: inline-block;\">ideo_</span> <span style=\"background-color: white; display: inline-block;\">quinque_</span> <span style=\"background-color: white; display: inline-block;\">feminas_</span> <span style=\"background-color: white; display: inline-block;\">desiderat_</span> <span style=\"background-color: white; display: inline-block;\">._</span> <span style=\"background-color: yellow; display: inline-block;\">[SEP]</span></p>"
      ],
      "text/plain": [
       "<IPython.core.display.HTML object>"
      ]
     },
     "metadata": {},
     "output_type": "display_data"
    },
    {
     "data": {
      "text/html": [
       "<p><b style=\"text-decoration: line-through;;\">positive</b> -> <span style=\"background-color: white; display: inline-block;\">[CLS]</span> <span style=\"background-color: white; display: inline-block;\">atque_</span> <span style=\"background-color: white; display: inline-block;\">audit</span> <span style=\"background-color: white; display: inline-block;\">avi_</span> <span style=\"background-color: white; display: inline-block;\">saepe_</span> <span style=\"background-color: white; display: inline-block;\">hoc_</span> <span style=\"background-color: white; display: inline-block;\">volg</span> <span style=\"background-color: white; display: inline-block;\">o_</span> <span style=\"background-color: white; display: inline-block;\">dici</span> <span style=\"background-color: white; display: inline-block;\">er_</span> <span style=\"background-color: white; display: inline-block;\">,_</span> <span style=\"background-color: white; display: inline-block;\">solere_</span> <span style=\"background-color: white; display: inline-block;\">elephant</span> <span style=\"background-color: white; display: inline-block;\">um_</span> <span style=\"background-color: white; display: inline-block;\">gravida</span> <span style=\"background-color: white; display: inline-block;\">m_</span> <span style=\"background-color: white; display: inline-block;\">perpetu</span> <span style=\"background-color: white; display: inline-block;\">os_</span> <span style=\"background-color: white; display: inline-block;\">decem_</span> <span style=\"background-color: white; display: inline-block;\">esse_</span> <span style=\"background-color: white; display: inline-block;\">annos_</span> <span style=\"background-color: white; display: inline-block;\">eius_</span> <span style=\"background-color: white; display: inline-block;\">ex_</span> <span style=\"background-color: white; display: inline-block;\">s</span> <span style=\"background-color: white; display: inline-block;\">é</span> <span style=\"background-color: white; display: inline-block;\">mine_</span> <span style=\"background-color: white; display: inline-block;\">haec_</span> <span style=\"background-color: white; display: inline-block;\">cert</span> <span style=\"background-color: white; display: inline-block;\">ost</span> <span style=\"background-color: white; display: inline-block;\">_</span> <span style=\"background-color: white; display: inline-block;\">est_</span> <span style=\"background-color: white; display: inline-block;\">fames_</span> <span style=\"background-color: white; display: inline-block;\">,_</span> <span style=\"background-color: white; display: inline-block;\">nam_</span> <span style=\"background-color: white; display: inline-block;\">iam_</span> <span style=\"background-color: white; display: inline-block;\">complures_</span> <span style=\"background-color: white; display: inline-block;\">annos_</span> <span style=\"background-color: #ffdf00; display: inline-block;\">utero_</span> <span style=\"background-color: white; display: inline-block;\">haeret</span> <span style=\"background-color: white; display: inline-block;\">_</span> <span style=\"background-color: white; display: inline-block;\">meo_</span> <span style=\"background-color: white; display: inline-block;\">._</span> <span style=\"background-color: white; display: inline-block;\">[SEP]</span></p>"
      ],
      "text/plain": [
       "<IPython.core.display.HTML object>"
      ]
     },
     "metadata": {},
     "output_type": "display_data"
    },
    {
     "data": {
      "text/html": [
       "<p><b style=\"text-decoration: line-through;;\">positive</b> -> <span style=\"background-color: white; display: inline-block;\">[CLS]</span> <span style=\"background-color: white; display: inline-block;\">pessu</span> <span style=\"background-color: white; display: inline-block;\">s_</span> <span style=\"background-color: white; display: inline-block;\">mala</span> <span style=\"background-color: white; display: inline-block;\">cti</span> <span style=\"background-color: white; display: inline-block;\">cus_</span> <span style=\"background-color: white; display: inline-block;\">,_</span> <span style=\"background-color: white; display: inline-block;\">id_</span> <span style=\"background-color: white; display: inline-block;\">est_</span> <span style=\"background-color: white; display: inline-block;\">mollit</span> <span style=\"background-color: white; display: inline-block;\">orius</span> <span style=\"background-color: white; display: inline-block;\">_</span> <span style=\"background-color: white; display: inline-block;\">,_</span> <span style=\"background-color: white; display: inline-block;\">ad_</span> <span style=\"background-color: white; display: inline-block;\">reso</span> <span style=\"background-color: white; display: inline-block;\">luen</span> <span style=\"background-color: white; display: inline-block;\">das_</span> <span style=\"background-color: #ffdf00; display: inline-block;\">matri</span> <span style=\"background-color: white; display: inline-block;\">cis_</span> <span style=\"background-color: white; display: inline-block;\">duritia</span> <span style=\"background-color: white; display: inline-block;\">s_</span> <span style=\"background-color: white; display: inline-block;\">siue_</span> <span style=\"background-color: yellow; display: inline-block;\">strict</span> <span style=\"background-color: white; display: inline-block;\">uras_</span> <span style=\"background-color: white; display: inline-block;\">._</span> <span style=\"background-color: white; display: inline-block;\">[SEP]</span></p>"
      ],
      "text/plain": [
       "<IPython.core.display.HTML object>"
      ]
     },
     "metadata": {},
     "output_type": "display_data"
    },
    {
     "data": {
      "text/html": [
       "<p><b style=\"text-decoration: line-through;;\">negative</b> -> <span style=\"background-color: white; display: inline-block;\">[CLS]</span> <span style=\"background-color: white; display: inline-block;\">me_</span> <span style=\"background-color: white; display: inline-block;\">liberti</span> <span style=\"background-color: white; display: inline-block;\">na_</span> <span style=\"background-color: white; display: inline-block;\">,_</span> <span style=\"background-color: white; display: inline-block;\">nec_</span> <span style=\"background-color: white; display: inline-block;\">uno_</span> <span style=\"background-color: white; display: inline-block;\">contenta_</span> <span style=\"background-color: white; display: inline-block;\">,_</span> <span style=\"background-color: #ffdf00; display: inline-block;\">phry</span> <span style=\"background-color: white; display: inline-block;\">ne_</span> <span style=\"background-color: white; display: inline-block;\">macer</span> <span style=\"background-color: white; display: inline-block;\">at_</span> <span style=\"background-color: white; display: inline-block;\">._</span> <span style=\"background-color: yellow; display: inline-block;\">[SEP]</span></p>"
      ],
      "text/plain": [
       "<IPython.core.display.HTML object>"
      ]
     },
     "metadata": {},
     "output_type": "display_data"
    },
    {
     "data": {
      "text/html": [
       "<p><b style=\"text-decoration: line-through;;\">positive</b> -> <span style=\"background-color: white; display: inline-block;\">[CLS]</span> <span style=\"background-color: white; display: inline-block;\">cur_</span> <span style=\"background-color: white; display: inline-block;\">non_</span> <span style=\"background-color: white; display: inline-block;\">,_</span> <span style=\"background-color: white; display: inline-block;\">quia_</span> <span style=\"background-color: white; display: inline-block;\">belli</span> <span style=\"background-color: white; display: inline-block;\">ssima_</span> <span style=\"background-color: white; display: inline-block;\">occasio_</span> <span style=\"background-color: white; display: inline-block;\">est_</span> <span style=\"background-color: white; display: inline-block;\">,_</span> <span style=\"background-color: yellow; display: inline-block;\">devi</span> <span style=\"background-color: white; display: inline-block;\">rgi</span> <span style=\"background-color: white; display: inline-block;\">natur_</span> <span style=\"background-color: white; display: inline-block;\">pann</span> <span style=\"background-color: white; display: inline-block;\">ych</span> <span style=\"background-color: white; display: inline-block;\">is_</span> <span style=\"background-color: white; display: inline-block;\">nostra_</span> <span style=\"background-color: white; display: inline-block;\">?_</span> <span style=\"background-color: white; display: inline-block;\">[SEP]</span></p>"
      ],
      "text/plain": [
       "<IPython.core.display.HTML object>"
      ]
     },
     "metadata": {},
     "output_type": "display_data"
    },
    {
     "data": {
      "text/html": [
       "<p><b style=\"text-decoration: line-through;;\">positive</b> -> <span style=\"background-color: white; display: inline-block;\">[CLS]</span> <span style=\"background-color: white; display: inline-block;\">nai</span> <span style=\"background-color: white; display: inline-block;\">das_</span> <span style=\"background-color: white; display: inline-block;\">antiqui_</span> <span style=\"background-color: white; display: inline-block;\">dr</span> <span style=\"background-color: white; display: inline-block;\">ya</span> <span style=\"background-color: white; display: inline-block;\">das</span> <span style=\"background-color: white; display: inline-block;\">que_</span> <span style=\"background-color: white; display: inline-block;\">-_</span> <span style=\"background-color: white; display: inline-block;\">que_</span> <span style=\"background-color: white; display: inline-block;\">habue</span> <span style=\"background-color: white; display: inline-block;\">re_</span> <span style=\"background-color: white; display: inline-block;\">pria</span> <span style=\"background-color: white; display: inline-block;\">pi_</span> <span style=\"background-color: white; display: inline-block;\">,_</span> <span style=\"background-color: white; display: inline-block;\">et_</span> <span style=\"background-color: white; display: inline-block;\">quo_</span> <span style=\"background-color: white; display: inline-block;\">tenta</span> <span style=\"background-color: white; display: inline-block;\">_</span> <span style=\"background-color: white; display: inline-block;\">dei_</span> <span style=\"background-color: yellow; display: inline-block;\">uen</span> <span style=\"background-color: white; display: inline-block;\">a_</span> <span style=\"background-color: white; display: inline-block;\">subi</span> <span style=\"background-color: white; display: inline-block;\">ret_</span> <span style=\"background-color: white; display: inline-block;\">,_</span> <span style=\"background-color: white; display: inline-block;\">erat_</span> <span style=\"background-color: white; display: inline-block;\">._</span> <span style=\"background-color: white; display: inline-block;\">[SEP]</span></p>"
      ],
      "text/plain": [
       "<IPython.core.display.HTML object>"
      ]
     },
     "metadata": {},
     "output_type": "display_data"
    },
    {
     "data": {
      "text/html": [
       "<p><b style=\"text-decoration: line-through;;\">positive</b> -> <span style=\"background-color: white; display: inline-block;\">[CLS]</span> <span style=\"background-color: white; display: inline-block;\">proinde_</span> <span style=\"background-color: white; display: inline-block;\">ex_</span> <span style=\"background-color: white; display: inline-block;\">eo_</span> <span style=\"background-color: white; display: inline-block;\">insulta</span> <span style=\"background-color: white; display: inline-block;\">turum_</span> <span style=\"background-color: white; display: inline-block;\">omnium_</span> <span style=\"background-color: white; display: inline-block;\">capitibus_</span> <span style=\"background-color: white; display: inline-block;\">ac_</span> <span style=\"background-color: white; display: inline-block;\">negant</span> <span style=\"background-color: white; display: inline-block;\">e_</span> <span style=\"background-color: white; display: inline-block;\">quodam_</span> <span style=\"background-color: white; display: inline-block;\">per_</span> <span style=\"background-color: white; display: inline-block;\">contumeliam_</span> <span style=\"background-color: white; display: inline-block;\">facile_</span> <span style=\"background-color: white; display: inline-block;\">hoc_</span> <span style=\"background-color: white; display: inline-block;\">ulli_</span> <span style=\"background-color: white; display: inline-block;\">feminae_</span> <span style=\"background-color: white; display: inline-block;\">fore_</span> <span style=\"background-color: white; display: inline-block;\">[SEP]</span></p>"
      ],
      "text/plain": [
       "<IPython.core.display.HTML object>"
      ]
     },
     "metadata": {},
     "output_type": "display_data"
    },
    {
     "data": {
      "text/html": [
       "<p><b style=\"text-decoration: line-through;;\">positive</b> -> <span style=\"background-color: white; display: inline-block;\">[CLS]</span> <span style=\"background-color: white; display: inline-block;\">si_</span> <span style=\"background-color: white; display: inline-block;\">vir_</span> <span style=\"background-color: white; display: inline-block;\">fueris_</span> <span style=\"background-color: white; display: inline-block;\">,_</span> <span style=\"background-color: white; display: inline-block;\">non_</span> <span style=\"background-color: white; display: inline-block;\">ibi</span> <span style=\"background-color: white; display: inline-block;\">s_</span> <span style=\"background-color: white; display: inline-block;\">ad_</span> <span style=\"background-color: white; display: inline-block;\">spin</span> <span style=\"background-color: #ffdf00; display: inline-block;\">tria</span> <span style=\"background-color: yellow; display: inline-block;\">m_</span> <span style=\"background-color: white; display: inline-block;\">._</span> <span style=\"background-color: white; display: inline-block;\">[SEP]</span></p>"
      ],
      "text/plain": [
       "<IPython.core.display.HTML object>"
      ]
     },
     "metadata": {},
     "output_type": "display_data"
    },
    {
     "data": {
      "text/html": [
       "<p><b style=\"text-decoration: line-through;;\">positive</b> -> <span style=\"background-color: white; display: inline-block;\">[CLS]</span> <span style=\"background-color: white; display: inline-block;\">frigidu</span> <span style=\"background-color: white; display: inline-block;\">s_</span> <span style=\"background-color: white; display: inline-block;\">in_</span> <span style=\"background-color: #ffbf00; display: inline-block;\">venerem_</span> <span style=\"background-color: yellow; display: inline-block;\">senior_</span> <span style=\"background-color: white; display: inline-block;\">[SEP]</span></p>"
      ],
      "text/plain": [
       "<IPython.core.display.HTML object>"
      ]
     },
     "metadata": {},
     "output_type": "display_data"
    },
    {
     "data": {
      "text/html": [
       "<p><b style=\"text-decoration: line-through;;\">positive</b> -> <span style=\"background-color: white; display: inline-block;\">[CLS]</span> <span style=\"background-color: white; display: inline-block;\">quoi</span> <span style=\"background-color: white; display: inline-block;\">us_</span> <span style=\"background-color: white; display: inline-block;\">nullum_</span> <span style=\"background-color: white; display: inline-block;\">membrum_</span> <span style=\"background-color: white; display: inline-block;\">a_</span> <span style=\"background-color: white; display: inline-block;\">flagitio</span> <span style=\"background-color: white; display: inline-block;\">_</span> <span style=\"background-color: white; display: inline-block;\">aut_</span> <span style=\"background-color: white; display: inline-block;\">facinor</span> <span style=\"background-color: white; display: inline-block;\">e_</span> <span style=\"background-color: white; display: inline-block;\">vacat_</span> <span style=\"background-color: white; display: inline-block;\">,_</span> <span style=\"background-color: white; display: inline-block;\">lingua_</span> <span style=\"background-color: white; display: inline-block;\">vana_</span> <span style=\"background-color: white; display: inline-block;\">,_</span> <span style=\"background-color: white; display: inline-block;\">manus_</span> <span style=\"background-color: white; display: inline-block;\">cruenta</span> <span style=\"background-color: white; display: inline-block;\">e_</span> <span style=\"background-color: white; display: inline-block;\">,_</span> <span style=\"background-color: yellow; display: inline-block;\">pedes_</span> <span style=\"background-color: white; display: inline-block;\">fuga</span> <span style=\"background-color: white; display: inline-block;\">ces_</span> <span style=\"background-color: white; display: inline-block;\">quae_</span> <span style=\"background-color: white; display: inline-block;\">honeste_</span> <span style=\"background-color: white; display: inline-block;\">nomina</span> <span style=\"background-color: white; display: inline-block;\">ri_</span> <span style=\"background-color: white; display: inline-block;\">nequeunt_</span> <span style=\"background-color: white; display: inline-block;\">inhon</span> <span style=\"background-color: white; display: inline-block;\">esti</span> <span style=\"background-color: white; display: inline-block;\">ssima_</span> <span style=\"background-color: white; display: inline-block;\">._</span> <span style=\"background-color: white; display: inline-block;\">[SEP]</span></p>"
      ],
      "text/plain": [
       "<IPython.core.display.HTML object>"
      ]
     },
     "metadata": {},
     "output_type": "display_data"
    },
    {
     "data": {
      "text/html": [
       "<p><b style=\"text-decoration: line-through;;\">positive</b> -> <span style=\"background-color: white; display: inline-block;\">[CLS]</span> <span style=\"background-color: white; display: inline-block;\">hoc_</span> <span style=\"background-color: white; display: inline-block;\">dolet_</span> <span style=\"background-color: white; display: inline-block;\">et_</span> <span style=\"background-color: white; display: inline-block;\">queritur_</span> <span style=\"background-color: white; display: inline-block;\">de_</span> <span style=\"background-color: white; display: inline-block;\">me_</span> <span style=\"background-color: white; display: inline-block;\">mea_</span> <span style=\"background-color: yellow; display: inline-block;\">ment</span> <span style=\"background-color: white; display: inline-block;\">ula_</span> <span style=\"background-color: white; display: inline-block;\">secu</span> <span style=\"background-color: white; display: inline-block;\">m_</span> <span style=\"background-color: white; display: inline-block;\">-_</span> <span style=\"background-color: white; display: inline-block;\">cum_</span> <span style=\"background-color: white; display: inline-block;\">laudatu</span> <span style=\"background-color: white; display: inline-block;\">rqu</span> <span style=\"background-color: white; display: inline-block;\">e_</span> <span style=\"background-color: white; display: inline-block;\">-_</span> <span style=\"background-color: white; display: inline-block;\">que_</span> <span style=\"background-color: white; display: inline-block;\">meam_</span> <span style=\"background-color: white; display: inline-block;\">phoeb</span> <span style=\"background-color: white; display: inline-block;\">us_</span> <span style=\"background-color: white; display: inline-block;\">in_</span> <span style=\"background-color: white; display: inline-block;\">invidiam_</span> <span style=\"background-color: white; display: inline-block;\">._</span> <span style=\"background-color: white; display: inline-block;\">[SEP]</span></p>"
      ],
      "text/plain": [
       "<IPython.core.display.HTML object>"
      ]
     },
     "metadata": {},
     "output_type": "display_data"
    },
    {
     "data": {
      "text/html": [
       "<p><b style=\"text-decoration: line-through;;\">positive</b> -> <span style=\"background-color: white; display: inline-block;\">[CLS]</span> <span style=\"background-color: white; display: inline-block;\">dicam_</span> <span style=\"background-color: white; display: inline-block;\">simpliciter_</span> <span style=\"background-color: white; display: inline-block;\">tibi_</span> <span style=\"background-color: white; display: inline-block;\">rogant</span> <span style=\"background-color: white; display: inline-block;\">i_</span> <span style=\"background-color: white; display: inline-block;\">:_</span> <span style=\"background-color: yellow; display: inline-block;\">pedi</span> <span style=\"background-color: white; display: inline-block;\">cant_</span> <span style=\"background-color: white; display: inline-block;\">,_</span> <span style=\"background-color: white; display: inline-block;\">philo</span> <span style=\"background-color: white; display: inline-block;\">muse</span> <span style=\"background-color: white; display: inline-block;\">_</span> <span style=\"background-color: white; display: inline-block;\">,_</span> <span style=\"background-color: white; display: inline-block;\">curios</span> <span style=\"background-color: white; display: inline-block;\">os_</span> <span style=\"background-color: white; display: inline-block;\">._</span> <span style=\"background-color: yellow; display: inline-block;\">[SEP]</span></p>"
      ],
      "text/plain": [
       "<IPython.core.display.HTML object>"
      ]
     },
     "metadata": {},
     "output_type": "display_data"
    },
    {
     "data": {
      "text/html": [
       "<p><b style=\"text-decoration: line-through;;\">positive</b> -> <span style=\"background-color: white; display: inline-block;\">[CLS]</span> <span style=\"background-color: white; display: inline-block;\">homo_</span> <span style=\"background-color: white; display: inline-block;\">se_</span> <span style=\"background-color: white; display: inline-block;\">fatetur_</span> <span style=\"background-color: yellow; display: inline-block;\">vi_</span> <span style=\"background-color: white; display: inline-block;\">in_</span> <span style=\"background-color: white; display: inline-block;\">via_</span> <span style=\"background-color: white; display: inline-block;\">nescio_</span> <span style=\"background-color: white; display: inline-block;\">quam_</span> <span style=\"background-color: yellow; display: inline-block;\">compress</span> <span style=\"background-color: white; display: inline-block;\">isse_</span> <span style=\"background-color: yellow; display: inline-block;\">[SEP]</span></p>"
      ],
      "text/plain": [
       "<IPython.core.display.HTML object>"
      ]
     },
     "metadata": {},
     "output_type": "display_data"
    },
    {
     "data": {
      "text/html": [
       "<p><b style=\"text-decoration: line-through;;\">positive</b> -> <span style=\"background-color: white; display: inline-block;\">[CLS]</span> <span style=\"background-color: white; display: inline-block;\">,_</span> <span style=\"background-color: white; display: inline-block;\">auer</span> <span style=\"background-color: white; display: inline-block;\">sus_</span> <span style=\"background-color: white; display: inline-block;\">omnes_</span> <span style=\"background-color: white; display: inline-block;\">admiss</span> <span style=\"background-color: white; display: inline-block;\">arii_</span> <span style=\"background-color: white; display: inline-block;\">sui_</span> <span style=\"background-color: white; display: inline-block;\">motus_</span> <span style=\"background-color: white; display: inline-block;\">in_</span> <span style=\"background-color: white; display: inline-block;\">specul</span> <span style=\"background-color: white; display: inline-block;\">o_</span> <span style=\"background-color: white; display: inline-block;\">uidere</span> <span style=\"background-color: white; display: inline-block;\">t_</span> <span style=\"background-color: white; display: inline-block;\">[SEP]</span></p>"
      ],
      "text/plain": [
       "<IPython.core.display.HTML object>"
      ]
     },
     "metadata": {},
     "output_type": "display_data"
    },
    {
     "data": {
      "text/html": [
       "<p><b style=\"text-decoration: line-through;;\">positive</b> -> <span style=\"background-color: white; display: inline-block;\">[CLS]</span> <span style=\"background-color: white; display: inline-block;\">nam_</span> <span style=\"background-color: white; display: inline-block;\">si_</span> <span style=\"background-color: white; display: inline-block;\">te_</span> <span style=\"background-color: white; display: inline-block;\">vel_</span> <span style=\"background-color: white; display: inline-block;\">modic</span> <span style=\"background-color: white; display: inline-block;\">e_</span> <span style=\"background-color: white; display: inline-block;\">meus_</span> <span style=\"background-color: white; display: inline-block;\">igni</span> <span style=\"background-color: white; display: inline-block;\">culus_</span> <span style=\"background-color: white; display: inline-block;\">affl</span> <span style=\"background-color: white; display: inline-block;\">averit</span> <span style=\"background-color: white; display: inline-block;\">_</span> <span style=\"background-color: white; display: inline-block;\">,_</span> <span style=\"background-color: white; display: inline-block;\">ure</span> <span style=\"background-color: white; display: inline-block;\">ris_</span> <span style=\"background-color: white; display: inline-block;\">intim</span> <span style=\"background-color: white; display: inline-block;\">e_</span> <span style=\"background-color: white; display: inline-block;\">nec_</span> <span style=\"background-color: white; display: inline-block;\">ullus_</span> <span style=\"background-color: white; display: inline-block;\">extingu</span> <span style=\"background-color: white; display: inline-block;\">et_</span> <span style=\"background-color: white; display: inline-block;\">ardor</span> <span style=\"background-color: white; display: inline-block;\">em_</span> <span style=\"background-color: white; display: inline-block;\">tuum_</span> <span style=\"background-color: white; display: inline-block;\">nisi_</span> <span style=\"background-color: white; display: inline-block;\">ego_</span> <span style=\"background-color: white; display: inline-block;\">,_</span> <span style=\"background-color: white; display: inline-block;\">quae_</span> <span style=\"background-color: white; display: inline-block;\">dulce_</span> <span style=\"background-color: white; display: inline-block;\">condi</span> <span style=\"background-color: white; display: inline-block;\">ens_</span> <span style=\"background-color: white; display: inline-block;\">et_</span> <span style=\"background-color: white; display: inline-block;\">olla</span> <span style=\"background-color: white; display: inline-block;\">m_</span> <span style=\"background-color: white; display: inline-block;\">et_</span> <span style=\"background-color: white; display: inline-block;\">lectul</span> <span style=\"background-color: white; display: inline-block;\">um_</span> <span style=\"background-color: white; display: inline-block;\">sua</span> <span style=\"background-color: white; display: inline-block;\">ve_</span> <span style=\"background-color: white; display: inline-block;\">quat</span> <span style=\"background-color: white; display: inline-block;\">ere_</span> <span style=\"background-color: white; display: inline-block;\">novi_</span> <span style=\"background-color: white; display: inline-block;\">,_</span> <span style=\"background-color: white; display: inline-block;\">[SEP]</span></p>"
      ],
      "text/plain": [
       "<IPython.core.display.HTML object>"
      ]
     },
     "metadata": {},
     "output_type": "display_data"
    },
    {
     "data": {
      "text/html": [
       "<p><b style=\"text-decoration: line-through;;\">positive</b> -> <span style=\"background-color: white; display: inline-block;\">[CLS]</span> <span style=\"background-color: white; display: inline-block;\">nobis_</span> <span style=\"background-color: white; display: inline-block;\">tamen_</span> <span style=\"background-color: white; display: inline-block;\">hoc_</span> <span style=\"background-color: white; display: inline-block;\">tam_</span> <span style=\"background-color: white; display: inline-block;\">nobili_</span> <span style=\"background-color: white; display: inline-block;\">feminae_</span> <span style=\"background-color: white; display: inline-block;\">huius_</span> <span style=\"background-color: white; display: inline-block;\">exemplo_</span> <span style=\"background-color: white; display: inline-block;\">ad_</span> <span style=\"background-color: white; display: inline-block;\">istos_</span> <span style=\"background-color: white; display: inline-block;\">refuta</span> <span style=\"background-color: white; display: inline-block;\">ndos_</span> <span style=\"background-color: white; display: inline-block;\">,_</span> <span style=\"background-color: white; display: inline-block;\">qui_</span> <span style=\"background-color: white; display: inline-block;\">christianis_</span> <span style=\"background-color: white; display: inline-block;\">feminis_</span> <span style=\"background-color: white; display: inline-block;\">in_</span> <span style=\"background-color: white; display: inline-block;\">captiu</span> <span style=\"background-color: white; display: inline-block;\">itate_</span> <span style=\"background-color: white; display: inline-block;\">conpre</span> <span style=\"background-color: white; display: inline-block;\">ssis_</span> <span style=\"background-color: white; display: inline-block;\">alieni_</span> <span style=\"background-color: white; display: inline-block;\">ab_</span> <span style=\"background-color: white; display: inline-block;\">omni_</span> <span style=\"background-color: white; display: inline-block;\">cogitation</span> <span style=\"background-color: white; display: inline-block;\">e_</span> <span style=\"background-color: white; display: inline-block;\">sanctitatis_</span> <span style=\"background-color: white; display: inline-block;\">insulta</span> <span style=\"background-color: white; display: inline-block;\">nt_</span> <span style=\"background-color: white; display: inline-block;\">,_</span> <span style=\"background-color: white; display: inline-block;\">sufficit_</span> <span style=\"background-color: white; display: inline-block;\">quod_</span> <span style=\"background-color: white; display: inline-block;\">in_</span> <span style=\"background-color: white; display: inline-block;\">praeclari</span> <span style=\"background-color: white; display: inline-block;\">s_</span> <span style=\"background-color: white; display: inline-block;\">eius_</span> <span style=\"background-color: white; display: inline-block;\">laudibus_</span> <span style=\"background-color: white; display: inline-block;\">dictum_</span> <span style=\"background-color: white; display: inline-block;\">est_</span> <span style=\"background-color: white; display: inline-block;\">[SEP]</span></p>"
      ],
      "text/plain": [
       "<IPython.core.display.HTML object>"
      ]
     },
     "metadata": {},
     "output_type": "display_data"
    },
    {
     "data": {
      "text/html": [
       "<p><b style=\"text-decoration: line-through;;\">positive</b> -> <span style=\"background-color: white; display: inline-block;\">[CLS]</span> <span style=\"background-color: white; display: inline-block;\">non_</span> <span style=\"background-color: white; display: inline-block;\">vultus_</span> <span style=\"background-color: white; display: inline-block;\">texi</span> <span style=\"background-color: white; display: inline-block;\">sse_</span> <span style=\"background-color: white; display: inline-block;\">suos_</span> <span style=\"background-color: white; display: inline-block;\">,_</span> <span style=\"background-color: white; display: inline-block;\">non_</span> <span style=\"background-color: white; display: inline-block;\">denique_</span> <span style=\"background-color: white; display: inline-block;\">possunt_</span> <span style=\"background-color: white; display: inline-block;\">partibus_</span> <span style=\"background-color: yellow; display: inline-block;\">obsc</span> <span style=\"background-color: white; display: inline-block;\">enis_</span> <span style=\"background-color: white; display: inline-block;\">oppos</span> <span style=\"background-color: white; display: inline-block;\">uisse_</span> <span style=\"background-color: white; display: inline-block;\">manus_</span> <span style=\"background-color: white; display: inline-block;\">._</span> <span style=\"background-color: white; display: inline-block;\">[SEP]</span></p>"
      ],
      "text/plain": [
       "<IPython.core.display.HTML object>"
      ]
     },
     "metadata": {},
     "output_type": "display_data"
    },
    {
     "data": {
      "text/html": [
       "<p><b style=\"text-decoration: line-through;;\">positive</b> -> <span style=\"background-color: white; display: inline-block;\">[CLS]</span> <span style=\"background-color: white; display: inline-block;\">post_</span> <span style=\"background-color: white; display: inline-block;\">si_</span> <span style=\"background-color: white; display: inline-block;\">quis_</span> <span style=\"background-color: white; display: inline-block;\">vellet_</span> <span style=\"background-color: white; display: inline-block;\">,_</span> <span style=\"background-color: white; display: inline-block;\">te_</span> <span style=\"background-color: white; display: inline-block;\">haud_</span> <span style=\"background-color: white; display: inline-block;\">non_</span> <span style=\"background-color: white; display: inline-block;\">velle</span> <span style=\"background-color: white; display: inline-block;\">s_</span> <span style=\"background-color: white; display: inline-block;\">dividi_</span> <span style=\"background-color: white; display: inline-block;\">._</span> <span style=\"background-color: #ffdf00; display: inline-block;\">[SEP]</span></p>"
      ],
      "text/plain": [
       "<IPython.core.display.HTML object>"
      ]
     },
     "metadata": {},
     "output_type": "display_data"
    },
    {
     "data": {
      "text/html": [
       "<p><b style=\"text-decoration: line-through;;\">positive</b> -> <span style=\"background-color: white; display: inline-block;\">[CLS]</span> <span style=\"background-color: white; display: inline-block;\">invis</span> <span style=\"background-color: white; display: inline-block;\">a_</span> <span style=\"background-color: white; display: inline-block;\">proles_</span> <span style=\"background-color: white; display: inline-block;\">:_</span> <span style=\"background-color: white; display: inline-block;\">sed_</span> <span style=\"background-color: white; display: inline-block;\">tamen_</span> <span style=\"background-color: white; display: inline-block;\">peior</span> <span style=\"background-color: white; display: inline-block;\">_</span> <span style=\"background-color: white; display: inline-block;\">parens_</span> <span style=\"background-color: white; display: inline-block;\">quam_</span> <span style=\"background-color: white; display: inline-block;\">gnat</span> <span style=\"background-color: white; display: inline-block;\">us_</span> <span style=\"background-color: white; display: inline-block;\">,_</span> <span style=\"background-color: #ffdf00; display: inline-block;\">utero_</span> <span style=\"background-color: white; display: inline-block;\">rursus_</span> <span style=\"background-color: white; display: inline-block;\">infa</span> <span style=\"background-color: white; display: inline-block;\">ust</span> <span style=\"background-color: white; display: inline-block;\">o_</span> <span style=\"background-color: white; display: inline-block;\">gravis_</span> <span style=\"background-color: white; display: inline-block;\">._</span> <span style=\"background-color: white; display: inline-block;\">[SEP]</span></p>"
      ],
      "text/plain": [
       "<IPython.core.display.HTML object>"
      ]
     },
     "metadata": {},
     "output_type": "display_data"
    },
    {
     "data": {
      "text/html": [
       "<p><b style=\"text-decoration: line-through;;\">positive</b> -> <span style=\"background-color: white; display: inline-block;\">[CLS]</span> <span style=\"background-color: white; display: inline-block;\">si_</span> <span style=\"background-color: white; display: inline-block;\">eca</span> <span style=\"background-color: white; display: inline-block;\">stor_</span> <span style=\"background-color: white; display: inline-block;\">nunc_</span> <span style=\"background-color: white; display: inline-block;\">habeas_</span> <span style=\"background-color: white; display: inline-block;\">quod_</span> <span style=\"background-color: white; display: inline-block;\">des_</span> <span style=\"background-color: white; display: inline-block;\">,_</span> <span style=\"background-color: white; display: inline-block;\">alia_</span> <span style=\"background-color: white; display: inline-block;\">verba_</span> <span style=\"background-color: white; display: inline-block;\">prae</span> <span style=\"background-color: white; display: inline-block;\">hibe</span> <span style=\"background-color: white; display: inline-block;\">as_</span> <span style=\"background-color: white; display: inline-block;\">nunc_</span> <span style=\"background-color: white; display: inline-block;\">quia_</span> <span style=\"background-color: white; display: inline-block;\">nihil_</span> <span style=\"background-color: white; display: inline-block;\">habes_</span> <span style=\"background-color: white; display: inline-block;\">,_</span> <span style=\"background-color: white; display: inline-block;\">maledict</span> <span style=\"background-color: white; display: inline-block;\">is_</span> <span style=\"background-color: white; display: inline-block;\">te_</span> <span style=\"background-color: yellow; display: inline-block;\">eam_</span> <span style=\"background-color: white; display: inline-block;\">duct</span> <span style=\"background-color: white; display: inline-block;\">are_</span> <span style=\"background-color: white; display: inline-block;\">postula</span> <span style=\"background-color: white; display: inline-block;\">s_</span> <span style=\"background-color: white; display: inline-block;\">._</span> <span style=\"background-color: white; display: inline-block;\">[SEP]</span></p>"
      ],
      "text/plain": [
       "<IPython.core.display.HTML object>"
      ]
     },
     "metadata": {},
     "output_type": "display_data"
    },
    {
     "data": {
      "text/html": [
       "<p><b style=\"text-decoration: line-through;;\">positive</b> -> <span style=\"background-color: white; display: inline-block;\">[CLS]</span> <span style=\"background-color: white; display: inline-block;\">ut_</span> <span style=\"background-color: white; display: inline-block;\">mi_</span> <span style=\"background-color: white; display: inline-block;\">extra_</span> <span style=\"background-color: white; display: inline-block;\">unum_</span> <span style=\"background-color: white; display: inline-block;\">te_</span> <span style=\"background-color: white; display: inline-block;\">mortalis_</span> <span style=\"background-color: white; display: inline-block;\">nemo_</span> <span style=\"background-color: white; display: inline-block;\">corpus_</span> <span style=\"background-color: white; display: inline-block;\">corpore_</span> <span style=\"background-color: white; display: inline-block;\">contigit_</span> <span style=\"background-color: white; display: inline-block;\">,_</span> <span style=\"background-color: white; display: inline-block;\">quo_</span> <span style=\"background-color: white; display: inline-block;\">me_</span> <span style=\"background-color: #ffdf00; display: inline-block;\">impudic</span> <span style=\"background-color: white; display: inline-block;\">am_</span> <span style=\"background-color: white; display: inline-block;\">faceret_</span> <span style=\"background-color: white; display: inline-block;\">._</span> <span style=\"background-color: yellow; display: inline-block;\">[SEP]</span></p>"
      ],
      "text/plain": [
       "<IPython.core.display.HTML object>"
      ]
     },
     "metadata": {},
     "output_type": "display_data"
    },
    {
     "data": {
      "text/html": [
       "<p><b style=\"text-decoration: line-through;;\">positive</b> -> <span style=\"background-color: white; display: inline-block;\">[CLS]</span> <span style=\"background-color: white; display: inline-block;\">iam</span> <span style=\"background-color: white; display: inline-block;\">que_</span> <span style=\"background-color: white; display: inline-block;\">-_</span> <span style=\"background-color: white; display: inline-block;\">que_</span> <span style=\"background-color: white; display: inline-block;\">fere_</span> <span style=\"background-color: white; display: inline-block;\">spatio_</span> <span style=\"background-color: white; display: inline-block;\">extremo_</span> <span style=\"background-color: white; display: inline-block;\">fessi</span> <span style=\"background-color: white; display: inline-block;\">que_</span> <span style=\"background-color: white; display: inline-block;\">-_</span> <span style=\"background-color: white; display: inline-block;\">que_</span> <span style=\"background-color: white; display: inline-block;\">sub_</span> <span style=\"background-color: white; display: inline-block;\">ipsam_</span> <span style=\"background-color: white; display: inline-block;\">finem_</span> <span style=\"background-color: white; display: inline-block;\">advent</span> <span style=\"background-color: white; display: inline-block;\">abant_</span> <span style=\"background-color: white; display: inline-block;\">:_</span> <span style=\"background-color: white; display: inline-block;\">tum_</span> <span style=\"background-color: white; display: inline-block;\">cre</span> <span style=\"background-color: white; display: inline-block;\">ber_</span> <span style=\"background-color: white; display: inline-block;\">anh</span> <span style=\"background-color: white; display: inline-block;\">eli</span> <span style=\"background-color: white; display: inline-block;\">tus_</span> <span style=\"background-color: white; display: inline-block;\">artus_</span> <span style=\"background-color: white; display: inline-block;\">arid</span> <span style=\"background-color: white; display: inline-block;\">aque</span> <span style=\"background-color: white; display: inline-block;\">_</span> <span style=\"background-color: white; display: inline-block;\">-_</span> <span style=\"background-color: white; display: inline-block;\">que_</span> <span style=\"background-color: white; display: inline-block;\">ora_</span> <span style=\"background-color: white; display: inline-block;\">quati</span> <span style=\"background-color: white; display: inline-block;\">t_</span> <span style=\"background-color: white; display: inline-block;\">,_</span> <span style=\"background-color: white; display: inline-block;\">sudo</span> <span style=\"background-color: white; display: inline-block;\">r_</span> <span style=\"background-color: white; display: inline-block;\">fluit_</span> <span style=\"background-color: white; display: inline-block;\">undique_</span> <span style=\"background-color: white; display: inline-block;\">rivi</span> <span style=\"background-color: white; display: inline-block;\">s_</span> <span style=\"background-color: white; display: inline-block;\">,_</span> <span style=\"background-color: white; display: inline-block;\">labit</span> <span style=\"background-color: white; display: inline-block;\">ur_</span> <span style=\"background-color: white; display: inline-block;\">exa</span> <span style=\"background-color: white; display: inline-block;\">ngui</span> <span style=\"background-color: white; display: inline-block;\">s_</span> <span style=\"background-color: white; display: inline-block;\">,_</span> <span style=\"background-color: white; display: inline-block;\">desti</span> <span style=\"background-color: white; display: inline-block;\">llat</span> <span style=\"background-color: white; display: inline-block;\">_</span> <span style=\"background-color: white; display: inline-block;\">ab_</span> <span style=\"background-color: #ffdf00; display: inline-block;\">ingu</span> <span style=\"background-color: white; display: inline-block;\">ine_</span> <span style=\"background-color: white; display: inline-block;\">viru</span> <span style=\"background-color: white; display: inline-block;\">s_</span> <span style=\"background-color: white; display: inline-block;\">._</span> <span style=\"background-color: white; display: inline-block;\">[SEP]</span></p>"
      ],
      "text/plain": [
       "<IPython.core.display.HTML object>"
      ]
     },
     "metadata": {},
     "output_type": "display_data"
    },
    {
     "data": {
      "text/html": [
       "<p><b style=\"text-decoration: line-through;;\">negative</b> -> <span style=\"background-color: white; display: inline-block;\">[CLS]</span> <span style=\"background-color: white; display: inline-block;\">specta</span> <span style=\"background-color: white; display: inline-block;\">s_</span> <span style=\"background-color: white; display: inline-block;\">me_</span> <span style=\"background-color: white; display: inline-block;\">tamen_</span> <span style=\"background-color: white; display: inline-block;\">et_</span> <span style=\"background-color: white; display: inline-block;\">subinde_</span> <span style=\"background-color: white; display: inline-block;\">ride</span> <span style=\"background-color: white; display: inline-block;\">s_</span> <span style=\"background-color: white; display: inline-block;\">:_</span> <span style=\"background-color: white; display: inline-block;\">nimirum_</span> <span style=\"background-color: white; display: inline-block;\">tibi_</span> <span style=\"background-color: white; display: inline-block;\">sals</span> <span style=\"background-color: white; display: inline-block;\">a_</span> <span style=\"background-color: white; display: inline-block;\">res_</span> <span style=\"background-color: white; display: inline-block;\">uidetur_</span> <span style=\"background-color: white; display: inline-block;\">adsta</span> <span style=\"background-color: white; display: inline-block;\">ns_</span> <span style=\"background-color: #ffbf00; display: inline-block;\">ingu</span> <span style=\"background-color: white; display: inline-block;\">inibus_</span> <span style=\"background-color: white; display: inline-block;\">columna_</span> <span style=\"background-color: white; display: inline-block;\">nostris_</span> <span style=\"background-color: white; display: inline-block;\">._</span> <span style=\"background-color: white; display: inline-block;\">[SEP]</span></p>"
      ],
      "text/plain": [
       "<IPython.core.display.HTML object>"
      ]
     },
     "metadata": {},
     "output_type": "display_data"
    },
    {
     "data": {
      "text/html": [
       "<p><b style=\"text-decoration: line-through;;\">positive</b> -> <span style=\"background-color: white; display: inline-block;\">[CLS]</span> <span style=\"background-color: white; display: inline-block;\">inli</span> <span style=\"background-color: white; display: inline-block;\">tter</span> <span style=\"background-color: white; display: inline-block;\">ati_</span> <span style=\"background-color: white; display: inline-block;\">num_</span> <span style=\"background-color: white; display: inline-block;\">minus_</span> <span style=\"background-color: white; display: inline-block;\">nervi</span> <span style=\"background-color: white; display: inline-block;\">_</span> <span style=\"background-color: white; display: inline-block;\">rige</span> <span style=\"background-color: white; display: inline-block;\">nt_</span> <span style=\"background-color: white; display: inline-block;\">minu</span> <span style=\"background-color: white; display: inline-block;\">sv</span> <span style=\"background-color: white; display: inline-block;\">e_</span> <span style=\"background-color: white; display: inline-block;\">-_</span> <span style=\"background-color: white; display: inline-block;\">ve_</span> <span style=\"background-color: white; display: inline-block;\">langue</span> <span style=\"background-color: white; display: inline-block;\">t_</span> <span style=\"background-color: white; display: inline-block;\">fasci</span> <span style=\"background-color: white; display: inline-block;\">num_</span> <span style=\"background-color: white; display: inline-block;\">?_</span> <span style=\"background-color: white; display: inline-block;\">[SEP]</span></p>"
      ],
      "text/plain": [
       "<IPython.core.display.HTML object>"
      ]
     },
     "metadata": {},
     "output_type": "display_data"
    },
    {
     "data": {
      "text/html": [
       "<p><b style=\"text-decoration: line-through;;\">positive</b> -> <span style=\"background-color: white; display: inline-block;\">[CLS]</span> <span style=\"background-color: white; display: inline-block;\">est_</span> <span style=\"background-color: white; display: inline-block;\">enim_</span> <span style=\"background-color: white; display: inline-block;\">grave_</span> <span style=\"background-color: white; display: inline-block;\">nec_</span> <span style=\"background-color: white; display: inline-block;\">facile_</span> <span style=\"background-color: white; display: inline-block;\">fell</span> <span style=\"background-color: white; display: inline-block;\">atibus_</span> <span style=\"background-color: white; display: inline-block;\">exitum_</span> <span style=\"background-color: white; display: inline-block;\">pre</span> <span style=\"background-color: white; display: inline-block;\">ben</span> <span style=\"background-color: white; display: inline-block;\">s_</span> <span style=\"background-color: white; display: inline-block;\">,_</span> <span style=\"background-color: white; display: inline-block;\">gras</span> <span style=\"background-color: white; display: inline-block;\">sit</span> <span style=\"background-color: white; display: inline-block;\">udin</span> <span style=\"background-color: white; display: inline-block;\">e_</span> <span style=\"background-color: white; display: inline-block;\">sui_</span> <span style=\"background-color: white; display: inline-block;\">tarda</span> <span style=\"background-color: white; display: inline-block;\">tum_</span> <span style=\"background-color: white; display: inline-block;\">,_</span> <span style=\"background-color: white; display: inline-block;\">et_</span> <span style=\"background-color: white; display: inline-block;\">propterea_</span> <span style=\"background-color: white; display: inline-block;\">mox_</span> <span style=\"background-color: white; display: inline-block;\">natis_</span> <span style=\"background-color: white; display: inline-block;\">infanti</span> <span style=\"background-color: white; display: inline-block;\">bus_</span> <span style=\"background-color: white; display: inline-block;\">teneri</span> <span style=\"background-color: white; display: inline-block;\">tudin</span> <span style=\"background-color: white; display: inline-block;\">e_</span> <span style=\"background-color: yellow; display: inline-block;\">gin</span> <span style=\"background-color: white; display: inline-block;\">giv</span> <span style=\"background-color: white; display: inline-block;\">arum_</span> <span style=\"background-color: white; display: inline-block;\">obstante</span> <span style=\"background-color: white; display: inline-block;\">_</span> <span style=\"background-color: white; display: inline-block;\">minime_</span> <span style=\"background-color: white; display: inline-block;\">rapi</span> <span style=\"background-color: white; display: inline-block;\">_</span> <span style=\"background-color: white; display: inline-block;\">posse_</span> <span style=\"background-color: white; display: inline-block;\">perspici</span> <span style=\"background-color: white; display: inline-block;\">tur_</span> <span style=\"background-color: white; display: inline-block;\">._</span> <span style=\"background-color: white; display: inline-block;\">[SEP]</span></p>"
      ],
      "text/plain": [
       "<IPython.core.display.HTML object>"
      ]
     },
     "metadata": {},
     "output_type": "display_data"
    },
    {
     "data": {
      "text/html": [
       "<p><b style=\"text-decoration: line-through;;\">positive</b> -> <span style=\"background-color: white; display: inline-block;\">[CLS]</span> <span style=\"background-color: white; display: inline-block;\">namque_</span> <span style=\"background-color: white; display: inline-block;\">totius_</span> <span style=\"background-color: white; display: inline-block;\">vobis_</span> <span style=\"background-color: yellow; display: inline-block;\">frontem_</span> <span style=\"background-color: white; display: inline-block;\">taberna</span> <span style=\"background-color: white; display: inline-block;\">e_</span> <span style=\"background-color: yellow; display: inline-block;\">sopi</span> <span style=\"background-color: white; display: inline-block;\">onibus_</span> <span style=\"background-color: white; display: inline-block;\">scriba</span> <span style=\"background-color: white; display: inline-block;\">m_</span> <span style=\"background-color: white; display: inline-block;\">._</span> <span style=\"background-color: white; display: inline-block;\">[SEP]</span></p>"
      ],
      "text/plain": [
       "<IPython.core.display.HTML object>"
      ]
     },
     "metadata": {},
     "output_type": "display_data"
    },
    {
     "data": {
      "text/html": [
       "<p><b style=\"text-decoration: line-through;;\">positive</b> -> <span style=\"background-color: white; display: inline-block;\">[CLS]</span> <span style=\"background-color: white; display: inline-block;\">sed_</span> <span style=\"background-color: yellow; display: inline-block;\">pae</span> <span style=\"background-color: white; display: inline-block;\">lice</span> <span style=\"background-color: white; display: inline-block;\">_</span> <span style=\"background-color: white; display: inline-block;\">laeva</span> <span style=\"background-color: white; display: inline-block;\">_</span> <span style=\"background-color: white; display: inline-block;\">uteri</span> <span style=\"background-color: white; display: inline-block;\">s_</span> <span style=\"background-color: white; display: inline-block;\">et_</span> <span style=\"background-color: white; display: inline-block;\">veneri</span> <span style=\"background-color: white; display: inline-block;\">_</span> <span style=\"background-color: white; display: inline-block;\">servit_</span> <span style=\"background-color: white; display: inline-block;\">amica_</span> <span style=\"background-color: white; display: inline-block;\">manus_</span> <span style=\"background-color: white; display: inline-block;\">,_</span> <span style=\"background-color: white; display: inline-block;\">[SEP]</span></p>"
      ],
      "text/plain": [
       "<IPython.core.display.HTML object>"
      ]
     },
     "metadata": {},
     "output_type": "display_data"
    },
    {
     "data": {
      "text/html": [
       "<p><b style=\"text-decoration: line-through;;\">positive</b> -> <span style=\"background-color: white; display: inline-block;\">[CLS]</span> <span style=\"background-color: white; display: inline-block;\">et_</span> <span style=\"background-color: white; display: inline-block;\">idcirco_</span> <span style=\"background-color: white; display: inline-block;\">consult</span> <span style=\"background-color: white; display: inline-block;\">e_</span> <span style=\"background-color: white; display: inline-block;\">et_</span> <span style=\"background-color: white; display: inline-block;\">ç</span> <span style=\"background-color: white; display: inline-block;\">um_</span> <span style=\"background-color: white; display: inline-block;\">uig</span> <span style=\"background-color: white; display: inline-block;\">ore_</span> <span style=\"background-color: white; display: inline-block;\">fecisti_</span> <span style=\"background-color: white; display: inline-block;\">,_</span> <span style=\"background-color: white; display: inline-block;\">frater_</span> <span style=\"background-color: white; display: inline-block;\">carissim</span> <span style=\"background-color: white; display: inline-block;\">e_</span> <span style=\"background-color: white; display: inline-block;\">,_</span> <span style=\"background-color: white; display: inline-block;\">abstinen</span> <span style=\"background-color: white; display: inline-block;\">do_</span> <span style=\"background-color: white; display: inline-block;\">diacon</span> <span style=\"background-color: white; display: inline-block;\">um_</span> <span style=\"background-color: white; display: inline-block;\">qui_</span> <span style=\"background-color: white; display: inline-block;\">cum_</span> <span style=\"background-color: white; display: inline-block;\">uirgin</span> <span style=\"background-color: white; display: inline-block;\">e_</span> <span style=\"background-color: white; display: inline-block;\">saepe_</span> <span style=\"background-color: white; display: inline-block;\">mansit_</span> <span style=\"background-color: white; display: inline-block;\">,_</span> <span style=\"background-color: white; display: inline-block;\">[SEP]</span></p>"
      ],
      "text/plain": [
       "<IPython.core.display.HTML object>"
      ]
     },
     "metadata": {},
     "output_type": "display_data"
    },
    {
     "data": {
      "text/html": [
       "<p><b style=\"text-decoration: line-through;;\">positive</b> -> <span style=\"background-color: white; display: inline-block;\">[CLS]</span> <span style=\"background-color: white; display: inline-block;\">cum_</span> <span style=\"background-color: white; display: inline-block;\">dabit_</span> <span style=\"background-color: white; display: inline-block;\">uxori_</span> <span style=\"background-color: yellow; display: inline-block;\">molit</span> <span style=\"background-color: white; display: inline-block;\">or_</span> <span style=\"background-color: white; display: inline-block;\">tuus_</span> <span style=\"background-color: white; display: inline-block;\">et_</span> <span style=\"background-color: white; display: inline-block;\">tibi_</span> <span style=\"background-color: yellow; display: inline-block;\">adulter</span> <span style=\"background-color: white; display: inline-block;\">_</span> <span style=\"background-color: white; display: inline-block;\">[SEP]</span></p>"
      ],
      "text/plain": [
       "<IPython.core.display.HTML object>"
      ]
     },
     "metadata": {},
     "output_type": "display_data"
    },
    {
     "data": {
      "text/html": [
       "<p><b style=\"text-decoration: line-through;;\">positive</b> -> <span style=\"background-color: white; display: inline-block;\">[CLS]</span> <span style=\"background-color: white; display: inline-block;\">illud_</span> <span style=\"background-color: white; display: inline-block;\">me_</span> <span style=\"background-color: white; display: inline-block;\">crucia</span> <span style=\"background-color: white; display: inline-block;\">t_</span> <span style=\"background-color: white; display: inline-block;\">,_</span> <span style=\"background-color: white; display: inline-block;\">sol</span> <span style=\"background-color: white; display: inline-block;\">ymi</span> <span style=\"background-color: white; display: inline-block;\">s_</span> <span style=\"background-color: white; display: inline-block;\">quod_</span> <span style=\"background-color: white; display: inline-block;\">natus_</span> <span style=\"background-color: white; display: inline-block;\">in_</span> <span style=\"background-color: white; display: inline-block;\">ipsis_</span> <span style=\"background-color: yellow; display: inline-block;\">pedi</span> <span style=\"background-color: white; display: inline-block;\">cas_</span> <span style=\"background-color: white; display: inline-block;\">puerum_</span> <span style=\"background-color: white; display: inline-block;\">,_</span> <span style=\"background-color: white; display: inline-block;\">ver</span> <span style=\"background-color: white; display: inline-block;\">pe_</span> <span style=\"background-color: white; display: inline-block;\">poeta_</span> <span style=\"background-color: white; display: inline-block;\">,_</span> <span style=\"background-color: white; display: inline-block;\">meum_</span> <span style=\"background-color: white; display: inline-block;\">._</span> <span style=\"background-color: white; display: inline-block;\">[SEP]</span></p>"
      ],
      "text/plain": [
       "<IPython.core.display.HTML object>"
      ]
     },
     "metadata": {},
     "output_type": "display_data"
    },
    {
     "data": {
      "text/html": [
       "<p><b style=\"text-decoration: line-through;;\">positive</b> -> <span style=\"background-color: white; display: inline-block;\">[CLS]</span> <span style=\"background-color: white; display: inline-block;\">o_</span> <span style=\"background-color: white; display: inline-block;\">quotiens_</span> <span style=\"background-color: white; display: inline-block;\">rigid</span> <span style=\"background-color: white; display: inline-block;\">a_</span> <span style=\"background-color: white; display: inline-block;\">pulsa</span> <span style=\"background-color: white; display: inline-block;\">bis_</span> <span style=\"background-color: yellow; display: inline-block;\">palli</span> <span style=\"background-color: white; display: inline-block;\">a_</span> <span style=\"background-color: white; display: inline-block;\">vena</span> <span style=\"background-color: white; display: inline-block;\">_</span> <span style=\"background-color: white; display: inline-block;\">,_</span> <span style=\"background-color: white; display: inline-block;\">sis_</span> <span style=\"background-color: white; display: inline-block;\">gravior_</span> <span style=\"background-color: white; display: inline-block;\">curio</span> <span style=\"background-color: white; display: inline-block;\">_</span> <span style=\"background-color: white; display: inline-block;\">fabrici</span> <span style=\"background-color: white; display: inline-block;\">oqu</span> <span style=\"background-color: white; display: inline-block;\">e_</span> <span style=\"background-color: white; display: inline-block;\">-_</span> <span style=\"background-color: white; display: inline-block;\">que_</span> <span style=\"background-color: white; display: inline-block;\">licet_</span> <span style=\"background-color: white; display: inline-block;\">!_</span> <span style=\"background-color: white; display: inline-block;\">[SEP]</span></p>"
      ],
      "text/plain": [
       "<IPython.core.display.HTML object>"
      ]
     },
     "metadata": {},
     "output_type": "display_data"
    },
    {
     "data": {
      "text/html": [
       "<p><b style=\"text-decoration: line-through;;\">positive</b> -> <span style=\"background-color: white; display: inline-block;\">[CLS]</span> <span style=\"background-color: white; display: inline-block;\">erunt_</span> <span style=\"background-color: white; display: inline-block;\">praeterea_</span> <span style=\"background-color: white; display: inline-block;\">praec</span> <span style=\"background-color: white; display: inline-block;\">aue</span> <span style=\"background-color: white; display: inline-block;\">nda_</span> <span style=\"background-color: white; display: inline-block;\">magis_</span> <span style=\"background-color: white; display: inline-block;\">,_</span> <span style=\"background-color: white; display: inline-block;\">quae_</span> <span style=\"background-color: white; display: inline-block;\">passionem_</span> <span style=\"background-color: white; display: inline-block;\">uale</span> <span style=\"background-color: white; display: inline-block;\">ant_</span> <span style=\"background-color: white; display: inline-block;\">ref</span> <span style=\"background-color: white; display: inline-block;\">rica</span> <span style=\"background-color: white; display: inline-block;\">re_</span> <span style=\"background-color: white; display: inline-block;\">,_</span> <span style=\"background-color: white; display: inline-block;\">ut_</span> <span style=\"background-color: white; display: inline-block;\">frigus_</span> <span style=\"background-color: white; display: inline-block;\">,_</span> <span style=\"background-color: white; display: inline-block;\">indige</span> <span style=\"background-color: white; display: inline-block;\">stio_</span> <span style=\"background-color: white; display: inline-block;\">,_</span> <span style=\"background-color: white; display: inline-block;\">libido_</span> <span style=\"background-color: white; display: inline-block;\">,_</span> <span style=\"background-color: white; display: inline-block;\">uel_</span> <span style=\"background-color: white; display: inline-block;\">quae_</span> <span style=\"background-color: white; display: inline-block;\">infl</span> <span style=\"background-color: white; display: inline-block;\">are_</span> <span style=\"background-color: white; display: inline-block;\">uale</span> <span style=\"background-color: white; display: inline-block;\">ant_</span> <span style=\"background-color: white; display: inline-block;\">,_</span> <span style=\"background-color: white; display: inline-block;\">cum_</span> <span style=\"background-color: white; display: inline-block;\">sumunt</span> <span style=\"background-color: white; display: inline-block;\">ur_</span> <span style=\"background-color: white; display: inline-block;\">,_</span> <span style=\"background-color: white; display: inline-block;\">item_</span> <span style=\"background-color: white; display: inline-block;\">frigida_</span> <span style=\"background-color: white; display: inline-block;\">plurim</span> <span style=\"background-color: white; display: inline-block;\">o_</span> <span style=\"background-color: white; display: inline-block;\">scilicet_</span> <span style=\"background-color: white; display: inline-block;\">tempore_</span> <span style=\"background-color: white; display: inline-block;\">._</span> <span style=\"background-color: white; display: inline-block;\">[SEP]</span></p>"
      ],
      "text/plain": [
       "<IPython.core.display.HTML object>"
      ]
     },
     "metadata": {},
     "output_type": "display_data"
    },
    {
     "data": {
      "text/html": [
       "<p><b style=\"text-decoration: line-through;;\">positive</b> -> <span style=\"background-color: white; display: inline-block;\">[CLS]</span> <span style=\"background-color: white; display: inline-block;\">cona</span> <span style=\"background-color: white; display: inline-block;\">ntem_</span> <span style=\"background-color: white; display: inline-block;\">plurima_</span> <span style=\"background-color: white; display: inline-block;\">frustra_</span> <span style=\"background-color: white; display: inline-block;\">occupat_</span> <span style=\"background-color: white; display: inline-block;\">os_</span> <span style=\"background-color: white; display: inline-block;\">facie</span> <span style=\"background-color: white; display: inline-block;\">mque_</span> <span style=\"background-color: white; display: inline-block;\">-_</span> <span style=\"background-color: white; display: inline-block;\">que_</span> <span style=\"background-color: white; display: inline-block;\">,_</span> <span style=\"background-color: white; display: inline-block;\">pedem_</span> <span style=\"background-color: white; display: inline-block;\">pede_</span> <span style=\"background-color: white; display: inline-block;\">fervi</span> <span style=\"background-color: white; display: inline-block;\">dus_</span> <span style=\"background-color: white; display: inline-block;\">urget_</span> <span style=\"background-color: white; display: inline-block;\">,_</span> <span style=\"background-color: white; display: inline-block;\">perfid</span> <span style=\"background-color: white; display: inline-block;\">us_</span> <span style=\"background-color: white; display: inline-block;\">alta_</span> <span style=\"background-color: white; display: inline-block;\">peten</span> <span style=\"background-color: white; display: inline-block;\">s_</span> <span style=\"background-color: white; display: inline-block;\">:_</span> <span style=\"background-color: white; display: inline-block;\">[SEP]</span></p>"
      ],
      "text/plain": [
       "<IPython.core.display.HTML object>"
      ]
     },
     "metadata": {},
     "output_type": "display_data"
    },
    {
     "data": {
      "text/html": [
       "<p><b style=\"text-decoration: line-through;;\">positive</b> -> <span style=\"background-color: white; display: inline-block;\">[CLS]</span> <span style=\"background-color: white; display: inline-block;\">utc</span> <span style=\"background-color: white; display: inline-block;\">un</span> <span style=\"background-color: white; display: inline-block;\">que_</span> <span style=\"background-color: white; display: inline-block;\">igitur_</span> <span style=\"background-color: white; display: inline-block;\">inter_</span> <span style=\"background-color: white; display: inline-block;\">anh</span> <span style=\"background-color: white; display: inline-block;\">eli</span> <span style=\"background-color: white; display: inline-block;\">tus_</span> <span style=\"background-color: white; display: inline-block;\">sudore</span> <span style=\"background-color: white; display: inline-block;\">sque_</span> <span style=\"background-color: white; display: inline-block;\">-_</span> <span style=\"background-color: white; display: inline-block;\">que_</span> <span style=\"background-color: white; display: inline-block;\">tritu</span> <span style=\"background-color: white; display: inline-block;\">s_</span> <span style=\"background-color: white; display: inline-block;\">,_</span> <span style=\"background-color: white; display: inline-block;\">quod_</span> <span style=\"background-color: white; display: inline-block;\">volue</span> <span style=\"background-color: white; display: inline-block;\">rat_</span> <span style=\"background-color: white; display: inline-block;\">,_</span> <span style=\"background-color: white; display: inline-block;\">accepit_</span> <span style=\"background-color: white; display: inline-block;\">,_</span> <span style=\"background-color: white; display: inline-block;\">rur</span> <span style=\"background-color: white; display: inline-block;\">sus</span> <span style=\"background-color: white; display: inline-block;\">que_</span> <span style=\"background-color: white; display: inline-block;\">-_</span> <span style=\"background-color: white; display: inline-block;\">que_</span> <span style=\"background-color: white; display: inline-block;\">in_</span> <span style=\"background-color: white; display: inline-block;\">somnum_</span> <span style=\"background-color: white; display: inline-block;\">decidi</span> <span style=\"background-color: white; display: inline-block;\">_</span> <span style=\"background-color: white; display: inline-block;\">gaudio_</span> <span style=\"background-color: white; display: inline-block;\">lass</span> <span style=\"background-color: white; display: inline-block;\">us_</span> <span style=\"background-color: white; display: inline-block;\">._</span> <span style=\"background-color: yellow; display: inline-block;\">[SEP]</span></p>"
      ],
      "text/plain": [
       "<IPython.core.display.HTML object>"
      ]
     },
     "metadata": {},
     "output_type": "display_data"
    },
    {
     "data": {
      "text/html": [
       "<p><b style=\"text-decoration: line-through;;\">positive</b> -> <span style=\"background-color: white; display: inline-block;\">[CLS]</span> <span style=\"background-color: white; display: inline-block;\">qui_</span> <span style=\"background-color: white; display: inline-block;\">tantam_</span> <span style=\"background-color: white; display: inline-block;\">priores_</span> <span style=\"background-color: white; display: inline-block;\">iniuriam_</span> <span style=\"background-color: white; display: inline-block;\">fecerunt_</span> <span style=\"background-color: white; display: inline-block;\">in_</span> <span style=\"background-color: white; display: inline-block;\">eius_</span> <span style=\"background-color: yellow; display: inline-block;\">filia_</span> <span style=\"background-color: #ffbf00; display: inline-block;\">contamina</span> <span style=\"background-color: white; display: inline-block;\">nda_</span> <span style=\"background-color: white; display: inline-block;\">?_</span> <span style=\"background-color: white; display: inline-block;\">[SEP]</span></p>"
      ],
      "text/plain": [
       "<IPython.core.display.HTML object>"
      ]
     },
     "metadata": {},
     "output_type": "display_data"
    },
    {
     "data": {
      "text/html": [
       "<p><b style=\"text-decoration: line-through;;\">positive</b> -> <span style=\"background-color: white; display: inline-block;\">[CLS]</span> <span style=\"background-color: white; display: inline-block;\">tunc_</span> <span style=\"background-color: white; display: inline-block;\">ad_</span> <span style=\"background-color: white; display: inline-block;\">flu</span> <span style=\"background-color: white; display: inline-block;\">orem_</span> <span style=\"background-color: white; display: inline-block;\">lapsum_</span> <span style=\"background-color: white; display: inline-block;\">excipie</span> <span style=\"background-color: white; display: inline-block;\">ndum_</span> <span style=\"background-color: white; display: inline-block;\">spon</span> <span style=\"background-color: white; display: inline-block;\">gia_</span> <span style=\"background-color: white; display: inline-block;\">mollis</span> <span style=\"background-color: white; display: inline-block;\">_</span> <span style=\"background-color: white; display: inline-block;\">sive_</span> <span style=\"background-color: white; display: inline-block;\">lana_</span> <span style=\"background-color: white; display: inline-block;\">vel_</span> <span style=\"background-color: white; display: inline-block;\">latus_</span> <span style=\"background-color: white; display: inline-block;\">pann</span> <span style=\"background-color: white; display: inline-block;\">us_</span> <span style=\"background-color: white; display: inline-block;\">fibr</span> <span style=\"background-color: white; display: inline-block;\">is_</span> <span style=\"background-color: white; display: inline-block;\">impon</span> <span style=\"background-color: white; display: inline-block;\">antur_</span> <span style=\"background-color: white; display: inline-block;\">,_</span> <span style=\"background-color: white; display: inline-block;\">et_</span> <span style=\"background-color: white; display: inline-block;\">frequentiu</span> <span style=\"background-color: white; display: inline-block;\">s_</span> <span style=\"background-color: white; display: inline-block;\">commu</span> <span style=\"background-color: white; display: inline-block;\">tentur_</span> <span style=\"background-color: white; display: inline-block;\">._</span> <span style=\"background-color: white; display: inline-block;\">[SEP]</span></p>"
      ],
      "text/plain": [
       "<IPython.core.display.HTML object>"
      ]
     },
     "metadata": {},
     "output_type": "display_data"
    },
    {
     "data": {
      "text/html": [
       "<p><b style=\"text-decoration: line-through;;\">positive</b> -> <span style=\"background-color: white; display: inline-block;\">[CLS]</span> <span style=\"background-color: white; display: inline-block;\">ex_</span> <span style=\"background-color: white; display: inline-block;\">quibus_</span> <span style=\"background-color: white; display: inline-block;\">una_</span> <span style=\"background-color: white; display: inline-block;\">instanti_</span> <span style=\"background-color: white; display: inline-block;\">tig</span> <span style=\"background-color: white; display: inline-block;\">elli</span> <span style=\"background-color: white; display: inline-block;\">no_</span> <span style=\"background-color: white; display: inline-block;\">casti</span> <span style=\"background-color: white; display: inline-block;\">ora_</span> <span style=\"background-color: white; display: inline-block;\">esse_</span> <span style=\"background-color: white; display: inline-block;\">muliebri</span> <span style=\"background-color: white; display: inline-block;\">a_</span> <span style=\"background-color: white; display: inline-block;\">octavia</span> <span style=\"background-color: white; display: inline-block;\">e_</span> <span style=\"background-color: white; display: inline-block;\">respondit_</span> <span style=\"background-color: white; display: inline-block;\">quam_</span> <span style=\"background-color: #ffdf00; display: inline-block;\">os_</span> <span style=\"background-color: white; display: inline-block;\">eius_</span> <span style=\"background-color: white; display: inline-block;\">._</span> <span style=\"background-color: white; display: inline-block;\">[SEP]</span></p>"
      ],
      "text/plain": [
       "<IPython.core.display.HTML object>"
      ]
     },
     "metadata": {},
     "output_type": "display_data"
    },
    {
     "data": {
      "text/html": [
       "<p><b style=\"text-decoration: line-through;;\">positive</b> -> <span style=\"background-color: white; display: inline-block;\">[CLS]</span> <span style=\"background-color: white; display: inline-block;\">non_</span> <span style=\"background-color: white; display: inline-block;\">ad_</span> <span style=\"background-color: yellow; display: inline-block;\">corrupte</span> <span style=\"background-color: white; display: inline-block;\">lam_</span> <span style=\"background-color: white; display: inline-block;\">et_</span> <span style=\"background-color: yellow; display: inline-block;\">iniuriam_</span> <span style=\"background-color: white; display: inline-block;\">suam_</span> <span style=\"background-color: white; display: inline-block;\">desideria_</span> <span style=\"background-color: white; display: inline-block;\">praesentium_</span> <span style=\"background-color: white; display: inline-block;\">sollicita</span> <span style=\"background-color: white; display: inline-block;\">nt_</span> <span style=\"background-color: white; display: inline-block;\">et_</span> <span style=\"background-color: white; display: inline-block;\">inuit</span> <span style=\"background-color: white; display: inline-block;\">ant_</span> <span style=\"background-color: white; display: inline-block;\">?_</span> <span style=\"background-color: white; display: inline-block;\">[SEP]</span></p>"
      ],
      "text/plain": [
       "<IPython.core.display.HTML object>"
      ]
     },
     "metadata": {},
     "output_type": "display_data"
    },
    {
     "data": {
      "text/html": [
       "<p><b style=\"text-decoration: line-through;;\">positive</b> -> <span style=\"background-color: white; display: inline-block;\">[CLS]</span> <span style=\"background-color: white; display: inline-block;\">man</span> <span style=\"background-color: white; display: inline-block;\">gon</span> <span style=\"background-color: white; display: inline-block;\">um_</span> <span style=\"background-color: white; display: inline-block;\">pueros_</span> <span style=\"background-color: white; display: inline-block;\">vera_</span> <span style=\"background-color: white; display: inline-block;\">ac_</span> <span style=\"background-color: white; display: inline-block;\">miserabili</span> <span style=\"background-color: white; display: inline-block;\">s_</span> <span style=\"background-color: white; display: inline-block;\">urit</span> <span style=\"background-color: white; display: inline-block;\">_</span> <span style=\"background-color: white; display: inline-block;\">debili</span> <span style=\"background-color: white; display: inline-block;\">tas_</span> <span style=\"background-color: white; display: inline-block;\">,_</span> <span style=\"background-color: yellow; display: inline-block;\">foll</span> <span style=\"background-color: white; display: inline-block;\">isq</span> <span style=\"background-color: white; display: inline-block;\">ue_</span> <span style=\"background-color: white; display: inline-block;\">-_</span> <span style=\"background-color: white; display: inline-block;\">que_</span> <span style=\"background-color: white; display: inline-block;\">pudet_</span> <span style=\"background-color: white; display: inline-block;\">cicer</span> <span style=\"background-color: white; display: inline-block;\">isq</span> <span style=\"background-color: white; display: inline-block;\">ue_</span> <span style=\"background-color: white; display: inline-block;\">-_</span> <span style=\"background-color: white; display: inline-block;\">que_</span> <span style=\"background-color: white; display: inline-block;\">relict</span> <span style=\"background-color: white; display: inline-block;\">i_</span> <span style=\"background-color: white; display: inline-block;\">._</span> <span style=\"background-color: white; display: inline-block;\">[SEP]</span></p>"
      ],
      "text/plain": [
       "<IPython.core.display.HTML object>"
      ]
     },
     "metadata": {},
     "output_type": "display_data"
    },
    {
     "data": {
      "text/html": [
       "<p><b style=\"text-decoration: line-through;;\">positive</b> -> <span style=\"background-color: white; display: inline-block;\">[CLS]</span> <span style=\"background-color: yellow; display: inline-block;\">dormi</span> <span style=\"background-color: white; display: inline-block;\">at_</span> <span style=\"background-color: white; display: inline-block;\">ille_</span> <span style=\"background-color: #ffdf00; display: inline-block;\">cum_</span> <span style=\"background-color: #ffdf00; display: inline-block;\">[SEP]</span></p>"
      ],
      "text/plain": [
       "<IPython.core.display.HTML object>"
      ]
     },
     "metadata": {},
     "output_type": "display_data"
    },
    {
     "data": {
      "text/html": [
       "<p><b style=\"text-decoration: line-through;;\">positive</b> -> <span style=\"background-color: white; display: inline-block;\">[CLS]</span> <span style=\"background-color: yellow; display: inline-block;\">nulla_</span> <span style=\"background-color: white; display: inline-block;\">idcirco_</span> <span style=\"background-color: white; display: inline-block;\">ducit_</span> <span style=\"background-color: white; display: inline-block;\">maritum_</span> <span style=\"background-color: white; display: inline-block;\">,_</span> <span style=\"background-color: white; display: inline-block;\">ut_</span> <span style=\"background-color: white; display: inline-block;\">cum_</span> <span style=\"background-color: white; display: inline-block;\">maritum_</span> <span style=\"background-color: white; display: inline-block;\">non_</span> <span style=\"background-color: white; display: inline-block;\">dormi</span> <span style=\"background-color: white; display: inline-block;\">at_</span> <span style=\"background-color: white; display: inline-block;\">._</span> <span style=\"background-color: white; display: inline-block;\">[SEP]</span></p>"
      ],
      "text/plain": [
       "<IPython.core.display.HTML object>"
      ]
     },
     "metadata": {},
     "output_type": "display_data"
    },
    {
     "data": {
      "text/html": [
       "<p><b style=\"text-decoration: line-through;;\">positive</b> -> <span style=\"background-color: white; display: inline-block;\">[CLS]</span> <span style=\"background-color: white; display: inline-block;\">promitti</span> <span style=\"background-color: white; display: inline-block;\">s_</span> <span style=\"background-color: white; display: inline-block;\">ses</span> <span style=\"background-color: white; display: inline-block;\">centa</span> <span style=\"background-color: white; display: inline-block;\">_</span> <span style=\"background-color: white; display: inline-block;\">tamen_</span> <span style=\"background-color: white; display: inline-block;\">sed_</span> <span style=\"background-color: yellow; display: inline-block;\">ment</span> <span style=\"background-color: white; display: inline-block;\">ula_</span> <span style=\"background-color: white; display: inline-block;\">surd</span> <span style=\"background-color: white; display: inline-block;\">a_</span> <span style=\"background-color: white; display: inline-block;\">est_</span> <span style=\"background-color: white; display: inline-block;\">,_</span> <span style=\"background-color: white; display: inline-block;\">et_</span> <span style=\"background-color: white; display: inline-block;\">sit_</span> <span style=\"background-color: white; display: inline-block;\">lus</span> <span style=\"background-color: white; display: inline-block;\">ca_</span> <span style=\"background-color: white; display: inline-block;\">licet_</span> <span style=\"background-color: white; display: inline-block;\">,_</span> <span style=\"background-color: white; display: inline-block;\">te_</span> <span style=\"background-color: white; display: inline-block;\">tamen_</span> <span style=\"background-color: white; display: inline-block;\">illa_</span> <span style=\"background-color: white; display: inline-block;\">videt_</span> <span style=\"background-color: white; display: inline-block;\">._</span> <span style=\"background-color: white; display: inline-block;\">[SEP]</span></p>"
      ],
      "text/plain": [
       "<IPython.core.display.HTML object>"
      ]
     },
     "metadata": {},
     "output_type": "display_data"
    },
    {
     "data": {
      "text/html": [
       "<p><b style=\"text-decoration: line-through;;\">positive</b> -> <span style=\"background-color: white; display: inline-block;\">[CLS]</span> <span style=\"background-color: white; display: inline-block;\">sicca</span> <span style=\"background-color: white; display: inline-block;\">e_</span> <span style=\"background-color: white; display: inline-block;\">enim_</span> <span style=\"background-color: white; display: inline-block;\">fanum_</span> <span style=\"background-color: white; display: inline-block;\">est_</span> <span style=\"background-color: white; display: inline-block;\">veneris_</span> <span style=\"background-color: white; display: inline-block;\">,_</span> <span style=\"background-color: white; display: inline-block;\">in_</span> <span style=\"background-color: white; display: inline-block;\">quod_</span> <span style=\"background-color: white; display: inline-block;\">se_</span> <span style=\"background-color: white; display: inline-block;\">matrona</span> <span style=\"background-color: white; display: inline-block;\">e_</span> <span style=\"background-color: white; display: inline-block;\">confere</span> <span style=\"background-color: white; display: inline-block;\">bant_</span> <span style=\"background-color: white; display: inline-block;\">atque_</span> <span style=\"background-color: white; display: inline-block;\">inde_</span> <span style=\"background-color: white; display: inline-block;\">procedente</span> <span style=\"background-color: white; display: inline-block;\">s_</span> <span style=\"background-color: white; display: inline-block;\">ad_</span> <span style=\"background-color: white; display: inline-block;\">quaestu</span> <span style=\"background-color: white; display: inline-block;\">m_</span> <span style=\"background-color: white; display: inline-block;\">,_</span> <span style=\"background-color: white; display: inline-block;\">doti</span> <span style=\"background-color: white; display: inline-block;\">s_</span> <span style=\"background-color: white; display: inline-block;\">corporis_</span> <span style=\"background-color: white; display: inline-block;\">iniuria_</span> <span style=\"background-color: white; display: inline-block;\">contrahe</span> <span style=\"background-color: white; display: inline-block;\">bant_</span> <span style=\"background-color: white; display: inline-block;\">,_</span> <span style=\"background-color: white; display: inline-block;\">honesta_</span> <span style=\"background-color: white; display: inline-block;\">nimirum_</span> <span style=\"background-color: white; display: inline-block;\">tam_</span> <span style=\"background-color: white; display: inline-block;\">inhon</span> <span style=\"background-color: white; display: inline-block;\">esto_</span> <span style=\"background-color: white; display: inline-block;\">uinc</span> <span style=\"background-color: white; display: inline-block;\">ulo_</span> <span style=\"background-color: white; display: inline-block;\">coniugi</span> <span style=\"background-color: white; display: inline-block;\">a_</span> <span style=\"background-color: white; display: inline-block;\">iunct</span> <span style=\"background-color: white; display: inline-block;\">urae_</span> <span style=\"background-color: white; display: inline-block;\">._</span> <span style=\"background-color: white; display: inline-block;\">[SEP]</span></p>"
      ],
      "text/plain": [
       "<IPython.core.display.HTML object>"
      ]
     },
     "metadata": {},
     "output_type": "display_data"
    },
    {
     "data": {
      "text/html": [
       "<p><b style=\"text-decoration: line-through;;\">positive</b> -> <span style=\"background-color: white; display: inline-block;\">[CLS]</span> <span style=\"background-color: white; display: inline-block;\">uae_</span> <span style=\"background-color: white; display: inline-block;\">stri</span> <span style=\"background-color: white; display: inline-block;\">ges_</span> <span style=\"background-color: white; display: inline-block;\">comede</span> <span style=\"background-color: white; display: inline-block;\">runt_</span> <span style=\"background-color: white; display: inline-block;\">nervo</span> <span style=\"background-color: white; display: inline-block;\">s_</span> <span style=\"background-color: white; display: inline-block;\">tuos_</span> <span style=\"background-color: white; display: inline-block;\">,_</span> <span style=\"background-color: white; display: inline-block;\">aut_</span> <span style=\"background-color: white; display: inline-block;\">quod_</span> <span style=\"background-color: white; display: inline-block;\">purga</span> <span style=\"background-color: white; display: inline-block;\">mentum_</span> <span style=\"background-color: white; display: inline-block;\">in_</span> <span style=\"background-color: white; display: inline-block;\">nocte_</span> <span style=\"background-color: white; display: inline-block;\">calca</span> <span style=\"background-color: white; display: inline-block;\">sti_</span> <span style=\"background-color: white; display: inline-block;\">in_</span> <span style=\"background-color: white; display: inline-block;\">triv</span> <span style=\"background-color: white; display: inline-block;\">io_</span> <span style=\"background-color: white; display: inline-block;\">aut_</span> <span style=\"background-color: white; display: inline-block;\">cadaver_</span> <span style=\"background-color: white; display: inline-block;\">?_</span> <span style=\"background-color: white; display: inline-block;\">[SEP]</span></p>"
      ],
      "text/plain": [
       "<IPython.core.display.HTML object>"
      ]
     },
     "metadata": {},
     "output_type": "display_data"
    },
    {
     "data": {
      "text/html": [
       "<p><b style=\"text-decoration: line-through;;\">positive</b> -> <span style=\"background-color: white; display: inline-block;\">[CLS]</span> <span style=\"background-color: white; display: inline-block;\">ego_</span> <span style=\"background-color: white; display: inline-block;\">tuli</span> <span style=\"background-color: white; display: inline-block;\">_</span> <span style=\"background-color: white; display: inline-block;\">levita</span> <span style=\"background-color: white; display: inline-block;\">s_</span> <span style=\"background-color: white; display: inline-block;\">a_</span> <span style=\"background-color: white; display: inline-block;\">filiis_</span> <span style=\"background-color: white; display: inline-block;\">israhel_</span> <span style=\"background-color: white; display: inline-block;\">pro_</span> <span style=\"background-color: white; display: inline-block;\">omni_</span> <span style=\"background-color: white; display: inline-block;\">primogenit</span> <span style=\"background-color: white; display: inline-block;\">o_</span> <span style=\"background-color: white; display: inline-block;\">qui_</span> <span style=\"background-color: white; display: inline-block;\">aperit_</span> <span style=\"background-color: #ff7f00; display: inline-block;\">vul</span> <span style=\"background-color: yellow; display: inline-block;\">vam_</span> <span style=\"background-color: white; display: inline-block;\">in_</span> <span style=\"background-color: white; display: inline-block;\">filiis_</span> <span style=\"background-color: white; display: inline-block;\">israhel_</span> <span style=\"background-color: white; display: inline-block;\">erun</span> <span style=\"background-color: white; display: inline-block;\">tqu</span> <span style=\"background-color: white; display: inline-block;\">e_</span> <span style=\"background-color: white; display: inline-block;\">-_</span> <span style=\"background-color: white; display: inline-block;\">que_</span> <span style=\"background-color: white; display: inline-block;\">levita</span> <span style=\"background-color: white; display: inline-block;\">e_</span> <span style=\"background-color: white; display: inline-block;\">mei_</span> <span style=\"background-color: white; display: inline-block;\">._</span> <span style=\"background-color: white; display: inline-block;\">[SEP]</span></p>"
      ],
      "text/plain": [
       "<IPython.core.display.HTML object>"
      ]
     },
     "metadata": {},
     "output_type": "display_data"
    },
    {
     "data": {
      "text/html": [
       "<p><b style=\"text-decoration: line-through;;\">positive</b> -> <span style=\"background-color: white; display: inline-block;\">[CLS]</span> <span style=\"background-color: white; display: inline-block;\">passi</span> <span style=\"background-color: white; display: inline-block;\">enus_</span> <span style=\"background-color: white; display: inline-block;\">hanc_</span> <span style=\"background-color: white; display: inline-block;\">ultimam_</span> <span style=\"background-color: white; display: inline-block;\">partem_</span> <span style=\"background-color: white; display: inline-block;\">sic_</span> <span style=\"background-color: white; display: inline-block;\">diui</span> <span style=\"background-color: white; display: inline-block;\">debat</span> <span style=\"background-color: white; display: inline-block;\">_</span> <span style=\"background-color: white; display: inline-block;\">:_</span> <span style=\"background-color: white; display: inline-block;\">an_</span> <span style=\"background-color: white; display: inline-block;\">si_</span> <span style=\"background-color: white; display: inline-block;\">adulescens_</span> <span style=\"background-color: white; display: inline-block;\">malo_</span> <span style=\"background-color: white; display: inline-block;\">aduersus_</span> <span style=\"background-color: white; display: inline-block;\">puellam_</span> <span style=\"background-color: white; display: inline-block;\">animo_</span> <span style=\"background-color: white; display: inline-block;\">infi</span> <span style=\"background-color: white; display: inline-block;\">tiat</span> <span style=\"background-color: white; display: inline-block;\">us_</span> <span style=\"background-color: white; display: inline-block;\">est_</span> <span style=\"background-color: white; display: inline-block;\">raptu</span> <span style=\"background-color: white; display: inline-block;\">m_</span> <span style=\"background-color: white; display: inline-block;\">,_</span> <span style=\"background-color: white; display: inline-block;\">ut_</span> <span style=\"background-color: white; display: inline-block;\">nuptias_</span> <span style=\"background-color: white; display: inline-block;\">effuger</span> <span style=\"background-color: white; display: inline-block;\">et_</span> <span style=\"background-color: white; display: inline-block;\">,_</span> <span style=\"background-color: white; display: inline-block;\">dignus_</span> <span style=\"background-color: white; display: inline-block;\">sit_</span> <span style=\"background-color: white; display: inline-block;\">qui_</span> <span style=\"background-color: white; display: inline-block;\">iterum_</span> <span style=\"background-color: white; display: inline-block;\">fortunam_</span> <span style=\"background-color: white; display: inline-block;\">sube</span> <span style=\"background-color: white; display: inline-block;\">at_</span> <span style=\"background-color: white; display: inline-block;\">opti</span> <span style=\"background-color: white; display: inline-block;\">onis_</span> <span style=\"background-color: white; display: inline-block;\">recusa</span> <span style=\"background-color: white; display: inline-block;\">tae_</span> <span style=\"background-color: white; display: inline-block;\">._</span> <span style=\"background-color: white; display: inline-block;\">[SEP]</span></p>"
      ],
      "text/plain": [
       "<IPython.core.display.HTML object>"
      ]
     },
     "metadata": {},
     "output_type": "display_data"
    },
    {
     "data": {
      "text/html": [
       "<p><b style=\"text-decoration: line-through;;\">positive</b> -> <span style=\"background-color: white; display: inline-block;\">[CLS]</span> <span style=\"background-color: white; display: inline-block;\">phantasia</span> <span style=\"background-color: white; display: inline-block;\">_</span> <span style=\"background-color: white; display: inline-block;\">in_</span> <span style=\"background-color: white; display: inline-block;\">usum_</span> <span style=\"background-color: #ffdf00; display: inline-block;\">uener</span> <span style=\"background-color: white; display: inline-block;\">ium_</span> <span style=\"background-color: white; display: inline-block;\">prou</span> <span style=\"background-color: white; display: inline-block;\">oca</span> <span style=\"background-color: white; display: inline-block;\">nte_</span> <span style=\"background-color: white; display: inline-block;\">[SEP]</span></p>"
      ],
      "text/plain": [
       "<IPython.core.display.HTML object>"
      ]
     },
     "metadata": {},
     "output_type": "display_data"
    },
    {
     "data": {
      "text/html": [
       "<p><b style=\"text-decoration: line-through;;\">positive</b> -> <span style=\"background-color: white; display: inline-block;\">[CLS]</span> <span style=\"background-color: white; display: inline-block;\">cere</span> <span style=\"background-color: white; display: inline-block;\">s_</span> <span style=\"background-color: white; display: inline-block;\">faci</span> <span style=\"background-color: white; display: inline-block;\">bus_</span> <span style=\"background-color: white; display: inline-block;\">accens</span> <span style=\"background-color: white; display: inline-block;\">is_</span> <span style=\"background-color: white; display: inline-block;\">et_</span> <span style=\"background-color: white; display: inline-block;\">serpente</span> <span style=\"background-color: white; display: inline-block;\">_</span> <span style=\"background-color: white; display: inline-block;\">circumdat</span> <span style=\"background-color: white; display: inline-block;\">a_</span> <span style=\"background-color: white; display: inline-block;\">errore_</span> <span style=\"background-color: white; display: inline-block;\">subrep</span> <span style=\"background-color: white; display: inline-block;\">tam_</span> <span style=\"background-color: white; display: inline-block;\">et_</span> <span style=\"background-color: white; display: inline-block;\">corrupt</span> <span style=\"background-color: white; display: inline-block;\">am_</span> <span style=\"background-color: white; display: inline-block;\">liberam_</span> <span style=\"background-color: white; display: inline-block;\">anxi</span> <span style=\"background-color: white; display: inline-block;\">a_</span> <span style=\"background-color: white; display: inline-block;\">et_</span> <span style=\"background-color: white; display: inline-block;\">sollicita</span> <span style=\"background-color: white; display: inline-block;\">_</span> <span style=\"background-color: white; display: inline-block;\">uesti</span> <span style=\"background-color: white; display: inline-block;\">gat_</span> <span style=\"background-color: white; display: inline-block;\">:_</span> <span style=\"background-color: white; display: inline-block;\">haec_</span> <span style=\"background-color: white; display: inline-block;\">sunt_</span> <span style=\"background-color: white; display: inline-block;\">eleu</span> <span style=\"background-color: white; display: inline-block;\">sini</span> <span style=\"background-color: white; display: inline-block;\">a_</span> <span style=\"background-color: white; display: inline-block;\">._</span> <span style=\"background-color: white; display: inline-block;\">[SEP]</span></p>"
      ],
      "text/plain": [
       "<IPython.core.display.HTML object>"
      ]
     },
     "metadata": {},
     "output_type": "display_data"
    },
    {
     "data": {
      "text/html": [
       "<p><b style=\"text-decoration: line-through;;\">positive</b> -> <span style=\"background-color: white; display: inline-block;\">[CLS]</span> <span style=\"background-color: white; display: inline-block;\">scis_</span> <span style=\"background-color: white; display: inline-block;\">multos_</span> <span style=\"background-color: white; display: inline-block;\">dicere_</span> <span style=\"background-color: white; display: inline-block;\">multa_</span> <span style=\"background-color: white; display: inline-block;\">:_</span> <span style=\"background-color: white; display: inline-block;\">fac_</span> <span style=\"background-color: yellow; display: inline-block;\">pedi</span> <span style=\"background-color: white; display: inline-block;\">cari_</span> <span style=\"background-color: white; display: inline-block;\">te_</span> <span style=\"background-color: white; display: inline-block;\">,_</span> <span style=\"background-color: white; display: inline-block;\">chari</span> <span style=\"background-color: white; display: inline-block;\">deme</span> <span style=\"background-color: white; display: inline-block;\">_</span> <span style=\"background-color: white; display: inline-block;\">,_</span> <span style=\"background-color: white; display: inline-block;\">putent_</span> <span style=\"background-color: white; display: inline-block;\">._</span> <span style=\"background-color: yellow; display: inline-block;\">[SEP]</span></p>"
      ],
      "text/plain": [
       "<IPython.core.display.HTML object>"
      ]
     },
     "metadata": {},
     "output_type": "display_data"
    },
    {
     "data": {
      "text/html": [
       "<p><b style=\"text-decoration: line-through;;\">positive</b> -> <span style=\"background-color: white; display: inline-block;\">[CLS]</span> <span style=\"background-color: white; display: inline-block;\">tibi_</span> <span style=\"background-color: white; display: inline-block;\">uni_</span> <span style=\"background-color: white; display: inline-block;\">petere</span> <span style=\"background-color: white; display: inline-block;\">s_</span> <span style=\"background-color: white; display: inline-block;\">qui_</span> <span style=\"background-color: white; display: inline-block;\">ita_</span> <span style=\"background-color: white; display: inline-block;\">a_</span> <span style=\"background-color: white; display: inline-block;\">puero_</span> <span style=\"background-color: white; display: inline-block;\">vixer</span> <span style=\"background-color: white; display: inline-block;\">as_</span> <span style=\"background-color: white; display: inline-block;\">ut_</span> <span style=\"background-color: white; display: inline-block;\">omnia_</span> <span style=\"background-color: white; display: inline-block;\">patere</span> <span style=\"background-color: white; display: inline-block;\">re_</span> <span style=\"background-color: white; display: inline-block;\">,_</span> <span style=\"background-color: white; display: inline-block;\">ut_</span> <span style=\"background-color: white; display: inline-block;\">facile_</span> <span style=\"background-color: white; display: inline-block;\">servi</span> <span style=\"background-color: white; display: inline-block;\">res_</span> <span style=\"background-color: white; display: inline-block;\">[SEP]</span></p>"
      ],
      "text/plain": [
       "<IPython.core.display.HTML object>"
      ]
     },
     "metadata": {},
     "output_type": "display_data"
    },
    {
     "data": {
      "text/html": [
       "<p><b style=\"text-decoration: line-through;;\">positive</b> -> <span style=\"background-color: white; display: inline-block;\">[CLS]</span> <span style=\"background-color: white; display: inline-block;\">ecc</span> <span style=\"background-color: white; display: inline-block;\">ere_</span> <span style=\"background-color: white; display: inline-block;\">,_</span> <span style=\"background-color: white; display: inline-block;\">perii</span> <span style=\"background-color: white; display: inline-block;\">_</span> <span style=\"background-color: white; display: inline-block;\">misera_</span> <span style=\"background-color: white; display: inline-block;\">,_</span> <span style=\"background-color: white; display: inline-block;\">quam_</span> <span style=\"background-color: white; display: inline-block;\">tu_</span> <span style=\"background-color: white; display: inline-block;\">mihi_</span> <span style=\"background-color: white; display: inline-block;\">nunc_</span> <span style=\"background-color: white; display: inline-block;\">navem_</span> <span style=\"background-color: white; display: inline-block;\">narra</span> <span style=\"background-color: white; display: inline-block;\">s_</span> <span style=\"background-color: white; display: inline-block;\">?_</span> <span style=\"background-color: yellow; display: inline-block;\">[SEP]</span></p>"
      ],
      "text/plain": [
       "<IPython.core.display.HTML object>"
      ]
     },
     "metadata": {},
     "output_type": "display_data"
    },
    {
     "data": {
      "text/html": [
       "<p><b style=\"text-decoration: line-through;;\">positive</b> -> <span style=\"background-color: white; display: inline-block;\">[CLS]</span> <span style=\"background-color: white; display: inline-block;\">certo_</span> <span style=\"background-color: white; display: inline-block;\">e</span> <span style=\"background-color: white; display: inline-block;\">á</span> <span style=\"background-color: white; display: inline-block;\">st_</span> <span style=\"background-color: white; display: inline-block;\">est_</span> <span style=\"background-color: white; display: inline-block;\">quam_</span> <span style=\"background-color: white; display: inline-block;\">in_</span> <span style=\"background-color: white; display: inline-block;\">é</span> <span style=\"background-color: white; display: inline-block;\">pid</span> <span style=\"background-color: white; display: inline-block;\">auro_</span> <span style=\"background-color: white; display: inline-block;\">pau</span> <span style=\"background-color: white; display: inline-block;\">p</span> <span style=\"background-color: white; display: inline-block;\">ér</span> <span style=\"background-color: white; display: inline-block;\">culam_</span> <span style=\"background-color: white; display: inline-block;\">memini_</span> <span style=\"background-color: white; display: inline-block;\">c</span> <span style=\"background-color: white; display: inline-block;\">ó</span> <span style=\"background-color: white; display: inline-block;\">mpr</span> <span style=\"background-color: white; display: inline-block;\">ime</span> <span style=\"background-color: white; display: inline-block;\">re_</span> <span style=\"background-color: white; display: inline-block;\">._</span> <span style=\"background-color: yellow; display: inline-block;\">[SEP]</span></p>"
      ],
      "text/plain": [
       "<IPython.core.display.HTML object>"
      ]
     },
     "metadata": {},
     "output_type": "display_data"
    },
    {
     "data": {
      "text/html": [
       "<p><b style=\"text-decoration: line-through;;\">positive</b> -> <span style=\"background-color: white; display: inline-block;\">[CLS]</span> <span style=\"background-color: white; display: inline-block;\">omne_</span> <span style=\"background-color: white; display: inline-block;\">ulc</span> <span style=\"background-color: white; display: inline-block;\">us_</span> <span style=\"background-color: white; display: inline-block;\">in_</span> <span style=\"background-color: white; display: inline-block;\">omni_</span> <span style=\"background-color: white; display: inline-block;\">parte_</span> <span style=\"background-color: white; display: inline-block;\">corporis_</span> <span style=\"background-color: white; display: inline-block;\">sordid</span> <span style=\"background-color: white; display: inline-block;\">um_</span> <span style=\"background-color: white; display: inline-block;\">,_</span> <span style=\"background-color: white; display: inline-block;\">quod_</span> <span style=\"background-color: white; display: inline-block;\">tum_</span> <span style=\"background-color: white; display: inline-block;\">intellegi_</span> <span style=\"background-color: white; display: inline-block;\">potest_</span> <span style=\"background-color: white; display: inline-block;\">,_</span> <span style=\"background-color: white; display: inline-block;\">cum_</span> <span style=\"background-color: white; display: inline-block;\">cand</span> <span style=\"background-color: white; display: inline-block;\">icat</span> <span style=\"background-color: white; display: inline-block;\">_</span> <span style=\"background-color: white; display: inline-block;\">et_</span> <span style=\"background-color: white; display: inline-block;\">quasi_</span> <span style=\"background-color: white; display: inline-block;\">crus</span> <span style=\"background-color: white; display: inline-block;\">tam_</span> <span style=\"background-color: white; display: inline-block;\">cop</span> <span style=\"background-color: white; display: inline-block;\">erd</span> <span style=\"background-color: white; display: inline-block;\">uct</span> <span style=\"background-color: white; display: inline-block;\">am_</span> <span style=\"background-color: white; display: inline-block;\">alba</span> <span style=\"background-color: white; display: inline-block;\">m_</span> <span style=\"background-color: white; display: inline-block;\">habet_</span> <span style=\"background-color: white; display: inline-block;\">,_</span> <span style=\"background-color: white; display: inline-block;\">purgat</span> <span style=\"background-color: white; display: inline-block;\">_</span> <span style=\"background-color: white; display: inline-block;\">mel_</span> <span style=\"background-color: white; display: inline-block;\">per_</span> <span style=\"background-color: white; display: inline-block;\">se_</span> <span style=\"background-color: white; display: inline-block;\">adpos</span> <span style=\"background-color: white; display: inline-block;\">itum_</span> <span style=\"background-color: white; display: inline-block;\">uel_</span> <span style=\"background-color: white; display: inline-block;\">iris_</span> <span style=\"background-color: white; display: inline-block;\">arida_</span> <span style=\"background-color: white; display: inline-block;\">contu</span> <span style=\"background-color: white; display: inline-block;\">sa_</span> <span style=\"background-color: white; display: inline-block;\">et_</span> <span style=\"background-color: white; display: inline-block;\">cum_</span> <span style=\"background-color: white; display: inline-block;\">melle_</span> <span style=\"background-color: white; display: inline-block;\">._</span> <span style=\"background-color: white; display: inline-block;\">eadem_</span> <span style=\"background-color: white; display: inline-block;\">ratione_</span> <span style=\"background-color: white; display: inline-block;\">et_</span> <span style=\"background-color: white; display: inline-block;\">terrae_</span> <span style=\"background-color: white; display: inline-block;\">mali_</span> <span style=\"background-color: white; display: inline-block;\">et_</span> <span style=\"background-color: white; display: inline-block;\">pana</span> <span style=\"background-color: white; display: inline-block;\">cis_</span> <span style=\"background-color: white; display: inline-block;\">radix_</span> <span style=\"background-color: white; display: inline-block;\">adpos</span> <span style=\"background-color: white; display: inline-block;\">ita_</span> <span style=\"background-color: white; display: inline-block;\">purgat</span> <span style=\"background-color: white; display: inline-block;\">_</span> <span style=\"background-color: white; display: inline-block;\">sordida</span> <span style=\"background-color: white; display: inline-block;\">_</span> <span style=\"background-color: white; display: inline-block;\">ulcer</span> <span style=\"background-color: white; display: inline-block;\">a_</span> <span style=\"background-color: white; display: inline-block;\">uel_</span> <span style=\"background-color: white; display: inline-block;\">in_</span> <span style=\"background-color: yellow; display: inline-block;\">uere</span> <span style=\"background-color: white; display: inline-block;\">ndis_</span> <span style=\"background-color: white; display: inline-block;\">uel_</span> <span style=\"background-color: white; display: inline-block;\">quoquo_</span> <span style=\"background-color: white; display: inline-block;\">loci_</span> <span style=\"background-color: white; display: inline-block;\">fuerint_</span> <span style=\"background-color: white; display: inline-block;\">._</span> <span style=\"background-color: white; display: inline-block;\">[SEP]</span></p>"
      ],
      "text/plain": [
       "<IPython.core.display.HTML object>"
      ]
     },
     "metadata": {},
     "output_type": "display_data"
    },
    {
     "data": {
      "text/html": [
       "<p><b style=\"text-decoration: line-through;;\">positive</b> -> <span style=\"background-color: white; display: inline-block;\">[CLS]</span> <span style=\"background-color: white; display: inline-block;\">quod_</span> <span style=\"background-color: white; display: inline-block;\">vulgo_</span> <span style=\"background-color: white; display: inline-block;\">dicitur_</span> <span style=\"background-color: white; display: inline-block;\">:_</span> <span style=\"background-color: white; display: inline-block;\">cum_</span> <span style=\"background-color: white; display: inline-block;\">nos_</span> <span style=\"background-color: white; display: inline-block;\">te_</span> <span style=\"background-color: white; display: inline-block;\">volui</span> <span style=\"background-color: white; display: inline-block;\">mus_</span> <span style=\"background-color: white; display: inline-block;\">convenire_</span> <span style=\"background-color: white; display: inline-block;\">,_</span> <span style=\"background-color: white; display: inline-block;\">num_</span> <span style=\"background-color: white; display: inline-block;\">obsc</span> <span style=\"background-color: white; display: inline-block;\">enum_</span> <span style=\"background-color: white; display: inline-block;\">est_</span> <span style=\"background-color: white; display: inline-block;\">?_</span> <span style=\"background-color: yellow; display: inline-block;\">[SEP]</span></p>"
      ],
      "text/plain": [
       "<IPython.core.display.HTML object>"
      ]
     },
     "metadata": {},
     "output_type": "display_data"
    },
    {
     "data": {
      "text/html": [
       "<p><b style=\"text-decoration: line-through;;\">positive</b> -> <span style=\"background-color: white; display: inline-block;\">[CLS]</span> <span style=\"background-color: white; display: inline-block;\">lenon</span> <span style=\"background-color: white; display: inline-block;\">um_</span> <span style=\"background-color: white; display: inline-block;\">ancilla</span> <span style=\"background-color: white; display: inline-block;\">s_</span> <span style=\"background-color: white; display: inline-block;\">posita_</span> <span style=\"background-color: white; display: inline-block;\">sau</span> <span style=\"background-color: white; display: inline-block;\">fei</span> <span style=\"background-color: white; display: inline-block;\">a_</span> <span style=\"background-color: white; display: inline-block;\">corona_</span> <span style=\"background-color: white; display: inline-block;\">provocat</span> <span style=\"background-color: white; display: inline-block;\">_</span> <span style=\"background-color: white; display: inline-block;\">ac_</span> <span style=\"background-color: white; display: inline-block;\">tollit_</span> <span style=\"background-color: white; display: inline-block;\">pendenti</span> <span style=\"background-color: white; display: inline-block;\">s_</span> <span style=\"background-color: white; display: inline-block;\">praemia_</span> <span style=\"background-color: yellow; display: inline-block;\">cox</span> <span style=\"background-color: white; display: inline-block;\">ae_</span> <span style=\"background-color: white; display: inline-block;\">ipsa_</span> <span style=\"background-color: white; display: inline-block;\">medull</span> <span style=\"background-color: white; display: inline-block;\">inae_</span> <span style=\"background-color: white; display: inline-block;\">fluct</span> <span style=\"background-color: white; display: inline-block;\">um_</span> <span style=\"background-color: white; display: inline-block;\">cris</span> <span style=\"background-color: white; display: inline-block;\">antis_</span> <span style=\"background-color: white; display: inline-block;\">adorat</span> <span style=\"background-color: white; display: inline-block;\">_</span> <span style=\"background-color: white; display: inline-block;\">:_</span> <span style=\"background-color: white; display: inline-block;\">palma_</span> <span style=\"background-color: white; display: inline-block;\">inter_</span> <span style=\"background-color: white; display: inline-block;\">domina</span> <span style=\"background-color: white; display: inline-block;\">s_</span> <span style=\"background-color: white; display: inline-block;\">,_</span> <span style=\"background-color: white; display: inline-block;\">virtus_</span> <span style=\"background-color: white; display: inline-block;\">natali</span> <span style=\"background-color: white; display: inline-block;\">bus_</span> <span style=\"background-color: white; display: inline-block;\">aequa_</span> <span style=\"background-color: white; display: inline-block;\">,_</span> <span style=\"background-color: white; display: inline-block;\">nil_</span> <span style=\"background-color: white; display: inline-block;\">ibi_</span> <span style=\"background-color: white; display: inline-block;\">per_</span> <span style=\"background-color: white; display: inline-block;\">ludu</span> <span style=\"background-color: white; display: inline-block;\">m_</span> <span style=\"background-color: white; display: inline-block;\">simula</span> <span style=\"background-color: white; display: inline-block;\">bitur_</span> <span style=\"background-color: white; display: inline-block;\">,_</span> <span style=\"background-color: white; display: inline-block;\">omnia_</span> <span style=\"background-color: white; display: inline-block;\">fien</span> <span style=\"background-color: white; display: inline-block;\">t_</span> <span style=\"background-color: white; display: inline-block;\">ad_</span> <span style=\"background-color: white; display: inline-block;\">verum_</span> <span style=\"background-color: white; display: inline-block;\">,_</span> <span style=\"background-color: white; display: inline-block;\">quibus_</span> <span style=\"background-color: white; display: inline-block;\">incendi</span> <span style=\"background-color: white; display: inline-block;\">_</span> <span style=\"background-color: white; display: inline-block;\">iam_</span> <span style=\"background-color: white; display: inline-block;\">frigidu</span> <span style=\"background-color: white; display: inline-block;\">s_</span> <span style=\"background-color: white; display: inline-block;\">aevo_</span> <span style=\"background-color: white; display: inline-block;\">lao</span> <span style=\"background-color: white; display: inline-block;\">medo</span> <span style=\"background-color: white; display: inline-block;\">ntia</span> <span style=\"background-color: white; display: inline-block;\">des_</span> <span style=\"background-color: white; display: inline-block;\">et_</span> <span style=\"background-color: white; display: inline-block;\">nestori</span> <span style=\"background-color: white; display: inline-block;\">s_</span> <span style=\"background-color: white; display: inline-block;\">hir</span> <span style=\"background-color: white; display: inline-block;\">nea_</span> <span style=\"background-color: white; display: inline-block;\">[SEP]</span></p>"
      ],
      "text/plain": [
       "<IPython.core.display.HTML object>"
      ]
     },
     "metadata": {},
     "output_type": "display_data"
    },
    {
     "data": {
      "text/html": [
       "<p><b style=\"text-decoration: line-through;;\">positive</b> -> <span style=\"background-color: white; display: inline-block;\">[CLS]</span> <span style=\"background-color: white; display: inline-block;\">ventris_</span> <span style=\"background-color: white; display: inline-block;\">cum_</span> <span style=\"background-color: white; display: inline-block;\">abstinentia</span> <span style=\"background-color: white; display: inline-block;\">_</span> <span style=\"background-color: white; display: inline-block;\">stercor</span> <span style=\"background-color: white; display: inline-block;\">um_</span> <span style=\"background-color: white; display: inline-block;\">,_</span> <span style=\"background-color: white; display: inline-block;\">perit</span> <span style=\"background-color: white; display: inline-block;\">onae</span> <span style=\"background-color: white; display: inline-block;\">i_</span> <span style=\"background-color: white; display: inline-block;\">etiam_</span> <span style=\"background-color: white; display: inline-block;\">inflat</span> <span style=\"background-color: white; display: inline-block;\">ione</span> <span style=\"background-color: white; display: inline-block;\">_</span> <span style=\"background-color: white; display: inline-block;\">hoc_</span> <span style=\"background-color: white; display: inline-block;\">est_</span> <span style=\"background-color: white; display: inline-block;\">membrana</span> <span style=\"background-color: white; display: inline-block;\">e_</span> <span style=\"background-color: white; display: inline-block;\">quae_</span> <span style=\"background-color: white; display: inline-block;\">viscera_</span> <span style=\"background-color: white; display: inline-block;\">circum</span> <span style=\"background-color: white; display: inline-block;\">tegit</span> <span style=\"background-color: white; display: inline-block;\">_</span> <span style=\"background-color: white; display: inline-block;\">,_</span> <span style=\"background-color: white; display: inline-block;\">cum_</span> <span style=\"background-color: white; display: inline-block;\">hirt</span> <span style=\"background-color: white; display: inline-block;\">a_</span> <span style=\"background-color: white; display: inline-block;\">respira</span> <span style=\"background-color: white; display: inline-block;\">tione</span> <span style=\"background-color: white; display: inline-block;\">_</span> <span style=\"background-color: white; display: inline-block;\">atque_</span> <span style=\"background-color: white; display: inline-block;\">articul</span> <span style=\"background-color: white; display: inline-block;\">orum_</span> <span style=\"background-color: white; display: inline-block;\">frigid</span> <span style=\"background-color: white; display: inline-block;\">o_</span> <span style=\"background-color: white; display: inline-block;\">torp</span> <span style=\"background-color: white; display: inline-block;\">ore_</span> <span style=\"background-color: white; display: inline-block;\">,_</span> <span style=\"background-color: white; display: inline-block;\">puls</span> <span style=\"background-color: white; display: inline-block;\">u_</span> <span style=\"background-color: white; display: inline-block;\">crebro_</span> <span style=\"background-color: white; display: inline-block;\">,_</span> <span style=\"background-color: white; display: inline-block;\">singul</span> <span style=\"background-color: white; display: inline-block;\">tu_</span> <span style=\"background-color: white; display: inline-block;\">,_</span> <span style=\"background-color: white; display: inline-block;\">venti_</span> <span style=\"background-color: white; display: inline-block;\">per_</span> <span style=\"background-color: white; display: inline-block;\">pod</span> <span style=\"background-color: white; display: inline-block;\">icem_</span> <span style=\"background-color: white; display: inline-block;\">frequentia_</span> <span style=\"background-color: white; display: inline-block;\">nihil_</span> <span style=\"background-color: white; display: inline-block;\">releva</span> <span style=\"background-color: white; display: inline-block;\">nte_</span> <span style=\"background-color: white; display: inline-block;\">,_</span> <span style=\"background-color: white; display: inline-block;\">ves</span> <span style=\"background-color: white; display: inline-block;\">icae_</span> <span style=\"background-color: white; display: inline-block;\">etiam_</span> <span style=\"background-color: white; display: inline-block;\">adte</span> <span style=\"background-color: white; display: inline-block;\">stante</span> <span style=\"background-color: white; display: inline-block;\">_</span> <span style=\"background-color: white; display: inline-block;\">consensu_</span> <span style=\"background-color: white; display: inline-block;\">._</span> <span style=\"background-color: white; display: inline-block;\">[SEP]</span></p>"
      ],
      "text/plain": [
       "<IPython.core.display.HTML object>"
      ]
     },
     "metadata": {},
     "output_type": "display_data"
    },
    {
     "data": {
      "text/html": [
       "<p><b style=\"text-decoration: line-through;;\">positive</b> -> <span style=\"background-color: white; display: inline-block;\">[CLS]</span> <span style=\"background-color: white; display: inline-block;\">dum</span> <span style=\"background-color: white; display: inline-block;\">que_</span> <span style=\"background-color: white; display: inline-block;\">-_</span> <span style=\"background-color: white; display: inline-block;\">que_</span> <span style=\"background-color: white; display: inline-block;\">loquimur_</span> <span style=\"background-color: white; display: inline-block;\">,_</span> <span style=\"background-color: white; display: inline-block;\">sera_</span> <span style=\"background-color: white; display: inline-block;\">sua_</span> <span style=\"background-color: white; display: inline-block;\">sponte_</span> <span style=\"background-color: white; display: inline-block;\">dela</span> <span style=\"background-color: white; display: inline-block;\">psa_</span> <span style=\"background-color: white; display: inline-block;\">cecidit_</span> <span style=\"background-color: white; display: inline-block;\">recl</span> <span style=\"background-color: white; display: inline-block;\">usa</span> <span style=\"background-color: white; display: inline-block;\">eque_</span> <span style=\"background-color: white; display: inline-block;\">-_</span> <span style=\"background-color: white; display: inline-block;\">que_</span> <span style=\"background-color: white; display: inline-block;\">subito_</span> <span style=\"background-color: white; display: inline-block;\">fores_</span> <span style=\"background-color: white; display: inline-block;\">admis</span> <span style=\"background-color: white; display: inline-block;\">erunt_</span> <span style=\"background-color: white; display: inline-block;\">intrant</span> <span style=\"background-color: white; display: inline-block;\">em_</span> <span style=\"background-color: white; display: inline-block;\">._</span> <span style=\"background-color: white; display: inline-block;\">[SEP]</span></p>"
      ],
      "text/plain": [
       "<IPython.core.display.HTML object>"
      ]
     },
     "metadata": {},
     "output_type": "display_data"
    },
    {
     "data": {
      "text/html": [
       "<p><b style=\"text-decoration: line-through;;\">positive</b> -> <span style=\"background-color: white; display: inline-block;\">[CLS]</span> <span style=\"background-color: white; display: inline-block;\">:_</span> <span style=\"background-color: white; display: inline-block;\">uno_</span> <span style=\"background-color: white; display: inline-block;\">in_</span> <span style=\"background-color: white; display: inline-block;\">septimi</span> <span style=\"background-color: white; display: inline-block;\">o_</span> <span style=\"background-color: white; display: inline-block;\">fidelis_</span> <span style=\"background-color: white; display: inline-block;\">ac</span> <span style=\"background-color: white; display: inline-block;\">me_</span> <span style=\"background-color: white; display: inline-block;\">facit_</span> <span style=\"background-color: white; display: inline-block;\">delicias_</span> <span style=\"background-color: white; display: inline-block;\">libidin</span> <span style=\"background-color: white; display: inline-block;\">esq</span> <span style=\"background-color: white; display: inline-block;\">ue_</span> <span style=\"background-color: white; display: inline-block;\">-_</span> <span style=\"background-color: yellow; display: inline-block;\">que_</span> <span style=\"background-color: white; display: inline-block;\">._</span> <span style=\"background-color: white; display: inline-block;\">[SEP]</span></p>"
      ],
      "text/plain": [
       "<IPython.core.display.HTML object>"
      ]
     },
     "metadata": {},
     "output_type": "display_data"
    },
    {
     "data": {
      "text/html": [
       "<p><b style=\"text-decoration: line-through;;\">positive</b> -> <span style=\"background-color: white; display: inline-block;\">[CLS]</span> <span style=\"background-color: yellow; display: inline-block;\">confin</span> <span style=\"background-color: white; display: inline-block;\">ia_</span> <span style=\"background-color: yellow; display: inline-block;\">palpa</span> <span style=\"background-color: white; display: inline-block;\">bat_</span> <span style=\"background-color: white; display: inline-block;\">res_</span> <span style=\"background-color: yellow; display: inline-block;\">intima</span> <span style=\"background-color: white; display: inline-block;\">s_</span> <span style=\"background-color: white; display: inline-block;\">[SEP]</span></p>"
      ],
      "text/plain": [
       "<IPython.core.display.HTML object>"
      ]
     },
     "metadata": {},
     "output_type": "display_data"
    },
    {
     "data": {
      "text/html": [
       "<p><b style=\"text-decoration: line-through;;\">positive</b> -> <span style=\"background-color: white; display: inline-block;\">[CLS]</span> <span style=\"background-color: white; display: inline-block;\">nube_</span> <span style=\"background-color: white; display: inline-block;\">,_</span> <span style=\"background-color: white; display: inline-block;\">precor_</span> <span style=\"background-color: white; display: inline-block;\">,_</span> <span style=\"background-color: white; display: inline-block;\">dicet_</span> <span style=\"background-color: white; display: inline-block;\">,_</span> <span style=\"background-color: white; display: inline-block;\">cui_</span> <span style=\"background-color: white; display: inline-block;\">te_</span> <span style=\"background-color: white; display: inline-block;\">bona_</span> <span style=\"background-color: white; display: inline-block;\">numina_</span> <span style=\"background-color: white; display: inline-block;\">iung</span> <span style=\"background-color: white; display: inline-block;\">unt_</span> <span style=\"background-color: yellow; display: inline-block;\">[SEP]</span></p>"
      ],
      "text/plain": [
       "<IPython.core.display.HTML object>"
      ]
     },
     "metadata": {},
     "output_type": "display_data"
    },
    {
     "data": {
      "text/html": [
       "<p><b style=\"text-decoration: line-through;;\">positive</b> -> <span style=\"background-color: white; display: inline-block;\">[CLS]</span> <span style=\"background-color: white; display: inline-block;\">ex_</span> <span style=\"background-color: white; display: inline-block;\">omnibus_</span> <span style=\"background-color: white; display: inline-block;\">autem_</span> <span style=\"background-color: white; display: inline-block;\">differenti</span> <span style=\"background-color: white; display: inline-block;\">is_</span> <span style=\"background-color: white; display: inline-block;\">quas_</span> <span style=\"background-color: white; display: inline-block;\">predi</span> <span style=\"background-color: white; display: inline-block;\">ximus_</span> <span style=\"background-color: white; display: inline-block;\">facillime_</span> <span style=\"background-color: white; display: inline-block;\">curar</span> <span style=\"background-color: white; display: inline-block;\">i_</span> <span style=\"background-color: white; display: inline-block;\">possunt_</span> <span style=\"background-color: white; display: inline-block;\">que_</span> <span style=\"background-color: white; display: inline-block;\">in_</span> <span style=\"background-color: white; display: inline-block;\">pinna</span> <span style=\"background-color: white; display: inline-block;\">culis_</span> <span style=\"background-color: white; display: inline-block;\">habeant_</span> <span style=\"background-color: white; display: inline-block;\">membra</span> <span style=\"background-color: white; display: inline-block;\">num_</span> <span style=\"background-color: white; display: inline-block;\">,_</span> <span style=\"background-color: white; display: inline-block;\">siquidem_</span> <span style=\"background-color: white; display: inline-block;\">duris</span> <span style=\"background-color: white; display: inline-block;\">sime_</span> <span style=\"background-color: white; display: inline-block;\">pul</span> <span style=\"background-color: white; display: inline-block;\">pe_</span> <span style=\"background-color: white; display: inline-block;\">cum_</span> <span style=\"background-color: white; display: inline-block;\">ingenti_</span> <span style=\"background-color: white; display: inline-block;\">difficultate_</span> <span style=\"background-color: white; display: inline-block;\">preci</span> <span style=\"background-color: white; display: inline-block;\">dantur_</span> <span style=\"background-color: white; display: inline-block;\">,_</span> <span style=\"background-color: white; display: inline-block;\">et_</span> <span style=\"background-color: white; display: inline-block;\">molest</span> <span style=\"background-color: white; display: inline-block;\">e_</span> <span style=\"background-color: white; display: inline-block;\">sanguine</span> <span style=\"background-color: white; display: inline-block;\">nt_</span> <span style=\"background-color: white; display: inline-block;\">,_</span> <span style=\"background-color: white; display: inline-block;\">et_</span> <span style=\"background-color: white; display: inline-block;\">nisi_</span> <span style=\"background-color: white; display: inline-block;\">sollicite_</span> <span style=\"background-color: white; display: inline-block;\">fuerint_</span> <span style=\"background-color: white; display: inline-block;\">curat</span> <span style=\"background-color: white; display: inline-block;\">e_</span> <span style=\"background-color: white; display: inline-block;\">,_</span> <span style=\"background-color: white; display: inline-block;\">cito_</span> <span style=\"background-color: white; display: inline-block;\">renasc</span> <span style=\"background-color: white; display: inline-block;\">i_</span> <span style=\"background-color: white; display: inline-block;\">possunt_</span> <span style=\"background-color: white; display: inline-block;\">._</span> <span style=\"background-color: white; display: inline-block;\">[SEP]</span></p>"
      ],
      "text/plain": [
       "<IPython.core.display.HTML object>"
      ]
     },
     "metadata": {},
     "output_type": "display_data"
    },
    {
     "data": {
      "text/html": [
       "<p><b style=\"text-decoration: line-through;;\">positive</b> -> <span style=\"background-color: white; display: inline-block;\">[CLS]</span> <span style=\"background-color: white; display: inline-block;\">talia_</span> <span style=\"background-color: white; display: inline-block;\">dicentem_</span> <span style=\"background-color: white; display: inline-block;\">iam</span> <span style=\"background-color: white; display: inline-block;\">dudum_</span> <span style=\"background-color: white; display: inline-block;\">aversa</span> <span style=\"background-color: white; display: inline-block;\">_</span> <span style=\"background-color: white; display: inline-block;\">tuetur_</span> <span style=\"background-color: white; display: inline-block;\">cunctat</span> <span style=\"background-color: white; display: inline-block;\">ur</span> <span style=\"background-color: white; display: inline-block;\">que_</span> <span style=\"background-color: white; display: inline-block;\">-_</span> <span style=\"background-color: white; display: inline-block;\">que_</span> <span style=\"background-color: white; display: inline-block;\">metu_</span> <span style=\"background-color: white; display: inline-block;\">tel</span> <span style=\"background-color: white; display: inline-block;\">umque_</span> <span style=\"background-color: white; display: inline-block;\">-_</span> <span style=\"background-color: white; display: inline-block;\">que_</span> <span style=\"background-color: white; display: inline-block;\">insta</span> <span style=\"background-color: white; display: inline-block;\">re_</span> <span style=\"background-color: white; display: inline-block;\">trem</span> <span style=\"background-color: white; display: inline-block;\">isci</span> <span style=\"background-color: white; display: inline-block;\">t_</span> <span style=\"background-color: white; display: inline-block;\">spe</span> <span style=\"background-color: white; display: inline-block;\">mque_</span> <span style=\"background-color: white; display: inline-block;\">-_</span> <span style=\"background-color: white; display: inline-block;\">que_</span> <span style=\"background-color: white; display: inline-block;\">metu</span> <span style=\"background-color: white; display: inline-block;\">mque_</span> <span style=\"background-color: white; display: inline-block;\">-_</span> <span style=\"background-color: white; display: inline-block;\">que_</span> <span style=\"background-color: white; display: inline-block;\">inter_</span> <span style=\"background-color: white; display: inline-block;\">fundit</span> <span style=\"background-color: white; display: inline-block;\">que_</span> <span style=\"background-color: white; display: inline-block;\">-_</span> <span style=\"background-color: white; display: inline-block;\">que_</span> <span style=\"background-color: white; display: inline-block;\">has_</span> <span style=\"background-color: white; display: inline-block;\">ore_</span> <span style=\"background-color: white; display: inline-block;\">loque</span> <span style=\"background-color: white; display: inline-block;\">las_</span> <span style=\"background-color: white; display: inline-block;\">[SEP]</span></p>"
      ],
      "text/plain": [
       "<IPython.core.display.HTML object>"
      ]
     },
     "metadata": {},
     "output_type": "display_data"
    },
    {
     "data": {
      "text/html": [
       "<p><b style=\"text-decoration: line-through;;\">positive</b> -> <span style=\"background-color: white; display: inline-block;\">[CLS]</span> <span style=\"background-color: #ffdf00; display: inline-block;\">ment</span> <span style=\"background-color: white; display: inline-block;\">ula_</span> <span style=\"background-color: white; display: inline-block;\">confuger</span> <span style=\"background-color: white; display: inline-block;\">at_</span> <span style=\"background-color: white; display: inline-block;\">in_</span> <span style=\"background-color: #ffdf00; display: inline-block;\">uis</span> <span style=\"background-color: white; display: inline-block;\">cera_</span> <span style=\"background-color: white; display: inline-block;\">[SEP]</span></p>"
      ],
      "text/plain": [
       "<IPython.core.display.HTML object>"
      ]
     },
     "metadata": {},
     "output_type": "display_data"
    },
    {
     "data": {
      "text/html": [
       "<p><b style=\"text-decoration: line-through;;\">positive</b> -> <span style=\"background-color: white; display: inline-block;\">[CLS]</span> <span style=\"background-color: white; display: inline-block;\">qui_</span> <span style=\"background-color: white; display: inline-block;\">cum_</span> <span style=\"background-color: white; display: inline-block;\">prae_</span> <span style=\"background-color: white; display: inline-block;\">se_</span> <span style=\"background-color: white; display: inline-block;\">ferret_</span> <span style=\"background-color: white; display: inline-block;\">,_</span> <span style=\"background-color: white; display: inline-block;\">quod_</span> <span style=\"background-color: white; display: inline-block;\">non_</span> <span style=\"background-color: white; display: inline-block;\">esset_</span> <span style=\"background-color: white; display: inline-block;\">captus_</span> <span style=\"background-color: white; display: inline-block;\">ut_</span> <span style=\"background-color: white; display: inline-block;\">ceteri_</span> <span style=\"background-color: white; display: inline-block;\">,_</span> <span style=\"background-color: white; display: inline-block;\">dictum_</span> <span style=\"background-color: white; display: inline-block;\">est_</span> <span style=\"background-color: white; display: inline-block;\">ei_</span> <span style=\"background-color: white; display: inline-block;\">,_</span> <span style=\"background-color: white; display: inline-block;\">quoniam_</span> <span style=\"background-color: yellow; display: inline-block;\">meretrice</span> <span style=\"background-color: white; display: inline-block;\">m_</span> <span style=\"background-color: white; display: inline-block;\">habuisset</span> <span style=\"background-color: white; display: inline-block;\">_</span> <span style=\"background-color: white; display: inline-block;\">ille_</span> <span style=\"background-color: white; display: inline-block;\">respondit_</span> <span style=\"background-color: white; display: inline-block;\">:_</span> <span style=\"background-color: white; display: inline-block;\">si_</span> <span style=\"background-color: white; display: inline-block;\">habui_</span> <span style=\"background-color: white; display: inline-block;\">,_</span> <span style=\"background-color: white; display: inline-block;\">non_</span> <span style=\"background-color: white; display: inline-block;\">habe</span> <span style=\"background-color: white; display: inline-block;\">or_</span> <span style=\"background-color: white; display: inline-block;\">._</span> <span style=\"background-color: white; display: inline-block;\">[SEP]</span></p>"
      ],
      "text/plain": [
       "<IPython.core.display.HTML object>"
      ]
     },
     "metadata": {},
     "output_type": "display_data"
    },
    {
     "data": {
      "text/html": [
       "<p><b style=\"text-decoration: line-through;;\">positive</b> -> <span style=\"background-color: white; display: inline-block;\">[CLS]</span> <span style=\"background-color: yellow; display: inline-block;\">circumcid</span> <span style=\"background-color: white; display: inline-block;\">ere_</span> <span style=\"background-color: #ff9f00; display: inline-block;\">genita</span> <span style=\"background-color: white; display: inline-block;\">lia_</span> <span style=\"background-color: white; display: inline-block;\">instituer</span> <span style=\"background-color: white; display: inline-block;\">unt_</span> <span style=\"background-color: white; display: inline-block;\">ut_</span> <span style=\"background-color: white; display: inline-block;\">diversitate_</span> <span style=\"background-color: white; display: inline-block;\">nosc</span> <span style=\"background-color: white; display: inline-block;\">antur_</span> <span style=\"background-color: white; display: inline-block;\">._</span> <span style=\"background-color: white; display: inline-block;\">[SEP]</span></p>"
      ],
      "text/plain": [
       "<IPython.core.display.HTML object>"
      ]
     },
     "metadata": {},
     "output_type": "display_data"
    },
    {
     "data": {
      "text/html": [
       "<p><b style=\"text-decoration: line-through;;\">positive</b> -> <span style=\"background-color: white; display: inline-block;\">[CLS]</span> <span style=\"background-color: white; display: inline-block;\">lamb</span> <span style=\"background-color: white; display: inline-block;\">ebat_</span> <span style=\"background-color: white; display: inline-block;\">medios_</span> <span style=\"background-color: yellow; display: inline-block;\">inprob</span> <span style=\"background-color: white; display: inline-block;\">a_</span> <span style=\"background-color: yellow; display: inline-block;\">lingua_</span> <span style=\"background-color: white; display: inline-block;\">viros_</span> <span style=\"background-color: white; display: inline-block;\">._</span> <span style=\"background-color: yellow; display: inline-block;\">[SEP]</span></p>"
      ],
      "text/plain": [
       "<IPython.core.display.HTML object>"
      ]
     },
     "metadata": {},
     "output_type": "display_data"
    },
    {
     "data": {
      "text/html": [
       "<p><b style=\"text-decoration: line-through;;\">positive</b> -> <span style=\"background-color: white; display: inline-block;\">[CLS]</span> <span style=\"background-color: white; display: inline-block;\">nam_</span> <span style=\"background-color: white; display: inline-block;\">si_</span> <span style=\"background-color: white; display: inline-block;\">ex_</span> <span style=\"background-color: white; display: inline-block;\">aliis_</span> <span style=\"background-color: white; display: inline-block;\">locis_</span> <span style=\"background-color: white; display: inline-block;\">sanguis_</span> <span style=\"background-color: white; display: inline-block;\">feratu</span> <span style=\"background-color: white; display: inline-block;\">r_</span> <span style=\"background-color: white; display: inline-block;\">,_</span> <span style=\"background-color: white; display: inline-block;\">digit</span> <span style=\"background-color: white; display: inline-block;\">orum_</span> <span style=\"background-color: white; display: inline-block;\">impressio</span> <span style=\"background-color: white; display: inline-block;\">ne_</span> <span style=\"background-color: white; display: inline-block;\">magis_</span> <span style=\"background-color: white; display: inline-block;\">abstine</span> <span style=\"background-color: white; display: inline-block;\">tur_</span> <span style=\"background-color: white; display: inline-block;\">,_</span> <span style=\"background-color: white; display: inline-block;\">cum_</span> <span style=\"background-color: white; display: inline-block;\">supradicti</span> <span style=\"background-color: white; display: inline-block;\">s_</span> <span style=\"background-color: white; display: inline-block;\">locis_</span> <span style=\"background-color: white; display: inline-block;\">,_</span> <span style=\"background-color: white; display: inline-block;\">hoc_</span> <span style=\"background-color: white; display: inline-block;\">est_</span> <span style=\"background-color: white; display: inline-block;\">peri</span> <span style=\"background-color: white; display: inline-block;\">neo_</span> <span style=\"background-color: white; display: inline-block;\">uel_</span> <span style=\"background-color: white; display: inline-block;\">pod</span> <span style=\"background-color: white; display: inline-block;\">ici_</span> <span style=\"background-color: white; display: inline-block;\">uici</span> <span style=\"background-color: white; display: inline-block;\">nis_</span> <span style=\"background-color: white; display: inline-block;\">,_</span> <span style=\"background-color: white; display: inline-block;\">reni</span> <span style=\"background-color: white; display: inline-block;\">titur_</span> <span style=\"background-color: white; display: inline-block;\">impressio</span> <span style=\"background-color: white; display: inline-block;\">_</span> <span style=\"background-color: white; display: inline-block;\">,_</span> <span style=\"background-color: white; display: inline-block;\">tunc_</span> <span style=\"background-color: white; display: inline-block;\">ex_</span> <span style=\"background-color: white; display: inline-block;\">ues</span> <span style=\"background-color: white; display: inline-block;\">icae_</span> <span style=\"background-color: white; display: inline-block;\">collo_</span> <span style=\"background-color: white; display: inline-block;\">impedimento_</span> <span style=\"background-color: white; display: inline-block;\">repres</span> <span style=\"background-color: white; display: inline-block;\">sus_</span> <span style=\"background-color: white; display: inline-block;\">feret</span> <span style=\"background-color: white; display: inline-block;\">ur_</span> <span style=\"background-color: white; display: inline-block;\">,_</span> <span style=\"background-color: white; display: inline-block;\">ex_</span> <span style=\"background-color: white; display: inline-block;\">superioribus_</span> <span style=\"background-color: white; display: inline-block;\">uero_</span> <span style=\"background-color: white; display: inline-block;\">abstine</span> <span style=\"background-color: white; display: inline-block;\">tur_</span> <span style=\"background-color: white; display: inline-block;\">._</span> <span style=\"background-color: white; display: inline-block;\">[SEP]</span></p>"
      ],
      "text/plain": [
       "<IPython.core.display.HTML object>"
      ]
     },
     "metadata": {},
     "output_type": "display_data"
    },
    {
     "data": {
      "text/html": [
       "<p><b style=\"text-decoration: line-through;;\">positive</b> -> <span style=\"background-color: white; display: inline-block;\">[CLS]</span> <span style=\"background-color: white; display: inline-block;\">unde_</span> <span style=\"background-color: white; display: inline-block;\">recte_</span> <span style=\"background-color: white; display: inline-block;\">mihi_</span> <span style=\"background-color: white; display: inline-block;\">uidetur_</span> <span style=\"background-color: white; display: inline-block;\">api</span> <span style=\"background-color: white; display: inline-block;\">on_</span> <span style=\"background-color: white; display: inline-block;\">propter_</span> <span style=\"background-color: white; display: inline-block;\">patriae_</span> <span style=\"background-color: white; display: inline-block;\">suae_</span> <span style=\"background-color: white; display: inline-block;\">leges_</span> <span style=\"background-color: white; display: inline-block;\">multam_</span> <span style=\"background-color: white; display: inline-block;\">solu</span> <span style=\"background-color: white; display: inline-block;\">isse_</span> <span style=\"background-color: white; display: inline-block;\">blasphemia</span> <span style=\"background-color: white; display: inline-block;\">e_</span> <span style=\"background-color: white; display: inline-block;\">etenim_</span> <span style=\"background-color: white; display: inline-block;\">necessario_</span> <span style=\"background-color: white; display: inline-block;\">circumci</span> <span style=\"background-color: white; display: inline-block;\">sus_</span> <span style=\"background-color: white; display: inline-block;\">circa_</span> <span style=\"background-color: #ff7f00; display: inline-block;\">genita</span> <span style=\"background-color: white; display: inline-block;\">lia_</span> <span style=\"background-color: white; display: inline-block;\">,_</span> <span style=\"background-color: white; display: inline-block;\">uuln</span> <span style=\"background-color: white; display: inline-block;\">ere_</span> <span style=\"background-color: white; display: inline-block;\">ei_</span> <span style=\"background-color: white; display: inline-block;\">facto_</span> <span style=\"background-color: white; display: inline-block;\">nihil_</span> <span style=\"background-color: white; display: inline-block;\">ei_</span> <span style=\"background-color: white; display: inline-block;\">circumcisio_</span> <span style=\"background-color: white; display: inline-block;\">profuit_</span> <span style=\"background-color: white; display: inline-block;\">et_</span> <span style=\"background-color: white; display: inline-block;\">putre</span> <span style=\"background-color: white; display: inline-block;\">factus_</span> <span style=\"background-color: white; display: inline-block;\">magnis_</span> <span style=\"background-color: white; display: inline-block;\">doloribus_</span> <span style=\"background-color: white; display: inline-block;\">expir</span> <span style=\"background-color: white; display: inline-block;\">auit_</span> <span style=\"background-color: white; display: inline-block;\">._</span> <span style=\"background-color: white; display: inline-block;\">[SEP]</span></p>"
      ],
      "text/plain": [
       "<IPython.core.display.HTML object>"
      ]
     },
     "metadata": {},
     "output_type": "display_data"
    },
    {
     "data": {
      "text/html": [
       "<p><b style=\"text-decoration: line-through;;\">positive</b> -> <span style=\"background-color: white; display: inline-block;\">[CLS]</span> <span style=\"background-color: white; display: inline-block;\">veni_</span> <span style=\"background-color: white; display: inline-block;\">ine</span> <span style=\"background-color: white; display: inline-block;\">bri</span> <span style=\"background-color: white; display: inline-block;\">emus_</span> <span style=\"background-color: white; display: inline-block;\">eum_</span> <span style=\"background-color: white; display: inline-block;\">vino_</span> <span style=\"background-color: white; display: inline-block;\">dormi</span> <span style=\"background-color: white; display: inline-block;\">amu</span> <span style=\"background-color: white; display: inline-block;\">sque_</span> <span style=\"background-color: white; display: inline-block;\">-_</span> <span style=\"background-color: white; display: inline-block;\">que_</span> <span style=\"background-color: white; display: inline-block;\">cum_</span> <span style=\"background-color: white; display: inline-block;\">eo_</span> <span style=\"background-color: white; display: inline-block;\">ut_</span> <span style=\"background-color: white; display: inline-block;\">servare_</span> <span style=\"background-color: white; display: inline-block;\">possimus_</span> <span style=\"background-color: white; display: inline-block;\">ex_</span> <span style=\"background-color: white; display: inline-block;\">patre_</span> <span style=\"background-color: white; display: inline-block;\">nostro_</span> <span style=\"background-color: white; display: inline-block;\">semen_</span> <span style=\"background-color: white; display: inline-block;\">[SEP]</span></p>"
      ],
      "text/plain": [
       "<IPython.core.display.HTML object>"
      ]
     },
     "metadata": {},
     "output_type": "display_data"
    },
    {
     "data": {
      "text/html": [
       "<p><b style=\"text-decoration: line-through;;\">positive</b> -> <span style=\"background-color: white; display: inline-block;\">[CLS]</span> <span style=\"background-color: white; display: inline-block;\">aliud_</span> <span style=\"background-color: white; display: inline-block;\">pes</span> <span style=\"background-color: white; display: inline-block;\">sari</span> <span style=\"background-color: white; display: inline-block;\">um_</span> <span style=\"background-color: white; display: inline-block;\">simplex_</span> <span style=\"background-color: white; display: inline-block;\">id_</span> <span style=\"background-color: white; display: inline-block;\">est_</span> <span style=\"background-color: white; display: inline-block;\">diat</span> <span style=\"background-color: white; display: inline-block;\">essa</span> <span style=\"background-color: white; display: inline-block;\">ron</span> <span style=\"background-color: white; display: inline-block;\">_</span> <span style=\"background-color: white; display: inline-block;\">ad_</span> <span style=\"background-color: white; display: inline-block;\">mitiga</span> <span style=\"background-color: white; display: inline-block;\">ndum_</span> <span style=\"background-color: white; display: inline-block;\">matri</span> <span style=\"background-color: white; display: inline-block;\">cis_</span> <span style=\"background-color: white; display: inline-block;\">calorem_</span> <span style=\"background-color: white; display: inline-block;\">et_</span> <span style=\"background-color: white; display: inline-block;\">ad_</span> <span style=\"background-color: white; display: inline-block;\">duritia</span> <span style=\"background-color: white; display: inline-block;\">m_</span> <span style=\"background-color: white; display: inline-block;\">uel_</span> <span style=\"background-color: white; display: inline-block;\">call</span> <span style=\"background-color: white; display: inline-block;\">osita</span> <span style=\"background-color: white; display: inline-block;\">tes_</span> <span style=\"background-color: white; display: inline-block;\">et_</span> <span style=\"background-color: white; display: inline-block;\">ad_</span> <span style=\"background-color: white; display: inline-block;\">sordida</span> <span style=\"background-color: white; display: inline-block;\">_</span> <span style=\"background-color: white; display: inline-block;\">quaeque_</span> <span style=\"background-color: white; display: inline-block;\">purgan</span> <span style=\"background-color: white; display: inline-block;\">da_</span> <span style=\"background-color: white; display: inline-block;\">et_</span> <span style=\"background-color: white; display: inline-block;\">ad_</span> <span style=\"background-color: white; display: inline-block;\">uniuers</span> <span style=\"background-color: white; display: inline-block;\">as_</span> <span style=\"background-color: yellow; display: inline-block;\">matri</span> <span style=\"background-color: white; display: inline-block;\">cis_</span> <span style=\"background-color: white; display: inline-block;\">indignat</span> <span style=\"background-color: white; display: inline-block;\">iones_</span> <span style=\"background-color: white; display: inline-block;\">quae_</span> <span style=\"background-color: white; display: inline-block;\">fieri_</span> <span style=\"background-color: white; display: inline-block;\">ads</span> <span style=\"background-color: white; display: inline-block;\">olent</span> <span style=\"background-color: white; display: inline-block;\">_</span> <span style=\"background-color: white; display: inline-block;\">._</span> <span style=\"background-color: white; display: inline-block;\">[SEP]</span></p>"
      ],
      "text/plain": [
       "<IPython.core.display.HTML object>"
      ]
     },
     "metadata": {},
     "output_type": "display_data"
    },
    {
     "data": {
      "text/html": [
       "<p><b style=\"text-decoration: line-through;;\">positive</b> -> <span style=\"background-color: white; display: inline-block;\">[CLS]</span> <span style=\"background-color: white; display: inline-block;\">paratus_</span> <span style=\"background-color: white; display: inline-block;\">miles_</span> <span style=\"background-color: white; display: inline-block;\">arma_</span> <span style=\"background-color: white; display: inline-block;\">non_</span> <span style=\"background-color: white; display: inline-block;\">habui_</span> <span style=\"background-color: white; display: inline-block;\">._</span> <span style=\"background-color: #ffbf00; display: inline-block;\">[SEP]</span></p>"
      ],
      "text/plain": [
       "<IPython.core.display.HTML object>"
      ]
     },
     "metadata": {},
     "output_type": "display_data"
    },
    {
     "data": {
      "text/html": [
       "<p><b style=\"text-decoration: line-through;;\">positive</b> -> <span style=\"background-color: white; display: inline-block;\">[CLS]</span> <span style=\"background-color: yellow; display: inline-block;\">ment</span> <span style=\"background-color: white; display: inline-block;\">ula_</span> <span style=\"background-color: white; display: inline-block;\">tam_</span> <span style=\"background-color: white; display: inline-block;\">magna_</span> <span style=\"background-color: white; display: inline-block;\">est_</span> <span style=\"background-color: white; display: inline-block;\">,_</span> <span style=\"background-color: white; display: inline-block;\">quantus_</span> <span style=\"background-color: white; display: inline-block;\">tibi_</span> <span style=\"background-color: white; display: inline-block;\">,_</span> <span style=\"background-color: white; display: inline-block;\">pap</span> <span style=\"background-color: white; display: inline-block;\">yl</span> <span style=\"background-color: white; display: inline-block;\">e_</span> <span style=\"background-color: white; display: inline-block;\">,_</span> <span style=\"background-color: white; display: inline-block;\">nas</span> <span style=\"background-color: white; display: inline-block;\">us_</span> <span style=\"background-color: white; display: inline-block;\">,_</span> <span style=\"background-color: white; display: inline-block;\">ut_</span> <span style=\"background-color: white; display: inline-block;\">possis_</span> <span style=\"background-color: white; display: inline-block;\">,_</span> <span style=\"background-color: white; display: inline-block;\">quotiens_</span> <span style=\"background-color: white; display: inline-block;\">arri</span> <span style=\"background-color: white; display: inline-block;\">gis_</span> <span style=\"background-color: white; display: inline-block;\">,_</span> <span style=\"background-color: white; display: inline-block;\">olf</span> <span style=\"background-color: white; display: inline-block;\">acere</span> <span style=\"background-color: white; display: inline-block;\">_</span> <span style=\"background-color: white; display: inline-block;\">._</span> <span style=\"background-color: white; display: inline-block;\">[SEP]</span></p>"
      ],
      "text/plain": [
       "<IPython.core.display.HTML object>"
      ]
     },
     "metadata": {},
     "output_type": "display_data"
    },
    {
     "data": {
      "text/html": [
       "<p><b style=\"text-decoration: line-through;;\">positive</b> -> <span style=\"background-color: white; display: inline-block;\">[CLS]</span> <span style=\"background-color: white; display: inline-block;\">iacere</span> <span style=\"background-color: white; display: inline-block;\">_</span> <span style=\"background-color: white; display: inline-block;\">umor</span> <span style=\"background-color: white; display: inline-block;\">em_</span> <span style=\"background-color: white; display: inline-block;\">in_</span> <span style=\"background-color: white; display: inline-block;\">corpus_</span> <span style=\"background-color: white; display: inline-block;\">de_</span> <span style=\"background-color: white; display: inline-block;\">corpore_</span> <span style=\"background-color: white; display: inline-block;\">ductu</span> <span style=\"background-color: white; display: inline-block;\">m_</span> <span style=\"background-color: yellow; display: inline-block;\">[SEP]</span></p>"
      ],
      "text/plain": [
       "<IPython.core.display.HTML object>"
      ]
     },
     "metadata": {},
     "output_type": "display_data"
    },
    {
     "data": {
      "text/html": [
       "<p><b style=\"text-decoration: line-through;;\">positive</b> -> <span style=\"background-color: white; display: inline-block;\">[CLS]</span> <span style=\"background-color: white; display: inline-block;\">is_</span> <span style=\"background-color: white; display: inline-block;\">scit_</span> <span style=\"background-color: white; display: inline-block;\">adulescens_</span> <span style=\"background-color: white; display: inline-block;\">quae_</span> <span style=\"background-color: white; display: inline-block;\">sit_</span> <span style=\"background-color: white; display: inline-block;\">quam_</span> <span style=\"background-color: white; display: inline-block;\">compress</span> <span style=\"background-color: white; display: inline-block;\">erit_</span> <span style=\"background-color: white; display: inline-block;\">,_</span> <span style=\"background-color: white; display: inline-block;\">illa_</span> <span style=\"background-color: white; display: inline-block;\">illum_</span> <span style=\"background-color: white; display: inline-block;\">nescit_</span> <span style=\"background-color: white; display: inline-block;\">,_</span> <span style=\"background-color: white; display: inline-block;\">neque_</span> <span style=\"background-color: white; display: inline-block;\">compress</span> <span style=\"background-color: white; display: inline-block;\">am_</span> <span style=\"background-color: white; display: inline-block;\">autem_</span> <span style=\"background-color: white; display: inline-block;\">pater_</span> <span style=\"background-color: white; display: inline-block;\">._</span> <span style=\"background-color: white; display: inline-block;\">[SEP]</span></p>"
      ],
      "text/plain": [
       "<IPython.core.display.HTML object>"
      ]
     },
     "metadata": {},
     "output_type": "display_data"
    },
    {
     "data": {
      "text/html": [
       "<p><b style=\"text-decoration: line-through;;\">positive</b> -> <span style=\"background-color: white; display: inline-block;\">[CLS]</span> <span style=\"background-color: white; display: inline-block;\">hunc_</span> <span style=\"background-color: white; display: inline-block;\">pat</span> <span style=\"background-color: white; display: inline-block;\">hic</span> <span style=\"background-color: white; display: inline-block;\">ae_</span> <span style=\"background-color: white; display: inline-block;\">summi_</span> <span style=\"background-color: white; display: inline-block;\">numinis_</span> <span style=\"background-color: white; display: inline-block;\">instar_</span> <span style=\"background-color: white; display: inline-block;\">habent_</span> <span style=\"background-color: white; display: inline-block;\">._</span> <span style=\"background-color: white; display: inline-block;\">[SEP]</span></p>"
      ],
      "text/plain": [
       "<IPython.core.display.HTML object>"
      ]
     },
     "metadata": {},
     "output_type": "display_data"
    },
    {
     "data": {
      "text/html": [
       "<p><b style=\"text-decoration: line-through;;\">positive</b> -> <span style=\"background-color: white; display: inline-block;\">[CLS]</span> <span style=\"background-color: white; display: inline-block;\">armi</span> <span style=\"background-color: white; display: inline-block;\">nium_</span> <span style=\"background-color: white; display: inline-block;\">super_</span> <span style=\"background-color: white; display: inline-block;\">insit</span> <span style=\"background-color: white; display: inline-block;\">am_</span> <span style=\"background-color: white; display: inline-block;\">violentiam_</span> <span style=\"background-color: white; display: inline-block;\">rapta</span> <span style=\"background-color: white; display: inline-block;\">_</span> <span style=\"background-color: white; display: inline-block;\">uxor_</span> <span style=\"background-color: white; display: inline-block;\">,_</span> <span style=\"background-color: white; display: inline-block;\">subiect</span> <span style=\"background-color: white; display: inline-block;\">us_</span> <span style=\"background-color: white; display: inline-block;\">servitio_</span> <span style=\"background-color: white; display: inline-block;\">uxoris_</span> <span style=\"background-color: #ff9f00; display: inline-block;\">uter</span> <span style=\"background-color: white; display: inline-block;\">us_</span> <span style=\"background-color: white; display: inline-block;\">va</span> <span style=\"background-color: white; display: inline-block;\">eco</span> <span style=\"background-color: white; display: inline-block;\">rde</span> <span style=\"background-color: white; display: inline-block;\">m_</span> <span style=\"background-color: white; display: inline-block;\">ageba</span> <span style=\"background-color: white; display: inline-block;\">nt_</span> <span style=\"background-color: white; display: inline-block;\">,_</span> <span style=\"background-color: white; display: inline-block;\">volit</span> <span style=\"background-color: white; display: inline-block;\">aba</span> <span style=\"background-color: white; display: inline-block;\">tqu</span> <span style=\"background-color: white; display: inline-block;\">e_</span> <span style=\"background-color: white; display: inline-block;\">-_</span> <span style=\"background-color: white; display: inline-block;\">que_</span> <span style=\"background-color: white; display: inline-block;\">per_</span> <span style=\"background-color: white; display: inline-block;\">cher</span> <span style=\"background-color: white; display: inline-block;\">usc</span> <span style=\"background-color: white; display: inline-block;\">os_</span> <span style=\"background-color: white; display: inline-block;\">,_</span> <span style=\"background-color: white; display: inline-block;\">arma_</span> <span style=\"background-color: white; display: inline-block;\">in_</span> <span style=\"background-color: white; display: inline-block;\">seges</span> <span style=\"background-color: white; display: inline-block;\">tem_</span> <span style=\"background-color: white; display: inline-block;\">,_</span> <span style=\"background-color: white; display: inline-block;\">arma_</span> <span style=\"background-color: white; display: inline-block;\">in_</span> <span style=\"background-color: white; display: inline-block;\">caesarem_</span> <span style=\"background-color: white; display: inline-block;\">posce</span> <span style=\"background-color: white; display: inline-block;\">ns_</span> <span style=\"background-color: white; display: inline-block;\">._</span> <span style=\"background-color: white; display: inline-block;\">[SEP]</span></p>"
      ],
      "text/plain": [
       "<IPython.core.display.HTML object>"
      ]
     },
     "metadata": {},
     "output_type": "display_data"
    },
    {
     "data": {
      "text/html": [
       "<p><b style=\"text-decoration: line-through;;\">positive</b> -> <span style=\"background-color: white; display: inline-block;\">[CLS]</span> <span style=\"background-color: white; display: inline-block;\">memoratu</span> <span style=\"background-color: white; display: inline-block;\">r_</span> <span style=\"background-color: white; display: inline-block;\">et_</span> <span style=\"background-color: white; display: inline-block;\">nico</span> <span style=\"background-color: white; display: inline-block;\">medi</span> <span style=\"background-color: white; display: inline-block;\">s_</span> <span style=\"background-color: white; display: inline-block;\">bithyn</span> <span style=\"background-color: white; display: inline-block;\">iae_</span> <span style=\"background-color: white; display: inline-block;\">regis_</span> <span style=\"background-color: white; display: inline-block;\">,_</span> <span style=\"background-color: white; display: inline-block;\">uxore_</span> <span style=\"background-color: white; display: inline-block;\">eius_</span> <span style=\"background-color: white; display: inline-block;\">cos</span> <span style=\"background-color: white; display: inline-block;\">ingi</span> <span style=\"background-color: white; display: inline-block;\">_</span> <span style=\"background-color: white; display: inline-block;\">lacerat</span> <span style=\"background-color: white; display: inline-block;\">a_</span> <span style=\"background-color: white; display: inline-block;\">propter_</span> <span style=\"background-color: white; display: inline-block;\">lascivi</span> <span style=\"background-color: white; display: inline-block;\">orem_</span> <span style=\"background-color: white; display: inline-block;\">cum_</span> <span style=\"background-color: yellow; display: inline-block;\">marito_</span> <span style=\"background-color: #ffdf00; display: inline-block;\">iocu</span> <span style=\"background-color: white; display: inline-block;\">m_</span> <span style=\"background-color: white; display: inline-block;\">._</span> <span style=\"background-color: white; display: inline-block;\">[SEP]</span></p>"
      ],
      "text/plain": [
       "<IPython.core.display.HTML object>"
      ]
     },
     "metadata": {},
     "output_type": "display_data"
    },
    {
     "data": {
      "text/html": [
       "<p><b style=\"text-decoration: line-through;;\">positive</b> -> <span style=\"background-color: white; display: inline-block;\">[CLS]</span> <span style=\"background-color: white; display: inline-block;\">metro</span> <span style=\"background-color: white; display: inline-block;\">mani</span> <span style=\"background-color: white; display: inline-block;\">am_</span> <span style=\"background-color: white; display: inline-block;\">latino_</span> <span style=\"background-color: white; display: inline-block;\">sermone_</span> <span style=\"background-color: white; display: inline-block;\">matri</span> <span style=\"background-color: white; display: inline-block;\">cis_</span> <span style=\"background-color: white; display: inline-block;\">furo</span> <span style=\"background-color: white; display: inline-block;\">res_</span> <span style=\"background-color: white; display: inline-block;\">siue_</span> <span style=\"background-color: white; display: inline-block;\">insania</span> <span style=\"background-color: white; display: inline-block;\">m_</span> <span style=\"background-color: white; display: inline-block;\">dicimus_</span> <span style=\"background-color: white; display: inline-block;\">._</span> <span style=\"background-color: white; display: inline-block;\">[SEP]</span></p>"
      ],
      "text/plain": [
       "<IPython.core.display.HTML object>"
      ]
     },
     "metadata": {},
     "output_type": "display_data"
    },
    {
     "data": {
      "text/html": [
       "<p><b style=\"text-decoration: line-through;;\">positive</b> -> <span style=\"background-color: white; display: inline-block;\">[CLS]</span> <span style=\"background-color: white; display: inline-block;\">ego_</span> <span style=\"background-color: white; display: inline-block;\">sic_</span> <span style=\"background-color: white; display: inline-block;\">perire_</span> <span style=\"background-color: yellow; display: inline-block;\">coepi</span> <span style=\"background-color: white; display: inline-block;\">_</span> <span style=\"background-color: yellow; display: inline-block;\">._</span> <span style=\"background-color: #ffdf00; display: inline-block;\">[SEP]</span></p>"
      ],
      "text/plain": [
       "<IPython.core.display.HTML object>"
      ]
     },
     "metadata": {},
     "output_type": "display_data"
    },
    {
     "data": {
      "text/html": [
       "<p><b style=\"text-decoration: line-through;;\">positive</b> -> <span style=\"background-color: white; display: inline-block;\">[CLS]</span> <span style=\"background-color: white; display: inline-block;\">fuerunt_</span> <span style=\"background-color: white; display: inline-block;\">ex_</span> <span style=\"background-color: white; display: inline-block;\">populo_</span> <span style=\"background-color: white; display: inline-block;\">qui_</span> <span style=\"background-color: white; display: inline-block;\">dicerent_</span> <span style=\"background-color: white; display: inline-block;\">:_</span> <span style=\"background-color: white; display: inline-block;\">hic_</span> <span style=\"background-color: white; display: inline-block;\">meum_</span> <span style=\"background-color: white; display: inline-block;\">filium_</span> <span style=\"background-color: white; display: inline-block;\">,_</span> <span style=\"background-color: white; display: inline-block;\">hic_</span> <span style=\"background-color: white; display: inline-block;\">meam_</span> <span style=\"background-color: white; display: inline-block;\">corrup</span> <span style=\"background-color: white; display: inline-block;\">it_</span> <span style=\"background-color: white; display: inline-block;\">uxorem_</span> <span style=\"background-color: white; display: inline-block;\">suum_</span> <span style=\"background-color: white; display: inline-block;\">quisque_</span> <span style=\"background-color: white; display: inline-block;\">illo_</span> <span style=\"background-color: white; display: inline-block;\">et_</span> <span style=\"background-color: white; display: inline-block;\">ignem_</span> <span style=\"background-color: white; display: inline-block;\">adt</span> <span style=\"background-color: white; display: inline-block;\">ulit_</span> <span style=\"background-color: white; display: inline-block;\">et_</span> <span style=\"background-color: white; display: inline-block;\">dolorem_</span> <span style=\"background-color: white; display: inline-block;\">._</span> <span style=\"background-color: yellow; display: inline-block;\">[SEP]</span></p>"
      ],
      "text/plain": [
       "<IPython.core.display.HTML object>"
      ]
     },
     "metadata": {},
     "output_type": "display_data"
    },
    {
     "data": {
      "text/html": [
       "<p><b style=\"text-decoration: line-through;;\">positive</b> -> <span style=\"background-color: white; display: inline-block;\">[CLS]</span> <span style=\"background-color: white; display: inline-block;\">nemo_</span> <span style=\"background-color: white; display: inline-block;\">,_</span> <span style=\"background-color: white; display: inline-block;\">inquit_</span> <span style=\"background-color: white; display: inline-block;\">,_</span> <span style=\"background-color: white; display: inline-block;\">mihi_</span> <span style=\"background-color: yellow; display: inline-block;\">uirgin</span> <span style=\"background-color: #ffdf00; display: inline-block;\">itatem_</span> <span style=\"background-color: white; display: inline-block;\">eripui</span> <span style=\"background-color: white; display: inline-block;\">t_</span> <span style=\"background-color: white; display: inline-block;\">:_</span> <span style=\"background-color: white; display: inline-block;\">sed_</span> <span style=\"background-color: white; display: inline-block;\">omnes_</span> <span style=\"background-color: white; display: inline-block;\">quasi_</span> <span style=\"background-color: white; display: inline-block;\">erept</span> <span style=\"background-color: white; display: inline-block;\">uri_</span> <span style=\"background-color: white; display: inline-block;\">uener</span> <span style=\"background-color: white; display: inline-block;\">unt_</span> <span style=\"background-color: white; display: inline-block;\">:_</span> <span style=\"background-color: white; display: inline-block;\">sed_</span> <span style=\"background-color: white; display: inline-block;\">omnes_</span> <span style=\"background-color: white; display: inline-block;\">quasi_</span> <span style=\"background-color: white; display: inline-block;\">eripui</span> <span style=\"background-color: white; display: inline-block;\">ssent_</span> <span style=\"background-color: white; display: inline-block;\">recesser</span> <span style=\"background-color: white; display: inline-block;\">unt_</span> <span style=\"background-color: white; display: inline-block;\">._</span> <span style=\"background-color: white; display: inline-block;\">[SEP]</span></p>"
      ],
      "text/plain": [
       "<IPython.core.display.HTML object>"
      ]
     },
     "metadata": {},
     "output_type": "display_data"
    },
    {
     "data": {
      "text/html": [
       "<p><b style=\"text-decoration: line-through;;\">positive</b> -> <span style=\"background-color: white; display: inline-block;\">[CLS]</span> <span style=\"background-color: white; display: inline-block;\">contre</span> <span style=\"background-color: white; display: inline-block;\">ctar</span> <span style=\"background-color: white; display: inline-block;\">e_</span> <span style=\"background-color: white; display: inline-block;\">manu_</span> <span style=\"background-color: white; display: inline-block;\">coepit_</span> <span style=\"background-color: white; display: inline-block;\">flagrant</span> <span style=\"background-color: white; display: inline-block;\">ia_</span> <span style=\"background-color: white; display: inline-block;\">membra_</span> <span style=\"background-color: white; display: inline-block;\">:_</span> <span style=\"background-color: white; display: inline-block;\">perst</span> <span style=\"background-color: white; display: inline-block;\">itit_</span> <span style=\"background-color: white; display: inline-block;\">in_</span> <span style=\"background-color: white; display: inline-block;\">medio_</span> <span style=\"background-color: white; display: inline-block;\">frigus_</span> <span style=\"background-color: white; display: inline-block;\">ut_</span> <span style=\"background-color: white; display: inline-block;\">ante_</span> <span style=\"background-color: white; display: inline-block;\">foc</span> <span style=\"background-color: white; display: inline-block;\">o_</span> <span style=\"background-color: white; display: inline-block;\">._</span> <span style=\"background-color: white; display: inline-block;\">[SEP]</span></p>"
      ],
      "text/plain": [
       "<IPython.core.display.HTML object>"
      ]
     },
     "metadata": {},
     "output_type": "display_data"
    },
    {
     "data": {
      "text/html": [
       "<p><b style=\"text-decoration: line-through;;\">positive</b> -> <span style=\"background-color: white; display: inline-block;\">[CLS]</span> <span style=\"background-color: white; display: inline-block;\">si_</span> <span style=\"background-color: white; display: inline-block;\">his_</span> <span style=\"background-color: white; display: inline-block;\">omnibus_</span> <span style=\"background-color: white; display: inline-block;\">rite_</span> <span style=\"background-color: white; display: inline-block;\">adhibit</span> <span style=\"background-color: white; display: inline-block;\">is_</span> <span style=\"background-color: white; display: inline-block;\">naturalis_</span> <span style=\"background-color: white; display: inline-block;\">circa_</span> <span style=\"background-color: white; display: inline-block;\">purgatio</span> <span style=\"background-color: white; display: inline-block;\">nem_</span> <span style=\"background-color: white; display: inline-block;\">ordo_</span> <span style=\"background-color: white; display: inline-block;\">permans</span> <span style=\"background-color: white; display: inline-block;\">erit_</span> <span style=\"background-color: white; display: inline-block;\">,_</span> <span style=\"background-color: #ffdf00; display: inline-block;\">matri</span> <span style=\"background-color: white; display: inline-block;\">cis_</span> <span style=\"background-color: yellow; display: inline-block;\">ori</span> <span style=\"background-color: white; display: inline-block;\">fici</span> <span style=\"background-color: white; display: inline-block;\">o_</span> <span style=\"background-color: white; display: inline-block;\">mediocrit</span> <span style=\"background-color: white; display: inline-block;\">er_</span> <span style=\"background-color: white; display: inline-block;\">relaxa</span> <span style=\"background-color: white; display: inline-block;\">to_</span> <span style=\"background-color: white; display: inline-block;\">iam_</span> <span style=\"background-color: white; display: inline-block;\">adiutor</span> <span style=\"background-color: white; display: inline-block;\">iis_</span> <span style=\"background-color: white; display: inline-block;\">conception</span> <span style=\"background-color: white; display: inline-block;\">em_</span> <span style=\"background-color: white; display: inline-block;\">procura</span> <span style=\"background-color: white; display: inline-block;\">ntibus_</span> <span style=\"background-color: white; display: inline-block;\">immine</span> <span style=\"background-color: white; display: inline-block;\">ndum_</span> <span style=\"background-color: white; display: inline-block;\">est_</span> <span style=\"background-color: white; display: inline-block;\">._</span> <span style=\"background-color: white; display: inline-block;\">[SEP]</span></p>"
      ],
      "text/plain": [
       "<IPython.core.display.HTML object>"
      ]
     },
     "metadata": {},
     "output_type": "display_data"
    },
    {
     "data": {
      "text/html": [
       "<p><b style=\"text-decoration: line-through;;\">positive</b> -> <span style=\"background-color: white; display: inline-block;\">[CLS]</span> <span style=\"background-color: white; display: inline-block;\">cum_</span> <span style=\"background-color: white; display: inline-block;\">mora_</span> <span style=\"background-color: white; display: inline-block;\">non_</span> <span style=\"background-color: white; display: inline-block;\">tuta_</span> <span style=\"background-color: white; display: inline-block;\">est_</span> <span style=\"background-color: white; display: inline-block;\">,_</span> <span style=\"background-color: white; display: inline-block;\">totis_</span> <span style=\"background-color: white; display: inline-block;\">incumbe</span> <span style=\"background-color: white; display: inline-block;\">re_</span> <span style=\"background-color: white; display: inline-block;\">remis_</span> <span style=\"background-color: white; display: inline-block;\">utile_</span> <span style=\"background-color: white; display: inline-block;\">,_</span> <span style=\"background-color: white; display: inline-block;\">et_</span> <span style=\"background-color: white; display: inline-block;\">admiss</span> <span style=\"background-color: white; display: inline-block;\">o_</span> <span style=\"background-color: white; display: inline-block;\">subde</span> <span style=\"background-color: white; display: inline-block;\">re_</span> <span style=\"background-color: white; display: inline-block;\">calca</span> <span style=\"background-color: white; display: inline-block;\">r_</span> <span style=\"background-color: white; display: inline-block;\">equo_</span> <span style=\"background-color: white; display: inline-block;\">._</span> <span style=\"background-color: white; display: inline-block;\">[SEP]</span></p>"
      ],
      "text/plain": [
       "<IPython.core.display.HTML object>"
      ]
     },
     "metadata": {},
     "output_type": "display_data"
    }
   ],
   "source": [
    "from IPython.core.display import display as _display, HTML  as _HTML\n",
    "data.iloc[0]\n",
    "\n",
    "COLORS = [Color(\"white\")] + list(Color(\"yellow\").range_to(Color(\"red\"),9))\n",
    "\n",
    "def visualize(sentence, attention, tag=\"p\", colors=None, display=True, label=None, is_right: bool = False,\n",
    "             show_score: bool = False, use_subword=False):\n",
    "    if not colors:\n",
    "        colors = COLORS\n",
    "\n",
    "    # print(attention)\n",
    "    \n",
    "    if use_subword:\n",
    "        sentence = sentence[\"token_subword\"]\n",
    "    else:\n",
    "        sentence = sentence[\"sentence\"]\n",
    "        \n",
    "    html = f\"<{tag}>\"\n",
    "    if label:\n",
    "        html += f\"<b style=\\\"{'text-decoration: line-through;' if not is_right else ''};\\\">{label}</b> -> \"\n",
    "    if show_score:\n",
    "        html += f\"<i>{max(attention):.2f}</i> -> \"\n",
    "    \n",
    "    if attention is not None:\n",
    "        spans = [\n",
    "            f\"<span style=\\\"background-color: {colors[max(0, round(s*10) - 1)]}; display: inline-block;\\\">{w}</span>\"\n",
    "            for w, s in zip(sentence.split(\" \"), attention)\n",
    "        ]\n",
    "    else:\n",
    "        spans = [\n",
    "            f\"<span style=\\\"display: inline-block;\\\">{w}</span>\"\n",
    "            for w in sentence.split(\" \")\n",
    "        ]\n",
    "        \n",
    "    html += \" \".join(spans) + f\"</{tag}>\"\n",
    "\n",
    "    if display:\n",
    "        _display(_HTML(html))\n",
    "    return html\n",
    "\n",
    "html = \"<div>\"\n",
    "for idx, row in data.iterrows():\n",
    "    if dont_show_ok and row[\"ok\"] == True:\n",
    "        continue\n",
    "    html += \"    %s\\n\" % visualize(\n",
    "        row,\n",
    "        row.get(\"attention\") if has_attention else None,\n",
    "        label=row[\"label\"],\n",
    "        is_right=row[\"ok\"],\n",
    "        use_subword=True\n",
    "    )\n",
    "html += \"</div>\"\n",
    "#print(html)"
   ]
  },
  {
   "cell_type": "code",
   "execution_count": null,
   "id": "c9bbf486",
   "metadata": {},
   "outputs": [],
   "source": []
  }
 ],
 "metadata": {
  "kernelspec": {
   "display_name": "Python 3",
   "language": "python",
   "name": "python3"
  },
  "language_info": {
   "codemirror_mode": {
    "name": "ipython",
    "version": 3
   },
   "file_extension": ".py",
   "mimetype": "text/x-python",
   "name": "python",
   "nbconvert_exporter": "python",
   "pygments_lexer": "ipython3",
   "version": "3.8.10"
  },
  "toc": {
   "base_numbering": 1,
   "nav_menu": {},
   "number_sections": true,
   "sideBar": true,
   "skip_h1_title": false,
   "title_cell": "Table of Contents",
   "title_sidebar": "Contents",
   "toc_cell": false,
   "toc_position": {},
   "toc_section_display": true,
   "toc_window_display": false
  }
 },
 "nbformat": 4,
 "nbformat_minor": 5
}
