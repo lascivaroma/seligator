{
 "cells": [
  {
   "cell_type": "code",
   "execution_count": 4,
   "id": "3b961443",
   "metadata": {},
   "outputs": [],
   "source": [
    "import glob\n",
    "import gzip\n",
    "import os.path\n",
    "import shutil\n",
    "\n",
    "for file in glob.glob(\"test_dumps/*.csv\"):\n",
    "    if not os.path.exists(file+\".gz\"):\n",
    "        with open(file, \"rb\") as inp:\n",
    "            with gzip.open(file+\".gz\", \"wb\") as out:\n",
    "                shutil.copyfileobj(inp, out)"
   ]
  },
  {
   "cell_type": "code",
   "execution_count": 3,
   "id": "e53e69cb",
   "metadata": {},
   "outputs": [],
   "source": [
    "\n",
    "for file in glob.glob(\"test_dumps/*.csv.gz\"):\n",
    "    if not os.path.exists(file[:-3]):\n",
    "        with open(file[:-3], \"w\") as fake:\n",
    "            fake.write(\"Hi\")"
   ]
  }
 ],
 "metadata": {
  "kernelspec": {
   "display_name": "Python 3",
   "language": "python",
   "name": "python3"
  },
  "language_info": {
   "codemirror_mode": {
    "name": "ipython",
    "version": 3
   },
   "file_extension": ".py",
   "mimetype": "text/x-python",
   "name": "python",
   "nbconvert_exporter": "python",
   "pygments_lexer": "ipython3",
   "version": "3.8.10"
  },
  "toc": {
   "base_numbering": 1,
   "nav_menu": {},
   "number_sections": true,
   "sideBar": true,
   "skip_h1_title": false,
   "title_cell": "Table of Contents",
   "title_sidebar": "Contents",
   "toc_cell": false,
   "toc_position": {},
   "toc_section_display": true,
   "toc_window_display": false
  }
 },
 "nbformat": 4,
 "nbformat_minor": 5
}
