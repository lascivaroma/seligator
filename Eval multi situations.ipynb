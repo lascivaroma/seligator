{
 "cells": [
  {
   "cell_type": "code",
   "execution_count": 1,
   "id": "c8cada16",
   "metadata": {},
   "outputs": [
    {
     "name": "stderr",
     "output_type": "stream",
     "text": [
      "2021-07-27 17:56:43.813836: I tensorflow/stream_executor/platform/default/dso_loader.cc:53] Successfully opened dynamic library libcudart.so.11.0\n"
     ]
    }
   ],
   "source": [
    "from seligator.common.params import MetadataEncoding\n",
    "from seligator.simple_demo import prepare_model, train_and_get\n",
    "from seligator.tests.evaluate import *\n",
    "from seligator.models.siamese import SiameseClassifier"
   ]
  },
  {
   "cell_type": "code",
   "execution_count": 2,
   "id": "a04f5e7d",
   "metadata": {
    "scrolled": true
   },
   "outputs": [
    {
     "name": "stderr",
     "output_type": "stream",
     "text": [
      "INFO:root:Dataset reader set with following categories: [msd], lemma_char, lemma\n",
      "/home/thibault/dev/est-lascivuum-non-est/env/lib/python3.8/site-packages/allennlp/data/token_indexers/token_characters_indexer.py:55: UserWarning: You are using the default value (0) of `min_padding_length`, which can cause some subtle bugs (more info see https://github.com/allenai/allennlp/issues/1954). Strongly recommend to set a value, usually the maximum size of the convolutional layer size when using CnnEncoder.\n",
      "  warnings.warn(\n",
      "INFO:root:Indexer set for following categories: [msd], lemma_char, lemma\n",
      "INFO:root:TSV READER uses following metadata encoding MetadataEncoding.IGNORE \n",
      "INFO:root:Reading data\n",
      "WARNING:allennlp.data.fields.multilabel_field:Your label namespace was '[msd]'. We recommend you use a namespace ending with 'labels' or 'tags', so we don't add UNK and PAD tokens by default to your vocabulary.  See documentation for `non_padded_namespaces` parameter in Vocabulary.\n",
      "INFO:root:Building the vocabulary\n",
      "INFO:allennlp.data.vocabulary:Fitting token dictionary from dataset.\n"
     ]
    },
    {
     "data": {
      "application/vnd.jupyter.widget-view+json": {
       "model_id": "04a443406a5749a9bd33ec0416ec168c",
       "version_major": 2,
       "version_minor": 0
      },
      "text/plain": [
       "building vocab:   0%|          | 0/5427 [00:00<?, ?it/s]"
      ]
     },
     "metadata": {},
     "output_type": "display_data"
    },
    {
     "name": "stderr",
     "output_type": "stream",
     "text": [
      "/home/thibault/dev/est-lascivuum-non-est/env/lib/python3.8/site-packages/torch/nn/modules/rnn.py:60: UserWarning: dropout option adds dropout after all but last recurrent layer, so non-zero dropout expects num_layers greater than 1, but got dropout=0.3 and num_layers=1\n",
      "  warnings.warn(\"dropout option adds dropout after all but last \"\n",
      "INFO:allennlp.training.optimizers:Number of trainable parameters: 3252682\n",
      "INFO:root:Num epochs: 20\n",
      "INFO:root:Starting training\n",
      "INFO:allennlp.training.gradient_descent_trainer:Beginning training.\n",
      "INFO:allennlp.training.gradient_descent_trainer:Epoch 0/19\n",
      "INFO:allennlp.training.gradient_descent_trainer:Worker 0 memory usage: 2.7G\n",
      "INFO:allennlp.training.gradient_descent_trainer:GPU 0 memory usage: 15M\n",
      "INFO:allennlp.training.gradient_descent_trainer:Training\n"
     ]
    },
    {
     "name": "stdout",
     "output_type": "stream",
     "text": [
      "---> Epochs:   20\n",
      "---> Patience: 10\n"
     ]
    },
    {
     "data": {
      "application/vnd.jupyter.widget-view+json": {
       "model_id": "ca78f2329dba40fe9789dbfc61f7cec9",
       "version_major": 2,
       "version_minor": 0
      },
      "text/plain": [
       "  0%|          | 0/1357 [00:00<?, ?it/s]"
      ]
     },
     "metadata": {},
     "output_type": "display_data"
    },
    {
     "name": "stderr",
     "output_type": "stream",
     "text": [
      "/home/thibault/dev/est-lascivuum-non-est/seligator/models/classifier.py:32: UserWarning: Implicit dimension choice for softmax has been deprecated. Change the call to include dim=X as an argument.\n",
      "  probs = F.softmax(logits)\n",
      "INFO:allennlp.training.callbacks.console_logger:Batch inputs\n",
      "INFO:allennlp.training.callbacks.console_logger:batch_input/[msd] (Shape: 4 x 31 x 52)\n",
      "tensor([[[0, 0, 1,  ..., 0, 0, 0],\n",
      "         [0, 0, 0,  ..., 0, 0, 0],\n",
      "         [0, 0, 1,  ..., 0, 0, 0],\n",
      "         ...,\n",
      "         [0, 0, 0,  ..., 0, 0, 0],\n",
      "         [0, 0, 0,  ..., 0, 0, 0],\n",
      "         [0, 0, 0,  ..., 0, 0, 0]],\n",
      "\n",
      "        [[0, 0, 1,  ..., 0, 0, 0],\n",
      "         [0, 0, 1,  ..., 0, 0, 0],\n",
      "         [0, 0, 1,  ..., 0, 0, 0],\n",
      "         ...,\n",
      "         [0, 0, 0,  ..., 0, 0, 0],\n",
      "         [0, 0, 0,  ..., 0, 0, 0],\n",
      "         [0, 0, 0,  ..., 0, 0, 0]],\n",
      "\n",
      "        [[0, 0, 1,  ..., 0, 0, 0],\n",
      "         [0, 0, 0,  ..., 0, 0, 0],\n",
      "         [0, 0, 1,  ..., 0, 0, 0],\n",
      "         ...,\n",
      "         [0, 0, 1,  ..., 0, 0, 0],\n",
      "         [0, 0, 1,  ..., 0, 0, 0],\n",
      "         [0, 0, 1,  ..., 0, 0, 0]],\n",
      "\n",
      "        [[0, 0, 1,  ..., 0, 0, 0],\n",
      "         [0, 0, 1,  ..., 0, 0, 0],\n",
      "         [0, 0, 1,  ..., 0, 0, 0],\n",
      "         ...,\n",
      "         [0, 0, 0,  ..., 0, 0, 0],\n",
      "         [0, 0, 0,  ..., 0, 0, 0],\n",
      "         [0, 0, 0,  ..., 0, 0, 0]]], device='cuda:0')\n",
      "INFO:allennlp.training.callbacks.console_logger:batch_input/lemma_char/lemma_char/token_characters (Shape: 4 x 31 x 12)\n",
      "tensor([[[14, 10,  7,  ...,  6,  0,  0],\n",
      "         [ 7, 13,  8,  ...,  0,  0,  0],\n",
      "         [22,  2, 11,  ...,  0,  0,  0],\n",
      "         ...,\n",
      "         [ 0,  0,  0,  ...,  0,  0,  0],\n",
      "         [ 0,  0,  0,  ...,  0,  0,  0],\n",
      "         [ 0,  0,  0,  ...,  0,  0,  0]],\n",
      "\n",
      "        [[44,  3,  8,  ...,  0,  0,  0],\n",
      "         [24,  4,  2,  ...,  0,  0,  0],\n",
      "         [18,  0,  0,  ...,  0,  0,  0],\n",
      "         ...,\n",
      "         [ 0,  0,  0,  ...,  0,  0,  0],\n",
      "         [ 0,  0,  0,  ...,  0,  0,  0],\n",
      "         [ 0,  0,  0,  ...,  0,  0,  0]],\n",
      "\n",
      "        [[ 2,  4,  9,  ...,  0,  0,  0],\n",
      "         [15,  4,  9,  ...,  0,  0,  0],\n",
      "         [ 5,  2, 11,  ...,  0,  0,  0],\n",
      "         ...,\n",
      "         [18,  0,  0,  ...,  0,  0,  0],\n",
      "         [10,  4, 13,  ...,  0,  0,  0],\n",
      "         [23,  0,  0,  ...,  0,  0,  0]],\n",
      "\n",
      "        [[14, 10,  7,  ...,  0,  0,  0],\n",
      "         [ 6, 11,  9,  ...,  0,  0,  0],\n",
      "         [ 6, 13,  2,  ...,  0,  0,  0],\n",
      "         ...,\n",
      "         [ 0,  0,  0,  ...,  0,  0,  0],\n",
      "         [ 0,  0,  0,  ...,  0,  0,  0],\n",
      "         [ 0,  0,  0,  ...,  0,  0,  0]]], device='cuda:0')\n",
      "INFO:allennlp.training.callbacks.console_logger:batch_input/lemma/lemma/tokens (Shape: 4 x 31)\n",
      "tensor([[3598,  400, 3152,  ...,    0,    0,    0],\n",
      "        [1366, 3007,    2,  ...,    0,    0,    0],\n",
      "        [  80,  277,    5,  ...,    2, 3836,    3],\n",
      "        [1819,   23, 2449,  ...,    0,    0,    0]], device='cuda:0')\n",
      "INFO:allennlp.training.callbacks.console_logger:batch_input/label (Shape: 4)\n",
      "tensor([0, 0, 0, 0], device='cuda:0')\n",
      "INFO:allennlp.training.callbacks.console_logger:Field : \"batch_input/metadata\" : (Length 4 of type \"<class 'dict'>\")\n",
      "INFO:allennlp.training.gradient_descent_trainer:Validating\n"
     ]
    },
    {
     "data": {
      "application/vnd.jupyter.widget-view+json": {
       "model_id": "f08c4a19714449109c7667187d38dbbc",
       "version_major": 2,
       "version_minor": 0
      },
      "text/plain": [
       "  0%|          | 0/170 [00:00<?, ?it/s]"
      ]
     },
     "metadata": {},
     "output_type": "display_data"
    },
    {
     "name": "stderr",
     "output_type": "stream",
     "text": [
      "INFO:allennlp.training.callbacks.console_logger:Batch inputs\n",
      "INFO:allennlp.training.callbacks.console_logger:batch_input/[msd] (Shape: 4 x 35 x 52)\n",
      "tensor([[[0, 0, 1,  ..., 0, 0, 0],\n",
      "         [0, 0, 1,  ..., 0, 0, 0],\n",
      "         [0, 0, 1,  ..., 0, 0, 0],\n",
      "         ...,\n",
      "         [0, 0, 0,  ..., 0, 0, 0],\n",
      "         [0, 0, 0,  ..., 0, 0, 0],\n",
      "         [0, 0, 0,  ..., 0, 0, 0]],\n",
      "\n",
      "        [[0, 0, 1,  ..., 0, 0, 0],\n",
      "         [0, 0, 1,  ..., 0, 0, 0],\n",
      "         [0, 0, 1,  ..., 0, 0, 0],\n",
      "         ...,\n",
      "         [0, 0, 0,  ..., 0, 0, 0],\n",
      "         [0, 0, 0,  ..., 0, 0, 0],\n",
      "         [0, 0, 0,  ..., 0, 0, 0]],\n",
      "\n",
      "        [[0, 0, 1,  ..., 0, 0, 0],\n",
      "         [0, 0, 1,  ..., 0, 0, 0],\n",
      "         [0, 0, 0,  ..., 0, 0, 0],\n",
      "         ...,\n",
      "         [0, 0, 1,  ..., 0, 0, 0],\n",
      "         [0, 0, 1,  ..., 0, 0, 0],\n",
      "         [0, 0, 1,  ..., 0, 0, 0]],\n",
      "\n",
      "        [[0, 0, 1,  ..., 0, 0, 0],\n",
      "         [0, 0, 1,  ..., 0, 0, 0],\n",
      "         [0, 0, 1,  ..., 0, 0, 0],\n",
      "         ...,\n",
      "         [0, 0, 0,  ..., 0, 0, 0],\n",
      "         [0, 0, 0,  ..., 0, 0, 0],\n",
      "         [0, 0, 0,  ..., 0, 0, 0]]], device='cuda:0')\n",
      "INFO:allennlp.training.callbacks.console_logger:batch_input/lemma_char/lemma_char/token_characters (Shape: 4 x 35 x 12)\n",
      "tensor([[[19,  2,  3,  ...,  0,  0,  0],\n",
      "         [ 4, 10, 20,  ...,  0,  0,  0],\n",
      "         [18,  0,  0,  ...,  0,  0,  0],\n",
      "         ...,\n",
      "         [ 0,  0,  0,  ...,  0,  0,  0],\n",
      "         [ 0,  0,  0,  ...,  0,  0,  0],\n",
      "         [ 0,  0,  0,  ...,  0,  0,  0]],\n",
      "\n",
      "        [[ 4,  8, 17,  ...,  0,  0,  0],\n",
      "         [ 7,  2, 15,  ...,  0,  0,  0],\n",
      "         [34, 13,  4,  ...,  0,  0,  0],\n",
      "         ...,\n",
      "         [ 0,  0,  0,  ...,  0,  0,  0],\n",
      "         [ 0,  0,  0,  ...,  0,  0,  0],\n",
      "         [ 0,  0,  0,  ...,  0,  0,  0]],\n",
      "\n",
      "        [[19,  2,  7,  ...,  0,  0,  0],\n",
      "         [ 4,  9,  3,  ...,  0,  0,  0],\n",
      "         [ 7, 15,  4,  ...,  0,  0,  0],\n",
      "         ...,\n",
      "         [11,  2, 13,  ...,  0,  0,  0],\n",
      "         [ 5,  2, 11,  ...,  0,  0,  0],\n",
      "         [23,  0,  0,  ...,  0,  0,  0]],\n",
      "\n",
      "        [[19,  2,  3,  ...,  0,  0,  0],\n",
      "         [ 5,  2,  5,  ...,  0,  0,  0],\n",
      "         [ 7, 21,  0,  ...,  0,  0,  0],\n",
      "         ...,\n",
      "         [ 0,  0,  0,  ...,  0,  0,  0],\n",
      "         [ 0,  0,  0,  ...,  0,  0,  0],\n",
      "         [ 0,  0,  0,  ...,  0,  0,  0]]], device='cuda:0')\n",
      "INFO:allennlp.training.callbacks.console_logger:batch_input/lemma/lemma/tokens (Shape: 4 x 35)\n",
      "tensor([[  34,  112,    2,  ...,    0,    0,    0],\n",
      "        [   4,  169,  996,  ...,    0,    0,    0],\n",
      "        [1387,   40,  665,  ..., 5058,    5,    3],\n",
      "        [  34, 1572,   18,  ...,    0,    0,    0]], device='cuda:0')\n",
      "INFO:allennlp.training.callbacks.console_logger:batch_input/label (Shape: 4)\n",
      "tensor([0, 0, 0, 0], device='cuda:0')\n",
      "INFO:allennlp.training.callbacks.console_logger:Field : \"batch_input/metadata\" : (Length 4 of type \"<class 'dict'>\")\n",
      "INFO:allennlp.training.callbacks.console_logger:                       Training |  Validation\n",
      "INFO:allennlp.training.callbacks.console_logger:accuracy           |     0.795  |     0.888\n",
      "INFO:allennlp.training.callbacks.console_logger:fscore             |     0.758  |     0.879\n",
      "INFO:allennlp.training.callbacks.console_logger:fscore-negative    |     0.852  |     0.912\n",
      "INFO:allennlp.training.callbacks.console_logger:fscore-positive    |     0.665  |     0.845\n",
      "INFO:allennlp.training.callbacks.console_logger:gpu_0_memory_MB    |    14.708  |       N/A\n",
      "INFO:allennlp.training.callbacks.console_logger:loss               |     0.433  |     0.280\n",
      "INFO:allennlp.training.callbacks.console_logger:precision          |     0.812  |     0.884\n",
      "INFO:allennlp.training.callbacks.console_logger:precision-negative |     0.779  |     0.898\n",
      "INFO:allennlp.training.callbacks.console_logger:precision-positive |     0.845  |     0.870\n",
      "INFO:allennlp.training.callbacks.console_logger:recall             |     0.744  |     0.874\n",
      "INFO:allennlp.training.callbacks.console_logger:recall-negative    |     0.939  |     0.927\n",
      "INFO:allennlp.training.callbacks.console_logger:recall-positive    |     0.548  |     0.821\n",
      "INFO:allennlp.training.callbacks.console_logger:worker_0_memory_MB |  2785.074  |       N/A\n",
      "INFO:allennlp.training.gradient_descent_trainer:Epoch duration: 0:00:18.876251\n",
      "INFO:allennlp.training.gradient_descent_trainer:Estimated training time remaining: 0:05:57\n",
      "INFO:allennlp.training.gradient_descent_trainer:Epoch 1/19\n",
      "INFO:allennlp.training.gradient_descent_trainer:Worker 0 memory usage: 2.7G\n",
      "INFO:allennlp.training.gradient_descent_trainer:GPU 0 memory usage: 95M\n",
      "INFO:allennlp.training.gradient_descent_trainer:Training\n"
     ]
    },
    {
     "data": {
      "application/vnd.jupyter.widget-view+json": {
       "model_id": "479a7fc0855d48c7b3cc6ffeb90f0f42",
       "version_major": 2,
       "version_minor": 0
      },
      "text/plain": [
       "  0%|          | 0/1357 [00:00<?, ?it/s]"
      ]
     },
     "metadata": {},
     "output_type": "display_data"
    },
    {
     "name": "stderr",
     "output_type": "stream",
     "text": [
      "INFO:allennlp.training.gradient_descent_trainer:Validating\n"
     ]
    },
    {
     "data": {
      "application/vnd.jupyter.widget-view+json": {
       "model_id": "eb3ad1989578483abe28847c45eb8c0b",
       "version_major": 2,
       "version_minor": 0
      },
      "text/plain": [
       "  0%|          | 0/170 [00:00<?, ?it/s]"
      ]
     },
     "metadata": {},
     "output_type": "display_data"
    },
    {
     "name": "stderr",
     "output_type": "stream",
     "text": [
      "INFO:allennlp.training.callbacks.console_logger:                       Training |  Validation\n",
      "INFO:allennlp.training.callbacks.console_logger:accuracy           |     0.943  |     0.887\n",
      "INFO:allennlp.training.callbacks.console_logger:fscore             |     0.938  |     0.877\n",
      "INFO:allennlp.training.callbacks.console_logger:fscore-negative    |     0.953  |     0.911\n",
      "INFO:allennlp.training.callbacks.console_logger:fscore-positive    |     0.922  |     0.843\n",
      "INFO:allennlp.training.callbacks.console_logger:gpu_0_memory_MB    |    94.536  |       N/A\n",
      "INFO:allennlp.training.callbacks.console_logger:loss               |     0.157  |     0.288\n",
      "INFO:allennlp.training.callbacks.console_logger:precision          |     0.940  |     0.883\n",
      "INFO:allennlp.training.callbacks.console_logger:precision-negative |     0.952  |     0.896\n",
      "INFO:allennlp.training.callbacks.console_logger:precision-positive |     0.927  |     0.869\n",
      "INFO:allennlp.training.callbacks.console_logger:recall             |     0.936  |     0.872\n",
      "INFO:allennlp.training.callbacks.console_logger:recall-negative    |     0.954  |     0.927\n",
      "INFO:allennlp.training.callbacks.console_logger:recall-positive    |     0.918  |     0.817\n",
      "INFO:allennlp.training.callbacks.console_logger:worker_0_memory_MB |  2812.398  |       N/A\n",
      "INFO:allennlp.training.gradient_descent_trainer:Epoch duration: 0:00:18.900906\n",
      "INFO:allennlp.training.gradient_descent_trainer:Estimated training time remaining: 0:05:39\n",
      "INFO:allennlp.training.gradient_descent_trainer:Epoch 2/19\n",
      "INFO:allennlp.training.gradient_descent_trainer:Worker 0 memory usage: 2.7G\n",
      "INFO:allennlp.training.gradient_descent_trainer:GPU 0 memory usage: 95M\n",
      "INFO:allennlp.training.gradient_descent_trainer:Training\n"
     ]
    },
    {
     "data": {
      "application/vnd.jupyter.widget-view+json": {
       "model_id": "333424e37a0842fa848fccd725a8616f",
       "version_major": 2,
       "version_minor": 0
      },
      "text/plain": [
       "  0%|          | 0/1357 [00:00<?, ?it/s]"
      ]
     },
     "metadata": {},
     "output_type": "display_data"
    },
    {
     "name": "stderr",
     "output_type": "stream",
     "text": [
      "INFO:allennlp.training.gradient_descent_trainer:Validating\n"
     ]
    },
    {
     "data": {
      "application/vnd.jupyter.widget-view+json": {
       "model_id": "241e254553a64f5b8a892b4279882fb3",
       "version_major": 2,
       "version_minor": 0
      },
      "text/plain": [
       "  0%|          | 0/170 [00:00<?, ?it/s]"
      ]
     },
     "metadata": {},
     "output_type": "display_data"
    },
    {
     "name": "stderr",
     "output_type": "stream",
     "text": [
      "INFO:allennlp.training.callbacks.console_logger:                       Training |  Validation\n",
      "INFO:allennlp.training.callbacks.console_logger:accuracy           |     0.975  |     0.873\n",
      "INFO:allennlp.training.callbacks.console_logger:fscore             |     0.972  |     0.866\n",
      "INFO:allennlp.training.callbacks.console_logger:fscore-negative    |     0.979  |     0.897\n",
      "INFO:allennlp.training.callbacks.console_logger:fscore-positive    |     0.966  |     0.835\n",
      "INFO:allennlp.training.callbacks.console_logger:gpu_0_memory_MB    |    94.536  |       N/A\n",
      "INFO:allennlp.training.callbacks.console_logger:loss               |     0.074  |     0.358\n",
      "INFO:allennlp.training.callbacks.console_logger:precision          |     0.974  |     0.862\n",
      "INFO:allennlp.training.callbacks.console_logger:precision-negative |     0.979  |     0.917\n",
      "INFO:allennlp.training.callbacks.console_logger:precision-positive |     0.968  |     0.807\n",
      "INFO:allennlp.training.callbacks.console_logger:recall             |     0.971  |     0.872\n",
      "INFO:allennlp.training.callbacks.console_logger:recall-negative    |     0.979  |     0.878\n",
      "INFO:allennlp.training.callbacks.console_logger:recall-positive    |     0.964  |     0.865\n",
      "INFO:allennlp.training.callbacks.console_logger:worker_0_memory_MB |  2812.691  |       N/A\n",
      "INFO:allennlp.training.gradient_descent_trainer:Epoch duration: 0:00:18.826262\n",
      "INFO:allennlp.training.gradient_descent_trainer:Estimated training time remaining: 0:05:20\n",
      "INFO:allennlp.training.gradient_descent_trainer:Epoch 3/19\n",
      "INFO:allennlp.training.gradient_descent_trainer:Worker 0 memory usage: 2.7G\n",
      "INFO:allennlp.training.gradient_descent_trainer:GPU 0 memory usage: 95M\n",
      "INFO:allennlp.training.gradient_descent_trainer:Training\n"
     ]
    },
    {
     "data": {
      "application/vnd.jupyter.widget-view+json": {
       "model_id": "c46edf4aee064e6a82d2c3c97b30295a",
       "version_major": 2,
       "version_minor": 0
      },
      "text/plain": [
       "  0%|          | 0/1357 [00:00<?, ?it/s]"
      ]
     },
     "metadata": {},
     "output_type": "display_data"
    },
    {
     "name": "stderr",
     "output_type": "stream",
     "text": [
      "INFO:allennlp.training.gradient_descent_trainer:Validating\n"
     ]
    },
    {
     "data": {
      "application/vnd.jupyter.widget-view+json": {
       "model_id": "fd6bc2ceb3784a5d867f101cfbb0487b",
       "version_major": 2,
       "version_minor": 0
      },
      "text/plain": [
       "  0%|          | 0/170 [00:00<?, ?it/s]"
      ]
     },
     "metadata": {},
     "output_type": "display_data"
    },
    {
     "name": "stderr",
     "output_type": "stream",
     "text": [
      "INFO:allennlp.training.callbacks.console_logger:                       Training |  Validation\n",
      "INFO:allennlp.training.callbacks.console_logger:accuracy           |     0.989  |     0.866\n",
      "INFO:allennlp.training.callbacks.console_logger:fscore             |     0.987  |     0.859\n",
      "INFO:allennlp.training.callbacks.console_logger:fscore-negative    |     0.989  |     0.888\n",
      "INFO:allennlp.training.callbacks.console_logger:fscore-positive    |     0.984  |     0.831\n",
      "INFO:allennlp.training.callbacks.console_logger:gpu_0_memory_MB    |    94.536  |       N/A\n",
      "INFO:allennlp.training.callbacks.console_logger:loss               |     0.034  |     0.493\n",
      "INFO:allennlp.training.callbacks.console_logger:precision          |     0.988  |     0.855\n",
      "INFO:allennlp.training.callbacks.console_logger:precision-negative |     0.991  |     0.935\n",
      "INFO:allennlp.training.callbacks.console_logger:precision-positive |     0.986  |     0.774\n",
      "INFO:allennlp.training.callbacks.console_logger:recall             |     0.985  |     0.871\n",
      "INFO:allennlp.training.callbacks.console_logger:recall-negative    |     0.987  |     0.845\n",
      "INFO:allennlp.training.callbacks.console_logger:recall-positive    |     0.983  |     0.897\n",
      "INFO:allennlp.training.callbacks.console_logger:worker_0_memory_MB |  2813.453  |       N/A\n",
      "INFO:allennlp.training.gradient_descent_trainer:Epoch duration: 0:00:18.810835\n",
      "INFO:allennlp.training.gradient_descent_trainer:Estimated training time remaining: 0:05:01\n",
      "INFO:allennlp.training.gradient_descent_trainer:Epoch 4/19\n",
      "INFO:allennlp.training.gradient_descent_trainer:Worker 0 memory usage: 2.7G\n",
      "INFO:allennlp.training.gradient_descent_trainer:GPU 0 memory usage: 101M\n",
      "INFO:allennlp.training.gradient_descent_trainer:Training\n"
     ]
    },
    {
     "data": {
      "application/vnd.jupyter.widget-view+json": {
       "model_id": "51cbcffa194842efab90bac47977ffc5",
       "version_major": 2,
       "version_minor": 0
      },
      "text/plain": [
       "  0%|          | 0/1357 [00:00<?, ?it/s]"
      ]
     },
     "metadata": {},
     "output_type": "display_data"
    },
    {
     "name": "stderr",
     "output_type": "stream",
     "text": [
      "INFO:allennlp.training.gradient_descent_trainer:Validating\n"
     ]
    },
    {
     "data": {
      "application/vnd.jupyter.widget-view+json": {
       "model_id": "5ab9846665af46bc944a85d84f8afadc",
       "version_major": 2,
       "version_minor": 0
      },
      "text/plain": [
       "  0%|          | 0/170 [00:00<?, ?it/s]"
      ]
     },
     "metadata": {},
     "output_type": "display_data"
    },
    {
     "name": "stderr",
     "output_type": "stream",
     "text": [
      "INFO:allennlp.training.callbacks.console_logger:                       Training |  Validation\n",
      "INFO:allennlp.training.callbacks.console_logger:accuracy           |     0.992  |     0.859\n",
      "INFO:allennlp.training.callbacks.console_logger:fscore             |     0.991  |     0.850\n",
      "INFO:allennlp.training.callbacks.console_logger:fscore-negative    |     0.993  |     0.883\n",
      "INFO:allennlp.training.callbacks.console_logger:fscore-positive    |     0.989  |     0.818\n",
      "INFO:allennlp.training.callbacks.console_logger:gpu_0_memory_MB    |   100.701  |       N/A\n",
      "INFO:allennlp.training.callbacks.console_logger:loss               |     0.020  |     0.481\n",
      "INFO:allennlp.training.callbacks.console_logger:precision          |     0.991  |     0.846\n",
      "INFO:allennlp.training.callbacks.console_logger:precision-negative |     0.994  |     0.923\n",
      "INFO:allennlp.training.callbacks.console_logger:precision-positive |     0.989  |     0.769\n",
      "INFO:allennlp.training.callbacks.console_logger:recall             |     0.990  |     0.859\n",
      "INFO:allennlp.training.callbacks.console_logger:recall-negative    |     0.991  |     0.845\n",
      "INFO:allennlp.training.callbacks.console_logger:recall-positive    |     0.989  |     0.873\n",
      "INFO:allennlp.training.callbacks.console_logger:worker_0_memory_MB |  2813.453  |       N/A\n",
      "INFO:allennlp.training.gradient_descent_trainer:Epoch duration: 0:00:18.905371\n",
      "INFO:allennlp.training.gradient_descent_trainer:Estimated training time remaining: 0:04:42\n",
      "INFO:allennlp.training.gradient_descent_trainer:Epoch 5/19\n",
      "INFO:allennlp.training.gradient_descent_trainer:Worker 0 memory usage: 2.7G\n",
      "INFO:allennlp.training.gradient_descent_trainer:GPU 0 memory usage: 101M\n",
      "INFO:allennlp.training.gradient_descent_trainer:Training\n"
     ]
    },
    {
     "data": {
      "application/vnd.jupyter.widget-view+json": {
       "model_id": "dd4de13450464e1dbf962e5d501a2b9d",
       "version_major": 2,
       "version_minor": 0
      },
      "text/plain": [
       "  0%|          | 0/1357 [00:00<?, ?it/s]"
      ]
     },
     "metadata": {},
     "output_type": "display_data"
    },
    {
     "name": "stderr",
     "output_type": "stream",
     "text": [
      "INFO:allennlp.training.gradient_descent_trainer:Validating\n"
     ]
    },
    {
     "data": {
      "application/vnd.jupyter.widget-view+json": {
       "model_id": "238a9c601514446b999f3831de0750b2",
       "version_major": 2,
       "version_minor": 0
      },
      "text/plain": [
       "  0%|          | 0/170 [00:00<?, ?it/s]"
      ]
     },
     "metadata": {},
     "output_type": "display_data"
    },
    {
     "name": "stderr",
     "output_type": "stream",
     "text": [
      "INFO:allennlp.training.callbacks.console_logger:                       Training |  Validation\n",
      "INFO:allennlp.training.callbacks.console_logger:accuracy           |     0.995  |     0.859\n",
      "INFO:allennlp.training.callbacks.console_logger:fscore             |     0.993  |     0.841\n",
      "INFO:allennlp.training.callbacks.console_logger:fscore-negative    |     0.995  |     0.891\n",
      "INFO:allennlp.training.callbacks.console_logger:fscore-positive    |     0.991  |     0.792\n",
      "INFO:allennlp.training.callbacks.console_logger:gpu_0_memory_MB    |   100.701  |       N/A\n",
      "INFO:allennlp.training.callbacks.console_logger:loss               |     0.012  |     0.599\n",
      "INFO:allennlp.training.callbacks.console_logger:precision          |     0.994  |     0.855\n",
      "INFO:allennlp.training.callbacks.console_logger:precision-negative |     0.996  |     0.867\n",
      "INFO:allennlp.training.callbacks.console_logger:precision-positive |     0.993  |     0.843\n",
      "INFO:allennlp.training.callbacks.console_logger:recall             |     0.991  |     0.831\n",
      "INFO:allennlp.training.callbacks.console_logger:recall-negative    |     0.993  |     0.916\n",
      "INFO:allennlp.training.callbacks.console_logger:recall-positive    |     0.989  |     0.746\n",
      "INFO:allennlp.training.callbacks.console_logger:worker_0_memory_MB |  2813.699  |       N/A\n",
      "INFO:allennlp.training.gradient_descent_trainer:Epoch duration: 0:00:18.894836\n",
      "INFO:allennlp.training.gradient_descent_trainer:Estimated training time remaining: 0:04:24\n",
      "INFO:allennlp.training.gradient_descent_trainer:Epoch 6/19\n",
      "INFO:allennlp.training.gradient_descent_trainer:Worker 0 memory usage: 2.7G\n",
      "INFO:allennlp.training.gradient_descent_trainer:GPU 0 memory usage: 101M\n",
      "INFO:allennlp.training.gradient_descent_trainer:Training\n"
     ]
    },
    {
     "data": {
      "application/vnd.jupyter.widget-view+json": {
       "model_id": "200f46ecca93442baf2ac7dc1760f177",
       "version_major": 2,
       "version_minor": 0
      },
      "text/plain": [
       "  0%|          | 0/1357 [00:00<?, ?it/s]"
      ]
     },
     "metadata": {},
     "output_type": "display_data"
    },
    {
     "name": "stderr",
     "output_type": "stream",
     "text": [
      "INFO:allennlp.training.gradient_descent_trainer:Validating\n"
     ]
    },
    {
     "data": {
      "application/vnd.jupyter.widget-view+json": {
       "model_id": "f797de86fe824ee3835f3947ea17965b",
       "version_major": 2,
       "version_minor": 0
      },
      "text/plain": [
       "  0%|          | 0/170 [00:00<?, ?it/s]"
      ]
     },
     "metadata": {},
     "output_type": "display_data"
    },
    {
     "name": "stderr",
     "output_type": "stream",
     "text": [
      "INFO:allennlp.training.callbacks.console_logger:                       Training |  Validation\n",
      "INFO:allennlp.training.callbacks.console_logger:accuracy           |     0.997  |     0.844\n",
      "INFO:allennlp.training.callbacks.console_logger:fscore             |     0.996  |     0.834\n",
      "INFO:allennlp.training.callbacks.console_logger:fscore-negative    |     0.996  |     0.867\n",
      "INFO:allennlp.training.callbacks.console_logger:fscore-positive    |     0.995  |     0.801\n",
      "INFO:allennlp.training.callbacks.console_logger:gpu_0_memory_MB    |   100.701  |       N/A\n",
      "INFO:allennlp.training.callbacks.console_logger:loss               |     0.009  |     0.654\n",
      "INFO:allennlp.training.callbacks.console_logger:precision          |     0.997  |     0.833\n",
      "INFO:allennlp.training.callbacks.console_logger:precision-negative |     0.998  |     0.935\n",
      "INFO:allennlp.training.callbacks.console_logger:precision-positive |     0.997  |     0.731\n",
      "INFO:allennlp.training.callbacks.console_logger:recall             |     0.995  |     0.846\n",
      "INFO:allennlp.training.callbacks.console_logger:recall-negative    |     0.995  |     0.808\n",
      "INFO:allennlp.training.callbacks.console_logger:recall-positive    |     0.994  |     0.885\n",
      "INFO:allennlp.training.callbacks.console_logger:worker_0_memory_MB |  2813.949  |       N/A\n",
      "INFO:allennlp.training.gradient_descent_trainer:Epoch duration: 0:00:18.793433\n",
      "INFO:allennlp.training.gradient_descent_trainer:Estimated training time remaining: 0:04:05\n",
      "INFO:allennlp.training.gradient_descent_trainer:Epoch 7/19\n",
      "INFO:allennlp.training.gradient_descent_trainer:Worker 0 memory usage: 2.7G\n",
      "INFO:allennlp.training.gradient_descent_trainer:GPU 0 memory usage: 101M\n",
      "INFO:allennlp.training.gradient_descent_trainer:Training\n"
     ]
    },
    {
     "data": {
      "application/vnd.jupyter.widget-view+json": {
       "model_id": "4bf97c24ca224d4f892a319de0f6929f",
       "version_major": 2,
       "version_minor": 0
      },
      "text/plain": [
       "  0%|          | 0/1357 [00:00<?, ?it/s]"
      ]
     },
     "metadata": {},
     "output_type": "display_data"
    },
    {
     "name": "stderr",
     "output_type": "stream",
     "text": [
      "INFO:allennlp.training.gradient_descent_trainer:Validating\n"
     ]
    },
    {
     "data": {
      "application/vnd.jupyter.widget-view+json": {
       "model_id": "16f8335e107e4631ab42283162c2d797",
       "version_major": 2,
       "version_minor": 0
      },
      "text/plain": [
       "  0%|          | 0/170 [00:00<?, ?it/s]"
      ]
     },
     "metadata": {},
     "output_type": "display_data"
    },
    {
     "name": "stderr",
     "output_type": "stream",
     "text": [
      "INFO:allennlp.training.callbacks.console_logger:                       Training |  Validation\n",
      "INFO:allennlp.training.callbacks.console_logger:accuracy           |     0.998  |     0.873\n",
      "INFO:allennlp.training.callbacks.console_logger:fscore             |     0.996  |     0.863\n",
      "INFO:allennlp.training.callbacks.console_logger:fscore-negative    |     0.997  |     0.899\n",
      "INFO:allennlp.training.callbacks.console_logger:fscore-positive    |     0.996  |     0.827\n",
      "INFO:allennlp.training.callbacks.console_logger:gpu_0_memory_MB    |   100.701  |       N/A\n",
      "INFO:allennlp.training.callbacks.console_logger:loss               |     0.008  |     0.623\n",
      "INFO:allennlp.training.callbacks.console_logger:precision          |     0.997  |     0.865\n",
      "INFO:allennlp.training.callbacks.console_logger:precision-negative |     0.999  |     0.894\n",
      "INFO:allennlp.training.callbacks.console_logger:precision-positive |     0.996  |     0.837\n",
      "INFO:allennlp.training.callbacks.console_logger:recall             |     0.996  |     0.861\n",
      "INFO:allennlp.training.callbacks.console_logger:recall-negative    |     0.995  |     0.904\n",
      "INFO:allennlp.training.callbacks.console_logger:recall-positive    |     0.996  |     0.817\n",
      "INFO:allennlp.training.callbacks.console_logger:worker_0_memory_MB |  2813.949  |       N/A\n",
      "INFO:allennlp.training.gradient_descent_trainer:Epoch duration: 0:00:18.991048\n",
      "INFO:allennlp.training.gradient_descent_trainer:Estimated training time remaining: 0:03:46\n",
      "INFO:allennlp.training.gradient_descent_trainer:Epoch 8/19\n",
      "INFO:allennlp.training.gradient_descent_trainer:Worker 0 memory usage: 2.7G\n",
      "INFO:allennlp.training.gradient_descent_trainer:GPU 0 memory usage: 101M\n",
      "INFO:allennlp.training.gradient_descent_trainer:Training\n"
     ]
    },
    {
     "data": {
      "application/vnd.jupyter.widget-view+json": {
       "model_id": "c35566f1d33946709e5d031495a14ef3",
       "version_major": 2,
       "version_minor": 0
      },
      "text/plain": [
       "  0%|          | 0/1357 [00:00<?, ?it/s]"
      ]
     },
     "metadata": {},
     "output_type": "display_data"
    },
    {
     "name": "stderr",
     "output_type": "stream",
     "text": [
      "INFO:allennlp.training.gradient_descent_trainer:Validating\n"
     ]
    },
    {
     "data": {
      "application/vnd.jupyter.widget-view+json": {
       "model_id": "5169719254d94d939c530ae5388c0e20",
       "version_major": 2,
       "version_minor": 0
      },
      "text/plain": [
       "  0%|          | 0/170 [00:00<?, ?it/s]"
      ]
     },
     "metadata": {},
     "output_type": "display_data"
    },
    {
     "name": "stderr",
     "output_type": "stream",
     "text": [
      "INFO:allennlp.training.callbacks.console_logger:                       Training |  Validation\n",
      "INFO:allennlp.training.callbacks.console_logger:accuracy           |     0.997  |     0.879\n",
      "INFO:allennlp.training.callbacks.console_logger:fscore             |     0.996  |     0.868\n",
      "INFO:allennlp.training.callbacks.console_logger:fscore-negative    |     0.996  |     0.901\n",
      "INFO:allennlp.training.callbacks.console_logger:fscore-positive    |     0.995  |     0.836\n",
      "INFO:allennlp.training.callbacks.console_logger:gpu_0_memory_MB    |   100.701  |       N/A\n",
      "INFO:allennlp.training.callbacks.console_logger:loss               |     0.010  |     0.544\n",
      "INFO:allennlp.training.callbacks.console_logger:precision          |     0.997  |     0.871\n",
      "INFO:allennlp.training.callbacks.console_logger:precision-negative |     0.997  |     0.900\n",
      "INFO:allennlp.training.callbacks.console_logger:precision-positive |     0.997  |     0.843\n",
      "INFO:allennlp.training.callbacks.console_logger:recall             |     0.995  |     0.866\n",
      "INFO:allennlp.training.callbacks.console_logger:recall-negative    |     0.995  |     0.902\n",
      "INFO:allennlp.training.callbacks.console_logger:recall-positive    |     0.994  |     0.829\n",
      "INFO:allennlp.training.callbacks.console_logger:worker_0_memory_MB |  2814.199  |       N/A\n",
      "INFO:allennlp.training.gradient_descent_trainer:Epoch duration: 0:00:18.737847\n",
      "INFO:allennlp.training.gradient_descent_trainer:Estimated training time remaining: 0:03:27\n",
      "INFO:allennlp.training.gradient_descent_trainer:Epoch 9/19\n",
      "INFO:allennlp.training.gradient_descent_trainer:Worker 0 memory usage: 2.7G\n",
      "INFO:allennlp.training.gradient_descent_trainer:GPU 0 memory usage: 101M\n",
      "INFO:allennlp.training.gradient_descent_trainer:Training\n"
     ]
    },
    {
     "data": {
      "application/vnd.jupyter.widget-view+json": {
       "model_id": "1201452904524f0db378ed2a0a10e1bc",
       "version_major": 2,
       "version_minor": 0
      },
      "text/plain": [
       "  0%|          | 0/1357 [00:00<?, ?it/s]"
      ]
     },
     "metadata": {},
     "output_type": "display_data"
    },
    {
     "name": "stderr",
     "output_type": "stream",
     "text": [
      "INFO:allennlp.training.gradient_descent_trainer:Validating\n"
     ]
    },
    {
     "data": {
      "application/vnd.jupyter.widget-view+json": {
       "model_id": "98e3640f27e043c793569c68ca9e83bc",
       "version_major": 2,
       "version_minor": 0
      },
      "text/plain": [
       "  0%|          | 0/170 [00:00<?, ?it/s]"
      ]
     },
     "metadata": {},
     "output_type": "display_data"
    },
    {
     "name": "stderr",
     "output_type": "stream",
     "text": [
      "INFO:allennlp.training.callbacks.console_logger:                       Training |  Validation\n",
      "INFO:allennlp.training.callbacks.console_logger:accuracy           |     0.999  |     0.876\n",
      "INFO:allennlp.training.callbacks.console_logger:fscore             |     0.997  |     0.868\n",
      "INFO:allennlp.training.callbacks.console_logger:fscore-negative    |     0.998  |     0.901\n",
      "INFO:allennlp.training.callbacks.console_logger:fscore-positive    |     0.996  |     0.836\n",
      "INFO:allennlp.training.callbacks.console_logger:gpu_0_memory_MB    |   100.701  |       N/A\n",
      "INFO:allennlp.training.callbacks.console_logger:loss               |     0.005  |     0.631\n",
      "INFO:allennlp.training.callbacks.console_logger:precision          |     0.998  |     0.866\n",
      "INFO:allennlp.training.callbacks.console_logger:precision-negative |     0.999  |     0.909\n",
      "INFO:allennlp.training.callbacks.console_logger:precision-positive |     0.998  |     0.823\n",
      "INFO:allennlp.training.callbacks.console_logger:recall             |     0.995  |     0.871\n",
      "INFO:allennlp.training.callbacks.console_logger:recall-negative    |     0.996  |     0.892\n",
      "INFO:allennlp.training.callbacks.console_logger:recall-positive    |     0.995  |     0.849\n",
      "INFO:allennlp.training.callbacks.console_logger:worker_0_memory_MB |  2814.199  |       N/A\n",
      "INFO:allennlp.training.gradient_descent_trainer:Epoch duration: 0:00:18.998019\n",
      "INFO:allennlp.training.gradient_descent_trainer:Estimated training time remaining: 0:03:08\n",
      "INFO:allennlp.training.gradient_descent_trainer:Epoch 10/19\n",
      "INFO:allennlp.training.gradient_descent_trainer:Worker 0 memory usage: 2.7G\n",
      "INFO:allennlp.training.gradient_descent_trainer:GPU 0 memory usage: 101M\n",
      "INFO:allennlp.training.gradient_descent_trainer:Training\n"
     ]
    },
    {
     "data": {
      "application/vnd.jupyter.widget-view+json": {
       "model_id": "1a8525e769174938b58710e6f3582429",
       "version_major": 2,
       "version_minor": 0
      },
      "text/plain": [
       "  0%|          | 0/1357 [00:00<?, ?it/s]"
      ]
     },
     "metadata": {},
     "output_type": "display_data"
    },
    {
     "name": "stderr",
     "output_type": "stream",
     "text": [
      "INFO:allennlp.training.gradient_descent_trainer:Validating\n"
     ]
    },
    {
     "data": {
      "application/vnd.jupyter.widget-view+json": {
       "model_id": "a1d36153aee346ba9fc2df9aebb47c2e",
       "version_major": 2,
       "version_minor": 0
      },
      "text/plain": [
       "  0%|          | 0/170 [00:00<?, ?it/s]"
      ]
     },
     "metadata": {},
     "output_type": "display_data"
    },
    {
     "name": "stderr",
     "output_type": "stream",
     "text": [
      "INFO:allennlp.training.callbacks.console_logger:                       Training |  Validation\n",
      "INFO:allennlp.training.callbacks.console_logger:accuracy           |     0.999  |     0.872\n",
      "INFO:allennlp.training.callbacks.console_logger:fscore             |     0.996  |     0.858\n",
      "INFO:allennlp.training.callbacks.console_logger:fscore-negative    |     0.996  |     0.899\n",
      "INFO:allennlp.training.callbacks.console_logger:fscore-positive    |     0.997  |     0.817\n",
      "INFO:allennlp.training.callbacks.console_logger:gpu_0_memory_MB    |   100.701  |       N/A\n",
      "INFO:allennlp.training.callbacks.console_logger:loss               |     0.004  |     0.703\n",
      "INFO:allennlp.training.callbacks.console_logger:precision          |     0.999  |     0.868\n",
      "INFO:allennlp.training.callbacks.console_logger:precision-negative |     0.999  |     0.879\n",
      "INFO:allennlp.training.callbacks.console_logger:precision-positive |     0.999  |     0.857\n",
      "INFO:allennlp.training.callbacks.console_logger:recall             |     0.993  |     0.851\n",
      "INFO:allennlp.training.callbacks.console_logger:recall-negative    |     0.992  |     0.920\n",
      "INFO:allennlp.training.callbacks.console_logger:recall-positive    |     0.995  |     0.782\n",
      "INFO:allennlp.training.callbacks.console_logger:worker_0_memory_MB |  2814.449  |       N/A\n",
      "INFO:allennlp.training.gradient_descent_trainer:Epoch duration: 0:00:18.928411\n",
      "INFO:allennlp.training.gradient_descent_trainer:Ran out of patience. Stopping training.\n",
      "INFO:root:Finished training\n"
     ]
    },
    {
     "name": "stdout",
     "output_type": "stream",
     "text": [
      "FeatureEmbeddingClassifier(\n",
      "  (_loss): CrossEntropyLoss()\n",
      "  (mixed_encoder): MixedEmbeddingEncoder(\n",
      "    (_emb_dropout): Dropout(p=0.3, inplace=False)\n",
      "    (features_embedder): FeatureAndTextEmbedder(\n",
      "      (text_embedder): BasicTextFieldEmbedder(\n",
      "        (token_embedder_lemma): Embedding()\n",
      "        (token_embedder_lemma_char): TokenCharactersEncoder(\n",
      "          (_embedding): TimeDistributed(\n",
      "            (_module): Embedding()\n",
      "          )\n",
      "          (_encoder): TimeDistributed(\n",
      "            (_module): LstmSeq2VecEncoder(\n",
      "              (_module): LSTM(100, 150, num_layers=2, batch_first=True, dropout=0.3, bidirectional=True)\n",
      "            )\n",
      "          )\n",
      "          (_dropout): Dropout(p=0.3, inplace=False)\n",
      "        )\n",
      "      )\n",
      "      (feature_embedder): Linear(in_features=52, out_features=20, bias=True)\n",
      "    )\n",
      "    (features_encoder): HierarchicalAttentionalEncoder(\n",
      "      (gru): GRU(520, 64, batch_first=True, dropout=0.3, bidirectional=True)\n",
      "      (dense): Linear(in_features=128, out_features=128, bias=True)\n",
      "      (dropout): Dropout(p=0.5, inplace=False)\n",
      "    )\n",
      "  )\n",
      "  (classifier): Linear(in_features=128, out_features=2, bias=True)\n",
      ")\n",
      "Evaluating\n"
     ]
    },
    {
     "name": "stderr",
     "output_type": "stream",
     "text": [
      "INFO:allennlp.training.util:Iterating over dataset\n"
     ]
    },
    {
     "data": {
      "application/vnd.jupyter.widget-view+json": {
       "model_id": "2b18ec36306d40528f88f6715824d26a",
       "version_major": 2,
       "version_minor": 0
      },
      "text/plain": [
       "0it [00:00, ?it/s]"
      ]
     },
     "metadata": {},
     "output_type": "display_data"
    },
    {
     "name": "stderr",
     "output_type": "stream",
     "text": [
      "WARNING:allennlp.models.model:Encountered the loss key in the model's return dictionary which couldn't be split by the batch size. Key will be ignored.\n"
     ]
    },
    {
     "name": "stdout",
     "output_type": "stream",
     "text": [
      "Evaluating: Predicting\n",
      "({'accuracy': 0.9084194977843427, 'precision': 0.9001357555389404, 'recall': 0.9051353335380554, 'fscore': 0.9024858474731445, 'precision-negative': 0.9354066848754883, 'precision-positive': 0.8648648858070374, 'recall-negative': 0.9178403615951538, 'recall-positive': 0.892430305480957, 'fscore-negative': 0.9265402555465698, 'fscore-positive': 0.8784314393997192, 'loss': 0.24657906984143396}, <sklearn.metrics._plot.confusion_matrix.ConfusionMatrixDisplay object at 0x7f5071da5d30>)\n"
     ]
    },
    {
     "name": "stderr",
     "output_type": "stream",
     "text": [
      "/home/thibault/dev/est-lascivuum-non-est/seligator/tests/evaluate.py:111: UserWarning: Matplotlib is currently using module://matplotlib_inline.backend_inline, which is a non-GUI backend, so cannot show the figure.\n",
      "  disp.figure_.show()\n"
     ]
    },
    {
     "data": {
      "image/png": "[encoded data removed]",
      "text/plain": [
       "<Figure size 432x288 with 2 Axes>"
      ]
     },
     "metadata": {
      "needs_background": "light"
     },
     "output_type": "display_data"
    }
   ],
   "source": [
    "# Run tests on Vectors Categories\n",
    "\n",
    "model, reader, train, dev = prepare_model(\n",
    "    input_features=(\"lemma_char\", \"lemma\", \"case\", \"numb\", \"gend\", \"mood\", \"tense\", \"voice\", \"person\", \"deg\"),\n",
    "    use_han=True,\n",
    "    agglomerate_msd=True,\n",
    "    reader_kwargs={\"batch_size\": 4, \"metadata_encoding\": MetadataEncoding.IGNORE},\n",
    "    model_embedding_kwargs=dict(\n",
    "        keep_all_vocab=True,\n",
    "        pretrained_embeddings={\n",
    "            # \"token\": \"~/Downloads/latin.embeddings\",\n",
    "        #    \"token\": \"~/dev/these/notebooks/4 - Detection/data/embs_models/model.token.word2vec.kv\",\n",
    "        #    \"lemma\": \"~/dev/these/notebooks/4 - Detection/data/embs_models/model.lemma.word2vec.kv.header\"\n",
    "        },\n",
    "        trainable_embeddings={\"token\": False, \"lemma\": True},\n",
    "        pretrained_emb_dims={\"token\": 200, \"lemma\": 200}\n",
    "    ),\n",
    "    #batches_per_epoch=100,\n",
    "    # model_class=SiameseClassifier,\n",
    "    use_bert_higway=True,\n",
    ")\n",
    "model = train_and_get(\n",
    "    model, train, dev,\n",
    "    patience=10,\n",
    "    num_epochs=20,\n",
    "    lr=5e-4\n",
    ")\n",
    "print(model)\n",
    "data = run_tests(\n",
    "    \"dataset/split/test.txt\",\n",
    "    dataset_reader=reader, model=model, dump=\"test.lemma-msd.csv\"\n",
    ")\n",
    "print(data)"
   ]
  },
  {
   "cell_type": "code",
   "execution_count": 3,
   "id": "342d4351",
   "metadata": {},
   "outputs": [
    {
     "name": "stderr",
     "output_type": "stream",
     "text": [
      "INFO:root:Dataset reader set with following categories: [msd], lemma_char, lemma\n",
      "/home/thibault/dev/est-lascivuum-non-est/env/lib/python3.8/site-packages/allennlp/data/token_indexers/token_characters_indexer.py:55: UserWarning: You are using the default value (0) of `min_padding_length`, which can cause some subtle bugs (more info see https://github.com/allenai/allennlp/issues/1954). Strongly recommend to set a value, usually the maximum size of the convolutional layer size when using CnnEncoder.\n",
      "  warnings.warn(\n",
      "INFO:root:Indexer set for following categories: [msd], lemma_char, lemma\n",
      "INFO:root:TSV READER uses following metadata encoding MetadataEncoding.AS_TOKEN \n",
      "INFO:root:Reading data\n",
      "INFO:root:Building the vocabulary\n",
      "INFO:allennlp.data.vocabulary:Fitting token dictionary from dataset.\n"
     ]
    },
    {
     "data": {
      "application/vnd.jupyter.widget-view+json": {
       "model_id": "c50018be3f204102abfab8381f9020d5",
       "version_major": 2,
       "version_minor": 0
      },
      "text/plain": [
       "building vocab:   0%|          | 0/5427 [00:00<?, ?it/s]"
      ]
     },
     "metadata": {},
     "output_type": "display_data"
    },
    {
     "name": "stderr",
     "output_type": "stream",
     "text": [
      "/home/thibault/dev/est-lascivuum-non-est/env/lib/python3.8/site-packages/torch/nn/modules/rnn.py:60: UserWarning: dropout option adds dropout after all but last recurrent layer, so non-zero dropout expects num_layers greater than 1, but got dropout=0.3 and num_layers=1\n",
      "  warnings.warn(\"dropout option adds dropout after all but last \"\n",
      "INFO:allennlp.training.optimizers:Number of trainable parameters: 3303082\n",
      "INFO:root:Num epochs: 20\n",
      "INFO:root:Starting training\n",
      "INFO:allennlp.training.gradient_descent_trainer:Beginning training.\n",
      "INFO:allennlp.training.gradient_descent_trainer:Epoch 0/19\n",
      "INFO:allennlp.training.gradient_descent_trainer:Worker 0 memory usage: 3.0G\n",
      "INFO:allennlp.training.gradient_descent_trainer:GPU 0 memory usage: 101M\n",
      "INFO:allennlp.training.gradient_descent_trainer:Training\n"
     ]
    },
    {
     "name": "stdout",
     "output_type": "stream",
     "text": [
      "---> Epochs:   20\n",
      "---> Patience: 10\n"
     ]
    },
    {
     "data": {
      "application/vnd.jupyter.widget-view+json": {
       "model_id": "0464a72997864c1bbcc3ad8610ff07d9",
       "version_major": 2,
       "version_minor": 0
      },
      "text/plain": [
       "  0%|          | 0/1357 [00:00<?, ?it/s]"
      ]
     },
     "metadata": {},
     "output_type": "display_data"
    },
    {
     "name": "stderr",
     "output_type": "stream",
     "text": [
      "/home/thibault/dev/est-lascivuum-non-est/seligator/models/classifier.py:32: UserWarning: Implicit dimension choice for softmax has been deprecated. Change the call to include dim=X as an argument.\n",
      "  probs = F.softmax(logits)\n",
      "INFO:allennlp.training.callbacks.console_logger:Batch inputs\n",
      "INFO:allennlp.training.callbacks.console_logger:batch_input/[msd] (Shape: 4 x 34 x 52)\n",
      "tensor([[[0, 0, 0,  ..., 0, 0, 0],\n",
      "         [0, 0, 0,  ..., 0, 0, 0],\n",
      "         [0, 0, 0,  ..., 0, 0, 0],\n",
      "         ...,\n",
      "         [0, 0, 0,  ..., 0, 0, 0],\n",
      "         [0, 0, 0,  ..., 0, 0, 0],\n",
      "         [0, 0, 0,  ..., 0, 0, 0]],\n",
      "\n",
      "        [[0, 0, 0,  ..., 0, 0, 0],\n",
      "         [0, 0, 0,  ..., 0, 0, 0],\n",
      "         [0, 0, 0,  ..., 0, 0, 0],\n",
      "         ...,\n",
      "         [0, 0, 0,  ..., 0, 0, 0],\n",
      "         [0, 0, 0,  ..., 0, 0, 0],\n",
      "         [0, 0, 0,  ..., 0, 0, 0]],\n",
      "\n",
      "        [[0, 0, 0,  ..., 0, 0, 0],\n",
      "         [0, 0, 0,  ..., 0, 0, 0],\n",
      "         [0, 0, 0,  ..., 0, 0, 0],\n",
      "         ...,\n",
      "         [0, 0, 1,  ..., 0, 0, 0],\n",
      "         [0, 0, 1,  ..., 0, 0, 0],\n",
      "         [0, 0, 1,  ..., 0, 0, 0]],\n",
      "\n",
      "        [[0, 0, 0,  ..., 0, 0, 0],\n",
      "         [0, 0, 0,  ..., 0, 0, 0],\n",
      "         [0, 0, 0,  ..., 0, 0, 0],\n",
      "         ...,\n",
      "         [0, 0, 0,  ..., 0, 0, 0],\n",
      "         [0, 0, 0,  ..., 0, 0, 0],\n",
      "         [0, 0, 0,  ..., 0, 0, 0]]], device='cuda:0')\n",
      "INFO:allennlp.training.callbacks.console_logger:batch_input/lemma_char/lemma_char/token_characters (Shape: 4 x 34 x 11)\n",
      "tensor([[[ 0,  0,  0,  ...,  0,  0,  0],\n",
      "         [ 0,  0,  0,  ...,  0,  0,  0],\n",
      "         [ 0,  0,  0,  ...,  0,  0,  0],\n",
      "         ...,\n",
      "         [ 0,  0,  0,  ...,  0,  0,  0],\n",
      "         [ 0,  0,  0,  ...,  0,  0,  0],\n",
      "         [ 0,  0,  0,  ...,  0,  0,  0]],\n",
      "\n",
      "        [[ 0,  0,  0,  ...,  0,  0,  0],\n",
      "         [ 0,  0,  0,  ...,  0,  0,  0],\n",
      "         [ 0,  0,  0,  ...,  0,  0,  0],\n",
      "         ...,\n",
      "         [ 0,  0,  0,  ...,  0,  0,  0],\n",
      "         [ 0,  0,  0,  ...,  0,  0,  0],\n",
      "         [ 0,  0,  0,  ...,  0,  0,  0]],\n",
      "\n",
      "        [[ 0,  0,  0,  ...,  0,  0,  0],\n",
      "         [ 0,  0,  0,  ...,  0,  0,  0],\n",
      "         [ 0,  0,  0,  ...,  0,  0,  0],\n",
      "         ...,\n",
      "         [ 2,  6, 13,  ...,  0,  0,  0],\n",
      "         [10,  7, 14,  ...,  0,  0,  0],\n",
      "         [23,  0,  0,  ...,  0,  0,  0]],\n",
      "\n",
      "        [[ 0,  0,  0,  ...,  0,  0,  0],\n",
      "         [ 0,  0,  0,  ...,  0,  0,  0],\n",
      "         [ 0,  0,  0,  ...,  0,  0,  0],\n",
      "         ...,\n",
      "         [ 0,  0,  0,  ...,  0,  0,  0],\n",
      "         [ 0,  0,  0,  ...,  0,  0,  0],\n",
      "         [ 0,  0,  0,  ...,  0,  0,  0]]], device='cuda:0')\n",
      "INFO:allennlp.training.callbacks.console_logger:batch_input/lemma/lemma/tokens (Shape: 4 x 34)\n",
      "tensor([[  10,   15,    8,  ...,    0,    0,    0],\n",
      "        [  10,    8, 2581,  ...,    0,    0,    0],\n",
      "        [  16,    9,    8,  ..., 3546,  273,    3],\n",
      "        [  10,   13,   21,  ...,    0,    0,    0]], device='cuda:0')\n",
      "INFO:allennlp.training.callbacks.console_logger:batch_input/label (Shape: 4)\n",
      "tensor([0, 0, 1, 1], device='cuda:0')\n",
      "INFO:allennlp.training.callbacks.console_logger:Field : \"batch_input/metadata\" : (Length 4 of type \"<class 'dict'>\")\n",
      "INFO:allennlp.training.gradient_descent_trainer:Validating\n"
     ]
    },
    {
     "data": {
      "application/vnd.jupyter.widget-view+json": {
       "model_id": "09c5b4dd10484add9b670565b0e81031",
       "version_major": 2,
       "version_minor": 0
      },
      "text/plain": [
       "  0%|          | 0/170 [00:00<?, ?it/s]"
      ]
     },
     "metadata": {},
     "output_type": "display_data"
    },
    {
     "name": "stderr",
     "output_type": "stream",
     "text": [
      "INFO:allennlp.training.callbacks.console_logger:Batch inputs\n",
      "INFO:allennlp.training.callbacks.console_logger:batch_input/[msd] (Shape: 4 x 41 x 52)\n",
      "tensor([[[0, 0, 0,  ..., 0, 0, 0],\n",
      "         [0, 0, 0,  ..., 0, 0, 0],\n",
      "         [0, 0, 0,  ..., 0, 0, 0],\n",
      "         ...,\n",
      "         [0, 0, 0,  ..., 0, 0, 0],\n",
      "         [0, 0, 0,  ..., 0, 0, 0],\n",
      "         [0, 0, 0,  ..., 0, 0, 0]],\n",
      "\n",
      "        [[0, 0, 0,  ..., 0, 0, 0],\n",
      "         [0, 0, 0,  ..., 0, 0, 0],\n",
      "         [0, 0, 0,  ..., 0, 0, 0],\n",
      "         ...,\n",
      "         [0, 0, 0,  ..., 0, 0, 0],\n",
      "         [0, 0, 0,  ..., 0, 0, 0],\n",
      "         [0, 0, 0,  ..., 0, 0, 0]],\n",
      "\n",
      "        [[0, 0, 0,  ..., 0, 0, 0],\n",
      "         [0, 0, 0,  ..., 0, 0, 0],\n",
      "         [0, 0, 0,  ..., 0, 0, 0],\n",
      "         ...,\n",
      "         [0, 0, 1,  ..., 0, 0, 0],\n",
      "         [0, 0, 1,  ..., 0, 0, 0],\n",
      "         [0, 0, 1,  ..., 0, 0, 0]],\n",
      "\n",
      "        [[0, 0, 0,  ..., 0, 0, 0],\n",
      "         [0, 0, 0,  ..., 0, 0, 0],\n",
      "         [0, 0, 0,  ..., 0, 0, 0],\n",
      "         ...,\n",
      "         [0, 0, 0,  ..., 0, 0, 0],\n",
      "         [0, 0, 0,  ..., 0, 0, 0],\n",
      "         [0, 0, 0,  ..., 0, 0, 0]]], device='cuda:0')\n",
      "INFO:allennlp.training.callbacks.console_logger:batch_input/lemma_char/lemma_char/token_characters (Shape: 4 x 41 x 12)\n",
      "tensor([[[ 0,  0,  0,  ...,  0,  0,  0],\n",
      "         [ 0,  0,  0,  ...,  0,  0,  0],\n",
      "         [ 0,  0,  0,  ...,  0,  0,  0],\n",
      "         ...,\n",
      "         [ 0,  0,  0,  ...,  0,  0,  0],\n",
      "         [ 0,  0,  0,  ...,  0,  0,  0],\n",
      "         [ 0,  0,  0,  ...,  0,  0,  0]],\n",
      "\n",
      "        [[ 0,  0,  0,  ...,  0,  0,  0],\n",
      "         [ 0,  0,  0,  ...,  0,  0,  0],\n",
      "         [ 0,  0,  0,  ...,  0,  0,  0],\n",
      "         ...,\n",
      "         [ 0,  0,  0,  ...,  0,  0,  0],\n",
      "         [ 0,  0,  0,  ...,  0,  0,  0],\n",
      "         [ 0,  0,  0,  ...,  0,  0,  0]],\n",
      "\n",
      "        [[ 0,  0,  0,  ...,  0,  0,  0],\n",
      "         [ 0,  0,  0,  ...,  0,  0,  0],\n",
      "         [ 0,  0,  0,  ...,  0,  0,  0],\n",
      "         ...,\n",
      "         [11,  2, 13,  ...,  0,  0,  0],\n",
      "         [ 5,  2, 11,  ...,  0,  0,  0],\n",
      "         [23,  0,  0,  ...,  0,  0,  0]],\n",
      "\n",
      "        [[ 0,  0,  0,  ...,  0,  0,  0],\n",
      "         [ 0,  0,  0,  ...,  0,  0,  0],\n",
      "         [ 0,  0,  0,  ...,  0,  0,  0],\n",
      "         ...,\n",
      "         [ 0,  0,  0,  ...,  0,  0,  0],\n",
      "         [ 0,  0,  0,  ...,  0,  0,  0],\n",
      "         [ 0,  0,  0,  ...,  0,  0,  0]]], device='cuda:0')\n",
      "INFO:allennlp.training.callbacks.console_logger:batch_input/lemma/lemma/tokens (Shape: 4 x 41)\n",
      "tensor([[  19,   28,   14,  ...,    0,    0,    0],\n",
      "        [  10,   15,    8,  ...,    0,    0,    0],\n",
      "        [  19,   28,    8,  ..., 5303,    6,    3],\n",
      "        [  10,   15,    8,  ...,    0,    0,    0]], device='cuda:0')\n",
      "INFO:allennlp.training.callbacks.console_logger:batch_input/label (Shape: 4)\n",
      "tensor([0, 0, 0, 0], device='cuda:0')\n",
      "INFO:allennlp.training.callbacks.console_logger:Field : \"batch_input/metadata\" : (Length 4 of type \"<class 'dict'>\")\n",
      "INFO:allennlp.training.callbacks.console_logger:                       Training |  Validation\n",
      "INFO:allennlp.training.callbacks.console_logger:accuracy           |     0.820  |     0.916\n",
      "INFO:allennlp.training.callbacks.console_logger:fscore             |     0.798  |     0.911\n",
      "INFO:allennlp.training.callbacks.console_logger:fscore-negative    |     0.863  |     0.932\n",
      "INFO:allennlp.training.callbacks.console_logger:fscore-positive    |     0.734  |     0.891\n",
      "INFO:allennlp.training.callbacks.console_logger:gpu_0_memory_MB    |   100.701  |       N/A\n",
      "INFO:allennlp.training.callbacks.console_logger:loss               |     0.395  |     0.242\n",
      "INFO:allennlp.training.callbacks.console_logger:precision          |     0.817  |     0.907\n",
      "INFO:allennlp.training.callbacks.console_logger:precision-negative |     0.823  |     0.951\n",
      "INFO:allennlp.training.callbacks.console_logger:precision-positive |     0.811  |     0.862\n",
      "INFO:allennlp.training.callbacks.console_logger:recall             |     0.788  |     0.917\n",
      "INFO:allennlp.training.callbacks.console_logger:recall-negative    |     0.906  |     0.913\n",
      "INFO:allennlp.training.callbacks.console_logger:recall-positive    |     0.670  |     0.921\n",
      "INFO:allennlp.training.callbacks.console_logger:worker_0_memory_MB |  3021.844  |       N/A\n",
      "INFO:allennlp.training.gradient_descent_trainer:Epoch duration: 0:00:19.343331\n",
      "INFO:allennlp.training.gradient_descent_trainer:Estimated training time remaining: 0:06:06\n",
      "INFO:allennlp.training.gradient_descent_trainer:Epoch 1/19\n",
      "INFO:allennlp.training.gradient_descent_trainer:Worker 0 memory usage: 3.0G\n",
      "INFO:allennlp.training.gradient_descent_trainer:GPU 0 memory usage: 101M\n",
      "INFO:allennlp.training.gradient_descent_trainer:Training\n"
     ]
    },
    {
     "data": {
      "application/vnd.jupyter.widget-view+json": {
       "model_id": "9d6d389fd7ee4d7396c8aaee2416600f",
       "version_major": 2,
       "version_minor": 0
      },
      "text/plain": [
       "  0%|          | 0/1357 [00:00<?, ?it/s]"
      ]
     },
     "metadata": {},
     "output_type": "display_data"
    },
    {
     "name": "stderr",
     "output_type": "stream",
     "text": [
      "INFO:allennlp.training.gradient_descent_trainer:Validating\n"
     ]
    },
    {
     "data": {
      "application/vnd.jupyter.widget-view+json": {
       "model_id": "a891b2bdce754db09b3d6f1c2ac64240",
       "version_major": 2,
       "version_minor": 0
      },
      "text/plain": [
       "  0%|          | 0/170 [00:00<?, ?it/s]"
      ]
     },
     "metadata": {},
     "output_type": "display_data"
    },
    {
     "name": "stderr",
     "output_type": "stream",
     "text": [
      "INFO:allennlp.training.callbacks.console_logger:                       Training |  Validation\n",
      "INFO:allennlp.training.callbacks.console_logger:accuracy           |     0.938  |     0.918\n",
      "INFO:allennlp.training.callbacks.console_logger:fscore             |     0.933  |     0.909\n",
      "INFO:allennlp.training.callbacks.console_logger:fscore-negative    |     0.950  |     0.935\n",
      "INFO:allennlp.training.callbacks.console_logger:fscore-positive    |     0.916  |     0.883\n",
      "INFO:allennlp.training.callbacks.console_logger:gpu_0_memory_MB    |   100.701  |       N/A\n",
      "INFO:allennlp.training.callbacks.console_logger:loss               |     0.168  |     0.221\n",
      "INFO:allennlp.training.callbacks.console_logger:precision          |     0.933  |     0.916\n",
      "INFO:allennlp.training.callbacks.console_logger:precision-negative |     0.952  |     0.921\n",
      "INFO:allennlp.training.callbacks.console_logger:precision-positive |     0.913  |     0.911\n",
      "INFO:allennlp.training.callbacks.console_logger:recall             |     0.933  |     0.904\n",
      "INFO:allennlp.training.callbacks.console_logger:recall-negative    |     0.947  |     0.951\n",
      "INFO:allennlp.training.callbacks.console_logger:recall-positive    |     0.920  |     0.857\n",
      "INFO:allennlp.training.callbacks.console_logger:worker_0_memory_MB |  3026.691  |       N/A\n",
      "INFO:allennlp.training.gradient_descent_trainer:Epoch duration: 0:00:19.457752\n",
      "INFO:allennlp.training.gradient_descent_trainer:Estimated training time remaining: 0:05:48\n",
      "INFO:allennlp.training.gradient_descent_trainer:Epoch 2/19\n",
      "INFO:allennlp.training.gradient_descent_trainer:Worker 0 memory usage: 3.0G\n",
      "INFO:allennlp.training.gradient_descent_trainer:GPU 0 memory usage: 101M\n",
      "INFO:allennlp.training.gradient_descent_trainer:Training\n"
     ]
    },
    {
     "data": {
      "application/vnd.jupyter.widget-view+json": {
       "model_id": "c7923e367cf24fa7bd6452e167f31007",
       "version_major": 2,
       "version_minor": 0
      },
      "text/plain": [
       "  0%|          | 0/1357 [00:00<?, ?it/s]"
      ]
     },
     "metadata": {},
     "output_type": "display_data"
    },
    {
     "name": "stderr",
     "output_type": "stream",
     "text": [
      "INFO:allennlp.training.gradient_descent_trainer:Validating\n"
     ]
    },
    {
     "data": {
      "application/vnd.jupyter.widget-view+json": {
       "model_id": "ca4b8b5ff5894c46bc7a6190ca6266ea",
       "version_major": 2,
       "version_minor": 0
      },
      "text/plain": [
       "  0%|          | 0/170 [00:00<?, ?it/s]"
      ]
     },
     "metadata": {},
     "output_type": "display_data"
    },
    {
     "name": "stderr",
     "output_type": "stream",
     "text": [
      "INFO:allennlp.training.callbacks.console_logger:                       Training |  Validation\n",
      "INFO:allennlp.training.callbacks.console_logger:accuracy           |     0.972  |     0.928\n",
      "INFO:allennlp.training.callbacks.console_logger:fscore             |     0.969  |     0.923\n",
      "INFO:allennlp.training.callbacks.console_logger:fscore-negative    |     0.977  |     0.940\n",
      "INFO:allennlp.training.callbacks.console_logger:fscore-positive    |     0.961  |     0.906\n",
      "INFO:allennlp.training.callbacks.console_logger:gpu_0_memory_MB    |   100.701  |       N/A\n",
      "INFO:allennlp.training.callbacks.console_logger:loss               |     0.078  |     0.212\n",
      "INFO:allennlp.training.callbacks.console_logger:precision          |     0.969  |     0.919\n",
      "INFO:allennlp.training.callbacks.console_logger:precision-negative |     0.980  |     0.959\n",
      "INFO:allennlp.training.callbacks.console_logger:precision-positive |     0.959  |     0.880\n",
      "INFO:allennlp.training.callbacks.console_logger:recall             |     0.969  |     0.928\n",
      "INFO:allennlp.training.callbacks.console_logger:recall-negative    |     0.975  |     0.923\n",
      "INFO:allennlp.training.callbacks.console_logger:recall-positive    |     0.964  |     0.933\n",
      "INFO:allennlp.training.callbacks.console_logger:worker_0_memory_MB |  3026.992  |       N/A\n",
      "INFO:allennlp.training.gradient_descent_trainer:Epoch duration: 0:00:19.370162\n",
      "INFO:allennlp.training.gradient_descent_trainer:Estimated training time remaining: 0:05:29\n",
      "INFO:allennlp.training.gradient_descent_trainer:Epoch 3/19\n",
      "INFO:allennlp.training.gradient_descent_trainer:Worker 0 memory usage: 3.0G\n",
      "INFO:allennlp.training.gradient_descent_trainer:GPU 0 memory usage: 101M\n",
      "INFO:allennlp.training.gradient_descent_trainer:Training\n"
     ]
    },
    {
     "data": {
      "application/vnd.jupyter.widget-view+json": {
       "model_id": "a2a09af6dc324316a53063f901dd4960",
       "version_major": 2,
       "version_minor": 0
      },
      "text/plain": [
       "  0%|          | 0/1357 [00:00<?, ?it/s]"
      ]
     },
     "metadata": {},
     "output_type": "display_data"
    },
    {
     "name": "stderr",
     "output_type": "stream",
     "text": [
      "INFO:allennlp.training.gradient_descent_trainer:Validating\n"
     ]
    },
    {
     "data": {
      "application/vnd.jupyter.widget-view+json": {
       "model_id": "47660c7afa6b4b4e841efc1d7b225363",
       "version_major": 2,
       "version_minor": 0
      },
      "text/plain": [
       "  0%|          | 0/170 [00:00<?, ?it/s]"
      ]
     },
     "metadata": {},
     "output_type": "display_data"
    },
    {
     "name": "stderr",
     "output_type": "stream",
     "text": [
      "INFO:allennlp.training.callbacks.console_logger:                       Training |  Validation\n",
      "INFO:allennlp.training.callbacks.console_logger:accuracy           |     0.985  |     0.901\n",
      "INFO:allennlp.training.callbacks.console_logger:fscore             |     0.983  |     0.897\n",
      "INFO:allennlp.training.callbacks.console_logger:fscore-negative    |     0.987  |     0.918\n",
      "INFO:allennlp.training.callbacks.console_logger:fscore-positive    |     0.980  |     0.877\n",
      "INFO:allennlp.training.callbacks.console_logger:gpu_0_memory_MB    |   100.701  |       N/A\n",
      "INFO:allennlp.training.callbacks.console_logger:loss               |     0.042  |     0.305\n",
      "INFO:allennlp.training.callbacks.console_logger:precision          |     0.984  |     0.891\n",
      "INFO:allennlp.training.callbacks.console_logger:precision-negative |     0.990  |     0.964\n",
      "INFO:allennlp.training.callbacks.console_logger:precision-positive |     0.977  |     0.818\n",
      "INFO:allennlp.training.callbacks.console_logger:recall             |     0.983  |     0.910\n",
      "INFO:allennlp.training.callbacks.console_logger:recall-negative    |     0.984  |     0.876\n",
      "INFO:allennlp.training.callbacks.console_logger:recall-positive    |     0.983  |     0.944\n",
      "INFO:allennlp.training.callbacks.console_logger:worker_0_memory_MB |  3027.242  |       N/A\n",
      "INFO:allennlp.training.gradient_descent_trainer:Epoch duration: 0:00:19.405115\n",
      "INFO:allennlp.training.gradient_descent_trainer:Estimated training time remaining: 0:05:10\n",
      "INFO:allennlp.training.gradient_descent_trainer:Epoch 4/19\n",
      "INFO:allennlp.training.gradient_descent_trainer:Worker 0 memory usage: 3.0G\n",
      "INFO:allennlp.training.gradient_descent_trainer:GPU 0 memory usage: 101M\n",
      "INFO:allennlp.training.gradient_descent_trainer:Training\n"
     ]
    },
    {
     "data": {
      "application/vnd.jupyter.widget-view+json": {
       "model_id": "c0e9222daad04c4083ed3d786a94c0f2",
       "version_major": 2,
       "version_minor": 0
      },
      "text/plain": [
       "  0%|          | 0/1357 [00:00<?, ?it/s]"
      ]
     },
     "metadata": {},
     "output_type": "display_data"
    },
    {
     "name": "stderr",
     "output_type": "stream",
     "text": [
      "INFO:allennlp.training.gradient_descent_trainer:Validating\n"
     ]
    },
    {
     "data": {
      "application/vnd.jupyter.widget-view+json": {
       "model_id": "79fb591d1b504f17a21bffdfb1d99d76",
       "version_major": 2,
       "version_minor": 0
      },
      "text/plain": [
       "  0%|          | 0/170 [00:00<?, ?it/s]"
      ]
     },
     "metadata": {},
     "output_type": "display_data"
    },
    {
     "name": "stderr",
     "output_type": "stream",
     "text": [
      "INFO:allennlp.training.callbacks.console_logger:                       Training |  Validation\n",
      "INFO:allennlp.training.callbacks.console_logger:accuracy           |     0.993  |     0.923\n",
      "INFO:allennlp.training.callbacks.console_logger:fscore             |     0.991  |     0.918\n",
      "INFO:allennlp.training.callbacks.console_logger:fscore-negative    |     0.993  |     0.937\n",
      "INFO:allennlp.training.callbacks.console_logger:fscore-positive    |     0.989  |     0.898\n",
      "INFO:allennlp.training.callbacks.console_logger:gpu_0_memory_MB    |   100.701  |       N/A\n",
      "INFO:allennlp.training.callbacks.console_logger:loss               |     0.021  |     0.266\n",
      "INFO:allennlp.training.callbacks.console_logger:precision          |     0.992  |     0.917\n",
      "INFO:allennlp.training.callbacks.console_logger:precision-negative |     0.995  |     0.947\n",
      "INFO:allennlp.training.callbacks.console_logger:precision-positive |     0.989  |     0.888\n",
      "INFO:allennlp.training.callbacks.console_logger:recall             |     0.990  |     0.918\n",
      "INFO:allennlp.training.callbacks.console_logger:recall-negative    |     0.991  |     0.927\n",
      "INFO:allennlp.training.callbacks.console_logger:recall-positive    |     0.989  |     0.909\n",
      "INFO:allennlp.training.callbacks.console_logger:worker_0_memory_MB |  3027.492  |       N/A\n",
      "INFO:allennlp.training.gradient_descent_trainer:Epoch duration: 0:00:19.304972\n",
      "INFO:allennlp.training.gradient_descent_trainer:Estimated training time remaining: 0:04:50\n",
      "INFO:allennlp.training.gradient_descent_trainer:Epoch 5/19\n",
      "INFO:allennlp.training.gradient_descent_trainer:Worker 0 memory usage: 3.0G\n",
      "INFO:allennlp.training.gradient_descent_trainer:GPU 0 memory usage: 101M\n",
      "INFO:allennlp.training.gradient_descent_trainer:Training\n"
     ]
    },
    {
     "data": {
      "application/vnd.jupyter.widget-view+json": {
       "model_id": "5fa08db0c35b426983652e5e9aad4ba5",
       "version_major": 2,
       "version_minor": 0
      },
      "text/plain": [
       "  0%|          | 0/1357 [00:00<?, ?it/s]"
      ]
     },
     "metadata": {},
     "output_type": "display_data"
    },
    {
     "name": "stderr",
     "output_type": "stream",
     "text": [
      "INFO:allennlp.training.gradient_descent_trainer:Validating\n"
     ]
    },
    {
     "data": {
      "application/vnd.jupyter.widget-view+json": {
       "model_id": "d68dd7e42e544dfc81a8ffa54db973b9",
       "version_major": 2,
       "version_minor": 0
      },
      "text/plain": [
       "  0%|          | 0/170 [00:00<?, ?it/s]"
      ]
     },
     "metadata": {},
     "output_type": "display_data"
    },
    {
     "name": "stderr",
     "output_type": "stream",
     "text": [
      "INFO:allennlp.training.callbacks.console_logger:                       Training |  Validation\n",
      "INFO:allennlp.training.callbacks.console_logger:accuracy           |     0.997  |     0.887\n",
      "INFO:allennlp.training.callbacks.console_logger:fscore             |     0.995  |     0.880\n",
      "INFO:allennlp.training.callbacks.console_logger:fscore-negative    |     0.996  |     0.903\n",
      "INFO:allennlp.training.callbacks.console_logger:fscore-positive    |     0.995  |     0.856\n",
      "INFO:allennlp.training.callbacks.console_logger:gpu_0_memory_MB    |   100.701  |       N/A\n",
      "INFO:allennlp.training.callbacks.console_logger:loss               |     0.013  |     0.428\n",
      "INFO:allennlp.training.callbacks.console_logger:precision          |     0.996  |     0.876\n",
      "INFO:allennlp.training.callbacks.console_logger:precision-negative |     0.998  |     0.958\n",
      "INFO:allennlp.training.callbacks.console_logger:precision-positive |     0.995  |     0.793\n",
      "INFO:allennlp.training.callbacks.console_logger:recall             |     0.994  |     0.892\n",
      "INFO:allennlp.training.callbacks.console_logger:recall-negative    |     0.994  |     0.855\n",
      "INFO:allennlp.training.callbacks.console_logger:recall-positive    |     0.994  |     0.929\n",
      "INFO:allennlp.training.callbacks.console_logger:worker_0_memory_MB |  3028.512  |       N/A\n",
      "INFO:allennlp.training.gradient_descent_trainer:Epoch duration: 0:00:19.349245\n",
      "INFO:allennlp.training.gradient_descent_trainer:Estimated training time remaining: 0:04:31\n",
      "INFO:allennlp.training.gradient_descent_trainer:Epoch 6/19\n",
      "INFO:allennlp.training.gradient_descent_trainer:Worker 0 memory usage: 3.0G\n",
      "INFO:allennlp.training.gradient_descent_trainer:GPU 0 memory usage: 101M\n",
      "INFO:allennlp.training.gradient_descent_trainer:Training\n"
     ]
    },
    {
     "data": {
      "application/vnd.jupyter.widget-view+json": {
       "model_id": "8afb9afe2360488cba195ae168b89bcd",
       "version_major": 2,
       "version_minor": 0
      },
      "text/plain": [
       "  0%|          | 0/1357 [00:00<?, ?it/s]"
      ]
     },
     "metadata": {},
     "output_type": "display_data"
    },
    {
     "name": "stderr",
     "output_type": "stream",
     "text": [
      "INFO:allennlp.training.gradient_descent_trainer:Validating\n"
     ]
    },
    {
     "data": {
      "application/vnd.jupyter.widget-view+json": {
       "model_id": "35e691cc38c34b9784111cb59c45beb2",
       "version_major": 2,
       "version_minor": 0
      },
      "text/plain": [
       "  0%|          | 0/170 [00:00<?, ?it/s]"
      ]
     },
     "metadata": {},
     "output_type": "display_data"
    },
    {
     "name": "stderr",
     "output_type": "stream",
     "text": [
      "INFO:allennlp.training.callbacks.console_logger:                       Training |  Validation\n",
      "INFO:allennlp.training.callbacks.console_logger:accuracy           |     0.997  |     0.872\n",
      "INFO:allennlp.training.callbacks.console_logger:fscore             |     0.994  |     0.864\n",
      "INFO:allennlp.training.callbacks.console_logger:fscore-negative    |     0.995  |     0.888\n",
      "INFO:allennlp.training.callbacks.console_logger:fscore-positive    |     0.994  |     0.839\n",
      "INFO:allennlp.training.callbacks.console_logger:gpu_0_memory_MB    |   100.701  |       N/A\n",
      "INFO:allennlp.training.callbacks.console_logger:loss               |     0.010  |     0.516\n",
      "INFO:allennlp.training.callbacks.console_logger:precision          |     0.997  |     0.862\n",
      "INFO:allennlp.training.callbacks.console_logger:precision-negative |     0.998  |     0.947\n",
      "INFO:allennlp.training.callbacks.console_logger:precision-positive |     0.996  |     0.777\n",
      "INFO:allennlp.training.callbacks.console_logger:recall             |     0.992  |     0.874\n",
      "INFO:allennlp.training.callbacks.console_logger:recall-negative    |     0.992  |     0.836\n",
      "INFO:allennlp.training.callbacks.console_logger:recall-positive    |     0.993  |     0.913\n",
      "INFO:allennlp.training.callbacks.console_logger:worker_0_memory_MB |  3028.852  |       N/A\n",
      "INFO:allennlp.training.gradient_descent_trainer:Epoch duration: 0:00:19.363775\n",
      "INFO:allennlp.training.gradient_descent_trainer:Estimated training time remaining: 0:04:11\n",
      "INFO:allennlp.training.gradient_descent_trainer:Epoch 7/19\n",
      "INFO:allennlp.training.gradient_descent_trainer:Worker 0 memory usage: 3.0G\n",
      "INFO:allennlp.training.gradient_descent_trainer:GPU 0 memory usage: 101M\n",
      "INFO:allennlp.training.gradient_descent_trainer:Training\n"
     ]
    },
    {
     "data": {
      "application/vnd.jupyter.widget-view+json": {
       "model_id": "1996d1ed139743489424320191b54575",
       "version_major": 2,
       "version_minor": 0
      },
      "text/plain": [
       "  0%|          | 0/1357 [00:00<?, ?it/s]"
      ]
     },
     "metadata": {},
     "output_type": "display_data"
    },
    {
     "name": "stderr",
     "output_type": "stream",
     "text": [
      "INFO:allennlp.training.gradient_descent_trainer:Validating\n"
     ]
    },
    {
     "data": {
      "application/vnd.jupyter.widget-view+json": {
       "model_id": "90c45b7392ba4ddc85df1cf5f38b1d2b",
       "version_major": 2,
       "version_minor": 0
      },
      "text/plain": [
       "  0%|          | 0/170 [00:00<?, ?it/s]"
      ]
     },
     "metadata": {},
     "output_type": "display_data"
    },
    {
     "name": "stderr",
     "output_type": "stream",
     "text": [
      "INFO:allennlp.training.callbacks.console_logger:                       Training |  Validation\n",
      "INFO:allennlp.training.callbacks.console_logger:accuracy           |     0.996  |     0.856\n",
      "INFO:allennlp.training.callbacks.console_logger:fscore             |     0.995  |     0.853\n",
      "INFO:allennlp.training.callbacks.console_logger:fscore-negative    |     0.996  |     0.874\n",
      "INFO:allennlp.training.callbacks.console_logger:fscore-positive    |     0.994  |     0.831\n",
      "INFO:allennlp.training.callbacks.console_logger:gpu_0_memory_MB    |   100.701  |       N/A\n",
      "INFO:allennlp.training.callbacks.console_logger:loss               |     0.011  |     0.691\n",
      "INFO:allennlp.training.callbacks.console_logger:precision          |     0.996  |     0.852\n",
      "INFO:allennlp.training.callbacks.console_logger:precision-negative |     0.998  |     0.969\n",
      "INFO:allennlp.training.callbacks.console_logger:precision-positive |     0.995  |     0.735\n",
      "INFO:allennlp.training.callbacks.console_logger:recall             |     0.994  |     0.876\n",
      "INFO:allennlp.training.callbacks.console_logger:recall-negative    |     0.994  |     0.796\n",
      "INFO:allennlp.training.callbacks.console_logger:recall-positive    |     0.994  |     0.956\n",
      "INFO:allennlp.training.callbacks.console_logger:worker_0_memory_MB |  3028.852  |       N/A\n",
      "INFO:allennlp.training.gradient_descent_trainer:Epoch duration: 0:00:19.438533\n",
      "INFO:allennlp.training.gradient_descent_trainer:Estimated training time remaining: 0:03:52\n",
      "INFO:allennlp.training.gradient_descent_trainer:Epoch 8/19\n",
      "INFO:allennlp.training.gradient_descent_trainer:Worker 0 memory usage: 3.0G\n",
      "INFO:allennlp.training.gradient_descent_trainer:GPU 0 memory usage: 101M\n",
      "INFO:allennlp.training.gradient_descent_trainer:Training\n"
     ]
    },
    {
     "data": {
      "application/vnd.jupyter.widget-view+json": {
       "model_id": "bdc54532c3d340ac879c8023ce1d7a0c",
       "version_major": 2,
       "version_minor": 0
      },
      "text/plain": [
       "  0%|          | 0/1357 [00:00<?, ?it/s]"
      ]
     },
     "metadata": {},
     "output_type": "display_data"
    },
    {
     "name": "stderr",
     "output_type": "stream",
     "text": [
      "INFO:allennlp.training.gradient_descent_trainer:Validating\n"
     ]
    },
    {
     "data": {
      "application/vnd.jupyter.widget-view+json": {
       "model_id": "e84bb51423a64626a974740e9b375da0",
       "version_major": 2,
       "version_minor": 0
      },
      "text/plain": [
       "  0%|          | 0/170 [00:00<?, ?it/s]"
      ]
     },
     "metadata": {},
     "output_type": "display_data"
    },
    {
     "name": "stderr",
     "output_type": "stream",
     "text": [
      "INFO:allennlp.training.callbacks.console_logger:                       Training |  Validation\n",
      "INFO:allennlp.training.callbacks.console_logger:accuracy           |     0.998  |     0.894\n",
      "INFO:allennlp.training.callbacks.console_logger:fscore             |     0.996  |     0.887\n",
      "INFO:allennlp.training.callbacks.console_logger:fscore-negative    |     0.996  |     0.909\n",
      "INFO:allennlp.training.callbacks.console_logger:fscore-positive    |     0.997  |     0.865\n",
      "INFO:allennlp.training.callbacks.console_logger:gpu_0_memory_MB    |   100.701  |       N/A\n",
      "INFO:allennlp.training.callbacks.console_logger:loss               |     0.007  |     0.399\n",
      "INFO:allennlp.training.callbacks.console_logger:precision          |     0.997  |     0.883\n",
      "INFO:allennlp.training.callbacks.console_logger:precision-negative |     0.999  |     0.944\n",
      "INFO:allennlp.training.callbacks.console_logger:precision-positive |     0.996  |     0.821\n",
      "INFO:allennlp.training.callbacks.console_logger:recall             |     0.996  |     0.894\n",
      "INFO:allennlp.training.callbacks.console_logger:recall-negative    |     0.994  |     0.876\n",
      "INFO:allennlp.training.callbacks.console_logger:recall-positive    |     0.998  |     0.913\n",
      "INFO:allennlp.training.callbacks.console_logger:worker_0_memory_MB |  3029.094  |       N/A\n",
      "INFO:allennlp.training.gradient_descent_trainer:Epoch duration: 0:00:19.431187\n",
      "INFO:allennlp.training.gradient_descent_trainer:Estimated training time remaining: 0:03:33\n",
      "INFO:allennlp.training.gradient_descent_trainer:Epoch 9/19\n",
      "INFO:allennlp.training.gradient_descent_trainer:Worker 0 memory usage: 3.0G\n",
      "INFO:allennlp.training.gradient_descent_trainer:GPU 0 memory usage: 101M\n",
      "INFO:allennlp.training.gradient_descent_trainer:Training\n"
     ]
    },
    {
     "data": {
      "application/vnd.jupyter.widget-view+json": {
       "model_id": "ff2722c3d3bc4e019a3bf5ccb3c14df5",
       "version_major": 2,
       "version_minor": 0
      },
      "text/plain": [
       "  0%|          | 0/1357 [00:00<?, ?it/s]"
      ]
     },
     "metadata": {},
     "output_type": "display_data"
    },
    {
     "name": "stderr",
     "output_type": "stream",
     "text": [
      "INFO:allennlp.training.gradient_descent_trainer:Validating\n"
     ]
    },
    {
     "data": {
      "application/vnd.jupyter.widget-view+json": {
       "model_id": "d05c5528a2084fb09ad978d7451dbaf5",
       "version_major": 2,
       "version_minor": 0
      },
      "text/plain": [
       "  0%|          | 0/170 [00:00<?, ?it/s]"
      ]
     },
     "metadata": {},
     "output_type": "display_data"
    },
    {
     "name": "stderr",
     "output_type": "stream",
     "text": [
      "INFO:allennlp.training.callbacks.console_logger:                       Training |  Validation\n",
      "INFO:allennlp.training.callbacks.console_logger:accuracy           |     0.999  |     0.897\n",
      "INFO:allennlp.training.callbacks.console_logger:fscore             |     0.998  |     0.887\n",
      "INFO:allennlp.training.callbacks.console_logger:fscore-negative    |     0.998  |     0.912\n",
      "INFO:allennlp.training.callbacks.console_logger:fscore-positive    |     0.998  |     0.861\n",
      "INFO:allennlp.training.callbacks.console_logger:gpu_0_memory_MB    |   100.701  |       N/A\n",
      "INFO:allennlp.training.callbacks.console_logger:loss               |     0.003  |     0.490\n",
      "INFO:allennlp.training.callbacks.console_logger:precision          |     0.999  |     0.893\n",
      "INFO:allennlp.training.callbacks.console_logger:precision-negative |     0.999  |     0.909\n",
      "INFO:allennlp.training.callbacks.console_logger:precision-positive |     1.000  |     0.877\n",
      "INFO:allennlp.training.callbacks.console_logger:recall             |     0.996  |     0.880\n",
      "INFO:allennlp.training.callbacks.console_logger:recall-negative    |     0.996  |     0.916\n",
      "INFO:allennlp.training.callbacks.console_logger:recall-positive    |     0.996  |     0.845\n",
      "INFO:allennlp.training.callbacks.console_logger:worker_0_memory_MB |  3029.094  |       N/A\n",
      "INFO:allennlp.training.gradient_descent_trainer:Epoch duration: 0:00:19.372215\n",
      "INFO:allennlp.training.gradient_descent_trainer:Estimated training time remaining: 0:03:13\n",
      "INFO:allennlp.training.gradient_descent_trainer:Epoch 10/19\n",
      "INFO:allennlp.training.gradient_descent_trainer:Worker 0 memory usage: 3.0G\n",
      "INFO:allennlp.training.gradient_descent_trainer:GPU 0 memory usage: 101M\n",
      "INFO:allennlp.training.gradient_descent_trainer:Training\n"
     ]
    },
    {
     "data": {
      "application/vnd.jupyter.widget-view+json": {
       "model_id": "ec8aa9cd9c90439b8eddfb760300fe25",
       "version_major": 2,
       "version_minor": 0
      },
      "text/plain": [
       "  0%|          | 0/1357 [00:00<?, ?it/s]"
      ]
     },
     "metadata": {},
     "output_type": "display_data"
    },
    {
     "name": "stderr",
     "output_type": "stream",
     "text": [
      "INFO:allennlp.training.gradient_descent_trainer:Validating\n"
     ]
    },
    {
     "data": {
      "application/vnd.jupyter.widget-view+json": {
       "model_id": "289bf4f27cae4924ad489ed85176f2e8",
       "version_major": 2,
       "version_minor": 0
      },
      "text/plain": [
       "  0%|          | 0/170 [00:00<?, ?it/s]"
      ]
     },
     "metadata": {},
     "output_type": "display_data"
    },
    {
     "name": "stderr",
     "output_type": "stream",
     "text": [
      "INFO:allennlp.training.callbacks.console_logger:                       Training |  Validation\n",
      "INFO:allennlp.training.callbacks.console_logger:accuracy           |     0.999  |     0.875\n",
      "INFO:allennlp.training.callbacks.console_logger:fscore             |     0.996  |     0.860\n",
      "INFO:allennlp.training.callbacks.console_logger:fscore-negative    |     0.997  |     0.880\n",
      "INFO:allennlp.training.callbacks.console_logger:fscore-positive    |     0.996  |     0.840\n",
      "INFO:allennlp.training.callbacks.console_logger:gpu_0_memory_MB    |   100.701  |       N/A\n",
      "INFO:allennlp.training.callbacks.console_logger:loss               |     0.004  |     0.522\n",
      "INFO:allennlp.training.callbacks.console_logger:precision          |     0.999  |     0.862\n",
      "INFO:allennlp.training.callbacks.console_logger:precision-negative |     0.999  |     0.925\n",
      "INFO:allennlp.training.callbacks.console_logger:precision-positive |     0.999  |     0.799\n",
      "INFO:allennlp.training.callbacks.console_logger:recall             |     0.994  |     0.862\n",
      "INFO:allennlp.training.callbacks.console_logger:recall-negative    |     0.995  |     0.838\n",
      "INFO:allennlp.training.callbacks.console_logger:recall-positive    |     0.993  |     0.885\n",
      "INFO:allennlp.training.callbacks.console_logger:worker_0_memory_MB |  3029.344  |       N/A\n",
      "INFO:allennlp.training.gradient_descent_trainer:Epoch duration: 0:00:19.318853\n",
      "INFO:allennlp.training.gradient_descent_trainer:Estimated training time remaining: 0:02:54\n",
      "INFO:allennlp.training.gradient_descent_trainer:Epoch 11/19\n",
      "INFO:allennlp.training.gradient_descent_trainer:Worker 0 memory usage: 3.0G\n",
      "INFO:allennlp.training.gradient_descent_trainer:GPU 0 memory usage: 101M\n",
      "INFO:allennlp.training.gradient_descent_trainer:Training\n"
     ]
    },
    {
     "data": {
      "application/vnd.jupyter.widget-view+json": {
       "model_id": "77b315b6a6fa419aa8df53de3f02c8c1",
       "version_major": 2,
       "version_minor": 0
      },
      "text/plain": [
       "  0%|          | 0/1357 [00:00<?, ?it/s]"
      ]
     },
     "metadata": {},
     "output_type": "display_data"
    },
    {
     "name": "stderr",
     "output_type": "stream",
     "text": [
      "INFO:allennlp.training.gradient_descent_trainer:Validating\n"
     ]
    },
    {
     "data": {
      "application/vnd.jupyter.widget-view+json": {
       "model_id": "c71a8a4ca714494dbf740c85f9d857d2",
       "version_major": 2,
       "version_minor": 0
      },
      "text/plain": [
       "  0%|          | 0/170 [00:00<?, ?it/s]"
      ]
     },
     "metadata": {},
     "output_type": "display_data"
    },
    {
     "name": "stderr",
     "output_type": "stream",
     "text": [
      "INFO:allennlp.training.callbacks.console_logger:                       Training |  Validation\n",
      "INFO:allennlp.training.callbacks.console_logger:accuracy           |     0.998  |     0.892\n",
      "INFO:allennlp.training.callbacks.console_logger:fscore             |     0.994  |     0.881\n",
      "INFO:allennlp.training.callbacks.console_logger:fscore-negative    |     0.996  |     0.906\n",
      "INFO:allennlp.training.callbacks.console_logger:fscore-positive    |     0.993  |     0.855\n",
      "INFO:allennlp.training.callbacks.console_logger:gpu_0_memory_MB    |   100.701  |       N/A\n",
      "INFO:allennlp.training.callbacks.console_logger:loss               |     0.009  |     0.496\n",
      "INFO:allennlp.training.callbacks.console_logger:precision          |     0.997  |     0.882\n",
      "INFO:allennlp.training.callbacks.console_logger:precision-negative |     0.998  |     0.922\n",
      "INFO:allennlp.training.callbacks.console_logger:precision-positive |     0.997  |     0.842\n",
      "INFO:allennlp.training.callbacks.console_logger:recall             |     0.992  |     0.879\n",
      "INFO:allennlp.training.callbacks.console_logger:recall-negative    |     0.994  |     0.890\n",
      "INFO:allennlp.training.callbacks.console_logger:recall-positive    |     0.989  |     0.869\n",
      "INFO:allennlp.training.callbacks.console_logger:worker_0_memory_MB |  3029.344  |       N/A\n",
      "INFO:allennlp.training.gradient_descent_trainer:Epoch duration: 0:00:19.400321\n",
      "INFO:allennlp.training.gradient_descent_trainer:Estimated training time remaining: 0:02:35\n",
      "INFO:allennlp.training.gradient_descent_trainer:Epoch 12/19\n",
      "INFO:allennlp.training.gradient_descent_trainer:Worker 0 memory usage: 3.0G\n",
      "INFO:allennlp.training.gradient_descent_trainer:GPU 0 memory usage: 101M\n",
      "INFO:allennlp.training.gradient_descent_trainer:Training\n"
     ]
    },
    {
     "data": {
      "application/vnd.jupyter.widget-view+json": {
       "model_id": "71faf658ccd142c384a06992f04909bc",
       "version_major": 2,
       "version_minor": 0
      },
      "text/plain": [
       "  0%|          | 0/1357 [00:00<?, ?it/s]"
      ]
     },
     "metadata": {},
     "output_type": "display_data"
    },
    {
     "name": "stderr",
     "output_type": "stream",
     "text": [
      "INFO:allennlp.training.gradient_descent_trainer:Validating\n"
     ]
    },
    {
     "data": {
      "application/vnd.jupyter.widget-view+json": {
       "model_id": "822ca633156c4e92ac6599c9610a338b",
       "version_major": 2,
       "version_minor": 0
      },
      "text/plain": [
       "  0%|          | 0/170 [00:00<?, ?it/s]"
      ]
     },
     "metadata": {},
     "output_type": "display_data"
    },
    {
     "name": "stderr",
     "output_type": "stream",
     "text": [
      "INFO:allennlp.training.callbacks.console_logger:                       Training |  Validation\n",
      "INFO:allennlp.training.callbacks.console_logger:accuracy           |     0.999  |     0.888\n",
      "INFO:allennlp.training.callbacks.console_logger:fscore             |     0.997  |     0.877\n",
      "INFO:allennlp.training.callbacks.console_logger:fscore-negative    |     0.996  |     0.907\n",
      "INFO:allennlp.training.callbacks.console_logger:fscore-positive    |     0.997  |     0.847\n",
      "INFO:allennlp.training.callbacks.console_logger:gpu_0_memory_MB    |   100.701  |       N/A\n",
      "INFO:allennlp.training.callbacks.console_logger:loss               |     0.004  |     0.492\n",
      "INFO:allennlp.training.callbacks.console_logger:precision          |     0.999  |     0.882\n",
      "INFO:allennlp.training.callbacks.console_logger:precision-negative |     0.999  |     0.903\n",
      "INFO:allennlp.training.callbacks.console_logger:precision-positive |     0.998  |     0.861\n",
      "INFO:allennlp.training.callbacks.console_logger:recall             |     0.995  |     0.872\n",
      "INFO:allennlp.training.callbacks.console_logger:recall-negative    |     0.993  |     0.911\n",
      "INFO:allennlp.training.callbacks.console_logger:recall-positive    |     0.997  |     0.833\n",
      "INFO:allennlp.training.callbacks.console_logger:worker_0_memory_MB |  3029.594  |       N/A\n",
      "INFO:allennlp.training.gradient_descent_trainer:Epoch duration: 0:00:19.402804\n",
      "INFO:allennlp.training.gradient_descent_trainer:Ran out of patience. Stopping training.\n",
      "INFO:root:Finished training\n",
      "INFO:allennlp.training.util:Iterating over dataset\n"
     ]
    },
    {
     "name": "stdout",
     "output_type": "stream",
     "text": [
      "FeatureEmbeddingClassifier(\n",
      "  (_loss): CrossEntropyLoss()\n",
      "  (mixed_encoder): MixedEmbeddingEncoder(\n",
      "    (_emb_dropout): Dropout(p=0.3, inplace=False)\n",
      "    (features_embedder): FeatureAndTextEmbedder(\n",
      "      (text_embedder): BasicTextFieldEmbedder(\n",
      "        (token_embedder_lemma): Embedding()\n",
      "        (token_embedder_lemma_char): TokenCharactersEncoder(\n",
      "          (_embedding): TimeDistributed(\n",
      "            (_module): Embedding()\n",
      "          )\n",
      "          (_encoder): TimeDistributed(\n",
      "            (_module): LstmSeq2VecEncoder(\n",
      "              (_module): LSTM(100, 150, num_layers=2, batch_first=True, dropout=0.3, bidirectional=True)\n",
      "            )\n",
      "          )\n",
      "          (_dropout): Dropout(p=0.3, inplace=False)\n",
      "        )\n",
      "      )\n",
      "      (feature_embedder): Linear(in_features=52, out_features=20, bias=True)\n",
      "    )\n",
      "    (features_encoder): HierarchicalAttentionalEncoder(\n",
      "      (gru): GRU(520, 64, batch_first=True, dropout=0.3, bidirectional=True)\n",
      "      (dense): Linear(in_features=128, out_features=128, bias=True)\n",
      "      (dropout): Dropout(p=0.5, inplace=False)\n",
      "    )\n",
      "  )\n",
      "  (classifier): Linear(in_features=128, out_features=2, bias=True)\n",
      ")\n",
      "Evaluating\n"
     ]
    },
    {
     "data": {
      "application/vnd.jupyter.widget-view+json": {
       "model_id": "5a05e27c5d0840c8bd3ce26e8c42368d",
       "version_major": 2,
       "version_minor": 0
      },
      "text/plain": [
       "0it [00:00, ?it/s]"
      ]
     },
     "metadata": {},
     "output_type": "display_data"
    },
    {
     "name": "stdout",
     "output_type": "stream",
     "text": [
      "Evaluating: Predicting\n",
      "({'accuracy': 0.9423929098966026, 'precision': 0.9350190758705139, 'recall': 0.9435871839523315, 'fscore': 0.9388939142227173, 'precision-negative': 0.9685230255126953, 'precision-positive': 0.9015151262283325, 'recall-negative': 0.9389671087265015, 'recall-positive': 0.9482071995735168, 'fscore-negative': 0.9535160660743713, 'fscore-positive': 0.924271821975708, 'loss': 0.1767002537189161}, <sklearn.metrics._plot.confusion_matrix.ConfusionMatrixDisplay object at 0x7f50284fd340>)\n"
     ]
    },
    {
     "name": "stderr",
     "output_type": "stream",
     "text": [
      "/home/thibault/dev/est-lascivuum-non-est/seligator/tests/evaluate.py:111: UserWarning: Matplotlib is currently using module://matplotlib_inline.backend_inline, which is a non-GUI backend, so cannot show the figure.\n",
      "  disp.figure_.show()\n"
     ]
    },
    {
     "data": {
      "image/png": "[encoded data removed]",
      "text/plain": [
       "<Figure size 432x288 with 2 Axes>"
      ]
     },
     "metadata": {
      "needs_background": "light"
     },
     "output_type": "display_data"
    }
   ],
   "source": [
    "model, reader, train, dev = prepare_model(\n",
    "    input_features=(\"lemma_char\", \"lemma\", \"case\", \"numb\", \"gend\", \"mood\", \"tense\", \"voice\", \"person\", \"deg\"),\n",
    "    use_han=True,\n",
    "    agglomerate_msd=True,\n",
    "    reader_kwargs={\"batch_size\": 4, \"metadata_encoding\": MetadataEncoding.AS_TOKEN},\n",
    "    model_embedding_kwargs=dict(\n",
    "        keep_all_vocab=True,\n",
    "        pretrained_embeddings={\n",
    "            # \"token\": \"~/Downloads/latin.embeddings\",\n",
    "        #    \"token\": \"~/dev/these/notebooks/4 - Detection/data/embs_models/model.token.word2vec.kv\",\n",
    "        #    \"lemma\": \"~/dev/these/notebooks/4 - Detection/data/embs_models/model.lemma.word2vec.kv.header\"\n",
    "        },\n",
    "        trainable_embeddings={\"token\": False, \"lemma\": True},\n",
    "        pretrained_emb_dims={\"token\": 200, \"lemma\": 200}\n",
    "    ),\n",
    "    #batches_per_epoch=100,\n",
    "    # model_class=SiameseClassifier,\n",
    "    use_bert_higway=True,\n",
    ")\n",
    "model = train_and_get(\n",
    "    model, train, dev,\n",
    "    patience=10,\n",
    "    num_epochs=20,\n",
    "    lr=5e-4\n",
    ")\n",
    "print(model)\n",
    "data = run_tests(\n",
    "    \"dataset/split/test.txt\",\n",
    "    dataset_reader=reader, model=model, dump=\"test.lemma-msd-metadatatoken.csv\"\n",
    ")\n",
    "print(data)"
   ]
  },
  {
   "cell_type": "code",
   "execution_count": 4,
   "id": "c1f7ae46",
   "metadata": {},
   "outputs": [
    {
     "name": "stderr",
     "output_type": "stream",
     "text": [
      "INFO:root:Dataset reader set with following categories: [msd], lemma_char, lemma\n",
      "/home/thibault/dev/est-lascivuum-non-est/env/lib/python3.8/site-packages/allennlp/data/token_indexers/token_characters_indexer.py:55: UserWarning: You are using the default value (0) of `min_padding_length`, which can cause some subtle bugs (more info see https://github.com/allenai/allennlp/issues/1954). Strongly recommend to set a value, usually the maximum size of the convolutional layer size when using CnnEncoder.\n",
      "  warnings.warn(\n",
      "INFO:root:Indexer set for following categories: [msd], lemma_char, lemma\n",
      "INFO:root:TSV READER uses following metadata encoding MetadataEncoding.AS_TOKEN \n",
      "INFO:root:TSV READER uses keeps only following metadata as inputs WrittenType\n",
      "INFO:root:Reading data\n",
      "INFO:root:Building the vocabulary\n",
      "INFO:allennlp.data.vocabulary:Fitting token dictionary from dataset.\n"
     ]
    },
    {
     "data": {
      "application/vnd.jupyter.widget-view+json": {
       "model_id": "b8f36f10ee534f90af731d49d9458f53",
       "version_major": 2,
       "version_minor": 0
      },
      "text/plain": [
       "building vocab:   0%|          | 0/5427 [00:00<?, ?it/s]"
      ]
     },
     "metadata": {},
     "output_type": "display_data"
    },
    {
     "name": "stderr",
     "output_type": "stream",
     "text": [
      "/home/thibault/dev/est-lascivuum-non-est/env/lib/python3.8/site-packages/torch/nn/modules/rnn.py:60: UserWarning: dropout option adds dropout after all but last recurrent layer, so non-zero dropout expects num_layers greater than 1, but got dropout=0.3 and num_layers=1\n",
      "  warnings.warn(\"dropout option adds dropout after all but last \"\n",
      "INFO:allennlp.training.optimizers:Number of trainable parameters: 3253082\n",
      "INFO:root:Num epochs: 20\n",
      "INFO:root:Starting training\n",
      "INFO:allennlp.training.gradient_descent_trainer:Beginning training.\n",
      "INFO:allennlp.training.gradient_descent_trainer:Epoch 0/19\n",
      "INFO:allennlp.training.gradient_descent_trainer:Worker 0 memory usage: 3.1G\n",
      "INFO:allennlp.training.gradient_descent_trainer:GPU 0 memory usage: 101M\n",
      "INFO:allennlp.training.gradient_descent_trainer:Training\n"
     ]
    },
    {
     "name": "stdout",
     "output_type": "stream",
     "text": [
      "---> Epochs:   20\n",
      "---> Patience: 10\n"
     ]
    },
    {
     "data": {
      "application/vnd.jupyter.widget-view+json": {
       "model_id": "cc2a54bfc9ca471fb53e4de9a59dcfed",
       "version_major": 2,
       "version_minor": 0
      },
      "text/plain": [
       "  0%|          | 0/1357 [00:00<?, ?it/s]"
      ]
     },
     "metadata": {},
     "output_type": "display_data"
    },
    {
     "name": "stderr",
     "output_type": "stream",
     "text": [
      "/home/thibault/dev/est-lascivuum-non-est/seligator/models/classifier.py:32: UserWarning: Implicit dimension choice for softmax has been deprecated. Change the call to include dim=X as an argument.\n",
      "  probs = F.softmax(logits)\n",
      "INFO:allennlp.training.callbacks.console_logger:Batch inputs\n",
      "INFO:allennlp.training.callbacks.console_logger:batch_input/[msd] (Shape: 4 x 40 x 52)\n",
      "tensor([[[0, 0, 0,  ..., 0, 0, 0],\n",
      "         [0, 0, 1,  ..., 0, 0, 0],\n",
      "         [0, 0, 1,  ..., 0, 0, 0],\n",
      "         ...,\n",
      "         [0, 0, 1,  ..., 0, 0, 0],\n",
      "         [0, 0, 1,  ..., 0, 0, 0],\n",
      "         [0, 0, 1,  ..., 0, 0, 0]],\n",
      "\n",
      "        [[0, 0, 0,  ..., 0, 0, 0],\n",
      "         [0, 0, 1,  ..., 0, 0, 0],\n",
      "         [0, 0, 1,  ..., 0, 0, 0],\n",
      "         ...,\n",
      "         [0, 0, 0,  ..., 0, 0, 0],\n",
      "         [0, 0, 0,  ..., 0, 0, 0],\n",
      "         [0, 0, 0,  ..., 0, 0, 0]],\n",
      "\n",
      "        [[0, 0, 0,  ..., 0, 0, 0],\n",
      "         [0, 0, 1,  ..., 0, 0, 0],\n",
      "         [0, 0, 1,  ..., 0, 0, 0],\n",
      "         ...,\n",
      "         [0, 0, 0,  ..., 0, 0, 0],\n",
      "         [0, 0, 0,  ..., 0, 0, 0],\n",
      "         [0, 0, 0,  ..., 0, 0, 0]],\n",
      "\n",
      "        [[0, 0, 0,  ..., 0, 0, 0],\n",
      "         [0, 0, 1,  ..., 0, 0, 0],\n",
      "         [0, 0, 1,  ..., 0, 0, 0],\n",
      "         ...,\n",
      "         [0, 0, 0,  ..., 0, 0, 0],\n",
      "         [0, 0, 0,  ..., 0, 0, 0],\n",
      "         [0, 0, 0,  ..., 0, 0, 0]]], device='cuda:0')\n",
      "INFO:allennlp.training.callbacks.console_logger:batch_input/lemma_char/lemma_char/token_characters (Shape: 4 x 40 x 11)\n",
      "tensor([[[ 0,  0,  0,  ...,  0,  0,  0],\n",
      "         [ 4, 10, 20,  ...,  0,  0,  0],\n",
      "         [ 2,  8, 27,  ...,  0,  0,  0],\n",
      "         ...,\n",
      "         [ 9,  6, 25,  ...,  0,  0,  0],\n",
      "         [15,  3,  4,  ...,  0,  0,  0],\n",
      "         [23,  0,  0,  ...,  0,  0,  0]],\n",
      "\n",
      "        [[ 0,  0,  0,  ...,  0,  0,  0],\n",
      "         [13,  4,  5,  ...,  0,  0,  0],\n",
      "         [ 5,  2,  3,  ...,  0,  0,  0],\n",
      "         ...,\n",
      "         [ 0,  0,  0,  ...,  0,  0,  0],\n",
      "         [ 0,  0,  0,  ...,  0,  0,  0],\n",
      "         [ 0,  0,  0,  ...,  0,  0,  0]],\n",
      "\n",
      "        [[ 0,  0,  0,  ...,  0,  0,  0],\n",
      "         [23,  0,  0,  ...,  0,  0,  0],\n",
      "         [23,  0,  0,  ...,  0,  0,  0],\n",
      "         ...,\n",
      "         [ 0,  0,  0,  ...,  0,  0,  0],\n",
      "         [ 0,  0,  0,  ...,  0,  0,  0],\n",
      "         [ 0,  0,  0,  ...,  0,  0,  0]],\n",
      "\n",
      "        [[ 0,  0,  0,  ...,  0,  0,  0],\n",
      "         [14, 10,  7,  ...,  6,  0,  0],\n",
      "         [ 8,  2,  0,  ...,  0,  0,  0],\n",
      "         ...,\n",
      "         [ 0,  0,  0,  ...,  0,  0,  0],\n",
      "         [ 0,  0,  0,  ...,  0,  0,  0],\n",
      "         [ 0,  0,  0,  ...,  0,  0,  0]]], device='cuda:0')\n",
      "INFO:allennlp.training.callbacks.console_logger:batch_input/lemma/lemma/tokens (Shape: 4 x 40)\n",
      "tensor([[   9,  114,   17,  ...,  140,   86,    3],\n",
      "        [   9, 2749,   34,  ...,    0,    0,    0],\n",
      "        [   4,    3,    3,  ...,    0,    0,    0],\n",
      "        [   4, 1055,   19,  ...,    0,    0,    0]], device='cuda:0')\n",
      "INFO:allennlp.training.callbacks.console_logger:batch_input/label (Shape: 4)\n",
      "tensor([1, 1, 0, 0], device='cuda:0')\n",
      "INFO:allennlp.training.callbacks.console_logger:Field : \"batch_input/metadata\" : (Length 4 of type \"<class 'dict'>\")\n",
      "INFO:allennlp.training.gradient_descent_trainer:Validating\n"
     ]
    },
    {
     "data": {
      "application/vnd.jupyter.widget-view+json": {
       "model_id": "b8d16cbdb4d443e7ade1dd5bfa65adc5",
       "version_major": 2,
       "version_minor": 0
      },
      "text/plain": [
       "  0%|          | 0/170 [00:00<?, ?it/s]"
      ]
     },
     "metadata": {},
     "output_type": "display_data"
    },
    {
     "name": "stderr",
     "output_type": "stream",
     "text": [
      "INFO:allennlp.training.callbacks.console_logger:Batch inputs\n",
      "INFO:allennlp.training.callbacks.console_logger:batch_input/[msd] (Shape: 4 x 36 x 52)\n",
      "tensor([[[0, 0, 0,  ..., 0, 0, 0],\n",
      "         [0, 0, 1,  ..., 0, 0, 0],\n",
      "         [0, 0, 1,  ..., 0, 0, 0],\n",
      "         ...,\n",
      "         [0, 0, 0,  ..., 0, 0, 0],\n",
      "         [0, 0, 0,  ..., 0, 0, 0],\n",
      "         [0, 0, 0,  ..., 0, 0, 0]],\n",
      "\n",
      "        [[0, 0, 0,  ..., 0, 0, 0],\n",
      "         [0, 0, 1,  ..., 0, 0, 0],\n",
      "         [0, 0, 1,  ..., 0, 0, 0],\n",
      "         ...,\n",
      "         [0, 0, 0,  ..., 0, 0, 0],\n",
      "         [0, 0, 0,  ..., 0, 0, 0],\n",
      "         [0, 0, 0,  ..., 0, 0, 0]],\n",
      "\n",
      "        [[0, 0, 0,  ..., 0, 0, 0],\n",
      "         [0, 0, 1,  ..., 0, 0, 0],\n",
      "         [0, 0, 1,  ..., 0, 0, 0],\n",
      "         ...,\n",
      "         [0, 0, 1,  ..., 0, 0, 0],\n",
      "         [0, 0, 1,  ..., 0, 0, 0],\n",
      "         [0, 0, 1,  ..., 0, 0, 0]],\n",
      "\n",
      "        [[0, 0, 0,  ..., 0, 0, 0],\n",
      "         [0, 0, 1,  ..., 0, 0, 0],\n",
      "         [0, 0, 1,  ..., 0, 0, 0],\n",
      "         ...,\n",
      "         [0, 0, 0,  ..., 0, 0, 0],\n",
      "         [0, 0, 0,  ..., 0, 0, 0],\n",
      "         [0, 0, 0,  ..., 0, 0, 0]]], device='cuda:0')\n",
      "INFO:allennlp.training.callbacks.console_logger:batch_input/lemma_char/lemma_char/token_characters (Shape: 4 x 36 x 12)\n",
      "tensor([[[ 0,  0,  0,  ...,  0,  0,  0],\n",
      "         [19,  2,  3,  ...,  0,  0,  0],\n",
      "         [ 4, 10, 20,  ...,  0,  0,  0],\n",
      "         ...,\n",
      "         [ 0,  0,  0,  ...,  0,  0,  0],\n",
      "         [ 0,  0,  0,  ...,  0,  0,  0],\n",
      "         [ 0,  0,  0,  ...,  0,  0,  0]],\n",
      "\n",
      "        [[ 0,  0,  0,  ...,  0,  0,  0],\n",
      "         [ 4,  8, 17,  ...,  0,  0,  0],\n",
      "         [ 7,  2, 15,  ...,  0,  0,  0],\n",
      "         ...,\n",
      "         [ 0,  0,  0,  ...,  0,  0,  0],\n",
      "         [ 0,  0,  0,  ...,  0,  0,  0],\n",
      "         [ 0,  0,  0,  ...,  0,  0,  0]],\n",
      "\n",
      "        [[ 0,  0,  0,  ...,  0,  0,  0],\n",
      "         [19,  2,  7,  ...,  0,  0,  0],\n",
      "         [ 4,  9,  3,  ...,  0,  0,  0],\n",
      "         ...,\n",
      "         [11,  2, 13,  ...,  0,  0,  0],\n",
      "         [ 5,  2, 11,  ...,  0,  0,  0],\n",
      "         [23,  0,  0,  ...,  0,  0,  0]],\n",
      "\n",
      "        [[ 0,  0,  0,  ...,  0,  0,  0],\n",
      "         [19,  2,  3,  ...,  0,  0,  0],\n",
      "         [ 5,  2,  5,  ...,  0,  0,  0],\n",
      "         ...,\n",
      "         [ 0,  0,  0,  ...,  0,  0,  0],\n",
      "         [ 0,  0,  0,  ...,  0,  0,  0],\n",
      "         [ 0,  0,  0,  ...,  0,  0,  0]]], device='cuda:0')\n",
      "INFO:allennlp.training.callbacks.console_logger:batch_input/lemma/lemma/tokens (Shape: 4 x 36)\n",
      "tensor([[   4,   36,  114,  ...,    0,    0,    0],\n",
      "        [   4,    5,  171,  ...,    0,    0,    0],\n",
      "        [   4, 1389,   42,  ..., 5060,    6,    3],\n",
      "        [   4,   36, 1574,  ...,    0,    0,    0]], device='cuda:0')\n",
      "INFO:allennlp.training.callbacks.console_logger:batch_input/label (Shape: 4)\n",
      "tensor([0, 0, 0, 0], device='cuda:0')\n",
      "INFO:allennlp.training.callbacks.console_logger:Field : \"batch_input/metadata\" : (Length 4 of type \"<class 'dict'>\")\n",
      "INFO:allennlp.training.callbacks.console_logger:                       Training |  Validation\n",
      "INFO:allennlp.training.callbacks.console_logger:accuracy           |     0.791  |     0.888\n",
      "INFO:allennlp.training.callbacks.console_logger:fscore             |     0.760  |     0.877\n",
      "INFO:allennlp.training.callbacks.console_logger:fscore-negative    |     0.846  |     0.914\n",
      "INFO:allennlp.training.callbacks.console_logger:fscore-positive    |     0.674  |     0.840\n",
      "INFO:allennlp.training.callbacks.console_logger:gpu_0_memory_MB    |   100.701  |       N/A\n",
      "INFO:allennlp.training.callbacks.console_logger:loss               |     0.426  |     0.274\n",
      "INFO:allennlp.training.callbacks.console_logger:precision          |     0.794  |     0.889\n",
      "INFO:allennlp.training.callbacks.console_logger:precision-negative |     0.788  |     0.886\n",
      "INFO:allennlp.training.callbacks.console_logger:precision-positive |     0.799  |     0.893\n",
      "INFO:allennlp.training.callbacks.console_logger:recall             |     0.748  |     0.869\n",
      "INFO:allennlp.training.callbacks.console_logger:recall-negative    |     0.913  |     0.944\n",
      "INFO:allennlp.training.callbacks.console_logger:recall-positive    |     0.583  |     0.794\n",
      "INFO:allennlp.training.callbacks.console_logger:worker_0_memory_MB |  3208.125  |       N/A\n",
      "INFO:allennlp.training.gradient_descent_trainer:Epoch duration: 0:00:18.775513\n",
      "INFO:allennlp.training.gradient_descent_trainer:Estimated training time remaining: 0:05:55\n",
      "INFO:allennlp.training.gradient_descent_trainer:Epoch 1/19\n",
      "INFO:allennlp.training.gradient_descent_trainer:Worker 0 memory usage: 3.1G\n",
      "INFO:allennlp.training.gradient_descent_trainer:GPU 0 memory usage: 101M\n",
      "INFO:allennlp.training.gradient_descent_trainer:Training\n"
     ]
    },
    {
     "data": {
      "application/vnd.jupyter.widget-view+json": {
       "model_id": "a84bab52d95d46feb1b760d3f473822b",
       "version_major": 2,
       "version_minor": 0
      },
      "text/plain": [
       "  0%|          | 0/1357 [00:00<?, ?it/s]"
      ]
     },
     "metadata": {},
     "output_type": "display_data"
    },
    {
     "name": "stderr",
     "output_type": "stream",
     "text": [
      "INFO:allennlp.training.gradient_descent_trainer:Validating\n"
     ]
    },
    {
     "data": {
      "application/vnd.jupyter.widget-view+json": {
       "model_id": "9da9ce922c34441aa1ab7ccd94484c05",
       "version_major": 2,
       "version_minor": 0
      },
      "text/plain": [
       "  0%|          | 0/170 [00:00<?, ?it/s]"
      ]
     },
     "metadata": {},
     "output_type": "display_data"
    },
    {
     "name": "stderr",
     "output_type": "stream",
     "text": [
      "INFO:allennlp.training.callbacks.console_logger:                       Training |  Validation\n",
      "INFO:allennlp.training.callbacks.console_logger:accuracy           |     0.946  |     0.875\n",
      "INFO:allennlp.training.callbacks.console_logger:fscore             |     0.942  |     0.870\n",
      "INFO:allennlp.training.callbacks.console_logger:fscore-negative    |     0.957  |     0.895\n",
      "INFO:allennlp.training.callbacks.console_logger:fscore-positive    |     0.927  |     0.844\n",
      "INFO:allennlp.training.callbacks.console_logger:gpu_0_memory_MB    |   100.701  |       N/A\n",
      "INFO:allennlp.training.callbacks.console_logger:loss               |     0.151  |     0.299\n",
      "INFO:allennlp.training.callbacks.console_logger:precision          |     0.943  |     0.864\n",
      "INFO:allennlp.training.callbacks.console_logger:precision-negative |     0.954  |     0.943\n",
      "INFO:allennlp.training.callbacks.console_logger:precision-positive |     0.933  |     0.785\n",
      "INFO:allennlp.training.callbacks.console_logger:recall             |     0.940  |     0.883\n",
      "INFO:allennlp.training.callbacks.console_logger:recall-negative    |     0.960  |     0.852\n",
      "INFO:allennlp.training.callbacks.console_logger:recall-positive    |     0.921  |     0.913\n",
      "INFO:allennlp.training.callbacks.console_logger:worker_0_memory_MB |  3210.375  |       N/A\n",
      "INFO:allennlp.training.gradient_descent_trainer:Epoch duration: 0:00:18.835930\n",
      "INFO:allennlp.training.gradient_descent_trainer:Estimated training time remaining: 0:05:38\n",
      "INFO:allennlp.training.gradient_descent_trainer:Epoch 2/19\n",
      "INFO:allennlp.training.gradient_descent_trainer:Worker 0 memory usage: 3.1G\n",
      "INFO:allennlp.training.gradient_descent_trainer:GPU 0 memory usage: 101M\n",
      "INFO:allennlp.training.gradient_descent_trainer:Training\n"
     ]
    },
    {
     "data": {
      "application/vnd.jupyter.widget-view+json": {
       "model_id": "41673efaf0724ad692c4190631ee33c4",
       "version_major": 2,
       "version_minor": 0
      },
      "text/plain": [
       "  0%|          | 0/1357 [00:00<?, ?it/s]"
      ]
     },
     "metadata": {},
     "output_type": "display_data"
    },
    {
     "name": "stderr",
     "output_type": "stream",
     "text": [
      "INFO:allennlp.training.gradient_descent_trainer:Validating\n"
     ]
    },
    {
     "data": {
      "application/vnd.jupyter.widget-view+json": {
       "model_id": "f4b2053142cd425da3a1fbfb208d8274",
       "version_major": 2,
       "version_minor": 0
      },
      "text/plain": [
       "  0%|          | 0/170 [00:00<?, ?it/s]"
      ]
     },
     "metadata": {},
     "output_type": "display_data"
    },
    {
     "name": "stderr",
     "output_type": "stream",
     "text": [
      "INFO:allennlp.training.callbacks.console_logger:                       Training |  Validation\n",
      "INFO:allennlp.training.callbacks.console_logger:accuracy           |     0.973  |     0.884\n",
      "INFO:allennlp.training.callbacks.console_logger:fscore             |     0.971  |     0.873\n",
      "INFO:allennlp.training.callbacks.console_logger:fscore-negative    |     0.977  |     0.910\n",
      "INFO:allennlp.training.callbacks.console_logger:fscore-positive    |     0.964  |     0.835\n",
      "INFO:allennlp.training.callbacks.console_logger:gpu_0_memory_MB    |   100.701  |       N/A\n",
      "INFO:allennlp.training.callbacks.console_logger:loss               |     0.075  |     0.307\n",
      "INFO:allennlp.training.callbacks.console_logger:precision          |     0.972  |     0.883\n",
      "INFO:allennlp.training.callbacks.console_logger:precision-negative |     0.978  |     0.885\n",
      "INFO:allennlp.training.callbacks.console_logger:precision-positive |     0.965  |     0.881\n",
      "INFO:allennlp.training.callbacks.console_logger:recall             |     0.969  |     0.865\n",
      "INFO:allennlp.training.callbacks.console_logger:recall-negative    |     0.977  |     0.937\n",
      "INFO:allennlp.training.callbacks.console_logger:recall-positive    |     0.962  |     0.794\n",
      "INFO:allennlp.training.callbacks.console_logger:worker_0_memory_MB |  3210.723  |       N/A\n",
      "INFO:allennlp.training.gradient_descent_trainer:Epoch duration: 0:00:18.792526\n",
      "INFO:allennlp.training.gradient_descent_trainer:Estimated training time remaining: 0:05:19\n",
      "INFO:allennlp.training.gradient_descent_trainer:Epoch 3/19\n",
      "INFO:allennlp.training.gradient_descent_trainer:Worker 0 memory usage: 3.1G\n",
      "INFO:allennlp.training.gradient_descent_trainer:GPU 0 memory usage: 101M\n",
      "INFO:allennlp.training.gradient_descent_trainer:Training\n"
     ]
    },
    {
     "data": {
      "application/vnd.jupyter.widget-view+json": {
       "model_id": "43056c86fa744305b4d54f892182365c",
       "version_major": 2,
       "version_minor": 0
      },
      "text/plain": [
       "  0%|          | 0/1357 [00:00<?, ?it/s]"
      ]
     },
     "metadata": {},
     "output_type": "display_data"
    },
    {
     "name": "stderr",
     "output_type": "stream",
     "text": [
      "INFO:allennlp.training.gradient_descent_trainer:Validating\n"
     ]
    },
    {
     "data": {
      "application/vnd.jupyter.widget-view+json": {
       "model_id": "3b8e8abf56454866935dd70bdd901098",
       "version_major": 2,
       "version_minor": 0
      },
      "text/plain": [
       "  0%|          | 0/170 [00:00<?, ?it/s]"
      ]
     },
     "metadata": {},
     "output_type": "display_data"
    },
    {
     "name": "stderr",
     "output_type": "stream",
     "text": [
      "INFO:allennlp.training.callbacks.console_logger:                       Training |  Validation\n",
      "INFO:allennlp.training.callbacks.console_logger:accuracy           |     0.988  |     0.882\n",
      "INFO:allennlp.training.callbacks.console_logger:fscore             |     0.985  |     0.874\n",
      "INFO:allennlp.training.callbacks.console_logger:fscore-negative    |     0.988  |     0.906\n",
      "INFO:allennlp.training.callbacks.console_logger:fscore-positive    |     0.983  |     0.843\n",
      "INFO:allennlp.training.callbacks.console_logger:gpu_0_memory_MB    |   100.701  |       N/A\n",
      "INFO:allennlp.training.callbacks.console_logger:loss               |     0.033  |     0.390\n",
      "INFO:allennlp.training.callbacks.console_logger:precision          |     0.987  |     0.873\n",
      "INFO:allennlp.training.callbacks.console_logger:precision-negative |     0.990  |     0.910\n",
      "INFO:allennlp.training.callbacks.console_logger:precision-positive |     0.984  |     0.836\n",
      "INFO:allennlp.training.callbacks.console_logger:recall             |     0.984  |     0.875\n",
      "INFO:allennlp.training.callbacks.console_logger:recall-negative    |     0.987  |     0.902\n",
      "INFO:allennlp.training.callbacks.console_logger:recall-positive    |     0.981  |     0.849\n",
      "INFO:allennlp.training.callbacks.console_logger:worker_0_memory_MB |  3210.973  |       N/A\n",
      "INFO:allennlp.training.gradient_descent_trainer:Epoch duration: 0:00:18.776604\n",
      "INFO:allennlp.training.gradient_descent_trainer:Estimated training time remaining: 0:05:00\n",
      "INFO:allennlp.training.gradient_descent_trainer:Epoch 4/19\n",
      "INFO:allennlp.training.gradient_descent_trainer:Worker 0 memory usage: 3.1G\n",
      "INFO:allennlp.training.gradient_descent_trainer:GPU 0 memory usage: 101M\n",
      "INFO:allennlp.training.gradient_descent_trainer:Training\n"
     ]
    },
    {
     "data": {
      "application/vnd.jupyter.widget-view+json": {
       "model_id": "3a5bdd4815894c3a98e6661fd6db83fc",
       "version_major": 2,
       "version_minor": 0
      },
      "text/plain": [
       "  0%|          | 0/1357 [00:00<?, ?it/s]"
      ]
     },
     "metadata": {},
     "output_type": "display_data"
    },
    {
     "name": "stderr",
     "output_type": "stream",
     "text": [
      "INFO:allennlp.training.gradient_descent_trainer:Validating\n"
     ]
    },
    {
     "data": {
      "application/vnd.jupyter.widget-view+json": {
       "model_id": "dfd7e5fb6e1f46bfb42677bbb4d635c1",
       "version_major": 2,
       "version_minor": 0
      },
      "text/plain": [
       "  0%|          | 0/170 [00:00<?, ?it/s]"
      ]
     },
     "metadata": {},
     "output_type": "display_data"
    },
    {
     "name": "stderr",
     "output_type": "stream",
     "text": [
      "INFO:allennlp.training.callbacks.console_logger:                       Training |  Validation\n",
      "INFO:allennlp.training.callbacks.console_logger:accuracy           |     0.994  |     0.879\n",
      "INFO:allennlp.training.callbacks.console_logger:fscore             |     0.992  |     0.869\n",
      "INFO:allennlp.training.callbacks.console_logger:fscore-negative    |     0.994  |     0.904\n",
      "INFO:allennlp.training.callbacks.console_logger:fscore-positive    |     0.991  |     0.833\n",
      "INFO:allennlp.training.callbacks.console_logger:gpu_0_memory_MB    |   100.701  |       N/A\n",
      "INFO:allennlp.training.callbacks.console_logger:loss               |     0.020  |     0.483\n",
      "INFO:allennlp.training.callbacks.console_logger:precision          |     0.993  |     0.873\n",
      "INFO:allennlp.training.callbacks.console_logger:precision-negative |     0.996  |     0.893\n",
      "INFO:allennlp.training.callbacks.console_logger:precision-positive |     0.991  |     0.854\n",
      "INFO:allennlp.training.callbacks.console_logger:recall             |     0.992  |     0.865\n",
      "INFO:allennlp.training.callbacks.console_logger:recall-negative    |     0.993  |     0.916\n",
      "INFO:allennlp.training.callbacks.console_logger:recall-positive    |     0.991  |     0.813\n",
      "INFO:allennlp.training.callbacks.console_logger:worker_0_memory_MB |  3211.227  |       N/A\n",
      "INFO:allennlp.training.gradient_descent_trainer:Epoch duration: 0:00:18.762800\n",
      "INFO:allennlp.training.gradient_descent_trainer:Estimated training time remaining: 0:04:41\n",
      "INFO:allennlp.training.gradient_descent_trainer:Epoch 5/19\n",
      "INFO:allennlp.training.gradient_descent_trainer:Worker 0 memory usage: 3.1G\n",
      "INFO:allennlp.training.gradient_descent_trainer:GPU 0 memory usage: 101M\n",
      "INFO:allennlp.training.gradient_descent_trainer:Training\n"
     ]
    },
    {
     "data": {
      "application/vnd.jupyter.widget-view+json": {
       "model_id": "35f31a4a497a415f9265b759cd6bb7b8",
       "version_major": 2,
       "version_minor": 0
      },
      "text/plain": [
       "  0%|          | 0/1357 [00:00<?, ?it/s]"
      ]
     },
     "metadata": {},
     "output_type": "display_data"
    },
    {
     "name": "stderr",
     "output_type": "stream",
     "text": [
      "INFO:allennlp.training.gradient_descent_trainer:Validating\n"
     ]
    },
    {
     "data": {
      "application/vnd.jupyter.widget-view+json": {
       "model_id": "86ef8b6432634788a11a33b08677e2f6",
       "version_major": 2,
       "version_minor": 0
      },
      "text/plain": [
       "  0%|          | 0/170 [00:00<?, ?it/s]"
      ]
     },
     "metadata": {},
     "output_type": "display_data"
    },
    {
     "name": "stderr",
     "output_type": "stream",
     "text": [
      "INFO:allennlp.training.callbacks.console_logger:                       Training |  Validation\n",
      "INFO:allennlp.training.callbacks.console_logger:accuracy           |     0.993  |     0.881\n",
      "INFO:allennlp.training.callbacks.console_logger:fscore             |     0.992  |     0.875\n",
      "INFO:allennlp.training.callbacks.console_logger:fscore-negative    |     0.993  |     0.902\n",
      "INFO:allennlp.training.callbacks.console_logger:fscore-positive    |     0.991  |     0.847\n",
      "INFO:allennlp.training.callbacks.console_logger:gpu_0_memory_MB    |   100.701  |       N/A\n",
      "INFO:allennlp.training.callbacks.console_logger:loss               |     0.017  |     0.538\n",
      "INFO:allennlp.training.callbacks.console_logger:precision          |     0.993  |     0.870\n",
      "INFO:allennlp.training.callbacks.console_logger:precision-negative |     0.995  |     0.930\n",
      "INFO:allennlp.training.callbacks.console_logger:precision-positive |     0.990  |     0.809\n",
      "INFO:allennlp.training.callbacks.console_logger:recall             |     0.991  |     0.882\n",
      "INFO:allennlp.training.callbacks.console_logger:recall-negative    |     0.991  |     0.876\n",
      "INFO:allennlp.training.callbacks.console_logger:recall-positive    |     0.991  |     0.889\n",
      "INFO:allennlp.training.callbacks.console_logger:worker_0_memory_MB |  3211.477  |       N/A\n",
      "INFO:allennlp.training.gradient_descent_trainer:Epoch duration: 0:00:18.792045\n",
      "INFO:allennlp.training.gradient_descent_trainer:Estimated training time remaining: 0:04:22\n",
      "INFO:allennlp.training.gradient_descent_trainer:Epoch 6/19\n",
      "INFO:allennlp.training.gradient_descent_trainer:Worker 0 memory usage: 3.1G\n",
      "INFO:allennlp.training.gradient_descent_trainer:GPU 0 memory usage: 101M\n",
      "INFO:allennlp.training.gradient_descent_trainer:Training\n"
     ]
    },
    {
     "data": {
      "application/vnd.jupyter.widget-view+json": {
       "model_id": "62e922875b154ad398b3f9942f9fccac",
       "version_major": 2,
       "version_minor": 0
      },
      "text/plain": [
       "  0%|          | 0/1357 [00:00<?, ?it/s]"
      ]
     },
     "metadata": {},
     "output_type": "display_data"
    },
    {
     "name": "stderr",
     "output_type": "stream",
     "text": [
      "INFO:allennlp.training.gradient_descent_trainer:Validating\n"
     ]
    },
    {
     "data": {
      "application/vnd.jupyter.widget-view+json": {
       "model_id": "cfe73b8152164b149afbf25a3c6958ed",
       "version_major": 2,
       "version_minor": 0
      },
      "text/plain": [
       "  0%|          | 0/170 [00:00<?, ?it/s]"
      ]
     },
     "metadata": {},
     "output_type": "display_data"
    },
    {
     "name": "stderr",
     "output_type": "stream",
     "text": [
      "INFO:allennlp.training.callbacks.console_logger:                       Training |  Validation\n",
      "INFO:allennlp.training.callbacks.console_logger:accuracy           |     0.997  |     0.873\n",
      "INFO:allennlp.training.callbacks.console_logger:fscore             |     0.996  |     0.865\n",
      "INFO:allennlp.training.callbacks.console_logger:fscore-negative    |     0.997  |     0.899\n",
      "INFO:allennlp.training.callbacks.console_logger:fscore-positive    |     0.996  |     0.831\n",
      "INFO:allennlp.training.callbacks.console_logger:gpu_0_memory_MB    |   100.701  |       N/A\n",
      "INFO:allennlp.training.callbacks.console_logger:loss               |     0.010  |     0.542\n",
      "INFO:allennlp.training.callbacks.console_logger:precision          |     0.997  |     0.864\n",
      "INFO:allennlp.training.callbacks.console_logger:precision-negative |     0.999  |     0.903\n",
      "INFO:allennlp.training.callbacks.console_logger:precision-positive |     0.995  |     0.824\n",
      "INFO:allennlp.training.callbacks.console_logger:recall             |     0.996  |     0.866\n",
      "INFO:allennlp.training.callbacks.console_logger:recall-negative    |     0.995  |     0.895\n",
      "INFO:allennlp.training.callbacks.console_logger:recall-positive    |     0.996  |     0.837\n",
      "INFO:allennlp.training.callbacks.console_logger:worker_0_memory_MB |  3211.477  |       N/A\n",
      "INFO:allennlp.training.gradient_descent_trainer:Epoch duration: 0:00:18.838949\n",
      "INFO:allennlp.training.gradient_descent_trainer:Estimated training time remaining: 0:04:04\n",
      "INFO:allennlp.training.gradient_descent_trainer:Epoch 7/19\n",
      "INFO:allennlp.training.gradient_descent_trainer:Worker 0 memory usage: 3.1G\n",
      "INFO:allennlp.training.gradient_descent_trainer:GPU 0 memory usage: 101M\n",
      "INFO:allennlp.training.gradient_descent_trainer:Training\n"
     ]
    },
    {
     "data": {
      "application/vnd.jupyter.widget-view+json": {
       "model_id": "db82a9a34aa54cb79dff4361043102f9",
       "version_major": 2,
       "version_minor": 0
      },
      "text/plain": [
       "  0%|          | 0/1357 [00:00<?, ?it/s]"
      ]
     },
     "metadata": {},
     "output_type": "display_data"
    },
    {
     "name": "stderr",
     "output_type": "stream",
     "text": [
      "INFO:allennlp.training.gradient_descent_trainer:Validating\n"
     ]
    },
    {
     "data": {
      "application/vnd.jupyter.widget-view+json": {
       "model_id": "ea12187756cf43618fcd7c568df40c79",
       "version_major": 2,
       "version_minor": 0
      },
      "text/plain": [
       "  0%|          | 0/170 [00:00<?, ?it/s]"
      ]
     },
     "metadata": {},
     "output_type": "display_data"
    },
    {
     "name": "stderr",
     "output_type": "stream",
     "text": [
      "INFO:allennlp.training.callbacks.console_logger:                       Training |  Validation\n",
      "INFO:allennlp.training.callbacks.console_logger:accuracy           |     0.997  |     0.879\n",
      "INFO:allennlp.training.callbacks.console_logger:fscore             |     0.996  |     0.867\n",
      "INFO:allennlp.training.callbacks.console_logger:fscore-negative    |     0.996  |     0.905\n",
      "INFO:allennlp.training.callbacks.console_logger:fscore-positive    |     0.995  |     0.829\n",
      "INFO:allennlp.training.callbacks.console_logger:gpu_0_memory_MB    |   100.701  |       N/A\n",
      "INFO:allennlp.training.callbacks.console_logger:loss               |     0.008  |     0.663\n",
      "INFO:allennlp.training.callbacks.console_logger:precision          |     0.997  |     0.878\n",
      "INFO:allennlp.training.callbacks.console_logger:precision-negative |     0.998  |     0.882\n",
      "INFO:allennlp.training.callbacks.console_logger:precision-positive |     0.997  |     0.873\n",
      "INFO:allennlp.training.callbacks.console_logger:recall             |     0.994  |     0.860\n",
      "INFO:allennlp.training.callbacks.console_logger:recall-negative    |     0.995  |     0.930\n",
      "INFO:allennlp.training.callbacks.console_logger:recall-positive    |     0.994  |     0.790\n",
      "INFO:allennlp.training.callbacks.console_logger:worker_0_memory_MB |  3211.859  |       N/A\n",
      "INFO:allennlp.training.gradient_descent_trainer:Epoch duration: 0:00:18.814697\n",
      "INFO:allennlp.training.gradient_descent_trainer:Estimated training time remaining: 0:03:45\n",
      "INFO:allennlp.training.gradient_descent_trainer:Epoch 8/19\n",
      "INFO:allennlp.training.gradient_descent_trainer:Worker 0 memory usage: 3.1G\n",
      "INFO:allennlp.training.gradient_descent_trainer:GPU 0 memory usage: 101M\n",
      "INFO:allennlp.training.gradient_descent_trainer:Training\n"
     ]
    },
    {
     "data": {
      "application/vnd.jupyter.widget-view+json": {
       "model_id": "40d24327d7dc40b8b3b7b520b76e4d6c",
       "version_major": 2,
       "version_minor": 0
      },
      "text/plain": [
       "  0%|          | 0/1357 [00:00<?, ?it/s]"
      ]
     },
     "metadata": {},
     "output_type": "display_data"
    },
    {
     "name": "stderr",
     "output_type": "stream",
     "text": [
      "INFO:allennlp.training.gradient_descent_trainer:Validating\n"
     ]
    },
    {
     "data": {
      "application/vnd.jupyter.widget-view+json": {
       "model_id": "7ecaccbf75ca463c8d95fc5c65fd2837",
       "version_major": 2,
       "version_minor": 0
      },
      "text/plain": [
       "  0%|          | 0/170 [00:00<?, ?it/s]"
      ]
     },
     "metadata": {},
     "output_type": "display_data"
    },
    {
     "name": "stderr",
     "output_type": "stream",
     "text": [
      "INFO:allennlp.training.callbacks.console_logger:                       Training |  Validation\n",
      "INFO:allennlp.training.callbacks.console_logger:accuracy           |     0.997  |     0.872\n",
      "INFO:allennlp.training.callbacks.console_logger:fscore             |     0.995  |     0.861\n",
      "INFO:allennlp.training.callbacks.console_logger:fscore-negative    |     0.995  |     0.899\n",
      "INFO:allennlp.training.callbacks.console_logger:fscore-positive    |     0.995  |     0.822\n",
      "INFO:allennlp.training.callbacks.console_logger:gpu_0_memory_MB    |   100.701  |       N/A\n",
      "INFO:allennlp.training.callbacks.console_logger:loss               |     0.011  |     0.529\n",
      "INFO:allennlp.training.callbacks.console_logger:precision          |     0.996  |     0.864\n",
      "INFO:allennlp.training.callbacks.console_logger:precision-negative |     0.998  |     0.890\n",
      "INFO:allennlp.training.callbacks.console_logger:precision-positive |     0.995  |     0.839\n",
      "INFO:allennlp.training.callbacks.console_logger:recall             |     0.994  |     0.857\n",
      "INFO:allennlp.training.callbacks.console_logger:recall-negative    |     0.993  |     0.909\n",
      "INFO:allennlp.training.callbacks.console_logger:recall-positive    |     0.996  |     0.806\n",
      "INFO:allennlp.training.callbacks.console_logger:worker_0_memory_MB |  3212.113  |       N/A\n",
      "INFO:allennlp.training.gradient_descent_trainer:Epoch duration: 0:00:18.773932\n",
      "INFO:allennlp.training.gradient_descent_trainer:Estimated training time remaining: 0:03:26\n",
      "INFO:allennlp.training.gradient_descent_trainer:Epoch 9/19\n",
      "INFO:allennlp.training.gradient_descent_trainer:Worker 0 memory usage: 3.1G\n",
      "INFO:allennlp.training.gradient_descent_trainer:GPU 0 memory usage: 101M\n",
      "INFO:allennlp.training.gradient_descent_trainer:Training\n"
     ]
    },
    {
     "data": {
      "application/vnd.jupyter.widget-view+json": {
       "model_id": "f3d5c053318f489f8c666a23fd736f11",
       "version_major": 2,
       "version_minor": 0
      },
      "text/plain": [
       "  0%|          | 0/1357 [00:00<?, ?it/s]"
      ]
     },
     "metadata": {},
     "output_type": "display_data"
    },
    {
     "name": "stderr",
     "output_type": "stream",
     "text": [
      "INFO:allennlp.training.gradient_descent_trainer:Validating\n"
     ]
    },
    {
     "data": {
      "application/vnd.jupyter.widget-view+json": {
       "model_id": "6f7ab888054646e4b125be5dcb2ad941",
       "version_major": 2,
       "version_minor": 0
      },
      "text/plain": [
       "  0%|          | 0/170 [00:00<?, ?it/s]"
      ]
     },
     "metadata": {},
     "output_type": "display_data"
    },
    {
     "name": "stderr",
     "output_type": "stream",
     "text": [
      "INFO:allennlp.training.callbacks.console_logger:                       Training |  Validation\n",
      "INFO:allennlp.training.callbacks.console_logger:accuracy           |     0.999  |     0.867\n",
      "INFO:allennlp.training.callbacks.console_logger:fscore             |     0.997  |     0.852\n",
      "INFO:allennlp.training.callbacks.console_logger:fscore-negative    |     0.997  |     0.898\n",
      "INFO:allennlp.training.callbacks.console_logger:fscore-positive    |     0.997  |     0.806\n",
      "INFO:allennlp.training.callbacks.console_logger:gpu_0_memory_MB    |   100.701  |       N/A\n",
      "INFO:allennlp.training.callbacks.console_logger:loss               |     0.006  |     0.677\n",
      "INFO:allennlp.training.callbacks.console_logger:precision          |     0.998  |     0.871\n",
      "INFO:allennlp.training.callbacks.console_logger:precision-negative |     0.999  |     0.861\n",
      "INFO:allennlp.training.callbacks.console_logger:precision-positive |     0.998  |     0.882\n",
      "INFO:allennlp.training.callbacks.console_logger:recall             |     0.995  |     0.841\n",
      "INFO:allennlp.training.callbacks.console_logger:recall-negative    |     0.994  |     0.939\n",
      "INFO:allennlp.training.callbacks.console_logger:recall-positive    |     0.996  |     0.742\n",
      "INFO:allennlp.training.callbacks.console_logger:worker_0_memory_MB |  3212.113  |       N/A\n",
      "INFO:allennlp.training.gradient_descent_trainer:Epoch duration: 0:00:18.912749\n",
      "INFO:allennlp.training.gradient_descent_trainer:Estimated training time remaining: 0:03:08\n",
      "INFO:allennlp.training.gradient_descent_trainer:Epoch 10/19\n",
      "INFO:allennlp.training.gradient_descent_trainer:Worker 0 memory usage: 3.1G\n",
      "INFO:allennlp.training.gradient_descent_trainer:GPU 0 memory usage: 101M\n",
      "INFO:allennlp.training.gradient_descent_trainer:Training\n"
     ]
    },
    {
     "data": {
      "application/vnd.jupyter.widget-view+json": {
       "model_id": "7a24adba0ff9415f892bdd6c2ed03a48",
       "version_major": 2,
       "version_minor": 0
      },
      "text/plain": [
       "  0%|          | 0/1357 [00:00<?, ?it/s]"
      ]
     },
     "metadata": {},
     "output_type": "display_data"
    },
    {
     "name": "stderr",
     "output_type": "stream",
     "text": [
      "INFO:allennlp.training.gradient_descent_trainer:Validating\n"
     ]
    },
    {
     "data": {
      "application/vnd.jupyter.widget-view+json": {
       "model_id": "e6f36ef50112451a90515cb23c018062",
       "version_major": 2,
       "version_minor": 0
      },
      "text/plain": [
       "  0%|          | 0/170 [00:00<?, ?it/s]"
      ]
     },
     "metadata": {},
     "output_type": "display_data"
    },
    {
     "name": "stderr",
     "output_type": "stream",
     "text": [
      "INFO:allennlp.training.callbacks.console_logger:                       Training |  Validation\n",
      "INFO:allennlp.training.callbacks.console_logger:accuracy           |     1.000  |     0.866\n",
      "INFO:allennlp.training.callbacks.console_logger:fscore             |     0.999  |     0.858\n",
      "INFO:allennlp.training.callbacks.console_logger:fscore-negative    |     0.999  |     0.891\n",
      "INFO:allennlp.training.callbacks.console_logger:fscore-positive    |     0.998  |     0.825\n",
      "INFO:allennlp.training.callbacks.console_logger:gpu_0_memory_MB    |   100.701  |       N/A\n",
      "INFO:allennlp.training.callbacks.console_logger:loss               |     0.002  |     0.704\n",
      "INFO:allennlp.training.callbacks.console_logger:precision          |     1.000  |     0.855\n",
      "INFO:allennlp.training.callbacks.console_logger:precision-negative |     1.000  |     0.910\n",
      "INFO:allennlp.training.callbacks.console_logger:precision-positive |     1.000  |     0.799\n",
      "INFO:allennlp.training.callbacks.console_logger:recall             |     0.998  |     0.863\n",
      "INFO:allennlp.training.callbacks.console_logger:recall-negative    |     0.999  |     0.874\n",
      "INFO:allennlp.training.callbacks.console_logger:recall-positive    |     0.997  |     0.853\n",
      "INFO:allennlp.training.callbacks.console_logger:worker_0_memory_MB |  3212.363  |       N/A\n",
      "INFO:allennlp.training.gradient_descent_trainer:Epoch duration: 0:00:18.792502\n",
      "INFO:allennlp.training.gradient_descent_trainer:Ran out of patience. Stopping training.\n",
      "INFO:root:Finished training\n",
      "INFO:allennlp.training.util:Iterating over dataset\n"
     ]
    },
    {
     "name": "stdout",
     "output_type": "stream",
     "text": [
      "FeatureEmbeddingClassifier(\n",
      "  (_loss): CrossEntropyLoss()\n",
      "  (mixed_encoder): MixedEmbeddingEncoder(\n",
      "    (_emb_dropout): Dropout(p=0.3, inplace=False)\n",
      "    (features_embedder): FeatureAndTextEmbedder(\n",
      "      (text_embedder): BasicTextFieldEmbedder(\n",
      "        (token_embedder_lemma): Embedding()\n",
      "        (token_embedder_lemma_char): TokenCharactersEncoder(\n",
      "          (_embedding): TimeDistributed(\n",
      "            (_module): Embedding()\n",
      "          )\n",
      "          (_encoder): TimeDistributed(\n",
      "            (_module): LstmSeq2VecEncoder(\n",
      "              (_module): LSTM(100, 150, num_layers=2, batch_first=True, dropout=0.3, bidirectional=True)\n",
      "            )\n",
      "          )\n",
      "          (_dropout): Dropout(p=0.3, inplace=False)\n",
      "        )\n",
      "      )\n",
      "      (feature_embedder): Linear(in_features=52, out_features=20, bias=True)\n",
      "    )\n",
      "    (features_encoder): HierarchicalAttentionalEncoder(\n",
      "      (gru): GRU(520, 64, batch_first=True, dropout=0.3, bidirectional=True)\n",
      "      (dense): Linear(in_features=128, out_features=128, bias=True)\n",
      "      (dropout): Dropout(p=0.5, inplace=False)\n",
      "    )\n",
      "  )\n",
      "  (classifier): Linear(in_features=128, out_features=2, bias=True)\n",
      ")\n",
      "Evaluating\n"
     ]
    },
    {
     "data": {
      "application/vnd.jupyter.widget-view+json": {
       "model_id": "dd7c0bf868284cb4b874c80ae0ed97b7",
       "version_major": 2,
       "version_minor": 0
      },
      "text/plain": [
       "0it [00:00, ?it/s]"
      ]
     },
     "metadata": {},
     "output_type": "display_data"
    },
    {
     "name": "stdout",
     "output_type": "stream",
     "text": [
      "Evaluating: Predicting\n",
      "({'accuracy': 0.9098966026587888, 'precision': 0.9060510993003845, 'recall': 0.8997624516487122, 'fscore': 0.9027099609375, 'precision-negative': 0.9195402264595032, 'precision-positive': 0.8925619721412659, 'recall-negative': 0.9389671087265015, 'recall-positive': 0.8605577945709229, 'fscore-negative': 0.9291521310806274, 'fscore-positive': 0.8762677907943726, 'loss': 0.23435814956970075}, <sklearn.metrics._plot.confusion_matrix.ConfusionMatrixDisplay object at 0x7f501d166c10>)\n"
     ]
    },
    {
     "name": "stderr",
     "output_type": "stream",
     "text": [
      "/home/thibault/dev/est-lascivuum-non-est/seligator/tests/evaluate.py:111: UserWarning: Matplotlib is currently using module://matplotlib_inline.backend_inline, which is a non-GUI backend, so cannot show the figure.\n",
      "  disp.figure_.show()\n"
     ]
    },
    {
     "data": {
      "image/png": "[encoded data removed]",
      "text/plain": [
       "<Figure size 432x288 with 2 Axes>"
      ]
     },
     "metadata": {
      "needs_background": "light"
     },
     "output_type": "display_data"
    }
   ],
   "source": [
    "model, reader, train, dev = prepare_model(\n",
    "    input_features=(\"lemma_char\", \"lemma\", \"case\", \"numb\", \"gend\", \"mood\", \"tense\", \"voice\", \"person\", \"deg\"),\n",
    "    use_han=True,\n",
    "    agglomerate_msd=True,\n",
    "    reader_kwargs={\n",
    "        \"batch_size\": 4,\n",
    "        \"metadata_encoding\": MetadataEncoding.AS_TOKEN,\n",
    "        \"metadata_tokens_categories\": (\"WrittenType\", )\n",
    "    },\n",
    "    model_embedding_kwargs=dict(\n",
    "        keep_all_vocab=True,\n",
    "        pretrained_embeddings={\n",
    "            # \"token\": \"~/Downloads/latin.embeddings\",\n",
    "        #    \"token\": \"~/dev/these/notebooks/4 - Detection/data/embs_models/model.token.word2vec.kv\",\n",
    "        #    \"lemma\": \"~/dev/these/notebooks/4 - Detection/data/embs_models/model.lemma.word2vec.kv.header\"\n",
    "        },\n",
    "        trainable_embeddings={\"token\": False, \"lemma\": True},\n",
    "        pretrained_emb_dims={\"token\": 200, \"lemma\": 200}\n",
    "    )\n",
    ")\n",
    "model = train_and_get(\n",
    "    model, train, dev,\n",
    "    patience=10,\n",
    "    num_epochs=20,\n",
    "    lr=5e-4\n",
    ")\n",
    "print(model)\n",
    "data = run_tests(\n",
    "    \"dataset/split/test.txt\",\n",
    "    dataset_reader=reader, model=model, dump=\"test.lemma-msd-writtentypeOnly.csv\"\n",
    ")\n",
    "print(data)"
   ]
  },
  {
   "cell_type": "code",
   "execution_count": 5,
   "id": "23c42c23",
   "metadata": {},
   "outputs": [
    {
     "name": "stderr",
     "output_type": "stream",
     "text": [
      "INFO:root:Dataset reader set with following categories: [msd], lemma_char, lemma\n",
      "/home/thibault/dev/est-lascivuum-non-est/env/lib/python3.8/site-packages/allennlp/data/token_indexers/token_characters_indexer.py:55: UserWarning: You are using the default value (0) of `min_padding_length`, which can cause some subtle bugs (more info see https://github.com/allenai/allennlp/issues/1954). Strongly recommend to set a value, usually the maximum size of the convolutional layer size when using CnnEncoder.\n",
      "  warnings.warn(\n",
      "INFO:root:Indexer set for following categories: [msd], lemma_char, lemma\n",
      "INFO:root:TSV READER uses following metadata encoding MetadataEncoding.AS_TOKEN \n",
      "INFO:root:TSV READER uses keeps only following metadata as inputs Textgroup\n",
      "INFO:root:Reading data\n",
      "INFO:root:Building the vocabulary\n",
      "INFO:allennlp.data.vocabulary:Fitting token dictionary from dataset.\n"
     ]
    },
    {
     "data": {
      "application/vnd.jupyter.widget-view+json": {
       "model_id": "47e9864e273544ab979acac804fb0af9",
       "version_major": 2,
       "version_minor": 0
      },
      "text/plain": [
       "building vocab:   0%|          | 0/5427 [00:00<?, ?it/s]"
      ]
     },
     "metadata": {},
     "output_type": "display_data"
    },
    {
     "name": "stderr",
     "output_type": "stream",
     "text": [
      "/home/thibault/dev/est-lascivuum-non-est/env/lib/python3.8/site-packages/torch/nn/modules/rnn.py:60: UserWarning: dropout option adds dropout after all but last recurrent layer, so non-zero dropout expects num_layers greater than 1, but got dropout=0.3 and num_layers=1\n",
      "  warnings.warn(\"dropout option adds dropout after all but last \"\n",
      "INFO:allennlp.training.optimizers:Number of trainable parameters: 3295082\n",
      "INFO:root:Num epochs: 20\n",
      "INFO:root:Starting training\n",
      "INFO:allennlp.training.gradient_descent_trainer:Beginning training.\n",
      "INFO:allennlp.training.gradient_descent_trainer:Epoch 0/19\n",
      "INFO:allennlp.training.gradient_descent_trainer:Worker 0 memory usage: 3.3G\n",
      "INFO:allennlp.training.gradient_descent_trainer:GPU 0 memory usage: 101M\n",
      "INFO:allennlp.training.gradient_descent_trainer:Training\n"
     ]
    },
    {
     "name": "stdout",
     "output_type": "stream",
     "text": [
      "---> Epochs:   20\n",
      "---> Patience: 10\n"
     ]
    },
    {
     "data": {
      "application/vnd.jupyter.widget-view+json": {
       "model_id": "e6217beca2cd47e3992d511975c21194",
       "version_major": 2,
       "version_minor": 0
      },
      "text/plain": [
       "  0%|          | 0/1357 [00:00<?, ?it/s]"
      ]
     },
     "metadata": {},
     "output_type": "display_data"
    },
    {
     "name": "stderr",
     "output_type": "stream",
     "text": [
      "/home/thibault/dev/est-lascivuum-non-est/seligator/models/classifier.py:32: UserWarning: Implicit dimension choice for softmax has been deprecated. Change the call to include dim=X as an argument.\n",
      "  probs = F.softmax(logits)\n",
      "INFO:allennlp.training.callbacks.console_logger:Batch inputs\n",
      "INFO:allennlp.training.callbacks.console_logger:batch_input/[msd] (Shape: 4 x 38 x 52)\n",
      "tensor([[[0, 0, 0,  ..., 0, 0, 0],\n",
      "         [0, 0, 0,  ..., 0, 0, 0],\n",
      "         [0, 0, 1,  ..., 0, 0, 0],\n",
      "         ...,\n",
      "         [0, 0, 0,  ..., 0, 0, 0],\n",
      "         [0, 0, 0,  ..., 0, 0, 0],\n",
      "         [0, 0, 0,  ..., 0, 0, 0]],\n",
      "\n",
      "        [[0, 0, 0,  ..., 0, 0, 0],\n",
      "         [0, 0, 1,  ..., 0, 0, 0],\n",
      "         [0, 0, 1,  ..., 0, 0, 0],\n",
      "         ...,\n",
      "         [0, 0, 0,  ..., 0, 0, 0],\n",
      "         [0, 0, 0,  ..., 0, 0, 0],\n",
      "         [0, 0, 0,  ..., 0, 0, 0]],\n",
      "\n",
      "        [[0, 0, 0,  ..., 0, 0, 0],\n",
      "         [0, 0, 1,  ..., 0, 0, 0],\n",
      "         [0, 0, 1,  ..., 0, 0, 0],\n",
      "         ...,\n",
      "         [0, 0, 0,  ..., 0, 0, 0],\n",
      "         [0, 0, 0,  ..., 0, 0, 0],\n",
      "         [0, 0, 0,  ..., 0, 0, 0]],\n",
      "\n",
      "        [[0, 0, 0,  ..., 0, 0, 0],\n",
      "         [0, 0, 1,  ..., 0, 0, 0],\n",
      "         [0, 0, 1,  ..., 0, 0, 0],\n",
      "         ...,\n",
      "         [0, 0, 1,  ..., 0, 0, 0],\n",
      "         [0, 0, 1,  ..., 0, 0, 0],\n",
      "         [0, 0, 1,  ..., 0, 0, 0]]], device='cuda:0')\n",
      "INFO:allennlp.training.callbacks.console_logger:batch_input/lemma_char/lemma_char/token_characters (Shape: 4 x 38 x 13)\n",
      "tensor([[[ 0,  0,  0,  ...,  0,  0,  0],\n",
      "         [ 5,  7, 13,  ...,  0,  0,  0],\n",
      "         [ 8,  7, 21,  ...,  0,  0,  0],\n",
      "         ...,\n",
      "         [ 0,  0,  0,  ...,  0,  0,  0],\n",
      "         [ 0,  0,  0,  ...,  0,  0,  0],\n",
      "         [ 0,  0,  0,  ...,  0,  0,  0]],\n",
      "\n",
      "        [[ 0,  0,  0,  ...,  0,  0,  0],\n",
      "         [19,  2,  3,  ...,  0,  0,  0],\n",
      "         [12,  2, 11,  ...,  0,  0,  0],\n",
      "         ...,\n",
      "         [ 0,  0,  0,  ...,  0,  0,  0],\n",
      "         [ 0,  0,  0,  ...,  0,  0,  0],\n",
      "         [ 0,  0,  0,  ...,  0,  0,  0]],\n",
      "\n",
      "        [[ 0,  0,  0,  ...,  0,  0,  0],\n",
      "         [ 4,  8, 17,  ...,  0,  0,  0],\n",
      "         [19,  2,  3,  ...,  0,  0,  0],\n",
      "         ...,\n",
      "         [ 0,  0,  0,  ...,  0,  0,  0],\n",
      "         [ 0,  0,  0,  ...,  0,  0,  0],\n",
      "         [ 0,  0,  0,  ...,  0,  0,  0]],\n",
      "\n",
      "        [[ 0,  0,  0,  ...,  0,  0,  0],\n",
      "         [ 7, 21,  0,  ...,  0,  0,  0],\n",
      "         [13,  7,  2,  ...,  0,  0,  0],\n",
      "         ...,\n",
      "         [ 6, 12, 12,  ...,  0,  0,  0],\n",
      "         [10,  4,  5,  ...,  0,  0,  0],\n",
      "         [23,  0,  0,  ...,  0,  0,  0]]], device='cuda:0')\n",
      "INFO:allennlp.training.callbacks.console_logger:batch_input/lemma/lemma/tokens (Shape: 4 x 38)\n",
      "tensor([[ 161, 1380, 3704,  ...,    0,    0,    0],\n",
      "        [1315,    6,   39,  ...,    0,    0,    0],\n",
      "        [1142,    4,   63,  ...,    0,    0,    0],\n",
      "        [ 465,   18, 3455,  ..., 2122, 1958,    3]], device='cuda:0')\n",
      "INFO:allennlp.training.callbacks.console_logger:batch_input/label (Shape: 4)\n",
      "tensor([1, 0, 0, 1], device='cuda:0')\n",
      "INFO:allennlp.training.callbacks.console_logger:Field : \"batch_input/metadata\" : (Length 4 of type \"<class 'dict'>\")\n",
      "INFO:allennlp.training.gradient_descent_trainer:Validating\n"
     ]
    },
    {
     "data": {
      "application/vnd.jupyter.widget-view+json": {
       "model_id": "81bd23496dfa4fd1b2044aa9429899e5",
       "version_major": 2,
       "version_minor": 0
      },
      "text/plain": [
       "  0%|          | 0/170 [00:00<?, ?it/s]"
      ]
     },
     "metadata": {},
     "output_type": "display_data"
    },
    {
     "name": "stderr",
     "output_type": "stream",
     "text": [
      "INFO:allennlp.training.callbacks.console_logger:Batch inputs\n",
      "INFO:allennlp.training.callbacks.console_logger:batch_input/[msd] (Shape: 4 x 36 x 52)\n",
      "tensor([[[0, 0, 0,  ..., 0, 0, 0],\n",
      "         [0, 0, 1,  ..., 0, 0, 0],\n",
      "         [0, 0, 1,  ..., 0, 0, 0],\n",
      "         ...,\n",
      "         [0, 0, 0,  ..., 0, 0, 0],\n",
      "         [0, 0, 0,  ..., 0, 0, 0],\n",
      "         [0, 0, 0,  ..., 0, 0, 0]],\n",
      "\n",
      "        [[0, 0, 0,  ..., 0, 0, 0],\n",
      "         [0, 0, 1,  ..., 0, 0, 0],\n",
      "         [0, 0, 1,  ..., 0, 0, 0],\n",
      "         ...,\n",
      "         [0, 0, 0,  ..., 0, 0, 0],\n",
      "         [0, 0, 0,  ..., 0, 0, 0],\n",
      "         [0, 0, 0,  ..., 0, 0, 0]],\n",
      "\n",
      "        [[0, 0, 0,  ..., 0, 0, 0],\n",
      "         [0, 0, 1,  ..., 0, 0, 0],\n",
      "         [0, 0, 1,  ..., 0, 0, 0],\n",
      "         ...,\n",
      "         [0, 0, 1,  ..., 0, 0, 0],\n",
      "         [0, 0, 1,  ..., 0, 0, 0],\n",
      "         [0, 0, 1,  ..., 0, 0, 0]],\n",
      "\n",
      "        [[0, 0, 0,  ..., 0, 0, 0],\n",
      "         [0, 0, 1,  ..., 0, 0, 0],\n",
      "         [0, 0, 1,  ..., 0, 0, 0],\n",
      "         ...,\n",
      "         [0, 0, 0,  ..., 0, 0, 0],\n",
      "         [0, 0, 0,  ..., 0, 0, 0],\n",
      "         [0, 0, 0,  ..., 0, 0, 0]]], device='cuda:0')\n",
      "INFO:allennlp.training.callbacks.console_logger:batch_input/lemma_char/lemma_char/token_characters (Shape: 4 x 36 x 12)\n",
      "tensor([[[ 0,  0,  0,  ...,  0,  0,  0],\n",
      "         [19,  2,  3,  ...,  0,  0,  0],\n",
      "         [ 4, 10, 20,  ...,  0,  0,  0],\n",
      "         ...,\n",
      "         [ 0,  0,  0,  ...,  0,  0,  0],\n",
      "         [ 0,  0,  0,  ...,  0,  0,  0],\n",
      "         [ 0,  0,  0,  ...,  0,  0,  0]],\n",
      "\n",
      "        [[ 0,  0,  0,  ...,  0,  0,  0],\n",
      "         [ 4,  8, 17,  ...,  0,  0,  0],\n",
      "         [ 7,  2, 15,  ...,  0,  0,  0],\n",
      "         ...,\n",
      "         [ 0,  0,  0,  ...,  0,  0,  0],\n",
      "         [ 0,  0,  0,  ...,  0,  0,  0],\n",
      "         [ 0,  0,  0,  ...,  0,  0,  0]],\n",
      "\n",
      "        [[ 0,  0,  0,  ...,  0,  0,  0],\n",
      "         [19,  2,  7,  ...,  0,  0,  0],\n",
      "         [ 4,  9,  3,  ...,  0,  0,  0],\n",
      "         ...,\n",
      "         [11,  2, 13,  ...,  0,  0,  0],\n",
      "         [ 5,  2, 11,  ...,  0,  0,  0],\n",
      "         [23,  0,  0,  ...,  0,  0,  0]],\n",
      "\n",
      "        [[ 0,  0,  0,  ...,  0,  0,  0],\n",
      "         [19,  2,  3,  ...,  0,  0,  0],\n",
      "         [ 5,  2,  5,  ...,  0,  0,  0],\n",
      "         ...,\n",
      "         [ 0,  0,  0,  ...,  0,  0,  0],\n",
      "         [ 0,  0,  0,  ...,  0,  0,  0],\n",
      "         [ 0,  0,  0,  ...,  0,  0,  0]]], device='cuda:0')\n",
      "INFO:allennlp.training.callbacks.console_logger:batch_input/lemma/lemma/tokens (Shape: 4 x 36)\n",
      "tensor([[  46,   34,  124,  ...,    0,    0,    0],\n",
      "        [  59,    4,  187,  ...,    0,    0,    0],\n",
      "        [ 128, 1474,   41,  ..., 5263,    5,    3],\n",
      "        [  59,   34, 1666,  ...,    0,    0,    0]], device='cuda:0')\n",
      "INFO:allennlp.training.callbacks.console_logger:batch_input/label (Shape: 4)\n",
      "tensor([0, 0, 0, 0], device='cuda:0')\n",
      "INFO:allennlp.training.callbacks.console_logger:Field : \"batch_input/metadata\" : (Length 4 of type \"<class 'dict'>\")\n",
      "INFO:allennlp.training.callbacks.console_logger:                       Training |  Validation\n",
      "INFO:allennlp.training.callbacks.console_logger:accuracy           |     0.819  |     0.903\n",
      "INFO:allennlp.training.callbacks.console_logger:fscore             |     0.792  |     0.894\n",
      "INFO:allennlp.training.callbacks.console_logger:fscore-negative    |     0.866  |     0.925\n",
      "INFO:allennlp.training.callbacks.console_logger:fscore-positive    |     0.718  |     0.862\n",
      "INFO:allennlp.training.callbacks.console_logger:gpu_0_memory_MB    |   100.701  |       N/A\n",
      "INFO:allennlp.training.callbacks.console_logger:loss               |     0.387  |     0.242\n",
      "INFO:allennlp.training.callbacks.console_logger:precision          |     0.828  |     0.904\n",
      "INFO:allennlp.training.callbacks.console_logger:precision-negative |     0.808  |     0.900\n",
      "INFO:allennlp.training.callbacks.console_logger:precision-positive |     0.847  |     0.908\n",
      "INFO:allennlp.training.callbacks.console_logger:recall             |     0.778  |     0.886\n",
      "INFO:allennlp.training.callbacks.console_logger:recall-negative    |     0.933  |     0.951\n",
      "INFO:allennlp.training.callbacks.console_logger:recall-positive    |     0.623  |     0.821\n",
      "INFO:allennlp.training.callbacks.console_logger:worker_0_memory_MB |  3390.855  |       N/A\n",
      "INFO:allennlp.training.gradient_descent_trainer:Epoch duration: 0:00:18.907821\n",
      "INFO:allennlp.training.gradient_descent_trainer:Estimated training time remaining: 0:05:58\n",
      "INFO:allennlp.training.gradient_descent_trainer:Epoch 1/19\n",
      "INFO:allennlp.training.gradient_descent_trainer:Worker 0 memory usage: 3.3G\n",
      "INFO:allennlp.training.gradient_descent_trainer:GPU 0 memory usage: 101M\n",
      "INFO:allennlp.training.gradient_descent_trainer:Training\n"
     ]
    },
    {
     "data": {
      "application/vnd.jupyter.widget-view+json": {
       "model_id": "f745f25360a64c7480f461ea00a6c93c",
       "version_major": 2,
       "version_minor": 0
      },
      "text/plain": [
       "  0%|          | 0/1357 [00:00<?, ?it/s]"
      ]
     },
     "metadata": {},
     "output_type": "display_data"
    },
    {
     "name": "stderr",
     "output_type": "stream",
     "text": [
      "INFO:allennlp.training.gradient_descent_trainer:Validating\n"
     ]
    },
    {
     "data": {
      "application/vnd.jupyter.widget-view+json": {
       "model_id": "d4be55461fcf4cca90f6ec526dab3dbc",
       "version_major": 2,
       "version_minor": 0
      },
      "text/plain": [
       "  0%|          | 0/170 [00:00<?, ?it/s]"
      ]
     },
     "metadata": {},
     "output_type": "display_data"
    },
    {
     "name": "stderr",
     "output_type": "stream",
     "text": [
      "INFO:allennlp.training.callbacks.console_logger:                       Training |  Validation\n",
      "INFO:allennlp.training.callbacks.console_logger:accuracy           |     0.942  |     0.916\n",
      "INFO:allennlp.training.callbacks.console_logger:fscore             |     0.938  |     0.911\n",
      "INFO:allennlp.training.callbacks.console_logger:fscore-negative    |     0.954  |     0.932\n",
      "INFO:allennlp.training.callbacks.console_logger:fscore-positive    |     0.922  |     0.891\n",
      "INFO:allennlp.training.callbacks.console_logger:gpu_0_memory_MB    |   100.701  |       N/A\n",
      "INFO:allennlp.training.callbacks.console_logger:loss               |     0.154  |     0.223\n",
      "INFO:allennlp.training.callbacks.console_logger:precision          |     0.937  |     0.907\n",
      "INFO:allennlp.training.callbacks.console_logger:precision-negative |     0.957  |     0.951\n",
      "INFO:allennlp.training.callbacks.console_logger:precision-positive |     0.917  |     0.862\n",
      "INFO:allennlp.training.callbacks.console_logger:recall             |     0.938  |     0.917\n",
      "INFO:allennlp.training.callbacks.console_logger:recall-negative    |     0.950  |     0.913\n",
      "INFO:allennlp.training.callbacks.console_logger:recall-positive    |     0.926  |     0.921\n",
      "INFO:allennlp.training.callbacks.console_logger:worker_0_memory_MB |  3395.461  |       N/A\n",
      "INFO:allennlp.training.gradient_descent_trainer:Epoch duration: 0:00:18.895922\n",
      "INFO:allennlp.training.gradient_descent_trainer:Estimated training time remaining: 0:05:39\n",
      "INFO:allennlp.training.gradient_descent_trainer:Epoch 2/19\n",
      "INFO:allennlp.training.gradient_descent_trainer:Worker 0 memory usage: 3.3G\n",
      "INFO:allennlp.training.gradient_descent_trainer:GPU 0 memory usage: 101M\n",
      "INFO:allennlp.training.gradient_descent_trainer:Training\n"
     ]
    },
    {
     "data": {
      "application/vnd.jupyter.widget-view+json": {
       "model_id": "4d433e1460ff4e78b76736ba7aabcfb1",
       "version_major": 2,
       "version_minor": 0
      },
      "text/plain": [
       "  0%|          | 0/1357 [00:00<?, ?it/s]"
      ]
     },
     "metadata": {},
     "output_type": "display_data"
    },
    {
     "name": "stderr",
     "output_type": "stream",
     "text": [
      "INFO:allennlp.training.gradient_descent_trainer:Validating\n"
     ]
    },
    {
     "data": {
      "application/vnd.jupyter.widget-view+json": {
       "model_id": "0ab8f3b77a3443198698fa6a4432ab11",
       "version_major": 2,
       "version_minor": 0
      },
      "text/plain": [
       "  0%|          | 0/170 [00:00<?, ?it/s]"
      ]
     },
     "metadata": {},
     "output_type": "display_data"
    },
    {
     "name": "stderr",
     "output_type": "stream",
     "text": [
      "INFO:allennlp.training.callbacks.console_logger:                       Training |  Validation\n",
      "INFO:allennlp.training.callbacks.console_logger:accuracy           |     0.979  |     0.920\n",
      "INFO:allennlp.training.callbacks.console_logger:fscore             |     0.977  |     0.913\n",
      "INFO:allennlp.training.callbacks.console_logger:fscore-negative    |     0.983  |     0.936\n",
      "INFO:allennlp.training.callbacks.console_logger:fscore-positive    |     0.971  |     0.890\n",
      "INFO:allennlp.training.callbacks.console_logger:gpu_0_memory_MB    |   100.701  |       N/A\n",
      "INFO:allennlp.training.callbacks.console_logger:loss               |     0.068  |     0.267\n",
      "INFO:allennlp.training.callbacks.console_logger:precision          |     0.976  |     0.912\n",
      "INFO:allennlp.training.callbacks.console_logger:precision-negative |     0.986  |     0.945\n",
      "INFO:allennlp.training.callbacks.console_logger:precision-positive |     0.966  |     0.880\n",
      "INFO:allennlp.training.callbacks.console_logger:recall             |     0.977  |     0.914\n",
      "INFO:allennlp.training.callbacks.console_logger:recall-negative    |     0.979  |     0.927\n",
      "INFO:allennlp.training.callbacks.console_logger:recall-positive    |     0.975  |     0.901\n",
      "INFO:allennlp.training.callbacks.console_logger:worker_0_memory_MB |  3395.965  |       N/A\n",
      "INFO:allennlp.training.gradient_descent_trainer:Epoch duration: 0:00:18.803224\n",
      "INFO:allennlp.training.gradient_descent_trainer:Estimated training time remaining: 0:05:20\n",
      "INFO:allennlp.training.gradient_descent_trainer:Epoch 3/19\n",
      "INFO:allennlp.training.gradient_descent_trainer:Worker 0 memory usage: 3.3G\n",
      "INFO:allennlp.training.gradient_descent_trainer:GPU 0 memory usage: 101M\n",
      "INFO:allennlp.training.gradient_descent_trainer:Training\n"
     ]
    },
    {
     "data": {
      "application/vnd.jupyter.widget-view+json": {
       "model_id": "491c6326d0d64391bf6d928b97623188",
       "version_major": 2,
       "version_minor": 0
      },
      "text/plain": [
       "  0%|          | 0/1357 [00:00<?, ?it/s]"
      ]
     },
     "metadata": {},
     "output_type": "display_data"
    },
    {
     "name": "stderr",
     "output_type": "stream",
     "text": [
      "INFO:allennlp.training.gradient_descent_trainer:Validating\n"
     ]
    },
    {
     "data": {
      "application/vnd.jupyter.widget-view+json": {
       "model_id": "67a15a8f35c84aab96726d77677f800c",
       "version_major": 2,
       "version_minor": 0
      },
      "text/plain": [
       "  0%|          | 0/170 [00:00<?, ?it/s]"
      ]
     },
     "metadata": {},
     "output_type": "display_data"
    },
    {
     "name": "stderr",
     "output_type": "stream",
     "text": [
      "INFO:allennlp.training.callbacks.console_logger:                       Training |  Validation\n",
      "INFO:allennlp.training.callbacks.console_logger:accuracy           |     0.989  |     0.904\n",
      "INFO:allennlp.training.callbacks.console_logger:fscore             |     0.987  |     0.898\n",
      "INFO:allennlp.training.callbacks.console_logger:fscore-negative    |     0.990  |     0.922\n",
      "INFO:allennlp.training.callbacks.console_logger:fscore-positive    |     0.984  |     0.875\n",
      "INFO:allennlp.training.callbacks.console_logger:gpu_0_memory_MB    |   100.701  |       N/A\n",
      "INFO:allennlp.training.callbacks.console_logger:loss               |     0.031  |     0.333\n",
      "INFO:allennlp.training.callbacks.console_logger:precision          |     0.988  |     0.894\n",
      "INFO:allennlp.training.callbacks.console_logger:precision-negative |     0.993  |     0.950\n",
      "INFO:allennlp.training.callbacks.console_logger:precision-positive |     0.982  |     0.837\n",
      "INFO:allennlp.training.callbacks.console_logger:recall             |     0.987  |     0.906\n",
      "INFO:allennlp.training.callbacks.console_logger:recall-negative    |     0.988  |     0.895\n",
      "INFO:allennlp.training.callbacks.console_logger:recall-positive    |     0.986  |     0.917\n",
      "INFO:allennlp.training.callbacks.console_logger:worker_0_memory_MB |  3396.215  |       N/A\n",
      "INFO:allennlp.training.gradient_descent_trainer:Epoch duration: 0:00:18.767854\n",
      "INFO:allennlp.training.gradient_descent_trainer:Estimated training time remaining: 0:05:01\n",
      "INFO:allennlp.training.gradient_descent_trainer:Epoch 4/19\n",
      "INFO:allennlp.training.gradient_descent_trainer:Worker 0 memory usage: 3.3G\n",
      "INFO:allennlp.training.gradient_descent_trainer:GPU 0 memory usage: 101M\n",
      "INFO:allennlp.training.gradient_descent_trainer:Training\n"
     ]
    },
    {
     "data": {
      "application/vnd.jupyter.widget-view+json": {
       "model_id": "31fcf5a9a6ee4de9a9fd3669766fca95",
       "version_major": 2,
       "version_minor": 0
      },
      "text/plain": [
       "  0%|          | 0/1357 [00:00<?, ?it/s]"
      ]
     },
     "metadata": {},
     "output_type": "display_data"
    },
    {
     "name": "stderr",
     "output_type": "stream",
     "text": [
      "INFO:allennlp.training.gradient_descent_trainer:Validating\n"
     ]
    },
    {
     "data": {
      "application/vnd.jupyter.widget-view+json": {
       "model_id": "d3ba42599c654b5f83daf814f2e6fee7",
       "version_major": 2,
       "version_minor": 0
      },
      "text/plain": [
       "  0%|          | 0/170 [00:00<?, ?it/s]"
      ]
     },
     "metadata": {},
     "output_type": "display_data"
    },
    {
     "name": "stderr",
     "output_type": "stream",
     "text": [
      "INFO:allennlp.training.callbacks.console_logger:                       Training |  Validation\n",
      "INFO:allennlp.training.callbacks.console_logger:accuracy           |     0.994  |     0.887\n",
      "INFO:allennlp.training.callbacks.console_logger:fscore             |     0.992  |     0.875\n",
      "INFO:allennlp.training.callbacks.console_logger:fscore-negative    |     0.994  |     0.908\n",
      "INFO:allennlp.training.callbacks.console_logger:fscore-positive    |     0.991  |     0.842\n",
      "INFO:allennlp.training.callbacks.console_logger:gpu_0_memory_MB    |   100.701  |       N/A\n",
      "INFO:allennlp.training.callbacks.console_logger:loss               |     0.018  |     0.440\n",
      "INFO:allennlp.training.callbacks.console_logger:precision          |     0.993  |     0.874\n",
      "INFO:allennlp.training.callbacks.console_logger:precision-negative |     0.996  |     0.931\n",
      "INFO:allennlp.training.callbacks.console_logger:precision-positive |     0.991  |     0.817\n",
      "INFO:allennlp.training.callbacks.console_logger:recall             |     0.992  |     0.877\n",
      "INFO:allennlp.training.callbacks.console_logger:recall-negative    |     0.993  |     0.885\n",
      "INFO:allennlp.training.callbacks.console_logger:recall-positive    |     0.990  |     0.869\n",
      "INFO:allennlp.training.callbacks.console_logger:worker_0_memory_MB |  3396.465  |       N/A\n",
      "INFO:allennlp.training.gradient_descent_trainer:Epoch duration: 0:00:18.654546\n",
      "INFO:allennlp.training.gradient_descent_trainer:Estimated training time remaining: 0:04:41\n",
      "INFO:allennlp.training.gradient_descent_trainer:Epoch 5/19\n",
      "INFO:allennlp.training.gradient_descent_trainer:Worker 0 memory usage: 3.3G\n",
      "INFO:allennlp.training.gradient_descent_trainer:GPU 0 memory usage: 101M\n",
      "INFO:allennlp.training.gradient_descent_trainer:Training\n"
     ]
    },
    {
     "data": {
      "application/vnd.jupyter.widget-view+json": {
       "model_id": "e84f7a33d9684f589150783cd16421f9",
       "version_major": 2,
       "version_minor": 0
      },
      "text/plain": [
       "  0%|          | 0/1357 [00:00<?, ?it/s]"
      ]
     },
     "metadata": {},
     "output_type": "display_data"
    },
    {
     "name": "stderr",
     "output_type": "stream",
     "text": [
      "INFO:allennlp.training.gradient_descent_trainer:Validating\n"
     ]
    },
    {
     "data": {
      "application/vnd.jupyter.widget-view+json": {
       "model_id": "59faa7c0fd2547f09a4a9c500b07df3f",
       "version_major": 2,
       "version_minor": 0
      },
      "text/plain": [
       "  0%|          | 0/170 [00:00<?, ?it/s]"
      ]
     },
     "metadata": {},
     "output_type": "display_data"
    },
    {
     "name": "stderr",
     "output_type": "stream",
     "text": [
      "INFO:allennlp.training.callbacks.console_logger:                       Training |  Validation\n",
      "INFO:allennlp.training.callbacks.console_logger:accuracy           |     0.996  |     0.884\n",
      "INFO:allennlp.training.callbacks.console_logger:fscore             |     0.995  |     0.880\n",
      "INFO:allennlp.training.callbacks.console_logger:fscore-negative    |     0.996  |     0.901\n",
      "INFO:allennlp.training.callbacks.console_logger:fscore-positive    |     0.993  |     0.859\n",
      "INFO:allennlp.training.callbacks.console_logger:gpu_0_memory_MB    |   100.701  |       N/A\n",
      "INFO:allennlp.training.callbacks.console_logger:loss               |     0.014  |     0.476\n",
      "INFO:allennlp.training.callbacks.console_logger:precision          |     0.996  |     0.876\n",
      "INFO:allennlp.training.callbacks.console_logger:precision-negative |     0.997  |     0.973\n",
      "INFO:allennlp.training.callbacks.console_logger:precision-positive |     0.995  |     0.780\n",
      "INFO:allennlp.training.callbacks.console_logger:recall             |     0.993  |     0.897\n",
      "INFO:allennlp.training.callbacks.console_logger:recall-negative    |     0.996  |     0.838\n",
      "INFO:allennlp.training.callbacks.console_logger:recall-positive    |     0.991  |     0.956\n",
      "INFO:allennlp.training.callbacks.console_logger:worker_0_memory_MB |  3396.715  |       N/A\n",
      "INFO:allennlp.training.gradient_descent_trainer:Epoch duration: 0:00:18.850191\n",
      "INFO:allennlp.training.gradient_descent_trainer:Estimated training time remaining: 0:04:23\n",
      "INFO:allennlp.training.gradient_descent_trainer:Epoch 6/19\n",
      "INFO:allennlp.training.gradient_descent_trainer:Worker 0 memory usage: 3.3G\n",
      "INFO:allennlp.training.gradient_descent_trainer:GPU 0 memory usage: 101M\n",
      "INFO:allennlp.training.gradient_descent_trainer:Training\n"
     ]
    },
    {
     "data": {
      "application/vnd.jupyter.widget-view+json": {
       "model_id": "fe29175d6d8e437fad7d7d4321eac45c",
       "version_major": 2,
       "version_minor": 0
      },
      "text/plain": [
       "  0%|          | 0/1357 [00:00<?, ?it/s]"
      ]
     },
     "metadata": {},
     "output_type": "display_data"
    },
    {
     "name": "stderr",
     "output_type": "stream",
     "text": [
      "INFO:allennlp.training.gradient_descent_trainer:Validating\n"
     ]
    },
    {
     "data": {
      "application/vnd.jupyter.widget-view+json": {
       "model_id": "66999c60db874f358705921404f4fd1c",
       "version_major": 2,
       "version_minor": 0
      },
      "text/plain": [
       "  0%|          | 0/170 [00:00<?, ?it/s]"
      ]
     },
     "metadata": {},
     "output_type": "display_data"
    },
    {
     "name": "stderr",
     "output_type": "stream",
     "text": [
      "INFO:allennlp.training.callbacks.console_logger:                       Training |  Validation\n",
      "INFO:allennlp.training.callbacks.console_logger:accuracy           |     0.996  |     0.892\n",
      "INFO:allennlp.training.callbacks.console_logger:fscore             |     0.995  |     0.882\n",
      "INFO:allennlp.training.callbacks.console_logger:fscore-negative    |     0.997  |     0.915\n",
      "INFO:allennlp.training.callbacks.console_logger:fscore-positive    |     0.993  |     0.850\n",
      "INFO:allennlp.training.callbacks.console_logger:gpu_0_memory_MB    |   100.701  |       N/A\n",
      "INFO:allennlp.training.callbacks.console_logger:loss               |     0.011  |     0.441\n",
      "INFO:allennlp.training.callbacks.console_logger:precision          |     0.996  |     0.885\n",
      "INFO:allennlp.training.callbacks.console_logger:precision-negative |     0.997  |     0.912\n",
      "INFO:allennlp.training.callbacks.console_logger:precision-positive |     0.994  |     0.858\n",
      "INFO:allennlp.training.callbacks.console_logger:recall             |     0.994  |     0.880\n",
      "INFO:allennlp.training.callbacks.console_logger:recall-negative    |     0.996  |     0.918\n",
      "INFO:allennlp.training.callbacks.console_logger:recall-positive    |     0.992  |     0.841\n",
      "INFO:allennlp.training.callbacks.console_logger:worker_0_memory_MB |  3396.715  |       N/A\n",
      "INFO:allennlp.training.gradient_descent_trainer:Epoch duration: 0:00:18.789180\n",
      "INFO:allennlp.training.gradient_descent_trainer:Estimated training time remaining: 0:04:04\n",
      "INFO:allennlp.training.gradient_descent_trainer:Epoch 7/19\n",
      "INFO:allennlp.training.gradient_descent_trainer:Worker 0 memory usage: 3.3G\n",
      "INFO:allennlp.training.gradient_descent_trainer:GPU 0 memory usage: 101M\n",
      "INFO:allennlp.training.gradient_descent_trainer:Training\n"
     ]
    },
    {
     "data": {
      "application/vnd.jupyter.widget-view+json": {
       "model_id": "658150cb33334fc78c91fe622de9d69e",
       "version_major": 2,
       "version_minor": 0
      },
      "text/plain": [
       "  0%|          | 0/1357 [00:00<?, ?it/s]"
      ]
     },
     "metadata": {},
     "output_type": "display_data"
    },
    {
     "name": "stderr",
     "output_type": "stream",
     "text": [
      "INFO:allennlp.training.gradient_descent_trainer:Validating\n"
     ]
    },
    {
     "data": {
      "application/vnd.jupyter.widget-view+json": {
       "model_id": "e57eaeef766f4ffc89e5d2348e0c1964",
       "version_major": 2,
       "version_minor": 0
      },
      "text/plain": [
       "  0%|          | 0/170 [00:00<?, ?it/s]"
      ]
     },
     "metadata": {},
     "output_type": "display_data"
    },
    {
     "name": "stderr",
     "output_type": "stream",
     "text": [
      "INFO:allennlp.training.callbacks.console_logger:                       Training |  Validation\n",
      "INFO:allennlp.training.callbacks.console_logger:accuracy           |     0.999  |     0.875\n",
      "INFO:allennlp.training.callbacks.console_logger:fscore             |     0.998  |     0.857\n",
      "INFO:allennlp.training.callbacks.console_logger:fscore-negative    |     0.999  |     0.906\n",
      "INFO:allennlp.training.callbacks.console_logger:fscore-positive    |     0.998  |     0.809\n",
      "INFO:allennlp.training.callbacks.console_logger:gpu_0_memory_MB    |   100.701  |       N/A\n",
      "INFO:allennlp.training.callbacks.console_logger:loss               |     0.004  |     0.897\n",
      "INFO:allennlp.training.callbacks.console_logger:precision          |     0.999  |     0.892\n",
      "INFO:allennlp.training.callbacks.console_logger:precision-negative |     1.000  |     0.852\n",
      "INFO:allennlp.training.callbacks.console_logger:precision-positive |     0.999  |     0.933\n",
      "INFO:allennlp.training.callbacks.console_logger:recall             |     0.998  |     0.841\n",
      "INFO:allennlp.training.callbacks.console_logger:recall-negative    |     0.997  |     0.967\n",
      "INFO:allennlp.training.callbacks.console_logger:recall-positive    |     0.998  |     0.714\n",
      "INFO:allennlp.training.callbacks.console_logger:worker_0_memory_MB |  3396.965  |       N/A\n",
      "INFO:allennlp.training.gradient_descent_trainer:Epoch duration: 0:00:20.013867\n",
      "INFO:allennlp.training.gradient_descent_trainer:Estimated training time remaining: 0:03:47\n",
      "INFO:allennlp.training.gradient_descent_trainer:Epoch 8/19\n",
      "INFO:allennlp.training.gradient_descent_trainer:Worker 0 memory usage: 3.3G\n",
      "INFO:allennlp.training.gradient_descent_trainer:GPU 0 memory usage: 101M\n",
      "INFO:allennlp.training.gradient_descent_trainer:Training\n"
     ]
    },
    {
     "data": {
      "application/vnd.jupyter.widget-view+json": {
       "model_id": "398a2325fef34e678e38b6c7a075f640",
       "version_major": 2,
       "version_minor": 0
      },
      "text/plain": [
       "  0%|          | 0/1357 [00:00<?, ?it/s]"
      ]
     },
     "metadata": {},
     "output_type": "display_data"
    },
    {
     "name": "stderr",
     "output_type": "stream",
     "text": [
      "INFO:allennlp.training.gradient_descent_trainer:Validating\n"
     ]
    },
    {
     "data": {
      "application/vnd.jupyter.widget-view+json": {
       "model_id": "71bbe33a86e449d089aabd0956a505ea",
       "version_major": 2,
       "version_minor": 0
      },
      "text/plain": [
       "  0%|          | 0/170 [00:00<?, ?it/s]"
      ]
     },
     "metadata": {},
     "output_type": "display_data"
    },
    {
     "name": "stderr",
     "output_type": "stream",
     "text": [
      "INFO:allennlp.training.callbacks.console_logger:                       Training |  Validation\n",
      "INFO:allennlp.training.callbacks.console_logger:accuracy           |     0.997  |     0.891\n",
      "INFO:allennlp.training.callbacks.console_logger:fscore             |     0.996  |     0.884\n",
      "INFO:allennlp.training.callbacks.console_logger:fscore-negative    |     0.997  |     0.913\n",
      "INFO:allennlp.training.callbacks.console_logger:fscore-positive    |     0.995  |     0.854\n",
      "INFO:allennlp.training.callbacks.console_logger:gpu_0_memory_MB    |   100.701  |       N/A\n",
      "INFO:allennlp.training.callbacks.console_logger:loss               |     0.011  |     0.547\n",
      "INFO:allennlp.training.callbacks.console_logger:precision          |     0.997  |     0.882\n",
      "INFO:allennlp.training.callbacks.console_logger:precision-negative |     0.998  |     0.917\n",
      "INFO:allennlp.training.callbacks.console_logger:precision-positive |     0.996  |     0.848\n",
      "INFO:allennlp.training.callbacks.console_logger:recall             |     0.995  |     0.885\n",
      "INFO:allennlp.training.callbacks.console_logger:recall-negative    |     0.997  |     0.909\n",
      "INFO:allennlp.training.callbacks.console_logger:recall-positive    |     0.993  |     0.861\n",
      "INFO:allennlp.training.callbacks.console_logger:worker_0_memory_MB |  3396.965  |       N/A\n",
      "INFO:allennlp.training.gradient_descent_trainer:Epoch duration: 0:00:18.721830\n",
      "INFO:allennlp.training.gradient_descent_trainer:Estimated training time remaining: 0:03:28\n",
      "INFO:allennlp.training.gradient_descent_trainer:Epoch 9/19\n",
      "INFO:allennlp.training.gradient_descent_trainer:Worker 0 memory usage: 3.3G\n",
      "INFO:allennlp.training.gradient_descent_trainer:GPU 0 memory usage: 101M\n",
      "INFO:allennlp.training.gradient_descent_trainer:Training\n"
     ]
    },
    {
     "data": {
      "application/vnd.jupyter.widget-view+json": {
       "model_id": "7ca3818360214b7a93f49715584c5522",
       "version_major": 2,
       "version_minor": 0
      },
      "text/plain": [
       "  0%|          | 0/1357 [00:00<?, ?it/s]"
      ]
     },
     "metadata": {},
     "output_type": "display_data"
    },
    {
     "name": "stderr",
     "output_type": "stream",
     "text": [
      "INFO:allennlp.training.gradient_descent_trainer:Validating\n"
     ]
    },
    {
     "data": {
      "application/vnd.jupyter.widget-view+json": {
       "model_id": "c5fea7a437614d2c93d1f5a1a781aafa",
       "version_major": 2,
       "version_minor": 0
      },
      "text/plain": [
       "  0%|          | 0/170 [00:00<?, ?it/s]"
      ]
     },
     "metadata": {},
     "output_type": "display_data"
    },
    {
     "name": "stderr",
     "output_type": "stream",
     "text": [
      "INFO:allennlp.training.callbacks.console_logger:                       Training |  Validation\n",
      "INFO:allennlp.training.callbacks.console_logger:accuracy           |     0.999  |     0.876\n",
      "INFO:allennlp.training.callbacks.console_logger:fscore             |     0.997  |     0.873\n",
      "INFO:allennlp.training.callbacks.console_logger:fscore-negative    |     0.998  |     0.894\n",
      "INFO:allennlp.training.callbacks.console_logger:fscore-positive    |     0.997  |     0.852\n",
      "INFO:allennlp.training.callbacks.console_logger:gpu_0_memory_MB    |   100.701  |       N/A\n",
      "INFO:allennlp.training.callbacks.console_logger:loss               |     0.004  |     0.674\n",
      "INFO:allennlp.training.callbacks.console_logger:precision          |     0.999  |     0.869\n",
      "INFO:allennlp.training.callbacks.console_logger:precision-negative |     0.999  |     0.970\n",
      "INFO:allennlp.training.callbacks.console_logger:precision-positive |     0.999  |     0.768\n",
      "INFO:allennlp.training.callbacks.console_logger:recall             |     0.995  |     0.893\n",
      "INFO:allennlp.training.callbacks.console_logger:recall-negative    |     0.997  |     0.829\n",
      "INFO:allennlp.training.callbacks.console_logger:recall-positive    |     0.994  |     0.956\n",
      "INFO:allennlp.training.callbacks.console_logger:worker_0_memory_MB |  3396.965  |       N/A\n",
      "INFO:allennlp.training.gradient_descent_trainer:Epoch duration: 0:00:18.758447\n",
      "INFO:allennlp.training.gradient_descent_trainer:Estimated training time remaining: 0:03:09\n",
      "INFO:allennlp.training.gradient_descent_trainer:Epoch 10/19\n",
      "INFO:allennlp.training.gradient_descent_trainer:Worker 0 memory usage: 3.3G\n",
      "INFO:allennlp.training.gradient_descent_trainer:GPU 0 memory usage: 101M\n",
      "INFO:allennlp.training.gradient_descent_trainer:Training\n"
     ]
    },
    {
     "data": {
      "application/vnd.jupyter.widget-view+json": {
       "model_id": "96eba673897c4cde87134073f777595e",
       "version_major": 2,
       "version_minor": 0
      },
      "text/plain": [
       "  0%|          | 0/1357 [00:00<?, ?it/s]"
      ]
     },
     "metadata": {},
     "output_type": "display_data"
    },
    {
     "name": "stderr",
     "output_type": "stream",
     "text": [
      "INFO:allennlp.training.gradient_descent_trainer:Validating\n"
     ]
    },
    {
     "data": {
      "application/vnd.jupyter.widget-view+json": {
       "model_id": "03d0aeee343c4eb5a168f1de34f2469f",
       "version_major": 2,
       "version_minor": 0
      },
      "text/plain": [
       "  0%|          | 0/170 [00:00<?, ?it/s]"
      ]
     },
     "metadata": {},
     "output_type": "display_data"
    },
    {
     "name": "stderr",
     "output_type": "stream",
     "text": [
      "INFO:allennlp.training.callbacks.console_logger:                       Training |  Validation\n",
      "INFO:allennlp.training.callbacks.console_logger:accuracy           |     0.998  |     0.890\n",
      "INFO:allennlp.training.callbacks.console_logger:fscore             |     0.998  |     0.881\n",
      "INFO:allennlp.training.callbacks.console_logger:fscore-negative    |     0.998  |     0.911\n",
      "INFO:allennlp.training.callbacks.console_logger:fscore-positive    |     0.997  |     0.851\n",
      "INFO:allennlp.training.callbacks.console_logger:gpu_0_memory_MB    |   100.701  |       N/A\n",
      "INFO:allennlp.training.callbacks.console_logger:loss               |     0.006  |     0.551\n",
      "INFO:allennlp.training.callbacks.console_logger:precision          |     0.998  |     0.880\n",
      "INFO:allennlp.training.callbacks.console_logger:precision-negative |     0.999  |     0.919\n",
      "INFO:allennlp.training.callbacks.console_logger:precision-positive |     0.997  |     0.841\n",
      "INFO:allennlp.training.callbacks.console_logger:recall             |     0.997  |     0.883\n",
      "INFO:allennlp.training.callbacks.console_logger:recall-negative    |     0.998  |     0.904\n",
      "INFO:allennlp.training.callbacks.console_logger:recall-positive    |     0.997  |     0.861\n",
      "INFO:allennlp.training.callbacks.console_logger:worker_0_memory_MB |  3396.965  |       N/A\n",
      "INFO:allennlp.training.gradient_descent_trainer:Epoch duration: 0:00:18.675236\n",
      "INFO:allennlp.training.gradient_descent_trainer:Estimated training time remaining: 0:02:50\n",
      "INFO:allennlp.training.gradient_descent_trainer:Epoch 11/19\n",
      "INFO:allennlp.training.gradient_descent_trainer:Worker 0 memory usage: 3.3G\n",
      "INFO:allennlp.training.gradient_descent_trainer:GPU 0 memory usage: 101M\n",
      "INFO:allennlp.training.gradient_descent_trainer:Training\n"
     ]
    },
    {
     "data": {
      "application/vnd.jupyter.widget-view+json": {
       "model_id": "50b79b76a95c42d0898959db2db1536f",
       "version_major": 2,
       "version_minor": 0
      },
      "text/plain": [
       "  0%|          | 0/1357 [00:00<?, ?it/s]"
      ]
     },
     "metadata": {},
     "output_type": "display_data"
    },
    {
     "name": "stderr",
     "output_type": "stream",
     "text": [
      "INFO:allennlp.training.gradient_descent_trainer:Validating\n"
     ]
    },
    {
     "data": {
      "application/vnd.jupyter.widget-view+json": {
       "model_id": "69c0b7f463344ff48237e414ecc06518",
       "version_major": 2,
       "version_minor": 0
      },
      "text/plain": [
       "  0%|          | 0/170 [00:00<?, ?it/s]"
      ]
     },
     "metadata": {},
     "output_type": "display_data"
    },
    {
     "name": "stderr",
     "output_type": "stream",
     "text": [
      "INFO:allennlp.training.callbacks.console_logger:                       Training |  Validation\n",
      "INFO:allennlp.training.callbacks.console_logger:accuracy           |     0.998  |     0.879\n",
      "INFO:allennlp.training.callbacks.console_logger:fscore             |     0.997  |     0.870\n",
      "INFO:allennlp.training.callbacks.console_logger:fscore-negative    |     0.998  |     0.903\n",
      "INFO:allennlp.training.callbacks.console_logger:fscore-positive    |     0.997  |     0.838\n",
      "INFO:allennlp.training.callbacks.console_logger:gpu_0_memory_MB    |   100.701  |       N/A\n",
      "INFO:allennlp.training.callbacks.console_logger:loss               |     0.005  |     0.569\n",
      "INFO:allennlp.training.callbacks.console_logger:precision          |     0.998  |     0.869\n",
      "INFO:allennlp.training.callbacks.console_logger:precision-negative |     0.999  |     0.912\n",
      "INFO:allennlp.training.callbacks.console_logger:precision-positive |     0.998  |     0.826\n",
      "INFO:allennlp.training.callbacks.console_logger:recall             |     0.996  |     0.872\n",
      "INFO:allennlp.training.callbacks.console_logger:recall-negative    |     0.997  |     0.895\n",
      "INFO:allennlp.training.callbacks.console_logger:recall-positive    |     0.996  |     0.849\n",
      "INFO:allennlp.training.callbacks.console_logger:worker_0_memory_MB |  3396.965  |       N/A\n",
      "INFO:allennlp.training.gradient_descent_trainer:Epoch duration: 0:00:18.864861\n",
      "INFO:allennlp.training.gradient_descent_trainer:Ran out of patience. Stopping training.\n",
      "INFO:root:Finished training\n",
      "INFO:allennlp.training.util:Iterating over dataset\n"
     ]
    },
    {
     "name": "stdout",
     "output_type": "stream",
     "text": [
      "FeatureEmbeddingClassifier(\n",
      "  (_loss): CrossEntropyLoss()\n",
      "  (mixed_encoder): MixedEmbeddingEncoder(\n",
      "    (_emb_dropout): Dropout(p=0.3, inplace=False)\n",
      "    (features_embedder): FeatureAndTextEmbedder(\n",
      "      (text_embedder): BasicTextFieldEmbedder(\n",
      "        (token_embedder_lemma): Embedding()\n",
      "        (token_embedder_lemma_char): TokenCharactersEncoder(\n",
      "          (_embedding): TimeDistributed(\n",
      "            (_module): Embedding()\n",
      "          )\n",
      "          (_encoder): TimeDistributed(\n",
      "            (_module): LstmSeq2VecEncoder(\n",
      "              (_module): LSTM(100, 150, num_layers=2, batch_first=True, dropout=0.3, bidirectional=True)\n",
      "            )\n",
      "          )\n",
      "          (_dropout): Dropout(p=0.3, inplace=False)\n",
      "        )\n",
      "      )\n",
      "      (feature_embedder): Linear(in_features=52, out_features=20, bias=True)\n",
      "    )\n",
      "    (features_encoder): HierarchicalAttentionalEncoder(\n",
      "      (gru): GRU(520, 64, batch_first=True, dropout=0.3, bidirectional=True)\n",
      "      (dense): Linear(in_features=128, out_features=128, bias=True)\n",
      "      (dropout): Dropout(p=0.5, inplace=False)\n",
      "    )\n",
      "  )\n",
      "  (classifier): Linear(in_features=128, out_features=2, bias=True)\n",
      ")\n",
      "Evaluating\n"
     ]
    },
    {
     "data": {
      "application/vnd.jupyter.widget-view+json": {
       "model_id": "ad82b07a24b140dfbbefe4f4c56616b6",
       "version_major": 2,
       "version_minor": 0
      },
      "text/plain": [
       "0it [00:00, ?it/s]"
      ]
     },
     "metadata": {},
     "output_type": "display_data"
    },
    {
     "name": "stdout",
     "output_type": "stream",
     "text": [
      "Evaluating: Predicting\n",
      "({'accuracy': 0.9187592319054653, 'precision': 0.9089809656143188, 'recall': 0.9223528504371643, 'fscore': 0.9144465923309326, 'precision-negative': 0.9602977633476257, 'precision-positive': 0.8576642274856567, 'recall-negative': 0.908450722694397, 'recall-positive': 0.9362549781799316, 'fscore-negative': 0.9336550235748291, 'fscore-positive': 0.8952381014823914, 'loss': 0.19308943026973044}, <sklearn.metrics._plot.confusion_matrix.ConfusionMatrixDisplay object at 0x7f5011bcc7f0>)\n"
     ]
    },
    {
     "name": "stderr",
     "output_type": "stream",
     "text": [
      "/home/thibault/dev/est-lascivuum-non-est/seligator/tests/evaluate.py:111: UserWarning: Matplotlib is currently using module://matplotlib_inline.backend_inline, which is a non-GUI backend, so cannot show the figure.\n",
      "  disp.figure_.show()\n"
     ]
    },
    {
     "data": {
      "image/png": "[encoded data removed]",
      "text/plain": [
       "<Figure size 432x288 with 2 Axes>"
      ]
     },
     "metadata": {
      "needs_background": "light"
     },
     "output_type": "display_data"
    }
   ],
   "source": [
    "model, reader, train, dev = prepare_model(\n",
    "    input_features=(\"lemma_char\", \"lemma\", \"case\", \"numb\", \"gend\", \"mood\", \"tense\", \"voice\", \"person\", \"deg\"),\n",
    "    use_han=True,\n",
    "    agglomerate_msd=True,\n",
    "    reader_kwargs={\n",
    "        \"batch_size\": 4,\n",
    "        \"metadata_encoding\": MetadataEncoding.AS_TOKEN,\n",
    "        \"metadata_tokens_categories\": (\"Textgroup\", )\n",
    "    },\n",
    "    model_embedding_kwargs=dict(\n",
    "        keep_all_vocab=True,\n",
    "        pretrained_embeddings={\n",
    "            # \"token\": \"~/Downloads/latin.embeddings\",\n",
    "        #    \"token\": \"~/dev/these/notebooks/4 - Detection/data/embs_models/model.token.word2vec.kv\",\n",
    "        #    \"lemma\": \"~/dev/these/notebooks/4 - Detection/data/embs_models/model.lemma.word2vec.kv.header\"\n",
    "        },\n",
    "        trainable_embeddings={\"token\": False, \"lemma\": True},\n",
    "        pretrained_emb_dims={\"token\": 200, \"lemma\": 200}\n",
    "    )\n",
    ")\n",
    "model = train_and_get(\n",
    "    model, train, dev,\n",
    "    patience=10,\n",
    "    num_epochs=20,\n",
    "    lr=5e-4\n",
    ")\n",
    "print(model)\n",
    "data = run_tests(\n",
    "    \"dataset/split/test.txt\",\n",
    "    dataset_reader=reader, model=model, dump=\"test.lemma-msd-tgOnly.csv\"\n",
    ")\n",
    "print(data)"
   ]
  }
 ],
 "metadata": {
  "kernelspec": {
   "display_name": "Python 3",
   "language": "python",
   "name": "python3"
  },
  "language_info": {
   "codemirror_mode": {
    "name": "ipython",
    "version": 3
   },
   "file_extension": ".py",
   "mimetype": "text/x-python",
   "name": "python",
   "nbconvert_exporter": "python",
   "pygments_lexer": "ipython3",
   "version": "3.8.10"
  },
  "toc": {
   "base_numbering": 1,
   "nav_menu": {},
   "number_sections": true,
   "sideBar": true,
   "skip_h1_title": false,
   "title_cell": "Table of Contents",
   "title_sidebar": "Contents",
   "toc_cell": false,
   "toc_position": {},
   "toc_section_display": true,
   "toc_window_display": false
  }
 },
 "nbformat": 4,
 "nbformat_minor": 5
}
